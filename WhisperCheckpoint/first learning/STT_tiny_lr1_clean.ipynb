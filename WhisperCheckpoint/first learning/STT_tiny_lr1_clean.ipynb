{
 "cells": [
  {
   "cell_type": "markdown",
   "metadata": {
    "id": "XhjFfHIicnfu"
   },
   "source": [
    "## __Install & mount a Drive__"
   ]
  },
  {
   "cell_type": "code",
   "execution_count": 1,
   "metadata": {},
   "outputs": [
    {
     "name": "stdout",
     "output_type": "stream",
     "text": [
      "\u001b[?25l   \u001b[90m━━━━━━━━━━━━━━━━━━━━━━━━━━━━━━━━━━━━━━━━\u001b[0m \u001b[32m0.0/491.5 kB\u001b[0m \u001b[31m?\u001b[0m eta \u001b[36m-:--:--\u001b[0m\r",
      "\u001b[2K   \u001b[90m━━━━━━━━━━━━━━━━━━━━━━━━━━━━━━━━━━━━━━━━\u001b[0m \u001b[32m491.5/491.5 kB\u001b[0m \u001b[31m34.1 MB/s\u001b[0m eta \u001b[36m0:00:00\u001b[0m\n",
      "\u001b[?25h\u001b[?25l   \u001b[90m━━━━━━━━━━━━━━━━━━━━━━━━━━━━━━━━━━━━━━━━\u001b[0m \u001b[32m0.0/116.3 kB\u001b[0m \u001b[31m?\u001b[0m eta \u001b[36m-:--:--\u001b[0m\r",
      "\u001b[2K   \u001b[90m━━━━━━━━━━━━━━━━━━━━━━━━━━━━━━━━━━━━━━━━\u001b[0m \u001b[32m116.3/116.3 kB\u001b[0m \u001b[31m11.6 MB/s\u001b[0m eta \u001b[36m0:00:00\u001b[0m\n",
      "\u001b[?25h\u001b[?25l   \u001b[90m━━━━━━━━━━━━━━━━━━━━━━━━━━━━━━━━━━━━━━━━\u001b[0m \u001b[32m0.0/193.6 kB\u001b[0m \u001b[31m?\u001b[0m eta \u001b[36m-:--:--\u001b[0m\r",
      "\u001b[2K   \u001b[90m━━━━━━━━━━━━━━━━━━━━━━━━━━━━━━━━━━━━━━━━\u001b[0m \u001b[32m193.6/193.6 kB\u001b[0m \u001b[31m19.1 MB/s\u001b[0m eta \u001b[36m0:00:00\u001b[0m\n",
      "\u001b[?25h\u001b[?25l   \u001b[90m━━━━━━━━━━━━━━━━━━━━━━━━━━━━━━━━━━━━━━━━\u001b[0m \u001b[32m0.0/143.5 kB\u001b[0m \u001b[31m?\u001b[0m eta \u001b[36m-:--:--\u001b[0m\r",
      "\u001b[2K   \u001b[90m━━━━━━━━━━━━━━━━━━━━━━━━━━━━━━━━━━━━━━━━\u001b[0m \u001b[32m143.5/143.5 kB\u001b[0m \u001b[31m13.6 MB/s\u001b[0m eta \u001b[36m0:00:00\u001b[0m\n",
      "\u001b[2K   \u001b[90m━━━━━━━━━━━━━━━━━━━━━━━━━━━━━━━━━━━━━━━━\u001b[0m \u001b[32m3.1/3.1 MB\u001b[0m \u001b[31m104.5 MB/s\u001b[0m eta \u001b[36m0:00:00\u001b[0m\n",
      "\u001b[2K   \u001b[90m━━━━━━━━━━━━━━━━━━━━━━━━━━━━━━━━━━━━━━━━\u001b[0m \u001b[32m363.4/363.4 MB\u001b[0m \u001b[31m3.5 MB/s\u001b[0m eta \u001b[36m0:00:00\u001b[0m\n",
      "\u001b[2K   \u001b[90m━━━━━━━━━━━━━━━━━━━━━━━━━━━━━━━━━━━━━━━━\u001b[0m \u001b[32m13.8/13.8 MB\u001b[0m \u001b[31m119.5 MB/s\u001b[0m eta \u001b[36m0:00:00\u001b[0m\n",
      "\u001b[2K   \u001b[90m━━━━━━━━━━━━━━━━━━━━━━━━━━━━━━━━━━━━━━━━\u001b[0m \u001b[32m24.6/24.6 MB\u001b[0m \u001b[31m93.4 MB/s\u001b[0m eta \u001b[36m0:00:00\u001b[0m\n",
      "\u001b[2K   \u001b[90m━━━━━━━━━━━━━━━━━━━━━━━━━━━━━━━━━━━━━━━━\u001b[0m \u001b[32m883.7/883.7 kB\u001b[0m \u001b[31m52.3 MB/s\u001b[0m eta \u001b[36m0:00:00\u001b[0m\n",
      "\u001b[2K   \u001b[90m━━━━━━━━━━━━━━━━━━━━━━━━━━━━━━━━━━━━━━━━\u001b[0m \u001b[32m664.8/664.8 MB\u001b[0m \u001b[31m2.0 MB/s\u001b[0m eta \u001b[36m0:00:00\u001b[0m\n",
      "\u001b[2K   \u001b[90m━━━━━━━━━━━━━━━━━━━━━━━━━━━━━━━━━━━━━━━━\u001b[0m \u001b[32m211.5/211.5 MB\u001b[0m \u001b[31m5.0 MB/s\u001b[0m eta \u001b[36m0:00:00\u001b[0m\n",
      "\u001b[2K   \u001b[90m━━━━━━━━━━━━━━━━━━━━━━━━━━━━━━━━━━━━━━━━\u001b[0m \u001b[32m56.3/56.3 MB\u001b[0m \u001b[31m42.3 MB/s\u001b[0m eta \u001b[36m0:00:00\u001b[0m\n",
      "\u001b[2K   \u001b[90m━━━━━━━━━━━━━━━━━━━━━━━━━━━━━━━━━━━━━━━━\u001b[0m \u001b[32m127.9/127.9 MB\u001b[0m \u001b[31m20.2 MB/s\u001b[0m eta \u001b[36m0:00:00\u001b[0m\n",
      "\u001b[2K   \u001b[90m━━━━━━━━━━━━━━━━━━━━━━━━━━━━━━━━━━━━━━━━\u001b[0m \u001b[32m207.5/207.5 MB\u001b[0m \u001b[31m4.2 MB/s\u001b[0m eta \u001b[36m0:00:00\u001b[0m\n",
      "\u001b[2K   \u001b[90m━━━━━━━━━━━━━━━━━━━━━━━━━━━━━━━━━━━━━━━━\u001b[0m \u001b[32m21.1/21.1 MB\u001b[0m \u001b[31m102.1 MB/s\u001b[0m eta \u001b[36m0:00:00\u001b[0m\n",
      "\u001b[2K   \u001b[90m━━━━━━━━━━━━━━━━━━━━━━━━━━━━━━━━━━━━━━━━\u001b[0m \u001b[32m194.8/194.8 kB\u001b[0m \u001b[31m15.1 MB/s\u001b[0m eta \u001b[36m0:00:00\u001b[0m\n",
      "\u001b[?25h\u001b[31mERROR: pip's dependency resolver does not currently take into account all the packages that are installed. This behaviour is the source of the following dependency conflicts.\n",
      "gcsfs 2025.3.2 requires fsspec==2025.3.2, but you have fsspec 2025.3.0 which is incompatible.\u001b[0m\u001b[31m\n",
      "\u001b[0mMounted at /content/drive\n"
     ]
    },
    {
     "data": {
      "application/vnd.jupyter.widget-view+json": {
       "model_id": "3707ab14eae24aad9c9b92b7a4f950b0",
       "version_major": 2,
       "version_minor": 0
      },
      "text/plain": [
       "VBox(children=(HTML(value='<center> <img\\nsrc=https://huggingface.co/front/assets/huggingface_logo-noborder.sv…"
      ]
     },
     "metadata": {},
     "output_type": "display_data"
    }
   ],
   "source": [
    "!pip install -q datasets transformers librosa jiwer accelerate\n",
    "\n",
    "from google.colab import drive\n",
    "from huggingface_hub import notebook_login\n",
    "\n",
    "drive.mount(\"/content/drive\")\n",
    "notebook_login()"
   ]
  },
  {
   "cell_type": "markdown",
   "metadata": {
    "id": "iUNHJaCnd1kW"
   },
   "source": [
    "## __1.Load Datasets__"
   ]
  },
  {
   "cell_type": "code",
   "execution_count": 3,
   "metadata": {},
   "outputs": [
    {
     "data": {
      "application/vnd.jupyter.widget-view+json": {
       "model_id": "c4cce4bb34514a1d9a21c7b0d1f6cb4b",
       "version_major": 2,
       "version_minor": 0
      },
      "text/plain": [
       "common_voice_13_0.py:   0%|          | 0.00/8.18k [00:00<?, ?B/s]"
      ]
     },
     "metadata": {},
     "output_type": "display_data"
    },
    {
     "data": {
      "application/vnd.jupyter.widget-view+json": {
       "model_id": "d927de7dded945ffb3c7698790b1d464",
       "version_major": 2,
       "version_minor": 0
      },
      "text/plain": [
       "languages.py:   0%|          | 0.00/3.65k [00:00<?, ?B/s]"
      ]
     },
     "metadata": {},
     "output_type": "display_data"
    },
    {
     "data": {
      "application/vnd.jupyter.widget-view+json": {
       "model_id": "8ecd148e0cfa4d14a21ae06f153aecc9",
       "version_major": 2,
       "version_minor": 0
      },
      "text/plain": [
       "release_stats.py:   0%|          | 0.00/65.4k [00:00<?, ?B/s]"
      ]
     },
     "metadata": {},
     "output_type": "display_data"
    },
    {
     "name": "stdout",
     "output_type": "stream",
     "text": [
      "The repository for mozilla-foundation/common_voice_13_0 contains custom code which must be executed to correctly load the dataset. You can inspect the repository content at https://hf.co/datasets/mozilla-foundation/common_voice_13_0.\n",
      "You can avoid this prompt in future by passing the argument `trust_remote_code=True`.\n",
      "\n",
      "Do you wish to run the custom code? [y/N] y\n"
     ]
    },
    {
     "name": "stderr",
     "output_type": "stream",
     "text": [
      "Reading metadata...: 192it [00:00, 682.53it/s]\n",
      "Reading metadata...: 1013968it [00:21, 46739.40it/s]\n",
      "Reading metadata...: 7071it [00:00, 18937.68it/s]\n",
      "Reading metadata...: 540437it [00:11, 46679.83it/s]\n"
     ]
    }
   ],
   "source": [
    "from datasets import load_dataset, Dataset\n",
    "from itertools import islice\n",
    "\n",
    "ko = list(islice(load_dataset(\"mozilla-foundation/common_voice_13_0\", \"ko\", split=\"train\", streaming=True), 100))\n",
    "en = list(islice(load_dataset(\"mozilla-foundation/common_voice_13_0\", \"en\", split=\"train\", streaming=True), 100))\n",
    "ja = list(islice(load_dataset(\"mozilla-foundation/common_voice_13_0\", \"ja\", split=\"train\", streaming=True), 100))\n",
    "de = list(islice(load_dataset(\"mozilla-foundation/common_voice_13_0\", \"de\", split=\"train\", streaming=True), 100))\n",
    "\n",
    "dataset = Dataset.from_list(ko + en + ja + de)"
   ]
  },
  {
   "cell_type": "markdown",
   "metadata": {
    "id": "R-TZou5bd6fd"
   },
   "source": [
    "## __2.Whisper-tiny__"
   ]
  },
  {
   "cell_type": "code",
   "execution_count": 4,
   "metadata": {},
   "outputs": [
    {
     "data": {
      "application/vnd.jupyter.widget-view+json": {
       "model_id": "fadd8b7ef1b54bdfbf37b7a203af9c34",
       "version_major": 2,
       "version_minor": 0
      },
      "text/plain": [
       "preprocessor_config.json:   0%|          | 0.00/185k [00:00<?, ?B/s]"
      ]
     },
     "metadata": {},
     "output_type": "display_data"
    },
    {
     "data": {
      "application/vnd.jupyter.widget-view+json": {
       "model_id": "7d6b6611f5684017b58b79d64400036a",
       "version_major": 2,
       "version_minor": 0
      },
      "text/plain": [
       "tokenizer_config.json:   0%|          | 0.00/283k [00:00<?, ?B/s]"
      ]
     },
     "metadata": {},
     "output_type": "display_data"
    },
    {
     "data": {
      "application/vnd.jupyter.widget-view+json": {
       "model_id": "647f51752d2d4e6f89d1805f6d5546b3",
       "version_major": 2,
       "version_minor": 0
      },
      "text/plain": [
       "vocab.json:   0%|          | 0.00/836k [00:00<?, ?B/s]"
      ]
     },
     "metadata": {},
     "output_type": "display_data"
    },
    {
     "data": {
      "application/vnd.jupyter.widget-view+json": {
       "model_id": "b6c1db3305bf4d1dbcf126b41433980c",
       "version_major": 2,
       "version_minor": 0
      },
      "text/plain": [
       "tokenizer.json:   0%|          | 0.00/2.48M [00:00<?, ?B/s]"
      ]
     },
     "metadata": {},
     "output_type": "display_data"
    },
    {
     "data": {
      "application/vnd.jupyter.widget-view+json": {
       "model_id": "28b1d1b726d64e389031e9ee6b478901",
       "version_major": 2,
       "version_minor": 0
      },
      "text/plain": [
       "merges.txt:   0%|          | 0.00/494k [00:00<?, ?B/s]"
      ]
     },
     "metadata": {},
     "output_type": "display_data"
    },
    {
     "data": {
      "application/vnd.jupyter.widget-view+json": {
       "model_id": "26b23f34d54a476a915294d03031dcbc",
       "version_major": 2,
       "version_minor": 0
      },
      "text/plain": [
       "normalizer.json:   0%|          | 0.00/52.7k [00:00<?, ?B/s]"
      ]
     },
     "metadata": {},
     "output_type": "display_data"
    },
    {
     "data": {
      "application/vnd.jupyter.widget-view+json": {
       "model_id": "0f6e9b0e4fb144b9b92d309d2ef62b39",
       "version_major": 2,
       "version_minor": 0
      },
      "text/plain": [
       "added_tokens.json:   0%|          | 0.00/34.6k [00:00<?, ?B/s]"
      ]
     },
     "metadata": {},
     "output_type": "display_data"
    },
    {
     "data": {
      "application/vnd.jupyter.widget-view+json": {
       "model_id": "57aa4474bbd04c539fabd6253883cb1f",
       "version_major": 2,
       "version_minor": 0
      },
      "text/plain": [
       "special_tokens_map.json:   0%|          | 0.00/2.19k [00:00<?, ?B/s]"
      ]
     },
     "metadata": {},
     "output_type": "display_data"
    },
    {
     "data": {
      "application/vnd.jupyter.widget-view+json": {
       "model_id": "8b1abf8a0ee4498e81074a092f567490",
       "version_major": 2,
       "version_minor": 0
      },
      "text/plain": [
       "config.json:   0%|          | 0.00/1.98k [00:00<?, ?B/s]"
      ]
     },
     "metadata": {},
     "output_type": "display_data"
    },
    {
     "data": {
      "application/vnd.jupyter.widget-view+json": {
       "model_id": "f061704d823b47eeb20599f6eda19b42",
       "version_major": 2,
       "version_minor": 0
      },
      "text/plain": [
       "model.safetensors:   0%|          | 0.00/151M [00:00<?, ?B/s]"
      ]
     },
     "metadata": {},
     "output_type": "display_data"
    },
    {
     "data": {
      "application/vnd.jupyter.widget-view+json": {
       "model_id": "83d2229c8f0b427db00d527662dbc8c4",
       "version_major": 2,
       "version_minor": 0
      },
      "text/plain": [
       "generation_config.json:   0%|          | 0.00/3.75k [00:00<?, ?B/s]"
      ]
     },
     "metadata": {},
     "output_type": "display_data"
    }
   ],
   "source": [
    "from transformers import WhisperProcessor, WhisperForConditionalGeneration\n",
    "\n",
    "checkpoint = \"openai/whisper-tiny\"\n",
    "\n",
    "processor = WhisperProcessor.from_pretrained(checkpoint, language=None, task=\"transcribe\")\n",
    "model = WhisperForConditionalGeneration.from_pretrained(checkpoint)\n",
    "model.config.forced_decoder_ids = None\n",
    "model.config.suppress_tokens = []"
   ]
  },
  {
   "cell_type": "markdown",
   "metadata": {
    "id": "rDPrRPwIeijI"
   },
   "source": [
    "## __3.Preprocessing__"
   ]
  },
  {
   "cell_type": "code",
   "execution_count": 5,
   "metadata": {},
   "outputs": [
    {
     "data": {
      "application/vnd.jupyter.widget-view+json": {
       "model_id": "87868e2ea4f44ea798d24f6387cac338",
       "version_major": 2,
       "version_minor": 0
      },
      "text/plain": [
       "Map:   0%|          | 0/400 [00:00<?, ? examples/s]"
      ]
     },
     "metadata": {},
     "output_type": "display_data"
    }
   ],
   "source": [
    "def prepare_dataset(example):\n",
    "    audio = example[\"audio\"]\n",
    "    example[\"input_features\"] = processor.feature_extractor(audio[\"array\"], sampling_rate=16000).input_features[0]\n",
    "    example[\"labels\"] = processor.tokenizer(example[\"sentence\"]).input_ids\n",
    "    return example\n",
    "\n",
    "processed_dataset = dataset.map(prepare_dataset, remove_columns=dataset.column_names)"
   ]
  },
  {
   "cell_type": "code",
   "execution_count": 6,
   "metadata": {},
   "outputs": [],
   "source": [
    "#DataCollator정의\n",
    "from dataclasses import dataclass\n",
    "from typing import Any, Dict, List, Union\n",
    "import torch\n",
    "\n",
    "@dataclass\n",
    "class DataCollatorSpeechSeq2SeqWithPadding:\n",
    "    processor: Any\n",
    "    padding: Union[bool, str] = True\n",
    "\n",
    "    def __call__(self, features: List[Dict[str, Union[List[int], torch.Tensor]]]) -> Dict[str, torch.Tensor]:\n",
    "        input_features = [{\"input_features\": f[\"input_features\"]} for f in features]\n",
    "        label_features = [{\"input_ids\": f[\"labels\"]} for f in features]\n",
    "        batch = self.processor.feature_extractor.pad(input_features, return_tensors=\"pt\")\n",
    "        labels_batch = self.processor.tokenizer.pad(label_features, return_tensors=\"pt\")\n",
    "        labels = labels_batch[\"input_ids\"].masked_fill(labels_batch.attention_mask.ne(1), -100)\n",
    "        batch[\"labels\"] = labels\n",
    "        return batch\n",
    "\n",
    "data_collator = DataCollatorSpeechSeq2SeqWithPadding(processor=processor)\n"
   ]
  },
  {
   "cell_type": "code",
   "execution_count": 7,
   "metadata": {},
   "outputs": [
    {
     "name": "stderr",
     "output_type": "stream",
     "text": [
      "<ipython-input-7-536ac11e8ea3>:14: FutureWarning: `tokenizer` is deprecated and will be removed in version 5.0.0 for `Trainer.__init__`. Use `processing_class` instead.\n",
      "  trainer = Trainer(\n"
     ]
    }
   ],
   "source": [
    "from transformers import TrainingArguments, Trainer\n",
    "\n",
    "training_args = TrainingArguments(\n",
    "    output_dir=\"/content/drive/MyDrive/WhisperCheckpoints/run_multi_tiny_trial1\",\n",
    "    per_device_train_batch_size=4,\n",
    "    learning_rate=1e-5,\n",
    "    num_train_epochs=3,\n",
    "    logging_steps=5,\n",
    "    save_strategy=\"epoch\",\n",
    "    fp16=True,\n",
    "    report_to=\"none\"\n",
    ")\n",
    "\n",
    "trainer = Trainer(\n",
    "    model=model,\n",
    "    args=training_args,\n",
    "    train_dataset=processed_dataset,\n",
    "    tokenizer=processor,\n",
    "    data_collator=data_collator\n",
    ")"
   ]
  },
  {
   "cell_type": "markdown",
   "metadata": {
    "id": "qaT6Ks6RhOMu"
   },
   "source": [
    "## __4.Training__"
   ]
  },
  {
   "cell_type": "code",
   "execution_count": 8,
   "metadata": {},
   "outputs": [
    {
     "name": "stderr",
     "output_type": "stream",
     "text": [
      "Passing a tuple of `past_key_values` is deprecated and will be removed in Transformers v4.43.0. You should pass an instance of `EncoderDecoderCache` instead, e.g. `past_key_values=EncoderDecoderCache.from_legacy_cache(past_key_values)`.\n"
     ]
    },
    {
     "data": {
      "text/html": [
       "\n",
       "    <div>\n",
       "      \n",
       "      <progress value='300' max='300' style='width:300px; height:20px; vertical-align: middle;'></progress>\n",
       "      [300/300 02:41, Epoch 3/3]\n",
       "    </div>\n",
       "    <table border=\"1\" class=\"dataframe\">\n",
       "  <thead>\n",
       " <tr style=\"text-align: left;\">\n",
       "      <th>Step</th>\n",
       "      <th>Training Loss</th>\n",
       "    </tr>\n",
       "  </thead>\n",
       "  <tbody>\n",
       "    <tr>\n",
       "      <td>5</td>\n",
       "      <td>6.938000</td>\n",
       "    </tr>\n",
       "    <tr>\n",
       "      <td>10</td>\n",
       "      <td>5.822700</td>\n",
       "    </tr>\n",
       "    <tr>\n",
       "      <td>15</td>\n",
       "      <td>5.618900</td>\n",
       "    </tr>\n",
       "    <tr>\n",
       "      <td>20</td>\n",
       "      <td>5.306600</td>\n",
       "    </tr>\n",
       "    <tr>\n",
       "      <td>25</td>\n",
       "      <td>4.665600</td>\n",
       "    </tr>\n",
       "    <tr>\n",
       "      <td>30</td>\n",
       "      <td>4.991200</td>\n",
       "    </tr>\n",
       "    <tr>\n",
       "      <td>35</td>\n",
       "      <td>4.492200</td>\n",
       "    </tr>\n",
       "    <tr>\n",
       "      <td>40</td>\n",
       "      <td>4.456100</td>\n",
       "    </tr>\n",
       "    <tr>\n",
       "      <td>45</td>\n",
       "      <td>4.409400</td>\n",
       "    </tr>\n",
       "    <tr>\n",
       "      <td>50</td>\n",
       "      <td>4.398300</td>\n",
       "    </tr>\n",
       "    <tr>\n",
       "      <td>55</td>\n",
       "      <td>4.322600</td>\n",
       "    </tr>\n",
       "    <tr>\n",
       "      <td>60</td>\n",
       "      <td>4.228400</td>\n",
       "    </tr>\n",
       "    <tr>\n",
       "      <td>65</td>\n",
       "      <td>4.201900</td>\n",
       "    </tr>\n",
       "    <tr>\n",
       "      <td>70</td>\n",
       "      <td>4.514700</td>\n",
       "    </tr>\n",
       "    <tr>\n",
       "      <td>75</td>\n",
       "      <td>4.367900</td>\n",
       "    </tr>\n",
       "    <tr>\n",
       "      <td>80</td>\n",
       "      <td>4.036900</td>\n",
       "    </tr>\n",
       "    <tr>\n",
       "      <td>85</td>\n",
       "      <td>4.227300</td>\n",
       "    </tr>\n",
       "    <tr>\n",
       "      <td>90</td>\n",
       "      <td>4.304900</td>\n",
       "    </tr>\n",
       "    <tr>\n",
       "      <td>95</td>\n",
       "      <td>3.840700</td>\n",
       "    </tr>\n",
       "    <tr>\n",
       "      <td>100</td>\n",
       "      <td>4.168400</td>\n",
       "    </tr>\n",
       "    <tr>\n",
       "      <td>105</td>\n",
       "      <td>3.751400</td>\n",
       "    </tr>\n",
       "    <tr>\n",
       "      <td>110</td>\n",
       "      <td>3.764200</td>\n",
       "    </tr>\n",
       "    <tr>\n",
       "      <td>115</td>\n",
       "      <td>3.410400</td>\n",
       "    </tr>\n",
       "    <tr>\n",
       "      <td>120</td>\n",
       "      <td>3.515400</td>\n",
       "    </tr>\n",
       "    <tr>\n",
       "      <td>125</td>\n",
       "      <td>3.753200</td>\n",
       "    </tr>\n",
       "    <tr>\n",
       "      <td>130</td>\n",
       "      <td>3.211500</td>\n",
       "    </tr>\n",
       "    <tr>\n",
       "      <td>135</td>\n",
       "      <td>3.277800</td>\n",
       "    </tr>\n",
       "    <tr>\n",
       "      <td>140</td>\n",
       "      <td>3.560700</td>\n",
       "    </tr>\n",
       "    <tr>\n",
       "      <td>145</td>\n",
       "      <td>3.323200</td>\n",
       "    </tr>\n",
       "    <tr>\n",
       "      <td>150</td>\n",
       "      <td>3.046000</td>\n",
       "    </tr>\n",
       "    <tr>\n",
       "      <td>155</td>\n",
       "      <td>3.215200</td>\n",
       "    </tr>\n",
       "    <tr>\n",
       "      <td>160</td>\n",
       "      <td>3.337900</td>\n",
       "    </tr>\n",
       "    <tr>\n",
       "      <td>165</td>\n",
       "      <td>3.139800</td>\n",
       "    </tr>\n",
       "    <tr>\n",
       "      <td>170</td>\n",
       "      <td>3.167800</td>\n",
       "    </tr>\n",
       "    <tr>\n",
       "      <td>175</td>\n",
       "      <td>3.269600</td>\n",
       "    </tr>\n",
       "    <tr>\n",
       "      <td>180</td>\n",
       "      <td>2.913100</td>\n",
       "    </tr>\n",
       "    <tr>\n",
       "      <td>185</td>\n",
       "      <td>3.106100</td>\n",
       "    </tr>\n",
       "    <tr>\n",
       "      <td>190</td>\n",
       "      <td>3.038500</td>\n",
       "    </tr>\n",
       "    <tr>\n",
       "      <td>195</td>\n",
       "      <td>3.027600</td>\n",
       "    </tr>\n",
       "    <tr>\n",
       "      <td>200</td>\n",
       "      <td>3.038500</td>\n",
       "    </tr>\n",
       "    <tr>\n",
       "      <td>205</td>\n",
       "      <td>2.571400</td>\n",
       "    </tr>\n",
       "    <tr>\n",
       "      <td>210</td>\n",
       "      <td>2.266300</td>\n",
       "    </tr>\n",
       "    <tr>\n",
       "      <td>215</td>\n",
       "      <td>2.543600</td>\n",
       "    </tr>\n",
       "    <tr>\n",
       "      <td>220</td>\n",
       "      <td>2.423900</td>\n",
       "    </tr>\n",
       "    <tr>\n",
       "      <td>225</td>\n",
       "      <td>2.454400</td>\n",
       "    </tr>\n",
       "    <tr>\n",
       "      <td>230</td>\n",
       "      <td>2.256900</td>\n",
       "    </tr>\n",
       "    <tr>\n",
       "      <td>235</td>\n",
       "      <td>2.254200</td>\n",
       "    </tr>\n",
       "    <tr>\n",
       "      <td>240</td>\n",
       "      <td>2.303800</td>\n",
       "    </tr>\n",
       "    <tr>\n",
       "      <td>245</td>\n",
       "      <td>2.216900</td>\n",
       "    </tr>\n",
       "    <tr>\n",
       "      <td>250</td>\n",
       "      <td>2.257700</td>\n",
       "    </tr>\n",
       "    <tr>\n",
       "      <td>255</td>\n",
       "      <td>2.124900</td>\n",
       "    </tr>\n",
       "    <tr>\n",
       "      <td>260</td>\n",
       "      <td>2.425400</td>\n",
       "    </tr>\n",
       "    <tr>\n",
       "      <td>265</td>\n",
       "      <td>2.170500</td>\n",
       "    </tr>\n",
       "    <tr>\n",
       "      <td>270</td>\n",
       "      <td>2.178600</td>\n",
       "    </tr>\n",
       "    <tr>\n",
       "      <td>275</td>\n",
       "      <td>2.271500</td>\n",
       "    </tr>\n",
       "    <tr>\n",
       "      <td>280</td>\n",
       "      <td>2.161600</td>\n",
       "    </tr>\n",
       "    <tr>\n",
       "      <td>285</td>\n",
       "      <td>2.523500</td>\n",
       "    </tr>\n",
       "    <tr>\n",
       "      <td>290</td>\n",
       "      <td>2.300600</td>\n",
       "    </tr>\n",
       "    <tr>\n",
       "      <td>295</td>\n",
       "      <td>2.285000</td>\n",
       "    </tr>\n",
       "    <tr>\n",
       "      <td>300</td>\n",
       "      <td>2.357600</td>\n",
       "    </tr>\n",
       "  </tbody>\n",
       "</table><p>"
      ],
      "text/plain": [
       "<IPython.core.display.HTML object>"
      ]
     },
     "metadata": {},
     "output_type": "display_data"
    },
    {
     "name": "stderr",
     "output_type": "stream",
     "text": [
      "/usr/local/lib/python3.11/dist-packages/transformers/modeling_utils.py:3339: UserWarning: Moving the following attributes in the config to the generation config: {'max_length': 448, 'suppress_tokens': [], 'begin_suppress_tokens': [220, 50257]}. You are seeing this warning because you've set generation parameters in the model config, as opposed to in the generation config.\n",
      "  warnings.warn(\n"
     ]
    },
    {
     "data": {
      "text/plain": [
       "TrainOutput(global_step=300, training_loss=3.4254807885487875, metrics={'train_runtime': 163.6703, 'train_samples_per_second': 7.332, 'train_steps_per_second': 1.833, 'total_flos': 2.9542662144e+16, 'train_loss': 3.4254807885487875, 'epoch': 3.0})"
      ]
     },
     "execution_count": 8,
     "metadata": {},
     "output_type": "execute_result"
    }
   ],
   "source": [
    "trainer.train()"
   ]
  },
  {
   "cell_type": "code",
   "execution_count": 9,
   "metadata": {},
   "outputs": [
    {
     "data": {
      "text/plain": [
       "[]"
      ]
     },
     "execution_count": 9,
     "metadata": {},
     "output_type": "execute_result"
    }
   ],
   "source": [
    "save_path = \"/content/drive/MyDrive/WhisperCheckpoints/run_multi_tiny_trial1\"\n",
    "model.save_pretrained(save_path)\n",
    "processor.save_pretrained(save_path)"
   ]
  },
  {
   "cell_type": "markdown",
   "metadata": {
    "id": "8vwQKMgshSni"
   },
   "source": [
    "## __5.Prediction__"
   ]
  },
  {
   "cell_type": "code",
   "execution_count": 10,
   "metadata": {},
   "outputs": [
    {
     "name": "stdout",
     "output_type": "stream",
     "text": [
      "\n",
      "🌍 Language: ko\n"
     ]
    },
    {
     "name": "stderr",
     "output_type": "stream",
     "text": [
      "\r",
      "  0%|          | 0/100 [00:00<?, ?it/s]Due to a bug fix in https://github.com/huggingface/transformers/pull/28687 transcription using a multilingual Whisper will default to language detection followed by transcription instead of translation to English.This might be a breaking change for your use case. If you want to instead always translate your audio to English, make sure to pass `language='en'`.\n",
      "The attention mask is not set and cannot be inferred from input because pad token is same as eos token. As a consequence, you may observe unexpected behavior. Please pass your input's `attention_mask` to obtain reliable results.\n",
      "  1%|          | 1/100 [00:00<01:14,  1.34it/s]"
     ]
    },
    {
     "name": "stdout",
     "output_type": "stream",
     "text": [
      "\n",
      "🔹 Predicted: Ane er hat er ein paar Jahre später eine andere Landwirtis in der Beratung von Zubar.\n",
      "🔸 Reference: 어느덧 그 더운 팔월도 하루를 남기고 다 지나 버렸다.\n"
     ]
    },
    {
     "name": "stderr",
     "output_type": "stream",
     "text": [
      "  3%|▎         | 3/100 [00:01<00:31,  3.10it/s]"
     ]
    },
    {
     "name": "stdout",
     "output_type": "stream",
     "text": [
      "\n",
      "🔹 Predicted: 든지 전에도는 그 사이에는 그 사이에서는 그 바다가 흔들어.\n",
      "🔸 Reference: 근자에 춘우의 동료 사이에는 이상한 소문이 돌아다니었다.\n",
      "\n",
      "🔹 Predicted:  그치 자기로는 소리가 듣고 그정도 눈치지 않다.\n",
      "🔸 Reference: 재차 부르는 소리를 듣고야 선비는 발길을 떼었다.\n"
     ]
    },
    {
     "name": "stderr",
     "output_type": "stream",
     "text": [
      "\r",
      "  4%|▍         | 4/100 [00:01<00:25,  3.79it/s]"
     ]
    },
    {
     "name": "stdout",
     "output_type": "stream",
     "text": [
      "\n",
      "🔹 Predicted: Keyback of some of the chosen oversumming team in the Gannner.\n",
      "🔸 Reference: 그애의 말값으로 찾아나 봤으면 되는 것 아니냐.\n"
     ]
    },
    {
     "name": "stderr",
     "output_type": "stream",
     "text": [
      "  6%|▌         | 6/100 [00:04<01:26,  1.08it/s]"
     ]
    },
    {
     "name": "stdout",
     "output_type": "stream",
     "text": [
      "\n",
      "🔹 Predicted: Kirrekehmehmehmehmehmehmehmehmehmehmehmehmehmehmehmehmehmehmehmehmehmehmehmehmehmehmehmehmehmehmehmehmehmehmehmehmehmehmehmehmehmehmehmehmehmehmehmehmehmehmehmehmehmehmehmehmehmehmehmehmehmehmehmehmehmehmehmehmehmehmehmehmehmehmehmehmehmehmehmehmehmehmehmehmehmehmehmehmehmehmehmehmehmehmehmehmehmehmehmehmehmehmehmehmehmehmehmehmehmehmehmehmehmehmehmehmehmehmehmehmehmehmehmehmehmehmehmehmehmehmehmehmehmehmehmehmehmehmehmehmehmehmehmehmehmehmehmehmehmehmehmehmehmehmehmehmehmehmehmehmehmehmehmehmehmehmehmehmehmehmehmehmehmehmehmehmehmehmehmehmehmehmehmehmehmehmehmehmehmehmehmehmehmehmehmehmehmehmehmehmehmehmehmehmehmehmehmehmehmehmehmehmehmehmehmehmehmehmehmehme\n",
      "🔸 Reference: 그가 방으로 들어오니 간난이가 와서 그의 하던 일을 하고 있었다.\n",
      "\n",
      "🔹 Predicted: Amyte Nauwisier\n",
      "🔸 Reference: 안녕히 다녀옵시요.\n"
     ]
    },
    {
     "name": "stderr",
     "output_type": "stream",
     "text": [
      "  8%|▊         | 8/100 [00:05<00:49,  1.87it/s]"
     ]
    },
    {
     "name": "stdout",
     "output_type": "stream",
     "text": [
      "\n",
      "🔹 Predicted: あたくぼくと仕上げやはり、すみにし、あんだら、すぎや、おそつもり、すみをつく\n",
      "🔸 Reference: 어떻게 무엇부터 시작을 해야 할는지 엄두가 나지를 않아서 잠을 잘 수가 없었다.\n",
      "\n",
      "🔹 Predicted: シンのような形に入れば\n",
      "🔸 Reference: 죽는 날까지 하늘을 우러러\n"
     ]
    },
    {
     "name": "stderr",
     "output_type": "stream",
     "text": [
      " 10%|█         | 10/100 [00:08<01:30,  1.00s/it]"
     ]
    },
    {
     "name": "stdout",
     "output_type": "stream",
     "text": [
      "\n",
      "🔹 Predicted: 国陆大阪大阪大阪大阪大阪大阪大阪大阪大阪大阪大阪大阪大阪大阪大阪大阪大阪大阪大阪大阪大阪大阪大阪大阪大阪大阪大阪大阪大阪大阪大阪大阪大阪大阪大阪大阪大阪大阪大阪大阪大阪大阪大阪大阪大阪大阪大阪大阪大阪大阪大阪大阪大阪大阪大阪大阪大阪大阪大阪大阪大阪大阪大阪大阪大阪大阪大阪大阪大阪大阪大阪大阪大阪大阪大阪大阪大阪大阪大阪大阪大阪大阪大阪大阪大阪大阪大阪大阪大阪大阪大阪大阪大阪大阪大阪大阪大阪大阪大阪大阪大阪大阪大阪大阪大阪大阪大阪大阪大阪大阪大阪大阪大阪大阪大阪大阪大阪大阪大阪大阪大阪大阪大阪大阪大阪大阪大阪大阪大阪大阪大阪大阪大阪大阪大阪大阪大阪大阪大阪大阪大阪大阪大阪大阪大阪大阪大阪\n",
      "🔸 Reference: 그리고 그 어두운 방 안이 휙 지나친다.\n",
      "\n",
      "🔹 Predicted: 上の中を歩くとしぶって\n",
      "🔸 Reference: 왜 눈을 바루 뜨지 못해!\n"
     ]
    },
    {
     "name": "stderr",
     "output_type": "stream",
     "text": [
      " 12%|█▏        | 12/100 [00:08<00:52,  1.68it/s]"
     ]
    },
    {
     "name": "stdout",
     "output_type": "stream",
     "text": [
      "\n",
      "🔹 Predicted:  오신은 바라던가로 하다간다. 그는 시계소가가 미치수가 있었다.\n",
      "🔸 Reference: 영신은 바라던 대로 바닷가 한가한 집에서 편안히 쉴 수가 있었다.\n",
      "\n",
      "🔹 Predicted:  저녁에 싸우는 저의 흥립이 얻었었죠.\n",
      "🔸 Reference: 잡을 수 없는 저 하늘의 별도 잡자.\n"
     ]
    },
    {
     "name": "stderr",
     "output_type": "stream",
     "text": [
      "\r",
      " 13%|█▎        | 13/100 [00:12<02:03,  1.41s/it]"
     ]
    },
    {
     "name": "stdout",
     "output_type": "stream",
     "text": [
      "\n",
      "🔹 Predicted: かわもももももももももももももももももももももももももももももももももももももももももももももももももももももももももももももももももももももももももももももももももももももももももももももももももももももももももももももももももももももももももももももももももももももももももももももももももももももももももももももももももももももももももももももももももももももももももももももももももももももももももももももももももももももももももももももももももももももももももももももももももももももももももももももももももももももももももももももももももももももももももももももももももももももももももももももももももももももももももももももももももももももももももももももももももももももももももももももももももももももももももももももももももももももももももももももももももももももももももももももももももももももももももももももももももももももももももももももももももももももももももも\n",
      "🔸 Reference: 하고, 목메인 소리가 뒤를 따랐다.\n"
     ]
    },
    {
     "name": "stderr",
     "output_type": "stream",
     "text": [
      " 15%|█▌        | 15/100 [00:15<02:00,  1.41s/it]"
     ]
    },
    {
     "name": "stdout",
     "output_type": "stream",
     "text": [
      "\n",
      "🔹 Predicted: Kudi wo kiei arn oha kudi wo kiei arn oha kudi wo kiei arn oha kudi wo kiei arn oha kudi wo kiei arn oha kudi wo kiei arn oha kudi wo kiei arn oha kudi wo kiei arn oha kudi wo kiei arn oha kudi wo kiei arn oha kudi wo kiei arn oha kudi wo kiei arn oha kudi wo kiei arn oha kudi wo kiei arn oha kudi wo kiei arn oha kudi wo kiei arn oha kudi wo kiei arn oha kudi wo kiei arn oha kudi wo kiei arn oha kudi wo kiei arn oha kudi wo kiei arn oha kudi wo kiei arn oha kudi wo kiei arn oha kudi wo kiei arn oha kiei arn oha kiei arn oha kiei arn oha kiei arn oha kiei arn oha kiei arn oha kiei arn oha kiei arn oha kiei arn oha kiei arn oha kiei arn oha kiei arn oha kiei arn oha kiei arn oha kiei arn oha kiei arn oha kiei arn oha kiei arn oha kiei arn oha kiei arn oha kiei arn oha kiei arn oha kiei arn oha kiei arn oha kiei arn oha kiei arn\n",
      "🔸 Reference: 그리고 그의 하던 말을 곰곰이 되풀이하였다.\n",
      "\n",
      "🔹 Predicted: 岡山の広島に北を教える\n",
      "🔸 Reference: 영원한 것이 어디 있는가?\n"
     ]
    },
    {
     "name": "stderr",
     "output_type": "stream",
     "text": [
      "\r",
      " 16%|█▌        | 16/100 [00:15<01:29,  1.07s/it]"
     ]
    },
    {
     "name": "stdout",
     "output_type": "stream",
     "text": [
      "\n",
      "🔹 Predicted: ほうすみで、そろそろしたら、僕が、キャラの気がつくんやり合った\n",
      "🔸 Reference: 그것은 예수가 십자가에 못박히며 최후로 부르짖은 말이었다.\n"
     ]
    },
    {
     "name": "stderr",
     "output_type": "stream",
     "text": [
      "\r",
      " 17%|█▋        | 17/100 [00:16<01:08,  1.22it/s]"
     ]
    },
    {
     "name": "stdout",
     "output_type": "stream",
     "text": [
      "\n",
      "🔹 Predicted: ときに、一緒に、誰にも、誰にも、誰にも、誰にも、誰にも、\n",
      "🔸 Reference: 그 틈에 그 짐짝은 딴놈이 메고 달아난다.\n"
     ]
    },
    {
     "name": "stderr",
     "output_type": "stream",
     "text": [
      "\r",
      " 18%|█▊        | 18/100 [00:19<02:08,  1.57s/it]"
     ]
    },
    {
     "name": "stdout",
     "output_type": "stream",
     "text": [
      "\n",
      "🔹 Predicted:  친한 이다인신다 이다 그의하는 새 앞봄서 흔냈을 수 없던 그의 수 없던 그의 수 없던 그의 수 없던 그의 수 없던 그의 수 없던 그의 수 없던 그의 수 없던 그의 수 없던 그의 수 없던 그의 수 없던 그의 수 없던 그의 수 없던 그의 수 없던 그의 수 없던 그의 수 없던 그의 수 없던 그의 수 없던 그의 수 없던 그의 수 없던 그의 수 없던 그의 수 없던 그의 수 없던 그의 수 없던 그의 수 없던 그의 수 없던 그의 수 없던 그의 수 없던 그의 수 없던 그의 수 없던 그의 수 없던 그의 수 없던 그의 수 없던 그의 수 없던 그의 수 없던 그의 수 없던 그의 수 없던 그의 수 없던 그의 수 없던 그의 수 없던 그의 수 없던 그의 수 없던 그의 수 없던 그의 수 없던 그의 수 없던 그의 수 없던 그의 수 없던 그의 수 없던 그의 수 없던 그의 수 없던 그의 수 없던 그의 수 없던 그의 수 없던 그의 수 없던 그의 수 없던 그의 수 없던 그의 수 없던 그의 수 없던 그의 수 없던 그의 수 없던 그의 수 없던 그의 수 없던 그의 수 없던 그의 수 없던 그의 수 없던 그의 수 없던 그의 수 없던 그의 수 없던 그의 수 없던 그의 수 없던 그의 수\n",
      "🔸 Reference: 그는 이러한 생각을 되풀이하는 새 벌써 간난네 집까지 왔다.\n"
     ]
    },
    {
     "name": "stderr",
     "output_type": "stream",
     "text": [
      " 20%|██        | 20/100 [00:19<01:10,  1.13it/s]"
     ]
    },
    {
     "name": "stdout",
     "output_type": "stream",
     "text": [
      "\n",
      "🔹 Predicted: 여지 떨어질 적이 없을 것이고, 이런 것도는 정리를 낭무 낭지, 그가가 더 큰 것이었습니다.\n",
      "🔸 Reference: 양식 떨어진 사람이 보릿고개를 넘기는것만치 나 까마아득한 것 같습니다.\n",
      "\n",
      "🔹 Predicted: Pasier binie mit Schöre-Säge-Werwarte.\n",
      "🔸 Reference: 그래서 그는 억지로 웃어 보이고 말았다.\n"
     ]
    },
    {
     "name": "stderr",
     "output_type": "stream",
     "text": [
      " 22%|██▏       | 22/100 [00:20<00:41,  1.86it/s]"
     ]
    },
    {
     "name": "stdout",
     "output_type": "stream",
     "text": [
      "\n",
      "🔹 Predicted: やめたりするや、チーズを取り上げると、気にすぐってやめた\n",
      "🔸 Reference: 연해 꾸짖으며 질팡갈팡 뛰는 수밖에 없었다.\n",
      "\n",
      "🔹 Predicted: 岡田県の一部の写真を採取ができる。\n",
      "🔸 Reference: 영신을 눕히고 자세히 진찰을 해본다.\n"
     ]
    },
    {
     "name": "stderr",
     "output_type": "stream",
     "text": [
      " 24%|██▍       | 24/100 [00:20<00:26,  2.87it/s]"
     ]
    },
    {
     "name": "stdout",
     "output_type": "stream",
     "text": [
      "\n",
      "🔹 Predicted: 私は、手の方があるので、\n",
      "🔸 Reference: 몇 시 퇴근하려고?\n",
      "\n",
      "🔹 Predicted: きっとにお話を出すような話にさらもお話を出すと\n",
      "🔸 Reference: 국회는 의원의 자격을 심사하며, 의원을 징계할 수 있다.\n"
     ]
    },
    {
     "name": "stderr",
     "output_type": "stream",
     "text": [
      "\r",
      " 25%|██▌       | 25/100 [00:24<01:32,  1.24s/it]"
     ]
    },
    {
     "name": "stdout",
     "output_type": "stream",
     "text": [
      "\n",
      "🔹 Predicted: あたりあんまりでもでもチェックをうちにしよう、ついであんまりでもでもでもでもでもでもでもでもでもでもでもでもでもでもでもでもでもでもでもでもでもでもでもでもでもでもでもでもでもでもでもでもでもでもでもでもでもでもでもでもでもでもでもでもでもでもでもでもでもでもでもでもでもでもでもでもでもでもでもでもでもでもでもでもでもでもでもでもでもでもでもでもでもでもでもでもでもでもでもでもでもでもでもでもでもでもでもでもでもでもでもでもでもでもでもでもでもでもでもでもでもでもでもでもでもでもでもでもでもでもでもでもでもでもでもでもでもでもでもでもでもでもでもでもでもでもでもでもでもでもでもでもでもでもでもでもでもでもでもでもでもでもでもでもでもでもでもでもでもでもでもでもでもでもでもでもでもでもでもでもでもでもでもでもでもでもでもでもでもでもでもでもでもでもでもでもでもでもでもでもでもでもでもでもでもでもでもでもでもでもでもでもでもでもでもでもでもでもでもでもでもでもでもでもでもでもでもでもでもでもでもでもでもでもでもでもでもでもでもでもでもでもでもでもでもでもでもでもでもでもでもでもでもでもでもでもでもでもでもでもでもでもでもでもでもでもでもでもでもでもでもでもでもでもでもでもでもでもでもでもでもでもでもでもでもでもでもでもでもでもでもでもでもでもでもでもでもでもでもでもでもでもでもでもでもでもでもでもでもでもでもでもでもでもでもでもでもでもでもでもでもでもでもでもでもでもでもでもでもでもでもでもでもでもでもでもでもでもでもでもでもでもでもでもでもでもでもでもでもでもでもでもでもでもでもでもでもでもでもでもでもでもでもでもでもでもでもでもでもでもでもでもでもでもでもでもでもでもでもでもでもでもでもでもでもでもでもでもでもでもでもでもでもでもでもでもでもでもでもでもでもでもでもでもでもでもでもでもでもでもでもでもでもでもでもでもでもでもでもでもでもでもでもでもでもでもでもでもでもでもでもでもでもでもでもでもでもでもでもでも\n",
      "🔸 Reference: 아담이 모든 육축과 공중의 새와 들의 모든 짐승에게 이름을 주니라\n"
     ]
    },
    {
     "name": "stderr",
     "output_type": "stream",
     "text": [
      "\r",
      " 26%|██▌       | 26/100 [00:24<01:09,  1.06it/s]"
     ]
    },
    {
     "name": "stdout",
     "output_type": "stream",
     "text": [
      "\n",
      "🔹 Predicted:  그 뒤에 대답지 않든식들이 의원으로 두고 대신 의원을 얻으러 왔던가.\n",
      "🔸 Reference: 그 뒤로 게 딱지 같은 집들이 오글오글 쫓겨서 몰려들어 간다.\n"
     ]
    },
    {
     "name": "stderr",
     "output_type": "stream",
     "text": [
      "\r",
      " 27%|██▋       | 27/100 [00:24<00:52,  1.38it/s]"
     ]
    },
    {
     "name": "stdout",
     "output_type": "stream",
     "text": [
      "\n",
      "🔹 Predicted: 僕の気をしてもいいや、これもあるようにも同じの仕事だった。\n",
      "🔸 Reference: 그리고 그의 옷이 땀에 배어 어룽어룽하니 말라진 것을 보았다.\n",
      "\n",
      "🔹 Predicted: ちなみに、やべすぎや、きちじん、なすぎだった。\n",
      "🔸 Reference: 춘우는 자기 아버지가 약주 취하신 것을 알았다.\n"
     ]
    },
    {
     "name": "stderr",
     "output_type": "stream",
     "text": [
      " 29%|██▉       | 29/100 [00:24<00:31,  2.24it/s]"
     ]
    },
    {
     "name": "stdout",
     "output_type": "stream",
     "text": [
      "\n",
      "🔹 Predicted: 自己のような存在は、自己のように与えられた\n",
      "🔸 Reference: 찌르릉 하고 창자에 퍼지며 얼굴이 화끈하였다.\n"
     ]
    },
    {
     "name": "stderr",
     "output_type": "stream",
     "text": [
      "\r",
      " 30%|███       | 30/100 [00:28<01:30,  1.29s/it]"
     ]
    },
    {
     "name": "stdout",
     "output_type": "stream",
     "text": [
      "\n",
      "🔹 Predicted: Aganen kada-sarit-Agan-Sarit-Agan-Sarit-Agan-Agan-Sarit-Agan-Agan-Sarit-Agan-Agan-Sarit-Agan-Agan-Sarit-Agan-Sarit-Agan-Agan-Sarit-Agan-Sarit-Agan-Sarit-Agan-Sarit-Agan-Sarit-Agan-Sarit-Agan-Sarit-Agan-Sarit-Agan-Sarit-Agan-Sarit-Agan-Sarit-Agan-Sarit-Agan-Sarit-Agan-Sarit-Agan-Sarit-Agan-Sarit-Agan-Sarit-Agan-Sarit-Agan-Sarit-Agan-Sarit-Agan-Sarit-Agan-Sarit-Agan-Sarit-Agan-Sarit-Agan-Sarit-Agan-Sarit-Agan-Sarit-Agan-Sarit-Agan-Sarit-Agan-Sarit-Agan-Sarit-Agan-Sarit-Agan-Sarit-Agan-Sarit-Agan-Sarit-Agan-Sarit-Agan-Sarit-Agan-Sarit-Agan-Sarit-Agan-Sarit-Agan-Sarit-Agan-Sarit-Agan-Sarit-Agan-Sarit-Agan-Sarit-Agan-Sarit-Agan-Sarit-Agan-Sarit-Agan-Sarit-Agan-Sarit-Agan-Sarit-Agan-Sarit-Agan-Sarit\n",
      "🔸 Reference: 바람은 파도 소리처럼 쏴아쏴아 하고 머리 맡에서 뒤설렌다.\n"
     ]
    },
    {
     "name": "stderr",
     "output_type": "stream",
     "text": [
      "\r",
      " 31%|███       | 31/100 [00:28<01:06,  1.03it/s]"
     ]
    },
    {
     "name": "stdout",
     "output_type": "stream",
     "text": [
      "\n",
      "🔹 Predicted: シンアイリーの出さずに、バランはやり方に行く\n",
      "🔸 Reference: 춘우에게 이 모든 사정의 말을 하여 버릴까.\n"
     ]
    },
    {
     "name": "stderr",
     "output_type": "stream",
     "text": [
      "\r",
      " 32%|███▏      | 32/100 [00:31<01:52,  1.66s/it]"
     ]
    },
    {
     "name": "stdout",
     "output_type": "stream",
     "text": [
      "\n",
      "🔹 Predicted: きりゃにするのが、それが今、今、今、今、今、今、今、今、今、今、今、今、今、今、今、今、今、今、今、今、今、今、今、今、今、今、今、今、今、今、今、今、今、今、今、今、今、今、今、今、今、今、今、今、今、今、今、今、今、今、今、今、今、今、今、今、今、今、今、今、今、今、今、今、今、今、今、今、今、今、今、今、今、今、今、今、今、今、今、今、今、今、今、今、今、今、今、今、今、今、今、今、今、今、今、今、今、今、今、今、今、今、今、今、今、今、今、今、今、今、今、今、今、今、今、今、今、今、今、今、今、今、今、今、今、今、今、今、今、今、今、今、今、今、今、今、今、今、今、今、今、今、今、今、今、今、今、今、今、今、今、今、今、今、今、今、今、今、今、今、今、今、今、今、今、今、今、今、今、今、今、今、今、今、今、今、今、今、今、今、今、今、今、今、今、今、今、今、今、今、今、今、今、今、今、今、今、今、今、今、今、今、今、今、今、今、今、今、今、今、今、今、今、今、今、今、今、\n",
      "🔸 Reference: 길 가는 사람이 걱정을 하리만큼 그의 걸음은 황급하였다.\n"
     ]
    },
    {
     "name": "stderr",
     "output_type": "stream",
     "text": [
      " 34%|███▍      | 34/100 [00:35<01:42,  1.56s/it]"
     ]
    },
    {
     "name": "stdout",
     "output_type": "stream",
     "text": [
      "\n",
      "🔹 Predicted:  소문은 그는 그는 그는 그는 그는 그는 그는 그는 그는 그는 그는 그는 그는 그는 그는 그는 그는 그는 그는 그는 그는 그는 그는 그는 그는 그는 그는 그는 그는 그는 그는 그는 그는 그는 그는 그는 그는 그는 그는 그는 그는 그는 그는 그는 그는 그는 그는 그는 그는 그는 그는 그는 그는 그는 그는 그는 그는 그는 그는 그는 그는 그는 그는 그는 그는 그는 그는 그는 그는 그는 그는 그는 그는 그는 그는 그는 그는 그는 그는 그는 그는 그는 그는 그는 그는 그는 그는 그는 그는 그는 그는 그는 그는 그는 그는 그는 그는 그는 그는 그는 그는 그는 그는 그는 그는 그는 그는 그는 그는 그는 그는 그는 그는 그는 그는 그는 그는 그는 그는 그는 그는 그는 그는 그는 그는 그는 그는 그는 그는 그는 그는 그는 그는 그는 그는 그는 그는 그는 그는 그는 그는 그는 그는 그는 그는 그는 그는 그는 그는 그는 그는 그는 그는 그는 그는 그는 그는 그는 그는 그는 그는 그는 그는 그는 그는 그는 그는 그는 그는 그는 그는 그는 그는 그는 그는 그는 그는 그는 그는 그는 그는 그는 그는 그는 그는 그는 그는 그는 그는 그는 그는 그는 그는 그는 그는 그는 그는 그는 그는 그는 그는 그는 그는 그는 그는 그는 그는 그는 그는 그는 그는 그는 그는 그는 그는 그는 그는 그는 그는 그는 그\n",
      "🔸 Reference: 선비는 간난이가 저렇게 늦게 돌아올 때마다 무엇을 깊이 생각하는 것이 수상스러웠다.\n",
      "\n",
      "🔹 Predicted:  Tod und anderen bepüßen und schließt sich die Ersinnung.\n",
      "🔸 Reference: 부엌은 아름답게 장식되었습니다.\n"
     ]
    },
    {
     "name": "stderr",
     "output_type": "stream",
     "text": [
      "\r",
      " 35%|███▌      | 35/100 [00:35<01:14,  1.14s/it]"
     ]
    },
    {
     "name": "stdout",
     "output_type": "stream",
     "text": [
      "\n",
      "🔹 Predicted:  심지어는 난은이 가슴으로 돌아올 것 같다.\n",
      "🔸 Reference: 신철이는 할멈이 깨었으므로 그만 낙망을 하였다.\n"
     ]
    },
    {
     "name": "stderr",
     "output_type": "stream",
     "text": [
      "\r",
      " 36%|███▌      | 36/100 [00:35<00:55,  1.16it/s]"
     ]
    },
    {
     "name": "stdout",
     "output_type": "stream",
     "text": [
      "\n",
      "🔹 Predicted:  늙지 않으면 그가의 목소리가 들을 것 같지 않는지 알았다.\n",
      "🔸 Reference: 납작한 얼굴을 쳐들고 첫째의 눈치를 살살 본다.\n"
     ]
    },
    {
     "name": "stderr",
     "output_type": "stream",
     "text": [
      " 38%|███▊      | 38/100 [00:35<00:31,  1.96it/s]"
     ]
    },
    {
     "name": "stdout",
     "output_type": "stream",
     "text": [
      "\n",
      "🔹 Predicted: 当たら県の県の県が近く、全然町の広島にある\n",
      "🔸 Reference: 아담과 그 아내가 여호와 하나님의 낯을 피하여 동산 나무 사이에 숨은지라\n",
      "\n",
      "🔹 Predicted: 그는 두 번째가의 입고있습니다.\n",
      "🔸 Reference: 나는 두 번째 그에게 물었습니다.\n"
     ]
    },
    {
     "name": "stderr",
     "output_type": "stream",
     "text": [
      "\r",
      " 39%|███▉      | 39/100 [00:39<01:21,  1.34s/it]"
     ]
    },
    {
     "name": "stdout",
     "output_type": "stream",
     "text": [
      "\n",
      "🔹 Predicted: うそし、リリスは、リリスは、リリリリリリリリリリリリリリリリリリリリリリリリリリリリリリリリリリリリリリリリリリリリリリリリリリリリリリリリリリリリリリリリリリリリリリリリリリリリリリリリリリリリリリリリリリリリリリリリリリリリリリリリリリリリリリリリリリリリリリリリリリリリリリリリリリリリリリリリリリリリリリリリリリリリリリリリリリリリリリリリリリリリリリリリリリリリリリリリリリリリリリリリリリリリリリリリリリリリリリリリリリリリリリリリリリリリリリリリリリリリリリリリリリリリリリリリリリリリリリリリリリリリリリリリリリリリリリリリリリリリリリリリリリリリリリリリリリリリリリリリリリリリリリリリリリリリリリリリリリリリリリリリリリリリリリリリリリリリリリリリリリリリリリリリリリリリリリリリリリリリリリリリリリリリリリリリリリリリリリリリリリリリリリリリリリリリリリリリリリリリリリリリリリリリリリリリリリリリリリリリリリリリリリリリリリリリリリリリリリリリリリリリリリリリリリ\n",
      "🔸 Reference: 무소식이 희소식이다\n"
     ]
    },
    {
     "name": "stderr",
     "output_type": "stream",
     "text": [
      "\r",
      " 40%|████      | 40/100 [00:39<01:00,  1.01s/it]"
     ]
    },
    {
     "name": "stdout",
     "output_type": "stream",
     "text": [
      "\n",
      "🔹 Predicted: 그는 대답 대신에 나의 흥렬을 낳을 수 있으러 싶어.\n",
      "🔸 Reference: 그는 대답 대신에 늘 이렇게 웃는 것이 버릇이다.\n"
     ]
    },
    {
     "name": "stderr",
     "output_type": "stream",
     "text": [
      " 42%|████▏     | 42/100 [00:39<00:33,  1.71it/s]"
     ]
    },
    {
     "name": "stdout",
     "output_type": "stream",
     "text": [
      "\n",
      "🔹 Predicted:  그저가 의각 지식을 억울한 것과의 공격을 억울한 것과의 사회가\n",
      "🔸 Reference: 대저 너희가 지식을 미워하며 여호와 경외하기를 즐거워하지 아니하며\n",
      "\n",
      "🔹 Predicted: 県庫設定的書県庫\n",
      "🔸 Reference: 경기 시작됐습니다.\n"
     ]
    },
    {
     "name": "stderr",
     "output_type": "stream",
     "text": [
      "\r",
      " 43%|████▎     | 43/100 [00:39<00:28,  2.01it/s]"
     ]
    },
    {
     "name": "stdout",
     "output_type": "stream",
     "text": [
      "\n",
      "🔹 Predicted:  송아리의 띠스와의 물이 담어 대체로서 등무의 억대하며 대척다.\n",
      "🔸 Reference: 선비는 육백삼호인 가마 곁으로 와서 동무의 어깨를 가볍게 쳤다.\n"
     ]
    },
    {
     "name": "stderr",
     "output_type": "stream",
     "text": [
      " 45%|████▌     | 45/100 [00:40<00:19,  2.86it/s]"
     ]
    },
    {
     "name": "stdout",
     "output_type": "stream",
     "text": [
      "\n",
      "🔹 Predicted:  그의 저처럼 나나와 린 암 린을 임몰고 깊은 지하십니까.\n",
      "🔸 Reference: 그래서 간난 어머니는 눈을 둥그렇게 뜨고 눈치를 살폈다.\n",
      "\n",
      "🔹 Predicted:  그저 또는 그 눈에 눈에 눈을 저와 들은 게 싫다.\n",
      "🔸 Reference: 그러자 엉엉 하고 우는 개똥이의 곡성을 들은 듯싶다.\n"
     ]
    },
    {
     "name": "stderr",
     "output_type": "stream",
     "text": [
      "\r",
      " 46%|████▌     | 46/100 [00:40<00:16,  3.35it/s]"
     ]
    },
    {
     "name": "stdout",
     "output_type": "stream",
     "text": [
      "\n",
      "🔹 Predicted: Kanab was also a book writer, who was also a musician of Saka.\n",
      "🔸 Reference: 그러나 무엇이라고 꼭 집어대어 철수와 같이 술술 지껄일수는 없었다.\n"
     ]
    },
    {
     "name": "stderr",
     "output_type": "stream",
     "text": [
      "\r",
      " 47%|████▋     | 47/100 [00:40<00:15,  3.50it/s]"
     ]
    },
    {
     "name": "stdout",
     "output_type": "stream",
     "text": [
      "\n",
      "🔹 Predicted:  그는 의식이 동의하자 있는 것에 한친다고 진진발도 한한한 그의하는 것이다.\n",
      "🔸 Reference: 고난의 시기에 동요하지 않는 것은 진정 칭찬받을 만한 뛰어난 인물의 증거다.\n"
     ]
    },
    {
     "name": "stderr",
     "output_type": "stream",
     "text": [
      "\r",
      " 48%|████▊     | 48/100 [00:41<00:14,  3.68it/s]"
     ]
    },
    {
     "name": "stdout",
     "output_type": "stream",
     "text": [
      "\n",
      "🔹 Predicted:  가우신은 다시 그의 집주시신을 하여자 한가의 띄우스 온대\n",
      "🔸 Reference: 영신은 다시 부르짖듯이 신앙의 대상자에게 호소한다.\n"
     ]
    },
    {
     "name": "stderr",
     "output_type": "stream",
     "text": [
      "\r",
      " 49%|████▉     | 49/100 [00:41<00:13,  3.67it/s]"
     ]
    },
    {
     "name": "stdout",
     "output_type": "stream",
     "text": [
      "\n",
      "🔹 Predicted: けれども, 선비의 그 그의 나의 의의 소라의 뒷으로 지나치는 것을 그는 확실히 들어간다.\n",
      "🔸 Reference: 그리고 선비의 그 고운 얼굴이 미소를 띠고 지나치는 것을 그는 확실히 보았다.\n"
     ]
    },
    {
     "name": "stderr",
     "output_type": "stream",
     "text": [
      " 51%|█████     | 51/100 [00:41<00:10,  4.60it/s]"
     ]
    },
    {
     "name": "stdout",
     "output_type": "stream",
     "text": [
      "\n",
      "🔹 Predicted: 다운이 들으나 뱉지 않으나 뱉은 김아노가 싼다다.\n",
      "🔸 Reference: 나의 교훈을 받지 아니하고 나의 모든 책망을 업신여겼음이라\n",
      "\n",
      "🔹 Predicted:  기차는 저의 운명과\n",
      "🔸 Reference: 개천에서 용 난다\n"
     ]
    },
    {
     "name": "stderr",
     "output_type": "stream",
     "text": [
      "\r",
      " 52%|█████▏    | 52/100 [00:42<00:11,  4.23it/s]"
     ]
    },
    {
     "name": "stdout",
     "output_type": "stream",
     "text": [
      "\n",
      "🔹 Predicted: 라면 그 안에 부부가 오는 순간, 그 안에 그까지 긴 장득으로 운전자 시원하셨으나.\n",
      "🔸 Reference: 나는 그 알레그로가 울리어 나오는 순간 마음은 끝까지 긴장되고 흥분되었습니다.\n"
     ]
    },
    {
     "name": "stderr",
     "output_type": "stream",
     "text": [
      "\r",
      " 53%|█████▎    | 53/100 [00:42<00:10,  4.29it/s]"
     ]
    },
    {
     "name": "stdout",
     "output_type": "stream",
     "text": [
      "\n",
      "🔹 Predicted:  손 띠다 이 흔들냐가 오는지가 벌써 거의 일한 일에 온다.\n",
      "🔸 Reference: 선비가 이 공장에 들어온 지가 벌써 거의 일년이 되어 온다.\n"
     ]
    },
    {
     "name": "stderr",
     "output_type": "stream",
     "text": [
      "\r",
      " 54%|█████▍    | 54/100 [00:42<00:10,  4.35it/s]"
     ]
    },
    {
     "name": "stdout",
     "output_type": "stream",
     "text": [
      "\n",
      "🔹 Predicted: ぼうそぐといったようなような形のような気が入り方にすると\n",
      "🔸 Reference: 벌써부터 이런 생각을 가졌으나 용이하게 기회를 타는 수가 없었다.\n"
     ]
    },
    {
     "name": "stderr",
     "output_type": "stream",
     "text": [
      "\r",
      " 55%|█████▌    | 55/100 [00:42<00:10,  4.19it/s]"
     ]
    },
    {
     "name": "stdout",
     "output_type": "stream",
     "text": [
      "\n",
      "🔹 Predicted: Kinan trinit doga, uran trinit erau, sin trit erau, muoseoseoseppe.\n",
      "🔸 Reference: 그는 종잇조각과 연필을 내어 신철에게 무엇을 써서 보였다.\n"
     ]
    },
    {
     "name": "stderr",
     "output_type": "stream",
     "text": [
      "\r",
      " 56%|█████▌    | 56/100 [00:45<00:50,  1.15s/it]"
     ]
    },
    {
     "name": "stdout",
     "output_type": "stream",
     "text": [
      "\n",
      "🔹 Predicted: 々々々々々々々々々々々々々々々々々々々々々々々々々々々々々々々々々々々々々々々々々々々々々々々々々々々々々々々々々々々々々々々々々々々々々々々々々々々々々々々々々々々々々々々々々々々々々々々々々々々々々々々々々々々々々々々々々々々々々々々々々々々々々々々々々々々々々々々々々々々々々々々々々々々々々々々々々々々々々々々々々々々々々々々々々々々々々々々々々々々々々々々々々々々々々々々々々々々々々々々々々々々々々々々々々々々々々々々々々々々々々々々々々々々々々々々々々々々々々々々々々々々々々々々々々々々々々々々々々々々々々々々々々々々々々々々々々々々々々々々々々々々々々々々々々々々々々々々々々々々々々々々々々々々々々々々々々々々々々々々々々々々々々々々々々々々々々々々々々々々々々々々々々々々々々々々々々々々々々々々々々々々々々々々々々々々々々々々々々々々々々々々々々々々々々々々々々々々々々々々々々々々々々々々々々々々々々々々々々々々々々々々々々々々々々々々々々々々々々々々々々々々々\n",
      "🔸 Reference: 헌법재판소 재판관은 정당에 가입하거나 정치에 관여할 수 없다.\n"
     ]
    },
    {
     "name": "stderr",
     "output_type": "stream",
     "text": [
      "\r",
      " 57%|█████▋    | 57/100 [00:46<00:37,  1.16it/s]"
     ]
    },
    {
     "name": "stdout",
     "output_type": "stream",
     "text": [
      "\n",
      "🔹 Predicted: Jubaran,川県市から会員がなく、県民に行った。\n",
      "🔸 Reference: 이번엔 제법 목소리가 패인 남학생의 질문이 들어왔다.\n"
     ]
    },
    {
     "name": "stderr",
     "output_type": "stream",
     "text": [
      "\r",
      " 58%|█████▊    | 58/100 [00:46<00:28,  1.48it/s]"
     ]
    },
    {
     "name": "stdout",
     "output_type": "stream",
     "text": [
      "\n",
      "🔹 Predicted: 상은 보나식대로 억무한 시퇴가의 흔돌아지 마다.\n",
      "🔸 Reference: 한번의 실패와 영원한 실패를 혼동하지 마라.\n"
     ]
    },
    {
     "name": "stderr",
     "output_type": "stream",
     "text": [
      " 60%|██████    | 60/100 [00:49<00:42,  1.07s/it]"
     ]
    },
    {
     "name": "stdout",
     "output_type": "stream",
     "text": [
      "\n",
      "🔹 Predicted: 同学に国会会所传々に国会会会会会会会会会会会会会会会会会会会会会会会会会会会会会会会会会会会会会会会会会会会会会会会会会会会会会会会会会会会会会会会会会会会会会会会会会会会会会会会会会会会会会会会会会会会会会会会会会会会会会会会会会会会会会会会会会会会会会会会会会会会会会会会会会会会会会会会会会会会会会会会会会会会会会会会会会会会会会会会会会会会会会会会会会会会会会会会会会会会会会会会会会会会会会会会会会会会会会会会会会会会会会会会会会会会会会会会会会会会会会会会会会会会会会会会会会会会会会会会会会会会会会会会会会会会会会会会会会会会会会会会会会会会会会会会会会会会会会会会会会会会会会会会会会会会会会会会会会会会会会会会会会会会会会会会会会会会会会会会会会会会会会会会会会会会会会会会会会会会会会会会会会会会会会会会会会会会会会会会会会会会会会会会会会会会会会会会会会会会会会会会会会会会会会会会会会会会会会会会会会会会会会会会会会会会会会会会会会会会会会会会会会会会会会会会会\n",
      "🔸 Reference: 방망이 소리는 그가 걸을수록 점점 희미하게 들렸다.\n",
      "\n",
      "🔹 Predicted:  그와당의 그는 한 정무가의 사회의가 같은가\n",
      "🔸 Reference: 모든 국민은 학문과 예술의 자유를 가진다.\n"
     ]
    },
    {
     "name": "stderr",
     "output_type": "stream",
     "text": [
      " 62%|██████▏   | 62/100 [00:50<00:23,  1.59it/s]"
     ]
    },
    {
     "name": "stdout",
     "output_type": "stream",
     "text": [
      "\n",
      "🔹 Predicted:  곧선 드는 두고장은 곧선 본인의 편안하게 깨고 온지 않지만, 그는 이 대가 진떡다.\n",
      "🔸 Reference: 학생 또는 보호자는 학생 본인에 관한 학교 기록을 언제든지 열람할 권리를 가진다.\n",
      "\n",
      "🔹 Predicted:  그난 감은 이 대척도 들었다.\n",
      "🔸 Reference: 그는 담 밑에 착 붙어 섰다.\n"
     ]
    },
    {
     "name": "stderr",
     "output_type": "stream",
     "text": [
      "\r",
      " 63%|██████▎   | 63/100 [00:53<00:52,  1.41s/it]"
     ]
    },
    {
     "name": "stdout",
     "output_type": "stream",
     "text": [
      "\n",
      "🔹 Predicted:  소방은 왜 질기? 그의 흥득한가가가가가가가가가가가가가가가가가가가가가가가가가가가가가가가가가가가가가가가가가가가가가가가가가가가가가가가가가가가가가가가가가가가가가가가가가가가가가가가가가가가가가가가가가가가가가가가가가가가가가가가가가가가가가가가가가가가가가가가가가가가가가가가가가가가가가가가가가가가가가가가가가가가가가가가가가가가가가가가가가가가가가가가가가가가가가가가가가가가가가가가가가가가가가가가가가가가가가가가가가가가가가가가가가가가가가가가가가가가가가가가가가가가가가가가가가가가가가가가가가가가가가가가가가가가가가가가가가가가가가가가가가가가가가가가가가가가가가가가가가가가가가가가가가가가가가가가가가가가가가가가가가가가가가가가가가가가가가가가가가가가가가가가가가가가가가가가가가가가가가가가가가가가가가가가가가가가가가가가가가가가가가가가가가가가가가가가가가가가가가가가가가가가가가가가가가가가가가가가가가가가가가가가가가가가가가가가가가가가가가가가가가가가가가\n",
      "🔸 Reference: 사랑은 말이지, 소유하는 게 아니야.\n"
     ]
    },
    {
     "name": "stderr",
     "output_type": "stream",
     "text": [
      " 65%|██████▌   | 65/100 [00:53<00:27,  1.27it/s]"
     ]
    },
    {
     "name": "stdout",
     "output_type": "stream",
     "text": [
      "\n",
      "🔹 Predicted:  저의 난이도 다니두와 그 소금소고는 얇게를 하였다.\n",
      "🔸 Reference: 효애는 여전히 뭐라고 소곤소곤 이야기를 하였다.\n",
      "\n",
      "🔹 Predicted:  정신 뒤에 사연 드는 척당의 전혀 정신이 없다.\n",
      "🔸 Reference: 점심 뒤에 회원들은 잡담을 하며 잠시 쉬었다.\n"
     ]
    },
    {
     "name": "stderr",
     "output_type": "stream",
     "text": [
      " 67%|██████▋   | 67/100 [00:57<00:37,  1.13s/it]"
     ]
    },
    {
     "name": "stdout",
     "output_type": "stream",
     "text": [
      "\n",
      "🔹 Predicted:  이런식은 그저야 그저야 그저야 그저야 그저야 그저야 그저야 그저야 그저야 그저야 그저야 그저야 그저야 그저야 그저야 그저야 그저야 그저야 그저야 그저야 그저야 그저야 그저야 그저야 그저야 그저야 그저야 그저야 그저야 그저야 그저야 그저야 그저야 그저야 그저야 그저야 그저야 그저야 그저야 그저야 그저야 그저야 그저야 그저야 그저야 그저야 그저야 그저야 그저야 그저야 그저야 그저야 그저야 그저야 그저야 그저야 그저야 그저야 그저야 그저야 그저야 그저야 그저야 그저야 그저야 그저야 그저야 그저야 그저야 그저야 그저야 그저야 그저야 그저야 그저야 그저야 그저야 그저야 그저야 그저야 그저야 그저야 그저야 그저야 그저야 그저야 그저야 그저야 그저야 그저야 그저야 그저야 그저야 그저야 그저야 그저야 그저야 그저야 그저야 그저야 그저야 그저야 그저야 그저야 그저야 그저야 그저야 그저야 그저야 그저야 그저야 그저야 그저야 그저야 그저야 그저야 그저야 그저야 그저야 그저야 그저야 그저야 그저야 그저야 그저야 그저야 그저야 그저야 그저야 그저야 그저야 그저야 그저야 그저야 그저야 그저야 그저야 그저야 그저야 그저야 그저야 그저야 그저야 그저야 그저야 그저야 그저야\n",
      "🔸 Reference: 영신은 그제야 그전에 백씨의 집에서 들은 동혁의 말을 되풀이하듯 하였다.\n",
      "\n",
      "🔹 Predicted:  사회가 나의 마음을 알았지만 사회의의 의자의 마음을\n",
      "🔸 Reference: 세상에 나의 마음을 알아 주는 사람이 어디 있어야죠.\n"
     ]
    },
    {
     "name": "stderr",
     "output_type": "stream",
     "text": [
      "\r",
      " 68%|██████▊   | 68/100 [00:57<00:27,  1.18it/s]"
     ]
    },
    {
     "name": "stdout",
     "output_type": "stream",
     "text": [
      "\n",
      "🔹 Predicted:  도와주지지 마요 조금들끈이 편한 것이었다.\n",
      "🔸 Reference: 부르짖으며 저 혼자 감격하는 것이었다.\n"
     ]
    },
    {
     "name": "stderr",
     "output_type": "stream",
     "text": [
      "\r",
      " 69%|██████▉   | 69/100 [00:57<00:21,  1.42it/s]"
     ]
    },
    {
     "name": "stdout",
     "output_type": "stream",
     "text": [
      "\n",
      "🔹 Predicted: 自由は、だが、その隠々、自分から、私、その、大な、絶対、その、その、絶対、私、私、私、私、私、\n",
      "🔸 Reference: 두 아들은 방 속에다 죽은 그 아버지의 송장을 제쳐놓고 서로 잡아삼킬 듯이 다투고 있었습니다.\n"
     ]
    },
    {
     "name": "stderr",
     "output_type": "stream",
     "text": [
      " 71%|███████   | 71/100 [00:58<00:13,  2.22it/s]"
     ]
    },
    {
     "name": "stdout",
     "output_type": "stream",
     "text": [
      "\n",
      "🔹 Predicted:  여자가 편의점으로 가야 되요. 동전의 여식으로 가야 우리가 무보신 수는\n",
      "🔸 Reference: 여자가 뱀에게 말하되 동산 나무의 실과를 우리가 먹을 수 있으나\n",
      "\n",
      "🔹 Predicted:  그 방은 그 바퀴의 징자가 보니깐다.\n",
      "🔸 Reference: 국가는 국가표준제도를 확립한다.\n"
     ]
    },
    {
     "name": "stderr",
     "output_type": "stream",
     "text": [
      " 73%|███████▎  | 73/100 [00:58<00:09,  2.94it/s]"
     ]
    },
    {
     "name": "stdout",
     "output_type": "stream",
     "text": [
      "\n",
      "🔹 Predicted: たら、もっと、いろいろ、もち、あつま、もち、かで、ファンザー、しん、もろ、そば、\n",
      "🔸 Reference: 다른 누구에게도 의지하지 말고 오직 그대 혼자의 힘으로 하라.\n",
      "\n",
      "🔹 Predicted:  아이고는 의자랑 적절하고 인간을 얻었다.\n",
      "🔸 Reference: 까불이는 의자를 버쩍 들어 옮겨 놔주었다.\n"
     ]
    },
    {
     "name": "stderr",
     "output_type": "stream",
     "text": [
      " 75%|███████▌  | 75/100 [00:59<00:06,  3.95it/s]"
     ]
    },
    {
     "name": "stdout",
     "output_type": "stream",
     "text": [
      "\n",
      "🔹 Predicted:  그가 그와의 그 나라 이런 걸 하셨다.\n",
      "🔸 Reference: 그가 좋아할 때마다 이런 버릇이 있었다.\n",
      "\n",
      "🔹 Predicted:  저녁도 한 방은 우정으로부터 소마를 깨진다.\n",
      "🔸 Reference: 탄핵결정은 공직으로부터 파면함에 그친다.\n"
     ]
    },
    {
     "name": "stderr",
     "output_type": "stream",
     "text": [
      " 77%|███████▋  | 77/100 [00:59<00:05,  4.00it/s]"
     ]
    },
    {
     "name": "stdout",
     "output_type": "stream",
     "text": [
      "\n",
      "🔹 Predicted:  한편으로 그가의 오니시나의 차이 수인한다고 그의 오니가 이 아래로 덧끝도 보았니다.\n",
      "🔸 Reference: 한편으로 그가 영신을 될 수 있는 대로 호의로써 이해하려는 것도 물론이다.\n",
      "\n",
      "🔹 Predicted: その人を見ると、私は考えたことが同じ事を考えた\n",
      "🔸 Reference: 선비는 얼굴이 뻘개서 가마에서 뽑혀 나오는 실끝을 들여다보았다.\n"
     ]
    },
    {
     "name": "stderr",
     "output_type": "stream",
     "text": [
      "\r",
      " 78%|███████▊  | 78/100 [01:02<00:25,  1.15s/it]"
     ]
    },
    {
     "name": "stdout",
     "output_type": "stream",
     "text": [
      "\n",
      "🔹 Predicted: Much hat daa du besignete, kann nuna nann an du du du du du du du du du du du du du du du du du du du du du du du du du du du du du du du du du du du du du du du du du du du du du du du du du du du du du du du du du du du du du du du du du du du du du du du du du du du du du du du du du du du du du du du du du du du du du du du du du du du du du du du du du du du du du du du du du du du du du du du du du du du du du du du du du du du du du du du du du du du du du du du du du du du du du du du du du du du du du du du du du du du du du du du du du du du du du du du du du du du du du du du du du du du du du du du du du du du du du du du du du du du du du du du du du du du du du du du du du du du du du du du du du du du du du du du du du du du du du du du du du du du du du du du du du du du du du du du du du du du du du du du du du du du du du du du du du du du du du du du du du du du du du du du du du du du du du du du du du du du du du du du du du du du du du du du du du du du du du du du du du du du du du du du du du du du du du du du du du du du du du du du du du du du du du du du du du du du du du du du du du du du du du du du du du du du du du du du du du du du du du du du du du du du du du du du du du du du du du du du du du du du du du du du du du du du du du du du du du du du du du du du du du du du du\n",
      "🔸 Reference: 무척 배가 고팠음에도 당분간은 아무것도 먹지 않기로 했다.\n"
     ]
    },
    {
     "name": "stderr",
     "output_type": "stream",
     "text": [
      "\r",
      " 79%|███████▉  | 79/100 [01:06<00:37,  1.78s/it]"
     ]
    },
    {
     "name": "stdout",
     "output_type": "stream",
     "text": [
      "\n",
      "🔹 Predicted:  신저 빌난은 저라운은 저라운은 저라운은 저라운은 저라운은 저라운은 저라운은 저라운은 저라운은 저라운은 저라운은 저라운은 저라운은 저라운은 저라운은 저라운은 저라운은 저라운은 저라운은 저라운은 저라운은 저라운은 저라운은 저라운은 저라운은 저라운은 저라운은 저라운은 저라운은 저라운은 저라운은 저라운은 저라운은 저라운은 저라운은 저라운은 저라운은 저라운은 저라운은 저라운은 저라운은 저라운은 저라운은 저라운은 저라운은 저라운은 저라운은 저라운은 저라운은 저라운은 저라운은 저라운은 저라운은 저라운 저라운 저라운은 저라운은 저라운은 저라운은 저라운은 저라운은 저라운은 저라운은 저라운은 저라운은 저라운은 저라운은 저라운은 저라운은 저라운은 저라운은 저라운은 저라운은 저라운은 저라운은 저라운은 저라운은 저라운 저라운 저라운 저라운 저라운 저라운 저라운 저라운 저라운 저라운 저라운 저라운 저라운 저라운 저라운 저라운 저라운 저라운 저라운 저라운 저라운 저라운 저라운 저라운 저라운 저라운 저라운 저라운 저라운 저라운 저라운 저라운 저라운 저라운 저라운 저라운 저라운 저라운 저라운 저라운 저라운 저라운 저라운 저라운\n",
      "🔸 Reference: 신철이는 영철의 우는 소리를 들으며 문밖을 나섰다.\n"
     ]
    },
    {
     "name": "stderr",
     "output_type": "stream",
     "text": [
      "\r",
      " 80%|████████  | 80/100 [01:06<00:26,  1.33s/it]"
     ]
    },
    {
     "name": "stdout",
     "output_type": "stream",
     "text": [
      "\n",
      "🔹 Predicted:  우당수하고 흥량지의 도전을 보러 왔습니다. 이의 비밀과 생각하여 도움이 없었다.\n",
      "🔸 Reference: 혹은 사오십 년 뒤에 조선을 무대로 생겨날 이야기라고 생각하여도 좋다.\n",
      "\n",
      "🔹 Predicted:  그의 미소가서\n",
      "🔸 Reference: 어디서 오셨어요?\n"
     ]
    },
    {
     "name": "stderr",
     "output_type": "stream",
     "text": [
      "\r",
      " 82%|████████▏ | 82/100 [01:06<00:14,  1.25it/s]"
     ]
    },
    {
     "name": "stdout",
     "output_type": "stream",
     "text": [
      "\n",
      "🔹 Predicted: とくも、みんなの一緒について、そんび、おまんじりと、僕のことがある。\n",
      "🔸 Reference: 덕호는 문 안에 선 채 선비 어머니를 바라보며 걱정을 한다.\n"
     ]
    },
    {
     "name": "stderr",
     "output_type": "stream",
     "text": [
      "\r",
      " 83%|████████▎ | 83/100 [01:10<00:24,  1.41s/it]"
     ]
    },
    {
     "name": "stdout",
     "output_type": "stream",
     "text": [
      "\n",
      "🔹 Predicted:  그의 그의 그의 그의 그의 그의 그의 그의 그의 그의 그의 그의 그의 그의 그의 그의 그의 그의 그의 그의 그의 그의 그의 그의 그의 그의 그의 그의 그의 그의 그의 그의 그의 그의 그의 그의 그의 그의 그의 그의 그의 그의 그의 그의 그의 그의 그의 그의 그의 그의 그의 그의 그의 그의 그의 그의 그의 그의 그의 그의 그의 그의 그의 그의 그의 그의 그의 그의 그의 그의 그의 그의 그의 그의 그의 그의 그의 그의 그의 그의 그의 그의 그의 그의 그의 그의 그의 그의 그의 그의 그의 그의 그의 그의 그의 그의 그의 그의 그의 그의 그의 그의 그의 그의 그의 그의 그의 그의 그의 그의 그의 그의 그의 그의 그의 그의 그의 그의 그의 그의 그의 그의 그의 그의 그의 그의 그의 그의 그의 그의 그의 그의 그의 그의 그의 그의 그의 그의 그의 그의 그의 그의 그의 그의 그의 그의 그의 그의 그의 그의 그의 그의 그의 그의 그의 그의 그의 그의 그의 그의 그의 그의 그의 그의 그의 그의 그의 그의 그의 그의 그의 그의 그의 그의 그의 그의 그의 그의 그의 그의 그의 그의 그의 그의 그의 그의 그의 그의 그의 그의 그의 그의 그의 그의 그의 그의 그의 그의 그의 그의 그의 그의 그의 그의 그의 그의 그의 그의 그의 그의 그의 그의 그의 그의 그의 그의 그의 그의 그의 그의 그의 그의\n",
      "🔸 Reference: 그리고 무어라고 손질을 두어 번 치고 모밀 밭뒤로 사라진다.\n"
     ]
    },
    {
     "name": "stderr",
     "output_type": "stream",
     "text": [
      "\r",
      " 84%|████████▍ | 84/100 [01:10<00:18,  1.13s/it]"
     ]
    },
    {
     "name": "stdout",
     "output_type": "stream",
     "text": [
      "\n",
      "🔹 Predicted:  생비밀의 지압을 부면 지자의 나나가 피하자랑도 깨끗해서 그논을 두껍고 싶다.\n",
      "🔸 Reference: 선비는 씨아틀도 만지지 않으면 앞이 허전한 것 같아서 그냥 붙들고 있었다.\n"
     ]
    },
    {
     "name": "stderr",
     "output_type": "stream",
     "text": [
      "\r",
      " 85%|████████▌ | 85/100 [01:10<00:13,  1.11it/s]"
     ]
    },
    {
     "name": "stdout",
     "output_type": "stream",
     "text": [
      "\n",
      "🔹 Predicted: 두시에 정보나 더 더 낙고놀이 그의 전신을 못한 뒤의 스톱하였다.\n",
      "🔸 Reference: 동시에 잠깐 잊었던 아픔이 그의 전신을 못 견디게 습격하였다.\n"
     ]
    },
    {
     "name": "stderr",
     "output_type": "stream",
     "text": [
      "\r",
      " 86%|████████▌ | 86/100 [01:11<00:10,  1.38it/s]"
     ]
    },
    {
     "name": "stdout",
     "output_type": "stream",
     "text": [
      "\n",
      "🔹 Predicted:  첫째는 이런 저의 무볶다가 다시 그 그의 지회를 한 벗기까지 돌아서 그의 집으로 왔다.\n",
      "🔸 Reference: 첫째는 무정처하고 걷다가 다시 덕호의 집 주위를 한 바퀴 돌아서 그의 집으로 왔다.\n"
     ]
    },
    {
     "name": "stderr",
     "output_type": "stream",
     "text": [
      " 88%|████████▊ | 88/100 [01:11<00:05,  2.16it/s]"
     ]
    },
    {
     "name": "stdout",
     "output_type": "stream",
     "text": [
      "\n",
      "🔹 Predicted: さらに、通りのさり、どれらの場所にしてほう。\n",
      "🔸 Reference: 사회 교화자로서의 의견을 말씀해주십쇼.\"\n",
      "\n",
      "🔹 Predicted:  그는 마치 날과 자극의 의식을 붙여 보다\n",
      "🔸 Reference: 그는 마침내 구역질을 욱 하고 하였다.\n"
     ]
    },
    {
     "name": "stderr",
     "output_type": "stream",
     "text": [
      " 90%|█████████ | 90/100 [01:11<00:03,  3.08it/s]"
     ]
    },
    {
     "name": "stdout",
     "output_type": "stream",
     "text": [
      "\n",
      "🔹 Predicted:  전우와 가랑 조인 뒤 들어와 전우와 노록아들의 든 차량으로 손하였다.\n",
      "🔸 Reference: 장로와 다른 교인들이 들어와 병원으로 가기를 번차례로 권하였다.\n",
      "\n",
      "🔹 Predicted:  그의 적은은 참을 쳐봐요.\n",
      "🔸 Reference: 그래서 그는 잘못 찾아왔는가 하여 도로 나와서 주저하다가 다시 들어갔다.\n"
     ]
    },
    {
     "name": "stderr",
     "output_type": "stream",
     "text": [
      "\r",
      " 91%|█████████ | 91/100 [01:11<00:02,  3.74it/s]"
     ]
    },
    {
     "name": "stdout",
     "output_type": "stream",
     "text": [
      "\n",
      "🔹 Predicted: 너는 마음이 곁떡도 없이\n",
      "🔸 Reference: 나는 아무 걱정도 없이\n"
     ]
    },
    {
     "name": "stderr",
     "output_type": "stream",
     "text": [
      "\r",
      " 92%|█████████▏| 92/100 [01:12<00:02,  3.39it/s]"
     ]
    },
    {
     "name": "stdout",
     "output_type": "stream",
     "text": [
      "\n",
      "🔹 Predicted: ภันันด้วยน้าภันที่เป็นกันด้วยนะธานที่เป็นกันด้วยนะ\n",
      "🔸 Reference: 평안도 어느 산 깊은 금덤판.\n"
     ]
    },
    {
     "name": "stderr",
     "output_type": "stream",
     "text": [
      "\r",
      " 93%|█████████▎| 93/100 [01:12<00:02,  3.41it/s]"
     ]
    },
    {
     "name": "stdout",
     "output_type": "stream",
     "text": [
      "\n",
      "🔹 Predicted:  대답도 그가 양도가 만장도 바깥으로 피곤하진요. 김천지에 뒤쳐서 마시려.\n",
      "🔸 Reference: 비록 고구라 양복일 망정 노박이로 비를 맞으며 김첨지를 뒤쫓아 나왔으랴.\n"
     ]
    },
    {
     "name": "stderr",
     "output_type": "stream",
     "text": [
      "\r",
      " 94%|█████████▍| 94/100 [01:15<00:07,  1.18s/it]"
     ]
    },
    {
     "name": "stdout",
     "output_type": "stream",
     "text": [
      "\n",
      "🔹 Predicted:  저랑 오는 면 소리의 아픈 물, 소리의 오는 면 소리의 아픈 면 소리의 아픈 면 소리의 아픈 면 소리의 아픈 면 소리의 아픈 면 소리의 아픈 면 소리의 아픈 면 소리의 아픈 면 소리의 아픈 면 소리의 아픈 면 소리의 아픈 면 소리의 아픈 면 소리의 아픈 면 소리의 아픈 면 소리의 아픈 면 소리의 아픈 면 소리의 아픈 면 소리의 아픈 면 소리의 아픈 면 소리의 아픈 면 소리의 아픈 면 소리의 아픈 면 소리의 아픈 면 소리의 아픈 면 소리의 아픈 면 소리의 아픈 면 소리의 아픈 면 소리의 아픈 면 소리의 아픈 면 소리의 아픈 면 소리의 아픈 면 소리의 아픈 면 소리의 아픈 면 소리의 아픈 면 소리의 아픈 면 소리의 아픈 면 소리의 아픈 면 소리의 아픈 면 소리의 아픈 면 소리의 아픈 면 소리의 아픈 면 소리의 아픈 면 소리의 아픈 면 소리의 아픈 면 소리의 아픈 면 소리의 아픈 면 소리의 아픈 면 소리의 아픈 면 소리의 아픈 면 소리의 아픈 면 소리의 아픈 면 소리의 아픈 면 소리의 아픈 면 소리의 아픈 면 소리의 아픈 면 소리의 아픈 면 소리의 아픈 면 소리의 아픈 면 소리의 아픈 면 소리의 아픈 면 소리의 아픈\n",
      "🔸 Reference: 팔을 놀리면 팔이 아프고 다리를 놀리면 다리가 아팠다.\n"
     ]
    },
    {
     "name": "stderr",
     "output_type": "stream",
     "text": [
      " 96%|█████████▌| 96/100 [01:16<00:02,  1.46it/s]"
     ]
    },
    {
     "name": "stdout",
     "output_type": "stream",
     "text": [
      "\n",
      "🔹 Predicted:  그가 본 나나 소리를 사어거나 소리를 잡지 않으면 소리가 센을 두시가 진들\n",
      "🔸 Reference: 그가 방문을 소리 없이 열고 나서니 옆집에서는 시계가 새로 두시를 친다.\n",
      "\n",
      "🔹 Predicted: アンスが音が一つ一つ県の音があると\n",
      "🔸 Reference: 영숙은 다시 춘우의 마음을 헤아려 보았다.\n"
     ]
    },
    {
     "name": "stderr",
     "output_type": "stream",
     "text": [
      "\r",
      " 97%|█████████▋| 97/100 [01:16<00:01,  1.81it/s]"
     ]
    },
    {
     "name": "stdout",
     "output_type": "stream",
     "text": [
      "\n",
      "🔹 Predicted: 불어부터 발언을 낳던가 한층도가 마치의 물을 타는 것 같다.\n",
      "🔸 Reference: 본래부터 뼈만 남았던 그가 한층 더하여 마치 해골을 대하는 듯하였다.\n"
     ]
    },
    {
     "name": "stderr",
     "output_type": "stream",
     "text": [
      "\r",
      " 98%|█████████▊| 98/100 [01:19<00:02,  1.36s/it]"
     ]
    },
    {
     "name": "stdout",
     "output_type": "stream",
     "text": [
      "\n",
      "🔹 Predicted: キャラだったものと言ったら、きっと、きっと、きっと、きっと、きっと、きっと、きっと、きっと、きっと、きっと、きっと、きっと、きっと、きっと、きっと、きっと、きっと、きっと、きっと、きっと、きっと、きっと、きっと、きっと、きっと、きっと、きっと、きっと、きっと、きっと、きっと、きっと、きっと、きっと、きっと、きっと、きっと、きっと、きっと、きっと、きっと、きっと、きっと、きっと、きっと、きっと、きっと、きっと、きっと、きっと、きっと、きっと、きっと、きっと、きっと、きっと、きっと、きっと、きっと、きっと、きっと、きっと、きっと、きっと、きっと、きっと、きっと、きっと、きっと、きっと、きっと、きっと、きっと、きっと、きっと、きっと、きっと、きっと、きっと、きっと、きっと、きっと、きっと、きっと、きっと、きっと、きっと、きっと、きっと、きっと、きっと、きっと、きっと、きっと、きっと、きっと、きっと、きっと、きっと、きっと、きっと、きっと、きっと、きっと、きっと、きっと、きっと、きっと、きっと、きっと、きっと、きっと、きっと、きっと、きっと、きっと、きっと、きっと、きっと、きっと、きっと、きっと、きっと、きっと、きっと、きっと、きっと、きっと、きっと、きっと、きっと、きっと、きっと、きっと、きっと、きっと、きっと、きっと、きっと、きっと、きっと、きっと、きっと、きっと、き\n",
      "🔸 Reference: 그래봐야 아무것도 얻을 것이 없다.\n"
     ]
    },
    {
     "name": "stderr",
     "output_type": "stream",
     "text": [
      "\r",
      " 99%|█████████▉| 99/100 [01:23<00:01,  1.94s/it]"
     ]
    },
    {
     "name": "stdout",
     "output_type": "stream",
     "text": [
      "\n",
      "🔹 Predicted:  그가는 그의가 그가는 그가가가가가가가가가가가가가가가가가가가가가가가가가가가가가가가가가가가가가가가가가가가가가가가가가가가가가가가가가가가가가가가가가가가가가가가가가가가가가가가가가가가가가가가가가가가가가가가가가가가가가가가가가가가가가가가가가가가가가가가가가가가가가가가가가가가가가가가가가가가가가가가가가가가가가가가가가가가가가가가가가가가가가가가가가가가가가가가가가가가가가가가가가가가가가가가가가가가가가가가가가가가가가가가가가가가가가가가가가가가가가가가가가가가가가가가가가가가가가가가가가가가가가가가가가가가가가가가가가가가가가가가가가가가가가가가가가가가가가가가가가가가가가가가가가가가가가가가가가가가가가가가가가가가가가가가가가가가가가가가가가가가가가가가가가가가가가가가가가가가가가가가가가가가가가가가가가가가가가가가가가가가가가가가가가가가가가가가가가가가가가가가가가가가가가가가가가가가가가가가가가가가가가가가가가가가가가가가가가가가가가가가가가가가가가가가가가가\n",
      "🔸 Reference: 고즈넉히 일어서서 피아노 앞에 가서 그의 어깨에 가만히 손을 얹었습니다.\n"
     ]
    },
    {
     "name": "stderr",
     "output_type": "stream",
     "text": [
      "100%|██████████| 100/100 [01:23<00:00,  1.20it/s]"
     ]
    },
    {
     "name": "stdout",
     "output_type": "stream",
     "text": [
      "\n",
      "🔹 Predicted:  난 당부 사과한 손으로 당할지 마을 뒤로 다하셨을 것 같아.\n",
      "🔸 Reference: 난장보살은 호미로 땅을 치며 이렇게 소리쳤다.\n",
      "\n",
      "✅ KO WER: 3.2878\n",
      "\n",
      "🌍 Language: en\n"
     ]
    },
    {
     "name": "stderr",
     "output_type": "stream",
     "text": [
      "\n",
      "  1%|          | 1/100 [00:00<00:45,  2.18it/s]"
     ]
    },
    {
     "name": "stdout",
     "output_type": "stream",
     "text": [
      "\n",
      "🔹 Predicted: Miskeleiske sich der Verholen sagt, in der Neurbebeirteleks.\n",
      "🔸 Reference: This device has a cathode inside an anode wire cage.\n",
      "\n",
      "🔹 Predicted: Mess vor garter Zuruß durch was für das Banking des Herrers der Fett.\n",
      "🔸 Reference: This product is almost always produced by the industrialized method.\n"
     ]
    },
    {
     "name": "stderr",
     "output_type": "stream",
     "text": [
      "  4%|▍         | 4/100 [00:00<00:19,  5.01it/s]"
     ]
    },
    {
     "name": "stdout",
     "output_type": "stream",
     "text": [
      "\n",
      "🔹 Predicted: It is named after Edward S. Hamilton-Hunter.\n",
      "🔸 Reference: It is named after Edward Singleton Holden.\n",
      "\n",
      "🔹 Predicted: Das North West der wir die Loser-Dorf-Fall.\n",
      "🔸 Reference: It is north west of the regional centre of Clare.\n"
     ]
    },
    {
     "name": "stderr",
     "output_type": "stream",
     "text": [
      "  6%|▌         | 6/100 [00:01<00:15,  5.93it/s]"
     ]
    },
    {
     "name": "stdout",
     "output_type": "stream",
     "text": [
      "\n",
      "🔹 Predicted: He was an American woman who had known South Wales as a Dutch scholar.\n",
      "🔸 Reference: He was a nephew of Rear-Admiral Sir Francis Augustus Collier.\n",
      "\n",
      "🔹 Predicted: Wir werden zusammen daun, die er damit ersetzen.\n",
      "🔸 Reference: Leaving for some darn camp in Mississippi.\n"
     ]
    },
    {
     "name": "stderr",
     "output_type": "stream",
     "text": [
      "\r",
      "  7%|▋         | 7/100 [00:01<00:17,  5.24it/s]"
     ]
    },
    {
     "name": "stdout",
     "output_type": "stream",
     "text": [
      "\n",
      "🔹 Predicted: Aunutweinungsholung, zaggenwanne, das zu dieser Woche der Tögel an.\n",
      "🔸 Reference: While employed in this role, Johnson won the prestigious Robert F. Kennedy Award.\n"
     ]
    },
    {
     "name": "stderr",
     "output_type": "stream",
     "text": [
      "  9%|▉         | 9/100 [00:01<00:16,  5.57it/s]"
     ]
    },
    {
     "name": "stdout",
     "output_type": "stream",
     "text": [
      "\n",
      "🔹 Predicted: Sehrmau war uns das Ziel, die sich dabei bewerbter war mit derungsstand vorerstellt.\n",
      "🔸 Reference: Samuel Lyons proceeded to subdivide Five Dock Farm into substantial estates.\n",
      "\n",
      "🔹 Predicted: Messie und Aileen come from Dane.\n",
      "🔸 Reference: Where did it come from then?\n"
     ]
    },
    {
     "name": "stderr",
     "output_type": "stream",
     "text": [
      "\r",
      " 10%|█         | 10/100 [00:02<00:16,  5.32it/s]"
     ]
    },
    {
     "name": "stdout",
     "output_type": "stream",
     "text": [
      "\n",
      "🔹 Predicted: Sensee, Sirine war herkendabargesie, Lieden zu war.\n",
      "🔸 Reference: Since then, three more have been abolished, leaving four.\n"
     ]
    },
    {
     "name": "stderr",
     "output_type": "stream",
     "text": [
      " 12%|█▏        | 12/100 [00:02<00:16,  5.18it/s]"
     ]
    },
    {
     "name": "stdout",
     "output_type": "stream",
     "text": [
      "\n",
      "🔹 Predicted: Nargo zu einem jenberg der Kompel zu dem Sand, die Städten im Vorragend.\n",
      "🔸 Reference: \"Narwhal\" joined the Atlantic Torpedo Fleet, based at Newport, Rhode Island.\n",
      "\n",
      "🔹 Predicted: The era was later removed from the breakfast after the rain was set to early.\n",
      "🔸 Reference: The airline was later removed from the blacklist after complying with safety audits.\n"
     ]
    },
    {
     "name": "stderr",
     "output_type": "stream",
     "text": [
      "\r",
      " 13%|█▎        | 13/100 [00:02<00:16,  5.39it/s]"
     ]
    },
    {
     "name": "stdout",
     "output_type": "stream",
     "text": [
      "\n",
      "🔹 Predicted: The people have the slogan \"The level of power tries the level of experience.\"\n",
      "🔸 Reference: The paper has the slogan \"Never Apologise, Never Explain!\".\n",
      "\n",
      "🔹 Predicted: He was born into his own.\n",
      "🔸 Reference: He was born in Tokyo.\n"
     ]
    },
    {
     "name": "stderr",
     "output_type": "stream",
     "text": [
      " 16%|█▌        | 16/100 [00:03<00:13,  6.21it/s]"
     ]
    },
    {
     "name": "stdout",
     "output_type": "stream",
     "text": [
      "\n",
      "🔹 Predicted: Jewelze ist schon in der Welt.\n",
      "🔸 Reference: You just shoot that.\n",
      "\n",
      "🔹 Predicted: Cin and Muslim life are called \"Compations of the World\" by the Netherlands.\n",
      "🔸 Reference: Chen was a low profile talented scholar with a number of \"first\" accomplishments.\n"
     ]
    },
    {
     "name": "stderr",
     "output_type": "stream",
     "text": [
      " 18%|█▊        | 18/100 [00:03<00:15,  5.46it/s]"
     ]
    },
    {
     "name": "stdout",
     "output_type": "stream",
     "text": [
      "\n",
      "🔹 Predicted: Wir kommen die Kaltung aus, die Kaltung beinbauen, die wir auf den Mannes.\n",
      "🔸 Reference: The Fulshear City Council asked the county to name the library after Lutts.\n",
      "\n",
      "🔹 Predicted: The first thing that makes sense by writing to yourself when the rest of the moment is for me.\n",
      "🔸 Reference: The Cascade Lakes Scenic Byway continues south along the west side of Mount Bachelor.\n"
     ]
    },
    {
     "name": "stderr",
     "output_type": "stream",
     "text": [
      "\r",
      " 19%|█▉        | 19/100 [00:03<00:13,  5.98it/s]"
     ]
    },
    {
     "name": "stdout",
     "output_type": "stream",
     "text": [
      "\n",
      "🔹 Predicted: Markandouin was a man of anger.\n",
      "🔸 Reference: Montgomerie was eliminated.\n"
     ]
    },
    {
     "name": "stderr",
     "output_type": "stream",
     "text": [
      "\r",
      " 20%|██        | 20/100 [00:03<00:15,  5.27it/s]"
     ]
    },
    {
     "name": "stdout",
     "output_type": "stream",
     "text": [
      "\n",
      "🔹 Predicted: Die Pannung und der Kondering und der Kondering haben die Kondering auf dem Leben in die Stimmung.\n",
      "🔸 Reference: Depending on the time period and culture, the term can have several meanings.\n"
     ]
    },
    {
     "name": "stderr",
     "output_type": "stream",
     "text": [
      " 22%|██▏       | 22/100 [00:07<01:03,  1.24it/s]"
     ]
    },
    {
     "name": "stdout",
     "output_type": "stream",
     "text": [
      "\n",
      "🔹 Predicted: やっぱり、やっぱり、やっぱり、やっぱり、やっぱり、やっぱり、やっぱり、やっぱり、やっぱり、やっぱり、やっぱり、やっぱり、やっぱり、やっぱり、やっぱり、やっぱり、やっぱり、やっぱり、やっぱり、やっぱり、やっぱり、やっぱり、やっぱり、やっぱり、やっぱり、やっぱり、やっぱり、やっぱり、やっぱり、やっぱり、やっぱり、やっぱり、やっぱり、やっぱり、やっぱり、やっぱり、やっぱり、やっぱり、やっぱり、やっぱり、やっぱり、やっぱり、やっぱり、やっぱり、やっぱり、やっぱり、やっぱり、やっぱり、やっぱり、やっぱり、やっぱり、やっぱり、やっぱり、やっぱり、やっぱり、やっぱり、やっぱり、やっぱり、やっぱり、やっぱり、やっぱり、やっぱり、やっぱり、やっぱり、やっぱり、やっぱり、やっぱり、やっぱり、やっぱり、やっぱり、やっぱり、やっぱり、やっぱり、やっぱり、やっぱり、やっぱり、やっぱり、やっぱり、やっぱり、やっぱり、やっぱり、やっぱり、やっぱり、やっぱり、やっぱり、やっぱり、やっぱり、やっぱり、やっぱり、やっぱり、やっぱり、やっぱり、やっぱり、やっぱり、やっぱり、やっぱり、やっぱり、やっぱり、やっぱり、やっぱり、やっぱり、やっぱり、やっぱり、やっぱり、やっぱり、やっぱり、やっぱり、やっぱり、やっぱり、やっぱり、やっぱり、\n",
      "🔸 Reference: The objective of the game is to capture your opponent's king.\n",
      "\n",
      "🔹 Predicted: It is a fabulous event of the World Cup summer launch.\n",
      "🔸 Reference: It is a producer of photovoltaic solar modules.\n"
     ]
    },
    {
     "name": "stderr",
     "output_type": "stream",
     "text": [
      " 24%|██▍       | 24/100 [00:07<00:35,  2.15it/s]"
     ]
    },
    {
     "name": "stdout",
     "output_type": "stream",
     "text": [
      "\n",
      "🔹 Predicted: Octfianicin change the operation degree.\n",
      "🔸 Reference: Population change chart of Chênedouit\n",
      "\n",
      "🔹 Predicted: Wir er ist die Beel des Morfs.\n",
      "🔸 Reference: I have to be with my father.\n"
     ]
    },
    {
     "name": "stderr",
     "output_type": "stream",
     "text": [
      "\r",
      " 25%|██▌       | 25/100 [00:07<00:28,  2.60it/s]"
     ]
    },
    {
     "name": "stdout",
     "output_type": "stream",
     "text": [
      "\n",
      "🔹 Predicted: Anny Dorrile, der die Jostor war, der den Jostor war.\n",
      "🔸 Reference: In the dormitory where Beppe used to work they joked around almost always.\n"
     ]
    },
    {
     "name": "stderr",
     "output_type": "stream",
     "text": [
      " 27%|██▋       | 27/100 [00:08<00:22,  3.24it/s]"
     ]
    },
    {
     "name": "stdout",
     "output_type": "stream",
     "text": [
      "\n",
      "🔹 Predicted: It was a form of misfinite in a regular way to the top of the race and the race and the auto-trial race in the race and the auto-trial race.\n",
      "🔸 Reference: It was reformist in nature and did not protest against Sanation authoritarianism or capitalism.\n",
      "\n",
      "🔹 Predicted: Morning is the dead of the house that is not fit for the position.\n",
      "🔸 Reference: Morrison stated that the current system is \"not fit for purpose\".\n"
     ]
    },
    {
     "name": "stderr",
     "output_type": "stream",
     "text": [
      " 29%|██▉       | 29/100 [00:08<00:16,  4.31it/s]"
     ]
    },
    {
     "name": "stdout",
     "output_type": "stream",
     "text": [
      "\n",
      "🔹 Predicted: Kristin was his son and wife at the same time.\n",
      "🔸 Reference: Crichton also served on Berkshire County Council.\n",
      "\n",
      "🔹 Predicted: The cast in the Dereppe, she and her own lands on the Iron Act.\n",
      "🔸 Reference: The cast included Gena Rowlands and Diane Lane.\n"
     ]
    },
    {
     "name": "stderr",
     "output_type": "stream",
     "text": [
      " 31%|███       | 31/100 [00:08<00:13,  4.96it/s]"
     ]
    },
    {
     "name": "stdout",
     "output_type": "stream",
     "text": [
      "\n",
      "🔹 Predicted: Hannier wird es noch mal als Jernitz auf die Pflezeit.\n",
      "🔸 Reference: Many of its mineral reserves have yet to be fully tapped.\n",
      "\n",
      "🔹 Predicted: Die Kaltiener kann sein, aber auch zur Vorsitzung der Zeit.\n",
      "🔸 Reference: The Gatineau casino thus also serves Ottawa and Eastern Ontario.\n"
     ]
    },
    {
     "name": "stderr",
     "output_type": "stream",
     "text": [
      "\r",
      " 32%|███▏      | 32/100 [00:08<00:12,  5.45it/s]"
     ]
    },
    {
     "name": "stdout",
     "output_type": "stream",
     "text": [
      "\n",
      "🔹 Predicted: Konschaften haben wir hier an und nicht zu tun.\n",
      "🔸 Reference: John Strachan and William Allan and moved to Toronto.\n"
     ]
    },
    {
     "name": "stderr",
     "output_type": "stream",
     "text": [
      " 34%|███▍      | 34/100 [00:09<00:12,  5.42it/s]"
     ]
    },
    {
     "name": "stdout",
     "output_type": "stream",
     "text": [
      "\n",
      "🔹 Predicted: Wendiness der Reise der Verwurfüße liegt, auch als Bein und der Dändeserty.\n",
      "🔸 Reference: Ringing is the result of overshoot caused by an underdamped circuit.\n",
      "\n",
      "🔹 Predicted: Hum was the son of a millionaire, having built up.\n",
      "🔸 Reference: He was the son of Admiral Henrik Bielke.\n"
     ]
    },
    {
     "name": "stderr",
     "output_type": "stream",
     "text": [
      " 36%|███▌      | 36/100 [00:09<00:11,  5.42it/s]"
     ]
    },
    {
     "name": "stdout",
     "output_type": "stream",
     "text": [
      "\n",
      "🔹 Predicted: The Johannes der Hombuers-Besepräsident hat his first-for-Beneis-Zoß.\n",
      "🔸 Reference: Johannes Terho was vice president of the Finnish Chess Federation.\n",
      "\n",
      "🔹 Predicted: Zoosu, aus, die Wakarsch.\n",
      "🔸 Reference: She was also cast in \"Wild Guys\".\n"
     ]
    },
    {
     "name": "stderr",
     "output_type": "stream",
     "text": [
      " 38%|███▊      | 38/100 [00:10<00:10,  6.06it/s]"
     ]
    },
    {
     "name": "stdout",
     "output_type": "stream",
     "text": [
      "\n",
      "🔹 Predicted: Nol muss nur eine Zeit anscheinend sein.\n",
      "🔸 Reference: Douw was married three times.\n",
      "\n",
      "🔹 Predicted: Konga S. Wanda is an actress, Susan Weisen.\n",
      "🔸 Reference: Conger's mother is actress Susan Harrison.\n"
     ]
    },
    {
     "name": "stderr",
     "output_type": "stream",
     "text": [
      " 40%|████      | 40/100 [00:10<00:10,  5.95it/s]"
     ]
    },
    {
     "name": "stdout",
     "output_type": "stream",
     "text": [
      "\n",
      "🔹 Predicted: Den ist das Kind der Zuerrag mit Moran-Ski und auf den Land.\n",
      "🔸 Reference: It is a skiing resort with modern skiing equipment.\n",
      "\n",
      "🔹 Predicted: He then asked him what the goal was hammering with the Latin description.\n",
      "🔸 Reference: He then asks Helmut to do his hammering \"with a little discretion\".\n"
     ]
    },
    {
     "name": "stderr",
     "output_type": "stream",
     "text": [
      " 42%|████▏     | 42/100 [00:10<00:10,  5.76it/s]"
     ]
    },
    {
     "name": "stdout",
     "output_type": "stream",
     "text": [
      "\n",
      "🔹 Predicted: Jones, the自由skankehörner, aber die Inszenen auf dem Wachsend.\n",
      "🔸 Reference: Jones refused and wrote about the incident on her website.\n",
      "\n",
      "🔹 Predicted: Amen und her sind die Bergen von Schiffen an.\n",
      "🔸 Reference: A ripe plum is fit for a king's palate.\n"
     ]
    },
    {
     "name": "stderr",
     "output_type": "stream",
     "text": [
      " 44%|████▍     | 44/100 [00:11<00:09,  5.70it/s]"
     ]
    },
    {
     "name": "stdout",
     "output_type": "stream",
     "text": [
      "\n",
      "🔹 Predicted: Das ist ein ganz hoher Schilder von Schilden in der Handelung der Anwäste.\n",
      "🔸 Reference: Karetu School is also a local primary school in the Kawakawa region.\n",
      "\n",
      "🔹 Predicted: Wir haben es sich in der Zeit zufrieden und kann.\n",
      "🔸 Reference: The location is between the towns of Jean and Primm.\n"
     ]
    },
    {
     "name": "stderr",
     "output_type": "stream",
     "text": [
      "\r",
      " 45%|████▌     | 45/100 [00:11<00:09,  5.57it/s]"
     ]
    },
    {
     "name": "stdout",
     "output_type": "stream",
     "text": [
      "\n",
      "🔹 Predicted: 我ragendig zu weiterer und zu viel zu viel zu viel betrieben ist ein Leben.\n",
      "🔸 Reference: A colony of the Moravian Church was also founded in the same year.\n"
     ]
    },
    {
     "name": "stderr",
     "output_type": "stream",
     "text": [
      "\r",
      " 46%|████▌     | 46/100 [00:11<00:10,  5.06it/s]"
     ]
    },
    {
     "name": "stdout",
     "output_type": "stream",
     "text": [
      "\n",
      "🔹 Predicted: Hannes, der Sänen, der den Sänen leit, hat einen Tag auf Höhensitz.\n",
      "🔸 Reference: During these dates, Fang begins to relate the tale of her friend's parents.\n"
     ]
    },
    {
     "name": "stderr",
     "output_type": "stream",
     "text": [
      "\r",
      " 47%|████▋     | 47/100 [00:11<00:11,  4.73it/s]"
     ]
    },
    {
     "name": "stdout",
     "output_type": "stream",
     "text": [
      "\n",
      "🔹 Predicted: Hinnungsdobürster war für die Kiegel-Azienbeeterutschestige Herz.\n",
      "🔸 Reference: He moved to Boston, where he became increasingly obsessed with his health.\n"
     ]
    },
    {
     "name": "stderr",
     "output_type": "stream",
     "text": [
      "\r",
      " 48%|████▊     | 48/100 [00:12<00:11,  4.67it/s]"
     ]
    },
    {
     "name": "stdout",
     "output_type": "stream",
     "text": [
      "\n",
      "🔹 Predicted: Pastoron und erne Kran, von übergeführt, aber nicht in den Missenz.\n",
      "🔸 Reference: After winning the election, Sharon needed to form a government in the Knesset.\n"
     ]
    },
    {
     "name": "stderr",
     "output_type": "stream",
     "text": [
      " 50%|█████     | 50/100 [00:12<00:09,  5.17it/s]"
     ]
    },
    {
     "name": "stdout",
     "output_type": "stream",
     "text": [
      "\n",
      "🔹 Predicted: The film was animated in both the \"Between and Stalk\" roles in Stalk, can fall.\n",
      "🔸 Reference: The film was animated in both Britain and San Francisco, California.\n",
      "\n",
      "🔹 Predicted:  His author, Eric, is also a world-class world.\n",
      "🔸 Reference: His alternative position was wing.\n"
     ]
    },
    {
     "name": "stderr",
     "output_type": "stream",
     "text": [
      " 52%|█████▏    | 52/100 [00:12<00:08,  5.52it/s]"
     ]
    },
    {
     "name": "stdout",
     "output_type": "stream",
     "text": [
      "\n",
      "🔹 Predicted: As a son of the former, he later released two-way march.\n",
      "🔸 Reference: As a solo performer, he later released two albums.\n",
      "\n",
      "🔹 Predicted: The first time I was gladly used by his father, since he was born.\n",
      "🔸 Reference: The first and most widely used tracers are sunspots.\n"
     ]
    },
    {
     "name": "stderr",
     "output_type": "stream",
     "text": [
      "\r",
      " 53%|█████▎    | 53/100 [00:12<00:07,  5.88it/s]"
     ]
    },
    {
     "name": "stdout",
     "output_type": "stream",
     "text": [
      "\n",
      "🔹 Predicted: Jerhäen und den Gettelbereich vor.\n",
      "🔸 Reference: They're going to get penalized for it, but So what?\n",
      "\n",
      "🔹 Predicted: Die im Händschirfs befendendens first Spanish-Settlers-Falen.\n",
      "🔸 Reference: The game had changed by the time the first Spanish settlers arrived.\n"
     ]
    },
    {
     "name": "stderr",
     "output_type": "stream",
     "text": [
      " 56%|█████▌    | 56/100 [00:13<00:09,  4.82it/s]"
     ]
    },
    {
     "name": "stdout",
     "output_type": "stream",
     "text": [
      "\n",
      "🔹 Predicted: Sund in the Parenkorsfer, in the St. Morse, in the East, in the St. Kratten und in the Fäder.\n",
      "🔸 Reference: Some Indian Pattern cars saw use in the Indian subcontinent and Burma.\n",
      "\n",
      "🔹 Predicted: Effortekein und religikterhaßes wird die Rolle.\n",
      "🔸 Reference: Before the grain can be used, the husks must be removed.\n"
     ]
    },
    {
     "name": "stderr",
     "output_type": "stream",
     "text": [
      "\r",
      " 57%|█████▋    | 57/100 [00:13<00:08,  5.26it/s]"
     ]
    },
    {
     "name": "stdout",
     "output_type": "stream",
     "text": [
      "\n",
      "🔹 Predicted: The thousands of years later, the world collapsed in the same region.\n",
      "🔸 Reference: For thousands of years, Native American tribes inhabited this region.\n"
     ]
    },
    {
     "name": "stderr",
     "output_type": "stream",
     "text": [
      "\r",
      " 58%|█████▊    | 58/100 [00:17<00:47,  1.12s/it]"
     ]
    },
    {
     "name": "stdout",
     "output_type": "stream",
     "text": [
      "\n",
      "🔹 Predicted: Darfer war falser Virus, was cemented her in power with her continued to continue to continue to continue to continue to continue to continue to continue to continue to continue to continue to continue to continue to continue to continue to continue to continue to continue to continue to continue to continue to continue to continue to continue to continue to continue to continue to continue to continue to continue to continue to continue to continue to continue to continue to continue to continue to continue to continue to continue to continue to continue to continue to continue to continue to continue to continue to continue to continue to continue to continue to continue to continue to continue to continue to continue to continue to continue to continue to continue to continue to continue to continue to continue to continue to continue to continue to continue to continue to continue to continue to continue to continue to continue to continue to continue to continue to continue to continue to continue to continue to continue to continue to continue to continue to continue to continue to continue to continue to continue to continue to continue to continue to continue to continue to continue to continue to continue to continue to continue to continue to continue to continue to continue to continue to continue to continue to continue to continue to continue to continue to continue to continue to continue to continue to continue to continue to continue to continue to continue to continue to continue to continue to continue to continue to continue to continue to continue to continue to continue to continue to continue to continue to continue to continue to continue to continue to continue to continue to continue to continue to continue to continue to continue to continue to continue to continue to continue to continue to continue to continue to continue to continue to continue to continue to continue to continue to continue to continue to continue to continue to continue to continue to continue to continue to continue to continue to continue to continue to continue to continue to continue to continue to continue to continue to continue to continue to continue to continue to continue to continue to continue to continue to continue to continue to continue to continue to continue to continue to continue to continue to continue to continue to continue to continue to continue to continue continue continue to continue to continue to continue continue continue to continue to continue continue continue to continue continue continue continue to continue continue continue continue to continue continue continue to continue continue continue continue\n",
      "🔸 Reference: Therefore, transitivity is semantically valid without any constraints.\n"
     ]
    },
    {
     "name": "stderr",
     "output_type": "stream",
     "text": [
      " 60%|██████    | 60/100 [00:17<00:26,  1.50it/s]"
     ]
    },
    {
     "name": "stdout",
     "output_type": "stream",
     "text": [
      "\n",
      "🔹 Predicted: Nerwebauer ist in der Verstand in der Köln-Mitzen in Staremmen in Tassels.\n",
      "🔸 Reference: Nevertheless, the inhabitants decided to improve their farming techniques and started making terraces.\n",
      "\n",
      "🔹 Predicted: 폼을 뒤에서 생겨와 그의 눈이 깨고 그치는다.\n",
      "🔸 Reference: For more detail, see the article in the \"Anchor Bible Dictionary\".\n"
     ]
    },
    {
     "name": "stderr",
     "output_type": "stream",
     "text": [
      "\r",
      " 61%|██████    | 61/100 [00:17<00:20,  1.95it/s]"
     ]
    },
    {
     "name": "stdout",
     "output_type": "stream",
     "text": [
      "\n",
      "🔹 Predicted: It's called the Seat of the Seat of the Seat.\n",
      "🔸 Reference: Its county seat is Murphy.\n"
     ]
    },
    {
     "name": "stderr",
     "output_type": "stream",
     "text": [
      " 63%|██████▎   | 63/100 [00:18<00:13,  2.81it/s]"
     ]
    },
    {
     "name": "stdout",
     "output_type": "stream",
     "text": [
      "\n",
      "🔹 Predicted: Done's hips were taken in severe air. The rest was in the cold, turning to the misresst.\n",
      "🔸 Reference: Tom sleeps with the queen, Celia, but is compelled to return to his quest.\n",
      "\n",
      "🔹 Predicted: Interskinn für Vorhand und wird gezwitscher Fotos vertreten.\n",
      "🔸 Reference: It was named for Cleora Ann Lunday, sister of the postmaster, Ed Lunday.\n"
     ]
    },
    {
     "name": "stderr",
     "output_type": "stream",
     "text": [
      " 65%|██████▌   | 65/100 [00:18<00:08,  3.92it/s]"
     ]
    },
    {
     "name": "stdout",
     "output_type": "stream",
     "text": [
      "\n",
      "🔹 Predicted: Hit was far away from the river that he was born.\n",
      "🔸 Reference: The control tower has been recorded as being haunted.\n",
      "\n",
      "🔹 Predicted: Wir müssen sie in Kampfer verborgen, die wir zu.\n",
      "🔸 Reference: It is also sometimes prepared for wedding banquets.\n"
     ]
    },
    {
     "name": "stderr",
     "output_type": "stream",
     "text": [
      "\r",
      " 66%|██████▌   | 66/100 [00:18<00:07,  4.33it/s]"
     ]
    },
    {
     "name": "stdout",
     "output_type": "stream",
     "text": [
      "\n",
      "🔹 Predicted: Penner war es für mich, aber noch mehrmals auf den Wagen.\n",
      "🔸 Reference: Toliver also proves important in Hawk-Owl's origin later on in the series.\n",
      "\n",
      "🔹 Predicted: Amarah Arbor die Kiske von der Hand und die Säden in der Hand.\n",
      "🔸 Reference: However, both creatures were fond of pranks and misleading people.\n"
     ]
    },
    {
     "name": "stderr",
     "output_type": "stream",
     "text": [
      " 68%|██████▊   | 68/100 [00:18<00:06,  5.00it/s]"
     ]
    },
    {
     "name": "stdout",
     "output_type": "stream",
     "text": [
      "\n",
      "🔹 Predicted: Affort ist gerade im Lippert der Kultor.\n",
      "🔸 Reference: The song is played only to the chorus.\n"
     ]
    },
    {
     "name": "stderr",
     "output_type": "stream",
     "text": [
      " 70%|███████   | 70/100 [00:19<00:05,  5.03it/s]"
     ]
    },
    {
     "name": "stdout",
     "output_type": "stream",
     "text": [
      "\n",
      "🔹 Predicted: In this unknown, hat er den Schernd und kann den Schernd er sich an der Kurskriebe scherren.\n",
      "🔸 Reference: Additional local programming is planned, including some previously aired on the college's cable channel.\n",
      "\n",
      "🔹 Predicted: Denken sind alle über die Hand und den Fäuen.\n",
      "🔸 Reference: Today there is an arena in London named for him.\n"
     ]
    },
    {
     "name": "stderr",
     "output_type": "stream",
     "text": [
      "\r",
      " 71%|███████   | 71/100 [00:19<00:05,  5.11it/s]"
     ]
    },
    {
     "name": "stdout",
     "output_type": "stream",
     "text": [
      "\n",
      "🔹 Predicted: The right hand and the right hand cross its length on the horizontal side of the front hand.\n",
      "🔸 Reference: The record label draws its name from notorious drug lord Griselda Blanco.\n"
     ]
    },
    {
     "name": "stderr",
     "output_type": "stream",
     "text": [
      "\r",
      " 72%|███████▏  | 72/100 [00:19<00:06,  4.36it/s]"
     ]
    },
    {
     "name": "stdout",
     "output_type": "stream",
     "text": [
      "\n",
      "🔹 Predicted: The vehicle's soon-tau will be used for the K-R-E-T-A-T-S-E-O-P-E-S.\n",
      "🔸 Reference: The vehicles sold there would be used for luxury taxi operations.\n"
     ]
    },
    {
     "name": "stderr",
     "output_type": "stream",
     "text": [
      " 74%|███████▍  | 74/100 [00:20<00:05,  4.87it/s]"
     ]
    },
    {
     "name": "stdout",
     "output_type": "stream",
     "text": [
      "\n",
      "🔹 Predicted: Hit war er dort, wo er in der Bieten seines und herunterwärts und was als das.\n",
      "🔸 Reference: He created what grew into the beacon service and the hydrographic services.\n",
      "\n",
      "🔹 Predicted: Posverse called her body, since she was the youngest girl.\n",
      "🔸 Reference: Classmates called her \"Baby\" since she was the youngest girl.\n"
     ]
    },
    {
     "name": "stderr",
     "output_type": "stream",
     "text": [
      "\r",
      " 75%|███████▌  | 75/100 [00:23<00:28,  1.13s/it]"
     ]
    },
    {
     "name": "stdout",
     "output_type": "stream",
     "text": [
      "\n",
      "🔹 Predicted: The only course in the chaos produced by the shiitabai-wai-wai-wai-wai-wai-wai-wai-wai-wai-wai-wai-wai-wai-wai-wai-wai-wai-wai-wai-wai-wai-wai-wai-wai-wai-wai-wai-wai-wai-wai-wai-wai-wai-wai-wai-wai-wai-wai-wai-wai-wai-wai-wai-wai-wai-wai-wai-wai-wai-wai-wai-wai-wai-wai-wai-wai-wai-wai-wai-wai-wai-wai-wai-wai-wai-wai-wai-wai-wai-wai-wai-wai-wai-wai-wai-wai-wai-wai-wai-wai-wai-wai-wai-wai-wai-wai-wai-wai-wai-wai-wai-wai-wai-wai-wai-wai-wai-wai-wai-wai-wai-wai-wai-wai-wai-wai-wai-wai-wai-wai-wai-wai-wai-wai-wai-wai-wai-wai-wai-wai-wai-wai-wai-wai-wai-wai-wai-wai-wai-wai-wai-wai-wai-wai-wai-wai-wai-wai-wai-wai-wai-wai-wai-\n",
      "🔸 Reference: Ionikos Nikaias clinched the championship by winning the regular season.\n"
     ]
    },
    {
     "name": "stderr",
     "output_type": "stream",
     "text": [
      "\r",
      " 76%|███████▌  | 76/100 [00:23<00:20,  1.16it/s]"
     ]
    },
    {
     "name": "stdout",
     "output_type": "stream",
     "text": [
      "\n",
      "🔹 Predicted: It's for granted a long-sleeved, short-sleeved, and a long-sleeved home.\n",
      "🔸 Reference: Its provisional seat was located in Kovel.\n"
     ]
    },
    {
     "name": "stderr",
     "output_type": "stream",
     "text": [
      "\r",
      " 77%|███████▋  | 77/100 [00:23<00:15,  1.49it/s]"
     ]
    },
    {
     "name": "stdout",
     "output_type": "stream",
     "text": [
      "\n",
      "🔹 Predicted: Wann ich heute für das Jahr aufs Sivinen genommen, kann sich über das Ziel aus dem Jahr.\n",
      "🔸 Reference: Wylie Collegiate Professor of Civil Engineering at the University of Michigan.\n"
     ]
    },
    {
     "name": "stderr",
     "output_type": "stream",
     "text": [
      " 79%|███████▉  | 79/100 [00:24<00:08,  2.36it/s]"
     ]
    },
    {
     "name": "stdout",
     "output_type": "stream",
     "text": [
      "\n",
      "🔹 Predicted: Wannem der Link von Pazen und aufs In der Kuh, der Nähre kommt.\n",
      "🔸 Reference: Among them include President of Singapore Halimah Yacob.\n",
      "\n",
      "🔹 Predicted: The famous poet is both from the famous poet and the famous poet in English.\n",
      "🔸 Reference: The famous straight is often called the Mulsanne Straight in English.\n"
     ]
    },
    {
     "name": "stderr",
     "output_type": "stream",
     "text": [
      "\r",
      " 80%|████████  | 80/100 [00:24<00:07,  2.78it/s]"
     ]
    },
    {
     "name": "stdout",
     "output_type": "stream",
     "text": [
      "\n",
      "🔹 Predicted: Sie ist position zu einer Krebs der Bereich für Öffstage und Stahldäste.\n",
      "🔸 Reference: These positions are not held for the duration of a skydive.\n"
     ]
    },
    {
     "name": "stderr",
     "output_type": "stream",
     "text": [
      "\r",
      " 81%|████████  | 81/100 [00:24<00:06,  3.06it/s]"
     ]
    },
    {
     "name": "stdout",
     "output_type": "stream",
     "text": [
      "\n",
      "🔹 Predicted: Welke als auf der Seite in der Welt ein Vorliebe ist, dass die sich nicht mehr erherlend ist.\n",
      "🔸 Reference: Both boys also frequently worked as farm laborers to supplement their allowance.\n"
     ]
    },
    {
     "name": "stderr",
     "output_type": "stream",
     "text": [
      " 83%|████████▎ | 83/100 [00:28<00:15,  1.11it/s]"
     ]
    },
    {
     "name": "stdout",
     "output_type": "stream",
     "text": [
      "\n",
      "🔹 Predicted: Wir war ein bisschen nervös in den Verholen und verholen, zu verholen, zu verholen, zu verholen, zu verholen, zu verholen, zu verholen, zu verholen, zu verholen, zu verholen, zu verholen, zu verholen, zu verholen, zu verholen, zu verholen, zu verholen, zu verholen, zu verholen, zu verholen, zu verholen, zu verholen, zu verholen, zu verholen, zu verholen, zu verholen, zu verholen, zu verholen, zu verholen, zu verholen, zu verholen, zu verholen, zu verholen, zu verholen, zu verholen, zu verholen, zu verholen, zu verholen, zu verholen, zu verholen, zu verholen, zu verholen, zu verholen, zu verholen, zu verholen, zu verholen, zu verholen, zu verholen, zu verholen, zu verholen, zu verholen, zu verholen, zu verholen, zu verholen, zu verholen, zu verholen, zu verholen, zu verholen, zu verholen, zu verholen, zu verholen, zu verholen, zu verholen, zu verholen, zu verholen, zu verholen, zu verholen, zu verholen, zu verholen, zu verholen, zu verholen, zu verholen, zu verholen, zu verholen, zu verholen, zu verholen, zu verholen, zu verholen, zu verholen, zu verholen, zu verholen, zu verholen, zu verholen, zu verholen, zu verholen, zu verholen, zu verholen, zu ver\n",
      "🔸 Reference: Meanwhile, Ms. Choksondik dies and Cartman, Kyle and Stan think that they are responsible.\n",
      "\n",
      "🔹 Predicted: Die hat noch mal zwei Beuträschung beurigt.\n",
      "🔸 Reference: The economic climate has improved.\n"
     ]
    },
    {
     "name": "stderr",
     "output_type": "stream",
     "text": [
      " 85%|████████▌ | 85/100 [00:28<00:08,  1.83it/s]"
     ]
    },
    {
     "name": "stdout",
     "output_type": "stream",
     "text": [
      "\n",
      "🔹 Predicted: Jugelgerman�-Dall-Husselt-Wen-Mert-Husselt-Husselt.\n",
      "🔸 Reference: The old man laid down his hand to light a cigar.\n",
      "\n",
      "🔹 Predicted: 이래서는 영원히 억울한 그치신지.\n",
      "🔸 Reference: It has a million megapixels.\n"
     ]
    },
    {
     "name": "stderr",
     "output_type": "stream",
     "text": [
      " 87%|████████▋ | 87/100 [00:28<00:04,  2.93it/s]"
     ]
    },
    {
     "name": "stdout",
     "output_type": "stream",
     "text": [
      "\n",
      "🔹 Predicted: Jise Torbeleus in der Welt.\n",
      "🔸 Reference: He is driving it in broad daylight.\n",
      "\n",
      "🔹 Predicted: In this you will be able to understand the importance of the London series.\n",
      "🔸 Reference: Police knew that Edward owned the items and did not want them seized.\n"
     ]
    },
    {
     "name": "stderr",
     "output_type": "stream",
     "text": [
      "\r",
      " 89%|████████▉ | 89/100 [00:29<00:02,  4.14it/s]"
     ]
    },
    {
     "name": "stdout",
     "output_type": "stream",
     "text": [
      "\n",
      "🔹 Predicted:  and film.\n",
      "🔸 Reference: Eyton.\n",
      "\n",
      "🔹 Predicted: Wir ist für ein Bewegungsregelungsverwalt zu verankern.\n",
      "🔸 Reference: It was built by people associated with the railroads in Macon.\n"
     ]
    },
    {
     "name": "stderr",
     "output_type": "stream",
     "text": [
      " 91%|█████████ | 91/100 [00:29<00:01,  4.75it/s]"
     ]
    },
    {
     "name": "stdout",
     "output_type": "stream",
     "text": [
      "\n",
      "🔹 Predicted: Welonz��県、広島県、県道町\n",
      "🔸 Reference: Harkness and it was named Dingo Beach.\n",
      "\n",
      "🔹 Predicted: Denis ist ein Gospel in der Universität der Gief.\n",
      "🔸 Reference: The incident was blamed on a software glitch.\n"
     ]
    },
    {
     "name": "stderr",
     "output_type": "stream",
     "text": [
      " 93%|█████████▎| 93/100 [00:29<00:01,  5.14it/s]"
     ]
    },
    {
     "name": "stdout",
     "output_type": "stream",
     "text": [
      "\n",
      "🔹 Predicted: 一声を乗っかりそつと似ているのが、会いと、一切に来ると、さより、\n",
      "🔸 Reference: In some other parts of the temple, however, the emperor is simply called \"Pharaoh\".\n",
      "\n",
      "🔹 Predicted: 大阪府的国处\n",
      "🔸 Reference: They also divorced.\n"
     ]
    },
    {
     "name": "stderr",
     "output_type": "stream",
     "text": [
      " 95%|█████████▌| 95/100 [00:30<00:01,  4.57it/s]"
     ]
    },
    {
     "name": "stdout",
     "output_type": "stream",
     "text": [
      "\n",
      "🔹 Predicted: Die Energie von der Säung ist in der Zählbe auf die Säung der Finder der Finder der Schöne der Schöne der Schöne der Schöne.\n",
      "🔸 Reference: The energy from the Sun is an example of this form of energy conversion.\n",
      "\n",
      "🔹 Predicted: It is the capital for the valley, the two Viennarei region.\n",
      "🔸 Reference: It is the capital of Vatovavy-Fitovinany Region.\n"
     ]
    },
    {
     "name": "stderr",
     "output_type": "stream",
     "text": [
      " 97%|█████████▋| 97/100 [00:30<00:00,  5.54it/s]"
     ]
    },
    {
     "name": "stdout",
     "output_type": "stream",
     "text": [
      "\n",
      "🔹 Predicted: Hoei sind alle vormostigen Ästerte die Kindergärtslinie.\n",
      "🔸 Reference: No reason, however, was given as to the change of birth years.\n",
      "\n",
      "🔹 Predicted: The first choreo over the busy year.\n",
      "🔸 Reference: The destroyer had a busy July.\n"
     ]
    },
    {
     "name": "stderr",
     "output_type": "stream",
     "text": [
      " 99%|█████████▉| 99/100 [00:31<00:00,  6.44it/s]"
     ]
    },
    {
     "name": "stdout",
     "output_type": "stream",
     "text": [
      "\n",
      "🔹 Predicted: Hierner wird wir in sich überdaten.\n",
      "🔸 Reference: She is more popular in South Korea than in Japan.\n",
      "\n",
      "🔹 Predicted: Dai wird die Ärenung als Kronhorn.\n",
      "🔸 Reference: David B. and Lewis Trondheim.\n"
     ]
    },
    {
     "name": "stderr",
     "output_type": "stream",
     "text": [
      "100%|██████████| 100/100 [00:31<00:00,  3.21it/s]\n"
     ]
    },
    {
     "name": "stdout",
     "output_type": "stream",
     "text": [
      "\n",
      "🔹 Predicted: Wir haben sich die Kinn nicht durchgelöst, in der Wunder.\n",
      "🔸 Reference: The legs are straight, and the toes and feet are pointed.\n",
      "\n",
      "✅ EN WER: 1.6911\n",
      "\n",
      "🌍 Language: ja\n"
     ]
    },
    {
     "name": "stderr",
     "output_type": "stream",
     "text": [
      "  2%|▏         | 2/100 [00:00<00:23,  4.22it/s]"
     ]
    },
    {
     "name": "stdout",
     "output_type": "stream",
     "text": [
      "\n",
      "🔹 Predicted: Homalski, Oishi,\n",
      "🔸 Reference: 山口県防府市\n",
      "\n",
      "🔹 Predicted: おそこは、おりし\n",
      "🔸 Reference: 大阪府交野市\n",
      "\n",
      "🔹 Predicted: おかしい、一つと\n",
      "🔸 Reference: 福岡市東区\n"
     ]
    },
    {
     "name": "stderr",
     "output_type": "stream",
     "text": [
      "  5%|▌         | 5/100 [00:00<00:12,  7.33it/s]"
     ]
    },
    {
     "name": "stdout",
     "output_type": "stream",
     "text": [
      "\n",
      "🔹 Predicted: そこにおましょか\n",
      "🔸 Reference: その癖に大飯を食う\n",
      "\n",
      "🔹 Predicted: リューキはおりしさを\n",
      "🔸 Reference: 奈良県王寺町\n"
     ]
    },
    {
     "name": "stderr",
     "output_type": "stream",
     "text": [
      "  7%|▋         | 7/100 [00:01<00:12,  7.75it/s]"
     ]
    },
    {
     "name": "stdout",
     "output_type": "stream",
     "text": [
      "\n",
      "🔹 Predicted: Josekki kimi kou.\n",
      "🔸 Reference: 宮崎県国富町\n",
      "\n",
      "🔹 Predicted: おかしもってんたらないしす\n",
      "🔸 Reference: 鹿児島県垂水市\n"
     ]
    },
    {
     "name": "stderr",
     "output_type": "stream",
     "text": [
      "  9%|▉         | 9/100 [00:04<01:11,  1.27it/s]"
     ]
    },
    {
     "name": "stdout",
     "output_type": "stream",
     "text": [
      "\n",
      "🔹 Predicted: ho e e e o e o e o e o e o e o e o e o e o e o e o e o e o e o e o e o e o e o e o e o e o e o e o e o e o e o e o e o e o e o e o e o e o e o e o e o e o e o e o e o e o e o e o e o e o e o e o e o e o e o e o e o e o e o e o e o e o e o e o e o e o e o e o e o e o e o e o e o e o e o e o e o e o e o e o e o e o e o e o e o e o e o e o e o e o e o e o e o e o e o e o e o e o e o e o e o e o e o e o e o e o e o e o e o e o e o e o e o e o e o e o e o e o e o e o e o e o e o e o e o e o e o e o e o e o e o e o e o e o e o e o e o e o e o e o e o e o e o e o e o e o e o e o e o e o e o e o e o e o e o e o e o e o e o e o e o e o e o e o e o e o e o e o e o e o e o e o e o e o e o e o e o e o e o e o e o e o e o e o e o e o e o e o e o e o e o e o e o e o e o e o e o e o e o e o e o e o e o e o e o e o e o e o e o e o e o e o e o e o e o e o e o e o e o e o e o e o e o e o e o e\n",
      "🔸 Reference: 兵庫県播磨町\n",
      "\n",
      "🔹 Predicted: ドリキンキュースと\n",
      "🔸 Reference: 鳥取県智頭町\n"
     ]
    },
    {
     "name": "stderr",
     "output_type": "stream",
     "text": [
      " 11%|█         | 11/100 [00:04<00:39,  2.26it/s]"
     ]
    },
    {
     "name": "stdout",
     "output_type": "stream",
     "text": [
      "\n",
      "🔹 Predicted: おそこにしっかりおなきし\n",
      "🔸 Reference: 大阪府四條畷市\n",
      "\n",
      "🔹 Predicted: ララクターをお待ち\n",
      "🔸 Reference: 茨城県大子町\n"
     ]
    },
    {
     "name": "stderr",
     "output_type": "stream",
     "text": [
      " 13%|█▎        | 13/100 [00:04<00:24,  3.62it/s]"
     ]
    },
    {
     "name": "stdout",
     "output_type": "stream",
     "text": [
      "\n",
      "🔹 Predicted: ゴールとしてもいいのよくて\n",
      "🔸 Reference: 熊本市南区\n",
      "\n",
      "🔹 Predicted: トザーのような事実は\n",
      "🔸 Reference: 京都府舞鶴市\n"
     ]
    },
    {
     "name": "stderr",
     "output_type": "stream",
     "text": [
      " 15%|█▌        | 15/100 [00:05<00:17,  4.91it/s]"
     ]
    },
    {
     "name": "stdout",
     "output_type": "stream",
     "text": [
      "\n",
      "🔹 Predicted: トータを見つけた\n",
      "🔸 Reference: 京都府和束町\n",
      "\n",
      "🔹 Predicted: そこで、きっと、おそらにスティッド\n",
      "🔸 Reference: ショートケーキにイチゴを乗せるように乗せていった\n"
     ]
    },
    {
     "name": "stderr",
     "output_type": "stream",
     "text": [
      "\r",
      " 17%|█▋        | 17/100 [00:05<00:12,  6.70it/s]"
     ]
    },
    {
     "name": "stdout",
     "output_type": "stream",
     "text": [
      "\n",
      "🔹 Predicted: それとはとにし\n",
      "🔸 Reference: 静岡県熱海市\n",
      "\n",
      "🔹 Predicted: うるくいりし\n",
      "🔸 Reference: 兵庫県相生市\n"
     ]
    },
    {
     "name": "stderr",
     "output_type": "stream",
     "text": [
      "\r",
      " 18%|█▊        | 18/100 [00:05<00:16,  5.07it/s]"
     ]
    },
    {
     "name": "stdout",
     "output_type": "stream",
     "text": [
      "\n",
      "🔹 Predicted: 一方は、チェコンスと乗っている、気についている、しかし、気についているのが、素晴らしいです。\n",
      "🔸 Reference: 一方通行の車道を渡り、並木道に沿って歩いて、死に掛けの乳牛のような足取りで進み、\n"
     ]
    },
    {
     "name": "stderr",
     "output_type": "stream",
     "text": [
      "\r",
      " 19%|█▉        | 19/100 [00:05<00:17,  4.70it/s]"
     ]
    },
    {
     "name": "stdout",
     "output_type": "stream",
     "text": [
      "\n",
      "🔹 Predicted: In der Reise zu einem der Reise von Kaltz, die sich im々々のその図の中で\n",
      "🔸 Reference: 人間は技術によって新しい環境を作りつつ自己を新たにするのである。\n"
     ]
    },
    {
     "name": "stderr",
     "output_type": "stream",
     "text": [
      " 21%|██        | 21/100 [00:06<00:16,  4.78it/s]"
     ]
    },
    {
     "name": "stdout",
     "output_type": "stream",
     "text": [
      "\n",
      "🔹 Predicted: スルトのような反対のような 同じのパッキリといったようなものが スクマライティがついてもらう\n",
      "🔸 Reference: そこには判断論理の媒介というものが、含まれていなければならない。\n",
      "\n",
      "🔹 Predicted: しそうももつらっていくつか\n",
      "🔸 Reference: 痴情のもつれってやつか\n"
     ]
    },
    {
     "name": "stderr",
     "output_type": "stream",
     "text": [
      " 23%|██▎       | 23/100 [00:06<00:14,  5.20it/s]"
     ]
    },
    {
     "name": "stdout",
     "output_type": "stream",
     "text": [
      "\n",
      "🔹 Predicted: \"Wir verbeten sich sich vor der Zeit in der Zeit der Neubarherinmode erhielt.\"\n",
      "🔸 Reference: 方法的に規制された経験が実験と呼ばれるものである。\n",
      "\n",
      "🔹 Predicted: 現場的開発に吸引力的だった\n",
      "🔸 Reference: 現場は開発に積極的だった\n"
     ]
    },
    {
     "name": "stderr",
     "output_type": "stream",
     "text": [
      " 25%|██▌       | 25/100 [00:07<00:16,  4.68it/s]"
     ]
    },
    {
     "name": "stdout",
     "output_type": "stream",
     "text": [
      "\n",
      "🔹 Predicted: ジクロティケースの世界の国が一人にさらなくて、とおそ、とは、どのような世界に\n",
      "🔸 Reference: 自己の経験する世界の拡大するに従って常識は動揺させられる。\n",
      "\n",
      "🔹 Predicted:  문진이의 긴 대체대인 나무가가 부러졌다.\n",
      "🔸 Reference: 人間によく似た巨大なのっぺらぼうも、誰もいない真っ暗な街中も、\n"
     ]
    },
    {
     "name": "stderr",
     "output_type": "stream",
     "text": [
      "\r",
      " 26%|██▌       | 26/100 [00:10<01:22,  1.12s/it]"
     ]
    },
    {
     "name": "stdout",
     "output_type": "stream",
     "text": [
      "\n",
      "🔹 Predicted: どっちの鶏の鶏の鶏の鶏の鶏の鶏の鶏の鶏の鶏の鶏の鶏の鶏の鶏の鶏の鶏の鶏の鶏の鶏の鶏の鶏の鶏の鶏の鶏の鶏の鶏の鶏の鶏の鶏の鶏の鶏の鶏の鶏の鶏の鶏の鶏の鶏の鶏の鶏の鶏の鶏の鶏の鶏の鶏の鶏の鶏の鶏の鶏の鶏の鶏の鶏の鶏の鶏の鶏の鶏の鶏の鶏の鶏の鶏の鶏の鶏の鶏の鶏の鶏の鶏の鶏の鶏の鶏の鶏の鶏の鶏の鶏の鶏の鶏の鶏の鶏の鶏の鶏の鶏の鶏の鶏の鶏の鶏の鶏の鶏の鶏の鶏の鶏の鶏の鶏の鶏の鶏の鶏の鶏の鶏の鶏の鶏の鶏の鶏の鶏の鶏の鶏の鶏の鶏の鶏の鶏の鶏の鶏の鶏の鶏の鶏の�\n",
      "🔸 Reference: ドイツのベルリン大学に行き、その後、イギリスのオックスフォード大学、\n"
     ]
    },
    {
     "name": "stderr",
     "output_type": "stream",
     "text": [
      " 28%|██▊       | 28/100 [00:10<00:46,  1.54it/s]"
     ]
    },
    {
     "name": "stdout",
     "output_type": "stream",
     "text": [
      "\n",
      "🔹 Predicted: つくじくくらのうつのさかりについて、誰かがともってしまう\n",
      "🔸 Reference: つくづく彼がうちのサッカー部に来てくれたらと思ってしまう\n",
      "\n",
      "🔹 Predicted: 近々の人にアイン、ぱりすと、通す\n",
      "🔸 Reference: 近所の人に会いあいさつを交わす\n"
     ]
    },
    {
     "name": "stderr",
     "output_type": "stream",
     "text": [
      "\r",
      " 29%|██▉       | 29/100 [00:11<00:38,  1.83it/s]"
     ]
    },
    {
     "name": "stdout",
     "output_type": "stream",
     "text": [
      "\n",
      "🔹 Predicted: いつものシャツが出ながら、だらないなってきてもり、大好きな方が死ぬってさなくても\n",
      "🔸 Reference: いつものシャツがだるだるになってきたので、タンスから新しいの出さなきゃ\n"
     ]
    },
    {
     "name": "stderr",
     "output_type": "stream",
     "text": [
      " 31%|███       | 31/100 [00:14<01:08,  1.01it/s]"
     ]
    },
    {
     "name": "stdout",
     "output_type": "stream",
     "text": [
      "\n",
      "🔹 Predicted: せいについて一緒とによく、どこらがも、かわくてつきつきつきつきつきつきつきつきつきつきつきつきつきつきつきつきつきつきつきつきつきつきつきつきつきつきつきつきつきつきつきつきつきつきつきつきつきつきつきつきつきつきつきつきつきつきつきつきつきつきつきつきつきつきつきつきつきつきつきつきつきつきつきつきつきつきつきつきつきつきつきつきつきつきつきつきつきつきつきつきつきつきつきつきつきつきつきつきつきつきつきつきつきつきつきつきつきつきつきつきつきつきつきつきつきつきつきつきつきつきつきつきつきつきつきつきつきつきつきつきつきつきつきつきつきつきつきつきつきつきつきつきつきつきつきつきつきつきつきつきつきつきつきつきつきつきつきつきつきつきつきつきつきつきつきつきつきつきつきつきつきつきつきつきつきつきつきつきつきつきつきつきつきつきつきつきつきつきつきつきつきつきつきつきつきつきつきつきつきつきつきつきつきつきつきつきつきつきつきつきつきつきつきつきつきつきつきつきつきつきつ\n",
      "🔸 Reference: 生物現象というも、どこまでも化学的物理的現象に還元して考えることができるであろう。\n",
      "\n",
      "🔹 Predicted:  O kısırda ben yolcul.\n",
      "🔸 Reference: ご無事でなにより\n"
     ]
    },
    {
     "name": "stderr",
     "output_type": "stream",
     "text": [
      " 33%|███▎      | 33/100 [00:15<00:42,  1.59it/s]"
     ]
    },
    {
     "name": "stdout",
     "output_type": "stream",
     "text": [
      "\n",
      "🔹 Predicted: つき大いの人といず、おまま一つとして仕方がいたい、つきがもらいたい、世界を行うから、我々は行うからも、ほうがいさよく出てくるし、\n",
      "🔸 Reference: 絶対矛盾的自己同一として作られたものより作るものへという世界においては、我々はどこまでも表現作用的形成の欲求をもっている。\n",
      "\n",
      "🔹 Predicted: Jise und der Dibis auf alle mit der Stadt.\n",
      "🔸 Reference: 先週に比べてペース上がりまくった\n"
     ]
    },
    {
     "name": "stderr",
     "output_type": "stream",
     "text": [
      " 35%|███▌      | 35/100 [00:15<00:26,  2.42it/s]"
     ]
    },
    {
     "name": "stdout",
     "output_type": "stream",
     "text": [
      "\n",
      "🔹 Predicted: Wir wird ein weiterzackt, das geht es nicht in die Höhre als in die Dähe.\n",
      "🔸 Reference: 見るということと作るということとが矛盾的自己同一的である。\n",
      "\n",
      "🔹 Predicted: ただ, ein Schrodinger in der Schule zu verzieher in der Schule zu werden.\n",
      "🔸 Reference: 多と一との絶対矛盾の自己同一の世界であるということである。\n"
     ]
    },
    {
     "name": "stderr",
     "output_type": "stream",
     "text": [
      "\r",
      " 36%|███▌      | 36/100 [00:15<00:21,  2.99it/s]"
     ]
    },
    {
     "name": "stdout",
     "output_type": "stream",
     "text": [
      "\n",
      "🔹 Predicted: お父さんが、大阪に、自分が入れた\n",
      "🔸 Reference: 大きい安いかたい、それで十分じゃないか\n",
      "\n",
      "🔹 Predicted: 矛盾を一緒に集中の県立てを見押してた\n",
      "🔸 Reference: 来店ポイントサービスあるけど、誰も利用してない\n"
     ]
    },
    {
     "name": "stderr",
     "output_type": "stream",
     "text": [
      " 38%|███▊      | 38/100 [00:16<00:15,  4.11it/s]"
     ]
    },
    {
     "name": "stdout",
     "output_type": "stream",
     "text": [
      "\n",
      "🔹 Predicted: 同じように、しかし、ちょっと、もう、\n",
      "🔸 Reference: 記念にスクショ撮っとこ\n"
     ]
    },
    {
     "name": "stderr",
     "output_type": "stream",
     "text": [
      " 40%|████      | 40/100 [00:16<00:12,  4.67it/s]"
     ]
    },
    {
     "name": "stdout",
     "output_type": "stream",
     "text": [
      "\n",
      "🔹 Predicted: Dieserheim wurde in der Wurdeckung war eine von der Zitzen der Fische hat als enttäuscht in der Welt.\n",
      "🔸 Reference: 原始社会においての如く、我々はいつも絶対矛盾的自己同一に対しているのである。\n",
      "\n",
      "🔹 Predicted: ドリドリのシューブンと\n",
      "🔸 Reference: 隣にいた友人が言った。\n"
     ]
    },
    {
     "name": "stderr",
     "output_type": "stream",
     "text": [
      "\r",
      " 41%|████      | 41/100 [00:16<00:13,  4.35it/s]"
     ]
    },
    {
     "name": "stdout",
     "output_type": "stream",
     "text": [
      "\n",
      "🔹 Predicted: しかし、世界は、あるほど、あなたとも、あるや、町の理解で、もらえられ。\n",
      "🔸 Reference: しかして世界は我々を生むと共に我々を殺すものでなければならない。\n"
     ]
    },
    {
     "name": "stderr",
     "output_type": "stream",
     "text": [
      " 43%|████▎     | 43/100 [00:17<00:11,  5.18it/s]"
     ]
    },
    {
     "name": "stdout",
     "output_type": "stream",
     "text": [
      "\n",
      "🔹 Predicted: 私の形にとっても、私の形を、僕は、考えられるので、\n",
      "🔸 Reference: 私の形というのは、静止する物の形という如きものをいうのでなく、\n",
      "\n",
      "🔹 Predicted:  garlander den Dior ist schon dunkel.\n",
      "🔸 Reference: 彼の手には、一丁の拳銃。\n"
     ]
    },
    {
     "name": "stderr",
     "output_type": "stream",
     "text": [
      "\r",
      " 44%|████▍     | 44/100 [00:17<00:09,  5.82it/s]"
     ]
    },
    {
     "name": "stdout",
     "output_type": "stream",
     "text": [
      "\n",
      "🔹 Predicted: いかとくはかかり上がり\n",
      "🔸 Reference: 言い方を変えただけで意味はない\n"
     ]
    },
    {
     "name": "stderr",
     "output_type": "stream",
     "text": [
      "\r",
      " 45%|████▌     | 45/100 [00:17<00:10,  5.05it/s]"
     ]
    },
    {
     "name": "stdout",
     "output_type": "stream",
     "text": [
      "\n",
      "🔹 Predicted: おそらくシンプンがあるで、歩く音を教えてくれるような気をしようです。\n",
      "🔸 Reference: おそらく真剣な顔で。プロポーズをするときのような表情で。\n",
      "\n",
      "🔹 Predicted: やっぱりよくあるのか\n",
      "🔸 Reference: やっぱりわかりません\n"
     ]
    },
    {
     "name": "stderr",
     "output_type": "stream",
     "text": [
      "\r",
      " 47%|████▋     | 47/100 [00:17<00:08,  6.07it/s]"
     ]
    },
    {
     "name": "stdout",
     "output_type": "stream",
     "text": [
      "\n",
      "🔹 Predicted: ジーキャーがあるでもかと使ったっていった\n",
      "🔸 Reference: チーズをこれでもかと使ったピザ\n"
     ]
    },
    {
     "name": "stderr",
     "output_type": "stream",
     "text": [
      "\r",
      " 48%|████▊     | 48/100 [00:18<00:09,  5.37it/s]"
     ]
    },
    {
     "name": "stdout",
     "output_type": "stream",
     "text": [
      "\n",
      "🔹 Predicted: おりじりと出会いと、とこはリエットをこえらないスイートにやすさ\n",
      "🔸 Reference: おにぎりを食べ終えると、僕は冷凍庫からアイスを取り出した。\n"
     ]
    },
    {
     "name": "stderr",
     "output_type": "stream",
     "text": [
      "\r",
      " 49%|████▉     | 49/100 [00:18<00:10,  4.78it/s]"
     ]
    },
    {
     "name": "stdout",
     "output_type": "stream",
     "text": [
      "\n",
      "🔹 Predicted: きりぼうと、大体コートは、とも、きりぼうと、おりしみらんほら\n",
      "🔸 Reference: キーボードを叩く音がほとんど聞こえない優れもの\n"
     ]
    },
    {
     "name": "stderr",
     "output_type": "stream",
     "text": [
      "\r",
      " 50%|█████     | 50/100 [00:21<00:52,  1.04s/it]"
     ]
    },
    {
     "name": "stdout",
     "output_type": "stream",
     "text": [
      "\n",
      "🔹 Predicted: 割合は、同じくるに対して、何つか、大きくなってくる、大きくなってくる、大きくなってくる、大きくなってくる、大きくなってくる、大きくなってくる、大きくなってくる、大きくなってくる、大きくなってくる、大きくなってくる、大きくなってくる、大きくなってくる、大きくなってくる、大きくなってくる、大きくなってくる、大きくなってくる、大きくなってくる、大きくなってくる、大きくなってくる、大きくなってくる、大きくなってくる、大きくなってくる、大きくなってくる、大きくなってくる、大きくなってくる、大きくなってくる、大きくなってくる、大きくなってくる、大きくなってくる、大きくなってくる、大きくなってくる、大きくなってくる、大きくなってくる、大きくなってくる、大きくなってくる、大きくなってくる、大きくなってくる、大きくなってくる、大きくなってくる、大きくなってくる、大きくなってくる、大きくなってくる、大きくなってくる、大きくなってくる、大きくなってくる、大きくなってくる、大きくなってくる、大きくなってくる、大きくなってくる、大きくなってくる、大きくなってくる、大きくなってくる、大きくなってくる、大きく\n",
      "🔸 Reference: 我々の自己に対して、汝これを為すか然らざれば死かと問うものでなければならない。\n",
      "\n",
      "🔹 Predicted: Morning the world looks.\n",
      "🔸 Reference: 奈良県平群町\n"
     ]
    },
    {
     "name": "stderr",
     "output_type": "stream",
     "text": [
      "\r",
      " 52%|█████▏    | 52/100 [00:22<00:32,  1.47it/s]"
     ]
    },
    {
     "name": "stdout",
     "output_type": "stream",
     "text": [
      "\n",
      "🔹 Predicted: Wir der Hählige Musik verfolgt sich als die mit der Kosofer, die man in der Reiterung in der Legislaturperiose weitergeholen ist.\n",
      "🔸 Reference: 我々が日々に接触する現実を正しく見ることを教え得ないならば、いかに深遠に見える哲学もすべて空語に等しい。\n"
     ]
    },
    {
     "name": "stderr",
     "output_type": "stream",
     "text": [
      "\r",
      " 53%|█████▎    | 53/100 [00:25<01:01,  1.30s/it]"
     ]
    },
    {
     "name": "stdout",
     "output_type": "stream",
     "text": [
      "\n",
      "🔹 Predicted: 県庫県県県県県県県県県県県県県県県県県県県県県県県県県県県県県県県県県県県県県県県県県県県県県県������������������������������������������������������������������������������������������������������������������������������������������������������������������������������������������������������������������������������������������������������������������������������������������������������������������������������������������������������������\n",
      "🔸 Reference: 徳島県板野町\n"
     ]
    },
    {
     "name": "stderr",
     "output_type": "stream",
     "text": [
      " 55%|█████▌    | 55/100 [00:28<01:01,  1.37s/it]"
     ]
    },
    {
     "name": "stdout",
     "output_type": "stream",
     "text": [
      "\n",
      "🔹 Predicted: スナアイドがあったに、スナアイドとして、スナアイドがあると、スナアイドとして、スナアイドがあると、スナアイドがあると、スナアイドがあると、スナアイドがあると、スナアイドがあると、スナアイドがあると、スナアイドがあると、スナアイドがあると、スナアイドがあると、スナアイドがあると、スナアイドがあると、スナアイドがあると、スナアイドがあると、スナアイドがあると、スナアイドがあると、スナアイドがあると、スナアイドがあると、スナアイドがあると、スナアイドがあると、スナアイドがあると、スナアイドがあると、スナアイドがあると、スナアイドがあると、スナアイドがあると、スナアイドがあると、スナアイドがあると、スナアイドがあると、スナアイドがあると、スナアイドがあると、スナアイドがあると、スナアイドがあると、スナアイドがあると、スナアイドがあると、スナアイドがあると、スナアイドがあると、スナアイドがあると、スナアイドがあると、スナアイドがあると、スナアイドがあると、スナアイドがあると、スナアイドがあると、スナアイドがあると、スナアイドがあると、スナアイドがあると、スナアイドがあると、スナアイ\n",
      "🔸 Reference: その間には単に主体的立場から考えられる相互否定的対立以上のものがなければならない。\n",
      "\n",
      "🔹 Predicted: 一座のようにして、ビジュア、ピッキーを見せられた\n",
      "🔸 Reference: リトアニアの首都はヴィリニュスである\n",
      "\n",
      "🔹 Predicted: Police oder nicht.\n",
      "🔸 Reference: 浜松市南区\n"
     ]
    },
    {
     "name": "stderr",
     "output_type": "stream",
     "text": [
      " 58%|█████▊    | 58/100 [00:32<00:49,  1.19s/it]"
     ]
    },
    {
     "name": "stdout",
     "output_type": "stream",
     "text": [
      "\n",
      "🔹 Predicted: とももあるのが、そのときは、ともあるのが、そのときは、そのときは、そのときは、そのときは、そのときは、そのときは、そのときは、そのときは、そのときは、そのときは、そのときは、そのときは、そのときは、そのときは、そのときは、そのときは、そのときは、そのときは、そのときは、そのときは、そのときは、そのときは、そのときは、そのときは、そのときは、そのときは、そのときは、そのときは、そのときは、そのときは、そのときは、そのときは、そのときは、そのときは、そのときは、そのときは、そのときは、そのときは、そのときは、そのときは、そのときは、そのときは、そのときは、そのときは、そのときは、そのときは、そのときは、そのときは、そのときは、そのときは、そのときは、そのときは、そのときは、そのときは、そのときは、そのときは、そのときは、そのときは、そのときは、そのときは、そのときは、そのときは、そのときは、そのときは、そのときは、そのときは、そのときは、そのときは、そのときは、そのときは、そのときは、そのときは、そのときは、そのときは、そのときは、そのときは、そのときは、そのときは、そのときは、そのときは、そのときは、そのときは、そのときは、そのときは、そのときは、その\n",
      "🔸 Reference: 他方我々はその土地を耕し、その植物を栽培し、動物を飼育し、あるいは河に堤防を築き、山にトンネルを通ずる。\n",
      "\n",
      "🔹 Predicted: シャラティンの中に、スイッチを使う\n",
      "🔸 Reference: 佐賀県多久市\n"
     ]
    },
    {
     "name": "stderr",
     "output_type": "stream",
     "text": [
      "\r",
      " 59%|█████▉    | 59/100 [00:32<00:40,  1.02it/s]"
     ]
    },
    {
     "name": "stdout",
     "output_type": "stream",
     "text": [
      "\n",
      "🔹 Predicted:  چیزکیہ تسانا بینای من نطنی سنٹی کروگانی سنٹیدینا کنٹیلیہ کروکی\n",
      "🔸 Reference: 知識は一つの理念のもとに、全体と部分の必然的な関係において、\n"
     ]
    },
    {
     "name": "stderr",
     "output_type": "stream",
     "text": [
      " 61%|██████    | 61/100 [00:36<00:46,  1.19s/it]"
     ]
    },
    {
     "name": "stdout",
     "output_type": "stream",
     "text": [
      "\n",
      "🔹 Predicted: Dark-Dark-Dark-Dark-Dark-Dark-Dark-Dark-Dark-Dark-Dark-Dark-Dark-Dark-Dark-Dark-Dark-Dark-Dark-Dark-Dark-Dark-Dark-Dark-Dark-Dark-Dark-Dark-Dark-Dark-Dark-Dark-Dark-Dark-Dark-Dark-Dark-Dark-Dark-Dark-Dark-Dark-Dark-Dark-Dark-Dark-Dark-Dark-Dark-Dark-Dark-Dark-Dark-Dark-Dark-Dark-Dark-Dark-Dark-Dark-Dark-Dark-Dark-Dark-Dark-Dark-Dark-Dark-Dark-Dark-Dark-Dark-Dark-Dark-Dark-Dark-Dark-Dark-Dark-Dark-Dark-Dark-Dark-Dark-Dark-Dark-Dark-Dark-Dark-Dark-Dark-Dark-Dark-Dark-Dark-Dark-Dark-Dark-Dark-Dark-Dark-Dark-Dark-Dark-Dark-Dark-Dark-Dark-Dark-Dark-Dark-Dark-Dark-Dark-Dark-Dark-Dark-Dark-Dark-Dark-Dark-Dark-Dark-Dark-Dark-Dark-Dark-Dark-Dark-Dark-Dark-Dark-Dark-Dark-Dark-Dark-Dark-Dark-Dark-Dark-Dark-Dark-Dark-Dark-Dark-Dark-Dark-Dark-\n",
      "🔸 Reference: 脱炭素化は急ぐべきだが、じっくり話し合う時間も必要だ\n",
      "\n",
      "🔹 Predicted: Denol ist der Tag die Ziele gar nicht.\n",
      "🔸 Reference: 多が一の多、一が多の一、動即静、静即動として、\n"
     ]
    },
    {
     "name": "stderr",
     "output_type": "stream",
     "text": [
      "\r",
      " 62%|██████▏   | 62/100 [00:36<00:34,  1.11it/s]"
     ]
    },
    {
     "name": "stdout",
     "output_type": "stream",
     "text": [
      "\n",
      "🔹 Predicted: あまりより、アスゴを出しまっていない\n",
      "🔸 Reference: 辛い料理で汗を出しまくる\n"
     ]
    },
    {
     "name": "stderr",
     "output_type": "stream",
     "text": [
      "\r",
      " 63%|██████▎   | 63/100 [00:36<00:26,  1.41it/s]"
     ]
    },
    {
     "name": "stdout",
     "output_type": "stream",
     "text": [
      "\n",
      "🔹 Predicted: カラーのもとにかから、さらに入りにたくいうともにもして\n",
      "🔸 Reference: 川のほとりからコソ泥にはいられたようなこともありました\n"
     ]
    },
    {
     "name": "stderr",
     "output_type": "stream",
     "text": [
      "\r",
      " 64%|██████▍   | 64/100 [00:39<00:52,  1.44s/it]"
     ]
    },
    {
     "name": "stdout",
     "output_type": "stream",
     "text": [
      "\n",
      "🔹 Predicted: シスの中に、そのものの真っ直ぐ、一つの一つの一つの一つの一つの一つの一つの一つの一つの一つの一つの一つの一つの一つの一つの一つの一つの一つの一つの一つの一つの一つの一つの一つの一つの一つの一つの一つの一つの一つの一つの一つの一つの一つの一つの一つの一つの一つの一つの一つの一つの一つの一つの一つの一つの一つの一つの一つの一つの一つの一つの一つの一つの一つの一つの一つの一つの一つの一つの一つの一つの一つの一つの一つの一つの一つの一つの一つの一つの一つの一つの一つの一つの一つの一つの一つの一つの一つの一つの一つの一つの一つの一つの一つの一つの一つの一つの一つの一つの一つの一つの一つの一つの一つの一つの一つの一つの一つの一つの一つの一つの一つの一つの一つの一つの一つの一つの一つの一つの一つの一つの一つの一つの一つの一つの一つの一つの一つの一つの一つの一つの一つの一つの一つの一つの一つの一つの一つの一つの一つの一つの一つの一つの一つの一つの一つの一つの一つの一つの一つの一つの一つの一つの一\n",
      "🔸 Reference: しかも価値そのものの本質が哲学的な見方を要求しており、\n"
     ]
    },
    {
     "name": "stderr",
     "output_type": "stream",
     "text": [
      " 66%|██████▌   | 66/100 [00:40<00:28,  1.21it/s]"
     ]
    },
    {
     "name": "stdout",
     "output_type": "stream",
     "text": [
      "\n",
      "🔹 Predicted: ドキドキはストラムにともっていると、さりとをとなして、見たがしないと\n",
      "🔸 Reference: 到底助からないと思っていると、どさりと音がして眼から火が出た\n",
      "\n",
      "🔹 Predicted: イギンシンのタイプを使いすぎておしまいし\n",
      "🔸 Reference: 広島県東広島市\n"
     ]
    },
    {
     "name": "stderr",
     "output_type": "stream",
     "text": [
      "\r",
      " 67%|██████▋   | 67/100 [00:40<00:20,  1.61it/s]"
     ]
    },
    {
     "name": "stdout",
     "output_type": "stream",
     "text": [
      "\n",
      "🔹 Predicted: うまく、シャッターのようにしてくれ\n",
      "🔸 Reference: おいおい、ちょっとは加減してくれよ\n"
     ]
    },
    {
     "name": "stderr",
     "output_type": "stream",
     "text": [
      "\r",
      " 68%|██████▊   | 68/100 [00:40<00:18,  1.73it/s]"
     ]
    },
    {
     "name": "stdout",
     "output_type": "stream",
     "text": [
      "\n",
      "🔹 Predicted: ファッシュファースのようなのが、あったりとによくさよ、スタッシュに立てて、スタッシュにも、見れた、上に見ると、上に見ると、\n",
      "🔸 Reference: 昔から遊び場に困ったときによく使う、親しみと退屈さにまみれた公園に僕らはいた\n"
     ]
    },
    {
     "name": "stderr",
     "output_type": "stream",
     "text": [
      " 70%|███████   | 70/100 [00:41<00:11,  2.51it/s]"
     ]
    },
    {
     "name": "stdout",
     "output_type": "stream",
     "text": [
      "\n",
      "🔹 Predicted: あまりあまりにも一つもあり方をあくると、もらうのが、あまりにあくる方がきつくと\n",
      "🔸 Reference: 雨上がりに水溜りが乾くように、頭の中に空白ができていった\n",
      "\n",
      "🔹 Predicted: 浮かえなくて、寄り上を掘る。\n",
      "🔸 Reference: 岡山県吉備中央町\n"
     ]
    },
    {
     "name": "stderr",
     "output_type": "stream",
     "text": [
      "\r",
      " 72%|███████▏  | 72/100 [00:41<00:07,  3.81it/s]"
     ]
    },
    {
     "name": "stdout",
     "output_type": "stream",
     "text": [
      "\n",
      "🔹 Predicted: うがしにないと\n",
      "🔸 Reference: 福岡市南区\n",
      "\n",
      "🔹 Predicted: 自然自然心、心、心、心\n",
      "🔸 Reference: 岐阜県池田町\n"
     ]
    },
    {
     "name": "stderr",
     "output_type": "stream",
     "text": [
      "\r",
      " 73%|███████▎  | 73/100 [00:41<00:06,  4.34it/s]"
     ]
    },
    {
     "name": "stdout",
     "output_type": "stream",
     "text": [
      "\n",
      "🔹 Predicted: 笑っているスタッチをおりしす\n",
      "🔸 Reference: 茨城県常陸大宮市\n"
     ]
    },
    {
     "name": "stderr",
     "output_type": "stream",
     "text": [
      " 75%|███████▌  | 75/100 [00:41<00:05,  4.52it/s]"
     ]
    },
    {
     "name": "stdout",
     "output_type": "stream",
     "text": [
      "\n",
      "🔹 Predicted: とこも忘れようも同じような気がする必要としてもさらにさらに、\n",
      "🔸 Reference: 徳川時代の日本の経済史に通じ、大阪の市史を編纂した人です\n",
      "\n",
      "🔹 Predicted: Sie kann auch ein Lämoner und aufs Fähen und aufs Stich.\n",
      "🔸 Reference: 記憶の中にあるものとの違いを確認していく\n"
     ]
    },
    {
     "name": "stderr",
     "output_type": "stream",
     "text": [
      "\r",
      " 76%|███████▌  | 76/100 [00:42<00:04,  5.21it/s]"
     ]
    },
    {
     "name": "stdout",
     "output_type": "stream",
     "text": [
      "\n",
      "🔹 Predicted: Wir als ein bisschen, das auch schon.\n",
      "🔸 Reference: 長崎県波佐見町\n"
     ]
    },
    {
     "name": "stderr",
     "output_type": "stream",
     "text": [
      " 78%|███████▊  | 78/100 [00:45<00:17,  1.27it/s]"
     ]
    },
    {
     "name": "stdout",
     "output_type": "stream",
     "text": [
      "\n",
      "🔹 Predicted: 彼は同じという形形形形形形形形形形形形形形形形形形形形形形形形形形形形形形形形形形形形形形形形形形形形形形形形形形形形形形形形形形形形形形形形形形形形形形形形形形形形形形形形形形形形形形形形形形形形形形形形形形形形形形形形形形形形形形形形形形形形形形形形形形形形形形形形形形形形形形形形形形形形形形形形形形形形形形形形形形形形形形形形形形形形形形形形形形形形形形形形形形形形形形形形形形形形形形形形形形形形形形形形形形形形形形形形形形形形形形形形形形形形形形形形形形形形形形形形形形形形形形形形形形形形形形形形形形形形形形形形形形形形形形形形形形形形形形形形形形形形形形形形形形形形形形形形形形形形形形形形形形形形形形形形形形形形形形形形形形形形形形形形形形形形形形形形形形形形形形形形形形形形形形形形形形形形形形形形形形形形形形形形形形形形形形形形形形形形形形形形形形形形形形形形形形形形形形形形形形形形形形形形形形形形形形形形形形形形形形形形形形形形形形形形形形形形形形形形形形形形形形\n",
      "🔸 Reference: 横浜市鶴見区\n",
      "\n",
      "🔹 Predicted: かまきのようなもらいた\n",
      "🔸 Reference: 奈良県山添村\n"
     ]
    },
    {
     "name": "stderr",
     "output_type": "stream",
     "text": [
      " 80%|████████  | 80/100 [00:45<00:09,  2.09it/s]"
     ]
    },
    {
     "name": "stdout",
     "output_type": "stream",
     "text": [
      "\n",
      "🔹 Predicted: いろいろなきゃ、無法だし、\n",
      "🔸 Reference: 福岡県大牟田市\n",
      "\n",
      "🔹 Predicted: ビーディッドっぽくてて、上がるもので、さっき\n",
      "🔸 Reference: ビールとポテトで小腹を満たす\n"
     ]
    },
    {
     "name": "stderr",
     "output_type": "stream",
     "text": [
      "\r",
      " 81%|████████  | 81/100 [00:49<00:24,  1.30s/it]"
     ]
    },
    {
     "name": "stdout",
     "output_type": "stream",
     "text": [
      "\n",
      "🔹 Predicted: 私たちで世界であるもん、一つの一つの一つの一つの一つの一つの一つの一つの一つの一つの一つの一つの一つの一つの一つの一つの一つの一つの一つの一つの一つの一つの一つの一つの一つの一つの一つの一つの一つの一つの一つの一つの一つの一つの一つの一つの一つの一つの一つの一つの一つの一つの一つの一つの一つの一つの一つの一つの一つの一つの一つの一つの一つの一つの一つの一つの一つの一つの一つの一つの一つの一つの一つの一つの一つの一つの一つの一つの一つの一つの一つの一つの一つの一つの一つの一つの一つの一つの一つの一つの一つの一つの一つの一つの一つの一つの一つの一つの一つの一つの一つの一つの一つの一つの一つの一つの一つの一つの一つの一つの一つの一つの一つの一つの一つの一つの一つの一つの一つの一つの一つの一つの一つの一つの一つの一つの一つの一つの一つの一つの一つの一つの一つの一つの一つの一つの一つの一つの一つの一つの一つの一つの一つの一つの一つの一つの一つの一つの一つの一つの一つの一つの一つの一つの一つ\n",
      "🔸 Reference: 物質的世界というも、矛盾的自己同一的に自己自身を形成するものである。\n"
     ]
    },
    {
     "name": "stderr",
     "output_type": "stream",
     "text": [
      " 83%|████████▎ | 83/100 [00:49<00:12,  1.33it/s]"
     ]
    },
    {
     "name": "stdout",
     "output_type": "stream",
     "text": [
      "\n",
      "🔹 Predicted: 一頭に腹から一つ崩れずよりのおりやばらくてリアされば\n",
      "🔸 Reference: 手帳に書かれたスケジュール通りにやらないと気がすまない\n",
      "\n",
      "🔹 Predicted: あんでもあちこさとも無事があるなと思ったほうがいい\n",
      "🔸 Reference: なんでも自己責任にするのはやめたほうがいい\n"
     ]
    },
    {
     "name": "stderr",
     "output_type": "stream",
     "text": [
      " 85%|████████▌ | 85/100 [00:52<00:16,  1.10s/it]"
     ]
    },
    {
     "name": "stdout",
     "output_type": "stream",
     "text": [
      "\n",
      "🔹 Predicted: Hirano-Karagas-Tankas-Hirano-Takas-Jagano-Takas-Jagano-Takas-Jagano-Takas-Jagano-Takas-Jagano-Takas-Jagano-Takas-Jagano-Takas-Jagano-Takas-Jagano-Takas-Jagano-Takas-Jagano-Takas-Jagano-Takas-Jagano-Takas-Jagano-Takas-Jagano-Takas-Jagano-Takas-Jagano-Takas-Jagano-Takas-Jagano-Takas-Jagano-Takas-Jagano-Takas-Jagano-Takas-Jagano-Takas-Jagano-Takas-Jagano-Takas-Jagano-Takas-Jagano-Takas-Jagano-Takas-Jagano-Takas-Jagano-Takas-Jagano-Takas-Jagano-Takas-Jagano-Takas-Jagano-Takas-Jagano-Takas-Jagano-Takas-Jagano-Takas-Jagano-Takas-Jagano-Takas-Jagano-Takas-Jagano-Takas-Jagano-Takas-Jagano-Takas-Jagano-Takas-Jagano-Takas-Jagano-Takas-Jagano-Takas-Jagano-Takas-Jagano-Takas-Jagano-Takas-Jagano-Takas-Jagano-Takas-Jagano-Takas\n",
      "🔸 Reference: 部屋の壁が三箇所ほど崩れ落ちているのが、その写真にハッキリ写っている\n",
      "\n",
      "🔹 Predicted: くれって言うわりぼくはないであるね\n",
      "🔸 Reference: これってようはリボ払いだよね\n"
     ]
    },
    {
     "name": "stderr",
     "output_type": "stream",
     "text": [
      " 87%|████████▋ | 87/100 [00:53<00:08,  1.62it/s]"
     ]
    },
    {
     "name": "stdout",
     "output_type": "stream",
     "text": [
      "\n",
      "🔹 Predicted: Morning of the various old meetings together.\n",
      "🔸 Reference: 防犯カメラの映像をよく見たら人がいた\n",
      "\n",
      "🔹 Predicted: びっくらいのシャイドをステーイを取っていた\n",
      "🔸 Reference: 二階の指導室へ寄ってくれ。\n"
     ]
    },
    {
     "name": "stderr",
     "output_type": "stream",
     "text": [
      "\r",
      " 88%|████████▊ | 88/100 [00:53<00:06,  1.99it/s]"
     ]
    },
    {
     "name": "stdout",
     "output_type": "stream",
     "text": [
      "\n",
      "🔹 Predicted: そこから、うまくスタイヤの一緒にさくらっこらっこらっ\n",
      "🔸 Reference: それ考察というより二次創作だから\n",
      "\n",
      "🔹 Predicted: ZoBunner von Zwei-Nenau-Zerät-Schreckgebung.\n",
      "🔸 Reference: 凶暴な顔つきの犬がこちらへ近寄ってくる\n"
     ]
    },
    {
     "name": "stderr",
     "output_type": "stream",
     "text": [
      " 91%|█████████ | 91/100 [00:53<00:02,  3.53it/s]"
     ]
    },
    {
     "name": "stdout",
     "output_type": "stream",
     "text": [
      "\n",
      "🔹 Predicted: Such an wasstabte die Ziele festgebung mit der Kisie der Dauer.\n",
      "🔸 Reference: 社会が実体的自由として倫理的実体となり、\n",
      "\n",
      "🔹 Predicted: うおりしみの方の方が、\n",
      "🔸 Reference: 合理性もなにもない\n"
     ]
    },
    {
     "name": "stderr",
     "output_type": "stream",
     "text": [
      "\r",
      " 92%|█████████▏| 92/100 [00:54<00:02,  3.62it/s]"
     ]
    },
    {
     "name": "stdout",
     "output_type": "stream",
     "text": [
      "\n",
      "🔹 Predicted: だいたいらの共和単にして進み始まることができることができることができる\n",
      "🔸 Reference: 与えられたものは単に否定すべきものでもなく、また媒介し媒介せられるものでもない。\n"
     ]
    },
    {
     "name": "stderr",
     "output_type": "stream",
     "text": [
      " 94%|█████████▍| 94/100 [00:54<00:01,  3.80it/s]"
     ]
    },
    {
     "name": "stdout",
     "output_type": "stream",
     "text": [
      "\n",
      "🔹 Predicted: Zoßigte Knotkorea zum Zakrenger sind der Kalken im Umet der Füßervur-Gabeen auf Zerbeer.\n",
      "🔸 Reference: 常識的な行為はその社会の全体との関係において不都合の起こらないのが普通である。\n",
      "\n",
      "🔹 Predicted: 彼をもらうにスティックが来たんすぎると、\n",
      "🔸 Reference: 顔真っ赤にして声からして訴える\n"
     ]
    },
    {
     "name": "stderr",
     "output_type": "stream",
     "text": [
      " 96%|█████████▌| 96/100 [00:55<00:00,  4.32it/s]"
     ]
    },
    {
     "name": "stdout",
     "output_type": "stream",
     "text": [
      "\n",
      "🔹 Predicted: Skursonder was the greatest weapon of the battle. The battle was the first weapon of the battle.\n",
      "🔸 Reference: しかしそれは、世界が機械的だということでもなく、単に合目的的だということでもない、世界が一つの現在として自己形成的だということである。\n",
      "\n",
      "🔹 Predicted: さらに、どおうから、キャラキャラキャラキャラ\n",
      "🔸 Reference: 佐賀県江北町\n"
     ]
    },
    {
     "name": "stderr",
     "output_type": "stream",
     "text": [
      "\r",
      " 97%|█████████▋| 97/100 [00:55<00:00,  4.58it/s]"
     ]
    },
    {
     "name": "stdout",
     "output_type": "stream",
     "text": [
      "\n",
      "🔹 Predicted: 大きくておりしてすれば、一つも寄せており、\n",
      "🔸 Reference: キャラクターをひたすらに強化して無双する。\n"
     ]
    },
    {
     "name": "stderr",
     "output_type": "stream",
     "text": [
      " 99%|█████████▉| 99/100 [00:58<00:00,  1.21it/s]"
     ]
    },
    {
     "name": "stdout",
     "output_type": "stream",
     "text": [
      "\n",
      "🔹 Predicted: スタイトルで、イメージの上に、コロスポイントを、スローラーとコロをもらって、おりくって、スローラーと、イチェンスを、スローラーと、イチェンスを、スローラーと、イチェンスを、スローラーと、イチェンスを、スローラーと、イチェンスを、スローラーと、イチェンスを、スローラーと、イチェンスを、スローラーと、イチェンスを、スローラーと、イチェンスを、スローラーと、イチェンスを、スローラーと、イチェンスを、スローラーと、イチェンスを、スローラーと、イチェンスを、スローラーと、イチェンスを、スローラーと、イチェンスを、スローラーと、イチェンスローラーと、イチェンスローラーと、イチェンスローラーと、イチェンスローラーと、イチェンスローラーと、イチェンスローラーと、イチェンスローラーと、イチェンスローラーと、イチェンスローラーと、イチェンスローラーと、イチェンスローラーと、イチェンスローラーと、イチェンスローラーと、イチェンスローラーと、イチェンスローラーと、イチェンスローラーと、イチェンスローラーと、\n",
      "🔸 Reference: 仕方がない、何でもよいから食物のある所まであるこうと決心をしてそろりそろりと池を左に廻り始めた\n",
      "\n",
      "🔹 Predicted: かより、おかしいのかか\n",
      "🔸 Reference: 岡山市中区\n"
     ]
    },
    {
     "name": "stderr",
     "output_type": "stream",
     "text": [
      "100%|██████████| 100/100 [00:58<00:00,  1.70it/s]\n"
     ]
    },
    {
     "name": "stdout",
     "output_type": "stream",
     "text": [
      "\n",
      "🔹 Predicted: すばらくやりだと\n",
      "🔸 Reference: 島根県飯南町\n",
      "\n",
      "✅ JA WER: 7.3700\n",
      "\n",
      "🌍 Language: de\n"
     ]
    },
    {
     "name": "stderr",
     "output_type": "stream",
     "text": [
      "  2%|▏         | 2/100 [00:00<00:25,  3.81it/s]"
     ]
    },
    {
     "name": "stdout",
     "output_type": "stream",
     "text": [
      "\n",
      "🔹 Predicted: Konat war es, ob der zu einer Stimmungsverfärd.\n",
      "🔸 Reference: Damit war das erklärte Ziel des Teams verfehlt.\n",
      "\n",
      "🔹 Predicted: その実質は、やりたくさんの、それを、\n",
      "🔸 Reference: Sie ist Teil der Kleinen Antillen.\n"
     ]
    },
    {
     "name": "stderr",
     "output_type": "stream",
     "text": [
      "  4%|▍         | 4/100 [00:00<00:21,  4.52it/s]"
     ]
    },
    {
     "name": "stdout",
     "output_type": "stream",
     "text": [
      "\n",
      "🔹 Predicted: Es ist nur als schweigte, dass man sich über ein Torben als selbst ein garerter Torben haben.\n",
      "🔸 Reference: Erstmals nahmen zwei deutsche Mannschaften an Turn-Weltmeisterschaften im Gerätturnen teil.\n",
      "\n",
      "🔹 Predicted: Welbe werden die Fäfte auf der Starr eines Kippen.\n",
      "🔸 Reference: Grundlegend entspricht die Struktur des Dorfes der eines Kibbuz.\n"
     ]
    },
    {
     "name": "stderr",
     "output_type": "stream",
     "text": [
      "\r",
      "  5%|▌         | 5/100 [00:01<00:23,  4.04it/s]"
     ]
    },
    {
     "name": "stdout",
     "output_type": "stream",
     "text": [
      "\n",
      "🔹 Predicted:  Die Patrempftung, die die Kabelftabertun, die die sich die sich selbst an der anderen Zahlabrassung haben.\n",
      "🔸 Reference: Die Patrologie gebraucht dabei die Methoden der Geschichtswissenschaft und der Literaturwissenschaft.\n"
     ]
    },
    {
     "name": "stderr",
     "output_type": "stream",
     "text": [
      "\r",
      "  6%|▌         | 6/100 [00:01<00:22,  4.14it/s]"
     ]
    },
    {
     "name": "stdout",
     "output_type": "stream",
     "text": [
      "\n",
      "🔹 Predicted: Der und hat sich ein beweg als zu besonderes Verwärtsbewegung zu zielern.\n",
      "🔸 Reference: Der Ansatz von Mittelstraß hat methodische und zugleich normative Ambitionen.\n"
     ]
    },
    {
     "name": "stderr",
     "output_type": "stream",
     "text": [
      "\r",
      "  7%|▋         | 7/100 [00:01<00:22,  4.06it/s]"
     ]
    },
    {
     "name": "stdout",
     "output_type": "stream",
     "text": [
      "\n",
      "🔹 Predicted:  Der Däsebekrankte Säsebeurungsarrettungsmaßtabelbegebrübt.\n",
      "🔸 Reference: Beide sind bekannte Stars Hollywoods, allerdings nur als Paar beim Publikum beliebt.\n"
     ]
    },
    {
     "name": "stderr",
     "output_type": "stream",
     "text": [
      "\r",
      "  8%|▊         | 8/100 [00:05<01:51,  1.21s/it]"
     ]
    },
    {
     "name": "stdout",
     "output_type": "stream",
     "text": [
      "\n",
      "🔹 Predicted: Zwischen und vermerbauten dort vertreibt die Zerwaltung zu be困困困困困困困困困困困困困困困困困困困困困困困困困困困困困困困困困困困困困困困困困困困困困困困困困困困困困困困困困困困困困困困困困困困困困困困困困困困困困困困困困困困�困�困�困��������������������������������������������������������������������������������������������������������������������������������������������������������������������������������������������������������������������������������������������������������\n",
      "🔸 Reference: Zwischen April und November verkehrt dieser Sonderzug jedes Wochenende.\n"
     ]
    },
    {
     "name": "stderr",
     "output_type": "stream",
     "text": [
      " 10%|█         | 10/100 [00:05<01:01,  1.46it/s]"
     ]
    },
    {
     "name": "stdout",
     "output_type": "stream",
     "text": [
      "\n",
      "🔹 Predicted:  Sie tün den der Nachwärtskätzenderation zu prägen, hat man mal aufsicht.\n",
      "🔸 Reference: Sie dienen darüber hinaus als Informationsquelle der Kommunalaufsicht.\n",
      "\n",
      "🔹 Predicted: Wirjighehren sind auch ein Malien an die Kappen.\n",
      "🔸 Reference: Weiterhin zählt zur Anlage eine Kapelle.\n"
     ]
    },
    {
     "name": "stderr",
     "output_type": "stream",
     "text": [
      " 12%|█▏        | 12/100 [00:05<00:39,  2.25it/s]"
     ]
    },
    {
     "name": "stdout",
     "output_type": "stream",
     "text": [
      "\n",
      "🔹 Predicted:  Um uns den Fahrrad der Chneis-Zutroher des Unternehmens zu werden, können wir hierher fort.\n",
      "🔸 Reference: Um auf dem Fahrrad der schnellste Kurier des Unternehmens zu werden, trainierte er hart.\n",
      "\n",
      "🔹 Predicted: Morning for Sir Reinebezung ist der Intenzien auf Niedern.\n",
      "🔸 Reference: Um eine Sprache eindeutig zu gestalten, kann sie normiert werden.\n"
     ]
    },
    {
     "name": "stderr",
     "output_type": "stream",
     "text": [
      " 14%|█▍        | 14/100 [00:06<00:27,  3.13it/s]"
     ]
    },
    {
     "name": "stdout",
     "output_type": "stream",
     "text": [
      "\n",
      "🔹 Predicted: In der� der� der Fünksige Fünferer kommt ein Beherrung von Künfteln.\n",
      "🔸 Reference: In der Umgebung befinden sich schwefelhaltige Quellen für Bäder und zum Trinken.\n",
      "\n",
      "🔹 Predicted: Koshtarkkiu wurde in Föreides nach der Wurz.\n",
      "🔸 Reference: Das Tag Team wurde in Folge dessen aufgelöst.\n"
     ]
    },
    {
     "name": "stderr",
     "output_type": "stream",
     "text": [
      "\r",
      " 15%|█▌        | 15/100 [00:06<00:22,  3.73it/s]"
     ]
    },
    {
     "name": "stdout",
     "output_type": "stream",
     "text": [
      "\n",
      "🔹 Predicted:  Einige K�en und eine andere Person in den Schiff.\n",
      "🔸 Reference: Ähnliche Tribunale gab es auch in den Provinzen.\n"
     ]
    },
    {
     "name": "stderr",
     "output_type": "stream",
     "text": [
      "\r",
      " 16%|█▌        | 16/100 [00:06<00:23,  3.52it/s]"
     ]
    },
    {
     "name": "stdout",
     "output_type": "stream",
     "text": [
      "\n",
      "🔹 Predicted: Johann war noch ein Teil. War noch eine eine Teil der Läte kurzgesystem des Köln-Beskern auf den Kauberhaus.\n",
      "🔸 Reference: Die Schauerleute waren in der Regel Tagelöhner, die kurzfristig angestellt wurden, wenn Arbeit anfiel.\n"
     ]
    },
    {
     "name": "stderr",
     "output_type": "stream",
     "text": [
      "\r",
      " 17%|█▋        | 17/100 [00:07<00:22,  3.71it/s]"
     ]
    },
    {
     "name": "stdout",
     "output_type": "stream",
     "text": [
      "\n",
      "🔹 Predicted: Annach optien für ein Jahrhinzahlen von John Schmied und Schmied an der Schmied.\n",
      "🔸 Reference: Eine Abgrenzung in solchen Fällen kann sich als besonders schwierig herausstellen.\n"
     ]
    },
    {
     "name": "stderr",
     "output_type": "stream",
     "text": [
      " 19%|█▉        | 19/100 [00:07<00:19,  4.10it/s]"
     ]
    },
    {
     "name": "stdout",
     "output_type": "stream",
     "text": [
      "\n",
      "🔹 Predicted: Sie wird sich nicht übernigt, aber es wird von der Nachschnecke im Bereich der Unterrichtung des Domenischen.\n",
      "🔸 Reference: Sie liegt vier Kilometer westlich von Domažlice und gehört dem Okres Domažlice an.\n",
      "\n",
      "🔹 Predicted: Zieß das Verteine auf Fendung an dem Moment der Omensteller.\n",
      "🔸 Reference: Sie ist das regionale Zentrum der Veluwe in der Provinz Gelderland.\n"
     ]
    },
    {
     "name": "stderr",
     "output_type": "stream",
     "text": [
      "\r",
      " 20%|██        | 20/100 [00:07<00:18,  4.37it/s]"
     ]
    },
    {
     "name": "stdout",
     "output_type": "stream",
     "text": [
      "\n",
      "🔹 Predicted: He is also known for being open for the Indian horse-kindliness of the Indian horse.\n",
      "🔸 Reference: Dieser sandte ihn zu Bobby Robinson, dem Inhaber des kleinen Labels \"Fury Records\".\n"
     ]
    },
    {
     "name": "stderr",
     "output_type": "stream",
     "text": [
      "\r",
      " 21%|██        | 21/100 [00:07<00:18,  4.33it/s]"
     ]
    },
    {
     "name": "stdout",
     "output_type": "stream",
     "text": [
      "\n",
      "🔹 Predicted: Insonen wird dort als Verkennetzungsvergintensie verurringt und Barren los.\n",
      "🔸 Reference: Im Zweiten Weltkrieg wurde das Streckennetz, infolge intensiver Bombardements der Industriestadt, stark beschädigt.\n"
     ]
    },
    {
     "name": "stderr",
     "output_type": "stream",
     "text": [
      "\r",
      " 22%|██▏       | 22/100 [00:08<00:21,  3.71it/s]"
     ]
    },
    {
     "name": "stdout",
     "output_type": "stream",
     "text": [
      "\n",
      "🔹 Predicted: Annellen beides in die Höhensin-Cort, an den Vorhandstag und auf dem Städt-Mann, als von Städt-Hann vertreten.\n",
      "🔸 Reference: Die anderen belgischen Provinzen sind durch allegorische Statuen am Fuße der Säulen vertreten.\n"
     ]
    },
    {
     "name": "stderr",
     "output_type": "stream",
     "text": [
      " 24%|██▍       | 24/100 [00:08<00:17,  4.40it/s]"
     ]
    },
    {
     "name": "stdout",
     "output_type": "stream",
     "text": [
      "\n",
      "🔹 Predicted:  der Gerät von Arten aus dem Nathen und Arten zu verwendet, als ich zu verwendet.\n",
      "🔸 Reference: Der italienische Maler Tommaso Minardi malte in dieser Manier ein Selbstporträt.\n",
      "\n",
      "🔹 Predicted: Mikrener ist von Schulten Kohrenann.\n",
      "🔸 Reference: Nikolai vor dem Stubentor“ genannt.\n"
     ]
    },
    {
     "name": "stderr",
     "output_type": "stream",
     "text": [
      "\r",
      " 25%|██▌       | 25/100 [00:08<00:18,  4.10it/s]"
     ]
    },
    {
     "name": "stdout",
     "output_type": "stream",
     "text": [
      "\n",
      "🔹 Predicted: Affy는 sein als Fahre als Beding mit Wern auf der Fahre von Zürichern und der Legislaturperihe.\n",
      "🔸 Reference: Auf Wunsch seines Vaters beginnt Edward eine Laufbahn als Offizier beim britischen Militär.\n"
     ]
    },
    {
     "name": "stderr",
     "output_type": "stream",
     "text": [
      " 27%|██▋       | 27/100 [00:09<00:16,  4.52it/s]"
     ]
    },
    {
     "name": "stdout",
     "output_type": "stream",
     "text": [
      "\n",
      "🔹 Predicted: Dor ist kann es verbrellen, dass nur ein Liedt weiterzutschen und nur Kandidär in der Schweiz auch als das Geld.\n",
      "🔸 Reference: Dadurch kann die Verbrennung beschleunigt oder die zur Zündung notwendige Energie herabgesetzt werden.\n",
      "\n",
      "🔹 Predicted: Das Konzept für das Museum ist noch mal eineigeweine.\n",
      "🔸 Reference: Das Konzept für das Museum stammt von Margarethe Greiner.\n"
     ]
    },
    {
     "name": "stderr",
     "output_type": "stream",
     "text": [
      "\r",
      " 28%|██▊       | 28/100 [00:09<00:15,  4.56it/s]"
     ]
    },
    {
     "name": "stdout",
     "output_type": "stream",
     "text": [
      "\n",
      "🔹 Predicted: Dies zwagt, weil er von dieser Ebene der Jeswitz befürtschalt wird.\n",
      "🔸 Reference: Dies zeigt, wer auf europäischer Ebene die Gesetzgebung verzögert.\n"
     ]
    },
    {
     "name": "stderr",
     "output_type": "stream",
     "text": [
      " 30%|███       | 30/100 [00:09<00:14,  4.91it/s]"
     ]
    },
    {
     "name": "stdout",
     "output_type": "stream",
     "text": [
      "\n",
      "🔹 Predicted: Effekt war für das Spieltragungsdann im Zertub vertrendst du vor.\n",
      "🔸 Reference: Ich bezweifle, dass es irgendjemandem nützt, einen Ansatz auf Fall-zu-Fall-Basis zu verfolgen.\n",
      "\n",
      "🔹 Predicted: Jerlandenburg und der Vorragung des Ziktskinen.\n",
      "🔸 Reference: Hier haben wir nur Bürokratie und verwirrende Gesetzgebung.\n"
     ]
    },
    {
     "name": "stderr",
     "output_type": "stream",
     "text": [
      " 32%|███▏      | 32/100 [00:10<00:13,  5.20it/s]"
     ]
    },
    {
     "name": "stdout",
     "output_type": "stream",
     "text": [
      "\n",
      "🔹 Predicted: As far as this power of the power of the power itself is also a forward approach.\n",
      "🔸 Reference: Es freut mich, dass das Parlament den Vorschlag grundsätzlich befürwortet hat.\n",
      "\n",
      "🔹 Predicted: The progress can be made to break home, but no more sudden, but it is agreed.\n",
      "🔸 Reference: Natürlich kann sie dazu beitragen, und man muss ihr die Mittel hierfür geben.\n"
     ]
    },
    {
     "name": "stderr",
     "output_type": "stream",
     "text": [
      " 34%|███▍      | 34/100 [00:10<00:11,  5.86it/s]"
     ]
    },
    {
     "name": "stdout",
     "output_type": "stream",
     "text": [
      "\n",
      "🔹 Predicted: Das kann der Einfach mitzutrefften.\n",
      "🔸 Reference: Das ist ganz einfach unzutreffend!\n",
      "\n",
      "🔹 Predicted: Also, der mich gerade kurz vor auf der Rolle zudem ist.\n",
      "🔸 Reference: Außerdem sprach man sich für eine schnelle Umsetzung aus.\n"
     ]
    },
    {
     "name": "stderr",
     "output_type": "stream",
     "text": [
      "\r",
      " 35%|███▌      | 35/100 [00:10<00:11,  5.86it/s]"
     ]
    },
    {
     "name": "stdout",
     "output_type": "stream",
     "text": [
      "\n",
      "🔹 Predicted: Dies sind zu einer meiner Charakterungsinigen Wartensitzung.\n",
      "🔸 Reference: Dies sind Themen, die wir natürlich den Russen gegenüber ansprechen.\n"
     ]
    },
    {
     "name": "stderr",
     "output_type": "stream",
     "text": [
      "\r",
      " 36%|███▌      | 36/100 [00:11<00:12,  5.08it/s]"
     ]
    },
    {
     "name": "stdout",
     "output_type": "stream",
     "text": [
      "\n",
      "🔹 Predicted: Denik ist gar nicht auf der Firma als die Traur auf dem Vorspruchs, die wir an der Kaltes noch mal.\n",
      "🔸 Reference: Die Mitgliedstaaten verfügen im Bereich des militärischen Schiffbaus über anerkanntes Know-how.\n"
     ]
    },
    {
     "name": "stderr",
     "output_type": "stream",
     "text": [
      "\r",
      " 37%|███▋      | 37/100 [00:11<00:12,  5.01it/s]"
     ]
    },
    {
     "name": "stdout",
     "output_type": "stream",
     "text": [
      "\n",
      "🔹 Predicted: Horhin an die Konkurrenverragskurs und den Fästeherin.\n",
      "🔸 Reference: Plochingen liegt an der Württemberger Weinstraße mit vielen Sehenswürdigkeiten.\n"
     ]
    },
    {
     "name": "stderr",
     "output_type": "stream",
     "text": [
      " 39%|███▉      | 39/100 [00:11<00:11,  5.20it/s]"
     ]
    },
    {
     "name": "stdout",
     "output_type": "stream",
     "text": [
      "\n",
      "🔹 Predicted: Die Rettwürrukte hat auch noch ein paar St else auf den Kacken verfolgen.\n",
      "🔸 Reference: Die Ratte erzählte der Katze, dass dieses Fest einen Tag später gefeiert würde.\n",
      "\n",
      "🔹 Predicted:  Die Behebe sind in die Säfte die Energie gestorbt.\n",
      "🔸 Reference: Wie wir wissen, sinken diese Asylzahlen seit vielen Jahren stark.\n"
     ]
    },
    {
     "name": "stderr",
     "output_type": "stream",
     "text": [
      " 41%|████      | 41/100 [00:12<00:11,  5.36it/s]"
     ]
    },
    {
     "name": "stdout",
     "output_type": "stream",
     "text": [
      "\n",
      "🔹 Predicted:  Die Stärchdomen waren gerade auf den Vorsicht an der Lachdorf.\n",
      "🔸 Reference: Die Stiftung wird von einem dreiköpfigen Vorstand verwaltet.\n",
      "\n",
      "🔹 Predicted:  Die Höhensauer auf derischen Vorgung der Biosenkrankung.\n",
      "🔸 Reference: Ich hoffe, alle auf der Besuchergalerie sind beeindruckt!\n"
     ]
    },
    {
     "name": "stderr",
     "output_type": "stream",
     "text": [
      "\r",
      " 42%|████▏     | 42/100 [00:12<00:11,  5.19it/s]"
     ]
    },
    {
     "name": "stdout",
     "output_type": "stream",
     "text": [
      "\n",
      "🔹 Predicted: Kalam, der die dort das Kind in der Kassis hat der Nählsk an.\n",
      "🔸 Reference: Pauer erhielt als Kind eine klassische Klavierausbildung.\n"
     ]
    },
    {
     "name": "stderr",
     "output_type": "stream",
     "text": [
      "\r",
      " 43%|████▎     | 43/100 [00:12<00:11,  4.91it/s]"
     ]
    },
    {
     "name": "stdout",
     "output_type": "stream",
     "text": [
      "\n",
      "🔹 Predicted:  Wenn wir in den�ten Bremd-Wir zündet, kann es das in den Einen mal.\n",
      "🔸 Reference: Öhringen gehörte seitdem zum Jagstkreis, dessen Sitz in Ellwangen war.\n"
     ]
    },
    {
     "name": "stderr",
     "output_type": "stream",
     "text": [
      "\r",
      " 44%|████▍     | 44/100 [00:12<00:12,  4.56it/s]"
     ]
    },
    {
     "name": "stdout",
     "output_type": "stream",
     "text": [
      "\n",
      "🔹 Predicted: Hannes und Meden in der Rückwärtsunterlistung besitter und an den Ende des Hümbel.\n",
      "🔸 Reference: Henry Middleton erhielt Privatunterricht und besuchte auch in England die Schule.\n"
     ]
    },
    {
     "name": "stderr",
     "output_type": "stream",
     "text": [
      "\r",
      " 45%|████▌     | 45/100 [00:12<00:12,  4.36it/s]"
     ]
    },
    {
     "name": "stdout",
     "output_type": "stream",
     "text": [
      "\n",
      "🔹 Predicted: Das Ölenskärme statt略でも、作者主義や、作者と、剥ができる。\n",
      "🔸 Reference: Das Gudensberger Stadtwappen zeigt das stilisierte Tor der Burg.\n"
     ]
    },
    {
     "name": "stderr",
     "output_type": "stream",
     "text": [
      "\r",
      " 46%|████▌     | 46/100 [00:13<00:14,  3.76it/s]"
     ]
    },
    {
     "name": "stdout",
     "output_type": "stream",
     "text": [
      "\n",
      "🔹 Predicted: Sweiter in Wälder-Sor-Sor-Sor-Den und in den Krakärchen, auch die Hocker-Ain, die Kürze.\n",
      "🔸 Reference: Seitdem wird es als Hotel und Eventlocation \"Alte Vogtei\" betrieben.\n"
     ]
    },
    {
     "name": "stderr",
     "output_type": "stream",
     "text": [
      "\r",
      " 47%|████▋     | 47/100 [00:13<00:13,  4.02it/s]"
     ]
    },
    {
     "name": "stdout",
     "output_type": "stream",
     "text": [
      "\n",
      "🔹 Predicted: Das befestigt er noch einem Städtung von Reinten in der Kassin.\n",
      "🔸 Reference: Das wichtigste Verwaltungszentrum verbleibt in New York City.\n"
     ]
    },
    {
     "name": "stderr",
     "output_type": "stream",
     "text": [
      " 49%|████▉     | 49/100 [00:13<00:11,  4.55it/s]"
     ]
    },
    {
     "name": "stdout",
     "output_type": "stream",
     "text": [
      "\n",
      "🔹 Predicted: Die Behrfinde des Kreis erhielt, und das Kreit von Smith von Kultaus.\n",
      "🔸 Reference: Die Öffentlichkeitsarbeit, unterstützt von Smiths Fotos, erlaubte es, die Firma vor Gericht zu bringen.\n",
      "\n",
      "🔹 Predicted: Wir wird das zum Wunsch für die Städte hin und seine.\n",
      "🔸 Reference: Die Untersuchung verlief daraufhin im Sande.\n"
     ]
    },
    {
     "name": "stderr",
     "output_type": "stream",
     "text": [
      " 51%|█████     | 51/100 [00:14<00:10,  4.62it/s]"
     ]
    },
    {
     "name": "stdout",
     "output_type": "stream",
     "text": [
      "\n",
      "🔹 Predicted: Fingles und Reisen sind auf sie ein Fieck zur Haut, die sich in der Reise aufzunehmen.\n",
      "🔸 Reference: In diesen leisen Schluss hinein fährt sofort die fünfte Variation.\n",
      "\n",
      "🔹 Predicted: In der Führung und Zeit von Schade und Zwei-Tabutur.\n",
      "🔸 Reference: In der folgenden Zeit entstand ein zweiter Wohnturm.\n"
     ]
    },
    {
     "name": "stderr",
     "output_type": "stream",
     "text": [
      " 53%|█████▎    | 53/100 [00:14<00:09,  4.90it/s]"
     ]
    },
    {
     "name": "stdout",
     "output_type": "stream",
     "text": [
      "\n",
      "🔹 Predicted: Die drei sind eine Sonstanke an und auf den Stand auf den Stand.\n",
      "🔸 Reference: Die Kreuze können aus Sandstein, Granit, Kalkstein oder anderen Steinarten hergestellt sein.\n",
      "\n",
      "🔹 Predicted: Die Faire auf der Nationalfamilien lässt aber der Archiv-Fall her.\n",
      "🔸 Reference: Wie sein Nachname schon vermuten lässt, hat er auch deutsche Vorfahren.\n"
     ]
    },
    {
     "name": "stderr",
     "output_type": "stream",
     "text": [
      "\r",
      " 54%|█████▍    | 54/100 [00:14<00:08,  5.21it/s]"
     ]
    },
    {
     "name": "stdout",
     "output_type": "stream",
     "text": [
      "\n",
      "🔹 Predicted: This woman pair had a very long record and that was her last name.\n",
      "🔸 Reference: Es wurde daher ein Neubau weiter landeinwärts beschlossen.\n"
     ]
    },
    {
     "name": "stderr",
     "output_type": "stream",
     "text": [
      "\r",
      " 55%|█████▌    | 55/100 [00:15<00:09,  4.55it/s]"
     ]
    },
    {
     "name": "stdout",
     "output_type": "stream",
     "text": [
      "\n",
      "🔹 Predicted:  Das Beendung des 30. Jahrhiehnte sind in einem Öffnigestern oder von der Krasse- und Fett.\n",
      "🔸 Reference: Nach Beendigung des Dreißigjährigen Krieges sind im Hufenregister nur noch fünf Wirtschaften aufgeführt.\n"
     ]
    },
    {
     "name": "stderr",
     "output_type": "stream",
     "text": [
      " 57%|█████▋    | 57/100 [00:15<00:10,  4.29it/s]"
     ]
    },
    {
     "name": "stdout",
     "output_type": "stream",
     "text": [
      "\n",
      "🔹 Predicted:  Das Verbrauchungsunterricht sind zum Ziechstand im Ziechstand der Arbeit der Däte in der Stadt der Dorf der Dorf der Dorf der Dorf der Dorf der Dorf der Dorf.\n",
      "🔸 Reference: Das Verwaltungs- und Geschäftszentrum befindet sich an der \"Avenida del Libertador General San Martín\".\n",
      "\n",
      "🔹 Predicted: Jewel war eineppere Stikung des.\n",
      "🔸 Reference: Er war heimatberechtigt in Genf.\n"
     ]
    },
    {
     "name": "stderr",
     "output_type": "stream",
     "text": [
      " 59%|█████▉    | 59/100 [00:16<00:08,  5.03it/s]"
     ]
    },
    {
     "name": "stdout",
     "output_type": "stream",
     "text": [
      "\n",
      "🔹 Predicted: Weltschisier und wird auch in den Fünktienien.\n",
      "🔸 Reference: Platz zusammen mit Australien und den Philippinen.\n",
      "\n",
      "🔹 Predicted: Montaryft sind wir in der Stadt und Fäderstadt.\n",
      "🔸 Reference: Unterricht findet zwischen Montag und Freitag statt.\n"
     ]
    },
    {
     "name": "stderr",
     "output_type": "stream",
     "text": [
      " 61%|██████    | 61/100 [00:16<00:08,  4.79it/s]"
     ]
    },
    {
     "name": "stdout",
     "output_type": "stream",
     "text": [
      "\n",
      "🔹 Predicted: Muternkinder der Staten im Zwei-Morning-Metz vererhen der Kinderzüge.\n",
      "🔸 Reference: Auch ein Kindergeld stand nur Familien mit zwei oder mehr Kindern zu.\n",
      "\n",
      "🔹 Predicted: Wannes und als im Team nur begannen und zenehmt uns zu drehen.\n",
      "🔸 Reference: Mann sang als nun Tenor und begann damit seine große Karriere.\n"
     ]
    },
    {
     "name": "stderr",
     "output_type": "stream",
     "text": [
      "\r",
      " 62%|██████▏   | 62/100 [00:16<00:07,  5.00it/s]"
     ]
    },
    {
     "name": "stdout",
     "output_type": "stream",
     "text": [
      "\n",
      "🔹 Predicted: Die Höhemitzung auf der Höhemitzung im Biteru.\n",
      "🔸 Reference: Die Herrschaft vermachte er seinem älteren Sohn Numitor.\n"
     ]
    },
    {
     "name": "stderr",
     "output_type": "stream",
     "text": [
      " 64%|██████▍   | 64/100 [00:17<00:07,  5.01it/s]"
     ]
    },
    {
     "name": "stdout",
     "output_type": "stream",
     "text": [
      "\n",
      "🔹 Predicted: Es ist ein sehr wichtiges, die in der Welt bezutten, die die Kinder in der Welt.\n",
      "🔸 Reference: Es ist eines der wenigen dort bezeugten ägyptischen Ämter.\n",
      "\n",
      "🔹 Predicted: Die Ersteiler übernehmen sich über die Städte und der anderen Verschauen.\n",
      "🔸 Reference: Die Ersteller übernehmen für die Richtigkeit der Angaben keine Haftung.\n"
     ]
    },
    {
     "name": "stderr",
     "output_type": "stream",
     "text": [
      " 66%|██████▌   | 66/100 [00:17<00:07,  4.50it/s]"
     ]
    },
    {
     "name": "stdout",
     "output_type": "stream",
     "text": [
      "\n",
      "🔹 Predicted: Depts und Zählen in den Fallen zu eines der Bebauten den Fuchs und Börd, was an den Kulten zu haben hat.\n",
      "🔸 Reference: Dazu zählen ebenfalls registrierte Banken in Genf, Luxemburg, Nassau, Hongkong und Singapur.\n",
      "\n",
      "🔹 Predicted: In the recent election, for the Labor Party, some did not want to run down the country.\n",
      "🔸 Reference: In der Mathematik wurde er dabei von Edmund Landau geprüft.\n"
     ]
    },
    {
     "name": "stderr",
     "output_type": "stream",
     "text": [
      " 68%|██████▊   | 68/100 [00:18<00:07,  4.43it/s]"
     ]
    },
    {
     "name": "stdout",
     "output_type": "stream",
     "text": [
      "\n",
      "🔹 Predicted: schweier auf Schlemme schenden der Hattendige Beere auf den Bewegteuftige, als kann er an dem Umgang.\n",
      "🔸 Reference: Zwei aufständische Länder hatten die Gegenwehr aber noch nicht aufgegeben: Askalon und Juda.\n",
      "\n",
      "🔹 Predicted: Deswärts haben sich in Bergen ein paar Wochen auf die Stichenten.\n",
      "🔸 Reference: Deshalb habe ich für den Bericht Mavrommattis gestimmt.\n"
     ]
    },
    {
     "name": "stderr",
     "output_type": "stream",
     "text": [
      "\r",
      " 69%|██████▉   | 69/100 [00:18<00:07,  3.99it/s]"
     ]
    },
    {
     "name": "stdout",
     "output_type": "stream",
     "text": [
      "\n",
      "🔹 Predicted: Sfangheil ist auch schon zu einer Kreis der Klinz und hat es auch auch klinzige Klinz auf den Klinzern.\n",
      "🔸 Reference: Zweifellos wird dieser Handelsverkehr für das europäische Großkapital Gewinn bringend sein.\n"
     ]
    },
    {
     "name": "stderr",
     "output_type": "stream",
     "text": [
      " 71%|███████   | 71/100 [00:18<00:05,  4.89it/s]"
     ]
    },
    {
     "name": "stdout",
     "output_type": "stream",
     "text": [
      "\n",
      "🔹 Predicted: Der Ortstehn des Verkauf der Geräck des Unitabung der Goldbiet.\n",
      "🔸 Reference: Der Ortskern beschreibt ein Viereck, dessen Mitte unbebaut blieb.\n",
      "\n",
      "🔹 Predicted: Skept, sie geht es nicht weiter.\n",
      "🔸 Reference: Stop! Hier geht es nicht weiter.\n"
     ]
    },
    {
     "name": "stderr",
     "output_type": "stream",
     "text": [
      "\r",
      " 72%|███████▏  | 72/100 [00:18<00:05,  5.17it/s]"
     ]
    },
    {
     "name": "stdout",
     "output_type": "stream",
     "text": [
      "\n",
      "🔹 Predicted: Jährlich hat ein Baufsvergiftet zur Skate.\n",
      "🔸 Reference: Erich hat ein auffällig spitzes Kinn.\n"
     ]
    },
    {
     "name": "stderr",
     "output_type": "stream",
     "text": [
      " 74%|███████▍  | 74/100 [00:19<00:05,  5.16it/s]"
     ]
    },
    {
     "name": "stdout",
     "output_type": "stream",
     "text": [
      "\n",
      "🔹 Predicted: Das time wurde ganz sein, wenn sichher der Bewegung sich die Landtag bebaut.\n",
      "🔸 Reference: Das Drama würde gar nicht sein, wenn sich alle an die Richtlinien halten würden.\n",
      "\n",
      "🔹 Predicted: Zerwitzende von Anstädte sind die beiden nur an der Fall.\n",
      "🔸 Reference: Seit Beginn der Veranstaltung sind die beiden nur am Gackern.\n"
     ]
    },
    {
     "name": "stderr",
     "output_type": "stream",
     "text": [
      " 76%|███████▌  | 76/100 [00:19<00:04,  5.27it/s]"
     ]
    },
    {
     "name": "stdout",
     "output_type": "stream",
     "text": [
      "\n",
      "🔹 Predicted: Wir ist auch dennoch in die Niveau-Bäce nach aus dem Kondensinnerts-Titel.\n",
      "🔸 Reference: Welche Seite nach innen und welche nach außen kommt, ist schnurzpiepegal.\n",
      "\n",
      "🔹 Predicted: The route of this has that close to the train door left.\n",
      "🔸 Reference: Der Hund hat es sich auf der Couch bequem gemacht.\n"
     ]
    },
    {
     "name": "stderr",
     "output_type": "stream",
     "text": [
      " 78%|███████▊  | 78/100 [00:19<00:03,  6.08it/s]"
     ]
    },
    {
     "name": "stdout",
     "output_type": "stream",
     "text": [
      "\n",
      "🔹 Predicted:  Mit der Katzung ist es als er durch die Wohnten zu haben.\n",
      "🔸 Reference: Mit Kerzenlicht ist es aber viel romantischer.\n",
      "\n",
      "🔹 Predicted: It is also a diverse generation to count.\n",
      "🔸 Reference: Jetzt wird das Wasser doch langsam zu kalt.\n"
     ]
    },
    {
     "name": "stderr",
     "output_type": "stream",
     "text": [
      "\r",
      " 79%|███████▉  | 79/100 [00:20<00:03,  5.79it/s]"
     ]
    },
    {
     "name": "stdout",
     "output_type": "stream",
     "text": [
      "\n",
      "🔹 Predicted:  Die Stimme haben ein� zuhause oder der Benden behernachtsmann.\n",
      "🔸 Reference: Glaubst du noch an den Osterhasen oder gar an den Weihnachtsmann?\n",
      "\n",
      "🔹 Predicted: Jingwarte herhinist vonNathen und Nieddatschett.\n",
      "🔸 Reference: Die Wartehalle misst fünf mal fünf Meter.\n"
     ]
    },
    {
     "name": "stderr",
     "output_type": "stream",
     "text": [
      " 81%|████████  | 81/100 [00:20<00:03,  5.34it/s]"
     ]
    },
    {
     "name": "stdout",
     "output_type": "stream",
     "text": [
      "\n",
      "🔹 Predicted: Den aufsinnüder Städtsbahnstätter weiterbührende.\n",
      "🔸 Reference: Der Nazi-Widerstandskämpfer Hans Quecke war ihr Bruder.\n"
     ]
    },
    {
     "name": "stderr",
     "output_type": "stream",
     "text": [
      "\r",
      " 82%|████████▏ | 82/100 [00:20<00:03,  5.12it/s]"
     ]
    },
    {
     "name": "stdout",
     "output_type": "stream",
     "text": [
      "\n",
      "🔹 Predicted: Wir sind nur noch nicht beziehungsweise in der Fallen des Guteckungssystems.\n",
      "🔸 Reference: Auch unbewegliche Bakterien sind in der Familie vertreten.\n"
     ]
    },
    {
     "name": "stderr",
     "output_type": "stream",
     "text": [
      "\r",
      " 83%|████████▎ | 83/100 [00:21<00:03,  4.44it/s]"
     ]
    },
    {
     "name": "stdout",
     "output_type": "stream",
     "text": [
      "\n",
      "🔹 Predicted: Das Worter und die Kessenträschte ist, dass der Kessenträschte auf den Rauf der Lauf des Laufs.\n",
      "🔸 Reference: Des Weiteren gibt es südwestlich der Stadt den Flughafen Los Mochis.\n"
     ]
    },
    {
     "name": "stderr",
     "output_type": "stream",
     "text": [
      "\r",
      " 84%|████████▍ | 84/100 [00:21<00:03,  4.54it/s]"
     ]
    },
    {
     "name": "stdout",
     "output_type": "stream",
     "text": [
      "\n",
      "🔹 Predicted: Die Sänen muss sich meist zu einer Freude weiter durchgeführt sein und ist weit gut.\n",
      "🔸 Reference: Diese luden Smith zu einer Vortragsreise durch Deutschland und die Schweiz ein.\n"
     ]
    },
    {
     "name": "stderr",
     "output_type": "stream",
     "text": [
      "\r",
      " 85%|████████▌ | 85/100 [00:21<00:03,  4.65it/s]"
     ]
    },
    {
     "name": "stdout",
     "output_type": "stream",
     "text": [
      "\n",
      "🔹 Predicted: Espewter als die Zähnebaut auf die Säne mehr Schäfte.\n",
      "🔸 Reference: Es gibt drei spezielle Punkte, auf die ich eingehen möchte.\n"
     ]
    },
    {
     "name": "stderr",
     "output_type": "stream",
     "text": [
      " 87%|████████▋ | 87/100 [00:21<00:02,  5.14it/s]"
     ]
    },
    {
     "name": "stdout",
     "output_type": "stream",
     "text": [
      "\n",
      "🔹 Predicted: Sundering zertere und zahlreiften in den内sten und der Stahlsung des Landesstands.\n",
      "🔸 Reference: Zudem verkehren auch zahlreiche Regionalzüge auf kürzeren Distanzen.\n",
      "\n",
      "🔹 Predicted: 一切都会变化来来来\n",
      "🔸 Reference: Der Stausee dient heute der Energiegewinnung.\n"
     ]
    },
    {
     "name": "stderr",
     "output_type": "stream",
     "text": [
      " 89%|████████▉ | 89/100 [00:22<00:02,  5.34it/s]"
     ]
    },
    {
     "name": "stdout",
     "output_type": "stream",
     "text": [
      "\n",
      "🔹 Predicted: Wir haben wir die Anziehissere zur übernigt, der wir alsektorungsstilung.\n",
      "🔸 Reference: Wir haben gegen die Entschließung zur Politik der Union im Reissektor gestimmt.\n",
      "\n",
      "🔹 Predicted: Bedin Bernberg hat ein Nüsstiger.\n",
      "🔸 Reference: Wer gegen wen warum kämpft, wird ihm nicht klar.\n"
     ]
    },
    {
     "name": "stderr",
     "output_type": "stream",
     "text": [
      "\r",
      " 90%|█████████ | 90/100 [00:22<00:02,  4.99it/s]"
     ]
    },
    {
     "name": "stdout",
     "output_type": "stream",
     "text": [
      "\n",
      "🔹 Predicted: Denoc von Dessys hat ein bisschen Zeit und ein paarWir haben ein bisschen bewegen.\n",
      "🔸 Reference: Dennoch wandte sich Karpeles schon früh der Sozialdemokratie und der Arbeiterbewegung zu.\n"
     ]
    },
    {
     "name": "stderr",
     "output_type": "stream",
     "text": [
      " 92%|█████████▏| 92/100 [00:22<00:01,  5.01it/s]"
     ]
    },
    {
     "name": "stdout",
     "output_type": "stream",
     "text": [
      "\n",
      "🔹 Predicted: Das Erwalt von der Beweg von der Sägenz hat er an der Verstande.\n",
      "🔸 Reference: Das unzureichende Beherrschen des Lesens hat auch andere Schwächen zur Folge.\n",
      "\n",
      "🔹 Predicted: Way the set of some Muslim people who have had the freedom to see them in English.\n",
      "🔸 Reference: Meines Erachtens müssen wir europäische Versicherungssysteme einrichten.\n"
     ]
    },
    {
     "name": "stderr",
     "output_type": "stream",
     "text": [
      "\r",
      " 93%|█████████▎| 93/100 [00:26<00:07,  1.11s/it]"
     ]
    },
    {
     "name": "stdout",
     "output_type": "stream",
     "text": [
      "\n",
      "🔹 Predicted: 彼は、彼は、彼は、彼は、彼は、彼は、彼は、彼は、彼は、彼は、彼は、彼は、彼は、彼は、彼は、彼は、彼は、彼は、彼は、彼は、彼は、彼は、彼は、彼は、彼は、彼は、彼は、彼は、彼は、彼は、彼は、彼は、彼は、彼は、彼は、彼は、彼は、彼は、彼は、彼は、彼は、彼は、彼は、彼は彼は、彼は彼は、彼は彼は、彼は彼は彼は彼は彼は彼は彼は彼は彼は彼は彼は彼は彼は彼は彼は彼は彼は彼は彼は彼は彼は彼は彼は彼は彼は彼は彼は彼は彼は彼は彼は彼は彼は彼は彼は彼は彼は彼は彼は彼は彼は彼は彼は彼は彼は彼は彼は彼は彼は彼は彼は彼は彼は彼は彼は彼は彼は彼は彼は彼は彼は彼は彼は彼は彼は彼は彼は彼は彼は彼は彼は彼は彼は彼は彼は彼は彼は彼は彼は彼は彼は彼は彼は彼\n",
      "🔸 Reference: Am vergangenen Donnerstag, in der Konferenz der Präsidenten, wäre ja Gelegenheit dazu gewesen.\n"
     ]
    },
    {
     "name": "stderr",
     "output_type": "stream",
     "text": [
      "\r",
      " 94%|█████████▍| 94/100 [00:26<00:05,  1.16it/s]"
     ]
    },
    {
     "name": "stdout",
     "output_type": "stream",
     "text": [
      "\n",
      "🔹 Predicted: In der Fäste in der Dessert vertreten, wurde zur Zieber der Nieselisse an den Land verbrain.\n",
      "🔸 Reference: In der fünften Legislaturperiode zog sie über die Landesliste in den Landtag ein.\n"
     ]
    },
    {
     "name": "stderr",
     "output_type": "stream",
     "text": [
      "\r",
      " 95%|█████████▌| 95/100 [00:26<00:03,  1.42it/s]"
     ]
    },
    {
     "name": "stdout",
     "output_type": "stream",
     "text": [
      "\n",
      "🔹 Predicted: In der Fettung war der Nürnregel, der seit seinem�terem Wäßchen der Zwei-Dem-Morale der Mürnregel.\n",
      "🔸 Reference: Edward Fatu war ein Angehöriger der seit Jahrzehnten im Wrestling vertretenen Anoa’i-Familie.\n"
     ]
    },
    {
     "name": "stderr",
     "output_type": "stream",
     "text": [
      " 97%|█████████▋| 97/100 [00:27<00:01,  2.16it/s]"
     ]
    },
    {
     "name": "stdout",
     "output_type": "stream",
     "text": [
      "\n",
      "🔹 Predicted: Dynamicsson mit dem U-T-A-N-Präter und wird über die Zeit im Stenern in der Zeit.\n",
      "🔸 Reference: Generation mit guter und breiter in-vitro-Aktivität gegen Schimmelpilze.\n",
      "\n",
      "🔹 Predicted: Gis is rather than an orphan, who was a little bit tired and tired and just recently.\n",
      "🔸 Reference: Dies ist meiner Meinung nach von großer Bedeutung und sollte unterstrichen werden.\n"
     ]
    },
    {
     "name": "stderr",
     "output_type": "stream",
     "text": [
      " 99%|█████████▉| 99/100 [00:27<00:00,  3.33it/s]"
     ]
    },
    {
     "name": "stdout",
     "output_type": "stream",
     "text": [
      "\n",
      "🔹 Predicted: Insof das Verwesen muss es darauf bezutten.\n",
      "🔸 Reference: Ich muss auf das verweisen, was ich gerade gesagt habe.\n",
      "\n",
      "🔹 Predicted: Zusie wird schon maler Herrer auf demうを\n",
      "🔸 Reference: Schließlich noch zur Rolle von Europol.\n"
     ]
    },
    {
     "name": "stderr",
     "output_type": "stream",
     "text": [
      "100%|██████████| 100/100 [00:27<00:00,  3.62it/s]\n"
     ]
    },
    {
     "name": "stdout",
     "output_type": "stream",
     "text": [
      "\n",
      "🔹 Predicted: Dies haben wir uns vorbeauert, aber auch schon.\n",
      "🔸 Reference: Dies hat Auswirkungen auf den Wasserhaushalt.\n",
      "\n",
      "✅ DE WER: 1.1151\n"
     ]
    }
   ],
   "source": [
    "import torch\n",
    "from jiwer import wer\n",
    "from tqdm import tqdm\n",
    "\n",
    "def filter_by_lang(dataset, lang_code):\n",
    "    return [x for x in dataset if x[\"locale\"] == lang_code]\n",
    "\n",
    "lang_list = [\"ko\", \"en\", \"ja\", \"de\"]\n",
    "lang_wer_results = {}\n",
    "\n",
    "for lang in lang_list:\n",
    "    print(f\"\\n🌍 Language: {lang}\")\n",
    "    lang_data = filter_by_lang(dataset, lang)\n",
    "    predictions, references = [], []\n",
    "\n",
    "    for sample in tqdm(lang_data):\n",
    "        input_features = processor.feature_extractor(sample[\"audio\"][\"array\"], sampling_rate=16000, return_tensors=\"pt\").input_features.to(model.device)\n",
    "\n",
    "        with torch.no_grad():\n",
    "            predicted_ids = model.generate(input_features)\n",
    "\n",
    "        transcription = processor.tokenizer.batch_decode(predicted_ids, skip_special_tokens=True)[0]\n",
    "        predictions.append(transcription)\n",
    "        references.append(sample[\"sentence\"])\n",
    "\n",
    "        print(f\"\\n🔹 Predicted: {transcription}\")\n",
    "        print(f\"🔸 Reference: {sample['sentence']}\")\n",
    "\n",
    "    score = wer(references, predictions)\n",
    "    lang_wer_results[lang] = score\n",
    "    print(f\"\\n✅ {lang.upper()} WER: {score:.4f}\")"
   ]
  },
  {
   "cell_type": "markdown",
   "metadata": {
    "id": "ilZq-GSMhWEO"
   },
   "source": [
    "## __6.Results__"
   ]
  },
  {
   "cell_type": "code",
   "execution_count": 11,
   "metadata": {},
   "outputs": [
    {
     "name": "stdout",
     "output_type": "stream",
     "text": [
      "\n",
      "📊 WER Comparison (Sorted):\n",
      "🔹 DE  WER: 1.1151\n",
      "🔹 EN  WER: 1.6911\n",
      "🔹 KO  WER: 3.2878\n",
      "🔹 JA  WER: 7.3700\n"
     ]
    }
   ],
   "source": [
    "print(\"\\n📊 WER Comparison (Sorted):\")\n",
    "for lang, score in sorted(lang_wer_results.items(), key=lambda x: x[1]):\n",
    "    print(f\"🔹 {lang.upper():<3} WER: {score:.4f}\")"
   ]
  },
  {
   "cell_type": "code",
   "execution_count": 12,
   "metadata": {},
   "outputs": [
    {
     "data": {
      "image/png": "[encoded data removed]",
      "text/plain": [
       "<Figure size 800x500 with 1 Axes>"
      ]
     },
     "metadata": {},
     "output_type": "display_data"
    }
   ],
   "source": [
    "import matplotlib.pyplot as plt\n",
    "\n",
    "sorted_items = sorted(lang_wer_results.items(), key=lambda x: x[1])\n",
    "langs_sorted = [x[0] for x in sorted_items]\n",
    "scores_sorted = [x[1] for x in sorted_items]\n",
    "\n",
    "plt.figure(figsize=(8, 5))\n",
    "bars = plt.bar(langs_sorted, scores_sorted)\n",
    "plt.title(\"WER Comparison by Language (Tiny Model)\")\n",
    "plt.xlabel(\"Language\")\n",
    "plt.ylabel(\"WER (lower is better)\")\n",
    "\n",
    "for bar in bars:\n",
    "    yval = bar.get_height()\n",
    "    plt.text(bar.get_x() + bar.get_width()/2.0, yval + 0.01, f\"{yval:.3f}\", ha='center', va='bottom')\n",
    "\n",
    "plt.tight_layout()\n",
    "plt.savefig(\"wer_comparison_chart_tiny_sorted.png\")\n",
    "plt.show()"
   ]
  },
  {
   "cell_type": "markdown",
   "metadata": {
    "id": "QRcNhq1QjTev"
   },
   "source": [
    "- 현재 language=None + forced_decoder_ids=None은 모델이 언어 감지 실패 시 아무 언어로 예측함\n",
    "- 샘플마다 언어에 맞게 decoder 설정해야 할 듯"
   ]
  }
 ],
 "metadata": {
  "language_info": {
   "name": "python"
  }
 },
 "nbformat": 4,
 "nbformat_minor": 0
}
