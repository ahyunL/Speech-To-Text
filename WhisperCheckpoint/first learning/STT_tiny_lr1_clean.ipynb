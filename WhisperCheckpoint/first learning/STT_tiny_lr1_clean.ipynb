{
 "cells": [
  {
   "cell_type": "code",
   "execution_count": 1,
   "metadata": {},
   "outputs": [
    {
     "name": "stdout",
     "output_type": "stream",
     "text": [
      "\u001b[2K   \u001b[90m━━━━━━━━━━━━━━━━━━━━━━━━━━━━━━━━━━━━━━━━\u001b[0m \u001b[32m3.1/3.1 MB\u001b[0m \u001b[31m79.6 MB/s\u001b[0m eta \u001b[36m0:00:00\u001b[0m\n",
      "\u001b[2K   \u001b[90m━━━━━━━━━━━━━━━━━━━━━━━━━━━━━━━━━━━━━━━━\u001b[0m \u001b[32m363.4/363.4 MB\u001b[0m \u001b[31m3.0 MB/s\u001b[0m eta \u001b[36m0:00:00\u001b[0m\n",
      "\u001b[2K   \u001b[90m━━━━━━━━━━━━━━━━━━━━━━━━━━━━━━━━━━━━━━━━\u001b[0m \u001b[32m13.8/13.8 MB\u001b[0m \u001b[31m91.2 MB/s\u001b[0m eta \u001b[36m0:00:00\u001b[0m\n",
      "\u001b[2K   \u001b[90m━━━━━━━━━━━━━━━━━━━━━━━━━━━━━━━━━━━━━━━━\u001b[0m \u001b[32m24.6/24.6 MB\u001b[0m \u001b[31m86.8 MB/s\u001b[0m eta \u001b[36m0:00:00\u001b[0m\n",
      "\u001b[2K   \u001b[90m━━━━━━━━━━━━━━━━━━━━━━━━━━━━━━━━━━━━━━━━\u001b[0m \u001b[32m883.7/883.7 kB\u001b[0m \u001b[31m47.5 MB/s\u001b[0m eta \u001b[36m0:00:00\u001b[0m\n",
      "\u001b[2K   \u001b[90m━━━━━━━━━━━━━━━━━━━━━━━━━━━━━━━━━━━━━━━━\u001b[0m \u001b[32m664.8/664.8 MB\u001b[0m \u001b[31m2.4 MB/s\u001b[0m eta \u001b[36m0:00:00\u001b[0m\n",
      "\u001b[2K   \u001b[90m━━━━━━━━━━━━━━━━━━━━━━━━━━━━━━━━━━━━━━━━\u001b[0m \u001b[32m211.5/211.5 MB\u001b[0m \u001b[31m4.7 MB/s\u001b[0m eta \u001b[36m0:00:00\u001b[0m\n",
      "\u001b[2K   \u001b[90m━━━━━━━━━━━━━━━━━━━━━━━━━━━━━━━━━━━━━━━━\u001b[0m \u001b[32m56.3/56.3 MB\u001b[0m \u001b[31m41.1 MB/s\u001b[0m eta \u001b[36m0:00:00\u001b[0m\n",
      "\u001b[2K   \u001b[90m━━━━━━━━━━━━━━━━━━━━━━━━━━━━━━━━━━━━━━━━\u001b[0m \u001b[32m127.9/127.9 MB\u001b[0m \u001b[31m19.0 MB/s\u001b[0m eta \u001b[36m0:00:00\u001b[0m\n",
      "\u001b[2K   \u001b[90m━━━━━━━━━━━━━━━━━━━━━━━━━━━━━━━━━━━━━━━━\u001b[0m \u001b[32m207.5/207.5 MB\u001b[0m \u001b[31m5.0 MB/s\u001b[0m eta \u001b[36m0:00:00\u001b[0m\n",
      "\u001b[2K   \u001b[90m━━━━━━━━━━━━━━━━━━━━━━━━━━━━━━━━━━━━━━━━\u001b[0m \u001b[32m21.1/21.1 MB\u001b[0m \u001b[31m89.7 MB/s\u001b[0m eta \u001b[36m0:00:00\u001b[0m\n",
      "\u001b[?25hRequirement already satisfied: datasets in /usr/local/lib/python3.11/dist-packages (2.14.4)\n",
      "Collecting datasets\n",
      "  Downloading datasets-3.6.0-py3-none-any.whl.metadata (19 kB)\n",
      "Requirement already satisfied: transformers in /usr/local/lib/python3.11/dist-packages (4.51.3)\n",
      "Requirement already satisfied: accelerate in /usr/local/lib/python3.11/dist-packages (1.6.0)\n",
      "Collecting accelerate\n",
      "  Downloading accelerate-1.7.0-py3-none-any.whl.metadata (19 kB)\n",
      "Collecting evaluate\n",
      "  Downloading evaluate-0.4.3-py3-none-any.whl.metadata (9.2 kB)\n",
      "Requirement already satisfied: filelock in /usr/local/lib/python3.11/dist-packages (from datasets) (3.18.0)\n",
      "Requirement already satisfied: numpy>=1.17 in /usr/local/lib/python3.11/dist-packages (from datasets) (2.0.2)\n",
      "Requirement already satisfied: pyarrow>=15.0.0 in /usr/local/lib/python3.11/dist-packages (from datasets) (18.1.0)\n",
      "Requirement already satisfied: dill<0.3.9,>=0.3.0 in /usr/local/lib/python3.11/dist-packages (from datasets) (0.3.7)\n",
      "Requirement already satisfied: pandas in /usr/local/lib/python3.11/dist-packages (from datasets) (2.2.2)\n",
      "Requirement already satisfied: requests>=2.32.2 in /usr/local/lib/python3.11/dist-packages (from datasets) (2.32.3)\n",
      "Requirement already satisfied: tqdm>=4.66.3 in /usr/local/lib/python3.11/dist-packages (from datasets) (4.67.1)\n",
      "Requirement already satisfied: xxhash in /usr/local/lib/python3.11/dist-packages (from datasets) (3.5.0)\n",
      "Requirement already satisfied: multiprocess<0.70.17 in /usr/local/lib/python3.11/dist-packages (from datasets) (0.70.15)\n",
      "Collecting fsspec<=2025.3.0,>=2023.1.0 (from fsspec[http]<=2025.3.0,>=2023.1.0->datasets)\n",
      "  Downloading fsspec-2025.3.0-py3-none-any.whl.metadata (11 kB)\n",
      "Requirement already satisfied: huggingface-hub>=0.24.0 in /usr/local/lib/python3.11/dist-packages (from datasets) (0.31.2)\n",
      "Requirement already satisfied: packaging in /usr/local/lib/python3.11/dist-packages (from datasets) (24.2)\n",
      "Requirement already satisfied: pyyaml>=5.1 in /usr/local/lib/python3.11/dist-packages (from datasets) (6.0.2)\n",
      "Requirement already satisfied: regex!=2019.12.17 in /usr/local/lib/python3.11/dist-packages (from transformers) (2024.11.6)\n",
      "Requirement already satisfied: tokenizers<0.22,>=0.21 in /usr/local/lib/python3.11/dist-packages (from transformers) (0.21.1)\n",
      "Requirement already satisfied: safetensors>=0.4.3 in /usr/local/lib/python3.11/dist-packages (from transformers) (0.5.3)\n",
      "Requirement already satisfied: psutil in /usr/local/lib/python3.11/dist-packages (from accelerate) (5.9.5)\n",
      "Requirement already satisfied: torch>=2.0.0 in /usr/local/lib/python3.11/dist-packages (from accelerate) (2.6.0+cu124)\n",
      "Requirement already satisfied: aiohttp!=4.0.0a0,!=4.0.0a1 in /usr/local/lib/python3.11/dist-packages (from fsspec[http]<=2025.3.0,>=2023.1.0->datasets) (3.11.15)\n",
      "Requirement already satisfied: typing-extensions>=3.7.4.3 in /usr/local/lib/python3.11/dist-packages (from huggingface-hub>=0.24.0->datasets) (4.13.2)\n",
      "Requirement already satisfied: charset-normalizer<4,>=2 in /usr/local/lib/python3.11/dist-packages (from requests>=2.32.2->datasets) (3.4.2)\n",
      "Requirement already satisfied: idna<4,>=2.5 in /usr/local/lib/python3.11/dist-packages (from requests>=2.32.2->datasets) (3.10)\n",
      "Requirement already satisfied: urllib3<3,>=1.21.1 in /usr/local/lib/python3.11/dist-packages (from requests>=2.32.2->datasets) (2.4.0)\n",
      "Requirement already satisfied: certifi>=2017.4.17 in /usr/local/lib/python3.11/dist-packages (from requests>=2.32.2->datasets) (2025.4.26)\n",
      "Requirement already satisfied: networkx in /usr/local/lib/python3.11/dist-packages (from torch>=2.0.0->accelerate) (3.4.2)\n",
      "Requirement already satisfied: jinja2 in /usr/local/lib/python3.11/dist-packages (from torch>=2.0.0->accelerate) (3.1.6)\n",
      "Requirement already satisfied: nvidia-cuda-nvrtc-cu12==12.4.127 in /usr/local/lib/python3.11/dist-packages (from torch>=2.0.0->accelerate) (12.4.127)\n",
      "Requirement already satisfied: nvidia-cuda-runtime-cu12==12.4.127 in /usr/local/lib/python3.11/dist-packages (from torch>=2.0.0->accelerate) (12.4.127)\n",
      "Requirement already satisfied: nvidia-cuda-cupti-cu12==12.4.127 in /usr/local/lib/python3.11/dist-packages (from torch>=2.0.0->accelerate) (12.4.127)\n",
      "Requirement already satisfied: nvidia-cudnn-cu12==9.1.0.70 in /usr/local/lib/python3.11/dist-packages (from torch>=2.0.0->accelerate) (9.1.0.70)\n",
      "Requirement already satisfied: nvidia-cublas-cu12==12.4.5.8 in /usr/local/lib/python3.11/dist-packages (from torch>=2.0.0->accelerate) (12.4.5.8)\n",
      "Requirement already satisfied: nvidia-cufft-cu12==11.2.1.3 in /usr/local/lib/python3.11/dist-packages (from torch>=2.0.0->accelerate) (11.2.1.3)\n",
      "Requirement already satisfied: nvidia-curand-cu12==10.3.5.147 in /usr/local/lib/python3.11/dist-packages (from torch>=2.0.0->accelerate) (10.3.5.147)\n",
      "Requirement already satisfied: nvidia-cusolver-cu12==11.6.1.9 in /usr/local/lib/python3.11/dist-packages (from torch>=2.0.0->accelerate) (11.6.1.9)\n",
      "Requirement already satisfied: nvidia-cusparse-cu12==12.3.1.170 in /usr/local/lib/python3.11/dist-packages (from torch>=2.0.0->accelerate) (12.3.1.170)\n",
      "Requirement already satisfied: nvidia-cusparselt-cu12==0.6.2 in /usr/local/lib/python3.11/dist-packages (from torch>=2.0.0->accelerate) (0.6.2)\n",
      "Requirement already satisfied: nvidia-nccl-cu12==2.21.5 in /usr/local/lib/python3.11/dist-packages (from torch>=2.0.0->accelerate) (2.21.5)\n",
      "Requirement already satisfied: nvidia-nvtx-cu12==12.4.127 in /usr/local/lib/python3.11/dist-packages (from torch>=2.0.0->accelerate) (12.4.127)\n",
      "Requirement already satisfied: nvidia-nvjitlink-cu12==12.4.127 in /usr/local/lib/python3.11/dist-packages (from torch>=2.0.0->accelerate) (12.4.127)\n",
      "Requirement already satisfied: triton==3.2.0 in /usr/local/lib/python3.11/dist-packages (from torch>=2.0.0->accelerate) (3.2.0)\n",
      "Requirement already satisfied: sympy==1.13.1 in /usr/local/lib/python3.11/dist-packages (from torch>=2.0.0->accelerate) (1.13.1)\n",
      "Requirement already satisfied: mpmath<1.4,>=1.1.0 in /usr/local/lib/python3.11/dist-packages (from sympy==1.13.1->torch>=2.0.0->accelerate) (1.3.0)\n",
      "Requirement already satisfied: python-dateutil>=2.8.2 in /usr/local/lib/python3.11/dist-packages (from pandas->datasets) (2.9.0.post0)\n",
      "Requirement already satisfied: pytz>=2020.1 in /usr/local/lib/python3.11/dist-packages (from pandas->datasets) (2025.2)\n",
      "Requirement already satisfied: tzdata>=2022.7 in /usr/local/lib/python3.11/dist-packages (from pandas->datasets) (2025.2)\n",
      "Requirement already satisfied: aiohappyeyeballs>=2.3.0 in /usr/local/lib/python3.11/dist-packages (from aiohttp!=4.0.0a0,!=4.0.0a1->fsspec[http]<=2025.3.0,>=2023.1.0->datasets) (2.6.1)\n",
      "Requirement already satisfied: aiosignal>=1.1.2 in /usr/local/lib/python3.11/dist-packages (from aiohttp!=4.0.0a0,!=4.0.0a1->fsspec[http]<=2025.3.0,>=2023.1.0->datasets) (1.3.2)\n",
      "Requirement already satisfied: attrs>=17.3.0 in /usr/local/lib/python3.11/dist-packages (from aiohttp!=4.0.0a0,!=4.0.0a1->fsspec[http]<=2025.3.0,>=2023.1.0->datasets) (25.3.0)\n",
      "Requirement already satisfied: frozenlist>=1.1.1 in /usr/local/lib/python3.11/dist-packages (from aiohttp!=4.0.0a0,!=4.0.0a1->fsspec[http]<=2025.3.0,>=2023.1.0->datasets) (1.6.0)\n",
      "Requirement already satisfied: multidict<7.0,>=4.5 in /usr/local/lib/python3.11/dist-packages (from aiohttp!=4.0.0a0,!=4.0.0a1->fsspec[http]<=2025.3.0,>=2023.1.0->datasets) (6.4.3)\n",
      "Requirement already satisfied: propcache>=0.2.0 in /usr/local/lib/python3.11/dist-packages (from aiohttp!=4.0.0a0,!=4.0.0a1->fsspec[http]<=2025.3.0,>=2023.1.0->datasets) (0.3.1)\n",
      "Requirement already satisfied: yarl<2.0,>=1.17.0 in /usr/local/lib/python3.11/dist-packages (from aiohttp!=4.0.0a0,!=4.0.0a1->fsspec[http]<=2025.3.0,>=2023.1.0->datasets) (1.20.0)\n",
      "Requirement already satisfied: six>=1.5 in /usr/local/lib/python3.11/dist-packages (from python-dateutil>=2.8.2->pandas->datasets) (1.17.0)\n",
      "Requirement already satisfied: MarkupSafe>=2.0 in /usr/local/lib/python3.11/dist-packages (from jinja2->torch>=2.0.0->accelerate) (3.0.2)\n",
      "Downloading datasets-3.6.0-py3-none-any.whl (491 kB)\n",
      "\u001b[2K   \u001b[90m━━━━━━━━━━━━━━━━━━━━━━━━━━━━━━━━━━━━━━━━\u001b[0m \u001b[32m491.5/491.5 kB\u001b[0m \u001b[31m39.6 MB/s\u001b[0m eta \u001b[36m0:00:00\u001b[0m\n",
      "\u001b[?25hDownloading accelerate-1.7.0-py3-none-any.whl (362 kB)\n",
      "\u001b[2K   \u001b[90m━━━━━━━━━━━━━━━━━━━━━━━━━━━━━━━━━━━━━━━━\u001b[0m \u001b[32m362.1/362.1 kB\u001b[0m \u001b[31m35.8 MB/s\u001b[0m eta \u001b[36m0:00:00\u001b[0m\n",
      "\u001b[?25hDownloading evaluate-0.4.3-py3-none-any.whl (84 kB)\n",
      "\u001b[2K   \u001b[90m━━━━━━━━━━━━━━━━━━━━━━━━━━━━━━━━━━━━━━━━\u001b[0m \u001b[32m84.0/84.0 kB\u001b[0m \u001b[31m9.6 MB/s\u001b[0m eta \u001b[36m0:00:00\u001b[0m\n",
      "\u001b[?25hDownloading fsspec-2025.3.0-py3-none-any.whl (193 kB)\n",
      "\u001b[2K   \u001b[90m━━━━━━━━━━━━━━━━━━━━━━━━━━━━━━━━━━━━━━━━\u001b[0m \u001b[32m193.6/193.6 kB\u001b[0m \u001b[31m21.4 MB/s\u001b[0m eta \u001b[36m0:00:00\u001b[0m\n",
      "\u001b[?25hInstalling collected packages: fsspec, datasets, accelerate, evaluate\n",
      "  Attempting uninstall: fsspec\n",
      "    Found existing installation: fsspec 2025.3.2\n",
      "    Uninstalling fsspec-2025.3.2:\n",
      "      Successfully uninstalled fsspec-2025.3.2\n",
      "  Attempting uninstall: datasets\n",
      "    Found existing installation: datasets 2.14.4\n",
      "    Uninstalling datasets-2.14.4:\n",
      "      Successfully uninstalled datasets-2.14.4\n",
      "  Attempting uninstall: accelerate\n",
      "    Found existing installation: accelerate 1.6.0\n",
      "    Uninstalling accelerate-1.6.0:\n",
      "      Successfully uninstalled accelerate-1.6.0\n",
      "\u001b[31mERROR: pip's dependency resolver does not currently take into account all the packages that are installed. This behaviour is the source of the following dependency conflicts.\n",
      "gcsfs 2025.3.2 requires fsspec==2025.3.2, but you have fsspec 2025.3.0 which is incompatible.\u001b[0m\u001b[31m\n",
      "\u001b[0mSuccessfully installed accelerate-1.7.0 datasets-3.6.0 evaluate-0.4.3 fsspec-2025.3.0\n",
      "Mounted at /content/drive\n"
     ]
    },
    {
     "data": {
      "application/vnd.jupyter.widget-view+json": {
       "model_id": "528f58582cce456b847f9017dfec824f",
       "version_major": 2,
       "version_minor": 0
      },
      "text/plain": [
       "VBox(children=(HTML(value='<center> <img\\nsrc=https://huggingface.co/front/assets/huggingface_logo-noborder.sv…"
      ]
     },
     "metadata": {},
     "output_type": "display_data"
    }
   ],
   "source": [
    "!pip install -q datasets transformers librosa jiwer accelerate\n",
    "!pip install -U datasets transformers accelerate evaluate\n",
    "\n",
    "from google.colab import drive\n",
    "from huggingface_hub import notebook_login\n",
    "\n",
    "drive.mount(\"/content/drive\")\n",
    "notebook_login()"
   ]
  },
  {
   "cell_type": "code",
   "execution_count": 2,
   "metadata": {},
   "outputs": [
    {
     "name": "stderr",
     "output_type": "stream",
     "text": [
      "/usr/local/lib/python3.11/dist-packages/huggingface_hub/utils/_auth.py:94: UserWarning: \n",
      "The secret `HF_TOKEN` does not exist in your Colab secrets.\n",
      "To authenticate with the Hugging Face Hub, create a token in your settings tab (https://huggingface.co/settings/tokens), set it as secret in your Google Colab and restart your session.\n",
      "You will be able to reuse this secret in all of your notebooks.\n",
      "Please note that authentication is recommended but still optional to access public models or datasets.\n",
      "  warnings.warn(\n"
     ]
    },
    {
     "data": {
      "application/vnd.jupyter.widget-view+json": {
       "model_id": "695a3b91b1694e4aa4bb446e3252a157",
       "version_major": 2,
       "version_minor": 0
      },
      "text/plain": [
       "README.md:   0%|          | 0.00/14.7k [00:00<?, ?B/s]"
      ]
     },
     "metadata": {},
     "output_type": "display_data"
    },
    {
     "data": {
      "application/vnd.jupyter.widget-view+json": {
       "model_id": "6022ae3839214a3e8db6ea9e3f8d7fe0",
       "version_major": 2,
       "version_minor": 0
      },
      "text/plain": [
       "common_voice_13_0.py:   0%|          | 0.00/8.18k [00:00<?, ?B/s]"
      ]
     },
     "metadata": {},
     "output_type": "display_data"
    },
    {
     "data": {
      "application/vnd.jupyter.widget-view+json": {
       "model_id": "90a9fd4883234327893f819366a56c44",
       "version_major": 2,
       "version_minor": 0
      },
      "text/plain": [
       "languages.py:   0%|          | 0.00/3.65k [00:00<?, ?B/s]"
      ]
     },
     "metadata": {},
     "output_type": "display_data"
    },
    {
     "data": {
      "application/vnd.jupyter.widget-view+json": {
       "model_id": "3b558069e34944c2aa54a1de197bc687",
       "version_major": 2,
       "version_minor": 0
      },
      "text/plain": [
       "release_stats.py:   0%|          | 0.00/65.4k [00:00<?, ?B/s]"
      ]
     },
     "metadata": {},
     "output_type": "display_data"
    },
    {
     "name": "stdout",
     "output_type": "stream",
     "text": [
      "The repository for mozilla-foundation/common_voice_13_0 contains custom code which must be executed to correctly load the dataset. You can inspect the repository content at https://hf.co/datasets/mozilla-foundation/common_voice_13_0.\n",
      "You can avoid this prompt in future by passing the argument `trust_remote_code=True`.\n",
      "\n",
      "Do you wish to run the custom code? [y/N] y\n"
     ]
    },
    {
     "name": "stderr",
     "output_type": "stream",
     "text": [
      "Reading metadata...: 192it [00:00, 297.98it/s]\n",
      "Reading metadata...: 1013968it [00:24, 41876.68it/s]\n",
      "Reading metadata...: 7071it [00:00, 22094.97it/s]\n",
      "Reading metadata...: 540437it [00:15, 34869.71it/s]\n",
      "Reading metadata...: 105it [00:00, 397.11it/s]\n",
      "Reading metadata...: 16372it [00:00, 43080.98it/s]\n",
      "Reading metadata...: 4961it [00:00, 16812.73it/s]\n",
      "Reading metadata...: 16143it [00:00, 39505.35it/s]\n",
      "Reading metadata...: 131it [00:00, 273.30it/s]\n",
      "Reading metadata...: 16372it [00:00, 45247.32it/s]\n",
      "Reading metadata...: 4961it [00:00, 16172.44it/s]\n",
      "Reading metadata...: 16143it [00:00, 42463.69it/s]\n"
     ]
    }
   ],
   "source": [
    "from datasets import load_dataset, Dataset\n",
    "from itertools import islice\n",
    "\n",
    "# 학습용 (train split)\n",
    "ko_train = list(islice(load_dataset(\"mozilla-foundation/common_voice_13_0\", \"ko\", split=\"train\", streaming=True), 100))\n",
    "en_train = list(islice(load_dataset(\"mozilla-foundation/common_voice_13_0\", \"en\", split=\"train\", streaming=True), 100))\n",
    "ja_train = list(islice(load_dataset(\"mozilla-foundation/common_voice_13_0\", \"ja\", split=\"train\", streaming=True), 100))\n",
    "de_train = list(islice(load_dataset(\"mozilla-foundation/common_voice_13_0\", \"de\", split=\"train\", streaming=True), 100))\n",
    "\n",
    "train_dataset = Dataset.from_list(ko_train + en_train + ja_train + de_train)\n",
    "\n",
    "# 검증용 (validation split - streaming 적용, 개수 제한)\n",
    "ko_val = list(islice(load_dataset(\"mozilla-foundation/common_voice_13_0\", \"ko\", split=\"validation\", streaming=True), 100))\n",
    "en_val = list(islice(load_dataset(\"mozilla-foundation/common_voice_13_0\", \"en\", split=\"validation\", streaming=True), 100))\n",
    "ja_val = list(islice(load_dataset(\"mozilla-foundation/common_voice_13_0\", \"ja\", split=\"validation\", streaming=True), 100))\n",
    "de_val = list(islice(load_dataset(\"mozilla-foundation/common_voice_13_0\", \"de\", split=\"validation\", streaming=True), 100))\n",
    "\n",
    "val_dataset = Dataset.from_list(ko_val + en_val + ja_val + de_val)\n",
    "\n",
    "# 테스트용 (test split - streaming 적용, 개수 제한)\n",
    "from itertools import islice\n",
    "\n",
    "ko_test = list(islice(load_dataset(\"mozilla-foundation/common_voice_13_0\", \"ko\", split=\"test\", streaming=True), 100))\n",
    "en_test = list(islice(load_dataset(\"mozilla-foundation/common_voice_13_0\", \"en\", split=\"test\", streaming=True), 100))\n",
    "ja_test = list(islice(load_dataset(\"mozilla-foundation/common_voice_13_0\", \"ja\", split=\"test\", streaming=True), 100))\n",
    "de_test = list(islice(load_dataset(\"mozilla-foundation/common_voice_13_0\", \"de\", split=\"test\", streaming=True), 100))\n",
    "\n",
    "test_dataset = Dataset.from_list(ko_test + en_test + ja_test + de_test)"
   ]
  },
  {
   "cell_type": "code",
   "execution_count": 3,
   "metadata": {},
   "outputs": [
    {
     "data": {
      "application/vnd.jupyter.widget-view+json": {
       "model_id": "58d1c830c7c1484ba2bfb57e33e037c2",
       "version_major": 2,
       "version_minor": 0
      },
      "text/plain": [
       "preprocessor_config.json:   0%|          | 0.00/185k [00:00<?, ?B/s]"
      ]
     },
     "metadata": {},
     "output_type": "display_data"
    },
    {
     "data": {
      "application/vnd.jupyter.widget-view+json": {
       "model_id": "369608fb466040d59342dface6ddc719",
       "version_major": 2,
       "version_minor": 0
      },
      "text/plain": [
       "tokenizer_config.json:   0%|          | 0.00/283k [00:00<?, ?B/s]"
      ]
     },
     "metadata": {},
     "output_type": "display_data"
    },
    {
     "data": {
      "application/vnd.jupyter.widget-view+json": {
       "model_id": "80c55f68c7d0424ba3dda3cfa07efac4",
       "version_major": 2,
       "version_minor": 0
      },
      "text/plain": [
       "vocab.json:   0%|          | 0.00/836k [00:00<?, ?B/s]"
      ]
     },
     "metadata": {},
     "output_type": "display_data"
    },
    {
     "data": {
      "application/vnd.jupyter.widget-view+json": {
       "model_id": "f3804ca0de634dfbbb0b5a1ef66afeb9",
       "version_major": 2,
       "version_minor": 0
      },
      "text/plain": [
       "tokenizer.json:   0%|          | 0.00/2.48M [00:00<?, ?B/s]"
      ]
     },
     "metadata": {},
     "output_type": "display_data"
    },
    {
     "data": {
      "application/vnd.jupyter.widget-view+json": {
       "model_id": "b4ec0c9d6ec64d02918a0fcb1ce931c2",
       "version_major": 2,
       "version_minor": 0
      },
      "text/plain": [
       "merges.txt:   0%|          | 0.00/494k [00:00<?, ?B/s]"
      ]
     },
     "metadata": {},
     "output_type": "display_data"
    },
    {
     "data": {
      "application/vnd.jupyter.widget-view+json": {
       "model_id": "744e75c6bd014a86b2ac51513b75fb76",
       "version_major": 2,
       "version_minor": 0
      },
      "text/plain": [
       "normalizer.json:   0%|          | 0.00/52.7k [00:00<?, ?B/s]"
      ]
     },
     "metadata": {},
     "output_type": "display_data"
    },
    {
     "data": {
      "application/vnd.jupyter.widget-view+json": {
       "model_id": "0b3a483ba616464da2ecb610d8992a4e",
       "version_major": 2,
       "version_minor": 0
      },
      "text/plain": [
       "added_tokens.json:   0%|          | 0.00/34.6k [00:00<?, ?B/s]"
      ]
     },
     "metadata": {},
     "output_type": "display_data"
    },
    {
     "data": {
      "application/vnd.jupyter.widget-view+json": {
       "model_id": "7cad84239d3f4efba657264d1a4d0efe",
       "version_major": 2,
       "version_minor": 0
      },
      "text/plain": [
       "special_tokens_map.json:   0%|          | 0.00/2.19k [00:00<?, ?B/s]"
      ]
     },
     "metadata": {},
     "output_type": "display_data"
    },
    {
     "data": {
      "application/vnd.jupyter.widget-view+json": {
       "model_id": "651fcc866e264de38fb11e867b8f2e81",
       "version_major": 2,
       "version_minor": 0
      },
      "text/plain": [
       "config.json:   0%|          | 0.00/1.98k [00:00<?, ?B/s]"
      ]
     },
     "metadata": {},
     "output_type": "display_data"
    },
    {
     "data": {
      "application/vnd.jupyter.widget-view+json": {
       "model_id": "8c751cc29bf5419986934c40c8e433ba",
       "version_major": 2,
       "version_minor": 0
      },
      "text/plain": [
       "model.safetensors:   0%|          | 0.00/151M [00:00<?, ?B/s]"
      ]
     },
     "metadata": {},
     "output_type": "display_data"
    },
    {
     "data": {
      "application/vnd.jupyter.widget-view+json": {
       "model_id": "5f64565db965435a961d3b06cc481a40",
       "version_major": 2,
       "version_minor": 0
      },
      "text/plain": [
       "generation_config.json:   0%|          | 0.00/3.75k [00:00<?, ?B/s]"
      ]
     },
     "metadata": {},
     "output_type": "display_data"
    }
   ],
   "source": [
    "from transformers import WhisperProcessor, WhisperForConditionalGeneration\n",
    "\n",
    "checkpoint = \"openai/whisper-tiny\"\n",
    "processor = WhisperProcessor.from_pretrained(checkpoint)\n",
    "model = WhisperForConditionalGeneration.from_pretrained(checkpoint)\n",
    "model.config.forced_decoder_ids = None\n",
    "model.config.suppress_tokens = []"
   ]
  },
  {
   "cell_type": "code",
   "execution_count": 4,
   "metadata": {},
   "outputs": [
    {
     "data": {
      "application/vnd.jupyter.widget-view+json": {
       "model_id": "4e7330d1e89947b3b02b4f18931a6c8a",
       "version_major": 2,
       "version_minor": 0
      },
      "text/plain": [
       "Map:   0%|          | 0/400 [00:00<?, ? examples/s]"
      ]
     },
     "metadata": {},
     "output_type": "display_data"
    },
    {
     "data": {
      "application/vnd.jupyter.widget-view+json": {
       "model_id": "1a57935629a342a0b5bbb502c3670860",
       "version_major": 2,
       "version_minor": 0
      },
      "text/plain": [
       "Map:   0%|          | 0/400 [00:00<?, ? examples/s]"
      ]
     },
     "metadata": {},
     "output_type": "display_data"
    },
    {
     "data": {
      "application/vnd.jupyter.widget-view+json": {
       "model_id": "9e13cc89e77e4ccfb794280030591140",
       "version_major": 2,
       "version_minor": 0
      },
      "text/plain": [
       "Map:   0%|          | 0/400 [00:00<?, ? examples/s]"
      ]
     },
     "metadata": {},
     "output_type": "display_data"
    }
   ],
   "source": [
    "def prepare_dataset(example):\n",
    "    audio = example[\"audio\"]\n",
    "    example[\"input_features\"] = processor.feature_extractor(audio[\"array\"], sampling_rate=16000).input_features[0]\n",
    "    example[\"labels\"] = processor.tokenizer(example[\"sentence\"]).input_ids\n",
    "    return example\n",
    "\n",
    "processed_dataset_train = train_dataset.map(prepare_dataset, remove_columns=train_dataset.column_names)\n",
    "processed_dataset_val = val_dataset.map(prepare_dataset, remove_columns=val_dataset.column_names)\n",
    "processed_dataset_test = test_dataset.map(prepare_dataset, remove_columns=test_dataset.column_names)\n"
   ]
  },
  {
   "cell_type": "code",
   "execution_count": 5,
   "metadata": {},
   "outputs": [],
   "source": [
    "from dataclasses import dataclass\n",
    "from typing import Any, Dict, List, Union\n",
    "import torch\n",
    "\n",
    "@dataclass\n",
    "class DataCollatorSpeechSeq2SeqWithPadding:\n",
    "    processor: Any\n",
    "    padding: Union[bool, str] = True\n",
    "\n",
    "    def __call__(self, features: List[Dict[str, Union[List[int], torch.Tensor]]]) -> Dict[str, torch.Tensor]:\n",
    "        input_features = [{\"input_features\": f[\"input_features\"]} for f in features]\n",
    "        label_features = [{\"input_ids\": f[\"labels\"]} for f in features]\n",
    "        batch = self.processor.feature_extractor.pad(input_features, return_tensors=\"pt\")\n",
    "        labels_batch = self.processor.tokenizer.pad(label_features, return_tensors=\"pt\")\n",
    "        labels = labels_batch[\"input_ids\"].masked_fill(labels_batch.attention_mask.ne(1), -100)\n",
    "        batch[\"labels\"] = labels\n",
    "        return batch\n",
    "\n",
    "data_collator = DataCollatorSpeechSeq2SeqWithPadding(processor=processor)\n"
   ]
  },
  {
   "cell_type": "code",
   "execution_count": 6,
   "metadata": {},
   "outputs": [
    {
     "name": "stderr",
     "output_type": "stream",
     "text": [
      "<ipython-input-6-67f4b0d1633a>:14: FutureWarning: `tokenizer` is deprecated and will be removed in version 5.0.0 for `Trainer.__init__`. Use `processing_class` instead.\n",
      "  trainer = Trainer(\n"
     ]
    }
   ],
   "source": [
    "from transformers import TrainingArguments, Trainer\n",
    "\n",
    "training_args = TrainingArguments(\n",
    "    output_dir=\"/content/drive/MyDrive/WhisperCheckpoints/run_tiny_lr1\",\n",
    "    per_device_train_batch_size=4,\n",
    "    learning_rate=1e-5,\n",
    "    num_train_epochs=3,\n",
    "    logging_steps=10,\n",
    "    save_strategy=\"epoch\",\n",
    "    fp16=True,\n",
    "    report_to=\"none\"\n",
    ")\n",
    "\n",
    "trainer = Trainer(\n",
    "    model=model,\n",
    "    args=training_args,\n",
    "    train_dataset=processed_dataset_train,\n",
    "    tokenizer=processor,\n",
    "    data_collator=data_collator\n",
    ")"
   ]
  },
  {
   "cell_type": "code",
   "execution_count": 7,
   "metadata": {},
   "outputs": [
    {
     "name": "stderr",
     "output_type": "stream",
     "text": [
      "Passing a tuple of `past_key_values` is deprecated and will be removed in Transformers v4.43.0. You should pass an instance of `EncoderDecoderCache` instead, e.g. `past_key_values=EncoderDecoderCache.from_legacy_cache(past_key_values)`.\n"
     ]
    },
    {
     "data": {
      "text/html": [
       "\n",
       "    <div>\n",
       "      \n",
       "      <progress value='300' max='300' style='width:300px; height:20px; vertical-align: middle;'></progress>\n",
       "      [300/300 02:34, Epoch 3/3]\n",
       "    </div>\n",
       "    <table border=\"1\" class=\"dataframe\">\n",
       "  <thead>\n",
       " <tr style=\"text-align: left;\">\n",
       "      <th>Step</th>\n",
       "      <th>Training Loss</th>\n",
       "    </tr>\n",
       "  </thead>\n",
       "  <tbody>\n",
       "    <tr>\n",
       "      <td>10</td>\n",
       "      <td>7.819800</td>\n",
       "    </tr>\n",
       "    <tr>\n",
       "      <td>20</td>\n",
       "      <td>6.199100</td>\n",
       "    </tr>\n",
       "    <tr>\n",
       "      <td>30</td>\n",
       "      <td>5.457700</td>\n",
       "    </tr>\n",
       "    <tr>\n",
       "      <td>40</td>\n",
       "      <td>4.910400</td>\n",
       "    </tr>\n",
       "    <tr>\n",
       "      <td>50</td>\n",
       "      <td>4.785900</td>\n",
       "    </tr>\n",
       "    <tr>\n",
       "      <td>60</td>\n",
       "      <td>4.593100</td>\n",
       "    </tr>\n",
       "    <tr>\n",
       "      <td>70</td>\n",
       "      <td>4.686800</td>\n",
       "    </tr>\n",
       "    <tr>\n",
       "      <td>80</td>\n",
       "      <td>4.546300</td>\n",
       "    </tr>\n",
       "    <tr>\n",
       "      <td>90</td>\n",
       "      <td>4.615800</td>\n",
       "    </tr>\n",
       "    <tr>\n",
       "      <td>100</td>\n",
       "      <td>4.307400</td>\n",
       "    </tr>\n",
       "    <tr>\n",
       "      <td>110</td>\n",
       "      <td>4.237300</td>\n",
       "    </tr>\n",
       "    <tr>\n",
       "      <td>120</td>\n",
       "      <td>3.802600</td>\n",
       "    </tr>\n",
       "    <tr>\n",
       "      <td>130</td>\n",
       "      <td>3.938100</td>\n",
       "    </tr>\n",
       "    <tr>\n",
       "      <td>140</td>\n",
       "      <td>3.931800</td>\n",
       "    </tr>\n",
       "    <tr>\n",
       "      <td>150</td>\n",
       "      <td>3.766900</td>\n",
       "    </tr>\n",
       "    <tr>\n",
       "      <td>160</td>\n",
       "      <td>3.829000</td>\n",
       "    </tr>\n",
       "    <tr>\n",
       "      <td>170</td>\n",
       "      <td>4.021000</td>\n",
       "    </tr>\n",
       "    <tr>\n",
       "      <td>180</td>\n",
       "      <td>3.827200</td>\n",
       "    </tr>\n",
       "    <tr>\n",
       "      <td>190</td>\n",
       "      <td>3.913400</td>\n",
       "    </tr>\n",
       "    <tr>\n",
       "      <td>200</td>\n",
       "      <td>3.985000</td>\n",
       "    </tr>\n",
       "    <tr>\n",
       "      <td>210</td>\n",
       "      <td>3.643400</td>\n",
       "    </tr>\n",
       "    <tr>\n",
       "      <td>220</td>\n",
       "      <td>3.637200</td>\n",
       "    </tr>\n",
       "    <tr>\n",
       "      <td>230</td>\n",
       "      <td>3.617700</td>\n",
       "    </tr>\n",
       "    <tr>\n",
       "      <td>240</td>\n",
       "      <td>3.579800</td>\n",
       "    </tr>\n",
       "    <tr>\n",
       "      <td>250</td>\n",
       "      <td>3.579400</td>\n",
       "    </tr>\n",
       "    <tr>\n",
       "      <td>260</td>\n",
       "      <td>3.452500</td>\n",
       "    </tr>\n",
       "    <tr>\n",
       "      <td>270</td>\n",
       "      <td>3.412500</td>\n",
       "    </tr>\n",
       "    <tr>\n",
       "      <td>280</td>\n",
       "      <td>3.515700</td>\n",
       "    </tr>\n",
       "    <tr>\n",
       "      <td>290</td>\n",
       "      <td>3.623300</td>\n",
       "    </tr>\n",
       "    <tr>\n",
       "      <td>300</td>\n",
       "      <td>3.538900</td>\n",
       "    </tr>\n",
       "  </tbody>\n",
       "</table><p>"
      ],
      "text/plain": [
       "<IPython.core.display.HTML object>"
      ]
     },
     "metadata": {},
     "output_type": "display_data"
    },
    {
     "name": "stderr",
     "output_type": "stream",
     "text": [
      "/usr/local/lib/python3.11/dist-packages/transformers/modeling_utils.py:3339: UserWarning: Moving the following attributes in the config to the generation config: {'max_length': 448, 'suppress_tokens': [], 'begin_suppress_tokens': [220, 50257]}. You are seeing this warning because you've set generation parameters in the model config, as opposed to in the generation config.\n",
      "  warnings.warn(\n"
     ]
    },
    {
     "data": {
      "text/plain": [
       "TrainOutput(global_step=300, training_loss=4.225832214355469, metrics={'train_runtime': 156.0131, 'train_samples_per_second': 7.692, 'train_steps_per_second': 1.923, 'total_flos': 2.9542662144e+16, 'train_loss': 4.225832214355469, 'epoch': 3.0})"
      ]
     },
     "execution_count": 7,
     "metadata": {},
     "output_type": "execute_result"
    }
   ],
   "source": [
    "trainer.train()"
   ]
  },
  {
   "cell_type": "code",
   "execution_count": 8,
   "metadata": {},
   "outputs": [
    {
     "data": {
      "text/plain": [
       "[]"
      ]
     },
     "execution_count": 8,
     "metadata": {},
     "output_type": "execute_result"
    }
   ],
   "source": [
    "save_path = \"/content/drive/MyDrive/WhisperCheckpoints/run_tiny_lr1\"\n",
    "model.save_pretrained(save_path)\n",
    "processor.save_pretrained(save_path)"
   ]
  },
  {
   "cell_type": "code",
   "execution_count": 9,
   "metadata": {},
   "outputs": [
    {
     "name": "stdout",
     "output_type": "stream",
     "text": [
      "🌍 Language: ko\n"
     ]
    },
    {
     "name": "stderr",
     "output_type": "stream",
     "text": [
      "\r",
      "  0%|          | 0/100 [00:00<?, ?it/s]Due to a bug fix in https://github.com/huggingface/transformers/pull/28687 transcription using a multilingual Whisper will default to language detection followed by transcription instead of translation to English.This might be a breaking change for your use case. If you want to instead always translate your audio to English, make sure to pass `language='en'`.\n",
      "The attention mask is not set and cannot be inferred from input because pad token is same as eos token. As a consequence, you may observe unexpected behavior. Please pass your input's `attention_mask` to obtain reliable results.\n",
      "  1%|          | 1/100 [00:00<01:15,  1.31it/s]"
     ]
    },
    {
     "name": "stdout",
     "output_type": "stream",
     "text": [
      "🔹 Predicted:  This is the first time I've ever seen a lot of people in the world who are in the same position as me.\n",
      "🔸 Reference: 그와 동시에 애상적이던 기분은 구름과 같이 흩어지고 안개처럼 스러졌다.\n"
     ]
    },
    {
     "name": "stderr",
     "output_type": "stream",
     "text": [
      "\r",
      "  2%|▏         | 2/100 [00:04<03:40,  2.25s/it]"
     ]
    },
    {
     "name": "stdout",
     "output_type": "stream",
     "text": [
      "🔹 Predicted: スープンスープンスープンスープンスープンスープンスープンスープンスープンスープンスープンスープンスープンスープンスープンスープンスープンスープンスープンスープンスープンスープンスープンスープンスープンスープンスープンスープンスープンスープンスープンスープンスープンスープンスープンスープンスープンスープンスープンスープンスープンスープンスープンスープンスープンスープンスープンスープンスープンスープンスープンスープンスープンスープンスープWスープンスープンスープンスープンスープンスープンスープンスープンスープンスープンスープンスープンスープンスープンスープンスープンスープンスープンスープンスープンスープンスープンスープンスープンスープンスープンスープンスープンスープンスープンスープンスープンスープンスープンスープンスープンスープンスープンスープンスープンスープンスープンスープンスープンスープンスープンスープンスープンスープンスープンスープンスープンスープンスープンスープンス\n",
      "🔸 Reference: 하면서도 기천은 동혁이가 먹는다는 바람에 숨도 아니 쉬고 쪼옥 들이켰다.\n"
     ]
    },
    {
     "name": "stderr",
     "output_type": "stream",
     "text": [
      "\r",
      "  3%|▎         | 3/100 [00:07<04:25,  2.73s/it]"
     ]
    },
    {
     "name": "stdout",
     "output_type": "stream",
     "text": [
      "🔹 Predicted: あなたは、私は、私は、私は、私は、私は、私は、私は、私は、私は、私は、私は、私は、私は、私は、私は、私は、私は、私は、私は、私は、私は、私は、私は、私は、私は、私は、私は、私は、私は、私は、私は、私は、私は、私は、私は、私は、私は、私は、私は、私は、私は、私は、私は、私は、私は、私は、私は、私は、私は、私は、私は、私は、私は、私は、私は、私は、私は、私は、私は、私は、私は、私は、私は、私は、私は、私は、私は、私は、私は、私は、私は、私は、私は、私は、私は、私は、私は、私は、私は、私は、私は、私は、私は、私は、私は、私は、私は、私は、私は、私は、私は、私は、私は、私は、私は、私は、私は、私は、私は、私は、私は、私は、私は、私は、私は、私は、私は、私は、私は、私は、私は、私は、私は、私は、私は、私は、私は、私は、私は、私は、私は、私は、私は、私は、私は、私は、私は、私は、私は、私は、私は、私は、私は、私は、私は、私は、私は、私は、私は、私は、私は、私は、私は、私は、私は、私は、私は\n",
      "🔸 Reference: 의사에게 죽음의 선고를 받은 줄도 모르는 영신은 주사 기운에 조금 의식을 회복하였다.\n"
     ]
    },
    {
     "name": "stderr",
     "output_type": "stream",
     "text": [
      "\r",
      "  4%|▍         | 4/100 [00:10<04:45,  2.97s/it]"
     ]
    },
    {
     "name": "stdout",
     "output_type": "stream",
     "text": [
      "🔹 Predicted: Divineau de laurige de laurige de laurige de laurige de laurige de laurige de laurige de laurige de laurige de laurige de laurige de laurige de laurige de laurige de laurige de laurige de laurige de laurige de laurige de laurige de laurige de laurige de laurige de laurige de laurige de laurige de laurige de laurige de laurige de laurige de laurige de laurige de laurige de laurige de laurige de laurige de laurige de laurige de laurige de laurige de laurige de laurige de laurige de laurige de laurige de laurige de laurige de laurige de laurige de laurige de laurige de laurige de laurige de laurige de laurige de laurige de laurige de laurige de laurige de laurige de laurige de laurige de laurige de laurige de laurige de laurige de laurige de laurige de laurige de laurige de laurige de laurige de laurige de laurige de laurige de laurige de laurige de laurige de laurige de laurige de laurige de laurige de laurige de laurige de laurige de laurige de laurige de laurige de laurige de laurige de laurige de laurige de laurige de laurige de laurige de laurige de laurige de laurige de laurige de laurige de laurige de laurige de laurige de laurige de laurige de laurige de laurige de laurige de laurige de laurige\n",
      "🔸 Reference: 무릇 경영은 의논함으로 성취하나니 모략을 베풀고 전쟁할지니라\n"
     ]
    },
    {
     "name": "stderr",
     "output_type": "stream",
     "text": [
      "\r",
      "  5%|▌         | 5/100 [00:14<04:54,  3.10s/it]"
     ]
    },
    {
     "name": "stdout",
     "output_type": "stream",
     "text": [
      "🔹 Predicted: 来自池炒酷酷酷酷酷酷酷酷酷酷酷酷酷酷酷酷酷酷酷酷酷酷酷酷酷酷酷酷酷酷酷酷酷酷酷酷酷酷酷酷酷酷酷酷酷酷酷酷酷酷酷酷酷酷酷酷酷酷酷酷酷酷酷酷酷酷酷酷酷酷酷酷酷酷酷酷酷酷酷酷酷酷酷酷酷酷酷酷酷酷酷酷酷酷酷酷酷酷酷酷酷酷酷酷酷酷酷酷酷酷酷酷酷酷酷酪酷酪酪酪酪酪酪酪酪酪酪酪酪酪酪酪酪酪酷酪酪酪酪酪酪酪酪酪酪酪酪酪酪酪酪酪酪酪酪酪酪酪酪酪酪酪酪酪酪酪酪酪酪酪酪酪酪酪酪酪酪酪酪酪酪酪酪酪酪酪酪酪酪酪酪酪酪酪酪酪酪酪酪酪酪酪酪酪酪酪酪酪酪酪酪酪酪酪酪酪酪酪酪\n",
      "🔸 Reference: 아니다 결코 아니다.\n"
     ]
    },
    {
     "name": "stderr",
     "output_type": "stream",
     "text": [
      "  7%|▋         | 7/100 [00:17<03:23,  2.18s/it]"
     ]
    },
    {
     "name": "stdout",
     "output_type": "stream",
     "text": [
      "🔹 Predicted: そのまま一つの一つの一つの一つの一つの一つの一つの一つの一つの一つの一つの一つの一つの一つの一つの一つの一つの一つの一つの一つの一つの一つの一つの一つの一つの一つの一つの一つの一つの一つの一つの一つの一つの一つの一つの一つの一つの一つの一つの一つの一つの一つの一つの一つの一つの一つの一つの一つの一つの一つの一つの一つの一つの一つの一つの一つの一つの一つの一つの一つの一つの一つの一つの一つの一つの一つの一つの一つの一つの一つの一つの一つの一つの一つの一つの一つの一つの一つの一つの一つの一つの一つの一つの一つの一つの一つの一つの一つの一つの一つの一つの一つの一つの一つの一つの一つの一つの一つの一つの一つの一つの一つの一つの一つの一つの一つの一つの一つの一つの一つの一つの一つの一つの一つの一つの一つの一つの一つの一つの一つの一つの一つの一つの一つの一つの一つの一つの一つの一つの一つの一つの一つの一つの一つの一つの一つの一つの一つの一つの一つの一つの一つの一つの一つの一つの一つの一つの\n",
      "🔸 Reference: 공연한 소리 하지 말고 어서 가세.\n",
      "🔹 Predicted: スープンのスープンを使っている\n",
      "🔸 Reference: 선비는 받아 가지고 간난의 뒤를 따랐다.\n"
     ]
    },
    {
     "name": "stderr",
     "output_type": "stream",
     "text": [
      "  9%|▉         | 9/100 [00:20<02:43,  1.80s/it]"
     ]
    },
    {
     "name": "stdout",
     "output_type": "stream",
     "text": [
      "🔹 Predicted: スタートを使用すると、そのまま、そのまま、そのまま、そのまま、そのまま、そのまま、そのまま、そのまま、そのまま、そのまま、そのまま、そのまま、そのまま、そのまま、そのまま、そのまま、そのまま、そのまま、そのまま、そのまま、そのまま、そのまま、そのまま、そのまま、そのまま、そのまま、そのまま、そのまま、そのまま、そのまま、そのまま、そのまま、そのまま、そのまままままままままままままままままままままままままままままままままままままままままままままままままままままままままままままままままままままままままままままままままままままままままままままままままままままままままままままままままままままままままままままままままままままままままままままままままままままままままままままままままままままままままままままままままままままままままままままままままままままままままままままままままままままままままままままままままままままままままままままままままままままままままままままままままままままままままままままままままままままままままままままままままままままままままままままま\n",
      "🔸 Reference: 새벽배송보다도 로켓배송보다도 빠른 양자 배송 서비스를 오늘부터 시작합니다.\n",
      "🔹 Predicted:  Turner and I could get my two dishes from the other side.\n",
      "🔸 Reference: 청하는 이쪽 노를 저으면서 소리를 지른다.\n"
     ]
    },
    {
     "name": "stderr",
     "output_type": "stream",
     "text": [
      "\r",
      " 10%|█         | 10/100 [00:24<03:27,  2.31s/it]"
     ]
    },
    {
     "name": "stdout",
     "output_type": "stream",
     "text": [
      "🔹 Predicted: auzebeauzebeauzebeauzebeauzebeauzebeauzebeauzebeauzebeauzebeauzebeauzebeauzebeauzebeauzebeauzebeauzebeauzebeauzebeauzebeauzebeauzebeauzebeauzebeauzebeauzebeauzebeauzebeauzebeauzebeauzebeauzebeauzebeauzebeauzebeauzebeauzebeauzebeauzebeauzebeauzebeauzebeauzebeauzebeauzebeauzebeauzebeauzebeauzebeauzebeauzebeauzebeauzebeauzebeauzebeauzebeauzebeauzebeauzebeauzebeauzebeauzebeauzebeauzebeauzebeauzebeauzebeauzebeauzebeauzebeauzebeauzebeauzebeauzebeauzebeauzebeauzebeauzebeauzebeauzebeauzebeauzebeauzebeauzebeauzebeauzebeauzebeauzebeauzebeauzebeauzebeauzebeauzebeauzebeauzebeauzebeauzebeauzebeauzebeauzebeauzebeauzebeauzebeauzebeauzebeauzebeauzebeauzebeauzebeauzebeauzebeauzebeauzebeauzebeauzebeauzebeauzebeauzebeauzebeauzebeauzebeauzebeauzebeauzebeauzebeauzebeauzebeauzebeauzebeauzebeauzebeauzebeauzebeauzebeauzebeauzebeauzebeauzebeauzebeauzebeauzebeauzebeauzebeauzebeauzebeauzebeauzebeauzebe\n",
      "🔸 Reference: 여러 사람의 앞으로 한 걸음 다가서며 그 검붉은 얼굴이 매우 긴장해진다.\n"
     ]
    },
    {
     "name": "stderr",
     "output_type": "stream",
     "text": [
      "\r",
      " 11%|█         | 11/100 [00:27<03:53,  2.63s/it]"
     ]
    },
    {
     "name": "stdout",
     "output_type": "stream",
     "text": [
      "🔹 Predicted: で、その後、その後、その後、その後、その後、その後、その後、その後、その後、その後、その後、その後、その後、その後、その後、その後、その後、その後、その後、その後、その後、その後、その後、その後、その後、その後、その後、その後、その後、その後、その後、その後、その後、その後、その後、その後、その後、その後、その後、その後、その後、その後、その後、その後、その後、その後、その後、その後、その後、その後、その後、その後、その後、その後、その後、その後、その後、その後、その後、その後、その後、その後、その後、その後、その後、その後、その後、その後、その後、その後、その後、その後、その後、その後、その後、その後、その後、その後、その後、その後、その後、その後、その後、その後、その後、その後、その後、その後、その後、その後、その後、その後、その後、その後、その後、その後、その後、その後、その後、その後、その後、その後、その後、その後、その後、その後、その後、その後、その後、その後、その後、その後、その後、その後、その後、その後、その後、その後、その後、その後、その後、その後、その後、その後、その後、その後、その後、その後、その後、その後、その後、その後、その後、その後、その後、その後、その後、その後、その後、その後、その後、その後、その後、その後、その後、その後、その後、その\n",
      "🔸 Reference: 여전히 사건 파악을 못 하고 있는데도?\n"
     ]
    },
    {
     "name": "stderr",
     "output_type": "stream",
     "text": [
      " 14%|█▍        | 14/100 [00:31<02:14,  1.56s/it]"
     ]
    },
    {
     "name": "stdout",
     "output_type": "stream",
     "text": [
      "🔹 Predicted: すぐに、一つの一つの一つの一つの一つの一つの一つの一つの一つの一つの一つの一つの一つの一つの一つの一つの一つの一つの一つの一つの一つの一つの一つの一つの一つの一つの一つの一つの一つの一つの一つの一つの一つの一つの一つの一つの一つの一つの一つの一つの一つの一つの一つの一つの一つの一つの一つの一つの一つの一つの一つの一つの一つの一つの一つの一つの一つの一つの一つの一つの一つの一つの一つの一つの一つの一つの一つの一つの一つの一つの一つの一つの一つの一つの一つの一つの一つの一つの一つの一つの一つの一つの一つの一つの一つの一つの一つの一つの一つの一つの一つの一つの一つの一つの一つの一つの一つの一つの一つの一つの一つの一つの一つの一つの一つの一つの一つの一つの一つの一つの一つの一つの一つの一つの一つの一つの一つの一つの一つの一つの一つの一つの一つの一つの一つの一つの一つの一つの一つの一つの一つの一つの一つの一つの一つの一つの一つの一つの一つの一つの一つの一つの一つの一つの一つの一つの一つ\n",
      "🔸 Reference: 즐겁고 재미있는 콘텐츠를 만들 작가를 모집합니다.\n",
      "🔹 Predicted:  I should be right.\n",
      "🔸 Reference: 이거리를 둘이서 걸어요.\n",
      "🔹 Predicted:  [Song]\n",
      "🔸 Reference: 간난이는 생긋 웃어 보이며 머리를 흔들었다.\n"
     ]
    },
    {
     "name": "stderr",
     "output_type": "stream",
     "text": [
      "\r",
      " 15%|█▌        | 15/100 [00:34<02:50,  2.01s/it]"
     ]
    },
    {
     "name": "stdout",
     "output_type": "stream",
     "text": [
      "🔹 Predicted: 그는 그는 그는 그는 그는 그는 그는 그는 그는 그는 그는 그는 그는 그는 그는 그는 그는 그는 그는 그는 그는 그는 그는 그는 그는 그는 그는 그는 그는 그는 그는 그는 그는 그는 그는 그는 그는 그는 그는 그는 그는 그는 그는 그는 그는 그는 그는 그는 그는 그는 그는 그는 그는 그는 그는 그는 그는 그는 그는 그는 그는 그는 그는 그는 그는 그는 그는 그는 그는 그는 그는 그는 그는 그는 그는 그는 그는 그는 그는 그는 그는 그는 그는 그는 그는 그는 그는 그는 그는 그는 그는 그는 그는 그는 그는 그는 그는 그는 그는 그는 그는 그는 그는 그는 그는 그는 그는 그는 그는 그는 그는 그는 그는 그는 그는 그는 그는 그는 그는 그는 그는 그는 그는 그는 그는 그는 그는 그는 그는 그는 그는 그는 그는 그는 그는 그는 그는 그는 그는 그는 그는 그는 그는 그는 그는 그는 그는 그는 그는 그는 그는 그는 그는 그는 그는 그는 그는 그는 그는 그는 그는 그는 그는 그는 그는 그는 그는 그는 그는 그는 그는 그는 그는 그는 그는 그는 그는 그는 그는 그는 그는 그는 그는 그는 그는 그는 그는 그는 그는 그는 그는 그는 그는 그는 그는 그는 그는 그는 그는 그는 그는 그는 그는 그는 그는 그는 그는 그는 그는 그는 그는 그는 그는 그는 그는 그는 그는 그는 그는 그는 그는 그는\n",
      "🔸 Reference: 무어가 무언지 분간할 수 없는 나는 이렇게 물었다.\n"
     ]
    },
    {
     "name": "stderr",
     "output_type": "stream",
     "text": [
      " 17%|█▋        | 17/100 [00:38<02:26,  1.76s/it]"
     ]
    },
    {
     "name": "stdout",
     "output_type": "stream",
     "text": [
      "🔹 Predicted: 一番矛盾の一番矛盾の一番矛盾の一番矛盾の一番矛盾の一番矛盾の一番矛盾の一番矛盾の一番矛盾の一番矛盾の一番矛盾の一番矛盾の一番矛盾矛盾の一番矛盾矛盾の一番矛盾矛盾の一番矛盾矛盾矛盾矛盾矛盾矛盾矛盾矛盾矛盾矛盾矛盾矛盾矛盾矛盾矛盾矛盾矛盾矛盾矛盾矛盾矛盾矛盾矛盾矛盾矛盾矛盾矛盾矛盾矛盾矛盾矛盾矛盾矛盾矛盾矛盾矛盾矛盾矛盾矛盾矛盾矛盾矛盾矛盾矛盾矛盾矛盾矛盾矛盾矛盾矛盾矛盾矛盾矛盾矛盾矛盾矛盾矛盾矛盾矛盾矛盾矛盾矛盾矛盾矛盾矛盾矛盾矛盾矛盾矛盾矛盾矛盾矛盾矛盾矛盾矛盾矛盾矛盾矛盾矛盾矛盾矛盾�\n",
      "🔸 Reference: 국무총리는 국회의 동의를 얻어 대통령이 임명한다.\n",
      "🔹 Predicted: ペーボッチシャラルズを作る\n",
      "🔸 Reference: 부르짖으며 발길로 벽을 걷어차고 일어났다.\n"
     ]
    },
    {
     "name": "stderr",
     "output_type": "stream",
     "text": [
      " 19%|█▉        | 19/100 [00:41<02:10,  1.61s/it]"
     ]
    },
    {
     "name": "stdout",
     "output_type": "stream",
     "text": [
      "🔹 Predicted: J.R.R.R.R.R.R.R.R.R.R.R.R.R.R.R.R.R.R.R.R.R.R.R.R.R.R.R.R.R.R.R.R.R.R.R.R.R.R.R.R.R.R.R.R.R.R.R.R.R.R.R.R.R.R.R.R.R.R.R.R.R.R.R.R.R.R.R.R.R.R.R.R.R.R.R.R.R.R.R.R.R.R.R.R.R.R.R.R.R.R.R.R.R.R.R.R.R.R.R.R.R.R.R.R.R.R.R.R.R.R.R.R.R.R.R.R.R.R.R.R.R.R.R.R.R.R.R.R.R.R.R.R.R.R.R.R.R.R.R.R.R.R.R.R.R.R.R.R.R.R.R.R.R.R.R.R.R.R.R.R.R.R.R.R.R.R.R.R.R.R.R.R.R.R.R.R.R.R.R.R.R.R.R.R.R.R.R.R.R.R.R.R.R.R.R.R.R.R.R.R.R.R.R.R.R.R.R.R.R.R.R.R.R.R.R.R.R.R.R.R.R.\n",
      "🔸 Reference: 나오는 줄 모르고 이런 말을 하고도 가슴이 선뜩하였다.\n",
      "🔹 Predicted: クラッグリスターのイメージは、\n",
      "🔸 Reference: 저 뒤에 동영상으로 주암동 사건 개요가 나올 겁니다.\n"
     ]
    },
    {
     "name": "stderr",
     "output_type": "stream",
     "text": [
      "\r",
      " 20%|██        | 20/100 [00:44<02:48,  2.10s/it]"
     ]
    },
    {
     "name": "stdout",
     "output_type": "stream",
     "text": [
      "🔹 Predicted: 核心の中に、一つの中に、一つの中に、一つの中に、一つの中に、一つの中に、一つの中に、一つの中に、一つの中に、一つの中に、一つの中に、一つの中に、一つの中に、一つの中に、一つの中に、一つの中に、一つの中に、一つの中に、一つの中に、一つの中に、一つの中に、一つの中に、一つの中に、一つの中に、一つの中に、一つの中に、一つの中に、一つの中に、一つの中に、一つの中に、一つの中に、一つの中に、一つの中に、一つの中に、一つの中に、一つの中に、一つの中に、一つの中に、一つの中に、一つの中に、一つの中に、一つの中に、一つの中に、一つの中に、一つの中に、一つの中に、一つの中に、一つの中に、一つの中に、一つの中に、一つの中に、一つの中に、一つの中に、一つの中に、一つの中に、一つの中に、一つの中に、一つの中に、一つの中に、一つの中に、一つの中に、一つの中に、一つの中に、一つの中に、一つの中に、一つの中に、一つの中に、一つの中に、一つの中に、一つの中に、一つの中に、一つの中に、一つの中に、一つの中に\n",
      "🔸 Reference: 게으른 자는 말하기를 사자가 밖에 있은즉 내가 나가면 거리에서 찢기겠다 하느니라\n"
     ]
    },
    {
     "name": "stderr",
     "output_type": "stream",
     "text": [
      " 22%|██▏       | 22/100 [00:48<02:21,  1.81s/it]"
     ]
    },
    {
     "name": "stdout",
     "output_type": "stream",
     "text": [
      "🔹 Predicted: んーうーうーうーうーうーうーうーうーうーうーうーうーうーうーうーうーうーうーうーうーうーうーうーうーうーうーうーうーうーうーうーうーうーうーうーうーうーうーうーうーうーうーうーうーうーうーうーうーうーうーうーうーうーうーうーうーうーうーうーうーうーうーうーうーうーうーうーうーうーうーうーうーうーうーうーうーうーうーうーうーうーうーうーうーうーうーうーうーうーうーうーうーうーうーうーうーうーうーうーうーうーうーうーうーうーうーうーうーうーうーうーうーうーうーうーうーうーうーうーうーうーうーうーうーうーうーうーうーうーうーうーうーうーうーうーうーうーうーうーうーうーうーうーうーうーうーうーうーうーうーうーうーうーうーうーうーうーうーうーうーうーうーうーうーうーうーうーうーうーうーうーうーうーうーうーうーうーうーうーうーうーうーうーうーうーうーうーうーうーうーうーうーうーうーうーうーうーうーうーうーうーうーうーうーうーうーうーうーうーうーうーうーうーうーうーうーうーうーうーうーうー\n",
      "🔸 Reference: 그럼, 내일 오랍쇼니까?\n",
      "🔹 Predicted:  And then the churrover and the churrover and the churrover.\n",
      "🔸 Reference: 그는 나를 밀쳐 버린 다음에 그 음보를 들고서 읽기 시작하였습니다.\n"
     ]
    },
    {
     "name": "stderr",
     "output_type": "stream",
     "text": [
      " 24%|██▍       | 24/100 [00:52<02:04,  1.63s/it]"
     ]
    },
    {
     "name": "stdout",
     "output_type": "stream",
     "text": [
      "🔹 Predicted: で、一つの一つの一つの一つの一つの一つの一つの一つの一つの一つの一つの一つの一つの一つの一つの一つの一つの一つの一つの一つの一つの一つの一つの一つの一つの一つの一つの一つの一つの一つの一つの一つの一つの一つの一つの一つの一つの一つの一つの一つの一つの一つの一つの一つの一つの一つの一つの一つの一つの一つの一つの一つの一つの一つの一つの一つの一つの一つの一つの一つの一つの一つの一つの一つの一つの一つの一つの一つの一つの一つの一つの一つの一つの一つの一つの一つの一つの一つの一つの一つの一つの一つの一つの一つの一つの一つの一つの一つの一つの一つの一つの一つの一つの一つの一つの一つの一つの一つの一つの一つの一つの一つの一つの一つの一つの一つの一つの一つの一つの一つの一つの一つの一つの一つの一つの一つの一つの一つの一つの一つの一つの一つの一つの一つの一つの一つの一つの一つの一つの一つの一つの一つの一つの一つの一つの一つの一つの一つの一つの一つの一つの一つの一つの一つの一つの一つの一つの一\n",
      "🔸 Reference: 그리고 이 집에서 옥점이를 어떻게 귀여워하는 것을 잠시간이라도 알 수가 있다.\n",
      "🔹 Predicted:  The transition from the transition to the transition is just a little bit more.\n",
      "🔸 Reference: 아까까지 영신은 그 불을 얕은 하늘의 별들이 반짝이는 줄로만 알고있었다.\n"
     ]
    },
    {
     "name": "stderr",
     "output_type": "stream",
     "text": [
      "\r",
      " 25%|██▌       | 25/100 [00:52<01:28,  1.18s/it]"
     ]
    },
    {
     "name": "stdout",
     "output_type": "stream",
     "text": [
      "🔹 Predicted:  I'm going to give you an interesting check.\n",
      "🔸 Reference: 의심하는 마음과 한꺼번에 일어나는 것은 질투였다.\n"
     ]
    },
    {
     "name": "stderr",
     "output_type": "stream",
     "text": [
      "\r",
      " 26%|██▌       | 26/100 [00:55<02:14,  1.82s/it]"
     ]
    },
    {
     "name": "stdout",
     "output_type": "stream",
     "text": [
      "🔹 Predicted:  Reckonter, die Krogezung und die Krogezung der Krogezung der Krogezung der Krogezung der Krogezung der Krogezung der Krogezung der Krogezung der Krogezung der Krogezung der Krogezung der Krogezung der Krogezung der Krogezung der Krogezung der Krogezung der Krogezung der Krogezung der Krogezung der Krogezung der Krogezung der Krogezung der Krogezung der Krogezung der Krogezung der Krogezung der Krogezung der Krogezung der Krogezung der Krogezung der Krogezung der Krogezung der Krogezung der Krogezung der Krogezung der Krogezung der Krogezung der Krogezung der Krogezung der Krogezung der Krogezung der Krogezung der Krogezung der Krogezung der Krogezung der Krogezung der Krogezung der Krogezung der Krogezung der Krogezung der Krogezung der Krogezung der Krogezung der Krogezung der Krogezung der Krogezung der Krogezung der Krogezung der Krogezung der Krogezung der Krogezung der Krogezung der Krogezung der Krogezung der Krogezung der Krogezung der Krogezung der Krogezung der Krogezung der Krogezung der Krogezung der Krogezung\n",
      "🔸 Reference: 골김에 그저 이놈의 장인님, 하고 댓돌에다 메꼰코 우리 고향으로 내뺄까 하다가 꾹꾹 참고 말았다.\n",
      "🔹 Predicted:  Absent und schon.\n",
      "🔸 Reference: 여보게 김첨지\n"
     ]
    },
    {
     "name": "stderr",
     "output_type": "stream",
     "text": [
      "\r",
      " 28%|██▊       | 28/100 [00:55<01:14,  1.04s/it]"
     ]
    },
    {
     "name": "stdout",
     "output_type": "stream",
     "text": [
      "🔹 Predicted:  Trappertauser der Anzaten und der Anzaten.\n",
      "🔸 Reference: 갑자기 튀어져 나오는 광포, 거기 연한 쾌미, 흥소\n"
     ]
    },
    {
     "name": "stderr",
     "output_type": "stream",
     "text": [
      " 31%|███       | 31/100 [00:59<01:07,  1.02it/s]"
     ]
    },
    {
     "name": "stdout",
     "output_type": "stream",
     "text": [
      "🔹 Predicted: あなたは、私は、私は、私は、私は、私は、私は、私は、私は、私は、私は、私は、私は、私は、私は、私は、私は、私は、私は、私は、私は、私は、私は、私は、私は、私は、私は、私は、私は、私は、私は、私は、私は、私は、私は、私は、私は、私は、私は、私は、私は、私は、私は、私は、私は、私は、私は、私は、私は、私は、私は、私は、私は、私は、私は、私は、私は、私は、私は、私は、私は、私は、私は、私は、私は、私は、私は、私は、私は、私は、私は、私は、私は、私は、私は、私は、私は、私は、私は、私は、私は、私は、私は、私は、私は、私は、私は、私は、私は、私は、私は、私は、私は、私は、私は、私は、私は、私は、私は、私は、私は、私は、私は、私は、私は、私は、私は、私は、私は、私は、私は、私は、私は、私は、私は、私は、私は、私は、私は、私は、私は、私は、私は、私は、私は、私は、私は、私は、私は、私は、私は、私は、私は、私は、私は、私は、私は、私は、私は、私は、私は、私は、私は、私は、私は、私は、私は、私は\n",
      "🔸 Reference: 뜨거운 볕이 그의 전신을 후끈하게 하였다.\n",
      "🔹 Predicted:  [Siehle]\n",
      "🔸 Reference: 어리석은 자로 슬기롭게 하며 젊은 자에게 지식과 근신함을 주기 위한 것이니\n",
      "🔹 Predicted:  [Music]\n",
      "🔸 Reference: 그 여학생인지 만지가 한참은 매우 때깔을 빼며 입술을 꼭 다문 채 김첨지를 거들떠보지도 않았다.\n",
      "🔹 Predicted:  [Siekelle]\n",
      "🔸 Reference: 한마디를 남기고 동혁은 구두징 소리를 뚜벅뚜벅 내며 골목 밖으로 나가 버린다.\n"
     ]
    },
    {
     "name": "stderr",
     "output_type": "stream",
     "text": [
      " 34%|███▍      | 34/100 [01:02<01:06,  1.01s/it]"
     ]
    },
    {
     "name": "stdout",
     "output_type": "stream",
     "text": [
      "🔹 Predicted:  Schauhrer und der Schauhrer der Schauhrer der Schauhrer der Schauhrer der Schauhrer der Schauhrer der Schauhrer der Schauhrer der Schauhrer der Schauhrer der Schauhrer der Schauhrer der Schauhrer der Schauhrer der Schauhrer der Schauhrer der Schauhrer der Schauhrer der Schauhrer der Schauhrer der Schauhrer der Schauhrer der Schauhrer der Schauhrer der Schauhrer der Schauhrer der Schauhrer der Schauhrer der Schauhrer der Schauhrer der Schauhrer der Schauhrer der Schauhrer der Schauhrer der Schauhrer der Schauhrer der Schauhrer der Schauhrer der Schauhrer der Schauhrer der Schauhrer der Schauhrer der Schauhrer der Schauhrer der Schauhrer der Schauhrer der Schauhrer der Schauhrer der Schauhrer der Schauhrer der Schauhrer der Schauhrer der Schauhrer der Schauhrer der Schauhrer der Schauhrer der Schauhrer der Schauhrer der Schauhrer der Schauhrer der Schauhrer der Schauhrer der Schauhrer der Schauhrer der Schauhrer der Schauhrer der Schauhrer der Schauhrer der Schauhrer der Schauhrer der Schauhrer der Schauhrer der Schauhrer der Schauhrer der Schauhrer der Schauhrer der Schauhrer der Schauhrer der Schauhrer der Schauhrer der Schauhrer der Schauhrer der Schauhrer der Schauhrer der Schauhrer der Schauhrer der Schauhrer der Schauhr\n",
      "🔸 Reference: 스스로가 형편없다고 생각하지 말라.\n",
      "🔹 Predicted:  [Sounds of the song]\n",
      "🔸 Reference: 하고 무엇을 알아챘다는 듯이 가만히 창하의 계속하는 말만 듣고 있다.\n",
      "🔹 Predicted: [silence]\n",
      "🔸 Reference: 권력을 휘두르는 그 정치인의 모습을 보며 대중들이 실망을 느꼈다.\n"
     ]
    },
    {
     "name": "stderr",
     "output_type": "stream",
     "text": [
      " 38%|███▊      | 38/100 [01:03<00:28,  2.14it/s]"
     ]
    },
    {
     "name": "stdout",
     "output_type": "stream",
     "text": [
      "🔹 Predicted: 沖縜的手段を拡大さな彼らは、\n",
      "🔸 Reference: 그들이 집까지 왔을 때는 어슬어슬한 황혼이었다.\n",
      "🔹 Predicted:  [Song]\n",
      "🔸 Reference: 그 기회론을 주장하는 사람은, 유명한 음악 비평가 K씨였었다.\n",
      "🔹 Predicted:  [Sigh]\n",
      "🔸 Reference: 무대 앞에 서면 모두가 긴장하기 마련이야.\n"
     ]
    },
    {
     "name": "stderr",
     "output_type": "stream",
     "text": [
      " 41%|████      | 41/100 [01:06<00:40,  1.45it/s]"
     ]
    },
    {
     "name": "stdout",
     "output_type": "stream",
     "text": [
      "🔹 Predicted: 그는 그는 그는 그는 그는 그는 그는 그는 그는 그는 그는 그는 그는 그는 그는 그는 그는 그는 그는 그는 그는 그는 그는 그는 그는 그는 그는 그는 그는 그는 그는 그는 그는 그는 그는 그는 그는 그는 그는 그는 그는 그는 그는 그는 그는 그는 그는 그는 그는 그는 그는 그는 그는 그는 그는 그는 그는 그는 그는 그는 그는 그는 그는 그는 그는 그는 그는 그는 그는 그는 그는 그는 그는 그는 그는 그는 그는 그는 그는 그는 그는 그는 그는 그는 그는 그는 그는 그는 그는 그는 그는 그는 그는 그는 그는 그는 그는 그는 그는 그는 그는 그는 그는 그는 그는 그는 그는 그는 그는 그는 그는 그는 그는 그는 그는 그는 그는 그는 그는 그는 그는 그는 그는 그는 그는 그는 그는 그는 그는 그는 그는 그는 그는 그는 그는 그는 그는 그는 그는 그는 그는 그는 그는 그는 그는 그는 그는 그는 그는 그는 그는 그는 그는 그는 그는 그는 그는 그는 그는 그는 그는 그는 그는 그는 그는 그는 그는 그는 그는 그는 그는 그는 그는 그는 그는 그는 그는 그는 그는 그는 그는 그는 그는 그는 그는 그는 그는 그는 그는 그는 그는 그는 그는 그는 그는 그는 그는 그는 그는 그는 그는 그는 그는 그는 그는 그는 그는 그는 그는 그는 그는 그는 그는 그는 그는 그는 그는 그는 그는 그는 그는 그는\n",
      "🔸 Reference: 따라서 물 먹고 싶은 생각이 버쩍 들었다.\n",
      "🔹 Predicted:  [Sigh]\n",
      "🔸 Reference: 삼십 년이라는 세월이 흘렀습니다.\n",
      "🔹 Predicted:  [Sigh]\n",
      "🔸 Reference: 내일이나 모레나 그 어느 즐거운 날에\n"
     ]
    },
    {
     "name": "stderr",
     "output_type": "stream",
     "text": [
      " 44%|████▍     | 44/100 [01:10<00:44,  1.24it/s]"
     ]
    },
    {
     "name": "stdout",
     "output_type": "stream",
     "text": [
      "🔹 Predicted: 沾沾沾沾沾沾沾沾沾沾沾沾沾沾沾沾沾沾沾沾沾沾沾沾沾沾沾沾沾沾沾沾沾沾沾沾沾沾沾沾沾沾沾沾沾沾沾沾沾沾沾沾沾沾沾沾沾沾沾沾沾沾沾沾沾沾沾沾沾沾沾沾沾沾沾沾沾沾沾沾沾沾沾沾沾沾沾沾沾沾沾沾沾沾沾沾沾沾沾沾沾沾沾沾沾沾沾沾沾沾沾沾沾沾沾沾沾沾沾沾沾沾沾沾沾沾沾沾沾沾沾沾沾沾沾沾沾沾沾沾沾沾沾沾沾沾沾沾沾沾沾沾沾沾沾沾沾沾沾沾沾沾沾沾沾沾沾沾沾沾沾沾沾沾沾沾沾沾沾沾沾沾沾沾沾沾沾沾沾沾沾沾沾沾沾沾沾沾沾沾沾沾沾沾沾沾沾沾沾沾沾沾沾沾沾沾沾沾沾沾沾沾\n",
      "🔸 Reference: 저녁이 되며 아침이 되니 이는 네째 날이니라\n",
      "🔹 Predicted:  [Sigh]\n",
      "🔸 Reference: 밝은 달은 우리 가슴 일편단심일세\n",
      "🔹 Predicted:  [cough]\n",
      "🔸 Reference: 네가 나빠\n"
     ]
    },
    {
     "name": "stderr",
     "output_type": "stream",
     "text": [
      "\r",
      " 46%|████▌     | 46/100 [01:10<00:30,  1.79it/s]"
     ]
    },
    {
     "name": "stdout",
     "output_type": "stream",
     "text": [
      "🔹 Predicted:  [Spanish]\n",
      "🔸 Reference: 간난이는 여공이 들어가던 말까지 하려다가 이런 말은 좀더 기다려서 해주리라 하였다.\n",
      "🔹 Predicted:  [Sounds of the song]\n",
      "🔸 Reference: 만일 제가 그대로 단결에 휙 뿌리치고 가보게.\n"
     ]
    },
    {
     "name": "stderr",
     "output_type": "stream",
     "text": [
      "\r",
      " 47%|████▋     | 47/100 [01:10<00:25,  2.09it/s]"
     ]
    },
    {
     "name": "stdout",
     "output_type": "stream",
     "text": [
      "🔹 Predicted:  Gauzee und Gauzee in der Schweiz.\n",
      "🔸 Reference: 감독이 이렇게 와꾸를 돌리게 되면 으레 이십 전 벌금을 물게 되는 것이다.\n"
     ]
    },
    {
     "name": "stderr",
     "output_type": "stream",
     "text": [
      " 50%|█████     | 50/100 [01:14<00:36,  1.39it/s]"
     ]
    },
    {
     "name": "stdout",
     "output_type": "stream",
     "text": [
      "🔹 Predicted:  Erichweiterung der Anwaltungssysteme der Anwaltungssysteme der Anwaltungssysteme der Anwaltungssysteme der Anwaltungssysteme der Anwaltungssysteme der Anwaltungssysteme der Anwaltungssysteme der Anwaltungssysteme der Anwaltungssysteme der Anwaltungssysteme der Anwaltungssysteme der Anwaltungssysteme der Anwaltungssysteme der Anwaltungssysteme der Anwaltungssysteme der Anwaltungssysteme der Anwaltungssysteme der Anwaltungssysteme der Anwaltungssysteme der Anwaltungssysteme der Anwaltungssysteme der Anwaltungssysteme der Anwaltungssysteme der Anwaltungssysteme der Anwaltungssysteme der Anwaltungssysteme der Anwaltungssysteme der Anwaltungssysteme der Anwaltungssysteme der Anwaltungssysteme der Anwaltungssysteme der Anwaltungssysteme der Anwaltungssysteme der Anwaltungssysteme der Anwaltungssysteme der Anwaltungssysteme der Anwaltungssysteme der Anwaltungssysteme der Anwaltungssysteme der Anwaltungssysteme der Anwaltungssysteme der Anwaltungssysteme der Anwaltungssysteme der Anwaltungssysteme der Anwaltungssysteme der Anwaltungssysteme der Anwaltungssysteme der Anwaltungssysteme der Anwaltungssysteme der Anwaltungssysteme der Anwaltungssysteme der Anwaltungssysteme der Anwaltungssysteme der Anwaltungssysteme der Anwaltungssysteme der Anwaltungssysteme der Anwaltungssysteme der Anwaltungssysteme der Anwaltungssysteme der Anwaltungssysteme der Anwaltungssysteme der Anwaltungs\n",
      "🔸 Reference: 기적이 나타나기를 빌고 바라는 미신 비슷한 생각에 잠겨 보기도 또한 이번이 처음이다.\n",
      "🔹 Predicted:  *Siekele*\n",
      "🔸 Reference: 비가 제법 장마 때처럼 주룩주룩 쏟아지기 시작한다.\n",
      "🔹 Predicted:  [Music]\n",
      "🔸 Reference: 이래저래 영신은 근처 동리의 소위 재산가 계급에게는 인심을 몹시 잃었다.\n"
     ]
    },
    {
     "name": "stderr",
     "output_type": "stream",
     "text": [
      "\r",
      " 51%|█████     | 51/100 [01:17<01:03,  1.29s/it]"
     ]
    },
    {
     "name": "stdout",
     "output_type": "stream",
     "text": [
      "🔹 Predicted:  Versus与与与与与与与与与与与与与与与与与与与与与与与与与与与与与与与与与与与与与与与与与与与与与与与与与与与与与与与与与与与与与与与与与与与与与与与与与与与与与与与与与与与与与与与与与与与与与与与与与与与与与与与与与与与与与��������������������������������������������������������������������������������������������������������������������������������������������������������������������������������������������������������������������������������\n",
      "🔸 Reference: 영신은 가슴속으로부터 치밀어 오는 울음을 참느라고 잇자국이 나도록 손가락을 깨문다.\n"
     ]
    },
    {
     "name": "stderr",
     "output_type": "stream",
     "text": [
      "\r",
      " 52%|█████▏    | 52/100 [01:20<01:25,  1.78s/it]"
     ]
    },
    {
     "name": "stdout",
     "output_type": "stream",
     "text": [
      "🔹 Predicted:  Blitzztener und Schroger-Fall-Fall-Fall-Fall-Fall-Fall-Fall-Fall-Fall-Fall-Fall-Fall-Fall-Fall-Fall-Fall-Fall-Fall-Fall-Fall-Fall-Fall-Fall-Fall-Fall-Fall-Fall-Fall-Fall-Fall-Fall-Fall-Fall-Fall-Fall-Fall-Fall-Fall-Fall-Fall-Fall-Fall-Fall-Fall-Fall-Fall-Fall-Fall-Fall-Fall-Fall-Fall-Fall-Fall-Fall-Fall-Fall-Fall-Fall-Fall-Fall-Fall-Fall-Fall-Fall-Fall-Fall-Fall-Fall-Fall-Fall-Fall-Fall-Fall-Fall-Fall-Fall-Fall-Fall-Fall-Fall-Fall-Fall-Fall-Fall-Fall-Fall-Fall-Fall-Fall-Fall-Fall-Fall-Fall-Fall-Fall-Fall-Fall-Fall-Fall-Fall-Fall-Fall-Fall-Fall-Fall-Fall-Fall-Fall-Fall-Fall-Fall-Fall-Fall-Fall-Fall-Fall-Fall-Fall-Fall-Fall-Fall-Fall-Fall-Fall-Fall-Fall-Fall-Fall-Fall-Fall-Fall-Fall-Fall-Fall-Fall-Fall-Fall-Fall-Fall-Fall-Fall-Fall-Fall-Fall\n",
      "🔸 Reference: 따라서 인력거에 앉아 서울의 번잡한 도시를 향하여 달려오던 선비를 눈앞에 그려 보았다.\n",
      "🔹 Predicted:  [Music]\n",
      "🔸 Reference: 그저 들어온 복도 박차 던져 내지 못해서 애쓰는 것이 아니고 무엇이냐.\n"
     ]
    },
    {
     "name": "stderr",
     "output_type": "stream",
     "text": [
      "\r",
      " 54%|█████▍    | 54/100 [01:24<01:20,  1.75s/it]"
     ]
    },
    {
     "name": "stdout",
     "output_type": "stream",
     "text": [
      "🔹 Predicted:  In the name of the name of the name of the name of the name of the name of the name of the name of the name of the name of the name of the name of the name of the name of the name of the name of the name of the name of the name of the name of the name of the name of the name of the name of the name of the name of the name of the name of the name of the name of the name of the name of the name of the name of the name of the name of the name of the name of the name of the name of the name of the name of the name of the name of the name of the name of the name of the name of the name of the name of the name of the name of the name of the name of the name of the name of the name of the name of the name of the name of the name of the name of the name of the name of the name of the name of the name of the name of the name of the name of the name of the name of the name of the name of the name of the name of the name of the name of the name of the name of the name of the name of the name of the name of the name of the name of the name of the name of the name of the name of the name of the name of the name of the name of the name of the name of the name of the name of the name of the name of the name of the name of the name of the name of the name of the name of the name of the name of the name of the name of the name of the name of the name of the name of the name of the name of the name of the name of the name of the name of the name of the name of the name of the name of the name of the name of the name of the name of the name of the name of the name of the name of the name of the name of the name of the name of the name of the name of the name of the name of the name of the name of the name of the name of the name of the name of the name of the name\n",
      "🔸 Reference: 그가 그 나무 실과를 내게 주므로 내가 먹었나이다\n",
      "🔹 Predicted:  [Music]\n",
      "🔸 Reference: 네가 네 아내의 말을 듣고 내가 너더러 먹지 말라한 나무 실과를 먹었은즉\n"
     ]
    },
    {
     "name": "stderr",
     "output_type": "stream",
     "text": [
      " 58%|█████▊    | 58/100 [01:24<00:32,  1.28it/s]"
     ]
    },
    {
     "name": "stdout",
     "output_type": "stream",
     "text": [
      "🔹 Predicted:  Schauhrer hat sich die Schauhrer einiges an.\n",
      "🔸 Reference: 병자의 몸은 벌써 싸늘하게 식었으며 얼굴이 파랗게 되었다.\n",
      "🔹 Predicted:  [Sigh]\n",
      "🔸 Reference: 그러고 알 수 없는 괴로운 경우에서 저를 끌어내어 주셔요.\n",
      "🔹 Predicted: 浓郡府\n",
      "🔸 Reference: 지금 바로 입금 가능해?\n"
     ]
    },
    {
     "name": "stderr",
     "output_type": "stream",
     "text": [
      " 60%|██████    | 60/100 [01:24<00:22,  1.82it/s]"
     ]
    },
    {
     "name": "stdout",
     "output_type": "stream",
     "text": [
      "🔹 Predicted:  I'm going to be a little bit more focused on the first thing I did.\n",
      "🔸 Reference: 이리하여 주화조로서 탄주는 끝이 났습니다.\n",
      "🔹 Predicted:  Eriches schlubelt das Schroßtel.\n",
      "🔸 Reference: 그는 오던 길을 다시 종로로 향해 갔다.\n"
     ]
    },
    {
     "name": "stderr",
     "output_type": "stream",
     "text": [
      "\r",
      " 61%|██████    | 61/100 [01:24<00:17,  2.22it/s]"
     ]
    },
    {
     "name": "stdout",
     "output_type": "stream",
     "text": [
      "🔹 Predicted: 그 was an example in the first half of the year.\n",
      "🔸 Reference: 선비는 감독이 그를 부를 터이지 하고 하루 종일 가슴이 두근거렸다.\n"
     ]
    },
    {
     "name": "stderr",
     "output_type": "stream",
     "text": [
      "\r",
      " 62%|██████▏   | 62/100 [01:28<00:45,  1.19s/it]"
     ]
    },
    {
     "name": "stdout",
     "output_type": "stream",
     "text": [
      "🔹 Predicted:  Ich bin der Mannschaftsatz, und ich bin der Mannschaftsatz, und ich bin der Mannschaftsatz, und ich bin der Mannschaftsatz, und ich bin der Mannschaftsatz, und ich bin der Mannschaftsatz, und ich bin der Mannschaftsatz, und ich bin der Mannschaftsatz, und ich bin der Mannschaftsatz, und ich bin der Mannschaftsatz, und ich bin der Mannschaftsatz, und ich bin der Mannschaftsatz, und ich bin der Mannschaftsatz, und ich bin der Mannschaftsatz, und ich bin der Mannschaftsatz, und ich bin der Mannschaftsatz, und ich bin der Mannschaftsatz, und ich bin der Mannschaftsatz, und ich bin der Mannschaftsatz, und ich bin der Mannschaftsatz, und ich bin der Mannschaftsatz, und ich bin der Mannschaftsatz, und ich bin der Mannschaftsatz, und ich bin der Mannschaftsatz, und ich bin der Mannschaftsatz, und ich bin der Mannschaftsatz, und ich bin der Mannschaftsatz, und ich bin der Mannschaftsatz, und ich bin der Mannschaftsatz, und ich bin der Mannschaftsatz, und ich bin der Mannschaftsatz, und ich bin der Mannschaftsatz, und ich bin der Mannschaftsatz, und ich bin der Mannschaftsatz, und ich bin der Mannschaftsatz, und ich bin der Mannschaftsatz, und ich bin der Mannschaftsatz, und ich bin der Mannschaftsatz, und ich bin der Mannschaftsatz, und ich bin der Mannschaftsatz, und ich bin der Mannschaftsatz, und ich bin der Mannschaftsatz, und ich bin der Mannschaftsatz, und ich bin der Mannschaftsatz, und ich bin der Mannschaftsatz, und ich bin der Mannschaftsatz, und ich bin der Mannschaftsatz, und ich bin der Mannschaftsatz, und ich bin der Mannschaftsatz, und ich bin der\n",
      "🔸 Reference: 옥점이는 어느 때나 신철이를 잊지 못하는 반면에 그만큼 더 미웠던 것이다.\n"
     ]
    },
    {
     "name": "stderr",
     "output_type": "stream",
     "text": [
      "\r",
      " 63%|██████▎   | 63/100 [01:31<01:05,  1.77s/it]"
     ]
    },
    {
     "name": "stdout",
     "output_type": "stream",
     "text": [
      "🔹 Predicted:  In the past, in the past, in the past, in the past, in the past, in the past, in the past, in the past, in the past, in the past, in the past, in the past, in the past, in the past, in the past, in the past, in the past, in the past, in the past, in the past, in the past, in the past, in the past, in the past, in the past, in the past, in the past, in the past, in the past, in the past, in the past, in the past, in the past, in the past, in the past, in the past, in the past, in the past, in the past, in the past, in the past, in the past, in the past, in the past, in the past, in the past, in the past, in the past, in the past, in the past, in the past, in the past, in the past, in the past, in the past, in the past, in the past, in the past, in the past, in the past, in the past, in the past, in the past, in the past, in the past, in the past, in the past, in the past, in the past, in the past, in the past, in the past, in the past, in the past, in the past, in the past, in the past, in the past, in the past, in the past, in the past, in the past, in the past, in the past, in the past, in the past, in the past, in the past, in the past, in the past, in the past, in the past, in the past, in the past, in the past, in the past, in the past, in the past, in the past, in the past, in the past, in the past, in the past, in the past, in the past, in the past, in the past, in the past, in the past, in the past, in the past,\n",
      "🔸 Reference: 그들은 풀기 없는 선비를 보며 감독에게서 단단한 나무람을 들은 듯하였다.\n",
      "🔹 Predicted:  How do you know what?\n",
      "🔸 Reference: 즐거운 날은 오고 말 것이다.\n"
     ]
    },
    {
     "name": "stderr",
     "output_type": "stream",
     "text": [
      "\r",
      " 65%|██████▌   | 65/100 [01:35<01:01,  1.74s/it]"
     ]
    },
    {
     "name": "stdout",
     "output_type": "stream",
     "text": [
      "🔹 Predicted: 一つの一つの一つの一つの一つの一つの一つの一つの一つの一つの一つの一つの一つの一つの一つの一つの一つの一つの一つの一つの一つの一つの一つの一つの一つの一つの一つの一つの一つの一つの一つの一つの一つの一つの一つの一つの一つの一つの一つの一つの一つの一つの一つの一つの一つの一つの一つの一つの一つの一つの一つの一つの一つの一つの一つの一つの一つの一つの一つの一つの一つの一つの一つの一つの一つの一つの一つの一つの一つの一つの一つの一つの一つの一つの一つの一つの一つの一つの一つの一つの一つの一つの一つの一つの一つの一つの一つの一つの一つの一つの一つの一つの一つの一つの一つの一つの一つの一つの一つの一つの一つの一つの一つの一つの一つの一つの一つの一つの一つの一つの一つの一つの一つの一つの一つの一つの一つの一つの一つの一つの一つの一つの一つの一つの一つの一つの一つの一つの一つの一つの一つの一つの一つの一つの一つの一つの一つの一つの一つの一つの一つの一つの一つの一つの一つの一つの一つの一つの\n",
      "🔸 Reference: 먼저 말씀하여 둘 것은 섭섭히 생각하시지 말으십시오.\n"
     ]
    },
    {
     "name": "stderr",
     "output_type": "stream",
     "text": [
      " 67%|██████▋   | 67/100 [01:35<00:35,  1.08s/it]"
     ]
    },
    {
     "name": "stdout",
     "output_type": "stream",
     "text": [
      "🔹 Predicted:  I want to be the first person who is in the world to be the first person who is in the world to be the first person.\n",
      "🔸 Reference: 무기명으로 투표를 하는 데도 대필로 쓴 사람이 많았다.\n",
      "🔹 Predicted: 矛盾の矛盾について、\n",
      "🔸 Reference: 대답을 듣고야 가겠다는 듯이 말똥말똥 쳐다본다.\n"
     ]
    },
    {
     "name": "stderr",
     "output_type": "stream",
     "text": [
      "\r",
      " 68%|██████▊   | 68/100 [01:38<00:53,  1.69s/it]"
     ]
    },
    {
     "name": "stdout",
     "output_type": "stream",
     "text": [
      "🔹 Predicted: 一つの一つの一つの一つの一つの一つの一つの一つの一つの一つの一つの一つの一つの一つの一つの一つの一つの一つの一つの一つの一つの一つの一つの一つの一つの一つの一つの一つの一つの一つの一つの一つの一つの一つの一つの一つの一つの一つの一つの一つの一つの一つの一つの一つの一つの一つの一つの一つの一つの一つの一つの一つの一つの一つの一つの一つの一つの一つの一つの一つの一つの一つの一つの一つの一つの一つの一つの一つの一つの一つの一つの一つの一つの一つの一つの一つの一つの一つの一つの一つの一つの一つの一つの一つの一つの一つの一つの一つの一つの一つの一つの一つの一つの一つの一つの一つの一つの一つの一つの一つの一つの一つの一つの一つの一つの一つの一つの一つの一つの一つの一つの一つの一つの一つの一つの一つの一つの一つの一つの一つの一つの一つの一つの一つの一つの一つの一つの一つの一つの一つの一つの一つの一つの一つの一つの一つの一つの一つの一つの一つの一つの一つの一つの一つの一つの一つの一つの一つの\n",
      "🔸 Reference: 배고픈데 지금 저녁 식사를 먹으면 너무 이를까?\n"
     ]
    },
    {
     "name": "stderr",
     "output_type": "stream",
     "text": [
      " 71%|███████   | 71/100 [01:39<00:22,  1.27it/s]"
     ]
    },
    {
     "name": "stdout",
     "output_type": "stream",
     "text": [
      "🔹 Predicted:  Then, slowly, slowly, slowly, slowly, slowly, slowly, slowly, slowly, slowly, slowly, slowly, slowly, slowly, slowly, slowly, slowly, slowly, slowly, slowly, slowly, slowly, slowly, slowly, slowly,\n",
      "🔸 Reference: 그는 기침을 안 하려고 입을 꼭 다문 후에 숨을 쉬지 않았다.\n",
      "🔹 Predicted:  [Song]\n",
      "🔸 Reference: 동혁은 입술을 꽉 깨물고 원재의 뒤를 따라 묵묵히 논틀 밭틀을 걸었다.\n",
      "🔹 Predicted:  Susan, Susan, Susan, Susan.\n",
      "🔸 Reference: 대한 사람 대한으로 길이 보전하세\n",
      "🔹 Predicted:  [Spanish]\n",
      "🔸 Reference: 여러 해 별러 오던 농우회의 회관을 지으려고 오늘 저녁에 그 지경을 닦는 것이다.\n"
     ]
    },
    {
     "name": "stderr",
     "output_type": "stream",
     "text": [
      " 75%|███████▌  | 75/100 [01:40<00:09,  2.60it/s]"
     ]
    },
    {
     "name": "stdout",
     "output_type": "stream",
     "text": [
      "🔹 Predicted:  Versuchereauzee und die Verstande der Verstande der Verstande der Verstande der Verstande.\n",
      "🔸 Reference: 이웃에게 아첨하는 것은 그의 발 앞에 그물을 치는 것이니라\n",
      "🔹 Predicted:  [Spanish]\n",
      "🔸 Reference: 하더니 미리부터 허리를 구부리며 집 속으로 기어들어간다.\n",
      "🔹 Predicted:  [Sigh]\n",
      "🔸 Reference: 그와 동시에 기천의 가슴도 쿵 하고 울렸다.\n"
     ]
    },
    {
     "name": "stderr",
     "output_type": "stream",
     "text": [
      " 77%|███████▋  | 77/100 [01:43<00:18,  1.26it/s]"
     ]
    },
    {
     "name": "stdout",
     "output_type": "stream",
     "text": [
      "🔹 Predicted:  Versus an die Versus des Versus des Versus des Versus des Versus des Versus des Versus des Versus des Versus des Versus des Versus des Versus des Versus des Versus des Versus des Versus des Versus des Versus des Versus des Versus des Versus des Versus des Versus des Versus des Versus des Versus des Versus des Versus des Versus des Versus des Versus des Versus des Versus des Versus des Versus des Versus des Versus des Versus des Versus des Versus des Versus des Versus des Versus des Versus des Versus des Versus des Versus des Versus des Versus des Versus des Versus des Versus des Versus des Versus des Versus des Versus des Versus des Versus des Versus des Versus des Versus des Versus des Versus des Versus des Versus des Versus des Versus des Versus des Versus des Versus des Versus des Versus des Versus des Versus des Versus des Versus des Versus des Versus des Versus des Versus des Versus des Versus des Versus des Versus des Versus des Versus des Versus des Versus des Versus des Versus des Versus des Versus des Versus des Versus des Versus des Versus des Versus des Versus des Versus des Versus des Versus des Versus des Versus des Versus des Versus des Versus des Versus des Versus des Versus des Versus des Versus des Versus des Versus des Versus des Versus des Versus des Versus des Versus des Versus des Versus des Versus des Versus des Versus des Versus des Versus des Versus des Versus des Versus des Versus des Versus des Versus des Versus des Versus des Versus des Versus des Versus des Versus des Versus des Versus des Versus des Versus des Versus des Versus des Versus des Versus des Versus des Versus\n",
      "🔸 Reference: 춘우는 모래 위에 앉아서 멀리 서울 쪽을 바라보고 앉아 있었다.\n",
      "🔹 Predicted: 凡事件事件事会变化\n",
      "🔸 Reference: 그리고 수없는 버스며 택시가 서로 경쟁을 하며 달려오고 달려간다.\n"
     ]
    },
    {
     "name": "stderr",
     "output_type": "stream",
     "text": [
      "\r",
      " 78%|███████▊  | 78/100 [01:43<00:14,  1.55it/s]"
     ]
    },
    {
     "name": "stdout",
     "output_type": "stream",
     "text": [
      "🔹 Predicted:  danner die Kaukei und die Kaukei zu einem anderen Tag.\n",
      "🔸 Reference: 그는 그와 한 학급에 있는 인호였다.\n"
     ]
    },
    {
     "name": "stderr",
     "output_type": "stream",
     "text": [
      "\r",
      " 79%|███████▉  | 79/100 [01:47<00:28,  1.34s/it]"
     ]
    },
    {
     "name": "stdout",
     "output_type": "stream",
     "text": [
      "🔹 Predicted:  Schauhrer und der Schauhrer hat sich die Schauhrer der Schauhrer der Schauhrer der Schauhrer der Schauhrer der Schauhrer der Schauhrer der Schauhrer der Schauhrer der Schauhrer der Schauhrer der Schauhrer der Schauhrer der Schauhrer der Schauhrer der Schauhrer der Schauhrer der Schauhrer der Schauhrer der Schauhrer der Schauhrer der Schauhrer der Schauhrer der Schauhrer der Schauhrer der Schauhrer der Schauhrer der Schauhrer der Schauhrer der Schauhrer der Schauhrer der Schauhrer der Schauhrer der Schauhrer der Schauhrer der Schauhrer der Schauhrer der Schauhrer der Schauhrer der Schauhrer der Schauhrer der Schauhrer der Schauhrer der Schauhrer der Schauhrer der Schauhrer der Schauhrer der Schauhrer der Schauhrer der Schauhrer der Schauhrer der Schauhrer der Schauhrer der Schauhrer der Schauhrer der Schauhrer der Schauhrer der Schauhrer der Schauhrer der Schauhrer der Schauhrer der Schauhrer der Schauhrer der Schauhrer der Schauhrer der Schauhrer der Schauhrer der Schauhrer der Schauhrer der Schauhrer der Schauhrer der Schauhrer der Schauhrer der Schauhrer der Schauhrer der Schauhrer der Schauhrer der Schauhrer der Schauhrer der Schauhrer der Schauhrer der Schauhrer der Schauhrer der Schauhrer der Schauhrer der Schauhrer der Sch\n",
      "🔸 Reference: 이서방은 물끄러미 이것을 바라보며 가슴이 후련해졌다.\n"
     ]
    },
    {
     "name": "stderr",
     "output_type": "stream",
     "text": [
      " 81%|████████  | 81/100 [01:50<00:26,  1.39s/it]"
     ]
    },
    {
     "name": "stdout",
     "output_type": "stream",
     "text": [
      "🔹 Predicted: さらに、彼は彼は彼は彼は彼は彼は彼は彼は彼は彼は彼は彼は彼は彼は彼は彼は彼は彼は彼は彼は彼は彼は彼は彼は彼は彼は彼は彼は彼は彼は彼は彼は彼は彼は彼は彼は彼は彼は彼は彼は彼は彼は彼は彼は彼は彼は彼は彼は彼は彼は彼は彼は彼は彼は彼は彼は彼は彼は彼は彼は彼は彼は彼は彼は彼は彼は彼は彼は彼は彼は彼は彼は彼は彼は彼は彼は彼は彼は彼は彼は彼は彼は彼は彼は彼は彼は彼は彼は彼は彼は彼は彼は彼は彼は彼は彼は彼は彼は彼は彼は彼は彼は彼は彼は彼は彼は彼は彼は彼は彼は彼は彼は彼は彼は彼は彼は彼は彼は彼は彼は彼は彼は彼は彼は彼は彼は彼は彼は彼は彼は彼は彼は彼は彼は彼は彼は彼は彼は彼は彼は彼は彼は彼は彼は彼は彼は彼\n",
      "🔸 Reference: 제가 지금 좀 너무 급해서요.\n",
      "🔹 Predicted:  I'm not going to be a little bit too much.\n",
      "🔸 Reference: 유명한 광염 소나타의 작가 말씀이지요?\"\n"
     ]
    },
    {
     "name": "stderr",
     "output_type": "stream",
     "text": [
      " 83%|████████▎ | 83/100 [01:50<00:13,  1.27it/s]"
     ]
    },
    {
     "name": "stdout",
     "output_type": "stream",
     "text": [
      "🔹 Predicted:  Schauhrer und Schauhrer und Schauhrer und Schauhrer und Schauhrer\n",
      "🔸 Reference: 쥐어 터져서 병원비 내는 건 못 참는다\n",
      "🔹 Predicted:  Antones in the same way.\n",
      "🔸 Reference: 여호와 하나님이 에덴동산에서 그 사람을 내어 보내어\n"
     ]
    },
    {
     "name": "stderr",
     "output_type": "stream",
     "text": [
      " 85%|████████▌ | 85/100 [01:51<00:07,  2.12it/s]"
     ]
    },
    {
     "name": "stdout",
     "output_type": "stream",
     "text": [
      "🔹 Predicted:  [Siekelle]\n",
      "🔸 Reference: 정은배 씨와 마동혁 씨의 음악을 굉장히 다르다고 생각했거든요.\n",
      "🔹 Predicted: 彩虐的大阪约定会出现一段落ち、\n",
      "🔸 Reference: 그때에 비단을 찢는 듯한 옥점의 조소가 들리는 듯하여 그는 얼핏 머리를 숙였다.\n"
     ]
    },
    {
     "name": "stderr",
     "output_type": "stream",
     "text": [
      "\r",
      " 86%|████████▌ | 86/100 [01:51<00:05,  2.65it/s]"
     ]
    },
    {
     "name": "stdout",
     "output_type": "stream",
     "text": [
      "🔹 Predicted: The first time I saw the incident was a little bit too much.\n",
      "🔸 Reference: 웬일인지 선비가 울면 할멈은 번번이 따라 울곤 하였던 것이다.\n"
     ]
    },
    {
     "name": "stderr",
     "output_type": "stream",
     "text": [
      " 88%|████████▊ | 88/100 [01:54<00:11,  1.08it/s]"
     ]
    },
    {
     "name": "stdout",
     "output_type": "stream",
     "text": [
      "🔹 Predicted:  und dann auf den anderen anderen anderen anderen anderen anderen anderen anderen anderen anderen anderen anderen anderen anderen anderen anderen anderen anderen anderen anderen anderen anderen anderen anderen anderen anderen anderen anderen anderen anderen anderen anderen anderen anderen anderen anderen anderen anderen anderen anderen anderen anderen anderen anderen anderen anderen anderen anderen anderen anderen anderen anderen anderen anderen anderen anderen anderen anderen anderen anderen anderen anderen anderen anderen anderen anderen anderen anderen anderen anderen anderen anderen anderen anderen anderen anderen anderen anderen anderen anderen anderen anderen anderen anderen anderen anderen anderen anderen anderen anderen anderen anderen anderen anderen anderen anderen anderen anderen anderen anderen anderen anderen anderen anderen anderen anderen anderen anderen anderen anderen anderen anderen anderen anderen anderen anderen anderen anderen anderen anderen anderen anderen anderen anderen anderen anderen anderen anderen anderen anderen anderen anderen anderen anderen anderen anderen anderen anderen anderen anderen anderen anderen anderen anderen anderen anderen anderen anderen anderen anderen anderen anderen anderen anderen anderen anderen anderen anderen anderen anderen anderen anderen anderen anderen anderen anderen anderen anderen anderen anderen anderen anderen anderen anderen anderen anderen anderen anderen anderen anderen anderen anderen anderen anderen anderen anderen anderen anderen anderen anderen anderen anderen anderen anderen anderen anderen anderen anderen anderen anderen anderen anderen anderen anderen anderen anderen anderen anderen anderen anderen anderen anderen anderen anderen anderen anderen anderen anderen anderen anderen anderen anderen anderen anderen anderen anderen anderen anderen anderen anderen anderen anderen anderen anderen anderen anderen anderen anderen anderen anderen anderen anderen anderen anderen anderen anderen anderen anderen anderen anderen anderen anderen anderen anderen anderen anderen anderen anderen anderen anderen anderen anderen anderen anderen anderen anderen anderen anderen anderen anderen anderen anderen anderen anderen anderen anderen anderen anderen anderen anderen anderen anderen anderen anderen anderen anderen anderen anderen anderen anderen anderen anderen anderen anderen anderen anderen anderen anderen anderen anderen anderen anderen anderen anderen anderen anderen anderen anderen anderen anderen anderen anderen anderen anderen anderen anderen anderen anderen anderen anderen anderen anderen anderen anderen anderen anderen anderen anderen anderen anderen anderen anderen anderen anderen anderen anderen anderen anderen anderen anderen anderen anderen anderen anderen anderen anderen anderen anderen anderen anderen anderen anderen anderen anderen anderen anderen anderen anderen anderen anderen anderen anderen anderen anderen anderen anderen anderen anderen anderen anderen anderen anderen anderen anderen anderen anderen anderen anderen anderen anderen anderen anderen anderen anderen anderen anderen anderen anderen anderen anderen anderen anderen anderen anderen anderen anderen anderen anderen anderen anderen anderen anderen anderen anderen anderen anderen anderen anderen anderen anderen anderen anderen anderen anderen anderen anderen anderen anderen anderen anderen anderen anderen anderen anderen anderen anderen anderen anderen anderen anderen anderen anderen anderen anderen anderen anderen anderen anderen anderen anderen\n",
      "🔸 Reference: 여기 편의점은 이십사시간 내내 열지는 않으니까, 필요한 게 있으면 미리 사두세요.\n",
      "🔹 Predicted:  Verschannung und ein timehunter der Landtag.\n",
      "🔸 Reference: 하고 창하는 춘우의 얼굴을 한참이나 물끄러미 들여다보았다.\n"
     ]
    },
    {
     "name": "stderr",
     "output_type": "stream",
     "text": [
      "\r",
      " 89%|████████▉ | 89/100 [01:54<00:07,  1.45it/s]"
     ]
    },
    {
     "name": "stdout",
     "output_type": "stream",
     "text": [
      "🔹 Predicted: wagging some things to do with the same thing.\n",
      "🔸 Reference: 여동생이 점점 어머니를 닮았나 보다.\n"
     ]
    },
    {
     "name": "stderr",
     "output_type": "stream",
     "text": [
      "\r",
      " 90%|█████████ | 90/100 [01:58<00:14,  1.48s/it]"
     ]
    },
    {
     "name": "stdout",
     "output_type": "stream",
     "text": [
      "🔹 Predicted: 儲terの一つの一つの一つの一つの一つの一つの一つの一つの一つの一つの一つの一つの一つの一つの一つの一つの一つの一つの一つの一つの一つの一つの一つの一つの一つの一つの一つの一つの一つの一つの一つの一つの一つの一つの一つの一つの一つの一つの一つの一つの一つの一つの一つの一つの一つの一つの一つの一つの一つの一つの一つの一つの一つの一つの一つの一つの一つの一つの一つの一つの一つの一つの一つの一つの一つの一つの一つの一つの一つの一つの一つの一つの一つの一つの一つの一つの一つの一つの一つの一つの一つの一つの一つの一つの一つの一つの一つの一つの一つの一つの一つの一つの一つの一つの一つの一つの一つの一つの一つの一つの一つの一つの一つの一つの一つの一つの一つの一つの一つの一つの一つの一つの一つの一つの一つの一つの一つの一つの一つの一つの一つの一つの一つの一つの一つの一つの一つの一つの一つの一つの一つの一つの一つの一つの一つの一つの一つの一つの一つの一つの一つの一つの一つの一つの一つの一つの一つ\n",
      "🔸 Reference: 황금정에서는 용산으로 가는 듯한 월급쟁이들이 가득 들이몰리었다.\n",
      "🔹 Predicted:  [Sigh]\n",
      "🔸 Reference: 이것이 이 좋은 새 옷을 준 데 대한 흥선의 인사였다.\n"
     ]
    },
    {
     "name": "stderr",
     "output_type": "stream",
     "text": [
      "\r",
      " 92%|█████████▏| 92/100 [02:01<00:12,  1.59s/it]"
     ]
    },
    {
     "name": "stdout",
     "output_type": "stream",
     "text": [
      "🔹 Predicted:  Versuchung und die Faltes und die Faltes und die Faltes und die Faltes und die Faltes und die Faltes und die Faltes und die Faltes und die Faltes und die Faltes und die Faltes und die Faltes und die Faltes und die Faltes und die Faltes und die Faltes und die Faltes und die Faltes und die Faltes und die Faltes und die Faltes und die Faltes und die Faltes und die Faltes und die Faltes und die Faltes und die Faltes und die Faltes und die Faltes und die Faltes und die Faltes und die Faltes und die Faltes und die Faltes und die Faltes und die Faltes und die Faltes und die Faltes und die Faltes und die Faltes und die Faltes und die Faltes und die Faltes und die Faltes und die Faltes und die Faltes und die Faltes und die Faltes und die Faltes und die Faltes und die Faltes und die Faltes und die Faltes und die Faltes und die Faltes und die Faltes und die Faltes und die Faltes und die Faltes und die Faltes und die Faltes und die Faltes und die Faltes und die Faltes und die Faltes und die Faltes und die Faltes und die Faltes und die Faltes und die Faltes und die Faltes und die Faltes und die Faltes und die Faltes und die Faltes und die Faltes und die Faltes und die Faltes und die Faltes und die Faltes und die Faltes und die Faltes und die Faltes und die Faltes und die Faltes und die Faltes und die Faltes und die Faltes und\n",
      "🔸 Reference: 보라 이 사람이 선악을 아는 일에 우리 중 하나 같이 되었으니\n"
     ]
    },
    {
     "name": "stderr",
     "output_type": "stream",
     "text": [
      "\r",
      " 93%|█████████▎| 93/100 [02:04<00:14,  2.02s/it]"
     ]
    },
    {
     "name": "stdout",
     "output_type": "stream",
     "text": [
      "🔹 Predicted: つぼうかときは、そのまま一つの一つの一つの一つの一つの一つの一つの一つの一つの一つの一つの一つの一つの一つの一つの一つの一つの一つの一つの一つの一つの一つの一つの一つの一つの一つの一つの一つの一つの一つの一つの一つの一つの一つの一つの一つの一つの一つの一つの一つの一つの一つの一つの一つの一つの一つの一つの一つの一つの一つの一つの一つの一つの一つの一つの一つの一つの一つの一つの一つの一つの一つの一つの一つの一つの一つの一つの一つの一つの一つの一つの一つの一つの一つの一つの一つの一つの一つの一つの一つの一つの一つの一つの一つの一つの一つの一つの一つの一つの一つの一つの一つの一つの一つの一つの一つの一つの一つの一つの一つの一つの一つの一つの一つの一つの一つの一つの一つの一つの一つの一つの一つの一つの一つの一つの一つの一つの一つの一つの一つの一つの一つの一つの一つの一つの一つの一つの一つの一つの一つの一つの一つの一つの一つの一つの一つの一つの一つの一つの一つの一つの一つの一つの一つの\n",
      "🔸 Reference: 자, 여기 어떤 상점이 있다 합시다.\n"
     ]
    },
    {
     "name": "stderr",
     "output_type": "stream",
     "text": [
      "\r",
      " 94%|█████████▍| 94/100 [02:08<00:14,  2.36s/it]"
     ]
    },
    {
     "name": "stdout",
     "output_type": "stream",
     "text": [
      "🔹 Predicted: 彼は彼は彼は彼は彼は彼は彼は彼は彼は彼は彼は彼は彼は彼は彼は彼は彼は彼は彼は彼は彼は彼は彼は彼は彼は彼は彼は彼は彼は彼は彼は彼は彼は彼は彼は彼は彼は彼は彼は彼は彼は彼は彼は彼は彼は彼は彼は彼は彼は彼は彼は彼は彼は彼は彼は彼は彼は彼は彼は彼は彼は彼は彼は彼は彼は彼は彼は彼は彼は彼は彼は彼は彼は彼は彼は彼は彼は彼は彼は彼は彼は彼は彼は彼は彼は彼は彼は彼は彼は彼は彼は彼は彼は彼は彼は彼は彼は彼は彼は彼は彼は彼は彼は彼は彼は彼は彼は彼は彼は彼は彼は彼は彼は彼は彼は彼は彼は彼は彼は彼は彼は彼は彼は彼は彼は彼は彼は彼は彼は彼は彼は彼は彼は彼は彼は彼は彼は彼は彼は彼は彼は彼は彼は彼は彼は彼は彼は彼は\n",
      "🔸 Reference: 그때 그는 경찰서에서 고문받던 생각을 하고 소름이 쭉 끼쳤다.\n"
     ]
    },
    {
     "name": "stderr",
     "output_type": "stream",
     "text": [
      " 96%|█████████▌| 96/100 [02:11<00:07,  1.93s/it]"
     ]
    },
    {
     "name": "stdout",
     "output_type": "stream",
     "text": [
      "🔹 Predicted: アッドルのアッドルのアッドルのアッドルのアッドルのアッドルのアッドルのアッドルのアッドルのアッドルのアッドルのアッドルのアッドルのアッドルのアッドルのアッドルのアッドルのアッドルのアッドルのアッドルのアッドルのアッドルのアッドルのアッドルのアッドルのアッドルのアッドルのアッドルのアッドルのアッドルのアッドルのアッドルのアッドルのアッドルのアッドルのアッドルのアッドルのアッドルのアッドルのアッドルのアッドルのアッドルのアッドルのアッドルのアッドルのアッドルのアッドルのアッドルのアッドルのアッドルのアッドルのアッドルのアッドルのアッドルのアッドルのアッドルのアッドルのアッドルのアッドルのアッドルのアッドルのアッドルのアッドルのアッドルのアッドルのアッドルのアッドルのアッドルのアッドルのアッドルのアッドルのアッドルのアッドルのアッドルのアッドルのアッドルのアッドルのアッドルのアッドルのアッドルのアッドルのアッドルのアッドルのアッドルのアッドルのアッドルのアッドルのアッドルのアッドル\n",
      "🔸 Reference: 일포는 못 들은 체하고 있다가 여전히 또 우벼 내서 맡아 보곤 하였다.\n",
      "🔹 Predicted:  Konradnung und Konradnung und Konradnung.\n",
      "🔸 Reference: 자기의 마음을 제어하지 아니하는 자는 성읍이 무너지고 성벽이 없는 것 같으니라\n"
     ]
    },
    {
     "name": "stderr",
     "output_type": "stream",
     "text": [
      "\r",
      " 97%|█████████▋| 97/100 [02:11<00:04,  1.42s/it]"
     ]
    },
    {
     "name": "stdout",
     "output_type": "stream",
     "text": [
      "🔹 Predicted: 一切丰富汗的冠狀\n",
      "🔸 Reference: 그의 가슴에는 또다시 그 실뭉치가 욱 쓸어 올라온다.\n"
     ]
    },
    {
     "name": "stderr",
     "output_type": "stream",
     "text": [
      "\r",
      " 98%|█████████▊| 98/100 [02:15<00:03,  1.98s/it]"
     ]
    },
    {
     "name": "stdout",
     "output_type": "stream",
     "text": [
      "🔹 Predicted: で、そのまま一つの一つの一つの一つの一つの一つの一つの一つの一つの一つの一つの一つの一つの一つの一つの一つの一つの一つの一つの一つの一つの一つの一つの一つの一つの一つの一つの一つの一つの一つの一つの一つの一つの一つの一つの一つの一つの一つの一つの一つの一つの一つの一つの一つの一つの一つの一つの一つの一つの一つの一つの一つの一つの一つの一つの一つの一つの一つの一つの一つの一つの一つの一つの一つの一つの一つの一つの一つの一つの一つの一つの一つの一つの一つの一つの一つの一つの一つの一つの一つの一つの一つの一つの一つの一つの一つの一つの一つの一つの一つの一つの一つの一つの一つの一つの一つの一つの一つの一つの一つの一つの一つの一つの一つの一つの一つの一つの一つの一つの一つの一つの一つの一つの一つの一つの一つの一つの一つの一つの一つの一つの一つの一つの一つの一つの一つの一つの一つの一つの一つの一つの一つの一つの一つの一つの一つの一つの一つの一つの一つの一つの一つの一つの一つの一つの一つの一\n",
      "🔸 Reference: 그럴 것이다.\n"
     ]
    },
    {
     "name": "stderr",
     "output_type": "stream",
     "text": [
      "\r",
      " 99%|█████████▉| 99/100 [02:18<00:02,  2.37s/it]"
     ]
    },
    {
     "name": "stdout",
     "output_type": "stream",
     "text": [
      "🔹 Predicted:  Undenneutel des Wartens und die Verstandsverwaltens der Wartens der Wartens der Wartens der Wartens der Wartens der Wartens der Wartens der Wartens der Wartens der Wartens der Wartens der Wartens der Wartens der Wartens der Wartens der Wartens der Wartens der Wartens der Wartens der Wartens der Wartens der Wartens der Wartens der Wartens der Wartens der Wartens der Wartens der Wartens der Wartens der Wartens der Wartens der Wartens der Wartens der Wartens der Wartens der Wartens der Wartens der Wartens der Wartens der Wartens der Wartens der Wartens der Wartens der Wartens der Wartens der Wartens der Wartens der Wartens der Wartens der Wartens der Wartens der Wartens der Wartens der Wartens der Wartens der Wartens der Wartens der Wartens der Wartens der Wartens der Wartens der Wartens der Wartens der Wartens der Wartens der Wartens der Wartens der Wartens der Wartens der Wartens der Wartens der Wartens der Wartens der Wartens der Wartens der Wartens der Wartens der Wartens der Wartens der Wartens der Wartens der Wartens der Wartens der Wartens der Wartens der Wartens der Wartens der Wartens der Wartens der Wartens der Wartens der Wartens der Wartens der Wartens der Wartens der Wartens der Wartens der Wartens der Wartens der Wartens der Wartens der Wartens der Wartens der Wartens der Wartens der Wartens der W\n",
      "🔸 Reference: 간난이가 몸을 솟구려고 움찔하는 바람에 선비가 푹 거꾸러졌다.\n"
     ]
    },
    {
     "name": "stderr",
     "output_type": "stream",
     "text": [
      "100%|██████████| 100/100 [02:21<00:00,  1.42s/it]"
     ]
    },
    {
     "name": "stdout",
     "output_type": "stream",
     "text": [
      "🔹 Predicted: 彼は彼は彼は彼は彼は彼は彼は彼は彼は彼は彼は彼は彼は彼は彼は彼は彼は彼は彼は彼は彼は彼は彼は彼は彼は彼は彼は彼は彼は彼は彼は彼は彼は彼は彼は彼は彼は彼は彼は彼は彼は彼は彼は彼は彼は彼は彼は彼は彼は彼は彼は彼は彼は彼は彼は彼は彼は彼は彼は彼は彼は彼は彼は彼は彼は彼は彼は彼は彼は彼は彼は彼は彼は彼は彼は彼は彼は彼は彼は彼は彼は彼は彼は彼は彼は彼は彼は彼は彼は彼は彼は彼は彼は彼は彼は彼は彼は彼は彼は彼は彼は彼は彼は彼は彼は彼は彼は彼は彼は彼は彼は彼は彼は彼は彼は彼は彼は彼は彼は彼は彼は彼は彼は彼は彼は彼は彼は彼は彼は彼は彼は彼は彼は彼は彼は彼は彼は彼は彼は彼は彼は彼は彼は彼は彼は彼は彼は彼は\n",
      "🔸 Reference: 빈부가 섞여 살거니와 무릇 그들을 지으신 이는 여호와시니라\n",
      "✅ KO WER: 5.4171\n",
      "🌍 Language: en\n"
     ]
    },
    {
     "name": "stderr",
     "output_type": "stream",
     "text": [
      "\n",
      "  1%|          | 1/100 [00:03<05:57,  3.61s/it]"
     ]
    },
    {
     "name": "stdout",
     "output_type": "stream",
     "text": [
      "🔹 Predicted: 沖縜的手段は、一つの一つの一つの一つの一つの一つの一つの一つの一つの一つの一つの一つの一つの一つの一つの一つの一つの一つの一つの一つの一つの一つの一つの一つの一つの一つの一つの一つの一つの一つの一つの一つの一つの一つの一つの一つの一つの一つの一つの一つの一つの一つの一つの一つの一つの一つの一つの一つの一つの一つの一つの一つの一つの一つの一つの一つの一つの一つの一つの一つの一つの一つの一つの一つの一つの一つの一つの一つの一つの一つの一つの一つの一つの一つの一つの一つの一つの一つの一つの一つの一つの一つの一つの一つの一つの一つの一つの一つの一つの一つの一つの一つの一つの一つの一つの一つの一つの一つの一つの一つの一つの一つの一つの一つの一つの一つの一つの一つの一つの一つの一つの一つの一つの一つの一つの一つの一つの一つの一つの一つの一つの一つの一つの一つの一つの一つの一つの一つの一つの一つの一つの一つの一つの一つの一つの一つの一つの一つの一つの一つの一つの一つの一つの一つの一つの\n",
      "🔸 Reference: Again, small fast craft could attack and destroy a major warship.\n",
      "🔹 Predicted:  [Spanish]\n",
      "🔸 Reference: Both the Collected and Selected Poems were edited by Michael Rothenberg.\n"
     ]
    },
    {
     "name": "stderr",
     "output_type": "stream",
     "text": [
      "  4%|▍         | 4/100 [00:07<02:22,  1.49s/it]"
     ]
    },
    {
     "name": "stdout",
     "output_type": "stream",
     "text": [
      "🔹 Predicted: 今夜市市市市市市市市市市市市市市市市市市市市市市市市市市市市市市市市市市市市市市市市市市市市市市市市市市市市市市市市市市市市市市市市市市市市市市市市市市市市市市市市市市市市市市市市市市市市市市市市市市市市市市市市市市市市市市市市市市市市市市市市市市市市市市市市市市市市市市市市市市市市市市市市市市市市市市市市市市市市市市市市市市市市市市市市市市市市市市市市市市市市市市市市市市市市市市市市市市市市市市市市市市市市市市市市市市市市市市市市市市市市市市市市市市市市市市市市市市市市市市市市市市市市市市市市市市市市市市市市市市市市市市市市市市市市市市市市市市市市市市市市市市市市市市市市市市市市市市市市市市市市市市市市市市市市市市市市市市市市市市市市市市市市市市市市市市市市市市市市市市市市市市市市市市市市市市市市市市市市市市市市市市市市市市市市市市市市市市市市市市市市市市市市市市市市市市市市市市市市市市市市市市市市市市市市市市市市市市市市市市市市市市市市市市市市市市市市市市市市市市市市市市\n",
      "🔸 Reference: The residents moved to higher ground east of the original site.\n",
      "🔹 Predicted:  La la la la la la la la la la la la\n",
      "🔸 Reference: We need an end of all such matter.\n",
      "🔹 Predicted:  [Sigh]\n",
      "🔸 Reference: Bridget was born and raised in Ghana.\n"
     ]
    },
    {
     "name": "stderr",
     "output_type": "stream",
     "text": [
      "  7%|▋         | 7/100 [00:07<00:59,  1.56it/s]"
     ]
    },
    {
     "name": "stdout",
     "output_type": "stream",
     "text": [
      "🔹 Predicted:  At the worst was to die Schnappel des Schnappel des Schnappel des Bersdorfens.\n",
      "🔸 Reference: The crash is the deadliest aviation disaster in both Basque Country and Iberia history.\n",
      "🔹 Predicted:  Repassage der Verkrieg.\n",
      "🔸 Reference: The pitched roof is clad in red tiles.\n",
      "🔹 Predicted:  [Music]\n",
      "🔸 Reference: Ski Gap Road leads southeast down the valley of South Poplar Run to Claysburg.\n"
     ]
    },
    {
     "name": "stderr",
     "output_type": "stream",
     "text": [
      " 10%|█         | 10/100 [00:07<00:30,  2.91it/s]"
     ]
    },
    {
     "name": "stdout",
     "output_type": "stream",
     "text": [
      "🔹 Predicted:  [Sigh]\n",
      "🔸 Reference: Egyptian archeology is one of the branches of Egyptology.\n",
      "🔹 Predicted:  I'm going to use the same method as the first one.\n",
      "🔸 Reference: It is also known as Bayo Canyon Road.\n"
     ]
    },
    {
     "name": "stderr",
     "output_type": "stream",
     "text": [
      "\r",
      " 12%|█▏        | 12/100 [00:08<00:21,  4.19it/s]"
     ]
    },
    {
     "name": "stdout",
     "output_type": "stream",
     "text": [
      "🔹 Predicted:  [Sigh]\n",
      "🔸 Reference: Other similar explanations include \"shoally river\", and \"a rock ledge across a stream\".\n",
      "🔹 Predicted:  [Sigh]\n",
      "🔸 Reference: Both ensembles wear highland dress patterned in their respective service tartans.\n",
      "🔹 Predicted:  [Clears throat]\n",
      "🔸 Reference: Other frames are shaped as chess pieces and geometric shapes.\n"
     ]
    },
    {
     "name": "stderr",
     "output_type": "stream",
     "text": [
      "\r",
      " 14%|█▍        | 14/100 [00:08<00:15,  5.49it/s]"
     ]
    },
    {
     "name": "stdout",
     "output_type": "stream",
     "text": [
      "🔹 Predicted:  [Sigh]\n",
      "🔸 Reference: I wanted to sleep a little longer, he thought.\n",
      "🔹 Predicted:  [Music]\n",
      "🔸 Reference: The people with programs are seated in a very large, elegant room.\n"
     ]
    },
    {
     "name": "stderr",
     "output_type": "stream",
     "text": [
      "\r",
      " 16%|█▌        | 16/100 [00:08<00:14,  5.93it/s]"
     ]
    },
    {
     "name": "stdout",
     "output_type": "stream",
     "text": [
      "🔹 Predicted:  Neumannie von der Faltreine und der Faltreine von der Faltreine.\n",
      "🔸 Reference: A man is grilling out in his backyard.\n",
      "🔹 Predicted:  [Sigh]\n",
      "🔸 Reference: A large black dog is catching a Frisbee while a large brown dog follows shortly after.\n"
     ]
    },
    {
     "name": "stderr",
     "output_type": "stream",
     "text": [
      "\r",
      " 18%|█▊        | 18/100 [00:11<00:55,  1.49it/s]"
     ]
    },
    {
     "name": "stdout",
     "output_type": "stream",
     "text": [
      "🔹 Predicted:  Erichholtz hat er sich die Streckeinung von der Sitzung der Sitzung der Sitzung der Sitzung der Sitzung der Sitzung der Sitzung der Sitzung der Sitzung der Sitzung der Sitzung der Sitzung der Sitzung der Sitzung der Sitzung der Sitzung der Sitzung der Sitzung der Sitzung der Sitzung der Sitzung der Sitzung der Sitzung der Sitzung der Sitzung der Sitzung der Sitzung der Sitzung der Sitzung der Sitzung der Sitzung der Sitzung der Sitzung der Sitzung der Sitzung der Sitzung der Sitzung der Sitzung der Sitzung der Sitzung der Sitzung der Sitzung der Sitzung der Sitzung der Sitzung der Sitzung der Sitzung der Sitzung der Sitzung der Sitzung der Sitzung der Sitzung der Sitzung der Sitzung der Sitzung der Sitzung der Sitzung der Sitzung der Sitzung der Sitzung der Sitzung der Sitzung der Sitzung der Sitzung der Sitzung der Sitzung der Sitzung der Sitzung der Sitzung der Sitzung der Sitzung der Sitzung der Sitzung der Sitzung der Sitzung der Sitzung der Sitzung der Sitzung der Sitzung der Sitzung der Sitzung der Sitzung der Sitzung der Sitzung der Sitzung der Sitzung der Sitzung der Sitzung der Sitzung der Sitzung der Sitzung der Sitzung der Sitzung der Sitzung der Sitzung der Sitzung der Sitzung der Sitzung der Sitzung der Sitzung der Sitzung der Sitzung der Sitzung der Sitzung der Sitzung der Sitzung der Sitzung der\n",
      "🔸 Reference: Arctic rescue missions were mounted as necessary.\n"
     ]
    },
    {
     "name": "stderr",
     "output_type": "stream",
     "text": [
      " 20%|██        | 20/100 [00:15<01:17,  1.03it/s]"
     ]
    },
    {
     "name": "stdout",
     "output_type": "stream",
     "text": [
      "🔹 Predicted:  Reckon, Schroger, Schroger, Schroger, Schroger, Schroger, Schroger, Schroger, Schroger, Schroger, Schroger, Schroger, Schroger, Schroger, Schroger, Schroger, Schroger, Schroger, Schroger, Schroger, Schroger, Schroger, Schroger, Schroger, Schroger, Schroger, Schroger, Schroger, Schroger, Schroger, Schroger, Schroger, Schroger, Schroger, Schroger, Schroger, Schroger, Schroger, Schroger, Schroger, Schroger, Schroger, Schroger, Schroger, Schroger, Schroger, Schroger, Schroger, Schroger, Schroger, Schroger, Schroger, Schroger, Schroger, Schroger, Schroger, Schroger, Schroger, Schroger, Schroger, Schroger, Schroger, Schroger, Schroger, Schroger, Schroger, Schroger, Schroger, Schroger, Schroger, Schroger, Schroger, Schroger, Schroger, Schroger, Schroger, Schroger, Schroger, Schroger, Schroger, Schroger, Schroger, Schroger, Schroger, Schroger, Schroger, Schroger, Schroger, Schroger, Schroger, Schroger, Schroger, Schroger, Schroger, Schroger, Schroger, Schroger, Schroger, Schroger, Schroger, Schroger, Schroger, Schroger, Schroger, Schroger, Schroger, Schroger, Schroger, Schroger, Schroger, Schroger,\n",
      "🔸 Reference: Carter said racism played a part in the decision.\n",
      "🔹 Predicted:  Erichholtz hat er sich die Streckein auf der Faltzeitsport.\n",
      "🔸 Reference: Its word order is the typical subject-object-verb.\n"
     ]
    },
    {
     "name": "stderr",
     "output_type": "stream",
     "text": [
      "\r",
      " 22%|██▏       | 22/100 [00:15<00:49,  1.58it/s]"
     ]
    },
    {
     "name": "stdout",
     "output_type": "stream",
     "text": [
      "🔹 Predicted:  [Music]\n",
      "🔸 Reference: Gwen commits herself to restoring her relationship with her sister.\n",
      "🔹 Predicted:  [Sigh]\n",
      "🔸 Reference: To which he replies: I thought she was your mother!\n",
      "🔹 Predicted:  [Sounds of the song]\n",
      "🔸 Reference: Later that night Jill is kidnapped by gill men.\n"
     ]
    },
    {
     "name": "stderr",
     "output_type": "stream",
     "text": [
      "\r",
      " 24%|██▍       | 24/100 [00:15<00:33,  2.25it/s]"
     ]
    },
    {
     "name": "stdout",
     "output_type": "stream",
     "text": [
      "🔹 Predicted: (Rosalian)\n",
      "🔸 Reference: Empty barrels make the most noise.\n",
      "🔹 Predicted:  [Sigh]\n",
      "🔸 Reference: When the carpet and the curtains caught fire, it was getting warm.\n"
     ]
    },
    {
     "name": "stderr",
     "output_type": "stream",
     "text": [
      "\r",
      " 26%|██▌       | 26/100 [00:16<00:24,  3.01it/s]"
     ]
    },
    {
     "name": "stdout",
     "output_type": "stream",
     "text": [
      "🔹 Predicted:  You're not going to be a little bit too much.\n",
      "🔸 Reference: Bampur, where the ancient Bampur fort is located, is nearby.\n"
     ]
    },
    {
     "name": "stderr",
     "output_type": "stream",
     "text": [
      " 28%|██▊       | 28/100 [00:19<00:54,  1.33it/s]"
     ]
    },
    {
     "name": "stdout",
     "output_type": "stream",
     "text": [
      "🔹 Predicted:  In the name of the name of the name of the name of the name of the name of the name of the name of the name of the name of the name of the name of the name of the name of the name of the name of the name of the name of the name of the name of the name of the name of the name of the name of the name of the name of the name of the name of the name of the name of the name of the name of the name of the name of the name of the name of the name of the name of the name of the name of the name of the name of the name of the name of the name of the name of the name of the name of the name of the name of the name of the name of the name of the name of the name of the name of the name of the name of the name of the name of the name of the name of the name of the name of the name of the name of the name of the name of the name of the name of the name of the name of the name of the name of the name of the name of the name of the name of the name of the name of the name of the name of the name of the name of the name of the name of the name of the name of the name of the name of the name of the name of the name of the name of the name of the name of the name of the name of the name of the name of the name of the name of the name of the name of the name of the name of the name of the name of the name of the name of the name of the name of the name of the name of the name of the name of the name of the name of the name of the name of the name of the name of the name of the name of the name of the name of the name of the name of the name of the name of the name of the name of the name of the name of the name of the name of the name of the name of the name of the name of the name of the name of the name of the name of the name of the name of the name of the name\n",
      "🔸 Reference: The term \"odango\" in Japanese can refer to any variety of bun hairstyle.\n",
      "🔹 Predicted:  And while I was driving, I heard a lot of the sound of the car.\n",
      "🔸 Reference: The American Theatre Hall of Fame is located in the lobby.\n"
     ]
    },
    {
     "name": "stderr",
     "output_type": "stream",
     "text": [
      " 31%|███       | 31/100 [00:19<00:27,  2.54it/s]"
     ]
    },
    {
     "name": "stdout",
     "output_type": "stream",
     "text": [
      "🔹 Predicted: Milkertesauzee\n",
      "🔸 Reference: I've always wanted to do this!\n",
      "🔹 Predicted:  [Sigh]\n",
      "🔸 Reference: Her opponent is Councilor Irwin Tieng.\n",
      "🔹 Predicted:  [Siekelle]\n",
      "🔸 Reference: Her work considers soil microbial ecology and the study of mycorrhizal fungi.\n"
     ]
    },
    {
     "name": "stderr",
     "output_type": "stream",
     "text": [
      "\r",
      " 33%|███▎      | 33/100 [00:20<00:19,  3.51it/s]"
     ]
    },
    {
     "name": "stdout",
     "output_type": "stream",
     "text": [
      "🔹 Predicted:  [Sigh]\n",
      "🔸 Reference: He is \"City Press\"s chief correspondent in Mpumalanga.\n",
      "🔹 Predicted:  [Siekellele]\n",
      "🔸 Reference: English dismissed these claims as being false.\n",
      "🔹 Predicted:  [Music]\n",
      "🔸 Reference: Acquires Mase Westpac Limited, which is a member of the London Gold Fixing.\n"
     ]
    },
    {
     "name": "stderr",
     "output_type": "stream",
     "text": [
      " 37%|███▋      | 37/100 [00:20<00:10,  5.81it/s]"
     ]
    },
    {
     "name": "stdout",
     "output_type": "stream",
     "text": [
      "🔹 Predicted:  [Siekelle]\n",
      "🔸 Reference: For decades it was recognizable by the white, ladder-like snake on the building's roof.\n",
      "🔹 Predicted:  [Sigh]\n",
      "🔸 Reference: A mold is the counterpart to a cast.\n",
      "🔹 Predicted:  [Grunts]\n",
      "🔸 Reference: He also enjoys judo.\n",
      "🔹 Predicted:  You're an adult, you're an adult.\n",
      "🔸 Reference: All artillery units wear the \"Gun Sight\" on their helmets.\n"
     ]
    },
    {
     "name": "stderr",
     "output_type": "stream",
     "text": [
      " 41%|████      | 41/100 [00:23<00:28,  2.05it/s]"
     ]
    },
    {
     "name": "stdout",
     "output_type": "stream",
     "text": [
      "🔹 Predicted:  Versuchtee und die Faltbeine der Faltbeine der Faltbeine der Faltbeine der Faltbeine der Faltbeine der Faltbeine der Faltbeine der Faltbeine der Faltbeine der Faltbeine der Faltbeine der Faltbeine der Faltbeine der Faltbeine der Faltbeine der Faltbeine der Faltbeine der Faltbeine der Faltbeine der Faltbeine der Faltbeine der Faltbeine der Faltbeine der Faltbeine der Faltbeine der Faltbeine der Faltbeine der Faltbeine der Faltbeine der Faltbeine der Faltbeine der Faltbeine der Faltbeine der Faltbeine der Faltbeine der Faltbeine der Faltbeine der Faltbeine der Faltbeine der Faltbeine der Faltbeine der Faltbeine der Faltbeine der Faltbeine der Faltbeine der Faltbeine der Faltbeine der Faltbeine der Faltbeine der Faltbeine der Faltbeine der Faltbeine der Faltbeine der Faltbeine der Faltbeine der Faltbeine der Faltbeine der Faltbeine der Faltbeine der Faltbeine der Faltbeine der Faltbeine der Faltbeine der Faltbeine der Faltbeine der Faltbeine der Faltbeine der Faltbeine der Faltbeine der Faltbeine der Faltbeine der Faltbeine der Faltbeine der Faltbeine der Faltbeine der Faltbeine der Faltbeine der Faltbeine der Faltbeine der Faltbeine der Faltbeine der Faltbeine der Faltbeine der Faltbeine der Faltbeine der Faltbeine der Faltbe\n",
      "🔸 Reference: I would not recommend publishing the article without the dataset.\n",
      "🔹 Predicted:  [Sigh]\n",
      "🔸 Reference: What's the idea here?\n",
      "🔹 Predicted:  [Sigh]\n",
      "🔸 Reference: You got plenty of money?\n"
     ]
    },
    {
     "name": "stderr",
     "output_type": "stream",
     "text": [
      "\r",
      " 43%|████▎     | 43/100 [00:24<00:20,  2.75it/s]"
     ]
    },
    {
     "name": "stdout",
     "output_type": "stream",
     "text": [
      "🔹 Predicted:  Now, let's see.\n",
      "🔸 Reference: There is no fighting against fate\n",
      "🔹 Predicted:  [Sigh]\n",
      "🔸 Reference: Nothing's the matter with me.\n",
      "🔹 Predicted:  [Siekelle]\n",
      "🔸 Reference: Not that I was listening, but I noticed that you sounded really stressed when you were explaining the situation to him.\n"
     ]
    },
    {
     "name": "stderr",
     "output_type": "stream",
     "text": [
      "\r",
      " 45%|████▌     | 45/100 [00:24<00:15,  3.63it/s]"
     ]
    },
    {
     "name": "stdout",
     "output_type": "stream",
     "text": [
      "🔹 Predicted:  [Music]\n",
      "🔸 Reference: I want it as soon as possible.\n"
     ]
    },
    {
     "name": "stderr",
     "output_type": "stream",
     "text": [
      "\r",
      " 47%|████▋     | 47/100 [00:27<00:38,  1.39it/s]"
     ]
    },
    {
     "name": "stdout",
     "output_type": "stream",
     "text": [
      "🔹 Predicted: 彼は彼は彼は彼は彼は彼は彼は彼は彼は彼は彼は彼は彼は彼は彼は彼は彼は彼は彼は彼は彼は彼は彼は彼は彼は彼は彼は彼は彼は彼は彼は彼は彼は彼は彼は彼は彼は彼は彼は彼は彼は彼は彼は彼は彼は彼は彼は彼は彼は彼は彼は彼は彼は彼は彼は彼は彼は彼は彼は彼は彼は彼は彼は彼は彼は彼は彼は彼は彼は彼は彼は彼は彼は彼は彼は彼は彼は彼は彼は彼は彼は彼は彼は彼は彼は彼は彼は彼は彼は彼は彼は彼は彼は彼は彼は彼は彼は彼は彼は彼は彼は彼は彼は彼は彼は彼は彼は彼は彼は彼は彼は彼は彼は彼は彼は彼は彼は彼は彼は彼は彼は彼は彼は彼は彼は彼は彼は彼は彼は彼は彼は彼は彼は彼は彼は彼は彼は彼は彼は彼は彼は彼は彼は彼は彼は彼は彼は彼は\n",
      "🔸 Reference: You can reduce the quality of the anisotropic filter to gain some performance.\n",
      "🔹 Predicted:  Es ist ein paar Schiff und ein paar Schiff und ein paar Schiff.\n",
      "🔸 Reference: Desiderius persuaded the nobles of his diocese to endow churches and monasteries.\n"
     ]
    },
    {
     "name": "stderr",
     "output_type": "stream",
     "text": [
      "\r",
      " 49%|████▉     | 49/100 [00:27<00:26,  1.91it/s]"
     ]
    },
    {
     "name": "stdout",
     "output_type": "stream",
     "text": [
      "🔹 Predicted:  [Music]\n",
      "🔸 Reference: To that end, Talia claims to have miscarried.\n",
      "🔹 Predicted:  [Music]\n",
      "🔸 Reference: In musicians, the condition is called \"musician's focal dystonia\", or simply, \"musician's dystonia\".\n"
     ]
    },
    {
     "name": "stderr",
     "output_type": "stream",
     "text": [
      "\r",
      " 50%|█████     | 50/100 [00:28<00:24,  2.04it/s]"
     ]
    },
    {
     "name": "stdout",
     "output_type": "stream",
     "text": [
      "🔹 Predicted:  Schöner Schöner Schöner Schöner Schöner Schöner Schöner Schöner Schöner Schöner Schöner Schöner\n",
      "🔸 Reference: He said that everything has its own destiny.\n"
     ]
    },
    {
     "name": "stderr",
     "output_type": "stream",
     "text": [
      "\r",
      " 51%|█████     | 51/100 [00:31<00:52,  1.07s/it]"
     ]
    },
    {
     "name": "stdout",
     "output_type": "stream",
     "text": [
      "🔹 Predicted:  The first thing that was in the first place was the first time I saw the first time I saw the first time I saw the first time I saw the first time I saw the first time I saw the first time I saw the first time I saw the first time I saw the first time I saw the first time I saw the first time I saw the first time I saw the first time I saw the first time I saw the first time I saw the first time I saw the first time I saw the first time I saw the first time I saw the first time I saw the first time I saw the first time I saw the first time I saw the first time I saw the first time I saw the first time I saw the first time I saw the first time I saw the first time I saw the first time I saw the first time I saw the first time I saw the first time I saw the first time I saw the first time I saw the first time I saw the first time I saw the first time I saw the first time I saw the first time I saw the first time I saw the first time I saw the first time I saw the first time I saw the first time I saw the first time I saw the first time I saw the first time I saw the first time I saw the first time I saw the first time I saw the first time I saw the first time I saw the first time I saw the first time I saw the first time I saw the first time I saw the first time I saw the first time I saw the first time I saw the first time I saw the first time I saw the first time I saw the first time I saw the first time I saw the first time I saw the first time I saw the first time I saw the first time I saw the first time I saw the first time I saw the first time I saw the first time I saw the first time I saw the first time I saw the first time I saw the first time I saw the first time I saw the first time I saw the first time I saw the first time I saw the first time I saw the first time I saw the first time I saw the first time I saw the first time I\n",
      "🔸 Reference: Whenever he saw the sea, or a fire, he fell silent, impressed by their elemental force.\n"
     ]
    },
    {
     "name": "stderr",
     "output_type": "stream",
     "text": [
      " 54%|█████▍    | 54/100 [00:31<00:25,  1.78it/s]"
     ]
    },
    {
     "name": "stdout",
     "output_type": "stream",
     "text": [
      "🔹 Predicted:  Das ist ein bisschen schlubesauze und ein bisschen schlubesauze.\n",
      "🔸 Reference: He later went on to score two more centuries against the South Africans.\n",
      "🔹 Predicted:  [Music]\n",
      "🔸 Reference: Plesiosauroids evolved from earlier, similar forms such as pistosaurs.\n",
      "🔹 Predicted:  [Music]\n",
      "🔸 Reference: However, certain reactants do not follow this simple pattern.\n",
      "🔹 Predicted:  [Music]\n",
      "🔸 Reference: The tournament features four eight-team regions.\n"
     ]
    },
    {
     "name": "stderr",
     "output_type": "stream",
     "text": [
      " 58%|█████▊    | 58/100 [00:35<00:28,  1.49it/s]"
     ]
    },
    {
     "name": "stdout",
     "output_type": "stream",
     "text": [
      "🔹 Predicted:  Entenersungungungungungungungungungungungungungungungungungungungungungungungungungungungungungungungungungungungungungungungungungungungungungungungungungungungungungungungungungungungungungungungungungungungungungungungungungungungungungungungungungungungungungungungungungungungungungungungungungungungungungungungungungungungungungungungungungungungungungungungungungungungungungungungungungungungungungungungungungungungungungungungungungungungungungungungungungungungungungungungungungungungungungungungungungungungungungungungungungungungungungungungungungungungungungungungungungungungungungungungungungungungungungungungungungungungungungungungungungungungungungungungungungungungungungungungungungungungungungungungungungungungungungungungungungungungungungungungungungungungungungungungungungungungungungungungungungungungungungungungungungungungungungungungungungungungungungungungungungungungungungungungungungungungungungungungungungungungungungungungungungungungungungungungungungungungungungungungungungungungungungungungungungungungungungungungungungungungungungungungungungungungungungungungungungungungungungungungungungungungungungungungungungungungungungungungungungungungungungungungungungungungungungungungungungungungungungungungungungungungungungungungungungungungungungungungungungungungungungungungungung\n",
      "🔸 Reference: Sholto Campbell, succeeded by younger brothers still, Barrington and Archibald.\n",
      "🔹 Predicted:  [Song]\n",
      "🔸 Reference: The story focuses on the history of the villainous wizard Marten Broadcloak.\n",
      "🔹 Predicted:  [Music]\n",
      "🔸 Reference: Mosby mostly wrote for United Press International.\n"
     ]
    },
    {
     "name": "stderr",
     "output_type": "stream",
     "text": [
      "\r",
      " 60%|██████    | 60/100 [00:35<00:19,  2.05it/s]"
     ]
    },
    {
     "name": "stdout",
     "output_type": "stream",
     "text": [
      "🔹 Predicted:  [Sigh]\n",
      "🔸 Reference: The facilities are very basic.\n",
      "🔹 Predicted:  Cosone in Luke's name is \"Sie\".\n",
      "🔸 Reference: The Federal Electoral Districts elect the federal Chamber of Deputies.\n"
     ]
    },
    {
     "name": "stderr",
     "output_type": "stream",
     "text": [
      "\r",
      " 61%|██████    | 61/100 [00:36<00:17,  2.25it/s]"
     ]
    },
    {
     "name": "stdout",
     "output_type": "stream",
     "text": [
      "🔹 Predicted:  Ruhigeweiterung der Schrockung der Schrockung der Schrockung der Schrockung.\n",
      "🔸 Reference: I tend to avoid speaking to customers much, mostly because of my limited German.\n"
     ]
    },
    {
     "name": "stderr",
     "output_type": "stream",
     "text": [
      "\r",
      " 62%|██████▏   | 62/100 [00:39<00:40,  1.06s/it]"
     ]
    },
    {
     "name": "stdout",
     "output_type": "stream",
     "text": [
      "🔹 Predicted:  Schauhrschauhrschauhrschauhrschauhrschauhrschauhrschauhrschauhrschauhrschauhrschauhrschauhrschauhrschauhrschauhrschauhrschauhrschauhrschauhrschauhrschauhrschauhrschauhrschauhrschauhrschauhrschauhrschauhrschauhrschauhrschauhrschauhrschauhrschauhrschauhrschauhrschauhrschauhrschauhrschauhrschauhrschauhrschauhrschauhrschauhrschauhrschauhrschauhrschauhrschauhrschauhrschauhrschauhrschauhrschauhrschauhrschauhrschauhrschauhrschauhrschauhrschauhrschauhrschauhrschauhrschauhrschauhrschauhrschauhrschauhrschauhrschauhrschauhrschauhrschauhrschauhrschauhrschauhrschauhrschauhrschauhrschauhrschauhrschauhrschauhrschauhrschauhrschauhrschauhrschauhrschauhrschauhrschauhrschauhrschauhrschauhrschauhrschauhrschauhrschauhrschauhrschauhrschauhrschauhrschauhrschauhrschauhrschauhrschauhrschauhrschauhrschauhrschauhrschauhrschauhrschauhrschauhrschauhrschauhrschauhrschauhrschauhrschauhrschauhrschauhrschauhrschauhrschauhrschauhrschauhrschauhrschauhrschauhrschauhrschauhrschauhrschauhrschauhrschauhrschauhrschauhrschauhrschauhrschauhrschauhrschauhrschauhr\n",
      "🔸 Reference: Atlas Cinema hosted selected films during the annual International Istanbul Film Festival.\n"
     ]
    },
    {
     "name": "stderr",
     "output_type": "stream",
     "text": [
      " 64%|██████▍   | 64/100 [00:42<00:44,  1.22s/it]"
     ]
    },
    {
     "name": "stdout",
     "output_type": "stream",
     "text": [
      "🔹 Predicted:  Schauhrschauhrschauhrschauhrschauhrschauhrschauhrschauhrschauhrschauhrschauhrschauhrschauhrschauhrschauhrschauhrschauhrschauhrschauhrschauhrschauhrschauhrschauhrschauhrschauhrschauhrschauhrschauhrschauhrschauhrschauhrschauhrschauhrschauhrschauhrschauhrschauhrschauhrschauhrschauhrschauhrschauhrschauhrschauhrschauhrschauhrschauhrschauhrschauhrschauhrschauhrschauhrschauhrschauhrschauhrschauhrschauhrschauhrschauhrschauhrschauhrschauhrschauhrschauhrschauhrschauhrschauhrschauhrschauhrschauhrschauhrschauhrschauhrschauhrschauhrschauhrschauhrschauhrschauhrschauhrschauhrschauhrschauhrschauhrschauhrschauhrschauhrschauhrschauhrschauhrschauhrschauhrschauhrschauhrschauhrschauhrschauhrschauhrschauhrschauhrschauhrschauhrschauhrschauhrschauhrschauhrschauhrschauhrschauhrschauhrschauhrschauhrschauhrschauhrschauhrschauhrschauhrschauhrschauhrschauhrschauhrschauhrschauhrschauhrschauhrschauhrschauhrschauhrschauhrschauhrschauhrschauhrschauhrschauhrschauhrschauhrschauhrschauhrschauhrschauhrschauhrschauhrschauhrschauhrschauhrschauhrschauhrschauhr\n",
      "🔸 Reference: The book covers several issues in the political and historical scenarios of Nepal.\n",
      "🔹 Predicted:  Animes und Ansatz zu schmieden.\n",
      "🔸 Reference: Ageing and memory are key preoccupations of this novel.\n"
     ]
    },
    {
     "name": "stderr",
     "output_type": "stream",
     "text": [
      "\r",
      " 66%|██████▌   | 66/100 [00:43<00:25,  1.34it/s]"
     ]
    },
    {
     "name": "stdout",
     "output_type": "stream",
     "text": [
      "🔹 Predicted: [音楽]\n",
      "🔸 Reference: Dorothy was almost ready to cry with disappointment.\n",
      "🔹 Predicted:  [Music]\n",
      "🔸 Reference: What guidelines will help in building cheaper, affordable houses?\n",
      "🔹 Predicted:  [Sigh]\n",
      "🔸 Reference: ‘Nearly there!’ the Queen repeated.\n"
     ]
    },
    {
     "name": "stderr",
     "output_type": "stream",
     "text": [
      " 70%|███████   | 70/100 [00:43<00:10,  2.79it/s]"
     ]
    },
    {
     "name": "stdout",
     "output_type": "stream",
     "text": [
      "🔹 Predicted:  [Clears throat]\n",
      "🔸 Reference: A couple look at some artwork\n",
      "🔹 Predicted:  [Spanish]\n",
      "🔸 Reference: Philip was standing on the levee watching the waves roll off the rocks and the splashes of spume.\n",
      "🔹 Predicted:  [Spanish]\n",
      "🔸 Reference: A shirtless man wearing bracelets and a garland carrying a pole\n"
     ]
    },
    {
     "name": "stderr",
     "output_type": "stream",
     "text": [
      " 73%|███████▎  | 73/100 [00:45<00:12,  2.23it/s]"
     ]
    },
    {
     "name": "stdout",
     "output_type": "stream",
     "text": [
      "🔹 Predicted:  [S The first time I was born in the New York City, I was born in the New York City, and I was born in the New York City, and I was born in the New York City, and I was born in the New York City, and I was born in the New York City, and I was born in the New York City, and I was born in the New York City, and I was born in the New York City, and I was born in the New York City, and I was born in the New York City, and I was born in the New York City, and I was born in the New York City, and I was born in the New York City, and I was born in the New York City, and I was born in the New York City, and I was born in the New York City, and I was born in the New York City, and I was born in the New York City, and I was born in the New York City, and I was born in the New York City, and I was born in the New York City, and I was born in the New York City, and I was born in the New York City.\n",
      "🔸 Reference: The spot on the blotter was made by green ink.\n",
      "🔹 Predicted:  [Sigh]\n",
      "🔸 Reference: The years of research, the magic symbols, the strange words and the laboratory equipment...\n",
      "🔹 Predicted:  [Sigh]\n",
      "🔸 Reference: Many children walk together on a dirt path.\n"
     ]
    },
    {
     "name": "stderr",
     "output_type": "stream",
     "text": [
      "\r",
      " 75%|███████▌  | 75/100 [00:45<00:08,  3.11it/s]"
     ]
    },
    {
     "name": "stdout",
     "output_type": "stream",
     "text": [
      "🔹 Predicted:  [Sigh]\n",
      "🔸 Reference: Two ladies play the violin and the guitar on the street to entertain the passer byes.\n",
      "🔹 Predicted:  [Sigh]\n",
      "🔸 Reference: A young darkskinned boy in a large shirt sitting next to a large pile of sandals.\n"
     ]
    },
    {
     "name": "stderr",
     "output_type": "stream",
     "text": [
      "\r",
      " 76%|███████▌  | 76/100 [00:48<00:21,  1.09it/s]"
     ]
    },
    {
     "name": "stdout",
     "output_type": "stream",
     "text": [
      "🔹 Predicted:  Verschallel und auf die Streckein der Faltbeine der Faltbeine der Faltbeine der Faltbeine der Faltbeine der Faltbeine der Faltbeine der Faltbeine der Faltbeine der Faltbeine der Faltbeine der Faltbeine der Faltbeine der Faltbeine der Faltbeine der Faltbeine der Faltbeine der Faltbeine der Faltbeine der Faltbeine der Faltbeine der Faltbeine der Faltbeine der Faltbeine der Faltbeine der Faltbeine der Faltbeine der Faltbeine der Faltbeine der Faltbeine der Faltbeine der Faltbeine der Faltbeine der Faltbeine der Faltbeine der Faltbeine der Faltbeine der Faltbeine der Faltbeine der Faltbeine der Faltbeine der Faltbeine der Faltbeine der Faltbeine der Faltbeine der Faltbeine der Faltbeine der Faltbeine der Faltbeine der Faltbeine der Faltbeine der Faltbeine der Faltbeine der Faltbeine der Faltbeine der Faltbeine der Faltbeine der Faltbeine der Faltbeine der Faltbeine der Faltbeine der Faltbeine der Faltbeine der Faltbeine der Faltbeine der Faltbeine der Faltbeine der Faltbeine der Faltbeine der Faltbeine der Faltbeine der Faltbeine der Faltbeine der Faltbeine der Faltbeine der Faltbeine der Faltbeine der Faltbeine der Faltbeine der Faltbeine der Faltbeine der Faltbeine der Faltbeine der Faltbeine der Faltbeine der Faltbeine der Falt\n",
      "🔸 Reference: The student may work independently or collaborate with others.\n"
     ]
    },
    {
     "name": "stderr",
     "output_type": "stream",
     "text": [
      "\r",
      " 77%|███████▋  | 77/100 [00:52<00:33,  1.45s/it]"
     ]
    },
    {
     "name": "stdout",
     "output_type": "stream",
     "text": [
      "🔹 Predicted:  Schummer zu schenzen und schenzen zu schenzen zu schenzen zu schenzen zu schenzen zu schenzen zu schenzen zu schenzen zu schenzen zu schenzen zu schenzen zu schenzen zu schenzen zu schenzen zu schenzen zu schenzen zu schenzen zu schenzen zu schenzen zu schenzen zu schenzen zu schenzen zu schenzen zu schenzen zu schenzen zu schenzen zu schenzen zu schenzen zu schenzen zu schenzen zu schenzen zu schenzen zu schenzen zu schenzen zu schenzen zu schenzen zu schenzen zu schenzen zu schenzen zu schenzen zu schenzen zu schenzen zu schenzen zu schenzen zu schenzen zu schenzen zu schenzen zu schenzen zu schenzen zu schenzen zu schenzen zu schenzen zu schenzen zu schenzen zu schenzen zu schenzen zu schenzen zu schenzen zu schenzen zu schenzen zu schenzen zu schenzen zu schenzen zu schenzen zu schenzen zu schenzen zu schenzen zu schenzen zu schenzen zu schenzen zu schenzen zu schenzen zu schenzen zu schenzen zu schenzen zu schenzen zu schenzen zu schenzen zu schenzen zu schenzen zu schenzen zu schenzen zu schenzen zu schenzen zu schenzen zu schenzen zu schenzen zu schenzen zu schenzen zu schenzen zu schenzen zu schenzen zu schenzen zu schenzen zu schenzen zu schenzen zu schenzen zu schenzen zu schenzen zu schenzen zu schenzen zu schenzen zu schenzen zu schenzen zu schenzen zu schenzen zu schenzen zu schenzen zu schenzen zu\n",
      "🔸 Reference: He went on to complete his graduation while serving in the Indian Army.\n"
     ]
    },
    {
     "name": "stderr",
     "output_type": "stream",
     "text": [
      " 79%|███████▉  | 79/100 [00:55<00:30,  1.46s/it]"
     ]
    },
    {
     "name": "stdout",
     "output_type": "stream",
     "text": [
      "🔹 Predicted:  Schöner Schöner Schöner Schöner Schöner Schöner Schöner Schöner Schöner Schöner Schöner Schöner Schöner Schöner Schöner Schöner Schöner Schöner Schöner Schöner Schöner Schöner Schöner Schöner Schöner Schöner Schöner Schöner Schöner Schöner Schöner Schöner Schöner Schöner Schöner Schöner Schöner Schöner Schöner Schöner Schöner Schöner Schöner Schöner Schöner Schöner Schöner Schöner Schöner Schöner Schöner Schöner Schöner Schöner Schöner Schöner Schöner Schöner Schöner Schöner Schöner Schöner Schöner Schöner Schöner Schöner Schöner Schöner Schöner Schöner Schöner Schöner Schöner Schöner Schöner Schöner Schöner Schöner Schöner Schöner Schöner Schöner Schöner Schöner Schöner Schöner Schöner Schöner Schöner Schöner Schöner Schöner Schöner Schöner Schöner Schöner Schöner Schöner Schöner Schöner Schöner Schöner Schöner Schöner Schöner Schöner Schöner Schöner Schöner Schöner Schöner Schöner Schöner Schöner Schöner Schöner Schöner Schöner Schöner Schöner Schöner Schöner Schöner Schöner Schöner Schöner Schöner Schöner Schöner Schöner Schöner Schöner Schöner Schöner Schöner Schöner Schöner Schöner Schöner Schöner Schöner Schöner Schöner Schöner Schöner Schöner Schöner Schöner\n",
      "🔸 Reference: The group was under the leadership of Michael Collins.\n",
      "🔹 Predicted:  [Siehlein und der Fremdung im Verstand]\n",
      "🔸 Reference: The green lock in the address bar of your browser does NOT mean you can trust the site.\n"
     ]
    },
    {
     "name": "stderr",
     "output_type": "stream",
     "text": [
      "\r",
      " 81%|████████  | 81/100 [00:55<00:16,  1.13it/s]"
     ]
    },
    {
     "name": "stdout",
     "output_type": "stream",
     "text": [
      "🔹 Predicted:  [Sigh]\n",
      "🔸 Reference: While you're still champion!\n",
      "🔹 Predicted:  [Siekelle]\n",
      "🔸 Reference: If you just read the code, you'll miss out on why I made certain decisions.\n",
      "🔹 Predicted:  [Song]\n",
      "🔸 Reference: Firefox is probably the easiest to get started with, although I prefer Chrome.\n"
     ]
    },
    {
     "name": "stderr",
     "output_type": "stream",
     "text": [
      " 85%|████████▌ | 85/100 [00:56<00:06,  2.40it/s]"
     ]
    },
    {
     "name": "stdout",
     "output_type": "stream",
     "text": [
      "🔹 Predicted:  Erichesieke hat er sich die Strecke an.\n",
      "🔸 Reference: Thought there might be one left over.\n",
      "🔹 Predicted:  (crying)\n",
      "🔸 Reference: Minier asked his friend Mark Salomon to try out as vocalist.\n",
      "🔹 Predicted:  [Music]\n",
      "🔸 Reference: Atlantic history studies the Atlantic World in the early modern period.\n"
     ]
    },
    {
     "name": "stderr",
     "output_type": "stream",
     "text": [
      " 88%|████████▊ | 88/100 [00:59<00:08,  1.50it/s]"
     ]
    },
    {
     "name": "stdout",
     "output_type": "stream",
     "text": [
      "🔹 Predicted:  I'm going to have a little bit of a little bit of a little bit of a little bit of a little bit of a little bit of a little bit of a little bit of a little bit of a little bit of a little bit of a little bit of a little bit of a little bit of a little bit of a little bit of a little bit of a little bit of a little bit of a little bit of a little bit of a little bit of a little bit of a little bit of a little bit of a little bit of a little bit of a little bit of a little bit of a little bit of a little bit of a little bit of a little bit of a little bit of a little bit of a little bit of a little bit of a little bit of a little bit of a little bit of a little bit of a little bit of a little bit of a little bit of a little bit of a little bit of a little bit of a little bit of a little bit of a little bit of a little bit of a little bit of a little bit of a little bit of a little bit of a little bit of a little bit of a little bit of a little bit of a little bit of a little bit of a little bit of a little bit of a little bit of a little bit of a little bit of a little bit of a little bit of a little bit of a little bit of a little bit of a little bit of a little bit of a little bit of a little bit of a little bit of a little bit of a little bit of a little bit of a little bit of a little bit of a little bit of a little bit of a little bit of a little bit of a little bit of a little bit of a little bit of a little bit of a little bit of a little bit of a little bit of a little bit of a little bit of a little bit of a little bit of a little bit of a little bit of a little bit of a little bit of a little bit of a little bit of a little bit of a little bit of a little bit of a little bit of a little bit of a little bit of a little bit of a little bit\n",
      "🔸 Reference: In France, it is also used within the male branch of the Carthusian Order.\n",
      "🔹 Predicted:  I'm sorry.\n",
      "🔸 Reference: She was buried at the in Frankfurt.\n",
      "🔹 Predicted:  [Sigh]\n",
      "🔸 Reference: She became the Minister for Youth and Sports in the Bhattarai cabinet.\n"
     ]
    },
    {
     "name": "stderr",
     "output_type": "stream",
     "text": [
      "\r",
      " 89%|████████▉ | 89/100 [01:03<00:13,  1.21s/it]"
     ]
    },
    {
     "name": "stdout",
     "output_type": "stream",
     "text": [
      "🔹 Predicted:  In the name of the name of the name of the name of the name of the name of the name of the name of the name of the name of the name of the name of the name of the name of the name of the name of the name of the name of the name of the name of the name of the name of the name of the name of the name of the name of the name of the name of the name of the name of the name of the name of the name of the name of the name of the name of the name of the name of the name of the name of the name of the name of the name of the name of the name of the name of the name of the name of the name of the name of the name of the name of the name of the name of the name of the name of the name of the name of the name of the name of the name of the name of the name of the name of the name of the name of the name of the name of the name of the name of the name of the name of the name of the name of the name of the name of the name of the name of the name of the name of the name of the name of the name of the name of the name of the name of the name of the name of the name of the name of the name of the name of the name of the name of the name of the name of the name of the name of the name of the name of the name of the name of the name of the name of the name of the name of the name of the name of the name of the name of the name of the name of the name of the name of the name of the name of the name of the name of the name of the name of the name of the name of the name of the name of the name of the name of the name of the name of the name of the name of the name of the name of the name of the name of the name of the name of the name of the name of the name of the name of the name of the name of the name of the name of the name of the name of the name of the name\n",
      "🔸 Reference: There are seven or eight stamens and two staminodes arranged around the two carpels.\n",
      "🔹 Predicted:  [Sigh]\n",
      "🔸 Reference: I could die happily, and that made me feel good.\n"
     ]
    },
    {
     "name": "stderr",
     "output_type": "stream",
     "text": [
      "\r",
      " 91%|█████████ | 91/100 [01:03<00:07,  1.22it/s]"
     ]
    },
    {
     "name": "stdout",
     "output_type": "stream",
     "text": [
      "🔹 Predicted:  [S The first time I was in the hospital, I was in the hospital, and I was in the hospital.\n",
      "🔸 Reference: A lady with glasses holds a baby who is looking up at her.\n"
     ]
    },
    {
     "name": "stderr",
     "output_type": "stream",
     "text": [
      "\r",
      " 92%|█████████▏| 92/100 [01:06<00:10,  1.35s/it]"
     ]
    },
    {
     "name": "stdout",
     "output_type": "stream",
     "text": [
      "🔹 Predicted:  Brasson der Bauer und der Schiff der Schiff der Schiff der Schiff der Schiff der Schiff der Schiff der Schiff der Schiff der Schiff der Schiff der Schiff der Schiff der Schiff der Schiff der Schiff der Schiff der Schiff der Schiff der Schiff der Schiff der Schiff der Schiff der Schiff der Schiff der Schiff der Schiff der Schiff der Schiff der Schiff der Schiff der Schiff der Schiff der Schiff der Schiff der Schiff der Schiff der Schiff der Schiff der Schiff der Schiff der Schiff der Schiff der Schiff der Schiff der Schiff der Schiff der Schiff der Schiff der Schiff der Schiff der Schiff der Schiff der Schiff der Schiff der Schiff der Schiff der Schiff der Schiff der Schiff der Schiff der Schiff der Schiff der Schiff der Schiff der Schiff der Schiff der Schiff der Schiff der Schiff der Schiff der Schiff der Schiff der Schiff der Schiff der Schiff der Schiff der Schiff der Schiff der Schiff der Schiff der Schiff der Schiff der Schiff der Schiff der Schiff der Schiff der Schiff der Schiff der Schiff der Schiff der Schiff der Schiff der Schiff der Schiff der Schiff der Schiff der Schiff der Schiff der Schiff der Schiff der Schiff der Schiff der Schiff der Schiff der Schiff der Schiff der Schiff der Schiff der Schiff der Schiff der Schiff der Schiff der Schiff der Schiff der Schiff der Schiff der Schiff der Schiff der Schiff der Schiff der Schiff der Schiff der Schiff der Schiff der Schiff der Schiff der Schiff der Schiff der Schiff der Schiff der Schiff der Schiff der Schiff der Schiff der Schiff der Schiff der Schiff der Schiff der Schiff der Schiff der Schiff der Schiff der Schiff der Schiff der Sch\n",
      "🔸 Reference: A person in dark clothes is walking down to the subway.\n",
      "🔹 Predicted:  [Sigh]\n",
      "🔸 Reference: A small child wearing a white hat reaches for a paintbrush.\n"
     ]
    },
    {
     "name": "stderr",
     "output_type": "stream",
     "text": [
      "\r",
      " 94%|█████████▍| 94/100 [01:10<00:08,  1.49s/it]"
     ]
    },
    {
     "name": "stdout",
     "output_type": "stream",
     "text": [
      "🔹 Predicted: 一会儿会儿会儿会儿会儿会儿会儿会儿会儿会儿会儿会儿会儿会儿会儿会儿会儿会儿会儿会儿会儿会儿会儿会儿会儿会儿会儿会儿会儿会儿会儿会儿会儿会儿会儿会儿会儿会儿会儿会儿会儿会儿会儿会儿会儿会儿会儿会儿会儿会儿会儿会儿会儿会儿会儿会儿会儿会儿会儿会儿会儿会儿会儿会儿会儿会儿会儿会儿会儿会儿会儿会儿会儿会儿会儿会儿会儿会儿会儿会儿会儿会儿会儿会儿会儿会儿会儿会儿会儿会儿会儿会儿会儿会儿会儿会儿会儿会儿会儿会儿会儿会儿会儿会儿会儿会儿会儿会儿会儿会儿会儿会儿会儿会儿会儿会儿会儿会儿会儿会儿会儿会儿会儿会儿会儿会儿会儿会儿会儿会儿会儿会儿会儿会儿会儿会儿会儿会儿会儿会儿会儿会儿会儿会儿会儿会儿会儿会儿会儿会儿会儿会儿会儿会儿会儿会儿会儿会儿会儿会儿会儿会儿会儿会儿会儿会儿会儿会儿会儿会儿会儿会儿会儿会儿会儿会儿会儿会儿会儿会儿会儿会儿会儿会儿会儿会儿会儿会儿会儿会儿会儿会儿会儿会儿会儿会儿会儿会儿会儿会儿会儿会儿会儿会儿会儿会儿会儿会儿会儿会儿会儿会儿会儿会儿会儿会儿会儿会儿会儿会儿会儿会\n",
      "🔸 Reference: Split the log with a quick, sharp blow.\n"
     ]
    },
    {
     "name": "stderr",
     "output_type": "stream",
     "text": [
      " 97%|█████████▋| 97/100 [01:13<00:03,  1.20s/it]"
     ]
    },
    {
     "name": "stdout",
     "output_type": "stream",
     "text": [
      "🔹 Predicted:  Erinnonum, erinnonum, erinnonum, erinnonum, erinnonum, erinnonum, erinnonum, erinnonum, erinnonum, erinnonum, erinnonum, erinnonum, erinnonum, erinnonum, erinnonum, erinnonum, erinnonum, erinnonum, erinnonum, erinnonum, erinnonum, erinnonum, erinnonum, erinnonum, erinnonum, erinnonum, erinnonum, erinnonum, erinnonum, erinnonum, erinnonum, erinnonum, erinnonum, erinnonum, erinnonum, erinnonum, erinnonum, erinnonum, erinnonum, erinnonum, erinnonum, erinnonum, erinnonum, erinnonum, erinnonum, erinnonum, erinnonum, erinnonum, erinnonum, erinnonum, erinnonum, erinnonum, erinnonum, erinnonum, erinnonum, erinnonum, erinnonum, erinnonum, erinnonum, erinnonum, erinnonum, erinnonum, erinnonum, erinnonum, erinnonum, erinnonum, erinnonum, erinnonum, erinnonum, erinnonum, erinnonum, erinnonum, erinnonum, erinnonum, erinnonum, erinnonum, erinnonum, erinnonum, erinnonum, erinnonum, erinnonum, erinnonum, erinnonum, erinnonum, erinnonum, erinnonum, erinnonum, erinnonum, erinnonum\n",
      "🔸 Reference: As he looked at the stones, he felt relieved for some reason.\n",
      "🔹 Predicted:  [Music]\n",
      "🔸 Reference: I don't know if I'll be able to find life in the desert, the boy thought.\n",
      "🔹 Predicted:  [Song]\n",
      "🔸 Reference: I could envisage the scene.\n"
     ]
    },
    {
     "name": "stderr",
     "output_type": "stream",
     "text": [
      "100%|██████████| 100/100 [01:17<00:00,  1.29it/s]"
     ]
    },
    {
     "name": "stdout",
     "output_type": "stream",
     "text": [
      "🔹 Predicted:  In the name of the name of the name of the name of the name of the name of the name of the name of the name of the name of the name of the name of the name of the name of the name of the name of the name of the name of the name of the name of the name of the name of the name of the name of the name of the name of the name of the name of the name of the name of the name of the name of the name of the name of the name of the name of the name of the name of the name of the name of the name of the name of the name of the name of the name of the name of the name of the name of the name of the name of the name of the name of the name of the name of the name of the name of the name of the name of the name of the name of the name of the name of the name of the name of the name of the name of the name of the name of the name of the name of the name of the name of the name of the name of the name of the name of the name of the name of the name of the name of the name of the name of the name of the name of the name of the name of the name of the name of the name of the name of the name of the name of the name of the name of the name of the name of the name of the name of the name of the name of the name of the name of the name of the name of the name of the name of the name of the name of the name of the name of the name of the name of the name of the name of the name of the name of the name of the name of the name of the name of the name of the name of the name of the name of the name of the name of the name of the name of the name of the name of the name of the name of the name of the name of the name of the name of the name of the name of the name of the name of the name of the name of the name of the name of the name of the name of the name of the name\n",
      "🔸 Reference: The opera had surtitles, so we could understand what was going on\n",
      "🔹 Predicted:  [Music]\n",
      "🔸 Reference: We perspire when we feel too hot.\n",
      "🔹 Predicted:  Was was the most important thing in the world.\n",
      "🔸 Reference: More recently, professional painters are responsible for all preparation prior to painting.\n",
      "✅ EN WER: 4.6523\n",
      "🌍 Language: ja\n"
     ]
    },
    {
     "name": "stderr",
     "output_type": "stream",
     "text": [
      "\n",
      "  1%|          | 1/100 [00:03<06:04,  3.68s/it]"
     ]
    },
    {
     "name": "stdout",
     "output_type": "stream",
     "text": [
      "🔹 Predicted: 沖場に沖場に沖場に沖場に沖場に沖場に沖場に沖場に沖場に沖場に沖場に沖場に沖場に沖場に沖場に沖場に沖場に沖場に沖場に沖場に沖場に沖場に沖場に沖場に沖場に沖場に沖場に沖場に沖場に沖場に沖場に沖場に沖場に沖場に沖場に沖場に沖場に沖場に沖場に沖場に沖場に沖場に沖場に沖場に沖場に沖場に沖場に沖場に沖場に沖場に沖場に沖場に沖場に沖場に沖場に沖場に沖場に沖場に沖場に沖場に沖場に沖場に沖場に沖場に沖場に沖場に沖場に沖場に沖場に沖場に沖場に沖場に沖場に沖場に沖場に沖場に沖場に沖場に沖場に沖場に沖場に沖場に沖場に沖場に沖場に沖場に沖場に沖場に沖場に沖場に沖場に沖場に沖場に沖場に沖場に沖場に沖場に沖場に沖場に沖場に沖場に沖場に沖場に沖場に沖場に沖場に沖場に沖場に沖場に沖場に沖場に\n",
      "🔸 Reference: 風に吹かれるように離れていった\n",
      "🔹 Predicted:  [Sigh]\n",
      "🔸 Reference: どうもそうらしい、そうだ、きっと\n"
     ]
    },
    {
     "name": "stderr",
     "output_type": "stream",
     "text": [
      "  5%|▌         | 5/100 [00:07<01:45,  1.11s/it]"
     ]
    },
    {
     "name": "stdout",
     "output_type": "stream",
     "text": [
      "🔹 Predicted:  NONONONONONONONONONONONONONONONONONONONONONONONONONONONONONONONONONONONONONONONONONONONONONONONONONONONONONONONONONONONONONONONONONONONONONONONONONONONONONONONONONONONONONONONONONONONONONONONONONONONONONONONONONONONONONONONONONONONONONONONONONONONONONONONONONONONONONONONONONONONONONONONONONONONONONONONONONONONONONONONONONONONONONONONONONONONONONONONONONONONONONONONONONONONONONONONONONONONONONONONONONONONONONONONONONONONONONONONONONONONONONONONONONONONONONONONONONONONONONONONONONONONONONONONONONONONONONONONONONONONONONONONONONONONONONONONONONONONONONONONONONONONONONONONONONONONONONONONONONONONONONONONONONONONONONONONONONONONONONONONONONONONONONONONONONONONONONONONONONONONONONONONONONONONONONONONONONONONONONONONONONONONONONONONONONONONONONONONONONONONONONONONONONONONONONONONONONONONONONONONONONONONONONONONONONONONONONONONONONONONONONONONONONONONONONONONONONONONONONONONONONONON\n",
      "🔸 Reference: 公園も団地と一緒だった、何も見つからなかった\n",
      "🔹 Predicted:  [Music]\n",
      "🔸 Reference: ロンドンではテームズ川の近くに住み、\n",
      "🔹 Predicted:  [Song]\n",
      "🔸 Reference: 頭の中でアニメの映像が流れて、他のことについて何も考えることができない状態\n"
     ]
    },
    {
     "name": "stderr",
     "output_type": "stream",
     "text": [
      "\r",
      "  7%|▋         | 7/100 [00:07<01:02,  1.50it/s]"
     ]
    },
    {
     "name": "stdout",
     "output_type": "stream",
     "text": [
      "🔹 Predicted: (笑)\n",
      "🔸 Reference: 冬でもそうめんをよく食べます\n",
      "🔹 Predicted:  [Sigh]\n",
      "🔸 Reference: 三重県桑名市\n"
     ]
    },
    {
     "name": "stderr",
     "output_type": "stream",
     "text": [
      "  9%|▉         | 9/100 [00:10<01:30,  1.01it/s]"
     ]
    },
    {
     "name": "stdout",
     "output_type": "stream",
     "text": [
      "🔹 Predicted: スッキャラのスッキャラのスッキャラのスッキャラのスッキャラのスッキャラのスッキャラのスッキャラのスッキャラのスッキャラのスッキャラのスッキャラのスッキャラのスッキャラのスッキャラのスッキャラのスッキャラのスッキャラのスッキャラのスッキャラのスッキャラのスッキャラのスッキャラのスッキャラのスッキャラのスッキャラのスッキャラのスッキャラのスッキャラのスッキャラのスッキャラのスッキャラのスッキャラのスッキャラのスッキャラのスッキャラのスッキャラのスッキャラのスッキャラのスッキャラのスッキャラのスッキャラのスッキャラのスッキャラのスッキャラのスッキャラのスッキャラのスッキャラのスッキャラのスッキャラのスッキャラのスッキャラのスッキャラのスッキャラのスッキャラのスッキャラのスッキャラのスッキャラのスッキャラのスッキャラのスッキャラのスッキャラのスッキャラのスッキャラのスッキャラのスッキャラのスッキャラのスッキャラのスッキャラのスッキャラのスッキャラのスッキャラのスッキャラのスッキャラの\n",
      "🔸 Reference: 筋トレの成果がでる前に腰を痛めた\n",
      "🔹 Predicted: 沖場に関係に行く\n",
      "🔸 Reference: 京都市南区\n",
      "🔹 Predicted:  [Sigh]\n",
      "🔸 Reference: モンタナ州の最大都市はビリングスである\n"
     ]
    },
    {
     "name": "stderr",
     "output_type": "stream",
     "text": [
      "\r",
      " 11%|█         | 11/100 [00:14<01:54,  1.29s/it]"
     ]
    },
    {
     "name": "stdout",
     "output_type": "stream",
     "text": [
      "🔹 Predicted: 沾沾沾沾沾沾沾沾沾沾沾沾沾沾沾沾沾沾沾沾沾沾沾沾沾沾沾沾沾沾沾沾沾沾沾沾沾沾沾沾沾沾沾沾沾沾沾沾沾沾沾沾沾沾沾沾沾沾沾沾沾沾沾沾沾沾沾沾沾沾沾沾沾沾沾沾沾沾沾沾沾沾沾沾沾沾沾沾沾沾沾沾沾沾沾沾沾沾沾沾沾沾沾沾沾沾沾沾沾沾沾沾沾沾沾沾沾沾沾沾沾沾沾沾沾沾沾沾沾沾沾沾沾沾沾沾沾沾沾沾沾沾沾沾沾沾沾沾沾沾沾沾沾沾沾沾沾沾沾沾沾沾沾沾沾沾沾沾沾沾沾沾沾沾沾沾沾沾沾沾沾沾沾沾沾沾沾沾沾沾沾沾沾沾沾沾沾沾沾沾沾沾沾沾沾沾沾沾沾沾沾沾沾沾沾沾沾沾沾沾沾沾\n",
      "🔸 Reference: 厚焼きたまごはかんたんにできる\n",
      "🔹 Predicted:  [Music]\n",
      "🔸 Reference: まったく衰えもしない姿に、鳥肌を覚えてしまった。\n"
     ]
    },
    {
     "name": "stderr",
     "output_type": "stream",
     "text": [
      " 15%|█▌        | 15/100 [00:14<00:49,  1.72it/s]"
     ]
    },
    {
     "name": "stdout",
     "output_type": "stream",
     "text": [
      "🔹 Predicted: 一切丰富汗的军事丰富汗\n",
      "🔸 Reference: 徹底した清掃と丁寧な調理を心がけたことで客足が戻ってきた\n",
      "🔹 Predicted:  [Sigh]\n",
      "🔸 Reference: 壺の中の塩をたくさんよくもみ込んでください\n",
      "🔹 Predicted:  [music]\n",
      "🔸 Reference: 作られたものから作るものへとして、矛盾的自己同一に徹することによって、歴史的世界は生物の世界から人間の世界へと発展する。\n",
      "🔹 Predicted:  [Sigh]\n",
      "🔸 Reference: ふざけて出品したらガチで売れてビビる\n"
     ]
    },
    {
     "name": "stderr",
     "output_type": "stream",
     "text": [
      "\r",
      " 17%|█▋        | 17/100 [00:17<01:19,  1.05it/s]"
     ]
    },
    {
     "name": "stdout",
     "output_type": "stream",
     "text": [
      "🔹 Predicted: 沖縜的水平で、沖縜的水平で、沖縜的水平で、沖縜的水平で、沖縜的水平で、沖縜的水平で、沖縜的水平で、沖縜的水平で、沖縜的水平で、沖縜的水平で、沖縜的水平で、沖縜的水平で、沖縜的水平で、沖縜的水平で、沖縜的水平で、沖縜的水平で、沖縜的水平で、沖縜的水平で、沖縜的水平で、沖縜的水平で、沖縜的水平で、沖縜的水平で、沖縜的水平で、沖縜的水平で、沖縜的水平で、沖縜的水平で、沖縜的水平で、沖縜的水平で、沖縜的水平で、沖縜的水平で、沖縜的水平で、沖縜的水平で、沖縜的水平で、沖縜的水平で、沖縜的水平で、沖縜的水平で、沖縜的水平で、沖縜的水平で、沖縜的水平で、沖縜的水平で、沖縜的水平で、沖縜的水平で、沖縜的水平で、沖縜的水平で、沖縜的水平で、沖縜的水平で、沖縜的水平で、沖縜的水平で、沖縜的水平で、沖�\n",
      "🔸 Reference: 外国だと驚くほど安く買えたりします\n"
     ]
    },
    {
     "name": "stderr",
     "output_type": "stream",
     "text": [
      " 20%|██        | 20/100 [00:21<01:15,  1.06it/s]"
     ]
    },
    {
     "name": "stdout",
     "output_type": "stream",
     "text": [
      "🔹 Predicted: 一会儿会儿会儿会儿会儿会儿会儿会儿会儿会儿会儿会儿会儿会儿会儿会儿会儿会儿会儿会儿会儿会儿会儿会儿会儿会儿会儿会儿会儿会儿会儿会儿会儿会儿会儿会儿会儿会儿会儿会儿会儿会儿会儿会儿会儿会儿会儿会儿会儿会儿会儿会儿会儿会儿会儿会儿会儿会儿会儿会儿会儿会儿会儿会儿会儿会儿会儿会儿会儿会儿会儿会儿会儿会儿会儿会儿会儿会儿会儿会儿会儿会儿会儿会儿会儿会儿会儿会儿会儿会儿会儿会儿会儿会儿会儿会儿会儿会儿会儿会儿会儿会儿会儿会儿会儿会儿会儿会儿会儿会儿会儿会儿会儿会儿会儿会儿会儿会儿会儿会儿会儿会儿会儿会儿会儿会儿会儿会儿会儿会儿会儿会儿会儿会儿会儿会儿会儿会儿会儿会儿会儿会儿会儿会儿会儿会儿会儿会儿会儿会儿会儿会儿会儿会儿会儿会儿会儿会儿会儿会儿会儿会儿会儿会儿会儿会儿会儿会儿会儿会儿会儿会儿会儿会儿会儿会儿会儿会儿会儿会儿会儿会儿会儿会儿会儿会儿会儿会儿会儿会儿会儿会儿会儿会儿会儿会儿会儿会儿会儿会儿会儿会儿会儿会儿会儿会儿会儿会儿会儿会儿会儿会儿会儿会儿会儿会儿会儿会儿会儿会儿会儿会\n",
      "🔸 Reference: 好きだった映画がリメイクされた\n",
      "🔹 Predicted:  [Sigh]\n",
      "🔸 Reference: 公園の遊具や設備はあのころと比べて変わっていた\n",
      "🔹 Predicted:  [Sigh]\n",
      "🔸 Reference: 自分は、いったい幸福なのでしょうか\n"
     ]
    },
    {
     "name": "stderr",
     "output_type": "stream",
     "text": [
      "\r",
      " 22%|██▏       | 22/100 [00:21<00:50,  1.54it/s]"
     ]
    },
    {
     "name": "stdout",
     "output_type": "stream",
     "text": [
      "🔹 Predicted:  [Sigh]\n",
      "🔸 Reference: そうしてその穴の中から時々ぷうぷうと煙を吹く\n",
      "🔹 Predicted:  [Sigh]\n",
      "🔸 Reference: 彼は、実家のお墓に埋葬された。\n"
     ]
    },
    {
     "name": "stderr",
     "output_type": "stream",
     "text": [
      " 24%|██▍       | 24/100 [00:21<00:35,  2.16it/s]"
     ]
    },
    {
     "name": "stdout",
     "output_type": "stream",
     "text": [
      "🔹 Predicted:  I would never be able to do this for the first time.\n",
      "🔸 Reference: 木箱の向こうの大きな写真の、僕の知らない君に向けて礼をする。\n",
      "🔹 Predicted:  I'm just going to do something that I can't do.\n",
      "🔸 Reference: 料理酒を入れるとコクが出ておいしくなる。\n"
     ]
    },
    {
     "name": "stderr",
     "output_type": "stream",
     "text": [
      " 26%|██▌       | 26/100 [00:22<00:23,  3.17it/s]"
     ]
    },
    {
     "name": "stdout",
     "output_type": "stream",
     "text": [
      "🔹 Predicted:  Erichertelien hat er den Lundern.\n",
      "🔸 Reference: 過去にとらわれてると動けない\n",
      "🔹 Predicted:  Geschenessentelscherns\n",
      "🔸 Reference: 利用者の意見も参考にするとよいでしょう\n",
      "🔹 Predicted:  Das ist ein bisschen guter.\n",
      "🔸 Reference: リニューアルオープンというが、ほとんど変わってなかった\n"
     ]
    },
    {
     "name": "stderr",
     "output_type": "stream",
     "text": [
      "\r",
      " 28%|██▊       | 28/100 [00:22<00:16,  4.45it/s]"
     ]
    },
    {
     "name": "stdout",
     "output_type": "stream",
     "text": [
      "🔹 Predicted:  That must give us this little rubbish.\n",
      "🔸 Reference: お役に立ててうれしいです\n",
      "🔹 Predicted:  There we go.\n",
      "🔸 Reference: 岡山県美作市\n"
     ]
    },
    {
     "name": "stderr",
     "output_type": "stream",
     "text": [
      "\r",
      " 30%|███       | 30/100 [00:22<00:12,  5.52it/s]"
     ]
    },
    {
     "name": "stdout",
     "output_type": "stream",
     "text": [
      "🔹 Predicted:  What a rocker! Turn to the position of the series.\n",
      "🔸 Reference: 見てないけど、感動をありがとうセールで安く買う\n",
      "🔹 Predicted:  [Music]\n",
      "🔸 Reference: 技術は生産的であり、世界を革新しまた豊富にする。\n"
     ]
    },
    {
     "name": "stderr",
     "output_type": "stream",
     "text": [
      "\r",
      " 32%|███▏      | 32/100 [00:22<00:10,  6.41it/s]"
     ]
    },
    {
     "name": "stdout",
     "output_type": "stream",
     "text": [
      "🔹 Predicted:  Some lines that can kind of, some lines that can,\n",
      "🔸 Reference: 専門用語がいっぱいだけど、話してる本人もわかってない\n"
     ]
    },
    {
     "name": "stderr",
     "output_type": "stream",
     "text": [
      "\r",
      " 33%|███▎      | 33/100 [00:26<00:53,  1.26it/s]"
     ]
    },
    {
     "name": "stdout",
     "output_type": "stream",
     "text": [
      "🔹 Predicted:  Dattelbezirzein und Zirzzein und Zirzzein zu der Zeit der Zeit der Zeit der Zeit der Zeit der Zeit der Zeit der Zeit der Zeit der Zeit der Zeit der Zeit der Zeit der Zeit der Zeit der Zeit der Zeit der Zeit der Zeit der Zeit der Zeit der Zeit der Zeit der Zeit der Zeit der Zeit der Zeit der Zeit der Zeit der Zeit der Zeit der Zeit der Zeit der Zeit der Zeit der Zeit der Zeit der Zeit der Zeit der Zeit der Zeit der Zeit der Zeit der Zeit der Zeit der Zeit der Zeit der Zeit der Zeit der Zeit der Zeit der Zeit der Zeit der Zeit der Zeit der Zeit der Zeit der Zeit der Zeit der Zeit der Zeit der Zeit der Zeit der Zeit der Zeit der Zeit der Zeit der Zeit der Zeit der Zeit der Zeit der Zeit der Zeit der Zeit der Zeit der Zeit der Zeit der Zeit der Zeit der Zeit der Zeit der Zeit der Zeit der Zeit der Zeit der Zeit der Zeit der Zeit der Zeit der Zeit der Zeit der Zeit der Zeit der Zeit der Zeit der Zeit der Zeit der Zeit der Zeit der Zeit der Zeit der Zeit der Zeit der Zeit der Zeit der Zeit der Zeit der Zeit der Zeit der Zeit der Zeit der Zeit der Zeit der Zeit der Zeit der Zeit der Zeit der Zeit der Zeit der Zeit der Zeit der Zeit der Zeit der Zeit der Zeit der Zeit der Zeit der Zeit der Zeit der Zeit der Zeit der Zeit der Zeit der Zeit der Zeit der Zeit der Zeit der Zeit der Zeit der Zeit der Zeit der Zeit der Zeit der Zeit der Zeit der Zeit der Zeit der Zeit der Zeit der Zeit der Zeit der Zeit der Zeit der Zeit der Zeit der Zeit der Zeit der Zeit der Zeit der Zeit der Zeit der Zeit der Zeit der Zeit der Zeit der Zeit der Zeit der Zeit der Zeit der Zeit der Zeit der Zeit der Zeit der Zeit der Zeit der Zeit der Zeit der Zeit der Zeit der Zeit der Zeit der Zeit der Zeit der Zeit der Zeit der Zeit der Zeit der Zeit der Zeit der Zeit der Zeit der Zeit der Zeit der Zeit der Zeit der Zeit der Zeit der Zeit der Zeit der Zeit der Zeit der Zeit der Zeit der Zeit der Zeit der Zeit der Zeit der Zeit der Zeit der Zeit der Zeit der\n",
      "🔸 Reference: 与えられたものそれ自身が自己矛盾的として、自己の内から自己を越え行くことでなければならない。\n",
      "🔹 Predicted:  That was shocked.\n",
      "🔸 Reference: 長崎県壱岐市\n"
     ]
    },
    {
     "name": "stderr",
     "output_type": "stream",
     "text": [
      " 37%|███▋      | 37/100 [00:26<00:24,  2.57it/s]"
     ]
    },
    {
     "name": "stdout",
     "output_type": "stream",
     "text": [
      "🔹 Predicted:  Schöner Scherbeer hat sich die Scherbeine auf der Seite.\n",
      "🔸 Reference: いずれ僕もあと三十年もしたら浴衣がけで\n",
      "🔹 Predicted:  [Sigh]\n",
      "🔸 Reference: 僕も君の背中に向けて、じゃあねと言い返して、手を振った\n",
      "🔹 Predicted:  [Song]\n",
      "🔸 Reference: 注文はずいぶん多いでしょうがどうか一々こらえて下さい\n"
     ]
    },
    {
     "name": "stderr",
     "output_type": "stream",
     "text": [
      "\r",
      " 39%|███▉      | 39/100 [00:26<00:18,  3.31it/s]"
     ]
    },
    {
     "name": "stdout",
     "output_type": "stream",
     "text": [
      "🔹 Predicted:  [Music]\n",
      "🔸 Reference: 掘り出した砂を砂場の真ん中に集めて、固めて、山にして、また山に砂をかける\n",
      "🔹 Predicted:  I'm going to be a little bit more focused on the first thing I do.\n",
      "🔸 Reference: いくら人間だって、そういつまでも栄える事もあるまい\n",
      "🔹 Predicted:  [Music]\n",
      "🔸 Reference: そこで僕らは遊んだ、穴を掘り、山を作り、また穴を掘った\n"
     ]
    },
    {
     "name": "stderr",
     "output_type": "stream",
     "text": [
      " 43%|████▎     | 43/100 [00:30<00:30,  1.85it/s]"
     ]
    },
    {
     "name": "stdout",
     "output_type": "stream",
     "text": [
      "🔹 Predicted:  Schlein und der Schlein der Schlein der Schlein der Schlein der Schlein der Schlein der Schlein der Schlein der Schlein der Schlein der Schlein der Schlein der Schlein der Schlein der Schlein der Schlein der Schlein der Schlein der Schlein der Schlein der Schlein der Schlein der Schlein der Schlein der Schlein der Schlein der Schlein der Schlein der Schlein der Schlein der Schlein der Schlein der Schlein der Schlein der Schlein der Schlein der Schlein der Schlein der Schlein der Schlein der Schlein der Schlein der Schlein der Schlein der Schlein der Schlein der Schlein der Schlein der Schlein der Schlein der Schlein der Schlein der Schlein der Schlein der Schlein der Schlein der Schlein der Schlein der Schlein der Schlein der Schlein der Schlein der Schlein der Schlein der Schlein der Schlein der Schlein der Schlein der Schlein der Schlein der Schlein der Schlein der Schlein der Schlein der Schlein der Schlein der Schlein der Schlein der Schlein der Schlein der Schlein der Schlein der Schlein der Schlein der Schlein der Schlein der Schlein der Schlein der Schlein der Schlein der Schlein der Schlein der Schlein der Schlein der Schlein der Schlein der Schlein der Schlein der Schlein der Schlein der Schlein der Schlein der Schlein der Schlein der Schlein der Schlein der Schlein der Schlein der Schlein der Schlein\n",
      "🔸 Reference: それこそ千番に一番の兼ね合いとでもいうべき危機一髪の、\n",
      "🔹 Predicted:  [Sounds of the song]\n",
      "🔸 Reference: みんなここに置いてくださいと書いてありました\n",
      "🔹 Predicted:  [Gunshot]\n",
      "🔸 Reference: どうだ、とるか\n"
     ]
    },
    {
     "name": "stderr",
     "output_type": "stream",
     "text": [
      "\r",
      " 45%|████▌     | 45/100 [00:30<00:21,  2.51it/s]"
     ]
    },
    {
     "name": "stdout",
     "output_type": "stream",
     "text": [
      "🔹 Predicted:  [Sigh]\n",
      "🔸 Reference: 空き地を埋めていった\n",
      "🔹 Predicted:  [Spanish]\n",
      "🔸 Reference: しかもあとで聞くとそれは書生という人間中で一番獰悪な種族であったそうだ\n",
      "🔹 Predicted: カラー\n",
      "🔸 Reference: 欲しいキャラが出ない\n"
     ]
    },
    {
     "name": "stderr",
     "output_type": "stream",
     "text": [
      " 49%|████▉     | 49/100 [00:30<00:12,  4.22it/s]"
     ]
    },
    {
     "name": "stdout",
     "output_type": "stream",
     "text": [
      "🔹 Predicted:  [Sigh]\n",
      "🔸 Reference: 大量の睡眠薬を飲んだ猫のようにじっとする\n",
      "🔹 Predicted:  [Sings of the New York City]\n",
      "🔸 Reference: 他のチャンネルも似たようなドラマかワイドショーが流れていた\n",
      "🔹 Predicted:  [Sigh]\n",
      "🔸 Reference: 滋賀県甲賀市\n",
      "🔹 Predicted:  [Sigh]\n",
      "🔸 Reference: まれにみる文理両方をかねた人でした\n"
     ]
    },
    {
     "name": "stderr",
     "output_type": "stream",
     "text": [
      "\r",
      " 51%|█████     | 51/100 [00:34<00:33,  1.45it/s]"
     ]
    },
    {
     "name": "stdout",
     "output_type": "stream",
     "text": [
      "🔹 Predicted: 一切与一切与一切与一切与一切与一切与一切与一切与一切与一切与一切与一切与一切与一切与一切与一切与一切与一切与一切与一切与一切与一切与一切与一切与一切与一切与一切与一切与一切与一切与一切与一切与一切与一切与一切与一切与一切与一切与一切与一切与一切与一切与一切与一切与一切与一切与一切与一切与一切与一切与一切与一切与一切与一切与一切与一切与一切与一切与一切与一切与一切与一切与一切与一切与一切与一切与一切与一切与一切与一切与一切与一切与一切与一切与一切与一切与一切与一切与一切与一切与一切与一切与一切与一切与一切与一切与一切与一切与一切与一切与一切与一切与一切与一切与一切与一切与一切与一切与一切与一切与一切与一切与一切与一切与一切与一切与一切与一切与一切与一切与一切与\n",
      "🔸 Reference: 技術的に作られたものはすべて形をもっている。\n",
      "🔹 Predicted:  [Sigh]\n",
      "🔸 Reference: 勝とうが負けようが点がじゃんじゃん入る試合なら満足です\n"
     ]
    },
    {
     "name": "stderr",
     "output_type": "stream",
     "text": [
      " 55%|█████▌    | 55/100 [00:37<00:32,  1.40it/s]"
     ]
    },
    {
     "name": "stdout",
     "output_type": "stream",
     "text": [
      "🔹 Predicted: 一会儿会儿会儿会儿会儿会儿会儿会儿会儿会儿会儿会儿会儿会儿会儿会儿会儿会儿会儿会儿会儿会儿会儿会儿会儿会儿会儿会儿会儿会儿会儿会儿会儿会儿会儿会儿会儿会儿会儿会儿会儿会儿会儿会儿会儿会儿会儿会儿会儿会儿会儿会儿会儿会儿会儿会儿会儿会儿会儿会儿会儿会儿会儿会儿会儿会儿会儿会儿会儿会儿会儿会儿会儿会儿会儿会儿会儿会儿会儿会儿会儿会儿会儿会儿会儿会儿会儿会儿会儿会儿会儿会儿会儿会儿会儿会儿会儿会儿会儿会儿会儿会儿会儿会儿会儿会儿会儿会儿会儿会儿会儿会儿会儿会儿会儿会儿会儿会儿会儿会儿会儿会儿会儿会儿会儿会儿会儿会儿会儿会儿会儿会儿会儿会儿会儿会儿会儿会儿会儿会儿会儿会儿会儿会儿会儿会儿会儿会儿会儿会儿会儿会儿会儿会儿会儿会儿会儿会儿会儿会儿会儿会儿会儿会儿会儿会儿会儿会儿会儿会儿会儿会儿会儿会儿会儿会儿会儿会儿会儿会儿会儿会儿会儿会儿会儿会儿会儿会儿会儿会儿会儿会儿会儿会儿会儿会儿会儿会儿会儿会儿会儿会儿会儿会儿会儿会儿会儿会儿会儿会儿会儿会儿会儿会儿会儿会儿会儿会儿会儿会儿会儿会\n",
      "🔸 Reference: 京都府精華町\n",
      "🔹 Predicted:  [Sigh]\n",
      "🔸 Reference: 岡山県井原市\n",
      "🔹 Predicted:  [Sigh]\n",
      "🔸 Reference: 岐阜県羽島市\n"
     ]
    },
    {
     "name": "stderr",
     "output_type": "stream",
     "text": [
      "\r",
      " 56%|█████▌    | 56/100 [00:41<00:51,  1.18s/it]"
     ]
    },
    {
     "name": "stdout",
     "output_type": "stream",
     "text": [
      "🔹 Predicted: 一会儿会儿会儿会儿会儿会儿会儿会儿会儿会儿会儿会儿会儿会儿会儿会儿会儿会儿会儿会儿会儿会儿会儿会儿会儿会儿会儿会儿会儿会儿会儿会儿会儿会儿会儿会儿会儿会儿会儿会儿会儿会儿会儿会儿会儿会儿会儿会儿会儿会儿会儿会儿会儿会儿会儿会儿会儿会儿会儿会儿会儿会儿会儿会儿会儿会儿会儿会儿会儿会儿会儿会儿会儿会儿会儿会儿会儿会儿会儿会儿会儿会儿会儿会儿会儿会儿会儿会儿会儿会儿会儿会儿会儿会儿会儿会儿会儿会儿会儿会儿会儿会儿会儿会儿会儿会儿会儿会儿会儿会儿会儿会儿会儿会儿会儿会儿会儿会儿会儿会儿会儿会儿会儿会儿会儿会儿会儿会儿会儿会儿会儿会儿会儿会儿会儿会儿会儿会儿会儿会儿会儿会儿会儿会儿会儿会儿会儿会儿会儿会儿会儿会儿会儿会儿会儿会儿会儿会儿会儿会儿会儿会儿会儿会儿会儿会儿会儿会儿会儿会儿会儿会儿会儿会儿会儿会儿会儿会儿会儿会儿会儿会儿会儿会儿会儿会儿会儿会儿会儿会儿会儿会儿会儿会儿会儿会儿会儿会儿会儿会儿会儿会儿会儿会儿会儿会儿会儿会儿会儿会儿会儿会儿会儿会儿会儿会儿会儿会儿会儿会儿会儿会\n",
      "🔸 Reference: 映像作品は個人でここまで作れる時代になったんだな\n",
      "🔹 Predicted:  [Squeak]\n",
      "🔸 Reference: まだ残っていたんだ、僕は指先でそっとシールに触れる\n"
     ]
    },
    {
     "name": "stderr",
     "output_type": "stream",
     "text": [
      "\r",
      " 58%|█████▊    | 58/100 [00:44<00:56,  1.35s/it]"
     ]
    },
    {
     "name": "stdout",
     "output_type": "stream",
     "text": [
      "🔹 Predicted: 一会儿会儿会儿会儿会儿会儿会儿会儿会儿会儿会儿会儿会儿会儿会儿会儿会儿会儿会儿会儿会儿会儿会儿会儿会儿会儿会儿会儿会儿会儿会儿会儿会儿会儿会儿会儿会儿会儿会儿会儿会儿会儿会儿会儿会儿会儿会儿会儿会儿会儿会儿会儿会儿会儿会儿会儿会儿会儿会儿会儿会儿会儿会儿会儿会儿会儿会儿会儿会儿会儿会儿会儿会儿会儿会儿会儿会儿会儿会儿会儿会儿会儿会儿会儿会儿会儿会儿会儿会儿会儿会儿会儿会儿会儿会儿会儿会儿会儿会儿会儿会儿会儿会儿会儿会儿会儿会儿会儿会儿会儿会儿会儿会儿会儿会儿会儿会儿会儿会儿会儿会儿会儿会儿会儿会儿会儿会儿会儿会儿会儿会儿会儿会儿会儿会儿会儿会儿会儿会儿会儿会儿会儿会儿会儿会儿会儿会儿会儿会儿会儿会儿会儿会儿会儿会儿会儿会儿会儿会儿会儿会儿会儿会儿会儿会儿会儿会儿会儿会儿会儿会儿会儿会儿会儿会儿会儿会儿会儿会儿会儿会儿会儿会儿会儿会儿会儿会儿会儿会儿会儿会儿会儿会儿会儿会儿会儿会儿会儿会儿会儿会儿会儿会儿会儿会儿会儿会儿会儿会儿会儿会儿会儿会儿会儿会儿会儿会儿会儿会儿会儿会儿会\n",
      "🔸 Reference: エクアドルの首都はキトである\n"
     ]
    },
    {
     "name": "stderr",
     "output_type": "stream",
     "text": [
      "\r",
      " 59%|█████▉    | 59/100 [00:47<01:11,  1.73s/it]"
     ]
    },
    {
     "name": "stdout",
     "output_type": "stream",
     "text": [
      "🔹 Predicted: 沖縜的一段階段階段階段階段階段階段階段階段階段階段階段階段階段階段階段階段階段階段階段階段階段階段階段階段階段階段階段階段階段階段階段階段階段階段階段階段階段階段階段階段階段階段階段階段階段階段階段階段階段階段階段階段階段階段階段階段階段階段階段階段階段階段階段階段�����������������������������������������������������������������������������������������������������������������������������������������������������������������������������������������������������������������������������������������������������\n",
      "🔸 Reference: 異臭を放つ煙がすき間から入りこんでくる\n"
     ]
    },
    {
     "name": "stderr",
     "output_type": "stream",
     "text": [
      "\r",
      " 60%|██████    | 60/100 [00:51<01:23,  2.08s/it]"
     ]
    },
    {
     "name": "stdout",
     "output_type": "stream",
     "text": [
      "🔹 Predicted:  Verschurchspirter des Graspernens zu der Kaltes und der Kaltes und der Kaltes zu der Kaltes zu der Kaltes zu der Kaltes zu der Kaltes zu der Kaltes zu der Kaltes zu der Kaltes zu der Kaltes zu der Kaltes zu der Kaltes zu der Kaltes zu der Kaltes zu der Kaltes zu der Kaltes zu der Kaltes zu der Kaltes zu der Kaltes zu der Kaltes zu der Kaltes zu der Kaltes zu der Kaltes zu der Kaltes zu der Kaltes zu der Kaltes zu der Kaltes zu der Kaltes zu der Kaltes zu der Kaltes zu der Kaltes zu der Kaltes zu der Kaltes zu der Kaltes zu der Kaltes zu der Kaltes zu der Kaltes zu der Kaltes zu der Kaltes zu der Kaltes zu der Kaltes zu der Kaltes zu der Kaltes zu der Kaltes zu der Kaltes zu der Kaltes zu der Kaltes zu der Kaltes zu der Kaltes zu der Kaltes zu der Kaltes zu der Kaltes zu der Kaltes zu der Kaltes zu der Kaltes zu der Kaltes zu der Kaltes zu der Kaltes zu der Kaltes zu der Kaltes zu der Kaltes zu der Kaltes zu der Kaltes zu der Kaltes zu der Kaltes zu der Kaltes zu der Kaltes zu der Kaltes zu der Kaltes zu der Kaltes zu der Kaltes zu der Kaltes zu der Kaltes zu der Kaltes zu der Kaltes zu der Kaltes zu der Kaltes zu der Kaltes zu der Kaltes zu der Kaltes zu der Kaltes zu der Kaltes zu der Kaltes zu der Kaltes zu der Kaltes zu der\n",
      "🔸 Reference: 形成するとは物を作ることであり、物を作るとは物に形を与えること、その形を変えて新しい形のものにすることである。\n"
     ]
    },
    {
     "name": "stderr",
     "output_type": "stream",
     "text": [
      "\r",
      " 61%|██████    | 61/100 [00:51<01:03,  1.64s/it]"
     ]
    },
    {
     "name": "stdout",
     "output_type": "stream",
     "text": [
      "🔹 Predicted:  So, when you're in the middle of the road, you're going to have to be a little bit more careful.\n",
      "🔸 Reference: それが我々の性格とか個性とかいうものである。\n"
     ]
    },
    {
     "name": "stderr",
     "output_type": "stream",
     "text": [
      "\r",
      " 62%|██████▏   | 62/100 [00:54<01:18,  2.06s/it]"
     ]
    },
    {
     "name": "stdout",
     "output_type": "stream",
     "text": [
      "🔹 Predicted:  Hmm, hmm, hmm, hmm, hmm, hmm, hmm, hmm, hmm, hmm, hmm, hmm, hmm, hmm, hmm, hmm, hmm, hmm, hmm, hmm, hmm, hmm, hmm, hmm, hmm, hmm, hmm, hmm, hmm, hmm, hmm, hmm, hmm, hmm, hmm, hmm, hmm, hmm, hmm, hmm, hmm, hmm, hmm, hmm, hmm, hmm, hmm, hmm, hmm, hmm, hmm, hmm, hmm, hmm, hmm, hmm, hmm, hmm, hmm, hmm, hmm, hmm, hmm, hmm, hmm, hmm, hmm, hmm, hmm, hmm, hmm, hmm, hmm, hmm, hmm, hmm, hmm, hmm, hmm, hmm, hmm, hmm, hmm, hmm, hmm, hmm, hmm, hmm, hmm, hmm, hmm, hmm, hmm, hmm, hmm, hmm, hmm, hmm, hmm, hmm, hmm, hmm, hmm, hmm, hmm, hmm, hmm, hmm, hmm, hmm, hmm, hmm, hmm, hmm, hmm, hmm, hmm, hmm, hmm, hmm, hmm, hmm, hmm, hmm, hmm, hmm, hmm, hmm, hmm, hmm, hmm, hmm, hmm, hmm, hmm, hmm, hmm, hmm, hmm, hmm, hmm, hmm, hmm, hmm, hmm, hmm, hmm, hmm, hmm, hmm, hmm, hmm, hmm, hmm, hmm, hmm, hmm, hmm, hmm, hmm, hmm, hmm, hmm, hmm, hmm, hmm, hmm, hmm, hmm, hmm, hmm, hmm, hmm, hmm, hmm, hmm, hmm, hmm, hmm, hmm, hmm, hmm, hmm, hmm, hmm, hmm, hmm, hmm, hmm, hmm, hmm, hmm, hmm, hmm, hmm, hmm, hmm, hmm, hmm, hmm, hmm, hmm, hmm, hmm, hmm, hmm, hmm, hmm, hmm, hmm, hmm, hmm, hmm, hmm, hmm, hmm, hmm, hmm, hmm, hmm, hmm, hmm,\n",
      "🔸 Reference: 東京都国分寺市\n",
      "🔹 Predicted:  [Sigh]\n",
      "🔸 Reference: 買う人がいるから作られる\n"
     ]
    },
    {
     "name": "stderr",
     "output_type": "stream",
     "text": [
      "\r",
      " 64%|██████▍   | 64/100 [00:58<01:08,  1.91s/it]"
     ]
    },
    {
     "name": "stdout",
     "output_type": "stream",
     "text": [
      "🔹 Predicted:  I want you to have a little bit of a little bit of a little bit of a little bit of a little bit of a little bit of a little bit of a little bit of a little bit of a little bit of a little bit of a little bit of a little bit of a little bit of a little bit of a little bit of a little bit of a little bit of a little bit of a little bit of a little bit of a little bit of a little bit of a little bit of a little bit of a little bit of a little bit of a little bit of a little bit of a little bit of a little bit of a little bit of a little bit of a little bit of a little bit of a little bit of a little bit of a little bit of a little bit of a little bit of a little bit of a little bit of a little bit of a little bit of a little bit of a little bit of a little bit of a little bit of a little bit of a little bit of a little bit of a little bit of a little bit of a little bit of a little bit of a little bit of a little bit of a little bit of a little bit of a little bit of a little bit of a little bit of a little bit of a little bit of a little bit of a little bit of a little bit of a little bit of a little bit of a little bit of a little bit of a little bit of a little bit of a little bit of a little bit of a little bit of a little bit of a little bit of a little bit of a little bit of a little bit of a little bit of a little bit of a little bit of a little bit of a little bit of a little bit of a little bit of a little bit of a little bit of a little bit of a little bit of a little bit of a little bit of a little bit of a little bit of a little bit of a little bit of a little bit of a little bit of a little bit of a little bit of a little bit of a little bit of a little bit of a little bit of a little bit of a little bit of a little bit of a little bit\n",
      "🔸 Reference: ヨルダンの首都はアンマンである\n",
      "🔹 Predicted:  *Sieke's voice*\n",
      "🔸 Reference: 何かルールでも変わったのか\n"
     ]
    },
    {
     "name": "stderr",
     "output_type": "stream",
     "text": [
      "\r",
      " 66%|██████▌   | 66/100 [01:01<01:02,  1.83s/it]"
     ]
    },
    {
     "name": "stdout",
     "output_type": "stream",
     "text": [
      "🔹 Predicted:  Wasch wasch wasch wasch wasch wasch wasch wasch wasch wasch wasch wasch wasch wasch wasch wasch wasch wasch wasch wasch wasch wasch wasch wasch wasch wasch wasch wasch wasch wasch wasch wasch wasch wasch wasch wasch wasch wasch wasch wasch wasch wasch wasch wasch wasch wasch wasch wasch wasch wasch wasch wasch wasch wasch wasch wasch wasch wasch wasch wasch wasch wasch wasch wasch wasch wasch wasch wasch wasch wasch wasch wasch wasch wasch wasch wasch wasch wasch wasch wasch wasch wasch wasch wasch wasch wasch wasch wasch wasch wasch wasch wasch wasch wasch wasch wasch wasch wasch wasch wasch wasch wasch wasch wasch wasch wasch wasch wasch wasch wasch wasch wasch wasch wasch wasch wasch wasch wasch wasch wasch wasch wasch wasch wasch wasch wasch wasch wasch wasch wasch wasch wasch wasch wasch wasch wasch wasch wasch wasch wasch wasch wasch wasch wasch wasch wasch wasch wasch wasch wasch wasch wasch wasch wasch wasch wasch wasch wasch wasch wasch wasch wasch wasch wasch wasch wasch wasch wasch wasch wasch wasch wasch wasch wasch wasch wasch wasch wasch wasch wasch wasch wasch wasch wasch wasch wasch wasch wasch wasch wasch wasch wasch wasch wasch wasch wasch wasch wasch wasch wasch wasch wasch wasch wasch wasch wasch wasch wasch wasch wasch wasch wasch wasch wasch wasch wasch wasch wasch wasch wasch wasch wasch\n",
      "🔸 Reference: 五ミリ程度の小さい傷、でも、それは心臓のそばにあって無視できない傷でもあった\n"
     ]
    },
    {
     "name": "stderr",
     "output_type": "stream",
     "text": [
      "\r",
      " 67%|██████▋   | 67/100 [01:04<01:11,  2.15s/it]"
     ]
    },
    {
     "name": "stdout",
     "output_type": "stream",
     "text": [
      "🔹 Predicted:  I'm the...I'm the...I'm the...I'm the...I'm the...I'm the...I'm the...I'm the...I'm the...I'm the...I'm the...I'm the...I'm the...I'm the...I'm the...I'm the...I'm the...I'm the...I'm the...I'm the...I'm the...I'm the...I'm the...I'm the...I'm the...I'm the...I'm the...I'm the...I'm the...I'm the...I'm the...I'm the...I'm the...I'm the...I'm the...I'm the...I'm the...I'm the...I'm the...I'm the...I'm the...I'm the...I'm the...I'm the...I'm the...I'm the...I'm the...I'm the...I'm the...I'm the...I'm the...I'm the...I'm the...I'm the...I'm the...I'm the...I'm the...I'm the...I'm the...I'm the...I'm the...I'm the...I'm the...I'm the...I'm the...I'm the...I'm the...I'm the...I'm the...I'm the...I'm the...I'm the...I'm the...I'm the...I'm the...I'm the...I'm the...I'm the...I'm the...I'm the...I'm the...I'm the...I'm the...I'm the...I'm the...I'm the...I'm the...I'm the...I'm the...I'm the...I'm the...I'm the...I'm the...I'm the...I'm the...I'm the...I'm the...I'm the...I'm the...I'm the...I'm the...I'm the...I'm the...I'm the...I'm the...I'm the...I'm the...I'm the...I'm the...I'm the...I'm the...\n",
      "🔸 Reference: やっぱり異常だよ\n"
     ]
    },
    {
     "name": "stderr",
     "output_type": "stream",
     "text": [
      " 70%|███████   | 70/100 [01:08<00:44,  1.50s/it]"
     ]
    },
    {
     "name": "stdout",
     "output_type": "stream",
     "text": [
      "🔹 Predicted:  It's a little bit of a little bit of a little bit of a little bit of a little bit of a little bit of a little bit of a little bit of a little bit of a little bit of a little bit of a little bit of a little bit of a little bit of a little bit of a little bit of a little bit of a little bit of a little bit of a little bit of a little bit of a little bit of a little bit of a little bit of a little bit of a little bit of a little bit of a little bit of a little bit of a little bit of a little bit of a little bit of a little bit of a little bit of a little bit of a little bit of a little bit of a little bit of a little bit of a little bit of a little bit of a little bit of a little bit of a little bit of a little bit of a little bit of a little bit of a little bit of a little bit of a little bit of a little bit of a little bit of a little bit of a little bit of a little bit of a little bit of a little bit of a little bit of a little bit of a little bit of a little bit of a little bit of a little bit of a little bit of a little bit of a little bit of a little bit of a little bit of a little bit of a little bit of a little bit of a little bit of a little bit of a little bit of a little bit of a little bit of a little bit of a little bit of a little bit of a little bit of a little bit of a little bit of a little bit of a little bit of a little bit of a little bit of a little bit of a little bit of a little bit of a little bit of a little bit of a little bit of a little bit of a little bit of a little bit of a little bit of a little bit of a little bit of a little bit of a little bit of a little bit of a little bit of a little bit of a little bit of a little bit of a little bit of a little bit of a little bit of a little bit of a little bit of a little\n",
      "🔸 Reference: ふてくされて投げやりになるのをおさえる\n",
      "🔹 Predicted:  She was a little bit nervous.\n",
      "🔸 Reference: スマホのバッテリーの劣化が早くて買い替えを検討してる\n",
      "🔹 Predicted:  [Siekelle]\n",
      "🔸 Reference: 私の意識現象が多なると共に私の意識として一であるというのは、右の如き意昧においての矛盾的自己同一でなければならない。\n"
     ]
    },
    {
     "name": "stderr",
     "output_type": "stream",
     "text": [
      "\r",
      " 72%|███████▏  | 72/100 [01:08<00:27,  1.01it/s]"
     ]
    },
    {
     "name": "stdout",
     "output_type": "stream",
     "text": [
      "🔹 Predicted:  [Sigh]\n",
      "🔸 Reference: リモート仕様にする必要がある\n",
      "🔹 Predicted:  She was just a little bit more nervous than she was.\n",
      "🔸 Reference: 作り置きして時間を節約する\n"
     ]
    },
    {
     "name": "stderr",
     "output_type": "stream",
     "text": [
      " 74%|███████▍  | 74/100 [01:08<00:17,  1.52it/s]"
     ]
    },
    {
     "name": "stdout",
     "output_type": "stream",
     "text": [
      "🔹 Predicted: 一切串上来的小子\n",
      "🔸 Reference: デビューするやたちまち大ヒット\n",
      "🔹 Predicted:  [Siehannelauzeur]\n",
      "🔸 Reference: 欲求的なる身体的存在としても、我々は既にかかる自己矛盾的存在であるのである。\n"
     ]
    },
    {
     "name": "stderr",
     "output_type": "stream",
     "text": [
      "\r",
      " 75%|███████▌  | 75/100 [01:09<00:13,  1.88it/s]"
     ]
    },
    {
     "name": "stdout",
     "output_type": "stream",
     "text": [
      "🔹 Predicted: スープンのスープンを使っている\n",
      "🔸 Reference: 長期的な影響はわからない\n"
     ]
    },
    {
     "name": "stderr",
     "output_type": "stream",
     "text": [
      "\r",
      " 76%|███████▌  | 76/100 [01:12<00:30,  1.25s/it]"
     ]
    },
    {
     "name": "stdout",
     "output_type": "stream",
     "text": [
      "🔹 Predicted:  Schauhrschweiter von Schauhrschweiter von Schauhrschweiter von Schauhrschweiter von Schauhrschweiter von Schauhrschweiter von Schauhrschweiter von Schauhrschweiter von Schauhrschweiter von Schauhrschweiter von Schauhrschweiter von Schauhrschweiter von Schauhrschweiter von Schauhrschweiter von Schauhrschweiter von Schauhrschweiter von Schauhrschweiter von Schauhrschweiter von Schauhrschweiter von Schauhrschweiter von Schauhrschweiter von Schauhrschweiter von Schauhrschweiter von Schauhrschweiter von Schauhrschweiter von Schauhrschweiter von Schauhrschweiter von Schauhrschweiter von Schauhrschweiter von Schauhrschweiter von Schauhrschweiter von Schauhrschweiter von Schauhrschweiter von Schauhrschweiter von Schauhrschweiter von Schauhrschweiter von Schauhrschweiter von Schauhrschweiter von Schauhrschweiter von Schauhrschweiter von Schauhrschweiter von Schauhrschweiter von Schauhrschweiter von Schauhrschweiter von Schauhrschweiter von Schauhrschweiter von Schauhrschweiter von Schauhrschweiter von Schauhrschweiter von Schauhrschweiter von Schauhrschweiter von Schauhrschweiter von Schauhrschweiter von Schauhrschweiter von Schauhrschweiter von Schauhrschweiter von Schauhrschweiter von Schauhrschweiter von Schauhrschweiter von Schauhrschweiter von Schauhrschweiter von Schauhrschweiter von Schauhrschweiter von Schauhr\n",
      "🔸 Reference: すごい安いというわけでもないけど近くにあると助かる\n"
     ]
    },
    {
     "name": "stderr",
     "output_type": "stream",
     "text": [
      "\r",
      " 77%|███████▋  | 77/100 [01:12<00:22,  1.02it/s]"
     ]
    },
    {
     "name": "stdout",
     "output_type": "stream",
     "text": [
      "🔹 Predicted:  Jean-Caillien und Jean-Caillien und Jean-Caillien und Jean-Caillien\n",
      "🔸 Reference: 作られたものから作るものへということは、作られたものは、種から作られたものでありながら、\n",
      "🔹 Predicted:  *Siehack*\n",
      "🔸 Reference: うまいけど手がギトギトになる\n"
     ]
    },
    {
     "name": "stderr",
     "output_type": "stream",
     "text": [
      "\r",
      " 79%|███████▉  | 79/100 [01:15<00:27,  1.29s/it]"
     ]
    },
    {
     "name": "stdout",
     "output_type": "stream",
     "text": [
      "🔹 Predicted:  Schauhrschauhrschauhrschauhrschauhrschauhrschauhrschauhrschauhrschauhrschauhrschauhrschauhrschauhrschauhrschauhrschauhrschauhrschauhrschauhrschauhrschauhrschauhrschauhrschauhrschauhrschauhrschauhrschauhrschauhrschauhrschauhrschauhrschauhrschauhrschauhrschauhrschauhrschauhrschauhrschauhrschauhrschauhrschauhrschauhrschauhrschauhrschauhrschauhrschauhrschauhrschauhrschauhrschauhrschauhrschauhrschauhrschauhrschauhrschauhrschauhrschauhrschauhrschauhrschauhrschauhrschauhrschauhrschauhrschauhrschauhrschauhrschauhrschauhrschauhrschauhrschauhrschauhrschauhrschauhrschauhrschauhrschauhrschauhrschauhrschauhrschauhrschauhrschauhrschauhrschauhrschauhrschauhrschauhrschauhrschauhrschauhrschauhrschauhrschauhrschauhrschauhrschauhrschauhrschauhrschauhrschauhrschauhrschauhrschauhrschauhrschauhrschauhrschauhrschauhrschauhrschauhrschauhrschauhrschauhrschauhrschauhrschauhrschauhrschauhrschauhrschauhrschauhrschauhrschauhrschauhrschauhrschauhrschauhrschauhrschauhrschauhrschauhrschauhrschauhrschauhrschauhrschauhrschauhrschauhrschauhrschauhrschauhr\n",
      "🔸 Reference: 今のはキーパーの責任じゃないよ\n"
     ]
    },
    {
     "name": "stderr",
     "output_type": "stream",
     "text": [
      "\r",
      " 80%|████████  | 80/100 [01:19<00:35,  1.78s/it]"
     ]
    },
    {
     "name": "stdout",
     "output_type": "stream",
     "text": [
      "🔹 Predicted:  Hushausausausausausausausausausausausausausausausausausausausausausausausausausausausausausausausausausausausausausausausausausausausausausausausausausausausausausausausausausausausausausausausausausausausausausausausausausausausausausausausausausausausausausausausausausausausausausausausausausausausausausausausausausausausausausausausausausausausausausausausausausausausausausausausausausausausausausausausausausausausausausausausausausausausausausausausausausausausausausausausausausausausausausausausausausausausausausausausausausausausausausausausausausausausausausausausausausausausausausausausausausausausausausausausausausausausausausausausausausausausausausausausausausausausausausausausausausausausausausausausausausausausausausausausausausausausausausausausausausausausausausausausausausausausausausausausausausausausausausausausausausausausausausausausausausausausausausausausausausausausausausausausausausausausausausausausausausausausausausausausausausausausausausausausausausausausausausausausausausausausausausausausausausausausausausausausausausausausausausausausausausausausausausausausausausausausausausausausausausausausausausausausausausausausausausausausausausausausausausausausausausausausausausausausausausausausausausausausausausausausausausausausausausausausausausausausausausausausausausausausausausaus\n",
      "🔸 Reference: 賞味期限切れたヨーグルトを勇気出して食べる\n"
     ]
    },
    {
     "name": "stderr",
     "output_type": "stream",
     "text": [
      "\r",
      " 81%|████████  | 81/100 [01:22<00:41,  2.18s/it]"
     ]
    },
    {
     "name": "stdout",
     "output_type": "stream",
     "text": [
      "🔹 Predicted:  [Sounds of the \"Food\" by the \"Food\" by the \"Food\" by the \"Food\" by the \"Food\" by the \"Food\" by the \"Food\" by the \"Food\" by the \"Food\" by the \"Food\" by the \"Food\" by the \"Food\" by the \"Food\" by the \"Food\" by the \"Food\" by the \"Food\" by the \"Food\" by the \"Food\" by the \"Food\" by the \"Food\" by the \"Food\" by the \"Food\" by the \"Food\" by the \"Food\" by the \"Food\" by the \"Food\" by the \"Food\" by the \"Food\" by the \"Food\" by the \"Food\" by the \"Food\" by the \"Food\" by the \"Food\" by the \"Food\" by the \"Food\" by the \"Food\" by the \"Food\" by the \"Food\" by the \"Food\" by the \"Food\" by the \"Food\" by the \"Food\" by the \"Food\" by the \"Food\" by the \"Food\" by the \"Food\" by the \"Food\" by the \"Food\" by the \"Food\" by the \"Food\" by the \"Food\" by the \"Food\" by the \"Food\" by the \"Food\" by the \"Food\" by the \"Food\" by the \"Food\" by the \"Food\" by the \"Food\" by the \"Food\" by the \"Food\" by the \"Food\" by the \"Food\" by the \"Food\" by the \"Food\" by the \"Food\" by the \"Food\" by the \"Food\" by the \"Food\" by the \"Food\" by the \"Food\" by the \"Food\" by the \"Food\" by the \"\n",
      "🔸 Reference: 逆に我々は環境に作用するのである。\n",
      "🔹 Predicted:  [Music]\n",
      "🔸 Reference: みんなが言うほどそれほど安くもない\n"
     ]
    },
    {
     "name": "stderr",
     "output_type": "stream",
     "text": [
      "\r",
      " 83%|████████▎ | 83/100 [01:22<00:22,  1.32s/it]"
     ]
    },
    {
     "name": "stdout",
     "output_type": "stream",
     "text": [
      "🔹 Predicted:  Reversive of the same age as the same age as the same age.\n",
      "🔸 Reference: 我々の個人的自己に迫るものでなければならない。\n",
      "🔹 Predicted:  [Music]\n",
      "🔸 Reference: 抽象論理の立場からは、矛盾するものが結合するとはいわれないであろう。\n"
     ]
    },
    {
     "name": "stderr",
     "output_type": "stream",
     "text": [
      "\r",
      " 85%|████████▌ | 85/100 [01:23<00:12,  1.16it/s]"
     ]
    },
    {
     "name": "stdout",
     "output_type": "stream",
     "text": [
      "🔹 Predicted: スープンのスープンを取り出す\n",
      "🔸 Reference: ここの商店街もチェーン店が増えてきた\n"
     ]
    },
    {
     "name": "stderr",
     "output_type": "stream",
     "text": [
      "\r",
      " 86%|████████▌ | 86/100 [01:26<00:19,  1.39s/it]"
     ]
    },
    {
     "name": "stdout",
     "output_type": "stream",
     "text": [
      "🔹 Predicted: スシスシスシスシスシスシスシスシスシスシスシスシスシスシスシスシスシスシスシスシスシスシスシスシスシスシスシスシスシスシスシスシスシスシスシスシスシスシスシスシスシスシスシスシスシスシスシスシスシスシスシスシスシスシスシスシスシスシスシスシスシスシスシスシスシスシスシスシスシスシスシスシスシスシスシスシスシスシスシスシスシスシスシスシスシスシスシスシスシスシスシスシスシスシスシスシスシスシスシスシスシスシスシスシスシスシスシスシスシスシスシスシスシスシスシスシスシスシスシスシスシスシスシスシスシスシスシスシスシスシスシスシスシスシスシスシスシスシスシスシスシスシスシスシスシスシスシスシスシスシスシスシスシスシスシスシスシスシスシスシスシスシスシスシスシスシスシスシスシスシスシスシスシスシスシスシスシスシスシスシスシスシスシスシシスシシシシスシシシシスシシシシシシシシシシシシシシシシシシシシシシシシシシシシシシシシシシシシシシシシシシシシシシシシシシシシシシシシシシシシシシシシ\n",
      "🔸 Reference: 名古屋市瑞穂区\n",
      "🔹 Predicted:  [Sigh]\n",
      "🔸 Reference: 岡山県赤磐市\n"
     ]
    },
    {
     "name": "stderr",
     "output_type": "stream",
     "text": [
      "\r",
      " 88%|████████▊ | 88/100 [01:29<00:18,  1.50s/it]"
     ]
    },
    {
     "name": "stdout",
     "output_type": "stream",
     "text": [
      "🔹 Predicted: さぁ、さぁ、さぁ、さぁ、さぁ、さぁ、さぁ、さぁ、さぁ、さぁ、さぁ、さぁ、さぁ、さぁ、さぁ、さぁ、さぁ、さぁ、さぁ、さぁ、さぁ、さぁ、さぁ、さぁ、さぁ、さぁ、さぁ、さぁ、さぁ、さぁ、さぁ、さぁ、さぁ、さぁ、さぁ、さぁ、さぁ、さぁ、さぁ、さぁ、さぁ、さぁ、さぁ、さぁ、さぁ、さぁ、さぁ、さぁ、さぁ、さぁ、さぁ、さぁ、さぁ、さぁ、さぁ、さぁ、さぁ、さぁ、さぁ、さぁ、さぁ、さぁ、さぁ、さぁ、さぁ、さぁ、さぁ、さぁ、さぁ、さぁ、さぁ、さぁ、さぁ、さぁ、さぁ、さぁ、さぁ、さぁ、さぁ、さぁ、さぁ、さぁ、さぁ、さぁ、さぁ、さぁ、さぁ、さぁ、さぁ、さぁ、さぁ、さぁ、さぁ、さぁ、さぁ、さぁ、さぁ、さぁ、さぁ、さぁ、さぁ、さぁ、さぁ、さぁ、さぁ、さぁ、さぁ、さぁ、さぁ、さぁ、さぁ、さぁ、さぁ、さぁ、さぁ、さぁ、さぁ、さぁ、さぁ、さぁ、さぁ、さぁ、さぁ、さぁ、さぁ、さぁ、さぁ、さぁ、さぁ、さぁ、さぁ、さぁ、さぁ、さぁ、さぁ、さぁ、さぁ、さぁ、さぁ、さぁ、さぁ、さぁ、さぁ、さぁ、さぁ、さぁ、さぁ、さぁ、\n",
      "🔸 Reference: 新潟市秋葉区\n"
     ]
    },
    {
     "name": "stderr",
     "output_type": "stream",
     "text": [
      "\r",
      " 89%|████████▉ | 89/100 [01:33<00:20,  1.89s/it]"
     ]
    },
    {
     "name": "stdout",
     "output_type": "stream",
     "text": [
      "🔹 Predicted:  Herbalt an eilige Kaubeaubeaubeaubeaubeaubeaubeauaubeauaubeauauauauauauauauauauauauauauauauauauauauauauauauauauauauauauauauauauauauauauauauauauauauauauauauauauauauauauauauauauauauauauauauauauauauauauauauauauauauauauauauauauauauauauauauauauauauauauauauauauauauauauauauauauauauauauauauauauauauauauauauauauauauauauauauauauauauauauauauauauauauauauauauauauauauauauauauauauauauauauauauauauauauauauauauauauauauauauauauauauauauauauauauauauauauauauauauauauauauauauauauauauauauauauauauauauauauauauauauauauauauauauauauauauauauauauauauauauauauauauauauauauauauauauauauauauauauauauauauauauauauauauauauauauauauauauauauauauauauauauauauauauauauauauauauauauauauauauauauauauauauauauauauauauauauauauauauauauauauauauauauauauauauauauauauauauauauauauauauauauauauauauauauauauauauauauauauauauauauauauauauauauauauauauauauauauauauauauauauauauauauauauauauauauauauauauauauauauauauauauauauauauauauauauauauauauauauauauauau\n",
      "🔸 Reference: ああいう風雅なことがいまでも行なわれているのかどうかもしらず、\n",
      "🔹 Predicted:  [Song]\n",
      "🔸 Reference: 何でもいいから、笑わせておればいいのだ\n"
     ]
    },
    {
     "name": "stderr",
     "output_type": "stream",
     "text": [
      " 93%|█████████▎| 93/100 [01:36<00:08,  1.22s/it]"
     ]
    },
    {
     "name": "stdout",
     "output_type": "stream",
     "text": [
      "🔹 Predicted:  Kaltzung und Kaltzung der Kaltzung der Kaltzung der Kaltzung der Kaltzung der Kaltzung der Kaltzung der Kaltzung der Kaltzung der Kaltzung der Kaltzung der Kaltzung der Kaltzung der Kaltzung der Kaltzung der Kaltzung der Kaltzung der Kaltzung der Kaltzung der Kaltzung der Kaltzung der Kaltzung der Kaltzung der Kaltzung der Kaltzung der Kaltzung der Kaltzung der Kaltzung der Kaltzung der Kaltzung der Kaltzung der Kaltzung der Kaltzung der Kaltzung der Kaltzung der Kaltzung der Kaltzung der Kaltzung der Kaltzung der Kaltzung der Kaltzung der Kaltzung der Kaltzung der Kaltzung der Kaltzung der Kaltzung der Kaltzung der Kaltzung der Kaltzung der Kaltzung der Kaltzung der Kaltzung der Kaltzung der Kaltzung der Kaltzung der Kaltzung der Kaltzung der Kaltzung der Kaltzung der Kaltzung der Kaltzung der Kaltzung der Kaltzung der Kaltzung der Kaltzung der Kaltzung der Kaltzung der Kaltzung der Kaltzung der Kaltzung der Kaltzung der Kaltzung der Kaltzung der Kaltzung der Kaltzung der Kaltzung der Kaltzung der Kaltzung der Kaltzung der Kaltzung der Kaltzung der Kaltzung der Kaltzung der Kaltzung der Kaltzung der Kaltzung der Kaltzung der Kaltzung\n",
      "🔸 Reference: ただ彼の掌に載せられてスーと持ち上げられた時何だかフワフワした感じがあったばかりである\n",
      "🔹 Predicted:  [Sigh]\n",
      "🔸 Reference: 幕末の漢学者の塾に入れました\n",
      "🔹 Predicted: ままままままままままま\n",
      "🔸 Reference: 山口県山口市\n",
      "🔹 Predicted:  [Sigh]\n",
      "🔸 Reference: 君は図書館に行こうと思う、と声を上げた\n"
     ]
    },
    {
     "name": "stderr",
     "output_type": "stream",
     "text": [
      " 96%|█████████▌| 96/100 [01:40<00:04,  1.13s/it]"
     ]
    },
    {
     "name": "stdout",
     "output_type": "stream",
     "text": [
      "🔹 Predicted: 沙dener der Kaukekaukekaukekaukekaukekaukekaukekaukekaukekaukekaukekaukekaukekaukekaukekaukekaukekaukekaukekaukekaukekaukekaukekaukekaukekaukekaukekaukekaukekaukekaukekaukekaukekaukekaukekaukekaukekaukekaukekaukekaukekaukekaukekaukekaukekaukekaukekaukekaukekaukekaukekaukekaukekaukekaukekaukekaukekaukekaukekaukekaukekaukekaukekaukekaukekaukekaukekaukekaukekaukekaukekaukekaukekaukekaukekaukekaukekaukekaukekaukekaukekaukekaukekaukekaukekaukekaukekaukekaukekaukekaukekaukekaukekaukekaukekaukekaukekaukekaukekaukekaukekaukekaukekaukekaukekaukekaukekaukekaukekaukekaukekaukekaukekaukekaukekaukekaukekaukekaukekaukekaukekaukekaukekaukekaukekaukekaukekaukekaukekaukekaukekaukekaukekaukekaukekaukekaukekaukekaukekaukekaukekaukekaukekaukekaukekaukek\n",
      "🔸 Reference: 知り合ったときのことは忘れた\n",
      "🔹 Predicted:  Oh, that was a good one.\n",
      "🔸 Reference: どうも変な家だ\n",
      "🔹 Predicted:  [Music]\n",
      "🔸 Reference: どこか怪談じみた気味悪いものが感ぜられて来るのである\n"
     ]
    },
    {
     "name": "stderr",
     "output_type": "stream",
     "text": [
      "\r",
      " 98%|█████████▊| 98/100 [01:40<00:01,  1.32it/s]"
     ]
    },
    {
     "name": "stdout",
     "output_type": "stream",
     "text": [
      "🔹 Predicted:  [Spanish]\n",
      "🔸 Reference: 不意に人間のおそろしい正体を、怒りに依って暴露する様子を見て、\n"
     ]
    },
    {
     "name": "stderr",
     "output_type": "stream",
     "text": [
      "100%|██████████| 100/100 [01:43<00:00,  1.04s/it]"
     ]
    },
    {
     "name": "stdout",
     "output_type": "stream",
     "text": [
      "🔹 Predicted: 彼は彼は彼は彼は彼は彼は彼は彼は彼は彼は彼は彼は彼は彼は彼は彼は彼は彼は彼は彼は彼は彼は彼は彼は彼は彼は彼は彼は彼は彼は彼は彼は彼は彼は彼は彼は彼は彼は彼は彼は彼は彼は彼は彼は彼は彼は彼は彼は彼は彼は彼は彼は彼は彼は彼は彼は彼は彼は彼は彼は彼は彼は彼は彼は彼は彼は彼は彼は彼は彼は彼は彼は彼は彼は彼は彼は彼は彼は彼は彼は彼は彼は彼は彼は彼は彼は彼は彼は彼は彼は彼は彼は彼は彼は彼は彼は彼は彼は彼は彼は彼は彼は彼は彼は彼は彼は彼は彼は彼は彼は彼は彼は彼は彼は彼は彼は彼は彼は彼は彼は彼は彼は彼は彼は彼は彼は彼は彼は彼は彼は彼は彼は彼は彼は彼は彼は彼は彼は彼は彼は彼は彼は彼は彼は彼は彼は彼は彼は\n",
      "🔸 Reference: 人間のつましさに暗然とし、悲しい思いをしました\n",
      "🔹 Predicted:  Group time is a little noisy, but this is a little noisy.\n",
      "🔸 Reference: はてな何でも様子がおかしいと、のそのそ這い出して見ると非常に痛い\n"
     ]
    },
    {
     "name": "stderr",
     "output_type": "stream",
     "text": [
      "\n"
     ]
    },
    {
     "name": "stdout",
     "output_type": "stream",
     "text": [
      "✅ JA WER: 31.3300\n",
      "🌍 Language: de\n"
     ]
    },
    {
     "name": "stderr",
     "output_type": "stream",
     "text": [
      "  1%|          | 1/100 [00:00<00:11,  8.89it/s]"
     ]
    },
    {
     "name": "stdout",
     "output_type": "stream",
     "text": [
      "🔹 Predicted:  Und ich zu kurz in der Mitte.\n",
      "🔸 Reference: Kanntest du das Gedicht schon?\n"
     ]
    },
    {
     "name": "stderr",
     "output_type": "stream",
     "text": [
      "  3%|▎         | 3/100 [00:00<00:23,  4.06it/s]"
     ]
    },
    {
     "name": "stdout",
     "output_type": "stream",
     "text": [
      "🔹 Predicted:  Schöner Schöner Schöner Schöner Schöner Schöner Schöner Schöner Schöner\n",
      "🔸 Reference: Hallo, möchten Sie auch zur Sprechstunde?\n",
      "🔹 Predicted:  Znachem Scherzenberg und Scherzenberg.\n",
      "🔸 Reference: Gott sei Dank haben wir noch ein letztes Ass im Ärmel.\n"
     ]
    },
    {
     "name": "stderr",
     "output_type": "stream",
     "text": [
      "\r",
      "  5%|▌         | 5/100 [00:00<00:14,  6.34it/s]"
     ]
    },
    {
     "name": "stdout",
     "output_type": "stream",
     "text": [
      "🔹 Predicted:  [Spanish]\n",
      "🔸 Reference: Wenn zu einem Passagierflugzeug der Funkkontakt abbricht, starten routinemäßig zwei Abfangjäger.\n",
      "🔹 Predicted:  [Spanish]\n",
      "🔸 Reference: Sie wurde der Heeresgruppe Linsingen unterstellt.\n",
      "🔹 Predicted:  [Music]\n",
      "🔸 Reference: Unter anderen Habseligkeiten ist dort ein Schwein auf dem Floß zu erkennen.\n"
     ]
    },
    {
     "name": "stderr",
     "output_type": "stream",
     "text": [
      "\r",
      "  7%|▋         | 7/100 [00:01<00:14,  6.52it/s]"
     ]
    },
    {
     "name": "stdout",
     "output_type": "stream",
     "text": [
      "🔹 Predicted:  And then the first time I was born in the same time as the first time I was born in the same time.\n",
      "🔸 Reference: Angrenzende Wiesen rechts der Ostrach wurden überflutet.\n"
     ]
    },
    {
     "name": "stderr",
     "output_type": "stream",
     "text": [
      "\r",
      "  8%|▊         | 8/100 [00:01<00:15,  5.83it/s]"
     ]
    },
    {
     "name": "stdout",
     "output_type": "stream",
     "text": [
      "🔹 Predicted:  Ever since the first time I was born in the same time as the first time I was born in the same time.\n",
      "🔸 Reference: Dadurch konnte jedes U-Boot zum Legen von Minen eingesetzt werden.\n",
      "🔹 Predicted:  [Music]\n",
      "🔸 Reference: Er verdiente sich selbst als Star noch Geld als Callboy.\n"
     ]
    },
    {
     "name": "stderr",
     "output_type": "stream",
     "text": [
      "\r",
      " 10%|█         | 10/100 [00:04<01:11,  1.26it/s]"
     ]
    },
    {
     "name": "stdout",
     "output_type": "stream",
     "text": [
      "🔹 Predicted:  Anavarusha, Zubarusha, Zubarusha, Zubarusha, Zubarusha, Zubarusha, Zubarusha, Zubarusha, Zubarusha, Zubarusha, Zubarusha, Zubarusha, Zubarusha, Zubarusha, Zubarusha, Zubarusha, Zubarusha, Zubarusha, Zubarusha, Zubarusha, Zubarusha, Zubarusha, Zubarusha, Zubarusha, Zubarusha, Zubarusha, Zubarusha, Zubarusha, Zubarusha, Zubarusha, Zubarusha, Zubarusha, Zubarusha, Zubarusha, Zubarusha, Zubarusha, Zubarusha, Zubarusha, Zubarusha, Zubarusha, Zubarusha, Zubarusha, Zubarusha, Zubarusha, Zubarusha, Zubarusha, Zubarusha, Zubarusha, Zubarusha, Zubarusha, Zubarusha, Zubarusha, Zubarusha, Zubarusha, Zubarusha, Zubarusha, Zubarusha, Zubarusha, Zubarusha, Zubarusha, Zubarusha, Zubarusha, Zubarusha, Zubarusha, Zubarusha, Zubarusha, Zubarusha, Zubarusha, Zubarusha, Zubarusha, Zubarusha, Zubarusha, Zubarusha, Zubarusha,\n",
      "🔸 Reference: In der mexikanischen Volksmedizin finden sich Traditionen der aztekischen Medizin.\n"
     ]
    },
    {
     "name": "stderr",
     "output_type": "stream",
     "text": [
      "\r",
      " 11%|█         | 11/100 [00:08<02:02,  1.38s/it]"
     ]
    },
    {
     "name": "stdout",
     "output_type": "stream",
     "text": [
      "🔹 Predicted:  Verschüsse im Tundereck und der Faltes und der Faltes und der Faltes und der Faltes und der Faltes und der Faltes und der Faltes und der Faltes und der Faltes und der Faltes und der Faltes und der Faltes und der Faltes und der Faltes und der Faltes und der Faltes und der Faltes und der Faltes und der Faltes und der Faltes und der Faltes und der Faltes und der Faltes und der Faltes und der Faltes und der Faltes und der Faltes und der Faltes und der Faltes und der Faltes und der Faltes und der Faltes und der Faltes und der Faltes und der Faltes und der Faltes und der Faltes und der Faltes und der Faltes und der Faltes und der Faltes und der Faltes und der Faltes und der Faltes und der Faltes und der Faltes und der Faltes und der Faltes und der Faltes und der Faltes und der Faltes und der Faltes und der Faltes und der Faltes und der Faltes und der Faltes und der Faltes und der Faltes und der Faltes und der Faltes und der Faltes und der Faltes und der Faltes und der Faltes und der Faltes und der Faltes und der Faltes und der Faltes und der Faltes und der Faltes und der Faltes und der Faltes und der Faltes und der Faltes und der Faltes und der Faltes und der Faltes und der Faltes und der Faltes und der Faltes und der Faltes und der Faltes und der Faltes und der Faltes und der Faltes und der Faltes und der Faltes\n",
      "🔸 Reference: Dabei stieß er auf eine Gruppe, deren Periode ungewöhnlich langsam abnimmt.\n",
      "🔹 Predicted:  [Sigh]\n",
      "🔸 Reference: Quinn ahnt, dass Suzuki ein Geheimnis verbirgt.\n"
     ]
    },
    {
     "name": "stderr",
     "output_type": "stream",
     "text": [
      "\r",
      " 13%|█▎        | 13/100 [00:09<01:31,  1.05s/it]"
     ]
    },
    {
     "name": "stdout",
     "output_type": "stream",
     "text": [
      "🔹 Predicted:  Schiffesauzee des Schiffesauzee des Schiffesauzee des Schiffesauzee des Schiffesauzee des Schiffesauzee des Schiffesauzee des Schiffesauzee des Schiffesauzee des Schiffesauzee des Schiffesauzee des Schiffesauzee des Schiffesauzee des Schiffesauzee des Schiffesauzee des Schiffesauzee des Schiffesauzee des Schiffesauzee des Schiffesauzee\n",
      "🔸 Reference: Zwei weitere Kinder waren bereits vor Alberti verstorben.\n"
     ]
    },
    {
     "name": "stderr",
     "output_type": "stream",
     "text": [
      "\r",
      " 14%|█▍        | 14/100 [00:12<02:13,  1.55s/it]"
     ]
    },
    {
     "name": "stdout",
     "output_type": "stream",
     "text": [
      "🔹 Predicted:  Konflaschenspieler und der Schiff der Schiff der Schiff der Schiff der Schiff der Schiff der Schiff der Schiff der Schiff der Schiff der Schiff der Schiff der Schiff der Schiff der Schiff der Schiff der Schiff der Schiff der Schiff der Schiff der Schiff der Schiff der Schiff der Schiff der Schiff der Schiff der Schiff der Schiff der Schiff der Schiff der Schiff der Schiff der Schiff der Schiff der Schiff der Schiff der Schiff der Schiff der Schiff der Schiff der Schiff der Schiff der Schiff der Schiff der Schiff der Schiff der Schiff der Schiff der Schiff der Schiff der Schiff der Schiff der Schiff der Schiff der Schiff der Schiff der Schiff der Schiff der Schiff der Schiff der Schiff der Schiff der Schiff der Schiff der Schiff der Schiff der Schiff der Schiff der Schiff der Schiff der Schiff der Schiff der Schiff der Schiff der Schiff der Schiff der Schiff der Schiff der Schiff der Schiff der Schiff der Schiff der Schiff der Schiff der Schiff der Schiff der Schiff der Schiff der Schiff der Schiff der Schiff der Schiff der Schiff der Schiff der Schiff der Schiff der Schiff der Schiff der Schiff der Schiff der Schiff der Schiff der Schiff der Schiff der Schiff der Schiff der Schiff der Schiff der Schiff der Schiff der Schiff der Schiff der Schiff der Schiff der Schiff der Schiff der Schiff der Schiff der Schiff der Schiff der Schiff der Schiff der Schiff der Schiff der Schiff der Schiff der Schiff der Schiff der Schiff der Schiff der Schiff der Schiff der Schiff der Schiff der Schiff der Schiff der Schiff der Schiff der Schiff der Schiff der Schiff der Schiff der Schiff der Schiff der Schiff der\n",
      "🔸 Reference: Die Einkünfte aus dem Sägewerk ermöglichten es Lorenc, als freier Schriftsteller tätig zu werden.\n",
      "🔹 Predicted:  [Sigh]\n",
      "🔸 Reference: Es tut mir leid, aber ich habe verschlafen.\n"
     ]
    },
    {
     "name": "stderr",
     "output_type": "stream",
     "text": [
      " 17%|█▋        | 17/100 [00:13<01:08,  1.21it/s]"
     ]
    },
    {
     "name": "stdout",
     "output_type": "stream",
     "text": [
      "🔹 Predicted:  Schlein und schlein und schlein und schlein.\n",
      "🔸 Reference: Nächstes Mal werde ich nicht bei Gundula Kircher mitfahren.\n",
      "🔹 Predicted:  Verschurchteau des Verstands und die Verstands und die Verstands.\n",
      "🔸 Reference: Ich lese vor, du machst im Hintergrund die Beatbox, okay?\n"
     ]
    },
    {
     "name": "stderr",
     "output_type": "stream",
     "text": [
      "\r",
      " 18%|█▊        | 18/100 [00:13<00:54,  1.50it/s]"
     ]
    },
    {
     "name": "stdout",
     "output_type": "stream",
     "text": [
      "🔹 Predicted:  Her name is also known as the \"Ferry\".\n",
      "🔸 Reference: Warum verstehen Männer und Frauen sich einander so schlecht?\n"
     ]
    },
    {
     "name": "stderr",
     "output_type": "stream",
     "text": [
      "\r",
      " 19%|█▉        | 19/100 [00:16<01:47,  1.33s/it]"
     ]
    },
    {
     "name": "stdout",
     "output_type": "stream",
     "text": [
      "🔹 Predicted: 彼此与我同学的学生学生学生学生学生学生学生学生学生学生学生学生学生学生学生学生学生学生学生学生学生学生学生学生学生学生学生学生学生学生学生学生学生学生学生学生学生学生学生学生学生学生学生学生学生学生学生学生学生学生学生学生学生学生学生学生学生学生学生学生学生学生学生学生学生学生学生学生学生学生学生学生学生学生学生学生学生学生学生学生学生学生学生学生学生学生学生学生学生学生学生学生学生学生学生学生学生学生学生学生学生学生学生学生学生学生学生学生学生学生学生学生学生学生学生学生学生学生学生学生学生学生学生学生学生学生学生学生学生学生学生学生学生学生学生学生学生学生学生学生学生学生学生学生学生学生学生学生学生学生学生学生学生学生学生学生学生学生学生学生学生学生学生学生学生学生学生学生学生学生学生学生学生学生学生学生学生学生学生学生学生学生学生学生学生学生学生学生学生学生学生学生学生学生学生学生学生学生学生学生学生学生学生学生学生学生学生学生学生学生学生学生学生学生学生学生学生学\n",
      "🔸 Reference: Heidenau liegt nordwestlich des Naturparks Lüneburger Heide.\n"
     ]
    },
    {
     "name": "stderr",
     "output_type": "stream",
     "text": [
      "\r",
      " 20%|██        | 20/100 [00:16<01:24,  1.06s/it]"
     ]
    },
    {
     "name": "stdout",
     "output_type": "stream",
     "text": [
      "🔹 Predicted:  Versuchung und der Versuchung der Versuchung des Versuchens des Versuchens des Versuchens des Versuchens des Versuchens des\n",
      "🔸 Reference: Mit diesem Verein konnte er bereits in jungen Jahren erste nationale Erfolge feiern.\n"
     ]
    },
    {
     "name": "stderr",
     "output_type": "stream",
     "text": [
      " 22%|██▏       | 22/100 [00:20<01:38,  1.26s/it]"
     ]
    },
    {
     "name": "stdout",
     "output_type": "stream",
     "text": [
      "🔹 Predicted:  Scherbeerbeerbeerbeerbeerbeerbeerbeerbeerbeerbeerbeerbeerbeerbeerbeerbeerbeerbeerbeerbeerbeerbeerbeerbeerbeerbeerbeerbeerbeerbeerbeerbeerbeerbeerbeerbeerbeerbeerbeerbeerbeerbeerbeerbeerbeerbeerbeerbeerbeerbeerbeerbeerbeerbeerbeerbeerbeerbeerbeerbeerbeerbeerbeerbeerbeerbeerbeerbeerbeerbeerbeerbeerbeerbeerbeerbeerbeerbeerbeerbeerbeerbeerbeerbeerbeerbeerbeerbeerbeerbeerbeerbeerbeerbeerbeerbeerbeerbeerbeerbeerbeerbeerbeerbeerbeerbeerbeerbeerbeerbeerbeerbeerbeerbeerbeerbeerbeerbeerbeerbeerbeerbeerbeerbeerbeerbeerbeerbeerbeerbeerbeerbeerbeerbeerbeerbeerbeerbeerbeerbeerbeerbeerbeerbeerbeerbeerbeerbebeerbebeerbebeerbebeerbebeerbebebebebebebebebebebebebebebebebebebebebebebebebebebebebebebebebebebebebebebebebebebebebebebebebebebebebebebebebebebebebebebebebebebebebebebebebebebebebebebebebebebebebebebebebebebebebebebebebebebebebebebebebebebebebebebebebebebebebebebebebebebebebebebebebebebe\n",
      "🔸 Reference: Sie hat zwei Töchter und drei Enkelsöhne.\n",
      "🔹 Predicted:  Schreit der Schrock und Schreit der Schrock.\n",
      "🔸 Reference: Zahlreiche technische Erfindungen ermöglichten Neuerungen.\n"
     ]
    },
    {
     "name": "stderr",
     "output_type": "stream",
     "text": [
      "\r",
      " 23%|██▎       | 23/100 [00:23<02:22,  1.85s/it]"
     ]
    },
    {
     "name": "stdout",
     "output_type": "stream",
     "text": [
      "🔹 Predicted:  Gertritte und der Faltreund der Faltreund der Faltreund der Faltreund der Faltreund der Faltreund der Faltreund der Faltreund der Faltreund der Faltreund der Faltreund der Faltreund der Faltreund der Faltreund der Faltreund der Faltreund der Faltreund der Faltreund der Faltreund der Faltreund der Faltreund der Faltreund der Faltreund der Faltreund der Faltreund der Faltreund der Faltreund der Faltreund der Faltreund der Faltreund der Faltreund der Faltreund der Faltreund der Faltreund der Faltreund der Faltreund der Faltreund der Faltreund der Faltreund der Faltreund der Faltreund der Faltreund der Faltreund der Faltreund der Faltreund der Faltreund der Faltreund der Faltreund der Faltreund der Faltreund der Faltreund der Faltreund der Faltreund der Faltreund der Faltreund der Faltreund der Faltreund der Faltreund der Faltreund der Faltreund der Faltreund der Faltreund der Faltreund der Faltreund der Faltreund der Faltreund der Faltreund der Faltreund der Faltreund der Faltreund der Faltreund der Faltreund der Faltreund der Faltreund der Faltreund der Faltreund der Faltreund der Faltreund der Faltreund der Faltreund der Faltreund der Faltreund der Faltreund der Faltreund der Faltreund der Faltreund der Faltreund der Faltre\n",
      "🔸 Reference: Dort lagerte neben Munition auch anderes Material der Bundeswehr.\n",
      "🔹 Predicted:  I want to talk about the first time I've seen the first time I've seen the first time.\n",
      "🔸 Reference: Der europäische Zweig wird von Wien aus gesteuert.\n"
     ]
    },
    {
     "name": "stderr",
     "output_type": "stream",
     "text": [
      " 26%|██▌       | 26/100 [00:24<01:00,  1.22it/s]"
     ]
    },
    {
     "name": "stdout",
     "output_type": "stream",
     "text": [
      "🔹 Predicted:  [Sieke's voice]\n",
      "🔸 Reference: Hiermit wird Speicherplatz für die Schlüssel gespart.\n",
      "🔹 Predicted:  The first year in the summer and the second year in the summer, the first year in the summer.\n",
      "🔸 Reference: Danach war er Jugendtrainer und später Co-Trainer bei seinem Stammverein.\n",
      "🔹 Predicted:  relationship.\n",
      "🔸 Reference: Anschließend kehrte er zurück in die Schweiz.\n"
     ]
    },
    {
     "name": "stderr",
     "output_type": "stream",
     "text": [
      "\r",
      " 28%|██▊       | 28/100 [00:27<01:23,  1.16s/it]"
     ]
    },
    {
     "name": "stdout",
     "output_type": "stream",
     "text": [
      "🔹 Predicted: そのまま、そのまま、そのまま、そのまま、そのまま、そのまま、そのまま、そのまま、そのまま、そのまま、そのまま、そのまま、そのまま、そのまま、そのまま、そのまま、そのまま、そのまま、そのまま、そのまま、そのまま、そのまま、そのまま、そのまま、そのまま、そのまま、そのまま、そのまま、そのまま、そのまま、そのまま、そのまま、そのまま、そのまま、そのまま、そのまま、そのまま、そのまま、そのままま、そのまままままままままままままままままままままままままままままままままままままままままままままままままままままままままままままままままままままままままままままままままままままままままままままままままままままままままままままままままままままままままままままままままままままままままままままままままままままままままままままままままままままままままままままままままままままままままままままままままままままままままままままままままままままままままままままままままままままままままままままままままままままままままままままままままままままままままままままままままままままままままままままま\n",
      "🔸 Reference: Es wird empfohlen, die ausgeschilderten Wege zu benutzen.\n",
      "🔹 Predicted:  [Sigh]\n",
      "🔸 Reference: Sie blüht von Juni bis August.\n",
      "🔹 Predicted:  I've been to the other side of the house.\n",
      "🔸 Reference: Er war der Vater der Brüder Grimm.\n"
     ]
    },
    {
     "name": "stderr",
     "output_type": "stream",
     "text": [
      " 31%|███       | 31/100 [00:27<00:44,  1.55it/s]"
     ]
    },
    {
     "name": "stdout",
     "output_type": "stream",
     "text": [
      "🔹 Predicted:  I think that's what I'm talking about.\n",
      "🔸 Reference: Er produziert und schreibt seine Drehbücher überwiegend für Fernsehserien.\n"
     ]
    },
    {
     "name": "stderr",
     "output_type": "stream",
     "text": [
      " 33%|███▎      | 33/100 [00:31<01:06,  1.01it/s]"
     ]
    },
    {
     "name": "stdout",
     "output_type": "stream",
     "text": [
      "🔹 Predicted:  Schauhrer der Föder der Föder der Föder der Föder der Föder der Föder der Föder der Föder der Föder der Föder der Föder der Föder der Föder der Föder der Föder der Föder der Föder der Föder der Föder der Föder der Föder der Föder der Föder der Föder der Föder der Föder der Föder der Föder der Föder der Föder der Föder der Föder der Föder der Föder der Föder der Föder der Föder der Föder der Föder der Föder der Föder der Föder der Föder der Föder der Föder der Föder der Föder der Föder der Föder der Föder der Föder der Föder der Föder der Föder der Föder der Föder der Föder der Föder der Föder der Föder der Föder der Föder der Föder der Föder der Föder der Föder der Föder der Föder der Föder der Föder der Föder der Föder der Föder der Föder der Föder der Föder der Föder der Föder der Föder der Föder der Föder der Föder der Föder der Föder der Föder der Föder der Föder der Föder der Föder der Föder der Föder der Föder der Föder der Föder der Föder der Föder der Föder der Föder der Föder der Föder der Föder der Föder der Föder der Föder der Föder der Föder der Föder der Föder der Föder der Föder\n",
      "🔸 Reference: Diese Trainingsmethode zielt auf ein komplexes Training ab.\n",
      "🔹 Predicted:  Versus Konflasperium und Versus Konflasperium.\n",
      "🔸 Reference: Daher solle Großbritannien nicht am Krieg teilnehmen.\n"
     ]
    },
    {
     "name": "stderr",
     "output_type": "stream",
     "text": [
      " 35%|███▌      | 35/100 [00:31<00:39,  1.65it/s]"
     ]
    },
    {
     "name": "stdout",
     "output_type": "stream",
     "text": [
      "🔹 Predicted:  The first thing that was used was the first time I was in the hospital.\n",
      "🔸 Reference: König Mattias Hunyadi wird als Herausgeber dieser Goldmünze genannt.\n",
      "🔹 Predicted: 一切与的军事与的军事\n",
      "🔸 Reference: Das Mühlengebäude ist ein rechteckiger Fachwerkbau mit Satteldach.\n",
      "🔹 Predicted:  [Sigh]\n",
      "🔸 Reference: Die Kirche ist ein rechteckiger Putzbau unter Satteldach.\n"
     ]
    },
    {
     "name": "stderr",
     "output_type": "stream",
     "text": [
      " 39%|███▉      | 39/100 [00:35<00:43,  1.41it/s]"
     ]
    },
    {
     "name": "stdout",
     "output_type": "stream",
     "text": [
      "🔹 Predicted:  Schauß und anscheinend auf die Siehrer der Siehrer der Siehrer der Siehrer der Siehrer der Siehrer der Siehrer der Siehrer der Siehrer der Siehrer der Siehrer der Siehrer der Siehrer der Siehrer der Siehrer der Siehrer der Siehrer der Siehrer der Siehrer der Siehrer der Siehrer der Siehrer der Siehrer der Siehrer der Siehrer der Siehrer der Siehrer der Siehrer der Siehrer der Siehrer der Siehrer der Siehrer der Siehrer der Siehrer der Siehrer der Siehrer der Siehrer der Siehrer der Siehrer der Siehrer der Siehrer der Siehrer der Siehrer der Siehrer der Siehrer der Siehrer der Siehrer der Siehrer der Siehrer der Siehrer der Siehrer der Siehrer der Siehrer der Siehrer der Siehrer der Siehrer der Siehrer der Siehrer der Siehrer der Siehrer der Siehrer der Siehrer der Siehrer der Siehrer der Siehrer der Siehrer der Siehrer der Siehrer der Siehrer der Siehrer der Siehrer der Siehrer der Siehrer der Siehrer der Siehrer der Siehrer der Siehrer der Siehrer der Siehrer der Siehrer der Siehrer der Siehrer der Siehrer der Siehrer der Siehrer der Siehrer der Siehrer\n",
      "🔸 Reference: Zwölf Interpreten wurden dann bestimmt am Vorentscheid teilnehmen.\n",
      "🔹 Predicted:  [Sigh]\n",
      "🔸 Reference: Die beiden kommen auf das Weibliche zu sprechen.\n",
      "🔹 Predicted:  You just have to be careful.\n",
      "🔸 Reference: Am sichersten ist mein Geld unterm Kopfkissen.\n"
     ]
    },
    {
     "name": "stderr",
     "output_type": "stream",
     "text": [
      " 41%|████      | 41/100 [00:35<00:28,  2.06it/s]"
     ]
    },
    {
     "name": "stdout",
     "output_type": "stream",
     "text": [
      "🔹 Predicted:  I'm just gonna be a little bit more focused on the next one.\n",
      "🔸 Reference: Vier Jahre lange saß ich unschuldig im Knast.\n",
      "🔹 Predicted:  Feltin der Säger und der Schleppel.\n",
      "🔸 Reference: Für ein paar Schilling haben sie die Funde damals verhökert.\n"
     ]
    },
    {
     "name": "stderr",
     "output_type": "stream",
     "text": [
      "\r",
      " 42%|████▏     | 42/100 [00:35<00:24,  2.35it/s]"
     ]
    },
    {
     "name": "stdout",
     "output_type": "stream",
     "text": [
      "🔹 Predicted: 一番矛盾の一つの一つの矛盾の矛盾について、\n",
      "🔸 Reference: Man sollte den Gegner gar nicht erst so ungestört in den Strafraum kommen lassen.\n",
      "🔹 Predicted:  A perch was washed.\n",
      "🔸 Reference: Dabei sollten wir es belassen.\n"
     ]
    },
    {
     "name": "stderr",
     "output_type": "stream",
     "text": [
      "\r",
      " 44%|████▍     | 44/100 [00:36<00:17,  3.27it/s]"
     ]
    },
    {
     "name": "stdout",
     "output_type": "stream",
     "text": [
      "🔹 Predicted:  Versuchung des Schroes und des Schroes des Schroes des Schroes.\n",
      "🔸 Reference: Der Film befindet sich aktuell in der Postproduktion.\n"
     ]
    },
    {
     "name": "stderr",
     "output_type": "stream",
     "text": [
      " 47%|████▋     | 47/100 [00:39<00:33,  1.58it/s]"
     ]
    },
    {
     "name": "stdout",
     "output_type": "stream",
     "text": [
      "🔹 Predicted:  Schöter Schöter Schöter Schöter Schöter Schöter Schöter Schöter Schöter Schöter Schöter Schöter Schöter Schöter Schöter Schöter Schöter Schöter Schöter Schöter Schöter Schöter Schöter Schöter Schöter Schöter Schöter Schöter Schöter Schöter Schöter Schöter Schöter Schöter Schöter Schöter Schöter Schöter Schöter Schöter Schöter Schöter Schöter Schöter Schöter Schöter Schöter Schöter Schöter Schöter Schöter Schöter Schöter Schöter Schöter Schöter Schöter Schöter Schöter Schöter Schöter Schöter Schöter Schöter Schöter Schöter Schöter Schöter Schöter Schöter Schöter Schöter Schöter Schöter Schöter Schöter Schöter Schöter Schöter Schöter Schöter Schöter Schöter Schöter Schöter Schöter Schöter Schöter Schöter Schöter Schöter Schöter Schöter Schöter Schöter Schöter Schöter Schöter Schöter Schöter Schöter Schöter Schöter Schöter Schöter Schöter Schöter Schöter Schöter Schöter Schöter Schöter Schöter Schöter Schöter Schöter Schöter Schöter Schöter Schöter Schöter Schöter Schöter Schöter Schöter Schöter Schöter Schöter Schöter Schöter Schöter Schöter Schöter Schöter Schöter Schöter Schöter Schöter Schöter Schöter Schöter Schöter Schöter Schöter Schöter Schöter Schöter Schöter\n",
      "🔸 Reference: Seit Eröffnung gibt es Beschwerden über die Lärmbelästigung durch den Bahnhof.\n",
      "🔹 Predicted:  [Sigh]\n",
      "🔸 Reference: Am Strand stehen Strandkörbe.\n",
      "🔹 Predicted:  [Spanish]\n",
      "🔸 Reference: Die Ostwand zeigt zwischen zwei seitlichen Engelsfiguren das Altarblatt hl.\n"
     ]
    },
    {
     "name": "stderr",
     "output_type": "stream",
     "text": [
      " 49%|████▉     | 49/100 [00:43<00:49,  1.03it/s]"
     ]
    },
    {
     "name": "stdout",
     "output_type": "stream",
     "text": [
      "🔹 Predicted: 一番矛盾的一番矛盾的矛盾矛盾的矛盾矛盾的矛盾矛盾的矛盾矛盾矛盾的矛盾矛盾矛盾矛盾矛盾矛盾矛盾矛盾矛盾矛盾矛盾矛盾矛盾矛盾矛盾矛盾矛盾矛盾矛盾矛盾矛盾矛盾矛盾矛盾矛盾矛盾矛盾矛盾矛盾矛盾矛盾矛盾矛盾矛盾矛盾矛盾矛盾矛盾矛盾矛盾矛盾矛盾矛盾矛盾矛盾矛盾矛盾矛盾矛盾矛盾矛盾矛盾矛盾矛盾矛盾矛盾矛盾矛盾矛盾矛盾矛盾矛盾矛盾矛盾矛盾矛盾矛盾矛盾矛盾矛盾矛盾矛盾矛盾矛盾矛盾矛盾矛盾矛盾矛盾矛盾矛盾矛盾矛盾矛盾矛盾矛盾矛盾矛盾矛盾矛盾矛盾矛盾矛盾矛盾矛盾矛盾矛盾矛\n",
      "🔸 Reference: Der Innenraum wurde mit einer Holzdecke in Form eines umgekehrten Schiffsrumpfes gedeckt.\n",
      "🔹 Predicted:  Zenehmannes und Zenehmannes und Zenehmannes\n",
      "🔸 Reference: Vor den Sitzreihen stand ein Pult aus massiver Buche.\n"
     ]
    },
    {
     "name": "stderr",
     "output_type": "stream",
     "text": [
      "\r",
      " 51%|█████     | 51/100 [00:43<00:29,  1.65it/s]"
     ]
    },
    {
     "name": "stdout",
     "output_type": "stream",
     "text": [
      "🔹 Predicted:  [Song]\n",
      "🔸 Reference: Was heißt das auf Romanes?\n",
      "🔹 Predicted:  [Sigh]\n",
      "🔸 Reference: Ja, das habe ich auch schon versucht, aber das bringt nichts.\n",
      "🔹 Predicted:  [S Music]\n",
      "🔸 Reference: An der Pastatheke wird Nachschub benötigt.\n"
     ]
    },
    {
     "name": "stderr",
     "output_type": "stream",
     "text": [
      " 55%|█████▌    | 55/100 [00:43<00:13,  3.40it/s]"
     ]
    },
    {
     "name": "stdout",
     "output_type": "stream",
     "text": [
      "🔹 Predicted:  Love is a lovely place.\n",
      "🔸 Reference: Verschlafen rieb er sich die Augen.\n",
      "🔹 Predicted: (笑)\n",
      "🔸 Reference: Die Weihnachtsgeschichte beginnt mit einer Volkszählung.\n",
      "🔹 Predicted: ん\n",
      "🔸 Reference: Schau mal in der Legende nach.\n",
      "🔹 Predicted:  [Sigh]\n",
      "🔸 Reference: Kann ich auch so einen Lutscher haben?\n"
     ]
    },
    {
     "name": "stderr",
     "output_type": "stream",
     "text": [
      "\r",
      " 57%|█████▋    | 57/100 [00:43<00:09,  4.53it/s]"
     ]
    },
    {
     "name": "stdout",
     "output_type": "stream",
     "text": [
      "🔹 Predicted:  [Sigh]\n",
      "🔸 Reference: Reg dich nicht auf.\n",
      "🔹 Predicted:  There's no need to be a little bit more careful than the other one.\n",
      "🔸 Reference: Das gelang erst dem englischen Physiker James Chadwick, als er die Experimente wiederholte.\n"
     ]
    },
    {
     "name": "stderr",
     "output_type": "stream",
     "text": [
      "\r",
      " 59%|█████▉    | 59/100 [00:44<00:08,  4.89it/s]"
     ]
    },
    {
     "name": "stdout",
     "output_type": "stream",
     "text": [
      "🔹 Predicted: アナスループのイベントを使っているので、\n",
      "🔸 Reference: In den folgenden drei Abschnitten sind diese der Übersicht halber ausgespart.\n"
     ]
    },
    {
     "name": "stderr",
     "output_type": "stream",
     "text": [
      "\r",
      " 61%|██████    | 61/100 [00:47<00:26,  1.47it/s]"
     ]
    },
    {
     "name": "stdout",
     "output_type": "stream",
     "text": [
      "🔹 Predicted: 本来 das Verstand der Schöne des Schroes Verstandsverkehrsverkehrsverkehrsverkehrsverkehrsverkehrsverkehrsverkehrsverkehrsverkehrsverkehrsverkehrsverkehrsverkehrsverkehrsverkehrsverkehrsverkehrsverkehrsverkehrsverkehrsverkehrsverkehrsverkehrsverkehrsverkehrsverkehrsverkehrsverkehrsverkehrsverkehrsverkehrsverkehrsverkehrsverkehrsverkehrsverkehrsverkehrsverkehrsverkehrsverkehrsverkehrsverkehrsverkehrsverkehrsverkehrsverkehrsverkehrsverkehrsverkehrsverkehrsverkehrsverkehrsverkehrsverkehrsverkehrsverkehrsverkehrsverkehrsverkehrsverkehrsverkehrsverkehrsverkehrsverkehrsverkehrsverkehrsverkehrsverkehrsverkehrsverkehrsverkehrsverkehrsverkehrsverkehrsverkehrsverkehrsverkehrsverkehrsverkehrsverkehrsverkehrsverkehrsverkehrsverkehrsverkehrsverkehrsverkehrsverkehrsverkehrsverkehrsverkehrsverkehrsverkehrsverkehrsverkehrsverkehrsverkehrsverkehrsverkehrsverkehrsverkehrsverkehrsverkehrsverkehrsverkehrsverkehrsverkehrsverkehrsverkehrsverkehrsverkehrsverkehrsverkehrsverkehrsverkehrsverkehrsverkehrsverkehrsverkehrsverkehrsverkehrsverkehrsverkehrsverkehrsverkehrsverkehrsverkehrsverkehrsverkehrsverkehrsverkehrsverkehrsverkehrsverkehrsverkehrsverkehrsverkehrsverkehrsverkehrsverkehrsverkehrsverkehr\n",
      "🔸 Reference: Der Name stammt aus dem Französischen und bedeutet in der wörtlichen Übersetzung „Dingsda“.\n",
      "🔹 Predicted:  You have to push the position to the position.\n",
      "🔸 Reference: Ich halte das rechtlich für den falschen Ansatz.\n",
      "🔹 Predicted:  [Sigh]\n",
      "🔸 Reference: Die staatlichen Beihilfen werden hier in Frage gestellt.\n"
     ]
    },
    {
     "name": "stderr",
     "output_type": "stream",
     "text": [
      " 64%|██████▍   | 64/100 [00:51<00:30,  1.19it/s]"
     ]
    },
    {
     "name": "stdout",
     "output_type": "stream",
     "text": [
      "🔹 Predicted: ん~♪♪♪♪♪♪♪♪♪♪♪♪♪♪♪♪♪♪♪♪♪♪♪♪♪♪♪♪♪♪♪♪♪♪♪♪♪♪♪♪♪♪♪♪♪♪♪♪♪♪♪♪♪♪♪♪♪♪♪♪♪♪♪♪♪♪♪♪♪♪♪♪♪♪♪♪♪♪♪♪♪♪♪♪♪♪♪♪♪♪♪♪♪♪♪♪♪♪♪♪♪♪♪♪♪♪♪♪♪♪♪♪♪♪♪♪♪♪♪♪♪♪♪♪♪♪♪♪♪♪♪♪♪♪♪♪♪♪♪♪♪♪♪♪♪♪♪♪♪♪♪♪♪♪♪♪♪♪♪♪♪♪♪♪♪♪♪♪♪♪♪♪♪♪♪♪♪♪♪♪♪♪♪♪♪♪♪♪♪♪♪♪♪♪♪♪♪♪♪♪♪♪♪♪♪♪♪♪♪♪♪♪♪♪♪♪♪♪♪♪♪♪♪♪♪♪♪♪♪♪♪♪♪♪♪♪♪♪♪♪♪♪♪♪♪♪♪♪♪♪♪♪♪♪♪♪♪♪♪♪♪♪♪♪♪♪♪♪♪♪♪♪♪♪♪♪♪♪♪♪♪♪♪♪♪♪♪♪♪♪♪♪♪♪♪♪♪♪♪♪♪♪♪♪♪♪♪♪♪♪♪♪♪♪♪♪♪♪♪♪♪♪♪♪♪♪♪♪♪♪♪♪♪♪♪♪♪♪♪♪♪♪♪♪♪♪♪♪♪♪♪♪♪♪♪♪♪♪♪♪♪♪♪♪♪♪♪♪♪♪♪♪♪♪♪♪♪♪♪♪♪♪♪♪♪♪♪♪♪♪♪♪♪♪♪♪♪♪♪♪♪♪♪♪♪♪♪♪♪♪♪♪♪♪♪♪♪♪♪♪♪♪♪♪♪♪♪♪♪♪♪♪♪♪♪♪♪♪♪♪♪♪\n",
      "🔸 Reference: Mal ein ganz anderes Thema.\n",
      "🔹 Predicted: で、スペースクリームを使っている\n",
      "🔸 Reference: Insgesamt aber ist das Verfahren ausgereift.\n"
     ]
    },
    {
     "name": "stderr",
     "output_type": "stream",
     "text": [
      "\r",
      " 65%|██████▌   | 65/100 [00:51<00:24,  1.44it/s]"
     ]
    },
    {
     "name": "stdout",
     "output_type": "stream",
     "text": [
      "🔹 Predicted:  dass es sich das Wasser für das Wasser vertreut.\n",
      "🔸 Reference: Sprachenkompetenz ist ein Faktor, der einen sozialen Vorteil verschafft.\n"
     ]
    },
    {
     "name": "stderr",
     "output_type": "stream",
     "text": [
      "\r",
      " 66%|██████▌   | 66/100 [00:54<00:43,  1.29s/it]"
     ]
    },
    {
     "name": "stdout",
     "output_type": "stream",
     "text": [
      "🔹 Predicted:  Erneutenspieler und der Schrohrer der Schrohrer der Schrohrer der Schrohrer der Schrohrer der Schrohrer der Schrohrer der Schrohrer der Schrohrer der Schrohrer der Schrohrer der Schrohrer der Schrohrer der Schrohrer der Schrohrer der Schrohrer der Schrohrer der Schrohrer der Schrohrer der Schrohrer der Schrohrer der Schrohrer der Schrohrer der Schrohrer der Schrohrer der Schrohrer der Schrohrer der Schrohrer der Schrohrer der Schrohrer der Schrohrer der Schrohrer der Schrohrer der Schrohrer der Schrohrer der Schrohrer der Schrohrer der Schrohrer der Schrohrer der Schrohrer der Schrohrer der Schrohrer der Schrohrer der Schrohrer der Schrohrer der Schrohrer der Schrohrer der Schrohrer der Schrohrer der Schrohrer der Schrohrer der Schrohrer der Schrohrer der Schrohrer der Schrohrer der Schrohrer der Schrohrer der Schrohrer der Schrohrer der Schrohrer der Schrohrer der Schrohrer der Schrohrer der Schrohrer der Schrohrer der Schrohrer der Schrohrer der Schrohrer der Schrohrer der Schrohrer der Schrohrer der Schrohrer der Schrohrer der Schrohrer der Schrohrer der Schrohrer der Schrohrer der Schrohrer der Schrohrer der Schrohrer der Schrohrer der Schrohrer der Schrohrer der Schrohrer der Schrohrer der Schrohrer der Schrohrer der Sch\n",
      "🔸 Reference: Die Calenberg-Grubenhagensche Landschaft ist eine Körperschaft des öffentlichen Rechts.\n"
     ]
    },
    {
     "name": "stderr",
     "output_type": "stream",
     "text": [
      "\r",
      " 67%|██████▋   | 67/100 [00:57<00:59,  1.79s/it]"
     ]
    },
    {
     "name": "stdout",
     "output_type": "stream",
     "text": [
      "🔹 Predicted:  Underein der Verstande der Schrohrer und der Schrohrer der Schrohrer der Schrohrer der Schrohrer der Schrohrer der Schrohrer der Schrohrer der Schrohrer der Schrohrer der Schrohrer der Schrohrer der Schrohrer der Schrohrer der Schrohrer der Schrohrer der Schrohrer der Schrohrer der Schrohrer der Schrohrer der Schrohrer der Schrohrer der Schrohrer der Schrohrer der Schrohrer der Schrohrer der Schrohrer der Schrohrer der Schrohrer der Schrohrer der Schrohrer der Schrohrer der Schrohrer der Schrohrer der Schrohrer der Schrohrer der Schrohrer der Schrohrer der Schrohrer der Schrohrer der Schrohrer der Schrohrer der Schrohrer der Schrohrer der Schrohrer der Schrohrer der Schrohrer der Schrohrer der Schrohrer der Schrohrer der Schrohrer der Schrohrer der Schrohrer der Schrohrer der Schrohrer der Schrohrer der Schrohrer der Schrohrer der Schrohrer der Schrohrer der Schrohrer der Schrohrer der Schrohrer der Schrohrer der Schrohrer der Schrohrer der Schrohrer der Schrohrer der Schrohrer der Schrohrer der Schrohrer der Schrohrer der Schrohrer der Schrohrer der Schrohrer der Schrohrer der Schrohrer der Schrohrer der Schrohrer der Schrohrer der Schrohrer der Schrohrer der Schrohrer der Schrohrer der Schrohrer der Schrohrer der Schrohrer der\n",
      "🔸 Reference: Die Mieter genießen ein gesetzliches Vorkaufsrecht und einen erweiterten Kündigungsschutz.\n"
     ]
    },
    {
     "name": "stderr",
     "output_type": "stream",
     "text": [
      " 69%|██████▉   | 69/100 [01:01<00:50,  1.64s/it]"
     ]
    },
    {
     "name": "stdout",
     "output_type": "stream",
     "text": [
      "🔹 Predicted:  Reise und Reise und Reise der Verstand der Verstand der Verstand der Verstand der Verstand der Verstand der Verstand der Verstand der Verstand der Verstand der Verstand der Verstand der Verstand der Verstand der Verstand der Verstand der Verstand der Verstand der Verstand der Verstand der Verstand der Verstand der Verstand der Verstand der Verstand der Verstand der Verstand der Verstand der Verstand der Verstand der Verstand der Verstand der Verstand der Verstand der Verstand der Verstand der Verstand der Verstand der Verstand der Verstand der Verstand der Verstand der Verstand der Verstand der Verstand der Verstand der Verstand der Verstand der Verstand der Verstand der Verstand der Verstand der Verstand der Verstand der Verstand der Verstand der Verstand der Verstand der Verstand der Verstand der Verstand der Verstand der Verstand der Verstand der Verstand der Verstand der Verstand der Verstand der Verstand der Verstand der Verstand der Verstand der Verstand der Verstand der Verstand der Verstand der Verstand der Verstand der Verstand der Verstand der Verstand der Verstand der Verstand der Verstand der Verstand der Verstand der Verstand der Verstand der Verstand der Verstand der Verstand der Verstand der Verstand der Verstand der Verstand der Verstand der Verstand der Verstand der Verstand der Verstand der Verstand der Verstand der Verstand der Verstand der Verstand der Verstand der Verstand der Verstand der Verstand der Verstand der Verstand der Verstand der Verstand der Verstand der Verstand der Verstand der Verstand der Verstand der Verstand der Verstand der Verstand der Verstand der Verstand der Verstand der Verstand der Verstand der Verstand der Verstand der Verstand der Verstand der Verstand der Verstand der Verstand der Verstand der Verstand der Verstand der Verstand der Verstand der Verstand der Verstand der Verstand der Verstand der Verstand der Verstand der Verstand der\n",
      "🔸 Reference: Ein Jahr lang leitete sie die Tochtergesellschaft eines deutschen Unternehmens in Großbritannien.\n",
      "🔹 Predicted:  Schauß von der Bauer und der Schauß von der Bauer.\n",
      "🔸 Reference: Sie lebt mit ihrem Mann, dem Bodybuilder Jeff Baugh, in Louisville, Kentucky.\n"
     ]
    },
    {
     "name": "stderr",
     "output_type": "stream",
     "text": [
      " 71%|███████   | 71/100 [01:01<00:26,  1.08it/s]"
     ]
    },
    {
     "name": "stdout",
     "output_type": "stream",
     "text": [
      "🔹 Predicted: シャラスターのアイスターのアイスターのアイスターがある\n",
      "🔸 Reference: Sein Ressort wurde aufgeteilt.\n",
      "🔹 Predicted:  [Sounds of the first time in the world]\n",
      "🔸 Reference: Sie ist ein Schaf Mädchen mit rose Haar.\n"
     ]
    },
    {
     "name": "stderr",
     "output_type": "stream",
     "text": [
      "\r",
      " 72%|███████▏  | 72/100 [01:04<00:45,  1.62s/it]"
     ]
    },
    {
     "name": "stdout",
     "output_type": "stream",
     "text": [
      "🔹 Predicted: 沖縜的一段階段階段階段階段階段階段階段階段階段階段階段階段階段階段階段階段階段階段階段階段階段階段階段階段階段階段階段階段階段階段階段階段階段階段階段階段階段階段階段階段階段階段階段階段階段階段階段階段階段階段階段階段階段階段階段階段階段階段階段階段階段階段階段階段�����������������������������������������������������������������������������������������������������������������������������������������������������������������������������������������������������������������������������������������������������\n",
      "🔸 Reference: Dadurch stiegen die Villacher wieder in die Tauernliga auf.\n"
     ]
    },
    {
     "name": "stderr",
     "output_type": "stream",
     "text": [
      " 74%|███████▍  | 74/100 [01:08<00:40,  1.54s/it]"
     ]
    },
    {
     "name": "stdout",
     "output_type": "stream",
     "text": [
      "🔹 Predicted:  Zerbezschilderbezschilderbezschilderbezschilderbezschilderbezschilderbezschilderbezschilderbezschilderbezschilderbezschilderbezschilderbezschilderbezschilderbezschilderbezschilderbezschilderbezschilderbezschilderbezschilderbezschilderbezschilderbezschilderbezschilderbezschilderbezschilderbezschilderbezschilderbezschilderbezschilderbezschilderbezschilderbezschilderbezschilderbezschilderbezschilderbezschilderbezschilderbezschilderbezschilderbezschilderbezschilderbezschilderbezschilderbezschilderbezschilderbezschilderbezschilderbezschilderbezschilderbezschilderbezschilderbezschilderbezschilderbezschilderbezschilderbezschilderbezschilderbezschilderbezschilderbezschilderbezschilderbezschilderbezschilderbezschilderbezschilderbezschilderbezschilderbezschilderbezschilderbezschilderbezschilderbezschilderbezschilderbezschilderbezschilderbezschilderbezschilderbezschilderbezschilderbezschilderbezschilderbezschilderbezschilderbezschilderbezschilderbezschilderbezschilderbez\n",
      "🔸 Reference: Viele dieser Manuskripte weisen jedoch spätere Verfälschungen (Interpolationen) auf.\n",
      "🔹 Predicted: 沙dener und der Kaltes und der Kaltes\n",
      "🔸 Reference: Habt ihr genügend Vorräte für zwei Wochen?\n",
      "🔹 Predicted:  [Music]\n",
      "🔸 Reference: Er hatte sechs Enkelkinder, die alle von seiner Tochter stammen.\n"
     ]
    },
    {
     "name": "stderr",
     "output_type": "stream",
     "text": [
      " 78%|███████▊  | 78/100 [01:12<00:22,  1.01s/it]"
     ]
    },
    {
     "name": "stdout",
     "output_type": "stream",
     "text": [
      "🔹 Predicted:  In the name of the name of the name of the name of the name of the name of the name of the name of the name of the name of the name of the name of the name of the name of the name of the name of the name of the name of the name of the name of the name of the name of the name of the name of the name of the name of the name of the name of the name of the name of the name of the name of the name of the name of the name of the name of the name of the name of the name of the name of the name of the name of the name of the name of the name of the name of the name of the name of the name of the name of the name of the name of the name of the name of the name of the name of the name of the name of the name of the name of the name of the name of the name of the name of the name of the name of the name of the name of the name of the name of the name of the name of the name of the name of the name of the name of the name of the name of the name of the name of the name of the name of the name of the name of the name of the name of the name of the name of the name of the name of the name of the name of the name of the name of the name of the name of the name of the name of the name of the name of the name of the name of the name of the name of the name of the name of the name of the name of the name of the name of the name of the name of the name of the name of the name of the name of the name of the name of the name of the name of the name of the name of the name of the name of the name of the name of the name of the name of the name of the name of the name of the name of the name of the name of the name of the name of the name of the name of the name of the name of the name of the name of the name of the name of the name of the name of the name of the name\n",
      "🔸 Reference: Sie ist nunmehr Bestandteil der regulären Ausstellung am Heldenberg.\n",
      "🔹 Predicted:  [Sigh]\n",
      "🔸 Reference: Auflage vollständig ins Deutsche.\n",
      "🔹 Predicted:  [Music]\n",
      "🔸 Reference: In weiteren Rollen sind Jackie Chan und Sammo Hung zu sehen.\n"
     ]
    },
    {
     "name": "stderr",
     "output_type": "stream",
     "text": [
      " 80%|████████  | 80/100 [01:12<00:13,  1.52it/s]"
     ]
    },
    {
     "name": "stdout",
     "output_type": "stream",
     "text": [
      "🔹 Predicted:  I'm not going to be a little bit too busy.\n",
      "🔸 Reference: Er wird von Alexander Grimm gesprochen.\n",
      "🔹 Predicted: 来自池県的池水池水\n",
      "🔸 Reference: Anschließend studierte er in Heidelberg Jura.\n"
     ]
    },
    {
     "name": "stderr",
     "output_type": "stream",
     "text": [
      "\r",
      " 82%|████████▏ | 82/100 [01:12<00:07,  2.36it/s]"
     ]
    },
    {
     "name": "stdout",
     "output_type": "stream",
     "text": [
      "🔹 Predicted: 沖縜的手段\n",
      "🔸 Reference: Es werden vier Unterarten unterschieden.\n",
      "🔹 Predicted:  [Music]\n",
      "🔸 Reference: Seine beste Platzierung war der sechste Platz beim Großen Preis von Valencia.\n",
      "🔹 Predicted:  [Music]\n",
      "🔸 Reference: Eine weitere um einen Stein gewickelte Botschaft fliegt anschließend durch Baldwins Fenster.\n"
     ]
    },
    {
     "name": "stderr",
     "output_type": "stream",
     "text": [
      " 85%|████████▌ | 85/100 [01:12<00:04,  3.69it/s]"
     ]
    },
    {
     "name": "stdout",
     "output_type": "stream",
     "text": [
      "🔹 Predicted:  [Sigh]\n",
      "🔸 Reference: Armee in die \"Hagen Stellung\" zurückgezogen.\n",
      "🔹 Predicted:  She has a lot of fun and she is also a little bit more active.\n",
      "🔸 Reference: Sie wird von einem Gemeindepastor betreut.\n"
     ]
    },
    {
     "name": "stderr",
     "output_type": "stream",
     "text": [
      "\r",
      " 86%|████████▌ | 86/100 [01:16<00:13,  1.03it/s]"
     ]
    },
    {
     "name": "stdout",
     "output_type": "stream",
     "text": [
      "🔹 Predicted:  Schauhrer Schauhrer schauhrer Schauhrer Schauhrer Schauhrer Schauhrer Schauhrer Schauhrer Schauhrer Schauhrer Schauhrer Schauhrer Schauhrer Schauhrer Schauhrer Schauhrer Schauhrer Schauhrer Schauhrer Schauhrer Schauhrer Schauhrer Schauhrer Schauhrer Schauhrer Schauhrer Schauhrer Schauhrer Schauhrer Schauhrer Schauhrer Schauhrer Schauhrer Schauhrer Schauhrer Schauhrer Schauhrer Schauhrer Schauhrer Schauhrer Schauhrer Schauhrer Schauhrer Schauhrer Schauhrer Schauhrer Schauhrer Schauhrer Schauhrer Schauhrer Schauhrer Schauhrer Schauhrer Schauhrer Schauhrer Schauhrer Schauhrer Schauhrer Schauhrer Schauhrer Schauhrer Schauhrer Schauhrer Schauhrer Schauhrer Schauhrer Schauhrer Schauhrer Schauhrer Schauhrer Schauhrer Schauhrer Schauhrer Schauhrer Schauhrer Schauhrer Schauhrer Schauhrer Schauhrer Schauhrer Schauhrer Schauhrer Schauhrer Schauhrer Schauhrer Schauhrer Schauhrer Schauhrer Schauhrer Schauhrer Schauhrer Schauhrer Schauhrer Schauhrer Schauhrer Schauhrer Schauhrer Schauhrer Schauhrer Schauhrer Schauhrer Schauhrer Schauhrer Schauhrer Schauhrer Schauhrer Schauhrer Schauhrer Schauhrer Schauhrer\n",
      "🔸 Reference: Die Buchstabenformen sind angelehnt an die Formen der Textura.\n",
      "🔹 Predicted:  [Spanish]\n",
      "🔸 Reference: Die deutschen Bewohner wurden vertrieben und die Einwohnerzahl sank drastisch.\n"
     ]
    },
    {
     "name": "stderr",
     "output_type": "stream",
     "text": [
      "\r",
      " 88%|████████▊ | 88/100 [01:16<00:07,  1.52it/s]"
     ]
    },
    {
     "name": "stdout",
     "output_type": "stream",
     "text": [
      "🔹 Predicted:  Schmacken und Schmacken und Schmacken sind die Faltbeine der Faltbeine der Faltbeine.\n",
      "🔸 Reference: Kossoff und Kirke verließen die Formation und gründeten die Band Free.\n"
     ]
    },
    {
     "name": "stderr",
     "output_type": "stream",
     "text": [
      "\r",
      " 89%|████████▉ | 89/100 [01:16<00:06,  1.78it/s]"
     ]
    },
    {
     "name": "stdout",
     "output_type": "stream",
     "text": [
      "🔹 Predicted:  Schroer schroer schroer schroer schroer schroer schroer schroer\n",
      "🔸 Reference: Artelt war mit Marie Artelt, geborene Neumann verheiratet.\n",
      "🔹 Predicted:  [Music]\n",
      "🔸 Reference: Er wurde außerdem mehrfach in die Niedersachsen- und die Nordwestdeutsche Auswahl berufen.\n"
     ]
    },
    {
     "name": "stderr",
     "output_type": "stream",
     "text": [
      " 93%|█████████▎| 93/100 [01:17<00:02,  3.49it/s]"
     ]
    },
    {
     "name": "stdout",
     "output_type": "stream",
     "text": [
      "🔹 Predicted:  Schauhrer und der Kauhrer wird es auf der Faltbewegung der Kauhrer.\n",
      "🔸 Reference: Friedrich Strobl ist verheiratet und hat zwei Kinder.\n",
      "🔹 Predicted:  [Music]\n",
      "🔸 Reference: In militärische Auseinandersetzungen war das Tor nie verwickelt.\n",
      "🔹 Predicted:  [Sigh]\n",
      "🔸 Reference: Die Nahrung besteht aus Früchten, Insekten, Krebsen, Kleinsäugern, sowie kleineren Vögeln und deren Eiern.\n"
     ]
    },
    {
     "name": "stderr",
     "output_type": "stream",
     "text": [
      "\r",
      " 95%|█████████▌| 95/100 [01:17<00:01,  4.65it/s]"
     ]
    },
    {
     "name": "stdout",
     "output_type": "stream",
     "text": [
      "🔹 Predicted:  [Sigh]\n",
      "🔸 Reference: Sie ist mit Sophia Loren befreundet.\n",
      "🔹 Predicted:  [Sigh]\n",
      "🔸 Reference: Wir müssen uns auch stärker um die Ressourcen kümmern.\n"
     ]
    },
    {
     "name": "stderr",
     "output_type": "stream",
     "text": [
      " 98%|█████████▊| 98/100 [01:17<00:00,  5.83it/s]"
     ]
    },
    {
     "name": "stdout",
     "output_type": "stream",
     "text": [
      "🔹 Predicted:  Und ich habe mich auf die Bewegung auf die Bewegung auf der Kaltbewegung auf der Kaltbewegung.\n",
      "🔸 Reference: Durch die veränderten Lebensbedingungen hat Kreuzberg als Unternehmensstandort an Attraktivität gewonnen.\n",
      "🔹 Predicted:  [Song]\n",
      "🔸 Reference: In diesem Jahr gewann Unternehmensgründer Günther Irmscher sen.\n",
      "🔹 Predicted:  [Song]\n",
      "🔸 Reference: Their success or failure in relation to social citizenship policies“.\n"
     ]
    },
    {
     "name": "stderr",
     "output_type": "stream",
     "text": [
      "\r",
      " 99%|█████████▉| 99/100 [01:17<00:00,  5.34it/s]"
     ]
    },
    {
     "name": "stdout",
     "output_type": "stream",
     "text": [
      "🔹 Predicted:  Scherfung ist der Kurskolle und der Kurskolle und der Kurskolle.\n",
      "🔸 Reference: Zudem weist es auch eine antibakterielle und entzündungshemmende Wirkung auf.\n"
     ]
    },
    {
     "name": "stderr",
     "output_type": "stream",
     "text": [
      "100%|██████████| 100/100 [01:21<00:00,  1.23it/s]"
     ]
    },
    {
     "name": "stdout",
     "output_type": "stream",
     "text": [
      "🔹 Predicted:  Neutannung ist der Schroiner und der Schroiner der Schroiner der Schroiner der Schroiner der Schroiner der Schroiner der Schroiner der Schroiner der Schroiner der Schroiner der Schroiner der Schroiner der Schroiner der Schroiner der Schroiner der Schroiner der Schroiner der Schroiner der Schroiner der Schroiner der Schroiner der Schroiner der Schroiner der Schroiner der Schroiner der Schroiner der Schroiner der Schroiner der Schroiner der Schroiner der Schroiner der Schroiner der Schroiner der Schroiner der Schroiner der Schroiner der Schroiner der Schroiner der Schroiner der Schroiner der Schroiner der Schroiner der Schroiner der Schroiner der Schroiner der Schroiner der Schroiner der Schroiner der Schroiner der Schroiner der Schroiner der Schroiner der Schroiner der Schroiner der Schroiner der Schroiner der Schroiner der Schroiner der Schroiner der Schroiner der Schroiner der Schroiner der Schroiner der Schroiner der Schroiner der Schroiner der Schroiner der Schroiner der Schroiner der Schroiner der Schroiner der Schroiner der Schroiner der Schroiner der Schroiner der Schroiner der Schroiner der Schroiner der Schroiner der Schroiner der Schroiner der Schroiner der Schroiner der Schroiner der Schroiner der Schroiner der Schroiner der Schroiner der Schroiner der Schroiner der Schroiner der Schroiner der Schroiner der Schroiner der Schroiner der Schroiner der Schroiner der Schroiner der Schroiner der Schroiner der Schroiner der Schroiner der Schroiner der Schroiner der Schroiner der Schroiner der Schroiner der Schroiner der Sch\n",
      "🔸 Reference: Wisst ihr eigentlich, was ihr da losgetreten habt?\n"
     ]
    },
    {
     "name": "stderr",
     "output_type": "stream",
     "text": [
      "\n"
     ]
    },
    {
     "name": "stdout",
     "output_type": "stream",
     "text": [
      "✅ DE WER: 4.2576\n"
     ]
    }
   ],
   "source": [
    "import torch\n",
    "from jiwer import wer\n",
    "from tqdm import tqdm\n",
    "\n",
    "lang_list = [\"ko\", \"en\", \"ja\", \"de\"]\n",
    "lang_wer_results = {}\n",
    "\n",
    "for lang in lang_list:\n",
    "    print(f\"🌍 Language: {lang}\")\n",
    "    lang_data = [x for x in val_dataset if x[\"locale\"] == lang]\n",
    "\n",
    "    predictions, references = [], []\n",
    "\n",
    "    for sample in tqdm(lang_data):\n",
    "        input_features = processor.feature_extractor(\n",
    "            sample[\"audio\"][\"array\"], sampling_rate=16000, return_tensors=\"pt\"\n",
    "        ).input_features.to(model.device)\n",
    "\n",
    "        decoder_ids = processor.get_decoder_prompt_ids(language=sample[\"locale\"], task=\"transcribe\")\n",
    "        model.config.forced_decoder_ids = decoder_ids\n",
    "\n",
    "        with torch.no_grad():\n",
    "            predicted_ids = model.generate(input_features)\n",
    "\n",
    "        transcription = processor.batch_decode(predicted_ids, skip_special_tokens=True)[0]\n",
    "        predictions.append(transcription)\n",
    "        references.append(sample[\"sentence\"])\n",
    "\n",
    "        print(f\"🔹 Predicted: {transcription}\")\n",
    "        print(f\"🔸 Reference: {sample['sentence']}\")\n",
    "\n",
    "    score = wer(references, predictions)\n",
    "    lang_wer_results[lang] = score\n",
    "    print(f\"✅ {lang.upper()} WER: {score:.4f}\")\n"
   ]
  },
  {
   "cell_type": "code",
   "execution_count": 10,
   "metadata": {},
   "outputs": [
    {
     "name": "stdout",
     "output_type": "stream",
     "text": [
      "\n",
      "📊 WER 결과 (낮을수록 정확)\n",
      "DE : 4.2576\n",
      "EN : 4.6523\n",
      "KO : 5.4171\n",
      "JA : 31.3300\n"
     ]
    },
    {
     "data": {
      "image/png": "[encoded data removed]",
      "text/plain": [
       "<Figure size 800x500 with 1 Axes>"
      ]
     },
     "metadata": {},
     "output_type": "display_data"
    }
   ],
   "source": [
    "import matplotlib.pyplot as plt\n",
    "import numpy as np\n",
    "\n",
    "print(\"\\n📊 WER 결과 (낮을수록 정확)\")\n",
    "for lang, score in sorted(lang_wer_results.items(), key=lambda x: x[1]):\n",
    "    print(f\"{lang.upper()} : {score:.4f}\")\n",
    "\n",
    "langs_sorted = [x[0] for x in sorted(lang_wer_results.items(), key=lambda x: x[1])]\n",
    "scores_sorted = [x[1] for x in sorted(lang_wer_results.items(), key=lambda x: x[1])]\n",
    "\n",
    "plt.figure(figsize=(8,5))\n",
    "plt.bar(langs_sorted, scores_sorted)\n",
    "plt.title(\"WER by Language (Whisper-tiny Run 1)\")\n",
    "plt.xlabel(\"Language\")\n",
    "plt.ylabel(\"WER\")\n",
    "\n",
    "for i, v in enumerate(scores_sorted):\n",
    "    plt.text(i, v + 0.01, f\"{v:.3f}\", ha='center')\n",
    "\n",
    "plt.tight_layout()\n",
    "plt.savefig(\"wer_tiny_run1.png\")\n",
    "plt.show()"
   ]
  }
 ],
 "metadata": {
  "language_info": {
   "name": "python"
  }
 },
 "nbformat": 4,
 "nbformat_minor": 0
}
