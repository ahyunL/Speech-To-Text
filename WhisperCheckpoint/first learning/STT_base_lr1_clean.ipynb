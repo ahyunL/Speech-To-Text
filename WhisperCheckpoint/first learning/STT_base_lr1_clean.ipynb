{
 "cells": [
  {
   "cell_type": "code",
   "execution_count": 1,
   "metadata": {},
   "outputs": [
    {
     "name": "stdout",
     "output_type": "stream",
     "text": [
      "\u001b[2K   \u001b[90m━━━━━━━━━━━━━━━━━━━━━━━━━━━━━━━━━━━━━━━━\u001b[0m \u001b[32m3.1/3.1 MB\u001b[0m \u001b[31m96.8 MB/s\u001b[0m eta \u001b[36m0:00:00\u001b[0m\n",
      "\u001b[2K   \u001b[90m━━━━━━━━━━━━━━━━━━━━━━━━━━━━━━━━━━━━━━━━\u001b[0m \u001b[32m363.4/363.4 MB\u001b[0m \u001b[31m3.0 MB/s\u001b[0m eta \u001b[36m0:00:00\u001b[0m\n",
      "\u001b[2K   \u001b[90m━━━━━━━━━━━━━━━━━━━━━━━━━━━━━━━━━━━━━━━━\u001b[0m \u001b[32m13.8/13.8 MB\u001b[0m \u001b[31m125.5 MB/s\u001b[0m eta \u001b[36m0:00:00\u001b[0m\n",
      "\u001b[2K   \u001b[90m━━━━━━━━━━━━━━━━━━━━━━━━━━━━━━━━━━━━━━━━\u001b[0m \u001b[32m24.6/24.6 MB\u001b[0m \u001b[31m89.3 MB/s\u001b[0m eta \u001b[36m0:00:00\u001b[0m\n",
      "\u001b[2K   \u001b[90m━━━━━━━━━━━━━━━━━━━━━━━━━━━━━━━━━━━━━━━━\u001b[0m \u001b[32m883.7/883.7 kB\u001b[0m \u001b[31m52.0 MB/s\u001b[0m eta \u001b[36m0:00:00\u001b[0m\n",
      "\u001b[2K   \u001b[90m━━━━━━━━━━━━━━━━━━━━━━━━━━━━━━━━━━━━━━━━\u001b[0m \u001b[32m664.8/664.8 MB\u001b[0m \u001b[31m2.1 MB/s\u001b[0m eta \u001b[36m0:00:00\u001b[0m\n",
      "\u001b[2K   \u001b[90m━━━━━━━━━━━━━━━━━━━━━━━━━━━━━━━━━━━━━━━━\u001b[0m \u001b[32m211.5/211.5 MB\u001b[0m \u001b[31m4.8 MB/s\u001b[0m eta \u001b[36m0:00:00\u001b[0m\n",
      "\u001b[2K   \u001b[90m━━━━━━━━━━━━━━━━━━━━━━━━━━━━━━━━━━━━━━━━\u001b[0m \u001b[32m56.3/56.3 MB\u001b[0m \u001b[31m43.5 MB/s\u001b[0m eta \u001b[36m0:00:00\u001b[0m\n",
      "\u001b[2K   \u001b[90m━━━━━━━━━━━━━━━━━━━━━━━━━━━━━━━━━━━━━━━━\u001b[0m \u001b[32m127.9/127.9 MB\u001b[0m \u001b[31m20.0 MB/s\u001b[0m eta \u001b[36m0:00:00\u001b[0m\n",
      "\u001b[2K   \u001b[90m━━━━━━━━━━━━━━━━━━━━━━━━━━━━━━━━━━━━━━━━\u001b[0m \u001b[32m207.5/207.5 MB\u001b[0m \u001b[31m4.9 MB/s\u001b[0m eta \u001b[36m0:00:00\u001b[0m\n",
      "\u001b[2K   \u001b[90m━━━━━━━━━━━━━━━━━━━━━━━━━━━━━━━━━━━━━━━━\u001b[0m \u001b[32m21.1/21.1 MB\u001b[0m \u001b[31m105.5 MB/s\u001b[0m eta \u001b[36m0:00:00\u001b[0m\n",
      "\u001b[?25hRequirement already satisfied: datasets in /usr/local/lib/python3.11/dist-packages (2.14.4)\n",
      "Collecting datasets\n",
      "  Downloading datasets-3.6.0-py3-none-any.whl.metadata (19 kB)\n",
      "Requirement already satisfied: transformers in /usr/local/lib/python3.11/dist-packages (4.51.3)\n",
      "Requirement already satisfied: accelerate in /usr/local/lib/python3.11/dist-packages (1.6.0)\n",
      "Collecting accelerate\n",
      "  Downloading accelerate-1.7.0-py3-none-any.whl.metadata (19 kB)\n",
      "Collecting evaluate\n",
      "  Downloading evaluate-0.4.3-py3-none-any.whl.metadata (9.2 kB)\n",
      "Requirement already satisfied: filelock in /usr/local/lib/python3.11/dist-packages (from datasets) (3.18.0)\n",
      "Requirement already satisfied: numpy>=1.17 in /usr/local/lib/python3.11/dist-packages (from datasets) (2.0.2)\n",
      "Requirement already satisfied: pyarrow>=15.0.0 in /usr/local/lib/python3.11/dist-packages (from datasets) (18.1.0)\n",
      "Requirement already satisfied: dill<0.3.9,>=0.3.0 in /usr/local/lib/python3.11/dist-packages (from datasets) (0.3.7)\n",
      "Requirement already satisfied: pandas in /usr/local/lib/python3.11/dist-packages (from datasets) (2.2.2)\n",
      "Requirement already satisfied: requests>=2.32.2 in /usr/local/lib/python3.11/dist-packages (from datasets) (2.32.3)\n",
      "Requirement already satisfied: tqdm>=4.66.3 in /usr/local/lib/python3.11/dist-packages (from datasets) (4.67.1)\n",
      "Requirement already satisfied: xxhash in /usr/local/lib/python3.11/dist-packages (from datasets) (3.5.0)\n",
      "Requirement already satisfied: multiprocess<0.70.17 in /usr/local/lib/python3.11/dist-packages (from datasets) (0.70.15)\n",
      "Collecting fsspec<=2025.3.0,>=2023.1.0 (from fsspec[http]<=2025.3.0,>=2023.1.0->datasets)\n",
      "  Downloading fsspec-2025.3.0-py3-none-any.whl.metadata (11 kB)\n",
      "Requirement already satisfied: huggingface-hub>=0.24.0 in /usr/local/lib/python3.11/dist-packages (from datasets) (0.31.2)\n",
      "Requirement already satisfied: packaging in /usr/local/lib/python3.11/dist-packages (from datasets) (24.2)\n",
      "Requirement already satisfied: pyyaml>=5.1 in /usr/local/lib/python3.11/dist-packages (from datasets) (6.0.2)\n",
      "Requirement already satisfied: regex!=2019.12.17 in /usr/local/lib/python3.11/dist-packages (from transformers) (2024.11.6)\n",
      "Requirement already satisfied: tokenizers<0.22,>=0.21 in /usr/local/lib/python3.11/dist-packages (from transformers) (0.21.1)\n",
      "Requirement already satisfied: safetensors>=0.4.3 in /usr/local/lib/python3.11/dist-packages (from transformers) (0.5.3)\n",
      "Requirement already satisfied: psutil in /usr/local/lib/python3.11/dist-packages (from accelerate) (5.9.5)\n",
      "Requirement already satisfied: torch>=2.0.0 in /usr/local/lib/python3.11/dist-packages (from accelerate) (2.6.0+cu124)\n",
      "Requirement already satisfied: aiohttp!=4.0.0a0,!=4.0.0a1 in /usr/local/lib/python3.11/dist-packages (from fsspec[http]<=2025.3.0,>=2023.1.0->datasets) (3.11.15)\n",
      "Requirement already satisfied: typing-extensions>=3.7.4.3 in /usr/local/lib/python3.11/dist-packages (from huggingface-hub>=0.24.0->datasets) (4.13.2)\n",
      "Requirement already satisfied: charset-normalizer<4,>=2 in /usr/local/lib/python3.11/dist-packages (from requests>=2.32.2->datasets) (3.4.2)\n",
      "Requirement already satisfied: idna<4,>=2.5 in /usr/local/lib/python3.11/dist-packages (from requests>=2.32.2->datasets) (3.10)\n",
      "Requirement already satisfied: urllib3<3,>=1.21.1 in /usr/local/lib/python3.11/dist-packages (from requests>=2.32.2->datasets) (2.4.0)\n",
      "Requirement already satisfied: certifi>=2017.4.17 in /usr/local/lib/python3.11/dist-packages (from requests>=2.32.2->datasets) (2025.4.26)\n",
      "Requirement already satisfied: networkx in /usr/local/lib/python3.11/dist-packages (from torch>=2.0.0->accelerate) (3.4.2)\n",
      "Requirement already satisfied: jinja2 in /usr/local/lib/python3.11/dist-packages (from torch>=2.0.0->accelerate) (3.1.6)\n",
      "Requirement already satisfied: nvidia-cuda-nvrtc-cu12==12.4.127 in /usr/local/lib/python3.11/dist-packages (from torch>=2.0.0->accelerate) (12.4.127)\n",
      "Requirement already satisfied: nvidia-cuda-runtime-cu12==12.4.127 in /usr/local/lib/python3.11/dist-packages (from torch>=2.0.0->accelerate) (12.4.127)\n",
      "Requirement already satisfied: nvidia-cuda-cupti-cu12==12.4.127 in /usr/local/lib/python3.11/dist-packages (from torch>=2.0.0->accelerate) (12.4.127)\n",
      "Requirement already satisfied: nvidia-cudnn-cu12==9.1.0.70 in /usr/local/lib/python3.11/dist-packages (from torch>=2.0.0->accelerate) (9.1.0.70)\n",
      "Requirement already satisfied: nvidia-cublas-cu12==12.4.5.8 in /usr/local/lib/python3.11/dist-packages (from torch>=2.0.0->accelerate) (12.4.5.8)\n",
      "Requirement already satisfied: nvidia-cufft-cu12==11.2.1.3 in /usr/local/lib/python3.11/dist-packages (from torch>=2.0.0->accelerate) (11.2.1.3)\n",
      "Requirement already satisfied: nvidia-curand-cu12==10.3.5.147 in /usr/local/lib/python3.11/dist-packages (from torch>=2.0.0->accelerate) (10.3.5.147)\n",
      "Requirement already satisfied: nvidia-cusolver-cu12==11.6.1.9 in /usr/local/lib/python3.11/dist-packages (from torch>=2.0.0->accelerate) (11.6.1.9)\n",
      "Requirement already satisfied: nvidia-cusparse-cu12==12.3.1.170 in /usr/local/lib/python3.11/dist-packages (from torch>=2.0.0->accelerate) (12.3.1.170)\n",
      "Requirement already satisfied: nvidia-cusparselt-cu12==0.6.2 in /usr/local/lib/python3.11/dist-packages (from torch>=2.0.0->accelerate) (0.6.2)\n",
      "Requirement already satisfied: nvidia-nccl-cu12==2.21.5 in /usr/local/lib/python3.11/dist-packages (from torch>=2.0.0->accelerate) (2.21.5)\n",
      "Requirement already satisfied: nvidia-nvtx-cu12==12.4.127 in /usr/local/lib/python3.11/dist-packages (from torch>=2.0.0->accelerate) (12.4.127)\n",
      "Requirement already satisfied: nvidia-nvjitlink-cu12==12.4.127 in /usr/local/lib/python3.11/dist-packages (from torch>=2.0.0->accelerate) (12.4.127)\n",
      "Requirement already satisfied: triton==3.2.0 in /usr/local/lib/python3.11/dist-packages (from torch>=2.0.0->accelerate) (3.2.0)\n",
      "Requirement already satisfied: sympy==1.13.1 in /usr/local/lib/python3.11/dist-packages (from torch>=2.0.0->accelerate) (1.13.1)\n",
      "Requirement already satisfied: mpmath<1.4,>=1.1.0 in /usr/local/lib/python3.11/dist-packages (from sympy==1.13.1->torch>=2.0.0->accelerate) (1.3.0)\n",
      "Requirement already satisfied: python-dateutil>=2.8.2 in /usr/local/lib/python3.11/dist-packages (from pandas->datasets) (2.9.0.post0)\n",
      "Requirement already satisfied: pytz>=2020.1 in /usr/local/lib/python3.11/dist-packages (from pandas->datasets) (2025.2)\n",
      "Requirement already satisfied: tzdata>=2022.7 in /usr/local/lib/python3.11/dist-packages (from pandas->datasets) (2025.2)\n",
      "Requirement already satisfied: aiohappyeyeballs>=2.3.0 in /usr/local/lib/python3.11/dist-packages (from aiohttp!=4.0.0a0,!=4.0.0a1->fsspec[http]<=2025.3.0,>=2023.1.0->datasets) (2.6.1)\n",
      "Requirement already satisfied: aiosignal>=1.1.2 in /usr/local/lib/python3.11/dist-packages (from aiohttp!=4.0.0a0,!=4.0.0a1->fsspec[http]<=2025.3.0,>=2023.1.0->datasets) (1.3.2)\n",
      "Requirement already satisfied: attrs>=17.3.0 in /usr/local/lib/python3.11/dist-packages (from aiohttp!=4.0.0a0,!=4.0.0a1->fsspec[http]<=2025.3.0,>=2023.1.0->datasets) (25.3.0)\n",
      "Requirement already satisfied: frozenlist>=1.1.1 in /usr/local/lib/python3.11/dist-packages (from aiohttp!=4.0.0a0,!=4.0.0a1->fsspec[http]<=2025.3.0,>=2023.1.0->datasets) (1.6.0)\n",
      "Requirement already satisfied: multidict<7.0,>=4.5 in /usr/local/lib/python3.11/dist-packages (from aiohttp!=4.0.0a0,!=4.0.0a1->fsspec[http]<=2025.3.0,>=2023.1.0->datasets) (6.4.3)\n",
      "Requirement already satisfied: propcache>=0.2.0 in /usr/local/lib/python3.11/dist-packages (from aiohttp!=4.0.0a0,!=4.0.0a1->fsspec[http]<=2025.3.0,>=2023.1.0->datasets) (0.3.1)\n",
      "Requirement already satisfied: yarl<2.0,>=1.17.0 in /usr/local/lib/python3.11/dist-packages (from aiohttp!=4.0.0a0,!=4.0.0a1->fsspec[http]<=2025.3.0,>=2023.1.0->datasets) (1.20.0)\n",
      "Requirement already satisfied: six>=1.5 in /usr/local/lib/python3.11/dist-packages (from python-dateutil>=2.8.2->pandas->datasets) (1.17.0)\n",
      "Requirement already satisfied: MarkupSafe>=2.0 in /usr/local/lib/python3.11/dist-packages (from jinja2->torch>=2.0.0->accelerate) (3.0.2)\n",
      "Downloading datasets-3.6.0-py3-none-any.whl (491 kB)\n",
      "\u001b[2K   \u001b[90m━━━━━━━━━━━━━━━━━━━━━━━━━━━━━━━━━━━━━━━━\u001b[0m \u001b[32m491.5/491.5 kB\u001b[0m \u001b[31m31.1 MB/s\u001b[0m eta \u001b[36m0:00:00\u001b[0m\n",
      "\u001b[?25hDownloading accelerate-1.7.0-py3-none-any.whl (362 kB)\n",
      "\u001b[2K   \u001b[90m━━━━━━━━━━━━━━━━━━━━━━━━━━━━━━━━━━━━━━━━\u001b[0m \u001b[32m362.1/362.1 kB\u001b[0m \u001b[31m30.7 MB/s\u001b[0m eta \u001b[36m0:00:00\u001b[0m\n",
      "\u001b[?25hDownloading evaluate-0.4.3-py3-none-any.whl (84 kB)\n",
      "\u001b[2K   \u001b[90m━━━━━━━━━━━━━━━━━━━━━━━━━━━━━━━━━━━━━━━━\u001b[0m \u001b[32m84.0/84.0 kB\u001b[0m \u001b[31m8.6 MB/s\u001b[0m eta \u001b[36m0:00:00\u001b[0m\n",
      "\u001b[?25hDownloading fsspec-2025.3.0-py3-none-any.whl (193 kB)\n",
      "\u001b[2K   \u001b[90m━━━━━━━━━━━━━━━━━━━━━━━━━━━━━━━━━━━━━━━━\u001b[0m \u001b[32m193.6/193.6 kB\u001b[0m \u001b[31m19.2 MB/s\u001b[0m eta \u001b[36m0:00:00\u001b[0m\n",
      "\u001b[?25hInstalling collected packages: fsspec, datasets, accelerate, evaluate\n",
      "  Attempting uninstall: fsspec\n",
      "    Found existing installation: fsspec 2025.3.2\n",
      "    Uninstalling fsspec-2025.3.2:\n",
      "      Successfully uninstalled fsspec-2025.3.2\n",
      "  Attempting uninstall: datasets\n",
      "    Found existing installation: datasets 2.14.4\n",
      "    Uninstalling datasets-2.14.4:\n",
      "      Successfully uninstalled datasets-2.14.4\n",
      "  Attempting uninstall: accelerate\n",
      "    Found existing installation: accelerate 1.6.0\n",
      "    Uninstalling accelerate-1.6.0:\n",
      "      Successfully uninstalled accelerate-1.6.0\n",
      "\u001b[31mERROR: pip's dependency resolver does not currently take into account all the packages that are installed. This behaviour is the source of the following dependency conflicts.\n",
      "gcsfs 2025.3.2 requires fsspec==2025.3.2, but you have fsspec 2025.3.0 which is incompatible.\u001b[0m\u001b[31m\n",
      "\u001b[0mSuccessfully installed accelerate-1.7.0 datasets-3.6.0 evaluate-0.4.3 fsspec-2025.3.0\n",
      "Mounted at /content/drive\n"
     ]
    },
    {
     "data": {
      "application/vnd.jupyter.widget-view+json": {
       "model_id": "2af711769a6e4c809eca922e28a20649",
       "version_major": 2,
       "version_minor": 0
      },
      "text/plain": [
       "VBox(children=(HTML(value='<center> <img\\nsrc=https://huggingface.co/front/assets/huggingface_logo-noborder.sv…"
      ]
     },
     "metadata": {},
     "output_type": "display_data"
    }
   ],
   "source": [
    "!pip install -q datasets transformers librosa jiwer accelerate\n",
    "!pip install -U datasets transformers accelerate evaluate\n",
    "\n",
    "from google.colab import drive\n",
    "from huggingface_hub import notebook_login\n",
    "\n",
    "drive.mount(\"/content/drive\")\n",
    "notebook_login()"
   ]
  },
  {
   "cell_type": "code",
   "execution_count": 2,
   "metadata": {},
   "outputs": [
    {
     "name": "stderr",
     "output_type": "stream",
     "text": [
      "/usr/local/lib/python3.11/dist-packages/huggingface_hub/utils/_auth.py:94: UserWarning: \n",
      "The secret `HF_TOKEN` does not exist in your Colab secrets.\n",
      "To authenticate with the Hugging Face Hub, create a token in your settings tab (https://huggingface.co/settings/tokens), set it as secret in your Google Colab and restart your session.\n",
      "You will be able to reuse this secret in all of your notebooks.\n",
      "Please note that authentication is recommended but still optional to access public models or datasets.\n",
      "  warnings.warn(\n"
     ]
    },
    {
     "data": {
      "application/vnd.jupyter.widget-view+json": {
       "model_id": "345190662c80418789f4e760c08732a7",
       "version_major": 2,
       "version_minor": 0
      },
      "text/plain": [
       "README.md:   0%|          | 0.00/14.7k [00:00<?, ?B/s]"
      ]
     },
     "metadata": {},
     "output_type": "display_data"
    },
    {
     "data": {
      "application/vnd.jupyter.widget-view+json": {
       "model_id": "ca69918e486e443fb344b0dacd0be67b",
       "version_major": 2,
       "version_minor": 0
      },
      "text/plain": [
       "common_voice_13_0.py:   0%|          | 0.00/8.18k [00:00<?, ?B/s]"
      ]
     },
     "metadata": {},
     "output_type": "display_data"
    },
    {
     "data": {
      "application/vnd.jupyter.widget-view+json": {
       "model_id": "fe1ca3f69067434eba91c3d7f6044e67",
       "version_major": 2,
       "version_minor": 0
      },
      "text/plain": [
       "languages.py:   0%|          | 0.00/3.65k [00:00<?, ?B/s]"
      ]
     },
     "metadata": {},
     "output_type": "display_data"
    },
    {
     "data": {
      "application/vnd.jupyter.widget-view+json": {
       "model_id": "3472376c15fe487484266712f7cf48c6",
       "version_major": 2,
       "version_minor": 0
      },
      "text/plain": [
       "release_stats.py:   0%|          | 0.00/65.4k [00:00<?, ?B/s]"
      ]
     },
     "metadata": {},
     "output_type": "display_data"
    },
    {
     "name": "stdout",
     "output_type": "stream",
     "text": [
      "The repository for mozilla-foundation/common_voice_13_0 contains custom code which must be executed to correctly load the dataset. You can inspect the repository content at https://hf.co/datasets/mozilla-foundation/common_voice_13_0.\n",
      "You can avoid this prompt in future by passing the argument `trust_remote_code=True`.\n",
      "\n",
      "Do you wish to run the custom code? [y/N] y\n"
     ]
    },
    {
     "name": "stderr",
     "output_type": "stream",
     "text": [
      "Reading metadata...: 192it [00:00, 696.43it/s]\n",
      "Reading metadata...: 1013968it [00:25, 39818.63it/s]\n",
      "Reading metadata...: 7071it [00:00, 21082.93it/s]\n",
      "Reading metadata...: 540437it [00:13, 40114.06it/s]\n",
      "Reading metadata...: 105it [00:00, 392.86it/s]\n",
      "Reading metadata...: 16372it [00:00, 28172.63it/s]\n",
      "Reading metadata...: 4961it [00:01, 3566.04it/s]\n",
      "Reading metadata...: 16143it [00:00, 43786.22it/s]\n",
      "Reading metadata...: 131it [00:00, 514.34it/s]\n",
      "Reading metadata...: 16372it [00:01, 12076.08it/s]\n",
      "Reading metadata...: 4961it [00:00, 16912.05it/s]\n",
      "Reading metadata...: 16143it [00:00, 42444.42it/s]\n"
     ]
    }
   ],
   "source": [
    "from datasets import load_dataset, Dataset\n",
    "from itertools import islice\n",
    "\n",
    "# 학습용 (train split)\n",
    "ko_train = list(islice(load_dataset(\"mozilla-foundation/common_voice_13_0\", \"ko\", split=\"train\", streaming=True), 100))\n",
    "en_train = list(islice(load_dataset(\"mozilla-foundation/common_voice_13_0\", \"en\", split=\"train\", streaming=True), 100))\n",
    "ja_train = list(islice(load_dataset(\"mozilla-foundation/common_voice_13_0\", \"ja\", split=\"train\", streaming=True), 100))\n",
    "de_train = list(islice(load_dataset(\"mozilla-foundation/common_voice_13_0\", \"de\", split=\"train\", streaming=True), 100))\n",
    "\n",
    "train_dataset = Dataset.from_list(ko_train + en_train + ja_train + de_train)\n",
    "\n",
    "# 검증용 (validation split - streaming 적용, 개수 제한)\n",
    "ko_val = list(islice(load_dataset(\"mozilla-foundation/common_voice_13_0\", \"ko\", split=\"validation\", streaming=True), 100))\n",
    "en_val = list(islice(load_dataset(\"mozilla-foundation/common_voice_13_0\", \"en\", split=\"validation\", streaming=True), 100))\n",
    "ja_val = list(islice(load_dataset(\"mozilla-foundation/common_voice_13_0\", \"ja\", split=\"validation\", streaming=True), 100))\n",
    "de_val = list(islice(load_dataset(\"mozilla-foundation/common_voice_13_0\", \"de\", split=\"validation\", streaming=True), 100))\n",
    "\n",
    "val_dataset = Dataset.from_list(ko_val + en_val + ja_val + de_val)\n",
    "\n",
    "# 테스트용 (test split - streaming 적용, 개수 제한)\n",
    "from itertools import islice\n",
    "\n",
    "ko_test = list(islice(load_dataset(\"mozilla-foundation/common_voice_13_0\", \"ko\", split=\"test\", streaming=True), 100))\n",
    "en_test = list(islice(load_dataset(\"mozilla-foundation/common_voice_13_0\", \"en\", split=\"test\", streaming=True), 100))\n",
    "ja_test = list(islice(load_dataset(\"mozilla-foundation/common_voice_13_0\", \"ja\", split=\"test\", streaming=True), 100))\n",
    "de_test = list(islice(load_dataset(\"mozilla-foundation/common_voice_13_0\", \"de\", split=\"test\", streaming=True), 100))\n",
    "\n",
    "test_dataset = Dataset.from_list(ko_test + en_test + ja_test + de_test)"
   ]
  },
  {
   "cell_type": "code",
   "execution_count": 3,
   "metadata": {},
   "outputs": [
    {
     "data": {
      "application/vnd.jupyter.widget-view+json": {
       "model_id": "992aa2d89d6d4e949e5c976befd096e5",
       "version_major": 2,
       "version_minor": 0
      },
      "text/plain": [
       "preprocessor_config.json:   0%|          | 0.00/185k [00:00<?, ?B/s]"
      ]
     },
     "metadata": {},
     "output_type": "display_data"
    },
    {
     "data": {
      "application/vnd.jupyter.widget-view+json": {
       "model_id": "c8a29712d8eb4b43b308dc9c7c9ac9f5",
       "version_major": 2,
       "version_minor": 0
      },
      "text/plain": [
       "tokenizer_config.json:   0%|          | 0.00/283k [00:00<?, ?B/s]"
      ]
     },
     "metadata": {},
     "output_type": "display_data"
    },
    {
     "data": {
      "application/vnd.jupyter.widget-view+json": {
       "model_id": "0e4b5b27990445e89a5a3002d86c27fb",
       "version_major": 2,
       "version_minor": 0
      },
      "text/plain": [
       "vocab.json:   0%|          | 0.00/836k [00:00<?, ?B/s]"
      ]
     },
     "metadata": {},
     "output_type": "display_data"
    },
    {
     "data": {
      "application/vnd.jupyter.widget-view+json": {
       "model_id": "cbaab88872004517924b7e7ff0783882",
       "version_major": 2,
       "version_minor": 0
      },
      "text/plain": [
       "tokenizer.json:   0%|          | 0.00/2.48M [00:00<?, ?B/s]"
      ]
     },
     "metadata": {},
     "output_type": "display_data"
    },
    {
     "data": {
      "application/vnd.jupyter.widget-view+json": {
       "model_id": "20e7ec335ef0454b93a4d1b2f948243c",
       "version_major": 2,
       "version_minor": 0
      },
      "text/plain": [
       "merges.txt:   0%|          | 0.00/494k [00:00<?, ?B/s]"
      ]
     },
     "metadata": {},
     "output_type": "display_data"
    },
    {
     "data": {
      "application/vnd.jupyter.widget-view+json": {
       "model_id": "b325a355654e40318f4b4e7bb7feced1",
       "version_major": 2,
       "version_minor": 0
      },
      "text/plain": [
       "normalizer.json:   0%|          | 0.00/52.7k [00:00<?, ?B/s]"
      ]
     },
     "metadata": {},
     "output_type": "display_data"
    },
    {
     "data": {
      "application/vnd.jupyter.widget-view+json": {
       "model_id": "a7f8dd0113494572929b287ea2d9a9f3",
       "version_major": 2,
       "version_minor": 0
      },
      "text/plain": [
       "added_tokens.json:   0%|          | 0.00/34.6k [00:00<?, ?B/s]"
      ]
     },
     "metadata": {},
     "output_type": "display_data"
    },
    {
     "data": {
      "application/vnd.jupyter.widget-view+json": {
       "model_id": "69341e3d51db479d9320195b3381d411",
       "version_major": 2,
       "version_minor": 0
      },
      "text/plain": [
       "special_tokens_map.json:   0%|          | 0.00/2.19k [00:00<?, ?B/s]"
      ]
     },
     "metadata": {},
     "output_type": "display_data"
    },
    {
     "data": {
      "application/vnd.jupyter.widget-view+json": {
       "model_id": "1f8913f02a5c435dbd0ec512000e41ef",
       "version_major": 2,
       "version_minor": 0
      },
      "text/plain": [
       "config.json:   0%|          | 0.00/1.98k [00:00<?, ?B/s]"
      ]
     },
     "metadata": {},
     "output_type": "display_data"
    },
    {
     "data": {
      "application/vnd.jupyter.widget-view+json": {
       "model_id": "f2216078284d46ca84b27f144096da1e",
       "version_major": 2,
       "version_minor": 0
      },
      "text/plain": [
       "model.safetensors:   0%|          | 0.00/290M [00:00<?, ?B/s]"
      ]
     },
     "metadata": {},
     "output_type": "display_data"
    },
    {
     "data": {
      "application/vnd.jupyter.widget-view+json": {
       "model_id": "a7b2e2c7f26d47ab8916668a3b9d459f",
       "version_major": 2,
       "version_minor": 0
      },
      "text/plain": [
       "generation_config.json:   0%|          | 0.00/3.81k [00:00<?, ?B/s]"
      ]
     },
     "metadata": {},
     "output_type": "display_data"
    }
   ],
   "source": [
    "from transformers import WhisperProcessor, WhisperForConditionalGeneration\n",
    "\n",
    "checkpoint = \"openai/whisper-base\"\n",
    "processor = WhisperProcessor.from_pretrained(checkpoint)\n",
    "model = WhisperForConditionalGeneration.from_pretrained(checkpoint)\n",
    "model.config.forced_decoder_ids = None\n",
    "model.config.suppress_tokens = []"
   ]
  },
  {
   "cell_type": "code",
   "execution_count": 4,
   "metadata": {},
   "outputs": [
    {
     "data": {
      "application/vnd.jupyter.widget-view+json": {
       "model_id": "5757d5dbdc584a83b70125cb4992ee9e",
       "version_major": 2,
       "version_minor": 0
      },
      "text/plain": [
       "Map:   0%|          | 0/400 [00:00<?, ? examples/s]"
      ]
     },
     "metadata": {},
     "output_type": "display_data"
    },
    {
     "data": {
      "application/vnd.jupyter.widget-view+json": {
       "model_id": "d6c9257b6906475e9f10fc1f0c8508f6",
       "version_major": 2,
       "version_minor": 0
      },
      "text/plain": [
       "Map:   0%|          | 0/400 [00:00<?, ? examples/s]"
      ]
     },
     "metadata": {},
     "output_type": "display_data"
    },
    {
     "data": {
      "application/vnd.jupyter.widget-view+json": {
       "model_id": "d2d98f36a5794c26b1e296e68612a42c",
       "version_major": 2,
       "version_minor": 0
      },
      "text/plain": [
       "Map:   0%|          | 0/400 [00:00<?, ? examples/s]"
      ]
     },
     "metadata": {},
     "output_type": "display_data"
    }
   ],
   "source": [
    "def prepare_dataset(example):\n",
    "    audio = example[\"audio\"]\n",
    "    example[\"input_features\"] = processor.feature_extractor(audio[\"array\"], sampling_rate=16000).input_features[0]\n",
    "    example[\"labels\"] = processor.tokenizer(example[\"sentence\"]).input_ids\n",
    "    return example\n",
    "\n",
    "processed_dataset_train = train_dataset.map(prepare_dataset, remove_columns=train_dataset.column_names)\n",
    "processed_dataset_val = val_dataset.map(prepare_dataset, remove_columns=val_dataset.column_names)\n",
    "processed_dataset_test = test_dataset.map(prepare_dataset, remove_columns=test_dataset.column_names)\n"
   ]
  },
  {
   "cell_type": "code",
   "execution_count": 5,
   "metadata": {},
   "outputs": [],
   "source": [
    "from dataclasses import dataclass\n",
    "from typing import Any, Dict, List, Union\n",
    "import torch\n",
    "\n",
    "@dataclass\n",
    "class DataCollatorSpeechSeq2SeqWithPadding:\n",
    "    processor: Any\n",
    "    padding: Union[bool, str] = True\n",
    "\n",
    "    def __call__(self, features: List[Dict[str, Union[List[int], torch.Tensor]]]) -> Dict[str, torch.Tensor]:\n",
    "        input_features = [{\"input_features\": f[\"input_features\"]} for f in features]\n",
    "        label_features = [{\"input_ids\": f[\"labels\"]} for f in features]\n",
    "        batch = self.processor.feature_extractor.pad(input_features, return_tensors=\"pt\")\n",
    "        labels_batch = self.processor.tokenizer.pad(label_features, return_tensors=\"pt\")\n",
    "        labels = labels_batch[\"input_ids\"].masked_fill(labels_batch.attention_mask.ne(1), -100)\n",
    "        batch[\"labels\"] = labels\n",
    "        return batch\n",
    "\n",
    "data_collator = DataCollatorSpeechSeq2SeqWithPadding(processor=processor)\n"
   ]
  },
  {
   "cell_type": "code",
   "execution_count": 6,
   "metadata": {},
   "outputs": [
    {
     "name": "stderr",
     "output_type": "stream",
     "text": [
      "<ipython-input-6-2628c4d24117>:14: FutureWarning: `tokenizer` is deprecated and will be removed in version 5.0.0 for `Trainer.__init__`. Use `processing_class` instead.\n",
      "  trainer = Trainer(\n"
     ]
    }
   ],
   "source": [
    "from transformers import TrainingArguments, Trainer\n",
    "\n",
    "training_args = TrainingArguments(\n",
    "    output_dir=\"/content/drive/MyDrive/WhisperCheckpoints/run_base_lr1\",\n",
    "    per_device_train_batch_size=4,\n",
    "    learning_rate=1e-5,\n",
    "    num_train_epochs=3,\n",
    "    logging_steps=10,\n",
    "    save_strategy=\"epoch\",\n",
    "    fp16=True,\n",
    "    report_to=\"none\"\n",
    ")\n",
    "\n",
    "trainer = Trainer(\n",
    "    model=model,\n",
    "    args=training_args,\n",
    "    train_dataset=processed_dataset_train,\n",
    "    tokenizer=processor,\n",
    "    data_collator=data_collator\n",
    ")"
   ]
  },
  {
   "cell_type": "code",
   "execution_count": 7,
   "metadata": {},
   "outputs": [
    {
     "name": "stderr",
     "output_type": "stream",
     "text": [
      "Passing a tuple of `past_key_values` is deprecated and will be removed in Transformers v4.43.0. You should pass an instance of `EncoderDecoderCache` instead, e.g. `past_key_values=EncoderDecoderCache.from_legacy_cache(past_key_values)`.\n"
     ]
    },
    {
     "data": {
      "text/html": [
       "\n",
       "    <div>\n",
       "      \n",
       "      <progress value='300' max='300' style='width:300px; height:20px; vertical-align: middle;'></progress>\n",
       "      [300/300 02:53, Epoch 3/3]\n",
       "    </div>\n",
       "    <table border=\"1\" class=\"dataframe\">\n",
       "  <thead>\n",
       " <tr style=\"text-align: left;\">\n",
       "      <th>Step</th>\n",
       "      <th>Training Loss</th>\n",
       "    </tr>\n",
       "  </thead>\n",
       "  <tbody>\n",
       "    <tr>\n",
       "      <td>10</td>\n",
       "      <td>8.489100</td>\n",
       "    </tr>\n",
       "    <tr>\n",
       "      <td>20</td>\n",
       "      <td>7.215100</td>\n",
       "    </tr>\n",
       "    <tr>\n",
       "      <td>30</td>\n",
       "      <td>6.175900</td>\n",
       "    </tr>\n",
       "    <tr>\n",
       "      <td>40</td>\n",
       "      <td>5.372300</td>\n",
       "    </tr>\n",
       "    <tr>\n",
       "      <td>50</td>\n",
       "      <td>4.986800</td>\n",
       "    </tr>\n",
       "    <tr>\n",
       "      <td>60</td>\n",
       "      <td>4.604700</td>\n",
       "    </tr>\n",
       "    <tr>\n",
       "      <td>70</td>\n",
       "      <td>4.698300</td>\n",
       "    </tr>\n",
       "    <tr>\n",
       "      <td>80</td>\n",
       "      <td>4.441100</td>\n",
       "    </tr>\n",
       "    <tr>\n",
       "      <td>90</td>\n",
       "      <td>4.576400</td>\n",
       "    </tr>\n",
       "    <tr>\n",
       "      <td>100</td>\n",
       "      <td>4.183000</td>\n",
       "    </tr>\n",
       "    <tr>\n",
       "      <td>110</td>\n",
       "      <td>4.080300</td>\n",
       "    </tr>\n",
       "    <tr>\n",
       "      <td>120</td>\n",
       "      <td>3.716400</td>\n",
       "    </tr>\n",
       "    <tr>\n",
       "      <td>130</td>\n",
       "      <td>3.743100</td>\n",
       "    </tr>\n",
       "    <tr>\n",
       "      <td>140</td>\n",
       "      <td>3.782100</td>\n",
       "    </tr>\n",
       "    <tr>\n",
       "      <td>150</td>\n",
       "      <td>3.659500</td>\n",
       "    </tr>\n",
       "    <tr>\n",
       "      <td>160</td>\n",
       "      <td>3.668900</td>\n",
       "    </tr>\n",
       "    <tr>\n",
       "      <td>170</td>\n",
       "      <td>3.862400</td>\n",
       "    </tr>\n",
       "    <tr>\n",
       "      <td>180</td>\n",
       "      <td>3.584400</td>\n",
       "    </tr>\n",
       "    <tr>\n",
       "      <td>190</td>\n",
       "      <td>3.694600</td>\n",
       "    </tr>\n",
       "    <tr>\n",
       "      <td>200</td>\n",
       "      <td>3.801900</td>\n",
       "    </tr>\n",
       "    <tr>\n",
       "      <td>210</td>\n",
       "      <td>3.433500</td>\n",
       "    </tr>\n",
       "    <tr>\n",
       "      <td>220</td>\n",
       "      <td>3.318300</td>\n",
       "    </tr>\n",
       "    <tr>\n",
       "      <td>230</td>\n",
       "      <td>3.402700</td>\n",
       "    </tr>\n",
       "    <tr>\n",
       "      <td>240</td>\n",
       "      <td>3.375500</td>\n",
       "    </tr>\n",
       "    <tr>\n",
       "      <td>250</td>\n",
       "      <td>3.379100</td>\n",
       "    </tr>\n",
       "    <tr>\n",
       "      <td>260</td>\n",
       "      <td>3.225600</td>\n",
       "    </tr>\n",
       "    <tr>\n",
       "      <td>270</td>\n",
       "      <td>3.228500</td>\n",
       "    </tr>\n",
       "    <tr>\n",
       "      <td>280</td>\n",
       "      <td>3.228200</td>\n",
       "    </tr>\n",
       "    <tr>\n",
       "      <td>290</td>\n",
       "      <td>3.444500</td>\n",
       "    </tr>\n",
       "    <tr>\n",
       "      <td>300</td>\n",
       "      <td>3.332600</td>\n",
       "    </tr>\n",
       "  </tbody>\n",
       "</table><p>"
      ],
      "text/plain": [
       "<IPython.core.display.HTML object>"
      ]
     },
     "metadata": {},
     "output_type": "display_data"
    },
    {
     "name": "stderr",
     "output_type": "stream",
     "text": [
      "/usr/local/lib/python3.11/dist-packages/transformers/modeling_utils.py:3339: UserWarning: Moving the following attributes in the config to the generation config: {'max_length': 448, 'suppress_tokens': [], 'begin_suppress_tokens': [220, 50257]}. You are seeing this warning because you've set generation parameters in the model config, as opposed to in the generation config.\n",
      "  warnings.warn(\n"
     ]
    },
    {
     "data": {
      "text/plain": [
       "TrainOutput(global_step=300, training_loss=4.190165430704752, metrics={'train_runtime': 175.9322, 'train_samples_per_second': 6.821, 'train_steps_per_second': 1.705, 'total_flos': 7.7831995392e+16, 'train_loss': 4.190165430704752, 'epoch': 3.0})"
      ]
     },
     "execution_count": 7,
     "metadata": {},
     "output_type": "execute_result"
    }
   ],
   "source": [
    "trainer.train()"
   ]
  },
  {
   "cell_type": "code",
   "execution_count": 8,
   "metadata": {},
   "outputs": [
    {
     "data": {
      "text/plain": [
       "[]"
      ]
     },
     "execution_count": 8,
     "metadata": {},
     "output_type": "execute_result"
    }
   ],
   "source": [
    "save_path = \"/content/drive/MyDrive/WhisperCheckpoints/run_base_lr1\"\n",
    "model.save_pretrained(save_path)\n",
    "processor.save_pretrained(save_path)"
   ]
  },
  {
   "cell_type": "code",
   "execution_count": 9,
   "metadata": {},
   "outputs": [
    {
     "name": "stdout",
     "output_type": "stream",
     "text": [
      "🌍 Language: ko\n"
     ]
    },
    {
     "name": "stderr",
     "output_type": "stream",
     "text": [
      "\r",
      "  0%|          | 0/100 [00:00<?, ?it/s]Due to a bug fix in https://github.com/huggingface/transformers/pull/28687 transcription using a multilingual Whisper will default to language detection followed by transcription instead of translation to English.This might be a breaking change for your use case. If you want to instead always translate your audio to English, make sure to pass `language='en'`.\n",
      "The attention mask is not set and cannot be inferred from input because pad token is same as eos token. As a consequence, you may observe unexpected behavior. Please pass your input's `attention_mask` to obtain reliable results.\n",
      "  1%|          | 1/100 [00:05<09:13,  5.59s/it]"
     ]
    },
    {
     "name": "stdout",
     "output_type": "stream",
     "text": [
      "🔹 Predicted:  کیا کہاں کچھا کہاں کچھا کہاں کچھا کہاں کچھا کہاں کچھا کہاں کچھا کہاں کچھا کہاں کچھا کہاں کچھا کہاں کچھا کہاں کچھا کہاں کچھا کہاں کچھا کہاں کچھا کہاں کچھا کہاں کچھا کہاں کچھا کہاں کچھا کہاں کچھا کہاں کچھا کہاں کچھا کہاں کچھا کہاں کچھا کہاں کچھا کہاں کچھا کہاں کچھا کہاں کچھا کہاں کچھا کہاں کچھا کہاں کچھا کہاں کچھا کہاں کچھا کہاں کچھا کہاں کچھا کہاں کچھا کہاں کچھا کہاں کچھا کہاں کچھا کہاں کچھا کہاں کچھا کہاں کچھا کہاں کچھا کہاں کچھا کہاں کچھا کہاں کچھا کہاں کچھا کہاں کچھا کہاں کچھا کہاں کچھا کہاں کچھا کہاں کچھا کہاں کچھا کہاں کچھا کہاں کچھا کہاں کچھا کہاں کچھا کہاں کچھا کہاں کچھا کہاں کچھا کہاں کچھا کہاں کچھا کہاں کچھا کہاں کچھا کہ\n",
      "🔸 Reference: 그와 동시에 애상적이던 기분은 구름과 같이 흩어지고 안개처럼 스러졌다.\n"
     ]
    },
    {
     "name": "stderr",
     "output_type": "stream",
     "text": [
      "\r",
      "  2%|▏         | 2/100 [00:10<08:29,  5.20s/it]"
     ]
    },
    {
     "name": "stdout",
     "output_type": "stream",
     "text": [
      "🔹 Predicted:  کیا کہ ہوں کہ ہوں کہ ہوں کہ ہوں کہ ہوں کہ ہوں کہ ہوں کہ ہوں کہ ہوں کہ ہوں کہ ہوں کہ ہوں کہ ہوں کہ ہوں کہ ہوں کہ ہوں کہ ہوں کہ ہوں کہ ہوں کہ ہوں کہ ہوں کہ ہوں کہ ہوں کہ ہوں کہ ہوں کہ ہوں کہ ہوں کہ ہوں کہ ہوں کہ ہوں کہ ہوں کہ ہوں کہ ہوں کہ ہوں کہ ہوں کہ ہوں کہ ہوں کہ ہوں کہ ہوں کہ ہوں کہ ہوں کہ ہوں کہ ہوں کہ ہوں کہ ہوں کہ ہوں کہ ہوں کہ ہوں کہ ہوں کہ ہوں کہ ہوں کہ ہوں کہ ہوں کہ ہوں کہ ہوں کہ ہوں کہ ہوں کہ ہوں کہ ہوں کہ ہوں کہ ہوں کہ ہوں کہ ہوں کہ ہوں کہ ہوں کہ ہوں کہ ہوں کہ ہوں کہ ہوں کہ ہوں کہ ہوں کہ ہوں کہ ہوں کہ ہوں کہ ہوں کہ ہوں کہ ہوں کہ ہوں کہ ہوں کہ ہوں کہ ہوں کہ ہوں کہ ہوں کہ ہوں کہ ہوں کہ ہوں کہ ہوں کہ ہوں کہ ہوں کہ ہوں کہ ہوں کہ ہوں کہ ہوں کہ ہوں کہ ہوں کہ ہوں کہ ہوں کہ ہوں کہ ہوں کہ ہوں کہ ہوں کہ ہوں کہ ہوں کہ ہوں کہ ہوں کہ ہوں کہ ہوں کہ ہوں کہ ہوں کہ ہوں کہ ہوں کہ ہوں کہ ہوں کہ ہوں کہ ہوں کہ ہوں کہ ہوں کہ ہوں کہ ہوں کہ ہوں کہ ہوں کہ ہوں کہ ہوں کہ ہوں کہ ہوں کہ ہوں کہ ہوں کہ ہوں کہ ہوں کہ ہوں کہ ہوں کہ ہوں کہ ہوں کہ ہوں کہ ہوں کہ ہوں کہ ہوں کہ ہوں کہ ہوں کہ ہوں کہ ہوں کہ ہوں کہ ہوں کہ ہوں کہ ہوں کہ ہوں کہ ہ\n",
      "🔸 Reference: 하면서도 기천은 동혁이가 먹는다는 바람에 숨도 아니 쉬고 쪼옥 들이켰다.\n"
     ]
    },
    {
     "name": "stderr",
     "output_type": "stream",
     "text": [
      "\r",
      "  3%|▎         | 3/100 [00:11<05:00,  3.09s/it]"
     ]
    },
    {
     "name": "stdout",
     "output_type": "stream",
     "text": [
      "🔹 Predicted:  ہمیں گے ہیں کہ ہمیں ان்கும் செல்லாம் என்று நில்லையும் செல்லாம்.\n",
      "🔸 Reference: 의사에게 죽음의 선고를 받은 줄도 모르는 영신은 주사 기운에 조금 의식을 회복하였다.\n"
     ]
    },
    {
     "name": "stderr",
     "output_type": "stream",
     "text": [
      "  5%|▌         | 5/100 [00:11<02:06,  1.34s/it]"
     ]
    },
    {
     "name": "stdout",
     "output_type": "stream",
     "text": [
      "🔹 Predicted:  کیوں نے 그곳의 뱀에 뱀히 뱀히 뱀히 뱀다.\n",
      "🔸 Reference: 무릇 경영은 의논함으로 성취하나니 모략을 베풀고 전쟁할지니라\n",
      "🔹 Predicted:  ہمیں گی ہے\n",
      "🔸 Reference: 아니다 결코 아니다.\n"
     ]
    },
    {
     "name": "stderr",
     "output_type": "stream",
     "text": [
      "\r",
      "  6%|▌         | 6/100 [00:11<01:27,  1.08it/s]"
     ]
    },
    {
     "name": "stdout",
     "output_type": "stream",
     "text": [
      "🔹 Predicted:  ہمیں گے ہیں\n",
      "🔸 Reference: 공연한 소리 하지 말고 어서 가세.\n"
     ]
    },
    {
     "name": "stderr",
     "output_type": "stream",
     "text": [
      "\r",
      "  7%|▋         | 7/100 [00:16<03:26,  2.22s/it]"
     ]
    },
    {
     "name": "stdout",
     "output_type": "stream",
     "text": [
      "🔹 Predicted:  ہم ہم ہم ہم ہم ہم ہم ہم ہم ہم ہم ہم ہم ہم ہم ہم ہم ہم ہم ہم ہم ہم ہم ہم ہم ہم ہم ہم ہم ہم ہم ہم ہم ہم ہم ہم ہم ہم ہم ہم ہم ہم ہم ہم ہم ہم ہم ہم ہم ہم ہم ہم ہم ہم ہم ہم ہم ہم ہم ہم ہم ہم ہم ہم ہم ہم ہم ہم ہم ہم ہم ہم ہم ہم ہم ہم ہم ہم ہم ہم ہم ہم ہم ہم ہم ہم ہم ہم ہم ہم ہم ہم ہم ہم ہم ہم ہم ہم ہم ہم ہم ہم ہم ہم ہم ہم ہم ہم ہم ہم ہم ہم ہم ہم ہم ہم ہم ہم ہم ہم ہم ہم ہم ہم ہم ہم ہم ہم ہم ہم ہم ہم ہم ہم ہم ہم ہم ہم ہم ہم ہم ہم ہم ہم ہم ہم ہم ہم ہم ہم ہم ہم ہم ہم ہم ہم ہم ہم ہم ہم ہم ہم ہم ہم ہم ہم ہم ہم ہم ہم ہم ہم ہم ہم ہم ہم ہم ہم ہم ہم ہم ہم ہم ہم ہم ہم ہم ہم ہم ہم ہم ہم ہم ہم ہم ہم ہم ہم ہم ہم ہم ہم ہم ہم ہم ہم ہم ہم ہم ہم ہم ہم ہم ہم ہم ہم ہم ہم ہم ہم ہم ہم\n",
      "🔸 Reference: 선비는 받아 가지고 간난의 뒤를 따랐다.\n"
     ]
    },
    {
     "name": "stderr",
     "output_type": "stream",
     "text": [
      "\r",
      "  8%|▊         | 8/100 [00:17<02:32,  1.65s/it]"
     ]
    },
    {
     "name": "stdout",
     "output_type": "stream",
     "text": [
      "🔹 Predicted:  ہمیں گے ہیں کہ ہمیں ان்கும் போல்லையும் செல்லாம்.\n",
      "🔸 Reference: 새벽배송보다도 로켓배송보다도 빠른 양자 배송 서비스를 오늘부터 시작합니다.\n"
     ]
    },
    {
     "name": "stderr",
     "output_type": "stream",
     "text": [
      "\r",
      "  9%|▉         | 9/100 [00:17<01:49,  1.20s/it]"
     ]
    },
    {
     "name": "stdout",
     "output_type": "stream",
     "text": [
      "🔹 Predicted:  ہمیں گے ہیں کہ ہمیں گے ہیں\n",
      "🔸 Reference: 청하는 이쪽 노를 저으면서 소리를 지른다.\n"
     ]
    },
    {
     "name": "stderr",
     "output_type": "stream",
     "text": [
      "\r",
      " 10%|█         | 10/100 [00:17<01:26,  1.04it/s]"
     ]
    },
    {
     "name": "stdout",
     "output_type": "stream",
     "text": [
      "🔹 Predicted:  ہمیں گے ہیں کہ ہمیں ان்கும் போல்லையும் செல்லாம்.\n",
      "🔸 Reference: 여러 사람의 앞으로 한 걸음 다가서며 그 검붉은 얼굴이 매우 긴장해진다.\n"
     ]
    },
    {
     "name": "stderr",
     "output_type": "stream",
     "text": [
      "\r",
      " 11%|█         | 11/100 [00:17<01:05,  1.37it/s]"
     ]
    },
    {
     "name": "stdout",
     "output_type": "stream",
     "text": [
      "🔹 Predicted:  ہمیں گے ہیں کہ ہمیں گے ہیں\n",
      "🔸 Reference: 여전히 사건 파악을 못 하고 있는데도?\n"
     ]
    },
    {
     "name": "stderr",
     "output_type": "stream",
     "text": [
      "\r",
      " 12%|█▏        | 12/100 [00:18<01:01,  1.44it/s]"
     ]
    },
    {
     "name": "stdout",
     "output_type": "stream",
     "text": [
      "🔹 Predicted:  ہمیں گی ہے کہ ہمیں ایک کچھا کچھ کچھ کچھا کچھا کچھا کچھا کچھا کچھا کچھا\n",
      "🔸 Reference: 즐겁고 재미있는 콘텐츠를 만들 작가를 모집합니다.\n",
      "🔹 Predicted:  ہمیں گے ہیں کہ ہمیں گے ہیں\n",
      "🔸 Reference: 이거리를 둘이서 걸어요.\n"
     ]
    },
    {
     "name": "stderr",
     "output_type": "stream",
     "text": [
      " 14%|█▍        | 14/100 [00:18<00:38,  2.25it/s]"
     ]
    },
    {
     "name": "stdout",
     "output_type": "stream",
     "text": [
      "🔹 Predicted:  ہمیں گے ہیں کہ ہمیں گے ہیں\n",
      "🔸 Reference: 간난이는 생긋 웃어 보이며 머리를 흔들었다.\n"
     ]
    },
    {
     "name": "stderr",
     "output_type": "stream",
     "text": [
      "\r",
      " 15%|█▌        | 15/100 [00:19<00:33,  2.53it/s]"
     ]
    },
    {
     "name": "stdout",
     "output_type": "stream",
     "text": [
      "🔹 Predicted:  ہمیں گے ہیں کہ ہمیں گے ہیں کہ ہمیں گے ہیں\n",
      "🔸 Reference: 무어가 무언지 분간할 수 없는 나는 이렇게 물었다.\n"
     ]
    },
    {
     "name": "stderr",
     "output_type": "stream",
     "text": [
      "\r",
      " 16%|█▌        | 16/100 [00:24<02:28,  1.77s/it]"
     ]
    },
    {
     "name": "stdout",
     "output_type": "stream",
     "text": [
      "🔹 Predicted:  ہمیں گی ہے کہ ہمیں ایک ایک ایک ایک ایک ایک ایک ایک ایک ایک ایک ایک ایک ایک ایک ایک ایک ایک ایک ایک ایک ایک ایک ایک ایک ایک ایک ایک ایک ایک ایک ایک ایک ایک ایک ایک ایک ایک ایک ایک ایک ایک ایک ایک ایک ایک ایک ایک ایک ایک ایک ایک ایک ایک ایک ایک ایک ایک ایک ایک ایک ایک ایک ایک ایک ایک ایک ایک ایک ایک ایک ایک ایک ایک ایک ایک ایک ایک ایک ایک ایک ایک ایک ایک ایک ایک ایک ایک ایک ایک ایک ایک ایک ایک ایک ایک ایک ایک ایک ایک ایک ایک ایک ایک ایک ایک ایک ایک ایک ایک ایک ایک ایک ایک ایک ایک ایک ایک ایک ایک ایک ایک ایک ایک ایک ایک ایک ایک ایک ایک ایک ایک ایک ایک ایک ایک ایک ایک ایک ایک ایک ایک ایک ایک ایک ایک ایک ایک ایک ایک ایک ایک ایک ایک ایک ایک ایک ایک ایک ایک ایک ایک ایک ایک ایک ایک ایک ایک ایک ایک ایک ایک ایک ایک ایک ایک ایک ایک ایک ایک ایک ایک ایک ایک ایک ایک ایک ایک ایک ایک ایک ایک ایک ایک ایک ایک ایک ایک ایک ایک ایک ایک ایک ایک ایک ایک ایک ایک ایک ایک ایک ایک ایک ایک ایک ایک ایک\n",
      "🔸 Reference: 국무총리는 국회의 동의를 얻어 대통령이 임명한다.\n"
     ]
    },
    {
     "name": "stderr",
     "output_type": "stream",
     "text": [
      "\r",
      " 17%|█▋        | 17/100 [00:29<03:44,  2.71s/it]"
     ]
    },
    {
     "name": "stdout",
     "output_type": "stream",
     "text": [
      "🔹 Predicted:  کیا کہاں کچھا کہاں کچھا کہاں کچھا کہاں کچھا کہاں کچھا کہاں کچھا کہاں کچھا کہاں کچھا کہاں کچھا کہاں کچھا کہاں کچھا کہاں کچھا کہاں کچھا کہاں کچھا کہاں کچھا کہاں کچھا کہاں کچھا کہاں کچھا کہاں کچھا کہاں کچھا کہاں کچھا کہاں کچھا کہاں کچھا کہاں کچھا کہاں کچھا کہاں کچھا کہاں کچھا کہاں کچھا کہاں کچھا کہاں کچھا کہاں کچھا کہاں کچھا کہاں کچھا کہاں کچھا کہاں کچھا کہاں کچھا کہاں کچھا کہاں کچھا کہاں کچھا کہاں کچھا کہاں کچھا کہاں کچھا کہاں کچھا کہاں کچھا کہاں کچھا کہاں کچھا کہاں کچھا کہاں کچھا کہاں کچھا کہاں کچھا کہاں کچھا کہاں کچھا کہاں کچھا کہاں کچھا کہاں کچھا کہاں کچھا کہاں کچھا کہاں کچھا کہاں کچھا کہاں کچھا کہاں کچھا کہاں کچھا کہاں کچھا کہ\n",
      "🔸 Reference: 부르짖으며 발길로 벽을 걷어차고 일어났다.\n"
     ]
    },
    {
     "name": "stderr",
     "output_type": "stream",
     "text": [
      "\r",
      " 18%|█▊        | 18/100 [00:29<02:42,  1.98s/it]"
     ]
    },
    {
     "name": "stdout",
     "output_type": "stream",
     "text": [
      "🔹 Predicted:  ہمیں گے ہیں کہ ہمیں گے ہیں کہ ہمیں گے ہیں\n",
      "🔸 Reference: 나오는 줄 모르고 이런 말을 하고도 가슴이 선뜩하였다.\n"
     ]
    },
    {
     "name": "stderr",
     "output_type": "stream",
     "text": [
      "\r",
      " 19%|█▉        | 19/100 [00:34<03:50,  2.85s/it]"
     ]
    },
    {
     "name": "stdout",
     "output_type": "stream",
     "text": [
      "🔹 Predicted:  ہمیں گے وہ کچھ کچھ کچھ کچھ کچھ کچھ کچھ کچھ کچھ کچھ کچھ کچھ کچھ کچھ کچھ کچھ کچھ کچھ کچھ کچھ کچھ کچھ کچھ کچھ کچھ کچھ کچھ کچھ کچھ کچھ کچھ کچھ کچھ کچھ کچھ کچھ کچھ کچھ کچھ کچھ کچھ کچھ کچھ کچھ کچھ کچھ کچھ کچھ کچھ کچھ کچھ کچھ کچھ کچھ کچھ کچھ کچھ کچھ کچھ کچھ کچھ کچھ کچھ کچھ کچھ کچھ کچھ کچھ کچھ کچھ کچھ کچھ کچھ کچھ کچھ کچھ کچھ کچھ کچھ کچھ کچھ کچھ کچھ کچھ کچھ کچھ کچھ کچھ کچھ کچھ کچھ کچھ کچھ کچھ کچھ کچھ کچھ کچھ کچھ کچھ کچھ کچھ کچھ کچھ کچھ کچھ کچھ کچھ کچھ کچھ کچھ کچھ کچھ کچھ کچھ کچھ کچھ کچھ کچھ کچھ کچھ کچھ کچھ کچھ کچھ کچھ کچھ کچھ کچھ کچھ کچھ کچھ کچھ کچھ کچھ کچھ کچھ کچھ کچھ کچھ کچھ کچھ کچھ کچھ کچھ کچھ\n",
      "🔸 Reference: 저 뒤에 동영상으로 주암동 사건 개요가 나올 겁니다.\n"
     ]
    },
    {
     "name": "stderr",
     "output_type": "stream",
     "text": [
      " 21%|██        | 21/100 [00:39<03:14,  2.46s/it]"
     ]
    },
    {
     "name": "stdout",
     "output_type": "stream",
     "text": [
      "🔹 Predicted:  ہمیں گی ہے کہ ہمیں ایک کچھا کچھ کچھ کچھ کچھ کچھ کچھ کچھ کچھ کچھ کچھ کچھ کچھ کچھ کچھ کچھ کچھ کچھ کچھ کچھ کچھ کچھ کچھ کچھ کچھ کچھ کچھ کچھ کچھ کچھ کچھ کچھ کچھ کچھ کچھ کچھ کچھ کچھ کچھ کچھ کچھ کچھ کچھ کچھ کچھ کچھ کچھ کچھ کچھ کچھ کچھ کچھ کچھ کچھ کچھ کچھ کچھ کچھ کچھ کچھ کچھ کچھ کچھ کچھ کچھ کچھ کچھ کچھ کچھ کچھ کچھ کچھ کچھ کچھ کچھ کچھ کچھ کچھ کچھ کچھ کچھ کچھ کچھ کچھ کچھ کچھ کچھ کچھ کچھ کچھ کچھ کچھ کچھ کچھ کچھ کچھ کچھ کچھ کچھ کچھ کچھ کچھ کچھ کچھ کچھ کچھ کچھ کچھ کچھ کچھ کچھ کچھ کچھ کچھ کچھ کچھ کچھ کچھ کچھ کچھ کچھ کچھ کچھ کچھ کچھ کچھ کچھ کچھ کچھ کچھ کچھ کچھ کچھ کچھ کچھ کچھ کچھ کچھ کچھ کچھ کچھ کچھ کچھ کچ\n",
      "🔸 Reference: 게으른 자는 말하기를 사자가 밖에 있은즉 내가 나가면 거리에서 찢기겠다 하느니라\n",
      "🔹 Predicted:  ہمیں گی ہے\n",
      "🔸 Reference: 그럼, 내일 오랍쇼니까?\n"
     ]
    },
    {
     "name": "stderr",
     "output_type": "stream",
     "text": [
      "\r",
      " 22%|██▏       | 22/100 [00:44<04:08,  3.19s/it]"
     ]
    },
    {
     "name": "stdout",
     "output_type": "stream",
     "text": [
      "🔹 Predicted:  ہمیں گے ہیں کہ ہمیں ایک کچھا کچھ کچھ کچھ کچھ کچھ کچھ کچھ کچھ کچھ کچھ کچھ کچھ کچھ کچھ کچھ کچھ کچھ کچھ کچھ کچھ کچھ کچھ کچھ کچھ کچھ کچھ کچھ کچھ کچھ کچھ کچھ کچھ کچھ کچھ کچھ کچھ کچھ کچھ کچھ کچھ کچھ کچھ کچھ کچھ کچھ کچھ کچھ کچھ کچھ کچھ کچھ کچھ کچھ کچھ کچھ کچھ کچھ کچھ کچھ کچھ کچھ کچھ کچھ کچھ کچھ کچھ کچھ کچھ کچھ کچھ کچھ کچھ کچھ کچھ کچھ کچھ کچھ کچھ کچھ کچھ کچھ کچھ کچھ کچھ کچھ کچھ کچھ کچھ کچھ کچھ کچھ کچھ کچھ کچھ کچھ کچھ کچھ کچھ کچھ کچھ کچھ کچھ کچھ کچھ کچھ کچھ کچھ کچھ کچھ کچھ کچھ کچھ کچھ کچھ کچھ کچھ کچھ کچھ کچھ کچھ کچھ کچھ کچھ کچھ کچھ کچھ کچھ کچھ کچھ کچھ کچھ کچھ کچھ کچھ کچھ کچھ کچھ کچھ کچھ کچھ کچھ کچھ کچ\n",
      "🔸 Reference: 그는 나를 밀쳐 버린 다음에 그 음보를 들고서 읽기 시작하였습니다.\n"
     ]
    },
    {
     "name": "stderr",
     "output_type": "stream",
     "text": [
      "\r",
      " 23%|██▎       | 23/100 [00:49<04:46,  3.73s/it]"
     ]
    },
    {
     "name": "stdout",
     "output_type": "stream",
     "text": [
      "🔹 Predicted:  کیا کہاں کچھا کہاں کچھا کہاں کچھا کہاں کچھا کہاں کچھا کہاں کچھا کہاں کچھا کہاں کچھا کہاں کچھا کہاں کچھا کہاں کچھا کہاں کچھا کہاں کچھا کہاں کچھا کہاں کچھا کہاں کچھا کہاں کچھا کہاں کچھا کہاں کچھا کہاں کچھا کہاں کچھا کہاں کچھا کہاں کچھا کہاں کچھا کہاں کچھا کہاں کچھا کہاں کچھا کہاں کچھا کہاں کچھا کہاں کچھا کہاں کچھا کہاں کچھا کہاں کچھا کہاں کچھا کہاں کچھا کہاں کچھا کہاں کچھا کہاں کچھا کہاں کچھا کہاں کچھا کہاں کچھا کہاں کچھا کہاں کچھا کہاں کچھا کہاں کچھا کہاں کچھا کہاں کچھا کہاں کچھا کہاں کچھا کہاں کچھا کہاں کچھا کہاں کچھا کہاں کچھا کہاں کچھا کہاں کچھا کہاں کچھا کہاں کچھا کہاں کچھا کہاں کچھا کہاں کچھا کہاں کچھا کہاں کچھا کہاں کچھا کہ\n",
      "🔸 Reference: 그리고 이 집에서 옥점이를 어떻게 귀여워하는 것을 잠시간이라도 알 수가 있다.\n"
     ]
    },
    {
     "name": "stderr",
     "output_type": "stream",
     "text": [
      "\r",
      " 24%|██▍       | 24/100 [00:54<05:10,  4.08s/it]"
     ]
    },
    {
     "name": "stdout",
     "output_type": "stream",
     "text": [
      "🔹 Predicted:  کیا کہاں کچھا کہاں کچھا کہاں کچھا کہاں کچھا کہاں کچھا کہاں کچھا کہاں کچھا کہاں کچھا کہاں کچھا کہاں کچھا کہاں کچھا کہاں کچھا کہاں کچھا کہاں کچھا کہاں کچھا کہاں کچھا کہاں کچھا کہاں کچھا کہاں کچھا کہاں کچھا کہاں کچھا کہاں کچھا کہاں کچھا کہاں کچھا کہاں کچھا کہاں کچھا کہاں کچھا کہاں کچھا کہاں کچھا کہاں کچھا کہاں کچھا کہاں کچھا کہاں کچھا کہاں کچھا کہاں کچھا کہاں کچھا کہاں کچھا کہاں کچھا کہاں کچھا کہاں کچھا کہاں کچھا کہاں کچھا کہاں کچھا کہاں کچھا کہاں کچھا کہاں کچھا کہاں کچھا کہاں کچھا کہاں کچھا کہاں کچھا کہاں کچھا کہاں کچھا کہاں کچھا کہاں کچھا کہاں کچھا کہاں کچھا کہاں کچھا کہاں کچھا کہاں کچھا کہاں کچھا کہاں کچھا کہاں کچھا کہاں کچھا کہ\n",
      "🔸 Reference: 아까까지 영신은 그 불을 얕은 하늘의 별들이 반짝이는 줄로만 알고있었다.\n"
     ]
    },
    {
     "name": "stderr",
     "output_type": "stream",
     "text": [
      "\r",
      " 25%|██▌       | 25/100 [00:54<03:39,  2.92s/it]"
     ]
    },
    {
     "name": "stdout",
     "output_type": "stream",
     "text": [
      "🔹 Predicted:  ہمیں گے ہیں کہ ہمیں گے ہیں.\n",
      "🔸 Reference: 의심하는 마음과 한꺼번에 일어나는 것은 질투였다.\n"
     ]
    },
    {
     "name": "stderr",
     "output_type": "stream",
     "text": [
      "\r",
      " 26%|██▌       | 26/100 [00:59<04:21,  3.54s/it]"
     ]
    },
    {
     "name": "stdout",
     "output_type": "stream",
     "text": [
      "🔹 Predicted:  کیاہاں کچھا کچھا کچھا کچھا کچھا کچھا کچھا کچھا کچھا کچھا کچھا کچھا کچھا کچھا کچھا کچھا کچھا کچھا کچھا کچھا کچھا کچھا کچھا کچھا کچھا کچھا کچھا کچھا کچھا کچھا کچھا کچھا کچھا کچھا کچھا کچھا کچھا کچھا کچھا کچھا کچھا کچھا کچھا کچھا کچھا کچھا کچھا کچھا کچھا کچھا کچھا کچھا کچھا کچھا کچھا کچھا کچھا کچھا کچھا کچھا کچھا کچھا کچھا کچھا کچھا کچھا کچھا کچھا کچھا کچھا کچھا کچھا کچھا کچھا کچھا کچھا کچھا کچھا کچھا کچھا کچھا کچھا کچھا کچھا کچھا کچھا کچھا کچھا کچھا کچھا کچھا کچھا کچھا کچھا کچھا کچھا کچھا کچھا کچھا کچھا کچھا کچھا کچھا کچھا کچھا کچھا کچھا کچھا کچھا کچھ\n",
      "🔸 Reference: 골김에 그저 이놈의 장인님, 하고 댓돌에다 메꼰코 우리 고향으로 내뺄까 하다가 꾹꾹 참고 말았다.\n"
     ]
    },
    {
     "name": "stderr",
     "output_type": "stream",
     "text": [
      "\r",
      " 27%|██▋       | 27/100 [00:59<03:11,  2.62s/it]"
     ]
    },
    {
     "name": "stdout",
     "output_type": "stream",
     "text": [
      "🔹 Predicted:  அگیز پیچھا کچھ کچھ کچھ کچھ کچھ کچھ کچھ کچھ کچھ کچھ\n",
      "🔸 Reference: 여보게 김첨지\n"
     ]
    },
    {
     "name": "stderr",
     "output_type": "stream",
     "text": [
      "\r",
      " 28%|██▊       | 28/100 [00:59<02:18,  1.92s/it]"
     ]
    },
    {
     "name": "stdout",
     "output_type": "stream",
     "text": [
      "🔹 Predicted:  ہمیں گے ہیں کہ ہمیں گے ہیں کہ ہمیں گے ہیں\n",
      "🔸 Reference: 갑자기 튀어져 나오는 광포, 거기 연한 쾌미, 흥소\n"
     ]
    },
    {
     "name": "stderr",
     "output_type": "stream",
     "text": [
      "\r",
      " 29%|██▉       | 29/100 [01:00<01:45,  1.49s/it]"
     ]
    },
    {
     "name": "stdout",
     "output_type": "stream",
     "text": [
      "🔹 Predicted:  ہمیں گے ہیں کہ ہمیں کچھا کچھ ہم کچھ ہم کچھ ہم ہم ہمیں گے گا\n",
      "🔸 Reference: 뜨거운 볕이 그의 전신을 후끈하게 하였다.\n"
     ]
    },
    {
     "name": "stderr",
     "output_type": "stream",
     "text": [
      "\r",
      " 30%|███       | 30/100 [01:00<01:19,  1.13s/it]"
     ]
    },
    {
     "name": "stdout",
     "output_type": "stream",
     "text": [
      "🔹 Predicted:  Върде е нещо е нещо, а върде е нещо.\n",
      "🔸 Reference: 어리석은 자로 슬기롭게 하며 젊은 자에게 지식과 근신함을 주기 위한 것이니\n"
     ]
    },
    {
     "name": "stderr",
     "output_type": "stream",
     "text": [
      "\r",
      " 31%|███       | 31/100 [01:05<02:36,  2.27s/it]"
     ]
    },
    {
     "name": "stdout",
     "output_type": "stream",
     "text": [
      "🔹 Predicted:  Дърън не е върън в тън кън върън в тън върън върън върън върън върън върън върън върън върън върън върън върън върън върън върън върън върън върън върън върън върън върън върън върън върън върън върън върън върън върън върън върън върън върън върън върън върън върън върън върън върън върън върън върън върън върън върън върън върън върън върън върън върън върън върън върън върън върън върън върън върън върън върън върън върън върън върън върън върън върън върън върън върън върън върън върън върън върън върън върън върън върън върън в\n",
      "🔸 Reference: 그 여학생인지 만지가 한참은 매우 때깔을 빼며 입술을 꼭 다문 채 김첨지를 거들떠보지도 않았다.\n"
     ]
    },
    {
     "name": "stderr",
     "output_type": "stream",
     "text": [
      "\r",
      " 32%|███▏      | 32/100 [01:05<01:54,  1.68s/it]"
     ]
    },
    {
     "name": "stdout",
     "output_type": "stream",
     "text": [
      "🔹 Predicted:  Върде елзирателно е на това елзирателно.\n",
      "🔸 Reference: 한마디를 남기고 동혁은 구두징 소리를 뚜벅뚜벅 내며 골목 밖으로 나가 버린다.\n",
      "🔹 Predicted:  کیا ہے\n",
      "🔸 Reference: 스스로가 형편없다고 생각하지 말라.\n"
     ]
    },
    {
     "name": "stderr",
     "output_type": "stream",
     "text": [
      "\r",
      " 34%|███▍      | 34/100 [01:06<01:05,  1.00it/s]"
     ]
    },
    {
     "name": "stdout",
     "output_type": "stream",
     "text": [
      "🔹 Predicted:  Върде елзирателем с това елзирателем.\n",
      "🔸 Reference: 하고 무엇을 알아챘다는 듯이 가만히 창하의 계속하는 말만 듣고 있다.\n"
     ]
    },
    {
     "name": "stderr",
     "output_type": "stream",
     "text": [
      " 36%|███▌      | 36/100 [01:06<00:41,  1.54it/s]"
     ]
    },
    {
     "name": "stdout",
     "output_type": "stream",
     "text": [
      "🔹 Predicted:  پیر کچھا کچھا کچھا کچھا کچھا کچھا\n",
      "🔸 Reference: 권력을 휘두르는 그 정치인의 모습을 보며 대중들이 실망을 느꼈다.\n",
      "🔹 Predicted:  کیا ہے؟\n",
      "🔸 Reference: 그들이 집까지 왔을 때는 어슬어슬한 황혼이었다.\n"
     ]
    },
    {
     "name": "stderr",
     "output_type": "stream",
     "text": [
      "\r",
      " 37%|███▋      | 37/100 [01:11<01:55,  1.83s/it]"
     ]
    },
    {
     "name": "stdout",
     "output_type": "stream",
     "text": [
      "🔹 Predicted:  پیر کچھا کچھا کچھا کچھا کچھا کچھا کچھا کچھا کچھا کچھا کچھا کچھا کچھا کچھا کچھا کچھا کچھا کچھا کچھا کچھا کچھا کچھا کچھا کچھا کچھا کچھا کچھا کچھا کچھا کچھا کچھا کچھا کچھا کچھا کچھا کچھا کچھا کچھا کچھا کچھا کچھا کچھا کچھا کچھا کچھا کچھا کچھا کچھا کچھا کچھا کچھا کچھا کچھا کچھا کچھا کچھا کچھا کچھا کچھا کچھا کچھا کچھا کچھا کچھا کچھا کچھا کچھا کچھا کچھا کچھا کچھا کچھا کچھا کچھا کچھا کچھا کچھا کچھا کچھا کچھا کچھا کچھا کچھا کچھا کچھا کچھا کچھا کچھا کچھا کچھا کچھا کچھا کچھا کچھا کچھا کچھا کچھا کچھا کچھا کچھا کچھا کچھا کچھا کچھا کچھا کچھا کچھا کچھا کچھا کچھا ک\n",
      "🔸 Reference: 그 기회론을 주장하는 사람은, 유명한 음악 비평가 K씨였었다.\n"
     ]
    },
    {
     "name": "stderr",
     "output_type": "stream",
     "text": [
      "\r",
      " 38%|███▊      | 38/100 [01:12<01:35,  1.53s/it]"
     ]
    },
    {
     "name": "stdout",
     "output_type": "stream",
     "text": [
      "🔹 Predicted:  ஏற்குத்துவிட்டும் போல்லையும் போல்லையும் போல்லையும் ஓர்கள் ஓர்கள் அல்லவா?\n",
      "🔸 Reference: 무대 앞에 서면 모두가 긴장하기 마련이야.\n",
      "🔹 Predicted:  کیا ہے\n",
      "🔸 Reference: 따라서 물 먹고 싶은 생각이 버쩍 들었다.\n"
     ]
    },
    {
     "name": "stderr",
     "output_type": "stream",
     "text": [
      "\r",
      " 40%|████      | 40/100 [01:13<00:58,  1.03it/s]"
     ]
    },
    {
     "name": "stdout",
     "output_type": "stream",
     "text": [
      "🔹 Predicted:  ஏன்றுவில்லையும் போக்கிறாய்விற்கும்.\n",
      "🔸 Reference: 삼십 년이라는 세월이 흘렀습니다.\n"
     ]
    },
    {
     "name": "stderr",
     "output_type": "stream",
     "text": [
      " 42%|████▏     | 42/100 [01:18<01:24,  1.46s/it]"
     ]
    },
    {
     "name": "stdout",
     "output_type": "stream",
     "text": [
      "🔹 Predicted:  ஏற்குத்துவிட்டும் போல்லையும் போல்லையும் போல்லையும் ஓர்கள் ஓர்கள் ஓர்கள் ஓர்கள் ஓர்கள் ஓர்கள் ஓர்கள் ஓர்கள் ஓர்கள் ஓர்கள் ஓர்கள் ஓர்கள் ஓர்கள் ஓர்கள் ஓர்கள் ஓர்கள் ஓர்கள் ஓர்கள் ஓர்கள் ஓர்கள் ஓர்கள் ஓர்கள் ஓர்கள் ஓர்கள் ஓர்கள் ஓர்கள் ஓர்கள் ஓர்கள் ஓர்கள் ஓர்கள் ஓர்கள் ஓர்கள் ஓர்கள் ஓர்கள் ஓர்கள் ஓர்கள் ஓர்கள் ஓர்கள் ஓர்கள் ஓர்கள் ஓர்கள் ஓர்கள் ஓர்கள் ஓர்கள் ஓர்கள் ஓர்கள் ஓர்கள் ஓர்கள் ஓர்கள் ஓர்கள் ஓர்கள் ஓர்கள் ஓர்கள் ஓர்கள் ஓர்கள் ஓர்கள் ஓர்கள் ஓர்கள் ஓர்கள் ஓர்கள் ஓர்கள் ஓர்கள் ஓர்கள் ஓர்கள் ஓர்கள் ஓர்கள்\n",
      "🔸 Reference: 내일이나 모레나 그 어느 즐거운 날에\n",
      "🔹 Predicted:  کیا ہے؟\n",
      "🔸 Reference: 저녁이 되며 아침이 되니 이는 네째 날이니라\n"
     ]
    },
    {
     "name": "stderr",
     "output_type": "stream",
     "text": [
      "\r",
      " 43%|████▎     | 43/100 [01:18<01:07,  1.18s/it]"
     ]
    },
    {
     "name": "stdout",
     "output_type": "stream",
     "text": [
      "🔹 Predicted:  ஏன்று நில்லையும் போக்கிறாய் அல்லவா?\n",
      "🔸 Reference: 밝은 달은 우리 가슴 일편단심일세\n"
     ]
    },
    {
     "name": "stderr",
     "output_type": "stream",
     "text": [
      "\r",
      " 44%|████▍     | 44/100 [01:23<02:03,  2.21s/it]"
     ]
    },
    {
     "name": "stdout",
     "output_type": "stream",
     "text": [
      "🔹 Predicted:  प्व़़़ लिव़ लिव़़ लिव़ लिव़ लिव़ लिव़ लिव़ लिव़ लिव़ लिव़ लिव़ लिव़ लिव़ लिव़ लिव़ लिव़ लिव़ लिव़ लिव़ लिव़ लिव़़ लिव़ लिव़ लिव़ लिव़़ लिव़ लिव़़ लिव़़ लिव़़ लिव़़ लिव़़ लिव़़ लिव़़ लिव़़़ लिव़़़ लिव़़़ लिव़़ लिव़़़ लिव़़़ लिव़़़ लिव़़ लिव़़़़ लिव़़़ लिव़़़़़़ लिव़़़़़़़ लिव़़़़़़़़़़़़़़़़�\n",
      "🔸 Reference: 네가 나빠\n"
     ]
    },
    {
     "name": "stderr",
     "output_type": "stream",
     "text": [
      "\r",
      " 45%|████▌     | 45/100 [01:23<01:32,  1.68s/it]"
     ]
    },
    {
     "name": "stdout",
     "output_type": "stream",
     "text": [
      "🔹 Predicted:  Върде елзирателно е на това елзирателно.\n",
      "🔸 Reference: 간난이는 여공이 들어가던 말까지 하려다가 이런 말은 좀더 기다려서 해주리라 하였다.\n"
     ]
    },
    {
     "name": "stderr",
     "output_type": "stream",
     "text": [
      "\r",
      " 46%|████▌     | 46/100 [01:28<02:21,  2.62s/it]"
     ]
    },
    {
     "name": "stdout",
     "output_type": "stream",
     "text": [
      "🔹 Predicted:  Въръв елзират с това елзират с това елзират с това елзират с това елзират с това елзират с това елзират с това елзират с това елзират с това елзират с това елзират с това елзират с това елзират с това елзират с това елзират с това елзират с това елзират с това елзират с това елзират с това елзират с това елзират с това елзират с това елзират с това елзират с това елзират с това елзират с това елзират с това елзират с това елзират с това елзират с това елзират с това елзират с това елзират с това елзират с това елзират с това елзират с това елзират с това елзират с това елзират с това елзират с това елзират с това елзират с това елзират с това елзират с това елзират с това елзират с това елзират с това елзират с това елзират с това елзират с това елзират с това елзират с това елзират с това елзират с това елзират с т\n",
      "🔸 Reference: 만일 제가 그대로 단결에 휙 뿌리치고 가보게.\n"
     ]
    },
    {
     "name": "stderr",
     "output_type": "stream",
     "text": [
      "\r",
      " 47%|████▋     | 47/100 [01:33<02:54,  3.29s/it]"
     ]
    },
    {
     "name": "stdout",
     "output_type": "stream",
     "text": [
      "🔹 Predicted:  Върде си от това елзират с това елзират с това елзират с това елзират с това елзират с това елзират с това елзират с това елзират с това елзират с това елзират с това елзират с това елзират с това елзират с това елзират с това елзират с това елзират с това елзират с това елзират с това елзират с това елзират с това елзират с това елзират с това елзират с това елзират с това елзират с това елзират с това елзират с това елзират с това елзират с това елзират с това елзират с това елзират с това елзират с това елзират с това елзират с това елзират с това елзират с това елзират с това елзират с това елзират с това елзират с това елзират с това елзират с това елзират с това елзират с това елзират с това елзират с това елзират с това елзират с това елзират с това елзират с това елзират с това елзират с това елзират с това елз\n",
      "🔸 Reference: 감독이 이렇게 와꾸를 돌리게 되면 으레 이십 전 벌금을 물게 되는 것이다.\n"
     ]
    },
    {
     "name": "stderr",
     "output_type": "stream",
     "text": [
      "\r",
      " 48%|████▊     | 48/100 [01:34<02:05,  2.42s/it]"
     ]
    },
    {
     "name": "stdout",
     "output_type": "stream",
     "text": [
      "🔹 Predicted:  Върде елзирателно е на това елзирателно.\n",
      "🔸 Reference: 기적이 나타나기를 빌고 바라는 미신 비슷한 생각에 잠겨 보기도 또한 이번이 처음이다.\n"
     ]
    },
    {
     "name": "stderr",
     "output_type": "stream",
     "text": [
      "\r",
      " 49%|████▉     | 49/100 [01:39<02:42,  3.18s/it]"
     ]
    },
    {
     "name": "stdout",
     "output_type": "stream",
     "text": [
      "🔹 Predicted:  Въръртваме елзирателяме елзирателяме елзирателяме елзирателяме елзирателяме елзирателяме елзирателяме елзирателяме елзирателяме елзирателяме елзирателяме елзирателяме елзирателяме елзирателяме елзирателяме елзирателяме елзирателяме елзирателяме елзирателяме елзирателяме елзирателяме елзирателяме елзирателяме елзирателяме елзирателяме елзирателяме елзирателяме елзирателяме елзирателяме елзирателяме елзирателяме елзирателяме елзирателяме елзирателяме елзирателяме елзирателяме елзирателяме елзирателяме елзирателяме елзирателяме елзирателяме елзирателяме елзирателяме елзирателяме елзирателяме елзирателяме елзирателяме елзирателяме елзирателяме елзирателяме елзирателяме елзирателяме елзирателяме елзирателяме елз\n",
      "🔸 Reference: 비가 제법 장마 때처럼 주룩주룩 쏟아지기 시작한다.\n"
     ]
    },
    {
     "name": "stderr",
     "output_type": "stream",
     "text": [
      "\r",
      " 50%|█████     | 50/100 [01:39<01:54,  2.30s/it]"
     ]
    },
    {
     "name": "stdout",
     "output_type": "stream",
     "text": [
      "🔹 Predicted:  کیاہاں پہنے کیا ہے؟\n",
      "🔸 Reference: 이래저래 영신은 근처 동리의 소위 재산가 계급에게는 인심을 몹시 잃었다.\n"
     ]
    },
    {
     "name": "stderr",
     "output_type": "stream",
     "text": [
      "\r",
      " 51%|█████     | 51/100 [01:44<02:31,  3.09s/it]"
     ]
    },
    {
     "name": "stdout",
     "output_type": "stream",
     "text": [
      "🔹 Predicted:  Въръв е не е не е е не е е е е е е е е е е е е е е е е е е е е е е е е е е е е е е е е е е е е е е е е е е е е е е е е е е е е е е е е е е е е е е е е е е е е е е е е е е е е е е е е е е е е е е е е е е е е е е е е е е е е е е е е е е е е е е е е е е е е е е е е е е е е е е е е е е е е е е е е е е е е е е е е е е е е е е е е е е е е е е е е е е е е е е е е е е е е е е е е е е е е е е е е е е е е е е е е е е е е е е е е е е е е е е е е е е е е е е е е е е е е е е е е е е е е е е е е е е е е е е е е е е е е е е е е е е е е е е е е е е е е е е е е е е е е е е е е е е е е е е е е е е е е е е е е е е е е е е е е е е е е е е е е е е е е е е е е е е е е е е е е е е е е е е е е е е е е е е е е е е е е е е е е е е е е е е е е е е е е е е е е е е е е е е е е е е е е е е е е е е е е е е е е е е е е е е е е е е е е е е е е е е е е е е е е е е е е е е е е е е е е е е е е е е е е е е е е\n",
      "🔸 Reference: 영신은 가슴속으로부터 치밀어 오는 울음을 참느라고 잇자국이 나도록 손가락을 깨문다.\n"
     ]
    },
    {
     "name": "stderr",
     "output_type": "stream",
     "text": [
      "\r",
      " 52%|█████▏    | 52/100 [01:49<02:56,  3.67s/it]"
     ]
    },
    {
     "name": "stdout",
     "output_type": "stream",
     "text": [
      "🔹 Predicted:  Върърт са елзират с тук върърт с тук върърт с тук върт с тук върт с тук върт с тук върт с тук върт с тук върт с тук върт с тук върт с тук върт с тук върт с тук върт с тук върт с тук върт с тук върт с тук върт с тук върт с тук върт с тук върт с тук върт с тук върт с тук върт с тук върт с тук върт с тук върт с тук върт с тук върт с тук върт с тук върт с тук върт с тук върт с тук върт с тук върт с тук върт с тук върт с тук върт с тук върт с тук върт с тук върт с тук върт с тук върт с тук върт с тук върт с тук върт с тук върт с тук върт с тук върт с тук върт с тук върт с тук върт с тук върт с тук върт с тук върт с тук върт с тук върт с тук върт с тук върт с тук върт с тук върт с тук върт\n",
      "🔸 Reference: 따라서 인력거에 앉아 서울의 번잡한 도시를 향하여 달려오던 선비를 눈앞에 그려 보았다.\n"
     ]
    },
    {
     "name": "stderr",
     "output_type": "stream",
     "text": [
      "\r",
      " 53%|█████▎    | 53/100 [01:54<03:09,  4.04s/it]"
     ]
    },
    {
     "name": "stdout",
     "output_type": "stream",
     "text": [
      "🔹 Predicted:  Въръв е не е не е е не е е е е е е е е е е е е е е е е е е е е е е е е е е е е е е е е е е е е е е е е е е е е е е е е е е е е е е е е е е е е е е е е е е е е е е е е е е е е е е е е е е е е е е е е е е е е е е е е е е е е е е е е е е е е е е е е е е е е е е е е е е е е е е е е е е е е е е е е е е е е е е е е е е е е е е е е е е е е е е е е е е е е е е е е е е е е е е е е е е е е е е е е е е е е е е е е е е е е е е е е е е е е е е е е е е е е е е е е е е е е е е е е е е е е е е е е е е е е е е е е е е е е е е е е е е е е е е е е е е е е е е е е е е е е е е е е е е е е е е е е е е е е е е е е е е е е е е е е е е е е е е е е е е е е е е е е е е е е е е е е е е е е е е е е е е е е е е е е е е е е е е е е е е е е е е е е е е е е е е е е е е е е е е е е е е е е е е е е е е е е е е е е е е е е е е е е е е е е е е е е е е е е е е е е е е е е е е е е е е е е е е е е е е е е е е е е\n",
      "🔸 Reference: 그저 들어온 복도 박차 던져 내지 못해서 애쓰는 것이 아니고 무엇이냐.\n"
     ]
    },
    {
     "name": "stderr",
     "output_type": "stream",
     "text": [
      "\r",
      " 54%|█████▍    | 54/100 [01:54<02:13,  2.90s/it]"
     ]
    },
    {
     "name": "stdout",
     "output_type": "stream",
     "text": [
      "🔹 Predicted:  Добре елзива на това елзива.\n",
      "🔸 Reference: 그가 그 나무 실과를 내게 주므로 내가 먹었나이다\n"
     ]
    },
    {
     "name": "stderr",
     "output_type": "stream",
     "text": [
      "\r",
      " 55%|█████▌    | 55/100 [01:54<01:35,  2.13s/it]"
     ]
    },
    {
     "name": "stdout",
     "output_type": "stream",
     "text": [
      "🔹 Predicted:  Върде елзирателно е на това елзирателно.\n",
      "🔸 Reference: 네가 네 아내의 말을 듣고 내가 너더러 먹지 말라한 나무 실과를 먹었은즉\n"
     ]
    },
    {
     "name": "stderr",
     "output_type": "stream",
     "text": [
      "\r",
      " 56%|█████▌    | 56/100 [01:59<02:10,  2.97s/it]"
     ]
    },
    {
     "name": "stdout",
     "output_type": "stream",
     "text": [
      "🔹 Predicted:  Въръв е не е не е е не е е е е е е е е е е е е е е е е е е е е е е е е е е е е е е е е е е е е е е е е е е е е е е е е е е е е е е е е е е е е е е е е е е е е е е е е е е е е е е е е е е е е е е е е е е е е е е е е е е е е е е е е е е е е е е е е е е е е е е е е е е е е е е е е е е е е е е е е е е е е е е е е е е е е е е е е е е е е е е е е е е е е е е е е е е е е е е е е е е е е е е е е е е е е е е е е е е е е е е е е е е е е е е е е е е е е е е е е е е е е е е е е е е е е е е е е е е е е е е е е е е е е е е е е е е е е е е е е е е е е е е е е е е е е е е е е е е е е е е е е е е е е е е е е е е е е е е е е е е е е е е е е е е е е е е е е е е е е е е е е е е е е е е е е е е е е е е е е е е е е е е е е е е е е е е е е е е е е е е е е е е е е е е е е е е е е е е е е е е е е е е е е е е е е е е е е е е е е е е е е е е е е е е е е е е е е е е е е е е е е е е е е е е е е е е е е\n",
      "🔸 Reference: 병자의 몸은 벌써 싸늘하게 식었으며 얼굴이 파랗게 되었다.\n"
     ]
    },
    {
     "name": "stderr",
     "output_type": "stream",
     "text": [
      "\r",
      " 57%|█████▋    | 57/100 [02:04<02:33,  3.56s/it]"
     ]
    },
    {
     "name": "stdout",
     "output_type": "stream",
     "text": [
      "🔹 Predicted:  Въръв е не е не е е не е е е е е е е е е е е е е е е е е е е е е е е е е е е е е е е е е е е е е е е е е е е е е е е е е е е е е е е е е е е е е е е е е е е е е е е е е е е е е е е е е е е е е е е е е е е е е е е е е е е е е е е е е е е е е е е е е е е е е е е е е е е е е е е е е е е е е е е е е е е е е е е е е е е е е е е е е е е е е е е е е е е е е е е е е е е е е е е е е е е е е е е е е е е е е е е е е е е е е е е е е е е е е е е е е е е е е е е е е е е е е е е е е е е е е е е е е е е е е е е е е е е е е е е е е е е е е е е е е е е е е е е е е е е е е е е е е е е е е е е е е е е е е е е е е е е е е е е е е е е е е е е е е е е е е е е е е е е е е е е е е е е е е е е е е е е е е е е е е е е е е е е е е е е е е е е е е е е е е е е е е е е е е е е е е е е е е е е е е е е е е е е е е е е е е е е е е е е е е е е е е е е е е е е е е е е е е е е е е е е е е е е е е е е е е е е е\n",
      "🔸 Reference: 그러고 알 수 없는 괴로운 경우에서 저를 끌어내어 주셔요.\n"
     ]
    },
    {
     "name": "stderr",
     "output_type": "stream",
     "text": [
      "\r",
      " 58%|█████▊    | 58/100 [02:09<02:46,  3.96s/it]"
     ]
    },
    {
     "name": "stdout",
     "output_type": "stream",
     "text": [
      "🔹 Predicted:  Трън кън е не е е не е е е не е е е е е е е е е е е е е е е е е е е е е е е е е е е е е е е е е е е е е е е е е е е е е е е е е е е е е е е е е е е е е е е е е е е е е е е е е е е е е е е е е е е е е е е е е е е е е е е е е е е е е е е е е е е е е е е е е е е е е е е е е е е е е е е е е е е е е е е е е е е е е е е е е е е е е е е е е е е е е е е е е е е е е е е е е е е е е е е е е е е е е е е е е е е е е е е е е е е е е е е е е е е е е е е е е е е е е е е е е е е е е е е е е е е е е е е е е е е е е е е е е е е е е е е е е е е е е е е е е е е е е е е е е е е е е е е е е е е е е е е е е е е е е е е е е е е е е е е е е е е е е е е е е е е е е е е е е е е е е е е е е е е е е е е е е е е е е е е е е е е е е е е е е е е е е е е е е е е е е е е е е е е е е е е е е е е е е е е е е е е е е е е е е е е е е е е е е е е е е е е е е е е е е е е е е е е е е е е е е е е е е е е е е е е е\n",
      "🔸 Reference: 지금 바로 입금 가능해?\n"
     ]
    },
    {
     "name": "stderr",
     "output_type": "stream",
     "text": [
      " 61%|██████    | 61/100 [02:14<01:31,  2.34s/it]"
     ]
    },
    {
     "name": "stdout",
     "output_type": "stream",
     "text": [
      "🔹 Predicted:  Върде елзират са елзират с това елзират с това елзират с това елзират с това елзират с това елзират с това елзират с това елзират с това елзират с това елзират с това елзират с това елзират с това елзират с това елзират с това елзират с това елзират с това елзират с това елзират с това елзират с това елзират с това елзират с това елзират с това елзират с това елзират с това елзират с това елзират с това елзират с това елзират с това елзират с това елзират с това елзират с това елзират с това елзират с това елзират с това елзират с това елзират с това елзират с това елзират с това елзират с това елзират с това елзират с това елзират с това елзират с това елзират с това елзират с това елзират с това елзират с това елзират с това елзират с това елзират с това елзират с това елзират с това елзират с това елзират с това е\n",
      "🔸 Reference: 이리하여 주화조로서 탄주는 끝이 났습니다.\n",
      "🔹 Predicted:  کیا ہے\n",
      "🔸 Reference: 그는 오던 길을 다시 종로로 향해 갔다.\n",
      "🔹 Predicted:  کیا ہے؟\n",
      "🔸 Reference: 선비는 감독이 그를 부를 터이지 하고 하루 종일 가슴이 두근거렸다.\n"
     ]
    },
    {
     "name": "stderr",
     "output_type": "stream",
     "text": [
      "\r",
      " 62%|██████▏   | 62/100 [02:19<01:52,  2.97s/it]"
     ]
    },
    {
     "name": "stdout",
     "output_type": "stream",
     "text": [
      "🔹 Predicted:  ایک ایک ایک ایک ایک ایک ایک ایک ایک ایک ایک ایک ایک ایک ایک ایک ایک ایک ایک ایک ایک ایک ایک ایک ایک ایک ایک ایک ایک ایک ایک ایک ایک ایک ایک ایک ایک ایک ایک ایک ایک ایک ایک ایک ایک ایک ایک ایک ایک ایک ایک ایک ایک ایک ایک ایک ایک ایک ایک ایک ایک ایک ایک ایک ایک ایک ایک ایک ایک ایک ایک ایک ایک ایک ایک ایک ایک ایک ایک ایک ایک ایک ایک ایک ایک ایک ایک ایک ایک ایک ایک ایک ایک ایک ایک ایک ایک ایک ایک ایک ایک ایک ایک ایک ایک ایک ایک ایک ایک ایک ایک ایک ایک ایک ایک ایک ایک ایک ایک ایک ایک ایک ایک ایک ایک ایک ایک ایک ایک ایک ایک ایک ایک ایک ایک ایک ایک ایک ایک ایک ایک ایک ایک ایک ایک ایک ایک ایک ایک ایک ایک ایک ایک ایک ایک ایک ایک ایک ایک ایک ایک ایک ایک ایک ایک ایک ایک ایک ایک ایک ایک ایک ایک ایک ایک ایک ایک ایک ایک ایک ایک ایک ایک ایک ایک ایک ایک ایک ایک ایک ایک ایک ایک ایک ایک ایک ایک ایک ایک ایک ایک ایک ایک ایک ایک ایک ایک ایک ایک ایک ایک ایک ایک ایک ایک ایک ایک ایک ایک ایک ایک ایک\n",
      "🔸 Reference: 옥점이는 어느 때나 신철이를 잊지 못하는 반면에 그만큼 더 미웠던 것이다.\n"
     ]
    },
    {
     "name": "stderr",
     "output_type": "stream",
     "text": [
      " 64%|██████▍   | 64/100 [02:24<01:32,  2.58s/it]"
     ]
    },
    {
     "name": "stdout",
     "output_type": "stream",
     "text": [
      "🔹 Predicted:  ایک ایک ایک ایک ایک ایک ایک ایک ایک ایک ایک ایک ایک ایک ایک ایک ایک ایک ایک ایک ایک ایک ایک ایک ایک ایک ایک ایک ایک ایک ایک ایک ایک ایک ایک ایک ایک ایک ایک ایک ایک ایک ایک ایک ایک ایک ایک ایک ایک ایک ایک ایک ایک ایک ایک ایک ایک ایک ایک ایک ایک ایک ایک ایک ایک ایک ایک ایک ایک ایک ایک ایک ایک ایک ایک ایک ایک ایک ایک ایک ایک ایک ایک ایک ایک ایک ایک ایک ایک ایک ایک ایک ایک ایک ایک ایک ایک ایک ایک ایک ایک ایک ایک ایک ایک ایک ایک ایک ایک ایک ایک ایک ایک ایک ایک ایک ایک ایک ایک ایک ایک ایک ایک ایک ایک ایک ایک ایک ایک ایک ایک ایک ایک ایک ایک ایک ایک ایک ایک ایک ایک ایک ایک ایک ایک ایک ایک ایک ایک ایک ایک ایک ایک ایک ایک ایک ایک ایک ایک ایک ایک ایک ایک ایک ایک ایک ایک ایک ایک ایک ایک ایک ایک ایک ایک ایک ایک ایک ایک ایک ایک ایک ایک ایک ایک ایک ایک ایک ایک ایک ایک ایک ایک ایک ایک ایک ایک ایک ایک ایک ایک ایک ایک ایک ایک ایک ایک ایک ایک ایک ایک ایک ایک ایک ایک ایک ایک ایک ایک ایک ایک ایک\n",
      "🔸 Reference: 그들은 풀기 없는 선비를 보며 감독에게서 단단한 나무람을 들은 듯하였다.\n",
      "🔹 Predicted:  ہمیں گی ہے\n",
      "🔸 Reference: 즐거운 날은 오고 말 것이다.\n"
     ]
    },
    {
     "name": "stderr",
     "output_type": "stream",
     "text": [
      "\r",
      " 65%|██████▌   | 65/100 [02:29<01:53,  3.24s/it]"
     ]
    },
    {
     "name": "stdout",
     "output_type": "stream",
     "text": [
      "🔹 Predicted:  کیا کہ ہوں کہ ہوں کہ ہوں کہ ہوں کہ ہوں کہ ہوں کہ ہوں کہ ہوں کہ ہوں کہ ہوں کہ ہوں کہ ہوں کہ ہوں کہ ہوں کہ ہوں کہ ہوں کہ ہوں کہ ہوں کہ ہوں کہ ہوں کہ ہوں کہ ہوں کہ ہوں کہ ہوں کہ ہوں کہ ہوں کہ ہوں کہ ہوں کہ ہوں کہ ہوں کہ ہوں کہ ہوں کہ ہوں کہ ہوں کہ ہوں کہ ہوں کہ ہوں کہ ہوں کہ ہوں کہ ہوں کہ ہوں کہ ہوں کہ ہوں کہ ہوں کہ ہوں کہ ہوں کہ ہوں کہ ہوں کہ ہوں کہ ہوں کہ ہوں کہ ہوں کہ ہوں کہ ہوں کہ ہوں کہ ہوں کہ ہوں کہ ہوں کہ ہوں کہ ہوں کہ ہوں کہ ہوں کہ ہوں کہ ہوں کہ ہوں کہ ہوں کہ ہوں کہ ہوں کہ ہوں کہ ہوں کہ ہوں کہ ہوں کہ ہوں کہ ہوں کہ ہوں کہ ہوں کہ ہوں کہ ہوں کہ ہوں کہ ہوں کہ ہوں کہ ہوں کہ ہوں کہ ہوں کہ ہوں کہ ہوں کہ ہوں کہ ہوں کہ ہوں کہ ہوں کہ ہوں کہ ہوں کہ ہوں کہ ہوں کہ ہوں کہ ہوں کہ ہوں کہ ہوں کہ ہوں کہ ہوں کہ ہوں کہ ہوں کہ ہوں کہ ہوں کہ ہوں کہ ہوں کہ ہوں کہ ہوں کہ ہوں کہ ہوں کہ ہوں کہ ہوں کہ ہوں کہ ہوں کہ ہوں کہ ہوں کہ ہوں کہ ہوں کہ ہوں کہ ہوں کہ ہوں کہ ہوں کہ ہوں کہ ہوں کہ ہوں کہ ہوں کہ ہوں کہ ہوں کہ ہوں کہ ہوں کہ ہوں کہ ہوں کہ ہوں کہ ہوں کہ ہوں کہ ہوں کہ ہوں کہ ہوں کہ ہوں کہ ہوں کہ ہوں کہ ہوں کہ ہوں کہ ہوں کہ ہوں کہ ہوں کہ ہ\n",
      "🔸 Reference: 먼저 말씀하여 둘 것은 섭섭히 생각하시지 말으십시오.\n"
     ]
    },
    {
     "name": "stderr",
     "output_type": "stream",
     "text": [
      "\r",
      " 66%|██████▌   | 66/100 [02:34<02:06,  3.71s/it]"
     ]
    },
    {
     "name": "stdout",
     "output_type": "stream",
     "text": [
      "🔹 Predicted:  ایک ایک ایک ایک ایک ایک ایک ایک ایک ایک ایک ایک ایک ایک ایک ایک ایک ایک ایک ایک ایک ایک ایک ایک ایک ایک ایک ایک ایک ایک ایک ایک ایک ایک ایک ایک ایک ایک ایک ایک ایک ایک ایک ایک ایک ایک ایک ایک ایک ایک ایک ایک ایک ایک ایک ایک ایک ایک ایک ایک ایک ایک ایک ایک ایک ایک ایک ایک ایک ایک ایک ایک ایک ایک ایک ایک ایک ایک ایک ایک ایک ایک ایک ایک ایک ایک ایک ایک ایک ایک ایک ایک ایک ایک ایک ایک ایک ایک ایک ایک ایک ایک ایک ایک ایک ایک ایک ایک ایک ایک ایک ایک ایک ایک ایک ایک ایک ایک ایک ایک ایک ایک ایک ایک ایک ایک ایک ایک ایک ایک ایک ایک ایک ایک ایک ایک ایک ایک ایک ایک ایک ایک ایک ایک ایک ایک ایک ایک ایک ایک ایک ایک ایک ایک ایک ایک ایک ایک ایک ایک ایک ایک ایک ایک ایک ایک ایک ایک ایک ایک ایک ایک ایک ایک ایک ایک ایک ایک ایک ایک ایک ایک ایک ایک ایک ایک ایک ایک ایک ایک ایک ایک ایک ایک ایک ایک ایک ایک ایک ایک ایک ایک ایک ایک ایک ایک ایک ایک ایک ایک ایک ایک ایک ایک ایک ایک ایک ایک ایک ایک ایک ایک\n",
      "🔸 Reference: 무기명으로 투표를 하는 데도 대필로 쓴 사람이 많았다.\n"
     ]
    },
    {
     "name": "stderr",
     "output_type": "stream",
     "text": [
      " 68%|██████▊   | 68/100 [02:39<01:33,  2.92s/it]"
     ]
    },
    {
     "name": "stdout",
     "output_type": "stream",
     "text": [
      "🔹 Predicted:  Върърт са елзират с това елзират с това елзират с това елзират с това елзират с това елзират с това елзират с това елзират с това елзират с това елзират с това елзират с това елзират с това елзират с това елзират с това елзират с това елзират с това елзират с това елзират с това елзират с това елзират с това елзират с това елзират с това елзират с това елзират с това елзират с това елзират с това елзират с това елзират с това елзират с това елзират с това елзират с това елзират с това елзират с това елзират с това елзират с това елзират с това елзират с това елзират с това елзират с това елзират с това елзират с това елзират с това елзират с това елзират с това елзират с това елзират с това елзират с това елзират с това елзират с това елзират с това елзират с това елзират с това елзират с това елзират с това елзир\n",
      "🔸 Reference: 대답을 듣고야 가겠다는 듯이 말똥말똥 쳐다본다.\n",
      "🔹 Predicted: \n",
      "🔸 Reference: 배고픈데 지금 저녁 식사를 먹으면 너무 이를까?\n"
     ]
    },
    {
     "name": "stderr",
     "output_type": "stream",
     "text": [
      "\r",
      " 69%|██████▉   | 69/100 [02:44<01:48,  3.51s/it]"
     ]
    },
    {
     "name": "stdout",
     "output_type": "stream",
     "text": [
      "🔹 Predicted:  ایک ایک ایک ایک ایک ایک ایک ایک ایک ایک ایک ایک ایک ایک ایک ایک ایک ایک ایک ایک ایک ایک ایک ایک ایک ایک ایک ایک ایک ایک ایک ایک ایک ایک ایک ایک ایک ایک ایک ایک ایک ایک ایک ایک ایک ایک ایک ایک ایک ایک ایک ایک ایک ایک ایک ایک ایک ایک ایک ایک ایک ایک ایک ایک ایک ایک ایک ایک ایک ایک ایک ایک ایک ایک ایک ایک ایک ایک ایک ایک ایک ایک ایک ایک ایک ایک ایک ایک ایک ایک ایک ایک ایک ایک ایک ایک ایک ایک ایک ایک ایک ایک ایک ایک ایک ایک ایک ایک ایک ایک ایک ایک ایک ایک ایک ایک ایک ایک ایک ایک ایک ایک ایک ایک ایک ایک ایک ایک ایک ایک ایک ایک ایک ایک ایک ایک ایک ایک ایک ایک ایک ایک ایک ایک ایک ایک ایک ایک ایک ایک ایک ایک ایک ایک ایک ایک ایک ایک ایک ایک ایک ایک ایک ایک ایک ایک ایک ایک ایک ایک ایک ایک ایک ایک ایک ایک ایک ایک ایک ایک ایک ایک ایک ایک ایک ایک ایک ایک ایک ایک ایک ایک ایک ایک ایک ایک ایک ایک ایک ایک ایک ایک ایک ایک ایک ایک ایک ایک ایک ایک ایک ایک ایک ایک ایک ایک ایک ایک ایک ایک ایک ایک\n",
      "🔸 Reference: 그는 기침을 안 하려고 입을 꼭 다문 후에 숨을 쉬지 않았다.\n"
     ]
    },
    {
     "name": "stderr",
     "output_type": "stream",
     "text": [
      "\r",
      " 70%|███████   | 70/100 [02:49<01:58,  3.95s/it]"
     ]
    },
    {
     "name": "stdout",
     "output_type": "stream",
     "text": [
      "🔹 Predicted:  ایک ایک ایک ایک ایک ایک ایک ایک ایک ایک ایک ایک ایک ایک ایک ایک ایک ایک ایک ایک ایک ایک ایک ایک ایک ایک ایک ایک ایک ایک ایک ایک ایک ایک ایک ایک ایک ایک ایک ایک ایک ایک ایک ایک ایک ایک ایک ایک ایک ایک ایک ایک ایک ایک ایک ایک ایک ایک ایک ایک ایک ایک ایک ایک ایک ایک ایک ایک ایک ایک ایک ایک ایک ایک ایک ایک ایک ایک ایک ایک ایک ایک ایک ایک ایک ایک ایک ایک ایک ایک ایک ایک ایک ایک ایک ایک ایک ایک ایک ایک ایک ایک ایک ایک ایک ایک ایک ایک ایک ایک ایک ایک ایک ایک ایک ایک ایک ایک ایک ایک ایک ایک ایک ایک ایک ایک ایک ایک ایک ایک ایک ایک ایک ایک ایک ایک ایک ایک ایک ایک ایک ایک ایک ایک ایک ایک ایک ایک ایک ایک ایک ایک ایک ایک ایک ایک ایک ایک ایک ایک ایک ایک ایک ایک ایک ایک ایک ایک ایک ایک ایک ایک ایک ایک ایک ایک ایک ایک ایک ایک ایک ایک ایک ایک ایک ایک ایک ایک ایک ایک ایک ایک ایک ایک ایک ایک ایک ایک ایک ایک ایک ایک ایک ایک ایک ایک ایک ایک ایک ایک ایک ایک ایک ایک ایک ایک ایک ایک ایک ایک ایک ایک\n",
      "🔸 Reference: 동혁은 입술을 꽉 깨물고 원재의 뒤를 따라 묵묵히 논틀 밭틀을 걸었다.\n"
     ]
    },
    {
     "name": "stderr",
     "output_type": "stream",
     "text": [
      "\r",
      " 71%|███████   | 71/100 [02:54<02:02,  4.24s/it]"
     ]
    },
    {
     "name": "stdout",
     "output_type": "stream",
     "text": [
      "🔹 Predicted:  کیا کہاں ایک کچھا کہاں ایک کچھا کہاں ایک کچھا کہاں ایک کچھا کہاں ایک کچھا کہاں ایک کچھا کہاں ایک کچھا کہاں ایک کچھا کہاں ایک کچھا کہاں ایک کچھا کہاں ایک کچھا کہاں ایک کچھا کہاں ایک کچھا کہاں ایک کچھا کہاں ایک کچھا کہاں ایک کچھا کہاں ایک کچھا کہاں ایک کچھا کہاں ایک کچھا کہاں ایک کچھا کہاں ایک کچھا کہاں ایک کچھا کہاں ایک کچھا کہاں ایک کچھا کہاں ایک کچھا کہاں ایک کچھا کہاں ایک کچھا کہاں ایک کچھا کہاں ایک کچھا کہاں ایک کچھا کہاں ایک کچھا کہاں ایک کچھا کہاں ایک کچھا کہاں ایک کچھا کہاں ایک کچھا کہاں ایک کچھا کہاں ایک کچھا کہاں ایک کچھا کہاں ایک کچھا کہاں ایک کچھا کہاں ایک کچھا کہاں ایک کچھا کہاں ایک کچھا کہاں ایک کچھا کہاں ایک کچھا کہاں ایک کچھا کہاں ایک کچھا کہاں ایک کچھا کہاں ایک کچھا کہ\n",
      "🔸 Reference: 대한 사람 대한으로 길이 보전하세\n"
     ]
    },
    {
     "name": "stderr",
     "output_type": "stream",
     "text": [
      "\r",
      " 72%|███████▏  | 72/100 [02:59<02:04,  4.44s/it]"
     ]
    },
    {
     "name": "stdout",
     "output_type": "stream",
     "text": [
      "🔹 Predicted:  ایک ایک ایک ایک ایک ایک ایک ایک ایک ایک ایک ایک ایک ایک ایک ایک ایک ایک ایک ایک ایک ایک ایک ایک ایک ایک ایک ایک ایک ایک ایک ایک ایک ایک ایک ایک ایک ایک ایک ایک ایک ایک ایک ایک ایک ایک ایک ایک ایک ایک ایک ایک ایک ایک ایک ایک ایک ایک ایک ایک ایک ایک ایک ایک ایک ایک ایک ایک ایک ایک ایک ایک ایک ایک ایک ایک ایک ایک ایک ایک ایک ایک ایک ایک ایک ایک ایک ایک ایک ایک ایک ایک ایک ایک ایک ایک ایک ایک ایک ایک ایک ایک ایک ایک ایک ایک ایک ایک ایک ایک ایک ایک ایک ایک ایک ایک ایک ایک ایک ایک ایک ایک ایک ایک ایک ایک ایک ایک ایک ایک ایک ایک ایک ایک ایک ایک ایک ایک ایک ایک ایک ایک ایک ایک ایک ایک ایک ایک ایک ایک ایک ایک ایک ایک ایک ایک ایک ایک ایک ایک ایک ایک ایک ایک ایک ایک ایک ایک ایک ایک ایک ایک ایک ایک ایک ایک ایک ایک ایک ایک ایک ایک ایک ایک ایک ایک ایک ایک ایک ایک ایک ایک ایک ایک ایک ایک ایک ایک ایک ایک ایک ایک ایک ایک ایک ایک ایک ایک ایک ایک ایک ایک ایک ایک ایک ایک ایک ایک ایک ایک ایک ایک\n",
      "🔸 Reference: 여러 해 별러 오던 농우회의 회관을 지으려고 오늘 저녁에 그 지경을 닦는 것이다.\n"
     ]
    },
    {
     "name": "stderr",
     "output_type": "stream",
     "text": [
      "\r",
      " 73%|███████▎  | 73/100 [03:04<02:04,  4.59s/it]"
     ]
    },
    {
     "name": "stdout",
     "output_type": "stream",
     "text": [
      "🔹 Predicted:  ہمیں گی ہے کہ ہمیں ایک ایک ایک ایک ایک ایک ایک ایک ایک ایک ایک ایک ایک ایک ایک ایک ایک ایک ایک ایک ایک ایک ایک ایک ایک ایک ایک ایک ایک ایک ایک ایک ایک ایک ایک ایک ایک ایک ایک ایک ایک ایک ایک ایک ایک ایک ایک ایک ایک ایک ایک ایک ایک ایک ایک ایک ایک ایک ایک ایک ایک ایک ایک ایک ایک ایک ایک ایک ایک ایک ایک ایک ایک ایک ایک ایک ایک ایک ایک ایک ایک ایک ایک ایک ایک ایک ایک ایک ایک ایک ایک ایک ایک ایک ایک ایک ایک ایک ایک ایک ایک ایک ایک ایک ایک ایک ایک ایک ایک ایک ایک ایک ایک ایک ایک ایک ایک ایک ایک ایک ایک ایک ایک ایک ایک ایک ایک ایک ایک ایک ایک ایک ایک ایک ایک ایک ایک ایک ایک ایک ایک ایک ایک ایک ایک ایک ایک ایک ایک ایک ایک ایک ایک ایک ایک ایک ایک ایک ایک ایک ایک ایک ایک ایک ایک ایک ایک ایک ایک ایک ایک ایک ایک ایک ایک ایک ایک ایک ایک ایک ایک ایک ایک ایک ایک ایک ایک ایک ایک ایک ایک ایک ایک ایک ایک ایک ایک ایک ایک ایک ایک ایک ایک ایک ایک ایک ایک ایک ایک ایک ایک ایک ایک ایک ایک ایک ایک\n",
      "🔸 Reference: 이웃에게 아첨하는 것은 그의 발 앞에 그물을 치는 것이니라\n"
     ]
    },
    {
     "name": "stderr",
     "output_type": "stream",
     "text": [
      "\r",
      " 74%|███████▍  | 74/100 [03:09<02:01,  4.69s/it]"
     ]
    },
    {
     "name": "stdout",
     "output_type": "stream",
     "text": [
      "🔹 Predicted:  ہمیں گی ہے کہ ہمیں ایک کچھا کچھ کچھ کچھ کچھ کچھ کچھ کچھ کچھ کچھ کچھ کچھ کچھ کچھ کچھ کچھ کچھ کچھ کچھ کچھ کچھ کچھ کچھ کچھ کچھ کچھ کچھ کچھ کچھ کچھ کچھ کچھ کچھ کچھ کچھ کچھ کچھ کچھ کچھ کچھ کچھ کچھ کچھ کچھ کچھ کچھ کچھ کچھ کچھ کچھ کچھ کچھ کچھ کچھ کچھ کچھ کچھ کچھ کچھ کچھ کچھ کچھ کچھ کچھ کچھ کچھ کچھ کچھ کچھ کچھ کچھ کچھ کچھ کچھ کچھ کچھ کچھ کچھ کچھ کچھ کچھ کچھ کچھ کچھ کچھ کچھ کچھ کچھ کچھ کچھ کچھ کچھ کچھ کچھ کچھ کچھ کچھ کچھ کچھ کچھ کچھ کچھ کچھ کچھ کچھ کچھ کچھ کچھ کچھ کچھ کچھ کچھ کچھ کچھ کچھ کچھ کچھ کچھ کچھ کچھ کچھ کچھ کچھ کچھ کچھ کچھ کچھ کچھ کچھ کچھ کچھ کچھ کچھ کچھ کچھ کچھ کچھ کچھ کچھ کچھ کچھ کچھ کچھ کچ\n",
      "🔸 Reference: 하더니 미리부터 허리를 구부리며 집 속으로 기어들어간다.\n"
     ]
    },
    {
     "name": "stderr",
     "output_type": "stream",
     "text": [
      "\r",
      " 75%|███████▌  | 75/100 [03:14<01:59,  4.78s/it]"
     ]
    },
    {
     "name": "stdout",
     "output_type": "stream",
     "text": [
      "🔹 Predicted:  ایک کچھا کچھا کچھا کچھا کچھا کچھا کچھا کچھا کچھا کچھا کچھا کچھا کچھا کچھا کچھا کچھا کچھا کچھا کچھا کچھا کچھا کچھا کچھا کچھا کچھا کچھا کچھا کچھا کچھا کچھا کچھا کچھا کچھا کچھا کچھا کچھا کچھا کچھا کچھا کچھا کچھا کچھا کچھا کچھا کچھا کچھا کچھا کچھا کچھا کچھا کچھا کچھا کچھا کچھا کچھا کچھا کچھا کچھا کچھا کچھا کچھا کچھا کچھا کچھا کچھا کچھا کچھا کچھا کچھا کچھا کچھا کچھا کچھا کچھا کچھا کچھا کچھا کچھا کچھا کچھا کچھا کچھا کچھا کچھا کچھا کچھا کچھا کچھا کچھا کچھا کچھا کچھا کچھا کچھا کچھا کچھا کچھا کچھا کچھا کچھا کچھا کچھا کچھا کچھا کچھا کچھا کچھا کچھا کچھا کچھا کچ\n",
      "🔸 Reference: 그와 동시에 기천의 가슴도 쿵 하고 울렸다.\n"
     ]
    },
    {
     "name": "stderr",
     "output_type": "stream",
     "text": [
      "\r",
      " 76%|███████▌  | 76/100 [03:19<01:55,  4.82s/it]"
     ]
    },
    {
     "name": "stdout",
     "output_type": "stream",
     "text": [
      "🔹 Predicted:  그는 그의 그의 그의 그의 그의 그의 그의 그의 그의 그의 그의 그의 그의 그의 그의 그의 그의 그의 그의 그의 그의 그의 그의 그의 그의 그의 그의 그의 그의 그의 그의 그의 그의 그의 그의 그의 그의 그의 그의 그의 그의 그의 그의 그의 그의 그의 그의 그의 그의 그의 그의 그의 그의 그의 그의 그의 그의 그의 그의 그의 그의 그의 그의 그의 그의 그의 그의 그의 그의 그의 그의 그의 그의 그의 그의 그의 그의 그의 그의 그의 그의 그의 그의 그의 그의 그의 그의 그의 그의 그의 그의 그의 그의 그의 그의 그의 그의 그의 그의 그의 그의 그의 그의 그의 그의 그의 그의 그의 그의 그의 그의 그의 그의 그의 그의 그의 그의 그의 그의 그의 그의 그의 그의 그의 그의 그의 그의 그의 그의 그의 그의 그의 그의 그의 그의 그의 그의 그의 그의 그의 그의 그의 그의 그의 그의 그의 그의 그의 그의 그의 그의 그의 그의 그의 그의 그의 그의 그의 그의 그의 그의 그의 그의 그의 그의 그의 그의 그의 그의 그의 그의 그의 그의 그의 그의 그의 그의 그의 그의 그의 그의 그의 그의 그의 그의 그의 그의 그의 그의 그의 그의 그의 그의 그의 그의 그의 그의 그의 그의 그의 그의 그의 그의 그의 그의 그의 그의 그의 그의 그의 그의 그의 그의 그의 그의 그의 그의 그의 그의 그의 그의\n",
      "🔸 Reference: 춘우는 모래 위에 앉아서 멀리 서울 쪽을 바라보고 앉아 있었다.\n"
     ]
    },
    {
     "name": "stderr",
     "output_type": "stream",
     "text": [
      "\r",
      " 77%|███████▋  | 77/100 [03:23<01:51,  4.85s/it]"
     ]
    },
    {
     "name": "stdout",
     "output_type": "stream",
     "text": [
      "🔹 Predicted:  ایک ایک ایک ایک ایک ایک ایک ایک ایک ایک ایک ایک ایک ایک ایک ایک ایک ایک ایک ایک ایک ایک ایک ایک ایک ایک ایک ایک ایک ایک ایک ایک ایک ایک ایک ایک ایک ایک ایک ایک ایک ایک ایک ایک ایک ایک ایک ایک ایک ایک ایک ایک ایک ایک ایک ایک ایک ایک ایک ایک ایک ایک ایک ایک ایک ایک ایک ایک ایک ایک ایک ایک ایک ایک ایک ایک ایک ایک ایک ایک ایک ایک ایک ایک ایک ایک ایک ایک ایک ایک ایک ایک ایک ایک ایک ایک ایک ایک ایک ایک ایک ایک ایک ایک ایک ایک ایک ایک ایک ایک ایک ایک ایک ایک ایک ایک ایک ایک ایک ایک ایک ایک ایک ایک ایک ایک ایک ایک ایک ایک ایک ایک ایک ایک ایک ایک ایک ایک ایک ایک ایک ایک ایک ایک ایک ایک ایک ایک ایک ایک ایک ایک ایک ایک ایک ایک ایک ایک ایک ایک ایک ایک ایک ایک ایک ایک ایک ایک ایک ایک ایک ایک ایک ایک ایک ایک ایک ایک ایک ایک ایک ایک ایک ایک ایک ایک ایک ایک ایک ایک ایک ایک ایک ایک ایک ایک ایک ایک ایک ایک ایک ایک ایک ایک ایک ایک ایک ایک ایک ایک ایک ایک ایک ایک ایک ایک ایک ایک ایک ایک ایک ایک\n",
      "🔸 Reference: 그리고 수없는 버스며 택시가 서로 경쟁을 하며 달려오고 달려간다.\n"
     ]
    },
    {
     "name": "stderr",
     "output_type": "stream",
     "text": [
      "\r",
      " 78%|███████▊  | 78/100 [03:28<01:47,  4.89s/it]"
     ]
    },
    {
     "name": "stdout",
     "output_type": "stream",
     "text": [
      "🔹 Predicted:  ایک کچھا کچھ کچھ کچھ کچھ کچھ کچھ کچھ کچھ کچھ کچھ کچھ کچھ کچھ کچھ کچھ کچھ کچھ کچھ کچھ کچھ کچھ کچھ کچھ کچھ کچھ کچھ کچھ کچھ کچھ کچھ کچھ کچھ کچھ کچھ کچھ کچھ کچھ کچھ کچھ کچھ کچھ کچھ کچھ کچھ کچھ کچھ کچھ کچھ کچھ کچھ کچھ کچھ کچھ کچھ کچھ کچھ کچھ کچھ کچھ کچھ کچھ کچھ کچھ کچھ کچھ کچھ کچھ کچھ کچھ کچھ کچھ کچھ کچھ کچھ کچھ کچھ کچھ کچھ کچھ کچھ کچھ کچھ کچھ کچھ کچھ کچھ کچھ کچھ کچھ کچھ کچھ کچھ کچھ کچھ کچھ کچھ کچھ کچھ کچھ کچھ کچھ کچھ کچھ کچھ کچھ کچھ کچھ کچھ کچھ کچھ کچھ کچھ کچھ کچھ کچھ کچھ کچھ کچھ کچھ کچھ کچھ کچھ کچھ کچھ کچھ کچھ کچھ کچھ کچھ کچھ کچھ کچھ کچھ کچھ کچھ کچھ کچھ کچھ کچھ کچھ کچھ کچھ کچھ کچھ کچھ کچھ\n",
      "🔸 Reference: 그는 그와 한 학급에 있는 인호였다.\n"
     ]
    },
    {
     "name": "stderr",
     "output_type": "stream",
     "text": [
      " 80%|████████  | 80/100 [03:33<01:09,  3.47s/it]"
     ]
    },
    {
     "name": "stdout",
     "output_type": "stream",
     "text": [
      "🔹 Predicted:  کیا کہ ہوں کہ ہوں کہ ہوں کہ ہوں کہ ہوں کہ ہوں کہ ہوں کہ ہوں کہ ہوں کہ ہوں کہ ہوں کہ ہوں کہ ہوں کہ ہوں کہ ہوں کہ ہوں کہ ہوں کہ ہوں کہ ہوں کہ ہوں کہ ہوں کہ ہوں کہ ہوں کہ ہوں کہ ہوں کہ ہوں کہ ہوں کہ ہوں کہ ہوں کہ ہوں کہ ہوں کہ ہوں کہ ہوں کہ ہوں کہ ہوں کہ ہوں کہ ہوں کہ ہوں کہ ہوں کہ ہوں کہ ہوں کہ ہوں کہ ہوں کہ ہوں کہ ہوں کہ ہوں کہ ہوں کہ ہوں کہ ہوں کہ ہوں کہ ہوں کہ ہوں کہ ہوں کہ ہوں کہ ہوں کہ ہوں کہ ہوں کہ ہوں کہ ہوں کہ ہوں کہ ہوں کہ ہوں کہ ہوں کہ ہوں کہ ہوں کہ ہوں کہ ہوں کہ ہوں کہ ہوں کہ ہوں کہ ہوں کہ ہوں کہ ہوں کہ ہوں کہ ہوں کہ ہوں کہ ہوں کہ ہوں کہ ہوں کہ ہوں کہ ہوں کہ ہوں کہ ہوں کہ ہوں کہ ہوں کہ ہوں کہ ہوں کہ ہوں کہ ہوں کہ ہوں کہ ہوں کہ ہوں کہ ہوں کہ ہوں کہ ہوں کہ ہوں کہ ہوں کہ ہوں کہ ہوں کہ ہوں کہ ہوں کہ ہوں کہ ہوں کہ ہوں کہ ہوں کہ ہوں کہ ہوں کہ ہوں کہ ہوں کہ ہوں کہ ہوں کہ ہوں کہ ہوں کہ ہوں کہ ہوں کہ ہوں کہ ہوں کہ ہوں کہ ہوں کہ ہوں کہ ہوں کہ ہوں کہ ہوں کہ ہوں کہ ہوں کہ ہوں کہ ہوں کہ ہوں کہ ہوں کہ ہوں کہ ہوں کہ ہوں کہ ہوں کہ ہوں کہ ہوں کہ ہوں کہ ہوں کہ ہوں کہ ہوں کہ ہوں کہ ہوں کہ ہوں کہ ہوں کہ ہوں کہ ہوں کہ ہوں کہ ہ\n",
      "🔸 Reference: 이서방은 물끄러미 이것을 바라보며 가슴이 후련해졌다.\n",
      "🔹 Predicted:  ہمیں گی ہے\n",
      "🔸 Reference: 제가 지금 좀 너무 급해서요.\n"
     ]
    },
    {
     "name": "stderr",
     "output_type": "stream",
     "text": [
      " 82%|████████▏ | 82/100 [03:39<00:49,  2.78s/it]"
     ]
    },
    {
     "name": "stdout",
     "output_type": "stream",
     "text": [
      "🔹 Predicted:  کیا کہ یہ اور وہ کہیں وہ وہ کہیں وہ وہ وہ کہیں وہ وہ کہیں وہ کہیں وہ کہیں وہ کہیں وہ کہیں وہ کہیں وہ کہیں وہ کہیں وہ کہیں وہ کہیں وہ کہیں وہ کہیں وہ کہیں وہ کہیں وہ کہیں وہ کہیں وہ کہیں وہ کہیں وہ کہیں وہ کہیں وہ کہیں وہ کہیں وہ کہیں وہ کہیں وہ کہیں وہ کہیں وہ کہیں وہ کہیں وہ کہیں وہ کہیں وہ کہیں وہ کہیں وہ کہیں وہ کہیں وہ کہیں وہ کہیں وہ کہیں وہ کہیں وہ کہیں وہ کہیں وہ کہیں وہ کہیں وہ کہیں وہ کہیں وہ کہیں وہ کہیں وہ کہیں وہ کہیں وہ کہیں وہ کہیں وہ کہیں وہ کہیں وہ کہیں وہ کہیں وہ کہیں وہ کہیں وہ کہیں وہ کہیں وہ کہیں وہ کہیں وہ کہیں وہ کہیں وہ کہیں وہ کہیں وہ کہیں وہ کہیں وہ کہیں وہ کہیں وہ کہیں وہ کہیں وہ کہیں وہ کہیں وہ کہیں وہ کہیں وہ کہیں وہ کہیں وہ کہیں وہ کہیں وہ کہیں وہ کہیں وہ کہیں وہ کہیں وہ کہیں وہ کہیں وہ کہیں وہ کہیں وہ کہیں وہ کہیں وہ کہیں وہ کہیں وہ کہیں وہ کہیں وہ کہیں وہ کہیں وہ کہیں وہ کہیں وہ کہیں وہ کہیں وہ کہیں وہ کہیں وہ کہیں وہ کہیں وہ کہیں وہ کہیں وہ کہیں وہ کہیں وہ کہیں وہ کہیں وہ کہیں وہ کہیں وہ کہیں وہ کہیں وہ کہیں وہ کہیں وہ کہیں وہ کہیں وہ کہیں وہ کہیں وہ کہیں وہ کہیں وہ کہیں وہ کہیں وہ کہیں وہ کہیں وہ کہیں وہ کہیں وہ کہیں وہ کہیں وہ کہیں وہ کہیں وہ کہیں وہ کہیں وہ کہیں وہ کہیں وہ کہیں وہ کہیں وہ\n",
      "🔸 Reference: 유명한 광염 소나타의 작가 말씀이지요?\"\n",
      "🔹 Predicted: \n",
      "🔸 Reference: 쥐어 터져서 병원비 내는 건 못 참는다\n"
     ]
    },
    {
     "name": "stderr",
     "output_type": "stream",
     "text": [
      "\r",
      " 83%|████████▎ | 83/100 [03:39<00:34,  2.03s/it]"
     ]
    },
    {
     "name": "stdout",
     "output_type": "stream",
     "text": [
      "🔹 Predicted:  ہمیں گی ہے کہ ہمیں گی ہے کہ ہمیں گی ہے\n",
      "🔸 Reference: 여호와 하나님이 에덴동산에서 그 사람을 내어 보내어\n"
     ]
    },
    {
     "name": "stderr",
     "output_type": "stream",
     "text": [
      "\r",
      " 84%|████████▍ | 84/100 [03:44<00:46,  2.88s/it]"
     ]
    },
    {
     "name": "stdout",
     "output_type": "stream",
     "text": [
      "🔹 Predicted:  کیا کہاں ایک کچھا کہاں ایک کچھا کہاں ایک کچھا کہاں ایک کچھا کہاں ایک کچھا کہاں ایک کچھا کہاں ایک کچھا کہاں ایک کچھا کہاں ایک کچھا کہاں ایک کچھا کہاں ایک کچھا کہاں ایک کچھا کہاں ایک کچھا کہاں ایک کچھا کہاں ایک کچھا کہاں ایک کچھا کہاں ایک کچھا کہاں ایک کچھا کہاں ایک کچھا کہاں ایک کچھا کہاں ایک کچھا کہاں ایک کچھا کہاں ایک کچھا کہاں ایک کچھا کہاں ایک کچھا کہاں ایک کچھا کہاں ایک کچھا کہاں ایک کچھا کہاں ایک کچھا کہاں ایک کچھا کہاں ایک کچھا کہاں ایک کچھا کہاں ایک کچھا کہاں ایک کچھا کہاں ایک کچھا کہاں ایک کچھا کہاں ایک کچھا کہاں ایک کچھا کہاں ایک کچھا کہاں ایک کچھا کہاں ایک کچھا کہاں ایک کچھا کہاں ایک کچھا کہاں ایک کچھا کہاں ایک کچھا کہاں ایک کچھا کہاں ایک کچھا کہاں ایک کچھا کہاں ایک کچھا کہ\n",
      "🔸 Reference: 정은배 씨와 마동혁 씨의 음악을 굉장히 다르다고 생각했거든요.\n"
     ]
    },
    {
     "name": "stderr",
     "output_type": "stream",
     "text": [
      "\r",
      " 85%|████████▌ | 85/100 [03:49<00:52,  3.48s/it]"
     ]
    },
    {
     "name": "stdout",
     "output_type": "stream",
     "text": [
      "🔹 Predicted:  ایک ایک ایک ایک ایک ایک ایک ایک ایک ایک ایک ایک ایک ایک ایک ایک ایک ایک ایک ایک ایک ایک ایک ایک ایک ایک ایک ایک ایک ایک ایک ایک ایک ایک ایک ایک ایک ایک ایک ایک ایک ایک ایک ایک ایک ایک ایک ایک ایک ایک ایک ایک ایک ایک ایک ایک ایک ایک ایک ایک ایک ایک ایک ایک ایک ایک ایک ایک ایک ایک ایک ایک ایک ایک ایک ایک ایک ایک ایک ایک ایک ایک ایک ایک ایک ایک ایک ایک ایک ایک ایک ایک ایک ایک ایک ایک ایک ایک ایک ایک ایک ایک ایک ایک ایک ایک ایک ایک ایک ایک ایک ایک ایک ایک ایک ایک ایک ایک ایک ایک ایک ایک ایک ایک ایک ایک ایک ایک ایک ایک ایک ایک ایک ایک ایک ایک ایک ایک ایک ایک ایک ایک ایک ایک ایک ایک ایک ایک ایک ایک ایک ایک ایک ایک ایک ایک ایک ایک ایک ایک ایک ایک ایک ایک ایک ایک ایک ایک ایک ایک ایک ایک ایک ایک ایک ایک ایک ایک ایک ایک ایک ایک ایک ایک ایک ایک ایک ایک ایک ایک ایک ایک ایک ایک ایک ایک ایک ایک ایک ایک ایک ایک ایک ایک ایک ایک ایک ایک ایک ایک ایک ایک ایک ایک ایک ایک ایک ایک ایک ایک ایک ایک\n",
      "🔸 Reference: 그때에 비단을 찢는 듯한 옥점의 조소가 들리는 듯하여 그는 얼핏 머리를 숙였다.\n"
     ]
    },
    {
     "name": "stderr",
     "output_type": "stream",
     "text": [
      "\r",
      " 86%|████████▌ | 86/100 [03:49<00:34,  2.50s/it]"
     ]
    },
    {
     "name": "stdout",
     "output_type": "stream",
     "text": [
      "🔹 Predicted:  کیاہاں پہنے کیا ہے؟\n",
      "🔸 Reference: 웬일인지 선비가 울면 할멈은 번번이 따라 울곤 하였던 것이다.\n"
     ]
    },
    {
     "name": "stderr",
     "output_type": "stream",
     "text": [
      "\r",
      " 87%|████████▋ | 87/100 [03:54<00:41,  3.22s/it]"
     ]
    },
    {
     "name": "stdout",
     "output_type": "stream",
     "text": [
      "🔹 Predicted:  کیا کہاں ایک کچھا کہاں ایک کچھا کہاں ایک کچھا کہاں ایک کچھا کہاں ایک کچھا کہاں ایک کچھا کہاں ایک کچھا کہاں ایک کچھا کہاں ایک کچھا کہاں ایک کچھا کہاں ایک کچھا کہاں ایک کچھا کہاں ایک کچھا کہاں ایک کچھا کہاں ایک کچھا کہاں ایک کچھا کہاں ایک کچھا کہاں ایک کچھا کہاں ایک کچھا کہاں ایک کچھا کہاں ایک کچھا کہاں ایک کچھا کہاں ایک کچھا کہاں ایک کچھا کہاں ایک کچھا کہاں ایک کچھا کہاں ایک کچھا کہاں ایک کچھا کہاں ایک کچھا کہاں ایک کچھا کہاں ایک کچھا کہاں ایک کچھا کہاں ایک کچھا کہاں ایک کچھا کہاں ایک کچھا کہاں ایک کچھا کہاں ایک کچھا کہاں ایک کچھا کہاں ایک کچھا کہاں ایک کچھا کہاں ایک کچھا کہاں ایک کچھا کہاں ایک کچھا کہاں ایک کچھا کہاں ایک کچھا کہاں ایک کچھا کہاں ایک کچھا کہاں ایک کچھا کہاں ایک کچھا کہ\n",
      "🔸 Reference: 여기 편의점은 이십사시간 내내 열지는 않으니까, 필요한 게 있으면 미리 사두세요.\n"
     ]
    },
    {
     "name": "stderr",
     "output_type": "stream",
     "text": [
      "\r",
      " 88%|████████▊ | 88/100 [03:59<00:44,  3.73s/it]"
     ]
    },
    {
     "name": "stdout",
     "output_type": "stream",
     "text": [
      "🔹 Predicted:  ہمیں گی ہے کہ ہمیں ایک کچھا کچھ کچھ کچھ کچھ کچھ کچھ کچھ کچھ کچھ کچھ کچھ کچھ کچھ کچھ کچھ کچھ کچھ کچھ کچھ کچھ کچھ کچھ کچھ کچھ کچھ کچھ کچھ کچھ کچھ کچھ کچھ کچھ کچھ کچھ کچھ کچھ کچھ کچھ کچھ کچھ کچھ کچھ کچھ کچھ کچھ کچھ کچھ کچھ کچھ کچھ کچھ کچھ کچھ کچھ کچھ کچھ کچھ کچھ کچھ کچھ کچھ کچھ کچھ کچھ کچھ کچھ کچھ کچھ کچھ کچھ کچھ کچھ کچھ کچھ کچھ کچھ کچھ کچھ کچھ کچھ کچھ کچھ کچھ کچھ کچھ کچھ کچھ کچھ کچھ کچھ کچھ کچھ کچھ کچھ کچھ کچھ کچھ کچھ کچھ کچھ کچھ کچھ کچھ کچھ کچھ کچھ کچھ کچھ کچھ کچھ کچھ کچھ کچھ کچھ کچھ کچھ کچھ کچھ کچھ کچھ کچھ کچھ کچھ کچھ کچھ کچھ کچھ کچھ کچھ کچھ کچھ کچھ کچھ کچھ کچھ کچھ کچھ کچھ کچھ کچھ کچھ کچھ کچ\n",
      "🔸 Reference: 하고 창하는 춘우의 얼굴을 한참이나 물끄러미 들여다보았다.\n",
      "🔹 Predicted:  ہمیں گی ہے کہ ہمیں گی ہے\n",
      "🔸 Reference: 여동생이 점점 어머니를 닮았나 보다.\n"
     ]
    },
    {
     "name": "stderr",
     "output_type": "stream",
     "text": [
      " 90%|█████████ | 90/100 [04:04<00:33,  3.37s/it]"
     ]
    },
    {
     "name": "stdout",
     "output_type": "stream",
     "text": [
      "🔹 Predicted:  کیا کہاں ایک کچھا کہاں ایک کچھا کہاں ایک کچھا کہاں ایک کچھا کہاں ایک کچھا کہاں ایک کچھا کہاں ایک کچھا کہاں ایک کچھا کہاں ایک کچھا کہاں ایک کچھا کہاں ایک کچھا کہاں ایک کچھا کہاں ایک کچھا کہاں ایک کچھا کہاں ایک کچھا کہاں ایک کچھا کہاں ایک کچھا کہاں ایک کچھا کہاں ایک کچھا کہاں ایک کچھا کہاں ایک کچھا کہاں ایک کچھا کہاں ایک کچھا کہاں ایک کچھا کہاں ایک کچھا کہاں ایک کچھا کہاں ایک کچھا کہاں ایک کچھا کہاں ایک کچھا کہاں ایک کچھا کہاں ایک کچھا کہاں ایک کچھا کہاں ایک کچھا کہاں ایک کچھا کہاں ایک کچھا کہاں ایک کچھا کہاں ایک کچھا کہاں ایک کچھا کہاں ایک کچھا کہاں ایک کچھا کہاں ایک کچھا کہاں ایک کچھا کہاں ایک کچھا کہاں ایک کچھا کہاں ایک کچھا کہاں ایک کچھا کہاں ایک کچھا کہاں ایک کچھا کہاں ایک کچھا کہ\n",
      "🔸 Reference: 황금정에서는 용산으로 가는 듯한 월급쟁이들이 가득 들이몰리었다.\n"
     ]
    },
    {
     "name": "stderr",
     "output_type": "stream",
     "text": [
      "\r",
      " 91%|█████████ | 91/100 [04:09<00:34,  3.83s/it]"
     ]
    },
    {
     "name": "stdout",
     "output_type": "stream",
     "text": [
      "🔹 Predicted:  کیا کہاں ایک کچھا کہاں ایک کچھا کہاں ایک کچھا کہاں ایک کچھا کہاں ایک کچھا کہاں ایک کچھا کہاں ایک کچھا کہاں ایک کچھا کہاں ایک کچھا کہاں ایک کچھا کہاں ایک کچھا کہاں ایک کچھا کہاں ایک کچھا کہاں ایک کچھا کہاں ایک کچھا کہاں ایک کچھا کہاں ایک کچھا کہاں ایک کچھا کہاں ایک کچھا کہاں ایک کچھا کہاں ایک کچھا کہاں ایک کچھا کہاں ایک کچھا کہاں ایک کچھا کہاں ایک کچھا کہاں ایک کچھا کہاں ایک کچھا کہاں ایک کچھا کہاں ایک کچھا کہاں ایک کچھا کہاں ایک کچھا کہاں ایک کچھا کہاں ایک کچھا کہاں ایک کچھا کہاں ایک کچھا کہاں ایک کچھا کہاں ایک کچھا کہاں ایک کچھا کہاں ایک کچھا کہاں ایک کچھا کہاں ایک کچھا کہاں ایک کچھا کہاں ایک کچھا کہاں ایک کچھا کہاں ایک کچھا کہاں ایک کچھا کہاں ایک کچھا کہاں ایک کچھا کہاں ایک کچھا کہ\n",
      "🔸 Reference: 이것이 이 좋은 새 옷을 준 데 대한 흥선의 인사였다.\n"
     ]
    },
    {
     "name": "stderr",
     "output_type": "stream",
     "text": [
      "\r",
      " 92%|█████████▏| 92/100 [04:09<00:22,  2.82s/it]"
     ]
    },
    {
     "name": "stdout",
     "output_type": "stream",
     "text": [
      "🔹 Predicted:  کیا ہے کہ وہ کچھا کہیں ان்னுடையும் போல்லையும் போல்லை.\n",
      "🔸 Reference: 보라 이 사람이 선악을 아는 일에 우리 중 하나 같이 되었으니\n"
     ]
    },
    {
     "name": "stderr",
     "output_type": "stream",
     "text": [
      "\r",
      " 93%|█████████▎| 93/100 [04:14<00:24,  3.48s/it]"
     ]
    },
    {
     "name": "stdout",
     "output_type": "stream",
     "text": [
      "🔹 Predicted:  ہمیں گی ہے کہ ہمیں کچھا کچھ کچھ کچھ کچھ کچھ کچھ کچھ کچھ کچھ کچھ کچھ کچھ کچھ کچھ کچھ کچھ کچھ کچھ کچھ کچھ کچھ کچھ کچھ کچھ کچھ کچھ کچھ کچھ کچھ کچھ کچھ کچھ کچھ کچھ کچھ کچھ کچھ کچھ کچھ کچھ کچھ کچھ کچھ کچھ کچھ کچھ کچھ کچھ کچھ کچھ کچھ کچھ کچھ کچھ کچھ کچھ کچھ کچھ کچھ کچھ کچھ کچھ کچھ کچھ کچھ کچھ کچھ کچھ کچھ کچھ کچھ کچھ کچھ کچھ کچھ کچھ کچھ کچھ کچھ کچھ کچھ کچھ کچھ کچھ کچھ کچھ کچھ کچھ کچھ کچھ کچھ کچھ کچھ کچھ کچھ کچھ کچھ کچھ کچھ کچھ کچھ کچھ کچھ کچھ کچھ کچھ کچھ کچھ کچھ کچھ کچھ کچھ کچھ کچھ کچھ کچھ کچھ کچھ کچھ کچھ کچھ کچھ کچھ کچھ کچھ کچھ کچھ کچھ کچھ کچھ کچھ کچھ کچھ کچھ کچھ کچھ کچھ کچھ کچھ کچھ کچھ کچھ کچھ ک\n",
      "🔸 Reference: 자, 여기 어떤 상점이 있다 합시다.\n"
     ]
    },
    {
     "name": "stderr",
     "output_type": "stream",
     "text": [
      "\r",
      " 94%|█████████▍| 94/100 [04:19<00:23,  3.91s/it]"
     ]
    },
    {
     "name": "stdout",
     "output_type": "stream",
     "text": [
      "🔹 Predicted:  ایک ایک ایک ایک ایک ایک ایک ایک ایک ایک ایک ایک ایک ایک ایک ایک ایک ایک ایک ایک ایک ایک ایک ایک ایک ایک ایک ایک ایک ایک ایک ایک ایک ایک ایک ایک ایک ایک ایک ایک ایک ایک ایک ایک ایک ایک ایک ایک ایک ایک ایک ایک ایک ایک ایک ایک ایک ایک ایک ایک ایک ایک ایک ایک ایک ایک ایک ایک ایک ایک ایک ایک ایک ایک ایک ایک ایک ایک ایک ایک ایک ایک ایک ایک ایک ایک ایک ایک ایک ایک ایک ایک ایک ایک ایک ایک ایک ایک ایک ایک ایک ایک ایک ایک ایک ایک ایک ایک ایک ایک ایک ایک ایک ایک ایک ایک ایک ایک ایک ایک ایک ایک ایک ایک ایک ایک ایک ایک ایک ایک ایک ایک ایک ایک ایک ایک ایک ایک ایک ایک ایک ایک ایک ایک ایک ایک ایک ایک ایک ایک ایک ایک ایک ایک ایک ایک ایک ایک ایک ایک ایک ایک ایک ایک ایک ایک ایک ایک ایک ایک ایک ایک ایک ایک ایک ایک ایک ایک ایک ایک ایک ایک ایک ایک ایک ایک ایک ایک ایک ایک ایک ایک ایک ایک ایک ایک ایک ایک ایک ایک ایک ایک ایک ایک ایک ایک ایک ایک ایک ایک ایک ایک ایک ایک ایک ایک ایک ایک ایک ایک ایک ایک\n",
      "🔸 Reference: 그때 그는 경찰서에서 고문받던 생각을 하고 소름이 쭉 끼쳤다.\n"
     ]
    },
    {
     "name": "stderr",
     "output_type": "stream",
     "text": [
      "\r",
      " 95%|█████████▌| 95/100 [04:24<00:21,  4.22s/it]"
     ]
    },
    {
     "name": "stdout",
     "output_type": "stream",
     "text": [
      "🔹 Predicted:  ہمیں گی ہے کہ ہمیں ایک کچھا کچھ کچھ کچھ کچھ کچھ کچھ کچھ کچھ کچھ کچھ کچھ کچھ کچھ کچھ کچھ کچھ کچھ کچھ کچھ کچھ کچھ کچھ کچھ کچھ کچھ کچھ کچھ کچھ کچھ کچھ کچھ کچھ کچھ کچھ کچھ کچھ کچھ کچھ کچھ کچھ کچھ کچھ کچھ کچھ کچھ کچھ کچھ کچھ کچھ کچھ کچھ کچھ کچھ کچھ کچھ کچھ کچھ کچھ کچھ کچھ کچھ کچھ کچھ کچھ کچھ کچھ کچھ کچھ کچھ کچھ کچھ کچھ کچھ کچھ کچھ کچھ کچھ کچھ کچھ کچھ کچھ کچھ کچھ کچھ کچھ کچھ کچھ کچھ کچھ کچھ کچھ کچھ کچھ کچھ کچھ کچھ کچھ کچھ کچھ کچھ کچھ کچھ کچھ کچھ کچھ کچھ کچھ کچھ کچھ کچھ کچھ کچھ کچھ کچھ کچھ کچھ کچھ کچھ کچھ کچھ کچھ کچھ کچھ کچھ کچھ کچھ کچھ کچھ کچھ کچھ کچھ کچھ کچھ کچھ کچھ کچھ کچھ کچھ کچھ کچھ کچھ کچھ کچ\n",
      "🔸 Reference: 일포는 못 들은 체하고 있다가 여전히 또 우벼 내서 맡아 보곤 하였다.\n"
     ]
    },
    {
     "name": "stderr",
     "output_type": "stream",
     "text": [
      "\r",
      " 96%|█████████▌| 96/100 [04:29<00:17,  4.46s/it]"
     ]
    },
    {
     "name": "stdout",
     "output_type": "stream",
     "text": [
      "🔹 Predicted:  ایک کچھا کچھ کچھ کچھ کچھ کچھ کچھ کچھ کچھ کچھ کچھ کچھ کچھ کچھ کچھ کچھ کچھ کچھ کچھ کچھ کچھ کچھ کچھ کچھ کچھ کچھ کچھ کچھ کچھ کچھ کچھ کچھ کچھ کچھ کچھ کچھ کچھ کچھ کچھ کچھ کچھ کچھ کچھ کچھ کچھ کچھ کچھ کچھ کچھ کچھ کچھ کچھ کچھ کچھ کچھ کچھ کچھ کچھ کچھ کچھ کچھ کچھ کچھ کچھ کچھ کچھ کچھ کچھ کچھ کچھ کچھ کچھ کچھ کچھ کچھ کچھ کچھ کچھ کچھ کچھ کچھ کچھ کچھ کچھ کچھ کچھ کچھ کچھ کچھ کچھ کچھ کچھ کچھ کچھ کچھ کچھ کچھ کچھ کچھ کچھ کچھ کچھ کچھ کچھ کچھ کچھ کچھ کچھ کچھ کچھ کچھ کچھ کچھ کچھ کچھ کچھ کچھ کچھ کچھ کچھ کچھ کچھ کچھ کچھ کچھ کچھ کچھ کچھ کچھ کچھ کچھ کچھ کچھ کچھ کچھ کچھ کچھ کچھ کچھ کچھ کچھ کچھ کچھ کچھ کچھ کچھ کچھ\n",
      "🔸 Reference: 자기의 마음을 제어하지 아니하는 자는 성읍이 무너지고 성벽이 없는 것 같으니라\n",
      "🔹 Predicted:  کیا ہے\n",
      "🔸 Reference: 그의 가슴에는 또다시 그 실뭉치가 욱 쓸어 올라온다.\n"
     ]
    },
    {
     "name": "stderr",
     "output_type": "stream",
     "text": [
      "\r",
      " 98%|█████████▊| 98/100 [04:29<00:04,  2.49s/it]"
     ]
    },
    {
     "name": "stdout",
     "output_type": "stream",
     "text": [
      "🔹 Predicted:  کیا私は、私のようなことを言うことを言う\n",
      "🔸 Reference: 그럴 것이다.\n"
     ]
    },
    {
     "name": "stderr",
     "output_type": "stream",
     "text": [
      "\r",
      " 99%|█████████▉| 99/100 [04:34<00:03,  3.09s/it]"
     ]
    },
    {
     "name": "stdout",
     "output_type": "stream",
     "text": [
      "🔹 Predicted:  کیا کہ ہوں کہ ہوں کہ ہوں کہ ہوں کہ ہوں کہ ہوں کہ ہوں کہ ہوں کہ ہوں کہ ہوں کہ ہوں کہ ہوں کہ ہوں کہ ہوں کہ ہوں کہ ہوں کہ ہوں کہ ہوں کہ ہوں کہ ہوں کہ ہوں کہ ہوں کہ ہوں کہ ہوں کہ ہوں کہ ہوں کہ ہوں کہ ہوں کہ ہوں کہ ہوں کہ ہوں کہ ہوں کہ ہوں کہ ہوں کہ ہوں کہ ہوں کہ ہوں کہ ہوں کہ ہوں کہ ہوں کہ ہوں کہ ہوں کہ ہوں کہ ہوں کہ ہوں کہ ہوں کہ ہوں کہ ہوں کہ ہوں کہ ہوں کہ ہوں کہ ہوں کہ ہوں کہ ہوں کہ ہوں کہ ہوں کہ ہوں کہ ہوں کہ ہوں کہ ہوں کہ ہوں کہ ہوں کہ ہوں کہ ہوں کہ ہوں کہ ہوں کہ ہوں کہ ہوں کہ ہوں کہ ہوں کہ ہوں کہ ہوں کہ ہوں کہ ہوں کہ ہوں کہ ہوں کہ ہوں کہ ہوں کہ ہوں کہ ہوں کہ ہوں کہ ہوں کہ ہوں کہ ہوں کہ ہوں کہ ہوں کہ ہوں کہ ہوں کہ ہوں کہ ہوں کہ ہوں کہ ہوں کہ ہوں کہ ہوں کہ ہوں کہ ہوں کہ ہوں کہ ہوں کہ ہوں کہ ہوں کہ ہوں کہ ہوں کہ ہوں کہ ہوں کہ ہوں کہ ہوں کہ ہوں کہ ہوں کہ ہوں کہ ہوں کہ ہوں کہ ہوں کہ ہوں کہ ہوں کہ ہوں کہ ہوں کہ ہوں کہ ہوں کہ ہوں کہ ہوں کہ ہوں کہ ہوں کہ ہوں کہ ہوں کہ ہوں کہ ہوں کہ ہوں کہ ہوں کہ ہوں کہ ہوں کہ ہوں کہ ہوں کہ ہوں کہ ہوں کہ ہوں کہ ہوں کہ ہوں کہ ہوں کہ ہوں کہ ہوں کہ ہوں کہ ہوں کہ ہوں کہ ہوں کہ ہوں کہ ہوں کہ ہ\n",
      "🔸 Reference: 간난이가 몸을 솟구려고 움찔하는 바람에 선비가 푹 거꾸러졌다.\n"
     ]
    },
    {
     "name": "stderr",
     "output_type": "stream",
     "text": [
      "100%|██████████| 100/100 [04:39<00:00,  2.80s/it]"
     ]
    },
    {
     "name": "stdout",
     "output_type": "stream",
     "text": [
      "🔹 Predicted:  ایک ایک ایک ایک ایک ایک ایک ایک ایک ایک ایک ایک ایک ایک ایک ایک ایک ایک ایک ایک ایک ایک ایک ایک ایک ایک ایک ایک ایک ایک ایک ایک ایک ایک ایک ایک ایک ایک ایک ایک ایک ایک ایک ایک ایک ایک ایک ایک ایک ایک ایک ایک ایک ایک ایک ایک ایک ایک ایک ایک ایک ایک ایک ایک ایک ایک ایک ایک ایک ایک ایک ایک ایک ایک ایک ایک ایک ایک ایک ایک ایک ایک ایک ایک ایک ایک ایک ایک ایک ایک ایک ایک ایک ایک ایک ایک ایک ایک ایک ایک ایک ایک ایک ایک ایک ایک ایک ایک ایک ایک ایک ایک ایک ایک ایک ایک ایک ایک ایک ایک ایک ایک ایک ایک ایک ایک ایک ایک ایک ایک ایک ایک ایک ایک ایک ایک ایک ایک ایک ایک ایک ایک ایک ایک ایک ایک ایک ایک ایک ایک ایک ایک ایک ایک ایک ایک ایک ایک ایک ایک ایک ایک ایک ایک ایک ایک ایک ایک ایک ایک ایک ایک ایک ایک ایک ایک ایک ایک ایک ایک ایک ایک ایک ایک ایک ایک ایک ایک ایک ایک ایک ایک ایک ایک ایک ایک ایک ایک ایک ایک ایک ایک ایک ایک ایک ایک ایک ایک ایک ایک ایک ایک ایک ایک ایک ایک ایک ایک ایک ایک ایک ایک\n",
      "🔸 Reference: 빈부가 섞여 살거니와 무릇 그들을 지으신 이는 여호와시니라\n",
      "✅ KO WER: 14.0879\n",
      "🌍 Language: en\n"
     ]
    },
    {
     "name": "stderr",
     "output_type": "stream",
     "text": [
      "\n",
      "  1%|          | 1/100 [00:00<00:15,  6.59it/s]"
     ]
    },
    {
     "name": "stdout",
     "output_type": "stream",
     "text": [
      "🔹 Predicted:  [Police sirens]\n",
      "🔸 Reference: Again, small fast craft could attack and destroy a major warship.\n"
     ]
    },
    {
     "name": "stderr",
     "output_type": "stream",
     "text": [
      "\r",
      "  2%|▏         | 2/100 [00:00<00:34,  2.85it/s]"
     ]
    },
    {
     "name": "stdout",
     "output_type": "stream",
     "text": [
      "🔹 Predicted:  バックスクリームを取り出している\n",
      "🔸 Reference: Both the Collected and Selected Poems were edited by Michael Rothenberg.\n"
     ]
    },
    {
     "name": "stderr",
     "output_type": "stream",
     "text": [
      "\r",
      "  3%|▎         | 3/100 [00:05<03:59,  2.47s/it]"
     ]
    },
    {
     "name": "stdout",
     "output_type": "stream",
     "text": [
      "🔹 Predicted:  پیر کچھا کچھا کچھا کچھا کچھا کچھا کچھا کچھا کچھا کچھا کچھا کچھا کچھا کچھا کچھا کچھا کچھا کچھا کچھا کچھا کچھا کچھا کچھا کچھا کچھا کچھا کچھا کچھا کچھا کچھا کچھا کچھا کچھا کچھا کچھا کچھا کچھا کچھا کچھا کچھا کچھا کچھا کچھا کچھا کچھا کچھا کچھا کچھا کچھا کچھا کچھا کچھا کچھا کچھا کچھا کچھا کچھا کچھا کچھا کچھا کچھا کچھا کچھا کچھا کچھا کچھا کچھا کچھا کچھا کچھا کچھا کچھا کچھا کچھا کچھا کچھا کچھا کچھا کچھا کچھا کچھا کچھا کچھا کچھا کچھا کچھا کچھا کچھا کچھا کچھا کچھا کچھا کچھا کچھا کچھا کچھا کچھا کچھا کچھا کچھا کچھا کچھا کچھا کچھا کچھا کچھا کچھا کچھا کچھا کچھا ک\n",
      "🔸 Reference: The residents moved to higher ground east of the original site.\n"
     ]
    },
    {
     "name": "stderr",
     "output_type": "stream",
     "text": [
      "\r",
      "  4%|▍         | 4/100 [00:06<02:44,  1.71s/it]"
     ]
    },
    {
     "name": "stdout",
     "output_type": "stream",
     "text": [
      "🔹 Predicted:  یا یا کھاہاں کھاہاں کھاہاں سے کھاہاں کھاہاں سے ہوں گیا\n",
      "🔸 Reference: We need an end of all such matter.\n"
     ]
    },
    {
     "name": "stderr",
     "output_type": "stream",
     "text": [
      "  6%|▌         | 6/100 [00:06<01:23,  1.13it/s]"
     ]
    },
    {
     "name": "stdout",
     "output_type": "stream",
     "text": [
      "🔹 Predicted:  کیاہاں کچھا کچھا کچھا کچھا کچھا کچھا کچھا کچھا\n",
      "🔸 Reference: Bridget was born and raised in Ghana.\n",
      "🔹 Predicted:  [Police sirens]\n",
      "🔸 Reference: The crash is the deadliest aviation disaster in both Basque Country and Iberia history.\n"
     ]
    },
    {
     "name": "stderr",
     "output_type": "stream",
     "text": [
      "\r",
      "  7%|▋         | 7/100 [00:06<00:58,  1.59it/s]"
     ]
    },
    {
     "name": "stdout",
     "output_type": "stream",
     "text": [
      "🔹 Predicted:  کیا ہے؟\n",
      "🔸 Reference: The pitched roof is clad in red tiles.\n"
     ]
    },
    {
     "name": "stderr",
     "output_type": "stream",
     "text": [
      "\r",
      "  8%|▊         | 8/100 [00:07<00:55,  1.67it/s]"
     ]
    },
    {
     "name": "stdout",
     "output_type": "stream",
     "text": [
      "🔹 Predicted:  Върърт са елзи с тъп си сега елзи с тъп са тъп са елзи.\n",
      "🔸 Reference: Ski Gap Road leads southeast down the valley of South Poplar Run to Claysburg.\n"
     ]
    },
    {
     "name": "stderr",
     "output_type": "stream",
     "text": [
      "\r",
      "  9%|▉         | 9/100 [00:12<02:57,  1.95s/it]"
     ]
    },
    {
     "name": "stdout",
     "output_type": "stream",
     "text": [
      "🔹 Predicted:  Върън е не е не е е не е е е е е е е е е е е е е е е е е е е е е е е е е е е е е е е е е е е е е е е е е е е е е е е е е е е е е е е е е е е е е е е е е е е е е е е е е е е е е е е е е е е е е е е е е е е е е е е е е е е е е е е е е е е е е е е е е е е е е е е е е е е е е е е е е е е е е е е е е е е е е е е е е е е е е е е е е е е е е е е е е е е е е е е е е е е е е е е е е е е е е е е е е е е е е е е е е е е е е е е е е е е е е е е е е е е е е е е е е е е е е е е е е е е е е е е е е е е е е е е е е е е е е е е е е е е е е е е е е е е е е е е е е е е е е е е е е е е е е е е е е е е е е е е е е е е е е е е е е е е е е е е е е е е е е е е е е е е е е е е е е е е е е е е е е е е е е е е е е е е е е е е е е е е е е е е е е е е е е е е е е е е е е е е е е е е е е е е е е е е е е е е е е е е е е е е е е е е е е е е е е е е е е е е е е е е е е е е е е е е е е е е е е е е е е е е е\n",
      "🔸 Reference: Egyptian archeology is one of the branches of Egyptology.\n"
     ]
    },
    {
     "name": "stderr",
     "output_type": "stream",
     "text": [
      "\r",
      " 10%|█         | 10/100 [00:12<02:12,  1.47s/it]"
     ]
    },
    {
     "name": "stdout",
     "output_type": "stream",
     "text": [
      "🔹 Predicted:  Върън не е върген, а върген сега е не е върген.\n",
      "🔸 Reference: It is also known as Bayo Canyon Road.\n"
     ]
    },
    {
     "name": "stderr",
     "output_type": "stream",
     "text": [
      "\r",
      " 11%|█         | 11/100 [00:17<03:43,  2.52s/it]"
     ]
    },
    {
     "name": "stdout",
     "output_type": "stream",
     "text": [
      "🔹 Predicted:  Върънън не е не е е не е е е е е е е е е е е е е е е е е е е е е е е е е е е е е е е е е е е е е е е е е е е е е е е е е е е е е е е е е е е е е е е е е е е е е е е е е е е е е е е е е е е е е е е е е е е е е е е е е е е е е е е е е е е е е е е е е е е е е е е е е е е е е е е е е е е е е е е е е е е е е е е е е е е е е е е е е е е е е е е е е е е е е е е е е е е е е е е е е е е е е е е е е е е е е е е е е е е е е е е е е е е е е е е е е е е е е е е е е е е е е е е е е е е е е е е е е е е е е е е е е е е е е е е е е е е е е е е е е е е е е е е е е е е е е е е е е е е е е е е е е е е е е е е е е е е е е е е е е е е е е е е е е е е е е е е е е е е е е е е е е е е е е е е е е е е е е е е е е е е е е е е е е е е е е е е е е е е е е е е е е е е е е е е е е е е е е е е е е е е е е е е е е е е е е е е е е е е е е е е е е е е е е е е е е е е е е е е е е е е е е е е е е е е е е е е\n",
      "🔸 Reference: Other similar explanations include \"shoally river\", and \"a rock ledge across a stream\".\n"
     ]
    },
    {
     "name": "stderr",
     "output_type": "stream",
     "text": [
      "\r",
      " 12%|█▏        | 12/100 [00:22<04:45,  3.25s/it]"
     ]
    },
    {
     "name": "stdout",
     "output_type": "stream",
     "text": [
      "🔹 Predicted:  Върън не е е не е е е е е е е е е е е е е е е е е е е е е е е е е е е е е е е е е е е е е е е е е е е е е е е е е е е е е е е е е е е е е е е е е е е е е е е е е е е е е е е е е е е е е е е е е е е е е е е е е е е е е е е е е е е е е е е е е е е е е е е е е е е е е е е е е е е е е е е е е е е е е е е е е е е е е е е е е е е е е е е е е е е е е е е е е е е е е е е е е е е е е е е е е е е е е е е е е е е е е е е е е е е е е е е е е е е е е е е е е е е е е е е е е е е е е е е е е е е е е е е е е е е е е е е е е е е е е е е е е е е е е е е е е е е е е е е е е е е е е е е е е е е е е е е е е е е е е е е е е е е е е е е е е е е е е е е е е е е е е е е е е е е е е е е е е е е е е е е е е е е е е е е е е е е е е е е е е е е е е е е е е е е е е е е е е е е е е е е е е е е е е е е е е е е е е е е е е е е е е е е е е е е е е е е е е е е е е е е е е е е е е е е е е е е е е е е е е е е\n",
      "🔸 Reference: Both ensembles wear highland dress patterned in their respective service tartans.\n"
     ]
    },
    {
     "name": "stderr",
     "output_type": "stream",
     "text": [
      " 14%|█▍        | 14/100 [00:23<02:25,  1.70s/it]"
     ]
    },
    {
     "name": "stdout",
     "output_type": "stream",
     "text": [
      "🔹 Predicted:  Върън не е върън в тън кън върън върън.\n",
      "🔸 Reference: Other frames are shaped as chess pieces and geometric shapes.\n",
      "🔹 Predicted:  2.0%\n",
      "🔸 Reference: I wanted to sleep a little longer, he thought.\n"
     ]
    },
    {
     "name": "stderr",
     "output_type": "stream",
     "text": [
      " 16%|█▌        | 16/100 [00:28<02:39,  1.90s/it]"
     ]
    },
    {
     "name": "stdout",
     "output_type": "stream",
     "text": [
      "🔹 Predicted:  کیا کہاں ایک کچھا کہاں ایک کچھا کہاں ایک کچھا کہاں ایک کچھا کہاں ایک کچھا کہاں ایک کچھا کہاں ایک کچھا کہاں ایک کچھا کہاں ایک کچھا کہاں ایک کچھا کہاں ایک کچھا کہاں ایک کچھا کہاں ایک کچھا کہاں ایک کچھا کہاں ایک کچھا کہاں ایک کچھا کہاں ایک کچھا کہاں ایک کچھا کہاں ایک کچھا کہاں ایک کچھا کہاں ایک کچھا کہاں ایک کچھا کہاں ایک کچھا کہاں ایک کچھا کہاں ایک کچھا کہاں ایک کچھا کہاں ایک کچھا کہاں ایک کچھا کہاں ایک کچھا کہاں ایک کچھا کہاں ایک کچھا کہاں ایک کچھا کہاں ایک کچھا کہاں ایک کچھا کہاں ایک کچھا کہاں ایک کچھا کہاں ایک کچھا کہاں ایک کچھا کہاں ایک کچھا کہاں ایک کچھا کہاں ایک کچھا کہاں ایک کچھا کہاں ایک کچھا کہاں ایک کچھا کہاں ایک کچھا کہاں ایک کچھا کہاں ایک کچھا کہاں ایک کچھا کہاں ایک کچھا کہ\n",
      "🔸 Reference: The people with programs are seated in a very large, elegant room.\n",
      "🔹 Predicted:  [Police sirens]\n",
      "🔸 Reference: A man is grilling out in his backyard.\n"
     ]
    },
    {
     "name": "stderr",
     "output_type": "stream",
     "text": [
      "\r",
      " 17%|█▋        | 17/100 [00:32<03:51,  2.79s/it]"
     ]
    },
    {
     "name": "stdout",
     "output_type": "stream",
     "text": [
      "🔹 Predicted:  ہمیں گی ہے کہ ہمیں ایک ایک ایک ایک ایک ایک ایک ایک ایک ایک ایک ایک ایک ایک ایک ایک ایک ایک ایک ایک ایک ایک ایک ایک ایک ایک ایک ایک ایک ایک ایک ایک ایک ایک ایک ایک ایک ایک ایک ایک ایک ایک ایک ایک ایک ایک ایک ایک ایک ایک ایک ایک ایک ایک ایک ایک ایک ایک ایک ایک ایک ایک ایک ایک ایک ایک ایک ایک ایک ایک ایک ایک ایک ایک ایک ایک ایک ایک ایک ایک ایک ایک ایک ایک ایک ایک ایک ایک ایک ایک ایک ایک ایک ایک ایک ایک ایک ایک ایک ایک ایک ایک ایک ایک ایک ایک ایک ایک ایک ایک ایک ایک ایک ایک ایک ایک ایک ایک ایک ایک ایک ایک ایک ایک ایک ایک ایک ایک ایک ایک ایک ایک ایک ایک ایک ایک ایک ایک ایک ایک ایک ایک ایک ایک ایک ایک ایک ایک ایک ایک ایک ایک ایک ایک ایک ایک ایک ایک ایک ایک ایک ایک ایک ایک ایک ایک ایک ایک ایک ایک ایک ایک ایک ایک ایک ایک ایک ایک ایک ایک ایک ایک ایک ایک ایک ایک ایک ایک ایک ایک ایک ایک ایک ایک ایک ایک ایک ایک ایک ایک ایک ایک ایک ایک ایک ایک ایک ایک ایک ایک ایک ایک ایک ایک ایک ایک ایک\n",
      "🔸 Reference: A large black dog is catching a Frisbee while a large brown dog follows shortly after.\n"
     ]
    },
    {
     "name": "stderr",
     "output_type": "stream",
     "text": [
      " 19%|█▉        | 19/100 [00:37<03:16,  2.42s/it]"
     ]
    },
    {
     "name": "stdout",
     "output_type": "stream",
     "text": [
      "🔹 Predicted:  ایک ایک ایک ایک ایک ایک ایک ایک ایک ایک ایک ایک ایک ایک ایک ایک ایک ایک ایک ایک ایک ایک ایک ایک ایک ایک ایک ایک ایک ایک ایک ایک ایک ایک ایک ایک ایک ایک ایک ایک ایک ایک ایک ایک ایک ایک ایک ایک ایک ایک ایک ایک ایک ایک ایک ایک ایک ایک ایک ایک ایک ایک ایک ایک ایک ایک ایک ایک ایک ایک ایک ایک ایک ایک ایک ایک ایک ایک ایک ایک ایک ایک ایک ایک ایک ایک ایک ایک ایک ایک ایک ایک ایک ایک ایک ایک ایک ایک ایک ایک ایک ایک ایک ایک ایک ایک ایک ایک ایک ایک ایک ایک ایک ایک ایک ایک ایک ایک ایک ایک ایک ایک ایک ایک ایک ایک ایک ایک ایک ایک ایک ایک ایک ایک ایک ایک ایک ایک ایک ایک ایک ایک ایک ایک ایک ایک ایک ایک ایک ایک ایک ایک ایک ایک ایک ایک ایک ایک ایک ایک ایک ایک ایک ایک ایک ایک ایک ایک ایک ایک ایک ایک ایک ایک ایک ایک ایک ایک ایک ایک ایک ایک ایک ایک ایک ایک ایک ایک ایک ایک ایک ایک ایک ایک ایک ایک ایک ایک ایک ایک ایک ایک ایک ایک ایک ایک ایک ایک ایک ایک ایک ایک ایک ایک ایک ایک ایک ایک ایک ایک ایک ایک\n",
      "🔸 Reference: Arctic rescue missions were mounted as necessary.\n",
      "🔹 Predicted:  کیا ہے؟\n",
      "🔸 Reference: Carter said racism played a part in the decision.\n"
     ]
    },
    {
     "name": "stderr",
     "output_type": "stream",
     "text": [
      " 21%|██        | 21/100 [00:42<02:57,  2.24s/it]"
     ]
    },
    {
     "name": "stdout",
     "output_type": "stream",
     "text": [
      "🔹 Predicted:  پیر کچھا کچھا کچھا کچھا کچھا کچھا کچھا کچھا کچھا کچھا کچھا کچھا کچھا کچھا کچھا کچھا کچھا کچھا کچھا کچھا کچھا کچھا کچھا کچھا کچھا کچھا کچھا کچھا کچھا کچھا کچھا کچھا کچھا کچھا کچھا کچھا کچھا کچھا کچھا کچھا کچھا کچھا کچھا کچھا کچھا کچھا کچھا کچھا کچھا کچھا کچھا کچھا کچھا کچھا کچھا کچھا کچھا کچھا کچھا کچھا کچھا کچھا کچھا کچھا کچھا کچھا کچھا کچھا کچھا کچھا کچھا کچھا کچھا کچھا کچھا کچھا کچھا کچھا کچھا کچھا کچھا کچھا کچھا کچھا کچھا کچھا کچھا کچھا کچھا کچھا کچھا کچھا کچھا کچھا کچھا کچھا کچھا کچھا کچھا کچھا کچھا کچھا کچھا کچھا کچھا کچھا کچھا کچھا کچھا کچھا ک\n",
      "🔸 Reference: Its word order is the typical subject-object-verb.\n",
      "🔹 Predicted:  [Music]\n",
      "🔸 Reference: Gwen commits herself to restoring her relationship with her sister.\n"
     ]
    },
    {
     "name": "stderr",
     "output_type": "stream",
     "text": [
      " 24%|██▍       | 24/100 [00:43<01:09,  1.09it/s]"
     ]
    },
    {
     "name": "stdout",
     "output_type": "stream",
     "text": [
      "🔹 Predicted:  [Altimusikusus]\n",
      "🔸 Reference: To which he replies: I thought she was your mother!\n",
      "🔹 Predicted:  [Music]\n",
      "🔸 Reference: Later that night Jill is kidnapped by gill men.\n",
      "🔹 Predicted:  [Music]\n",
      "🔸 Reference: Empty barrels make the most noise.\n"
     ]
    },
    {
     "name": "stderr",
     "output_type": "stream",
     "text": [
      "\r",
      " 25%|██▌       | 25/100 [00:48<02:19,  1.87s/it]"
     ]
    },
    {
     "name": "stdout",
     "output_type": "stream",
     "text": [
      "🔹 Predicted:  Върън не е върън върън върън върън върън върън върън върън върън върън върън върън върън върън върън върън върън върън върън върън върън върън върън върън върън върън върън върън върън върън върън върън върън върън върън върън върън върън върън върън върън върън върън върън върън върън върън върън върън върън върън върън върън върън върън върън върън върън върън върън върън върън върън върън върън върън върън върън върън върън върън върън върън върън върън върън върън върън върън върън върън върън върън върън върън върън върън въ\n",
      "🔸 Reference: When the carpet and the curtains caught fire, it was getting warm.\n"
     ]
    },
    {
     "name": "stderr",
     "output_type": "stream",
     "text": [
      "\r",
      " 26%|██▌       | 26/100 [00:52<03:12,  2.61s/it]"
     ]
    },
    {
     "name": "stdout",
     "output_type": "stream",
     "text": [
      "🔹 Predicted:  ہمیں گی ہے کہ ہمیں ایک کچھا کچھ کچھ کچھ کچھ کچھ کچھ کچھ کچھ کچھ کچھ کچھ کچھ کچھ کچھ کچھ کچھ کچھ کچھ کچھ کچھ کچھ کچھ کچھ کچھ کچھ کچھ کچھ کچھ کچھ کچھ کچھ کچھ کچھ کچھ کچھ کچھ کچھ کچھ کچھ کچھ کچھ کچھ کچھ کچھ کچھ کچھ کچھ کچھ کچھ کچھ کچھ کچھ کچھ کچھ کچھ کچھ کچھ کچھ کچھ کچھ کچھ کچھ کچھ کچھ کچھ کچھ کچھ کچھ کچھ کچھ کچھ کچھ کچھ کچھ کچھ کچھ کچھ کچھ کچھ کچھ کچھ کچھ کچھ کچھ کچھ کچھ کچھ کچھ کچھ کچھ کچھ کچھ کچھ کچھ کچھ کچھ کچھ کچھ کچھ کچھ کچھ کچھ کچھ کچھ کچھ کچھ کچھ کچھ کچھ کچھ کچھ کچھ کچھ کچھ کچھ کچھ کچھ کچھ کچھ کچھ کچھ کچھ کچھ کچھ کچھ کچھ کچھ کچھ کچھ کچھ کچھ کچھ کچھ کچھ کچھ کچھ کچھ کچھ کچھ کچھ کچھ کچھ کچ\n",
      "🔸 Reference: Bampur, where the ancient Bampur fort is located, is nearby.\n"
     ]
    },
    {
     "name": "stderr",
     "output_type": "stream",
     "text": [
      "\r",
      " 27%|██▋       | 27/100 [00:57<03:55,  3.22s/it]"
     ]
    },
    {
     "name": "stdout",
     "output_type": "stream",
     "text": [
      "🔹 Predicted:  சیزیزیزی کچھا کچھا کچھا کچھا کچھا کچھا کچھا کچھا کچھا کچھا کچھا کچھا کچھا کچھا کچھا کچھا کچھا کچھا کچھا کچھا کچھا کچھا کچھا کچھا کچھا کچھا کچھا کچھا کچھا کچھا کچھا کچھا کچھا کچھا کچھا کچھا کچھا کچھا کچھا کچھا کچھا کچھا کچھا کچھا کچھا کچھا کچھا کچھا کچھا کچھا کچھا کچھا کچھا کچھا کچھا کچھا کچھا کچھا کچھا کچھا کچھا کچھا کچھا کچھا کچھا کچھا کچھا کچھا کچھا کچھا کچھا کچھا کچھا کچھا کچھا کچھا کچھا کچھا کچھا کچھا کچھا کچھا کچھا کچھا کچھا کچھا کچھا کچھا کچھا کچھا کچھا کچھا کچھا کچھا کچھا کچھا کچھا کچھا کچھا کچھا کچھا کچھا کچھا کچھا کچھا کچھا کچھا کچھا کچھا\n",
      "🔸 Reference: The term \"odango\" in Japanese can refer to any variety of bun hairstyle.\n"
     ]
    },
    {
     "name": "stderr",
     "output_type": "stream",
     "text": [
      "\r",
      " 28%|██▊       | 28/100 [00:58<03:02,  2.53s/it]"
     ]
    },
    {
     "name": "stdout",
     "output_type": "stream",
     "text": [
      "🔹 Predicted:  ஏன்னுக்கும் போகிறாய்வில்லையும் போகிறாய்விற்கும் போகிறாய்விற்கும்.\n",
      "🔸 Reference: The American Theatre Hall of Fame is located in the lobby.\n",
      "🔹 Predicted:  کیا ہے\n",
      "🔸 Reference: I've always wanted to do this!\n"
     ]
    },
    {
     "name": "stderr",
     "output_type": "stream",
     "text": [
      " 31%|███       | 31/100 [00:58<01:18,  1.13s/it]"
     ]
    },
    {
     "name": "stdout",
     "output_type": "stream",
     "text": [
      "🔹 Predicted:  [Police sirens]\n",
      "🔸 Reference: Her opponent is Councilor Irwin Tieng.\n",
      "🔹 Predicted:  [Pause]\n",
      "🔸 Reference: Her work considers soil microbial ecology and the study of mycorrhizal fungi.\n"
     ]
    },
    {
     "name": "stderr",
     "output_type": "stream",
     "text": [
      " 33%|███▎      | 33/100 [01:03<01:45,  1.57s/it]"
     ]
    },
    {
     "name": "stdout",
     "output_type": "stream",
     "text": [
      "🔹 Predicted:  \"Ai, oi, oi, oi, oi, oi, oi, oi, oi, oi, oi, oi, oi, oi, oi, oi, oi, oi, oi, oi, oi, oi, oi, oi, oi, oi, oi, oi, oi, oi, oi, oi, oi, oi, oi, oi, oi, oi, oi, oi, oi, oi, oi, oi, oi, oi, oi, oi, oi, oi, oi, oi, oi, oi, oi, oi, oi, oi, oi, oi, oi, oi, oi, oi, oi, oi, oi, oi, oi, oi, oi, oi, oi, oi, oi, oi, oi, oi, oi, oi, oi, oi, oi, oi, oi, oi, oi, oi, oi, oi, oi, oi, oi, oi, oi, oi, oi, oi, oi, oi, oi, oi, oi, oi, oi, oi, oi, oi, oi, oi, oi, oi, oi, oi, oi, oi, oi, oi, oi, oi, oi, oi, oi, oi, oi, oi, oi, oi, oi, oi, oi, oi, oi, oi, oi, oi, oi, oi, oi, oi, oi, oi, oi, oi, oi, oi, oi, oi\n",
      "🔸 Reference: He is \"City Press\"s chief correspondent in Mpumalanga.\n",
      "🔹 Predicted:  [Police sirens]\n",
      "🔸 Reference: English dismissed these claims as being false.\n"
     ]
    },
    {
     "name": "stderr",
     "output_type": "stream",
     "text": [
      "\r",
      " 34%|███▍      | 34/100 [01:03<01:17,  1.18s/it]"
     ]
    },
    {
     "name": "stdout",
     "output_type": "stream",
     "text": [
      "🔹 Predicted:  [Police sirens]\n",
      "🔸 Reference: Acquires Mase Westpac Limited, which is a member of the London Gold Fixing.\n"
     ]
    },
    {
     "name": "stderr",
     "output_type": "stream",
     "text": [
      " 36%|███▌      | 36/100 [01:08<01:43,  1.62s/it]"
     ]
    },
    {
     "name": "stdout",
     "output_type": "stream",
     "text": [
      "🔹 Predicted:  پیر کچھا کچھا کچھا کچھا کچھا کچھا کچھا کچھا کچھا کچھا کچھا کچھا کچھا کچھا کچھا کچھا کچھا کچھا کچھا کچھا کچھا کچھا کچھا کچھا کچھا کچھا کچھا کچھا کچھا کچھا کچھا کچھا کچھا کچھا کچھا کچھا کچھا کچھا کچھا کچھا کچھا کچھا کچھا کچھا کچھا کچھا کچھا کچھا کچھا کچھا کچھا کچھا کچھا کچھا کچھا کچھا کچھا کچھا کچھا کچھا کچھا کچھا کچھا کچھا کچھا کچھا کچھا کچھا کچھا کچھا کچھا کچھا کچھا کچھا کچھا کچھا کچھا کچھا کچھا کچھا کچھا کچھا کچھا کچھا کچھا کچھا کچھا کچھا کچھا کچھا کچھا کچھا کچھا کچھا کچھا کچھا کچھا کچھا کچھا کچھا کچھا کچھا کچھا کچھا کچھا کچھا کچھا کچھا کچھا کچھا ک\n",
      "🔸 Reference: For decades it was recognizable by the white, ladder-like snake on the building's roof.\n",
      "🔹 Predicted:  ہمیں گی ہے\n",
      "🔸 Reference: A mold is the counterpart to a cast.\n"
     ]
    },
    {
     "name": "stderr",
     "output_type": "stream",
     "text": [
      "\r",
      " 37%|███▋      | 37/100 [01:09<01:16,  1.21s/it]"
     ]
    },
    {
     "name": "stdout",
     "output_type": "stream",
     "text": [
      "🔹 Predicted:  அٹھاہاں پہنے کیا ہے\n",
      "🔸 Reference: He also enjoys judo.\n"
     ]
    },
    {
     "name": "stderr",
     "output_type": "stream",
     "text": [
      "\r",
      " 38%|███▊      | 38/100 [01:13<02:22,  2.29s/it]"
     ]
    },
    {
     "name": "stdout",
     "output_type": "stream",
     "text": [
      "🔹 Predicted:  ایک ایک ایک ایک ایک ایک ایک ایک ایک ایک ایک ایک ایک ایک ایک ایک ایک ایک ایک ایک ایک ایک ایک ایک ایک ایک ایک ایک ایک ایک ایک ایک ایک ایک ایک ایک ایک ایک ایک ایک ایک ایک ایک ایک ایک ایک ایک ایک ایک ایک ایک ایک ایک ایک ایک ایک ایک ایک ایک ایک ایک ایک ایک ایک ایک ایک ایک ایک ایک ایک ایک ایک ایک ایک ایک ایک ایک ایک ایک ایک ایک ایک ایک ایک ایک ایک ایک ایک ایک ایک ایک ایک ایک ایک ایک ایک ایک ایک ایک ایک ایک ایک ایک ایک ایک ایک ایک ایک ایک ایک ایک ایک ایک ایک ایک ایک ایک ایک ایک ایک ایک ایک ایک ایک ایک ایک ایک ایک ایک ایک ایک ایک ایک ایک ایک ایک ایک ایک ایک ایک ایک ایک ایک ایک ایک ایک ایک ایک ایک ایک ایک ایک ایک ایک ایک ایک ایک ایک ایک ایک ایک ایک ایک ایک ایک ایک ایک ایک ایک ایک ایک ایک ایک ایک ایک ایک ایک ایک ایک ایک ایک ایک ایک ایک ایک ایک ایک ایک ایک ایک ایک ایک ایک ایک ایک ایک ایک ایک ایک ایک ایک ایک ایک ایک ایک ایک ایک ایک ایک ایک ایک ایک ایک ایک ایک ایک ایک ایک ایک ایک ایک ایک\n",
      "🔸 Reference: All artillery units wear the \"Gun Sight\" on their helmets.\n"
     ]
    },
    {
     "name": "stderr",
     "output_type": "stream",
     "text": [
      " 40%|████      | 40/100 [01:14<01:14,  1.24s/it]"
     ]
    },
    {
     "name": "stdout",
     "output_type": "stream",
     "text": [
      "🔹 Predicted:  Върде си елзират с тук върдето на тук.\n",
      "🔸 Reference: I would not recommend publishing the article without the dataset.\n",
      "🔹 Predicted:  [Police sirens]\n",
      "🔸 Reference: What's the idea here?\n",
      "🔹 Predicted:  [Music]\n",
      "🔸 Reference: You got plenty of money?\n"
     ]
    },
    {
     "name": "stderr",
     "output_type": "stream",
     "text": [
      "\r",
      " 42%|████▏     | 42/100 [01:19<01:45,  1.83s/it]"
     ]
    },
    {
     "name": "stdout",
     "output_type": "stream",
     "text": [
      "🔹 Predicted:  ہمیں گی ہے کہ ہمیں ایک کچھا کچھ کچھ کچھ کچھ کچھ کچھ کچھ کچھ کچھ کچھ کچھ کچھ کچھ کچھ کچھ کچھ کچھ کچھ کچھ کچھ کچھ کچھ کچھ کچھ کچھ کچھ کچھ کچھ کچھ کچھ کچھ کچھ کچھ کچھ کچھ کچھ کچھ کچھ کچھ کچھ کچھ کچھ کچھ کچھ کچھ کچھ کچھ کچھ کچھ کچھ کچھ کچھ کچھ کچھ کچھ کچھ کچھ کچھ کچھ کچھ کچھ کچھ کچھ کچھ کچھ کچھ کچھ کچھ کچھ کچھ کچھ کچھ کچھ کچھ کچھ کچھ کچھ کچھ کچھ کچھ کچھ کچھ کچھ کچھ کچھ کچھ کچھ کچھ کچھ کچھ کچھ کچھ کچھ کچھ کچھ کچھ کچھ کچھ کچھ کچھ کچھ کچھ کچھ کچھ کچھ کچھ کچھ کچھ کچھ کچھ کچھ کچھ کچھ کچھ کچھ کچھ کچھ کچھ کچھ کچھ کچھ کچھ کچھ کچھ کچھ کچھ کچھ کچھ کچھ کچھ کچھ کچھ کچھ کچھ کچھ کچھ کچھ کچھ کچھ کچھ کچھ کچھ کچ\n",
      "🔸 Reference: There is no fighting against fate\n"
     ]
    },
    {
     "name": "stderr",
     "output_type": "stream",
     "text": [
      "\r",
      " 43%|████▎     | 43/100 [01:19<01:23,  1.46s/it]"
     ]
    },
    {
     "name": "stdout",
     "output_type": "stream",
     "text": [
      "🔹 Predicted:  கண்டும் போட்டுக்கிறாய் அல்லவா?\n",
      "🔸 Reference: Nothing's the matter with me.\n"
     ]
    },
    {
     "name": "stderr",
     "output_type": "stream",
     "text": [
      "\r",
      " 44%|████▍     | 44/100 [01:24<02:11,  2.36s/it]"
     ]
    },
    {
     "name": "stdout",
     "output_type": "stream",
     "text": [
      "🔹 Predicted:  Въръв е не е това, както е е е на това е на това е на това е на това е на това е на това е на това е на това е на това е на това е на това е на това е на това е на това е на това е на това е на това е на това е на това е на това е на това е на това е на това е на това е на това е на това е на това е на това е на това е на това е на това е на това е на това е на това е на това е на това е на това е на това е на това е на това е на това е на това е на това е на това е на това е на това е на това е на това е на това е на това е на това е на това е на това е на това е на това е на това е на това е на това е на това е на това е на това е на това е на това е на това е на това е на това е на това е на това е на това е на това е на това е на това е на това е на това е на това е на това е на това е на това е на това е на това е на това е на това е на това е на това е на това е на това е на това е на това е на това е на това е на това е на това е на това е на това е на това е на това е на това е на това е на това е на това е на това е на това е на това е на това е на това е на това е на това е\n",
      "🔸 Reference: Not that I was listening, but I noticed that you sounded really stressed when you were explaining the situation to him.\n"
     ]
    },
    {
     "name": "stderr",
     "output_type": "stream",
     "text": [
      "\r",
      " 45%|████▌     | 45/100 [01:29<02:47,  3.04s/it]"
     ]
    },
    {
     "name": "stdout",
     "output_type": "stream",
     "text": [
      "🔹 Predicted:  प्व़़ प़् प़् प़् प़् प़् प़् प़् प़् प़् प़् प़् प़् प़् प़् प़् प़् प़् प़् प़् प़् प़् प़् प़् प़् प़् प़् प़् प़् प़् प़् प़् प़् प़् प़् प़् प़् प़् प़् प़् प़् प़् प़् प़् प़् प़् प़् प़् प़् प़् प़् प़् प़् प़् प़् प़् प़् प़् प़् प़् प़् प़् प़् प़् प़् प़् प़् प़् प़् प़् प़् प़् प़् प़् प़् प़् प़् प़् प़् प़् प़् प़् प़् प़् प़् प़् प़् प़्\n",
      "🔸 Reference: I want it as soon as possible.\n"
     ]
    },
    {
     "name": "stderr",
     "output_type": "stream",
     "text": [
      "\r",
      " 46%|████▌     | 46/100 [01:30<02:07,  2.35s/it]"
     ]
    },
    {
     "name": "stdout",
     "output_type": "stream",
     "text": [
      "🔹 Predicted:  ஏன்னுடையும் போகிறாய்வில்லையும் போகிறாய்விற்கும்.\n",
      "🔸 Reference: You can reduce the quality of the anisotropic filter to gain some performance.\n"
     ]
    },
    {
     "name": "stderr",
     "output_type": "stream",
     "text": [
      "\r",
      " 47%|████▋     | 47/100 [01:35<02:43,  3.08s/it]"
     ]
    },
    {
     "name": "stdout",
     "output_type": "stream",
     "text": [
      "🔹 Predicted:  Върънна е не е не е е не е е е е е е е е е е е е е е е е е е е е е е е е е е е е е е е е е е е е е е е е е е е е е е е е е е е е е е е е е е е е е е е е е е е е е е е е е е е е е е е е е е е е е е е е е е е е е е е е е е е е е е е е е е е е е е е е е е е е е е е е е е е е е е е е е е е е е е е е е е е е е е е е е е е е е е е е е е е е е е е е е е е е е е е е е е е е е е е е е е е е е е е е е е е е е е е е е е е е е е е е е е е е е е е е е е е е е е е е е е е е е е е е е е е е е е е е е е е е е е е е е е е е е е е е е е е е е е е е е е е е е е е е е е е е е е е е е е е е е е е е е е е е е е е е е е е е е е е е е е е е е е е е е е е е е е е е е е е е е е е е е е е е е е е е е е е е е е е е е е е е е е е е е е е е е е е е е е е е е е е е е е е е е е е е е е е е е е е е е е е е е е е е е е е е е е е е е е е е е е е е е е е е е е е е е е е е е е е е е е е е е е е е е е е е е е е\n",
      "🔸 Reference: Desiderius persuaded the nobles of his diocese to endow churches and monasteries.\n"
     ]
    },
    {
     "name": "stderr",
     "output_type": "stream",
     "text": [
      "\r",
      " 48%|████▊     | 48/100 [01:35<01:58,  2.27s/it]"
     ]
    },
    {
     "name": "stdout",
     "output_type": "stream",
     "text": [
      "🔹 Predicted:  Върърт са е нестерия елзирателно.\n",
      "🔸 Reference: To that end, Talia claims to have miscarried.\n"
     ]
    },
    {
     "name": "stderr",
     "output_type": "stream",
     "text": [
      "\r",
      " 49%|████▉     | 49/100 [01:35<01:26,  1.70s/it]"
     ]
    },
    {
     "name": "stdout",
     "output_type": "stream",
     "text": [
      "🔹 Predicted:  Въръв е не е нехранно, а във е нехранно.\n",
      "🔸 Reference: In musicians, the condition is called \"musician's focal dystonia\", or simply, \"musician's dystonia\".\n"
     ]
    },
    {
     "name": "stderr",
     "output_type": "stream",
     "text": [
      "\r",
      " 50%|█████     | 50/100 [01:36<01:05,  1.31s/it]"
     ]
    },
    {
     "name": "stdout",
     "output_type": "stream",
     "text": [
      "🔹 Predicted:  Върън не е въргърт с тъп с тъп с тябва.\n",
      "🔸 Reference: He said that everything has its own destiny.\n"
     ]
    },
    {
     "name": "stderr",
     "output_type": "stream",
     "text": [
      "\r",
      " 51%|█████     | 51/100 [01:40<01:56,  2.38s/it]"
     ]
    },
    {
     "name": "stdout",
     "output_type": "stream",
     "text": [
      "🔹 Predicted:  Дънънън не е не е е не е е е е е е е е е е е е е е е е е е е е е е е е е е е е е е е е е е е е е е е е е е е е е е е е е е е е е е е е е е е е е е е е е е е е е е е е е е е е е е е е е е е е е е е е е е е е е е е е е е е е е е е е е е е е е е е е е е е е е е е е е е е е е е е е е е е е е е е е е е е е е е е е е е е е е е е е е е е е е е е е е е е е е е е е е е е е е е е е е е е е е е е е е е е е е е е е е е е е е е е е е е е е е е е е е е е е е е е е е е е е е е е е е е е е е е е е е е е е е е е е е е е е е е е е е е е е е е е е е е е е е е е е е е е е е е е е е е е е е е е е е е е е е е е е е е е е е е е е е е е е е е е е е е е е е е е е е е е е е е е е е е е е е е е е е е е е е е е е е е е е е е е е е е е е е е е е е е е е е е е е е е е е е е е е е е е е е е е е е е е е е е е е е е е е е е е е е е е е е е е е е е е е е е е е е е е е е е е е е е е е е е е е е е е е е е е\n",
      "🔸 Reference: Whenever he saw the sea, or a fire, he fell silent, impressed by their elemental force.\n"
     ]
    },
    {
     "name": "stderr",
     "output_type": "stream",
     "text": [
      "\r",
      " 52%|█████▏    | 52/100 [01:45<02:30,  3.13s/it]"
     ]
    },
    {
     "name": "stdout",
     "output_type": "stream",
     "text": [
      "🔹 Predicted:  \"Arazaa\"は、一つの間に、一つの間に、一つの間に、一つの間に、一つの間に、一つの間に、一つの間に、一つの間に、一つの間に、一つの間に、一つの間に、一つの間に、一つの間に、一つの間に、一つの間に、一つの間に、一つの間に、一つの間に、一つの間に、一つの間に、一つの間に、一つの間に、一つの間に、一つの間に、一つの間に、一つの間に、一つの間に、一つの間に、一つの間に、一つの間に、一つの間に、一つの間に、一つの間に、一つの間に、一つの間に、一つの間に、一つの間に、一つの間に、一つの間に、一つの間に、一つの間に、一つの間に、一つの間に、一つの間に、一つの間に、一つの間に、一つの間に、一つの間に、一つの間に、一つの間に、一つの間に、一つの間に、一つの間に、一つの間に、一つの間に、一つの間に、一つの間に、一つの間に、一つの間に、一つの間に、一つの間に、一つの間に、一つの間に、一つの間に、一つの間に、一つの間に、一つの間に、一つの間に、一つの間に、一つの間に、一つの間に、一つの間に、一つの間\n",
      "🔸 Reference: He later went on to score two more centuries against the South Africans.\n"
     ]
    },
    {
     "name": "stderr",
     "output_type": "stream",
     "text": [
      "\r",
      " 53%|█████▎    | 53/100 [01:50<02:51,  3.65s/it]"
     ]
    },
    {
     "name": "stdout",
     "output_type": "stream",
     "text": [
      "🔹 Predicted:  پیز پیز پیز پیز پیز پیز پیز پیز پیز پیز پیز پیز پیز پیز پیز پیز پیز پیز پیز پیز پیز پیز پیز پیز پیز پیز پیز پیز پیز پیز پیز پیز پیز پیز پیز پیز پیز پیز پیز پیز پیز پیز پیز پیز پیز پیز پیز پیز پیز پیز پیز پیز پیز پیز پیز پیز پیز پیز پیز پیز پیز پیز پیز پیز پیز پیز پیز پیز پیز پیز پیز پیز پیز پیز پیز پیز پیز پیز پیز پیز پیز پیز پیز پیز پیز پیز پیز پیز پیز پیز پیز پیز پیز پیز پیز پیز پیز پیز پیز پیز پیز پیز پیز پیز پیز پیز پیز پیز پیز پیز پیز پیز پیز پیز پیز پیز پیز پیز پیز پیز پیز پیز پیز پیز پیز پیز پیز پیز پیز پیز پیز پیز پیز پیز پیز پیز پیز پیز پیز پیز پیز پیز پیز پیز پیز پیز پیز پیز\n",
      "🔸 Reference: Plesiosauroids evolved from earlier, similar forms such as pistosaurs.\n"
     ]
    },
    {
     "name": "stderr",
     "output_type": "stream",
     "text": [
      " 55%|█████▌    | 55/100 [01:55<02:08,  2.86s/it]"
     ]
    },
    {
     "name": "stdout",
     "output_type": "stream",
     "text": [
      "🔹 Predicted:  ایک ایک ایک ایک ایک ایک ایک ایک ایک ایک ایک ایک ایک ایک ایک ایک ایک ایک ایک ایک ایک ایک ایک ایک ایک ایک ایک ایک ایک ایک ایک ایک ایک ایک ایک ایک ایک ایک ایک ایک ایک ایک ایک ایک ایک ایک ایک ایک ایک ایک ایک ایک ایک ایک ایک ایک ایک ایک ایک ایک ایک ایک ایک ایک ایک ایک ایک ایک ایک ایک ایک ایک ایک ایک ایک ایک ایک ایک ایک ایک ایک ایک ایک ایک ایک ایک ایک ایک ایک ایک ایک ایک ایک ایک ایک ایک ایک ایک ایک ایک ایک ایک ایک ایک ایک ایک ایک ایک ایک ایک ایک ایک ایک ایک ایک ایک ایک ایک ایک ایک ایک ایک ایک ایک ایک ایک ایک ایک ایک ایک ایک ایک ایک ایک ایک ایک ایک ایک ایک ایک ایک ایک ایک ایک ایک ایک ایک ایک ایک ایک ایک ایک ایک ایک ایک ایک ایک ایک ایک ایک ایک ایک ایک ایک ایک ایک ایک ایک ایک ایک ایک ایک ایک ایک ایک ایک ایک ایک ایک ایک ایک ایک ایک ایک ایک ایک ایک ایک ایک ایک ایک ایک ایک ایک ایک ایک ایک ایک ایک ایک ایک ایک ایک ایک ایک ایک ایک ایک ایک ایک ایک ایک ایک ایک ایک ایک ایک ایک ایک ایک ایک ایک\n",
      "🔸 Reference: However, certain reactants do not follow this simple pattern.\n",
      "🔹 Predicted:  [Police sirens]\n",
      "🔸 Reference: The tournament features four eight-team regions.\n"
     ]
    },
    {
     "name": "stderr",
     "output_type": "stream",
     "text": [
      " 57%|█████▋    | 57/100 [02:00<01:45,  2.45s/it]"
     ]
    },
    {
     "name": "stdout",
     "output_type": "stream",
     "text": [
      "🔹 Predicted:  کیا کہاں ایک کچھا کہاں ایک کچھا کہاں ایک کچھا کہاں ایک کچھا کہاں ایک کچھا کہاں ایک کچھا کہاں ایک کچھا کہاں ایک کچھا کہاں ایک کچھا کہاں ایک کچھا کہاں ایک کچھا کہاں ایک کچھا کہاں ایک کچھا کہاں ایک کچھا کہاں ایک کچھا کہاں ایک کچھا کہاں ایک کچھا کہاں ایک کچھا کہاں ایک کچھا کہاں ایک کچھا کہاں ایک کچھا کہاں ایک کچھا کہاں ایک کچھا کہاں ایک کچھا کہاں ایک کچھا کہاں ایک کچھا کہاں ایک کچھا کہاں ایک کچھا کہاں ایک کچھا کہاں ایک کچھا کہاں ایک کچھا کہاں ایک کچھا کہاں ایک کچھا کہاں ایک کچھا کہاں ایک کچھا کہاں ایک کچھا کہاں ایک کچھا کہاں ایک کچھا کہاں ایک کچھا کہاں ایک کچھا کہاں ایک کچھا کہاں ایک کچھا کہاں ایک کچھا کہاں ایک کچھا کہاں ایک کچھا کہاں ایک کچھا کہاں ایک کچھا کہاں ایک کچھا کہاں ایک کچھا کہ\n",
      "🔸 Reference: Sholto Campbell, succeeded by younger brothers still, Barrington and Archibald.\n",
      "🔹 Predicted:  کیا ہے؟\n",
      "🔸 Reference: The story focuses on the history of the villainous wizard Marten Broadcloak.\n"
     ]
    },
    {
     "name": "stderr",
     "output_type": "stream",
     "text": [
      "\r",
      " 58%|█████▊    | 58/100 [02:00<01:13,  1.75s/it]"
     ]
    },
    {
     "name": "stdout",
     "output_type": "stream",
     "text": [
      "🔹 Predicted:  [Pause]\n",
      "🔸 Reference: Mosby mostly wrote for United Press International.\n"
     ]
    },
    {
     "name": "stderr",
     "output_type": "stream",
     "text": [
      " 60%|██████    | 60/100 [02:05<01:16,  1.91s/it]"
     ]
    },
    {
     "name": "stdout",
     "output_type": "stream",
     "text": [
      "🔹 Predicted:  Върде е не е е не е е е е е е е е е е е е е е е е е е е е е е е е е е е е е е е е е е е е е е е е е е е е е е е е е е е е е е е е е е е е е е е е е е е е е е е е е е е е е е е е е е е е е е е е е е е е е е е е е е е е е е е е е е е е е е е е е е е е е е е е е е е е е е е е е е е е е е е е е е е е е е е е е е е е е е е е е е е е е е е е е е е е е е е е е е е е е е е е е е е е е е е е е е е е е е е е е е е е е е е е е е е е е е е е е е е е е е е е е е е е е е е е е е е е е е е е е е е е е е е е е е е е е е е е е е е е е е е е е е е е е е е е е е е е е е е е е е е е е е е е е е е е е е е е е е е е е е е е е е е е е е е е е е е е е е е е е е е е е е е е е е е е е е е е е е е е е е е е е е е е е е е е е е е е е е е е е е е е е е е е е е е е е е е е е е е е е е е е е е е е е е е е е е е е е е е е е е е е е е е е е е е е е е е е е е е е е е е е е е е е е е е е е е е е е е е е е е е\n",
      "🔸 Reference: The facilities are very basic.\n",
      "🔹 Predicted:  [Music]\n",
      "🔸 Reference: The Federal Electoral Districts elect the federal Chamber of Deputies.\n"
     ]
    },
    {
     "name": "stderr",
     "output_type": "stream",
     "text": [
      " 62%|██████▏   | 62/100 [02:10<01:15,  1.98s/it]"
     ]
    },
    {
     "name": "stdout",
     "output_type": "stream",
     "text": [
      "🔹 Predicted:  کیا کہاں ایک کچھا کہاں ایک کچھا کہاں ایک کچھا کہاں ایک کچھا کہاں ایک کچھا کہاں ایک کچھا کہاں ایک کچھا کہاں ایک کچھا کہاں ایک کچھا کہاں ایک کچھا کہاں ایک کچھا کہاں ایک کچھا کہاں ایک کچھا کہاں ایک کچھا کہاں ایک کچھا کہاں ایک کچھا کہاں ایک کچھا کہاں ایک کچھا کہاں ایک کچھا کہاں ایک کچھا کہاں ایک کچھا کہاں ایک کچھا کہاں ایک کچھا کہاں ایک کچھا کہاں ایک کچھا کہاں ایک کچھا کہاں ایک کچھا کہاں ایک کچھا کہاں ایک کچھا کہاں ایک کچھا کہاں ایک کچھا کہاں ایک کچھا کہاں ایک کچھا کہاں ایک کچھا کہاں ایک کچھا کہاں ایک کچھا کہاں ایک کچھا کہاں ایک کچھا کہاں ایک کچھا کہاں ایک کچھا کہاں ایک کچھا کہاں ایک کچھا کہاں ایک کچھا کہاں ایک کچھا کہاں ایک کچھا کہاں ایک کچھا کہاں ایک کچھا کہاں ایک کچھا کہاں ایک کچھا کہ\n",
      "🔸 Reference: I tend to avoid speaking to customers much, mostly because of my limited German.\n",
      "🔹 Predicted:  [Music]\n",
      "🔸 Reference: Atlas Cinema hosted selected films during the annual International Istanbul Film Festival.\n"
     ]
    },
    {
     "name": "stderr",
     "output_type": "stream",
     "text": [
      "\r",
      " 63%|██████▎   | 63/100 [02:10<00:52,  1.42s/it]"
     ]
    },
    {
     "name": "stdout",
     "output_type": "stream",
     "text": [
      "🔹 Predicted:  [Music]\n",
      "🔸 Reference: The book covers several issues in the political and historical scenarios of Nepal.\n",
      "🔹 Predicted:  [Music]\n",
      "🔸 Reference: Ageing and memory are key preoccupations of this novel.\n"
     ]
    },
    {
     "name": "stderr",
     "output_type": "stream",
     "text": [
      "\r",
      " 65%|██████▌   | 65/100 [02:15<01:06,  1.91s/it]"
     ]
    },
    {
     "name": "stdout",
     "output_type": "stream",
     "text": [
      "🔹 Predicted:  प्विद्विद्विदे बादेदे प्विदे प्विदे प्विदे प्विदे प्विदे प्विदे प्विदे प्विदे प्विदे प्विदे प्विदे प्विदे प्विदे प्विदे प्विदे प्विदे प्विदे प्विदे प्विदे प्विदे प्विदे प्विदे प्विदे प्विदे प्विदे प्विदे प्विदे प्विदे प्विदे प्विदे प्विदे प्विदे प्विदे प्विदे प्विदे प्विदे प्विदे प्विदे प्विदे प्विदे प्विदे प्विदे प्विदे प्विदे प्विदे प्विदे\n",
      "🔸 Reference: Dorothy was almost ready to cry with disappointment.\n"
     ]
    },
    {
     "name": "stderr",
     "output_type": "stream",
     "text": [
      "\r",
      " 66%|██████▌   | 66/100 [02:16<00:52,  1.53s/it]"
     ]
    },
    {
     "name": "stdout",
     "output_type": "stream",
     "text": [
      "🔹 Predicted:  ஏன் பிருவு செல்லாம் என்று செல்லாம்.\n",
      "🔸 Reference: What guidelines will help in building cheaper, affordable houses?\n"
     ]
    },
    {
     "name": "stderr",
     "output_type": "stream",
     "text": [
      " 68%|██████▊   | 68/100 [02:21<00:57,  1.79s/it]"
     ]
    },
    {
     "name": "stdout",
     "output_type": "stream",
     "text": [
      "🔹 Predicted:  کیا کہاں کچھا کہاں ایک کچھا کہاں ایک کچھا کہاں ایک کچھا کہاں ایک کچھا کہاں ایک کچھا کہاں ایک کچھا کہاں ایک کچھا کہاں ایک کچھا کہاں ایک کچھا کہاں ایک کچھا کہاں ایک کچھا کہاں ایک کچھا کہاں ایک کچھا کہاں ایک کچھا کہاں ایک کچھا کہاں ایک کچھا کہاں ایک کچھا کہاں ایک کچھا کہاں ایک کچھا کہاں ایک کچھا کہاں ایک کچھا کہاں ایک کچھا کہاں ایک کچھا کہاں ایک کچھا کہاں ایک کچھا کہاں ایک کچھا کہاں ایک کچھا کہاں ایک کچھا کہاں ایک کچھا کہاں ایک کچھا کہاں ایک کچھا کہاں ایک کچھا کہاں ایک کچھا کہاں ایک کچھا کہاں ایک کچھا کہاں ایک کچھا کہاں ایک کچھا کہاں ایک کچھا کہاں ایک کچھا کہاں ایک کچھا کہاں ایک کچھا کہاں ایک کچھا کہاں ایک کچھا کہاں ایک کچھا کہاں ایک کچھا کہاں ایک کچھا کہاں ایک کچھا کہاں ایک کچھا کہاں\n",
      "🔸 Reference: ‘Nearly there!’ the Queen repeated.\n",
      "🔹 Predicted:  [Police sirens]\n",
      "🔸 Reference: A couple look at some artwork\n"
     ]
    },
    {
     "name": "stderr",
     "output_type": "stream",
     "text": [
      "\r",
      " 69%|██████▉   | 69/100 [02:21<00:40,  1.32s/it]"
     ]
    },
    {
     "name": "stdout",
     "output_type": "stream",
     "text": [
      "🔹 Predicted:  [Music]\n",
      "🔸 Reference: Philip was standing on the levee watching the waves roll off the rocks and the splashes of spume.\n"
     ]
    },
    {
     "name": "stderr",
     "output_type": "stream",
     "text": [
      "\r",
      " 70%|███████   | 70/100 [02:26<01:10,  2.33s/it]"
     ]
    },
    {
     "name": "stdout",
     "output_type": "stream",
     "text": [
      "🔹 Predicted:  ایک ایک ایک ایک ایک ایک ایک ایک ایک ایک ایک ایک ایک ایک ایک ایک ایک ایک ایک ایک ایک ایک ایک ایک ایک ایک ایک ایک ایک ایک ایک ایک ایک ایک ایک ایک ایک ایک ایک ایک ایک ایک ایک ایک ایک ایک ایک ایک ایک ایک ایک ایک ایک ایک ایک ایک ایک ایک ایک ایک ایک ایک ایک ایک ایک ایک ایک ایک ایک ایک ایک ایک ایک ایک ایک ایک ایک ایک ایک ایک ایک ایک ایک ایک ایک ایک ایک ایک ایک ایک ایک ایک ایک ایک ایک ایک ایک ایک ایک ایک ایک ایک ایک ایک ایک ایک ایک ایک ایک ایک ایک ایک ایک ایک ایک ایک ایک ایک ایک ایک ایک ایک ایک ایک ایک ایک ایک ایک ایک ایک ایک ایک ایک ایک ایک ایک ایک ایک ایک ایک ایک ایک ایک ایک ایک ایک ایک ایک ایک ایک ایک ایک ایک ایک ایک ایک ایک ایک ایک ایک ایک ایک ایک ایک ایک ایک ایک ایک ایک ایک ایک ایک ایک ایک ایک ایک ایک ایک ایک ایک ایک ایک ایک ایک ایک ایک ایک ایک ایک ایک ایک ایک ایک ایک ایک ایک ایک ایک ایک ایک ایک ایک ایک ایک ایک ایک ایک ایک ایک ایک ایک ایک ایک ایک ایک ایک ایک ایک ایک ایک ایک ایک\n",
      "🔸 Reference: A shirtless man wearing bracelets and a garland carrying a pole\n"
     ]
    },
    {
     "name": "stderr",
     "output_type": "stream",
     "text": [
      " 72%|███████▏  | 72/100 [02:31<01:01,  2.21s/it]"
     ]
    },
    {
     "name": "stdout",
     "output_type": "stream",
     "text": [
      "🔹 Predicted:  Върде е не е е не е е е е е е е е е е е е е е е е е е е е е е е е е е е е е е е е е е е е е е е е е е е е е е е е е е е е е е е е е е е е е е е е е е е е е е е е е е е е е е е е е е е е е е е е е е е е е е е е е е е е е е е е е е е е е е е е е е е е е е е е е е е е е е е е е е е е е е е е е е е е е е е е е е е е е е е е е е е е е е е е е е е е е е е е е е е е е е е е е е е е е е е е е е е е е е е е е е е е е е е е е е е е е е е е е е е е е е е е е е е е е е е е е е е е е е е е е е е е е е е е е е е е е е е е е е е е е е е е е е е е е е е е е е е е е е е е е е е е е е е е е е е е е е е е е е е е е е е е е е е е е е е е е е е е е е е е е е е е е е е е е е е е е е е е е е е е е е е е е е е е е е е е е е е е е е е е е е е е е е е е е е е е е е е е е е е е е е е е е е е е е е е е е е е е е е е е е е е е е е е е е е е е е е е е е е е е е е е е е е е е е е е е е е е е е е е е е е е\n",
      "🔸 Reference: The spot on the blotter was made by green ink.\n",
      "🔹 Predicted:  [Police sirens]\n",
      "🔸 Reference: The years of research, the magic symbols, the strange words and the laboratory equipment...\n"
     ]
    },
    {
     "name": "stderr",
     "output_type": "stream",
     "text": [
      " 74%|███████▍  | 74/100 [02:31<00:31,  1.22s/it]"
     ]
    },
    {
     "name": "stdout",
     "output_type": "stream",
     "text": [
      "🔹 Predicted:  ஏன்று நில்லையும் போக்கிறாய்விற்கும்.\n",
      "🔸 Reference: Many children walk together on a dirt path.\n",
      "🔹 Predicted:  کیا ہے؟\n",
      "🔸 Reference: Two ladies play the violin and the guitar on the street to entertain the passer byes.\n"
     ]
    },
    {
     "name": "stderr",
     "output_type": "stream",
     "text": [
      " 76%|███████▌  | 76/100 [02:36<00:39,  1.65s/it]"
     ]
    },
    {
     "name": "stdout",
     "output_type": "stream",
     "text": [
      "🔹 Predicted:  پیز پیز پیز پیز پیز پیز پیز پیز پیز پیز پیز پیز پیز پیز پیز پیز پیز پیز پیز پیز پیز پیز پیز پیز پیز پیز پیز پیز پیز پیز پیز پیز پیز پیز پیز پیز پیز پیز پیز پیز پیز پیز پیز پیز پیز پیز پیز پیز پیز پیز پیز پیز پیز پیز پیز پیز پیز پیز پیز پیز پیز پیز پیز پیز پیز پیز پیز پیز پیز پیز پیز پیز پیز پیز پیز پیز پیز پیز پیز پیز پیز پیز پیز پیز پیز پیز پیز پیز پیز پیز پیز پیز پیز پیز پیز پیز پیز پیز پیز پیز پیز پیز پیز پیز پیز پیز پیز پیز پیز پیز پیز پیز پیز پیز پیز پیز پیز پیز پیز پیز پیز پیز پیز پیز پیز پیز پیز پیز پیز پیز پیز پیز پیز پیز پیز پیز پیز پیز پیز پیز پیز پیز پیز پیز پیز پیز پیز پیز\n",
      "🔸 Reference: A young darkskinned boy in a large shirt sitting next to a large pile of sandals.\n",
      "🔹 Predicted:  [kondor]\n",
      "🔸 Reference: The student may work independently or collaborate with others.\n"
     ]
    },
    {
     "name": "stderr",
     "output_type": "stream",
     "text": [
      " 78%|███████▊  | 78/100 [02:37<00:19,  1.11it/s]"
     ]
    },
    {
     "name": "stdout",
     "output_type": "stream",
     "text": [
      "🔹 Predicted:  Върде е не е нещо, а върде е нещо.\n",
      "🔸 Reference: He went on to complete his graduation while serving in the Indian Army.\n",
      "🔹 Predicted:  کیا ہے؟\n",
      "🔸 Reference: The group was under the leadership of Michael Collins.\n"
     ]
    },
    {
     "name": "stderr",
     "output_type": "stream",
     "text": [
      "\r",
      " 79%|███████▉  | 79/100 [02:37<00:13,  1.51it/s]"
     ]
    },
    {
     "name": "stdout",
     "output_type": "stream",
     "text": [
      "🔹 Predicted:  [Music]\n",
      "🔸 Reference: The green lock in the address bar of your browser does NOT mean you can trust the site.\n"
     ]
    },
    {
     "name": "stderr",
     "output_type": "stream",
     "text": [
      "\r",
      " 80%|████████  | 80/100 [02:42<00:38,  1.93s/it]"
     ]
    },
    {
     "name": "stdout",
     "output_type": "stream",
     "text": [
      "🔹 Predicted:  प्व़़़ लिव़ लिव़ लिव़ लिव़ लिव़ लिव़ लिव़ लिव़ लिव़ लिव़ लिव़ लिव़ लिव़ लिव़ लिव़ लिव़ लिव़ लिव़़ लिव़ लिव़़ लिव़ लिव़ लिव़़ लिव़़ लिव़़ लिव़़ लिव़़ लिव़़ लिव़़ लिव़़़ लिव़़़ लिव़़ लिव़़़ लिव़़़ लिव़़़ लिव़़़़ लिव़़़़ लिव़़़़ लिव़़़ लिव़़़़ लिव़़़़़ लिव़़़़़़़़़ व़़़़़़़़़़़़़़़़़़़़़़�\n",
      "🔸 Reference: While you're still champion!\n"
     ]
    },
    {
     "name": "stderr",
     "output_type": "stream",
     "text": [
      "\r",
      " 81%|████████  | 81/100 [02:46<00:53,  2.81s/it]"
     ]
    },
    {
     "name": "stdout",
     "output_type": "stream",
     "text": [
      "🔹 Predicted:  Върънна елзия елзия елзия елзия елзия елзия елзия елзия елзия елзия елзия елзия елзия елзия елзия елзия елзия елзия елзия елзия елзия елзия елзия елзия елзия елзия елзия елзия елзия елзия елзия елзия елзия елзия елзия елзия елзия елзия елзия елзия елзия елзия елзия елзия елзия елзия елзия елзия елзия елзия елзия елзия елзия елзия елзия елзия елзия елзия елзия елзия елзия елзия елзия елзия елзия елзия елзия елзия елзия елзия елзия елзия елзия елзия елзия елзия елзия елзия елзия елзия елзия елзия елзия елзия елзия елзия елзия елзия елзия елзия елзия елзия елзия елзия елзия елзия елзия елзия елзия елзия елзия елзия елзия елзия елзия елзия елзия елзия елзия ел\n",
      "🔸 Reference: If you just read the code, you'll miss out on why I made certain decisions.\n"
     ]
    },
    {
     "name": "stderr",
     "output_type": "stream",
     "text": [
      "\r",
      " 82%|████████▏ | 82/100 [02:51<01:01,  3.43s/it]"
     ]
    },
    {
     "name": "stdout",
     "output_type": "stream",
     "text": [
      "🔹 Predicted:  Върън е не е не е е не е е е е е е е е е е е е е е е е е е е е е е е е е е е е е е е е е е е е е е е е е е е е е е е е е е е е е е е е е е е е е е е е е е е е е е е е е е е е е е е е е е е е е е е е е е е е е е е е е е е е е е е е е е е е е е е е е е е е е е е е е е е е е е е е е е е е е е е е е е е е е е е е е е е е е е е е е е е е е е е е е е е е е е е е е е е е е е е е е е е е е е е е е е е е е е е е е е е е е е е е е е е е е е е е е е е е е е е е е е е е е е е е е е е е е е е е е е е е е е е е е е е е е е е е е е е е е е е е е е е е е е е е е е е е е е е е е е е е е е е е е е е е е е е е е е е е е е е е е е е е е е е е е е е е е е е е е е е е е е е е е е е е е е е е е е е е е е е е е е е е е е е е е е е е е е е е е е е е е е е е е е е е е е е е е е е е е е е е е е е е е е е е е е е е е е е е е е е е е е е е е е е е е е е е е е е е е е е е е е е е е е е е е е е е е е е е\n",
      "🔸 Reference: Firefox is probably the easiest to get started with, although I prefer Chrome.\n"
     ]
    },
    {
     "name": "stderr",
     "output_type": "stream",
     "text": [
      "\r",
      " 83%|████████▎ | 83/100 [02:56<01:05,  3.87s/it]"
     ]
    },
    {
     "name": "stdout",
     "output_type": "stream",
     "text": [
      "🔹 Predicted:  کیا ہے کہ وہ کچھا کہاں ایک کچھ کچھ کچھ کچھا کہاں ایک کچھ کچھ کچھ کچھ کچھ کچھ کچھ کچھ کچھ کچھ کچھ کچھ کچھ کچھ کچھ کچھ کچھ کچھ کچھ کچھ کچھ کچھ کچھ کچھ کچھ کچھ کچھ کچھ کچھ کچھ کچھ کچھ کچھ کچھ کچھ کچھ کچھ کچھ کچھ کچھ کچھ کچھ کچھ کچھ کچھ کچھ کچھ کچھ کچھ کچھ کچھ کچھ کچھ کچھ کچھ کچھ کچھ کچھ کچھ کچھ کچھ کچھ کچھ کچھ کچھ کچھ کچھ کچھ کچھ کچھ کچھ کچھ کچھ کچھ کچھ کچھ کچھ کچھ کچھ کچھ کچھ کچھ کچھ کچھ کچھ کچھ کچھ کچھ کچھ کچھ کچھ کچھ کچھ کچھ کچھ کچھ کچھ کچھ کچھ کچھ کچھ کچھ کچھ کچھ کچھ کچھ کچھ کچھ کچھ کچھ کچھ کچھ کچھ کچھ کچھ کچھ کچھ کچھ کچھ کچھ کچھ کچھ کچھ کچھ کچھ کچھ کچھ کچھ کچھ کچھ کچھ کچھ کچھ کچھ کچھ کچھ کچھ ک\n",
      "🔸 Reference: Thought there might be one left over.\n"
     ]
    },
    {
     "name": "stderr",
     "output_type": "stream",
     "text": [
      " 85%|████████▌ | 85/100 [02:57<00:29,  1.98s/it]"
     ]
    },
    {
     "name": "stdout",
     "output_type": "stream",
     "text": [
      "🔹 Predicted:  Nu am datitările de la care se obție.\n",
      "🔸 Reference: Minier asked his friend Mark Salomon to try out as vocalist.\n",
      "🔹 Predicted: \n",
      "🔸 Reference: Atlantic history studies the Atlantic World in the early modern period.\n"
     ]
    },
    {
     "name": "stderr",
     "output_type": "stream",
     "text": [
      "\r",
      " 86%|████████▌ | 86/100 [03:02<00:40,  2.86s/it]"
     ]
    },
    {
     "name": "stdout",
     "output_type": "stream",
     "text": [
      "🔹 Predicted:  ہمیں گی ہے کہ ہمیں ایک ایک ایک ایک ایک ایک ایک ایک ایک ایک ایک ایک ایک ایک ایک ایک ایک ایک ایک ایک ایک ایک ایک ایک ایک ایک ایک ایک ایک ایک ایک ایک ایک ایک ایک ایک ایک ایک ایک ایک ایک ایک ایک ایک ایک ایک ایک ایک ایک ایک ایک ایک ایک ایک ایک ایک ایک ایک ایک ایک ایک ایک ایک ایک ایک ایک ایک ایک ایک ایک ایک ایک ایک ایک ایک ایک ایک ایک ایک ایک ایک ایک ایک ایک ایک ایک ایک ایک ایک ایک ایک ایک ایک ایک ایک ایک ایک ایک ایک ایک ایک ایک ایک ایک ایک ایک ایک ایک ایک ایک ایک ایک ایک ایک ایک ایک ایک ایک ایک ایک ایک ایک ایک ایک ایک ایک ایک ایک ایک ایک ایک ایک ایک ایک ایک ایک ایک ایک ایک ایک ایک ایک ایک ایک ایک ایک ایک ایک ایک ایک ایک ایک ایک ایک ایک ایک ایک ایک ایک ایک ایک ایک ایک ایک ایک ایک ایک ایک ایک ایک ایک ایک ایک ایک ایک ایک ایک ایک ایک ایک ایک ایک ایک ایک ایک ایک ایک ایک ایک ایک ایک ایک ایک ایک ایک ایک ایک ایک ایک ایک ایک ایک ایک ایک ایک ایک ایک ایک ایک ایک ایک ایک ایک ایک ایک ایک ایک\n",
      "🔸 Reference: In France, it is also used within the male branch of the Carthusian Order.\n"
     ]
    },
    {
     "name": "stderr",
     "output_type": "stream",
     "text": [
      "\r",
      " 87%|████████▋ | 87/100 [03:07<00:45,  3.49s/it]"
     ]
    },
    {
     "name": "stdout",
     "output_type": "stream",
     "text": [
      "🔹 Predicted:  کیا ہے کہ وہ کچھا کہاں ایک کچھ کچھ کچھ کچھا کہاں ایک کچھ کچھ کچھ کچھ کچھ کچھ کچھ کچھ کچھ کچھ کچھ کچھ کچھ کچھ کچھ کچھ کچھ کچھ کچھ کچھ کچھ کچھ کچھ کچھ کچھ کچھ کچھ کچھ کچھ کچھ کچھ کچھ کچھ کچھ کچھ کچھ کچھ کچھ کچھ کچھ کچھ کچھ کچھ کچھ کچھ کچھ کچھ کچھ کچھ کچھ کچھ کچھ کچھ کچھ کچھ کچھ کچھ کچھ کچھ کچھ کچھ کچھ کچھ کچھ کچھ کچھ کچھ کچھ کچھ کچھ کچھ کچھ کچھ کچھ کچھ کچھ کچھ کچھ کچھ کچھ کچھ کچھ کچھ کچھ کچھ کچھ کچھ کچھ کچھ کچھ کچھ کچھ کچھ کچھ کچھ کچھ کچھ کچھ کچھ کچھ کچھ کچھ کچھ کچھ کچھ کچھ کچھ کچھ کچھ کچھ کچھ کچھ کچھ کچھ کچھ کچھ کچھ کچھ کچھ کچھ کچھ کچھ کچھ کچھ کچھ کچھ کچھ کچھ کچھ کچھ کچھ کچھ کچھ کچھ کچھ کچھ کچھ ک\n",
      "🔸 Reference: She was buried at the in Frankfurt.\n"
     ]
    },
    {
     "name": "stderr",
     "output_type": "stream",
     "text": [
      "\r",
      " 88%|████████▊ | 88/100 [03:12<00:47,  3.97s/it]"
     ]
    },
    {
     "name": "stdout",
     "output_type": "stream",
     "text": [
      "🔹 Predicted:  Върън не е е не е е е е е е е е е е е е е е е е е е е е е е е е е е е е е е е е е е е е е е е е е е е е е е е е е е е е е е е е е е е е е е е е е е е е е е е е е е е е е е е е е е е е е е е е е е е е е е е е е е е е е е е е е е е е е е е е е е е е е е е е е е е е е е е е е е е е е е е е е е е е е е е е е е е е е е е е е е е е е е е е е е е е е е е е е е е е е е е е е е е е е е е е е е е е е е е е е е е е е е е е е е е е е е е е е е е е е е е е е е е е е е е е е е е е е е е е е е е е е е е е е е е е е е е е е е е е е е е е е е е е е е е е е е е е е е е е е е е е е е е е е е е е е е е е е е е е е е е е е е е е е е е е е е е е е е е е е е е е е е е е е е е е е е е е е е е е е е е е е е е е е е е е е е е е е е е е е е е е е е е е е е е е е е е е е е е е е е е е е е е е е е е е е е е е е е е е е е е е е е е е е е е е е е е е е е е е е е е е е е е е е е е е е е е е е е е е е е е\n",
      "🔸 Reference: She became the Minister for Youth and Sports in the Bhattarai cabinet.\n"
     ]
    },
    {
     "name": "stderr",
     "output_type": "stream",
     "text": [
      "\r",
      " 89%|████████▉ | 89/100 [03:12<00:31,  2.88s/it]"
     ]
    },
    {
     "name": "stdout",
     "output_type": "stream",
     "text": [
      "🔹 Predicted:  Върън не е въргън в това елзерън.\n",
      "🔸 Reference: There are seven or eight stamens and two staminodes arranged around the two carpels.\n",
      "🔹 Predicted:  کیاہاں پہنے کیا ہے؟\n",
      "🔸 Reference: I could die happily, and that made me feel good.\n"
     ]
    },
    {
     "name": "stderr",
     "output_type": "stream",
     "text": [
      " 92%|█████████▏| 92/100 [03:17<00:16,  2.08s/it]"
     ]
    },
    {
     "name": "stdout",
     "output_type": "stream",
     "text": [
      "🔹 Predicted:  ہمیں گی ہے کہ ہمیں ایک ایک ایک ایک ایک ایک ایک ایک ایک ایک ایک ایک ایک ایک ایک ایک ایک ایک ایک ایک ایک ایک ایک ایک ایک ایک ایک ایک ایک ایک ایک ایک ایک ایک ایک ایک ایک ایک ایک ایک ایک ایک ایک ایک ایک ایک ایک ایک ایک ایک ایک ایک ایک ایک ایک ایک ایک ایک ایک ایک ایک ایک ایک ایک ایک ایک ایک ایک ایک ایک ایک ایک ایک ایک ایک ایک ایک ایک ایک ایک ایک ایک ایک ایک ایک ایک ایک ایک ایک ایک ایک ایک ایک ایک ایک ایک ایک ایک ایک ایک ایک ایک ایک ایک ایک ایک ایک ایک ایک ایک ایک ایک ایک ایک ایک ایک ایک ایک ایک ایک ایک ایک ایک ایک ایک ایک ایک ایک ایک ایک ایک ایک ایک ایک ایک ایک ایک ایک ایک ایک ایک ایک ایک ایک ایک ایک ایک ایک ایک ایک ایک ایک ایک ایک ایک ایک ایک ایک ایک ایک ایک ایک ایک ایک ایک ایک ایک ایک ایک ایک ایک ایک ایک ایک ایک ایک ایک ایک ایک ایک ایک ایک ایک ایک ایک ایک ایک ایک ایک ایک ایک ایک ایک ایک ایک ایک ایک ایک ایک ایک ایک ایک ایک ایک ایک ایک ایک ایک ایک ایک ایک ایک ایک ایک ایک ایک ایک\n",
      "🔸 Reference: A lady with glasses holds a baby who is looking up at her.\n",
      "🔹 Predicted: \n",
      "🔸 Reference: A person in dark clothes is walking down to the subway.\n"
     ]
    },
    {
     "name": "stderr",
     "output_type": "stream",
     "text": [
      "\r",
      " 93%|█████████▎| 93/100 [03:22<00:20,  2.92s/it]"
     ]
    },
    {
     "name": "stdout",
     "output_type": "stream",
     "text": [
      "🔹 Predicted:  Въръртен са елзират с тъп с тъп с тъп с тъп с тъп с тъп с тъп с тъп с тъп с тъп с тъп с тъп с тъп с тъп с тъп с тъп с тъп с тъп с тъп с тъп с тъп с тъп с тъп с тъп с тъп с тъп с тъп с тъп с тъп с тъп с тъп с тъп с тъп с тъп с тъп с тъп с тъп с тъп с тъп с тъп с тъп с тъп с тъп с тъп с тъп с тъп с тъп с тъп с тъп с тъп с тъп с тъп с тъп с тъп с тъп с тъп с тъп с тъп с тъп с тъп с тъп с тъп с тъп с тъп с тъп с тъп с тъп с тъп с тъп с тъп с тъп с тъп с тъп с тъп с тъп с тъп с тъп с тъп с тъп с тъп с тъп с тъп с тъп с тъп с тъп с тъп с тъп с тъп с тъп с тъп с тъп с тъп с тъп с тъп с тъп с тъп с тъп с тъп с тъп с тъп с тъп с тъп с тъп с тъп с тъп с тъп с тъп с т\n",
      "🔸 Reference: A small child wearing a white hat reaches for a paintbrush.\n"
     ]
    },
    {
     "name": "stderr",
     "output_type": "stream",
     "text": [
      "\r",
      " 94%|█████████▍| 94/100 [03:27<00:21,  3.51s/it]"
     ]
    },
    {
     "name": "stdout",
     "output_type": "stream",
     "text": [
      "🔹 Predicted:  ہمیں گی ہے کہ ہمیں ایک کچھا کچھ کچھ کچھ کچھ کچھ کچھ کچھ کچھ کچھ کچھ کچھ کچھ کچھ کچھ کچھ کچھ کچھ کچھ کچھ کچھ کچھ کچھ کچھ کچھ کچھ کچھ کچھ کچھ کچھ کچھ کچھ کچھ کچھ کچھ کچھ کچھ کچھ کچھ کچھ کچھ کچھ کچھ کچھ کچھ کچھ کچھ کچھ کچھ کچھ کچھ کچھ کچھ کچھ کچھ کچھ کچھ کچھ کچھ کچھ کچھ کچھ کچھ کچھ کچھ کچھ کچھ کچھ کچھ کچھ کچھ کچھ کچھ کچھ کچھ کچھ کچھ کچھ کچھ کچھ کچھ کچھ کچھ کچھ کچھ کچھ کچھ کچھ کچھ کچھ کچھ کچھ کچھ کچھ کچھ کچھ کچھ کچھ کچھ کچھ کچھ کچھ کچھ کچھ کچھ کچھ کچھ کچھ کچھ کچھ کچھ کچھ کچھ کچھ کچھ کچھ کچھ کچھ کچھ کچھ کچھ کچھ کچھ کچھ کچھ کچھ کچھ کچھ کچھ کچھ کچھ کچھ کچھ کچھ کچھ کچھ کچھ کچھ کچھ کچھ کچھ کچھ کچھ کچ\n",
      "🔸 Reference: Split the log with a quick, sharp blow.\n"
     ]
    },
    {
     "name": "stderr",
     "output_type": "stream",
     "text": [
      "\r",
      " 95%|█████████▌| 95/100 [03:32<00:19,  3.93s/it]"
     ]
    },
    {
     "name": "stdout",
     "output_type": "stream",
     "text": [
      "🔹 Predicted:  Върън кън е не е е не е е е е е е е е е е е е е е е е е е е е е е е е е е е е е е е е е е е е е е е е е е е е е е е е е е е е е е е е е е е е е е е е е е е е е е е е е е е е е е е е е е е е е е е е е е е е е е е е е е е е е е е е е е е е е е е е е е е е е е е е е е е е е е е е е е е е е е е е е е е е е е е е е е е е е е е е е е е е е е е е е е е е е е е е е е е е е е е е е е е е е е е е е е е е е е е е е е е е е е е е е е е е е е е е е е е е е е е е е е е е е е е е е е е е е е е е е е е е е е е е е е е е е е е е е е е е е е е е е е е е е е е е е е е е е е е е е е е е е е е е е е е е е е е е е е е е е е е е е е е е е е е е е е е е е е е е е е е е е е е е е е е е е е е е е е е е е е е е е е е е е е е е е е е е е е е е е е е е е е е е е е е е е е е е е е е е е е е е е е е е е е е е е е е е е е е е е е е е е е е е е е е е е е е е е е е е е е е е е е е е е е е е е е е е е е е\n",
      "🔸 Reference: As he looked at the stones, he felt relieved for some reason.\n"
     ]
    },
    {
     "name": "stderr",
     "output_type": "stream",
     "text": [
      "\r",
      " 96%|█████████▌| 96/100 [03:32<00:11,  2.83s/it]"
     ]
    },
    {
     "name": "stdout",
     "output_type": "stream",
     "text": [
      "🔹 Predicted:  Върън не е въргън в тъп.\n",
      "🔸 Reference: I don't know if I'll be able to find life in the desert, the boy thought.\n"
     ]
    },
    {
     "name": "stderr",
     "output_type": "stream",
     "text": [
      "\r",
      " 97%|█████████▋| 97/100 [03:32<00:06,  2.07s/it]"
     ]
    },
    {
     "name": "stdout",
     "output_type": "stream",
     "text": [
      "🔹 Predicted:  Върде елзират са елзират с тежно.\n",
      "🔸 Reference: I could envisage the scene.\n"
     ]
    },
    {
     "name": "stderr",
     "output_type": "stream",
     "text": [
      "\r",
      " 98%|█████████▊| 98/100 [03:33<00:03,  1.56s/it]"
     ]
    },
    {
     "name": "stdout",
     "output_type": "stream",
     "text": [
      "🔹 Predicted:  Върде елзия елзия, аз съм не елзия елзия.\n",
      "🔸 Reference: The opera had surtitles, so we could understand what was going on\n"
     ]
    },
    {
     "name": "stderr",
     "output_type": "stream",
     "text": [
      "\r",
      " 99%|█████████▉| 99/100 [03:38<00:02,  2.56s/it]"
     ]
    },
    {
     "name": "stdout",
     "output_type": "stream",
     "text": [
      "🔹 Predicted:  पाद्व़ादे लिवादे लिवादे लिवादे बादे नहीं बादे नहीं नहीं नहीं नहीं नहीं नहीं नहीं नहीं नहीं नहीं नहीं नहीं नहीं नहीं नहीं नहीं नहीं नहीं नहीं नहीं नहीं नहीं नहीं नहीं नहीं नहीं नहीं नहीं नहीं नहीं नहीं नहीं नहीं नहीं नहीं नहीं नहीं नहीं नहीं नहीं नहीं नहीं नहीं नहीं नहीं नहीं नहीं नहीं नहीं नहीं नहीं नहीं नहीं नहीं नहीं नहीं नहीं नहीं नहीं नहीं नहीं नहीं नहीं नहीं नहीं नहीं नहीं नहीं नहीं नहीं नहीं नहीं नहीं नहीं नहीं नहीं नहीं �\n",
      "🔸 Reference: We perspire when we feel too hot.\n"
     ]
    },
    {
     "name": "stderr",
     "output_type": "stream",
     "text": [
      "100%|██████████| 100/100 [03:43<00:00,  2.23s/it]"
     ]
    },
    {
     "name": "stdout",
     "output_type": "stream",
     "text": [
      "🔹 Predicted:  4.5% dekteria, 4% dekteria, 4% dekteria, 4% dekteria, 4% dekteria, 4% dekteria, 4% dekteria, 4% dekteria, 4% dekteria, 4% dekteria, 4% dekteria, 4% dekteria, 4% dekteria, 4% dekteria, 4% dekteria, 4% dekteria, 4% dekteria, 4% dekteria, 4% dekteria, 4% dekteria, 4% dekteria, 4% dekteria, 4% dekteria, 4% dekteria, 4% dekteria, 4% dekteria, 4% dekteria, 4% dekteria, 4% dekteria, 4% dekteria, 4% dekteria, 4% dekteria, 4% dekteria, 4% dekteria, 4% dekteria, 4% dekteria, 4% dekteria, 4% dekteria, 4% dekteria, 4% dekteria, 4% dekteria, 4% dekteria, 4% dekteria, 4% dekteria, 4% dekteria, 4% dekteria, 4% dekteria, 4% dekteria, 4% dekteria, 4% dekteria, 4% dekteria, 4% dekteria, 4% dekteria, 4% dekteria, 4% dekteria, 4% dekteria, 4% dekteria, 4% dekteria, 4% dekteria, 4% dekteria, 4% dekteria, 4% dekteria, 4% dekteria, 4\n",
      "🔸 Reference: More recently, professional painters are responsible for all preparation prior to painting.\n",
      "✅ EN WER: 9.6846\n",
      "🌍 Language: ja\n"
     ]
    },
    {
     "name": "stderr",
     "output_type": "stream",
     "text": [
      "\n",
      "  1%|          | 1/100 [00:05<08:42,  5.28s/it]"
     ]
    },
    {
     "name": "stdout",
     "output_type": "stream",
     "text": [
      "🔹 Predicted:  ہمیں گی ہے کہ ہمیں ایک کچھا کچھ کچھ کچھ کچھ ہم ایک کچھ کچھ کچھ کچھ کچھ کچھ کچھ کچھ کچھ کچھ کچھ کچھ کچھ کچھ کچھ کچھ کچھ کچھ کچھ کچھ کچھ کچھ کچھ کچھ کچھ کچھ کچھ کچھ کچھ کچھ کچھ کچھ کچھ کچھ کچھ کچھ کچھ کچھ کچھ کچھ کچھ کچھ کچھ کچھ کچھ کچھ کچھ کچھ کچھ کچھ کچھ کچھ کچھ کچھ کچھ کچھ کچھ کچھ کچھ کچھ کچھ کچھ کچھ کچھ کچھ کچھ کچھ کچھ کچھ کچھ کچھ کچھ کچھ کچھ کچھ کچھ کچھ کچھ کچھ کچھ کچھ کچھ کچھ کچھ کچھ کچھ کچھ کچھ کچھ کچھ کچھ کچھ کچھ کچھ کچھ کچھ کچھ کچھ کچھ کچھ کچھ کچھ کچھ کچھ کچھ کچھ کچھ کچھ کچھ کچھ کچھ کچھ کچھ کچھ کچھ کچھ کچھ کچھ کچھ کچھ کچھ کچھ کچھ کچھ کچھ کچھ کچھ کچھ کچھ کچھ کچھ کچھ کچھ کچھ کچھ کچھ کچھ ک\n",
      "🔸 Reference: 風に吹かれるように離れていった\n"
     ]
    },
    {
     "name": "stderr",
     "output_type": "stream",
     "text": [
      "  3%|▎         | 3/100 [00:05<02:16,  1.41s/it]"
     ]
    },
    {
     "name": "stdout",
     "output_type": "stream",
     "text": [
      "🔹 Predicted:  ஏன்னுக்கும் போகிறாய்வில்லையும் போகிறாய்விற்கும்.\n",
      "🔸 Reference: どうもそうらしい、そうだ、きっと\n",
      "🔹 Predicted:  [kiss]\n",
      "🔸 Reference: 公園も団地と一緒だった、何も見つからなかった\n"
     ]
    },
    {
     "name": "stderr",
     "output_type": "stream",
     "text": [
      "\r",
      "  4%|▍         | 4/100 [00:10<04:26,  2.78s/it]"
     ]
    },
    {
     "name": "stdout",
     "output_type": "stream",
     "text": [
      "🔹 Predicted:  ایک ایک ایک ایک ایک ایک ایک ایک ایک ایک ایک ایک ایک ایک ایک ایک ایک ایک ایک ایک ایک ایک ایک ایک ایک ایک ایک ایک ایک ایک ایک ایک ایک ایک ایک ایک ایک ایک ایک ایک ایک ایک ایک ایک ایک ایک ایک ایک ایک ایک ایک ایک ایک ایک ایک ایک ایک ایک ایک ایک ایک ایک ایک ایک ایک ایک ایک ایک ایک ایک ایک ایک ایک ایک ایک ایک ایک ایک ایک ایک ایک ایک ایک ایک ایک ایک ایک ایک ایک ایک ایک ایک ایک ایک ایک ایک ایک ایک ایک ایک ایک ایک ایک ایک ایک ایک ایک ایک ایک ایک ایک ایک ایک ایک ایک ایک ایک ایک ایک ایک ایک ایک ایک ایک ایک ایک ایک ایک ایک ایک ایک ایک ایک ایک ایک ایک ایک ایک ایک ایک ایک ایک ایک ایک ایک ایک ایک ایک ایک ایک ایک ایک ایک ایک ایک ایک ایک ایک ایک ایک ایک ایک ایک ایک ایک ایک ایک ایک ایک ایک ایک ایک ایک ایک ایک ایک ایک ایک ایک ایک ایک ایک ایک ایک ایک ایک ایک ایک ایک ایک ایک ایک ایک ایک ایک ایک ایک ایک ایک ایک ایک ایک ایک ایک ایک ایک ایک ایک ایک ایک ایک ایک ایک ایک ایک ایک ایک ایک ایک ایک ایک ایک\n",
      "🔸 Reference: ロンドンではテームズ川の近くに住み、\n"
     ]
    },
    {
     "name": "stderr",
     "output_type": "stream",
     "text": [
      "\r",
      "  5%|▌         | 5/100 [00:15<05:37,  3.55s/it]"
     ]
    },
    {
     "name": "stdout",
     "output_type": "stream",
     "text": [
      "🔹 Predicted:  ہمیں گی ہے کہ ہمیں ایک کچھا کچھ کچھ کچھ کچھ کچھ کچھ کچھ کچھ کچھ کچھ کچھ کچھ کچھ کچھ کچھ کچھ کچھ کچھ کچھ کچھ کچھ کچھ کچھ کچھ کچھ کچھ کچھ کچھ کچھ کچھ کچھ کچھ کچھ کچھ کچھ کچھ کچھ کچھ کچھ کچھ کچھ کچھ کچھ کچھ کچھ کچھ کچھ کچھ کچھ کچھ کچھ کچھ کچھ کچھ کچھ کچھ کچھ کچھ کچھ کچھ کچھ کچھ کچھ کچھ کچھ کچھ کچھ کچھ کچھ کچھ کچھ کچھ کچھ کچھ کچھ کچھ کچھ کچھ کچھ کچھ کچھ کچھ کچھ کچھ کچھ کچھ کچھ کچھ کچھ کچھ کچھ کچھ کچھ کچھ کچھ کچھ کچھ کچھ کچھ کچھ کچھ کچھ کچھ کچھ کچھ کچھ کچھ کچھ کچھ کچھ کچھ کچھ کچھ کچھ کچھ کچھ کچھ کچھ کچھ کچھ کچھ کچھ کچھ کچھ کچھ کچھ کچھ کچھ کچھ کچھ کچھ کچھ کچھ کچھ کچھ کچھ کچھ کچھ کچھ کچھ کچھ کچھ کچ\n",
      "🔸 Reference: 頭の中でアニメの映像が流れて、他のことについて何も考えることができない状態\n"
     ]
    },
    {
     "name": "stderr",
     "output_type": "stream",
     "text": [
      "\r",
      "  6%|▌         | 6/100 [00:20<06:17,  4.01s/it]"
     ]
    },
    {
     "name": "stdout",
     "output_type": "stream",
     "text": [
      "🔹 Predicted:  ایک ایک ایک ایک ایک ایک ایک ایک ایک ایک ایک ایک ایک ایک ایک ایک ایک ایک ایک ایک ایک ایک ایک ایک ایک ایک ایک ایک ایک ایک ایک ایک ایک ایک ایک ایک ایک ایک ایک ایک ایک ایک ایک ایک ایک ایک ایک ایک ایک ایک ایک ایک ایک ایک ایک ایک ایک ایک ایک ایک ایک ایک ایک ایک ایک ایک ایک ایک ایک ایک ایک ایک ایک ایک ایک ایک ایک ایک ایک ایک ایک ایک ایک ایک ایک ایک ایک ایک ایک ایک ایک ایک ایک ایک ایک ایک ایک ایک ایک ایک ایک ایک ایک ایک ایک ایک ایک ایک ایک ایک ایک ایک ایک ایک ایک ایک ایک ایک ایک ایک ایک ایک ایک ایک ایک ایک ایک ایک ایک ایک ایک ایک ایک ایک ایک ایک ایک ایک ایک ایک ایک ایک ایک ایک ایک ایک ایک ایک ایک ایک ایک ایک ایک ایک ایک ایک ایک ایک ایک ایک ایک ایک ایک ایک ایک ایک ایک ایک ایک ایک ایک ایک ایک ایک ایک ایک ایک ایک ایک ایک ایک ایک ایک ایک ایک ایک ایک ایک ایک ایک ایک ایک ایک ایک ایک ایک ایک ایک ایک ایک ایک ایک ایک ایک ایک ایک ایک ایک ایک ایک ایک ایک ایک ایک ایک ایک ایک ایک ایک ایک ایک ایک\n",
      "🔸 Reference: 冬でもそうめんをよく食べます\n"
     ]
    },
    {
     "name": "stderr",
     "output_type": "stream",
     "text": [
      "\r",
      "  7%|▋         | 7/100 [00:25<06:40,  4.31s/it]"
     ]
    },
    {
     "name": "stdout",
     "output_type": "stream",
     "text": [
      "🔹 Predicted:  पर लिग़े लिग वो लिगावा वो वो वो वो वो वो वो वो वो वो वो वो वो वो वो वो वो वो वो वो वो वो वो वो वो वो वो वो वो वो वो वो वो वो वो वो वो वो वो वो वो वो वो वो वो वो वो वो वो वो वो वो वो वो वो वो वो वो वो वो वो वो वो वो वो वो वो वो वो वो वो वो वो वो वो वो वो वो वो वो वो वो वो वो वो वो वो वो वो वो वो वो वो वो वो वो वो वो वो वो वो वो वो वो वो वो वो वो वो वो वो वो वो वो वो वो वो वो वो वो वो वो वो वो वो वो वो वो वो वो वो वो वो वो वो वो वो वो व\n",
      "🔸 Reference: 三重県桑名市\n"
     ]
    },
    {
     "name": "stderr",
     "output_type": "stream",
     "text": [
      "\r",
      "  8%|▊         | 8/100 [00:30<06:54,  4.50s/it]"
     ]
    },
    {
     "name": "stdout",
     "output_type": "stream",
     "text": [
      "🔹 Predicted:  ایک ایک ایک ایک ایک ایک ایک ایک ایک ایک ایک ایک ایک ایک ایک ایک ایک ایک ایک ایک ایک ایک ایک ایک ایک ایک ایک ایک ایک ایک ایک ایک ایک ایک ایک ایک ایک ایک ایک ایک ایک ایک ایک ایک ایک ایک ایک ایک ایک ایک ایک ایک ایک ایک ایک ایک ایک ایک ایک ایک ایک ایک ایک ایک ایک ایک ایک ایک ایک ایک ایک ایک ایک ایک ایک ایک ایک ایک ایک ایک ایک ایک ایک ایک ایک ایک ایک ایک ایک ایک ایک ایک ایک ایک ایک ایک ایک ایک ایک ایک ایک ایک ایک ایک ایک ایک ایک ایک ایک ایک ایک ایک ایک ایک ایک ایک ایک ایک ایک ایک ایک ایک ایک ایک ایک ایک ایک ایک ایک ایک ایک ایک ایک ایک ایک ایک ایک ایک ایک ایک ایک ایک ایک ایک ایک ایک ایک ایک ایک ایک ایک ایک ایک ایک ایک ایک ایک ایک ایک ایک ایک ایک ایک ایک ایک ایک ایک ایک ایک ایک ایک ایک ایک ایک ایک ایک ایک ایک ایک ایک ایک ایک ایک ایک ایک ایک ایک ایک ایک ایک ایک ایک ایک ایک ایک ایک ایک ایک ایک ایک ایک ایک ایک ایک ایک ایک ایک ایک ایک ایک ایک ایک ایک ایک ایک ایک ایک ایک ایک ایک ایک ایک\n",
      "🔸 Reference: 筋トレの成果がでる前に腰を痛めた\n"
     ]
    },
    {
     "name": "stderr",
     "output_type": "stream",
     "text": [
      "\r",
      "  9%|▉         | 9/100 [00:35<06:59,  4.61s/it]"
     ]
    },
    {
     "name": "stdout",
     "output_type": "stream",
     "text": [
      "🔹 Predicted:  اگر که که که که که که که که که که که که که که که که که که که که که که که که که که که که که که که که که که که که که که که که که که که که که که که که که که که که که که که که که که که که که که که که که که که که که که که که که که که که که که که که که که که که که که که که که که که که که که که که که که که که که که که که که که که که که که که که که که که که که که که که که که که که که که که که که که که که که که که که که که که که که که که که که که که که که که که که که که که که که که که که که که که که که که که که که که که که که که که که که که که که که که که که که که که که که که که که که که که که که که که که که که که که که که که که که که که که که که که که که که که که ک\n",
      "🔸 Reference: 京都市南区\n"
     ]
    },
    {
     "name": "stderr",
     "output_type": "stream",
     "text": [
      "\r",
      " 10%|█         | 10/100 [00:35<04:58,  3.32s/it]"
     ]
    },
    {
     "name": "stdout",
     "output_type": "stream",
     "text": [
      "🔹 Predicted:  ஏன்றுவில்லையும் போக்கிறாய்விற்கும்.\n",
      "🔸 Reference: モンタナ州の最大都市はビリングスである\n"
     ]
    },
    {
     "name": "stderr",
     "output_type": "stream",
     "text": [
      "\r",
      " 11%|█         | 11/100 [00:36<03:46,  2.54s/it]"
     ]
    },
    {
     "name": "stdout",
     "output_type": "stream",
     "text": [
      "🔹 Predicted:  ஏற்குத்துவிட்டும் போல்லையும் போல்லையும் போல்லையும் ஓர்கள் ஓர்கள் அல்லவா?\n",
      "🔸 Reference: 厚焼きたまごはかんたんにできる\n",
      "🔹 Predicted:  کیا ہے\n",
      "🔸 Reference: まったく衰えもしない姿に、鳥肌を覚えてしまった。\n"
     ]
    },
    {
     "name": "stderr",
     "output_type": "stream",
     "text": [
      "\r",
      " 13%|█▎        | 13/100 [00:41<03:41,  2.54s/it]"
     ]
    },
    {
     "name": "stdout",
     "output_type": "stream",
     "text": [
      "🔹 Predicted:  پیر کچھا کچھا کچھا کچھا کچھا کچھا کچھا کچھا کچھا کچھا کچھا کچھا کچھا کچھا کچھا کچھا کچھا کچھا کچھا کچھا کچھا کچھا کچھا کچھا کچھا کچھا کچھا کچھا کچھا کچھا کچھا کچھا کچھا کچھا کچھا کچھا کچھا کچھا کچھا کچھا کچھا کچھا کچھا کچھا کچھا کچھا کچھا کچھا کچھا کچھا کچھا کچھا کچھا کچھا کچھا کچھا کچھا کچھا کچھا کچھا کچھا کچھا کچھا کچھا کچھا کچھا کچھا کچھا کچھا کچھا کچھا کچھا کچھا کچھا کچھا کچھا کچھا کچھا کچھا کچھا کچھا کچھا کچھا کچھا کچھا کچھا کچھا کچھا کچھا کچھا کچھا کچھا کچھا کچھا کچھا کچھا کچھا کچھا کچھا کچھا کچھا کچھا کچھا کچھا کچھا کچھا کچھا کچھا کچھا کچھا ک\n",
      "🔸 Reference: 徹底した清掃と丁寧な調理を心がけたことで客足が戻ってきた\n"
     ]
    },
    {
     "name": "stderr",
     "output_type": "stream",
     "text": [
      "\r",
      " 14%|█▍        | 14/100 [00:42<02:53,  2.02s/it]"
     ]
    },
    {
     "name": "stdout",
     "output_type": "stream",
     "text": [
      "🔹 Predicted:  ஏன்று நில்லையும் போக்கிறாய்விற்கும்.\n",
      "🔸 Reference: 壺の中の塩をたくさんよくもみ込んでください\n"
     ]
    },
    {
     "name": "stderr",
     "output_type": "stream",
     "text": [
      "\r",
      " 15%|█▌        | 15/100 [00:42<02:13,  1.57s/it]"
     ]
    },
    {
     "name": "stdout",
     "output_type": "stream",
     "text": [
      "🔹 Predicted:  Върде елзирателно е на това елзирателно.\n",
      "🔸 Reference: 作られたものから作るものへとして、矛盾的自己同一に徹することによって、歴史的世界は生物の世界から人間の世界へと発展する。\n"
     ]
    },
    {
     "name": "stderr",
     "output_type": "stream",
     "text": [
      "\r",
      " 16%|█▌        | 16/100 [00:47<03:28,  2.48s/it]"
     ]
    },
    {
     "name": "stdout",
     "output_type": "stream",
     "text": [
      "🔹 Predicted:  Върде си от това елзират с това елзират с това елзират с това елзират с това елзират с това елзират с това елзират с това елзират с това елзират с това елзират с това елзират с това елзират с това елзират с това елзират с това елзират с това елзират с това елзират с това елзират с това елзират с това елзират с това елзират с това елзират с това елзират с това елзират с това елзират с това елзират с това елзират с това елзират с това елзират с това елзират с това елзират с това елзират с това елзират с това елзират с това елзират с това елзират с това елзират с това елзират с това елзират с това елзират с това елзират с това елзират с това елзират с това елзират с това елзират с това елзират с това елзират с това елзират с това елзират с това елзират с това елзират с това елзират с това елзират с това елзират с това елз\n",
      "🔸 Reference: ふざけて出品したらガチで売れてビビる\n"
     ]
    },
    {
     "name": "stderr",
     "output_type": "stream",
     "text": [
      "\r",
      " 17%|█▋        | 17/100 [00:52<04:22,  3.16s/it]"
     ]
    },
    {
     "name": "stdout",
     "output_type": "stream",
     "text": [
      "🔹 Predicted:  ہمیں گی ہے کہ ہمیں ایک کچھا کچھ کچھ کچھ کچھ کچھ کچھ کچھ کچھ کچھ کچھ کچھ کچھ کچھ کچھ کچھ کچھ کچھ کچھ کچھ کچھ کچھ کچھ کچھ کچھ کچھ کچھ کچھ کچھ کچھ کچھ کچھ کچھ کچھ کچھ کچھ کچھ کچھ کچھ کچھ کچھ کچھ کچھ کچھ کچھ کچھ کچھ کچھ کچھ کچھ کچھ کچھ کچھ کچھ کچھ کچھ کچھ کچھ کچھ کچھ کچھ کچھ کچھ کچھ کچھ کچھ کچھ کچھ کچھ کچھ کچھ کچھ کچھ کچھ کچھ کچھ کچھ کچھ کچھ کچھ کچھ کچھ کچھ کچھ کچھ کچھ کچھ کچھ کچھ کچھ کچھ کچھ کچھ کچھ کچھ کچھ کچھ کچھ کچھ کچھ کچھ کچھ کچھ کچھ کچھ کچھ کچھ کچھ کچھ کچھ کچھ کچھ کچھ کچھ کچھ کچھ کچھ کچھ کچھ کچھ کچھ کچھ کچھ کچھ کچھ کچھ کچھ کچھ کچھ کچھ کچھ کچھ کچھ کچھ کچھ کچھ کچھ کچھ کچھ کچھ کچھ کچھ کچھ کچ\n",
      "🔸 Reference: 外国だと驚くほど安く買えたりします\n"
     ]
    },
    {
     "name": "stderr",
     "output_type": "stream",
     "text": [
      "\r",
      " 18%|█▊        | 18/100 [00:57<05:01,  3.68s/it]"
     ]
    },
    {
     "name": "stdout",
     "output_type": "stream",
     "text": [
      "🔹 Predicted:  ایک ایک ایک ایک ایک ایک ایک ایک ایک ایک ایک ایک ایک ایک ایک ایک ایک ایک ایک ایک ایک ایک ایک ایک ایک ایک ایک ایک ایک ایک ایک ایک ایک ایک ایک ایک ایک ایک ایک ایک ایک ایک ایک ایک ایک ایک ایک ایک ایک ایک ایک ایک ایک ایک ایک ایک ایک ایک ایک ایک ایک ایک ایک ایک ایک ایک ایک ایک ایک ایک ایک ایک ایک ایک ایک ایک ایک ایک ایک ایک ایک ایک ایک ایک ایک ایک ایک ایک ایک ایک ایک ایک ایک ایک ایک ایک ایک ایک ایک ایک ایک ایک ایک ایک ایک ایک ایک ایک ایک ایک ایک ایک ایک ایک ایک ایک ایک ایک ایک ایک ایک ایک ایک ایک ایک ایک ایک ایک ایک ایک ایک ایک ایک ایک ایک ایک ایک ایک ایک ایک ایک ایک ایک ایک ایک ایک ایک ایک ایک ایک ایک ایک ایک ایک ایک ایک ایک ایک ایک ایک ایک ایک ایک ایک ایک ایک ایک ایک ایک ایک ایک ایک ایک ایک ایک ایک ایک ایک ایک ایک ایک ایک ایک ایک ایک ایک ایک ایک ایک ایک ایک ایک ایک ایک ایک ایک ایک ایک ایک ایک ایک ایک ایک ایک ایک ایک ایک ایک ایک ایک ایک ایک ایک ایک ایک ایک ایک ایک ایک ایک ایک ایک\n",
      "🔸 Reference: 好きだった映画がリメイクされた\n"
     ]
    },
    {
     "name": "stderr",
     "output_type": "stream",
     "text": [
      "\r",
      " 19%|█▉        | 19/100 [01:02<05:26,  4.03s/it]"
     ]
    },
    {
     "name": "stdout",
     "output_type": "stream",
     "text": [
      "🔹 Predicted:  प्व़़ प़् प़् प़् प़् प़् प़् प़् प़् प़् प़् प़् प़् प़् प़् प़् प़् प़् प़् प़् प़् प़् प़् प़् प़् प़् प़् प़् प़् प़् प़् प़् प़् प़् प़् प़् प़् प़् प़् प़् प़् प़् प़् प़् प़् प़् प़् प़् प़् प़् प़् प़् प़् प़् प़् प़् प़् प़् प़् प़् प़् प़् प़् प़् प़् प़् प़् प़् प़् प़् प़् प़् प़् प़् प़् प़् प़् प़् प़् प़् प़् प़् प़् प़् प़् प़् प़् प़्\n",
      "🔸 Reference: 公園の遊具や設備はあのころと比べて変わっていた\n"
     ]
    },
    {
     "name": "stderr",
     "output_type": "stream",
     "text": [
      "\r",
      " 20%|██        | 20/100 [01:02<03:58,  2.98s/it]"
     ]
    },
    {
     "name": "stdout",
     "output_type": "stream",
     "text": [
      "🔹 Predicted:  ஏன்றுவில்லையும் போக்கிறாய்விற்கும்.\n",
      "🔸 Reference: 自分は、いったい幸福なのでしょうか\n"
     ]
    },
    {
     "name": "stderr",
     "output_type": "stream",
     "text": [
      "\r",
      " 21%|██        | 21/100 [01:07<04:41,  3.57s/it]"
     ]
    },
    {
     "name": "stdout",
     "output_type": "stream",
     "text": [
      "🔹 Predicted:  प्व़़ प़् प़् प़् प़् प़् प़् प़् प़् प़् प़् प़् प़् प़् प़् प़् प़् प़् प़् प़् प़् प़् प़् प़् प़् प़् प़् प़् प़् प़् प़् प़् प़् प़् प़् प़् प़् प़् प़् प़् प़् प़् प़् प़् प़् प़् प़् प़् प़् प़् प़् प़् प़् प़् प़् प़् प़् प़् प़् प़् प़् प़् प़् प़् प़् प़् प़् प़् प़् प़् प़् प़् प़् प़् प़् प़् प़् प़् प़् प़् प़् प़् प़् प़् प़् प़् प़् प़्\n",
      "🔸 Reference: そうしてその穴の中から時々ぷうぷうと煙を吹く\n"
     ]
    },
    {
     "name": "stderr",
     "output_type": "stream",
     "text": [
      "\r",
      " 22%|██▏       | 22/100 [01:12<05:08,  3.95s/it]"
     ]
    },
    {
     "name": "stdout",
     "output_type": "stream",
     "text": [
      "🔹 Predicted:  ஏன்னுக்கும் போல்லையும் போல்லையும் போல்லையும் ஓர்கள் ஓர்கள் ஓர்கள் ஓர்கள் ஓர்கள் ஓர்கள் ஓர்கள் ஓர்கள் ஓர்கள் ஓர்கள் ஓர்கள் ஓர்கள் ஓர்கள் ஓர்கள் ஓர்கள் ஓர்கள் ஓர்கள் ஓர்கள் ஓர்கள் ஓர்கள் ஓர்கள் ஓர்கள் ஓர்கள் ஓர்கள் ஓர்கள் ஓர்கள் ஓர்கள் ஓர்கள் ஓர்கள் ஓர்கள் ஓர்கள் ஓர்கள் ஓர்கள் ஓர்கள் ஓர்கள் ஓர்கள் ஓர்கள் ஓர்கள் ஓர்கள் ஓர்கள் ஓர்கள் ஓர்கள் ஓர்கள் ஓர்கள் ஓர்கள் ஓர்கள் ஓர்கள் ஓர்கள் ஓர்கள் ஓர்கள் ஓர்கள் ஓர்கள் ஓர்கள் ஓர்கள் ஓர்கள் ஓர்கள் ஓர்கள் ஓர்கள் ஓர்கள் ஓர்கள் ஓர்கள் ஓர்கள் ஓர்கள் ஓர்கள் ஓர்கள் ஓர்கள் ஓர்கள்\n",
      "🔸 Reference: 彼は、実家のお墓に埋葬された。\n"
     ]
    },
    {
     "name": "stderr",
     "output_type": "stream",
     "text": [
      "\r",
      " 23%|██▎       | 23/100 [01:17<05:27,  4.26s/it]"
     ]
    },
    {
     "name": "stdout",
     "output_type": "stream",
     "text": [
      "🔹 Predicted:  میں نے ایک ایک ایک ایک ایک ایک ایک ایک ایک ایک ایک ایک ایک ایک ایک ایک ایک ایک ایک ایک ایک ایک ایک ایک ایک ایک ایک ایک ایک ایک ایک ایک ایک ایک ایک ایک ایک ایک ایک ایک ایک ایک ایک ایک ایک ایک ایک ایک ایک ایک ایک ایک ایک ایک ایک ایک ایک ایک ایک ایک ایک ایک ایک ایک ایک ایک ایک ایک ایک ایک ایک ایک ایک ایک ایک ایک ایک ایک ایک ایک ایک ایک ایک ایک ایک ایک ایک ایک ایک ایک ایک ایک ایک ایک ایک ایک ایک ایک ایک ایک ایک ایک ایک ایک ایک ایک ایک ایک ایک ایک ایک ایک ایک ایک ایک ایک ایک ایک ایک ایک ایک ایک ایک ایک ایک ایک ایک ایک ایک ایک ایک ایک ایک ایک ایک ایک ایک ایک ایک ایک ایک ایک ایک ایک ایک ایک ایک ایک ایک ایک ایک ایک ایک ایک ایک ایک ایک ایک ایک ایک ایک ایک ایک ایک ایک ایک ایک ایک ایک ایک ایک ایک ایک ایک ایک ایک ایک ایک ایک ایک ایک ایک ایک ایک ایک ایک ایک ایک ایک ایک ایک ایک ایک ایک ایک ایک ایک ایک ایک ایک ایک ایک ایک ایک ایک ایک ایک ایک ایک ایک ایک ایک ایک ایک ایک ایک ایک ایک ایک ایک ایک\n",
      "🔸 Reference: 木箱の向こうの大きな写真の、僕の知らない君に向けて礼をする。\n"
     ]
    },
    {
     "name": "stderr",
     "output_type": "stream",
     "text": [
      "\r",
      " 24%|██▍       | 24/100 [01:22<05:38,  4.45s/it]"
     ]
    },
    {
     "name": "stdout",
     "output_type": "stream",
     "text": [
      "🔹 Predicted:  ہمیں گی ہے کہ ہمیں ایک کچھا کچھ کچھ کچھ کچھ ہم ایک کچھ کچھ کچھ کچھ کچھ کچھ کچھ کچھ کچھ کچھ کچھ کچھ کچھ کچھ کچھ کچھ کچھ کچھ کچھ کچھ کچھ کچھ کچھ کچھ کچھ کچھ کچھ کچھ کچھ کچھ کچھ کچھ کچھ کچھ کچھ کچھ کچھ کچھ کچھ کچھ کچھ کچھ کچھ کچھ کچھ کچھ کچھ کچھ کچھ کچھ کچھ کچھ کچھ کچھ کچھ کچھ کچھ کچھ کچھ کچھ کچھ کچھ کچھ کچھ کچھ کچھ کچھ کچھ کچھ کچھ کچھ کچھ کچھ کچھ کچھ کچھ کچھ کچھ کچھ کچھ کچھ کچھ کچھ کچھ کچھ کچھ کچھ کچھ کچھ کچھ کچھ کچھ کچھ کچھ کچھ کچھ کچھ کچھ کچھ کچھ کچھ کچھ کچھ کچھ کچھ کچھ کچھ کچھ کچھ کچھ کچھ کچھ کچھ کچھ کچھ کچھ کچھ کچھ کچھ کچھ کچھ کچھ کچھ کچھ کچھ کچھ کچھ کچھ کچھ کچھ کچھ کچھ کچھ کچھ کچھ کچھ کچھ ک\n",
      "🔸 Reference: 料理酒を入れるとコクが出ておいしくなる。\n"
     ]
    },
    {
     "name": "stderr",
     "output_type": "stream",
     "text": [
      " 26%|██▌       | 26/100 [01:23<03:01,  2.45s/it]"
     ]
    },
    {
     "name": "stdout",
     "output_type": "stream",
     "text": [
      "🔹 Predicted:  ஏன்றுவில்லையும் போக்கிறாய்விற்கும் போகிறாய்வில்லையும் என்று நில்லையும் போகிறாய்விற்கும்.\n",
      "🔸 Reference: 過去にとらわれてると動けない\n",
      "🔹 Predicted:  ہمیں گی ہے کہ ہمیں گی ہے\n",
      "🔸 Reference: 利用者の意見も参考にするとよいでしょう\n"
     ]
    },
    {
     "name": "stderr",
     "output_type": "stream",
     "text": [
      " 28%|██▊       | 28/100 [01:24<01:37,  1.36s/it]"
     ]
    },
    {
     "name": "stdout",
     "output_type": "stream",
     "text": [
      "🔹 Predicted:  ஏன்னுடையும் போகிறாய்வில்லையும் போகிறாய்விற்கும்.\n",
      "🔸 Reference: リニューアルオープンというが、ほとんど変わってなかった\n",
      "🔹 Predicted:  ہمیں گے ہیں\n",
      "🔸 Reference: お役に立ててうれしいです\n"
     ]
    },
    {
     "name": "stderr",
     "output_type": "stream",
     "text": [
      "\r",
      " 29%|██▉       | 29/100 [01:24<01:23,  1.18s/it]"
     ]
    },
    {
     "name": "stdout",
     "output_type": "stream",
     "text": [
      "🔹 Predicted:  ஏன்றுவில்லையும் போக்கிறாய்விற்கும் போகிறாய்வில்லையும் ஓர்கள் அல்லவா?\n",
      "🔸 Reference: 岡山県美作市\n"
     ]
    },
    {
     "name": "stderr",
     "output_type": "stream",
     "text": [
      "\r",
      " 30%|███       | 30/100 [01:25<01:02,  1.13it/s]"
     ]
    },
    {
     "name": "stdout",
     "output_type": "stream",
     "text": [
      "🔹 Predicted:  کیوں نے அழیہ پہنے کیا ہے\n",
      "🔸 Reference: 見てないけど、感動をありがとうセールで安く買う\n"
     ]
    },
    {
     "name": "stderr",
     "output_type": "stream",
     "text": [
      " 32%|███▏      | 32/100 [01:30<01:42,  1.51s/it]"
     ]
    },
    {
     "name": "stdout",
     "output_type": "stream",
     "text": [
      "🔹 Predicted:  அہاں سے کھاہاں سے کھاہاں سے کھاہاں سے کھاہاں سے کھاہاں سے کھاہاں سے کھاہاں سے کھاہاں سے کھاہاں سے کھاہاں سے کھاہاں سے کھاہاں سے کھاہاں سے کھاہاں سے کھاہاں سے کھاہاں سے کھاہاں سے کھاہاں سے کھاہاں سے کھاہاں سے کھاہاں سے کھاہاں سے کھاہاں سے کھاہاں سے کھاہاں سے کھاہاں سے کھاہاں سے کھاہاں سے کھاہاں سے کھاہاں سے کھاہاں سے کھاہاں سے کھاہاں سے کھاہاں سے کھاہاں سے کھاہاں سے کھاہاں سے کھاہاں سے کھاہاں سے کھاہاں سے کھاہاں سے کھاہاں سے کھاہاں سے کھاہاں سے کھاہاں سے کھاہاں سے کھاہاں سے کھاہاں سے کھاہاں سے کھاہاں سے کھاہاں سے کھاہاں سے کھاہاں سے کھاہاں سے کھاہاں سے کھاہاں سے کھاہاں سے کھاہاں سے کھاہاں سے کھاہاں سے کھاہاں سے کھاہاں سے کھاہا\n",
      "🔸 Reference: 技術は生産的であり、世界を革新しまた豊富にする。\n",
      "🔹 Predicted:  [kiss]\n",
      "🔸 Reference: 専門用語がいっぱいだけど、話してる本人もわかってない\n"
     ]
    },
    {
     "name": "stderr",
     "output_type": "stream",
     "text": [
      "\r",
      " 33%|███▎      | 33/100 [01:30<01:14,  1.12s/it]"
     ]
    },
    {
     "name": "stdout",
     "output_type": "stream",
     "text": [
      "🔹 Predicted:  [Available for the first time in the year 2020.]\n",
      "🔸 Reference: 与えられたものそれ自身が自己矛盾的として、自己の内から自己を越え行くことでなければならない。\n"
     ]
    },
    {
     "name": "stderr",
     "output_type": "stream",
     "text": [
      "\r",
      " 34%|███▍      | 34/100 [01:35<02:28,  2.25s/it]"
     ]
    },
    {
     "name": "stdout",
     "output_type": "stream",
     "text": [
      "🔹 Predicted:  दागादावावावावावावावावावावावावावावावावावावावावावावावावावावावावावावावावावावावावावावावावावावावावावावावावावावावावावावावावावावावावावावावावावावावावावावावावावावावावावावावावावावावावावावावावावावावावावावावावावावावावावावावावावावावावावावावावावावावावावावावावावावावावावावावावावावावावावावावावावावावावावावावावावा\n",
      "🔸 Reference: 長崎県壱岐市\n"
     ]
    },
    {
     "name": "stderr",
     "output_type": "stream",
     "text": [
      "\r",
      " 35%|███▌      | 35/100 [01:40<03:18,  3.05s/it]"
     ]
    },
    {
     "name": "stdout",
     "output_type": "stream",
     "text": [
      "🔹 Predicted:  Въръв е не е не е е не е е е е е е е е е е е е е е е е е е е е е е е е е е е е е е е е е е е е е е е е е е е е е е е е е е е е е е е е е е е е е е е е е е е е е е е е е е е е е е е е е е е е е е е е е е е е е е е е е е е е е е е е е е е е е е е е е е е е е е е е е е е е е е е е е е е е е е е е е е е е е е е е е е е е е е е е е е е е е е е е е е е е е е е е е е е е е е е е е е е е е е е е е е е е е е е е е е е е е е е е е е е е е е е е е е е е е е е е е е е е е е е е е е е е е е е е е е е е е е е е е е е е е е е е е е е е е е е е е е е е е е е е е е е е е е е е е е е е е е е е е е е е е е е е е е е е е е е е е е е е е е е е е е е е е е е е е е е е е е е е е е е е е е е е е е е е е е е е е е е е е е е е е е е е е е е е е е е е е е е е е е е е е е е е е е е е е е е е е е е е е е е е е е е е е е е е е е е е е е е е е е е е е е е е е е е е е е е е е е е е е е е е е е е е е е е е\n",
      "🔸 Reference: いずれ僕もあと三十年もしたら浴衣がけで\n"
     ]
    },
    {
     "name": "stderr",
     "output_type": "stream",
     "text": [
      "\r",
      " 36%|███▌      | 36/100 [01:45<03:52,  3.64s/it]"
     ]
    },
    {
     "name": "stdout",
     "output_type": "stream",
     "text": [
      "🔹 Predicted:  Въръв е не е не е е не е е е е е е е е е е е е е е е е е е е е е е е е е е е е е е е е е е е е е е е е е е е е е е е е е е е е е е е е е е е е е е е е е е е е е е е е е е е е е е е е е е е е е е е е е е е е е е е е е е е е е е е е е е е е е е е е е е е е е е е е е е е е е е е е е е е е е е е е е е е е е е е е е е е е е е е е е е е е е е е е е е е е е е е е е е е е е е е е е е е е е е е е е е е е е е е е е е е е е е е е е е е е е е е е е е е е е е е е е е е е е е е е е е е е е е е е е е е е е е е е е е е е е е е е е е е е е е е е е е е е е е е е е е е е е е е е е е е е е е е е е е е е е е е е е е е е е е е е е е е е е е е е е е е е е е е е е е е е е е е е е е е е е е е е е е е е е е е е е е е е е е е е е е е е е е е е е е е е е е е е е е е е е е е е е е е е е е е е е е е е е е е е е е е е е е е е е е е е е е е е е е е е е е е е е е е е е е е е е е е е е е е е е е е е е е е е\n",
      "🔸 Reference: 僕も君の背中に向けて、じゃあねと言い返して、手を振った\n"
     ]
    },
    {
     "name": "stderr",
     "output_type": "stream",
     "text": [
      "\r",
      " 37%|███▋      | 37/100 [01:50<04:13,  4.02s/it]"
     ]
    },
    {
     "name": "stdout",
     "output_type": "stream",
     "text": [
      "🔹 Predicted:  Върън не е върън върън върън върън върън върън върън върън върън върън върън върън върън върън върън върън върън върън върън върън върън върън върън върън върън върън върън върън върън върън върън върън върън върън върън върън върън върън върън върън върън върън върън върън върън върън върън върън върън върън върън върън върън върън върън върън върън върън върън върън върън върън върън върън върън върън върън върън върън върън върън върън върън върън върън върън върън върън върън върън върън върън върън върън върън върън върън въ\n",
      "🔸 Reference: 注文はずいぶん多いでしょうがどうか一々こらえて下さい\n"
     ]
    },
    {
     "name": "stderr",
     "output_type": "stream",
     "text": [
      "\r",
      " 38%|███▊      | 38/100 [01:55<04:27,  4.32s/it]"
     ]
    },
    {
     "name": "stdout",
     "output_type": "stream",
     "text": [
      "🔹 Predicted:  Върън е не е не е е не е е е е е е е е е е е е е е е е е е е е е е е е е е е е е е е е е е е е е е е е е е е е е е е е е е е е е е е е е е е е е е е е е е е е е е е е е е е е е е е е е е е е е е е е е е е е е е е е е е е е е е е е е е е е е е е е е е е е е е е е е е е е е е е е е е е е е е е е е е е е е е е е е е е е е е е е е е е е е е е е е е е е е е е е е е е е е е е е е е е е е е е е е е е е е е е е е е е е е е е е е е е е е е е е е е е е е е е е е е е е е е е е е е е е е е е е е е е е е е е е е е е е е е е е е е е е е е е е е е е е е е е е е е е е е е е е е е е е е е е е е е е е е е е е е е е е е е е е е е е е е е е е е е е е е е е е е е е е е е е е е е е е е е е е е е е е е е е е е е е е е е е е е е е е е е е е е е е е е е е е е е е е е е е е е е е е е е е е е е е е е е е е е е е е е е е е е е е е е е е е е е е е е е е е е е е е е е е е е е е е е е е е е е е е е е е е\n",
      "🔸 Reference: 掘り出した砂を砂場の真ん中に集めて、固めて、山にして、また山に砂をかける\n"
     ]
    },
    {
     "name": "stderr",
     "output_type": "stream",
     "text": [
      "\r",
      " 39%|███▉      | 39/100 [01:59<04:33,  4.49s/it]"
     ]
    },
    {
     "name": "stdout",
     "output_type": "stream",
     "text": [
      "🔹 Predicted:  Въръртваме елзирателяме елзирателяме елзирателяме елзирателяме елзирателяме елзирателяме елзирателяме елзирателяме елзирателяме елзирателяме елзирателяме елзирателяме елзирателяме елзирателяме елзирателяме елзирателяме елзирателяме елзирателяме елзирателяме елзирателяме елзирателяме елзирателяме елзирателяме елзирателяме елзирателяме елзирателяме елзирателяме елзирателяме елзирателяме елзирателяме елзирателяме елзирателяме елзирателяме елзирателяме елзирателяме елзирателяме елзирателяме елзирателяме елзирателяме елзирателяме елзирателяме елзирателяме елзирателяме елзирателяме елзирателяме елзирателяме елзирателяме елзирателяме елзирателяме елзирателяме елзирателяме елзирателяме елзирателяме елзирателяме елз\n",
      "🔸 Reference: いくら人間だって、そういつまでも栄える事もあるまい\n"
     ]
    },
    {
     "name": "stderr",
     "output_type": "stream",
     "text": [
      "\r",
      " 40%|████      | 40/100 [02:04<04:36,  4.61s/it]"
     ]
    },
    {
     "name": "stdout",
     "output_type": "stream",
     "text": [
      "🔹 Predicted:  Върън е не е не е е не е е е е е е е е е е е е е е е е е е е е е е е е е е е е е е е е е е е е е е е е е е е е е е е е е е е е е е е е е е е е е е е е е е е е е е е е е е е е е е е е е е е е е е е е е е е е е е е е е е е е е е е е е е е е е е е е е е е е е е е е е е е е е е е е е е е е е е е е е е е е е е е е е е е е е е е е е е е е е е е е е е е е е е е е е е е е е е е е е е е е е е е е е е е е е е е е е е е е е е е е е е е е е е е е е е е е е е е е е е е е е е е е е е е е е е е е е е е е е е е е е е е е е е е е е е е е е е е е е е е е е е е е е е е е е е е е е е е е е е е е е е е е е е е е е е е е е е е е е е е е е е е е е е е е е е е е е е е е е е е е е е е е е е е е е е е е е е е е е е е е е е е е е е е е е е е е е е е е е е е е е е е е е е е е е е е е е е е е е е е е е е е е е е е е е е е е е е е е е е е е е е е е е е е е е е е е е е е е е е е е е е е е е е е е е е е е\n",
      "🔸 Reference: そこで僕らは遊んだ、穴を掘り、山を作り、また穴を掘った\n"
     ]
    },
    {
     "name": "stderr",
     "output_type": "stream",
     "text": [
      "\r",
      " 41%|████      | 41/100 [02:09<04:37,  4.70s/it]"
     ]
    },
    {
     "name": "stdout",
     "output_type": "stream",
     "text": [
      "🔹 Predicted:  Въръв е не е не е е не е е е е е е е е е е е е е е е е е е е е е е е е е е е е е е е е е е е е е е е е е е е е е е е е е е е е е е е е е е е е е е е е е е е е е е е е е е е е е е е е е е е е е е е е е е е е е е е е е е е е е е е е е е е е е е е е е е е е е е е е е е е е е е е е е е е е е е е е е е е е е е е е е е е е е е е е е е е е е е е е е е е е е е е е е е е е е е е е е е е е е е е е е е е е е е е е е е е е е е е е е е е е е е е е е е е е е е е е е е е е е е е е е е е е е е е е е е е е е е е е е е е е е е е е е е е е е е е е е е е е е е е е е е е е е е е е е е е е е е е е е е е е е е е е е е е е е е е е е е е е е е е е е е е е е е е е е е е е е е е е е е е е е е е е е е е е е е е е е е е е е е е е е е е е е е е е е е е е е е е е е е е е е е е е е е е е е е е е е е е е е е е е е е е е е е е е е е е е е е е е е е е е е е е е е е е е е е е е е е е е е е е е е е е е е е е е\n",
      "🔸 Reference: それこそ千番に一番の兼ね合いとでもいうべき危機一髪の、\n"
     ]
    },
    {
     "name": "stderr",
     "output_type": "stream",
     "text": [
      "\r",
      " 42%|████▏     | 42/100 [02:14<04:35,  4.74s/it]"
     ]
    },
    {
     "name": "stdout",
     "output_type": "stream",
     "text": [
      "🔹 Predicted:  Въръв е не е не е е не е е е е е е е е е е е е е е е е е е е е е е е е е е е е е е е е е е е е е е е е е е е е е е е е е е е е е е е е е е е е е е е е е е е е е е е е е е е е е е е е е е е е е е е е е е е е е е е е е е е е е е е е е е е е е е е е е е е е е е е е е е е е е е е е е е е е е е е е е е е е е е е е е е е е е е е е е е е е е е е е е е е е е е е е е е е е е е е е е е е е е е е е е е е е е е е е е е е е е е е е е е е е е е е е е е е е е е е е е е е е е е е е е е е е е е е е е е е е е е е е е е е е е е е е е е е е е е е е е е е е е е е е е е е е е е е е е е е е е е е е е е е е е е е е е е е е е е е е е е е е е е е е е е е е е е е е е е е е е е е е е е е е е е е е е е е е е е е е е е е е е е е е е е е е е е е е е е е е е е е е е е е е е е е е е е е е е е е е е е е е е е е е е е е е е е е е е е е е е е е е е е е е е е е е е е е е е е е е е е е е е е е е е е е е е е е е\n",
      "🔸 Reference: みんなここに置いてくださいと書いてありました\n"
     ]
    },
    {
     "name": "stderr",
     "output_type": "stream",
     "text": [
      "\r",
      " 43%|████▎     | 43/100 [02:19<04:33,  4.79s/it]"
     ]
    },
    {
     "name": "stdout",
     "output_type": "stream",
     "text": [
      "🔹 Predicted:  اگر آپ کو ایک ایک ایک ایک ایک ایک ایک ایک ایک ایک ایک ایک ایک ایک ایک ایک ایک ایک ایک ایک ایک ایک ایک ایک ایک ایک ایک ایک ایک ایک ایک ایک ایک ایک ایک ایک ایک ایک ایک ایک ایک ایک ایک ایک ایک ایک ایک ایک ایک ایک ایک ایک ایک ایک ایک ایک ایک ایک ایک ایک ایک ایک ایک ایک ایک ایک ایک ایک ایک ایک ایک ایک ایک ایک ایک ایک ایک ایک ایک ایک ایک ایک ایک ایک ایک ایک ایک ایک ایک ایک ایک ایک ایک ایک ایک ایک ایک ایک ایک ایک ایک ایک ایک ایک ایک ایک ایک ایک ایک ایک ایک ایک ایک ایک ایک ایک ایک ایک ایک ایک ایک ایک ایک ایک ایک ایک ایک ایک ایک ایک ایک ایک ایک ایک ایک ایک ایک ایک ایک ایک ایک ایک ایک ایک ایک ایک ایک ایک ایک ایک ایک ایک ایک ایک ایک ایک ایک ایک ایک ایک ایک ایک ایک ایک ایک ایک ایک ایک ایک ایک ایک ایک ایک ایک ایک ایک ایک ایک ایک ایک ایک ایک ایک ایک ایک ایک ایک ایک ایک ایک ایک ایک ایک ایک ایک ایک ایک ایک ایک ایک ایک ایک ایک ایک ایک ایک ایک ایک ایک ایک ایک ایک ایک ایک ایک ایک ایک ایک ایک ا\n",
      "🔸 Reference: どうだ、とるか\n"
     ]
    },
    {
     "name": "stderr",
     "output_type": "stream",
     "text": [
      " 45%|████▌     | 45/100 [02:19<02:15,  2.47s/it]"
     ]
    },
    {
     "name": "stdout",
     "output_type": "stream",
     "text": [
      "🔹 Predicted:  Върърваме елзирателяме елзирателяме елзирателяме.\n",
      "🔸 Reference: 空き地を埋めていった\n",
      "🔹 Predicted:  کیا ہے؟\n",
      "🔸 Reference: しかもあとで聞くとそれは書生という人間中で一番獰悪な種族であったそうだ\n"
     ]
    },
    {
     "name": "stderr",
     "output_type": "stream",
     "text": [
      "\r",
      " 46%|████▌     | 46/100 [02:24<02:52,  3.20s/it]"
     ]
    },
    {
     "name": "stdout",
     "output_type": "stream",
     "text": [
      "🔹 Predicted:  Въръръв е не е не е е не е е е е е е е е е е е е е е е е е е е е е е е е е е е е е е е е е е е е е е е е е е е е е е е е е е е е е е е е е е е е е е е е е е е е е е е е е е е е е е е е е е е е е е е е е е е е е е е е е е е е е е е е е е е е е е е е е е е е е е е е е е е е е е е е е е е е е е е е е е е е е е е е е е е е е е е е е е е е е е е е е е е е е е е е е е е е е е е е е е е е е е е е е е е е е е е е е е е е е е е е е е е е е е е е е е е е е е е е е е е е е е е е е е е е е е е е е е е е е е е е е е е е е е е е е е е е е е е е е е е е е е е е е е е е е е е е е е е е е е е е е е е е е е е е е е е е е е е е е е е е е е е е е е е е е е е е е е е е е е е е е е е е е е е е е е е е е е е е е е е е е е е е е е е е е е е е е е е е е е е е е е е е е е е е е е е е е е е е е е е е е е е е е е е е е е е е е е е е е е е е е е е е е е е е е е е е е е е е е е е е е е е е е е е е е е\n",
      "🔸 Reference: 欲しいキャラが出ない\n"
     ]
    },
    {
     "name": "stderr",
     "output_type": "stream",
     "text": [
      "\r",
      " 47%|████▋     | 47/100 [02:29<03:18,  3.74s/it]"
     ]
    },
    {
     "name": "stdout",
     "output_type": "stream",
     "text": [
      "🔹 Predicted:  Въръртваме елзирателяме елзирателяме елзирателяме елзирателяме елзирателяме елзирателяме елзирателяме елзирателяме елзирателяме елзирателяме елзирателяме елзирателяме елзирателяме елзирателяме елзирателяме елзирателяме елзирателяме елзирателяме елзирателяме елзирателяме елзирателяме елзирателяме елзирателяме елзирателяме елзирателяме елзирателяме елзирателяме елзирателяме елзирателяме елзирателяме елзирателяме елзирателяме елзирателяме елзирателяме елзирателяме елзирателяме елзирателяме елзирателяме елзирателяме елзирателяме елзирателяме елзирателяме елзирателяме елзирателяме елзирателяме елзирателяме елзирателяме елзирателяме елзирателяме елзирателяме елзирателяме елзирателяме елзирателяме елзирателяме елз\n",
      "🔸 Reference: 大量の睡眠薬を飲んだ猫のようにじっとする\n"
     ]
    },
    {
     "name": "stderr",
     "output_type": "stream",
     "text": [
      "\r",
      " 48%|████▊     | 48/100 [02:34<03:32,  4.09s/it]"
     ]
    },
    {
     "name": "stdout",
     "output_type": "stream",
     "text": [
      "🔹 Predicted:  Въръртваме елзирателяме елзирателяме елзирателяме елзирателяме елзирателяме елзирателяме елзирателяме елзирателяме елзирателяме елзирателяме елзирателяме елзирателяме елзирателяме елзирателяме елзирателяме елзирателяме елзирателяме елзирателяме елзирателяме елзирателяме елзирателяме елзирателяме елзирателяме елзирателяме елзирателяме елзирателяме елзирателяме елзирателяме елзирателяме елзирателяме елзирателяме елзирателяме елзирателяме елзирателяме елзирателяме елзирателяме елзирателяме елзирателяме елзирателяме елзирателяме елзирателяме елзирателяме елзирателяме елзирателяме елзирателяме елзирателяме елзирателяме елзирателяме елзирателяме елзирателяме елзирателяме елзирателяме елзирателяме елзирателяме елз\n",
      "🔸 Reference: 他のチャンネルも似たようなドラマかワイドショーが流れていた\n"
     ]
    },
    {
     "name": "stderr",
     "output_type": "stream",
     "text": [
      "\r",
      " 49%|████▉     | 49/100 [02:39<03:40,  4.32s/it]"
     ]
    },
    {
     "name": "stdout",
     "output_type": "stream",
     "text": [
      "🔹 Predicted:  प्व़़़ लिव़ लिव़ लिव़ लिव़ लिव़ लिव़ लिव़ लिव़ लिव़ लिव़ लिव़ लिव़ लिव़ लिव़ लिव़ लिव़ लिव़ लिव़़ लिव़ लिव़़ लिव़़ लिव़़ लिव़़ लिव़़ लिव़़ लिव़़ लिव़़ लिव़़ लिव़़ लिव़़ लिव़़़ लिव़़ लिव़़़ लिव़़ लिव़़़ लिव़़़ लिव़़़ लिव़़़ लिव़़़ लिव़़ लिव़़़ लिव़़़ लिव़़़़़ लिव़़़़ लिव़़़़़ लिव़़़़़़़ व़़़़�\n",
      "🔸 Reference: 滋賀県甲賀市\n"
     ]
    },
    {
     "name": "stderr",
     "output_type": "stream",
     "text": [
      "\r",
      " 50%|█████     | 50/100 [02:40<02:37,  3.15s/it]"
     ]
    },
    {
     "name": "stdout",
     "output_type": "stream",
     "text": [
      "🔹 Predicted:  ஏன்றுவில்லையும் போக்கிறாய்விற்கும்.\n",
      "🔸 Reference: まれにみる文理両方をかねた人でした\n"
     ]
    },
    {
     "name": "stderr",
     "output_type": "stream",
     "text": [
      "\r",
      " 51%|█████     | 51/100 [02:45<03:01,  3.70s/it]"
     ]
    },
    {
     "name": "stdout",
     "output_type": "stream",
     "text": [
      "🔹 Predicted:  ایک ایک ایک ایک ایک ایک ایک ایک ایک ایک ایک ایک ایک ایک ایک ایک ایک ایک ایک ایک ایک ایک ایک ایک ایک ایک ایک ایک ایک ایک ایک ایک ایک ایک ایک ایک ایک ایک ایک ایک ایک ایک ایک ایک ایک ایک ایک ایک ایک ایک ایک ایک ایک ایک ایک ایک ایک ایک ایک ایک ایک ایک ایک ایک ایک ایک ایک ایک ایک ایک ایک ایک ایک ایک ایک ایک ایک ایک ایک ایک ایک ایک ایک ایک ایک ایک ایک ایک ایک ایک ایک ایک ایک ایک ایک ایک ایک ایک ایک ایک ایک ایک ایک ایک ایک ایک ایک ایک ایک ایک ایک ایک ایک ایک ایک ایک ایک ایک ایک ایک ایک ایک ایک ایک ایک ایک ایک ایک ایک ایک ایک ایک ایک ایک ایک ایک ایک ایک ایک ایک ایک ایک ایک ایک ایک ایک ایک ایک ایک ایک ایک ایک ایک ایک ایک ایک ایک ایک ایک ایک ایک ایک ایک ایک ایک ایک ایک ایک ایک ایک ایک ایک ایک ایک ایک ایک ایک ایک ایک ایک ایک ایک ایک ایک ایک ایک ایک ایک ایک ایک ایک ایک ایک ایک ایک ایک ایک ایک ایک ایک ایک ایک ایک ایک ایک ایک ایک ایک ایک ایک ایک ایک ایک ایک ایک ایک ایک ایک ایک ایک ایک ایک\n",
      "🔸 Reference: 技術的に作られたものはすべて形をもっている。\n"
     ]
    },
    {
     "name": "stderr",
     "output_type": "stream",
     "text": [
      "\r",
      " 52%|█████▏    | 52/100 [02:49<03:14,  4.06s/it]"
     ]
    },
    {
     "name": "stdout",
     "output_type": "stream",
     "text": [
      "🔹 Predicted:  प्व़़़ प़़् प़़् पु़़ प़़् प़़् प़़् प़़् प़़् प़़् प़़् प़़् प़़् प़़् प़़् प़़् प़़् प़़् प़़् प़़् प़़् प़़् प़़् प़़् प़़् प़़् प़़् प़़् प़़् प़़् प़़् प़़् प़़् प़़् प़़् प़़् प़़् प़़् प़़् प़़् प़़् प़़् प़़् प़़् प़़् प़़् प़़् प़़् प़़् प़़् प़़् प़़् प़़् प़़् प़़् प़़् प़़् प़़् प़़् प़़् प़़् प़़् प़्\n",
      "🔸 Reference: 勝とうが負けようが点がじゃんじゃん入る試合なら満足です\n"
     ]
    },
    {
     "name": "stderr",
     "output_type": "stream",
     "text": [
      " 54%|█████▍    | 54/100 [02:50<01:37,  2.13s/it]"
     ]
    },
    {
     "name": "stdout",
     "output_type": "stream",
     "text": [
      "🔹 Predicted:  ஏன்று நில்லையும் போக்கிறாய் அல்லவா?\n",
      "🔸 Reference: 京都府精華町\n",
      "🔹 Predicted:  சکھے پر کھناہے\n",
      "🔸 Reference: 岡山県井原市\n"
     ]
    },
    {
     "name": "stderr",
     "output_type": "stream",
     "text": [
      " 56%|█████▌    | 56/100 [02:55<01:32,  2.11s/it]"
     ]
    },
    {
     "name": "stdout",
     "output_type": "stream",
     "text": [
      "🔹 Predicted:  पादेदे लिवादे लिवादे लिवादे लिवादे लिवादे लिवादे लिवादे लिवादे लिवादे लिवादे लिवादे लिवादे लिवादे लिवादे लिवादे लिवादे लिवादे लिवादे लिवादे नहीं नहीं नहीं वादे नहीं नहीं तो बादे नहीं नहीं नहीं नहीं नहीं नहीं नहीं नहीं नहीं नहीं नहीं नहीं नहीं नहीं नहीं नहीं नहीं नहीं नहीं नहीं नहीं नहीं नहीं नहीं नहीं नहीं नहीं नहीं नहीं नहीं नहीं नहीं नहीं नहीं नहीं नहीं नहीं नहीं नहीं नहीं नहीं नहीं नहीं नहीं नही\n",
      "🔸 Reference: 岐阜県羽島市\n",
      "🔹 Predicted:  2.5%\n",
      "🔸 Reference: 映像作品は個人でここまで作れる時代になったんだな\n"
     ]
    },
    {
     "name": "stderr",
     "output_type": "stream",
     "text": [
      "\r",
      " 57%|█████▋    | 57/100 [03:00<02:06,  2.95s/it]"
     ]
    },
    {
     "name": "stdout",
     "output_type": "stream",
     "text": [
      "🔹 Predicted:  ایک کچھا کچھ کچھ کچھ کچھ کچھ کچھ کچھ کچھ کچھ کچھ کچھ کچھ کچھ کچھ کچھ کچھ کچھ کچھ کچھ کچھ کچھ کچھ کچھ کچھ کچھ کچھ کچھ کچھ کچھ کچھ کچھ کچھ کچھ کچھ کچھ کچھ کچھ کچھ کچھ کچھ کچھ کچھ کچھ کچھ کچھ کچھ کچھ کچھ کچھ کچھ کچھ کچھ کچھ کچھ کچھ کچھ کچھ کچھ کچھ کچھ کچھ کچھ کچھ کچھ کچھ کچھ کچھ کچھ کچھ کچھ کچھ کچھ کچھ کچھ کچھ کچھ کچھ کچھ کچھ کچھ کچھ کچھ کچھ کچھ کچھ کچھ کچھ کچھ کچھ کچھ کچھ کچھ کچھ کچھ کچھ کچھ کچھ کچھ کچھ کچھ کچھ کچھ کچھ کچھ کچھ کچھ کچھ کچھ کچھ کچھ کچھ کچھ کچھ کچھ کچھ کچھ کچھ کچھ کچھ کچھ کچھ کچھ کچھ کچھ کچھ کچھ کچھ کچھ کچھ کچھ کچھ کچھ کچھ کچھ کچھ کچھ کچھ کچھ کچھ کچھ کچھ کچھ کچھ کچھ کچھ کچھ\n",
      "🔸 Reference: まだ残っていたんだ、僕は指先でそっとシールに触れる\n"
     ]
    },
    {
     "name": "stderr",
     "output_type": "stream",
     "text": [
      " 59%|█████▉    | 59/100 [03:05<01:43,  2.51s/it]"
     ]
    },
    {
     "name": "stdout",
     "output_type": "stream",
     "text": [
      "🔹 Predicted:  ایک ایک ایک ایک ایک ایک ایک ایک ایک ایک ایک ایک ایک ایک ایک ایک ایک ایک ایک ایک ایک ایک ایک ایک ایک ایک ایک ایک ایک ایک ایک ایک ایک ایک ایک ایک ایک ایک ایک ایک ایک ایک ایک ایک ایک ایک ایک ایک ایک ایک ایک ایک ایک ایک ایک ایک ایک ایک ایک ایک ایک ایک ایک ایک ایک ایک ایک ایک ایک ایک ایک ایک ایک ایک ایک ایک ایک ایک ایک ایک ایک ایک ایک ایک ایک ایک ایک ایک ایک ایک ایک ایک ایک ایک ایک ایک ایک ایک ایک ایک ایک ایک ایک ایک ایک ایک ایک ایک ایک ایک ایک ایک ایک ایک ایک ایک ایک ایک ایک ایک ایک ایک ایک ایک ایک ایک ایک ایک ایک ایک ایک ایک ایک ایک ایک ایک ایک ایک ایک ایک ایک ایک ایک ایک ایک ایک ایک ایک ایک ایک ایک ایک ایک ایک ایک ایک ایک ایک ایک ایک ایک ایک ایک ایک ایک ایک ایک ایک ایک ایک ایک ایک ایک ایک ایک ایک ایک ایک ایک ایک ایک ایک ایک ایک ایک ایک ایک ایک ایک ایک ایک ایک ایک ایک ایک ایک ایک ایک ایک ایک ایک ایک ایک ایک ایک ایک ایک ایک ایک ایک ایک ایک ایک ایک ایک ایک ایک ایک ایک ایک ایک ایک\n",
      "🔸 Reference: エクアドルの首都はキトである\n",
      "🔹 Predicted:  [Pause]\n",
      "🔸 Reference: 異臭を放つ煙がすき間から入りこんでくる\n"
     ]
    },
    {
     "name": "stderr",
     "output_type": "stream",
     "text": [
      "\r",
      " 60%|██████    | 60/100 [03:10<02:09,  3.24s/it]"
     ]
    },
    {
     "name": "stdout",
     "output_type": "stream",
     "text": [
      "🔹 Predicted:  کیا کہاں کچھا کہاں کچھا کہاں کچھا کہاں کچھا کہاں کچھا کہاں کچھا کہاں کچھا کہاں کچھا کہاں کچھا کہاں کچھا کہاں کچھا کہاں کچھا کہاں کچھا کہاں کچھا کہاں کچھا کہاں کچھا کہاں کچھا کہاں کچھا کہاں کچھا کہاں کچھا کہاں کچھا کہاں کچھا کہاں کچھا کہاں کچھا کہاں کچھا کہاں کچھا کہاں کچھا کہاں کچھا کہاں کچھا کہاں کچھا کہاں کچھا کہاں کچھا کہاں کچھا کہاں کچھا کہاں کچھا کہاں کچھا کہاں کچھا کہاں کچھا کہاں کچھا کہاں کچھا کہاں کچھا کہاں کچھا کہاں کچھا کہاں کچھا کہاں کچھا کہاں کچھا کہاں کچھا کہاں کچھا کہاں کچھا کہاں کچھا کہاں کچھا کہاں کچھا کہاں کچھا کہاں کچھا کہاں کچھا کہاں کچھا کہاں کچھا کہاں کچھا کہاں کچھا کہاں کچھا کہاں کچھا کہاں کچھا کہاں کچھا کہ\n",
      "🔸 Reference: 形成するとは物を作ることであり、物を作るとは物に形を与えること、その形を変えて新しい形のものにすることである。\n"
     ]
    },
    {
     "name": "stderr",
     "output_type": "stream",
     "text": [
      " 62%|██████▏   | 62/100 [03:11<01:05,  1.73s/it]"
     ]
    },
    {
     "name": "stdout",
     "output_type": "stream",
     "text": [
      "🔹 Predicted:  Сърънърт с тъп с тъп с тъп с тябва кън с тябва кън.\n",
      "🔸 Reference: それが我々の性格とか個性とかいうものである。\n",
      "🔹 Predicted:  ہمیں گی ہے\n",
      "🔸 Reference: 東京都国分寺市\n"
     ]
    },
    {
     "name": "stderr",
     "output_type": "stream",
     "text": [
      "\r",
      " 63%|██████▎   | 63/100 [03:11<00:53,  1.44s/it]"
     ]
    },
    {
     "name": "stdout",
     "output_type": "stream",
     "text": [
      "🔹 Predicted:  ہمیں گی ہے کہ ہمیں کچھا کچھ ہم کچھ کچھ ہم اگر کچھ ہم اگر کچھا کچھ ہم اگر کچھ ہم اگر کچھ ہم اگر\n",
      "🔸 Reference: 買う人がいるから作られる\n"
     ]
    },
    {
     "name": "stderr",
     "output_type": "stream",
     "text": [
      " 65%|██████▌   | 65/100 [03:12<00:28,  1.23it/s]"
     ]
    },
    {
     "name": "stdout",
     "output_type": "stream",
     "text": [
      "🔹 Predicted:  அہویز ہم ایک ایک ایک ایک ایک ایک ایک ایک ایک\n",
      "🔸 Reference: ヨルダンの首都はアンマンである\n",
      "🔹 Predicted:  ہمیں گی ہے\n",
      "🔸 Reference: 何かルールでも変わったのか\n"
     ]
    },
    {
     "name": "stderr",
     "output_type": "stream",
     "text": [
      "\r",
      " 66%|██████▌   | 66/100 [03:12<00:20,  1.67it/s]"
     ]
    },
    {
     "name": "stdout",
     "output_type": "stream",
     "text": [
      "🔹 Predicted:  [Music]\n",
      "🔸 Reference: 五ミリ程度の小さい傷、でも、それは心臓のそばにあって無視できない傷でもあった\n"
     ]
    },
    {
     "name": "stderr",
     "output_type": "stream",
     "text": [
      "\r",
      " 67%|██████▋   | 67/100 [03:17<01:02,  1.89s/it]"
     ]
    },
    {
     "name": "stdout",
     "output_type": "stream",
     "text": [
      "🔹 Predicted:  அگر آپ کو کچھا آپ کو اگر آپ کو اگر آپ کو اگر آپ کو اگر آپ کو اگر آپ کو اگر آپ کو اگر آپ کو اگر آپ کو اگر آپ کو اگر آپ کو اگر آپ کو اگر آپ کو اگر آپ کو اگر آپ کو اگر آپ کو اگر آپ کو اگر آپ کو اگر آپ کو اگر آپ کو اگر آپ کو اگر آپ کو اگر آپ کو اگر آپ کو اگر آپ کو اگر آپ کو اگر آپ کو اگر آپ کو اگر آپ کو اگر آپ کو اگر آپ کو اگر آپ کو اگر آپ کو اگر آپ کو اگر آپ کو اگر آپ کو اگر آپ کو اگر آپ کو اگر آپ کو اگر آپ کو اگر آپ کو اگر آپ کو اگر آپ کو اگر آپ کو اگر آپ کو اگر آپ کو اگر آپ کو اگر آپ کو اگر آپ کو اگر آپ کو اگر آپ کو اگر آپ کو اگر آپ کو اگر آپ کو اگر آپ کو اگر آپ کو اگر آپ کو اگر آپ کو اگر آپ کو اگر آپ کو اگر آپ کو اگر آپ کو اگر آپ کو اگر آپ کو اگر آپ کو اگر آپ کو اگر آپ کو اگر آپ کو اگر آپ کو اگر آپ کو اگر آپ کو اگر آپ کو اگر آپ کو اگر آپ کو اگر آپ کو اگر آپ کو اگر آپ کو اگر آپ کو اگر آپ کو اگر آپ کو اگر آپ کو اگر آپ کو اگر آپ کو اگر آپ کو اگر آپ کو اگر آپ کو اگر آپ کو اگر\n",
      "🔸 Reference: やっぱり異常だよ\n"
     ]
    },
    {
     "name": "stderr",
     "output_type": "stream",
     "text": [
      "\r",
      " 68%|██████▊   | 68/100 [03:17<00:46,  1.47s/it]"
     ]
    },
    {
     "name": "stdout",
     "output_type": "stream",
     "text": [
      "🔹 Predicted:  ہمیں گی ہے کہ ہمیں ایک کچھا کچھ کچھ کچھا کچھا کچھا کچھا\n",
      "🔸 Reference: ふてくされて投げやりになるのをおさえる\n"
     ]
    },
    {
     "name": "stderr",
     "output_type": "stream",
     "text": [
      "\r",
      " 69%|██████▉   | 69/100 [03:18<00:35,  1.15s/it]"
     ]
    },
    {
     "name": "stdout",
     "output_type": "stream",
     "text": [
      "🔹 Predicted:  சنگیزیزی کچھا کچھا کچھا کچھا کچھا کچھا\n",
      "🔸 Reference: スマホのバッテリーの劣化が早くて買い替えを検討してる\n"
     ]
    },
    {
     "name": "stderr",
     "output_type": "stream",
     "text": [
      "\r",
      " 70%|███████   | 70/100 [03:23<01:08,  2.27s/it]"
     ]
    },
    {
     "name": "stdout",
     "output_type": "stream",
     "text": [
      "🔹 Predicted:  Въръртваме елзирателяме елзирателяме елзирателяме елзирателяме елзирателяме елзирателяме елзирателяме елзирателяме елзирателяме елзирателяме елзирателяме елзирателяме елзирателяме елзирателяме елзирателяме елзирателяме елзирателяме елзирателяме елзирателяме елзирателяме елзирателяме елзирателяме елзирателяме елзирателяме елзирателяме елзирателяме елзирателяме елзирателяме елзирателяме елзирателяме елзирателяме елзирателяме елзирателяме елзирателяме елзирателяме елзирателяме елзирателяме елзирателяме елзирателяме елзирателяме елзирателяме елзирателяме елзирателяме елзирателяме елзирателяме елзирателяме елзирателяме елзирателяме елзирателяме елзирателяме елзирателяме елзирателяме елзирателяме елзирателяме елз\n",
      "🔸 Reference: 私の意識現象が多なると共に私の意識として一であるというのは、右の如き意昧においての矛盾的自己同一でなければならない。\n"
     ]
    },
    {
     "name": "stderr",
     "output_type": "stream",
     "text": [
      "\r",
      " 71%|███████   | 71/100 [03:27<01:28,  3.06s/it]"
     ]
    },
    {
     "name": "stdout",
     "output_type": "stream",
     "text": [
      "🔹 Predicted:  प्व़़़ लिव़ प़़् लिव़़ प़़् लिव़ प़़् प़़् प़़् प़़् प़़् प़़् प़़् प़़् प़़् प़़् प़़् प़़् प़़् प़़् प़़् प़़् प़़् प़़् प़़् प़़् प़़् प़़् प़़़् प़़् प़़् प़़् प़़् प़़् प़़् प़़् प़़् प़़् प़़् प़़् प़़् प़़् प़़् प़़् प़़़् प़़़् प़़् प़़् प़़् प़़् प़़् प़़् प़़् प़़़् प़़् प़़् प़़् प़़़् प़़् प़़् प़़्�\n",
      "🔸 Reference: リモート仕様にする必要がある\n"
     ]
    },
    {
     "name": "stderr",
     "output_type": "stream",
     "text": [
      "\r",
      " 72%|███████▏  | 72/100 [03:32<01:41,  3.62s/it]"
     ]
    },
    {
     "name": "stdout",
     "output_type": "stream",
     "text": [
      "🔹 Predicted:  प्व़़़ प़़् पु़़़ पु़़ पु़़़ पु़़़ पु़़़ पु़़़ पु़़़ पु़़़ पु़़़ पु़़़ पु़़़ पु़़़़ पु़़़़ पु़़़़ पु़़़़ पु़़़ पु़़़़़ पु़़़़़ पु़़़़़ पु़़़़़ पु़़़़़़़ पु़़़़़़़ पु़़़़़़़़़़़ पु़़़़़़़़़़़़़़़़़़़़़़़़़़़़़़़़़़़़़़़़़़़़़़़़़़़़़़़़़़़़़़़़़़़़़\n",
      "🔸 Reference: 作り置きして時間を節約する\n"
     ]
    },
    {
     "name": "stderr",
     "output_type": "stream",
     "text": [
      "\r",
      " 73%|███████▎  | 73/100 [03:37<01:47,  3.99s/it]"
     ]
    },
    {
     "name": "stdout",
     "output_type": "stream",
     "text": [
      "🔹 Predicted:  प्व़़़ लिव़ लिव़़ लिव़ लिव़ लिव़ लिव़ लिव़ लिव़ लिव़ लिव़ लिव़़ लिव़ लिव़ लिव़़ लिव़़ लिव़़ लिव़़ लिव़़ लिव़़ लिव़़ लिव़़ लिव़़ लिव़़ लिव़़ लिव़़ लिव़़ लिव़़ लिव़़़ लिव़़़ लिव़़ लिव़़़ लिव़़़ लिव़़़ लिव़़़़ लिव़़़़ लिव़़़़ लिव़़़़़ लिव़़़़़़ लिव़़़़़़़़़़़़़़़़़़़़़़़़़़़़़़़़़़़़\n",
      "🔸 Reference: デビューするやたちまち大ヒット\n"
     ]
    },
    {
     "name": "stderr",
     "output_type": "stream",
     "text": [
      "\r",
      " 74%|███████▍  | 74/100 [03:38<01:15,  2.89s/it]"
     ]
    },
    {
     "name": "stdout",
     "output_type": "stream",
     "text": [
      "🔹 Predicted:  Върде елзирателно е на това елзирателно.\n",
      "🔸 Reference: 欲求的なる身体的存在としても、我々は既にかかる自己矛盾的存在であるのである。\n"
     ]
    },
    {
     "name": "stderr",
     "output_type": "stream",
     "text": [
      "\r",
      " 75%|███████▌  | 75/100 [03:43<01:27,  3.50s/it]"
     ]
    },
    {
     "name": "stdout",
     "output_type": "stream",
     "text": [
      "🔹 Predicted:  प्व़़़ लिव़ लिव़़ लिव़़ लिव़ व़़ व़ व़़ व़ व़़ व़ व़़ व़ व़़ व़ व़ व़ व़़ व़ व़ व़ व़ व़ व़ व़ व़ व़ व़ व़ व़ व़़ व़ व़ व़ व़ व़ व़ व़ व़ व़ व़ व़ व़ व़ व़ व़ व़ व़ व़ व़ व़ व़ व़ व़ व़ व़ व़ व़ व़ व़ व़ व़ व़ व़ व़ व़ व़ व़ व़ व़ व़ व़ व़ व़ व़ व़ व़ व़ व़ व़ व़ व़ व़ व़ व़ व़ व़ व़ व़ व़ व़ व़ व़ व़ व़ व़ व़ व़ व़ व़ व़ व�\n",
      "🔸 Reference: 長期的な影響はわからない\n"
     ]
    },
    {
     "name": "stderr",
     "output_type": "stream",
     "text": [
      "\r",
      " 76%|███████▌  | 76/100 [03:43<01:03,  2.63s/it]"
     ]
    },
    {
     "name": "stdout",
     "output_type": "stream",
     "text": [
      "🔹 Predicted:  ஏற்றுவு செல்லாம் செல்லாம் என்று செல்லாம் என்று செல்லாம்.\n",
      "🔸 Reference: すごい安いというわけでもないけど近くにあると助かる\n"
     ]
    },
    {
     "name": "stderr",
     "output_type": "stream",
     "text": [
      "\r",
      " 77%|███████▋  | 77/100 [03:48<01:16,  3.31s/it]"
     ]
    },
    {
     "name": "stdout",
     "output_type": "stream",
     "text": [
      "🔹 Predicted:  Върде е не е е не е е е е е е е е е е е е е е е е е е е е е е е е е е е е е е е е е е е е е е е е е е е е е е е е е е е е е е е е е е е е е е е е е е е е е е е е е е е е е е е е е е е е е е е е е е е е е е е е е е е е е е е е е е е е е е е е е е е е е е е е е е е е е е е е е е е е е е е е е е е е е е е е е е е е е е е е е е е е е е е е е е е е е е е е е е е е е е е е е е е е е е е е е е е е е е е е е е е е е е е е е е е е е е е е е е е е е е е е е е е е е е е е е е е е е е е е е е е е е е е е е е е е е е е е е е е е е е е е е е е е е е е е е е е е е е е е е е е е е е е е е е е е е е е е е е е е е е е е е е е е е е е е е е е е е е е е е е е е е е е е е е е е е е е е е е е е е е е е е е е е е е е е е е е е е е е е е е е е е е е е е е е е е е е е е е е е е е е е е е е е е е е е е е е е е е е е е е е е е е е е е е е е е е е е е е е е е е е е е е е е е е е е е е е е е е е е е е е\n",
      "🔸 Reference: 作られたものから作るものへということは、作られたものは、種から作られたものでありながら、\n"
     ]
    },
    {
     "name": "stderr",
     "output_type": "stream",
     "text": [
      "\r",
      " 78%|███████▊  | 78/100 [03:53<01:23,  3.79s/it]"
     ]
    },
    {
     "name": "stdout",
     "output_type": "stream",
     "text": [
      "🔹 Predicted:  प्व़़़ प़़् प़़् पु़़ प़़् प़़् प़़् प़़् प़़् प़़् प़़् प़़् प़़् प़़् प़़् प़़् प़़् प़़् प़़् प़़् प़़् प़़् प़़् प़़् प़़् प़़् प़़् प़़् प़़् प़़् प़़् प़़् प़़् प़़् प़़् प़़् प़़् प़़् प़़् प़़् प़़् प़़् प़़् प़़् प़़् प़़् प़़़् प़़् प़़् प़़् प़़् प़़् प़़् प़़् प़़् प़़् प़़् प़़् प़़् प़़् प़़् प़़् प्\n",
      "🔸 Reference: うまいけど手がギトギトになる\n"
     ]
    },
    {
     "name": "stderr",
     "output_type": "stream",
     "text": [
      "\r",
      " 79%|███████▉  | 79/100 [03:58<01:26,  4.14s/it]"
     ]
    },
    {
     "name": "stdout",
     "output_type": "stream",
     "text": [
      "🔹 Predicted:  प्व़़़ प़़् प़़् पु़़ प़़् प़़् प़़् प़़् प़़् प़़् प़़् प़़् प़़् प़़् प़़् प़़् प़़् प़़् प़़् प़़् प़़् प़़् प़़् प़़् प़़् प़़् प़़् प़़् प़़् प़़् प़़् प़़् प़़् प़़् प़़् प़़् प़़् प़़् प़़् प़़् प़़् प़़् प़़् प़़् प़़् प़़् प़़़् प़़् प़़् प़़् प़़् प़़् प़़् प़़् प़़् प़़् प़़् प़़् प़़् प़़् प़़् प़़् प्\n",
      "🔸 Reference: 今のはキーパーの責任じゃないよ\n"
     ]
    },
    {
     "name": "stderr",
     "output_type": "stream",
     "text": [
      "\r",
      " 80%|████████  | 80/100 [04:02<01:24,  4.20s/it]"
     ]
    },
    {
     "name": "stdout",
     "output_type": "stream",
     "text": [
      "🔹 Predicted:  पुज्व प्रदेखी बुज्व पर पुज्व पर पुज्व पर पुज्व पर पुज्व पर पुज्व पर पुज्व पर पुज्व पर पुज्व पर पुज्व पर पुज्व पर पुज्व पर पुज्व पर पुज्व पर पुज्व पर पुज्व पर पुज्व पर पुज्व पर पुज्व पर पुज्व पर पुज्व पर पुज्व पर पुज्व पर पुज्व पर पुज्व परपुव परपुव परपुव परपुव परपुव परपुव परपुवप परपुवपरपुव\n",
      "🔸 Reference: 賞味期限切れたヨーグルトを勇気出して食べる\n"
     ]
    },
    {
     "name": "stderr",
     "output_type": "stream",
     "text": [
      "\r",
      " 81%|████████  | 81/100 [04:07<01:22,  4.36s/it]"
     ]
    },
    {
     "name": "stdout",
     "output_type": "stream",
     "text": [
      "🔹 Predicted:  ہمیں گی ہے کہ ہمیں ایک ایک ایک ایک ایک ایک ایک ایک ایک ایک ایک ایک ایک ایک ایک ایک ایک ایک ایک ایک ایک ایک ایک ایک ایک ایک ایک ایک ایک ایک ایک ایک ایک ایک ایک ایک ایک ایک ایک ایک ایک ایک ایک ایک ایک ایک ایک ایک ایک ایک ایک ایک ایک ایک ایک ایک ایک ایک ایک ایک ایک ایک ایک ایک ایک ایک ایک ایک ایک ایک ایک ایک ایک ایک ایک ایک ایک ایک ایک ایک ایک ایک ایک ایک ایک ایک ایک ایک ایک ایک ایک ایک ایک ایک ایک ایک ایک ایک ایک ایک ایک ایک ایک ایک ایک ایک ایک ایک ایک ایک ایک ایک ایک ایک ایک ایک ایک ایک ایک ایک ایک ایک ایک ایک ایک ایک ایک ایک ایک ایک ایک ایک ایک ایک ایک ایک ایک ایک ایک ایک ایک ایک ایک ایک ایک ایک ایک ایک ایک ایک ایک ایک ایک ایک ایک ایک ایک ایک ایک ایک ایک ایک ایک ایک ایک ایک ایک ایک ایک ایک ایک ایک ایک ایک ایک ایک ایک ایک ایک ایک ایک ایک ایک ایک ایک ایک ایک ایک ایک ایک ایک ایک ایک ایک ایک ایک ایک ایک ایک ایک ایک ایک ایک ایک ایک ایک ایک ایک ایک ایک ایک ایک ایک ایک ایک ایک ایک\n",
      "🔸 Reference: 逆に我々は環境に作用するのである。\n"
     ]
    },
    {
     "name": "stderr",
     "output_type": "stream",
     "text": [
      "\r",
      " 82%|████████▏ | 82/100 [04:12<01:21,  4.51s/it]"
     ]
    },
    {
     "name": "stdout",
     "output_type": "stream",
     "text": [
      "🔹 Predicted:  प्व़़़ प़़् पु़़़ पु़़़ पु़़़ पु़़़ पु़़़ पु़़़ पु़़़ पु़़़ पु़़़ पु़़़ पु़़़ पु़़़़ पु़़़़ पु़़़़ पु़़़़ पु़़़़ पु़़़़ पु़़़़़ पु़़़़़ पु़़़़़़ू़़़ू़़ू़़ू़ू़ू़ू़ू़ू़ू़ू़ू़ू़ू़ू़ू़ू़ू़ू़ू़ू़ू़ू़ू़ू़ू़ू़ू़ू़ू़ू़ू़ू़ू़ू�ू�ू़ू�ू़ू़ू़ू़ू़ू�ू़ू�ू़ू़ू़�\n",
      "🔸 Reference: みんなが言うほどそれほど安くもない\n"
     ]
    },
    {
     "name": "stderr",
     "output_type": "stream",
     "text": [
      "\r",
      " 83%|████████▎ | 83/100 [04:17<01:18,  4.61s/it]"
     ]
    },
    {
     "name": "stdout",
     "output_type": "stream",
     "text": [
      "🔹 Predicted:  पादेदे आदे पादे पादे पादे पादे पादे पादे पादे पादे पादे पादे पादे पादे पादे पादे पादे पादे पादे पादे पादे पादे पादे पादे पादे पादे पादे पादे पादे पादे पादे पादे पादे पादे पादे पादे पादे पादे पादे पादे पादे पादे पादे पादे पादे पादे पादे पादे पादे पादे पादे पादे पादे पादे पादे पादे पादे पादे पादे पादे पादे पादे पादे पादे पादे पादे पादे पादे पादे पादे पादे पादे पादे पा�\n",
      "🔸 Reference: 我々の個人的自己に迫るものでなければならない。\n"
     ]
    },
    {
     "name": "stderr",
     "output_type": "stream",
     "text": [
      "\r",
      " 84%|████████▍ | 84/100 [04:17<00:53,  3.34s/it]"
     ]
    },
    {
     "name": "stdout",
     "output_type": "stream",
     "text": [
      "🔹 Predicted:  پیر کچھا کچھا کچھا کچھا کچھا کچھا\n",
      "🔸 Reference: 抽象論理の立場からは、矛盾するものが結合するとはいわれないであろう。\n"
     ]
    },
    {
     "name": "stderr",
     "output_type": "stream",
     "text": [
      " 86%|████████▌ | 86/100 [04:22<00:37,  2.69s/it]"
     ]
    },
    {
     "name": "stdout",
     "output_type": "stream",
     "text": [
      "🔹 Predicted:  ஏன்னுக்கும் போல்லையும் போல்லையும் ஓர்கள் ஓர்கள் ஓர்கள் ஓர்கள் ஓர்கள் ஓர்கள் ஓர்கள் ஓர்கள் ஓர்கள் ஓர்கள் ஓர்கள் ஓர்கள் ஓர்கள் ஓர்கள் ஓர்கள் ஓர்கள் ஓர்கள் ஓர்கள் ஓர்கள் ஓர்கள் ஓர்கள் ஓர்கள் ஓர்கள் ஓர்கள் ஓர்கள் ஓர்கள் ஓர்கள் ஓர்கள் ஓர்கள் ஓர்கள் ஓர்கள் ஓர்கள் ஓர்கள் ஓர்கள் ஓர்கள் ஓர்கள் ஓர்கள் ஓர்கள் ஓர்கள் ஓர்கள் ஓர்கள் ஓர்கள் ஓர்கள் ஓர்கள் ஓர்கள் ஓர்கள் ஓர்கள் ஓர்கள் ஓர்கள் ஓர்கள் ஓர்கள் ஓர்கள் ஓர்கள் ஓர்கள் ஓர்கள் ஓர்கள் ஓர்கள் ஓர்கள் ஓர்கள் ஓர்கள் ஓர்கள் ஓர்கள் ஓர்கள் ஓர்கள் ஓர்கள் ஓர்கள் ஓரகள் ஓர்கள் ஓர்கள\n",
      "🔸 Reference: ここの商店街もチェーン店が増えてきた\n",
      "🔹 Predicted:  [Police sirens]\n",
      "🔸 Reference: 名古屋市瑞穂区\n"
     ]
    },
    {
     "name": "stderr",
     "output_type": "stream",
     "text": [
      "\r",
      " 87%|████████▋ | 87/100 [04:27<00:43,  3.35s/it]"
     ]
    },
    {
     "name": "stdout",
     "output_type": "stream",
     "text": [
      "🔹 Predicted:  Въръртваме елзирателяме елзирателяме елзирателяме елзирателяме елзирателяме елзирателяме елзирателяме елзирателяме елзирателяме елзирателяме елзирателяме елзирателяме елзирателяме елзирателяме елзирателяме елзирателяме елзирателяме елзирателяме елзирателяме елзирателяме елзирателяме елзирателяме елзирателяме елзирателяме елзирателяме елзирателяме елзирателяме елзирателяме елзирателяме елзирателяме елзирателяме елзирателяме елзирателяме елзирателяме елзирателяме елзирателяме елзирателяме елзирателяме елзирателяме елзирателяме елзирателяме елзирателяме елзирателяме елзирателяме елзирателяме елзирателяме елзирателяме елзирателяме елзирателяме елзирателяме елзирателяме елзирателяме елзирателяме елзирателяме елз\n",
      "🔸 Reference: 岡山県赤磐市\n"
     ]
    },
    {
     "name": "stderr",
     "output_type": "stream",
     "text": [
      "\r",
      " 88%|████████▊ | 88/100 [04:32<00:45,  3.81s/it]"
     ]
    },
    {
     "name": "stdout",
     "output_type": "stream",
     "text": [
      "🔹 Predicted:  Въръв е не е не е е не е е е е е е е е е е е е е е е е е е е е е е е е е е е е е е е е е е е е е е е е е е е е е е е е е е е е е е е е е е е е е е е е е е е е е е е е е е е е е е е е е е е е е е е е е е е е е е е е е е е е е е е е е е е е е е е е е е е е е е е е е е е е е е е е е е е е е е е е е е е е е е е е е е е е е е е е е е е е е е е е е е е е е е е е е е е е е е е е е е е е е е е е е е е е е е е е е е е е е е е е е е е е е е е е е е е е е е е е е е е е е е е е е е е е е е е е е е е е е е е е е е е е е е е е е е е е е е е е е е е е е е е е е е е е е е е е е е е е е е е е е е е е е е е е е е е е е е е е е е е е е е е е е е е е е е е е е е е е е е е е е е е е е е е е е е е е е е е е е е е е е е е е е е е е е е е е е е е е е е е е е е е е е е е е е е е е е е е е е е е е е е е е е е е е е е е е е е е е е е е е е е е е е е е е е е е е е е е е е е е е е е е е е е е е е е е е\n",
      "🔸 Reference: 新潟市秋葉区\n"
     ]
    },
    {
     "name": "stderr",
     "output_type": "stream",
     "text": [
      " 90%|█████████ | 90/100 [04:37<00:29,  2.93s/it]"
     ]
    },
    {
     "name": "stdout",
     "output_type": "stream",
     "text": [
      "🔹 Predicted:  Въръртваме елзирателяме елзирателяме елзирателяме елзирателяме елзирателяме елзирателяме елзирателяме елзирателяме елзирателяме елзирателяме елзирателяме елзирателяме елзирателяме елзирателяме елзирателяме елзирателяме елзирателяме елзирателяме елзирателяме елзирателяме елзирателяме елзирателяме елзирателяме елзирателяме елзирателяме елзирателяме елзирателяме елзирателяме елзирателяме елзирателяме елзирателяме елзирателяме елзирателяме елзирателяме елзирателяме елзирателяме елзирателяме елзирателяме елзирателяме елзирателяме елзирателяме елзирателяме елзирателяме елзирателяме елзирателяме елзирателяме елзирателяме елзирателяме елзирателяме елзирателяме елзирателяме елзирателяме елзирателяме елзирателяме елз\n",
      "🔸 Reference: ああいう風雅なことがいまでも行なわれているのかどうかもしらず、\n",
      "🔹 Predicted:  ہمیں گی ہے\n",
      "🔸 Reference: 何でもいいから、笑わせておればいいのだ\n"
     ]
    },
    {
     "name": "stderr",
     "output_type": "stream",
     "text": [
      " 92%|█████████▏| 92/100 [04:42<00:20,  2.51s/it]"
     ]
    },
    {
     "name": "stdout",
     "output_type": "stream",
     "text": [
      "🔹 Predicted:  Върън е не е не е е не е е е е е е е е е е е е е е е е е е е е е е е е е е е е е е е е е е е е е е е е е е е е е е е е е е е е е е е е е е е е е е е е е е е е е е е е е е е е е е е е е е е е е е е е е е е е е е е е е е е е е е е е е е е е е е е е е е е е е е е е е е е е е е е е е е е е е е е е е е е е е е е е е е е е е е е е е е е е е е е е е е е е е е е е е е е е е е е е е е е е е е е е е е е е е е е е е е е е е е е е е е е е е е е е е е е е е е е е е е е е е е е е е е е е е е е е е е е е е е е е е е е е е е е е е е е е е е е е е е е е е е е е е е е е е е е е е е е е е е е е е е е е е е е е е е е е е е е е е е е е е е е е е е е е е е е е е е е е е е е е е е е е е е е е е е е е е е е е е е е е е е е е е е е е е е е е е е е е е е е е е е е е е е е е е е е е е е е е е е е е е е е е е е е е е е е е е е е е е е е е е е е е е е е е е е е е е е е е е е е е е е е е е е е е е е е е\n",
      "🔸 Reference: ただ彼の掌に載せられてスーと持ち上げられた時何だかフワフワした感じがあったばかりである\n",
      "🔹 Predicted:  کیا ہے\n",
      "🔸 Reference: 幕末の漢学者の塾に入れました\n",
      "🔹 Predicted:  کیا ہے\n",
      "🔸 Reference: 山口県山口市\n"
     ]
    },
    {
     "name": "stderr",
     "output_type": "stream",
     "text": [
      "\r",
      " 94%|█████████▍| 94/100 [04:42<00:08,  1.40s/it]"
     ]
    },
    {
     "name": "stdout",
     "output_type": "stream",
     "text": [
      "🔹 Predicted:  ہمیں گی ہے\n",
      "🔸 Reference: 君は図書館に行こうと思う、と声を上げた\n"
     ]
    },
    {
     "name": "stderr",
     "output_type": "stream",
     "text": [
      "\r",
      " 95%|█████████▌| 95/100 [04:47<00:11,  2.29s/it]"
     ]
    },
    {
     "name": "stdout",
     "output_type": "stream",
     "text": [
      "🔹 Predicted:  Въръв е не е не е е не е е е е е е е е е е е е е е е е е е е е е е е е е е е е е е е е е е е е е е е е е е е е е е е е е е е е е е е е е е е е е е е е е е е е е е е е е е е е е е е е е е е е е е е е е е е е е е е е е е е е е е е е е е е е е е е е е е е е е е е е е е е е е е е е е е е е е е е е е е е е е е е е е е е е е е е е е е е е е е е е е е е е е е е е е е е е е е е е е е е е е е е е е е е е е е е е е е е е е е е е е е е е е е е е е е е е е е е е е е е е е е е е е е е е е е е е е е е е е е е е е е е е е е е е е е е е е е е е е е е е е е е е е е е е е е е е е е е е е е е е е е е е е е е е е е е е е е е е е е е е е е е е е е е е е е е е е е е е е е е е е е е е е е е е е е е е е е е е е е е е е е е е е е е е е е е е е е е е е е е е е е е е е е е е е е е е е е е е е е е е е е е е е е е е е е е е е е е е е е е е е е е е е е е е е е е е е е е е е е е е е е е е е е е е е е е е\n",
      "🔸 Reference: 知り合ったときのことは忘れた\n"
     ]
    },
    {
     "name": "stderr",
     "output_type": "stream",
     "text": [
      "\r",
      " 96%|█████████▌| 96/100 [04:52<00:12,  3.02s/it]"
     ]
    },
    {
     "name": "stdout",
     "output_type": "stream",
     "text": [
      "🔹 Predicted:  प्व़़ लिग वो लिगवावा वो वो वो वो वो वो वो वो वो वो वो वो वो वो वो वो वो वो वो वो वो वो वो वो वो वो वो वो वो वो वो वो वो वो वो वो वो वो वो वो वो वो वो वो वो वो वो वो वो वो वो वो वो वो वो वो वो वो वो वो वो वो वो वो वो वो वो वो वो वो वो वो वो वो वो वो वो वो वो वो वो वो वो वो वो वो वो वो वो वो वो वो वो वो वो वो वो वो वो वो वो वो वो वो वो वो वो वो वो वो वो वो वो वो वो वो वो वो वो वो वो वो वो वो वो वो वो वो वो वो वो वो वो वो वो वो वो वो व\n",
      "🔸 Reference: どうも変な家だ\n"
     ]
    },
    {
     "name": "stderr",
     "output_type": "stream",
     "text": [
      "\r",
      " 97%|█████████▋| 97/100 [04:57<00:10,  3.55s/it]"
     ]
    },
    {
     "name": "stdout",
     "output_type": "stream",
     "text": [
      "🔹 Predicted:  Дърън не е върген с тук върген с тук върген с тук върген с тук върген с тук върген с тук върген с тук върген с тук върген с тук върген с тук върген с тук върген с тук върген с тук върген с тук върген с тук върген с тук върген с тук върген с тук върген с тук върген с тук върген с тук върген с тук върген с тук върген с тук върген с тук върген с тук върген с тук върген с тук върген с тук върген с тук върген с тук върген с тук върген с тук върген с тук върген с тук върген с тук върген с тук върген с тук върген с тук върген с тук върген с тук върген с тук върген с тук върген с тук върген с тук върген с тук върген с тук върген с тук върген с тук върген с тук върген с тук върген с тук върген с тук върген с тук върген\n",
      "🔸 Reference: どこか怪談じみた気味悪いものが感ぜられて来るのである\n"
     ]
    },
    {
     "name": "stderr",
     "output_type": "stream",
     "text": [
      " 99%|█████████▉| 99/100 [05:02<00:02,  2.84s/it]"
     ]
    },
    {
     "name": "stdout",
     "output_type": "stream",
     "text": [
      "🔹 Predicted:  ایک ایک ایک ایک ایک ایک ایک ایک ایک ایک ایک ایک ایک ایک ایک ایک ایک ایک ایک ایک ایک ایک ایک ایک ایک ایک ایک ایک ایک ایک ایک ایک ایک ایک ایک ایک ایک ایک ایک ایک ایک ایک ایک ایک ایک ایک ایک ایک ایک ایک ایک ایک ایک ایک ایک ایک ایک ایک ایک ایک ایک ایک ایک ایک ایک ایک ایک ایک ایک ایک ایک ایک ایک ایک ایک ایک ایک ایک ایک ایک ایک ایک ایک ایک ایک ایک ایک ایک ایک ایک ایک ایک ایک ایک ایک ایک ایک ایک ایک ایک ایک ایک ایک ایک ایک ایک ایک ایک ایک ایک ایک ایک ایک ایک ایک ایک ایک ایک ایک ایک ایک ایک ایک ایک ایک ایک ایک ایک ایک ایک ایک ایک ایک ایک ایک ایک ایک ایک ایک ایک ایک ایک ایک ایک ایک ایک ایک ایک ایک ایک ایک ایک ایک ایک ایک ایک ایک ایک ایک ایک ایک ایک ایک ایک ایک ایک ایک ایک ایک ایک ایک ایک ایک ایک ایک ایک ایک ایک ایک ایک ایک ایک ایک ایک ایک ایک ایک ایک ایک ایک ایک ایک ایک ایک ایک ایک ایک ایک ایک ایک ایک ایک ایک ایک ایک ایک ایک ایک ایک ایک ایک ایک ایک ایک ایک ایک ایک ایک ایک ایک ایک ایک\n",
      "🔸 Reference: 不意に人間のおそろしい正体を、怒りに依って暴露する様子を見て、\n",
      "🔹 Predicted: \n",
      "🔸 Reference: 人間のつましさに暗然とし、悲しい思いをしました\n"
     ]
    },
    {
     "name": "stderr",
     "output_type": "stream",
     "text": [
      "100%|██████████| 100/100 [05:07<00:00,  3.08s/it]"
     ]
    },
    {
     "name": "stdout",
     "output_type": "stream",
     "text": [
      "🔹 Predicted:  ہمیں گی ہے کہ ہمیں ایک کچھا کچھ کچھ کچھ کچھ کچھ کچھ کچھ کچھ کچھ کچھ کچھ کچھ کچھ کچھ کچھ کچھ کچھ کچھ کچھ کچھ کچھ کچھ کچھ کچھ کچھ کچھ کچھ کچھ کچھ کچھ کچھ کچھ کچھ کچھ کچھ کچھ کچھ کچھ کچھ کچھ کچھ کچھ کچھ کچھ کچھ کچھ کچھ کچھ کچھ کچھ کچھ کچھ کچھ کچھ کچھ کچھ کچھ کچھ کچھ کچھ کچھ کچھ کچھ کچھ کچھ کچھ کچھ کچھ کچھ کچھ کچھ کچھ کچھ کچھ کچھ کچھ کچھ کچھ کچھ کچھ کچھ کچھ کچھ کچھ کچھ کچھ کچھ کچھ کچھ کچھ کچھ کچھ کچھ کچھ کچھ کچھ کچھ کچھ کچھ کچھ کچھ کچھ کچھ کچھ کچھ کچھ کچھ کچھ کچھ کچھ کچھ کچھ کچھ کچھ کچھ کچھ کچھ کچھ کچھ کچھ کچھ کچھ کچھ کچھ کچھ کچھ کچھ کچھ کچھ کچھ کچھ کچھ کچھ کچھ کچھ کچھ کچھ کچھ کچھ کچھ کچھ کچھ کچ\n",
      "🔸 Reference: はてな何でも様子がおかしいと、のそのそ這い出して見ると非常に痛い\n",
      "✅ JA WER: 110.6800\n",
      "🌍 Language: de\n"
     ]
    },
    {
     "name": "stderr",
     "output_type": "stream",
     "text": [
      "\n",
      "  2%|▏         | 2/100 [00:00<00:20,  4.85it/s]"
     ]
    },
    {
     "name": "stdout",
     "output_type": "stream",
     "text": [
      "🔹 Predicted:  [Pause]\n",
      "🔸 Reference: Kanntest du das Gedicht schon?\n",
      "🔹 Predicted:  کیا ہے؟\n",
      "🔸 Reference: Hallo, möchten Sie auch zur Sprechstunde?\n"
     ]
    },
    {
     "name": "stderr",
     "output_type": "stream",
     "text": [
      "  4%|▍         | 4/100 [00:05<02:20,  1.47s/it]"
     ]
    },
    {
     "name": "stdout",
     "output_type": "stream",
     "text": [
      "🔹 Predicted:  Върън не е е не е е е е е е е е е е е е е е е е е е е е е е е е е е е е е е е е е е е е е е е е е е е е е е е е е е е е е е е е е е е е е е е е е е е е е е е е е е е е е е е е е е е е е е е е е е е е е е е е е е е е е е е е е е е е е е е е е е е е е е е е е е е е е е е е е е е е е е е е е е е е е е е е е е е е е е е е е е е е е е е е е е е е е е е е е е е е е е е е е е е е е е е е е е е е е е е е е е е е е е е е е е е е е е е е е е е е е е е е е е е е е е е е е е е е е е е е е е е е е е е е е е е е е е е е е е е е е е е е е е е е е е е е е е е е е е е е е е е е е е е е е е е е е е е е е е е е е е е е е е е е е е е е е е е е е е е е е е е е е е е е е е е е е е е е е е е е е е е е е е е е е е е е е е е е е е е е е е е е е е е е е е е е е е е е е е е е е е е е е е е е е е е е е е е е е е е е е е е е е е е е е е е е е е е е е е е е е е е е е е е е е е е е е е е е е е е е е е е\n",
      "🔸 Reference: Gott sei Dank haben wir noch ein letztes Ass im Ärmel.\n",
      "🔹 Predicted:  [Auropa]\n",
      "🔸 Reference: Wenn zu einem Passagierflugzeug der Funkkontakt abbricht, starten routinemäßig zwei Abfangjäger.\n",
      "🔹 Predicted:  [Music]\n",
      "🔸 Reference: Sie wurde der Heeresgruppe Linsingen unterstellt.\n"
     ]
    },
    {
     "name": "stderr",
     "output_type": "stream",
     "text": [
      "\r",
      "  6%|▌         | 6/100 [00:10<03:08,  2.01s/it]"
     ]
    },
    {
     "name": "stdout",
     "output_type": "stream",
     "text": [
      "🔹 Predicted:  Върън кън елзи с тъп с тъп с тъп с тъп с тъп с тъп с тъп с тъп с тъп с тъп с тъп с тъп с тъп с тъп с тъп с тъп с тъп с тъп с тъп с тъп с тъп с тъп с тъп с тъп с тъп с тъп с тъп с тъп с тъп с тъп с тъп с тъп с тъп с тъп с тъп с тъп с тъп с тъп с тъп с тъп с тъп с тъп с тъп с тъп с тъп с тъп с тъп с тъп с тъп с тъп с тъп с тъп с тъп с тъп с тъп с тъп с тъп с тъп с тъп с тъп с тъп с тъп с тъп с тъп с тъп с тъп с тъп с тъп с тъп с тъп с тъп с тъп с тъп с тъп с тъп с тъп с тъп с тъп с тъп с тъп с тъп с тъп с тъп с тъп с тъп с тъп с тъп с тъп с тъп с тъп с тъп с тъп с тъп с тъп с тъп с тъп с тъп с тъп с тъп с тъп с тъп с тъп с тъп с тъп с тъп с тъп с тъп с тъп\n",
      "🔸 Reference: Unter anderen Habseligkeiten ist dort ein Schwein auf dem Floß zu erkennen.\n"
     ]
    },
    {
     "name": "stderr",
     "output_type": "stream",
     "text": [
      "\r",
      "  7%|▋         | 7/100 [00:15<04:20,  2.80s/it]"
     ]
    },
    {
     "name": "stdout",
     "output_type": "stream",
     "text": [
      "🔹 Predicted:  Върън не е не е е не е е е е е е е е е е е е е е е е е е е е е е е е е е е е е е е е е е е е е е е е е е е е е е е е е е е е е е е е е е е е е е е е е е е е е е е е е е е е е е е е е е е е е е е е е е е е е е е е е е е е е е е е е е е е е е е е е е е е е е е е е е е е е е е е е е е е е е е е е е е е е е е е е е е е е е е е е е е е е е е е е е е е е е е е е е е е е е е е е е е е е е е е е е е е е е е е е е е е е е е е е е е е е е е е е е е е е е е е е е е е е е е е е е е е е е е е е е е е е е е е е е е е е е е е е е е е е е е е е е е е е е е е е е е е е е е е е е е е е е е е е е е е е е е е е е е е е е е е е е е е е е е е е е е е е е е е е е е е е е е е е е е е е е е е е е е е е е е е е е е е е е е е е е е е е е е е е е е е е е е е е е е е е е е е е е е е е е е е е е е е е е е е е е е е е е е е е е е е е е е е е е е е е е е е е е е е е е е е е е е е е е е е е е е е е е е е е\n",
      "🔸 Reference: Angrenzende Wiesen rechts der Ostrach wurden überflutet.\n"
     ]
    },
    {
     "name": "stderr",
     "output_type": "stream",
     "text": [
      "\r",
      "  8%|▊         | 8/100 [00:20<05:11,  3.39s/it]"
     ]
    },
    {
     "name": "stdout",
     "output_type": "stream",
     "text": [
      "🔹 Predicted:  کیا ہے کہ وہ کچھا کہاں ایک کچھ کچھ کچھ کچھا کہاں ایک کچھ کچھ کچھ کچھ کچھ کچھ کچھ کچھ کچھ کچھ کچھ کچھ کچھ کچھ کچھ کچھ کچھ کچھ کچھ کچھ کچھ کچھ کچھ کچھ کچھ کچھ کچھ کچھ کچھ کچھ کچھ کچھ کچھ کچھ کچھ کچھ کچھ کچھ کچھ کچھ کچھ کچھ کچھ کچھ کچھ کچھ کچھ کچھ کچھ کچھ کچھ کچھ کچھ کچھ کچھ کچھ کچھ کچھ کچھ کچھ کچھ کچھ کچھ کچھ کچھ کچھ کچھ کچھ کچھ کچھ کچھ کچھ کچھ کچھ کچھ کچھ کچھ کچھ کچھ کچھ کچھ کچھ کچھ کچھ کچھ کچھ کچھ کچھ کچھ کچھ کچھ کچھ کچھ کچھ کچھ کچھ کچھ کچھ کچھ کچھ کچھ کچھ کچھ کچھ کچھ کچھ کچھ کچھ کچھ کچھ کچھ کچھ کچھ کچھ کچھ کچھ کچھ کچھ کچھ کچھ کچھ کچھ کچھ کچھ کچھ کچھ کچھ کچھ کچھ کچھ کچھ کچھ کچھ کچھ کچھ کچھ کچھ ک\n",
      "🔸 Reference: Dadurch konnte jedes U-Boot zum Legen von Minen eingesetzt werden.\n"
     ]
    },
    {
     "name": "stderr",
     "output_type": "stream",
     "text": [
      " 10%|█         | 10/100 [00:20<02:43,  1.82s/it]"
     ]
    },
    {
     "name": "stdout",
     "output_type": "stream",
     "text": [
      "🔹 Predicted:  Върърт са елзи с тъп си сега елзи.\n",
      "🔸 Reference: Er verdiente sich selbst als Star noch Geld als Callboy.\n",
      "🔹 Predicted:  [Pause]\n",
      "🔸 Reference: In der mexikanischen Volksmedizin finden sich Traditionen der aztekischen Medizin.\n"
     ]
    },
    {
     "name": "stderr",
     "output_type": "stream",
     "text": [
      "\r",
      " 11%|█         | 11/100 [00:25<04:01,  2.72s/it]"
     ]
    },
    {
     "name": "stdout",
     "output_type": "stream",
     "text": [
      "🔹 Predicted:  کیا کہاں ایک کچھا کہاں ایک کچھا کہاں ایک کچھا کہاں ایک کچھا کہاں ایک کچھا کہاں ایک کچھا کہاں ایک کچھا کہاں ایک کچھا کہاں ایک کچھا کہاں ایک کچھا کہاں ایک کچھا کہاں ایک کچھا کہاں ایک کچھا کہاں ایک کچھا کہاں ایک کچھا کہاں ایک کچھا کہاں ایک کچھا کہاں ایک کچھا کہاں ایک کچھا کہاں ایک کچھا کہاں ایک کچھا کہاں ایک کچھا کہاں ایک کچھا کہاں ایک کچھا کہاں ایک کچھا کہاں ایک کچھا کہاں ایک کچھا کہاں ایک کچھا کہاں ایک کچھا کہاں ایک کچھا کہاں ایک کچھا کہاں ایک کچھا کہاں ایک کچھا کہاں ایک کچھا کہاں ایک کچھا کہاں ایک کچھا کہاں ایک کچھا کہاں ایک کچھا کہاں ایک کچھا کہاں ایک کچھا کہاں ایک کچھا کہاں ایک کچھا کہاں ایک کچھا کہاں ایک کچھا کہاں ایک کچھا کہاں ایک کچھا کہاں ایک کچھا کہاں ایک کچھا کہاں ایک کچھا کہ\n",
      "🔸 Reference: Dabei stieß er auf eine Gruppe, deren Periode ungewöhnlich langsam abnimmt.\n"
     ]
    },
    {
     "name": "stderr",
     "output_type": "stream",
     "text": [
      "\r",
      " 12%|█▏        | 12/100 [00:30<04:57,  3.38s/it]"
     ]
    },
    {
     "name": "stdout",
     "output_type": "stream",
     "text": [
      "🔹 Predicted:  کیا کہاں ایک کچھا کہاں ایک کچھا کہاں ایک کچھا کہاں ایک کچھا کہاں ایک کچھا کہاں ایک کچھا کہاں ایک کچھا کہاں ایک کچھا کہاں ایک کچھا کہاں ایک کچھا کہاں ایک کچھا کہاں ایک کچھا کہاں ایک کچھا کہاں ایک کچھا کہاں ایک کچھا کہاں ایک کچھا کہاں ایک کچھا کہاں ایک کچھا کہاں ایک کچھا کہاں ایک کچھا کہاں ایک کچھا کہاں ایک کچھا کہاں ایک کچھا کہاں ایک کچھا کہاں ایک کچھا کہاں ایک کچھا کہاں ایک کچھا کہاں ایک کچھا کہاں ایک کچھا کہاں ایک کچھا کہاں ایک کچھا کہاں ایک کچھا کہاں ایک کچھا کہاں ایک کچھا کہاں ایک کچھا کہاں ایک کچھا کہاں ایک کچھا کہاں ایک کچھا کہاں ایک کچھا کہاں ایک کچھا کہاں ایک کچھا کہاں ایک کچھا کہاں ایک کچھا کہاں ایک کچھا کہاں ایک کچھا کہاں ایک کچھا کہاں ایک کچھا کہاں ایک کچھا کہاں ایک کچھا کہ\n",
      "🔸 Reference: Quinn ahnt, dass Suzuki ein Geheimnis verbirgt.\n"
     ]
    },
    {
     "name": "stderr",
     "output_type": "stream",
     "text": [
      "\r",
      " 13%|█▎        | 13/100 [00:31<03:39,  2.52s/it]"
     ]
    },
    {
     "name": "stdout",
     "output_type": "stream",
     "text": [
      "🔹 Predicted:  کیاہاں کچھا کچھا کچھا کچھا کچھا کچھا کچھا کچھا\n",
      "🔸 Reference: Zwei weitere Kinder waren bereits vor Alberti verstorben.\n"
     ]
    },
    {
     "name": "stderr",
     "output_type": "stream",
     "text": [
      "\r",
      " 14%|█▍        | 14/100 [00:35<04:37,  3.23s/it]"
     ]
    },
    {
     "name": "stdout",
     "output_type": "stream",
     "text": [
      "🔹 Predicted:  کیا کہاں ایک کچھا کہاں ایک کچھا کہاں ایک کچھا کہاں ایک کچھا کہاں ایک کچھا کہاں ایک کچھا کہاں ایک کچھا کہاں ایک کچھا کہاں ایک کچھا کہاں ایک کچھا کہاں ایک کچھا کہاں ایک کچھا کہاں ایک کچھا کہاں ایک کچھا کہاں ایک کچھا کہاں ایک کچھا کہاں ایک کچھا کہاں ایک کچھا کہاں ایک کچھا کہاں ایک کچھا کہاں ایک کچھا کہاں ایک کچھا کہاں ایک کچھا کہاں ایک کچھا کہاں ایک کچھا کہاں ایک کچھا کہاں ایک کچھا کہاں ایک کچھا کہاں ایک کچھا کہاں ایک کچھا کہاں ایک کچھا کہاں ایک کچھا کہاں ایک کچھا کہاں ایک کچھا کہاں ایک کچھا کہاں ایک کچھا کہاں ایک کچھا کہاں ایک کچھا کہاں ایک کچھا کہاں ایک کچھا کہاں ایک کچھا کہاں ایک کچھا کہاں ایک کچھا کہاں ایک کچھا کہاں ایک کچھا کہاں ایک کچھا کہاں ایک کچھا کہاں ایک کچھا کہاں ایک کچھا کہ\n",
      "🔸 Reference: Die Einkünfte aus dem Sägewerk ermöglichten es Lorenc, als freier Schriftsteller tätig zu werden.\n"
     ]
    },
    {
     "name": "stderr",
     "output_type": "stream",
     "text": [
      "\r",
      " 15%|█▌        | 15/100 [00:40<05:17,  3.74s/it]"
     ]
    },
    {
     "name": "stdout",
     "output_type": "stream",
     "text": [
      "🔹 Predicted:  ہمیں گی ہے کہ ہمیں ایک ایک ایک ایک ایک ایک ایک ایک ایک ایک ایک ایک ایک ایک ایک ایک ایک ایک ایک ایک ایک ایک ایک ایک ایک ایک ایک ایک ایک ایک ایک ایک ایک ایک ایک ایک ایک ایک ایک ایک ایک ایک ایک ایک ایک ایک ایک ایک ایک ایک ایک ایک ایک ایک ایک ایک ایک ایک ایک ایک ایک ایک ایک ایک ایک ایک ایک ایک ایک ایک ایک ایک ایک ایک ایک ایک ایک ایک ایک ایک ایک ایک ایک ایک ایک ایک ایک ایک ایک ایک ایک ایک ایک ایک ایک ایک ایک ایک ایک ایک ایک ایک ایک ایک ایک ایک ایک ایک ایک ایک ایک ایک ایک ایک ایک ایک ایک ایک ایک ایک ایک ایک ایک ایک ایک ایک ایک ایک ایک ایک ایک ایک ایک ایک ایک ایک ایک ایک ایک ایک ایک ایک ایک ایک ایک ایک ایک ایک ایک ایک ایک ایک ایک ایک ایک ایک ایک ایک ایک ایک ایک ایک ایک ایک ایک ایک ایک ایک ایک ایک ایک ایک ایک ایک ایک ایک ایک ایک ایک ایک ایک ایک ایک ایک ایک ایک ایک ایک ایک ایک ایک ایک ایک ایک ایک ایک ایک ایک ایک ایک ایک ایک ایک ایک ایک ایک ایک ایک ایک ایک ایک ایک ایک ایک ایک ایک ایک\n",
      "🔸 Reference: Es tut mir leid, aber ich habe verschlafen.\n"
     ]
    },
    {
     "name": "stderr",
     "output_type": "stream",
     "text": [
      "\r",
      " 16%|█▌        | 16/100 [00:45<05:43,  4.09s/it]"
     ]
    },
    {
     "name": "stdout",
     "output_type": "stream",
     "text": [
      "🔹 Predicted:  पादेदे आदे आदे आदे आदे आदे आदे आदे आदे आदे आदे आदे आदे आदे आदे आदे आदे आदे आदे आदे आदे आदे आदे आदे आदे आदे आदे आदे आदे आदे आदे आदे आदे आदे आदे आदे आदे आदे आदे आदे आदे आदे आदे आदे आदे आदे आदे आदे आदे आदे आदे आदे आदे आदे आदे आदे आदे आदे आदे आदे आदे आदे आदे आदे आदे आदे आदे आदे आदे आदे आदे आदे आदे आदे आदे आदे आदे आदे आदे आदे आदे आदे आदे आदे आदे आदे आदे आदे\n",
      "🔸 Reference: Nächstes Mal werde ich nicht bei Gundula Kircher mitfahren.\n"
     ]
    },
    {
     "name": "stderr",
     "output_type": "stream",
     "text": [
      "\r",
      " 17%|█▋        | 17/100 [00:50<05:59,  4.33s/it]"
     ]
    },
    {
     "name": "stdout",
     "output_type": "stream",
     "text": [
      "🔹 Predicted:  پیز پیز پیز پیز پیز پیز پیز پیز پیز پیز پیز پیز پیز پیز پیز پیز پیز پیز پیز پیز پیز پیز پیز پیز پیز پیز پیز پیز پیز پیز پیز پیز پیز پیز پیز پیز پیز پیز پیز پیز پیز پیز پیز پیز پیز پیز پیز پیز پیز پیز پیز پیز پیز پیز پیز پیز پیز پیز پیز پیز پیز پیز پیز پیز پیز پیز پیز پیز پیز پیز پیز پیز پیز پیز پیز پیز پیز پیز پیز پیز پیز پیز پیز پیز پیز پیز پیز پیز پیز پیز پیز پیز پیز پیز پیز پیز پیز پیز پیز پیز پیز پیز پیز پیز پیز پیز پیز پیز پیز پیز پیز پیز پیز پیز پیز پیز پیز پیز پیز پیز پیز پیز پیز پیز پیز پیز پیز پیز پیز پیز پیز پیز پیز پیز پیز پیز پیز پیز پیز پیز پیز پیز پیز پیز پیز پیز پیز پیز\n",
      "🔸 Reference: Ich lese vor, du machst im Hintergrund die Beatbox, okay?\n"
     ]
    },
    {
     "name": "stderr",
     "output_type": "stream",
     "text": [
      "\r",
      " 18%|█▊        | 18/100 [00:55<06:08,  4.50s/it]"
     ]
    },
    {
     "name": "stdout",
     "output_type": "stream",
     "text": [
      "🔹 Predicted:  Въръв е не е не е е не е е е е е е е е е е е е е е е е е е е е е е е е е е е е е е е е е е е е е е е е е е е е е е е е е е е е е е е е е е е е е е е е е е е е е е е е е е е е е е е е е е е е е е е е е е е е е е е е е е е е е е е е е е е е е е е е е е е е е е е е е е е е е е е е е е е е е е е е е е е е е е е е е е е е е е е е е е е е е е е е е е е е е е е е е е е е е е е е е е е е е е е е е е е е е е е е е е е е е е е е е е е е е е е е е е е е е е е е е е е е е е е е е е е е е е е е е е е е е е е е е е е е е е е е е е е е е е е е е е е е е е е е е е е е е е е е е е е е е е е е е е е е е е е е е е е е е е е е е е е е е е е е е е е е е е е е е е е е е е е е е е е е е е е е е е е е е е е е е е е е е е е е е е е е е е е е е е е е е е е е е е е е е е е е е е е е е е е е е е е е е е е е е е е е е е е е е е е е е е е е е е е е е е е е е е е е е е е е е е е е е е е е е е е е е е е е\n",
      "🔸 Reference: Warum verstehen Männer und Frauen sich einander so schlecht?\n"
     ]
    },
    {
     "name": "stderr",
     "output_type": "stream",
     "text": [
      "\r",
      " 19%|█▉        | 19/100 [01:00<06:13,  4.61s/it]"
     ]
    },
    {
     "name": "stdout",
     "output_type": "stream",
     "text": [
      "🔹 Predicted:  \"Ai, oi, oi, oi, oi, oi, oi, oi, oi, oi, oi, oi, oi, oi, oi, oi, oi, oi, oi, oi, oi, oi, oi, oi, oi, oi, oi, oi, oi, oi, oi, oi, oi, oi, oi, oi, oi, oi, oi, oi, oi, oi, oi, oi, oi, oi, oi, oi, oi, oi, oi, oi, oi, oi, oi, oi, oi, oi, oi, oi, oi, oi, oi, oi, oi, oi, oi, oi, oi, oi, oi, oi, oi, oi, oi, oi, oi, oi, oi, oi, oi, oi, oi, oi, oi, oi, oi, oi, oi, oi, oi, oi, oi, oi, oi, oi, oi, oi, oi, oi, oi, oi, oi, oi, oi, oi, oi, oi, oi, oi, oi, oi, oi, oi, oi, oi, oi, oi, oi, oi, oi, oi, oi, oi, oi, oi, oi, oi, oi, oi, oi, oi, oi, oi, oi, oi, oi, oi, oi, oi, oi, oi, oi, oi, oi, oi, oi, oi\n",
      "🔸 Reference: Heidenau liegt nordwestlich des Naturparks Lüneburger Heide.\n"
     ]
    },
    {
     "name": "stderr",
     "output_type": "stream",
     "text": [
      "\r",
      " 20%|██        | 20/100 [01:05<06:15,  4.69s/it]"
     ]
    },
    {
     "name": "stdout",
     "output_type": "stream",
     "text": [
      "🔹 Predicted:  پیز پیز پیز پیز پیز پیز پیز پیز پیز پیز پیز پیز پیز پیز پیز پیز پیز پیز پیز پیز پیز پیز پیز پیز پیز پیز پیز پیز پیز پیز پیز پیز پیز پیز پیز پیز پیز پیز پیز پیز پیز پیز پیز پیز پیز پیز پیز پیز پیز پیز پیز پیز پیز پیز پیز پیز پیز پیز پیز پیز پیز پیز پیز پیز پیز پیز پیز پیز پیز پیز پیز پیز پیز پیز پیز پیز پیز پیز پیز پیز پیز پیز پیز پیز پیز پیز پیز پیز پیز پیز پیز پیز پیز پیز پیز پیز پیز پیز پیز پیز پیز پیز پیز پیز پیز پیز پیز پیز پیز پیز پیز پیز پیز پیز پیز پیز پیز پیز پیز پیز پیز پیز پیز پیز پیز پیز پیز پیز پیز پیز پیز پیز پیز پیز پیز پیز پیز پیز پیز پیز پیز پیز پیز پیز پیز پیز پیز پیز\n",
      "🔸 Reference: Mit diesem Verein konnte er bereits in jungen Jahren erste nationale Erfolge feiern.\n"
     ]
    },
    {
     "name": "stderr",
     "output_type": "stream",
     "text": [
      "\r",
      " 21%|██        | 21/100 [01:10<06:16,  4.76s/it]"
     ]
    },
    {
     "name": "stdout",
     "output_type": "stream",
     "text": [
      "🔹 Predicted:  کیا کہاں ایک ایک ایک ایک ایک ایک ایک ایک ایک ایک ایک ایک ایک ایک ایک ایک ایک ایک ایک ایک ایک ایک ایک ایک ایک ایک ایک ایک ایک ایک ایک ایک ایک ایک ایک ایک ایک ایک ایک ایک ایک ایک ایک ایک ایک ایک ایک ایک ایک ایک ایک ایک ایک ایک ایک ایک ایک ایک ایک ایک ایک ایک ایک ایک ایک ایک ایک ایک ایک ایک ایک ایک ایک ایک ایک ایک ایک ایک ایک ایک ایک ایک ایک ایک ایک ایک ایک ایک ایک ایک ایک ایک ایک ایک ایک ایک ایک ایک ایک ایک ایک ایک ایک ایک ایک ایک ایک ایک ایک ایک ایک ایک ایک ایک ایک ایک ایک ایک ایک ایک ایک ایک ایک ایک ایک ایک ایک ایک ایک ایک ایک ایک ایک ایک ایک ایک ایک ایک ایک ایک ایک ایک ایک ایک ایک ایک ایک ایک ایک ایک ایک ایک ایک ایک ایک ایک ایک ایک ایک ایک ایک ایک ایک ایک ایک ایک ایک ایک ایک ایک ایک ایک ایک ایک ایک ایک ایک ایک ایک ایک ایک ایک ایک ایک ایک ایک ایک ایک ایک ایک ایک ایک ایک ایک ایک ایک ایک ایک ایک ایک ایک ایک ایک ایک ایک ایک ایک ایک ایک ایک ایک ایک ایک ایک ایک ایک ایک ایک ایک ا\n",
      "🔸 Reference: Sie hat zwei Töchter und drei Enkelsöhne.\n"
     ]
    },
    {
     "name": "stderr",
     "output_type": "stream",
     "text": [
      "\r",
      " 22%|██▏       | 22/100 [01:15<06:14,  4.80s/it]"
     ]
    },
    {
     "name": "stdout",
     "output_type": "stream",
     "text": [
      "🔹 Predicted:  ایک ایک ایک ایک ایک ایک ایک ایک ایک ایک ایک ایک ایک ایک ایک ایک ایک ایک ایک ایک ایک ایک ایک ایک ایک ایک ایک ایک ایک ایک ایک ایک ایک ایک ایک ایک ایک ایک ایک ایک ایک ایک ایک ایک ایک ایک ایک ایک ایک ایک ایک ایک ایک ایک ایک ایک ایک ایک ایک ایک ایک ایک ایک ایک ایک ایک ایک ایک ایک ایک ایک ایک ایک ایک ایک ایک ایک ایک ایک ایک ایک ایک ایک ایک ایک ایک ایک ایک ایک ایک ایک ایک ایک ایک ایک ایک ایک ایک ایک ایک ایک ایک ایک ایک ایک ایک ایک ایک ایک ایک ایک ایک ایک ایک ایک ایک ایک ایک ایک ایک ایک ایک ایک ایک ایک ایک ایک ایک ایک ایک ایک ایک ایک ایک ایک ایک ایک ایک ایک ایک ایک ایک ایک ایک ایک ایک ایک ایک ایک ایک ایک ایک ایک ایک ایک ایک ایک ایک ایک ایک ایک ایک ایک ایک ایک ایک ایک ایک ایک ایک ایک ایک ایک ایک ایک ایک ایک ایک ایک ایک ایک ایک ایک ایک ایک ایک ایک ایک ایک ایک ایک ایک ایک ایک ایک ایک ایک ایک ایک ایک ایک ایک ایک ایک ایک ایک ایک ایک ایک ایک ایک ایک ایک ایک ایک ایک ایک ایک ایک ایک ایک ایک\n",
      "🔸 Reference: Zahlreiche technische Erfindungen ermöglichten Neuerungen.\n"
     ]
    },
    {
     "name": "stderr",
     "output_type": "stream",
     "text": [
      " 24%|██▍       | 24/100 [01:20<04:20,  3.43s/it]"
     ]
    },
    {
     "name": "stdout",
     "output_type": "stream",
     "text": [
      "🔹 Predicted:  ایک ایک ایک ایک ایک ایک ایک ایک ایک ایک ایک ایک ایک ایک ایک ایک ایک ایک ایک ایک ایک ایک ایک ایک ایک ایک ایک ایک ایک ایک ایک ایک ایک ایک ایک ایک ایک ایک ایک ایک ایک ایک ایک ایک ایک ایک ایک ایک ایک ایک ایک ایک ایک ایک ایک ایک ایک ایک ایک ایک ایک ایک ایک ایک ایک ایک ایک ایک ایک ایک ایک ایک ایک ایک ایک ایک ایک ایک ایک ایک ایک ایک ایک ایک ایک ایک ایک ایک ایک ایک ایک ایک ایک ایک ایک ایک ایک ایک ایک ایک ایک ایک ایک ایک ایک ایک ایک ایک ایک ایک ایک ایک ایک ایک ایک ایک ایک ایک ایک ایک ایک ایک ایک ایک ایک ایک ایک ایک ایک ایک ایک ایک ایک ایک ایک ایک ایک ایک ایک ایک ایک ایک ایک ایک ایک ایک ایک ایک ایک ایک ایک ایک ایک ایک ایک ایک ایک ایک ایک ایک ایک ایک ایک ایک ایک ایک ایک ایک ایک ایک ایک ایک ایک ایک ایک ایک ایک ایک ایک ایک ایک ایک ایک ایک ایک ایک ایک ایک ایک ایک ایک ایک ایک ایک ایک ایک ایک ایک ایک ایک ایک ایک ایک ایک ایک ایک ایک ایک ایک ایک ایک ایک ایک ایک ایک ایک ایک ایک ایک ایک ایک ایک\n",
      "🔸 Reference: Dort lagerte neben Munition auch anderes Material der Bundeswehr.\n",
      "🔹 Predicted:  کیا ہے؟\n",
      "🔸 Reference: Der europäische Zweig wird von Wien aus gesteuert.\n"
     ]
    },
    {
     "name": "stderr",
     "output_type": "stream",
     "text": [
      "\r",
      " 25%|██▌       | 25/100 [01:25<04:50,  3.87s/it]"
     ]
    },
    {
     "name": "stdout",
     "output_type": "stream",
     "text": [
      "🔹 Predicted:  ہمیں گی ہے کہ ہمیں ایک ایک ایک ایک ایک ایک ایک ایک ایک ایک ایک ایک ایک ایک ایک ایک ایک ایک ایک ایک ایک ایک ایک ایک ایک ایک ایک ایک ایک ایک ایک ایک ایک ایک ایک ایک ایک ایک ایک ایک ایک ایک ایک ایک ایک ایک ایک ایک ایک ایک ایک ایک ایک ایک ایک ایک ایک ایک ایک ایک ایک ایک ایک ایک ایک ایک ایک ایک ایک ایک ایک ایک ایک ایک ایک ایک ایک ایک ایک ایک ایک ایک ایک ایک ایک ایک ایک ایک ایک ایک ایک ایک ایک ایک ایک ایک ایک ایک ایک ایک ایک ایک ایک ایک ایک ایک ایک ایک ایک ایک ایک ایک ایک ایک ایک ایک ایک ایک ایک ایک ایک ایک ایک ایک ایک ایک ایک ایک ایک ایک ایک ایک ایک ایک ایک ایک ایک ایک ایک ایک ایک ایک ایک ایک ایک ایک ایک ایک ایک ایک ایک ایک ایک ایک ایک ایک ایک ایک ایک ایک ایک ایک ایک ایک ایک ایک ایک ایک ایک ایک ایک ایک ایک ایک ایک ایک ایک ایک ایک ایک ایک ایک ایک ایک ایک ایک ایک ایک ایک ایک ایک ایک ایک ایک ایک ایک ایک ایک ایک ایک ایک ایک ایک ایک ایک ایک ایک ایک ایک ایک ایک ایک ایک ایک ایک ایک ایک\n",
      "🔸 Reference: Hiermit wird Speicherplatz für die Schlüssel gespart.\n"
     ]
    },
    {
     "name": "stderr",
     "output_type": "stream",
     "text": [
      "\r",
      " 26%|██▌       | 26/100 [01:30<05:09,  4.18s/it]"
     ]
    },
    {
     "name": "stdout",
     "output_type": "stream",
     "text": [
      "🔹 Predicted:  ہمیں گی ہے کہ ہمیں ایک کچھا کچھ کچھ کچھ کچھ کچھ کچھ کچھ کچھ کچھ کچھ کچھ کچھ کچھ کچھ کچھ کچھ کچھ کچھ کچھ کچھ کچھ کچھ کچھ کچھ کچھ کچھ کچھ کچھ کچھ کچھ کچھ کچھ کچھ کچھ کچھ کچھ کچھ کچھ کچھ کچھ کچھ کچھ کچھ کچھ کچھ کچھ کچھ کچھ کچھ کچھ کچھ کچھ کچھ کچھ کچھ کچھ کچھ کچھ کچھ کچھ کچھ کچھ کچھ کچھ کچھ کچھ کچھ کچھ کچھ کچھ کچھ کچھ کچھ کچھ کچھ کچھ کچھ کچھ کچھ کچھ کچھ کچھ کچھ کچھ کچھ کچھ کچھ کچھ کچھ کچھ کچھ کچھ کچھ کچھ کچھ کچھ کچھ کچھ کچھ کچھ کچھ کچھ کچھ کچھ کچھ کچھ کچھ کچھ کچھ کچھ کچھ کچھ کچھ کچھ کچھ کچھ کچھ کچھ کچھ کچھ کچھ کچھ کچھ کچھ کچھ کچھ کچھ کچھ کچھ کچھ کچھ کچھ کچھ کچھ کچھ کچھ کچھ کچھ کچھ کچھ کچھ کچھ کچ\n",
      "🔸 Reference: Danach war er Jugendtrainer und später Co-Trainer bei seinem Stammverein.\n"
     ]
    },
    {
     "name": "stderr",
     "output_type": "stream",
     "text": [
      "\r",
      " 27%|██▋       | 27/100 [01:34<05:21,  4.40s/it]"
     ]
    },
    {
     "name": "stdout",
     "output_type": "stream",
     "text": [
      "🔹 Predicted:  پیز پیز پیز پیز پیز پیز پیز پیز پیز پیز پیز پیز پیز پیز پیز پیز پیز پیز پیز پیز پیز پیز پیز پیز پیز پیز پیز پیز پیز پیز پیز پیز پیز پیز پیز پیز پیز پیز پیز پیز پیز پیز پیز پیز پیز پیز پیز پیز پیز پیز پیز پیز پیز پیز پیز پیز پیز پیز پیز پیز پیز پیز پیز پیز پیز پیز پیز پیز پیز پیز پیز پیز پیز پیز پیز پیز پیز پیز پیز پیز پیز پیز پیز پیز پیز پیز پیز پیز پیز پیز پیز پیز پیز پیز پیز پیز پیز پیز پیز پیز پیز پیز پیز پیز پیز پیز پیز پیز پیز پیز پیز پیز پیز پیز پیز پیز پیز پیز پیز پیز پیز پیز پیز پیز پیز پیز پیز پیز پیز پیز پیز پیز پیز پیز پیز پیز پیز پیز پیز پیز پیز پیز پیز پیز پیز پیز پیز پیز\n",
      "🔸 Reference: Anschließend kehrte er zurück in die Schweiz.\n"
     ]
    },
    {
     "name": "stderr",
     "output_type": "stream",
     "text": [
      "\r",
      " 28%|██▊       | 28/100 [01:35<03:53,  3.24s/it]"
     ]
    },
    {
     "name": "stdout",
     "output_type": "stream",
     "text": [
      "🔹 Predicted:  ہمیں گی ہے کہ ہمیں ایک کچھا کچھ کچھ کچھا کچھا کچھا کچھا کچھا\n",
      "🔸 Reference: Es wird empfohlen, die ausgeschilderten Wege zu benutzen.\n",
      "🔹 Predicted:  Въръв е не е елзира.\n",
      "🔸 Reference: Sie blüht von Juni bis August.\n"
     ]
    },
    {
     "name": "stderr",
     "output_type": "stream",
     "text": [
      " 31%|███       | 31/100 [01:40<02:32,  2.21s/it]"
     ]
    },
    {
     "name": "stdout",
     "output_type": "stream",
     "text": [
      "🔹 Predicted:  Въръв е не е е не е е е е е е е е е е е е е е е е е е е е е е е е е е е е е е е е е е е е е е е е е е е е е е е е е е е е е е е е е е е е е е е е е е е е е е е е е е е е е е е е е е е е е е е е е е е е е е е е е е е е е е е е е е е е е е е е е е е е е е е е е е е е е е е е е е е е е е е е е е е е е е е е е е е е е е е е е е е е е е е е е е е е е е е е е е е е е е е е е е е е е е е е е е е е е е е е е е е е е е е е е е е е е е е е е е е е е е е е е е е е е е е е е е е е е е е е е е е е е е е е е е е е е е е е е е е е е е е е е е е е е е е е е е е е е е е е е е е е е е е е е е е е е е е е е е е е е е е е е е е е е е е е е е е е е е е е е е е е е е е е е е е е е е е е е е е е е е е е е е е е е е е е е е е е е е е е е е е е е е е е е е е е е е е е е е е е е е е е е е е е е е е е е е е е е е е е е е е е е е е е е е е е е е е е е е е е е е е е е е е е е е е е е е е е е е е е е е\n",
      "🔸 Reference: Er war der Vater der Brüder Grimm.\n",
      "🔹 Predicted:  کیا ہے؟\n",
      "🔸 Reference: Er produziert und schreibt seine Drehbücher überwiegend für Fernsehserien.\n"
     ]
    },
    {
     "name": "stderr",
     "output_type": "stream",
     "text": [
      "\r",
      " 32%|███▏      | 32/100 [01:41<01:55,  1.70s/it]"
     ]
    },
    {
     "name": "stdout",
     "output_type": "stream",
     "text": [
      "🔹 Predicted:  ہمیں گی ہے کہ ہمیں ایک کچھا کچھ کچھ کچھا کچھا کچھا کچھا کچھا\n",
      "🔸 Reference: Diese Trainingsmethode zielt auf ein komplexes Training ab.\n"
     ]
    },
    {
     "name": "stderr",
     "output_type": "stream",
     "text": [
      "\r",
      " 33%|███▎      | 33/100 [01:46<02:59,  2.68s/it]"
     ]
    },
    {
     "name": "stdout",
     "output_type": "stream",
     "text": [
      "🔹 Predicted:  ہمیں گی ہے کہ ہمیں ایک ایک ایک ایک ایک ایک ایک ایک ایک ایک ایک ایک ایک ایک ایک ایک ایک ایک ایک ایک ایک ایک ایک ایک ایک ایک ایک ایک ایک ایک ایک ایک ایک ایک ایک ایک ایک ایک ایک ایک ایک ایک ایک ایک ایک ایک ایک ایک ایک ایک ایک ایک ایک ایک ایک ایک ایک ایک ایک ایک ایک ایک ایک ایک ایک ایک ایک ایک ایک ایک ایک ایک ایک ایک ایک ایک ایک ایک ایک ایک ایک ایک ایک ایک ایک ایک ایک ایک ایک ایک ایک ایک ایک ایک ایک ایک ایک ایک ایک ایک ایک ایک ایک ایک ایک ایک ایک ایک ایک ایک ایک ایک ایک ایک ایک ایک ایک ایک ایک ایک ایک ایک ایک ایک ایک ایک ایک ایک ایک ایک ایک ایک ایک ایک ایک ایک ایک ایک ایک ایک ایک ایک ایک ایک ایک ایک ایک ایک ایک ایک ایک ایک ایک ایک ایک ایک ایک ایک ایک ایک ایک ایک ایک ایک ایک ایک ایک ایک ایک ایک ایک ایک ایک ایک ایک ایک ایک ایک ایک ایک ایک ایک ایک ایک ایک ایک ایک ایک ایک ایک ایک ایک ایک ایک ایک ایک ایک ایک ایک ایک ایک ایک ایک ایک ایک ایک ایک ایک ایک ایک ایک ایک ایک ایک ایک ایک ایک\n",
      "🔸 Reference: Daher solle Großbritannien nicht am Krieg teilnehmen.\n"
     ]
    },
    {
     "name": "stderr",
     "output_type": "stream",
     "text": [
      "\r",
      " 34%|███▍      | 34/100 [01:51<03:39,  3.33s/it]"
     ]
    },
    {
     "name": "stdout",
     "output_type": "stream",
     "text": [
      "🔹 Predicted:  ஏன் போல்லையும் போல்லையும் போல்லையும் போல்லையும் ஓர்கள் ஓர்கள் ஓர்கள் ஓர்கள் ஓர்கள் ஓர்கள் ஓர்கள் ஓர்கள் ஓர்கள் ஓர்கள் ஓர்கள் ஓர்கள் ஓர்கள் ஓர்கள் ஓர்கள் ஓர்கள் ஓர்கள் ஓர்கள் ஓர்கள் ஓர்கள் ஓர்கள் ஓர்கள் ஓர்கள் ஓர்கள் ஓர்கள் ஓர்கள் ஓர்கள் ஓர்கள் ஓர்கள் ஓர்கள் ஓர்கள் ஓர்கள் ஓர்கள் ஓர்கள் ஓர்கள் ஓர்கள் ஓர்கள் ஓர்கள் ஓர்கள் ஓர்கள் ஓர்கள் ஓர்கள் ஓர்கள் ஓர்கள் ஓர்கள் ஓர்கள் ஓர்கள் ஓர்கள் ஓர்கள் ஓர்கள் ஓர்கள் ஓர்கள் ஓர்கள் ஓர்கள் ஓர்கள் ஓர்கள் ஓர்கள் ஓர்கள் ஓர்கள் ஓர்கள் ஓர்கள் ஓர்கள் ஓர்கள் ஓர்கள் ஓர்கள் ஓர்கள் ஓர்\n",
      "🔸 Reference: König Mattias Hunyadi wird als Herausgeber dieser Goldmünze genannt.\n"
     ]
    },
    {
     "name": "stderr",
     "output_type": "stream",
     "text": [
      "\r",
      " 35%|███▌      | 35/100 [01:51<02:45,  2.55s/it]"
     ]
    },
    {
     "name": "stdout",
     "output_type": "stream",
     "text": [
      "🔹 Predicted:  ہمیں گی ہے کہ ہمیں ایک کچھا کچھ کچھ کچھا کچھا کچھا کچھا کچھا کچھا کچھا کچھا کچھا کچھا\n",
      "🔸 Reference: Das Mühlengebäude ist ein rechteckiger Fachwerkbau mit Satteldach.\n"
     ]
    },
    {
     "name": "stderr",
     "output_type": "stream",
     "text": [
      "\r",
      " 36%|███▌      | 36/100 [01:56<03:28,  3.26s/it]"
     ]
    },
    {
     "name": "stdout",
     "output_type": "stream",
     "text": [
      "🔹 Predicted:  کیا کیا私は、私のようなことを言うと、私のことを言うことを、私のことを、私のことを、私のことを、私のことを、私のことを、私のことを、私のことを、私のことを、私のことを、私のことを、私のことを、私のことを、私のことを、私のことを、私のことを、私のことを、私のことを、私のことを、私のことを、私のことを、私のことを、私のことを、私のことを、私のことを、私のことを、私のことを、私のことを、私のことを、私のことを、私のことを、私のことを、私のことを、私のことを、私のことを、私のことを、私のことを、私のことを、私のことを、私のことを、私のことを、私のことを、私のことを、私のことを、私のことを、私のことを、私のことを、私のことを、私のことを、私のことを、私のことを、私のことを、私のことを、私のことを、私のことを、私のことを、私のことを、私のことを、私のことを、私のことを、私のことを、私のことを、私のことを、私のことを、私のことを、私のことを、私のことを、私のことを、私のことを、私のことを、私のことを、私のことを、私のことを、私のことを、私のことを、私のことを、私のことを、私のことを、私のことを、私のことを、私のことを、私のことを、私のことを、私の\n",
      "🔸 Reference: Die Kirche ist ein rechteckiger Putzbau unter Satteldach.\n"
     ]
    },
    {
     "name": "stderr",
     "output_type": "stream",
     "text": [
      "\r",
      " 37%|███▋      | 37/100 [01:56<02:28,  2.36s/it]"
     ]
    },
    {
     "name": "stdout",
     "output_type": "stream",
     "text": [
      "🔹 Predicted:  சرچھے پر کھناہے گھئے ہیں\n",
      "🔸 Reference: Zwölf Interpreten wurden dann bestimmt am Vorentscheid teilnehmen.\n"
     ]
    },
    {
     "name": "stderr",
     "output_type": "stream",
     "text": [
      "\r",
      " 38%|███▊      | 38/100 [02:01<03:12,  3.11s/it]"
     ]
    },
    {
     "name": "stdout",
     "output_type": "stream",
     "text": [
      "🔹 Predicted:  ஏன் பிருக்கிறாய்வில்லையும் போகிறாய்வில்லையும் ஓர்கள் ஓர்கள் ஓர்கள் ஓர்கள் ஓர்கள் ஓர்கள் ஓர்கள் ஓர்கள் ஓர்கள் ஓர்கள் ஓர்கள் ஓர்கள் ஓர்கள் ஓர்கள் ஓர்கள் ஓர்கள் ஓர்கள் ஓர்கள் ஓர்கள் ஓர்கள் ஓர்கள் ஓர்கள் ஓர்கள் ஓர்கள் ஓர்கள் ஓர்கள் ஓர்கள் ஓர்கள் ஓர்கள் ஓர்கள் ஓர்கள் ஓர்கள் ஓர்கள் ஓர்கள் ஓர்கள் ஓர்கள் ஓர்கள் ஓர்கள் ஓர்கள் ஓர்கள் ஓர்கள் ஓர்கள் ஓர்கள் ஓர்கள் ஓர்கள் ஓர்கள் ஓர்கள் ஓர்கள் ஓர்கள் ஓர்கள் ஓர்கள் ஓர்கள் ஓர்கள் ஓர்கள் ஓர்கள் ஓர்கள் ஓர்கள் ஓர்கள் ஓர்கள் ஓர்கள் ஓர்கள் ஓர்கள் ஓர்கள் ஓர்கள் ஓர்கள் ஓர்கள் ஓர்\n",
      "🔸 Reference: Die beiden kommen auf das Weibliche zu sprechen.\n"
     ]
    },
    {
     "name": "stderr",
     "output_type": "stream",
     "text": [
      "\r",
      " 39%|███▉      | 39/100 [02:06<03:42,  3.65s/it]"
     ]
    },
    {
     "name": "stdout",
     "output_type": "stream",
     "text": [
      "🔹 Predicted:  Въръв е не е не е е не е е е е е е е е е е е е е е е е е е е е е е е е е е е е е е е е е е е е е е е е е е е е е е е е е е е е е е е е е е е е е е е е е е е е е е е е е е е е е е е е е е е е е е е е е е е е е е е е е е е е е е е е е е е е е е е е е е е е е е е е е е е е е е е е е е е е е е е е е е е е е е е е е е е е е е е е е е е е е е е е е е е е е е е е е е е е е е е е е е е е е е е е е е е е е е е е е е е е е е е е е е е е е е е е е е е е е е е е е е е е е е е е е е е е е е е е е е е е е е е е е е е е е е е е е е е е е е е е е е е е е е е е е е е е е е е е е е е е е е е е е е е е е е е е е е е е е е е е е е е е е е е е е е е е е е е е е е е е е е е е е е е е е е е е е е е е е е е е е е е е е е е е е е е е е е е е е е е е е е е е е е е е е е е е е е е е е е е е е е е е е е е е е е е е е е е е е е е е е е е е е е е е е е е е е е е е е е е е е е е е е е е е е е е е е е е е\n",
      "🔸 Reference: Am sichersten ist mein Geld unterm Kopfkissen.\n"
     ]
    },
    {
     "name": "stderr",
     "output_type": "stream",
     "text": [
      "\r",
      " 40%|████      | 40/100 [02:11<04:00,  4.01s/it]"
     ]
    },
    {
     "name": "stdout",
     "output_type": "stream",
     "text": [
      "🔹 Predicted:  Въръръв е не е не е е не е е е е е е е е е е е е е е е е е е е е е е е е е е е е е е е е е е е е е е е е е е е е е е е е е е е е е е е е е е е е е е е е е е е е е е е е е е е е е е е е е е е е е е е е е е е е е е е е е е е е е е е е е е е е е е е е е е е е е е е е е е е е е е е е е е е е е е е е е е е е е е е е е е е е е е е е е е е е е е е е е е е е е е е е е е е е е е е е е е е е е е е е е е е е е е е е е е е е е е е е е е е е е е е е е е е е е е е е е е е е е е е е е е е е е е е е е е е е е е е е е е е е е е е е е е е е е е е е е е е е е е е е е е е е е е е е е е е е е е е е е е е е е е е е е е е е е е е е е е е е е е е е е е е е е е е е е е е е е е е е е е е е е е е е е е е е е е е е е е е е е е е е е е е е е е е е е е е е е е е е е е е е е е е е е е е е е е е е е е е е е е е е е е е е е е е е е е е е е е е е е е е е е е е е е е е е е е е е е е е е е е е е е е е е е е\n",
      "🔸 Reference: Vier Jahre lange saß ich unschuldig im Knast.\n"
     ]
    },
    {
     "name": "stderr",
     "output_type": "stream",
     "text": [
      "\r",
      " 41%|████      | 41/100 [02:16<04:11,  4.27s/it]"
     ]
    },
    {
     "name": "stdout",
     "output_type": "stream",
     "text": [
      "🔹 Predicted:  Въръв е не е не е е не е е е е е е е е е е е е е е е е е е е е е е е е е е е е е е е е е е е е е е е е е е е е е е е е е е е е е е е е е е е е е е е е е е е е е е е е е е е е е е е е е е е е е е е е е е е е е е е е е е е е е е е е е е е е е е е е е е е е е е е е е е е е е е е е е е е е е е е е е е е е е е е е е е е е е е е е е е е е е е е е е е е е е е е е е е е е е е е е е е е е е е е е е е е е е е е е е е е е е е е е е е е е е е е е е е е е е е е е е е е е е е е е е е е е е е е е е е е е е е е е е е е е е е е е е е е е е е е е е е е е е е е е е е е е е е е е е е е е е е е е е е е е е е е е е е е е е е е е е е е е е е е е е е е е е е е е е е е е е е е е е е е е е е е е е е е е е е е е е е е е е е е е е е е е е е е е е е е е е е е е е е е е е е е е е е е е е е е е е е е е е е е е е е е е е е е е е е е е е е е е е е е е е е е е е е е е е е е е е е е е е е е е е е е е е е е е\n",
      "🔸 Reference: Für ein paar Schilling haben sie die Funde damals verhökert.\n"
     ]
    },
    {
     "name": "stderr",
     "output_type": "stream",
     "text": [
      "\r",
      " 42%|████▏     | 42/100 [02:21<04:18,  4.46s/it]"
     ]
    },
    {
     "name": "stdout",
     "output_type": "stream",
     "text": [
      "🔹 Predicted:  Въръв е не е не е е не е е е е е е е е е е е е е е е е е е е е е е е е е е е е е е е е е е е е е е е е е е е е е е е е е е е е е е е е е е е е е е е е е е е е е е е е е е е е е е е е е е е е е е е е е е е е е е е е е е е е е е е е е е е е е е е е е е е е е е е е е е е е е е е е е е е е е е е е е е е е е е е е е е е е е е е е е е е е е е е е е е е е е е е е е е е е е е е е е е е е е е е е е е е е е е е е е е е е е е е е е е е е е е е е е е е е е е е е е е е е е е е е е е е е е е е е е е е е е е е е е е е е е е е е е е е е е е е е е е е е е е е е е е е е е е е е е е е е е е е е е е е е е е е е е е е е е е е е е е е е е е е е е е е е е е е е е е е е е е е е е е е е е е е е е е е е е е е е е е е е е е е е е е е е е е е е е е е е е е е е е е е е е е е е е е е е е е е е е е е е е е е е е е е е е е е е е е е е е е е е е е е е е е е е е е е е е е е е е е е е е е е е е е е е е е е е\n",
      "🔸 Reference: Man sollte den Gegner gar nicht erst so ungestört in den Strafraum kommen lassen.\n",
      "🔹 Predicted:  کیا ہے\n",
      "🔸 Reference: Dabei sollten wir es belassen.\n"
     ]
    },
    {
     "name": "stderr",
     "output_type": "stream",
     "text": [
      "\r",
      " 44%|████▍     | 44/100 [02:26<03:18,  3.54s/it]"
     ]
    },
    {
     "name": "stdout",
     "output_type": "stream",
     "text": [
      "🔹 Predicted:  ہمیں گی ہے کہ ہمیں ایک ایک ایک ایک ایک ایک ایک ایک ایک ایک ایک ایک ایک ایک ایک ایک ایک ایک ایک ایک ایک ایک ایک ایک ایک ایک ایک ایک ایک ایک ایک ایک ایک ایک ایک ایک ایک ایک ایک ایک ایک ایک ایک ایک ایک ایک ایک ایک ایک ایک ایک ایک ایک ایک ایک ایک ایک ایک ایک ایک ایک ایک ایک ایک ایک ایک ایک ایک ایک ایک ایک ایک ایک ایک ایک ایک ایک ایک ایک ایک ایک ایک ایک ایک ایک ایک ایک ایک ایک ایک ایک ایک ایک ایک ایک ایک ایک ایک ایک ایک ایک ایک ایک ایک ایک ایک ایک ایک ایک ایک ایک ایک ایک ایک ایک ایک ایک ایک ایک ایک ایک ایک ایک ایک ایک ایک ایک ایک ایک ایک ایک ایک ایک ایک ایک ایک ایک ایک ایک ایک ایک ایک ایک ایک ایک ایک ایک ایک ایک ایک ایک ایک ایک ایک ایک ایک ایک ایک ایک ایک ایک ایک ایک ایک ایک ایک ایک ایک ایک ایک ایک ایک ایک ایک ایک ایک ایک ایک ایک ایک ایک ایک ایک ایک ایک ایک ایک ایک ایک ایک ایک ایک ایک ایک ایک ایک ایک ایک ایک ایک ایک ایک ایک ایک ایک ایک ایک ایک ایک ایک ایک ایک ایک ایک ایک ایک ایک\n",
      "🔸 Reference: Der Film befindet sich aktuell in der Postproduktion.\n"
     ]
    },
    {
     "name": "stderr",
     "output_type": "stream",
     "text": [
      " 47%|████▋     | 47/100 [02:31<02:02,  2.31s/it]"
     ]
    },
    {
     "name": "stdout",
     "output_type": "stream",
     "text": [
      "🔹 Predicted:  کیا کہاں ایک کچھا کہاں ایک کچھا کہاں ایک کچھا کہاں ایک کچھا کہاں ایک کچھا کہاں ایک کچھا کہاں ایک کچھا کہاں ایک کچھا کہاں ایک کچھا کہاں ایک کچھا کہاں ایک کچھا کہاں ایک کچھا کہاں ایک کچھا کہاں ایک کچھا کہاں ایک کچھا کہاں ایک کچھا کہاں ایک کچھا کہاں ایک کچھا کہاں ایک کچھا کہاں ایک کچھا کہاں ایک کچھا کہاں ایک کچھا کہاں ایک کچھا کہاں ایک کچھا کہاں ایک کچھا کہاں ایک کچھا کہاں ایک کچھا کہاں ایک کچھا کہاں ایک کچھا کہاں ایک کچھا کہاں ایک کچھا کہاں ایک کچھا کہاں ایک کچھا کہاں ایک کچھا کہاں ایک کچھا کہاں ایک کچھا کہاں ایک کچھا کہاں ایک کچھا کہاں ایک کچھا کہاں ایک کچھا کہاں ایک کچھا کہاں ایک کچھا کہاں ایک کچھا کہاں ایک کچھا کہاں ایک کچھا کہاں ایک کچھا کہاں ایک کچھا کہاں ایک کچھا کہاں ایک کچھا کہ\n",
      "🔸 Reference: Seit Eröffnung gibt es Beschwerden über die Lärmbelästigung durch den Bahnhof.\n",
      "🔹 Predicted:  کیا ہے\n",
      "🔸 Reference: Am Strand stehen Strandkörbe.\n",
      "🔹 Predicted:  [Music]\n",
      "🔸 Reference: Die Ostwand zeigt zwischen zwei seitlichen Engelsfiguren das Altarblatt hl.\n"
     ]
    },
    {
     "name": "stderr",
     "output_type": "stream",
     "text": [
      "\r",
      " 48%|████▊     | 48/100 [02:36<02:31,  2.91s/it]"
     ]
    },
    {
     "name": "stdout",
     "output_type": "stream",
     "text": [
      "🔹 Predicted:  4.5% dextre dextre dextre dextre dextre dextre dextre dextre dextre dextre dextre dextre dextre dextre dextre dextre dextre dextre dextre dextre dextre dextre dextre dextre dextre dextre dextre dextre dextre dextre dextre dextre dextre dextre dextre dextre dextre dextre dextre dextre dextre dextre dextre dextre dextre dextre dextre dextre dextre dextre dextre dextre dextre dextre dextre dextre dextre dextre dextre dextre dextre dextre dextre dextre dextre dextre dextre dextre dextre dextre dextre dextre dextre dextre dextre dextre dextre dextre dextre dextre dextre dextre dextre dextre dextre dextre dextre dextre dextre dextre dextre dextre dextre dextre dextre dextre dextre dextre dextre dextre dextre dextre dextre dextre dextre dextre dextre dextre dextre dextre dextre dextre dextre dextre dextre dextre dextre dextre dextre dextre dextre dextre dextre dextre dextre dextre dextre dextre dextre dextre dextre dextre dextre dextre dextre dextre dextre dextre dextre dextre dextre dextre dextre dextre dextre dextre dext\n",
      "🔸 Reference: Der Innenraum wurde mit einer Holzdecke in Form eines umgekehrten Schiffsrumpfes gedeckt.\n"
     ]
    },
    {
     "name": "stderr",
     "output_type": "stream",
     "text": [
      " 51%|█████     | 51/100 [02:41<01:39,  2.03s/it]"
     ]
    },
    {
     "name": "stdout",
     "output_type": "stream",
     "text": [
      "🔹 Predicted:  Въръв е не е не е е не е е е е е е е е е е е е е е е е е е е е е е е е е е е е е е е е е е е е е е е е е е е е е е е е е е е е е е е е е е е е е е е е е е е е е е е е е е е е е е е е е е е е е е е е е е е е е е е е е е е е е е е е е е е е е е е е е е е е е е е е е е е е е е е е е е е е е е е е е е е е е е е е е е е е е е е е е е е е е е е е е е е е е е е е е е е е е е е е е е е е е е е е е е е е е е е е е е е е е е е е е е е е е е е е е е е е е е е е е е е е е е е е е е е е е е е е е е е е е е е е е е е е е е е е е е е е е е е е е е е е е е е е е е е е е е е е е е е е е е е е е е е е е е е е е е е е е е е е е е е е е е е е е е е е е е е е е е е е е е е е е е е е е е е е е е е е е е е е е е е е е е е е е е е е е е е е е е е е е е е е е е е е е е е е е е е е е е е е е е е е е е е е е е е е е е е е е е е е е е е е е е е е е е е е е е е е е е е е е е е е е е е е е е е е е е е е\n",
      "🔸 Reference: Vor den Sitzreihen stand ein Pult aus massiver Buche.\n",
      "🔹 Predicted:  کیا ہے\n",
      "🔸 Reference: Was heißt das auf Romanes?\n",
      "🔹 Predicted:  کیا ہے؟\n",
      "🔸 Reference: Ja, das habe ich auch schon versucht, aber das bringt nichts.\n"
     ]
    },
    {
     "name": "stderr",
     "output_type": "stream",
     "text": [
      "\r",
      " 53%|█████▎    | 53/100 [02:41<01:01,  1.31s/it]"
     ]
    },
    {
     "name": "stdout",
     "output_type": "stream",
     "text": [
      "🔹 Predicted:  کیا ہے\n",
      "🔸 Reference: An der Pastatheke wird Nachschub benötigt.\n",
      "🔹 Predicted:  [Music]\n",
      "🔸 Reference: Verschlafen rieb er sich die Augen.\n"
     ]
    },
    {
     "name": "stderr",
     "output_type": "stream",
     "text": [
      "\r",
      " 54%|█████▍    | 54/100 [02:46<01:35,  2.07s/it]"
     ]
    },
    {
     "name": "stdout",
     "output_type": "stream",
     "text": [
      "🔹 Predicted:  प्विद्विद्विदे बादे प्विदे प्विदे प्विदे प्विदे प्विदे प्विदे प्विदे प्विदे प्विदे प्विदे प्विदे प्विदे प्विदे प्विदे प्विदे प्विदे प्विदे प्विदे प्विदे प्विदे प्विदे प्विदे प्विदे प्विदे प्विदे प्विदे प्विदे प्विदे प्विदे प्विदे प्विदे प्विदे प्विदे प्विदे प्विदे प्विदे प्विदे प्विदे प्विदे प्विदे प्विदे प्विदे प्विदे प्विदे प्विदे प्विदे प्\n",
      "🔸 Reference: Die Weihnachtsgeschichte beginnt mit einer Volkszählung.\n",
      "🔹 Predicted:  [Music]\n",
      "🔸 Reference: Schau mal in der Legende nach.\n"
     ]
    },
    {
     "name": "stderr",
     "output_type": "stream",
     "text": [
      "\r",
      " 56%|█████▌    | 56/100 [02:51<01:37,  2.22s/it]"
     ]
    },
    {
     "name": "stdout",
     "output_type": "stream",
     "text": [
      "🔹 Predicted:  کیا ہے کہ وہ کچھا کہاں ایک کچھ کچھ کچھ کچھ کچھ کچھ کچھ کچھ کچھ کچھ کچھ کچھ کچھ کچھ کچھ کچھ کچھ کچھ کچھ کچھ کچھ کچھ کچھ کچھ کچھ کچھ کچھ کچھ کچھ کچھ کچھ کچھ کچھ کچھ کچھ کچھ کچھ کچھ کچھ کچھ کچھ کچھ کچھ کچھ کچھ کچھ کچھ کچھ کچھ کچھ کچھ کچھ کچھ کچھ کچھ کچھ کچھ کچھ کچھ کچھ کچھ کچھ کچھ کچھ کچھ کچھ کچھ کچھ کچھ کچھ کچھ کچھ کچھ کچھ کچھ کچھ کچھ کچھ کچھ کچھ کچھ کچھ کچھ کچھ کچھ کچھ کچھ کچھ کچھ کچھ کچھ کچھ کچھ کچھ کچھ کچھ کچھ کچھ کچھ کچھ کچھ کچھ کچھ کچھ کچھ کچھ کچھ کچھ کچھ کچھ کچھ کچھ کچھ کچھ کچھ کچھ کچھ کچھ کچھ کچھ کچھ کچھ کچھ کچھ کچھ کچھ کچھ کچھ کچھ کچھ کچھ کچھ کچھ کچھ کچھ کچھ کچھ کچھ کچھ کچھ کچھ کچھ کچھ ک\n",
      "🔸 Reference: Kann ich auch so einen Lutscher haben?\n",
      "🔹 Predicted:  [Music]\n",
      "🔸 Reference: Reg dich nicht auf.\n"
     ]
    },
    {
     "name": "stderr",
     "output_type": "stream",
     "text": [
      "\r",
      " 58%|█████▊    | 58/100 [02:56<01:37,  2.31s/it]"
     ]
    },
    {
     "name": "stdout",
     "output_type": "stream",
     "text": [
      "🔹 Predicted:  یہ کہاں کچھا کہ ہوں کہ ہوں کہ ہوں کہ ہوں کہ ہوں کہ ہوں کہ ہوں کہ ہوں کہ ہوں کہ ہوں کہ ہوں کہ ہوں کہ ہوں کہ ہوں کہ ہوں کہ ہوں کہ ہوں کہ ہوں کہ ہوں کہ ہوں کہ ہوں کہ ہوں کہ ہوں کہ ہوں کہ ہوں کہ ہوں کہ ہوں کہ ہوں کہ ہوں کہ ہوں کہ ہوں کہ ہوں کہ ہوں کہ ہوں کہ ہوں کہ ہوں کہ ہوں کہ ہوں کہ ہوں کہ ہوں کہ ہوں کہ ہوں کہ ہوں کہ ہوں کہ ہوں کہ ہوں کہ ہوں کہ ہوں کہ ہوں کہ ہوں کہ ہوں کہ ہوں کہ ہوں کہ ہوں کہ ہوں کہ ہوں کہ ہوں کہ ہوں کہ ہوں کہ ہوں کہ ہوں کہ ہوں کہ ہوں کہ ہوں کہ ہوں کہ ہوں کہ ہوں کہ ہوں کہ ہوں کہ ہوں کہ ہوں کہ ہوں کہ ہوں کہ ہوں کہ ہوں کہ ہوں کہ ہوں کہ ہوں کہ ہوں کہ ہوں کہ ہوں کہ ہوں کہ ہوں کہ ہوں کہ ہوں کہ ہوں کہ ہوں کہ ہوں کہ ہوں کہ ہوں کہ ہوں کہ ہوں کہ ہوں کہ ہوں کہ ہوں کہ ہوں کہ ہوں کہ ہوں کہ ہوں کہ ہوں کہ ہوں کہ ہوں کہ ہوں کہ ہوں کہ ہوں کہ ہوں کہ ہوں کہ ہوں کہ ہوں کہ ہوں کہ ہوں کہ ہوں کہ ہوں کہ ہوں کہ ہوں کہ ہوں کہ ہوں کہ ہوں کہ ہوں کہ ہوں کہ ہوں کہ ہوں کہ ہوں کہ ہوں کہ ہوں کہ ہوں کہ ہوں کہ ہوں کہ ہوں کہ ہوں کہ ہوں کہ ہوں کہ ہوں کہ ہوں کہ ہوں کہ ہوں کہ ہوں کہ ہوں کہ ہوں کہ ہوں کہ ہوں کہ ہوں کہ ہوں کہ ہوں\n",
      "🔸 Reference: Das gelang erst dem englischen Physiker James Chadwick, als er die Experimente wiederholte.\n"
     ]
    },
    {
     "name": "stderr",
     "output_type": "stream",
     "text": [
      "\r",
      " 59%|█████▉    | 59/100 [03:01<01:55,  2.82s/it]"
     ]
    },
    {
     "name": "stdout",
     "output_type": "stream",
     "text": [
      "🔹 Predicted:  Върън е не е не е е не е е е е е е е е е е е е е е е е е е е е е е е е е е е е е е е е е е е е е е е е е е е е е е е е е е е е е е е е е е е е е е е е е е е е е е е е е е е е е е е е е е е е е е е е е е е е е е е е е е е е е е е е е е е е е е е е е е е е е е е е е е е е е е е е е е е е е е е е е е е е е е е е е е е е е е е е е е е е е е е е е е е е е е е е е е е е е е е е е е е е е е е е е е е е е е е е е е е е е е е е е е е е е е е е е е е е е е е е е е е е е е е е е е е е е е е е е е е е е е е е е е е е е е е е е е е е е е е е е е е е е е е е е е е е е е е е е е е е е е е е е е е е е е е е е е е е е е е е е е е е е е е е е е е е е е е е е е е е е е е е е е е е е е е е е е е е е е е е е е е е е е е е е е е е е е е е е е е е е е е е е е е е е е е е е е е е е е е е е е е е е е е е е е е е е е е е е е е е е е е е е е е е е е е е е е е е е е е е е е е е е е е е е е е е е е е е\n",
      "🔸 Reference: In den folgenden drei Abschnitten sind diese der Übersicht halber ausgespart.\n"
     ]
    },
    {
     "name": "stderr",
     "output_type": "stream",
     "text": [
      "\r",
      " 60%|██████    | 60/100 [03:06<02:11,  3.28s/it]"
     ]
    },
    {
     "name": "stdout",
     "output_type": "stream",
     "text": [
      "🔹 Predicted:  Въръв е не е не е е не е е е е е е е е е е е е е е е е е е е е е е е е е е е е е е е е е е е е е е е е е е е е е е е е е е е е е е е е е е е е е е е е е е е е е е е е е е е е е е е е е е е е е е е е е е е е е е е е е е е е е е е е е е е е е е е е е е е е е е е е е е е е е е е е е е е е е е е е е е е е е е е е е е е е е е е е е е е е е е е е е е е е е е е е е е е е е е е е е е е е е е е е е е е е е е е е е е е е е е е е е е е е е е е е е е е е е е е е е е е е е е е е е е е е е е е е е е е е е е е е е е е е е е е е е е е е е е е е е е е е е е е е е е е е е е е е е е е е е е е е е е е е е е е е е е е е е е е е е е е е е е е е е е е е е е е е е е е е е е е е е е е е е е е е е е е е е е е е е е е е е е е е е е е е е е е е е е е е е е е е е е е е е е е е е е е е е е е е е е е е е е е е е е е е е е е е е е е е е е е е е е е е е е е е е е е е е е е е е е е е е е е е е е е е е е е е\n",
      "🔸 Reference: Der Name stammt aus dem Französischen und bedeutet in der wörtlichen Übersetzung „Dingsda“.\n"
     ]
    },
    {
     "name": "stderr",
     "output_type": "stream",
     "text": [
      "\r",
      " 61%|██████    | 61/100 [03:06<01:41,  2.60s/it]"
     ]
    },
    {
     "name": "stdout",
     "output_type": "stream",
     "text": [
      "🔹 Predicted:  کیا私は、私のお客のお客のお客の方により、私のお客のお客の方をおいて、\n",
      "🔸 Reference: Ich halte das rechtlich für den falschen Ansatz.\n"
     ]
    },
    {
     "name": "stderr",
     "output_type": "stream",
     "text": [
      "\r",
      " 62%|██████▏   | 62/100 [03:11<02:01,  3.19s/it]"
     ]
    },
    {
     "name": "stdout",
     "output_type": "stream",
     "text": [
      "🔹 Predicted:  ہمیں گی ہے کہ ہمیں ایک کچھا کچھ کچھ کچھ کچھ کچھ کچھ کچھ کچھ کچھ کچھ کچھ کچھ کچھ کچھ کچھ کچھ کچھ کچھ کچھ کچھ کچھ کچھ کچھ کچھ کچھ کچھ کچھ کچھ کچھ کچھ کچھ کچھ کچھ کچھ کچھ کچھ کچھ کچھ کچھ کچھ کچھ کچھ کچھ کچھ کچھ کچھ کچھ کچھ کچھ کچھ کچھ کچھ کچھ کچھ کچھ کچھ کچھ کچھ کچھ کچھ کچھ کچھ کچھ کچھ کچھ کچھ کچھ کچھ کچھ کچھ کچھ کچھ کچھ کچھ کچھ کچھ کچھ کچھ کچھ کچھ کچھ کچھ کچھ کچھ کچھ کچھ کچھ کچھ کچھ کچھ کچھ کچھ کچھ کچھ کچھ کچھ کچھ کچھ کچھ کچھ کچھ کچھ کچھ کچھ کچھ کچھ کچھ کچھ کچھ کچھ کچھ کچھ کچھ کچھ کچھ کچھ کچھ کچھ کچھ کچھ کچھ کچھ کچھ کچھ کچھ کچھ کچھ کچھ کچھ کچھ کچھ کچھ کچھ کچھ کچھ کچھ کچھ کچھ کچھ کچھ کچھ کچھ کچ\n",
      "🔸 Reference: Die staatlichen Beihilfen werden hier in Frage gestellt.\n"
     ]
    },
    {
     "name": "stderr",
     "output_type": "stream",
     "text": [
      "\r",
      " 63%|██████▎   | 63/100 [03:16<02:14,  3.64s/it]"
     ]
    },
    {
     "name": "stdout",
     "output_type": "stream",
     "text": [
      "🔹 Predicted:  کیا کہ ہم ہم ہم ہم ہم ہم ہم ہم ہم ہم ہم ہم ہم ہم ہم ہم ہم ہم ہم ہم ہم ہم ہم ہم ہم ہم ہم ہم ہم ہم ہم ہم ہم ہم ہم ہم ہم ہم ہم ہم ہم ہم ہم ہم ہم ہم ہم ہم ہم ہم ہم ہم ہم ہم ہم ہم ہم ہم ہم ہم ہم ہم ہم ہم ہم ہم ہم ہم ہم ہم ہم ہم ہم ہم ہم ہم ہم ہم ہم ہم ہم ہم ہم ہم ہم ہم ہم ہم ہم ہم ہم ہم ہم ہم ہم ہم ہم ہم ہم ہم ہم ہم ہم ہم ہم ہم ہم ہم ہم ہم ہم ہم ہم ہم ہم ہم ہم ہم ہم ہم ہم ہم ہم ہم ہم ہم ہم ہم ہم ہم ہم ہم ہم ہم ہم ہم ہم ہم ہم ہم ہم ہم ہم ہم ہم ہم ہم ہم ہم ہم ہم ہم ہم ہم ہم ہم ہم ہم ہم ہم ہم ہم ہم ہم ہم ہم ہم ہم ہم ہم ہم ہم ہم ہم ہم ہم ہم ہم ہم ہم ہم ہم ہم ہم ہم ہم ہم ہم ہم ہم ہم ہم ہم ہم ہم ہم ہم ہم ہم ہم ہم ہم ہم ہم ہم ہم ہم ہم ہم ہم ہم ہم ہم ہم ہم ہم ہم ہم ہم ہم ہ\n",
      "🔸 Reference: Mal ein ganz anderes Thema.\n"
     ]
    },
    {
     "name": "stderr",
     "output_type": "stream",
     "text": [
      "\r",
      " 64%|██████▍   | 64/100 [03:21<02:23,  3.98s/it]"
     ]
    },
    {
     "name": "stdout",
     "output_type": "stream",
     "text": [
      "🔹 Predicted:  Върън не е е не е е е е е е е е е е е е е е е е е е е е е е е е е е е е е е е е е е е е е е е е е е е е е е е е е е е е е е е е е е е е е е е е е е е е е е е е е е е е е е е е е е е е е е е е е е е е е е е е е е е е е е е е е е е е е е е е е е е е е е е е е е е е е е е е е е е е е е е е е е е е е е е е е е е е е е е е е е е е е е е е е е е е е е е е е е е е е е е е е е е е е е е е е е е е е е е е е е е е е е е е е е е е е е е е е е е е е е е е е е е е е е е е е е е е е е е е е е е е е е е е е е е е е е е е е е е е е е е е е е е е е е е е е е е е е е е е е е е е е е е е е е е е е е е е е е е е е е е е е е е е е е е е е е е е е е е е е е е е е е е е е е е е е е е е е е е е е е е е е е е е е е е е е е е е е е е е е е е е е е е е е е е е е е е е е е е е е е е е е е е е е е е е е е е е е е е е е е е е е е е е е е е е е е е е е е е е е е е е е е е е е е е е е е е е е е е е е е е\n",
      "🔸 Reference: Insgesamt aber ist das Verfahren ausgereift.\n"
     ]
    },
    {
     "name": "stderr",
     "output_type": "stream",
     "text": [
      "\r",
      " 65%|██████▌   | 65/100 [03:26<02:28,  4.24s/it]"
     ]
    },
    {
     "name": "stdout",
     "output_type": "stream",
     "text": [
      "🔹 Predicted:  \"Ai, oi, oi, oi, oi, oi, oi, oi, oi, oi, oi, oi, oi, oi, oi, oi, oi, oi, oi, oi, oi, oi, oi, oi, oi, oi, oi, oi, oi, oi, oi, oi, oi, oi, oi, oi, oi, oi, oi, oi, oi, oi, oi, oi, oi, oi, oi, oi, oi, oi, oi, oi, oi, oi, oi, oi, oi, oi, oi, oi, oi, oi, oi, oi, oi, oi, oi, oi, oi, oi, oi, oi, oi, oi, oi, oi, oi, oi, oi, oi, oi, oi, oi, oi, oi, oi, oi, oi, oi, oi, oi, oi, oi, oi, oi, oi, oi, oi, oi, oi, oi, oi, oi, oi, oi, oi, oi, oi, oi, oi, oi, oi, oi, oi, oi, oi, oi, oi, oi, oi, oi, oi, oi, oi, oi, oi, oi, oi, oi, oi, oi, oi, oi, oi, oi, oi, oi, oi, oi, oi, oi, oi, oi, oi, oi, oi, oi, oi\n",
      "🔸 Reference: Sprachenkompetenz ist ein Faktor, der einen sozialen Vorteil verschafft.\n"
     ]
    },
    {
     "name": "stderr",
     "output_type": "stream",
     "text": [
      "\r",
      " 66%|██████▌   | 66/100 [03:26<01:44,  3.08s/it]"
     ]
    },
    {
     "name": "stdout",
     "output_type": "stream",
     "text": [
      "🔹 Predicted:  Въръв е не е елзира.\n",
      "🔸 Reference: Die Calenberg-Grubenhagensche Landschaft ist eine Körperschaft des öffentlichen Rechts.\n",
      "🔹 Predicted:  [Music]\n",
      "🔸 Reference: Die Mieter genießen ein gesetzliches Vorkaufsrecht und einen erweiterten Kündigungsschutz.\n"
     ]
    },
    {
     "name": "stderr",
     "output_type": "stream",
     "text": [
      "\r",
      " 68%|██████▊   | 68/100 [03:26<00:55,  1.74s/it]"
     ]
    },
    {
     "name": "stdout",
     "output_type": "stream",
     "text": [
      "🔹 Predicted:  [Pause]\n",
      "🔸 Reference: Ein Jahr lang leitete sie die Tochtergesellschaft eines deutschen Unternehmens in Großbritannien.\n"
     ]
    },
    {
     "name": "stderr",
     "output_type": "stream",
     "text": [
      "\r",
      " 69%|██████▉   | 69/100 [03:31<01:17,  2.50s/it]"
     ]
    },
    {
     "name": "stdout",
     "output_type": "stream",
     "text": [
      "🔹 Predicted:  کیا کہاں ایک کچھا کہاں ایک کچھا کہاں ایک کچھا کہاں ایک کچھا کہاں ایک کچھا کہاں ایک کچھا کہاں ایک کچھا کہاں ایک کچھا کہاں ایک کچھا کہاں ایک کچھا کہاں ایک کچھا کہاں ایک کچھا کہاں ایک کچھا کہاں ایک کچھا کہاں ایک کچھا کہاں ایک کچھا کہاں ایک کچھا کہاں ایک کچھا کہاں ایک کچھا کہاں ایک کچھا کہاں ایک کچھا کہاں ایک کچھا کہاں ایک کچھا کہاں ایک کچھا کہاں ایک کچھا کہاں ایک کچھا کہاں ایک کچھا کہاں ایک کچھا کہاں ایک کچھا کہاں ایک کچھا کہاں ایک کچھا کہاں ایک کچھا کہاں ایک کچھا کہاں ایک کچھا کہاں ایک کچھا کہاں ایک کچھا کہاں ایک کچھا کہاں ایک کچھا کہاں ایک کچھا کہاں ایک کچھا کہاں ایک کچھا کہاں ایک کچھا کہاں ایک کچھا کہاں ایک کچھا کہاں ایک کچھا کہاں ایک کچھا کہاں ایک کچھا کہاں ایک کچھا کہاں ایک کچھا کہ\n",
      "🔸 Reference: Sie lebt mit ihrem Mann, dem Bodybuilder Jeff Baugh, in Louisville, Kentucky.\n"
     ]
    },
    {
     "name": "stderr",
     "output_type": "stream",
     "text": [
      "\r",
      " 70%|███████   | 70/100 [03:36<01:33,  3.13s/it]"
     ]
    },
    {
     "name": "stdout",
     "output_type": "stream",
     "text": [
      "🔹 Predicted:  کیا کہاں ایک کچھا کہاں ایک کچھا کہاں ایک کچھا کہاں ایک کچھا کہاں ایک کچھا کہاں ایک کچھا کہاں ایک کچھا کہاں ایک کچھا کہاں ایک کچھا کہاں ایک کچھا کہاں ایک کچھا کہاں ایک کچھا کہاں ایک کچھا کہاں ایک کچھا کہاں ایک کچھا کہاں ایک کچھا کہاں ایک کچھا کہاں ایک کچھا کہاں ایک کچھا کہاں ایک کچھا کہاں ایک کچھا کہاں ایک کچھا کہاں ایک کچھا کہاں ایک کچھا کہاں ایک کچھا کہاں ایک کچھا کہاں ایک کچھا کہاں ایک کچھا کہاں ایک کچھا کہاں ایک کچھا کہاں ایک کچھا کہاں ایک کچھا کہاں ایک کچھا کہاں ایک کچھا کہاں ایک کچھا کہاں ایک کچھا کہاں ایک کچھا کہاں ایک کچھا کہاں ایک کچھا کہاں ایک کچھا کہاں ایک کچھا کہاں ایک کچھا کہاں ایک کچھا کہاں ایک کچھا کہاں ایک کچھا کہاں ایک کچھا کہاں ایک کچھا کہاں ایک کچھا کہاں ایک کچھا کہ\n",
      "🔸 Reference: Sein Ressort wurde aufgeteilt.\n"
     ]
    },
    {
     "name": "stderr",
     "output_type": "stream",
     "text": [
      "\r",
      " 71%|███████   | 71/100 [03:41<01:44,  3.59s/it]"
     ]
    },
    {
     "name": "stdout",
     "output_type": "stream",
     "text": [
      "🔹 Predicted:  کیا کہاں ایک کچھا کہاں ایک کچھا کہاں ایک کچھا کہاں ایک کچھا کہاں ایک کچھا کہاں ایک کچھا کہاں ایک کچھا کہاں ایک کچھا کہاں ایک کچھا کہاں ایک کچھا کہاں ایک کچھا کہاں ایک کچھا کہاں ایک کچھا کہاں ایک کچھا کہاں ایک کچھا کہاں ایک کچھا کہاں ایک کچھا کہاں ایک کچھا کہاں ایک کچھا کہاں ایک کچھا کہاں ایک کچھا کہاں ایک کچھا کہاں ایک کچھا کہاں ایک کچھا کہاں ایک کچھا کہاں ایک کچھا کہاں ایک کچھا کہاں ایک کچھا کہاں ایک کچھا کہاں ایک کچھا کہاں ایک کچھا کہاں ایک کچھا کہاں ایک کچھا کہاں ایک کچھا کہاں ایک کچھا کہاں ایک کچھا کہاں ایک کچھا کہاں ایک کچھا کہاں ایک کچھا کہاں ایک کچھا کہاں ایک کچھا کہاں ایک کچھا کہاں ایک کچھا کہاں ایک کچھا کہاں ایک کچھا کہاں ایک کچھا کہاں ایک کچھا کہاں ایک کچھا کہاں ایک کچھا کہ\n",
      "🔸 Reference: Sie ist ein Schaf Mädchen mit rose Haar.\n"
     ]
    },
    {
     "name": "stderr",
     "output_type": "stream",
     "text": [
      " 73%|███████▎  | 73/100 [03:41<00:52,  1.95s/it]"
     ]
    },
    {
     "name": "stdout",
     "output_type": "stream",
     "text": [
      "🔹 Predicted:  پیر کچھا کچھا کچھا کچھا کچھا\n",
      "🔸 Reference: Dadurch stiegen die Villacher wieder in die Tauernliga auf.\n",
      "🔹 Predicted:  [Music]\n",
      "🔸 Reference: Viele dieser Manuskripte weisen jedoch spätere Verfälschungen (Interpolationen) auf.\n"
     ]
    },
    {
     "name": "stderr",
     "output_type": "stream",
     "text": [
      " 75%|███████▌  | 75/100 [03:46<00:50,  2.02s/it]"
     ]
    },
    {
     "name": "stdout",
     "output_type": "stream",
     "text": [
      "🔹 Predicted:  Въръв е не е не е е не е е е е е е е е е е е е е е е е е е е е е е е е е е е е е е е е е е е е е е е е е е е е е е е е е е е е е е е е е е е е е е е е е е е е е е е е е е е е е е е е е е е е е е е е е е е е е е е е е е е е е е е е е е е е е е е е е е е е е е е е е е е е е е е е е е е е е е е е е е е е е е е е е е е е е е е е е е е е е е е е е е е е е е е е е е е е е е е е е е е е е е е е е е е е е е е е е е е е е е е е е е е е е е е е е е е е е е е е е е е е е е е е е е е е е е е е е е е е е е е е е е е е е е е е е е е е е е е е е е е е е е е е е е е е е е е е е е е е е е е е е е е е е е е е е е е е е е е е е е е е е е е е е е е е е е е е е е е е е е е е е е е е е е е е е е е е е е е е е е е е е е е е е е е е е е е е е е е е е е е е е е е е е е е е е е е е е е е е е е е е е е е е е е е е е е е е е е е е е е е е е е е е е е е е е е е е е е е е е е е е е е е е е е е е е е е е\n",
      "🔸 Reference: Habt ihr genügend Vorräte für zwei Wochen?\n",
      "🔹 Predicted:  [Police sirens]\n",
      "🔸 Reference: Er hatte sechs Enkelkinder, die alle von seiner Tochter stammen.\n"
     ]
    },
    {
     "name": "stderr",
     "output_type": "stream",
     "text": [
      "\r",
      " 76%|███████▌  | 76/100 [03:51<01:08,  2.85s/it]"
     ]
    },
    {
     "name": "stdout",
     "output_type": "stream",
     "text": [
      "🔹 Predicted:  ایک ایک ایک ایک ایک ایک ایک ایک ایک ایک ایک ایک ایک ایک ایک ایک ایک ایک ایک ایک ایک ایک ایک ایک ایک ایک ایک ایک ایک ایک ایک ایک ایک ایک ایک ایک ایک ایک ایک ایک ایک ایک ایک ایک ایک ایک ایک ایک ایک ایک ایک ایک ایک ایک ایک ایک ایک ایک ایک ایک ایک ایک ایک ایک ایک ایک ایک ایک ایک ایک ایک ایک ایک ایک ایک ایک ایک ایک ایک ایک ایک ایک ایک ایک ایک ایک ایک ایک ایک ایک ایک ایک ایک ایک ایک ایک ایک ایک ایک ایک ایک ایک ایک ایک ایک ایک ایک ایک ایک ایک ایک ایک ایک ایک ایک ایک ایک ایک ایک ایک ایک ایک ایک ایک ایک ایک ایک ایک ایک ایک ایک ایک ایک ایک ایک ایک ایک ایک ایک ایک ایک ایک ایک ایک ایک ایک ایک ایک ایک ایک ایک ایک ایک ایک ایک ایک ایک ایک ایک ایک ایک ایک ایک ایک ایک ایک ایک ایک ایک ایک ایک ایک ایک ایک ایک ایک ایک ایک ایک ایک ایک ایک ایک ایک ایک ایک ایک ایک ایک ایک ایک ایک ایک ایک ایک ایک ایک ایک ایک ایک ایک ایک ایک ایک ایک ایک ایک ایک ایک ایک ایک ایک ایک ایک ایک ایک ایک ایک ایک ایک ایک ایک\n",
      "🔸 Reference: Sie ist nunmehr Bestandteil der regulären Ausstellung am Heldenberg.\n"
     ]
    },
    {
     "name": "stderr",
     "output_type": "stream",
     "text": [
      "\r",
      " 77%|███████▋  | 77/100 [03:56<01:19,  3.45s/it]"
     ]
    },
    {
     "name": "stdout",
     "output_type": "stream",
     "text": [
      "🔹 Predicted:  ہمیں گی ہے کہ ہمیں ایک ایک ایک ایک ایک ایک ایک ایک ایک ایک ایک ایک ایک ایک ایک ایک ایک ایک ایک ایک ایک ایک ایک ایک ایک ایک ایک ایک ایک ایک ایک ایک ایک ایک ایک ایک ایک ایک ایک ایک ایک ایک ایک ایک ایک ایک ایک ایک ایک ایک ایک ایک ایک ایک ایک ایک ایک ایک ایک ایک ایک ایک ایک ایک ایک ایک ایک ایک ایک ایک ایک ایک ایک ایک ایک ایک ایک ایک ایک ایک ایک ایک ایک ایک ایک ایک ایک ایک ایک ایک ایک ایک ایک ایک ایک ایک ایک ایک ایک ایک ایک ایک ایک ایک ایک ایک ایک ایک ایک ایک ایک ایک ایک ایک ایک ایک ایک ایک ایک ایک ایک ایک ایک ایک ایک ایک ایک ایک ایک ایک ایک ایک ایک ایک ایک ایک ایک ایک ایک ایک ایک ایک ایک ایک ایک ایک ایک ایک ایک ایک ایک ایک ایک ایک ایک ایک ایک ایک ایک ایک ایک ایک ایک ایک ایک ایک ایک ایک ایک ایک ایک ایک ایک ایک ایک ایک ایک ایک ایک ایک ایک ایک ایک ایک ایک ایک ایک ایک ایک ایک ایک ایک ایک ایک ایک ایک ایک ایک ایک ایک ایک ایک ایک ایک ایک ایک ایک ایک ایک ایک ایک ایک ایک ایک ایک ایک ایک\n",
      "🔸 Reference: Auflage vollständig ins Deutsche.\n"
     ]
    },
    {
     "name": "stderr",
     "output_type": "stream",
     "text": [
      "\r",
      " 78%|███████▊  | 78/100 [04:01<01:25,  3.87s/it]"
     ]
    },
    {
     "name": "stdout",
     "output_type": "stream",
     "text": [
      "🔹 Predicted:  ہمیں گی ہے کہ ہمیں ایک ایک ایک ایک ایک ایک ایک ایک ایک ایک ایک ایک ایک ایک ایک ایک ایک ایک ایک ایک ایک ایک ایک ایک ایک ایک ایک ایک ایک ایک ایک ایک ایک ایک ایک ایک ایک ایک ایک ایک ایک ایک ایک ایک ایک ایک ایک ایک ایک ایک ایک ایک ایک ایک ایک ایک ایک ایک ایک ایک ایک ایک ایک ایک ایک ایک ایک ایک ایک ایک ایک ایک ایک ایک ایک ایک ایک ایک ایک ایک ایک ایک ایک ایک ایک ایک ایک ایک ایک ایک ایک ایک ایک ایک ایک ایک ایک ایک ایک ایک ایک ایک ایک ایک ایک ایک ایک ایک ایک ایک ایک ایک ایک ایک ایک ایک ایک ایک ایک ایک ایک ایک ایک ایک ایک ایک ایک ایک ایک ایک ایک ایک ایک ایک ایک ایک ایک ایک ایک ایک ایک ایک ایک ایک ایک ایک ایک ایک ایک ایک ایک ایک ایک ایک ایک ایک ایک ایک ایک ایک ایک ایک ایک ایک ایک ایک ایک ایک ایک ایک ایک ایک ایک ایک ایک ایک ایک ایک ایک ایک ایک ایک ایک ایک ایک ایک ایک ایک ایک ایک ایک ایک ایک ایک ایک ایک ایک ایک ایک ایک ایک ایک ایک ایک ایک ایک ایک ایک ایک ایک ایک ایک ایک ایک ایک ایک ایک\n",
      "🔸 Reference: In weiteren Rollen sind Jackie Chan und Sammo Hung zu sehen.\n"
     ]
    },
    {
     "name": "stderr",
     "output_type": "stream",
     "text": [
      "\r",
      " 79%|███████▉  | 79/100 [04:06<01:27,  4.17s/it]"
     ]
    },
    {
     "name": "stdout",
     "output_type": "stream",
     "text": [
      "🔹 Predicted:  ہمیں گی ہے کہ ہمیں ایک ایک ایک ایک ایک ایک ایک ایک ایک ایک ایک ایک ایک ایک ایک ایک ایک ایک ایک ایک ایک ایک ایک ایک ایک ایک ایک ایک ایک ایک ایک ایک ایک ایک ایک ایک ایک ایک ایک ایک ایک ایک ایک ایک ایک ایک ایک ایک ایک ایک ایک ایک ایک ایک ایک ایک ایک ایک ایک ایک ایک ایک ایک ایک ایک ایک ایک ایک ایک ایک ایک ایک ایک ایک ایک ایک ایک ایک ایک ایک ایک ایک ایک ایک ایک ایک ایک ایک ایک ایک ایک ایک ایک ایک ایک ایک ایک ایک ایک ایک ایک ایک ایک ایک ایک ایک ایک ایک ایک ایک ایک ایک ایک ایک ایک ایک ایک ایک ایک ایک ایک ایک ایک ایک ایک ایک ایک ایک ایک ایک ایک ایک ایک ایک ایک ایک ایک ایک ایک ایک ایک ایک ایک ایک ایک ایک ایک ایک ایک ایک ایک ایک ایک ایک ایک ایک ایک ایک ایک ایک ایک ایک ایک ایک ایک ایک ایک ایک ایک ایک ایک ایک ایک ایک ایک ایک ایک ایک ایک ایک ایک ایک ایک ایک ایک ایک ایک ایک ایک ایک ایک ایک ایک ایک ایک ایک ایک ایک ایک ایک ایک ایک ایک ایک ایک ایک ایک ایک ایک ایک ایک ایک ایک ایک ایک ایک ایک\n",
      "🔸 Reference: Er wird von Alexander Grimm gesprochen.\n"
     ]
    },
    {
     "name": "stderr",
     "output_type": "stream",
     "text": [
      "\r",
      " 80%|████████  | 80/100 [04:11<01:27,  4.39s/it]"
     ]
    },
    {
     "name": "stdout",
     "output_type": "stream",
     "text": [
      "🔹 Predicted:  ہمیں گے وہ کچھ کچھ کچھ کچھ کچھ کچھ کچھ کچھ کچھ کچھ کچھ کچھ کچھ کچھ کچھ کچھ کچھ کچھ کچھ کچھ کچھ کچھ کچھ کچھ کچھ کچھ کچھ کچھ کچھ کچھ کچھ کچھ کچھ کچھ کچھ کچھ کچھ کچھ کچھ کچھ کچھ کچھ کچھ کچھ کچھ کچھ کچھ کچھ کچھ کچھ کچھ کچھ کچھ کچھ کچھ کچھ کچھ کچھ کچھ کچھ کچھ کچھ کچھ کچھ کچھ کچھ کچھ کچھ کچھ کچھ کچھ کچھ کچھ کچھ کچھ کچھ کچھ کچھ کچھ کچھ کچھ کچھ کچھ کچھ کچھ کچھ کچھ کچھ کچھ کچھ کچھ کچھ کچھ کچھ کچھ کچھ کچھ کچھ کچھ کچھ کچھ کچھ کچھ کچھ کچھ کچھ کچھ کچھ کچھ کچھ کچھ کچھ کچھ کچھ کچھ کچھ کچھ کچھ کچھ کچھ کچھ کچھ کچھ کچھ کچھ کچھ کچھ کچھ کچھ کچھ کچھ کچھ کچھ کچھ کچھ کچھ کچھ کچھ کچھ کچھ کچھ کچھ کچھ کچھ کچھ کچھ\n",
      "🔸 Reference: Anschließend studierte er in Heidelberg Jura.\n"
     ]
    },
    {
     "name": "stderr",
     "output_type": "stream",
     "text": [
      " 82%|████████▏ | 82/100 [04:11<00:41,  2.31s/it]"
     ]
    },
    {
     "name": "stdout",
     "output_type": "stream",
     "text": [
      "🔹 Predicted:  ஏன்று நில்லையும் போக்கிறாய்விற்கும் போகிறாய் அல்லவா?\n",
      "🔸 Reference: Es werden vier Unterarten unterschieden.\n",
      "🔹 Predicted:  [Pause]\n",
      "🔸 Reference: Seine beste Platzierung war der sechste Platz beim Großen Preis von Valencia.\n"
     ]
    },
    {
     "name": "stderr",
     "output_type": "stream",
     "text": [
      "\r",
      " 83%|████████▎ | 83/100 [04:16<00:52,  3.08s/it]"
     ]
    },
    {
     "name": "stdout",
     "output_type": "stream",
     "text": [
      "🔹 Predicted:  پیز پیز پیز پیز پیز پیز پیز پیز پیز پیز پیز پیز پیز پیز پیز پیز پیز پیز پیز پیز پیز پیز پیز پیز پیز پیز پیز پیز پیز پیز پیز پیز پیز پیز پیز پیز پیز پیز پیز پیز پیز پیز پیز پیز پیز پیز پیز پیز پیز پیز پیز پیز پیز پیز پیز پیز پیز پیز پیز پیز پیز پیز پیز پیز پیز پیز پیز پیز پیز پیز پیز پیز پیز پیز پیز پیز پیز پیز پیز پیز پیز پیز پیز پیز پیز پیز پیز پیز پیز پیز پیز پیز پیز پیز پیز پیز پیز پیز پیز پیز پیز پیز پیز پیز پیز پیز پیز پیز پیز پیز پیز پیز پیز پیز پیز پیز پیز پیز پیز پیز پیز پیز پیز پیز پیز پیز پیز پیز پیز پیز پیز پیز پیز پیز پیز پیز پیز پیز پیز پیز پیز پیز پیز پیز پیز پیز پیز پیز\n",
      "🔸 Reference: Eine weitere um einen Stein gewickelte Botschaft fliegt anschließend durch Baldwins Fenster.\n"
     ]
    },
    {
     "name": "stderr",
     "output_type": "stream",
     "text": [
      "\r",
      " 84%|████████▍ | 84/100 [04:21<00:57,  3.62s/it]"
     ]
    },
    {
     "name": "stdout",
     "output_type": "stream",
     "text": [
      "🔹 Predicted:  پیز پیز پیز پیز پیز پیز پیز پیز پیز پیز پیز پیز پیز پیز پیز پیز پیز پیز پیز پیز پیز پیز پیز پیز پیز پیز پیز پیز پیز پیز پیز پیز پیز پیز پیز پیز پیز پیز پیز پیز پیز پیز پیز پیز پیز پیز پیز پیز پیز پیز پیز پیز پیز پیز پیز پیز پیز پیز پیز پیز پیز پیز پیز پیز پیز پیز پیز پیز پیز پیز پیز پیز پیز پیز پیز پیز پیز پیز پیز پیز پیز پیز پیز پیز پیز پیز پیز پیز پیز پیز پیز پیز پیز پیز پیز پیز پیز پیز پیز پیز پیز پیز پیز پیز پیز پیز پیز پیز پیز پیز پیز پیز پیز پیز پیز پیز پیز پیز پیز پیز پیز پیز پیز پیز پیز پیز پیز پیز پیز پیز پیز پیز پیز پیز پیز پیز پیز پیز پیز پیز پیز پیز پیز پیز پیز پیز پیز پیز\n",
      "🔸 Reference: Armee in die \"Hagen Stellung\" zurückgezogen.\n"
     ]
    },
    {
     "name": "stderr",
     "output_type": "stream",
     "text": [
      "\r",
      " 85%|████████▌ | 85/100 [04:26<00:59,  4.00s/it]"
     ]
    },
    {
     "name": "stdout",
     "output_type": "stream",
     "text": [
      "🔹 Predicted:  کیا私は、私の手により、私の手により、私の手により、私の手により、私の手により、私の手により、私の手により、私の手により、私の手により、私の手により、私の手により、私の手により、私の手により、私の手により、私の手により、私の手により、私の手により、私の手により、私の手により、私の手により、私の手により、私の手により、私の手により、私の手により、私の手により、私の手により、私の手により、私の手により、私の手により、私の手により、私の手により、私の手により、私の手により、私の手により、私の手により、私の手により、私の手により、私の手により、私の手により、私の手により、私の手により、私の手により、私の手により、私の手により、私の手により、私の手により、私の手により、私の手により、私の手により、私の手により、私の手により、私の手により、私の手により、私の手により、私の手により、私の手により、私の手により、私の手により、私の手により、私の手により、私の手により、私の手により、私\n",
      "🔸 Reference: Sie wird von einem Gemeindepastor betreut.\n"
     ]
    },
    {
     "name": "stderr",
     "output_type": "stream",
     "text": [
      " 87%|████████▋ | 87/100 [04:31<00:39,  3.02s/it]"
     ]
    },
    {
     "name": "stdout",
     "output_type": "stream",
     "text": [
      "🔹 Predicted:  کیا کہاں ایک کچھا کہاں ایک کچھا کہاں ایک کچھا کہاں ایک کچھا کہاں ایک کچھا کہاں ایک کچھا کہاں ایک کچھا کہاں ایک کچھا کہاں ایک کچھا کہاں ایک کچھا کہاں ایک کچھا کہاں ایک کچھا کہاں ایک کچھا کہاں ایک کچھا کہاں ایک کچھا کہاں ایک کچھا کہاں ایک کچھا کہاں ایک کچھا کہاں ایک کچھا کہاں ایک کچھا کہاں ایک کچھا کہاں ایک کچھا کہاں ایک کچھا کہاں ایک کچھا کہاں ایک کچھا کہاں ایک کچھا کہاں ایک کچھا کہاں ایک کچھا کہاں ایک کچھا کہاں ایک کچھا کہاں ایک کچھا کہاں ایک کچھا کہاں ایک کچھا کہاں ایک کچھا کہاں ایک کچھا کہاں ایک کچھا کہاں ایک کچھا کہاں ایک کچھا کہاں ایک کچھا کہاں ایک کچھا کہاں ایک کچھا کہاں ایک کچھا کہاں ایک کچھا کہاں ایک کچھا کہاں ایک کچھا کہاں ایک کچھا کہاں ایک کچھا کہاں ایک کچھا کہاں ایک کچھا کہ\n",
      "🔸 Reference: Die Buchstabenformen sind angelehnt an die Formen der Textura.\n",
      "🔹 Predicted:  کیا ہے؟\n",
      "🔸 Reference: Die deutschen Bewohner wurden vertrieben und die Einwohnerzahl sank drastisch.\n"
     ]
    },
    {
     "name": "stderr",
     "output_type": "stream",
     "text": [
      "\r",
      " 88%|████████▊ | 88/100 [04:36<00:43,  3.59s/it]"
     ]
    },
    {
     "name": "stdout",
     "output_type": "stream",
     "text": [
      "🔹 Predicted:  پیر کچھا کچھا کچھا کچھا کچھا کچھا کچھا کچھا کچھا کچھا کچھا کچھا کچھا کچھا کچھا کچھا کچھا کچھا کچھا کچھا کچھا کچھا کچھا کچھا کچھا کچھا کچھا کچھا کچھا کچھا کچھا کچھا کچھا کچھا کچھا کچھا کچھا کچھا کچھا کچھا کچھا کچھا کچھا کچھا کچھا کچھا کچھا کچھا کچھا کچھا کچھا کچھا کچھا کچھا کچھا کچھا کچھا کچھا کچھا کچھا کچھا کچھا کچھا کچھا کچھا کچھا کچھا کچھا کچھا کچھا کچھا کچھا کچھا کچھا کچھا کچھا کچھا کچھا کچھا کچھا کچھا کچھا کچھا کچھا کچھا کچھا کچھا کچھا کچھا کچھا کچھا کچھا کچھا کچھا کچھا کچھا کچھا کچھا کچھا کچھا کچھا کچھا کچھا کچھا کچھا کچھا کچھا کچھا کچھا کچھا ک\n",
      "🔸 Reference: Kossoff und Kirke verließen die Formation und gründeten die Band Free.\n",
      "🔹 Predicted:  کیا ہے\n",
      "🔸 Reference: Artelt war mit Marie Artelt, geborene Neumann verheiratet.\n"
     ]
    },
    {
     "name": "stderr",
     "output_type": "stream",
     "text": [
      "\r",
      " 90%|█████████ | 90/100 [04:36<00:19,  1.99s/it]"
     ]
    },
    {
     "name": "stdout",
     "output_type": "stream",
     "text": [
      "🔹 Predicted:  [Police sirens]\n",
      "🔸 Reference: Er wurde außerdem mehrfach in die Niedersachsen- und die Nordwestdeutsche Auswahl berufen.\n"
     ]
    },
    {
     "name": "stderr",
     "output_type": "stream",
     "text": [
      "\r",
      " 91%|█████████ | 91/100 [04:41<00:24,  2.71s/it]"
     ]
    },
    {
     "name": "stdout",
     "output_type": "stream",
     "text": [
      "🔹 Predicted:  ہمیں گی ہے کہ ہمیں ایک ایک ایک ایک ایک ایک ایک ایک ایک ایک ایک ایک ایک ایک ایک ایک ایک ایک ایک ایک ایک ایک ایک ایک ایک ایک ایک ایک ایک ایک ایک ایک ایک ایک ایک ایک ایک ایک ایک ایک ایک ایک ایک ایک ایک ایک ایک ایک ایک ایک ایک ایک ایک ایک ایک ایک ایک ایک ایک ایک ایک ایک ایک ایک ایک ایک ایک ایک ایک ایک ایک ایک ایک ایک ایک ایک ایک ایک ایک ایک ایک ایک ایک ایک ایک ایک ایک ایک ایک ایک ایک ایک ایک ایک ایک ایک ایک ایک ایک ایک ایک ایک ایک ایک ایک ایک ایک ایک ایک ایک ایک ایک ایک ایک ایک ایک ایک ایک ایک ایک ایک ایک ایک ایک ایک ایک ایک ایک ایک ایک ایک ایک ایک ایک ایک ایک ایک ایک ایک ایک ایک ایک ایک ایک ایک ایک ایک ایک ایک ایک ایک ایک ایک ایک ایک ایک ایک ایک ایک ایک ایک ایک ایک ایک ایک ایک ایک ایک ایک ایک ایک ایک ایک ایک ایک ایک ایک ایک ایک ایک ایک ایک ایک ایک ایک ایک ایک ایک ایک ایک ایک ایک ایک ایک ایک ایک ایک ایک ایک ایک ایک ایک ایک ایک ایک ایک ایک ایک ایک ایک ایک ایک ایک ایک ایک ایک ایک\n",
      "🔸 Reference: Friedrich Strobl ist verheiratet und hat zwei Kinder.\n"
     ]
    },
    {
     "name": "stderr",
     "output_type": "stream",
     "text": [
      "\r",
      " 92%|█████████▏| 92/100 [04:46<00:26,  3.30s/it]"
     ]
    },
    {
     "name": "stdout",
     "output_type": "stream",
     "text": [
      "🔹 Predicted:  Въръв е не е не е е не е е е е е е е е е е е е е е е е е е е е е е е е е е е е е е е е е е е е е е е е е е е е е е е е е е е е е е е е е е е е е е е е е е е е е е е е е е е е е е е е е е е е е е е е е е е е е е е е е е е е е е е е е е е е е е е е е е е е е е е е е е е е е е е е е е е е е е е е е е е е е е е е е е е е е е е е е е е е е е е е е е е е е е е е е е е е е е е е е е е е е е е е е е е е е е е е е е е е е е е е е е е е е е е е е е е е е е е е е е е е е е е е е е е е е е е е е е е е е е е е е е е е е е е е е е е е е е е е е е е е е е е е е е е е е е е е е е е е е е е е е е е е е е е е е е е е е е е е е е е е е е е е е е е е е е е е е е е е е е е е е е е е е е е е е е е е е е е е е е е е е е е е е е е е е е е е е е е е е е е е е е е е е е е е е е е е е е е е е е е е е е е е е е е е е е е е е е е е е е е е е е е е е е е е е е е е е е е е е е е е е е е е е е е е е е е е\n",
      "🔸 Reference: In militärische Auseinandersetzungen war das Tor nie verwickelt.\n"
     ]
    },
    {
     "name": "stderr",
     "output_type": "stream",
     "text": [
      "\r",
      " 93%|█████████▎| 93/100 [04:51<00:25,  3.71s/it]"
     ]
    },
    {
     "name": "stdout",
     "output_type": "stream",
     "text": [
      "🔹 Predicted:  Въръв е не е не е е не е е е е е е е е е е е е е е е е е е е е е е е е е е е е е е е е е е е е е е е е е е е е е е е е е е е е е е е е е е е е е е е е е е е е е е е е е е е е е е е е е е е е е е е е е е е е е е е е е е е е е е е е е е е е е е е е е е е е е е е е е е е е е е е е е е е е е е е е е е е е е е е е е е е е е е е е е е е е е е е е е е е е е е е е е е е е е е е е е е е е е е е е е е е е е е е е е е е е е е е е е е е е е е е е е е е е е е е е е е е е е е е е е е е е е е е е е е е е е е е е е е е е е е е е е е е е е е е е е е е е е е е е е е е е е е е е е е е е е е е е е е е е е е е е е е е е е е е е е е е е е е е е е е е е е е е е е е е е е е е е е е е е е е е е е е е е е е е е е е е е е е е е е е е е е е е е е е е е е е е е е е е е е е е е е е е е е е е е е е е е е е е е е е е е е е е е е е е е е е е е е е е е е е е е е е е е е е е е е е е е е е е е е е е е е е е е\n",
      "🔸 Reference: Die Nahrung besteht aus Früchten, Insekten, Krebsen, Kleinsäugern, sowie kleineren Vögeln und deren Eiern.\n"
     ]
    },
    {
     "name": "stderr",
     "output_type": "stream",
     "text": [
      "\r",
      " 94%|█████████▍| 94/100 [04:56<00:24,  4.02s/it]"
     ]
    },
    {
     "name": "stdout",
     "output_type": "stream",
     "text": [
      "🔹 Predicted:  Въръв е не е не е е не е е е е е е е е е е е е е е е е е е е е е е е е е е е е е е е е е е е е е е е е е е е е е е е е е е е е е е е е е е е е е е е е е е е е е е е е е е е е е е е е е е е е е е е е е е е е е е е е е е е е е е е е е е е е е е е е е е е е е е е е е е е е е е е е е е е е е е е е е е е е е е е е е е е е е е е е е е е е е е е е е е е е е е е е е е е е е е е е е е е е е е е е е е е е е е е е е е е е е е е е е е е е е е е е е е е е е е е е е е е е е е е е е е е е е е е е е е е е е е е е е е е е е е е е е е е е е е е е е е е е е е е е е е е е е е е е е е е е е е е е е е е е е е е е е е е е е е е е е е е е е е е е е е е е е е е е е е е е е е е е е е е е е е е е е е е е е е е е е е е е е е е е е е е е е е е е е е е е е е е е е е е е е е е е е е е е е е е е е е е е е е е е е е е е е е е е е е е е е е е е е е е е е е е е е е е е е е е е е е е е е е е е е е е е е е е е\n",
      "🔸 Reference: Sie ist mit Sophia Loren befreundet.\n"
     ]
    },
    {
     "name": "stderr",
     "output_type": "stream",
     "text": [
      "\r",
      " 95%|█████████▌| 95/100 [05:00<00:21,  4.25s/it]"
     ]
    },
    {
     "name": "stdout",
     "output_type": "stream",
     "text": [
      "🔹 Predicted:  Въръв е не е не е е не е е е е е е е е е е е е е е е е е е е е е е е е е е е е е е е е е е е е е е е е е е е е е е е е е е е е е е е е е е е е е е е е е е е е е е е е е е е е е е е е е е е е е е е е е е е е е е е е е е е е е е е е е е е е е е е е е е е е е е е е е е е е е е е е е е е е е е е е е е е е е е е е е е е е е е е е е е е е е е е е е е е е е е е е е е е е е е е е е е е е е е е е е е е е е е е е е е е е е е е е е е е е е е е е е е е е е е е е е е е е е е е е е е е е е е е е е е е е е е е е е е е е е е е е е е е е е е е е е е е е е е е е е е е е е е е е е е е е е е е е е е е е е е е е е е е е е е е е е е е е е е е е е е е е е е е е е е е е е е е е е е е е е е е е е е е е е е е е е е е е е е е е е е е е е е е е е е е е е е е е е е е е е е е е е е е е е е е е е е е е е е е е е е е е е е е е е е е е е е е е е е е е е е е е е е е е е е е е е е е е е е е е е е е е е е е е\n",
      "🔸 Reference: Wir müssen uns auch stärker um die Ressourcen kümmern.\n"
     ]
    },
    {
     "name": "stderr",
     "output_type": "stream",
     "text": [
      "\r",
      " 96%|█████████▌| 96/100 [05:05<00:17,  4.43s/it]"
     ]
    },
    {
     "name": "stdout",
     "output_type": "stream",
     "text": [
      "🔹 Predicted:  Въръв е не е не е е не е е е е е е е е е е е е е е е е е е е е е е е е е е е е е е е е е е е е е е е е е е е е е е е е е е е е е е е е е е е е е е е е е е е е е е е е е е е е е е е е е е е е е е е е е е е е е е е е е е е е е е е е е е е е е е е е е е е е е е е е е е е е е е е е е е е е е е е е е е е е е е е е е е е е е е е е е е е е е е е е е е е е е е е е е е е е е е е е е е е е е е е е е е е е е е е е е е е е е е е е е е е е е е е е е е е е е е е е е е е е е е е е е е е е е е е е е е е е е е е е е е е е е е е е е е е е е е е е е е е е е е е е е е е е е е е е е е е е е е е е е е е е е е е е е е е е е е е е е е е е е е е е е е е е е е е е е е е е е е е е е е е е е е е е е е е е е е е е е е е е е е е е е е е е е е е е е е е е е е е е е е е е е е е е е е е е е е е е е е е е е е е е е е е е е е е е е е е е е е е е е е е е е е е е е е е е е е е е е е е е е е е е е е е е е е е е\n",
      "🔸 Reference: Durch die veränderten Lebensbedingungen hat Kreuzberg als Unternehmensstandort an Attraktivität gewonnen.\n"
     ]
    },
    {
     "name": "stderr",
     "output_type": "stream",
     "text": [
      "\r",
      " 97%|█████████▋| 97/100 [05:10<00:13,  4.57s/it]"
     ]
    },
    {
     "name": "stdout",
     "output_type": "stream",
     "text": [
      "🔹 Predicted:  پیر کچھا کچھا کچھا کچھا کچھا کچھا کچھا کچھا کچھا کچھا کچھا کچھا کچھا کچھا کچھا کچھا کچھا کچھا کچھا کچھا کچھا کچھا کچھا کچھا کچھا کچھا کچھا کچھا کچھا کچھا کچھا کچھا کچھا کچھا کچھا کچھا کچھا کچھا کچھا کچھا کچھا کچھا کچھا کچھا کچھا کچھا کچھا کچھا کچھا کچھا کچھا کچھا کچھا کچھا کچھا کچھا کچھا کچھا کچھا کچھا کچھا کچھا کچھا کچھا کچھا کچھا کچھا کچھا کچھا کچھا کچھا کچھا کچھا کچھا کچھا کچھا کچھا کچھا کچھا کچھا کچھا کچھا کچھا کچھا کچھا کچھا کچھا کچھا کچھا کچھا کچھا کچھا کچھا کچھا کچھا کچھا کچھا کچھا کچھا کچھا کچھا کچھا کچھا کچھا کچھا کچھا کچھا کچھا کچھا کچھا ک\n",
      "🔸 Reference: In diesem Jahr gewann Unternehmensgründer Günther Irmscher sen.\n"
     ]
    },
    {
     "name": "stderr",
     "output_type": "stream",
     "text": [
      "\r",
      " 98%|█████████▊| 98/100 [05:15<00:09,  4.65s/it]"
     ]
    },
    {
     "name": "stdout",
     "output_type": "stream",
     "text": [
      "🔹 Predicted:  پیر کچھا کچھا کچھا کچھا کچھا کچھا کچھا کچھا کچھا کچھا کچھا کچھا کچھا کچھا کچھا کچھا کچھا کچھا کچھا کچھا کچھا کچھا کچھا کچھا کچھا کچھا کچھا کچھا کچھا کچھا کچھا کچھا کچھا کچھا کچھا کچھا کچھا کچھا کچھا کچھا کچھا کچھا کچھا کچھا کچھا کچھا کچھا کچھا کچھا کچھا کچھا کچھا کچھا کچھا کچھا کچھا کچھا کچھا کچھا کچھا کچھا کچھا کچھا کچھا کچھا کچھا کچھا کچھا کچھا کچھا کچھا کچھا کچھا کچھا کچھا کچھا کچھا کچھا کچھا کچھا کچھا کچھا کچھا کچھا کچھا کچھا کچھا کچھا کچھا کچھا کچھا کچھا کچھا کچھا کچھا کچھا کچھا کچھا کچھا کچھا کچھا کچھا کچھا کچھا کچھا کچھا کچھا کچھا کچھا کچھا ک\n",
      "🔸 Reference: Their success or failure in relation to social citizenship policies“.\n"
     ]
    },
    {
     "name": "stderr",
     "output_type": "stream",
     "text": [
      "100%|██████████| 100/100 [05:20<00:00,  3.20s/it]"
     ]
    },
    {
     "name": "stdout",
     "output_type": "stream",
     "text": [
      "🔹 Predicted:  Върде е не е е не е е е е е е е е е е е е е е е е е е е е е е е е е е е е е е е е е е е е е е е е е е е е е е е е е е е е е е е е е е е е е е е е е е е е е е е е е е е е е е е е е е е е е е е е е е е е е е е е е е е е е е е е е е е е е е е е е е е е е е е е е е е е е е е е е е е е е е е е е е е е е е е е е е е е е е е е е е е е е е е е е е е е е е е е е е е е е е е е е е е е е е е е е е е е е е е е е е е е е е е е е е е е е е е е е е е е е е е е е е е е е е е е е е е е е е е е е е е е е е е е е е е е е е е е е е е е е е е е е е е е е е е е е е е е е е е е е е е е е е е е е е е е е е е е е е е е е е е е е е е е е е е е е е е е е е е е е е е е е е е е е е е е е е е е е е е е е е е е е е е е е е е е е е е е е е е е е е е е е е е е е е е е е е е е е е е е е е е е е е е е е е е е е е е е е е е е е е е е е е е е е е е е е е е е е е е е е е е е е е е е е е е е е е е е е е е е е е е\n",
      "🔸 Reference: Zudem weist es auch eine antibakterielle und entzündungshemmende Wirkung auf.\n",
      "🔹 Predicted:  [Police sirens]\n",
      "🔸 Reference: Wisst ihr eigentlich, was ihr da losgetreten habt?\n",
      "✅ DE WER: 18.5316\n"
     ]
    },
    {
     "name": "stderr",
     "output_type": "stream",
     "text": [
      "\n"
     ]
    }
   ],
   "source": [
    "import torch\n",
    "from jiwer import wer\n",
    "from tqdm import tqdm\n",
    "\n",
    "lang_list = [\"ko\", \"en\", \"ja\", \"de\"]\n",
    "lang_wer_results = {}\n",
    "\n",
    "for lang in lang_list:\n",
    "    print(f\"🌍 Language: {lang}\")\n",
    "    lang_data = [x for x in val_dataset if x[\"locale\"] == lang]\n",
    "\n",
    "    predictions, references = [], []\n",
    "\n",
    "    for sample in tqdm(lang_data):\n",
    "        input_features = processor.feature_extractor(\n",
    "            sample[\"audio\"][\"array\"], sampling_rate=16000, return_tensors=\"pt\"\n",
    "        ).input_features.to(model.device)\n",
    "\n",
    "        decoder_ids = processor.get_decoder_prompt_ids(language=sample[\"locale\"], task=\"transcribe\")\n",
    "        model.config.forced_decoder_ids = decoder_ids\n",
    "\n",
    "        with torch.no_grad():\n",
    "            predicted_ids = model.generate(input_features)\n",
    "\n",
    "        transcription = processor.batch_decode(predicted_ids, skip_special_tokens=True)[0]\n",
    "        predictions.append(transcription)\n",
    "        references.append(sample[\"sentence\"])\n",
    "\n",
    "        print(f\"🔹 Predicted: {transcription}\")\n",
    "        print(f\"🔸 Reference: {sample['sentence']}\")\n",
    "\n",
    "    score = wer(references, predictions)\n",
    "    lang_wer_results[lang] = score\n",
    "    print(f\"✅ {lang.upper()} WER: {score:.4f}\")\n"
   ]
  },
  {
   "cell_type": "code",
   "execution_count": 10,
   "metadata": {},
   "outputs": [
    {
     "name": "stdout",
     "output_type": "stream",
     "text": [
      "\n",
      "📊 WER 결과 (낮을수록 정확)\n",
      "EN : 9.6846\n",
      "KO : 14.0879\n",
      "DE : 18.5316\n",
      "JA : 110.6800\n"
     ]
    },
    {
     "data": {
      "image/png": "[encoded data removed]",
      "text/plain": [
       "<Figure size 800x500 with 1 Axes>"
      ]
     },
     "metadata": {},
     "output_type": "display_data"
    }
   ],
   "source": [
    "import matplotlib.pyplot as plt\n",
    "import numpy as np\n",
    "\n",
    "print(\"\\n📊 WER 결과 (낮을수록 정확)\")\n",
    "for lang, score in sorted(lang_wer_results.items(), key=lambda x: x[1]):\n",
    "    print(f\"{lang.upper()} : {score:.4f}\")\n",
    "\n",
    "langs_sorted = [x[0] for x in sorted(lang_wer_results.items(), key=lambda x: x[1])]\n",
    "scores_sorted = [x[1] for x in sorted(lang_wer_results.items(), key=lambda x: x[1])]\n",
    "\n",
    "plt.figure(figsize=(8,5))\n",
    "plt.bar(langs_sorted, scores_sorted)\n",
    "plt.title(\"WER by Language (Whisper-base Run 1)\")\n",
    "plt.xlabel(\"Language\")\n",
    "plt.ylabel(\"WER\")\n",
    "\n",
    "for i, v in enumerate(scores_sorted):\n",
    "    plt.text(i, v + 0.01, f\"{v:.3f}\", ha='center')\n",
    "\n",
    "plt.tight_layout()\n",
    "plt.savefig(\"wer_tiny_base.png\")\n",
    "plt.show()"
   ]
  }
 ],
 "metadata": {
  "language_info": {
   "name": "python"
  }
 },
 "nbformat": 4,
 "nbformat_minor": 0
}
