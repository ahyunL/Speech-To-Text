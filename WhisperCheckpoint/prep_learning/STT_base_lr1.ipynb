{
 "cells": [
  {
   "cell_type": "code",
   "execution_count": 1,
   "metadata": {},
   "outputs": [
    {
     "name": "stdout",
     "output_type": "stream",
     "text": [
      "\u001b[?25l   \u001b[90m━━━━━━━━━━━━━━━━━━━━━━━━━━━━━━━━━━━━━━━━\u001b[0m \u001b[32m0.0/491.5 kB\u001b[0m \u001b[31m?\u001b[0m eta \u001b[36m-:--:--\u001b[0m\r",
      "\u001b[2K   \u001b[90m━━━━━━━━━━━━━━━━━━━━━━━━━━━━━━━━━━━━━━━━\u001b[0m \u001b[32m491.5/491.5 kB\u001b[0m \u001b[31m39.0 MB/s\u001b[0m eta \u001b[36m0:00:00\u001b[0m\n",
      "\u001b[?25h\u001b[?25l   \u001b[90m━━━━━━━━━━━━━━━━━━━━━━━━━━━━━━━━━━━━━━━━\u001b[0m \u001b[32m0.0/116.3 kB\u001b[0m \u001b[31m?\u001b[0m eta \u001b[36m-:--:--\u001b[0m\r",
      "\u001b[2K   \u001b[90m━━━━━━━━━━━━━━━━━━━━━━━━━━━━━━━━━━━━━━━━\u001b[0m \u001b[32m116.3/116.3 kB\u001b[0m \u001b[31m11.8 MB/s\u001b[0m eta \u001b[36m0:00:00\u001b[0m\n",
      "\u001b[?25h\u001b[?25l   \u001b[90m━━━━━━━━━━━━━━━━━━━━━━━━━━━━━━━━━━━━━━━━\u001b[0m \u001b[32m0.0/193.6 kB\u001b[0m \u001b[31m?\u001b[0m eta \u001b[36m-:--:--\u001b[0m\r",
      "\u001b[2K   \u001b[90m━━━━━━━━━━━━━━━━━━━━━━━━━━━━━━━━━━━━━━━━\u001b[0m \u001b[32m193.6/193.6 kB\u001b[0m \u001b[31m20.4 MB/s\u001b[0m eta \u001b[36m0:00:00\u001b[0m\n",
      "\u001b[?25h\u001b[?25l   \u001b[90m━━━━━━━━━━━━━━━━━━━━━━━━━━━━━━━━━━━━━━━━\u001b[0m \u001b[32m0.0/143.5 kB\u001b[0m \u001b[31m?\u001b[0m eta \u001b[36m-:--:--\u001b[0m\r",
      "\u001b[2K   \u001b[90m━━━━━━━━━━━━━━━━━━━━━━━━━━━━━━━━━━━━━━━━\u001b[0m \u001b[32m143.5/143.5 kB\u001b[0m \u001b[31m15.7 MB/s\u001b[0m eta \u001b[36m0:00:00\u001b[0m\n",
      "\u001b[2K   \u001b[90m━━━━━━━━━━━━━━━━━━━━━━━━━━━━━━━━━━━━━━━━\u001b[0m \u001b[32m3.1/3.1 MB\u001b[0m \u001b[31m112.1 MB/s\u001b[0m eta \u001b[36m0:00:00\u001b[0m\n",
      "\u001b[2K   \u001b[90m━━━━━━━━━━━━━━━━━━━━━━━━━━━━━━━━━━━━━━━━\u001b[0m \u001b[32m363.4/363.4 MB\u001b[0m \u001b[31m3.3 MB/s\u001b[0m eta \u001b[36m0:00:00\u001b[0m\n",
      "\u001b[2K   \u001b[90m━━━━━━━━━━━━━━━━━━━━━━━━━━━━━━━━━━━━━━━━\u001b[0m \u001b[32m13.8/13.8 MB\u001b[0m \u001b[31m119.6 MB/s\u001b[0m eta \u001b[36m0:00:00\u001b[0m\n",
      "\u001b[2K   \u001b[90m━━━━━━━━━━━━━━━━━━━━━━━━━━━━━━━━━━━━━━━━\u001b[0m \u001b[32m24.6/24.6 MB\u001b[0m \u001b[31m98.4 MB/s\u001b[0m eta \u001b[36m0:00:00\u001b[0m\n",
      "\u001b[2K   \u001b[90m━━━━━━━━━━━━━━━━━━━━━━━━━━━━━━━━━━━━━━━━\u001b[0m \u001b[32m883.7/883.7 kB\u001b[0m \u001b[31m57.1 MB/s\u001b[0m eta \u001b[36m0:00:00\u001b[0m\n",
      "\u001b[2K   \u001b[90m━━━━━━━━━━━━━━━━━━━━━━━━━━━━━━━━━━━━━━━━\u001b[0m \u001b[32m664.8/664.8 MB\u001b[0m \u001b[31m2.1 MB/s\u001b[0m eta \u001b[36m0:00:00\u001b[0m\n",
      "\u001b[2K   \u001b[90m━━━━━━━━━━━━━━━━━━━━━━━━━━━━━━━━━━━━━━━━\u001b[0m \u001b[32m211.5/211.5 MB\u001b[0m \u001b[31m6.3 MB/s\u001b[0m eta \u001b[36m0:00:00\u001b[0m\n",
      "\u001b[2K   \u001b[90m━━━━━━━━━━━━━━━━━━━━━━━━━━━━━━━━━━━━━━━━\u001b[0m \u001b[32m56.3/56.3 MB\u001b[0m \u001b[31m44.6 MB/s\u001b[0m eta \u001b[36m0:00:00\u001b[0m\n",
      "\u001b[2K   \u001b[90m━━━━━━━━━━━━━━━━━━━━━━━━━━━━━━━━━━━━━━━━\u001b[0m \u001b[32m127.9/127.9 MB\u001b[0m \u001b[31m19.5 MB/s\u001b[0m eta \u001b[36m0:00:00\u001b[0m\n",
      "\u001b[2K   \u001b[90m━━━━━━━━━━━━━━━━━━━━━━━━━━━━━━━━━━━━━━━━\u001b[0m \u001b[32m207.5/207.5 MB\u001b[0m \u001b[31m3.9 MB/s\u001b[0m eta \u001b[36m0:00:00\u001b[0m\n",
      "\u001b[2K   \u001b[90m━━━━━━━━━━━━━━━━━━━━━━━━━━━━━━━━━━━━━━━━\u001b[0m \u001b[32m21.1/21.1 MB\u001b[0m \u001b[31m110.1 MB/s\u001b[0m eta \u001b[36m0:00:00\u001b[0m\n",
      "\u001b[2K   \u001b[90m━━━━━━━━━━━━━━━━━━━━━━━━━━━━━━━━━━━━━━━━\u001b[0m \u001b[32m194.8/194.8 kB\u001b[0m \u001b[31m19.9 MB/s\u001b[0m eta \u001b[36m0:00:00\u001b[0m\n",
      "\u001b[?25h\u001b[31mERROR: pip's dependency resolver does not currently take into account all the packages that are installed. This behaviour is the source of the following dependency conflicts.\n",
      "gcsfs 2025.3.2 requires fsspec==2025.3.2, but you have fsspec 2025.3.0 which is incompatible.\u001b[0m\u001b[31m\n",
      "\u001b[0mMounted at /content/drive\n"
     ]
    },
    {
     "data": {
      "application/vnd.jupyter.widget-view+json": {
       "model_id": "06daee48655f40cf9f281d0fe4bf173c",
       "version_major": 2,
       "version_minor": 0
      },
      "text/plain": [
       "VBox(children=(HTML(value='<center> <img\\nsrc=https://huggingface.co/front/assets/huggingface_logo-noborder.sv…"
      ]
     },
     "metadata": {},
     "output_type": "display_data"
    }
   ],
   "source": [
    "!pip install -q datasets transformers librosa jiwer accelerate\n",
    "\n",
    "from google.colab import drive\n",
    "from huggingface_hub import notebook_login\n",
    "\n",
    "drive.mount(\"/content/drive\")\n",
    "notebook_login()"
   ]
  },
  {
   "cell_type": "markdown",
   "metadata": {
    "id": "fFHqBaAAZO-E"
   },
   "source": [
    "## __1.Load datasets__"
   ]
  },
  {
   "cell_type": "code",
   "execution_count": 2,
   "metadata": {},
   "outputs": [
    {
     "name": "stderr",
     "output_type": "stream",
     "text": [
      "/usr/local/lib/python3.11/dist-packages/huggingface_hub/utils/_auth.py:94: UserWarning: \n",
      "The secret `HF_TOKEN` does not exist in your Colab secrets.\n",
      "To authenticate with the Hugging Face Hub, create a token in your settings tab (https://huggingface.co/settings/tokens), set it as secret in your Google Colab and restart your session.\n",
      "You will be able to reuse this secret in all of your notebooks.\n",
      "Please note that authentication is recommended but still optional to access public models or datasets.\n",
      "  warnings.warn(\n"
     ]
    },
    {
     "data": {
      "application/vnd.jupyter.widget-view+json": {
       "model_id": "1970d3173ece4d13a88118104675d8bf",
       "version_major": 2,
       "version_minor": 0
      },
      "text/plain": [
       "README.md:   0%|          | 0.00/14.7k [00:00<?, ?B/s]"
      ]
     },
     "metadata": {},
     "output_type": "display_data"
    },
    {
     "data": {
      "application/vnd.jupyter.widget-view+json": {
       "model_id": "dcb5919dd13c40a3ba924c6f6b59c812",
       "version_major": 2,
       "version_minor": 0
      },
      "text/plain": [
       "common_voice_13_0.py:   0%|          | 0.00/8.18k [00:00<?, ?B/s]"
      ]
     },
     "metadata": {},
     "output_type": "display_data"
    },
    {
     "data": {
      "application/vnd.jupyter.widget-view+json": {
       "model_id": "e60f65f6f0b34328a9e33230801c98af",
       "version_major": 2,
       "version_minor": 0
      },
      "text/plain": [
       "languages.py:   0%|          | 0.00/3.65k [00:00<?, ?B/s]"
      ]
     },
     "metadata": {},
     "output_type": "display_data"
    },
    {
     "data": {
      "application/vnd.jupyter.widget-view+json": {
       "model_id": "bf535945ea0a44eea65c03138cc34b2a",
       "version_major": 2,
       "version_minor": 0
      },
      "text/plain": [
       "release_stats.py:   0%|          | 0.00/65.4k [00:00<?, ?B/s]"
      ]
     },
     "metadata": {},
     "output_type": "display_data"
    },
    {
     "name": "stdout",
     "output_type": "stream",
     "text": [
      "The repository for mozilla-foundation/common_voice_13_0 contains custom code which must be executed to correctly load the dataset. You can inspect the repository content at https://hf.co/datasets/mozilla-foundation/common_voice_13_0.\n",
      "You can avoid this prompt in future by passing the argument `trust_remote_code=True`.\n",
      "\n",
      "Do you wish to run the custom code? [y/N] y\n"
     ]
    },
    {
     "name": "stderr",
     "output_type": "stream",
     "text": [
      "Reading metadata...: 192it [00:00, 738.32it/s]\n",
      "Reading metadata...: 1013968it [00:22, 45728.29it/s]\n",
      "Reading metadata...: 7071it [00:00, 20763.47it/s]\n",
      "Reading metadata...: 540437it [00:12, 41864.17it/s]\n"
     ]
    }
   ],
   "source": [
    "# ✅ [2] 4개 언어 × 100개씩 로드\n",
    "from datasets import load_dataset, Dataset\n",
    "from itertools import islice\n",
    "\n",
    "ko = list(islice(load_dataset(\"mozilla-foundation/common_voice_13_0\", \"ko\", split=\"train\", streaming=True), 100))\n",
    "en = list(islice(load_dataset(\"mozilla-foundation/common_voice_13_0\", \"en\", split=\"train\", streaming=True), 100))\n",
    "ja = list(islice(load_dataset(\"mozilla-foundation/common_voice_13_0\", \"ja\", split=\"train\", streaming=True), 100))\n",
    "de = list(islice(load_dataset(\"mozilla-foundation/common_voice_13_0\", \"de\", split=\"train\", streaming=True), 100))\n",
    "\n",
    "dataset = Dataset.from_list(ko + en + ja + de)"
   ]
  },
  {
   "cell_type": "markdown",
   "metadata": {
    "id": "bbDYFqg7ZeVR"
   },
   "source": [
    "## __2.Whisper-base__"
   ]
  },
  {
   "cell_type": "code",
   "execution_count": 3,
   "metadata": {},
   "outputs": [
    {
     "data": {
      "application/vnd.jupyter.widget-view+json": {
       "model_id": "bad68cb6548242ad9aee1a7ec6bbedaa",
       "version_major": 2,
       "version_minor": 0
      },
      "text/plain": [
       "preprocessor_config.json:   0%|          | 0.00/185k [00:00<?, ?B/s]"
      ]
     },
     "metadata": {},
     "output_type": "display_data"
    },
    {
     "data": {
      "application/vnd.jupyter.widget-view+json": {
       "model_id": "de8735958eda4fe0afee6e6776d5bae7",
       "version_major": 2,
       "version_minor": 0
      },
      "text/plain": [
       "tokenizer_config.json:   0%|          | 0.00/283k [00:00<?, ?B/s]"
      ]
     },
     "metadata": {},
     "output_type": "display_data"
    },
    {
     "data": {
      "application/vnd.jupyter.widget-view+json": {
       "model_id": "b60c7b314e3949759abf377480cc3621",
       "version_major": 2,
       "version_minor": 0
      },
      "text/plain": [
       "vocab.json:   0%|          | 0.00/836k [00:00<?, ?B/s]"
      ]
     },
     "metadata": {},
     "output_type": "display_data"
    },
    {
     "data": {
      "application/vnd.jupyter.widget-view+json": {
       "model_id": "ae7e2af47ac54382b0cb31465b1d988b",
       "version_major": 2,
       "version_minor": 0
      },
      "text/plain": [
       "tokenizer.json:   0%|          | 0.00/2.48M [00:00<?, ?B/s]"
      ]
     },
     "metadata": {},
     "output_type": "display_data"
    },
    {
     "data": {
      "application/vnd.jupyter.widget-view+json": {
       "model_id": "2a460260dc894a2d9877a9932b9451b4",
       "version_major": 2,
       "version_minor": 0
      },
      "text/plain": [
       "merges.txt:   0%|          | 0.00/494k [00:00<?, ?B/s]"
      ]
     },
     "metadata": {},
     "output_type": "display_data"
    },
    {
     "data": {
      "application/vnd.jupyter.widget-view+json": {
       "model_id": "5d485f315775465c8e2192cdb1b08e83",
       "version_major": 2,
       "version_minor": 0
      },
      "text/plain": [
       "normalizer.json:   0%|          | 0.00/52.7k [00:00<?, ?B/s]"
      ]
     },
     "metadata": {},
     "output_type": "display_data"
    },
    {
     "data": {
      "application/vnd.jupyter.widget-view+json": {
       "model_id": "4ba551cb1230450687e52629140e06f2",
       "version_major": 2,
       "version_minor": 0
      },
      "text/plain": [
       "added_tokens.json:   0%|          | 0.00/34.6k [00:00<?, ?B/s]"
      ]
     },
     "metadata": {},
     "output_type": "display_data"
    },
    {
     "data": {
      "application/vnd.jupyter.widget-view+json": {
       "model_id": "63102f27b9574e778c41b9a1799936fa",
       "version_major": 2,
       "version_minor": 0
      },
      "text/plain": [
       "special_tokens_map.json:   0%|          | 0.00/2.19k [00:00<?, ?B/s]"
      ]
     },
     "metadata": {},
     "output_type": "display_data"
    },
    {
     "data": {
      "application/vnd.jupyter.widget-view+json": {
       "model_id": "c6097977f6684ac1be045930957058b7",
       "version_major": 2,
       "version_minor": 0
      },
      "text/plain": [
       "config.json:   0%|          | 0.00/1.98k [00:00<?, ?B/s]"
      ]
     },
     "metadata": {},
     "output_type": "display_data"
    },
    {
     "data": {
      "application/vnd.jupyter.widget-view+json": {
       "model_id": "11cf3e493a3f4a8c9744d231de6964f9",
       "version_major": 2,
       "version_minor": 0
      },
      "text/plain": [
       "model.safetensors:   0%|          | 0.00/290M [00:00<?, ?B/s]"
      ]
     },
     "metadata": {},
     "output_type": "display_data"
    },
    {
     "data": {
      "application/vnd.jupyter.widget-view+json": {
       "model_id": "0a8c478662ab45b4bcab35ae46773404",
       "version_major": 2,
       "version_minor": 0
      },
      "text/plain": [
       "generation_config.json:   0%|          | 0.00/3.81k [00:00<?, ?B/s]"
      ]
     },
     "metadata": {},
     "output_type": "display_data"
    }
   ],
   "source": [
    "# ✅ [3] Whisper-base 모델 & Processor 설정\n",
    "from transformers import WhisperProcessor, WhisperForConditionalGeneration\n",
    "\n",
    "checkpoint = \"openai/whisper-base\"\n",
    "\n",
    "processor = WhisperProcessor.from_pretrained(checkpoint, language=None, task=\"transcribe\")\n",
    "model = WhisperForConditionalGeneration.from_pretrained(checkpoint)\n",
    "model.config.forced_decoder_ids = None\n",
    "model.config.suppress_tokens = []"
   ]
  },
  {
   "cell_type": "markdown",
   "metadata": {
    "id": "Fv4b0UQgZkvv"
   },
   "source": [
    "## __3.Preprocessing__"
   ]
  },
  {
   "cell_type": "code",
   "execution_count": 4,
   "metadata": {},
   "outputs": [
    {
     "data": {
      "application/vnd.jupyter.widget-view+json": {
       "model_id": "ce34812d7f664b1b970e16856a9ed8e5",
       "version_major": 2,
       "version_minor": 0
      },
      "text/plain": [
       "Map:   0%|          | 0/400 [00:00<?, ? examples/s]"
      ]
     },
     "metadata": {},
     "output_type": "display_data"
    }
   ],
   "source": [
    "# ✅ [4] 전처리 함수 정의 및 적용\n",
    "def prepare_dataset(example):\n",
    "    audio = example[\"audio\"]\n",
    "    example[\"input_features\"] = processor.feature_extractor(audio[\"array\"], sampling_rate=16000).input_features[0]\n",
    "    example[\"labels\"] = processor.tokenizer(example[\"sentence\"]).input_ids\n",
    "    return example\n",
    "\n",
    "processed_dataset = dataset.map(prepare_dataset, remove_columns=dataset.column_names)"
   ]
  },
  {
   "cell_type": "code",
   "execution_count": 5,
   "metadata": {},
   "outputs": [],
   "source": [
    "# ✅ [5] DataCollator 정의\n",
    "from dataclasses import dataclass\n",
    "from typing import Any, Dict, List, Union\n",
    "import torch\n",
    "\n",
    "@dataclass\n",
    "class DataCollatorSpeechSeq2SeqWithPadding:\n",
    "    processor: Any\n",
    "    padding: Union[bool, str] = True\n",
    "\n",
    "    def __call__(self, features: List[Dict[str, Union[List[int], torch.Tensor]]]) -> Dict[str, torch.Tensor]:\n",
    "        input_features = [{\"input_features\": f[\"input_features\"]} for f in features]\n",
    "        label_features = [{\"input_ids\": f[\"labels\"]} for f in features]\n",
    "        batch = self.processor.feature_extractor.pad(input_features, return_tensors=\"pt\")\n",
    "        labels_batch = self.processor.tokenizer.pad(label_features, return_tensors=\"pt\")\n",
    "        labels = labels_batch[\"input_ids\"].masked_fill(labels_batch.attention_mask.ne(1), -100)\n",
    "        batch[\"labels\"] = labels\n",
    "        return batch\n",
    "\n",
    "data_collator = DataCollatorSpeechSeq2SeqWithPadding(processor=processor)"
   ]
  },
  {
   "cell_type": "code",
   "execution_count": 6,
   "metadata": {},
   "outputs": [
    {
     "name": "stderr",
     "output_type": "stream",
     "text": [
      "<ipython-input-6-14df4f870716>:15: FutureWarning: `tokenizer` is deprecated and will be removed in version 5.0.0 for `Trainer.__init__`. Use `processing_class` instead.\n",
      "  trainer = Trainer(\n"
     ]
    }
   ],
   "source": [
    "# ✅ [6] 학습 파라미터 설정\n",
    "from transformers import TrainingArguments, Trainer\n",
    "\n",
    "training_args = TrainingArguments(\n",
    "    output_dir=\"/content/drive/MyDrive/WhisperCheckpoints/run_multi_base_trial1\",\n",
    "    per_device_train_batch_size=4,\n",
    "    learning_rate=1e-5,\n",
    "    num_train_epochs=3,\n",
    "    logging_steps=5,\n",
    "    save_strategy=\"epoch\",\n",
    "    fp16=True,\n",
    "    report_to=\"none\"\n",
    ")\n",
    "\n",
    "trainer = Trainer(\n",
    "    model=model,\n",
    "    args=training_args,\n",
    "    train_dataset=processed_dataset,\n",
    "    tokenizer=processor,\n",
    "    data_collator=data_collator\n",
    ")"
   ]
  },
  {
   "cell_type": "markdown",
   "metadata": {
    "id": "Yn2RWJP3Zwdb"
   },
   "source": [
    "## __4.Training__"
   ]
  },
  {
   "cell_type": "code",
   "execution_count": 7,
   "metadata": {},
   "outputs": [
    {
     "name": "stderr",
     "output_type": "stream",
     "text": [
      "Passing a tuple of `past_key_values` is deprecated and will be removed in Transformers v4.43.0. You should pass an instance of `EncoderDecoderCache` instead, e.g. `past_key_values=EncoderDecoderCache.from_legacy_cache(past_key_values)`.\n"
     ]
    },
    {
     "data": {
      "text/html": [
       "\n",
       "    <div>\n",
       "      \n",
       "      <progress value='300' max='300' style='width:300px; height:20px; vertical-align: middle;'></progress>\n",
       "      [300/300 02:57, Epoch 3/3]\n",
       "    </div>\n",
       "    <table border=\"1\" class=\"dataframe\">\n",
       "  <thead>\n",
       " <tr style=\"text-align: left;\">\n",
       "      <th>Step</th>\n",
       "      <th>Training Loss</th>\n",
       "    </tr>\n",
       "  </thead>\n",
       "  <tbody>\n",
       "    <tr>\n",
       "      <td>5</td>\n",
       "      <td>7.854200</td>\n",
       "    </tr>\n",
       "    <tr>\n",
       "      <td>10</td>\n",
       "      <td>6.941300</td>\n",
       "    </tr>\n",
       "    <tr>\n",
       "      <td>15</td>\n",
       "      <td>6.791600</td>\n",
       "    </tr>\n",
       "    <tr>\n",
       "      <td>20</td>\n",
       "      <td>6.450700</td>\n",
       "    </tr>\n",
       "    <tr>\n",
       "      <td>25</td>\n",
       "      <td>5.160500</td>\n",
       "    </tr>\n",
       "    <tr>\n",
       "      <td>30</td>\n",
       "      <td>4.984700</td>\n",
       "    </tr>\n",
       "    <tr>\n",
       "      <td>35</td>\n",
       "      <td>4.489900</td>\n",
       "    </tr>\n",
       "    <tr>\n",
       "      <td>40</td>\n",
       "      <td>4.369800</td>\n",
       "    </tr>\n",
       "    <tr>\n",
       "      <td>45</td>\n",
       "      <td>4.311800</td>\n",
       "    </tr>\n",
       "    <tr>\n",
       "      <td>50</td>\n",
       "      <td>4.241000</td>\n",
       "    </tr>\n",
       "    <tr>\n",
       "      <td>55</td>\n",
       "      <td>3.986900</td>\n",
       "    </tr>\n",
       "    <tr>\n",
       "      <td>60</td>\n",
       "      <td>3.567100</td>\n",
       "    </tr>\n",
       "    <tr>\n",
       "      <td>65</td>\n",
       "      <td>3.738500</td>\n",
       "    </tr>\n",
       "    <tr>\n",
       "      <td>70</td>\n",
       "      <td>3.817000</td>\n",
       "    </tr>\n",
       "    <tr>\n",
       "      <td>75</td>\n",
       "      <td>3.377900</td>\n",
       "    </tr>\n",
       "    <tr>\n",
       "      <td>80</td>\n",
       "      <td>3.461100</td>\n",
       "    </tr>\n",
       "    <tr>\n",
       "      <td>85</td>\n",
       "      <td>3.420400</td>\n",
       "    </tr>\n",
       "    <tr>\n",
       "      <td>90</td>\n",
       "      <td>3.154600</td>\n",
       "    </tr>\n",
       "    <tr>\n",
       "      <td>95</td>\n",
       "      <td>2.926300</td>\n",
       "    </tr>\n",
       "    <tr>\n",
       "      <td>100</td>\n",
       "      <td>3.115900</td>\n",
       "    </tr>\n",
       "    <tr>\n",
       "      <td>105</td>\n",
       "      <td>2.398200</td>\n",
       "    </tr>\n",
       "    <tr>\n",
       "      <td>110</td>\n",
       "      <td>2.474800</td>\n",
       "    </tr>\n",
       "    <tr>\n",
       "      <td>115</td>\n",
       "      <td>2.228900</td>\n",
       "    </tr>\n",
       "    <tr>\n",
       "      <td>120</td>\n",
       "      <td>2.329200</td>\n",
       "    </tr>\n",
       "    <tr>\n",
       "      <td>125</td>\n",
       "      <td>2.391900</td>\n",
       "    </tr>\n",
       "    <tr>\n",
       "      <td>130</td>\n",
       "      <td>2.185600</td>\n",
       "    </tr>\n",
       "    <tr>\n",
       "      <td>135</td>\n",
       "      <td>2.043200</td>\n",
       "    </tr>\n",
       "    <tr>\n",
       "      <td>140</td>\n",
       "      <td>2.365700</td>\n",
       "    </tr>\n",
       "    <tr>\n",
       "      <td>145</td>\n",
       "      <td>2.090900</td>\n",
       "    </tr>\n",
       "    <tr>\n",
       "      <td>150</td>\n",
       "      <td>1.644000</td>\n",
       "    </tr>\n",
       "    <tr>\n",
       "      <td>155</td>\n",
       "      <td>2.178100</td>\n",
       "    </tr>\n",
       "    <tr>\n",
       "      <td>160</td>\n",
       "      <td>2.021900</td>\n",
       "    </tr>\n",
       "    <tr>\n",
       "      <td>165</td>\n",
       "      <td>1.911700</td>\n",
       "    </tr>\n",
       "    <tr>\n",
       "      <td>170</td>\n",
       "      <td>1.840000</td>\n",
       "    </tr>\n",
       "    <tr>\n",
       "      <td>175</td>\n",
       "      <td>1.996400</td>\n",
       "    </tr>\n",
       "    <tr>\n",
       "      <td>180</td>\n",
       "      <td>1.959800</td>\n",
       "    </tr>\n",
       "    <tr>\n",
       "      <td>185</td>\n",
       "      <td>2.080600</td>\n",
       "    </tr>\n",
       "    <tr>\n",
       "      <td>190</td>\n",
       "      <td>1.922200</td>\n",
       "    </tr>\n",
       "    <tr>\n",
       "      <td>195</td>\n",
       "      <td>1.778000</td>\n",
       "    </tr>\n",
       "    <tr>\n",
       "      <td>200</td>\n",
       "      <td>1.911400</td>\n",
       "    </tr>\n",
       "    <tr>\n",
       "      <td>205</td>\n",
       "      <td>1.538400</td>\n",
       "    </tr>\n",
       "    <tr>\n",
       "      <td>210</td>\n",
       "      <td>1.354900</td>\n",
       "    </tr>\n",
       "    <tr>\n",
       "      <td>215</td>\n",
       "      <td>1.465900</td>\n",
       "    </tr>\n",
       "    <tr>\n",
       "      <td>220</td>\n",
       "      <td>1.504800</td>\n",
       "    </tr>\n",
       "    <tr>\n",
       "      <td>225</td>\n",
       "      <td>1.290400</td>\n",
       "    </tr>\n",
       "    <tr>\n",
       "      <td>230</td>\n",
       "      <td>1.291900</td>\n",
       "    </tr>\n",
       "    <tr>\n",
       "      <td>235</td>\n",
       "      <td>1.338800</td>\n",
       "    </tr>\n",
       "    <tr>\n",
       "      <td>240</td>\n",
       "      <td>1.265100</td>\n",
       "    </tr>\n",
       "    <tr>\n",
       "      <td>245</td>\n",
       "      <td>1.272000</td>\n",
       "    </tr>\n",
       "    <tr>\n",
       "      <td>250</td>\n",
       "      <td>1.438200</td>\n",
       "    </tr>\n",
       "    <tr>\n",
       "      <td>255</td>\n",
       "      <td>1.222300</td>\n",
       "    </tr>\n",
       "    <tr>\n",
       "      <td>260</td>\n",
       "      <td>1.483300</td>\n",
       "    </tr>\n",
       "    <tr>\n",
       "      <td>265</td>\n",
       "      <td>1.277800</td>\n",
       "    </tr>\n",
       "    <tr>\n",
       "      <td>270</td>\n",
       "      <td>1.412200</td>\n",
       "    </tr>\n",
       "    <tr>\n",
       "      <td>275</td>\n",
       "      <td>1.278900</td>\n",
       "    </tr>\n",
       "    <tr>\n",
       "      <td>280</td>\n",
       "      <td>1.229700</td>\n",
       "    </tr>\n",
       "    <tr>\n",
       "      <td>285</td>\n",
       "      <td>1.535100</td>\n",
       "    </tr>\n",
       "    <tr>\n",
       "      <td>290</td>\n",
       "      <td>1.339000</td>\n",
       "    </tr>\n",
       "    <tr>\n",
       "      <td>295</td>\n",
       "      <td>1.408000</td>\n",
       "    </tr>\n",
       "    <tr>\n",
       "      <td>300</td>\n",
       "      <td>1.537000</td>\n",
       "    </tr>\n",
       "  </tbody>\n",
       "</table><p>"
      ],
      "text/plain": [
       "<IPython.core.display.HTML object>"
      ]
     },
     "metadata": {},
     "output_type": "display_data"
    },
    {
     "name": "stderr",
     "output_type": "stream",
     "text": [
      "/usr/local/lib/python3.11/dist-packages/transformers/modeling_utils.py:3339: UserWarning: Moving the following attributes in the config to the generation config: {'max_length': 448, 'suppress_tokens': [], 'begin_suppress_tokens': [220, 50257]}. You are seeing this warning because you've set generation parameters in the model config, as opposed to in the generation config.\n",
      "  warnings.warn(\n"
     ]
    },
    {
     "data": {
      "text/plain": [
       "TrainOutput(global_step=300, training_loss=2.6566216309865314, metrics={'train_runtime': 179.6151, 'train_samples_per_second': 6.681, 'train_steps_per_second': 1.67, 'total_flos': 7.7831995392e+16, 'train_loss': 2.6566216309865314, 'epoch': 3.0})"
      ]
     },
     "execution_count": 7,
     "metadata": {},
     "output_type": "execute_result"
    }
   ],
   "source": [
    "# ✅ [7] 학습 시작\n",
    "trainer.train()"
   ]
  },
  {
   "cell_type": "code",
   "execution_count": 8,
   "metadata": {},
   "outputs": [
    {
     "data": {
      "text/plain": [
       "[]"
      ]
     },
     "execution_count": 8,
     "metadata": {},
     "output_type": "execute_result"
    }
   ],
   "source": [
    "save_path = \"/content/drive/MyDrive/WhisperCheckpoints/run_multi_base_trial1\"\n",
    "model.save_pretrained(save_path)\n",
    "processor.save_pretrained(save_path)"
   ]
  },
  {
   "cell_type": "markdown",
   "metadata": {
    "id": "DdLpQgMPZ2oG"
   },
   "source": [
    "## __5.Prediction__"
   ]
  },
  {
   "cell_type": "code",
   "execution_count": 9,
   "metadata": {},
   "outputs": [
    {
     "name": "stdout",
     "output_type": "stream",
     "text": [
      "\n",
      "🌍 Language: ko\n"
     ]
    },
    {
     "name": "stderr",
     "output_type": "stream",
     "text": [
      "\r",
      "  0%|          | 0/100 [00:00<?, ?it/s]Due to a bug fix in https://github.com/huggingface/transformers/pull/28687 transcription using a multilingual Whisper will default to language detection followed by transcription instead of translation to English.This might be a breaking change for your use case. If you want to instead always translate your audio to English, make sure to pass `language='en'`.\n",
      "The attention mask is not set and cannot be inferred from input because pad token is same as eos token. As a consequence, you may observe unexpected behavior. Please pass your input's `attention_mask` to obtain reliable results.\n",
      "  1%|          | 1/100 [00:01<01:41,  1.02s/it]"
     ]
    },
    {
     "name": "stdout",
     "output_type": "stream",
     "text": [
      "\n",
      "🔹 Predicted:  아워라ugh, 그 타운 바람들 하루를 남기고 다시 실낙하겠다고 그의 룰퓨의 보랏을.\n",
      "🔸 Reference: 어느덧 그 더운 팔월도 하루를 남기고 다 지나 버렸다.\n"
     ]
    },
    {
     "name": "stderr",
     "output_type": "stream",
     "text": [
      "\r",
      "  2%|▏         | 2/100 [00:01<01:01,  1.59it/s]"
     ]
    },
    {
     "name": "stdout",
     "output_type": "stream",
     "text": [
      "\n",
      "🔹 Predicted: 軍자의 침�에�은野生의 영원한 사항 속눈썹이 돌아가りゃあった。\n",
      "🔸 Reference: 근자에 춘우의 동료 사이에는 이상한 소문이 돌아다니었다.\n"
     ]
    },
    {
     "name": "stderr",
     "output_type": "stream",
     "text": [
      "\r",
      "  3%|▎         | 3/100 [00:01<00:45,  2.14it/s]"
     ]
    },
    {
     "name": "stdout",
     "output_type": "stream",
     "text": [
      "\n",
      "🔹 Predicted:  제작을 하는 소리를 듣고야, 웃음 빛는 걸길 때 왔다.\n",
      "🔸 Reference: 재차 부르는 소리를 듣고야 선비는 발길을 떼었다.\n"
     ]
    },
    {
     "name": "stderr",
     "output_type": "stream",
     "text": [
      "\r",
      "  4%|▍         | 4/100 [00:01<00:35,  2.70it/s]"
     ]
    },
    {
     "name": "stdout",
     "output_type": "stream",
     "text": [
      "\n",
      "🔹 Predicted:  그의 바일 것이고 최저가 봤으면 되는 것 같네.\n",
      "🔸 Reference: 그애의 말값으로 찾아나 봤으면 되는 것 아니냐.\n"
     ]
    },
    {
     "name": "stderr",
     "output_type": "stream",
     "text": [
      "  6%|▌         | 6/100 [00:02<00:26,  3.52it/s]"
     ]
    },
    {
     "name": "stdout",
     "output_type": "stream",
     "text": [
      "\n",
      "🔹 Predicted:  그가 방으로 뒤로 어디 간만이가 왔어 그의 하단 일을 하고 있었다.\n",
      "🔸 Reference: 그가 방으로 들어오니 간난이가 와서 그의 하던 일을 하고 있었다.\n",
      "\n",
      "🔹 Predicted:  Annea, Daniel, Schoen.\n",
      "🔸 Reference: 안녕히 다녀옵시요.\n"
     ]
    },
    {
     "name": "stderr",
     "output_type": "stream",
     "text": [
      "\r",
      "  7%|▋         | 7/100 [00:02<00:28,  3.23it/s]"
     ]
    },
    {
     "name": "stdout",
     "output_type": "stream",
     "text": [
      "\n",
      "🔹 Predicted:  어땠렇게 무엇부터 싸러리야 할는지 엄두가 나지를 않아서 잠을 지올 수가 없었다.\n",
      "🔸 Reference: 어떻게 무엇부터 시작을 해야 할는지 엄두가 나지를 않아서 잠을 잘 수가 없었다.\n"
     ]
    },
    {
     "name": "stderr",
     "output_type": "stream",
     "text": [
      "\r",
      "  8%|▊         | 8/100 [00:02<00:25,  3.56it/s]"
     ]
    },
    {
     "name": "stdout",
     "output_type": "stream",
     "text": [
      "\n",
      "🔹 Predicted: きっと、きっとされた事にハマでやらない。\n",
      "🔸 Reference: 죽는 날까지 하늘을 우러러\n"
     ]
    },
    {
     "name": "stderr",
     "output_type": "stream",
     "text": [
      " 10%|█         | 10/100 [00:03<00:20,  4.31it/s]"
     ]
    },
    {
     "name": "stdout",
     "output_type": "stream",
     "text": [
      "\n",
      "🔹 Predicted: 그리고 그 어두운 방안이 희치워진다.\n",
      "🔸 Reference: 그리고 그 어두운 방 안이 휙 지나친다.\n",
      "\n",
      "🔹 Predicted: これらのプロで言ってしまった\n",
      "🔸 Reference: 왜 눈을 바루 뜨지 못해!\n"
     ]
    },
    {
     "name": "stderr",
     "output_type": "stream",
     "text": [
      "\r",
      " 11%|█         | 11/100 [00:03<00:24,  3.61it/s]"
     ]
    },
    {
     "name": "stdout",
     "output_type": "stream",
     "text": [
      "\n",
      "🔹 Predicted:  영신은 바라로 엉데로 바닷가 온다. 그한을 집에서 면을 실수가 있었다.\n",
      "🔸 Reference: 영신은 바라던 대로 바닷가 한가한 집에서 편안히 쉴 수가 있었다.\n"
     ]
    },
    {
     "name": "stderr",
     "output_type": "stream",
     "text": [
      "\r",
      " 12%|█▏        | 12/100 [00:03<00:22,  3.87it/s]"
     ]
    },
    {
     "name": "stdout",
     "output_type": "stream",
     "text": [
      "\n",
      "🔹 Predicted:  잡는 사운로자 홈으로 피워도 잡자.\n",
      "🔸 Reference: 잡을 수 없는 저 하늘의 별도 잡자.\n"
     ]
    },
    {
     "name": "stderr",
     "output_type": "stream",
     "text": [
      "\r",
      " 13%|█▎        | 13/100 [00:04<00:26,  3.33it/s]"
     ]
    },
    {
     "name": "stdout",
     "output_type": "stream",
     "text": [
      "\n",
      "🔹 Predicted:  그는 가공몸의 소리가 들을 때렸다.\n",
      "🔸 Reference: 하고, 목메인 소리가 뒤를 따랐다.\n"
     ]
    },
    {
     "name": "stderr",
     "output_type": "stream",
     "text": [
      " 15%|█▌        | 15/100 [00:04<00:21,  3.89it/s]"
     ]
    },
    {
     "name": "stdout",
     "output_type": "stream",
     "text": [
      "\n",
      "🔹 Predicted: 그리고 그의 하던 마마무는 오금부터 그의하였다.\n",
      "🔸 Reference: 그리고 그의 하던 말을 곰곰이 되풀이하였다.\n",
      "\n",
      "🔹 Predicted: よりなんてしようなティングがある\n",
      "🔸 Reference: 영원한 것이 어디 있는가?\n"
     ]
    },
    {
     "name": "stderr",
     "output_type": "stream",
     "text": [
      "\r",
      " 16%|█▌        | 16/100 [00:05<00:23,  3.53it/s]"
     ]
    },
    {
     "name": "stdout",
     "output_type": "stream",
     "text": [
      "\n",
      "🔹 Predicted: 그것은 예술을 십니다만, 바퀴는 기후로 부르짖은 말이었다.\n",
      "🔸 Reference: 그것은 예수가 십자가에 못박히며 최후로 부르짖은 말이었다.\n"
     ]
    },
    {
     "name": "stderr",
     "output_type": "stream",
     "text": [
      "\r",
      " 17%|█▋        | 17/100 [00:05<00:23,  3.58it/s]"
     ]
    },
    {
     "name": "stdout",
     "output_type": "stream",
     "text": [
      "\n",
      "🔹 Predicted:  그 틈의 그 진저는 단몸이 매우 달아난다.\n",
      "🔸 Reference: 그 틈에 그 짐짝은 딴놈이 메고 달아난다.\n"
     ]
    },
    {
     "name": "stderr",
     "output_type": "stream",
     "text": [
      "\r",
      " 18%|█▊        | 18/100 [00:05<00:24,  3.36it/s]"
     ]
    },
    {
     "name": "stdout",
     "output_type": "stream",
     "text": [
      "\n",
      "🔹 Predicted:  그는 이런 생각을 들으려 부리하는 새 벌써 선낭넘니 짙고 들어왔다.\n",
      "🔸 Reference: 그는 이러한 생각을 되풀이하는 새 벌써 간난네 집까지 왔다.\n"
     ]
    },
    {
     "name": "stderr",
     "output_type": "stream",
     "text": [
      "\r",
      " 19%|█▉        | 19/100 [00:06<00:24,  3.29it/s]"
     ]
    },
    {
     "name": "stdout",
     "output_type": "stream",
     "text": [
      "\n",
      "🔹 Predicted:  영식대로 지저러미 부리고기를 넘기는 것만치 나까 아마 듣는 것 같습니다.\n",
      "🔸 Reference: 양식 떨어진 사람이 보릿고개를 넘기는것만치 나 까마아득한 것 같습니다.\n"
     ]
    },
    {
     "name": "stderr",
     "output_type": "stream",
     "text": [
      "\r",
      " 20%|██        | 20/100 [00:06<00:24,  3.28it/s]"
     ]
    },
    {
     "name": "stdout",
     "output_type": "stream",
     "text": [
      "\n",
      "🔹 Predicted: 冰術に乱く散らうおそこに行こうわらった。\n",
      "🔸 Reference: 그래서 그는 억지로 웃어 보이고 말았다.\n"
     ]
    },
    {
     "name": "stderr",
     "output_type": "stream",
     "text": [
      "\r",
      " 21%|██        | 21/100 [00:06<00:22,  3.48it/s]"
     ]
    },
    {
     "name": "stdout",
     "output_type": "stream",
     "text": [
      "\n",
      "🔹 Predicted: 견의 그제심이야 집단과 버트리스러웠다.\n",
      "🔸 Reference: 연해 꾸짖으며 질팡갈팡 뛰는 수밖에 없었다.\n"
     ]
    },
    {
     "name": "stderr",
     "output_type": "stream",
     "text": [
      " 23%|██▎       | 23/100 [00:06<00:17,  4.45it/s]"
     ]
    },
    {
     "name": "stdout",
     "output_type": "stream",
     "text": [
      "\n",
      "🔹 Predicted:  영신을 높이고 자세히 숨체를 가본다.\n",
      "🔸 Reference: 영신을 눕히고 자세히 진찰을 해본다.\n",
      "\n",
      "🔹 Predicted: うしっているならば、\n",
      "🔸 Reference: 몇 시 퇴근하려고?\n"
     ]
    },
    {
     "name": "stderr",
     "output_type": "stream",
     "text": [
      "\r",
      " 24%|██▍       | 24/100 [00:07<00:17,  4.22it/s]"
     ]
    },
    {
     "name": "stdout",
     "output_type": "stream",
     "text": [
      "\n",
      "🔹 Predicted: 국뒤의 영원회에서 영원하신 사람은 얼마나 준비할 수 있다.\n",
      "🔸 Reference: 국회는 의원의 자격을 심사하며, 의원을 징계할 수 있다.\n"
     ]
    },
    {
     "name": "stderr",
     "output_type": "stream",
     "text": [
      "\r",
      " 25%|██▌       | 25/100 [00:07<00:22,  3.27it/s]"
     ]
    },
    {
     "name": "stdout",
     "output_type": "stream",
     "text": [
      "\n",
      "🔹 Predicted: あたりもどんどんどく、チュッカーを見るせいは、ついて、無駄真実にいるものじゃないか。\n",
      "🔸 Reference: 아담이 모든 육축과 공중의 새와 들의 모든 짐승에게 이름을 주니라\n"
     ]
    },
    {
     "name": "stderr",
     "output_type": "stream",
     "text": [
      "\r",
      " 26%|██▌       | 26/100 [00:08<00:23,  3.11it/s]"
     ]
    },
    {
     "name": "stdout",
     "output_type": "stream",
     "text": [
      "\n",
      "🔹 Predicted:  그 뒤로 뒷백博車 같은 집들이 오룩みを取ってさ、オンや 들어간다.\n",
      "🔸 Reference: 그 뒤로 게 딱지 같은 집들이 오글오글 쫓겨서 몰려들어 간다.\n"
     ]
    },
    {
     "name": "stderr",
     "output_type": "stream",
     "text": [
      "\r",
      " 27%|██▋       | 27/100 [00:08<00:24,  3.01it/s]"
     ]
    },
    {
     "name": "stdout",
     "output_type": "stream",
     "text": [
      "\n",
      "🔹 Predicted: 그리고 그의 옷이 땀에 비해 아름다운 아님은 아름다운 맛인 것 같다.\n",
      "🔸 Reference: 그리고 그의 옷이 땀에 배어 어룽어룽하니 말라진 것을 보았다.\n"
     ]
    },
    {
     "name": "stderr",
     "output_type": "stream",
     "text": [
      "\r",
      " 28%|██▊       | 28/100 [00:08<00:22,  3.27it/s]"
     ]
    },
    {
     "name": "stdout",
     "output_type": "stream",
     "text": [
      "\n",
      "🔹 Predicted:  징역은 자기 아버지가 억지히 대신 것을 알았다.\n",
      "🔸 Reference: 춘우는 자기 아버지가 약주 취하신 것을 알았다.\n"
     ]
    },
    {
     "name": "stderr",
     "output_type": "stream",
     "text": [
      "\r",
      " 29%|██▉       | 29/100 [00:08<00:21,  3.30it/s]"
     ]
    },
    {
     "name": "stdout",
     "output_type": "stream",
     "text": [
      "\n",
      "🔹 Predicted: ジリリもお腫れっぽじめらおうぐり落っこやった。\n",
      "🔸 Reference: 찌르릉 하고 창자에 퍼지며 얼굴이 화끈하였다.\n"
     ]
    },
    {
     "name": "stderr",
     "output_type": "stream",
     "text": [
      "\r",
      " 30%|███       | 30/100 [00:09<00:21,  3.32it/s]"
     ]
    },
    {
     "name": "stdout",
     "output_type": "stream",
     "text": [
      "\n",
      "🔹 Predicted:  버려온 가득선이처럼 사자하고 버리면 아깃섭시선이 있다.\n",
      "🔸 Reference: 바람은 파도 소리처럼 쏴아쏴아 하고 머리 맡에서 뒤설렌다.\n",
      "\n",
      "🔹 Predicted:  친구에게 이 모든 사정의 말을 하여 버릴까.\n",
      "🔸 Reference: 춘우에게 이 모든 사정의 말을 하여 버릴까.\n"
     ]
    },
    {
     "name": "stderr",
     "output_type": "stream",
     "text": [
      " 32%|███▏      | 32/100 [00:09<00:20,  3.33it/s]"
     ]
    },
    {
     "name": "stdout",
     "output_type": "stream",
     "text": [
      "\n",
      "🔹 Predicted: きがのさらに国家のあるマンクンケーキの覚悪なのにあることだった。\n",
      "🔸 Reference: 길 가는 사람이 걱정을 하리만큼 그의 걸음은 황급하였다.\n"
     ]
    },
    {
     "name": "stderr",
     "output_type": "stream",
     "text": [
      " 34%|███▍      | 34/100 [00:10<00:21,  3.12it/s]"
     ]
    },
    {
     "name": "stdout",
     "output_type": "stream",
     "text": [
      "\n",
      "🔹 Predicted: ゾンビの絡まれが、ゾロッキリッティチュラーティーの中でまだ申し実に見せる可能がしっかり進まれました。\n",
      "🔸 Reference: 선비는 간난이가 저렇게 늦게 돌아올 때마다 무엇을 깊이 생각하는 것이 수상스러웠다.\n",
      "\n",
      "🔹 Predicted:  그호가 말한답게 성식계였습니다.\n",
      "🔸 Reference: 부엌은 아름답게 장식되었습니다.\n"
     ]
    },
    {
     "name": "stderr",
     "output_type": "stream",
     "text": [
      "\r",
      " 35%|███▌      | 35/100 [00:10<00:21,  3.09it/s]"
     ]
    },
    {
     "name": "stdout",
     "output_type": "stream",
     "text": [
      "\n",
      "🔹 Predicted: 進nowi nonga mongi kiasu mongo kumad nonganomu heitta.\n",
      "🔸 Reference: 신철이는 할멈이 깨었으므로 그만 낙망을 하였다.\n"
     ]
    },
    {
     "name": "stderr",
     "output_type": "stream",
     "text": [
      "\r",
      " 36%|███▌      | 36/100 [00:11<00:19,  3.24it/s]"
     ]
    },
    {
     "name": "stdout",
     "output_type": "stream",
     "text": [
      "\n",
      "🔹 Predicted:  눕ざっさな 얼굴을 쳐리고 첫째의 눈치에서 해본다.\n",
      "🔸 Reference: 납작한 얼굴을 쳐들고 첫째의 눈치를 살살 본다.\n"
     ]
    },
    {
     "name": "stderr",
     "output_type": "stream",
     "text": [
      " 38%|███▊      | 38/100 [00:11<00:18,  3.40it/s]"
     ]
    },
    {
     "name": "stdout",
     "output_type": "stream",
     "text": [
      "\n",
      "🔹 Predicted: あたんがくやあねが、ヨーザーのニュミがチェックやられてんじゃんまもさえるスムンズ\n",
      "🔸 Reference: 아담과 그 아내가 여호와 하나님의 낯을 피하여 동산 나무 사이에 숨은지라\n",
      "\n",
      "🔹 Predicted:  나는 저 번째에게 입고 왔습니다.\n",
      "🔸 Reference: 나는 두 번째 그에게 물었습니다.\n"
     ]
    },
    {
     "name": "stderr",
     "output_type": "stream",
     "text": [
      "\r",
      " 39%|███▉      | 39/100 [00:11<00:15,  3.93it/s]"
     ]
    },
    {
     "name": "stdout",
     "output_type": "stream",
     "text": [
      "\n",
      "🔹 Predicted: うそし、いいさしりだ。\n",
      "🔸 Reference: 무소식이 희소식이다\n"
     ]
    },
    {
     "name": "stderr",
     "output_type": "stream",
     "text": [
      "\r",
      " 40%|████      | 40/100 [00:12<00:15,  3.84it/s]"
     ]
    },
    {
     "name": "stdout",
     "output_type": "stream",
     "text": [
      "\n",
      "🔹 Predicted: 그는 대답다しがねえによく見ることがほしいことでした。\n",
      "🔸 Reference: 그는 대답 대신에 늘 이렇게 웃는 것이 버릇이다.\n"
     ]
    },
    {
     "name": "stderr",
     "output_type": "stream",
     "text": [
      " 42%|████▏     | 42/100 [00:12<00:14,  4.02it/s]"
     ]
    },
    {
     "name": "stdout",
     "output_type": "stream",
     "text": [
      "\n",
      "🔹 Predicted:  그절로 이 가치식을 비워하는 의원와 동해야리를 짚어왔시하게 하며\n",
      "🔸 Reference: 대저 너희가 지식을 미워하며 여호와 경외하기를 즐거워하지 아니하며\n",
      "\n",
      "🔹 Predicted:  견디閃てすみだ\n",
      "🔸 Reference: 경기 시작됐습니다.\n"
     ]
    },
    {
     "name": "stderr",
     "output_type": "stream",
     "text": [
      "\r",
      " 43%|████▎     | 43/100 [00:13<00:16,  3.40it/s]"
     ]
    },
    {
     "name": "stdout",
     "output_type": "stream",
     "text": [
      "\n",
      "🔹 Predicted:  선명히 욕득상몬에 가만히 억지로 와서 동물이 아껴라며 되찾다.\n",
      "🔸 Reference: 선비는 육백삼호인 가마 곁으로 와서 동무의 어깨를 가볍게 쳤다.\n"
     ]
    },
    {
     "name": "stderr",
     "output_type": "stream",
     "text": [
      "\r",
      " 44%|████▍     | 44/100 [00:13<00:17,  3.23it/s]"
     ]
    },
    {
     "name": "stdout",
     "output_type": "stream",
     "text": [
      "\n",
      "🔹 Predicted:  그 예서 간만하고 어린앤 눈을 둔 그렇게 뜨고든 치유새뒀다.\n",
      "🔸 Reference: 그래서 간난 어머니는 눈을 둥그렇게 뜨고 눈치를 살폈다.\n"
     ]
    },
    {
     "name": "stderr",
     "output_type": "stream",
     "text": [
      "\r",
      " 45%|████▌     | 45/100 [00:13<00:16,  3.28it/s]"
     ]
    },
    {
     "name": "stdout",
     "output_type": "stream",
     "text": [
      "\n",
      "🔹 Predicted: 그러자 엉몸하고 오는 게 또 내 목소리를 들은 게 싶다.\n",
      "🔸 Reference: 그러자 엉엉 하고 우는 개똥이의 곡성을 들은 듯싶다.\n"
     ]
    },
    {
     "name": "stderr",
     "output_type": "stream",
     "text": [
      "\r",
      " 46%|████▌     | 46/100 [00:14<00:17,  3.12it/s]"
     ]
    },
    {
     "name": "stdout",
     "output_type": "stream",
     "text": [
      "\n",
      "🔹 Predicted: 그러나 무엇이라 꼭 집어대야, 그 사회가 아주 신질질 짓고 낼 수는 없었다.\n",
      "🔸 Reference: 그러나 무엇이라고 꼭 집어대어 철수와 같이 술술 지껄일수는 없었다.\n"
     ]
    },
    {
     "name": "stderr",
     "output_type": "stream",
     "text": [
      "\r",
      " 47%|████▋     | 47/100 [00:14<00:18,  2.93it/s]"
     ]
    },
    {
     "name": "stdout",
     "output_type": "stream",
     "text": [
      "\n",
      "🔹 Predicted: 그러면 이 시기에 동의하지 않는 것은 진정, 진정 바람을 말한 피하나는 물을 짓고 있다.\n",
      "🔸 Reference: 고난의 시기에 동요하지 않는 것은 진정 칭찬받을 만한 뛰어난 인물의 증거다.\n"
     ]
    },
    {
     "name": "stderr",
     "output_type": "stream",
     "text": [
      "\r",
      " 48%|████▊     | 48/100 [00:14<00:16,  3.08it/s]"
     ]
    },
    {
     "name": "stdout",
     "output_type": "stream",
     "text": [
      "\n",
      "🔹 Predicted:  영신은 다시 부르짖듯이 신앙에 대선자에게 고소한다.\n",
      "🔸 Reference: 영신은 다시 부르짖듯이 신앙의 대상자에게 호소한다.\n"
     ]
    },
    {
     "name": "stderr",
     "output_type": "stream",
     "text": [
      "\r",
      " 49%|████▉     | 49/100 [00:15<00:16,  3.00it/s]"
     ]
    },
    {
     "name": "stdout",
     "output_type": "stream",
     "text": [
      "\n",
      "🔹 Predicted: 그리고 선비의 그 고원한 방에 미소를 띠고 지나치는 것을 그는 확실히 고웠다.\n",
      "🔸 Reference: 그리고 선비의 그 고운 얼굴이 미소를 띠고 지나치는 것을 그는 확실히 보았다.\n"
     ]
    },
    {
     "name": "stderr",
     "output_type": "stream",
     "text": [
      " 51%|█████     | 51/100 [00:15<00:13,  3.70it/s]"
     ]
    },
    {
     "name": "stdout",
     "output_type": "stream",
     "text": [
      "\n",
      "🔹 Predicted:  나의 교훈을 받지 않게 하고 나의 모든 증만을 없이 려갔습니다.\n",
      "🔸 Reference: 나의 교훈을 받지 아니하고 나의 모든 책망을 업신여겼음이라\n",
      "\n",
      "🔹 Predicted:  그 자네에서 운난다.\n",
      "🔸 Reference: 개천에서 용 난다\n"
     ]
    },
    {
     "name": "stderr",
     "output_type": "stream",
     "text": [
      "\r",
      " 52%|█████▏    | 52/100 [00:15<00:14,  3.37it/s]"
     ]
    },
    {
     "name": "stdout",
     "output_type": "stream",
     "text": [
      "\n",
      "🔹 Predicted:  나는 그 아일부로 가 오니 하나 오는 순간, 나는 끝까지 진정되고 흔검 됐습니다.\n",
      "🔸 Reference: 나는 그 알레그로가 울리어 나오는 순간 마음은 끝까지 긴장되고 흥분되었습니다.\n"
     ]
    },
    {
     "name": "stderr",
     "output_type": "stream",
     "text": [
      "\r",
      " 53%|█████▎    | 53/100 [00:16<00:13,  3.58it/s]"
     ]
    },
    {
     "name": "stdout",
     "output_type": "stream",
     "text": [
      "\n",
      "🔹 Predicted:  선비가 이 공장을 돌아온 지가 벌써 거의 이해가 온다.\n",
      "🔸 Reference: 선비가 이 공장에 들어온 지가 벌써 거의 일년이 되어 온다.\n"
     ]
    },
    {
     "name": "stderr",
     "output_type": "stream",
     "text": [
      "\r",
      " 54%|█████▍    | 54/100 [00:16<00:12,  3.54it/s]"
     ]
    },
    {
     "name": "stdout",
     "output_type": "stream",
     "text": [
      "\n",
      "🔹 Predicted:  벌써 부터 이런 생각을 받았으나 용의하의 기회를 더는 수가 없었다.\n",
      "🔸 Reference: 벌써부터 이런 생각을 가졌으나 용이하게 기회를 타는 수가 없었다.\n"
     ]
    },
    {
     "name": "stderr",
     "output_type": "stream",
     "text": [
      "\r",
      " 55%|█████▌    | 55/100 [00:16<00:13,  3.35it/s]"
     ]
    },
    {
     "name": "stdout",
     "output_type": "stream",
     "text": [
      "\n",
      "🔹 Predicted: 그는 종일 그가 고아년 질여를 하여 신철에게 무엇을 서서 보았다.\n",
      "🔸 Reference: 그는 종잇조각과 연필을 내어 신철에게 무엇을 써서 보였다.\n"
     ]
    },
    {
     "name": "stderr",
     "output_type": "stream",
     "text": [
      "\r",
      " 56%|█████▌    | 56/100 [00:17<00:13,  3.27it/s]"
     ]
    },
    {
     "name": "stdout",
     "output_type": "stream",
     "text": [
      "\n",
      "🔹 Predicted:  선복재판소집은 본인 정당의 가입하거나 정치의 관여할 수 없다.\n",
      "🔸 Reference: 헌법재판소 재판관은 정당에 가입하거나 정치에 관여할 수 없다.\n"
     ]
    },
    {
     "name": "stderr",
     "output_type": "stream",
     "text": [
      "\r",
      " 57%|█████▋    | 57/100 [00:17<00:13,  3.29it/s]"
     ]
    },
    {
     "name": "stdout",
     "output_type": "stream",
     "text": [
      "\n",
      "🔹 Predicted:  이번엔 제록 묵석들이 곁에 있는 남학생의 질문이 들어갔다.\n",
      "🔸 Reference: 이번엔 제법 목소리가 패인 남학생의 질문이 들어왔다.\n"
     ]
    },
    {
     "name": "stderr",
     "output_type": "stream",
     "text": [
      "\r",
      " 58%|█████▊    | 58/100 [00:17<00:12,  3.38it/s]"
     ]
    },
    {
     "name": "stdout",
     "output_type": "stream",
     "text": [
      "\n",
      "🔹 Predicted: 한번의 실패와 영원한 실패를 혼도하지 마라.\n",
      "🔸 Reference: 한번의 실패와 영원한 실패를 혼동하지 마라.\n"
     ]
    },
    {
     "name": "stderr",
     "output_type": "stream",
     "text": [
      "\r",
      " 59%|█████▉    | 59/100 [00:18<00:13,  3.13it/s]"
     ]
    },
    {
     "name": "stdout",
     "output_type": "stream",
     "text": [
      "\n",
      "🔹 Predicted: バンバーイスリメンは、これが壊れし、オッケージの力をやりなかった。\n",
      "🔸 Reference: 방망이 소리는 그가 걸을수록 점점 희미하게 들렸다.\n"
     ]
    },
    {
     "name": "stderr",
     "output_type": "stream",
     "text": [
      "\r",
      " 60%|██████    | 60/100 [00:18<00:11,  3.41it/s]"
     ]
    },
    {
     "name": "stdout",
     "output_type": "stream",
     "text": [
      "\n",
      "🔹 Predicted:  모든 공기는 방문과 예술의 자유가 가진다.\n",
      "🔸 Reference: 모든 국민은 학문과 예술의 자유를 가진다.\n"
     ]
    },
    {
     "name": "stderr",
     "output_type": "stream",
     "text": [
      " 62%|██████▏   | 62/100 [00:18<00:11,  3.45it/s]"
     ]
    },
    {
     "name": "stdout",
     "output_type": "stream",
     "text": [
      "\n",
      "🔹 Predicted:  박생돈은 보웨자는 박생 본인의 관한 석경 기록을 언제든지 하나만 권위를 가진다.\n",
      "🔸 Reference: 학생 또는 보호자는 학생 본인에 관한 학교 기록을 언제든지 열람할 권리를 가진다.\n",
      "\n",
      "🔹 Predicted: 그는 방 밋 게 착�った阻った\n",
      "🔸 Reference: 그는 담 밑에 착 붙어 섰다.\n"
     ]
    },
    {
     "name": "stderr",
     "output_type": "stream",
     "text": [
      "\r",
      " 63%|██████▎   | 63/100 [00:19<00:09,  3.97it/s]"
     ]
    },
    {
     "name": "stdout",
     "output_type": "stream",
     "text": [
      "\n",
      "🔹 Predicted:  사람은 말이지 말하는 게 아니야.\n",
      "🔸 Reference: 사랑은 말이지, 소유하는 게 아니야.\n"
     ]
    },
    {
     "name": "stderr",
     "output_type": "stream",
     "text": [
      "\r",
      " 64%|██████▍   | 64/100 [00:19<00:09,  3.81it/s]"
     ]
    },
    {
     "name": "stdout",
     "output_type": "stream",
     "text": [
      "\n",
      "🔹 Predicted: 福山県 여전히 보호하고 소금소금이 아디를 했다.\n",
      "🔸 Reference: 효애는 여전히 뭐라고 소곤소곤 이야기를 하였다.\n"
     ]
    },
    {
     "name": "stderr",
     "output_type": "stream",
     "text": [
      "\r",
      " 65%|██████▌   | 65/100 [00:19<00:08,  3.96it/s]"
     ]
    },
    {
     "name": "stdout",
     "output_type": "stream",
     "text": [
      "\n",
      "🔹 Predicted:  정신 뒤에 회원들은 적담을 하며 정치시었다.\n",
      "🔸 Reference: 점심 뒤에 회원들은 잡담을 하며 잠시 쉬었다.\n"
     ]
    },
    {
     "name": "stderr",
     "output_type": "stream",
     "text": [
      "\r",
      " 66%|██████▌   | 66/100 [00:19<00:09,  3.43it/s]"
     ]
    },
    {
     "name": "stdout",
     "output_type": "stream",
     "text": [
      "\n",
      "🔹 Predicted: 영신은 그제야 그전의 백시의 집에서 들은 동랄의 말을 제풀이가 듯하였다.\n",
      "🔸 Reference: 영신은 그제야 그전에 백씨의 집에서 들은 동혁의 말을 되풀이하듯 하였다.\n"
     ]
    },
    {
     "name": "stderr",
     "output_type": "stream",
     "text": [
      "\r",
      " 67%|██████▋   | 67/100 [00:20<00:08,  3.75it/s]"
     ]
    },
    {
     "name": "stdout",
     "output_type": "stream",
     "text": [
      "\n",
      "🔹 Predicted:  세상에 나의 마음을 알아주는 사람이 어디 있어야죠.\n",
      "🔸 Reference: 세상에 나의 마음을 알아 주는 사람이 어디 있어야죠.\n"
     ]
    },
    {
     "name": "stderr",
     "output_type": "stream",
     "text": [
      "\r",
      " 68%|██████▊   | 68/100 [00:20<00:09,  3.53it/s]"
     ]
    },
    {
     "name": "stdout",
     "output_type": "stream",
     "text": [
      "\n",
      "🔹 Predicted: コロジションミョウオンジャックの日常に関係ないのにしようと\n",
      "🔸 Reference: 부르짖으며 저 혼자 감격하는 것이었다.\n"
     ]
    },
    {
     "name": "stderr",
     "output_type": "stream",
     "text": [
      "\r",
      " 69%|██████▉   | 69/100 [00:20<00:09,  3.14it/s]"
     ]
    },
    {
     "name": "stdout",
     "output_type": "stream",
     "text": [
      "\n",
      "🔹 Predicted:  지우아들은 방속에다 집은 그 아버지의 손장을 제천하고 서로 잡아상길 듯이 다치고 있었습니다.\n",
      "🔸 Reference: 두 아들은 방 속에다 죽은 그 아버지의 송장을 제쳐놓고 서로 잡아삼킬 듯이 다투고 있었습니다.\n"
     ]
    },
    {
     "name": "stderr",
     "output_type": "stream",
     "text": [
      "\r",
      " 70%|███████   | 70/100 [00:21<00:09,  3.07it/s]"
     ]
    },
    {
     "name": "stdout",
     "output_type": "stream",
     "text": [
      "\n",
      "🔹 Predicted:  여자가 그니디 말아들 동선 남아의 실리골을 우리가 묶을 수 있으나\n",
      "🔸 Reference: 여자가 뱀에게 말하되 동산 나무의 실과를 우리가 먹을 수 있으나\n"
     ]
    },
    {
     "name": "stderr",
     "output_type": "stream",
     "text": [
      "\r",
      " 71%|███████   | 71/100 [00:21<00:08,  3.42it/s]"
     ]
    },
    {
     "name": "stdout",
     "output_type": "stream",
     "text": [
      "\n",
      "🔹 Predicted:  국가는 국가표진 여덟을 확륙한다.\n",
      "🔸 Reference: 국가는 국가표준제도를 확립한다.\n"
     ]
    },
    {
     "name": "stderr",
     "output_type": "stream",
     "text": [
      "\r",
      " 72%|███████▏  | 72/100 [00:21<00:08,  3.40it/s]"
     ]
    },
    {
     "name": "stdout",
     "output_type": "stream",
     "text": [
      "\n",
      "🔹 Predicted:  다른 나무 보기 동무지하지 말고, 뭐지? 그다 혼자의 힘으로 하라.\n",
      "🔸 Reference: 다른 누구에게도 의지하지 말고 오직 그대 혼자의 힘으로 하라.\n"
     ]
    },
    {
     "name": "stderr",
     "output_type": "stream",
     "text": [
      " 74%|███████▍  | 74/100 [00:22<00:06,  3.94it/s]"
     ]
    },
    {
     "name": "stdout",
     "output_type": "stream",
     "text": [
      "\n",
      "🔹 Predicted:  가버리는 이자를 붙잡히러 온 그한 마쳤다.\n",
      "🔸 Reference: 까불이는 의자를 버쩍 들어 옮겨 놔주었다.\n",
      "\n",
      "🔹 Predicted: 그다 좋아할 때마다 이런 부를 수 있었다.\n",
      "🔸 Reference: 그가 좋아할 때마다 이런 버릇이 있었다.\n"
     ]
    },
    {
     "name": "stderr",
     "output_type": "stream",
     "text": [
      "\r",
      " 75%|███████▌  | 75/100 [00:22<00:06,  3.58it/s]"
     ]
    },
    {
     "name": "stdout",
     "output_type": "stream",
     "text": [
      "\n",
      "🔹 Predicted:  전혁들둘자만 엉지구를 못봤다. 전혁을 깨친다.\n",
      "🔸 Reference: 탄핵결정은 공직으로부터 파면함에 그친다.\n"
     ]
    },
    {
     "name": "stderr",
     "output_type": "stream",
     "text": [
      "\r",
      " 76%|███████▌  | 76/100 [00:22<00:07,  3.31it/s]"
     ]
    },
    {
     "name": "stdout",
     "output_type": "stream",
     "text": [
      "\n",
      "🔹 Predicted:  한편으로 그 가위 영신을 잘 수 있는 대로 호희로서 이해하려면 못높다.\n",
      "🔸 Reference: 한편으로 그가 영신을 될 수 있는 대로 호의로써 이해하려는 것도 물론이다.\n"
     ]
    },
    {
     "name": "stderr",
     "output_type": "stream",
     "text": [
      "\r",
      " 77%|███████▋  | 77/100 [00:23<00:07,  3.19it/s]"
     ]
    },
    {
     "name": "stdout",
     "output_type": "stream",
     "text": [
      "\n",
      "🔹 Predicted:  선비는 얼굴이 뻘게 해서 감아에서 꼭 하나 오는 시그치 랩을 하고 왔다.\n",
      "🔸 Reference: 선비는 얼굴이 뻘개서 가마에서 뽑혀 나오는 실끝을 들여다보았다.\n"
     ]
    },
    {
     "name": "stderr",
     "output_type": "stream",
     "text": [
      "\r",
      " 78%|███████▊  | 78/100 [00:23<00:07,  3.12it/s]"
     ]
    },
    {
     "name": "stdout",
     "output_type": "stream",
     "text": [
      "\n",
      "🔹 Predicted:  목적패라고 봤으며 더 당분간은 아무것도 목질은 없도록지 않기로 했다.\n",
      "🔸 Reference: 무척 배가 고팠음에도 당분간은 아무것도 먹지 않기로 했다.\n"
     ]
    },
    {
     "name": "stderr",
     "output_type": "stream",
     "text": [
      "\r",
      " 79%|███████▉  | 79/100 [00:23<00:06,  3.17it/s]"
     ]
    },
    {
     "name": "stdout",
     "output_type": "stream",
     "text": [
      "\n",
      "🔹 Predicted:  신철이는 영철의 오는 소리를 들으며 몸박끌하셨다.\n",
      "🔸 Reference: 신철이는 영철의 우는 소리를 들으며 문밖을 나섰다.\n"
     ]
    },
    {
     "name": "stderr",
     "output_type": "stream",
     "text": [
      " 81%|████████  | 81/100 [00:24<00:05,  3.76it/s]"
     ]
    },
    {
     "name": "stdout",
     "output_type": "stream",
     "text": [
      "\n",
      "🔹 Predicted:  국은 사오십년 뒤에 조선은 모델을 생겨라 이하기라고 생각하기도 좋다.\n",
      "🔸 Reference: 혹은 사오십 년 뒤에 조선을 무대로 생겨날 이야기라고 생각하여도 좋다.\n",
      "\n",
      "🔹 Predicted: うびそろしさを\n",
      "🔸 Reference: 어디서 오셨어요?\n"
     ]
    },
    {
     "name": "stderr",
     "output_type": "stream",
     "text": [
      "\r",
      " 82%|████████▏ | 82/100 [00:24<00:04,  3.67it/s]"
     ]
    },
    {
     "name": "stdout",
     "output_type": "stream",
     "text": [
      "\n",
      "🔹 Predicted:  그 코는 문 안에 선체의 선비에 문의를 바라보며 복장을 한다.\n",
      "🔸 Reference: 덕호는 문 안에 선 채 선비 어머니를 바라보며 걱정을 한다.\n"
     ]
    },
    {
     "name": "stderr",
     "output_type": "stream",
     "text": [
      "\r",
      " 83%|████████▎ | 83/100 [00:24<00:04,  3.51it/s]"
     ]
    },
    {
     "name": "stdout",
     "output_type": "stream",
     "text": [
      "\n",
      "🔹 Predicted:  그리고 물어라고 손질을 더워본 치고 물을 바퀴로 사라진다.\n",
      "🔸 Reference: 그리고 무어라고 손질을 두어 번 치고 모밀 밭뒤로 사라진다.\n"
     ]
    },
    {
     "name": "stderr",
     "output_type": "stream",
     "text": [
      "\r",
      " 84%|████████▍ | 84/100 [00:25<00:04,  3.26it/s]"
     ]
    },
    {
     "name": "stdout",
     "output_type": "stream",
     "text": [
      "\n",
      "🔹 Predicted:  선비는 치아키도 만지지 않으면 앞이 허전한 것 같아서 기념도 끝도 있었다.\n",
      "🔸 Reference: 선비는 씨아틀도 만지지 않으면 앞이 허전한 것 같아서 그냥 붙들고 있었다.\n"
     ]
    },
    {
     "name": "stderr",
     "output_type": "stream",
     "text": [
      "\r",
      " 85%|████████▌ | 85/100 [00:25<00:04,  3.37it/s]"
     ]
    },
    {
     "name": "stdout",
     "output_type": "stream",
     "text": [
      "\n",
      "🔹 Predicted:  동시에 잠깐 잊었던 아픔이 그의 전신을 못된 리를 시작했다.\n",
      "🔸 Reference: 동시에 잠깐 잊었던 아픔이 그의 전신을 못 견디게 습격하였다.\n"
     ]
    },
    {
     "name": "stderr",
     "output_type": "stream",
     "text": [
      "\r",
      " 86%|████████▌ | 86/100 [00:25<00:04,  2.97it/s]"
     ]
    },
    {
     "name": "stdout",
     "output_type": "stream",
     "text": [
      "\n",
      "🔹 Predicted: 卓地는 무적처하고 벗었다다, 다시 더 고혁이 피해를 혼박히 돌아서 그의 집으로 왔다.\n",
      "🔸 Reference: 첫째는 무정처하고 걷다가 다시 덕호의 집 주위를 한 바퀴 돌아서 그의 집으로 왔다.\n"
     ]
    },
    {
     "name": "stderr",
     "output_type": "stream",
     "text": [
      "\r",
      " 87%|████████▋ | 87/100 [00:26<00:04,  3.04it/s]"
     ]
    },
    {
     "name": "stdout",
     "output_type": "stream",
     "text": [
      "\n",
      "🔹 Predicted: さわり、こわりあがさえいるような場合、それにしっかりして\n",
      "🔸 Reference: 사회 교화자로서의 의견을 말씀해주십쇼.\"\n"
     ]
    },
    {
     "name": "stderr",
     "output_type": "stream",
     "text": [
      "\r",
      " 88%|████████▊ | 88/100 [00:26<00:03,  3.39it/s]"
     ]
    },
    {
     "name": "stdout",
     "output_type": "stream",
     "text": [
      "\n",
      "🔹 Predicted:  그는 마침내 그 억지를 꼭 하고 왔다.\n",
      "🔸 Reference: 그는 마침내 구역질을 욱 하고 하였다.\n"
     ]
    },
    {
     "name": "stderr",
     "output_type": "stream",
     "text": [
      "\r",
      " 89%|████████▉ | 89/100 [00:26<00:03,  3.24it/s]"
     ]
    },
    {
     "name": "stdout",
     "output_type": "stream",
     "text": [
      "\n",
      "🔹 Predicted:  장우와 다른 동의인들이 들어오와 당원으로 가끼리의 본척이고 살아왔다.\n",
      "🔸 Reference: 장로와 다른 교인들이 들어와 병원으로 가기를 번차례로 권하였다.\n"
     ]
    },
    {
     "name": "stderr",
     "output_type": "stream",
     "text": [
      " 91%|█████████ | 91/100 [00:27<00:02,  3.63it/s]"
     ]
    },
    {
     "name": "stdout",
     "output_type": "stream",
     "text": [
      "\n",
      "🔹 Predicted:  그리즈아그는 잘못 찾아왔는다 하여 도로나 와서 지저를 다가 다시 들어갔다.\n",
      "🔸 Reference: 그래서 그는 잘못 찾아왔는가 하여 도로 나와서 주저하다가 다시 들어갔다.\n",
      "\n",
      "🔹 Predicted:  난엔 아아무국 좀 돕지\n",
      "🔸 Reference: 나는 아무 걱정도 없이\n"
     ]
    },
    {
     "name": "stderr",
     "output_type": "stream",
     "text": [
      "\r",
      " 92%|█████████▏| 92/100 [00:27<00:01,  4.01it/s]"
     ]
    },
    {
     "name": "stdout",
     "output_type": "stream",
     "text": [
      "\n",
      "🔹 Predicted:  전안두 어느 선 집은 글리던 편\n",
      "🔸 Reference: 평안도 어느 산 깊은 금덤판.\n"
     ]
    },
    {
     "name": "stderr",
     "output_type": "stream",
     "text": [
      "\r",
      " 93%|█████████▎| 93/100 [00:27<00:02,  3.48it/s]"
     ]
    },
    {
     "name": "stdout",
     "output_type": "stream",
     "text": [
      "\n",
      "🔹 Predicted:  그가 그 버거가 양복에만 전 버거기로 피계를 맞히며 김천지를 기초처럼 왔으려.\n",
      "🔸 Reference: 비록 고구라 양복일 망정 노박이로 비를 맞으며 김첨지를 뒤쫓아 나왔으랴.\n"
     ]
    },
    {
     "name": "stderr",
     "output_type": "stream",
     "text": [
      "\r",
      " 94%|█████████▍| 94/100 [00:28<00:01,  3.29it/s]"
     ]
    },
    {
     "name": "stdout",
     "output_type": "stream",
     "text": [
      "\n",
      "🔹 Predicted:  잘을 모르는 그 리액션을 보며, 자기의 눈이 난 그 리액션을 보았다.\n",
      "🔸 Reference: 팔을 놀리면 팔이 아프고 다리를 놀리면 다리가 아팠다.\n"
     ]
    },
    {
     "name": "stderr",
     "output_type": "stream",
     "text": [
      "\r",
      " 95%|█████████▌| 95/100 [00:28<00:01,  3.13it/s]"
     ]
    },
    {
     "name": "stdout",
     "output_type": "stream",
     "text": [
      "\n",
      "🔹 Predicted: 그다 판많은 소리 없이 알고 나서니 약집의 손을 실외할 새로 교실을 침대.\n",
      "🔸 Reference: 그가 방문을 소리 없이 열고 나서니 옆집에서는 시계가 새로 두시를 친다.\n"
     ]
    },
    {
     "name": "stderr",
     "output_type": "stream",
     "text": [
      "\r",
      " 96%|█████████▌| 96/100 [00:28<00:01,  3.30it/s]"
     ]
    },
    {
     "name": "stdout",
     "output_type": "stream",
     "text": [
      "\n",
      "🔹 Predicted:  н�スペンたしちねえの甘いよりもあった\n",
      "🔸 Reference: 영숙은 다시 춘우의 마음을 헤아려 보았다.\n"
     ]
    },
    {
     "name": "stderr",
     "output_type": "stream",
     "text": [
      " 98%|█████████▊| 98/100 [00:29<00:00,  3.44it/s]"
     ]
    },
    {
     "name": "stdout",
     "output_type": "stream",
     "text": [
      "\n",
      "🔹 Predicted: ボールへ부터 뱉어뒤로 없는 어떤 기가 헌침도하여 마치히 모를 기안을 냈다.\n",
      "🔸 Reference: 본래부터 뼈만 남았던 그가 한층 더하여 마치 해골을 대하는 듯하였다.\n",
      "\n",
      "🔹 Predicted: 그러나야 아무것도 아깝고 싶다.\n",
      "🔸 Reference: 그래봐야 아무것도 얻을 것이 없다.\n"
     ]
    },
    {
     "name": "stderr",
     "output_type": "stream",
     "text": [
      "\r",
      " 99%|█████████▉| 99/100 [00:29<00:00,  3.18it/s]"
     ]
    },
    {
     "name": "stdout",
     "output_type": "stream",
     "text": [
      "\n",
      "🔹 Predicted: 그지나 피해를 속서 피아노 피라소 피아옥게의 감하게 손을 얹었습니다.\n",
      "🔸 Reference: 고즈넉히 일어서서 피아노 앞에 가서 그의 어깨에 가만히 손을 얹었습니다.\n"
     ]
    },
    {
     "name": "stderr",
     "output_type": "stream",
     "text": [
      "100%|██████████| 100/100 [00:30<00:00,  3.32it/s]"
     ]
    },
    {
     "name": "stdout",
     "output_type": "stream",
     "text": [
      "\n",
      "🔹 Predicted:  낭뒹보살은 손으로 땅을 치며 이렇게 소리쳤다.\n",
      "🔸 Reference: 난장보살은 호미로 땅을 치며 이렇게 소리쳤다.\n",
      "\n",
      "✅ KO WER: 0.7537\n",
      "\n",
      "🌍 Language: en\n"
     ]
    },
    {
     "name": "stderr",
     "output_type": "stream",
     "text": [
      "\n",
      "  2%|▏         | 2/100 [00:00<00:28,  3.41it/s]"
     ]
    },
    {
     "name": "stdout",
     "output_type": "stream",
     "text": [
      "\n",
      "🔹 Predicted:  Nistemez is a childhood inside an honored wire cage.\n",
      "🔸 Reference: This device has a cathode inside an anode wire cage.\n",
      "\n",
      "🔹 Predicted: Mis product is almost always produced by the industrialized method.\n",
      "🔸 Reference: This product is almost always produced by the industrialized method.\n"
     ]
    },
    {
     "name": "stderr",
     "output_type": "stream",
     "text": [
      "  4%|▍         | 4/100 [00:00<00:21,  4.51it/s]"
     ]
    },
    {
     "name": "stdout",
     "output_type": "stream",
     "text": [
      "\n",
      "🔹 Predicted: It is named after Edward Simulten Holden.\n",
      "🔸 Reference: It is named after Edward Singleton Holden.\n",
      "\n",
      "🔹 Predicted: This north west of the region of center of Clare.\n",
      "🔸 Reference: It is north west of the regional centre of Clare.\n"
     ]
    },
    {
     "name": "stderr",
     "output_type": "stream",
     "text": [
      "\r",
      "  5%|▌         | 5/100 [00:01<00:21,  4.38it/s]"
     ]
    },
    {
     "name": "stdout",
     "output_type": "stream",
     "text": [
      "\n",
      "🔹 Predicted:  He was a nephew of Mayor Admiral Sir Francis Sector Syskolae.\n",
      "🔸 Reference: He was a nephew of Rear-Admiral Sir Francis Augustus Collier.\n"
     ]
    },
    {
     "name": "stderr",
     "output_type": "stream",
     "text": [
      "\r",
      "  6%|▌         | 6/100 [00:01<00:20,  4.54it/s]"
     ]
    },
    {
     "name": "stdout",
     "output_type": "stream",
     "text": [
      "\n",
      "🔹 Predicted:  Wien infis salundarmte atem desisetti.\n",
      "🔸 Reference: Leaving for some darn camp in Mississippi.\n"
     ]
    },
    {
     "name": "stderr",
     "output_type": "stream",
     "text": [
      "\r",
      "  7%|▋         | 7/100 [00:01<00:24,  3.74it/s]"
     ]
    },
    {
     "name": "stdout",
     "output_type": "stream",
     "text": [
      "\n",
      "🔹 Predicted:  Ond halen nisholk, tatsimu onepustitis, raukakak tani joa hark.\n",
      "🔸 Reference: While employed in this role, Johnson won the prestigious Robert F. Kennedy Award.\n"
     ]
    },
    {
     "name": "stderr",
     "output_type": "stream",
     "text": [
      "  9%|▉         | 9/100 [00:06<01:45,  1.16s/it]"
     ]
    },
    {
     "name": "stdout",
     "output_type": "stream",
     "text": [
      "\n",
      "🔹 Predicted:  Seine Waiens kestitik zemberaal kagdag bramitisikstikstikstikstikstikstikstikstikstikstikstikstikstikstikstikstikstikstikstikstikstikstikstikstikstikstikstikstikstikstikstikstikstikstikstikstikstikstikstikstikstikstikstikstikstikstikstikstikstikstikstikstikstikstikstikstikstikstikstikstikstikstikstikstikstikstikstikstikstikstikstikstikstikstikstikstikstikstikstikstikstikstikstikstikstikstikstikstikstikstikstikstikstikstikstikstikstikstikstikstikstikstikstikstikstikstikstikstikstikstikstikstikstikstikstikstikstikstikstikstikstikstikstikstikstikstikstikstikstikstikstikstikstikstikstikstikstikstikstikstikstikstikstikstikstikstikstikstikstikstikstikstikstikstikstikstikstikstikstikstikstikstikstikstikstikstikstikstikstikstikstikstikstikstikstikstikstikstikstikstikstikstikstikstikstikstikstikstikstikstikstikstikstikstikstikstikstikstikstikstikstikstikstikstikstikstikstikstikstikstikstik\n",
      "🔸 Reference: Samuel Lyons proceeded to subdivide Five Dock Farm into substantial estates.\n",
      "\n",
      "🔹 Predicted: Firrendedigend confirmed him.\n",
      "🔸 Reference: Where did it come from then?\n"
     ]
    },
    {
     "name": "stderr",
     "output_type": "stream",
     "text": [
      "\r",
      " 10%|█         | 10/100 [00:06<01:18,  1.15it/s]"
     ]
    },
    {
     "name": "stdout",
     "output_type": "stream",
     "text": [
      "\n",
      "🔹 Predicted: Sin's been three more have been abolished, leaving four.\n",
      "🔸 Reference: Since then, three more have been abolished, leaving four.\n"
     ]
    },
    {
     "name": "stderr",
     "output_type": "stream",
     "text": [
      "\r",
      " 11%|█         | 11/100 [00:06<01:01,  1.46it/s]"
     ]
    },
    {
     "name": "stdout",
     "output_type": "stream",
     "text": [
      "\n",
      "🔹 Predicted: Nar war, join the Atlantic torpedoes in, based at Newport, Rhode Island.\n",
      "🔸 Reference: \"Narwhal\" joined the Atlantic Torpedo Fleet, based at Newport, Rhode Island.\n"
     ]
    },
    {
     "name": "stderr",
     "output_type": "stream",
     "text": [
      " 13%|█▎        | 13/100 [00:07<00:38,  2.24it/s]"
     ]
    },
    {
     "name": "stdout",
     "output_type": "stream",
     "text": [
      "\n",
      "🔹 Predicted: The airline was later removed from the blacklist after complying with safety audits.\n",
      "🔸 Reference: The airline was later removed from the blacklist after complying with safety audits.\n",
      "\n",
      "🔹 Predicted: The people has the slogan \"Never apologize, never explain\".\n",
      "🔸 Reference: The paper has the slogan \"Never Apologise, Never Explain!\".\n"
     ]
    },
    {
     "name": "stderr",
     "output_type": "stream",
     "text": [
      " 15%|█▌        | 15/100 [00:07<00:24,  3.46it/s]"
     ]
    },
    {
     "name": "stdout",
     "output_type": "stream",
     "text": [
      "\n",
      "🔹 Predicted: He was born in Tokyo.\n",
      "🔸 Reference: He was born in Tokyo.\n",
      "\n",
      "🔹 Predicted:  Ej trast eschildes.\n",
      "🔸 Reference: You just shoot that.\n"
     ]
    },
    {
     "name": "stderr",
     "output_type": "stream",
     "text": [
      "\r",
      " 16%|█▌        | 16/100 [00:07<00:23,  3.55it/s]"
     ]
    },
    {
     "name": "stdout",
     "output_type": "stream",
     "text": [
      "\n",
      "🔹 Predicted: Gene was a life-and-file talented scholar with a number of first accomplishments.\n",
      "🔸 Reference: Chen was a low profile talented scholar with a number of \"first\" accomplishments.\n"
     ]
    },
    {
     "name": "stderr",
     "output_type": "stream",
     "text": [
      "\r",
      " 17%|█▋        | 17/100 [00:08<00:24,  3.46it/s]"
     ]
    },
    {
     "name": "stdout",
     "output_type": "stream",
     "text": [
      "\n",
      "🔹 Predicted: Itthong's history is the capital of the capital, the county's main commandeering out the rights.\n",
      "🔸 Reference: The Fulshear City Council asked the county to name the library after Lutts.\n"
     ]
    },
    {
     "name": "stderr",
     "output_type": "stream",
     "text": [
      "\r",
      " 18%|█▊        | 18/100 [00:08<00:27,  3.01it/s]"
     ]
    },
    {
     "name": "stdout",
     "output_type": "stream",
     "text": [
      "\n",
      "🔹 Predicted:  Bekauzkeidweik zinnits bauweiken tinnisau, kohan nubwessau, diknaabatur.\n",
      "🔸 Reference: The Cascade Lakes Scenic Byway continues south along the west side of Mount Bachelor.\n"
     ]
    },
    {
     "name": "stderr",
     "output_type": "stream",
     "text": [
      "\r",
      " 19%|█▉        | 19/100 [00:08<00:25,  3.12it/s]"
     ]
    },
    {
     "name": "stdout",
     "output_type": "stream",
     "text": [
      "\n",
      "🔹 Predicted: มันการโมยร์ว่าสาวันนั้นเลยเลย\n",
      "🔸 Reference: Montgomerie was eliminated.\n"
     ]
    },
    {
     "name": "stderr",
     "output_type": "stream",
     "text": [
      "\r",
      " 20%|██        | 20/100 [00:09<00:23,  3.42it/s]"
     ]
    },
    {
     "name": "stdout",
     "output_type": "stream",
     "text": [
      "\n",
      "🔹 Predicted:  Dependent on the time period and culture the term can have several meanings.\n",
      "🔸 Reference: Depending on the time period and culture, the term can have several meanings.\n"
     ]
    },
    {
     "name": "stderr",
     "output_type": "stream",
     "text": [
      "\r",
      " 21%|██        | 21/100 [00:09<00:22,  3.50it/s]"
     ]
    },
    {
     "name": "stdout",
     "output_type": "stream",
     "text": [
      "\n",
      "🔹 Predicted:  Nier, geortibut da geimbist kakulia konutki.\n",
      "🔸 Reference: The objective of the game is to capture your opponent's king.\n"
     ]
    },
    {
     "name": "stderr",
     "output_type": "stream",
     "text": [
      " 23%|██▎       | 23/100 [00:09<00:19,  3.97it/s]"
     ]
    },
    {
     "name": "stdout",
     "output_type": "stream",
     "text": [
      "\n",
      "🔹 Predicted: It is a producer of a fun-to-go-waltier at some among you.\n",
      "🔸 Reference: It is a producer of photovoltaic solar modules.\n",
      "\n",
      "🔹 Predicted: Bogilis in change track of the same day.\n",
      "🔸 Reference: Population change chart of Chênedouit\n"
     ]
    },
    {
     "name": "stderr",
     "output_type": "stream",
     "text": [
      "\r",
      " 24%|██▍       | 24/100 [00:10<00:16,  4.55it/s]"
     ]
    },
    {
     "name": "stdout",
     "output_type": "stream",
     "text": [
      "\n",
      "🔹 Predicted: I have to be with my father.\n",
      "🔸 Reference: I have to be with my father.\n"
     ]
    },
    {
     "name": "stderr",
     "output_type": "stream",
     "text": [
      "\r",
      " 25%|██▌       | 25/100 [00:10<00:22,  3.29it/s]"
     ]
    },
    {
     "name": "stdout",
     "output_type": "stream",
     "text": [
      "\n",
      "🔹 Predicted:  Enge-dolk-dolriは、ベッピーをストーリックで、キャッとワールドを、オーナーストを合わせる。\n",
      "🔸 Reference: In the dormitory where Beppe used to work they joked around almost always.\n"
     ]
    },
    {
     "name": "stderr",
     "output_type": "stream",
     "text": [
      "\r",
      " 26%|██▌       | 26/100 [00:15<01:56,  1.57s/it]"
     ]
    },
    {
     "name": "stdout",
     "output_type": "stream",
     "text": [
      "\n",
      "🔹 Predicted:  Fiitfose formus inietroa, dienoportus, edus, edus, edus, edus, edus, edus, edus, edus, edus, edus, edus, edus, edus, edus, edus, edus, edus, edus, edus, edus, edus, edus, edus, edus, edus, edus, edus, edus, edus, edus, edus, edus, edus, edus, edus, edus, edus, edus, edus, edus, edus, edus, edus, edus, edus, edus, edus, edus, edus, edus, edus, edus, edus, edus, edus, edus, edus, edus, edus, edus, edus, edus, edus, edus, edus, edus, edus, edus, edus, edus, edus, edus, edus, edus, edus, edus, edus, edus, edus, edus, edus, edus, edus, edus, edus, edus, edus, edus, edus, edus, edus, edus, edus, edus, edus, edus, edus, edus, edus, edus, edus, edus, edus, edus, edus, edus, edus, edus, edus, edus, edus, edus, edus, edus, edus, edus, edus, edus, edus, edus, edus, edus, edus, edus, edus, edus, edus, edus, edus, edus, edus, edus, edus, edus, edus, edus, edus, edus, edus, edus, edus, edus, ed\n",
      "🔸 Reference: It was reformist in nature and did not protest against Sanation authoritarianism or capitalism.\n"
     ]
    },
    {
     "name": "stderr",
     "output_type": "stream",
     "text": [
      "\r",
      " 27%|██▋       | 27/100 [00:15<01:26,  1.18s/it]"
     ]
    },
    {
     "name": "stdout",
     "output_type": "stream",
     "text": [
      "\n",
      "🔹 Predicted: Morrisos steltet datte kalsisteri snart fit for purpose.\n",
      "🔸 Reference: Morrison stated that the current system is \"not fit for purpose\".\n"
     ]
    },
    {
     "name": "stderr",
     "output_type": "stream",
     "text": [
      "\r",
      " 28%|██▊       | 28/100 [00:15<01:04,  1.11it/s]"
     ]
    },
    {
     "name": "stdout",
     "output_type": "stream",
     "text": [
      "\n",
      "🔹 Predicted: Kristin wases selt onberhelt kondikosen.\n",
      "🔸 Reference: Crichton also served on Berkshire County Council.\n"
     ]
    },
    {
     "name": "stderr",
     "output_type": "stream",
     "text": [
      "\r",
      " 29%|██▉       | 29/100 [00:15<00:49,  1.44it/s]"
     ]
    },
    {
     "name": "stdout",
     "output_type": "stream",
     "text": [
      "\n",
      "🔹 Predicted:  Nytist interior did she and her volums and Diana May.\n",
      "🔸 Reference: The cast included Gena Rowlands and Diane Lane.\n"
     ]
    },
    {
     "name": "stderr",
     "output_type": "stream",
     "text": [
      "\r",
      " 30%|███       | 30/100 [00:16<00:39,  1.77it/s]"
     ]
    },
    {
     "name": "stdout",
     "output_type": "stream",
     "text": [
      "\n",
      "🔹 Predicted:  Henni evitsen me noe wisjelks aviet vihutet.\n",
      "🔸 Reference: Many of its mineral reserves have yet to be fully tapped.\n"
     ]
    },
    {
     "name": "stderr",
     "output_type": "stream",
     "text": [
      "\r",
      " 31%|███       | 31/100 [00:16<00:34,  2.02it/s]"
     ]
    },
    {
     "name": "stdout",
     "output_type": "stream",
     "text": [
      "\n",
      "🔹 Predicted:  De kärztinoa krisine betre seoserselze betre hare histendontari.\n",
      "🔸 Reference: The Gatineau casino thus also serves Ottawa and Eastern Ontario.\n"
     ]
    },
    {
     "name": "stderr",
     "output_type": "stream",
     "text": [
      "\r",
      " 32%|███▏      | 32/100 [00:16<00:28,  2.35it/s]"
     ]
    },
    {
     "name": "stdout",
     "output_type": "stream",
     "text": [
      "\n",
      "🔹 Predicted:  Chancelate m'hoewelianhaen handmacht txtanto.\n",
      "🔸 Reference: John Strachan and William Allan and moved to Toronto.\n"
     ]
    },
    {
     "name": "stderr",
     "output_type": "stream",
     "text": [
      " 34%|███▍      | 34/100 [00:17<00:21,  3.14it/s]"
     ]
    },
    {
     "name": "stdout",
     "output_type": "stream",
     "text": [
      "\n",
      "🔹 Predicted: Winnie is the result of overshoot caused by an undetowned surgery.\n",
      "🔸 Reference: Ringing is the result of overshoot caused by an underdamped circuit.\n",
      "\n",
      "🔹 Predicted:  Kewa's decision over Mio had a meal kill.\n",
      "🔸 Reference: He was the son of Admiral Henrik Bielke.\n"
     ]
    },
    {
     "name": "stderr",
     "output_type": "stream",
     "text": [
      " 36%|███▌      | 36/100 [00:17<00:17,  3.70it/s]"
     ]
    },
    {
     "name": "stdout",
     "output_type": "stream",
     "text": [
      "\n",
      "🔹 Predicted:  Juhannis der Holm was bis et bärziden oder der Fisces für Berichtheim.\n",
      "🔸 Reference: Johannes Terho was vice president of the Finnish Chess Federation.\n",
      "\n",
      "🔹 Predicted: Tillthos also cast the wood guys.\n",
      "🔸 Reference: She was also cast in \"Wild Guys\".\n"
     ]
    },
    {
     "name": "stderr",
     "output_type": "stream",
     "text": [
      " 38%|███▊      | 38/100 [00:17<00:13,  4.58it/s]"
     ]
    },
    {
     "name": "stdout",
     "output_type": "stream",
     "text": [
      "\n",
      "🔹 Predicted: Doub was more yet tick-dance.\n",
      "🔸 Reference: Douw was married three times.\n",
      "\n",
      "🔹 Predicted: Homeless model is actress Susan Harrison.\n",
      "🔸 Reference: Conger's mother is actress Susan Harrison.\n"
     ]
    },
    {
     "name": "stderr",
     "output_type": "stream",
     "text": [
      "\r",
      " 39%|███▉      | 39/100 [00:18<00:13,  4.62it/s]"
     ]
    },
    {
     "name": "stdout",
     "output_type": "stream",
     "text": [
      "\n",
      "🔹 Predicted: It is as keen as a work with more men's skin equipment.\n",
      "🔸 Reference: It is a skiing resort with modern skiing equipment.\n"
     ]
    },
    {
     "name": "stderr",
     "output_type": "stream",
     "text": [
      "\r",
      " 40%|████      | 40/100 [00:18<00:14,  4.11it/s]"
     ]
    },
    {
     "name": "stdout",
     "output_type": "stream",
     "text": [
      "\n",
      "🔹 Predicted: Hitland, ours, Helmut, the doobies hermeling, with anarchy discretion.\n",
      "🔸 Reference: He then asks Helmut to do his hammering \"with a little discretion\".\n"
     ]
    },
    {
     "name": "stderr",
     "output_type": "stream",
     "text": [
      "\r",
      " 41%|████      | 41/100 [00:18<00:13,  4.28it/s]"
     ]
    },
    {
     "name": "stdout",
     "output_type": "stream",
     "text": [
      "\n",
      "🔹 Predicted: Jones refused and the work about the incident on a website.\n",
      "🔸 Reference: Jones refused and wrote about the incident on her website.\n"
     ]
    },
    {
     "name": "stderr",
     "output_type": "stream",
     "text": [
      "\r",
      " 42%|████▏     | 42/100 [00:18<00:13,  4.15it/s]"
     ]
    },
    {
     "name": "stdout",
     "output_type": "stream",
     "text": [
      "\n",
      "🔹 Predicted: Ai nou, prachtig, fit, balkinsch, pracht.\n",
      "🔸 Reference: A ripe plum is fit for a king's palate.\n"
     ]
    },
    {
     "name": "stderr",
     "output_type": "stream",
     "text": [
      "\r",
      " 43%|████▎     | 43/100 [00:23<01:27,  1.53s/it]"
     ]
    },
    {
     "name": "stdout",
     "output_type": "stream",
     "text": [
      "\n",
      "🔹 Predicted:  Karetsen is karehkouzo nirke karehkouzo nirke karehkouzo nirke karehkouzo nirke karehkouzo nirke karehkouzo nirke karehkouzo nirke karehkouzo nirke karehkouzo nirke karehkouzo nirke karehkouzo nirke karehkouzo nirke karehkouzo nirke karehkouzo nirke karehkouzo nirke karehkouzo nirke karehkouzo nirke karehkouzo nirke karehkouzo nirke karehkouzo nirke karehkouzo nirke karehkouzo nirke karehkouzo nirke karehkouzo nirke karehkouzo nirke karehkouzo nirke karehkouzo nirke karehkouzo nirke karehkouzo nirke karehkouzo nirke karehkouzo nirke karehkouzo nirke karehkouzo nirke karehkouzo nirke karehkouzo nirke karehkouzo nirke karehkouzo nirke karehkouzo nirke karehkouzo nirke karehkouzo nirke karehkouzo nirke karehkouzo nirke karehkouzo nirke karehkouzo nirke karehkouzo nirke karehkouzo nirke karehkouzo nirke karehkouzo nirke karehkouzo n\n",
      "🔸 Reference: Karetu School is also a local primary school in the Kawakawa region.\n"
     ]
    },
    {
     "name": "stderr",
     "output_type": "stream",
     "text": [
      "\r",
      " 44%|████▍     | 44/100 [00:23<01:04,  1.16s/it]"
     ]
    },
    {
     "name": "stdout",
     "output_type": "stream",
     "text": [
      "\n",
      "🔹 Predicted:  Oloi kai shouki shouki tsuretou shouki hankan.\n",
      "🔸 Reference: The location is between the towns of Jean and Primm.\n"
     ]
    },
    {
     "name": "stderr",
     "output_type": "stream",
     "text": [
      "\r",
      " 45%|████▌     | 45/100 [00:24<00:50,  1.10it/s]"
     ]
    },
    {
     "name": "stdout",
     "output_type": "stream",
     "text": [
      "\n",
      "🔹 Predicted:  Aqonai hukzen waide, zirks usikou shoufake to nishan ni.\n",
      "🔸 Reference: A colony of the Moravian Church was also founded in the same year.\n"
     ]
    },
    {
     "name": "stderr",
     "output_type": "stream",
     "text": [
      "\r",
      " 46%|████▌     | 46/100 [00:24<00:38,  1.40it/s]"
     ]
    },
    {
     "name": "stdout",
     "output_type": "stream",
     "text": [
      "\n",
      "🔹 Predicted: Domit is the first to begin to relate the tale of a funge once.\n",
      "🔸 Reference: During these dates, Fang begins to relate the tale of her friend's parents.\n"
     ]
    },
    {
     "name": "stderr",
     "output_type": "stream",
     "text": [
      "\r",
      " 47%|████▋     | 47/100 [00:24<00:32,  1.63it/s]"
     ]
    },
    {
     "name": "stdout",
     "output_type": "stream",
     "text": [
      "\n",
      "🔹 Predicted:  Hymoth, Trussson, her, hibitärin, prüzin, mit alslest, hibitärs.\n",
      "🔸 Reference: He moved to Boston, where he became increasingly obsessed with his health.\n"
     ]
    },
    {
     "name": "stderr",
     "output_type": "stream",
     "text": [
      "\r",
      " 48%|████▊     | 48/100 [00:24<00:25,  2.03it/s]"
     ]
    },
    {
     "name": "stdout",
     "output_type": "stream",
     "text": [
      "\n",
      "🔹 Predicted:  After running the induction from the needed form of permanent indignition.\n",
      "🔸 Reference: After winning the election, Sharon needed to form a government in the Knesset.\n",
      "\n",
      "🔹 Predicted: The film was animated in both between ancient and foreign historical California.\n",
      "🔸 Reference: The film was animated in both Britain and San Francisco, California.\n"
     ]
    },
    {
     "name": "stderr",
     "output_type": "stream",
     "text": [
      " 50%|█████     | 50/100 [00:25<00:17,  2.92it/s]"
     ]
    },
    {
     "name": "stdout",
     "output_type": "stream",
     "text": [
      "\n",
      "🔹 Predicted: He's also a leading position as a member of the state.\n",
      "🔸 Reference: His alternative position was wing.\n"
     ]
    },
    {
     "name": "stderr",
     "output_type": "stream",
     "text": [
      "\r",
      " 51%|█████     | 51/100 [00:25<00:15,  3.11it/s]"
     ]
    },
    {
     "name": "stdout",
     "output_type": "stream",
     "text": [
      "\n",
      "🔹 Predicted:  Más ensalababothoban, cilite himleste, toram.\n",
      "🔸 Reference: As a solo performer, he later released two albums.\n"
     ]
    },
    {
     "name": "stderr",
     "output_type": "stream",
     "text": [
      "\r",
      " 52%|█████▏    | 52/100 [00:25<00:14,  3.28it/s]"
     ]
    },
    {
     "name": "stdout",
     "output_type": "stream",
     "text": [
      "\n",
      "🔹 Predicted: The first time was barely used, vice-versa-series, sandspots.\n",
      "🔸 Reference: The first and most widely used tracers are sunspots.\n"
     ]
    },
    {
     "name": "stderr",
     "output_type": "stream",
     "text": [
      "\r",
      " 53%|█████▎    | 53/100 [00:26<00:13,  3.61it/s]"
     ]
    },
    {
     "name": "stdout",
     "output_type": "stream",
     "text": [
      "\n",
      "🔹 Predicted:  They had gone to get penalized for it, but so what?\n",
      "🔸 Reference: They're going to get penalized for it, but So what?\n"
     ]
    },
    {
     "name": "stderr",
     "output_type": "stream",
     "text": [
      "\r",
      " 54%|█████▍    | 54/100 [00:26<00:11,  3.91it/s]"
     ]
    },
    {
     "name": "stdout",
     "output_type": "stream",
     "text": [
      "\n",
      "🔹 Predicted: The game had changed by the time the first spam set was arrived.\n",
      "🔸 Reference: The game had changed by the time the first Spanish settlers arrived.\n"
     ]
    },
    {
     "name": "stderr",
     "output_type": "stream",
     "text": [
      " 56%|█████▌    | 56/100 [00:26<00:11,  3.96it/s]"
     ]
    },
    {
     "name": "stdout",
     "output_type": "stream",
     "text": [
      "\n",
      "🔹 Predicted: Singenien werden prachtig er auf innsimmendien zömpftentel verhoffet.\n",
      "🔸 Reference: Some Indian Pattern cars saw use in the Indian subcontinent and Burma.\n",
      "\n",
      "🔹 Predicted:  Before the time to be used, the house was being removed.\n",
      "🔸 Reference: Before the grain can be used, the husks must be removed.\n"
     ]
    },
    {
     "name": "stderr",
     "output_type": "stream",
     "text": [
      "\r",
      " 57%|█████▋    | 57/100 [00:27<00:12,  3.52it/s]"
     ]
    },
    {
     "name": "stdout",
     "output_type": "stream",
     "text": [
      "\n",
      "🔹 Predicted: Faht 1000人を一人のプランプのアップアップスティングへ向け in this region.\n",
      "🔸 Reference: For thousands of years, Native American tribes inhabited this region.\n"
     ]
    },
    {
     "name": "stderr",
     "output_type": "stream",
     "text": [
      "\r",
      " 58%|█████▊    | 58/100 [00:27<00:11,  3.57it/s]"
     ]
    },
    {
     "name": "stdout",
     "output_type": "stream",
     "text": [
      "\n",
      "🔹 Predicted: Dare four fancy warriors, semantically, they are a bit more dark than the conditions.\n",
      "🔸 Reference: Therefore, transitivity is semantically valid without any constraints.\n"
     ]
    },
    {
     "name": "stderr",
     "output_type": "stream",
     "text": [
      "\r",
      " 59%|█████▉    | 59/100 [00:27<00:12,  3.39it/s]"
     ]
    },
    {
     "name": "stdout",
     "output_type": "stream",
     "text": [
      "\n",
      "🔹 Predicted: Nibbothal waspien had with him special talent and talent in the farming techniques and started making terraces.\n",
      "🔸 Reference: Nevertheless, the inhabitants decided to improve their farming techniques and started making terraces.\n"
     ]
    },
    {
     "name": "stderr",
     "output_type": "stream",
     "text": [
      " 61%|██████    | 61/100 [00:28<00:10,  3.76it/s]"
     ]
    },
    {
     "name": "stdout",
     "output_type": "stream",
     "text": [
      "\n",
      "🔹 Predicted:  Fumol di kairoshe biere kare mou eikai baiber diksenei.\n",
      "🔸 Reference: For more detail, see the article in the \"Anchor Bible Dictionary\".\n",
      "\n",
      "🔹 Predicted:  Epschardisild besorafil.\n",
      "🔸 Reference: Its county seat is Murphy.\n"
     ]
    },
    {
     "name": "stderr",
     "output_type": "stream",
     "text": [
      "\r",
      " 62%|██████▏   | 62/100 [00:28<00:10,  3.77it/s]"
     ]
    },
    {
     "name": "stdout",
     "output_type": "stream",
     "text": [
      "\n",
      "🔹 Predicted: Tones weeks with the claims he will have, there is commitment to return to his quest.\n",
      "🔸 Reference: Tom sleeps with the queen, Celia, but is compelled to return to his quest.\n"
     ]
    },
    {
     "name": "stderr",
     "output_type": "stream",
     "text": [
      "\r",
      " 63%|██████▎   | 63/100 [00:28<00:10,  3.39it/s]"
     ]
    },
    {
     "name": "stdout",
     "output_type": "stream",
     "text": [
      "\n",
      "🔹 Predicted:  Ewa znen forfriere ennen verbeid, s'est trokendet bestmafte regnetten.\n",
      "🔸 Reference: It was named for Cleora Ann Lunday, sister of the postmaster, Ed Lunday.\n"
     ]
    },
    {
     "name": "stderr",
     "output_type": "stream",
     "text": [
      "\r",
      " 64%|██████▍   | 64/100 [00:29<00:10,  3.57it/s]"
     ]
    },
    {
     "name": "stdout",
     "output_type": "stream",
     "text": [
      "\n",
      "🔹 Predicted:  Venshoffsvarer histgen ordinen finnvar her.\n",
      "🔸 Reference: The control tower has been recorded as being haunted.\n"
     ]
    },
    {
     "name": "stderr",
     "output_type": "stream",
     "text": [
      "\r",
      " 65%|██████▌   | 65/100 [00:29<00:09,  3.51it/s]"
     ]
    },
    {
     "name": "stdout",
     "output_type": "stream",
     "text": [
      "\n",
      "🔹 Predicted: In zersuzen grans verpliepter verborriven bevijertz.\n",
      "🔸 Reference: It is also sometimes prepared for wedding banquets.\n"
     ]
    },
    {
     "name": "stderr",
     "output_type": "stream",
     "text": [
      "\r",
      " 66%|██████▌   | 66/100 [00:29<00:09,  3.48it/s]"
     ]
    },
    {
     "name": "stdout",
     "output_type": "stream",
     "text": [
      "\n",
      "🔹 Predicted: Polivera iseppi sinpomenakai iso-finirian ciz.\n",
      "🔸 Reference: Toliver also proves important in Hawk-Owl's origin later on in the series.\n"
     ]
    },
    {
     "name": "stderr",
     "output_type": "stream",
     "text": [
      " 68%|██████▊   | 68/100 [00:30<00:07,  4.20it/s]"
     ]
    },
    {
     "name": "stdout",
     "output_type": "stream",
     "text": [
      "\n",
      "🔹 Predicted:  Hora, a boat teacher's method can't stop the speed in the tank.\n",
      "🔸 Reference: However, both creatures were fond of pranks and misleading people.\n",
      "\n",
      "🔹 Predicted: The song is played in liquid waters.\n",
      "🔸 Reference: The song is played only to the chorus.\n"
     ]
    },
    {
     "name": "stderr",
     "output_type": "stream",
     "text": [
      "\r",
      " 69%|██████▉   | 69/100 [00:30<00:08,  3.57it/s]"
     ]
    },
    {
     "name": "stdout",
     "output_type": "stream",
     "text": [
      "\n",
      "🔹 Predicted:  Beleas the low-heat program is current, and could in some three-year-old and college-estate and chairman.\n",
      "🔸 Reference: Additional local programming is planned, including some previously aired on the college's cable channel.\n"
     ]
    },
    {
     "name": "stderr",
     "output_type": "stream",
     "text": [
      "\r",
      " 70%|███████   | 70/100 [00:30<00:08,  3.58it/s]"
     ]
    },
    {
     "name": "stdout",
     "output_type": "stream",
     "text": [
      "\n",
      "🔹 Predicted:  Kribeit eisem bärinan jantan nint, for him.\n",
      "🔸 Reference: Today there is an arena in London named for him.\n"
     ]
    },
    {
     "name": "stderr",
     "output_type": "stream",
     "text": [
      " 72%|███████▏  | 72/100 [00:31<00:06,  4.04it/s]"
     ]
    },
    {
     "name": "stdout",
     "output_type": "stream",
     "text": [
      "\n",
      "🔹 Predicted: Mutal record label tross its name from notorious drug lord Chris Albert Blanco.\n",
      "🔸 Reference: The record label draws its name from notorious drug lord Griselda Blanco.\n",
      "\n",
      "🔹 Predicted: The vehicles sold them would be used for luxury taxi operations.\n",
      "🔸 Reference: The vehicles sold there would be used for luxury taxi operations.\n"
     ]
    },
    {
     "name": "stderr",
     "output_type": "stream",
     "text": [
      "\r",
      " 73%|███████▎  | 73/100 [00:31<00:06,  4.06it/s]"
     ]
    },
    {
     "name": "stdout",
     "output_type": "stream",
     "text": [
      "\n",
      "🔹 Predicted: He created what grew into the beating service and the high-to-profit service.\n",
      "🔸 Reference: He created what grew into the beacon service and the hydrographic services.\n"
     ]
    },
    {
     "name": "stderr",
     "output_type": "stream",
     "text": [
      "\r",
      " 74%|███████▍  | 74/100 [00:31<00:06,  3.86it/s]"
     ]
    },
    {
     "name": "stdout",
     "output_type": "stream",
     "text": [
      "\n",
      "🔹 Predicted: Traspitz komberabävii, sejivaspegam despo.\n",
      "🔸 Reference: Classmates called her \"Baby\" since she was the youngest girl.\n"
     ]
    },
    {
     "name": "stderr",
     "output_type": "stream",
     "text": [
      "\r",
      " 75%|███████▌  | 75/100 [00:32<00:06,  3.71it/s]"
     ]
    },
    {
     "name": "stdout",
     "output_type": "stream",
     "text": [
      "\n",
      "🔹 Predicted: Johannikos in Mikaias clinched the shopping street by winning the Wagonhouse.\n",
      "🔸 Reference: Ionikos Nikaias clinched the championship by winning the regular season.\n"
     ]
    },
    {
     "name": "stderr",
     "output_type": "stream",
     "text": [
      "\r",
      " 76%|███████▌  | 76/100 [00:32<00:06,  3.55it/s]"
     ]
    },
    {
     "name": "stdout",
     "output_type": "stream",
     "text": [
      "\n",
      "🔹 Predicted:  Itspogelhoewolks seeku zurekai jelmolpogel.\n",
      "🔸 Reference: Its provisional seat was located in Kovel.\n",
      "\n",
      "🔹 Predicted:  Wanne committed professor of civil engineering at the University of Michigan.\n",
      "🔸 Reference: Wylie Collegiate Professor of Civil Engineering at the University of Michigan.\n"
     ]
    },
    {
     "name": "stderr",
     "output_type": "stream",
     "text": [
      " 78%|███████▊  | 78/100 [00:32<00:05,  3.90it/s]"
     ]
    },
    {
     "name": "stdout",
     "output_type": "stream",
     "text": [
      "\n",
      "🔹 Predicted:  Amon Gellink, for president of Singapore, Arminai-Ekro.\n",
      "🔸 Reference: Among them include President of Singapore Halimah Yacob.\n"
     ]
    },
    {
     "name": "stderr",
     "output_type": "stream",
     "text": [
      "\r",
      " 79%|███████▉  | 79/100 [00:33<00:05,  3.92it/s]"
     ]
    },
    {
     "name": "stdout",
     "output_type": "stream",
     "text": [
      "\n",
      "🔹 Predicted:  Bufemusfaj is often called the mislearned fight in England.\n",
      "🔸 Reference: The famous straight is often called the Mulsanne Straight in English.\n"
     ]
    },
    {
     "name": "stderr",
     "output_type": "stream",
     "text": [
      "\r",
      " 80%|████████  | 80/100 [00:33<00:04,  4.06it/s]"
     ]
    },
    {
     "name": "stdout",
     "output_type": "stream",
     "text": [
      "\n",
      "🔹 Predicted: Testis positions in the courts for the duration of a skydive.\n",
      "🔸 Reference: These positions are not held for the duration of a skydive.\n"
     ]
    },
    {
     "name": "stderr",
     "output_type": "stream",
     "text": [
      "\r",
      " 81%|████████  | 81/100 [00:33<00:05,  3.80it/s]"
     ]
    },
    {
     "name": "stdout",
     "output_type": "stream",
     "text": [
      "\n",
      "🔹 Predicted: Welkberg is also frequently in Newark as far away with his physical movement to their heirlooms.\n",
      "🔸 Reference: Both boys also frequently worked as farm laborers to supplement their allowance.\n"
     ]
    },
    {
     "name": "stderr",
     "output_type": "stream",
     "text": [
      " 83%|████████▎ | 83/100 [00:34<00:04,  3.78it/s]"
     ]
    },
    {
     "name": "stdout",
     "output_type": "stream",
     "text": [
      "\n",
      "🔹 Predicted: Milana misstuk sonny, baihis anikarian kai, sonny, fengenero spansibol.\n",
      "🔸 Reference: Meanwhile, Ms. Choksondik dies and Cartman, Kyle and Stan think that they are responsible.\n",
      "\n",
      "🔹 Predicted:  Leek no-met climate has in the world.\n",
      "🔸 Reference: The economic climate has improved.\n"
     ]
    },
    {
     "name": "stderr",
     "output_type": "stream",
     "text": [
      " 85%|████████▌ | 85/100 [00:34<00:03,  4.45it/s]"
     ]
    },
    {
     "name": "stdout",
     "output_type": "stream",
     "text": [
      "\n",
      "🔹 Predicted: The old man made a visant to make himself a tower.\n",
      "🔸 Reference: The old man laid down his hand to light a cigar.\n",
      "\n",
      "🔹 Predicted:  Inel has some new men, men of the Church.\n",
      "🔸 Reference: It has a million megapixels.\n"
     ]
    },
    {
     "name": "stderr",
     "output_type": "stream",
     "text": [
      "\r",
      " 86%|████████▌ | 86/100 [00:34<00:02,  4.97it/s]"
     ]
    },
    {
     "name": "stdout",
     "output_type": "stream",
     "text": [
      "\n",
      "🔹 Predicted: He is driving it in both daylight.\n",
      "🔸 Reference: He is driving it in broad daylight.\n"
     ]
    },
    {
     "name": "stderr",
     "output_type": "stream",
     "text": [
      " 88%|████████▊ | 88/100 [00:35<00:02,  4.95it/s]"
     ]
    },
    {
     "name": "stdout",
     "output_type": "stream",
     "text": [
      "\n",
      "🔹 Predicted: Halliz, nübeleitred herkorn, ownede itonsentitner, hondensis.\n",
      "🔸 Reference: Police knew that Edward owned the items and did not want them seized.\n",
      "\n",
      "🔹 Predicted: Pelco.\n",
      "🔸 Reference: Eyton.\n"
     ]
    },
    {
     "name": "stderr",
     "output_type": "stream",
     "text": [
      "\r",
      " 89%|████████▉ | 89/100 [00:35<00:02,  4.65it/s]"
     ]
    },
    {
     "name": "stdout",
     "output_type": "stream",
     "text": [
      "\n",
      "🔹 Predicted: It was built by people who saw straight ahead of us from Iowa to the United.\n",
      "🔸 Reference: It was built by people associated with the railroads in Macon.\n"
     ]
    },
    {
     "name": "stderr",
     "output_type": "stream",
     "text": [
      " 91%|█████████ | 91/100 [00:35<00:01,  4.67it/s]"
     ]
    },
    {
     "name": "stdout",
     "output_type": "stream",
     "text": [
      "\n",
      "🔹 Predicted: Happens an, kokoos nannit, kibou buchit.\n",
      "🔸 Reference: Harkness and it was named Dingo Beach.\n",
      "\n",
      "🔹 Predicted: Denis did was playing the honest software box.\n",
      "🔸 Reference: The incident was blamed on a software glitch.\n"
     ]
    },
    {
     "name": "stderr",
     "output_type": "stream",
     "text": [
      " 93%|█████████▎| 93/100 [00:36<00:01,  4.85it/s]"
     ]
    },
    {
     "name": "stdout",
     "output_type": "stream",
     "text": [
      "\n",
      "🔹 Predicted:  Itsomorik par tz. tz. dohagol de ihtor esiblikol faol.\n",
      "🔸 Reference: In some other parts of the temple, however, the emperor is simply called \"Pharaoh\".\n",
      "\n",
      "🔹 Predicted:  They also divorced.\n",
      "🔸 Reference: They also divorced.\n"
     ]
    },
    {
     "name": "stderr",
     "output_type": "stream",
     "text": [
      "\r",
      " 94%|█████████▍| 94/100 [00:36<00:01,  4.38it/s]"
     ]
    },
    {
     "name": "stdout",
     "output_type": "stream",
     "text": [
      "\n",
      "🔹 Predicted: The energy from the sun easing the terrible of the form of energy conversion, a glass of water.\n",
      "🔸 Reference: The energy from the Sun is an example of this form of energy conversion.\n"
     ]
    },
    {
     "name": "stderr",
     "output_type": "stream",
     "text": [
      "\r",
      " 95%|█████████▌| 95/100 [00:36<00:01,  4.03it/s]"
     ]
    },
    {
     "name": "stdout",
     "output_type": "stream",
     "text": [
      "\n",
      "🔹 Predicted:  It is the capital of Wattu Wattie, the two-win-all-in region.\n",
      "🔸 Reference: It is the capital of Vatovavy-Fitovinany Region.\n"
     ]
    },
    {
     "name": "stderr",
     "output_type": "stream",
     "text": [
      " 97%|█████████▋| 97/100 [00:37<00:00,  4.38it/s]"
     ]
    },
    {
     "name": "stdout",
     "output_type": "stream",
     "text": [
      "\n",
      "🔹 Predicted: Nou reason, however, was given as to the change of birth years.\n",
      "🔸 Reference: No reason, however, was given as to the change of birth years.\n",
      "\n",
      "🔹 Predicted:  Dut di' storya auditisie jelad.\n",
      "🔸 Reference: The destroyer had a busy July.\n"
     ]
    },
    {
     "name": "stderr",
     "output_type": "stream",
     "text": [
      " 99%|█████████▉| 99/100 [00:37<00:00,  4.75it/s]"
     ]
    },
    {
     "name": "stdout",
     "output_type": "stream",
     "text": [
      "\n",
      "🔹 Predicted: She is not popular in South Korea, but in Japan.\n",
      "🔸 Reference: She is more popular in South Korea than in Japan.\n",
      "\n",
      "🔹 Predicted:  Beivipië, Mules, Trondheim.\n",
      "🔸 Reference: David B. and Lewis Trondheim.\n"
     ]
    },
    {
     "name": "stderr",
     "output_type": "stream",
     "text": [
      "100%|██████████| 100/100 [00:37<00:00,  2.64it/s]"
     ]
    },
    {
     "name": "stdout",
     "output_type": "stream",
     "text": [
      "\n",
      "🔹 Predicted: Mit leptosfeet, and with those ten, it unwinded.\n",
      "🔸 Reference: The legs are straight, and the toes and feet are pointed.\n",
      "\n",
      "✅ EN WER: 0.9762\n",
      "\n",
      "🌍 Language: ja\n"
     ]
    },
    {
     "name": "stderr",
     "output_type": "stream",
     "text": [
      "\n",
      "  1%|          | 1/100 [00:00<00:17,  5.61it/s]"
     ]
    },
    {
     "name": "stdout",
     "output_type": "stream",
     "text": [
      "\n",
      "🔹 Predicted: はまるして、おうしっかり\n",
      "🔸 Reference: 山口県防府市\n"
     ]
    },
    {
     "name": "stderr",
     "output_type": "stream",
     "text": [
      "  3%|▎         | 3/100 [00:00<00:26,  3.70it/s]"
     ]
    },
    {
     "name": "stdout",
     "output_type": "stream",
     "text": [
      "\n",
      "🔹 Predicted: うさがひっこいです\n",
      "🔸 Reference: 大阪府交野市\n",
      "\n",
      "🔹 Predicted: 彼は死にいないスティー\n",
      "🔸 Reference: 福岡市東区\n"
     ]
    },
    {
     "name": "stderr",
     "output_type": "stream",
     "text": [
      "  5%|▌         | 5/100 [00:01<00:18,  5.03it/s]"
     ]
    },
    {
     "name": "stdout",
     "output_type": "stream",
     "text": [
      "\n",
      "🔹 Predicted: そこは、死に、大根所っている\n",
      "🔸 Reference: その癖に大飯を食う\n",
      "\n",
      "🔹 Predicted: よく思い出そう\n",
      "🔸 Reference: 奈良県王寺町\n"
     ]
    },
    {
     "name": "stderr",
     "output_type": "stream",
     "text": [
      "  7%|▋         | 7/100 [00:01<00:17,  5.19it/s]"
     ]
    },
    {
     "name": "stdout",
     "output_type": "stream",
     "text": [
      "\n",
      "🔹 Predicted:  Й'n zakki vkeetan mitou.\n",
      "🔸 Reference: 宮崎県国富町\n",
      "\n",
      "🔹 Predicted: おうしもきんたりみせいし\n",
      "🔸 Reference: 鹿児島県垂水市\n"
     ]
    },
    {
     "name": "stderr",
     "output_type": "stream",
     "text": [
      "  9%|▉         | 9/100 [00:01<00:16,  5.47it/s]"
     ]
    },
    {
     "name": "stdout",
     "output_type": "stream",
     "text": [
      "\n",
      "🔹 Predicted: ヨークがありまとん\n",
      "🔸 Reference: 兵庫県播磨町\n",
      "\n",
      "🔹 Predicted: とりっくりに気づいている\n",
      "🔸 Reference: 鳥取県智頭町\n"
     ]
    },
    {
     "name": "stderr",
     "output_type": "stream",
     "text": [
      " 11%|█         | 11/100 [00:02<00:16,  5.39it/s]"
     ]
    },
    {
     "name": "stdout",
     "output_type": "stream",
     "text": [
      "\n",
      "🔹 Predicted: ホーサッカーに進みような落ちし\n",
      "🔸 Reference: 大阪府四條畷市\n",
      "\n",
      "🔹 Predicted:  Värk kundel on vahti?\n",
      "🔸 Reference: 茨城県大子町\n"
     ]
    },
    {
     "name": "stderr",
     "output_type": "stream",
     "text": [
      " 13%|█▎        | 13/100 [00:02<00:13,  6.29it/s]"
     ]
    },
    {
     "name": "stdout",
     "output_type": "stream",
     "text": [
      "\n",
      "🔹 Predicted: うまく死みようと\n",
      "🔸 Reference: 熊本市南区\n",
      "\n",
      "🔹 Predicted: とっというマイズです\n",
      "🔸 Reference: 京都府舞鶴市\n"
     ]
    },
    {
     "name": "stderr",
     "output_type": "stream",
     "text": [
      "\r",
      " 14%|█▍        | 14/100 [00:02<00:13,  6.21it/s]"
     ]
    },
    {
     "name": "stdout",
     "output_type": "stream",
     "text": [
      "\n",
      "🔹 Predicted: とっというのは、大阪町\n",
      "🔸 Reference: 京都府和束町\n"
     ]
    },
    {
     "name": "stderr",
     "output_type": "stream",
     "text": [
      " 16%|█▌        | 16/100 [00:03<00:14,  5.69it/s]"
     ]
    },
    {
     "name": "stdout",
     "output_type": "stream",
     "text": [
      "\n",
      "🔹 Predicted: そこを解きに調査するようにしていった\n",
      "🔸 Reference: ショートケーキにイチゴを乗せるように乗せていった\n",
      "\n",
      "🔹 Predicted: スローハッキーはアップミス\n",
      "🔸 Reference: 静岡県熱海市\n"
     ]
    },
    {
     "name": "stderr",
     "output_type": "stream",
     "text": [
      "\r",
      " 17%|█▋        | 17/100 [00:03<00:13,  6.26it/s]"
     ]
    },
    {
     "name": "stdout",
     "output_type": "stream",
     "text": [
      "\n",
      "🔹 Predicted: Holk and Hose\n",
      "🔸 Reference: 兵庫県相生市\n"
     ]
    },
    {
     "name": "stderr",
     "output_type": "stream",
     "text": [
      "\r",
      " 18%|█▊        | 18/100 [00:03<00:19,  4.30it/s]"
     ]
    },
    {
     "name": "stdout",
     "output_type": "stream",
     "text": [
      "\n",
      "🔹 Predicted: 一方通りこの所でもあったり、意味気味にそったり言って、人間的にいるような人々です。\n",
      "🔸 Reference: 一方通行の車道を渡り、並木道に沿って歩いて、死に掛けの乳牛のような足取りで進み、\n"
     ]
    },
    {
     "name": "stderr",
     "output_type": "stream",
     "text": [
      "\r",
      " 19%|█▉        | 19/100 [00:03<00:22,  3.57it/s]"
     ]
    },
    {
     "name": "stdout",
     "output_type": "stream",
     "text": [
      "\n",
      "🔹 Predicted: インジェンマジシャツに行った悪しい感じをつくりつつじこわれたにするのである。\n",
      "🔸 Reference: 人間は技術によって新しい環境を作りつつ自己を新たにするのである。\n"
     ]
    },
    {
     "name": "stderr",
     "output_type": "stream",
     "text": [
      " 21%|██        | 21/100 [00:04<00:22,  3.57it/s]"
     ]
    },
    {
     "name": "stdout",
     "output_type": "stream",
     "text": [
      "\n",
      "🔹 Predicted: スクリアをハンダーに乗る気のことを聞き替えたいものが、ふくわらっていなければならない。\n",
      "🔸 Reference: そこには判断論理の媒介というものが、含まれていなければならない。\n",
      "\n",
      "🔹 Predicted: ちさあのもちだってやつか\n",
      "🔸 Reference: 痴情のもつれってやつか\n"
     ]
    },
    {
     "name": "stderr",
     "output_type": "stream",
     "text": [
      "\r",
      " 22%|██▏       | 22/100 [00:04<00:23,  3.29it/s]"
     ]
    },
    {
     "name": "stdout",
     "output_type": "stream",
     "text": [
      "\n",
      "🔹 Predicted: ホーホーで人にちよされた経験が実験だよ、笑えるものだよ。\n",
      "🔸 Reference: 方法的に規制された経験が実験と呼ばれるものである。\n"
     ]
    },
    {
     "name": "stderr",
     "output_type": "stream",
     "text": [
      "\r",
      " 23%|██▎       | 23/100 [00:05<00:21,  3.57it/s]"
     ]
    },
    {
     "name": "stdout",
     "output_type": "stream",
     "text": [
      "\n",
      "🔹 Predicted:  견받を開発にするとききちりあった\n",
      "🔸 Reference: 現場は開発に積極的だった\n"
     ]
    },
    {
     "name": "stderr",
     "output_type": "stream",
     "text": [
      "\r",
      " 24%|██▍       | 24/100 [00:05<00:22,  3.42it/s]"
     ]
    },
    {
     "name": "stdout",
     "output_type": "stream",
     "text": [
      "\n",
      "🔹 Predicted: 自己の自己の世界の解処に触って、調査した道をさせられる。\n",
      "🔸 Reference: 自己の経験する世界の拡大するに従って常識は動揺させられる。\n"
     ]
    },
    {
     "name": "stderr",
     "output_type": "stream",
     "text": [
      "\r",
      " 25%|██▌       | 25/100 [00:05<00:25,  2.93it/s]"
     ]
    },
    {
     "name": "stdout",
     "output_type": "stream",
     "text": [
      "\n",
      "🔹 Predicted: インキンによく見た次第のオッケラボも、ギャラモンやマッグラーナマッチな顔。\n",
      "🔸 Reference: 人間によく似た巨大なのっぺらぼうも、誰もいない真っ暗な街中も、\n"
     ]
    },
    {
     "name": "stderr",
     "output_type": "stream",
     "text": [
      "\r",
      " 26%|██▌       | 26/100 [00:06<00:26,  2.75it/s]"
     ]
    },
    {
     "name": "stdout",
     "output_type": "stream",
     "text": [
      "\n",
      "🔹 Predicted: ドーチャルでれるんだいがくりき、その後、いじりそのオープンスフォードだいだった。\n",
      "🔸 Reference: ドイツのベルリン大学に行き、その後、イギリスのオックスフォード大学、\n"
     ]
    },
    {
     "name": "stderr",
     "output_type": "stream",
     "text": [
      "\r",
      " 27%|██▋       | 27/100 [00:06<00:25,  2.82it/s]"
     ]
    },
    {
     "name": "stdout",
     "output_type": "stream",
     "text": [
      "\n",
      "🔹 Predicted: つくずく彼らのうちのサッカーを理知してくれたらと思ってしまう。\n",
      "🔸 Reference: つくづく彼がうちのサッカー部に来てくれたらと思ってしまう\n"
     ]
    },
    {
     "name": "stderr",
     "output_type": "stream",
     "text": [
      "\r",
      " 28%|██▊       | 28/100 [00:06<00:23,  3.02it/s]"
     ]
    },
    {
     "name": "stdout",
     "output_type": "stream",
     "text": [
      "\n",
      "🔹 Predicted: チンジャーの人にはいいアイスアトロークアウスン\n",
      "🔸 Reference: 近所の人に会いあいさつを交わす\n"
     ]
    },
    {
     "name": "stderr",
     "output_type": "stream",
     "text": [
      "\r",
      " 29%|██▉       | 29/100 [00:07<00:23,  2.97it/s]"
     ]
    },
    {
     "name": "stdout",
     "output_type": "stream",
     "text": [
      "\n",
      "🔹 Predicted: いつものシャツが誰だらになってきたので、パンスカルを取らしの出さないと\n",
      "🔸 Reference: いつものシャツがだるだるになってきたので、タンスから新しいの出さなきゃ\n"
     ]
    },
    {
     "name": "stderr",
     "output_type": "stream",
     "text": [
      " 31%|███       | 31/100 [00:07<00:21,  3.16it/s]"
     ]
    },
    {
     "name": "stdout",
     "output_type": "stream",
     "text": [
      "\n",
      "🔹 Predicted: すべてで衝撃というもっとくられも、かわくてずづきづきで衝撃感じで一つ考えることが理事である。\n",
      "🔸 Reference: 生物現象というも、どこまでも化学的物理的現象に還元して考えることができるであろう。\n",
      "\n",
      "🔹 Predicted:  고고씨들 아니었다.\n",
      "🔸 Reference: ご無事でなにより\n"
     ]
    },
    {
     "name": "stderr",
     "output_type": "stream",
     "text": [
      "\r",
      " 32%|███▏      | 32/100 [00:08<00:28,  2.36it/s]"
     ]
    },
    {
     "name": "stdout",
     "output_type": "stream",
     "text": [
      "\n",
      "🔹 Predicted:  Zettaii miset diki kodolztashti sikaraltago dari tsukaramuna wa eta iosega iartararara kogorarao, javinsai hote kitsenu georaltik.\n",
      "🔸 Reference: 絶対矛盾的自己同一として作られたものより作るものへという世界においては、我々はどこまでも表現作用的形成の欲求をもっている。\n"
     ]
    },
    {
     "name": "stderr",
     "output_type": "stream",
     "text": [
      "\r",
      " 33%|███▎      | 33/100 [00:08<00:25,  2.59it/s]"
     ]
    },
    {
     "name": "stdout",
     "output_type": "stream",
     "text": [
      "\n",
      "🔹 Predicted: ずいし、グラーディーベースがハローにも買った。\n",
      "🔸 Reference: 先週に比べてペース上がりまくった\n"
     ]
    },
    {
     "name": "stderr",
     "output_type": "stream",
     "text": [
      "\r",
      " 34%|███▍      | 34/100 [00:09<00:25,  2.60it/s]"
     ]
    },
    {
     "name": "stdout",
     "output_type": "stream",
     "text": [
      "\n",
      "🔹 Predicted: いると言うことを使っていることが、ネシャンティーズを同じと言うことをする。\n",
      "🔸 Reference: 見るということと作るということとが矛盾的自己同一的である。\n"
     ]
    },
    {
     "name": "stderr",
     "output_type": "stream",
     "text": [
      "\r",
      " 35%|███▌      | 35/100 [00:09<00:25,  2.59it/s]"
     ]
    },
    {
     "name": "stdout",
     "output_type": "stream",
     "text": [
      "\n",
      "🔹 Predicted: だと実は、全体の人の仕事を打ちなすいがんばると言うことである。\n",
      "🔸 Reference: 多と一との絶対矛盾の自己同一の世界であるということである。\n"
     ]
    },
    {
     "name": "stderr",
     "output_type": "stream",
     "text": [
      "\r",
      " 36%|███▌      | 36/100 [00:09<00:21,  2.94it/s]"
     ]
    },
    {
     "name": "stdout",
     "output_type": "stream",
     "text": [
      "\n",
      "🔹 Predicted: おきやすい固いそれに閉めちゃうと\n",
      "🔸 Reference: 大きい安いかたい、それで十分じゃないか\n"
     ]
    },
    {
     "name": "stderr",
     "output_type": "stream",
     "text": [
      " 38%|███▊      | 38/100 [00:10<00:16,  3.71it/s]"
     ]
    },
    {
     "name": "stdout",
     "output_type": "stream",
     "text": [
      "\n",
      "🔹 Predicted: 大人本とサビサルテロから誰も利用する\n",
      "🔸 Reference: 来店ポイントサービスあるけど、誰も利用してない\n",
      "\n",
      "🔹 Predicted: きみにしては、かっこもん\n",
      "🔸 Reference: 記念にスクショ撮っとこ\n"
     ]
    },
    {
     "name": "stderr",
     "output_type": "stream",
     "text": [
      " 40%|████      | 40/100 [00:11<00:17,  3.36it/s]"
     ]
    },
    {
     "name": "stdout",
     "output_type": "stream",
     "text": [
      "\n",
      "🔹 Predicted:  이世界に同じようなことが、壁にもらえない理想が絶対に閃ていちごとにしていったいしちいられる。\n",
      "🔸 Reference: 原始社会においての如く、我々はいつも絶対矛盾的自己同一に対しているのである。\n",
      "\n",
      "🔹 Predicted: とりあえず、大きい人がいった\n",
      "🔸 Reference: 隣にいた友人が言った。\n"
     ]
    },
    {
     "name": "stderr",
     "output_type": "stream",
     "text": [
      "\r",
      " 41%|████      | 41/100 [00:11<00:19,  3.03it/s]"
     ]
    },
    {
     "name": "stdout",
     "output_type": "stream",
     "text": [
      "\n",
      "🔹 Predicted: しかし、世界は、あるわけを、とめてともに、我々を、大好みを出ていまならない。\n",
      "🔸 Reference: しかして世界は我々を生むと共に我々を殺すものでなければならない。\n"
     ]
    },
    {
     "name": "stderr",
     "output_type": "stream",
     "text": [
      "\r",
      " 42%|████▏     | 42/100 [00:11<00:20,  2.90it/s]"
     ]
    },
    {
     "name": "stdout",
     "output_type": "stream",
     "text": [
      "\n",
      "🔹 Predicted: おだしの果たしと言うも、せいせいものの果たしと言うこときもないのである。\n",
      "🔸 Reference: 私の形というのは、静止する物の形という如きものをいうのでなく、\n"
     ]
    },
    {
     "name": "stderr",
     "output_type": "stream",
     "text": [
      "\r",
      " 43%|████▎     | 43/100 [00:12<00:17,  3.30it/s]"
     ]
    },
    {
     "name": "stdout",
     "output_type": "stream",
     "text": [
      "\n",
      "🔹 Predicted: 彼の手には一応、テンジに。\n",
      "🔸 Reference: 彼の手には、一丁の拳銃。\n"
     ]
    },
    {
     "name": "stderr",
     "output_type": "stream",
     "text": [
      "\r",
      " 44%|████▍     | 44/100 [00:12<00:15,  3.66it/s]"
     ]
    },
    {
     "name": "stdout",
     "output_type": "stream",
     "text": [
      "\n",
      "🔹 Predicted: ういかとおかたがきりいみはない\n",
      "🔸 Reference: 言い方を変えただけで意味はない\n"
     ]
    },
    {
     "name": "stderr",
     "output_type": "stream",
     "text": [
      " 46%|████▌     | 46/100 [00:12<00:13,  3.95it/s]"
     ]
    },
    {
     "name": "stdout",
     "output_type": "stream",
     "text": [
      "\n",
      "🔹 Predicted: おそらく新品な顔で、キロポーションをするときのような教証で、\n",
      "🔸 Reference: おそらく真剣な顔で。プロポーズをするときのような表情で。\n",
      "\n",
      "🔹 Predicted: やっぱりおかれますよ\n",
      "🔸 Reference: やっぱりわかりません\n"
     ]
    },
    {
     "name": "stderr",
     "output_type": "stream",
     "text": [
      "\r",
      " 47%|████▋     | 47/100 [00:13<00:13,  3.95it/s]"
     ]
    },
    {
     "name": "stdout",
     "output_type": "stream",
     "text": [
      "\n",
      "🔹 Predicted:  지그우고를 그 목표껏 두つ 겪 out by her.\n",
      "🔸 Reference: チーズをこれでもかと使ったピザ\n"
     ]
    },
    {
     "name": "stderr",
     "output_type": "stream",
     "text": [
      "\r",
      " 48%|████▊     | 48/100 [00:17<01:20,  1.55s/it]"
     ]
    },
    {
     "name": "stdout",
     "output_type": "stream",
     "text": [
      "\n",
      "🔹 Predicted: Wonniei'i'i'n tabi'i'i'i'te, gokou'i'i'i tobou'i'i'i'i'i'i'i'i'i'i'i'i'i'i'i'i'i'i'i'i'i'i'i'i'i'i'i'i'i'i'i'i'i'i'i'i'i'i'i'i'i'i'i'i'i'i'i'i'i'i'i'i'i'i'i'i'i'i'i'i'i'i'i'i'i'i'i'i'i'i'i'i'i'i'i'i'i'i'i'i'i'i'i'i'i'i'i'i'i'i'i'i'i'i'i'i'i'i'i'i'i'i'i'i'i'i'i'i'i'i'i'i'i'i'i'i'i'i'i'i'i'i'i'i'i'i'i'i'i'i'i'i'i'i'i'i'i'i'i'i'i'i'i'i'i'i'i'i'i'i'i'i'i'i'i'i'i'i'i'i'i'i'i'i'i'i'i'i'i'i'i'i'i'i'i'i'i'i'i'i'i'i'i'i'i'i'i'i'i'i'i'i'i'i'i'i'i'i'i'i'i'i'i'i'i'\n",
      "🔸 Reference: おにぎりを食べ終えると、僕は冷凍庫からアイスを取り出した。\n"
     ]
    },
    {
     "name": "stderr",
     "output_type": "stream",
     "text": [
      "\r",
      " 49%|████▉     | 49/100 [00:17<00:59,  1.17s/it]"
     ]
    },
    {
     "name": "stdout",
     "output_type": "stream",
     "text": [
      "\n",
      "🔹 Predicted: きいボードを経たくことがほとんどきこいないすみでもない\n",
      "🔸 Reference: キーボードを叩く音がほとんど聞こえない優れもの\n"
     ]
    },
    {
     "name": "stderr",
     "output_type": "stream",
     "text": [
      " 51%|█████     | 51/100 [00:18<00:35,  1.38it/s]"
     ]
    },
    {
     "name": "stdout",
     "output_type": "stream",
     "text": [
      "\n",
      "🔹 Predicted: 我らはの自己に対して、何時とような人が、しからされば、しか、ともの意味がきっとなかった。\n",
      "🔸 Reference: 我々の自己に対して、汝これを為すか然らざれば死かと問うものでなければならない。\n",
      "\n",
      "🔹 Predicted:  Nelakke elkeabemlatsi.\n",
      "🔸 Reference: 奈良県平群町\n"
     ]
    },
    {
     "name": "stderr",
     "output_type": "stream",
     "text": [
      " 53%|█████▎    | 53/100 [00:19<00:25,  1.81it/s]"
     ]
    },
    {
     "name": "stdout",
     "output_type": "stream",
     "text": [
      "\n",
      "🔹 Predicted: アドライラが拾うのが、複雫で見つけたらしく見ることを教え、なりまるわけで、りっくりして、にねえですし、それをプロセベトクロリーズとして、\n",
      "🔸 Reference: 我々が日々に接触する現実を正しく見ることを教え得ないならば、いかに深遠に見える哲学もすべて空語に等しい。\n",
      "\n",
      "🔹 Predicted: くっそらけいだのと\n",
      "🔸 Reference: 徳島県板野町\n"
     ]
    },
    {
     "name": "stderr",
     "output_type": "stream",
     "text": [
      "\r",
      " 54%|█████▍    | 54/100 [00:19<00:24,  1.91it/s]"
     ]
    },
    {
     "name": "stdout",
     "output_type": "stream",
     "text": [
      "\n",
      "🔹 Predicted: その間にあったんにしたり、手褪を腹骨をこっつけたりつぎ上のものがなければならない。\n",
      "🔸 Reference: その間には単に主体的立場から考えられる相互否定的対立以上のものがなければならない。\n"
     ]
    },
    {
     "name": "stderr",
     "output_type": "stream",
     "text": [
      " 56%|█████▌    | 56/100 [00:20<00:16,  2.71it/s]"
     ]
    },
    {
     "name": "stdout",
     "output_type": "stream",
     "text": [
      "\n",
      "🔹 Predicted: これとは言えましたら、ビジュール、ビジュールの一生である。\n",
      "🔸 Reference: リトアニアの首都はヴィリニュスである\n",
      "\n",
      "🔹 Predicted:  Hora-chishiruna mitz.\n",
      "🔸 Reference: 浜松市南区\n"
     ]
    },
    {
     "name": "stderr",
     "output_type": "stream",
     "text": [
      " 58%|█████▊    | 58/100 [00:21<00:15,  2.65it/s]"
     ]
    },
    {
     "name": "stdout",
     "output_type": "stream",
     "text": [
      "\n",
      "🔹 Predicted: ともは、なりゃその状況が一つの人となり、それぞれの人と同じと同じと、実際について、おうかみと呼び出ていると、なりゃついちゃって、\n",
      "🔸 Reference: 他方我々はその土地を耕し、その植物を栽培し、動物を飼育し、あるいは河に堤防を築き、山にトンネルを通ずる。\n",
      "\n",
      "🔹 Predicted:  くっ、それから、うまくし\n",
      "🔸 Reference: 佐賀県多久市\n"
     ]
    },
    {
     "name": "stderr",
     "output_type": "stream",
     "text": [
      "\r",
      " 59%|█████▉    | 59/100 [00:21<00:15,  2.56it/s]"
     ]
    },
    {
     "name": "stdout",
     "output_type": "stream",
     "text": [
      "\n",
      "🔹 Predicted:  지식이 옳터선룸은 노란히 센터에 두 번 번의 신체 기능을 방태웨울 듯.\n",
      "🔸 Reference: 知識は一つの理念のもとに、全体と部分の必然的な関係において、\n"
     ]
    },
    {
     "name": "stderr",
     "output_type": "stream",
     "text": [
      "\r",
      " 60%|██████    | 60/100 [00:22<00:16,  2.45it/s]"
     ]
    },
    {
     "name": "stdout",
     "output_type": "stream",
     "text": [
      "\n",
      "🔹 Predicted:  Põttan supar, ki seudud etkinaravajat jõib kõi hara saad üppamus tõrbab.\n",
      "🔸 Reference: 脱炭素化は急ぐべきだが、じっくり話し合う時間も必要だ\n"
     ]
    },
    {
     "name": "stderr",
     "output_type": "stream",
     "text": [
      "\r",
      " 61%|██████    | 61/100 [00:22<00:16,  2.36it/s]"
     ]
    },
    {
     "name": "stdout",
     "output_type": "stream",
     "text": [
      "\n",
      "🔹 Predicted: ドラウンによく、プチンのカロンにチリンを乗せますよ。フリースを取り通ったら、\n",
      "🔸 Reference: 多が一の多、一が多の一、動即静、静即動として、\n"
     ]
    },
    {
     "name": "stderr",
     "output_type": "stream",
     "text": [
      "\r",
      " 62%|██████▏   | 62/100 [00:22<00:14,  2.66it/s]"
     ]
    },
    {
     "name": "stdout",
     "output_type": "stream",
     "text": [
      "\n",
      "🔹 Predicted: うらいにおり、ハスがお出しなければならない。\n",
      "🔸 Reference: 辛い料理で汗を出しまくる\n"
     ]
    },
    {
     "name": "stderr",
     "output_type": "stream",
     "text": [
      "\r",
      " 63%|██████▎   | 63/100 [00:23<00:13,  2.80it/s]"
     ]
    },
    {
     "name": "stdout",
     "output_type": "stream",
     "text": [
      "\n",
      "🔹 Predicted: たまのまとりから、そっとろに生きていたようなともありました。\n",
      "🔸 Reference: 川のほとりからコソ泥にはいられたようなこともありました\n"
     ]
    },
    {
     "name": "stderr",
     "output_type": "stream",
     "text": [
      "\r",
      " 64%|██████▍   | 64/100 [00:23<00:12,  2.77it/s]"
     ]
    },
    {
     "name": "stdout",
     "output_type": "stream",
     "text": [
      "\n",
      "🔹 Predicted: 久しぶりだちそのもののおうしさがきちづく的の味方を用意している。\n",
      "🔸 Reference: しかも価値そのものの本質が哲学的な見方を要求しており、\n"
     ]
    },
    {
     "name": "stderr",
     "output_type": "stream",
     "text": [
      "\r",
      " 65%|██████▌   | 65/100 [00:23<00:13,  2.66it/s]"
     ]
    },
    {
     "name": "stdout",
     "output_type": "stream",
     "text": [
      "\n",
      "🔹 Predicted: ともっていた人は、意図を持っていると、どこそりと音がして、見たら平等だった。\n",
      "🔸 Reference: 到底助からないと思っていると、どさりと音がして眼から火が出た\n"
     ]
    },
    {
     "name": "stderr",
     "output_type": "stream",
     "text": [
      "\r",
      " 66%|██████▌   | 66/100 [00:24<00:11,  3.07it/s]"
     ]
    },
    {
     "name": "stdout",
     "output_type": "stream",
     "text": [
      "\n",
      "🔹 Predicted: うるんしもいて、優しい人がいます。\n",
      "🔸 Reference: 広島県東広島市\n"
     ]
    },
    {
     "name": "stderr",
     "output_type": "stream",
     "text": [
      "\r",
      " 67%|██████▋   | 67/100 [00:24<00:10,  3.22it/s]"
     ]
    },
    {
     "name": "stdout",
     "output_type": "stream",
     "text": [
      "\n",
      "🔹 Predicted:  Või on hiep sõppuhtal hüestik igel.\n",
      "🔸 Reference: おいおい、ちょっとは加減してくれよ\n"
     ]
    },
    {
     "name": "stderr",
     "output_type": "stream",
     "text": [
      "\r",
      " 68%|██████▊   | 68/100 [00:24<00:12,  2.65it/s]"
     ]
    },
    {
     "name": "stdout",
     "output_type": "stream",
     "text": [
      "\n",
      "🔹 Predicted: 私たちが遊びまると思った経験によくしたら、私に居たときに生み込みにいた大人にどこくらわれた。\n",
      "🔸 Reference: 昔から遊び場に困ったときによく使う、親しみと退屈さにまみれた公園に僕らはいた\n"
     ]
    },
    {
     "name": "stderr",
     "output_type": "stream",
     "text": [
      "\r",
      " 69%|██████▉   | 69/100 [00:25<00:11,  2.60it/s]"
     ]
    },
    {
     "name": "stdout",
     "output_type": "stream",
     "text": [
      "\n",
      "🔹 Predicted:  Hamea agari nimi shtamari sa kora kyo ni betamonanga kani kui haki gari chiita.\n",
      "🔸 Reference: 雨上がりに水溜りが乾くように、頭の中に空白ができていった\n"
     ]
    },
    {
     "name": "stderr",
     "output_type": "stream",
     "text": [
      " 71%|███████   | 71/100 [00:25<00:08,  3.58it/s]"
     ]
    },
    {
     "name": "stdout",
     "output_type": "stream",
     "text": [
      "\n",
      "🔹 Predicted: うかいあんのテーマに気にしようと\n",
      "🔸 Reference: 岡山県吉備中央町\n",
      "\n",
      "🔹 Predicted: ふうばしんがりと\n",
      "🔸 Reference: 福岡市南区\n"
     ]
    },
    {
     "name": "stderr",
     "output_type": "stream",
     "text": [
      " 73%|███████▎  | 73/100 [00:26<00:06,  4.35it/s]"
     ]
    },
    {
     "name": "stdout",
     "output_type": "stream",
     "text": [
      "\n",
      "🔹 Predicted: きりゅうける気がする\n",
      "🔸 Reference: 岐阜県池田町\n",
      "\n",
      "🔹 Predicted: Diwaraxtel isterziebo resti.\n",
      "🔸 Reference: 茨城県常陸大宮市\n"
     ]
    },
    {
     "name": "stderr",
     "output_type": "stream",
     "text": [
      "\r",
      " 74%|███████▍  | 74/100 [00:26<00:06,  3.90it/s]"
     ]
    },
    {
     "name": "stdout",
     "output_type": "stream",
     "text": [
      "\n",
      "🔹 Predicted: トクバは次第の理論を決めさせて、日々を逆の市場です。\n",
      "🔸 Reference: 徳川時代の日本の経済史に通じ、大阪の市史を編纂した人です\n"
     ]
    },
    {
     "name": "stderr",
     "output_type": "stream",
     "text": [
      "\r",
      " 75%|███████▌  | 75/100 [00:26<00:07,  3.52it/s]"
     ]
    },
    {
     "name": "stdout",
     "output_type": "stream",
     "text": [
      "\n",
      "🔹 Predicted:  ついこらばにあるのをとなし、ファイアップコミュースでいけた。\n",
      "🔸 Reference: 記憶の中にあるものとの違いを確認していく\n",
      "\n",
      "🔹 Predicted:  Nau seksi, hozame ciold.\n",
      "🔸 Reference: 長崎県波佐見町\n"
     ]
    },
    {
     "name": "stderr",
     "output_type": "stream",
     "text": [
      " 78%|███████▊  | 78/100 [00:27<00:04,  4.64it/s]"
     ]
    },
    {
     "name": "stdout",
     "output_type": "stream",
     "text": [
      "\n",
      "🔹 Predicted:  ühohala siit kõri kett.\n",
      "🔸 Reference: 横浜市鶴見区\n",
      "\n",
      "🔹 Predicted:  Nämä tõim ja saaltemme\n",
      "🔸 Reference: 奈良県山添村\n"
     ]
    },
    {
     "name": "stderr",
     "output_type": "stream",
     "text": [
      "\r",
      " 79%|███████▉  | 79/100 [00:27<00:04,  4.63it/s]"
     ]
    },
    {
     "name": "stdout",
     "output_type": "stream",
     "text": [
      "\n",
      "🔹 Predicted:  Hibolpateel, mõhubot asik.\n",
      "🔸 Reference: 福岡県大牟田市\n"
     ]
    },
    {
     "name": "stderr",
     "output_type": "stream",
     "text": [
      "\r",
      " 80%|████████  | 80/100 [00:27<00:04,  4.15it/s]"
     ]
    },
    {
     "name": "stdout",
     "output_type": "stream",
     "text": [
      "\n",
      "🔹 Predicted: Beebe-ta-pote-ta di koba-ra-oh-mi-dance.\n",
      "🔸 Reference: ビールとポテトで小腹を満たす\n"
     ]
    },
    {
     "name": "stderr",
     "output_type": "stream",
     "text": [
      "\r",
      " 81%|████████  | 81/100 [00:28<00:05,  3.36it/s]"
     ]
    },
    {
     "name": "stdout",
     "output_type": "stream",
     "text": [
      "\n",
      "🔹 Predicted: うち的事が得るような、同じようなべきに自己の愛しててもらう人が知らないといけない。\n",
      "🔸 Reference: 物質的世界というも、矛盾的自己同一的に自己自身を形成するものである。\n"
     ]
    },
    {
     "name": "stderr",
     "output_type": "stream",
     "text": [
      "\r",
      " 82%|████████▏ | 82/100 [00:28<00:06,  2.99it/s]"
     ]
    },
    {
     "name": "stdout",
     "output_type": "stream",
     "text": [
      "\n",
      "🔹 Predicted: 그とおり、こっかりとスピーズをうど、リンニューラーが得て、気をさまま。\n",
      "🔸 Reference: 手帳に書かれたスケジュール通りにやらないと気がすまない\n"
     ]
    },
    {
     "name": "stderr",
     "output_type": "stream",
     "text": [
      "\r",
      " 83%|████████▎ | 83/100 [00:28<00:05,  3.15it/s]"
     ]
    },
    {
     "name": "stdout",
     "output_type": "stream",
     "text": [
      "\n",
      "🔹 Predicted: 何でもジェクトセッティングにするならやめたほうがいい\n",
      "🔸 Reference: なんでも自己責任にするのはやめたほうがいい\n"
     ]
    },
    {
     "name": "stderr",
     "output_type": "stream",
     "text": [
      " 85%|████████▌ | 85/100 [00:29<00:04,  3.31it/s]"
     ]
    },
    {
     "name": "stdout",
     "output_type": "stream",
     "text": [
      "\n",
      "🔹 Predicted:  이 한옥 안에다가 삼켜심으로도 그 소리가落ちているのが、その寒い寒い環境を�々に出ている。\n",
      "🔸 Reference: 部屋の壁が三箇所ほど崩れ落ちているのが、その写真にハッキリ写っている\n",
      "\n",
      "🔹 Predicted: これってようなにボカがいるのに\n",
      "🔸 Reference: これってようはリボ払いだよね\n"
     ]
    },
    {
     "name": "stderr",
     "output_type": "stream",
     "text": [
      "\r",
      " 86%|████████▌ | 86/100 [00:29<00:04,  3.44it/s]"
     ]
    },
    {
     "name": "stdout",
     "output_type": "stream",
     "text": [
      "\n",
      "🔹 Predicted: うまくあるだけで、衣装を掘った人がいた。\n",
      "🔸 Reference: 防犯カメラの映像をよく見たら人がいた\n"
     ]
    },
    {
     "name": "stderr",
     "output_type": "stream",
     "text": [
      "\r",
      " 87%|████████▋ | 87/100 [00:30<00:03,  3.63it/s]"
     ]
    },
    {
     "name": "stdout",
     "output_type": "stream",
     "text": [
      "\n",
      "🔹 Predicted:  Nika'i no simbou-skei jott kuru.\n",
      "🔸 Reference: 二階の指導室へ寄ってくれ。\n"
     ]
    },
    {
     "name": "stderr",
     "output_type": "stream",
     "text": [
      "\r",
      " 88%|████████▊ | 88/100 [00:30<00:03,  3.70it/s]"
     ]
    },
    {
     "name": "stdout",
     "output_type": "stream",
     "text": [
      "\n",
      "🔹 Predicted: それをおさせて、良いように、いっそさくなったら、\n",
      "🔸 Reference: それ考察というより二次創作だから\n"
     ]
    },
    {
     "name": "stderr",
     "output_type": "stream",
     "text": [
      "\r",
      " 89%|████████▉ | 89/100 [00:30<00:03,  3.65it/s]"
     ]
    },
    {
     "name": "stdout",
     "output_type": "stream",
     "text": [
      "\n",
      "🔹 Predicted: つおうごまこいつくらいのまま、つらいつらいってくる。\n",
      "🔸 Reference: 凶暴な顔つきの犬がこちらへ近寄ってくる\n"
     ]
    },
    {
     "name": "stderr",
     "output_type": "stream",
     "text": [
      " 91%|█████████ | 91/100 [00:31<00:02,  3.90it/s]"
     ]
    },
    {
     "name": "stdout",
     "output_type": "stream",
     "text": [
      "\n",
      "🔹 Predicted: そこは、いましっかり口をかし、あるいもりかくじりったとなる。\n",
      "🔸 Reference: 社会が実体的自由として倫理的実体となり、\n",
      "\n",
      "🔹 Predicted: うおりせいの何もない\n",
      "🔸 Reference: 合理性もなにもない\n"
     ]
    },
    {
     "name": "stderr",
     "output_type": "stream",
     "text": [
      "\r",
      " 92%|█████████▏| 92/100 [00:31<00:02,  3.17it/s]"
     ]
    },
    {
     "name": "stdout",
     "output_type": "stream",
     "text": [
      "\n",
      "🔹 Predicted:  Ata eraan tamomorotani ispisisimomodanake, betata eikai sikai kaiseranen momo tamomai.\n",
      "🔸 Reference: 与えられたものは単に否定すべきものでもなく、また媒介し媒介せられるものでもない。\n"
     ]
    },
    {
     "name": "stderr",
     "output_type": "stream",
     "text": [
      " 94%|█████████▍| 94/100 [00:32<00:01,  3.17it/s]"
     ]
    },
    {
     "name": "stdout",
     "output_type": "stream",
     "text": [
      "\n",
      "🔹 Predicted:  Tää on sütik näk on ja somos aga jäisindal kohantini oleke, et särloom ole karanajala suhtsavjärg.\n",
      "🔸 Reference: 常識的な行為はその社会の全体との関係において不都合の起こらないのが普通である。\n",
      "\n",
      "🔹 Predicted:  Homo kani ste prachten kai.\n",
      "🔸 Reference: 顔真っ赤にして声からして訴える\n"
     ]
    },
    {
     "name": "stderr",
     "output_type": "stream",
     "text": [
      " 96%|█████████▌| 96/100 [00:33<00:01,  2.78it/s]"
     ]
    },
    {
     "name": "stdout",
     "output_type": "stream",
     "text": [
      "\n",
      "🔹 Predicted:  Saka sana wasaka en eskraite kaka eikamana kani omu kutetet na poinu kodaro nai. Saka eik sotsou ni nzai prostei sikou kai sate gikapio kodaro.\n",
      "🔸 Reference: しかしそれは、世界が機械的だということでもなく、単に合目的的だということでもない、世界が一つの現在として自己形成的だということである。\n",
      "\n",
      "🔹 Predicted: さらけに、ゴールとなって、\n",
      "🔸 Reference: 佐賀県江北町\n"
     ]
    },
    {
     "name": "stderr",
     "output_type": "stream",
     "text": [
      "\r",
      " 97%|█████████▋| 97/100 [00:33<00:01,  2.97it/s]"
     ]
    },
    {
     "name": "stdout",
     "output_type": "stream",
     "text": [
      "\n",
      "🔹 Predicted: けらく、顔を一つの道を出して、無想像でいる。\n",
      "🔸 Reference: キャラクターをひたすらに強化して無双する。\n"
     ]
    },
    {
     "name": "stderr",
     "output_type": "stream",
     "text": [
      " 99%|█████████▉| 99/100 [00:34<00:00,  2.94it/s]"
     ]
    },
    {
     "name": "stdout",
     "output_type": "stream",
     "text": [
      "\n",
      "🔹 Predicted: つかたがないんだろうなものにいるからそこに進まれたこのまで、りこっときっしりをして、そこに揃うと、一応左にもあるようなこと。\n",
      "🔸 Reference: 仕方がない、何でもよいから食物のある所まであるこうと決心をしてそろりそろりと池を左に廻り始めた\n",
      "\n",
      "🔹 Predicted: うかいはブリシングをかく\n",
      "🔸 Reference: 岡山市中区\n"
     ]
    },
    {
     "name": "stderr",
     "output_type": "stream",
     "text": [
      "100%|██████████| 100/100 [00:34<00:00,  2.91it/s]\n"
     ]
    },
    {
     "name": "stdout",
     "output_type": "stream",
     "text": [
      "\n",
      "🔹 Predicted: しばがきれいになっちゃう\n",
      "🔸 Reference: 島根県飯南町\n",
      "\n",
      "✅ JA WER: 2.5000\n",
      "\n",
      "🌍 Language: de\n"
     ]
    },
    {
     "name": "stderr",
     "output_type": "stream",
     "text": [
      "  2%|▏         | 2/100 [00:00<00:31,  3.14it/s]"
     ]
    },
    {
     "name": "stdout",
     "output_type": "stream",
     "text": [
      "\n",
      "🔹 Predicted:  Dane drog erseppleitig ziehe des trins verfeerd.\n",
      "🔸 Reference: Damit war das erklärte Ziel des Teams verfehlt.\n",
      "\n",
      "🔹 Predicted:  Muzi isht trite der kleinen Motivio.\n",
      "🔸 Reference: Sie ist Teil der Kleinen Antillen.\n"
     ]
    },
    {
     "name": "stderr",
     "output_type": "stream",
     "text": [
      "\r",
      "  3%|▎         | 3/100 [00:01<00:34,  2.79it/s]"
     ]
    },
    {
     "name": "stdout",
     "output_type": "stream",
     "text": [
      "\n",
      "🔹 Predicted:  Eskontaktem, als er zweide, zu mannschaften und holen wir, als er schafften im krediteren Teil.\n",
      "🔸 Reference: Erstmals nahmen zwei deutsche Mannschaften an Turn-Weltmeisterschaften im Gerätturnen teil.\n"
     ]
    },
    {
     "name": "stderr",
     "output_type": "stream",
     "text": [
      "\r",
      "  4%|▍         | 4/100 [00:01<00:32,  2.93it/s]"
     ]
    },
    {
     "name": "stdout",
     "output_type": "stream",
     "text": [
      "\n",
      "🔹 Predicted:  Ond jehendelig spechtichter problechdorfust der Hines Kibbutz.\n",
      "🔸 Reference: Grundlegend entspricht die Struktur des Dorfes der eines Kibbuz.\n"
     ]
    },
    {
     "name": "stderr",
     "output_type": "stream",
     "text": [
      "\r",
      "  5%|▌         | 5/100 [00:01<00:37,  2.54it/s]"
     ]
    },
    {
     "name": "stdout",
     "output_type": "stream",
     "text": [
      "\n",
      "🔹 Predicted: Die Patrouble zieht der Probe, der bei den Trübeln der Gelsichtsitzung schraft und derben Zerepräumungsbeschraft.\n",
      "🔸 Reference: Die Patrologie gebraucht dabei die Methoden der Geschichtswissenschaft und der Literaturwissenschaft.\n"
     ]
    },
    {
     "name": "stderr",
     "output_type": "stream",
     "text": [
      "\r",
      "  6%|▌         | 6/100 [00:02<00:36,  2.60it/s]"
     ]
    },
    {
     "name": "stdout",
     "output_type": "stream",
     "text": [
      "\n",
      "🔹 Predicted:  Der Ansatz von Middelsstraß hat mit Ome Schäu und zuecht nur mit Liga und die Zürich.\n",
      "🔸 Reference: Der Ansatz von Mittelstraß hat methodische und zugleich normative Ambitionen.\n"
     ]
    },
    {
     "name": "stderr",
     "output_type": "stream",
     "text": [
      "\r",
      "  7%|▋         | 7/100 [00:02<00:33,  2.78it/s]"
     ]
    },
    {
     "name": "stdout",
     "output_type": "stream",
     "text": [
      "\n",
      "🔹 Predicted:  Daide sind bekanke Saisoni und prüfen sie als Karper, wo sie unbelebt.\n",
      "🔸 Reference: Beide sind bekannte Stars Hollywoods, allerdings nur als Paar beim Publikum beliebt.\n"
     ]
    },
    {
     "name": "stderr",
     "output_type": "stream",
     "text": [
      "\r",
      "  8%|▊         | 8/100 [00:02<00:33,  2.73it/s]"
     ]
    },
    {
     "name": "stdout",
     "output_type": "stream",
     "text": [
      "\n",
      "🔹 Predicted:  Zis ja plõnõ modern ball zekreegd iser sauner, kõige sufõhre handen.\n",
      "🔸 Reference: Zwischen April und November verkehrt dieser Sonderzug jedes Wochenende.\n"
     ]
    },
    {
     "name": "stderr",
     "output_type": "stream",
     "text": [
      "\r",
      "  9%|▉         | 9/100 [00:03<00:31,  2.87it/s]"
     ]
    },
    {
     "name": "stdout",
     "output_type": "stream",
     "text": [
      "\n",
      "🔹 Predicted:  Zitien der Wäge hinausbetzentrum hat zahls prädelt unnaraufsicht.\n",
      "🔸 Reference: Sie dienen darüber hinaus als Informationsquelle der Kommunalaufsicht.\n"
     ]
    },
    {
     "name": "stderr",
     "output_type": "stream",
     "text": [
      "\r",
      " 10%|█         | 10/100 [00:03<00:29,  3.10it/s]"
     ]
    },
    {
     "name": "stdout",
     "output_type": "stream",
     "text": [
      "\n",
      "🔹 Predicted:  Vajterilu celtroen norabia elikapenit.\n",
      "🔸 Reference: Weiterhin zählt zur Anlage eine Kapelle.\n"
     ]
    },
    {
     "name": "stderr",
     "output_type": "stream",
     "text": [
      "\r",
      " 11%|█         | 11/100 [00:03<00:28,  3.09it/s]"
     ]
    },
    {
     "name": "stdout",
     "output_type": "stream",
     "text": [
      "\n",
      "🔹 Predicted:  Ono auf dem Fahrrad der fließig provierte Symptomistienke Nete erhört.\n",
      "🔸 Reference: Um auf dem Fahrrad der schnellste Kurier des Unternehmens zu werden, trainierte er hart.\n"
     ]
    },
    {
     "name": "stderr",
     "output_type": "stream",
     "text": [
      "\r",
      " 12%|█▏        | 12/100 [00:04<00:28,  3.10it/s]"
     ]
    },
    {
     "name": "stdout",
     "output_type": "stream",
     "text": [
      "\n",
      "🔹 Predicted:  Manes spørgelser er en eller et tufft her inkanzyn omgirke her.\n",
      "🔸 Reference: Um eine Sprache eindeutig zu gestalten, kann sie normiert werden.\n"
     ]
    },
    {
     "name": "stderr",
     "output_type": "stream",
     "text": [
      "\r",
      " 13%|█▎        | 13/100 [00:04<00:27,  3.20it/s]"
     ]
    },
    {
     "name": "stdout",
     "output_type": "stream",
     "text": [
      "\n",
      "🔹 Predicted:  In der Umgebung befinden sich die verhaltete Quellen für Berder und Schilder.\n",
      "🔸 Reference: In der Umgebung befinden sich schwefelhaltige Quellen für Bäder und zum Trinken.\n"
     ]
    },
    {
     "name": "stderr",
     "output_type": "stream",
     "text": [
      "\r",
      " 14%|█▍        | 14/100 [00:04<00:24,  3.57it/s]"
     ]
    },
    {
     "name": "stdout",
     "output_type": "stream",
     "text": [
      "\n",
      "🔹 Predicted: Das Tag Teamwurden vorgelesen aufgelöst.\n",
      "🔸 Reference: Das Tag Team wurde in Folge dessen aufgelöst.\n"
     ]
    },
    {
     "name": "stderr",
     "output_type": "stream",
     "text": [
      "\r",
      " 15%|█▌        | 15/100 [00:04<00:22,  3.75it/s]"
     ]
    },
    {
     "name": "stdout",
     "output_type": "stream",
     "text": [
      "\n",
      "🔹 Predicted:  Einen Hütten nunale kappesaukenden hovenscht.\n",
      "🔸 Reference: Ähnliche Tribunale gab es auch in den Provinzen.\n"
     ]
    },
    {
     "name": "stderr",
     "output_type": "stream",
     "text": [
      "\r",
      " 16%|█▌        | 16/100 [00:05<00:27,  3.07it/s]"
     ]
    },
    {
     "name": "stdout",
     "output_type": "stream",
     "text": [
      "\n",
      "🔹 Predicted:  Nishau onaute, waren in der ehebete Tragene, er becochtest sich und gestorbenen Verkauber der Anzei.\n",
      "🔸 Reference: Die Schauerleute waren in der Regel Tagelöhner, die kurzfristig angestellt wurden, wenn Arbeit anfiel.\n"
     ]
    },
    {
     "name": "stderr",
     "output_type": "stream",
     "text": [
      "\r",
      " 17%|█▋        | 17/100 [00:05<00:26,  3.12it/s]"
     ]
    },
    {
     "name": "stdout",
     "output_type": "stream",
     "text": [
      "\n",
      "🔹 Predicted:  Anit optenischem in gelhen feien kantiatusörmisch mule kambaget.\n",
      "🔸 Reference: Eine Abgrenzung in solchen Fällen kann sich als besonders schwierig herausstellen.\n"
     ]
    },
    {
     "name": "stderr",
     "output_type": "stream",
     "text": [
      "\r",
      " 18%|█▊        | 18/100 [00:06<00:29,  2.80it/s]"
     ]
    },
    {
     "name": "stdout",
     "output_type": "stream",
     "text": [
      "\n",
      "🔹 Predicted: Selikki klimomit erbeslik van dolmaksi uzei unkeolk toben ochves dolmaksi litsaar.\n",
      "🔸 Reference: Sie liegt vier Kilometer westlich von Domažlice und gehört dem Okres Domažlice an.\n"
     ]
    },
    {
     "name": "stderr",
     "output_type": "stream",
     "text": [
      "\r",
      " 19%|█▉        | 19/100 [00:06<00:28,  2.87it/s]"
     ]
    },
    {
     "name": "stdout",
     "output_type": "stream",
     "text": [
      "\n",
      "🔹 Predicted:  Ziefst das Verkinderer hat zentrum der Lungenmann in der Horenskehagagard.\n",
      "🔸 Reference: Sie ist das regionale Zentrum der Veluwe in der Provinz Gelderland.\n"
     ]
    },
    {
     "name": "stderr",
     "output_type": "stream",
     "text": [
      "\r",
      " 20%|██        | 20/100 [00:06<00:28,  2.76it/s]"
     ]
    },
    {
     "name": "stdout",
     "output_type": "stream",
     "text": [
      "\n",
      "🔹 Predicted: Dieser sanden inse bobby warrenzen, den imarer Skalenhielers, vier-Wolivekos.\n",
      "🔸 Reference: Dieser sandte ihn zu Bobby Robinson, dem Inhaber des kleinen Labels \"Fury Records\".\n"
     ]
    },
    {
     "name": "stderr",
     "output_type": "stream",
     "text": [
      "\r",
      " 21%|██        | 21/100 [00:07<00:30,  2.55it/s]"
     ]
    },
    {
     "name": "stdout",
     "output_type": "stream",
     "text": [
      "\n",
      "🔹 Predicted:  Insan'n beivtrik, wo der Stattennetz im vorbeintensiver Ombaren morz, beidestlich sterk, stark beschädig.\n",
      "🔸 Reference: Im Zweiten Weltkrieg wurde das Streckennetz, infolge intensiver Bombardements der Industriestadt, stark beschädigt.\n"
     ]
    },
    {
     "name": "stderr",
     "output_type": "stream",
     "text": [
      "\r",
      " 22%|██▏       | 22/100 [00:07<00:29,  2.63it/s]"
     ]
    },
    {
     "name": "stdout",
     "output_type": "stream",
     "text": [
      "\n",
      "🔹 Predicted:  Andarom beides in Gorinsen sind sie gleich alle Gorgeschliakten und Fuß das Sohn vertreten.\n",
      "🔸 Reference: Die anderen belgischen Provinzen sind durch allegorische Statuen am Fuße der Säulen vertreten.\n"
     ]
    },
    {
     "name": "stderr",
     "output_type": "stream",
     "text": [
      "\r",
      " 23%|██▎       | 23/100 [00:08<00:28,  2.68it/s]"
     ]
    },
    {
     "name": "stdout",
     "output_type": "stream",
     "text": [
      "\n",
      "🔹 Predicted:  Der Gagel ischemara tomossominate, Marendri San Maria, eschemst Kratare.\n",
      "🔸 Reference: Der italienische Maler Tommaso Minardi malte in dieser Manier ein Selbstporträt.\n"
     ]
    },
    {
     "name": "stderr",
     "output_type": "stream",
     "text": [
      "\r",
      " 24%|██▍       | 24/100 [00:08<00:24,  3.09it/s]"
     ]
    },
    {
     "name": "stdout",
     "output_type": "stream",
     "text": [
      "\n",
      "🔹 Predicted: Nie koniai forgen stunden kwa genannt.\n",
      "🔸 Reference: Nikolai vor dem Stubentor“ genannt.\n"
     ]
    },
    {
     "name": "stderr",
     "output_type": "stream",
     "text": [
      "\r",
      " 25%|██▌       | 25/100 [00:08<00:25,  2.90it/s]"
     ]
    },
    {
     "name": "stdout",
     "output_type": "stream",
     "text": [
      "\n",
      "🔹 Predicted:  Auffunsch seines Varspegildet warren ein Laufbares ofizier beim Bredigien-Litier.\n",
      "🔸 Reference: Auf Wunsch seines Vaters beginnt Edward eine Laufbahn als Offizier beim britischen Militär.\n"
     ]
    },
    {
     "name": "stderr",
     "output_type": "stream",
     "text": [
      "\r",
      " 26%|██▌       | 26/100 [00:08<00:25,  2.85it/s]"
     ]
    },
    {
     "name": "stdout",
     "output_type": "stream",
     "text": [
      "\n",
      "🔹 Predicted:  Daher ist Kandidatrenen beschloren liegt, wo er die Zetschendung und Lande die Energie hergesetzt werden.\n",
      "🔸 Reference: Dadurch kann die Verbrennung beschleunigt oder die zur Zündung notwendige Energie herabgesetzt werden.\n"
     ]
    },
    {
     "name": "stderr",
     "output_type": "stream",
     "text": [
      "\r",
      " 27%|██▋       | 27/100 [00:09<00:24,  3.03it/s]"
     ]
    },
    {
     "name": "stdout",
     "output_type": "stream",
     "text": [
      "\n",
      "🔹 Predicted: Das Konzept für das Nr. C.A. stammt von Margarete Greine.\n",
      "🔸 Reference: Das Konzept für das Museum stammt von Margarethe Greiner.\n"
     ]
    },
    {
     "name": "stderr",
     "output_type": "stream",
     "text": [
      "\r",
      " 28%|██▊       | 28/100 [00:09<00:23,  3.02it/s]"
     ]
    },
    {
     "name": "stdout",
     "output_type": "stream",
     "text": [
      "\n",
      "🔹 Predicted: Dies zweit war verhubilchere Repenom, die scherzte Bufatioplatt.\n",
      "🔸 Reference: Dies zeigt, wer auf europäischer Ebene die Gesetzgebung verzögert.\n"
     ]
    },
    {
     "name": "stderr",
     "output_type": "stream",
     "text": [
      "\r",
      " 29%|██▉       | 29/100 [00:09<00:23,  3.00it/s]"
     ]
    },
    {
     "name": "stdout",
     "output_type": "stream",
     "text": [
      "\n",
      "🔹 Predicted:  Echt bezraven dus in Tram mit einem und als auch freizufreibend ist zu verfordern.\n",
      "🔸 Reference: Ich bezweifle, dass es irgendjemandem nützt, einen Ansatz auf Fall-zu-Fall-Basis zu verfolgen.\n"
     ]
    },
    {
     "name": "stderr",
     "output_type": "stream",
     "text": [
      "\r",
      " 30%|███       | 30/100 [00:10<00:22,  3.13it/s]"
     ]
    },
    {
     "name": "stdout",
     "output_type": "stream",
     "text": [
      "\n",
      "🔹 Predicted:  Gleiran demodolot, tri, un favorandepasitski no.\n",
      "🔸 Reference: Hier haben wir nur Bürokratie und verwirrende Gesetzgebung.\n"
     ]
    },
    {
     "name": "stderr",
     "output_type": "stream",
     "text": [
      "\r",
      " 31%|███       | 31/100 [00:10<00:24,  2.86it/s]"
     ]
    },
    {
     "name": "stdout",
     "output_type": "stream",
     "text": [
      "\n",
      "🔹 Predicted:  Es vaad, kõist, kast esit palmanen, den pohreab, mit sõsis befabalt kutu.\n",
      "🔸 Reference: Es freut mich, dass das Parlament den Vorschlag grundsätzlich befürwortet hat.\n"
     ]
    },
    {
     "name": "stderr",
     "output_type": "stream",
     "text": [
      " 33%|███▎      | 33/100 [00:11<00:20,  3.32it/s]"
     ]
    },
    {
     "name": "stdout",
     "output_type": "stream",
     "text": [
      "\n",
      "🔹 Predicted: なければなし、コンテナについては、あまり町にメッセージを掛けよう。\n",
      "🔸 Reference: Natürlich kann sie dazu beitragen, und man muss ihr die Mittel hierfür geben.\n",
      "\n",
      "🔹 Predicted: Das kann zu einfach unzutreffend.\n",
      "🔸 Reference: Das ist ganz einfach unzutreffend!\n"
     ]
    },
    {
     "name": "stderr",
     "output_type": "stream",
     "text": [
      "\r",
      " 34%|███▍      | 34/100 [00:11<00:19,  3.37it/s]"
     ]
    },
    {
     "name": "stdout",
     "output_type": "stream",
     "text": [
      "\n",
      "🔹 Predicted:  Orsorheim ist prachtig verruitslich für den Späller Umsatz zu uns.\n",
      "🔸 Reference: Außerdem sprach man sich für eine schnelle Umsetzung aus.\n"
     ]
    },
    {
     "name": "stderr",
     "output_type": "stream",
     "text": [
      "\r",
      " 35%|███▌      | 35/100 [00:11<00:17,  3.61it/s]"
     ]
    },
    {
     "name": "stdout",
     "output_type": "stream",
     "text": [
      "\n",
      "🔹 Predicted: です and to him, the nature of the most beautiful forest was also beautiful.\n",
      "🔸 Reference: Dies sind Themen, die wir natürlich den Russen gegenüber ansprechen.\n"
     ]
    },
    {
     "name": "stderr",
     "output_type": "stream",
     "text": [
      "\r",
      " 36%|███▌      | 36/100 [00:12<00:19,  3.23it/s]"
     ]
    },
    {
     "name": "stdout",
     "output_type": "stream",
     "text": [
      "\n",
      "🔹 Predicted:  Te netki starten verfilmen beilzt nitserig infos kross, niber ennarkantus noa.\n",
      "🔸 Reference: Die Mitgliedstaaten verfügen im Bereich des militärischen Schiffbaus über anerkanntes Know-how.\n"
     ]
    },
    {
     "name": "stderr",
     "output_type": "stream",
     "text": [
      "\r",
      " 37%|███▋      | 37/100 [00:12<00:20,  3.12it/s]"
     ]
    },
    {
     "name": "stdout",
     "output_type": "stream",
     "text": [
      "\n",
      "🔹 Predicted:  Kohenen lietena hutun bärna bärnstras mit finfinspilistaren.\n",
      "🔸 Reference: Plochingen liegt an der Württemberger Weinstraße mit vielen Sehenswürdigkeiten.\n"
     ]
    },
    {
     "name": "stderr",
     "output_type": "stream",
     "text": [
      "\r",
      " 38%|███▊      | 38/100 [00:12<00:22,  2.79it/s]"
     ]
    },
    {
     "name": "stdout",
     "output_type": "stream",
     "text": [
      "\n",
      "🔹 Predicted:  Kiivad kõiru teltäkaksilist, siis osfest äntelks väitagufäägväägvölde.\n",
      "🔸 Reference: Die Ratte erzählte der Katze, dass dieses Fest einen Tag später gefeiert würde.\n"
     ]
    },
    {
     "name": "stderr",
     "output_type": "stream",
     "text": [
      "\r",
      " 39%|███▉      | 39/100 [00:13<00:20,  3.05it/s]"
     ]
    },
    {
     "name": "stdout",
     "output_type": "stream",
     "text": [
      "\n",
      "🔹 Predicted:  Die Bibliessen sind in dieser Sinozalterkriegier und starb.\n",
      "🔸 Reference: Wie wir wissen, sinken diese Asylzahlen seit vielen Jahren stark.\n"
     ]
    },
    {
     "name": "stderr",
     "output_type": "stream",
     "text": [
      "\r",
      " 40%|████      | 40/100 [00:13<00:18,  3.17it/s]"
     ]
    },
    {
     "name": "stdout",
     "output_type": "stream",
     "text": [
      "\n",
      "🔹 Predicted: Dieschteftum mit solle handleitere fliegen vorstalt verreiter.\n",
      "🔸 Reference: Die Stiftung wird von einem dreiköpfigen Vorstand verwaltet.\n",
      "\n",
      "🔹 Predicted: It's your father allowed to pursue a wonderful reason for an hook.\n",
      "🔸 Reference: Ich hoffe, alle auf der Besuchergalerie sind beeindruckt!\n"
     ]
    },
    {
     "name": "stderr",
     "output_type": "stream",
     "text": [
      " 42%|████▏     | 42/100 [00:13<00:15,  3.68it/s]"
     ]
    },
    {
     "name": "stdout",
     "output_type": "stream",
     "text": [
      "\n",
      "🔹 Predicted:  Poa beli dartskin kana kassa shita mere usparen.\n",
      "🔸 Reference: Pauer erhielt als Kind eine klassische Klavierausbildung.\n"
     ]
    },
    {
     "name": "stderr",
     "output_type": "stream",
     "text": [
      "\r",
      " 43%|████▎     | 43/100 [00:14<00:16,  3.52it/s]"
     ]
    },
    {
     "name": "stdout",
     "output_type": "stream",
     "text": [
      "\n",
      "🔹 Predicted: Wir uffinden den Wort \"Zertend zum Lachstags-Dessen selbst in Elvenen\"\n",
      "🔸 Reference: Öhringen gehörte seitdem zum Jagstkreis, dessen Sitz in Ellwangen war.\n"
     ]
    },
    {
     "name": "stderr",
     "output_type": "stream",
     "text": [
      "\r",
      " 44%|████▍     | 44/100 [00:14<00:16,  3.32it/s]"
     ]
    },
    {
     "name": "stdout",
     "output_type": "stream",
     "text": [
      "\n",
      "🔹 Predicted:  Henni medeltanen gavilt kibaltontanistun busiktorokan enna desunen.\n",
      "🔸 Reference: Henry Middleton erhielt Privatunterricht und besuchte auch in England die Schule.\n"
     ]
    },
    {
     "name": "stderr",
     "output_type": "stream",
     "text": [
      "\r",
      " 45%|████▌     | 45/100 [00:14<00:16,  3.30it/s]"
     ]
    },
    {
     "name": "stdout",
     "output_type": "stream",
     "text": [
      "\n",
      "🔹 Predicted:  Das Urinsperre stetabem, saak das stiliseltel kohadebog.\n",
      "🔸 Reference: Das Gudensberger Stadtwappen zeigt das stilisierte Tor der Burg.\n"
     ]
    },
    {
     "name": "stderr",
     "output_type": "stream",
     "text": [
      "\r",
      " 46%|████▌     | 46/100 [00:15<00:17,  3.16it/s]"
     ]
    },
    {
     "name": "stdout",
     "output_type": "stream",
     "text": [
      "\n",
      "🔹 Predicted:  Sainteen vier besorpshootlen und im Interagation, holte vorgetrailt bequem.\n",
      "🔸 Reference: Seitdem wird es als Hotel und Eventlocation \"Alte Vogtei\" betrieben.\n"
     ]
    },
    {
     "name": "stderr",
     "output_type": "stream",
     "text": [
      "\r",
      " 47%|████▋     | 47/100 [00:15<00:16,  3.27it/s]"
     ]
    },
    {
     "name": "stdout",
     "output_type": "stream",
     "text": [
      "\n",
      "🔹 Predicted:  Das nicht ist nicht nur ein Mustintro, aber ein Dich in New Yorkership.\n",
      "🔸 Reference: Das wichtigste Verwaltungszentrum verbleibt in New York City.\n"
     ]
    },
    {
     "name": "stderr",
     "output_type": "stream",
     "text": [
      "\r",
      " 48%|████▊     | 48/100 [00:15<00:17,  2.96it/s]"
     ]
    },
    {
     "name": "stdout",
     "output_type": "stream",
     "text": [
      "\n",
      "🔹 Predicted:  Dei-finti-trips are right when distanced from Smith's foretold, and out there is the fear more privileged to bring.\n",
      "🔸 Reference: Die Öffentlichkeitsarbeit, unterstützt von Smiths Fotos, erlaubte es, die Firma vor Gericht zu bringen.\n"
     ]
    },
    {
     "name": "stderr",
     "output_type": "stream",
     "text": [
      "\r",
      " 49%|████▉     | 49/100 [00:16<00:15,  3.26it/s]"
     ]
    },
    {
     "name": "stdout",
     "output_type": "stream",
     "text": [
      "\n",
      "🔹 Predicted:  Die Bunker sind hohe Vier, die aufhin im Sonde.\n",
      "🔸 Reference: Die Untersuchung verlief daraufhin im Sande.\n"
     ]
    },
    {
     "name": "stderr",
     "output_type": "stream",
     "text": [
      "\r",
      " 50%|█████     | 50/100 [00:16<00:16,  3.07it/s]"
     ]
    },
    {
     "name": "stdout",
     "output_type": "stream",
     "text": [
      "\n",
      "🔹 Predicted:  Vim dien leisen schienen senain, fertzogot, die flimmfte Igbrae-Aksion.\n",
      "🔸 Reference: In diesen leisen Schluss hinein fährt sofort die fünfte Variation.\n"
     ]
    },
    {
     "name": "stderr",
     "output_type": "stream",
     "text": [
      "\r",
      " 51%|█████     | 51/100 [00:16<00:14,  3.33it/s]"
     ]
    },
    {
     "name": "stdout",
     "output_type": "stream",
     "text": [
      "\n",
      "🔹 Predicted: In beforenem Zeit entstande entzainte meitere.\n",
      "🔸 Reference: In der folgenden Zeit entstand ein zweiter Wohnturm.\n"
     ]
    },
    {
     "name": "stderr",
     "output_type": "stream",
     "text": [
      "\r",
      " 52%|█████▏    | 52/100 [00:17<00:16,  2.97it/s]"
     ]
    },
    {
     "name": "stdout",
     "output_type": "stream",
     "text": [
      "\n",
      "🔹 Predicted: Die Kreuzekennung der Stolztenkranit, Kaukstein oder Kommenenstein, hat die Stilitzein.\n",
      "🔸 Reference: Die Kreuze können aus Sandstein, Granit, Kalkstein oder anderen Steinarten hergestellt sein.\n"
     ]
    },
    {
     "name": "stderr",
     "output_type": "stream",
     "text": [
      "\r",
      " 53%|█████▎    | 53/100 [00:17<00:15,  3.06it/s]"
     ]
    },
    {
     "name": "stdout",
     "output_type": "stream",
     "text": [
      "\n",
      "🔹 Predicted:  Nishin of no mission from the most blessed Harp era d'Altaginche for foreign.\n",
      "🔸 Reference: Wie sein Nachname schon vermuten lässt, hat er auch deutsche Vorfahren.\n"
     ]
    },
    {
     "name": "stderr",
     "output_type": "stream",
     "text": [
      "\r",
      " 54%|█████▍    | 54/100 [00:17<00:15,  2.98it/s]"
     ]
    },
    {
     "name": "stdout",
     "output_type": "stream",
     "text": [
      "\n",
      "🔹 Predicted:  Tisfogelgairei nereboum, waipt er young and larts, bechouzen.\n",
      "🔸 Reference: Es wurde daher ein Neubau weiter landeinwärts beschlossen.\n"
     ]
    },
    {
     "name": "stderr",
     "output_type": "stream",
     "text": [
      "\r",
      " 55%|█████▌    | 55/100 [00:18<00:19,  2.36it/s]"
     ]
    },
    {
     "name": "stdout",
     "output_type": "stream",
     "text": [
      "\n",
      "🔹 Predicted:  Bärhtbe ändigrõgust 30-gel kriirit võigest sint kõib, mufri ja sõnud on võrm on 5-fultraavst on ova.\n",
      "🔸 Reference: Nach Beendigung des Dreißigjährigen Krieges sind im Hufenregister nur noch fünf Wirtschaften aufgeführt.\n"
     ]
    },
    {
     "name": "stderr",
     "output_type": "stream",
     "text": [
      " 57%|█████▋    | 57/100 [00:19<00:17,  2.45it/s]"
     ]
    },
    {
     "name": "stdout",
     "output_type": "stream",
     "text": [
      "\n",
      "🔹 Predicted: ですよばいと、スティックスについても、フィンディーツリッジである、アメリーボードに、リバッタードオークケーブルのアンスをまとんどい。\n",
      "🔸 Reference: Das Verwaltungs- und Geschäftszentrum befindet sich an der \"Avenida del Libertador General San Martín\".\n",
      "\n",
      "🔹 Predicted:  Eilverheimert beresztit in Genf.\n",
      "🔸 Reference: Er war heimatberechtigt in Genf.\n"
     ]
    },
    {
     "name": "stderr",
     "output_type": "stream",
     "text": [
      "\r",
      " 58%|█████▊    | 58/100 [00:19<00:16,  2.62it/s]"
     ]
    },
    {
     "name": "stdout",
     "output_type": "stream",
     "text": [
      "\n",
      "🔹 Predicted: ブラックススラムに出したアイディングをテンフィリッキング。\n",
      "🔸 Reference: Platz zusammen mit Australien und den Philippinen.\n"
     ]
    },
    {
     "name": "stderr",
     "output_type": "stream",
     "text": [
      "\r",
      " 59%|█████▉    | 59/100 [00:19<00:13,  2.97it/s]"
     ]
    },
    {
     "name": "stdout",
     "output_type": "stream",
     "text": [
      "\n",
      "🔹 Predicted:  Muntere zyndet zwischen Montag und Freitag statt.\n",
      "🔸 Reference: Unterricht findet zwischen Montag und Freitag statt.\n"
     ]
    },
    {
     "name": "stderr",
     "output_type": "stream",
     "text": [
      "\r",
      " 60%|██████    | 60/100 [00:20<00:14,  2.82it/s]"
     ]
    },
    {
     "name": "stdout",
     "output_type": "stream",
     "text": [
      "\n",
      "🔹 Predicted: お腹にきんどくいるしかも、ファミュールにつばれるられる、きなきゃいけない。\n",
      "🔸 Reference: Auch ein Kindergeld stand nur Familien mit zwei oder mehr Kindern zu.\n"
     ]
    },
    {
     "name": "stderr",
     "output_type": "stream",
     "text": [
      "\r",
      " 61%|██████    | 61/100 [00:20<00:13,  2.94it/s]"
     ]
    },
    {
     "name": "stdout",
     "output_type": "stream",
     "text": [
      "\n",
      "🔹 Predicted: Man, sangrexen, krinor, betannan mitan eurose kreier.\n",
      "🔸 Reference: Mann sang als nun Tenor und begann damit seine große Karriere.\n"
     ]
    },
    {
     "name": "stderr",
     "output_type": "stream",
     "text": [
      "\r",
      " 62%|██████▏   | 62/100 [00:20<00:12,  3.11it/s]"
     ]
    },
    {
     "name": "stdout",
     "output_type": "stream",
     "text": [
      "\n",
      "🔹 Predicted: Dien schafft vermachtel je uns am meiternchen und mitholt er.\n",
      "🔸 Reference: Die Herrschaft vermachte er seinem älteren Sohn Numitor.\n"
     ]
    },
    {
     "name": "stderr",
     "output_type": "stream",
     "text": [
      "\r",
      " 63%|██████▎   | 63/100 [00:21<00:11,  3.11it/s]"
     ]
    },
    {
     "name": "stdout",
     "output_type": "stream",
     "text": [
      "\n",
      "🔹 Predicted:  Esnus on aines den vieni vinderot bezoelt deniket difi hendel.\n",
      "🔸 Reference: Es ist eines der wenigen dort bezeugten ägyptischen Ämter.\n"
     ]
    },
    {
     "name": "stderr",
     "output_type": "stream",
     "text": [
      "\r",
      " 64%|██████▍   | 64/100 [00:21<00:11,  3.17it/s]"
     ]
    },
    {
     "name": "stdout",
     "output_type": "stream",
     "text": [
      "\n",
      "🔹 Predicted:  Die als stelle hat er nomen für die Richtigkei der Angaben keine Havkont.\n",
      "🔸 Reference: Die Ersteller übernehmen für die Richtigkeit der Angaben keine Haftung.\n"
     ]
    },
    {
     "name": "stderr",
     "output_type": "stream",
     "text": [
      "\r",
      " 65%|██████▌   | 65/100 [00:21<00:12,  2.86it/s]"
     ]
    },
    {
     "name": "stdout",
     "output_type": "stream",
     "text": [
      "\n",
      "🔹 Predicted:  Da zentzenen in jeden Fall's edestelte Bampu in den Flöksenburg-Nasau-Homper und sind er pur.\n",
      "🔸 Reference: Dazu zählen ebenfalls registrierte Banken in Genf, Luxemburg, Nassau, Hongkong und Singapur.\n"
     ]
    },
    {
     "name": "stderr",
     "output_type": "stream",
     "text": [
      "\r",
      " 66%|██████▌   | 66/100 [00:22<00:11,  3.04it/s]"
     ]
    },
    {
     "name": "stdout",
     "output_type": "stream",
     "text": [
      "\n",
      "🔹 Predicted:  In der Mathematik wurde er dabei von Equal-Drembeautik konfkt.\n",
      "🔸 Reference: In der Mathematik wurde er dabei von Edmund Landau geprüft.\n"
     ]
    },
    {
     "name": "stderr",
     "output_type": "stream",
     "text": [
      "\r",
      " 67%|██████▋   | 67/100 [00:22<00:11,  2.84it/s]"
     ]
    },
    {
     "name": "stdout",
     "output_type": "stream",
     "text": [
      "\n",
      "🔹 Predicted:  Zwei eraufständische Länder hatten die Degro-Bee erhaben noch nicht auf die Degen, als Konnan und Ying-Dang.\n",
      "🔸 Reference: Zwei aufständische Länder hatten die Gegenwehr aber noch nicht aufgegeben: Askalon und Juda.\n"
     ]
    },
    {
     "name": "stderr",
     "output_type": "stream",
     "text": [
      "\r",
      " 68%|██████▊   | 68/100 [00:22<00:10,  3.12it/s]"
     ]
    },
    {
     "name": "stdout",
     "output_type": "stream",
     "text": [
      "\n",
      "🔹 Predicted:  desig hat habe ich heute im Bericht, mal veromachtes gestimmt.\n",
      "🔸 Reference: Deshalb habe ich für den Bericht Mavrommattis gestimmt.\n"
     ]
    },
    {
     "name": "stderr",
     "output_type": "stream",
     "text": [
      "\r",
      " 69%|██████▉   | 69/100 [00:23<00:10,  2.97it/s]"
     ]
    },
    {
     "name": "stdout",
     "output_type": "stream",
     "text": [
      "\n",
      "🔹 Predicted: Sweifelos er dies erhaltitsverkehrfeltes erokäishikoskapitalte bintuin zain.\n",
      "🔸 Reference: Zweifellos wird dieser Handelsverkehr für das europäische Großkapital Gewinn bringend sein.\n"
     ]
    },
    {
     "name": "stderr",
     "output_type": "stream",
     "text": [
      "\r",
      " 70%|███████   | 70/100 [00:23<00:09,  3.01it/s]"
     ]
    },
    {
     "name": "stdout",
     "output_type": "stream",
     "text": [
      "\n",
      "🔹 Predicted:  Der Arzt kann beschwemt und fährt ein dessen Mitterbombabarkt blieb.\n",
      "🔸 Reference: Der Ortskern beschreibt ein Viereck, dessen Mitte unbebaut blieb.\n"
     ]
    },
    {
     "name": "stderr",
     "output_type": "stream",
     "text": [
      "\r",
      " 71%|███████   | 71/100 [00:23<00:08,  3.40it/s]"
     ]
    },
    {
     "name": "stdout",
     "output_type": "stream",
     "text": [
      "\n",
      "🔹 Predicted:  Stokki, kõige des niist maitam.\n",
      "🔸 Reference: Stop! Hier geht es nicht weiter.\n"
     ]
    },
    {
     "name": "stderr",
     "output_type": "stream",
     "text": [
      "\r",
      " 72%|███████▏  | 72/100 [00:23<00:07,  3.73it/s]"
     ]
    },
    {
     "name": "stdout",
     "output_type": "stream",
     "text": [
      "\n",
      "🔹 Predicted: やるいは、ペッチェックしている。\n",
      "🔸 Reference: Erich hat ein auffällig spitzes Kinn.\n"
     ]
    },
    {
     "name": "stderr",
     "output_type": "stream",
     "text": [
      "\r",
      " 73%|███████▎  | 73/100 [00:24<00:07,  3.62it/s]"
     ]
    },
    {
     "name": "stdout",
     "output_type": "stream",
     "text": [
      "\n",
      "🔹 Predicted:  Bestrammer wurde gynest zain, mens ist alle und die justigenen Hartenboden.\n",
      "🔸 Reference: Das Drama würde gar nicht sein, wenn sich alle an die Richtlinien halten würden.\n"
     ]
    },
    {
     "name": "stderr",
     "output_type": "stream",
     "text": [
      "\r",
      " 74%|███████▍  | 74/100 [00:24<00:07,  3.64it/s]"
     ]
    },
    {
     "name": "stdout",
     "output_type": "stream",
     "text": [
      "\n",
      "🔹 Predicted:  Saite beginnde verantj stoltan sind die beiden nur anen kaka.\n",
      "🔸 Reference: Seit Beginn der Veranstaltung sind die beiden nur am Gackern.\n"
     ]
    },
    {
     "name": "stderr",
     "output_type": "stream",
     "text": [
      "\r",
      " 75%|███████▌  | 75/100 [00:24<00:06,  3.70it/s]"
     ]
    },
    {
     "name": "stdout",
     "output_type": "stream",
     "text": [
      "\n",
      "🔹 Predicted: Bah, she said in her opinion on myself, that she could not be a child.\n",
      "🔸 Reference: Welche Seite nach innen und welche nach außen kommt, ist schnurzpiepegal.\n",
      "\n",
      "🔹 Predicted:  The Hontag is still a tough coach to film, direct.\n",
      "🔸 Reference: Der Hund hat es sich auf der Couch bequem gemacht.\n"
     ]
    },
    {
     "name": "stderr",
     "output_type": "stream",
     "text": [
      " 77%|███████▋  | 77/100 [00:25<00:05,  4.16it/s]"
     ]
    },
    {
     "name": "stdout",
     "output_type": "stream",
     "text": [
      "\n",
      "🔹 Predicted: Mit ketsunlich deses aber viel vorantisch her.\n",
      "🔸 Reference: Mit Kerzenlicht ist es aber viel romantischer.\n"
     ]
    },
    {
     "name": "stderr",
     "output_type": "stream",
     "text": [
      "\r",
      " 78%|███████▊  | 78/100 [00:25<00:05,  4.29it/s]"
     ]
    },
    {
     "name": "stdout",
     "output_type": "stream",
     "text": [
      "\n",
      "🔹 Predicted:  Jetzt wird das Wasser befürungszutrehen zu kalt.\n",
      "🔸 Reference: Jetzt wird das Wasser doch langsam zu kalt.\n"
     ]
    },
    {
     "name": "stderr",
     "output_type": "stream",
     "text": [
      " 80%|████████  | 80/100 [00:25<00:04,  4.36it/s]"
     ]
    },
    {
     "name": "stdout",
     "output_type": "stream",
     "text": [
      "\n",
      "🔹 Predicted:  Gdavst du noch in den Osterhassen oder da und in Weihnachtsmann?\n",
      "🔸 Reference: Glaubst du noch an den Osterhasen oder gar an den Weihnachtsmann?\n",
      "\n",
      "🔹 Predicted:  Givarte hallenest 509508 %,\n",
      "🔸 Reference: Die Wartehalle misst fünf mal fünf Meter.\n"
     ]
    },
    {
     "name": "stderr",
     "output_type": "stream",
     "text": [
      "\r",
      " 81%|████████  | 81/100 [00:26<00:04,  4.00it/s]"
     ]
    },
    {
     "name": "stdout",
     "output_type": "stream",
     "text": [
      "\n",
      "🔹 Predicted: Denna zielide sterkenske hommens kreiterweiten bilde.\n",
      "🔸 Reference: Der Nazi-Widerstandskämpfer Hans Quecke war ihr Bruder.\n"
     ]
    },
    {
     "name": "stderr",
     "output_type": "stream",
     "text": [
      "\r",
      " 82%|████████▏ | 82/100 [00:26<00:04,  3.81it/s]"
     ]
    },
    {
     "name": "stdout",
     "output_type": "stream",
     "text": [
      "\n",
      "🔹 Predicted:  Oos onberlet kieber kere ensit on derfamelef beteltet.\n",
      "🔸 Reference: Auch unbewegliche Bakterien sind in der Familie vertreten.\n"
     ]
    },
    {
     "name": "stderr",
     "output_type": "stream",
     "text": [
      "\r",
      " 83%|████████▎ | 83/100 [00:26<00:05,  3.08it/s]"
     ]
    },
    {
     "name": "stdout",
     "output_type": "stream",
     "text": [
      "\n",
      "🔹 Predicted:  Bist vaiterun, kõib eski besit, kõib eski, kab vihvõl kavf on kohavu on suolis.\n",
      "🔸 Reference: Des Weiteren gibt es südwestlich der Stadt den Flughafen Los Mochis.\n"
     ]
    },
    {
     "name": "stderr",
     "output_type": "stream",
     "text": [
      "\r",
      " 84%|████████▍ | 84/100 [00:27<00:05,  2.68it/s]"
     ]
    },
    {
     "name": "stdout",
     "output_type": "stream",
     "text": [
      "\n",
      "🔹 Predicted:  Kiis üru, mis mis tõrne fortak, eise durks taab sõemund ispalt ajab, kõib rõpada katt.\n",
      "🔸 Reference: Diese luden Smith zu einer Vortragsreise durch Deutschland und die Schweiz ein.\n"
     ]
    },
    {
     "name": "stderr",
     "output_type": "stream",
     "text": [
      "\r",
      " 85%|████████▌ | 85/100 [00:27<00:05,  2.87it/s]"
     ]
    },
    {
     "name": "stdout",
     "output_type": "stream",
     "text": [
      "\n",
      "🔹 Predicted:  Eski draas betal et onterhavpisimalti ongemaista.\n",
      "🔸 Reference: Es gibt drei spezielle Punkte, auf die ich eingehen möchte.\n"
     ]
    },
    {
     "name": "stderr",
     "output_type": "stream",
     "text": [
      "\r",
      " 86%|████████▌ | 86/100 [00:28<00:05,  2.51it/s]"
     ]
    },
    {
     "name": "stdout",
     "output_type": "stream",
     "text": [
      "\n",
      "🔹 Predicted:  Zud enverkelt on hautsale väljärgelt ja näeltsinbe, eht kõrtsaan destaanishtalishten.\n",
      "🔸 Reference: Zudem verkehren auch zahlreiche Regionalzüge auf kürzeren Distanzen.\n"
     ]
    },
    {
     "name": "stderr",
     "output_type": "stream",
     "text": [
      "\r",
      " 87%|████████▋ | 87/100 [00:28<00:04,  2.81it/s]"
     ]
    },
    {
     "name": "stdout",
     "output_type": "stream",
     "text": [
      "\n",
      "🔹 Predicted:  Nier stauzit in toilte inegybe womenen.\n",
      "🔸 Reference: Der Stausee dient heute der Energiegewinnung.\n"
     ]
    },
    {
     "name": "stderr",
     "output_type": "stream",
     "text": [
      "\r",
      " 88%|████████▊ | 88/100 [00:28<00:04,  2.63it/s]"
     ]
    },
    {
     "name": "stdout",
     "output_type": "stream",
     "text": [
      "\n",
      "🔹 Predicted:  Ordu? Ja amud elendien, dien slise oli, so oli tek te on johon, ja mohaisek, ka musterud.\n",
      "🔸 Reference: Wir haben gegen die Entschließung zur Politik der Union im Reissektor gestimmt.\n"
     ]
    },
    {
     "name": "stderr",
     "output_type": "stream",
     "text": [
      "\r",
      " 89%|████████▉ | 89/100 [00:29<00:03,  2.93it/s]"
     ]
    },
    {
     "name": "stdout",
     "output_type": "stream",
     "text": [
      "\n",
      "🔹 Predicted:  Beilin bien bar unkeldst betjem mischt klar.\n",
      "🔸 Reference: Wer gegen wen warum kämpft, wird ihm nicht klar.\n"
     ]
    },
    {
     "name": "stderr",
     "output_type": "stream",
     "text": [
      "\r",
      " 90%|█████████ | 90/100 [00:29<00:03,  2.69it/s]"
     ]
    },
    {
     "name": "stdout",
     "output_type": "stream",
     "text": [
      "\n",
      "🔹 Predicted:  Denhoch vante sich, kappeles, confine desensiöntem, krati, und der Armeisabodebombsen.\n",
      "🔸 Reference: Dennoch wandte sich Karpeles schon früh der Sozialdemokratie und der Arbeiterbewegung zu.\n"
     ]
    },
    {
     "name": "stderr",
     "output_type": "stream",
     "text": [
      "\r",
      " 91%|█████████ | 91/100 [00:29<00:03,  2.72it/s]"
     ]
    },
    {
     "name": "stdout",
     "output_type": "stream",
     "text": [
      "\n",
      "🔹 Predicted:  There's a bunch of ice in there, behorsen lesbians, that are under the water, fresh in the water.\n",
      "🔸 Reference: Das unzureichende Beherrschen des Lesens hat auch andere Schwächen zur Folge.\n"
     ]
    },
    {
     "name": "stderr",
     "output_type": "stream",
     "text": [
      "\r",
      " 92%|█████████▏| 92/100 [00:30<00:02,  2.84it/s]"
     ]
    },
    {
     "name": "stdout",
     "output_type": "stream",
     "text": [
      "\n",
      "🔹 Predicted:  Mijn referenten musenia afropeerche position se stima aylen leschen.\n",
      "🔸 Reference: Meines Erachtens müssen wir europäische Versicherungssysteme einrichten.\n"
     ]
    },
    {
     "name": "stderr",
     "output_type": "stream",
     "text": [
      "\r",
      " 93%|█████████▎| 93/100 [00:30<00:02,  2.75it/s]"
     ]
    },
    {
     "name": "stdout",
     "output_type": "stream",
     "text": [
      "\n",
      "🔹 Predicted:  Amfel dernen in den Donesaak in der Konferenz der Präsidenten, wäre ja der Lähnenheit dazu befehlt.\n",
      "🔸 Reference: Am vergangenen Donnerstag, in der Konferenz der Präsidenten, wäre ja Gelegenheit dazu gewesen.\n"
     ]
    },
    {
     "name": "stderr",
     "output_type": "stream",
     "text": [
      "\r",
      " 94%|█████████▍| 94/100 [00:31<00:02,  2.73it/s]"
     ]
    },
    {
     "name": "stdout",
     "output_type": "stream",
     "text": [
      "\n",
      "🔹 Predicted:  In der fældstumene desetroparejorde tager vi den lande slisse end en langsagrein.\n",
      "🔸 Reference: In der fünften Legislaturperiode zog sie über die Landesliste in den Landtag ein.\n"
     ]
    },
    {
     "name": "stderr",
     "output_type": "stream",
     "text": [
      "\r",
      " 95%|█████████▌| 95/100 [00:31<00:01,  2.72it/s]"
     ]
    },
    {
     "name": "stdout",
     "output_type": "stream",
     "text": [
      "\n",
      "🔹 Predicted:  Eidratfer tom aivan nomena, za tetsi nymasen fatigna anoa hifanini.\n",
      "🔸 Reference: Edward Fatu war ein Angehöriger der seit Jahrzehnten im Wrestling vertretenen Anoa’i-Familie.\n"
     ]
    },
    {
     "name": "stderr",
     "output_type": "stream",
     "text": [
      "\r",
      " 96%|█████████▌| 96/100 [00:31<00:01,  2.84it/s]"
     ]
    },
    {
     "name": "stdout",
     "output_type": "stream",
     "text": [
      "\n",
      "🔹 Predicted:  Dimination mit Mutter und Blätter im Literaktivität leben schlennig in der Verhör.\n",
      "🔸 Reference: Generation mit guter und breiter in-vitro-Aktivität gegen Schimmelpilze.\n"
     ]
    },
    {
     "name": "stderr",
     "output_type": "stream",
     "text": [
      "\r",
      " 97%|█████████▋| 97/100 [00:32<00:01,  2.99it/s]"
     ]
    },
    {
     "name": "stdout",
     "output_type": "stream",
     "text": [
      "\n",
      "🔹 Predicted:  Dies ist meiner Meinung nach von großer Bedeutung und Zeiter und der Stichenehren.\n",
      "🔸 Reference: Dies ist meiner Meinung nach von großer Bedeutung und sollte unterstrichen werden.\n"
     ]
    },
    {
     "name": "stderr",
     "output_type": "stream",
     "text": [
      "\r",
      " 98%|█████████▊| 98/100 [00:32<00:00,  3.18it/s]"
     ]
    },
    {
     "name": "stdout",
     "output_type": "stream",
     "text": [
      "\n",
      "🔹 Predicted: Ihmoth hasse bazen, was ich perlwerte bis er auf tabel.\n",
      "🔸 Reference: Ich muss auf das verweisen, was ich gerade gesagt habe.\n",
      "\n",
      "🔹 Predicted: 実は、そこにも食べる方があるから、\n",
      "🔸 Reference: Schließlich noch zur Rolle von Europol.\n"
     ]
    },
    {
     "name": "stderr",
     "output_type": "stream",
     "text": [
      "100%|██████████| 100/100 [00:32<00:00,  3.06it/s]"
     ]
    },
    {
     "name": "stdout",
     "output_type": "stream",
     "text": [
      "\n",
      "🔹 Predicted: Dizentraus sorgonulose basale salit.\n",
      "🔸 Reference: Dies hat Auswirkungen auf den Wasserhaushalt.\n",
      "\n",
      "✅ DE WER: 0.9521\n"
     ]
    },
    {
     "name": "stderr",
     "output_type": "stream",
     "text": [
      "\n"
     ]
    }
   ],
   "source": [
    "import torch\n",
    "from jiwer import wer\n",
    "from tqdm import tqdm\n",
    "\n",
    "def filter_by_lang(dataset, lang_code):\n",
    "    return [x for x in dataset if x[\"locale\"] == lang_code]\n",
    "\n",
    "lang_list = [\"ko\", \"en\", \"ja\", \"de\"]\n",
    "lang_wer_results = {}\n",
    "\n",
    "for lang in lang_list:\n",
    "    print(f\"\\n🌍 Language: {lang}\")\n",
    "    lang_data = filter_by_lang(dataset, lang)\n",
    "\n",
    "    predictions, references = [], []\n",
    "\n",
    "    for sample in tqdm(lang_data):\n",
    "        input_features = processor.feature_extractor(\n",
    "            sample[\"audio\"][\"array\"], sampling_rate=16000, return_tensors=\"pt\"\n",
    "        ).input_features.to(model.device)\n",
    "\n",
    "        with torch.no_grad():\n",
    "            predicted_ids = model.generate(input_features)\n",
    "\n",
    "        transcription = processor.batch_decode(predicted_ids, skip_special_tokens=True)[0]\n",
    "        predictions.append(transcription)\n",
    "        references.append(sample[\"sentence\"])\n",
    "\n",
    "        print(f\"\\n🔹 Predicted: {transcription}\")\n",
    "        print(f\"🔸 Reference: {sample['sentence']}\")\n",
    "\n",
    "        torch.cuda.empty_cache()\n",
    "\n",
    "    score = wer(references, predictions)\n",
    "    lang_wer_results[lang] = score\n",
    "    print(f\"\\n✅ {lang.upper()} WER: {score:.4f}\")"
   ]
  },
  {
   "cell_type": "markdown",
   "metadata": {
    "id": "R3XLRfeqZ7Jp"
   },
   "source": [
    "## __6.Results__"
   ]
  },
  {
   "cell_type": "code",
   "execution_count": 10,
   "metadata": {},
   "outputs": [
    {
     "name": "stdout",
     "output_type": "stream",
     "text": [
      "\n",
      "📊 WER Comparison (Sorted):\n",
      "🔹 KO  WER: 0.7537\n",
      "🔹 DE  WER: 0.9521\n",
      "🔹 EN  WER: 0.9762\n",
      "🔹 JA  WER: 2.5000\n"
     ]
    }
   ],
   "source": [
    "# 언어별 WER 비교 정렬 출력\n",
    "print(\"\\n📊 WER Comparison (Sorted):\")\n",
    "for lang, score in sorted(lang_wer_results.items(), key=lambda x: x[1]):\n",
    "    print(f\"🔹 {lang.upper():<3} WER: {score:.4f}\")"
   ]
  },
  {
   "cell_type": "code",
   "execution_count": 12,
   "metadata": {},
   "outputs": [
    {
     "data": {
      "image/png": "[encoded data removed]",
      "text/plain": [
       "<Figure size 800x500 with 1 Axes>"
      ]
     },
     "metadata": {},
     "output_type": "display_data"
    }
   ],
   "source": [
    "import matplotlib.pyplot as plt\n",
    "\n",
    "# 오름차순 정렬된 결과로 시각화\n",
    "sorted_items = sorted(lang_wer_results.items(), key=lambda x: x[1])\n",
    "langs_sorted = [x[0] for x in sorted_items]\n",
    "scores_sorted = [x[1] for x in sorted_items]\n",
    "\n",
    "plt.figure(figsize=(8, 5))\n",
    "bars = plt.bar(langs_sorted, scores_sorted)\n",
    "plt.title(\"WER Comparison by Language (Sorted)\")\n",
    "plt.xlabel(\"Language\")\n",
    "plt.ylabel(\"WER (lower is better)\")\n",
    "\n",
    "for bar in bars:\n",
    "    yval = bar.get_height()\n",
    "    plt.text(bar.get_x() + bar.get_width()/2.0, yval + 0.01, f\"{yval:.3f}\", ha='center', va='bottom')\n",
    "\n",
    "plt.tight_layout()\n",
    "plt.savefig(\"wer_comparison_chart_base_sorted.png\")\n",
    "plt.show()"
   ]
  },
  {
   "cell_type": "code",
   "execution_count": null,
   "metadata": {},
   "outputs": [],
   "source": []
  }
 ],
 "metadata": {
  "language_info": {
   "name": "python"
  }
 },
 "nbformat": 4,
 "nbformat_minor": 0
}
