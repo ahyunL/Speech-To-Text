{
 "cells": [
  {
   "cell_type": "markdown",
   "metadata": {
    "id": "lN4hAZ3jmqvE"
   },
   "source": [
    "## __데이터 증량 + 파라미터 튜닝__"
   ]
  },
  {
   "cell_type": "code",
   "execution_count": 1,
   "metadata": {},
   "outputs": [
    {
     "name": "stdout",
     "output_type": "stream",
     "text": [
      "\u001b[?25l   \u001b[90m━━━━━━━━━━━━━━━━━━━━━━━━━━━━━━━━━━━━━━━━\u001b[0m \u001b[32m0.0/491.5 kB\u001b[0m \u001b[31m?\u001b[0m eta \u001b[36m-:--:--\u001b[0m\r",
      "\u001b[2K   \u001b[90m━━━━━━━━━━━━━━━━━━━━━━━━━━━━━━━━━━━━━━━━\u001b[0m \u001b[32m491.5/491.5 kB\u001b[0m \u001b[31m25.5 MB/s\u001b[0m eta \u001b[36m0:00:00\u001b[0m\n",
      "\u001b[?25h\u001b[?25l   \u001b[90m━━━━━━━━━━━━━━━━━━━━━━━━━━━━━━━━━━━━━━━━\u001b[0m \u001b[32m0.0/116.3 kB\u001b[0m \u001b[31m?\u001b[0m eta \u001b[36m-:--:--\u001b[0m\r",
      "\u001b[2K   \u001b[90m━━━━━━━━━━━━━━━━━━━━━━━━━━━━━━━━━━━━━━━━\u001b[0m \u001b[32m116.3/116.3 kB\u001b[0m \u001b[31m9.2 MB/s\u001b[0m eta \u001b[36m0:00:00\u001b[0m\n",
      "\u001b[?25h\u001b[?25l   \u001b[90m━━━━━━━━━━━━━━━━━━━━━━━━━━━━━━━━━━━━━━━━\u001b[0m \u001b[32m0.0/193.6 kB\u001b[0m \u001b[31m?\u001b[0m eta \u001b[36m-:--:--\u001b[0m\r",
      "\u001b[2K   \u001b[90m━━━━━━━━━━━━━━━━━━━━━━━━━━━━━━━━━━━━━━━━\u001b[0m \u001b[32m193.6/193.6 kB\u001b[0m \u001b[31m13.9 MB/s\u001b[0m eta \u001b[36m0:00:00\u001b[0m\n",
      "\u001b[2K   \u001b[90m━━━━━━━━━━━━━━━━━━━━━━━━━━━━━━━━━━━━━━━━\u001b[0m \u001b[32m143.5/143.5 kB\u001b[0m \u001b[31m11.5 MB/s\u001b[0m eta \u001b[36m0:00:00\u001b[0m\n",
      "\u001b[2K   \u001b[90m━━━━━━━━━━━━━━━━━━━━━━━━━━━━━━━━━━━━━━━━\u001b[0m \u001b[32m3.1/3.1 MB\u001b[0m \u001b[31m72.2 MB/s\u001b[0m eta \u001b[36m0:00:00\u001b[0m\n",
      "\u001b[2K   \u001b[90m━━━━━━━━━━━━━━━━━━━━━━━━━━━━━━━━━━━━━━━━\u001b[0m \u001b[32m363.4/363.4 MB\u001b[0m \u001b[31m3.3 MB/s\u001b[0m eta \u001b[36m0:00:00\u001b[0m\n",
      "\u001b[2K   \u001b[90m━━━━━━━━━━━━━━━━━━━━━━━━━━━━━━━━━━━━━━━━\u001b[0m \u001b[32m13.8/13.8 MB\u001b[0m \u001b[31m98.5 MB/s\u001b[0m eta \u001b[36m0:00:00\u001b[0m\n",
      "\u001b[2K   \u001b[90m━━━━━━━━━━━━━━━━━━━━━━━━━━━━━━━━━━━━━━━━\u001b[0m \u001b[32m24.6/24.6 MB\u001b[0m \u001b[31m34.4 MB/s\u001b[0m eta \u001b[36m0:00:00\u001b[0m\n",
      "\u001b[2K   \u001b[90m━━━━━━━━━━━━━━━━━━━━━━━━━━━━━━━━━━━━━━━━\u001b[0m \u001b[32m883.7/883.7 kB\u001b[0m \u001b[31m46.0 MB/s\u001b[0m eta \u001b[36m0:00:00\u001b[0m\n",
      "\u001b[2K   \u001b[90m━━━━━━━━━━━━━━━━━━━━━━━━━━━━━━━━━━━━━━━━\u001b[0m \u001b[32m664.8/664.8 MB\u001b[0m \u001b[31m2.0 MB/s\u001b[0m eta \u001b[36m0:00:00\u001b[0m\n",
      "\u001b[2K   \u001b[90m━━━━━━━━━━━━━━━━━━━━━━━━━━━━━━━━━━━━━━━━\u001b[0m \u001b[32m211.5/211.5 MB\u001b[0m \u001b[31m4.8 MB/s\u001b[0m eta \u001b[36m0:00:00\u001b[0m\n",
      "\u001b[2K   \u001b[90m━━━━━━━━━━━━━━━━━━━━━━━━━━━━━━━━━━━━━━━━\u001b[0m \u001b[32m56.3/56.3 MB\u001b[0m \u001b[31m41.5 MB/s\u001b[0m eta \u001b[36m0:00:00\u001b[0m\n",
      "\u001b[2K   \u001b[90m━━━━━━━━━━━━━━━━━━━━━━━━━━━━━━━━━━━━━━━━\u001b[0m \u001b[32m127.9/127.9 MB\u001b[0m \u001b[31m19.1 MB/s\u001b[0m eta \u001b[36m0:00:00\u001b[0m\n",
      "\u001b[2K   \u001b[90m━━━━━━━━━━━━━━━━━━━━━━━━━━━━━━━━━━━━━━━━\u001b[0m \u001b[32m207.5/207.5 MB\u001b[0m \u001b[31m5.0 MB/s\u001b[0m eta \u001b[36m0:00:00\u001b[0m\n",
      "\u001b[2K   \u001b[90m━━━━━━━━━━━━━━━━━━━━━━━━━━━━━━━━━━━━━━━━\u001b[0m \u001b[32m21.1/21.1 MB\u001b[0m \u001b[31m105.8 MB/s\u001b[0m eta \u001b[36m0:00:00\u001b[0m\n",
      "\u001b[2K   \u001b[90m━━━━━━━━━━━━━━━━━━━━━━━━━━━━━━━━━━━━━━━━\u001b[0m \u001b[32m194.8/194.8 kB\u001b[0m \u001b[31m17.0 MB/s\u001b[0m eta \u001b[36m0:00:00\u001b[0m\n",
      "\u001b[?25h\u001b[31mERROR: pip's dependency resolver does not currently take into account all the packages that are installed. This behaviour is the source of the following dependency conflicts.\n",
      "gcsfs 2025.3.2 requires fsspec==2025.3.2, but you have fsspec 2025.3.0 which is incompatible.\u001b[0m\u001b[31m\n",
      "\u001b[0mMounted at /content/drive\n"
     ]
    },
    {
     "data": {
      "application/vnd.jupyter.widget-view+json": {
       "model_id": "39bf9e8b2af748d482fa038ed8078733",
       "version_major": 2,
       "version_minor": 0
      },
      "text/plain": [
       "VBox(children=(HTML(value='<center> <img\\nsrc=https://huggingface.co/front/assets/huggingface_logo-noborder.sv…"
      ]
     },
     "metadata": {},
     "output_type": "display_data"
    }
   ],
   "source": [
    "!pip install -q datasets transformers librosa jiwer accelerate\n",
    "\n",
    "from google.colab import drive\n",
    "from huggingface_hub import notebook_login\n",
    "\n",
    "drive.mount(\"/content/drive\")\n",
    "notebook_login()"
   ]
  },
  {
   "cell_type": "markdown",
   "metadata": {
    "id": "EY0VVu9TsTdt"
   },
   "source": [
    "### __1.Load datasets__\n",
    "- 100 -> 200"
   ]
  },
  {
   "cell_type": "code",
   "execution_count": 2,
   "metadata": {},
   "outputs": [
    {
     "name": "stderr",
     "output_type": "stream",
     "text": [
      "/usr/local/lib/python3.11/dist-packages/huggingface_hub/utils/_auth.py:94: UserWarning: \n",
      "The secret `HF_TOKEN` does not exist in your Colab secrets.\n",
      "To authenticate with the Hugging Face Hub, create a token in your settings tab (https://huggingface.co/settings/tokens), set it as secret in your Google Colab and restart your session.\n",
      "You will be able to reuse this secret in all of your notebooks.\n",
      "Please note that authentication is recommended but still optional to access public models or datasets.\n",
      "  warnings.warn(\n"
     ]
    },
    {
     "data": {
      "application/vnd.jupyter.widget-view+json": {
       "model_id": "dd477cc32cbd40c9ba3ddeadad621dde",
       "version_major": 2,
       "version_minor": 0
      },
      "text/plain": [
       "README.md:   0%|          | 0.00/14.7k [00:00<?, ?B/s]"
      ]
     },
     "metadata": {},
     "output_type": "display_data"
    },
    {
     "data": {
      "application/vnd.jupyter.widget-view+json": {
       "model_id": "2a0b087c0e2645879872f94c405ea7cc",
       "version_major": 2,
       "version_minor": 0
      },
      "text/plain": [
       "common_voice_13_0.py:   0%|          | 0.00/8.18k [00:00<?, ?B/s]"
      ]
     },
     "metadata": {},
     "output_type": "display_data"
    },
    {
     "data": {
      "application/vnd.jupyter.widget-view+json": {
       "model_id": "3b20c5fbe0b3441fa083776611f13439",
       "version_major": 2,
       "version_minor": 0
      },
      "text/plain": [
       "languages.py:   0%|          | 0.00/3.65k [00:00<?, ?B/s]"
      ]
     },
     "metadata": {},
     "output_type": "display_data"
    },
    {
     "data": {
      "application/vnd.jupyter.widget-view+json": {
       "model_id": "a4e5d13e67444d1ca504ecc5f6224fad",
       "version_major": 2,
       "version_minor": 0
      },
      "text/plain": [
       "release_stats.py:   0%|          | 0.00/65.4k [00:00<?, ?B/s]"
      ]
     },
     "metadata": {},
     "output_type": "display_data"
    },
    {
     "name": "stdout",
     "output_type": "stream",
     "text": [
      "The repository for mozilla-foundation/common_voice_13_0 contains custom code which must be executed to correctly load the dataset. You can inspect the repository content at https://hf.co/datasets/mozilla-foundation/common_voice_13_0.\n",
      "You can avoid this prompt in future by passing the argument `trust_remote_code=True`.\n",
      "\n",
      "Do you wish to run the custom code? [y/N] y\n"
     ]
    },
    {
     "name": "stderr",
     "output_type": "stream",
     "text": [
      "Reading metadata...: 192it [00:00, 642.95it/s]\n",
      "Reading metadata...: 1013968it [00:23, 43604.97it/s]\n",
      "Reading metadata...: 7071it [00:00, 22026.08it/s]\n",
      "Reading metadata...: 540437it [00:14, 37885.57it/s]\n"
     ]
    }
   ],
   "source": [
    "from datasets import load_dataset, Dataset\n",
    "from itertools import islice\n",
    "\n",
    "ko = list(islice(load_dataset(\"mozilla-foundation/common_voice_13_0\", \"ko\", split=\"train\", streaming=True), 200))\n",
    "en = list(islice(load_dataset(\"mozilla-foundation/common_voice_13_0\", \"en\", split=\"train\", streaming=True), 200))\n",
    "ja = list(islice(load_dataset(\"mozilla-foundation/common_voice_13_0\", \"ja\", split=\"train\", streaming=True), 200))\n",
    "de = list(islice(load_dataset(\"mozilla-foundation/common_voice_13_0\", \"de\", split=\"train\", streaming=True), 200))\n",
    "\n",
    "dataset = Dataset.from_list(ko + en + ja + de)"
   ]
  },
  {
   "cell_type": "markdown",
   "metadata": {
    "id": "jLaHveQIs6OG"
   },
   "source": [
    "### __2.Load Whisper-small__"
   ]
  },
  {
   "cell_type": "code",
   "execution_count": 3,
   "metadata": {},
   "outputs": [
    {
     "data": {
      "application/vnd.jupyter.widget-view+json": {
       "model_id": "85a2dec13e6e4a1b978c23080b90138a",
       "version_major": 2,
       "version_minor": 0
      },
      "text/plain": [
       "preprocessor_config.json:   0%|          | 0.00/185k [00:00<?, ?B/s]"
      ]
     },
     "metadata": {},
     "output_type": "display_data"
    },
    {
     "data": {
      "application/vnd.jupyter.widget-view+json": {
       "model_id": "c66ec6c4a8d947498d66a417c3c5edb4",
       "version_major": 2,
       "version_minor": 0
      },
      "text/plain": [
       "tokenizer_config.json:   0%|          | 0.00/283k [00:00<?, ?B/s]"
      ]
     },
     "metadata": {},
     "output_type": "display_data"
    },
    {
     "data": {
      "application/vnd.jupyter.widget-view+json": {
       "model_id": "20bf5d7475ca4109bf4c12dbd92bdf6c",
       "version_major": 2,
       "version_minor": 0
      },
      "text/plain": [
       "vocab.json:   0%|          | 0.00/836k [00:00<?, ?B/s]"
      ]
     },
     "metadata": {},
     "output_type": "display_data"
    },
    {
     "data": {
      "application/vnd.jupyter.widget-view+json": {
       "model_id": "105c484189a744aa80df01a0c1fcce95",
       "version_major": 2,
       "version_minor": 0
      },
      "text/plain": [
       "tokenizer.json:   0%|          | 0.00/2.48M [00:00<?, ?B/s]"
      ]
     },
     "metadata": {},
     "output_type": "display_data"
    },
    {
     "data": {
      "application/vnd.jupyter.widget-view+json": {
       "model_id": "5ebe1e5a45a141f09b0b4cd04cc89aef",
       "version_major": 2,
       "version_minor": 0
      },
      "text/plain": [
       "merges.txt:   0%|          | 0.00/494k [00:00<?, ?B/s]"
      ]
     },
     "metadata": {},
     "output_type": "display_data"
    },
    {
     "data": {
      "application/vnd.jupyter.widget-view+json": {
       "model_id": "c99b521f2d4c42ea80b939e48c71a1b0",
       "version_major": 2,
       "version_minor": 0
      },
      "text/plain": [
       "normalizer.json:   0%|          | 0.00/52.7k [00:00<?, ?B/s]"
      ]
     },
     "metadata": {},
     "output_type": "display_data"
    },
    {
     "data": {
      "application/vnd.jupyter.widget-view+json": {
       "model_id": "58c276ba824547cbb2eb6c9fccc087c3",
       "version_major": 2,
       "version_minor": 0
      },
      "text/plain": [
       "added_tokens.json:   0%|          | 0.00/34.6k [00:00<?, ?B/s]"
      ]
     },
     "metadata": {},
     "output_type": "display_data"
    },
    {
     "data": {
      "application/vnd.jupyter.widget-view+json": {
       "model_id": "4e3239351fb846f59aa58f227781125b",
       "version_major": 2,
       "version_minor": 0
      },
      "text/plain": [
       "special_tokens_map.json:   0%|          | 0.00/2.19k [00:00<?, ?B/s]"
      ]
     },
     "metadata": {},
     "output_type": "display_data"
    },
    {
     "data": {
      "application/vnd.jupyter.widget-view+json": {
       "model_id": "408cc1c7abfb4d0ebd16913643c30a61",
       "version_major": 2,
       "version_minor": 0
      },
      "text/plain": [
       "config.json:   0%|          | 0.00/1.97k [00:00<?, ?B/s]"
      ]
     },
     "metadata": {},
     "output_type": "display_data"
    },
    {
     "data": {
      "application/vnd.jupyter.widget-view+json": {
       "model_id": "1697a2c28a2f45388fcb96864b4684b5",
       "version_major": 2,
       "version_minor": 0
      },
      "text/plain": [
       "model.safetensors:   0%|          | 0.00/967M [00:00<?, ?B/s]"
      ]
     },
     "metadata": {},
     "output_type": "display_data"
    },
    {
     "data": {
      "application/vnd.jupyter.widget-view+json": {
       "model_id": "4aa27b7afae34c368038700d76fc8d08",
       "version_major": 2,
       "version_minor": 0
      },
      "text/plain": [
       "generation_config.json:   0%|          | 0.00/3.87k [00:00<?, ?B/s]"
      ]
     },
     "metadata": {},
     "output_type": "display_data"
    }
   ],
   "source": [
    "from transformers import WhisperProcessor, WhisperForConditionalGeneration\n",
    "\n",
    "checkpoint = \"openai/whisper-small\"\n",
    "processor = WhisperProcessor.from_pretrained(checkpoint)\n",
    "model = WhisperForConditionalGeneration.from_pretrained(checkpoint)\n",
    "model.config.forced_decoder_ids = None\n",
    "model.config.suppress_tokens = []"
   ]
  },
  {
   "cell_type": "markdown",
   "metadata": {
    "id": "CKcrUWYGtEpF"
   },
   "source": [
    "### __3.Preprocessing__"
   ]
  },
  {
   "cell_type": "code",
   "execution_count": 4,
   "metadata": {},
   "outputs": [
    {
     "data": {
      "application/vnd.jupyter.widget-view+json": {
       "model_id": "78f7233266f94a85bfcf6c64c3c89ca9",
       "version_major": 2,
       "version_minor": 0
      },
      "text/plain": [
       "Map:   0%|          | 0/792 [00:00<?, ? examples/s]"
      ]
     },
     "metadata": {},
     "output_type": "display_data"
    }
   ],
   "source": [
    "def prepare_dataset(example):\n",
    "    audio = example[\"audio\"]\n",
    "    example[\"input_features\"] = processor.feature_extractor(audio[\"array\"], sampling_rate=16000).input_features[0]\n",
    "    example[\"labels\"] = processor.tokenizer(example[\"sentence\"]).input_ids\n",
    "    return example\n",
    "\n",
    "processed_dataset = dataset.map(prepare_dataset, remove_columns=dataset.column_names)"
   ]
  },
  {
   "cell_type": "code",
   "execution_count": 5,
   "metadata": {},
   "outputs": [],
   "source": [
    "from dataclasses import dataclass\n",
    "from typing import Any, Dict, List, Union\n",
    "import torch\n",
    "\n",
    "@dataclass\n",
    "class DataCollatorSpeechSeq2SeqWithPadding:\n",
    "    processor: Any\n",
    "    padding: Union[bool, str] = True\n",
    "\n",
    "    def __call__(self, features: List[Dict[str, Union[List[int], torch.Tensor]]]) -> Dict[str, torch.Tensor]:\n",
    "        input_features = [{\"input_features\": f[\"input_features\"]} for f in features]\n",
    "        label_features = [{\"input_ids\": f[\"labels\"]} for f in features]\n",
    "        batch = self.processor.feature_extractor.pad(input_features, return_tensors=\"pt\")\n",
    "        labels_batch = self.processor.tokenizer.pad(label_features, return_tensors=\"pt\")\n",
    "        labels = labels_batch[\"input_ids\"].masked_fill(labels_batch.attention_mask.ne(1), -100)\n",
    "        batch[\"labels\"] = labels\n",
    "        return batch\n",
    "\n",
    "data_collator = DataCollatorSpeechSeq2SeqWithPadding(processor=processor)\n"
   ]
  },
  {
   "cell_type": "code",
   "execution_count": 6,
   "metadata": {},
   "outputs": [
    {
     "name": "stderr",
     "output_type": "stream",
     "text": [
      "<ipython-input-6-26d3ea854a24>:14: FutureWarning: `tokenizer` is deprecated and will be removed in version 5.0.0 for `Trainer.__init__`. Use `processing_class` instead.\n",
      "  trainer = Trainer(\n"
     ]
    }
   ],
   "source": [
    "from transformers import TrainingArguments, Trainer\n",
    "\n",
    "training_args = TrainingArguments(\n",
    "    output_dir=\"/content/drive/MyDrive/WhisperCheckpoints/run_multi_small_trial2\",\n",
    "    per_device_train_batch_size=8, #4->8\n",
    "    learning_rate=3e-5,       #1e-5 -> 3e-5\n",
    "    num_train_epochs=5,       #3 -> 5\n",
    "    logging_steps=10,       #5 -> 10\n",
    "    save_strategy=\"epoch\",\n",
    "    fp16=True,\n",
    "    report_to=\"none\"\n",
    ")\n",
    "\n",
    "trainer = Trainer(\n",
    "    model=model,\n",
    "    args=training_args,\n",
    "    train_dataset=processed_dataset,\n",
    "    tokenizer=processor,\n",
    "    data_collator=data_collator\n",
    ")"
   ]
  },
  {
   "cell_type": "markdown",
   "metadata": {
    "id": "vyPolDl8tbz-"
   },
   "source": [
    "### __4.Training__"
   ]
  },
  {
   "cell_type": "code",
   "execution_count": 7,
   "metadata": {},
   "outputs": [
    {
     "name": "stderr",
     "output_type": "stream",
     "text": [
      "Passing a tuple of `past_key_values` is deprecated and will be removed in Transformers v4.43.0. You should pass an instance of `EncoderDecoderCache` instead, e.g. `past_key_values=EncoderDecoderCache.from_legacy_cache(past_key_values)`.\n"
     ]
    },
    {
     "data": {
      "text/html": [
       "\n",
       "    <div>\n",
       "      \n",
       "      <progress value='495' max='495' style='width:300px; height:20px; vertical-align: middle;'></progress>\n",
       "      [495/495 12:57, Epoch 5/5]\n",
       "    </div>\n",
       "    <table border=\"1\" class=\"dataframe\">\n",
       "  <thead>\n",
       " <tr style=\"text-align: left;\">\n",
       "      <th>Step</th>\n",
       "      <th>Training Loss</th>\n",
       "    </tr>\n",
       "  </thead>\n",
       "  <tbody>\n",
       "    <tr>\n",
       "      <td>10</td>\n",
       "      <td>7.190400</td>\n",
       "    </tr>\n",
       "    <tr>\n",
       "      <td>20</td>\n",
       "      <td>4.278200</td>\n",
       "    </tr>\n",
       "    <tr>\n",
       "      <td>30</td>\n",
       "      <td>2.980400</td>\n",
       "    </tr>\n",
       "    <tr>\n",
       "      <td>40</td>\n",
       "      <td>2.497500</td>\n",
       "    </tr>\n",
       "    <tr>\n",
       "      <td>50</td>\n",
       "      <td>2.159700</td>\n",
       "    </tr>\n",
       "    <tr>\n",
       "      <td>60</td>\n",
       "      <td>1.806100</td>\n",
       "    </tr>\n",
       "    <tr>\n",
       "      <td>70</td>\n",
       "      <td>1.893400</td>\n",
       "    </tr>\n",
       "    <tr>\n",
       "      <td>80</td>\n",
       "      <td>1.605500</td>\n",
       "    </tr>\n",
       "    <tr>\n",
       "      <td>90</td>\n",
       "      <td>1.350900</td>\n",
       "    </tr>\n",
       "    <tr>\n",
       "      <td>100</td>\n",
       "      <td>1.279700</td>\n",
       "    </tr>\n",
       "    <tr>\n",
       "      <td>110</td>\n",
       "      <td>0.409900</td>\n",
       "    </tr>\n",
       "    <tr>\n",
       "      <td>120</td>\n",
       "      <td>0.433900</td>\n",
       "    </tr>\n",
       "    <tr>\n",
       "      <td>130</td>\n",
       "      <td>0.408000</td>\n",
       "    </tr>\n",
       "    <tr>\n",
       "      <td>140</td>\n",
       "      <td>0.417900</td>\n",
       "    </tr>\n",
       "    <tr>\n",
       "      <td>150</td>\n",
       "      <td>0.419300</td>\n",
       "    </tr>\n",
       "    <tr>\n",
       "      <td>160</td>\n",
       "      <td>0.419700</td>\n",
       "    </tr>\n",
       "    <tr>\n",
       "      <td>170</td>\n",
       "      <td>0.387100</td>\n",
       "    </tr>\n",
       "    <tr>\n",
       "      <td>180</td>\n",
       "      <td>0.365600</td>\n",
       "    </tr>\n",
       "    <tr>\n",
       "      <td>190</td>\n",
       "      <td>0.399100</td>\n",
       "    </tr>\n",
       "    <tr>\n",
       "      <td>200</td>\n",
       "      <td>0.285400</td>\n",
       "    </tr>\n",
       "    <tr>\n",
       "      <td>210</td>\n",
       "      <td>0.084700</td>\n",
       "    </tr>\n",
       "    <tr>\n",
       "      <td>220</td>\n",
       "      <td>0.111600</td>\n",
       "    </tr>\n",
       "    <tr>\n",
       "      <td>230</td>\n",
       "      <td>0.096700</td>\n",
       "    </tr>\n",
       "    <tr>\n",
       "      <td>240</td>\n",
       "      <td>0.097400</td>\n",
       "    </tr>\n",
       "    <tr>\n",
       "      <td>250</td>\n",
       "      <td>0.082300</td>\n",
       "    </tr>\n",
       "    <tr>\n",
       "      <td>260</td>\n",
       "      <td>0.093200</td>\n",
       "    </tr>\n",
       "    <tr>\n",
       "      <td>270</td>\n",
       "      <td>0.077200</td>\n",
       "    </tr>\n",
       "    <tr>\n",
       "      <td>280</td>\n",
       "      <td>0.080000</td>\n",
       "    </tr>\n",
       "    <tr>\n",
       "      <td>290</td>\n",
       "      <td>0.073000</td>\n",
       "    </tr>\n",
       "    <tr>\n",
       "      <td>300</td>\n",
       "      <td>0.054200</td>\n",
       "    </tr>\n",
       "    <tr>\n",
       "      <td>310</td>\n",
       "      <td>0.022400</td>\n",
       "    </tr>\n",
       "    <tr>\n",
       "      <td>320</td>\n",
       "      <td>0.017900</td>\n",
       "    </tr>\n",
       "    <tr>\n",
       "      <td>330</td>\n",
       "      <td>0.028800</td>\n",
       "    </tr>\n",
       "    <tr>\n",
       "      <td>340</td>\n",
       "      <td>0.025300</td>\n",
       "    </tr>\n",
       "    <tr>\n",
       "      <td>350</td>\n",
       "      <td>0.026900</td>\n",
       "    </tr>\n",
       "    <tr>\n",
       "      <td>360</td>\n",
       "      <td>0.017000</td>\n",
       "    </tr>\n",
       "    <tr>\n",
       "      <td>370</td>\n",
       "      <td>0.026000</td>\n",
       "    </tr>\n",
       "    <tr>\n",
       "      <td>380</td>\n",
       "      <td>0.016700</td>\n",
       "    </tr>\n",
       "    <tr>\n",
       "      <td>390</td>\n",
       "      <td>0.019400</td>\n",
       "    </tr>\n",
       "    <tr>\n",
       "      <td>400</td>\n",
       "      <td>0.024500</td>\n",
       "    </tr>\n",
       "    <tr>\n",
       "      <td>410</td>\n",
       "      <td>0.005300</td>\n",
       "    </tr>\n",
       "    <tr>\n",
       "      <td>420</td>\n",
       "      <td>0.008100</td>\n",
       "    </tr>\n",
       "    <tr>\n",
       "      <td>430</td>\n",
       "      <td>0.005500</td>\n",
       "    </tr>\n",
       "    <tr>\n",
       "      <td>440</td>\n",
       "      <td>0.006700</td>\n",
       "    </tr>\n",
       "    <tr>\n",
       "      <td>450</td>\n",
       "      <td>0.004500</td>\n",
       "    </tr>\n",
       "    <tr>\n",
       "      <td>460</td>\n",
       "      <td>0.009200</td>\n",
       "    </tr>\n",
       "    <tr>\n",
       "      <td>470</td>\n",
       "      <td>0.010700</td>\n",
       "    </tr>\n",
       "    <tr>\n",
       "      <td>480</td>\n",
       "      <td>0.009800</td>\n",
       "    </tr>\n",
       "    <tr>\n",
       "      <td>490</td>\n",
       "      <td>0.009700</td>\n",
       "    </tr>\n",
       "  </tbody>\n",
       "</table><p>"
      ],
      "text/plain": [
       "<IPython.core.display.HTML object>"
      ]
     },
     "metadata": {},
     "output_type": "display_data"
    },
    {
     "name": "stderr",
     "output_type": "stream",
     "text": [
      "/usr/local/lib/python3.11/dist-packages/transformers/modeling_utils.py:3339: UserWarning: Moving the following attributes in the config to the generation config: {'max_length': 448, 'suppress_tokens': [], 'begin_suppress_tokens': [220, 50257]}. You are seeing this warning because you've set generation parameters in the model config, as opposed to in the generation config.\n",
      "  warnings.warn(\n"
     ]
    },
    {
     "data": {
      "text/plain": [
       "TrainOutput(global_step=495, training_loss=0.649191166693815, metrics={'train_runtime': 781.1691, 'train_samples_per_second': 5.069, 'train_steps_per_second': 0.634, 'total_flos': 1.1427981852672e+18, 'train_loss': 0.649191166693815, 'epoch': 5.0})"
      ]
     },
     "execution_count": 7,
     "metadata": {},
     "output_type": "execute_result"
    }
   ],
   "source": [
    "trainer.train()"
   ]
  },
  {
   "cell_type": "code",
   "execution_count": 8,
   "metadata": {},
   "outputs": [
    {
     "data": {
      "text/plain": [
       "[]"
      ]
     },
     "execution_count": 8,
     "metadata": {},
     "output_type": "execute_result"
    }
   ],
   "source": [
    "save_path = \"/content/drive/MyDrive/WhisperCheckpoints/run_multi_small_trial2\"\n",
    "model.save_pretrained(save_path)\n",
    "processor.save_pretrained(save_path)"
   ]
  },
  {
   "cell_type": "markdown",
   "metadata": {
    "id": "E5-RLmBE10vD"
   },
   "source": [
    "### __5.Prediction__"
   ]
  },
  {
   "cell_type": "code",
   "execution_count": 10,
   "metadata": {},
   "outputs": [
    {
     "name": "stdout",
     "output_type": "stream",
     "text": [
      "\n",
      "🌍 Language: ko\n"
     ]
    },
    {
     "name": "stderr",
     "output_type": "stream",
     "text": [
      "\r",
      "  0%|          | 0/192 [00:00<?, ?it/s]Due to a bug fix in https://github.com/huggingface/transformers/pull/28687 transcription using a multilingual Whisper will default to language detection followed by transcription instead of translation to English.This might be a breaking change for your use case. If you want to instead always translate your audio to English, make sure to pass `language='en'`.\n",
      "The attention mask is not set and cannot be inferred from input because pad token is same as eos token. As a consequence, you may observe unexpected behavior. Please pass your input's `attention_mask` to obtain reliable results.\n",
      "  1%|          | 1/192 [00:08<28:36,  8.99s/it]"
     ]
    },
    {
     "name": "stdout",
     "output_type": "stream",
     "text": [
      "\n",
      "🔹 Predicted:  ಎರಿತತತತತತತತತತತತತತತತತತತತತತತತತತತತತತತತತತತತತತತತತತತತತತತತತತತತತತತತತತತತತತತತತತತತತತತತತತತತತತತತತತತತತತತತತತತತತತತತತತತತತತತತತತತತತತತತತತತತತತತತತತತತತತತತತತತತತತತತತತತತತತತತತತತತತತತತತತತತತತತತತತತತತತತತತತತತತತತತತತತತತತತತತತತತತತತತತತತತತತತತತತತತತತತತತತತತತತತತತತತ\n",
      "🔸 Reference: 어느덧 그 더운 팔월도 하루를 남기고 다 지나 버렸다.\n"
     ]
    },
    {
     "name": "stderr",
     "output_type": "stream",
     "text": [
      "\r",
      "  1%|          | 2/192 [00:09<12:44,  4.02s/it]"
     ]
    },
    {
     "name": "stdout",
     "output_type": "stream",
     "text": [
      "\n",
      "🔹 Predicted: 근자에 춘우의 동료 사이에는 이상한 소문이 돌아다니었다.\n",
      "🔸 Reference: 근자에 춘우의 동료 사이에는 이상한 소문이 돌아다니었다.\n"
     ]
    },
    {
     "name": "stderr",
     "output_type": "stream",
     "text": [
      "\r",
      "  2%|▏         | 3/192 [00:10<07:33,  2.40s/it]"
     ]
    },
    {
     "name": "stdout",
     "output_type": "stream",
     "text": [
      "\n",
      "🔹 Predicted: 재차 부르는 소리를 듣고야 선비는 발길을 떼었다.\n",
      "🔸 Reference: 재차 부르는 소리를 듣고야 선비는 발길을 떼었다.\n"
     ]
    },
    {
     "name": "stderr",
     "output_type": "stream",
     "text": [
      "\r",
      "  2%|▏         | 4/192 [00:10<05:03,  1.61s/it]"
     ]
    },
    {
     "name": "stdout",
     "output_type": "stream",
     "text": [
      "\n",
      "🔹 Predicted:  그애의 말값으로 찾아나 봤으면 되는 것 아니냐.\n",
      "🔸 Reference: 그애의 말값으로 찾아나 봤으면 되는 것 아니냐.\n"
     ]
    },
    {
     "name": "stderr",
     "output_type": "stream",
     "text": [
      "\r",
      "  3%|▎         | 5/192 [00:10<03:48,  1.22s/it]"
     ]
    },
    {
     "name": "stdout",
     "output_type": "stream",
     "text": [
      "\n",
      "🔹 Predicted: 그가 방으로 들어오니 간난이가 와서 그의 하던 일을 하고 있었다.\n",
      "🔸 Reference: 그가 방으로 들어오니 간난이가 와서 그의 하던 일을 하고 있었다.\n"
     ]
    },
    {
     "name": "stderr",
     "output_type": "stream",
     "text": [
      "\r",
      "  3%|▎         | 6/192 [00:11<02:48,  1.11it/s]"
     ]
    },
    {
     "name": "stdout",
     "output_type": "stream",
     "text": [
      "\n",
      "🔹 Predicted: 안녕히 다녀옵시요.\n",
      "🔸 Reference: 안녕히 다녀옵시요.\n"
     ]
    },
    {
     "name": "stderr",
     "output_type": "stream",
     "text": [
      "\r",
      "  4%|▎         | 7/192 [00:11<02:28,  1.25it/s]"
     ]
    },
    {
     "name": "stdout",
     "output_type": "stream",
     "text": [
      "\n",
      "🔹 Predicted: 어떻게 무엇부터 시작을 해야 할는지 엄두가 나지를 않아서 잠을 잘 수가 없었다.\n",
      "🔸 Reference: 어떻게 무엇부터 시작을 해야 할는지 엄두가 나지를 않아서 잠을 잘 수가 없었다.\n"
     ]
    },
    {
     "name": "stderr",
     "output_type": "stream",
     "text": [
      "\r",
      "  4%|▍         | 8/192 [00:12<01:58,  1.55it/s]"
     ]
    },
    {
     "name": "stdout",
     "output_type": "stream",
     "text": [
      "\n",
      "🔹 Predicted: 죽는 날까지 하늘을 우러러\n",
      "🔸 Reference: 죽는 날까지 하늘을 우러러\n"
     ]
    },
    {
     "name": "stderr",
     "output_type": "stream",
     "text": [
      "\r",
      "  5%|▍         | 9/192 [00:12<01:42,  1.78it/s]"
     ]
    },
    {
     "name": "stdout",
     "output_type": "stream",
     "text": [
      "\n",
      "🔹 Predicted: 그리고 그 어두운 방 안이 휙 지나친다.\n",
      "🔸 Reference: 그리고 그 어두운 방 안이 휙 지나친다.\n"
     ]
    },
    {
     "name": "stderr",
     "output_type": "stream",
     "text": [
      "\r",
      "  5%|▌         | 10/192 [00:20<08:41,  2.87s/it]"
     ]
    },
    {
     "name": "stdout",
     "output_type": "stream",
     "text": [
      "\n",
      "🔹 Predicted:  ಎರಿಎರಿಎರಿಎರಿಎರಿಎರಿಎರಿಎರಿಎರಿಎರಿಎರಿಎರಿಎರಿಎರಿಎರಿಎರಿಎರಿಎರಿಎರಿಎರಿಎರಿಎರಿಎರಿಎರಿಎರಿಎರಿಎರಿಎರಿಎರಿಎರಿಎರಿಎರಿಎರಿಎರಿಎರಿಎರಿಎರಿಎರಿಎರಿಎರಿಎರಿಎರಿಎರಿಎರಿಎರಿಎರಿಎರಿಎರಿಎರಿಿಎರಿಿಎರಿಿಎರಿಿಎರಿಿಎರಿಿಿಎರಿಿಿಿಿಿಿಿಿಿಿಿಿಿಿಿಿಿಿಿಿಿಿಿಿಿಿಿಿಿಿಿಿಿಿಿಿಿಿಿಿಿಿಿಿಿಿಿಿಿಿ\n",
      "🔸 Reference: 왜 눈을 바루 뜨지 못해!\n"
     ]
    },
    {
     "name": "stderr",
     "output_type": "stream",
     "text": [
      "\r",
      "  6%|▌         | 11/192 [00:21<06:33,  2.17s/it]"
     ]
    },
    {
     "name": "stdout",
     "output_type": "stream",
     "text": [
      "\n",
      "🔹 Predicted: 영신은 바라던 대로 바닷가 한가한 집에서 편안히 쉴 수가 있었다.\n",
      "🔸 Reference: 영신은 바라던 대로 바닷가 한가한 집에서 편안히 쉴 수가 있었다.\n"
     ]
    },
    {
     "name": "stderr",
     "output_type": "stream",
     "text": [
      "\r",
      "  6%|▋         | 12/192 [00:21<04:51,  1.62s/it]"
     ]
    },
    {
     "name": "stdout",
     "output_type": "stream",
     "text": [
      "\n",
      "🔹 Predicted: 잡을 수 없는 저 하늘의 별도 잡자.\n",
      "🔸 Reference: 잡을 수 없는 저 하늘의 별도 잡자.\n"
     ]
    },
    {
     "name": "stderr",
     "output_type": "stream",
     "text": [
      "\r",
      "  7%|▋         | 13/192 [00:21<03:47,  1.27s/it]"
     ]
    },
    {
     "name": "stdout",
     "output_type": "stream",
     "text": [
      "\n",
      "🔹 Predicted:  वागो, 목메인 소리가 뒤를 따랐다.\n",
      "🔸 Reference: 하고, 목메인 소리가 뒤를 따랐다.\n"
     ]
    },
    {
     "name": "stderr",
     "output_type": "stream",
     "text": [
      "\r",
      "  7%|▋         | 14/192 [00:22<03:03,  1.03s/it]"
     ]
    },
    {
     "name": "stdout",
     "output_type": "stream",
     "text": [
      "\n",
      "🔹 Predicted: 그리고 그의 하던 말을 곰곰이 되풀이하였다.\n",
      "🔸 Reference: 그리고 그의 하던 말을 곰곰이 되풀이하였다.\n"
     ]
    },
    {
     "name": "stderr",
     "output_type": "stream",
     "text": [
      "\r",
      "  8%|▊         | 15/192 [00:30<09:18,  3.15s/it]"
     ]
    },
    {
     "name": "stdout",
     "output_type": "stream",
     "text": [
      "\n",
      "🔹 Predicted:  ಎರಿದರಿದರಿದರಿದರಿದರಿದರಿದರಿದರಿದರಿದರಿದರಿದರಿದರಿದರಿದರಿದರಿದರಿದರಿದರಿದರಿದರಿದರಿದರಿದರಿದರಿದರಿದರಿದರಿದರಿದರಿದರಿದರಿದರಿದರಿದರಿದರಿದರಿದರಿದರಿದರಿದರಿದರಿದರಿದರಿದರಿದರಿದರಿದರಿದರಿದರರಿದರರಿದರರಿದರರಿದರರಿದರರಿದರರಿದರರಿರರಿದರರರಿರರರಿರರರರರರರರರರರರರರರರರರರರರರರರರರರರ\n",
      "🔸 Reference: 영원한 것이 어디 있는가?\n"
     ]
    },
    {
     "name": "stderr",
     "output_type": "stream",
     "text": [
      "\r",
      "  8%|▊         | 16/192 [00:31<06:59,  2.38s/it]"
     ]
    },
    {
     "name": "stdout",
     "output_type": "stream",
     "text": [
      "\n",
      "🔹 Predicted: 그것은 예수가 십자가에 못박히며 최후로 부르짖은 말이었다.\n",
      "🔸 Reference: 그것은 예수가 십자가에 못박히며 최후로 부르짖은 말이었다.\n"
     ]
    },
    {
     "name": "stderr",
     "output_type": "stream",
     "text": [
      "\r",
      "  9%|▉         | 17/192 [00:31<05:17,  1.81s/it]"
     ]
    },
    {
     "name": "stdout",
     "output_type": "stream",
     "text": [
      "\n",
      "🔹 Predicted:  그 틈에 그 짐짝은 딴놈이 메고 달아난다.\n",
      "🔸 Reference: 그 틈에 그 짐짝은 딴놈이 메고 달아난다.\n"
     ]
    },
    {
     "name": "stderr",
     "output_type": "stream",
     "text": [
      "\r",
      "  9%|▉         | 18/192 [00:32<04:06,  1.42s/it]"
     ]
    },
    {
     "name": "stdout",
     "output_type": "stream",
     "text": [
      "\n",
      "🔹 Predicted: 그는 이러한 생각을 되풀이하는 새 벌써 간난네 집까지 왔다.\n",
      "🔸 Reference: 그는 이러한 생각을 되풀이하는 새 벌써 간난네 집까지 왔다.\n"
     ]
    },
    {
     "name": "stderr",
     "output_type": "stream",
     "text": [
      "\r",
      " 10%|▉         | 19/192 [00:32<03:19,  1.16s/it]"
     ]
    },
    {
     "name": "stdout",
     "output_type": "stream",
     "text": [
      "\n",
      "🔹 Predicted: 양식 떨어진 사람이 보릿고개를 넘기는것만치 나 까마아득한 것 같습니다.\n",
      "🔸 Reference: 양식 떨어진 사람이 보릿고개를 넘기는것만치 나 까마아득한 것 같습니다.\n"
     ]
    },
    {
     "name": "stderr",
     "output_type": "stream",
     "text": [
      "\r",
      " 10%|█         | 20/192 [00:33<02:40,  1.07it/s]"
     ]
    },
    {
     "name": "stdout",
     "output_type": "stream",
     "text": [
      "\n",
      "🔹 Predicted: 그래서 그는 억지로 웃어 보이고 말았다.\n",
      "🔸 Reference: 그래서 그는 억지로 웃어 보이고 말았다.\n"
     ]
    },
    {
     "name": "stderr",
     "output_type": "stream",
     "text": [
      "\r",
      " 11%|█         | 21/192 [00:33<02:21,  1.21it/s]"
     ]
    },
    {
     "name": "stdout",
     "output_type": "stream",
     "text": [
      "\n",
      "🔹 Predicted:  यonへ 꾸짖으며, 질팡갈팡 뛰는 수밖에 없었다.\n",
      "🔸 Reference: 연해 꾸짖으며 질팡갈팡 뛰는 수밖에 없었다.\n"
     ]
    },
    {
     "name": "stderr",
     "output_type": "stream",
     "text": [
      "\r",
      " 11%|█▏        | 22/192 [00:34<02:00,  1.42it/s]"
     ]
    },
    {
     "name": "stdout",
     "output_type": "stream",
     "text": [
      "\n",
      "🔹 Predicted: 영신을 눕히고 자세히 진찰을 해본다.\n",
      "🔸 Reference: 영신을 눕히고 자세히 진찰을 해본다.\n"
     ]
    },
    {
     "name": "stderr",
     "output_type": "stream",
     "text": [
      "\r",
      " 12%|█▏        | 23/192 [00:34<01:40,  1.69it/s]"
     ]
    },
    {
     "name": "stdout",
     "output_type": "stream",
     "text": [
      "\n",
      "🔹 Predicted:  뼈씨 퇴근하려고?\n",
      "🔸 Reference: 몇 시 퇴근하려고?\n"
     ]
    },
    {
     "name": "stderr",
     "output_type": "stream",
     "text": [
      "\r",
      " 12%|█▎        | 24/192 [00:34<01:37,  1.72it/s]"
     ]
    },
    {
     "name": "stdout",
     "output_type": "stream",
     "text": [
      "\n",
      "🔹 Predicted: 국회는 의원의 자격을 심사하며, 의원을 징계할 수 있다.\n",
      "🔸 Reference: 국회는 의원의 자격을 심사하며, 의원을 징계할 수 있다.\n"
     ]
    },
    {
     "name": "stderr",
     "output_type": "stream",
     "text": [
      "\r",
      " 13%|█▎        | 25/192 [00:35<01:41,  1.64it/s]"
     ]
    },
    {
     "name": "stdout",
     "output_type": "stream",
     "text": [
      "\n",
      "🔹 Predicted: アタメモデン 육축과 공중의 새와 들의モデン 짐승에게 이름을 주니라\n",
      "🔸 Reference: 아담이 모든 육축과 공중의 새와 들의 모든 짐승에게 이름을 주니라\n"
     ]
    },
    {
     "name": "stderr",
     "output_type": "stream",
     "text": [
      "\r",
      " 14%|█▎        | 26/192 [00:36<01:38,  1.69it/s]"
     ]
    },
    {
     "name": "stdout",
     "output_type": "stream",
     "text": [
      "\n",
      "🔹 Predicted:  그 뒤로 게 딱지 같은 집들이 오글오글 쫓겨서 몰려들어 간다.\n",
      "🔸 Reference: 그 뒤로 게 딱지 같은 집들이 오글오글 쫓겨서 몰려들어 간다.\n"
     ]
    },
    {
     "name": "stderr",
     "output_type": "stream",
     "text": [
      "\r",
      " 14%|█▍        | 27/192 [00:36<01:38,  1.67it/s]"
     ]
    },
    {
     "name": "stdout",
     "output_type": "stream",
     "text": [
      "\n",
      "🔹 Predicted: 그리고 그의 옷이 땀에 배어 어룽어룽하니 말라진 것을 보았다.\n",
      "🔸 Reference: 그리고 그의 옷이 땀에 배어 어룽어룽하니 말라진 것을 보았다.\n"
     ]
    },
    {
     "name": "stderr",
     "output_type": "stream",
     "text": [
      "\r",
      " 15%|█▍        | 28/192 [00:37<01:28,  1.86it/s]"
     ]
    },
    {
     "name": "stdout",
     "output_type": "stream",
     "text": [
      "\n",
      "🔹 Predicted: 춘우는 자기 아버지가 약주 취하신 것을 알았다.\n",
      "🔸 Reference: 춘우는 자기 아버지가 약주 취하신 것을 알았다.\n"
     ]
    },
    {
     "name": "stderr",
     "output_type": "stream",
     "text": [
      "\r",
      " 15%|█▌        | 29/192 [00:38<01:44,  1.55it/s]"
     ]
    },
    {
     "name": "stdout",
     "output_type": "stream",
     "text": [
      "\n",
      "🔹 Predicted:  जिर्वाव व्च्वंजाव पोजिम्या 얼굴이 화끈하였다.\n",
      "🔸 Reference: 찌르릉 하고 창자에 퍼지며 얼굴이 화끈하였다.\n"
     ]
    },
    {
     "name": "stderr",
     "output_type": "stream",
     "text": [
      "\r",
      " 16%|█▌        | 30/192 [00:38<01:40,  1.62it/s]"
     ]
    },
    {
     "name": "stdout",
     "output_type": "stream",
     "text": [
      "\n",
      "🔹 Predicted: 바람은 파도 소리처럼 쏴아쏴아 하고 머리 맡에서 뒤설렌다.\n",
      "🔸 Reference: 바람은 파도 소리처럼 쏴아쏴아 하고 머리 맡에서 뒤설렌다.\n"
     ]
    },
    {
     "name": "stderr",
     "output_type": "stream",
     "text": [
      "\r",
      " 16%|█▌        | 31/192 [00:39<01:31,  1.76it/s]"
     ]
    },
    {
     "name": "stdout",
     "output_type": "stream",
     "text": [
      "\n",
      "🔹 Predicted:  छौनौ에게 이 모든 사정의 말을 하여 버릴까\n",
      "🔸 Reference: 춘우에게 이 모든 사정의 말을 하여 버릴까.\n"
     ]
    },
    {
     "name": "stderr",
     "output_type": "stream",
     "text": [
      "\r",
      " 17%|█▋        | 32/192 [00:39<01:27,  1.84it/s]"
     ]
    },
    {
     "name": "stdout",
     "output_type": "stream",
     "text": [
      "\n",
      "🔹 Predicted: 길 가는 사람이 걱정을 하리만큼 그의 걸음은 황급하였다.\n",
      "🔸 Reference: 길 가는 사람이 걱정을 하리만큼 그의 걸음은 황급하였다.\n"
     ]
    },
    {
     "name": "stderr",
     "output_type": "stream",
     "text": [
      "\r",
      " 17%|█▋        | 33/192 [00:40<01:33,  1.70it/s]"
     ]
    },
    {
     "name": "stdout",
     "output_type": "stream",
     "text": [
      "\n",
      "🔹 Predicted: 선비는 간난이가 저렇게 늦게 돌아올 때마다 무엇을 깊이 생각하는 것이 수상스러웠다.\n",
      "🔸 Reference: 선비는 간난이가 저렇게 늦게 돌아올 때마다 무엇을 깊이 생각하는 것이 수상스러웠다.\n"
     ]
    },
    {
     "name": "stderr",
     "output_type": "stream",
     "text": [
      "\r",
      " 18%|█▊        | 34/192 [00:40<01:21,  1.94it/s]"
     ]
    },
    {
     "name": "stdout",
     "output_type": "stream",
     "text": [
      "\n",
      "🔹 Predicted:  부엌은 아름답게 장식되었습니다.\n",
      "🔸 Reference: 부엌은 아름답게 장식되었습니다.\n"
     ]
    },
    {
     "name": "stderr",
     "output_type": "stream",
     "text": [
      "\r",
      " 18%|█▊        | 35/192 [00:41<01:20,  1.96it/s]"
     ]
    },
    {
     "name": "stdout",
     "output_type": "stream",
     "text": [
      "\n",
      "🔹 Predicted: 신철이는 할멈이 깨었으므로 그만 낙망을 하였다.\n",
      "🔸 Reference: 신철이는 할멈이 깨었으므로 그만 낙망을 하였다.\n"
     ]
    },
    {
     "name": "stderr",
     "output_type": "stream",
     "text": [
      "\r",
      " 19%|█▉        | 36/192 [00:41<01:19,  1.96it/s]"
     ]
    },
    {
     "name": "stdout",
     "output_type": "stream",
     "text": [
      "\n",
      "🔹 Predicted: 磨きつきの 얼굴を 쳐들고 첫째의 눈치를 살살 본다.\n",
      "🔸 Reference: 납작한 얼굴을 쳐들고 첫째의 눈치를 살살 본다.\n"
     ]
    },
    {
     "name": "stderr",
     "output_type": "stream",
     "text": [
      "\r",
      " 19%|█▉        | 37/192 [00:42<01:24,  1.83it/s]"
     ]
    },
    {
     "name": "stdout",
     "output_type": "stream",
     "text": [
      "\n",
      "🔹 Predicted: 아담과 그 아내가 여호와 하나님의 낯을 피하여 동산 나무 사이에 숨은지라\n",
      "🔸 Reference: 아담과 그 아내가 여호와 하나님의 낯을 피하여 동산 나무 사이에 숨은지라\n"
     ]
    },
    {
     "name": "stderr",
     "output_type": "stream",
     "text": [
      "\r",
      " 20%|█▉        | 38/192 [00:42<01:11,  2.16it/s]"
     ]
    },
    {
     "name": "stdout",
     "output_type": "stream",
     "text": [
      "\n",
      "🔹 Predicted:  나은 두 번째 그에게 물었습니다.\n",
      "🔸 Reference: 나는 두 번째 그에게 물었습니다.\n"
     ]
    },
    {
     "name": "stderr",
     "output_type": "stream",
     "text": [
      "\r",
      " 20%|██        | 39/192 [00:50<06:57,  2.73s/it]"
     ]
    },
    {
     "name": "stdout",
     "output_type": "stream",
     "text": [
      "\n",
      "🔹 Predicted:  ಕರರರರರರರರರರರರರರರರರರರರರರರರರರರರರರರರರರರರರರರರರರರರರರರರರರರರರರರರರರರರರರರರರರರರರರರರರರರರರರರರರರರರರರರರರರರರರರರರರರರರರರರರರರರರರರರರರರರರರರರರರರರರರರರರರರರರರರರರರರರರರರರರರರರರರರರರರರರರರರರರರರರರರರರರರರರರರರರರರರರರರರರರರರರರರರರರರರರರರರರರರರರರರರರರರರರರರರರರರರರರರ\n",
      "🔸 Reference: 무소식이 희소식이다\n"
     ]
    },
    {
     "name": "stderr",
     "output_type": "stream",
     "text": [
      "\r",
      " 21%|██        | 40/192 [00:50<05:09,  2.04s/it]"
     ]
    },
    {
     "name": "stdout",
     "output_type": "stream",
     "text": [
      "\n",
      "🔹 Predicted:  그는 대답 대신에 늘 이렇게 웃는 것이 버릇이다.\n",
      "🔸 Reference: 그는 대답 대신에 늘 이렇게 웃는 것이 버릇이다.\n"
     ]
    },
    {
     "name": "stderr",
     "output_type": "stream",
     "text": [
      "\r",
      " 21%|██▏       | 41/192 [00:51<04:01,  1.60s/it]"
     ]
    },
    {
     "name": "stdout",
     "output_type": "stream",
     "text": [
      "\n",
      "🔹 Predicted: 대저 너희가 지식을 미워하며 여호와 경외하기를 즐거워하지 아니하며\n",
      "🔸 Reference: 대저 너희가 지식을 미워하며 여호와 경외하기를 즐거워하지 아니하며\n"
     ]
    },
    {
     "name": "stderr",
     "output_type": "stream",
     "text": [
      "\r",
      " 22%|██▏       | 42/192 [00:51<02:57,  1.18s/it]"
     ]
    },
    {
     "name": "stdout",
     "output_type": "stream",
     "text": [
      "\n",
      "🔹 Predicted: 경기 시작됐습니다.\n",
      "🔸 Reference: 경기 시작됐습니다.\n"
     ]
    },
    {
     "name": "stderr",
     "output_type": "stream",
     "text": [
      "\r",
      " 22%|██▏       | 43/192 [00:52<02:35,  1.05s/it]"
     ]
    },
    {
     "name": "stdout",
     "output_type": "stream",
     "text": [
      "\n",
      "🔹 Predicted: 선비는 육백삼호인 가마 곁으로 와서 동무의 어깨를 가볍게 쳤다.\n",
      "🔸 Reference: 선비는 육백삼호인 가마 곁으로 와서 동무의 어깨를 가볍게 쳤다.\n"
     ]
    },
    {
     "name": "stderr",
     "output_type": "stream",
     "text": [
      "\r",
      " 23%|██▎       | 44/192 [00:52<02:11,  1.12it/s]"
     ]
    },
    {
     "name": "stdout",
     "output_type": "stream",
     "text": [
      "\n",
      "🔹 Predicted: 그래서 간난 어머니는 눈을 둥그렇게 뜨고 눈치를 살폈다.\n",
      "🔸 Reference: 그래서 간난 어머니는 눈을 둥그렇게 뜨고 눈치를 살폈다.\n"
     ]
    },
    {
     "name": "stderr",
     "output_type": "stream",
     "text": [
      "\r",
      " 23%|██▎       | 45/192 [00:53<01:55,  1.27it/s]"
     ]
    },
    {
     "name": "stdout",
     "output_type": "stream",
     "text": [
      "\n",
      "🔹 Predicted: 그러자 엉엉 하고 우는 개똥이의 곡성을 들은 듯싶다.\n",
      "🔸 Reference: 그러자 엉엉 하고 우는 개똥이의 곡성을 들은 듯싶다.\n"
     ]
    },
    {
     "name": "stderr",
     "output_type": "stream",
     "text": [
      "\r",
      " 24%|██▍       | 46/192 [00:54<01:45,  1.38it/s]"
     ]
    },
    {
     "name": "stdout",
     "output_type": "stream",
     "text": [
      "\n",
      "🔹 Predicted: 그러나 무엇이라고 꼭 집어대어 철수와 같이 술술 지껄일수는 없었다.\n",
      "🔸 Reference: 그러나 무엇이라고 꼭 집어대어 철수와 같이 술술 지껄일수는 없었다.\n"
     ]
    },
    {
     "name": "stderr",
     "output_type": "stream",
     "text": [
      "\r",
      " 24%|██▍       | 47/192 [01:02<07:04,  2.93s/it]"
     ]
    },
    {
     "name": "stdout",
     "output_type": "stream",
     "text": [
      "\n",
      "🔹 Predicted:  ಕೈತತತತತತತತತತತತತತತತತತತತತತತತತತತತತತತತತತತತತತತತತತತತತತತತತತತತತತತತತತತತತತತತತತತತತತತತತತತತತತತತತತತತತತತತತತತತತತತತತತತತತತತತತತತತತತತತತತತತತತತತತತತತತತತತತತತತತತತತತತತತತತತತತತತತತತತತತತತತತತತತತತತತತತತತತತತತತತತತತತತತತತತತತತತತತತತತತತತತತತತತತತತತತತತತತತತತತತತತತತತತ\n",
      "🔸 Reference: 고난의 시기에 동요하지 않는 것은 진정 칭찬받을 만한 뛰어난 인물의 증거다.\n"
     ]
    },
    {
     "name": "stderr",
     "output_type": "stream",
     "text": [
      "\r",
      " 25%|██▌       | 48/192 [01:02<05:17,  2.20s/it]"
     ]
    },
    {
     "name": "stdout",
     "output_type": "stream",
     "text": [
      "\n",
      "🔹 Predicted: 영신은 다시 부르짖듯이 신앙의 대상자에게 호소한다.\n",
      "🔸 Reference: 영신은 다시 부르짖듯이 신앙의 대상자에게 호소한다.\n"
     ]
    },
    {
     "name": "stderr",
     "output_type": "stream",
     "text": [
      "\r",
      " 26%|██▌       | 49/192 [01:03<04:07,  1.73s/it]"
     ]
    },
    {
     "name": "stdout",
     "output_type": "stream",
     "text": [
      "\n",
      "🔹 Predicted: 그리고 선비의 그 고운 얼굴이 미소를 띠고 지나치는 것을 그는 확실히 보았다.\n",
      "🔸 Reference: 그리고 선비의 그 고운 얼굴이 미소를 띠고 지나치는 것을 그는 확실히 보았다.\n"
     ]
    },
    {
     "name": "stderr",
     "output_type": "stream",
     "text": [
      "\r",
      " 26%|██▌       | 50/192 [01:03<03:12,  1.36s/it]"
     ]
    },
    {
     "name": "stdout",
     "output_type": "stream",
     "text": [
      "\n",
      "🔹 Predicted:  나의 교훈을 받지 아니하고 나의 모든 책망을 업신여겼음이라\n",
      "🔸 Reference: 나의 교훈을 받지 아니하고 나의 모든 책망을 업신여겼음이라\n"
     ]
    },
    {
     "name": "stderr",
     "output_type": "stream",
     "text": [
      "\r",
      " 27%|██▋       | 51/192 [01:11<07:53,  3.36s/it]"
     ]
    },
    {
     "name": "stdout",
     "output_type": "stream",
     "text": [
      "\n",
      "🔹 Predicted:  खेचनेःव्र्व्र्व्र्व्र्व्र्व्र्व्र्व्र्व्र्व्र्व्र्व्र्व्र्व्र्व्र्व्र्व्र्व्र्व्र्व्र्व्र्व्र्व्र्व्र्व्र्व्र्व्र्व्र्व्र्व्र्व्र्व्र्व्र्व्र्व्र्व्र्व्र्व्र्व्र्व्र्व्र्व्र्व्र्व्र्व्र्व्र्व्र्व्र्व्र्व्र्व्र्व्र्व्र्व्र्व्र्व्र्व्र्व्र्व्र्व्र्व्र्व्र्व्र्व्र्व्र्व्र्व्र्व्र्व्र्व्र्व्र्व्र्व्र्व्र्व्र्व्र्व्र्व्र्व्र्व्र्व्र्व्र्व्र्व्र्व्र्व्र्व्र्\n",
      "🔸 Reference: 개천에서 용 난다\n"
     ]
    },
    {
     "name": "stderr",
     "output_type": "stream",
     "text": [
      "\r",
      " 27%|██▋       | 52/192 [01:12<05:54,  2.53s/it]"
     ]
    },
    {
     "name": "stdout",
     "output_type": "stream",
     "text": [
      "\n",
      "🔹 Predicted: 나는 그 알레그로가 울리어 나오는 순간 마음은 끝까지 긴장되고 흥분되었습니다.\n",
      "🔸 Reference: 나는 그 알레그로가 울리어 나오는 순간 마음은 끝까지 긴장되고 흥분되었습니다.\n"
     ]
    },
    {
     "name": "stderr",
     "output_type": "stream",
     "text": [
      "\r",
      " 28%|██▊       | 53/192 [01:12<04:27,  1.92s/it]"
     ]
    },
    {
     "name": "stdout",
     "output_type": "stream",
     "text": [
      "\n",
      "🔹 Predicted: 선비가 이 공장에 들어온 지가 벌써 거의 일년이 되어 온다.\n",
      "🔸 Reference: 선비가 이 공장에 들어온 지가 벌써 거의 일년이 되어 온다.\n"
     ]
    },
    {
     "name": "stderr",
     "output_type": "stream",
     "text": [
      "\r",
      " 28%|██▊       | 54/192 [01:13<03:27,  1.50s/it]"
     ]
    },
    {
     "name": "stdout",
     "output_type": "stream",
     "text": [
      "\n",
      "🔹 Predicted: 벌써부터 이런 생각을 가졌으나 용이하게 기회를 타는 수가 없었다.\n",
      "🔸 Reference: 벌써부터 이런 생각을 가졌으나 용이하게 기회를 타는 수가 없었다.\n"
     ]
    },
    {
     "name": "stderr",
     "output_type": "stream",
     "text": [
      "\r",
      " 29%|██▊       | 55/192 [01:14<02:47,  1.23s/it]"
     ]
    },
    {
     "name": "stdout",
     "output_type": "stream",
     "text": [
      "\n",
      "🔹 Predicted: 그는 종잇조각과 연필을 내어 신철에게 무엇을 써서 보였다.\n",
      "🔸 Reference: 그는 종잇조각과 연필을 내어 신철에게 무엇을 써서 보였다.\n"
     ]
    },
    {
     "name": "stderr",
     "output_type": "stream",
     "text": [
      "\r",
      " 29%|██▉       | 56/192 [01:14<02:20,  1.03s/it]"
     ]
    },
    {
     "name": "stdout",
     "output_type": "stream",
     "text": [
      "\n",
      "🔹 Predicted: 헌법재판소 재판관은 정당에 가입하거나 정치에 관여할 수 없다.\n",
      "🔸 Reference: 헌법재판소 재판관은 정당에 가입하거나 정치에 관여할 수 없다.\n"
     ]
    },
    {
     "name": "stderr",
     "output_type": "stream",
     "text": [
      "\r",
      " 30%|██▉       | 57/192 [01:15<01:57,  1.15it/s]"
     ]
    },
    {
     "name": "stdout",
     "output_type": "stream",
     "text": [
      "\n",
      "🔹 Predicted: 이번엔 제법 목소리가 패인 남학생의 질문이 들어왔다.\n",
      "🔸 Reference: 이번엔 제법 목소리가 패인 남학생의 질문이 들어왔다.\n"
     ]
    },
    {
     "name": "stderr",
     "output_type": "stream",
     "text": [
      "\r",
      " 30%|███       | 58/192 [01:15<01:41,  1.32it/s]"
     ]
    },
    {
     "name": "stdout",
     "output_type": "stream",
     "text": [
      "\n",
      "🔹 Predicted: 한번의 실패와 영원한 실패를 혼동하지 마라.\n",
      "🔸 Reference: 한번의 실패와 영원한 실패를 혼동하지 마라.\n"
     ]
    },
    {
     "name": "stderr",
     "output_type": "stream",
     "text": [
      "\r",
      " 31%|███       | 59/192 [01:16<01:29,  1.48it/s]"
     ]
    },
    {
     "name": "stdout",
     "output_type": "stream",
     "text": [
      "\n",
      "🔹 Predicted: 방망이 소리는 그가 걸을수록 점점 희미하게 들렸다.\n",
      "🔸 Reference: 방망이 소리는 그가 걸을수록 점점 희미하게 들렸다.\n"
     ]
    },
    {
     "name": "stderr",
     "output_type": "stream",
     "text": [
      "\r",
      " 31%|███▏      | 60/192 [01:16<01:19,  1.66it/s]"
     ]
    },
    {
     "name": "stdout",
     "output_type": "stream",
     "text": [
      "\n",
      "🔹 Predicted: 모든 국민은 학문과 예술의 자유를 가진다.\n",
      "🔸 Reference: 모든 국민은 학문과 예술의 자유를 가진다.\n"
     ]
    },
    {
     "name": "stderr",
     "output_type": "stream",
     "text": [
      "\r",
      " 32%|███▏      | 61/192 [01:17<01:23,  1.56it/s]"
     ]
    },
    {
     "name": "stdout",
     "output_type": "stream",
     "text": [
      "\n",
      "🔹 Predicted: 학생 또는 보호자는 학생 본인에 관한 학교 기록을 언제든지 열람할 권리를 가진다.\n",
      "🔸 Reference: 학생 또는 보호자는 학생 본인에 관한 학교 기록을 언제든지 열람할 권리를 가진다.\n"
     ]
    },
    {
     "name": "stderr",
     "output_type": "stream",
     "text": [
      "\r",
      " 32%|███▏      | 62/192 [01:17<01:10,  1.83it/s]"
     ]
    },
    {
     "name": "stdout",
     "output_type": "stream",
     "text": [
      "\n",
      "🔹 Predicted: 그는 담 밑에 착 붙어 섰다.\n",
      "🔸 Reference: 그는 담 밑에 착 붙어 섰다.\n"
     ]
    },
    {
     "name": "stderr",
     "output_type": "stream",
     "text": [
      "\r",
      " 33%|███▎      | 63/192 [01:17<01:01,  2.08it/s]"
     ]
    },
    {
     "name": "stdout",
     "output_type": "stream",
     "text": [
      "\n",
      "🔹 Predicted: 사랑은 말이지, 소유하는 게 아니야.\n",
      "🔸 Reference: 사랑은 말이지, 소유하는 게 아니야.\n"
     ]
    },
    {
     "name": "stderr",
     "output_type": "stream",
     "text": [
      "\r",
      " 33%|███▎      | 64/192 [01:18<01:00,  2.10it/s]"
     ]
    },
    {
     "name": "stdout",
     "output_type": "stream",
     "text": [
      "\n",
      "🔹 Predicted: 효애는 여전히 뭐라고 소곤소곤 이야기를 하였다.\n",
      "🔸 Reference: 효애는 여전히 뭐라고 소곤소곤 이야기를 하였다.\n"
     ]
    },
    {
     "name": "stderr",
     "output_type": "stream",
     "text": [
      "\r",
      " 34%|███▍      | 65/192 [01:18<00:57,  2.20it/s]"
     ]
    },
    {
     "name": "stdout",
     "output_type": "stream",
     "text": [
      "\n",
      "🔹 Predicted: 점심 뒤에 회원들은 잡담을 하며 잠시 쉬었다.\n",
      "🔸 Reference: 점심 뒤에 회원들은 잡담을 하며 잠시 쉬었다.\n"
     ]
    },
    {
     "name": "stderr",
     "output_type": "stream",
     "text": [
      "\r",
      " 34%|███▍      | 66/192 [01:19<01:04,  1.97it/s]"
     ]
    },
    {
     "name": "stdout",
     "output_type": "stream",
     "text": [
      "\n",
      "🔹 Predicted: 영신은 그제야 그전에 백씨의 집에서 들은 동혁의 말을 되풀이하듯 하였다.\n",
      "🔸 Reference: 영신은 그제야 그전에 백씨의 집에서 들은 동혁의 말을 되풀이하듯 하였다.\n"
     ]
    },
    {
     "name": "stderr",
     "output_type": "stream",
     "text": [
      "\r",
      " 35%|███▍      | 67/192 [01:19<00:58,  2.13it/s]"
     ]
    },
    {
     "name": "stdout",
     "output_type": "stream",
     "text": [
      "\n",
      "🔹 Predicted: 세상에 나의 마음을 알아 주는 사람이 어디 있어야죠.\n",
      "🔸 Reference: 세상에 나의 마음을 알아 주는 사람이 어디 있어야죠.\n"
     ]
    },
    {
     "name": "stderr",
     "output_type": "stream",
     "text": [
      "\r",
      " 35%|███▌      | 68/192 [01:20<00:54,  2.26it/s]"
     ]
    },
    {
     "name": "stdout",
     "output_type": "stream",
     "text": [
      "\n",
      "🔹 Predicted: 부르짖으며 저 혼자 감격하는 것이었다.\n",
      "🔸 Reference: 부르짖으며 저 혼자 감격하는 것이었다.\n"
     ]
    },
    {
     "name": "stderr",
     "output_type": "stream",
     "text": [
      "\r",
      " 36%|███▌      | 69/192 [01:20<01:05,  1.88it/s]"
     ]
    },
    {
     "name": "stdout",
     "output_type": "stream",
     "text": [
      "\n",
      "🔹 Predicted: 두 아들은 방 속에다 죽은 그 아버지의 송장을 제쳐놓고 서로 잡아삼킬 듯이 다투고 있었습니다.\n",
      "🔸 Reference: 두 아들은 방 속에다 죽은 그 아버지의 송장을 제쳐놓고 서로 잡아삼킬 듯이 다투고 있었습니다.\n"
     ]
    },
    {
     "name": "stderr",
     "output_type": "stream",
     "text": [
      "\r",
      " 36%|███▋      | 70/192 [01:21<01:05,  1.87it/s]"
     ]
    },
    {
     "name": "stdout",
     "output_type": "stream",
     "text": [
      "\n",
      "🔹 Predicted: 여자가 뱀에게 말하되 동산 나무의 실과를 우리가 먹을 수 있으나\n",
      "🔸 Reference: 여자가 뱀에게 말하되 동산 나무의 실과를 우리가 먹을 수 있으나\n"
     ]
    },
    {
     "name": "stderr",
     "output_type": "stream",
     "text": [
      "\r",
      " 37%|███▋      | 71/192 [01:21<00:59,  2.05it/s]"
     ]
    },
    {
     "name": "stdout",
     "output_type": "stream",
     "text": [
      "\n",
      "🔹 Predicted: 국가는 국가표준제도를 확립한다.\n",
      "🔸 Reference: 국가는 국가표준제도를 확립한다.\n"
     ]
    },
    {
     "name": "stderr",
     "output_type": "stream",
     "text": [
      "\r",
      " 38%|███▊      | 72/192 [01:22<00:58,  2.06it/s]"
     ]
    },
    {
     "name": "stdout",
     "output_type": "stream",
     "text": [
      "\n",
      "🔹 Predicted: 다른 누구에게도 의지하지 말고 오직 그대 혼자의 힘으로 하라.\n",
      "🔸 Reference: 다른 누구에게도 의지하지 말고 오직 그대 혼자의 힘으로 하라.\n"
     ]
    },
    {
     "name": "stderr",
     "output_type": "stream",
     "text": [
      "\r",
      " 38%|███▊      | 73/192 [01:22<00:57,  2.08it/s]"
     ]
    },
    {
     "name": "stdout",
     "output_type": "stream",
     "text": [
      "\n",
      "🔹 Predicted: 까불이는 의자를 버쩍 들어 옮겨 놔주었다.\n",
      "🔸 Reference: 까불이는 의자를 버쩍 들어 옮겨 놔주었다.\n"
     ]
    },
    {
     "name": "stderr",
     "output_type": "stream",
     "text": [
      "\r",
      " 39%|███▊      | 74/192 [01:23<00:53,  2.20it/s]"
     ]
    },
    {
     "name": "stdout",
     "output_type": "stream",
     "text": [
      "\n",
      "🔹 Predicted: 그가 좋아할 때마다 이런 버릇이 있었다.\n",
      "🔸 Reference: 그가 좋아할 때마다 이런 버릇이 있었다.\n"
     ]
    },
    {
     "name": "stderr",
     "output_type": "stream",
     "text": [
      "\r",
      " 39%|███▉      | 75/192 [01:23<00:52,  2.22it/s]"
     ]
    },
    {
     "name": "stdout",
     "output_type": "stream",
     "text": [
      "\n",
      "🔹 Predicted: 탄핵결정은 공직으로부터 파면함에 그친다.\n",
      "🔸 Reference: 탄핵결정은 공직으로부터 파면함에 그친다.\n"
     ]
    },
    {
     "name": "stderr",
     "output_type": "stream",
     "text": [
      "\r",
      " 40%|███▉      | 76/192 [01:24<00:56,  2.04it/s]"
     ]
    },
    {
     "name": "stdout",
     "output_type": "stream",
     "text": [
      "\n",
      "🔹 Predicted: 한편으로 그가 영신을 될 수 있는 대로 호의로써 이해하려는 것도 물론이다.\n",
      "🔸 Reference: 한편으로 그가 영신을 될 수 있는 대로 호의로써 이해하려는 것도 물론이다.\n"
     ]
    },
    {
     "name": "stderr",
     "output_type": "stream",
     "text": [
      "\r",
      " 40%|████      | 77/192 [01:24<01:00,  1.90it/s]"
     ]
    },
    {
     "name": "stdout",
     "output_type": "stream",
     "text": [
      "\n",
      "🔹 Predicted: 선비는 얼굴이 뻘개서 가마에서 뽑혀 나오는 실끝을 들여다보았다.\n",
      "🔸 Reference: 선비는 얼굴이 뻘개서 가마에서 뽑혀 나오는 실끝을 들여다보았다.\n"
     ]
    },
    {
     "name": "stderr",
     "output_type": "stream",
     "text": [
      "\r",
      " 41%|████      | 78/192 [01:25<01:00,  1.88it/s]"
     ]
    },
    {
     "name": "stdout",
     "output_type": "stream",
     "text": [
      "\n",
      "🔹 Predicted: 무척 배가 고팠음에도 당분간은 아무것도 먹지 않기로 했다.\n",
      "🔸 Reference: 무척 배가 고팠음에도 당분간은 아무것도 먹지 않기로 했다.\n"
     ]
    },
    {
     "name": "stderr",
     "output_type": "stream",
     "text": [
      "\r",
      " 41%|████      | 79/192 [01:25<00:59,  1.89it/s]"
     ]
    },
    {
     "name": "stdout",
     "output_type": "stream",
     "text": [
      "\n",
      "🔹 Predicted: 신철이는 영철의 우는 소리를 들으며 문밖을 나섰다.\n",
      "🔸 Reference: 신철이는 영철의 우는 소리를 들으며 문밖을 나섰다.\n"
     ]
    },
    {
     "name": "stderr",
     "output_type": "stream",
     "text": [
      "\r",
      " 42%|████▏     | 80/192 [01:26<01:01,  1.83it/s]"
     ]
    },
    {
     "name": "stdout",
     "output_type": "stream",
     "text": [
      "\n",
      "🔹 Predicted: 혹은 사오십 년 뒤에 조선을 무대로 생겨날 이야기라고 생각하여도 좋다.\n",
      "🔸 Reference: 혹은 사오십 년 뒤에 조선을 무대로 생겨날 이야기라고 생각하여도 좋다.\n"
     ]
    },
    {
     "name": "stderr",
     "output_type": "stream",
     "text": [
      "\r",
      " 42%|████▏     | 81/192 [01:26<00:49,  2.23it/s]"
     ]
    },
    {
     "name": "stdout",
     "output_type": "stream",
     "text": [
      "\n",
      "🔹 Predicted: 어디서 오셨어요?\n",
      "🔸 Reference: 어디서 오셨어요?\n"
     ]
    },
    {
     "name": "stderr",
     "output_type": "stream",
     "text": [
      "\r",
      " 43%|████▎     | 82/192 [01:27<00:50,  2.18it/s]"
     ]
    },
    {
     "name": "stdout",
     "output_type": "stream",
     "text": [
      "\n",
      "🔹 Predicted: 덕호는 문 안에 선 채 선비 어머니를 바라보며 걱정을 한다.\n",
      "🔸 Reference: 덕호는 문 안에 선 채 선비 어머니를 바라보며 걱정을 한다.\n"
     ]
    },
    {
     "name": "stderr",
     "output_type": "stream",
     "text": [
      "\r",
      " 43%|████▎     | 83/192 [01:27<00:54,  2.01it/s]"
     ]
    },
    {
     "name": "stdout",
     "output_type": "stream",
     "text": [
      "\n",
      "🔹 Predicted: 그리고 무어라고 손질을 두어 번 치고 모밀 밭뒤로 사라진다.\n",
      "🔸 Reference: 그리고 무어라고 손질을 두어 번 치고 모밀 밭뒤로 사라진다.\n"
     ]
    },
    {
     "name": "stderr",
     "output_type": "stream",
     "text": [
      "\r",
      " 44%|████▍     | 84/192 [01:28<00:56,  1.90it/s]"
     ]
    },
    {
     "name": "stdout",
     "output_type": "stream",
     "text": [
      "\n",
      "🔹 Predicted: 선비는 씨아틀도 만지지 않으면 앞이 허전한 것 같아서 그냥 붙들고 있었다.\n",
      "🔸 Reference: 선비는 씨아틀도 만지지 않으면 앞이 허전한 것 같아서 그냥 붙들고 있었다.\n"
     ]
    },
    {
     "name": "stderr",
     "output_type": "stream",
     "text": [
      "\r",
      " 44%|████▍     | 85/192 [01:28<00:57,  1.85it/s]"
     ]
    },
    {
     "name": "stdout",
     "output_type": "stream",
     "text": [
      "\n",
      "🔹 Predicted: 동시에 잠깐 잊었던 아픔이 그의 전신을 못 견디게 습격하였다.\n",
      "🔸 Reference: 동시에 잠깐 잊었던 아픔이 그의 전신을 못 견디게 습격하였다.\n"
     ]
    },
    {
     "name": "stderr",
     "output_type": "stream",
     "text": [
      "\r",
      " 45%|████▍     | 86/192 [01:29<01:03,  1.67it/s]"
     ]
    },
    {
     "name": "stdout",
     "output_type": "stream",
     "text": [
      "\n",
      "🔹 Predicted: 첫째는 무정처하고 걷다가 다시 덕호의 집 주위를 한 바퀴 돌아서 그의 집으로 왔다.\n",
      "🔸 Reference: 첫째는 무정처하고 걷다가 다시 덕호의 집 주위를 한 바퀴 돌아서 그의 집으로 왔다.\n"
     ]
    },
    {
     "name": "stderr",
     "output_type": "stream",
     "text": [
      "\r",
      " 45%|████▌     | 87/192 [01:30<00:57,  1.82it/s]"
     ]
    },
    {
     "name": "stdout",
     "output_type": "stream",
     "text": [
      "\n",
      "🔹 Predicted: 사회 교화자로서의 의견을 말씀해주십쇼.\"\n",
      "🔸 Reference: 사회 교화자로서의 의견을 말씀해주십쇼.\"\n"
     ]
    },
    {
     "name": "stderr",
     "output_type": "stream",
     "text": [
      "\r",
      " 46%|████▌     | 88/192 [01:30<00:52,  1.97it/s]"
     ]
    },
    {
     "name": "stdout",
     "output_type": "stream",
     "text": [
      "\n",
      "🔹 Predicted: 그는 마침내 구역질을 욱 하고 하였다.\n",
      "🔸 Reference: 그는 마침내 구역질을 욱 하고 하였다.\n"
     ]
    },
    {
     "name": "stderr",
     "output_type": "stream",
     "text": [
      "\r",
      " 46%|████▋     | 89/192 [01:31<00:53,  1.92it/s]"
     ]
    },
    {
     "name": "stdout",
     "output_type": "stream",
     "text": [
      "\n",
      "🔹 Predicted: 장로와 다른 교인들이 들어와 병원으로 가기를 번차례로 권하였다.\n",
      "🔸 Reference: 장로와 다른 교인들이 들어와 병원으로 가기를 번차례로 권하였다.\n"
     ]
    },
    {
     "name": "stderr",
     "output_type": "stream",
     "text": [
      "\r",
      " 47%|████▋     | 90/192 [01:31<00:53,  1.89it/s]"
     ]
    },
    {
     "name": "stdout",
     "output_type": "stream",
     "text": [
      "\n",
      "🔹 Predicted: 그래서 그는 잘못 찾아왔는가 하여 도로 나와서 주저하다가 다시 들어갔다.\n",
      "🔸 Reference: 그래서 그는 잘못 찾아왔는가 하여 도로 나와서 주저하다가 다시 들어갔다.\n"
     ]
    },
    {
     "name": "stderr",
     "output_type": "stream",
     "text": [
      "\r",
      " 47%|████▋     | 91/192 [01:31<00:44,  2.29it/s]"
     ]
    },
    {
     "name": "stdout",
     "output_type": "stream",
     "text": [
      "\n",
      "🔹 Predicted:  나은 아무 걱정도 없이\n",
      "🔸 Reference: 나는 아무 걱정도 없이\n"
     ]
    },
    {
     "name": "stderr",
     "output_type": "stream",
     "text": [
      "\r",
      " 48%|████▊     | 92/192 [01:32<00:42,  2.35it/s]"
     ]
    },
    {
     "name": "stdout",
     "output_type": "stream",
     "text": [
      "\n",
      "🔹 Predicted: 평안도 어느 산 깊은 금덤판.\n",
      "🔸 Reference: 평안도 어느 산 깊은 금덤판.\n"
     ]
    },
    {
     "name": "stderr",
     "output_type": "stream",
     "text": [
      "\r",
      " 48%|████▊     | 93/192 [01:32<00:51,  1.93it/s]"
     ]
    },
    {
     "name": "stdout",
     "output_type": "stream",
     "text": [
      "\n",
      "🔹 Predicted: 비록 고구라 양복일 망정 노박이로 비를 맞으며 김첨지를 뒤쫓아 나왔으랴.\n",
      "🔸 Reference: 비록 고구라 양복일 망정 노박이로 비를 맞으며 김첨지를 뒤쫓아 나왔으랴.\n"
     ]
    },
    {
     "name": "stderr",
     "output_type": "stream",
     "text": [
      "\r",
      " 49%|████▉     | 94/192 [01:33<00:50,  1.96it/s]"
     ]
    },
    {
     "name": "stdout",
     "output_type": "stream",
     "text": [
      "\n",
      "🔹 Predicted: 팔을 놀리면 팔이 아프고 다리를 놀리면 다리가 아팠다.\n",
      "🔸 Reference: 팔을 놀리면 팔이 아프고 다리를 놀리면 다리가 아팠다.\n"
     ]
    },
    {
     "name": "stderr",
     "output_type": "stream",
     "text": [
      "\r",
      " 49%|████▉     | 95/192 [01:33<00:50,  1.92it/s]"
     ]
    },
    {
     "name": "stdout",
     "output_type": "stream",
     "text": [
      "\n",
      "🔹 Predicted: 그가 방문을 소리 없이 열고 나서니 옆집에서는 시계가 새로 두시를 친다.\n",
      "🔸 Reference: 그가 방문을 소리 없이 열고 나서니 옆집에서는 시계가 새로 두시를 친다.\n"
     ]
    },
    {
     "name": "stderr",
     "output_type": "stream",
     "text": [
      "\r",
      " 50%|█████     | 96/192 [01:34<00:47,  2.02it/s]"
     ]
    },
    {
     "name": "stdout",
     "output_type": "stream",
     "text": [
      "\n",
      "🔹 Predicted: 영숙은 다시 춘우의 마음을 헤아려 보았다.\n",
      "🔸 Reference: 영숙은 다시 춘우의 마음을 헤아려 보았다.\n"
     ]
    },
    {
     "name": "stderr",
     "output_type": "stream",
     "text": [
      "\r",
      " 51%|█████     | 97/192 [01:35<00:51,  1.83it/s]"
     ]
    },
    {
     "name": "stdout",
     "output_type": "stream",
     "text": [
      "\n",
      "🔹 Predicted: 본래부터 뼈만 남았던 그가 한층 더하여 마치 해골을 대하는 듯하였다.\n",
      "🔸 Reference: 본래부터 뼈만 남았던 그가 한층 더하여 마치 해골을 대하는 듯하였다.\n"
     ]
    },
    {
     "name": "stderr",
     "output_type": "stream",
     "text": [
      "\r",
      " 51%|█████     | 98/192 [01:35<00:46,  2.04it/s]"
     ]
    },
    {
     "name": "stdout",
     "output_type": "stream",
     "text": [
      "\n",
      "🔹 Predicted:  그애들아야 아무것도 얻을 것이 없다.\n",
      "🔸 Reference: 그래봐야 아무것도 얻을 것이 없다.\n"
     ]
    },
    {
     "name": "stderr",
     "output_type": "stream",
     "text": [
      "\r",
      " 52%|█████▏    | 99/192 [01:36<00:50,  1.85it/s]"
     ]
    },
    {
     "name": "stdout",
     "output_type": "stream",
     "text": [
      "\n",
      "🔹 Predicted: 고즈넉히 일어서서 피아노 앞에 가서 그의 어깨에 가만히 손을 얹었습니다.\n",
      "🔸 Reference: 고즈넉히 일어서서 피아노 앞에 가서 그의 어깨에 가만히 손을 얹었습니다.\n"
     ]
    },
    {
     "name": "stderr",
     "output_type": "stream",
     "text": [
      "\r",
      " 52%|█████▏    | 100/192 [01:36<00:47,  1.93it/s]"
     ]
    },
    {
     "name": "stdout",
     "output_type": "stream",
     "text": [
      "\n",
      "🔹 Predicted: 난장보살은 호미로 땅을 치며 이렇게 소리쳤다.\n",
      "🔸 Reference: 난장보살은 호미로 땅을 치며 이렇게 소리쳤다.\n"
     ]
    },
    {
     "name": "stderr",
     "output_type": "stream",
     "text": [
      "\r",
      " 53%|█████▎    | 101/192 [01:36<00:40,  2.25it/s]"
     ]
    },
    {
     "name": "stdout",
     "output_type": "stream",
     "text": [
      "\n",
      "🔹 Predicted: 슬기론 인민의 이 영광\n",
      "🔸 Reference: 슬기론 인민의 이 영광\n"
     ]
    },
    {
     "name": "stderr",
     "output_type": "stream",
     "text": [
      "\r",
      " 53%|█████▎    | 102/192 [01:37<00:39,  2.28it/s]"
     ]
    },
    {
     "name": "stdout",
     "output_type": "stream",
     "text": [
      "\n",
      "🔹 Predicted: 그는 이리저리 피하면서 길 한 옆으로 걸어갔다.\n",
      "🔸 Reference: 그는 이리저리 피하면서 길 한 옆으로 걸어갔다.\n"
     ]
    },
    {
     "name": "stderr",
     "output_type": "stream",
     "text": [
      "\r",
      " 54%|█████▎    | 103/192 [01:37<00:44,  2.00it/s]"
     ]
    },
    {
     "name": "stdout",
     "output_type": "stream",
     "text": [
      "\n",
      "🔹 Predicted: 그리고 그가 걸어갈 장차의 앞길까지도 저 길가같이 훤하게 내다보였다.\n",
      "🔸 Reference: 그리고 그가 걸어갈 장차의 앞길까지도 저 길가같이 훤하게 내다보였다.\n"
     ]
    },
    {
     "name": "stderr",
     "output_type": "stream",
     "text": [
      "\r",
      " 54%|█████▍    | 104/192 [01:38<00:46,  1.88it/s]"
     ]
    },
    {
     "name": "stdout",
     "output_type": "stream",
     "text": [
      "\n",
      "🔹 Predicted: 아까 옥점이가 그의 아버지에게 양복쟁이를 소개하던 것을 얼핏 생각하였다.\n",
      "🔸 Reference: 아까 옥점이가 그의 아버지에게 양복쟁이를 소개하던 것을 얼핏 생각하였다.\n"
     ]
    },
    {
     "name": "stderr",
     "output_type": "stream",
     "text": [
      "\r",
      " 55%|█████▍    | 105/192 [01:38<00:40,  2.17it/s]"
     ]
    },
    {
     "name": "stdout",
     "output_type": "stream",
     "text": [
      "\n",
      "🔹 Predicted: 실행할 당연한 일이건만\n",
      "🔸 Reference: 실행할 당연한 일이건만\n"
     ]
    },
    {
     "name": "stderr",
     "output_type": "stream",
     "text": [
      "\r",
      " 55%|█████▌    | 106/192 [01:39<00:35,  2.44it/s]"
     ]
    },
    {
     "name": "stdout",
     "output_type": "stream",
     "text": [
      "\n",
      "🔹 Predicted: 세 살 버릇 여든까지 간다\n",
      "🔸 Reference: 세 살 버릇 여든까지 간다\n"
     ]
    },
    {
     "name": "stderr",
     "output_type": "stream",
     "text": [
      "\r",
      " 56%|█████▌    | 107/192 [01:39<00:36,  2.30it/s]"
     ]
    },
    {
     "name": "stdout",
     "output_type": "stream",
     "text": [
      "\n",
      "🔹 Predicted: 비 맞은 나뭇가지 새 움이 뾰죽뾰죽.\n",
      "🔸 Reference: 비 맞은 나뭇가지 새 움이 뾰죽뾰죽.\n"
     ]
    },
    {
     "name": "stderr",
     "output_type": "stream",
     "text": [
      "\r",
      " 56%|█████▋    | 108/192 [01:39<00:33,  2.52it/s]"
     ]
    },
    {
     "name": "stdout",
     "output_type": "stream",
     "text": [
      "\n",
      "🔹 Predicted: 난 집에 들어가자마자 체포됐어\n",
      "🔸 Reference: 난 집에 들어가자마자 체포됐어\n"
     ]
    },
    {
     "name": "stderr",
     "output_type": "stream",
     "text": [
      "\r",
      " 57%|█████▋    | 109/192 [01:40<00:36,  2.27it/s]"
     ]
    },
    {
     "name": "stdout",
     "output_type": "stream",
     "text": [
      "\n",
      "🔹 Predicted: 성공의 비결은 단 한 가지, 잘 할 수 있는 일에 광적으로 집중하는 것이다.\n",
      "🔸 Reference: 성공의 비결은 단 한 가지, 잘 할 수 있는 일에 광적으로 집중하는 것이다.\n"
     ]
    },
    {
     "name": "stderr",
     "output_type": "stream",
     "text": [
      "\r",
      " 57%|█████▋    | 110/192 [01:41<00:43,  1.87it/s]"
     ]
    },
    {
     "name": "stdout",
     "output_type": "stream",
     "text": [
      "\n",
      "🔹 Predicted: 늙고 불쌍한 너의 모는 죽지 못하여 모진 목숨을 그럭저럭 부지하여 간다.\n",
      "🔸 Reference: 늙고 불쌍한 너의 모는 죽지 못하여 모진 목숨을 그럭저럭 부지하여 간다.\n"
     ]
    },
    {
     "name": "stderr",
     "output_type": "stream",
     "text": [
      "\r",
      " 58%|█████▊    | 111/192 [01:41<00:45,  1.76it/s]"
     ]
    },
    {
     "name": "stdout",
     "output_type": "stream",
     "text": [
      "\n",
      "🔹 Predicted: 신철이는 목구멍이 알알하도록 먼지를 먹으며 아스팔트 위를 힘없이 걸었다.\n",
      "🔸 Reference: 신철이는 목구멍이 알알하도록 먼지를 먹으며 아스팔트 위를 힘없이 걸었다.\n"
     ]
    },
    {
     "name": "stderr",
     "output_type": "stream",
     "text": [
      "\r",
      " 58%|█████▊    | 112/192 [01:42<00:37,  2.11it/s]"
     ]
    },
    {
     "name": "stdout",
     "output_type": "stream",
     "text": [
      "\n",
      "🔹 Predicted: 백 모의 아들인가?\n",
      "🔸 Reference: 백 모의 아들인가?\n"
     ]
    },
    {
     "name": "stderr",
     "output_type": "stream",
     "text": [
      "\r",
      " 59%|█████▉    | 113/192 [01:42<00:38,  2.06it/s]"
     ]
    },
    {
     "name": "stdout",
     "output_type": "stream",
     "text": [
      "\n",
      "🔹 Predicted: 골짜구니가 울리도록 커다랗게 기침을 하였다.\n",
      "🔸 Reference: 골짜구니가 울리도록 커다랗게 기침을 하였다.\n"
     ]
    },
    {
     "name": "stderr",
     "output_type": "stream",
     "text": [
      "\r",
      " 59%|█████▉    | 114/192 [01:43<00:38,  2.00it/s]"
     ]
    },
    {
     "name": "stdout",
     "output_type": "stream",
     "text": [
      "\n",
      "🔹 Predicted: 집안은 잠깐 무슨 큰 파란이 일어나려는 것 같이 엄숙하고 고요하다.\n",
      "🔸 Reference: 집안은 잠깐 무슨 큰 파란이 일어나려는 것 같이 엄숙하고 고요하다.\n"
     ]
    },
    {
     "name": "stderr",
     "output_type": "stream",
     "text": [
      "\r",
      " 60%|█████▉    | 115/192 [01:43<00:41,  1.86it/s]"
     ]
    },
    {
     "name": "stdout",
     "output_type": "stream",
     "text": [
      "\n",
      "🔹 Predicted: 그는 이 우중에 우장도 없이 그 먼 곳을 철벅거리고 가기가 싫었음일까?\n",
      "🔸 Reference: 그는 이 우중에 우장도 없이 그 먼 곳을 철벅거리고 가기가 싫었음일까?\n"
     ]
    },
    {
     "name": "stderr",
     "output_type": "stream",
     "text": [
      "\r",
      " 60%|██████    | 116/192 [01:43<00:34,  2.23it/s]"
     ]
    },
    {
     "name": "stdout",
     "output_type": "stream",
     "text": [
      "\n",
      "🔹 Predicted:  남산 위에 저 소나무\n",
      "🔸 Reference: 남산 위에 저 소나무\n"
     ]
    },
    {
     "name": "stderr",
     "output_type": "stream",
     "text": [
      "\r",
      " 61%|██████    | 117/192 [01:44<00:28,  2.67it/s]"
     ]
    },
    {
     "name": "stdout",
     "output_type": "stream",
     "text": [
      "\n",
      "🔹 Predicted: 다시 말씀해 주세요\n",
      "🔸 Reference: 다시 말씀해 주세요\n"
     ]
    },
    {
     "name": "stderr",
     "output_type": "stream",
     "text": [
      "\r",
      " 61%|██████▏   | 118/192 [01:44<00:25,  2.85it/s]"
     ]
    },
    {
     "name": "stdout",
     "output_type": "stream",
     "text": [
      "\n",
      "🔹 Predicted: 이런 놈 죽었으면 좋았겠어\n",
      "🔸 Reference: 이런 놈 죽었으면 좋았겠어\n"
     ]
    },
    {
     "name": "stderr",
     "output_type": "stream",
     "text": [
      "\r",
      " 62%|██████▏   | 119/192 [01:44<00:24,  2.98it/s]"
     ]
    },
    {
     "name": "stdout",
     "output_type": "stream",
     "text": [
      "\n",
      "🔹 Predicted: 성례시켜 달라지 뭘 어떡해\n",
      "🔸 Reference: \"성례시켜 달라지 뭘 어떡해.\"\n"
     ]
    },
    {
     "name": "stderr",
     "output_type": "stream",
     "text": [
      "\r",
      " 62%|██████▎   | 120/192 [01:45<00:32,  2.25it/s]"
     ]
    },
    {
     "name": "stdout",
     "output_type": "stream",
     "text": [
      "\n",
      "🔹 Predicted: 춘우는 목이 몹시 마름을 깨닫고 약물터로 향하는 좁은 길로 들어섰다.\n",
      "🔸 Reference: 춘우는 목이 몹시 마름을 깨닫고 약물터로 향하는 좁은 길로 들어섰다.\n"
     ]
    },
    {
     "name": "stderr",
     "output_type": "stream",
     "text": [
      "\r",
      " 63%|██████▎   | 121/192 [01:45<00:30,  2.34it/s]"
     ]
    },
    {
     "name": "stdout",
     "output_type": "stream",
     "text": [
      "\n",
      "🔹 Predicted: 다만, 사형을 선고한 경우에는 그러하지 아니하다.\n",
      "🔸 Reference: 다만, 사형을 선고한 경우에는 그러하지 아니하다.\n"
     ]
    },
    {
     "name": "stderr",
     "output_type": "stream",
     "text": [
      "\r",
      " 64%|██████▎   | 122/192 [01:46<00:33,  2.07it/s]"
     ]
    },
    {
     "name": "stdout",
     "output_type": "stream",
     "text": [
      "\n",
      "🔹 Predicted: 자기가 기관실에 앤더슨을 옆에 지키고 서서 같이 나아가기로 하였습니다.\n",
      "🔸 Reference: 자기가 기관실에 앤더슨을 옆에 지키고 서서 같이 나아가기로 하였습니다.\n"
     ]
    },
    {
     "name": "stderr",
     "output_type": "stream",
     "text": [
      "\r",
      " 64%|██████▍   | 123/192 [01:46<00:32,  2.09it/s]"
     ]
    },
    {
     "name": "stdout",
     "output_type": "stream",
     "text": [
      "\n",
      "🔹 Predicted: 덕호의 손길이 그를 후려치는 것으로 알았던 것이다.\n",
      "🔸 Reference: 덕호의 손길이 그를 후려치는 것으로 알았던 것이다.\n"
     ]
    },
    {
     "name": "stderr",
     "output_type": "stream",
     "text": [
      "\r",
      " 65%|██████▍   | 124/192 [01:47<00:29,  2.32it/s]"
     ]
    },
    {
     "name": "stdout",
     "output_type": "stream",
     "text": [
      "\n",
      "🔹 Predicted: 하나님이 주셔서 나와 함께하게 하신 여자\n",
      "🔸 Reference: 하나님이 주셔서 나와 함께하게 하신 여자\n"
     ]
    },
    {
     "name": "stderr",
     "output_type": "stream",
     "text": [
      "\r",
      " 65%|██████▌   | 125/192 [01:47<00:33,  2.01it/s]"
     ]
    },
    {
     "name": "stdout",
     "output_type": "stream",
     "text": [
      "\n",
      "🔹 Predicted: 우리는 두려움의 홍수에 버티기 위해서 끊임없이 용기의 둑을 쌓아야 한다.\n",
      "🔸 Reference: 우리는 두려움의 홍수에 버티기 위해서 끊임없이 용기의 둑을 쌓아야 한다.\n"
     ]
    },
    {
     "name": "stderr",
     "output_type": "stream",
     "text": [
      "\r",
      " 66%|██████▌   | 126/192 [01:48<00:30,  2.18it/s]"
     ]
    },
    {
     "name": "stdout",
     "output_type": "stream",
     "text": [
      "\n",
      "🔹 Predicted: 들어가서 훔치면 아무도 모를 테다.\n",
      "🔸 Reference: 들어가서 훔치면 아무도 모를 테다.\n"
     ]
    },
    {
     "name": "stderr",
     "output_type": "stream",
     "text": [
      "\r",
      " 66%|██████▌   | 127/192 [01:48<00:30,  2.11it/s]"
     ]
    },
    {
     "name": "stdout",
     "output_type": "stream",
     "text": [
      "\n",
      "🔹 Predicted: 춘우의 마음은 아재까지도 영숙 씨를 잊지 못 하니까 요.\n",
      "🔸 Reference: 춘우의 마음은 아직까지도 영숙 씨를 잊지 못 하니까 요.\n"
     ]
    },
    {
     "name": "stderr",
     "output_type": "stream",
     "text": [
      "\r",
      " 67%|██████▋   | 128/192 [01:49<00:29,  2.16it/s]"
     ]
    },
    {
     "name": "stdout",
     "output_type": "stream",
     "text": [
      "\n",
      "🔹 Predicted: 국가는 중소기업을 보호, 육성하여야 한다.\n",
      "🔸 Reference: 국가는 중소기업을 보호, 육성하여야 한다.\n"
     ]
    },
    {
     "name": "stderr",
     "output_type": "stream",
     "text": [
      "\r",
      " 67%|██████▋   | 129/192 [01:49<00:29,  2.10it/s]"
     ]
    },
    {
     "name": "stdout",
     "output_type": "stream",
     "text": [
      "\n",
      "🔹 Predicted: 사막이 아름다운 것은 어딘가 샘이 숨겨져 있기 때문이다.\n",
      "🔸 Reference: 사막이 아름다운 것은 어딘가 샘이 숨겨져 있기 때문이다.\n"
     ]
    },
    {
     "name": "stderr",
     "output_type": "stream",
     "text": [
      "\r",
      " 68%|██████▊   | 130/192 [01:50<00:28,  2.17it/s]"
     ]
    },
    {
     "name": "stdout",
     "output_type": "stream",
     "text": [
      "\n",
      "🔹 Predicted: 저는 새로운 세상에서 참으로 사람다운 생활이 하고 싶어요.\n",
      "🔸 Reference: 저는 새로운 세상에서 참으로 사람다운 생활이 하고 싶어요.\n"
     ]
    },
    {
     "name": "stderr",
     "output_type": "stream",
     "text": [
      "\r",
      " 68%|██████▊   | 131/192 [01:50<00:30,  2.01it/s]"
     ]
    },
    {
     "name": "stdout",
     "output_type": "stream",
     "text": [
      "\n",
      "🔹 Predicted: 덕호는 눈을 툭툭 털며 아랫목에 앉았다.\n",
      "🔸 Reference: 덕호는 눈을 툭툭 털며 아랫목에 앉았다.\n"
     ]
    },
    {
     "name": "stderr",
     "output_type": "stream",
     "text": [
      "\r",
      " 69%|██████▉   | 132/192 [01:51<00:31,  1.88it/s]"
     ]
    },
    {
     "name": "stdout",
     "output_type": "stream",
     "text": [
      "\n",
      "🔹 Predicted: 의자에서 떨어진 나는, 그 자리에 앉은 대로 그의 양을 쳐다보았습니다.\n",
      "🔸 Reference: 의자에서 떨어진 나는, 그 자리에 앉은 대로 그의 양을 쳐다보았습니다.\n"
     ]
    },
    {
     "name": "stderr",
     "output_type": "stream",
     "text": [
      "\r",
      " 69%|██████▉   | 133/192 [01:51<00:29,  1.98it/s]"
     ]
    },
    {
     "name": "stdout",
     "output_type": "stream",
     "text": [
      "\n",
      "🔹 Predicted: 하고 다시 말을 하는 춘우의 마음은 섭섭하였다.\n",
      "🔸 Reference: 하고 다시 말을 하는 춘우의 마음은 섭섭하였다.\n"
     ]
    },
    {
     "name": "stderr",
     "output_type": "stream",
     "text": [
      "\r",
      " 70%|██████▉   | 134/192 [01:52<00:29,  1.98it/s]"
     ]
    },
    {
     "name": "stdout",
     "output_type": "stream",
     "text": [
      "\n",
      "🔹 Predicted: 이튿날 새벽에 개똥 어머니는 덕호네 집으로 갔다.\n",
      "🔸 Reference: 이튿날 새벽에 개똥 어머니는 덕호네 집으로 갔다.\n"
     ]
    },
    {
     "name": "stderr",
     "output_type": "stream",
     "text": [
      "\r",
      " 70%|███████   | 135/192 [01:52<00:30,  1.87it/s]"
     ]
    },
    {
     "name": "stdout",
     "output_type": "stream",
     "text": [
      "\n",
      "🔹 Predicted: 감독은 기침을 칵 하고 나서 선비의 숙인 얼굴을 똑바로 보았다.\n",
      "🔸 Reference: 감독은 기침을 칵 하고 나서 선비의 숙인 얼굴을 똑바로 보았다.\n"
     ]
    },
    {
     "name": "stderr",
     "output_type": "stream",
     "text": [
      "\r",
      " 71%|███████   | 136/192 [01:53<00:27,  2.02it/s]"
     ]
    },
    {
     "name": "stdout",
     "output_type": "stream",
     "text": [
      "\n",
      "🔹 Predicted: 그날 저녁에 실례한 것은 이 사람이었소이다.\n",
      "🔸 Reference: 그날 저녁에 실례한 것은 이 사람이었소이다.\n"
     ]
    },
    {
     "name": "stderr",
     "output_type": "stream",
     "text": [
      "\r",
      " 71%|███████▏  | 137/192 [01:54<00:34,  1.58it/s]"
     ]
    },
    {
     "name": "stdout",
     "output_type": "stream",
     "text": [
      "\n",
      "🔹 Predicted: 그는 흙을 나르면서도 어젯밤 밤새도록 신철이와 자유노동자의 조직에 대하여 토의하던 것을 생각하였다.\n",
      "🔸 Reference: 그는 흙을 나르면서도 어젯밤 밤새도록 신철이와 자유노동자의 조직에 대하여 토의하던 것을 생각하였다.\n"
     ]
    },
    {
     "name": "stderr",
     "output_type": "stream",
     "text": [
      "\r",
      " 72%|███████▏  | 138/192 [01:54<00:32,  1.64it/s]"
     ]
    },
    {
     "name": "stdout",
     "output_type": "stream",
     "text": [
      "\n",
      "🔹 Predicted: 선비는 얼른 간난이를 일어세우며 뒤를 돌아보았다.\n",
      "🔸 Reference: 선비는 얼른 간난이를 일어세우며 뒤를 돌아보았다.\n"
     ]
    },
    {
     "name": "stderr",
     "output_type": "stream",
     "text": [
      "\r",
      " 72%|███████▏  | 139/192 [01:55<00:31,  1.68it/s]"
     ]
    },
    {
     "name": "stdout",
     "output_type": "stream",
     "text": [
      "\n",
      "🔹 Predicted: 선비는 무슨 말인지 그의 말하는 것을 하나도 알아듣지 못하였다.\n",
      "🔸 Reference: 선비는 무슨 말인지 그의 말하는 것을 하나도 알아듣지 못하였다.\n"
     ]
    },
    {
     "name": "stderr",
     "output_type": "stream",
     "text": [
      "\r",
      " 73%|███████▎  | 140/192 [01:56<00:31,  1.67it/s]"
     ]
    },
    {
     "name": "stdout",
     "output_type": "stream",
     "text": [
      "\n",
      "🔹 Predicted:  술취하기 전에는 첫째는 누구와 말 한마디 건네기를 싫어하였던 것이다.\n",
      "🔸 Reference: 술취하기 전에는 첫째는 누구와 말 한마디 건네기를 싫어하였던 것이다.\n"
     ]
    },
    {
     "name": "stderr",
     "output_type": "stream",
     "text": [
      "\r",
      " 73%|███████▎  | 141/192 [01:56<00:27,  1.82it/s]"
     ]
    },
    {
     "name": "stdout",
     "output_type": "stream",
     "text": [
      "\n",
      "🔹 Predicted: 손을 들어 미리 영신의 말문을 막아 버렸다.\n",
      "🔸 Reference: 손을 들어 미리 영신의 말문을 막아 버렸다.\n"
     ]
    },
    {
     "name": "stderr",
     "output_type": "stream",
     "text": [
      "\r",
      " 74%|███████▍  | 142/192 [01:57<00:28,  1.75it/s]"
     ]
    },
    {
     "name": "stdout",
     "output_type": "stream",
     "text": [
      "\n",
      "🔹 Predicted: 한쪽을 찌긋한 마누라의 눈에는 흉년이 들 조짐이 보이는 듯하다.\n",
      "🔸 Reference: 한쪽을 찌긋한 마누라의 눈에는 흉년이 들 조짐이 보이는 듯하다.\n"
     ]
    },
    {
     "name": "stderr",
     "output_type": "stream",
     "text": [
      "\r",
      " 74%|███████▍  | 143/192 [01:57<00:29,  1.68it/s]"
     ]
    },
    {
     "name": "stdout",
     "output_type": "stream",
     "text": [
      "\n",
      "🔹 Predicted: 춘우는 한옆으로 비스듬히 누워서 천장을 바라보며 창하 오기를 기다리었다.\n",
      "🔸 Reference: 춘우는 한옆으로 비스듬히 누워서 천장을 바라보며 창하 오기를 기다리었다.\n"
     ]
    },
    {
     "name": "stderr",
     "output_type": "stream",
     "text": [
      "\r",
      " 75%|███████▌  | 144/192 [01:58<00:25,  1.90it/s]"
     ]
    },
    {
     "name": "stdout",
     "output_type": "stream",
     "text": [
      "\n",
      "🔹 Predicted: 두발가인의 누이는 나아마이었더라\n",
      "🔸 Reference: 두발가인의 누이는 나아마이었더라\n"
     ]
    },
    {
     "name": "stderr",
     "output_type": "stream",
     "text": [
      "\r",
      " 76%|███████▌  | 145/192 [01:58<00:26,  1.79it/s]"
     ]
    },
    {
     "name": "stdout",
     "output_type": "stream",
     "text": [
      "\n",
      "🔹 Predicted: 그의 주머니 속에는 어느 때든지 신문지에다가 전복과 실백을 싸 가지고 다닌다.\n",
      "🔸 Reference: 그의 주머니 속에는 어느 때든지 신문지에다가 전복과 실백을 싸 가지고 다닌다.\n"
     ]
    },
    {
     "name": "stderr",
     "output_type": "stream",
     "text": [
      "\r",
      " 76%|███████▌  | 146/192 [01:59<00:23,  1.96it/s]"
     ]
    },
    {
     "name": "stdout",
     "output_type": "stream",
     "text": [
      "\n",
      "🔹 Predicted: 그는 말년에 엄청난 명성을 얻을 것이다.\n",
      "🔸 Reference: 그는 말년에 엄청난 명성을 얻을 것이다.\n"
     ]
    },
    {
     "name": "stderr",
     "output_type": "stream",
     "text": [
      "\r",
      " 77%|███████▋  | 147/192 [01:59<00:23,  1.94it/s]"
     ]
    },
    {
     "name": "stdout",
     "output_type": "stream",
     "text": [
      "\n",
      "🔹 Predicted: 달라붙는 동무를 물리치고 첫째는 밖으로 나왔다.\n",
      "🔸 Reference: 달라붙는 동무를 물리치고 첫째는 밖으로 나왔다.\n"
     ]
    },
    {
     "name": "stderr",
     "output_type": "stream",
     "text": [
      "\r",
      " 77%|███████▋  | 148/192 [02:00<00:21,  2.01it/s]"
     ]
    },
    {
     "name": "stdout",
     "output_type": "stream",
     "text": [
      "\n",
      "🔹 Predicted: 소나무 아래로 백학 한 쌍이 조는 듯한 그림이다.\n",
      "🔸 Reference: 소나무 아래로 백학 한 쌍이 조는 듯한 그림이다.\n"
     ]
    },
    {
     "name": "stderr",
     "output_type": "stream",
     "text": [
      "\r",
      " 78%|███████▊  | 149/192 [02:00<00:22,  1.88it/s]"
     ]
    },
    {
     "name": "stdout",
     "output_type": "stream",
     "text": [
      "\n",
      "🔹 Predicted: 방 안으로 들여놓는 소태나무 보자기를 보며 선비 어머니는 이렇게 말하였다.\n",
      "🔸 Reference: 방 안으로 들여놓는 소태나무 보자기를 보며 선비 어머니는 이렇게 말하였다.\n"
     ]
    },
    {
     "name": "stderr",
     "output_type": "stream",
     "text": [
      "\r",
      " 78%|███████▊  | 150/192 [02:01<00:22,  1.86it/s]"
     ]
    },
    {
     "name": "stdout",
     "output_type": "stream",
     "text": [
      "\n",
      "🔹 Predicted: 그러면 나도 내가 생각하였던 것은 모조리 말을 하여 버리라 하였다.\n",
      "🔸 Reference: 그러면 나도 내가 생각하였던 것은 모조리 말을 하여 버리리라 하였다.\n"
     ]
    },
    {
     "name": "stderr",
     "output_type": "stream",
     "text": [
      "\r",
      " 79%|███████▊  | 151/192 [02:01<00:24,  1.70it/s]"
     ]
    },
    {
     "name": "stdout",
     "output_type": "stream",
     "text": [
      "\n",
      "🔹 Predicted: 두 사람은 나란히 서서 기만의 등뒤를 돌아 멀리 바다가 내려다보이는 언덕으로 올라갔다.\n",
      "🔸 Reference: 두 사람은 나란히 서서 기만의 등뒤를 돌아 멀리 바다가 내려다보이는 언덕으로 올라갔다.\n"
     ]
    },
    {
     "name": "stderr",
     "output_type": "stream",
     "text": [
      "\r",
      " 79%|███████▉  | 152/192 [02:02<00:22,  1.77it/s]"
     ]
    },
    {
     "name": "stdout",
     "output_type": "stream",
     "text": [
      "\n",
      "🔹 Predicted: 다만 일순간이라도 그 감정을 그대로 가슴에 품고 있는 사람이 적다.\n",
      "🔸 Reference: 다만 일순간이라도 그 감정을 그대로 가슴에 품고 있는 사람이 적다.\n"
     ]
    },
    {
     "name": "stderr",
     "output_type": "stream",
     "text": [
      "\r",
      " 80%|███████▉  | 153/192 [02:02<00:19,  2.01it/s]"
     ]
    },
    {
     "name": "stdout",
     "output_type": "stream",
     "text": [
      "\n",
      "🔹 Predicted: 아니면 행복이 무엇인지 절대 모를 것이다.\n",
      "🔸 Reference: 아니면 행복이 무엇인지 절대 모를 것이다.\n"
     ]
    },
    {
     "name": "stderr",
     "output_type": "stream",
     "text": [
      "\r",
      " 80%|████████  | 154/192 [02:03<00:17,  2.15it/s]"
     ]
    },
    {
     "name": "stdout",
     "output_type": "stream",
     "text": [
      "\n",
      "🔹 Predicted: 이러한 전제로서, 자 그러면 내 이야기를 시작하자.\n",
      "🔸 Reference: 이러한 전제로서, 자 그러면 내 이야기를 시작하자.\n"
     ]
    },
    {
     "name": "stderr",
     "output_type": "stream",
     "text": [
      "\r",
      " 81%|████████  | 155/192 [02:03<00:19,  1.91it/s]"
     ]
    },
    {
     "name": "stdout",
     "output_type": "stream",
     "text": [
      "\n",
      "🔹 Predicted: 그의 가슴은 부끄러움과 감격에 교착이 되어 무섭게 뛰기 시작하였다.\n",
      "🔸 Reference: 그의 가슴은 부끄러움과 감격에 교착이 되어 무섭게 뛰기 시작하였다.\n"
     ]
    },
    {
     "name": "stderr",
     "output_type": "stream",
     "text": [
      "\r",
      " 81%|████████▏ | 156/192 [02:04<00:16,  2.13it/s]"
     ]
    },
    {
     "name": "stdout",
     "output_type": "stream",
     "text": [
      "\n",
      "🔹 Predicted: 자기의 신조에 어디까지 충실하였다.\n",
      "🔸 Reference: 자기의 신조에 어디까지 충실하였다.\n"
     ]
    },
    {
     "name": "stderr",
     "output_type": "stream",
     "text": [
      "\r",
      " 82%|████████▏ | 157/192 [02:04<00:14,  2.34it/s]"
     ]
    },
    {
     "name": "stdout",
     "output_type": "stream",
     "text": [
      "\n",
      "🔹 Predicted: 그리고 술을 들 용기가 나지 않았다.\n",
      "🔸 Reference: 그리고 술을 들 용기가 나지 않았다.\n"
     ]
    },
    {
     "name": "stderr",
     "output_type": "stream",
     "text": [
      "\r",
      " 82%|████████▏ | 158/192 [02:05<00:15,  2.21it/s]"
     ]
    },
    {
     "name": "stdout",
     "output_type": "stream",
     "text": [
      "\n",
      "🔹 Predicted: 그의 아버지는 Ṍ승을 낮추어 가지고 이렇게 간곡히 말하였다.\n",
      "🔸 Reference: 그의 아버지는 음성을 낮추어 가지고 이렇게 간곡히 말하였다.\n"
     ]
    },
    {
     "name": "stderr",
     "output_type": "stream",
     "text": [
      "\r",
      " 83%|████████▎ | 159/192 [02:05<00:13,  2.39it/s]"
     ]
    },
    {
     "name": "stdout",
     "output_type": "stream",
     "text": [
      "\n",
      "🔹 Predicted: 아이유는 대한민국의 가수이다.\n",
      "🔸 Reference: 아이유는 대한민국의 가수이다.\n"
     ]
    },
    {
     "name": "stderr",
     "output_type": "stream",
     "text": [
      "\r",
      " 83%|████████▎ | 160/192 [02:05<00:11,  2.78it/s]"
     ]
    },
    {
     "name": "stdout",
     "output_type": "stream",
     "text": [
      "\n",
      "🔹 Predicted: 기억이 없는데요.\"\n",
      "🔸 Reference: 기억이 없는데요.\"\n"
     ]
    },
    {
     "name": "stderr",
     "output_type": "stream",
     "text": [
      "\r",
      " 84%|████████▍ | 161/192 [02:06<00:12,  2.57it/s]"
     ]
    },
    {
     "name": "stdout",
     "output_type": "stream",
     "text": [
      "\n",
      "🔹 Predicted: 전차는 또다시 속력을 내어 달아나다가 섰다.\n",
      "🔸 Reference: 전차는 또다시 속력을 내어 달아나다가 섰다.\n"
     ]
    },
    {
     "name": "stderr",
     "output_type": "stream",
     "text": [
      "\r",
      " 84%|████████▍ | 162/192 [02:06<00:13,  2.26it/s]"
     ]
    },
    {
     "name": "stdout",
     "output_type": "stream",
     "text": [
      "\n",
      "🔹 Predicted:  백통테 안경은 이상스러운 반면에 뭐라고 형용할 수 없는 무서운 생각이 들었다.\n",
      "🔸 Reference: 백통테 안경은 이상스러운 반면에 뭐라고 형용할 수 없는 무서운 생각이 들었다.\n"
     ]
    },
    {
     "name": "stderr",
     "output_type": "stream",
     "text": [
      "\r",
      " 85%|████████▍ | 163/192 [02:07<00:14,  2.07it/s]"
     ]
    },
    {
     "name": "stdout",
     "output_type": "stream",
     "text": [
      "\n",
      "🔹 Predicted: 말도 채 마치지 못하여 야근할 여공들이 우르르 밀려들어 온다.\n",
      "🔸 Reference: 말도 채 마치지 못하여 야근할 여공들이 우르르 밀려들어 온다.\n"
     ]
    },
    {
     "name": "stderr",
     "output_type": "stream",
     "text": [
      "\r",
      " 85%|████████▌ | 164/192 [02:07<00:14,  1.93it/s]"
     ]
    },
    {
     "name": "stdout",
     "output_type": "stream",
     "text": [
      "\n",
      "🔹 Predicted: 그리고 아버지와 어머니 앞에 자기들이 가지런히 서서 가는 것도 그럴듯한 일이었다.\n",
      "🔸 Reference: 그리고 아버지와 어머니 앞에 자기들이 가지런히 서서 가는 것도 그럴듯한 일이었다.\n"
     ]
    },
    {
     "name": "stderr",
     "output_type": "stream",
     "text": [
      "\r",
      " 86%|████████▌ | 165/192 [02:08<00:12,  2.14it/s]"
     ]
    },
    {
     "name": "stdout",
     "output_type": "stream",
     "text": [
      "\n",
      "🔹 Predicted: 어머니만 볼 수 있으면 어디든지 간다.\n",
      "🔸 Reference: 어머니만 볼 수 있으면 어디든지 간다.\n"
     ]
    },
    {
     "name": "stderr",
     "output_type": "stream",
     "text": [
      "\r",
      " 86%|████████▋ | 166/192 [02:08<00:12,  2.16it/s]"
     ]
    },
    {
     "name": "stdout",
     "output_type": "stream",
     "text": [
      "\n",
      "🔹 Predicted: 그리고, 빛나는 눈에 이상한 광채를 띠었다.\n",
      "🔸 Reference: 그리고 빛나는 눈에 이상한 광채를 띠었다.\n"
     ]
    },
    {
     "name": "stderr",
     "output_type": "stream",
     "text": [
      "\r",
      " 87%|████████▋ | 167/192 [02:09<00:11,  2.09it/s]"
     ]
    },
    {
     "name": "stdout",
     "output_type": "stream",
     "text": [
      "\n",
      "🔹 Predicted: 의외로 명확한 대답에 아버지의 얼굴은 순간으로 변하여진다.\n",
      "🔸 Reference: 의외로 명확한 대답에 아버지의 얼굴은 순간으로 변하여진다.\n"
     ]
    },
    {
     "name": "stderr",
     "output_type": "stream",
     "text": [
      "\r",
      " 88%|████████▊ | 168/192 [02:09<00:13,  1.83it/s]"
     ]
    },
    {
     "name": "stdout",
     "output_type": "stream",
     "text": [
      "\n",
      "🔹 Predicted: 순식간에 두부와 미꾸라지 든 국 한 그릇을 그냥 물같이 들이켜고 말았다.\n",
      "🔸 Reference: 순식간에 두부와 미꾸라지 든 국 한 그릇을 그냥 물같이 들이켜고 말았다.\n"
     ]
    },
    {
     "name": "stderr",
     "output_type": "stream",
     "text": [
      "\r",
      " 88%|████████▊ | 169/192 [02:10<00:13,  1.75it/s]"
     ]
    },
    {
     "name": "stdout",
     "output_type": "stream",
     "text": [
      "\n",
      "🔹 Predicted: 그때 밖으로부터 그의 동무가 무어라고 떠들며 들어오는 것을 알았다.\n",
      "🔸 Reference: 그때 밖으로부터 그의 동무가 무어라고 떠들며 들어오는 것을 알았다.\n"
     ]
    },
    {
     "name": "stderr",
     "output_type": "stream",
     "text": [
      "\r",
      " 89%|████████▊ | 170/192 [02:11<00:12,  1.75it/s]"
     ]
    },
    {
     "name": "stdout",
     "output_type": "stream",
     "text": [
      "\n",
      "🔹 Predicted: 정부에 제출 또는 회부된 정부의 정책에 관계되는 청원의 심사\n",
      "🔸 Reference: 정부에 제출 또는 회부된 정부의 정책에 관계되는 청원의 심사\n"
     ]
    },
    {
     "name": "stderr",
     "output_type": "stream",
     "text": [
      "\r",
      " 89%|████████▉ | 171/192 [02:11<00:12,  1.72it/s]"
     ]
    },
    {
     "name": "stdout",
     "output_type": "stream",
     "text": [
      "\n",
      "🔹 Predicted: 몸을 뒤틀며 손과 팔에 매어달린 아이들은 가만히 뿌리쳤다.\n",
      "🔸 Reference: 몸을 뒤틀며 손과 팔에 매어달린 아이들은 가만히 뿌리쳤다.\n"
     ]
    },
    {
     "name": "stderr",
     "output_type": "stream",
     "text": [
      "\r",
      " 90%|████████▉ | 172/192 [02:12<00:10,  1.87it/s]"
     ]
    },
    {
     "name": "stdout",
     "output_type": "stream",
     "text": [
      "\n",
      "🔹 Predicted: 그러나 그의 행운은 그걸로 그치지 않았다.\n",
      "🔸 Reference: 그러나 그의 행운은 그걸로 그치지 않았다.\n"
     ]
    },
    {
     "name": "stderr",
     "output_type": "stream",
     "text": [
      "\r",
      " 90%|█████████ | 173/192 [02:12<00:08,  2.28it/s]"
     ]
    },
    {
     "name": "stdout",
     "output_type": "stream",
     "text": [
      "\n",
      "🔹 Predicted: 뭐하는건가요?\n",
      "🔸 Reference: 뭐하는건가요?\n"
     ]
    },
    {
     "name": "stderr",
     "output_type": "stream",
     "text": [
      "\r",
      " 91%|█████████ | 174/192 [02:12<00:07,  2.50it/s]"
     ]
    },
    {
     "name": "stdout",
     "output_type": "stream",
     "text": [
      "\n",
      "🔹 Predicted:  이 말에 영숙은 아무 말이 없었다.\n",
      "🔸 Reference: 이 말에 영숙은 아무 말이 없었다.\n"
     ]
    },
    {
     "name": "stderr",
     "output_type": "stream",
     "text": [
      "\r",
      " 91%|█████████ | 175/192 [02:13<00:07,  2.28it/s]"
     ]
    },
    {
     "name": "stdout",
     "output_type": "stream",
     "text": [
      "\n",
      "🔹 Predicted: 외눈�까풀이가 신철의 앞을 지나칠 때 이렇게 불렀다.\n",
      "🔸 Reference: 외눈까풀이가 신철의 앞을 지나칠 때 이렇게 불렀다.\n"
     ]
    },
    {
     "name": "stderr",
     "output_type": "stream",
     "text": [
      "\r",
      " 92%|█████████▏| 176/192 [02:13<00:07,  2.22it/s]"
     ]
    },
    {
     "name": "stdout",
     "output_type": "stream",
     "text": [
      "\n",
      "🔹 Predicted: 꿈을 계속 간직하고 있으면 반드시 실현할 때가 온다.\n",
      "🔸 Reference: 꿈을 계속 간직하고 있으면 반드시 실현할 때가 온다.\n"
     ]
    },
    {
     "name": "stderr",
     "output_type": "stream",
     "text": [
      "\r",
      " 92%|█████████▏| 177/192 [02:14<00:07,  1.95it/s]"
     ]
    },
    {
     "name": "stdout",
     "output_type": "stream",
     "text": [
      "\n",
      "🔹 Predicted: 미쓰고시를 향하여 들어가고 나오는 사람은 모두가 말쑥한 신사고 숙녀였다.\n",
      "🔸 Reference: 미쓰고시를 향하여 들어가고 나오는 사람은 모두가 말쑥한 신사고 숙녀였다.\n"
     ]
    },
    {
     "name": "stderr",
     "output_type": "stream",
     "text": [
      "\r",
      " 93%|█████████▎| 178/192 [02:14<00:07,  1.86it/s]"
     ]
    },
    {
     "name": "stdout",
     "output_type": "stream",
     "text": [
      "\n",
      "🔹 Predicted: 춘우의 속이 몹시 원망과 분노와 또는 비애로 찬 것을 안다.\n",
      "🔸 Reference: 춘우의 속이 몹시 원망과 분노와 또는 비애로 찬 것을 안다.\n"
     ]
    },
    {
     "name": "stderr",
     "output_type": "stream",
     "text": [
      "\r",
      " 93%|█████████▎| 179/192 [02:15<00:06,  2.13it/s]"
     ]
    },
    {
     "name": "stdout",
     "output_type": "stream",
     "text": [
      "\n",
      "🔹 Predicted: 나는 지금 배가 고픈 상태이다.\n",
      "🔸 Reference: 나는 지금 배가 고픈 상태이다.\n"
     ]
    },
    {
     "name": "stderr",
     "output_type": "stream",
     "text": [
      "\r",
      " 94%|█████████▍| 180/192 [02:15<00:05,  2.19it/s]"
     ]
    },
    {
     "name": "stdout",
     "output_type": "stream",
     "text": [
      "\n",
      "🔹 Predicted: 그는 파고다공원 앞까지 와서 우뚝 섰다.\n",
      "🔸 Reference: 그는 파고다공원 앞까지 와서 우뚝 섰다.\n"
     ]
    },
    {
     "name": "stderr",
     "output_type": "stream",
     "text": [
      "\r",
      " 94%|█████████▍| 181/192 [02:16<00:05,  1.96it/s]"
     ]
    },
    {
     "name": "stdout",
     "output_type": "stream",
     "text": [
      "\n",
      "🔹 Predicted: 아담이 그 아내를 하와라 이름하였으니 그는 모든 산 자의 어미가 됨이더라\n",
      "🔸 Reference: 아담이 그 아내를 하와라 이름하였으니 그는 모든 산 자의 어미가 됨이더라\n"
     ]
    },
    {
     "name": "stderr",
     "output_type": "stream",
     "text": [
      " 95%|█████████▌| 183/192 [02:24<00:17,  1.97s/it]"
     ]
    },
    {
     "name": "stdout",
     "output_type": "stream",
     "text": [
      "\n",
      "🔹 Predicted:  ಕರರರರರರರರರರರರರರರರರರರರರರರರರರರರರರರರರರರರರರರರರರರರರರರರರರರರರರರರರರರರರರರರರರರರರರರರರರರರರರರರರರರರರರರರರರರರರರರರರರರರರರರರರರರರರರರರರರರರರರರರರರರರರರರರರರರರರರರರರರರರರರರರರರರರರರರರರರರರರರರರರರರರರರರರರರರರರರರರರರರರರರರರರರರರರರರರರರರರರರರರರರರರರರರರರರರರರರರರರರರರರ\n",
      "🔸 Reference: 병이란 것은 보통 인간과는 다른 것, 즉 ‘이상’의 상태를 일컬음이다.\n",
      "\n",
      "🔹 Predicted: \n",
      "🔸 Reference: 입바른 소리 잘 하는 동화의 대답이다.\n"
     ]
    },
    {
     "name": "stderr",
     "output_type": "stream",
     "text": [
      "\r",
      " 96%|█████████▌| 184/192 [02:24<00:12,  1.53s/it]"
     ]
    },
    {
     "name": "stdout",
     "output_type": "stream",
     "text": [
      "\n",
      "🔹 Predicted: 집까지 온 첫째는 나뭇가리 옆에 우두커니 서 있었다.\n",
      "🔸 Reference: 집까지 온 첫째는 나뭇가리 옆에 우두커니 서 있었다.\n"
     ]
    },
    {
     "name": "stderr",
     "output_type": "stream",
     "text": [
      "\r",
      " 96%|█████████▋| 185/192 [02:25<00:08,  1.20s/it]"
     ]
    },
    {
     "name": "stdout",
     "output_type": "stream",
     "text": [
      "\n",
      "🔹 Predicted: 그는 이불을 꼭 덮어 준 후에 밖으로 나왔다.\n",
      "🔸 Reference: 그는 이불을 꼭 덮어 준 후에 밖으로 나왔다.\n"
     ]
    },
    {
     "name": "stderr",
     "output_type": "stream",
     "text": [
      "\r",
      " 97%|█████████▋| 186/192 [02:25<00:06,  1.01s/it]"
     ]
    },
    {
     "name": "stdout",
     "output_type": "stream",
     "text": [
      "\n",
      "🔹 Predicted: 모든 국민은 사생활의 비밀과 자유를 침해받지 아니한다.\n",
      "🔸 Reference: 모든 국민은 사생활의 비밀과 자유를 침해받지 아니한다.\n"
     ]
    },
    {
     "name": "stderr",
     "output_type": "stream",
     "text": [
      "\r",
      " 97%|█████████▋| 187/192 [02:26<00:04,  1.21it/s]"
     ]
    },
    {
     "name": "stdout",
     "output_type": "stream",
     "text": [
      "\n",
      "🔹 Predicted: 말 한마디에 천냥 빚도 갚는다\n",
      "🔸 Reference: 말 한마디에 천냥 빚도 갚는다\n"
     ]
    },
    {
     "name": "stderr",
     "output_type": "stream",
     "text": [
      "\r",
      " 98%|█████████▊| 188/192 [02:26<00:02,  1.43it/s]"
     ]
    },
    {
     "name": "stdout",
     "output_type": "stream",
     "text": [
      "\n",
      "🔹 Predicted: 덕호는 이렇게 말하며 문을 열고 나간다.\n",
      "🔸 Reference: 덕호는 이렇게 말하며 문을 열고 나간다.\n"
     ]
    },
    {
     "name": "stderr",
     "output_type": "stream",
     "text": [
      "\r",
      " 98%|█████████▊| 189/192 [02:34<00:08,  2.89s/it]"
     ]
    },
    {
     "name": "stdout",
     "output_type": "stream",
     "text": [
      "\n",
      "🔹 Predicted:  ಕರರರರರರರರರರರರರರರರರರರರರರರರರರರರರರರರರರರರರರರರರರರರರರರರರರರರರರರರರರರರರರರರರರರರರರರರರರರರರರರರರರರರರರರರರರರರರರರರರರರರರರರರರರರರರರರರರರರರರರರರರರರರರರರರರರರರರರರರರರರರರರರರರರರರರರರರರರರರರರರರರರರರರರರರರರರರರರರರರರರರರರರರರರರರರರರರರರರರರರರರರರರರರರರರರರರರರರರರರರರರರ\n",
      "🔸 Reference: 온 세계 앞서 나가리\n"
     ]
    },
    {
     "name": "stderr",
     "output_type": "stream",
     "text": [
      "\r",
      " 99%|█████████▉| 190/192 [02:35<00:04,  2.19s/it]"
     ]
    },
    {
     "name": "stdout",
     "output_type": "stream",
     "text": [
      "\n",
      "🔹 Predicted: 그때 신철이는 전날 옥점에게서 들은 말이 얼핏 생각났다.\n",
      "🔸 Reference: 그때 신철이는 전날 옥점에게서 들은 말이 얼핏 생각났다.\n"
     ]
    },
    {
     "name": "stderr",
     "output_type": "stream",
     "text": [
      "\r",
      " 99%|█████████▉| 191/192 [02:35<00:01,  1.67s/it]"
     ]
    },
    {
     "name": "stdout",
     "output_type": "stream",
     "text": [
      "\n",
      "🔹 Predicted: 영신은 발갛게 상기가 되어서 연단 위로 올라갔다.\n",
      "🔸 Reference: 영신은 발갛게 상기가 되어서 연단 위로 올라갔다.\n"
     ]
    },
    {
     "name": "stderr",
     "output_type": "stream",
     "text": [
      "100%|██████████| 192/192 [02:36<00:00,  1.23it/s]"
     ]
    },
    {
     "name": "stdout",
     "output_type": "stream",
     "text": [
      "\n",
      "🔹 Predicted: 진리로 뭉쳐진 억센 뜻\n",
      "🔸 Reference: 진리로 뭉쳐진 억센 뜻\n",
      "\n",
      "✅ KO WER: 0.0572\n",
      "\n",
      "🌍 Language: en\n"
     ]
    },
    {
     "name": "stderr",
     "output_type": "stream",
     "text": [
      "\n",
      "  0%|          | 1/200 [00:01<04:47,  1.45s/it]"
     ]
    },
    {
     "name": "stdout",
     "output_type": "stream",
     "text": [
      "\n",
      "🔹 Predicted: This device has a cathode inside an anode wire cage.\n",
      "🔸 Reference: This device has a cathode inside an anode wire cage.\n"
     ]
    },
    {
     "name": "stderr",
     "output_type": "stream",
     "text": [
      "\r",
      "  1%|          | 2/200 [00:01<02:37,  1.26it/s]"
     ]
    },
    {
     "name": "stdout",
     "output_type": "stream",
     "text": [
      "\n",
      "🔹 Predicted: This product is almost always produced by the industrialized method.\n",
      "🔸 Reference: This product is almost always produced by the industrialized method.\n"
     ]
    },
    {
     "name": "stderr",
     "output_type": "stream",
     "text": [
      "\r",
      "  2%|▏         | 3/200 [00:02<01:51,  1.76it/s]"
     ]
    },
    {
     "name": "stdout",
     "output_type": "stream",
     "text": [
      "\n",
      "🔹 Predicted: It is named after Edward Singleton Holden.\n",
      "🔸 Reference: It is named after Edward Singleton Holden.\n"
     ]
    },
    {
     "name": "stderr",
     "output_type": "stream",
     "text": [
      "\r",
      "  2%|▏         | 4/200 [00:02<01:33,  2.10it/s]"
     ]
    },
    {
     "name": "stdout",
     "output_type": "stream",
     "text": [
      "\n",
      "🔹 Predicted: It is north west of the regional centre of Clare.\n",
      "🔸 Reference: It is north west of the regional centre of Clare.\n"
     ]
    },
    {
     "name": "stderr",
     "output_type": "stream",
     "text": [
      "\r",
      "  2%|▎         | 5/200 [00:02<01:28,  2.19it/s]"
     ]
    },
    {
     "name": "stdout",
     "output_type": "stream",
     "text": [
      "\n",
      "🔹 Predicted: He was a nephew of Rear-Admiral Sir Francis Augustus Collier.\n",
      "🔸 Reference: He was a nephew of Rear-Admiral Sir Francis Augustus Collier.\n"
     ]
    },
    {
     "name": "stderr",
     "output_type": "stream",
     "text": [
      "\r",
      "  3%|▎         | 6/200 [00:03<01:16,  2.54it/s]"
     ]
    },
    {
     "name": "stdout",
     "output_type": "stream",
     "text": [
      "\n",
      "🔹 Predicted: Leaving for some darn camp in Mississippi.\n",
      "🔸 Reference: Leaving for some darn camp in Mississippi.\n"
     ]
    },
    {
     "name": "stderr",
     "output_type": "stream",
     "text": [
      "\r",
      "  4%|▎         | 7/200 [00:03<01:16,  2.51it/s]"
     ]
    },
    {
     "name": "stdout",
     "output_type": "stream",
     "text": [
      "\n",
      "🔹 Predicted: While employed in this role, Johnson won the prestigious Robert F. Kennedy Award.\n",
      "🔸 Reference: While employed in this role, Johnson won the prestigious Robert F. Kennedy Award.\n"
     ]
    },
    {
     "name": "stderr",
     "output_type": "stream",
     "text": [
      "\r",
      "  4%|▍         | 8/200 [00:03<01:18,  2.46it/s]"
     ]
    },
    {
     "name": "stdout",
     "output_type": "stream",
     "text": [
      "\n",
      "🔹 Predicted: Samuel Lyons proceeded to subdivide Five Dock Farm into substantial estates.\n",
      "🔸 Reference: Samuel Lyons proceeded to subdivide Five Dock Farm into substantial estates.\n"
     ]
    },
    {
     "name": "stderr",
     "output_type": "stream",
     "text": [
      "\r",
      "  4%|▍         | 9/200 [00:12<08:58,  2.82s/it]"
     ]
    },
    {
     "name": "stdout",
     "output_type": "stream",
     "text": [
      "\n",
      "🔹 Predicted:  ಕರ逸ರರರರರರರರರರರರರರರರರರರರರರರರರರರರರರರರರರರರರರರರರರರರರರರರರರರರರರರರರರರರರರರರರರರರರರರರರರರರರರರರರರರರರರರರರರರರರರರರರರರರರರರರರರರರರರರರರರರರರರರರರರರರರರರರರರರರರರರರರರರರರರರರರರರರರರರರರರರರರರರರರರರರರರರರರರರರರರರರರರರರರರರರರರರರರರರರರರರರರರರರರರರರರರರರರರರರರರರರರರರ\n",
      "🔸 Reference: Where did it come from then?\n"
     ]
    },
    {
     "name": "stderr",
     "output_type": "stream",
     "text": [
      "\r",
      "  5%|▌         | 10/200 [00:12<06:32,  2.07s/it]"
     ]
    },
    {
     "name": "stdout",
     "output_type": "stream",
     "text": [
      "\n",
      "🔹 Predicted: Since then, three more have been abolished, leaving four.\n",
      "🔸 Reference: Since then, three more have been abolished, leaving four.\n"
     ]
    },
    {
     "name": "stderr",
     "output_type": "stream",
     "text": [
      "\r",
      "  6%|▌         | 11/200 [00:12<05:00,  1.59s/it]"
     ]
    },
    {
     "name": "stdout",
     "output_type": "stream",
     "text": [
      "\n",
      "🔹 Predicted: \"Narwhal\" joined the Atlantic Torpedo Fleet, based at Newport, Rhode Island.\n",
      "🔸 Reference: \"Narwhal\" joined the Atlantic Torpedo Fleet, based at Newport, Rhode Island.\n"
     ]
    },
    {
     "name": "stderr",
     "output_type": "stream",
     "text": [
      "\r",
      "  6%|▌         | 12/200 [00:13<03:52,  1.23s/it]"
     ]
    },
    {
     "name": "stdout",
     "output_type": "stream",
     "text": [
      "\n",
      "🔹 Predicted: The airline was later removed from the blacklist after complying with safety audits.\n",
      "🔸 Reference: The airline was later removed from the blacklist after complying with safety audits.\n"
     ]
    },
    {
     "name": "stderr",
     "output_type": "stream",
     "text": [
      "\r",
      "  6%|▋         | 13/200 [00:13<03:02,  1.02it/s]"
     ]
    },
    {
     "name": "stdout",
     "output_type": "stream",
     "text": [
      "\n",
      "🔹 Predicted: The paper has the slogan \"Never Apologise, Never Explain!\".\n",
      "🔸 Reference: The paper has the slogan \"Never Apologise, Never Explain!\".\n"
     ]
    },
    {
     "name": "stderr",
     "output_type": "stream",
     "text": [
      "\r",
      "  7%|▋         | 14/200 [00:13<02:19,  1.33it/s]"
     ]
    },
    {
     "name": "stdout",
     "output_type": "stream",
     "text": [
      "\n",
      "🔹 Predicted: He was born in Tokyo.\n",
      "🔸 Reference: He was born in Tokyo.\n"
     ]
    },
    {
     "name": "stderr",
     "output_type": "stream",
     "text": [
      "\r",
      "  8%|▊         | 15/200 [00:14<01:48,  1.71it/s]"
     ]
    },
    {
     "name": "stdout",
     "output_type": "stream",
     "text": [
      "\n",
      "🔹 Predicted: You just shoot that.\n",
      "🔸 Reference: You just shoot that.\n"
     ]
    },
    {
     "name": "stderr",
     "output_type": "stream",
     "text": [
      "\r",
      "  8%|▊         | 16/200 [00:14<01:38,  1.87it/s]"
     ]
    },
    {
     "name": "stdout",
     "output_type": "stream",
     "text": [
      "\n",
      "🔹 Predicted: Chen was a low profile talented scholar with a number of \"first\" accomplishments.\n",
      "🔸 Reference: Chen was a low profile talented scholar with a number of \"first\" accomplishments.\n"
     ]
    },
    {
     "name": "stderr",
     "output_type": "stream",
     "text": [
      "\r",
      "  8%|▊         | 17/200 [00:15<01:34,  1.94it/s]"
     ]
    },
    {
     "name": "stdout",
     "output_type": "stream",
     "text": [
      "\n",
      "🔹 Predicted: The Fulshear City Council asked the county to name the library after Lutts.\n",
      "🔸 Reference: The Fulshear City Council asked the county to name the library after Lutts.\n"
     ]
    },
    {
     "name": "stderr",
     "output_type": "stream",
     "text": [
      "\r",
      "  9%|▉         | 18/200 [00:15<01:32,  1.97it/s]"
     ]
    },
    {
     "name": "stdout",
     "output_type": "stream",
     "text": [
      "\n",
      "🔹 Predicted: The Cascade Lakes Scenic Byway continues south along the west side of Mount Bachelor.\n",
      "🔸 Reference: The Cascade Lakes Scenic Byway continues south along the west side of Mount Bachelor.\n"
     ]
    },
    {
     "name": "stderr",
     "output_type": "stream",
     "text": [
      "\r",
      " 10%|▉         | 19/200 [00:15<01:18,  2.30it/s]"
     ]
    },
    {
     "name": "stdout",
     "output_type": "stream",
     "text": [
      "\n",
      "🔹 Predicted: Montgomerie was eliminated.\n",
      "🔸 Reference: Montgomerie was eliminated.\n"
     ]
    },
    {
     "name": "stderr",
     "output_type": "stream",
     "text": [
      "\r",
      " 10%|█         | 20/200 [00:16<01:17,  2.32it/s]"
     ]
    },
    {
     "name": "stdout",
     "output_type": "stream",
     "text": [
      "\n",
      "🔹 Predicted: Depending on the time period and culture, the term can have several meanings.\n",
      "🔸 Reference: Depending on the time period and culture, the term can have several meanings.\n"
     ]
    },
    {
     "name": "stderr",
     "output_type": "stream",
     "text": [
      "\r",
      " 10%|█         | 21/200 [00:16<01:12,  2.45it/s]"
     ]
    },
    {
     "name": "stdout",
     "output_type": "stream",
     "text": [
      "\n",
      "🔹 Predicted: The objective of the game is to capture your opponent's king.\n",
      "🔸 Reference: The objective of the game is to capture your opponent's king.\n"
     ]
    },
    {
     "name": "stderr",
     "output_type": "stream",
     "text": [
      "\r",
      " 11%|█         | 22/200 [00:16<01:08,  2.58it/s]"
     ]
    },
    {
     "name": "stdout",
     "output_type": "stream",
     "text": [
      "\n",
      "🔹 Predicted: It is a producer of photovoltaic solar modules.\n",
      "🔸 Reference: It is a producer of photovoltaic solar modules.\n"
     ]
    },
    {
     "name": "stderr",
     "output_type": "stream",
     "text": [
      "\r",
      " 12%|█▏        | 23/200 [00:17<01:03,  2.77it/s]"
     ]
    },
    {
     "name": "stdout",
     "output_type": "stream",
     "text": [
      "\n",
      "🔹 Predicted: Population change chart of Chênedouit\n",
      "🔸 Reference: Population change chart of Chênedouit\n"
     ]
    },
    {
     "name": "stderr",
     "output_type": "stream",
     "text": [
      "\r",
      " 12%|█▏        | 24/200 [00:17<01:00,  2.93it/s]"
     ]
    },
    {
     "name": "stdout",
     "output_type": "stream",
     "text": [
      "\n",
      "🔹 Predicted: “I have to be with my father.\n",
      "🔸 Reference: I have to be with my father.\n"
     ]
    },
    {
     "name": "stderr",
     "output_type": "stream",
     "text": [
      "\r",
      " 12%|█▎        | 25/200 [00:17<01:05,  2.66it/s]"
     ]
    },
    {
     "name": "stdout",
     "output_type": "stream",
     "text": [
      "\n",
      "🔹 Predicted: In the dormitory where Beppe used to work they joked around almost always.\n",
      "🔸 Reference: In the dormitory where Beppe used to work they joked around almost always.\n"
     ]
    },
    {
     "name": "stderr",
     "output_type": "stream",
     "text": [
      "\r",
      " 13%|█▎        | 26/200 [00:18<01:09,  2.51it/s]"
     ]
    },
    {
     "name": "stdout",
     "output_type": "stream",
     "text": [
      "\n",
      "🔹 Predicted: It was reformist in nature and did not protest against Sanation authoritarianism or capitalism.\n",
      "🔸 Reference: It was reformist in nature and did not protest against Sanation authoritarianism or capitalism.\n"
     ]
    },
    {
     "name": "stderr",
     "output_type": "stream",
     "text": [
      "\r",
      " 14%|█▎        | 27/200 [00:18<01:08,  2.52it/s]"
     ]
    },
    {
     "name": "stdout",
     "output_type": "stream",
     "text": [
      "\n",
      "🔹 Predicted: Morrison stated that the current system is \"not fit for purpose\".\n",
      "🔸 Reference: Morrison stated that the current system is \"not fit for purpose\".\n"
     ]
    },
    {
     "name": "stderr",
     "output_type": "stream",
     "text": [
      "\r",
      " 14%|█▍        | 28/200 [00:19<01:05,  2.63it/s]"
     ]
    },
    {
     "name": "stdout",
     "output_type": "stream",
     "text": [
      "\n",
      "🔹 Predicted: Crichton also served on Berkshire County Council.\n",
      "🔸 Reference: Crichton also served on Berkshire County Council.\n"
     ]
    },
    {
     "name": "stderr",
     "output_type": "stream",
     "text": [
      "\r",
      " 14%|█▍        | 29/200 [00:19<01:01,  2.76it/s]"
     ]
    },
    {
     "name": "stdout",
     "output_type": "stream",
     "text": [
      "\n",
      "🔹 Predicted: The cast included Gena Rowlands and Diane Lane.\n",
      "🔸 Reference: The cast included Gena Rowlands and Diane Lane.\n"
     ]
    },
    {
     "name": "stderr",
     "output_type": "stream",
     "text": [
      "\r",
      " 15%|█▌        | 30/200 [00:19<01:01,  2.76it/s]"
     ]
    },
    {
     "name": "stdout",
     "output_type": "stream",
     "text": [
      "\n",
      "🔹 Predicted: Many of its mineral reserves have yet to be fully tapped.\n",
      "🔸 Reference: Many of its mineral reserves have yet to be fully tapped.\n"
     ]
    },
    {
     "name": "stderr",
     "output_type": "stream",
     "text": [
      "\r",
      " 16%|█▌        | 31/200 [00:20<01:02,  2.72it/s]"
     ]
    },
    {
     "name": "stdout",
     "output_type": "stream",
     "text": [
      "\n",
      "🔹 Predicted: The Gatineau casino thus also serves Ottawa and Eastern Ontario.\n",
      "🔸 Reference: The Gatineau casino thus also serves Ottawa and Eastern Ontario.\n"
     ]
    },
    {
     "name": "stderr",
     "output_type": "stream",
     "text": [
      "\r",
      " 16%|█▌        | 32/200 [00:20<01:00,  2.80it/s]"
     ]
    },
    {
     "name": "stdout",
     "output_type": "stream",
     "text": [
      "\n",
      "🔹 Predicted: John Strachan and William Allan and moved to Toronto.\n",
      "🔸 Reference: John Strachan and William Allan and moved to Toronto.\n"
     ]
    },
    {
     "name": "stderr",
     "output_type": "stream",
     "text": [
      "\r",
      " 16%|█▋        | 33/200 [00:20<01:02,  2.68it/s]"
     ]
    },
    {
     "name": "stdout",
     "output_type": "stream",
     "text": [
      "\n",
      "🔹 Predicted: Ringing is the result of overshoot caused by an underdamped circuit.\n",
      "🔸 Reference: Ringing is the result of overshoot caused by an underdamped circuit.\n"
     ]
    },
    {
     "name": "stderr",
     "output_type": "stream",
     "text": [
      "\r",
      " 17%|█▋        | 34/200 [00:21<01:00,  2.76it/s]"
     ]
    },
    {
     "name": "stdout",
     "output_type": "stream",
     "text": [
      "\n",
      "🔹 Predicted: He was the son of Admiral Henrik Bielke.\n",
      "🔸 Reference: He was the son of Admiral Henrik Bielke.\n"
     ]
    },
    {
     "name": "stderr",
     "output_type": "stream",
     "text": [
      "\r",
      " 18%|█▊        | 35/200 [00:21<01:02,  2.65it/s]"
     ]
    },
    {
     "name": "stdout",
     "output_type": "stream",
     "text": [
      "\n",
      "🔹 Predicted: Johannes Terho was vice president of the Finnish Chess Federation.\n",
      "🔸 Reference: Johannes Terho was vice president of the Finnish Chess Federation.\n"
     ]
    },
    {
     "name": "stderr",
     "output_type": "stream",
     "text": [
      "\r",
      " 18%|█▊        | 36/200 [00:22<00:58,  2.81it/s]"
     ]
    },
    {
     "name": "stdout",
     "output_type": "stream",
     "text": [
      "\n",
      "🔹 Predicted: She was also cast in \"Wild Guys\".\n",
      "🔸 Reference: She was also cast in \"Wild Guys\".\n"
     ]
    },
    {
     "name": "stderr",
     "output_type": "stream",
     "text": [
      "\r",
      " 18%|█▊        | 37/200 [00:22<00:53,  3.05it/s]"
     ]
    },
    {
     "name": "stdout",
     "output_type": "stream",
     "text": [
      "\n",
      "🔹 Predicted: Douw was married three times.\n",
      "🔸 Reference: Douw was married three times.\n"
     ]
    },
    {
     "name": "stderr",
     "output_type": "stream",
     "text": [
      "\r",
      " 19%|█▉        | 38/200 [00:30<07:16,  2.69s/it]"
     ]
    },
    {
     "name": "stdout",
     "output_type": "stream",
     "text": [
      "\n",
      "🔹 Predicted:  ಕೈತೈತೈತೈತೈತೈತೈತೈತೈತೈತೈತೈತೈತೈತೈತೈತೈತೈತೈತೈತೈತೈತೈತೈತೈತೈತೈತೈತೈತೈತೈತೈತೈತೈತೈತೈತೈತೈತೈತೈತೈತೈತೈತೈತೈತೈತೈತೈತೈತೈತೈತೈತೈತೈತೈತೈತೈತೈತೈತೈತೈತೈತೈತೈತೈತೈತೈತೈತೈತೈತೈತೈತೈತೈತೈತೈತೈತೈತೈತೈತೈತೈತೈತೈತೈತೈತೈತೈತೈತೈತೈತೈತೈತೈತೈತೈತೈತೈತೈತೈತೈತೈತೈತೈತೈತೈತೈತೈತೈತೈತೈ\n",
      "🔸 Reference: Conger's mother is actress Susan Harrison.\n"
     ]
    },
    {
     "name": "stderr",
     "output_type": "stream",
     "text": [
      "\r",
      " 20%|█▉        | 39/200 [00:30<05:17,  1.98s/it]"
     ]
    },
    {
     "name": "stdout",
     "output_type": "stream",
     "text": [
      "\n",
      "🔹 Predicted: It is a skiing resort with modern skiing equipment.\n",
      "🔸 Reference: It is a skiing resort with modern skiing equipment.\n"
     ]
    },
    {
     "name": "stderr",
     "output_type": "stream",
     "text": [
      "\r",
      " 20%|██        | 40/200 [00:31<04:00,  1.51s/it]"
     ]
    },
    {
     "name": "stdout",
     "output_type": "stream",
     "text": [
      "\n",
      "🔹 Predicted: He then asks Helmut to do his hammering \"with a little discretion\".\n",
      "🔸 Reference: He then asks Helmut to do his hammering \"with a little discretion\".\n"
     ]
    },
    {
     "name": "stderr",
     "output_type": "stream",
     "text": [
      "\r",
      " 20%|██        | 41/200 [00:31<03:03,  1.15s/it]"
     ]
    },
    {
     "name": "stdout",
     "output_type": "stream",
     "text": [
      "\n",
      "🔹 Predicted: Jones refused and wrote about the incident on her website.\n",
      "🔸 Reference: Jones refused and wrote about the incident on her website.\n"
     ]
    },
    {
     "name": "stderr",
     "output_type": "stream",
     "text": [
      "\r",
      " 21%|██        | 42/200 [00:32<02:30,  1.05it/s]"
     ]
    },
    {
     "name": "stdout",
     "output_type": "stream",
     "text": [
      "\n",
      "🔹 Predicted: A raiplām esi fitu reikinu spēlētu.\n",
      "🔸 Reference: A ripe plum is fit for a king's palate.\n"
     ]
    },
    {
     "name": "stderr",
     "output_type": "stream",
     "text": [
      "\r",
      " 22%|██▏       | 43/200 [00:32<02:04,  1.26it/s]"
     ]
    },
    {
     "name": "stdout",
     "output_type": "stream",
     "text": [
      "\n",
      "🔹 Predicted: Karetu School is also a local primary school in the Kawakawa region.\n",
      "🔸 Reference: Karetu School is also a local primary school in the Kawakawa region.\n"
     ]
    },
    {
     "name": "stderr",
     "output_type": "stream",
     "text": [
      "\r",
      " 22%|██▏       | 44/200 [00:32<01:42,  1.53it/s]"
     ]
    },
    {
     "name": "stdout",
     "output_type": "stream",
     "text": [
      "\n",
      "🔹 Predicted: The location is between the towns of Jean and Primm.\n",
      "🔸 Reference: The location is between the towns of Jean and Primm.\n"
     ]
    },
    {
     "name": "stderr",
     "output_type": "stream",
     "text": [
      "\r",
      " 22%|██▎       | 45/200 [00:33<01:29,  1.74it/s]"
     ]
    },
    {
     "name": "stdout",
     "output_type": "stream",
     "text": [
      "\n",
      "🔹 Predicted: A colony of the Moravian Church was also founded in the same year.\n",
      "🔸 Reference: A colony of the Moravian Church was also founded in the same year.\n"
     ]
    },
    {
     "name": "stderr",
     "output_type": "stream",
     "text": [
      "\r",
      " 23%|██▎       | 46/200 [00:33<01:21,  1.89it/s]"
     ]
    },
    {
     "name": "stdout",
     "output_type": "stream",
     "text": [
      "\n",
      "🔹 Predicted: During these dates, Fang begins to relate the tale of her friend's parents.\n",
      "🔸 Reference: During these dates, Fang begins to relate the tale of her friend's parents.\n"
     ]
    },
    {
     "name": "stderr",
     "output_type": "stream",
     "text": [
      "\r",
      " 24%|██▎       | 47/200 [00:33<01:13,  2.07it/s]"
     ]
    },
    {
     "name": "stdout",
     "output_type": "stream",
     "text": [
      "\n",
      "🔹 Predicted: He moved to Boston, where he became increasingly obsessed with his health.\n",
      "🔸 Reference: He moved to Boston, where he became increasingly obsessed with his health.\n"
     ]
    },
    {
     "name": "stderr",
     "output_type": "stream",
     "text": [
      "\r",
      " 24%|██▍       | 48/200 [00:34<01:11,  2.14it/s]"
     ]
    },
    {
     "name": "stdout",
     "output_type": "stream",
     "text": [
      "\n",
      "🔹 Predicted: After winning the election, Sharon needed to form a government in the Knesset.\n",
      "🔸 Reference: After winning the election, Sharon needed to form a government in the Knesset.\n"
     ]
    },
    {
     "name": "stderr",
     "output_type": "stream",
     "text": [
      "\r",
      " 24%|██▍       | 49/200 [00:34<01:05,  2.31it/s]"
     ]
    },
    {
     "name": "stdout",
     "output_type": "stream",
     "text": [
      "\n",
      "🔹 Predicted: The film was animated in both Britain and San Francisco, California.\n",
      "🔸 Reference: The film was animated in both Britain and San Francisco, California.\n"
     ]
    },
    {
     "name": "stderr",
     "output_type": "stream",
     "text": [
      "\r",
      " 25%|██▌       | 50/200 [00:34<00:55,  2.70it/s]"
     ]
    },
    {
     "name": "stdout",
     "output_type": "stream",
     "text": [
      "\n",
      "🔹 Predicted: His alternative position was wing.\n",
      "🔸 Reference: His alternative position was wing.\n"
     ]
    },
    {
     "name": "stderr",
     "output_type": "stream",
     "text": [
      "\r",
      " 26%|██▌       | 51/200 [00:35<00:53,  2.80it/s]"
     ]
    },
    {
     "name": "stdout",
     "output_type": "stream",
     "text": [
      "\n",
      "🔹 Predicted: As a solo performer, he later released two albums.\n",
      "🔸 Reference: As a solo performer, he later released two albums.\n"
     ]
    },
    {
     "name": "stderr",
     "output_type": "stream",
     "text": [
      "\r",
      " 26%|██▌       | 52/200 [00:35<00:53,  2.76it/s]"
     ]
    },
    {
     "name": "stdout",
     "output_type": "stream",
     "text": [
      "\n",
      "🔹 Predicted: The first and most widely used tracers are sunspots.\n",
      "🔸 Reference: The first and most widely used tracers are sunspots.\n"
     ]
    },
    {
     "name": "stderr",
     "output_type": "stream",
     "text": [
      "\r",
      " 26%|██▋       | 53/200 [00:36<00:54,  2.72it/s]"
     ]
    },
    {
     "name": "stdout",
     "output_type": "stream",
     "text": [
      "\n",
      "🔹 Predicted: They're going to get penalized for it, but So what?\n",
      "🔸 Reference: They're going to get penalized for it, but So what?\n"
     ]
    },
    {
     "name": "stderr",
     "output_type": "stream",
     "text": [
      "\r",
      " 27%|██▋       | 54/200 [00:36<00:53,  2.75it/s]"
     ]
    },
    {
     "name": "stdout",
     "output_type": "stream",
     "text": [
      "\n",
      "🔹 Predicted: The game had changed by the time the first Spanish settlers arrived.\n",
      "🔸 Reference: The game had changed by the time the first Spanish settlers arrived.\n"
     ]
    },
    {
     "name": "stderr",
     "output_type": "stream",
     "text": [
      "\r",
      " 28%|██▊       | 55/200 [00:36<00:56,  2.58it/s]"
     ]
    },
    {
     "name": "stdout",
     "output_type": "stream",
     "text": [
      "\n",
      "🔹 Predicted: Some Indian Pattern cars saw use in the Indian subcontinent and Burma.\n",
      "🔸 Reference: Some Indian Pattern cars saw use in the Indian subcontinent and Burma.\n"
     ]
    },
    {
     "name": "stderr",
     "output_type": "stream",
     "text": [
      "\r",
      " 28%|██▊       | 56/200 [00:37<00:55,  2.60it/s]"
     ]
    },
    {
     "name": "stdout",
     "output_type": "stream",
     "text": [
      "\n",
      "🔹 Predicted: Before the grain can be used, the husks must be removed.\n",
      "🔸 Reference: Before the grain can be used, the husks must be removed.\n"
     ]
    },
    {
     "name": "stderr",
     "output_type": "stream",
     "text": [
      "\r",
      " 28%|██▊       | 57/200 [00:37<00:53,  2.69it/s]"
     ]
    },
    {
     "name": "stdout",
     "output_type": "stream",
     "text": [
      "\n",
      "🔹 Predicted: For thousands of years, Native American tribes inhabited this region.\n",
      "🔸 Reference: For thousands of years, Native American tribes inhabited this region.\n"
     ]
    },
    {
     "name": "stderr",
     "output_type": "stream",
     "text": [
      "\r",
      " 29%|██▉       | 58/200 [00:37<00:52,  2.71it/s]"
     ]
    },
    {
     "name": "stdout",
     "output_type": "stream",
     "text": [
      "\n",
      "🔹 Predicted: Therefore, transitivity is semantically valid without any constraints.\n",
      "🔸 Reference: Therefore, transitivity is semantically valid without any constraints.\n"
     ]
    },
    {
     "name": "stderr",
     "output_type": "stream",
     "text": [
      "\r",
      " 30%|██▉       | 59/200 [00:38<00:54,  2.57it/s]"
     ]
    },
    {
     "name": "stdout",
     "output_type": "stream",
     "text": [
      "\n",
      "🔹 Predicted: Nevertheless, the inhabitants decided to improve their farming techniques and started making terraces.\n",
      "🔸 Reference: Nevertheless, the inhabitants decided to improve their farming techniques and started making terraces.\n"
     ]
    },
    {
     "name": "stderr",
     "output_type": "stream",
     "text": [
      "\r",
      " 30%|███       | 60/200 [00:38<00:56,  2.46it/s]"
     ]
    },
    {
     "name": "stdout",
     "output_type": "stream",
     "text": [
      "\n",
      "🔹 Predicted: For more detail, see the article in the \"Anchor Bible Dictionary\".\n",
      "🔸 Reference: For more detail, see the article in the \"Anchor Bible Dictionary\".\n"
     ]
    },
    {
     "name": "stderr",
     "output_type": "stream",
     "text": [
      "\r",
      " 30%|███       | 61/200 [00:39<00:49,  2.79it/s]"
     ]
    },
    {
     "name": "stdout",
     "output_type": "stream",
     "text": [
      "\n",
      "🔹 Predicted: Its county seat is Murphy.\n",
      "🔸 Reference: Its county seat is Murphy.\n"
     ]
    },
    {
     "name": "stderr",
     "output_type": "stream",
     "text": [
      "\r",
      " 31%|███       | 62/200 [00:39<00:53,  2.59it/s]"
     ]
    },
    {
     "name": "stdout",
     "output_type": "stream",
     "text": [
      "\n",
      "🔹 Predicted: Tom sleeps with the queen, Celia, but is compelled to return to his quest.\n",
      "🔸 Reference: Tom sleeps with the queen, Celia, but is compelled to return to his quest.\n"
     ]
    },
    {
     "name": "stderr",
     "output_type": "stream",
     "text": [
      "\r",
      " 32%|███▏      | 63/200 [00:40<00:58,  2.33it/s]"
     ]
    },
    {
     "name": "stdout",
     "output_type": "stream",
     "text": [
      "\n",
      "🔹 Predicted: It was named for Cleora Ann Lunday, sister of the postmaster, Ed Lunday.\n",
      "🔸 Reference: It was named for Cleora Ann Lunday, sister of the postmaster, Ed Lunday.\n"
     ]
    },
    {
     "name": "stderr",
     "output_type": "stream",
     "text": [
      "\r",
      " 32%|███▏      | 64/200 [00:40<00:53,  2.55it/s]"
     ]
    },
    {
     "name": "stdout",
     "output_type": "stream",
     "text": [
      "\n",
      "🔹 Predicted: The control tower has been recorded as being haunted.\n",
      "🔸 Reference: The control tower has been recorded as being haunted.\n"
     ]
    },
    {
     "name": "stderr",
     "output_type": "stream",
     "text": [
      "\r",
      " 32%|███▎      | 65/200 [00:40<00:50,  2.69it/s]"
     ]
    },
    {
     "name": "stdout",
     "output_type": "stream",
     "text": [
      "\n",
      "🔹 Predicted: It is also sometimes prepared for wedding banquets.\n",
      "🔸 Reference: It is also sometimes prepared for wedding banquets.\n"
     ]
    },
    {
     "name": "stderr",
     "output_type": "stream",
     "text": [
      "\r",
      " 33%|███▎      | 66/200 [00:41<00:53,  2.50it/s]"
     ]
    },
    {
     "name": "stdout",
     "output_type": "stream",
     "text": [
      "\n",
      "🔹 Predicted: Toliver also proves important in Hawk-Owl's origin later on in the series.\n",
      "🔸 Reference: Toliver also proves important in Hawk-Owl's origin later on in the series.\n"
     ]
    },
    {
     "name": "stderr",
     "output_type": "stream",
     "text": [
      "\r",
      " 34%|███▎      | 67/200 [00:41<00:52,  2.53it/s]"
     ]
    },
    {
     "name": "stdout",
     "output_type": "stream",
     "text": [
      "\n",
      "🔹 Predicted: However, both creatures were fond of pranks and misleading people.\n",
      "🔸 Reference: However, both creatures were fond of pranks and misleading people.\n"
     ]
    },
    {
     "name": "stderr",
     "output_type": "stream",
     "text": [
      "\r",
      " 34%|███▍      | 68/200 [00:41<00:47,  2.78it/s]"
     ]
    },
    {
     "name": "stdout",
     "output_type": "stream",
     "text": [
      "\n",
      "🔹 Predicted: The song is played only to the chorus.\n",
      "🔸 Reference: The song is played only to the chorus.\n"
     ]
    },
    {
     "name": "stderr",
     "output_type": "stream",
     "text": [
      "\r",
      " 34%|███▍      | 69/200 [00:42<00:50,  2.58it/s]"
     ]
    },
    {
     "name": "stdout",
     "output_type": "stream",
     "text": [
      "\n",
      "🔹 Predicted: Additional local programming is planned, including some previously aired on the college's cable channel.\n",
      "🔸 Reference: Additional local programming is planned, including some previously aired on the college's cable channel.\n"
     ]
    },
    {
     "name": "stderr",
     "output_type": "stream",
     "text": [
      "\r",
      " 35%|███▌      | 70/200 [00:42<00:47,  2.73it/s]"
     ]
    },
    {
     "name": "stdout",
     "output_type": "stream",
     "text": [
      "\n",
      "🔹 Predicted: Today there is an arena in London named for him.\n",
      "🔸 Reference: Today there is an arena in London named for him.\n"
     ]
    },
    {
     "name": "stderr",
     "output_type": "stream",
     "text": [
      "\r",
      " 36%|███▌      | 71/200 [00:43<00:49,  2.63it/s]"
     ]
    },
    {
     "name": "stdout",
     "output_type": "stream",
     "text": [
      "\n",
      "🔹 Predicted: The record label draws its name from notorious drug lord Griselda Blanco.\n",
      "🔸 Reference: The record label draws its name from notorious drug lord Griselda Blanco.\n"
     ]
    },
    {
     "name": "stderr",
     "output_type": "stream",
     "text": [
      "\r",
      " 36%|███▌      | 72/200 [00:43<00:46,  2.73it/s]"
     ]
    },
    {
     "name": "stdout",
     "output_type": "stream",
     "text": [
      "\n",
      "🔹 Predicted: The vehicles sold there would be used for luxury taxi operations.\n",
      "🔸 Reference: The vehicles sold there would be used for luxury taxi operations.\n"
     ]
    },
    {
     "name": "stderr",
     "output_type": "stream",
     "text": [
      "\r",
      " 36%|███▋      | 73/200 [00:43<00:48,  2.62it/s]"
     ]
    },
    {
     "name": "stdout",
     "output_type": "stream",
     "text": [
      "\n",
      "🔹 Predicted: He created what grew into the beacon service and the hydrographic services.\n",
      "🔸 Reference: He created what grew into the beacon service and the hydrographic services.\n"
     ]
    },
    {
     "name": "stderr",
     "output_type": "stream",
     "text": [
      "\r",
      " 37%|███▋      | 74/200 [00:44<00:47,  2.64it/s]"
     ]
    },
    {
     "name": "stdout",
     "output_type": "stream",
     "text": [
      "\n",
      "🔹 Predicted: Classmates called her \"Baby\" since she was the youngest girl.\n",
      "🔸 Reference: Classmates called her \"Baby\" since she was the youngest girl.\n"
     ]
    },
    {
     "name": "stderr",
     "output_type": "stream",
     "text": [
      "\r",
      " 38%|███▊      | 75/200 [00:44<00:49,  2.54it/s]"
     ]
    },
    {
     "name": "stdout",
     "output_type": "stream",
     "text": [
      "\n",
      "🔹 Predicted: Ionikos Nikaias clinched the championship by winning the regular season.\n",
      "🔸 Reference: Ionikos Nikaias clinched the championship by winning the regular season.\n"
     ]
    },
    {
     "name": "stderr",
     "output_type": "stream",
     "text": [
      "\r",
      " 38%|███▊      | 76/200 [00:45<00:53,  2.30it/s]"
     ]
    },
    {
     "name": "stdout",
     "output_type": "stream",
     "text": [
      "\n",
      "🔹 Predicted:  Its provizionāli sietu esi kaiķīdnī kohau.\n",
      "🔸 Reference: Its provisional seat was located in Kovel.\n"
     ]
    },
    {
     "name": "stderr",
     "output_type": "stream",
     "text": [
      "\r",
      " 38%|███▊      | 77/200 [00:45<00:51,  2.37it/s]"
     ]
    },
    {
     "name": "stdout",
     "output_type": "stream",
     "text": [
      "\n",
      "🔹 Predicted: Wylie Collegiate Professor of Civil Engineering at the University of Michigan.\n",
      "🔸 Reference: Wylie Collegiate Professor of Civil Engineering at the University of Michigan.\n"
     ]
    },
    {
     "name": "stderr",
     "output_type": "stream",
     "text": [
      "\r",
      " 39%|███▉      | 78/200 [00:45<00:49,  2.46it/s]"
     ]
    },
    {
     "name": "stdout",
     "output_type": "stream",
     "text": [
      "\n",
      "🔹 Predicted: Among them include President of Singapore Halimah Yacob.\n",
      "🔸 Reference: Among them include President of Singapore Halimah Yacob.\n"
     ]
    },
    {
     "name": "stderr",
     "output_type": "stream",
     "text": [
      "\r",
      " 40%|███▉      | 79/200 [00:46<00:48,  2.52it/s]"
     ]
    },
    {
     "name": "stdout",
     "output_type": "stream",
     "text": [
      "\n",
      "🔹 Predicted: The famous straight is often called the Mulsanne Straight in English.\n",
      "🔸 Reference: The famous straight is often called the Mulsanne Straight in English.\n"
     ]
    },
    {
     "name": "stderr",
     "output_type": "stream",
     "text": [
      "\r",
      " 40%|████      | 80/200 [00:46<00:46,  2.56it/s]"
     ]
    },
    {
     "name": "stdout",
     "output_type": "stream",
     "text": [
      "\n",
      "🔹 Predicted: These positions are not held for the duration of a skydive.\n",
      "🔸 Reference: These positions are not held for the duration of a skydive.\n"
     ]
    },
    {
     "name": "stderr",
     "output_type": "stream",
     "text": [
      "\r",
      " 40%|████      | 81/200 [00:46<00:45,  2.59it/s]"
     ]
    },
    {
     "name": "stdout",
     "output_type": "stream",
     "text": [
      "\n",
      "🔹 Predicted: Both boys also frequently worked as farm laborers to supplement their allowance.\n",
      "🔸 Reference: Both boys also frequently worked as farm laborers to supplement their allowance.\n"
     ]
    },
    {
     "name": "stderr",
     "output_type": "stream",
     "text": [
      "\r",
      " 41%|████      | 82/200 [00:47<00:53,  2.21it/s]"
     ]
    },
    {
     "name": "stdout",
     "output_type": "stream",
     "text": [
      "\n",
      "🔹 Predicted: Mimhaw, Ms. Choksondik, daz and Cartman, Kyle and Stan think that they are responsible.\n",
      "🔸 Reference: Meanwhile, Ms. Choksondik dies and Cartman, Kyle and Stan think that they are responsible.\n"
     ]
    },
    {
     "name": "stderr",
     "output_type": "stream",
     "text": [
      "\r",
      " 42%|████▏     | 83/200 [00:47<00:44,  2.61it/s]"
     ]
    },
    {
     "name": "stdout",
     "output_type": "stream",
     "text": [
      "\n",
      "🔹 Predicted:  The economic climate has improved.\n",
      "🔸 Reference: The economic climate has improved.\n"
     ]
    },
    {
     "name": "stderr",
     "output_type": "stream",
     "text": [
      "\r",
      " 42%|████▏     | 84/200 [00:48<00:42,  2.72it/s]"
     ]
    },
    {
     "name": "stdout",
     "output_type": "stream",
     "text": [
      "\n",
      "🔹 Predicted: The old man laid down his hand to light a cigar.\n",
      "🔸 Reference: The old man laid down his hand to light a cigar.\n"
     ]
    },
    {
     "name": "stderr",
     "output_type": "stream",
     "text": [
      "\r",
      " 42%|████▎     | 85/200 [00:48<00:38,  2.98it/s]"
     ]
    },
    {
     "name": "stdout",
     "output_type": "stream",
     "text": [
      "\n",
      "🔹 Predicted: It has a million megapixels.\n",
      "🔸 Reference: It has a million megapixels.\n"
     ]
    },
    {
     "name": "stderr",
     "output_type": "stream",
     "text": [
      "\r",
      " 43%|████▎     | 86/200 [00:48<00:35,  3.19it/s]"
     ]
    },
    {
     "name": "stdout",
     "output_type": "stream",
     "text": [
      "\n",
      "🔹 Predicted: He is driving it in broad daylight.\n",
      "🔸 Reference: He is driving it in broad daylight.\n"
     ]
    },
    {
     "name": "stderr",
     "output_type": "stream",
     "text": [
      "\r",
      " 44%|████▎     | 87/200 [00:49<00:38,  2.92it/s]"
     ]
    },
    {
     "name": "stdout",
     "output_type": "stream",
     "text": [
      "\n",
      "🔹 Predicted: Police knew that Edward owned the items and did not want them seized.\n",
      "🔸 Reference: Police knew that Edward owned the items and did not want them seized.\n"
     ]
    },
    {
     "name": "stderr",
     "output_type": "stream",
     "text": [
      "\r",
      " 44%|████▍     | 88/200 [00:49<00:45,  2.48it/s]"
     ]
    },
    {
     "name": "stdout",
     "output_type": "stream",
     "text": [
      "\n",
      "🔹 Predicted:  ಕರಿಕರಿಕರಿಕರಿ\n",
      "🔸 Reference: Eyton.\n"
     ]
    },
    {
     "name": "stderr",
     "output_type": "stream",
     "text": [
      "\r",
      " 44%|████▍     | 89/200 [00:49<00:43,  2.54it/s]"
     ]
    },
    {
     "name": "stdout",
     "output_type": "stream",
     "text": [
      "\n",
      "🔹 Predicted: It was built by people associated with the railroads in Macon.\n",
      "🔸 Reference: It was built by people associated with the railroads in Macon.\n"
     ]
    },
    {
     "name": "stderr",
     "output_type": "stream",
     "text": [
      "\r",
      " 45%|████▌     | 90/200 [00:50<00:40,  2.70it/s]"
     ]
    },
    {
     "name": "stdout",
     "output_type": "stream",
     "text": [
      "\n",
      "🔹 Predicted: Harkness and it was named Dingo Beach.\n",
      "🔸 Reference: Harkness and it was named Dingo Beach.\n"
     ]
    },
    {
     "name": "stderr",
     "output_type": "stream",
     "text": [
      "\r",
      " 46%|████▌     | 91/200 [00:50<00:37,  2.92it/s]"
     ]
    },
    {
     "name": "stdout",
     "output_type": "stream",
     "text": [
      "\n",
      "🔹 Predicted: The incident was blamed on a software glitch.\n",
      "🔸 Reference: The incident was blamed on a software glitch.\n"
     ]
    },
    {
     "name": "stderr",
     "output_type": "stream",
     "text": [
      "\r",
      " 46%|████▌     | 92/200 [00:51<00:40,  2.65it/s]"
     ]
    },
    {
     "name": "stdout",
     "output_type": "stream",
     "text": [
      "\n",
      "🔹 Predicted: In some other parts of the temple, however, the emperor is simply called \"Pharaoh\".\n",
      "🔸 Reference: In some other parts of the temple, however, the emperor is simply called \"Pharaoh\".\n"
     ]
    },
    {
     "name": "stderr",
     "output_type": "stream",
     "text": [
      "\r",
      " 46%|████▋     | 93/200 [00:51<00:37,  2.84it/s]"
     ]
    },
    {
     "name": "stdout",
     "output_type": "stream",
     "text": [
      "\n",
      "🔹 Predicted:  Mēs jau tur dienu.\n",
      "🔸 Reference: They also divorced.\n"
     ]
    },
    {
     "name": "stderr",
     "output_type": "stream",
     "text": [
      "\r",
      " 47%|████▋     | 94/200 [00:51<00:38,  2.74it/s]"
     ]
    },
    {
     "name": "stdout",
     "output_type": "stream",
     "text": [
      "\n",
      "🔹 Predicted: The energy from the Sun is an example of this form of energy conversion.\n",
      "🔸 Reference: The energy from the Sun is an example of this form of energy conversion.\n"
     ]
    },
    {
     "name": "stderr",
     "output_type": "stream",
     "text": [
      "\r",
      " 48%|████▊     | 95/200 [00:52<00:39,  2.65it/s]"
     ]
    },
    {
     "name": "stdout",
     "output_type": "stream",
     "text": [
      "\n",
      "🔹 Predicted: It is the capital of Vatovavy-Fitovinany Region.\n",
      "🔸 Reference: It is the capital of Vatovavy-Fitovinany Region.\n"
     ]
    },
    {
     "name": "stderr",
     "output_type": "stream",
     "text": [
      "\r",
      " 48%|████▊     | 96/200 [00:52<00:39,  2.62it/s]"
     ]
    },
    {
     "name": "stdout",
     "output_type": "stream",
     "text": [
      "\n",
      "🔹 Predicted: No reason, however, was given as to the change of birth years.\n",
      "🔸 Reference: No reason, however, was given as to the change of birth years.\n"
     ]
    },
    {
     "name": "stderr",
     "output_type": "stream",
     "text": [
      "\r",
      " 48%|████▊     | 97/200 [00:52<00:35,  2.89it/s]"
     ]
    },
    {
     "name": "stdout",
     "output_type": "stream",
     "text": [
      "\n",
      "🔹 Predicted: The destroyer had a busy July.\n",
      "🔸 Reference: The destroyer had a busy July.\n"
     ]
    },
    {
     "name": "stderr",
     "output_type": "stream",
     "text": [
      "\r",
      " 49%|████▉     | 98/200 [00:53<00:34,  2.96it/s]"
     ]
    },
    {
     "name": "stdout",
     "output_type": "stream",
     "text": [
      "\n",
      "🔹 Predicted:  she is more popular in South Korea than in Japan.\n",
      "🔸 Reference: She is more popular in South Korea than in Japan.\n"
     ]
    },
    {
     "name": "stderr",
     "output_type": "stream",
     "text": [
      "\r",
      " 50%|████▉     | 99/200 [00:53<00:32,  3.12it/s]"
     ]
    },
    {
     "name": "stdout",
     "output_type": "stream",
     "text": [
      "\n",
      "🔹 Predicted: David B. and Lewis Trondheim.\n",
      "🔸 Reference: David B. and Lewis Trondheim.\n"
     ]
    },
    {
     "name": "stderr",
     "output_type": "stream",
     "text": [
      "\r",
      " 50%|█████     | 100/200 [00:53<00:32,  3.03it/s]"
     ]
    },
    {
     "name": "stdout",
     "output_type": "stream",
     "text": [
      "\n",
      "🔹 Predicted: The legs are straight, and the toes and feet are pointed.\n",
      "🔸 Reference: The legs are straight, and the toes and feet are pointed.\n"
     ]
    },
    {
     "name": "stderr",
     "output_type": "stream",
     "text": [
      "\r",
      " 50%|█████     | 101/200 [00:54<00:38,  2.55it/s]"
     ]
    },
    {
     "name": "stdout",
     "output_type": "stream",
     "text": [
      "\n",
      "🔹 Predicted: The great Mughal Akbar decided to invade Mandu and capture Roopmati and Baz Bahadur.\n",
      "🔸 Reference: The great Mughal Akbar decided to invade Mandu and capture Roopmati and Baz Bahadur.\n"
     ]
    },
    {
     "name": "stderr",
     "output_type": "stream",
     "text": [
      "\r",
      " 51%|█████     | 102/200 [00:54<00:41,  2.34it/s]"
     ]
    },
    {
     "name": "stdout",
     "output_type": "stream",
     "text": [
      "\n",
      "🔹 Predicted: She was married to Captain James Pinson Labulo Davies, a wealthy Victorian Lagos philanthropist.\n",
      "🔸 Reference: She was married to Captain James Pinson Labulo Davies, a wealthy Victorian Lagos philanthropist.\n"
     ]
    },
    {
     "name": "stderr",
     "output_type": "stream",
     "text": [
      "\r",
      " 52%|█████▏    | 103/200 [00:55<00:42,  2.26it/s]"
     ]
    },
    {
     "name": "stdout",
     "output_type": "stream",
     "text": [
      "\n",
      "🔹 Predicted: Glass also based his earlier Low Symphony on the David Bowie album, \"Low\".\n",
      "🔸 Reference: Glass also based his earlier Low Symphony on the David Bowie album, \"Low\".\n"
     ]
    },
    {
     "name": "stderr",
     "output_type": "stream",
     "text": [
      "\r",
      " 52%|█████▏    | 104/200 [00:55<00:38,  2.47it/s]"
     ]
    },
    {
     "name": "stdout",
     "output_type": "stream",
     "text": [
      "\n",
      "🔹 Predicted: McAskill was declared elected to the third position.\n",
      "🔸 Reference: McAskill was declared elected to the third position.\n"
     ]
    },
    {
     "name": "stderr",
     "output_type": "stream",
     "text": [
      "\r",
      " 52%|█████▎    | 105/200 [00:55<00:37,  2.57it/s]"
     ]
    },
    {
     "name": "stdout",
     "output_type": "stream",
     "text": [
      "\n",
      "🔹 Predicted: Chicot the Jester is a character in the novel.\n",
      "🔸 Reference: Chicot the Jester is a character in the novel.\n"
     ]
    },
    {
     "name": "stderr",
     "output_type": "stream",
     "text": [
      "\r",
      " 53%|█████▎    | 106/200 [00:56<00:35,  2.68it/s]"
     ]
    },
    {
     "name": "stdout",
     "output_type": "stream",
     "text": [
      "\n",
      "🔹 Predicted: The origin of this extremely unusual feature is as yet unknown.\n",
      "🔸 Reference: The origin of this extremely unusual feature is as yet unknown.\n"
     ]
    },
    {
     "name": "stderr",
     "output_type": "stream",
     "text": [
      "\r",
      " 54%|█████▎    | 107/200 [00:56<00:34,  2.71it/s]"
     ]
    },
    {
     "name": "stdout",
     "output_type": "stream",
     "text": [
      "\n",
      "🔹 Predicted: The southern portion of the department drops away towards the Pacific coast.\n",
      "🔸 Reference: The southern portion of the department drops away towards the Pacific coast.\n"
     ]
    },
    {
     "name": "stderr",
     "output_type": "stream",
     "text": [
      "\r",
      " 54%|█████▍    | 108/200 [00:57<00:34,  2.65it/s]"
     ]
    },
    {
     "name": "stdout",
     "output_type": "stream",
     "text": [
      "\n",
      "🔹 Predicted: \"Sonny's Dream\" featured arrangements by Horace Tapscott.\n",
      "🔸 Reference: \"Sonny's Dream\" featured arrangements by Horace Tapscott.\n"
     ]
    },
    {
     "name": "stderr",
     "output_type": "stream",
     "text": [
      "\r",
      " 55%|█████▍    | 109/200 [00:57<00:34,  2.65it/s]"
     ]
    },
    {
     "name": "stdout",
     "output_type": "stream",
     "text": [
      "\n",
      "🔹 Predicted: Jack London worked in a jute mill before becoming a successful writer.\n",
      "🔸 Reference: Jack London worked in a jute mill before becoming a successful writer.\n"
     ]
    },
    {
     "name": "stderr",
     "output_type": "stream",
     "text": [
      "\r",
      " 55%|█████▌    | 110/200 [00:57<00:32,  2.74it/s]"
     ]
    },
    {
     "name": "stdout",
     "output_type": "stream",
     "text": [
      "\n",
      "🔹 Predicted: Many huts are hosted and also offer sleeping accommodations.\n",
      "🔸 Reference: Many huts are hosted and also offer sleeping accommodations.\n"
     ]
    },
    {
     "name": "stderr",
     "output_type": "stream",
     "text": [
      "\r",
      " 56%|█████▌    | 111/200 [00:58<00:32,  2.72it/s]"
     ]
    },
    {
     "name": "stdout",
     "output_type": "stream",
     "text": [
      "\n",
      "🔹 Predicted: Witten was born in Baltimore, Maryland, to a Jewish family.\n",
      "🔸 Reference: Witten was born in Baltimore, Maryland, to a Jewish family.\n"
     ]
    },
    {
     "name": "stderr",
     "output_type": "stream",
     "text": [
      "\r",
      " 56%|█████▌    | 112/200 [00:58<00:34,  2.53it/s]"
     ]
    },
    {
     "name": "stdout",
     "output_type": "stream",
     "text": [
      "\n",
      "🔹 Predicted: Mechanical, pneumatic, hydraulic, and other systems may also use analogue signals.\n",
      "🔸 Reference: Mechanical, pneumatic, hydraulic, and other systems may also use analogue signals.\n"
     ]
    },
    {
     "name": "stderr",
     "output_type": "stream",
     "text": [
      "\r",
      " 56%|█████▋    | 113/200 [00:58<00:34,  2.50it/s]"
     ]
    },
    {
     "name": "stdout",
     "output_type": "stream",
     "text": [
      "\n",
      "🔹 Predicted: The Bureau of Reclamation clear cut and cleaned the lake bottom before it filled.\n",
      "🔸 Reference: The Bureau of Reclamation clear cut and cleaned the lake bottom before it filled.\n"
     ]
    },
    {
     "name": "stderr",
     "output_type": "stream",
     "text": [
      "\r",
      " 57%|█████▋    | 114/200 [00:59<00:36,  2.35it/s]"
     ]
    },
    {
     "name": "stdout",
     "output_type": "stream",
     "text": [
      "\n",
      "🔹 Predicted: Marek Guffers leave their patrilocal extended household only after several children are born.\n",
      "🔸 Reference: Married couples leave their patrilocal extended household only after several children are born.\n"
     ]
    },
    {
     "name": "stderr",
     "output_type": "stream",
     "text": [
      "\r",
      " 57%|█████▊    | 115/200 [00:59<00:31,  2.69it/s]"
     ]
    },
    {
     "name": "stdout",
     "output_type": "stream",
     "text": [
      "\n",
      "🔹 Predicted: The Coster family valued education.\n",
      "🔸 Reference: The Coster family valued education.\n"
     ]
    },
    {
     "name": "stderr",
     "output_type": "stream",
     "text": [
      "\r",
      " 58%|█████▊    | 116/200 [01:00<00:32,  2.58it/s]"
     ]
    },
    {
     "name": "stdout",
     "output_type": "stream",
     "text": [
      "\n",
      "🔹 Predicted: “No, I won’t dance,” she said softly.\n",
      "🔸 Reference: “No, I won’t dance,” she said softly.\n"
     ]
    },
    {
     "name": "stderr",
     "output_type": "stream",
     "text": [
      "\r",
      " 58%|█████▊    | 117/200 [01:00<00:29,  2.86it/s]"
     ]
    },
    {
     "name": "stdout",
     "output_type": "stream",
     "text": [
      "\n",
      "🔹 Predicted: No, but you are Roman Catholic?\n",
      "🔸 Reference: No, but you are a Roman Catholic?\n"
     ]
    },
    {
     "name": "stderr",
     "output_type": "stream",
     "text": [
      "\r",
      " 59%|█████▉    | 118/200 [01:00<00:29,  2.81it/s]"
     ]
    },
    {
     "name": "stdout",
     "output_type": "stream",
     "text": [
      "\n",
      "🔹 Predicted: In theology he was a follower of Joseph Ratzinger's theories.\n",
      "🔸 Reference: In theology he was a follower of Joseph Ratzinger's theories.\n"
     ]
    },
    {
     "name": "stderr",
     "output_type": "stream",
     "text": [
      "\r",
      " 60%|█████▉    | 119/200 [01:00<00:25,  3.16it/s]"
     ]
    },
    {
     "name": "stdout",
     "output_type": "stream",
     "text": [
      "\n",
      "🔹 Predicted: Both brothers attended Wellington College.\n",
      "🔸 Reference: Both brothers attended Wellington College.\n"
     ]
    },
    {
     "name": "stderr",
     "output_type": "stream",
     "text": [
      "\r",
      " 60%|██████    | 120/200 [01:01<00:26,  3.01it/s]"
     ]
    },
    {
     "name": "stdout",
     "output_type": "stream",
     "text": [
      "\n",
      "🔹 Predicted: They usually cater to sub-regional markets of larger metropolitan areas.\n",
      "🔸 Reference: They usually cater to sub-regional markets of larger metropolitan areas.\n"
     ]
    },
    {
     "name": "stderr",
     "output_type": "stream",
     "text": [
      "\r",
      " 60%|██████    | 121/200 [01:01<00:26,  3.01it/s]"
     ]
    },
    {
     "name": "stdout",
     "output_type": "stream",
     "text": [
      "\n",
      "🔹 Predicted: The Fogle Flats are townhouses available to seniors.\n",
      "🔸 Reference: The Fogle Flats are townhouses available to seniors.\n"
     ]
    },
    {
     "name": "stderr",
     "output_type": "stream",
     "text": [
      "\r",
      " 61%|██████    | 122/200 [01:02<00:26,  2.89it/s]"
     ]
    },
    {
     "name": "stdout",
     "output_type": "stream",
     "text": [
      "\n",
      "🔹 Predicted: They will often have a difficult time getting to sleep or staying asleep.\n",
      "🔸 Reference: They will often have a difficult time getting to sleep or staying asleep.\n"
     ]
    },
    {
     "name": "stderr",
     "output_type": "stream",
     "text": [
      "\r",
      " 62%|██████▏   | 123/200 [01:02<00:28,  2.66it/s]"
     ]
    },
    {
     "name": "stdout",
     "output_type": "stream",
     "text": [
      "\n",
      "🔹 Predicted: Sneaker Pimps' version begins with a short sound clip from the movie.\n",
      "🔸 Reference: Sneaker Pimps' version begins with a short sound clip from the movie.\n"
     ]
    },
    {
     "name": "stderr",
     "output_type": "stream",
     "text": [
      "\r",
      " 62%|██████▏   | 124/200 [01:02<00:27,  2.75it/s]"
     ]
    },
    {
     "name": "stdout",
     "output_type": "stream",
     "text": [
      "\n",
      "🔹 Predicted: This was described as a tourism, leisure and retail attraction.\n",
      "🔸 Reference: This was described as a tourism, leisure and retail attraction.\n"
     ]
    },
    {
     "name": "stderr",
     "output_type": "stream",
     "text": [
      "\r",
      " 62%|██████▎   | 125/200 [01:03<00:27,  2.72it/s]"
     ]
    },
    {
     "name": "stdout",
     "output_type": "stream",
     "text": [
      "\n",
      "🔹 Predicted: All figures below are provided by the Centre for Land Warfare Studies.\n",
      "🔸 Reference: All figures below are provided by the Centre for Land Warfare Studies.\n"
     ]
    },
    {
     "name": "stderr",
     "output_type": "stream",
     "text": [
      "\r",
      " 63%|██████▎   | 126/200 [01:03<00:29,  2.52it/s]"
     ]
    },
    {
     "name": "stdout",
     "output_type": "stream",
     "text": [
      "\n",
      "🔹 Predicted: She too later appeared in \"The Wildcats\" film, this time as a teacher.\n",
      "🔸 Reference: She too later appeared in \"The Wildcats\" film, this time as a teacher.\n"
     ]
    },
    {
     "name": "stderr",
     "output_type": "stream",
     "text": [
      "\r",
      " 64%|██████▎   | 127/200 [01:04<00:32,  2.23it/s]"
     ]
    },
    {
     "name": "stdout",
     "output_type": "stream",
     "text": [
      "\n",
      "🔹 Predicted:  Erkeäniä kenttäriä olivat primäärin Palatain Järvenä.\n",
      "🔸 Reference: Early settlers were primarily Palatine Germans.\n"
     ]
    },
    {
     "name": "stderr",
     "output_type": "stream",
     "text": [
      "\r",
      " 64%|██████▍   | 128/200 [01:04<00:27,  2.59it/s]"
     ]
    },
    {
     "name": "stdout",
     "output_type": "stream",
     "text": [
      "\n",
      "🔹 Predicted: The cause of extinction is unknown.\n",
      "🔸 Reference: The cause of extinction is unknown.\n"
     ]
    },
    {
     "name": "stderr",
     "output_type": "stream",
     "text": [
      "\r",
      " 64%|██████▍   | 129/200 [01:05<00:30,  2.34it/s]"
     ]
    },
    {
     "name": "stdout",
     "output_type": "stream",
     "text": [
      "\n",
      "🔹 Predicted: It was released in Japan under the title \"Gungriffon: The Eurasian Conflict\".\n",
      "🔸 Reference: It was released in Japan under the title \"Gungriffon: The Eurasian Conflict\".\n"
     ]
    },
    {
     "name": "stderr",
     "output_type": "stream",
     "text": [
      "\r",
      " 65%|██████▌   | 130/200 [01:05<00:28,  2.43it/s]"
     ]
    },
    {
     "name": "stdout",
     "output_type": "stream",
     "text": [
      "\n",
      "🔹 Predicted: Diaz is also a Curtis alumnus and faculty member.\n",
      "🔸 Reference: Diaz is also a Curtis alumnus and faculty member.\n"
     ]
    },
    {
     "name": "stderr",
     "output_type": "stream",
     "text": [
      "\r",
      " 66%|██████▌   | 131/200 [01:05<00:27,  2.50it/s]"
     ]
    },
    {
     "name": "stdout",
     "output_type": "stream",
     "text": [
      "\n",
      "🔹 Predicted: A black pearl stolen from an Indian idol is reputedly cursed.\n",
      "🔸 Reference: A black pearl stolen from an Indian idol is reputedly cursed.\n"
     ]
    },
    {
     "name": "stderr",
     "output_type": "stream",
     "text": [
      "\r",
      " 66%|██████▌   | 132/200 [01:06<00:25,  2.67it/s]"
     ]
    },
    {
     "name": "stdout",
     "output_type": "stream",
     "text": [
      "\n",
      "🔹 Predicted: He serves as an officer in the Air National Guard.\n",
      "🔸 Reference: He serves as an officer in the Air National Guard.\n"
     ]
    },
    {
     "name": "stderr",
     "output_type": "stream",
     "text": [
      "\r",
      " 66%|██████▋   | 133/200 [01:06<00:21,  3.05it/s]"
     ]
    },
    {
     "name": "stdout",
     "output_type": "stream",
     "text": [
      "\n",
      "🔹 Predicted: Kroh married twice.\n",
      "🔸 Reference: Kroh married twice.\n"
     ]
    },
    {
     "name": "stderr",
     "output_type": "stream",
     "text": [
      "\r",
      " 67%|██████▋   | 134/200 [01:06<00:20,  3.20it/s]"
     ]
    },
    {
     "name": "stdout",
     "output_type": "stream",
     "text": [
      "\n",
      "🔹 Predicted: The main focus after the foundation was gymnastics.\n",
      "🔸 Reference: The main focus after the foundation was gymnastics.\n"
     ]
    },
    {
     "name": "stderr",
     "output_type": "stream",
     "text": [
      "\r",
      " 68%|██████▊   | 135/200 [01:06<00:20,  3.13it/s]"
     ]
    },
    {
     "name": "stdout",
     "output_type": "stream",
     "text": [
      "\n",
      "🔹 Predicted: Sweetwater High School is part of Monroe County Schools.\n",
      "🔸 Reference: Sweetwater High School is part of Monroe County Schools.\n"
     ]
    },
    {
     "name": "stderr",
     "output_type": "stream",
     "text": [
      "\r",
      " 68%|██████▊   | 136/200 [01:07<00:18,  3.38it/s]"
     ]
    },
    {
     "name": "stdout",
     "output_type": "stream",
     "text": [
      "\n",
      "🔹 Predicted: These had body color bumpers.\n",
      "🔸 Reference: These had body color bumpers.\n"
     ]
    },
    {
     "name": "stderr",
     "output_type": "stream",
     "text": [
      "\r",
      " 68%|██████▊   | 137/200 [01:07<00:20,  3.07it/s]"
     ]
    },
    {
     "name": "stdout",
     "output_type": "stream",
     "text": [
      "\n",
      "🔹 Predicted: Thomson died at his estate in Swampscott, Massachusetts.\n",
      "🔸 Reference: Thomson died at his estate in Swampscott, Massachusetts.\n"
     ]
    },
    {
     "name": "stderr",
     "output_type": "stream",
     "text": [
      "\r",
      " 69%|██████▉   | 138/200 [01:07<00:20,  3.00it/s]"
     ]
    },
    {
     "name": "stdout",
     "output_type": "stream",
     "text": [
      "\n",
      "🔹 Predicted: After these events, he began to actually construct his first dolls.\n",
      "🔸 Reference: After these events, he began to actually construct his first dolls.\n"
     ]
    },
    {
     "name": "stderr",
     "output_type": "stream",
     "text": [
      "\r",
      " 70%|██████▉   | 139/200 [01:08<00:22,  2.69it/s]"
     ]
    },
    {
     "name": "stdout",
     "output_type": "stream",
     "text": [
      "\n",
      "🔹 Predicted: The cities of Fenton and Linden were formed from areas formerly within the township.\n",
      "🔸 Reference: The cities of Fenton and Linden were formed from areas formerly within the township.\n"
     ]
    },
    {
     "name": "stderr",
     "output_type": "stream",
     "text": [
      "\r",
      " 70%|███████   | 140/200 [01:08<00:25,  2.33it/s]"
     ]
    },
    {
     "name": "stdout",
     "output_type": "stream",
     "text": [
      "\n",
      "🔹 Predicted: The closest larger centres to Alameda are Estevan, Weyburn, Regina, and Minot, North Dakota.\n",
      "🔸 Reference: The closest larger centres to Alameda are Estevan, Weyburn, Regina, and Minot, North Dakota.\n"
     ]
    },
    {
     "name": "stderr",
     "output_type": "stream",
     "text": [
      "\r",
      " 70%|███████   | 141/200 [01:09<00:23,  2.53it/s]"
     ]
    },
    {
     "name": "stdout",
     "output_type": "stream",
     "text": [
      "\n",
      "🔹 Predicted: Los Angeles became the capital of the film industry.\n",
      "🔸 Reference: Los Angeles became the capital of the film industry.\n"
     ]
    },
    {
     "name": "stderr",
     "output_type": "stream",
     "text": [
      "\r",
      " 71%|███████   | 142/200 [01:09<00:21,  2.65it/s]"
     ]
    },
    {
     "name": "stdout",
     "output_type": "stream",
     "text": [
      "\n",
      "🔹 Predicted: \"The Blueprint\" received rave reviews from critics.\n",
      "🔸 Reference: \"The Blueprint\" received rave reviews from critics.\n"
     ]
    },
    {
     "name": "stderr",
     "output_type": "stream",
     "text": [
      "\r",
      " 72%|███████▏  | 143/200 [01:09<00:19,  2.93it/s]"
     ]
    },
    {
     "name": "stdout",
     "output_type": "stream",
     "text": [
      "\n",
      "🔹 Predicted: This plank was made for walking on.\n",
      "🔸 Reference: This plank was made for walking on.\n"
     ]
    },
    {
     "name": "stderr",
     "output_type": "stream",
     "text": [
      "\r",
      " 72%|███████▏  | 144/200 [01:10<00:20,  2.78it/s]"
     ]
    },
    {
     "name": "stdout",
     "output_type": "stream",
     "text": [
      "\n",
      "🔹 Predicted: We have recovered most of the deleted files, but some are still being processed.\n",
      "🔸 Reference: We have recovered most of the deleted files, but some are still being processed.\n"
     ]
    },
    {
     "name": "stderr",
     "output_type": "stream",
     "text": [
      "\r",
      " 72%|███████▎  | 145/200 [01:10<00:19,  2.76it/s]"
     ]
    },
    {
     "name": "stdout",
     "output_type": "stream",
     "text": [
      "\n",
      "🔹 Predicted: They are also capable of delivering much higher acceleration and shorter takeoffs.\n",
      "🔸 Reference: They are also capable of delivering much higher acceleration and shorter takeoffs.\n"
     ]
    },
    {
     "name": "stderr",
     "output_type": "stream",
     "text": [
      "\r",
      " 73%|███████▎  | 146/200 [01:11<00:20,  2.61it/s]"
     ]
    },
    {
     "name": "stdout",
     "output_type": "stream",
     "text": [
      "\n",
      "🔹 Predicted: Newspapers from Australia and Israel even pictured the mayor with his hair ablaze.\n",
      "🔸 Reference: Newspapers from Australia and Israel even pictured the mayor with his hair ablaze.\n"
     ]
    },
    {
     "name": "stderr",
     "output_type": "stream",
     "text": [
      "\r",
      " 74%|███████▎  | 147/200 [01:11<00:20,  2.65it/s]"
     ]
    },
    {
     "name": "stdout",
     "output_type": "stream",
     "text": [
      "\n",
      "🔹 Predicted: When I need a new album to listen to, I make one.\n",
      "🔸 Reference: When I need a new album to listen to, I make one.\n"
     ]
    },
    {
     "name": "stderr",
     "output_type": "stream",
     "text": [
      "\r",
      " 74%|███████▍  | 148/200 [01:11<00:20,  2.58it/s]"
     ]
    },
    {
     "name": "stdout",
     "output_type": "stream",
     "text": [
      "\n",
      "🔹 Predicted: Using an incompressible fluid increases system rigidity and reduces compliant behavior.\n",
      "🔸 Reference: Using an incompressible fluid increases system rigidity and reduces compliant behavior.\n"
     ]
    },
    {
     "name": "stderr",
     "output_type": "stream",
     "text": [
      "\r",
      " 74%|███████▍  | 149/200 [01:12<00:19,  2.61it/s]"
     ]
    },
    {
     "name": "stdout",
     "output_type": "stream",
     "text": [
      "\n",
      "🔹 Predicted: The town of Panama moved to the crossing of the two railroads.\n",
      "🔸 Reference: The town of Panama moved to the crossing of the two railroads.\n"
     ]
    },
    {
     "name": "stderr",
     "output_type": "stream",
     "text": [
      "\r",
      " 75%|███████▌  | 150/200 [01:12<00:19,  2.52it/s]"
     ]
    },
    {
     "name": "stdout",
     "output_type": "stream",
     "text": [
      "\n",
      "🔹 Predicted: Driesch developed a deep interest in Psychical Research and Parapsychology.\n",
      "🔸 Reference: Driesch developed a deep interest in Psychical Research and Parapsychology.\n"
     ]
    },
    {
     "name": "stderr",
     "output_type": "stream",
     "text": [
      "\r",
      " 76%|███████▌  | 151/200 [01:13<00:19,  2.51it/s]"
     ]
    },
    {
     "name": "stdout",
     "output_type": "stream",
     "text": [
      "\n",
      "🔹 Predicted: Such buttons were often mounted on a patch of coloured cloth or gold embroidery.\n",
      "🔸 Reference: Such buttons were often mounted on a patch of coloured cloth or gold embroidery.\n"
     ]
    },
    {
     "name": "stderr",
     "output_type": "stream",
     "text": [
      "\r",
      " 76%|███████▌  | 152/200 [01:13<00:16,  2.85it/s]"
     ]
    },
    {
     "name": "stdout",
     "output_type": "stream",
     "text": [
      "\n",
      "🔹 Predicted: But their lives are not sacred.\n",
      "🔸 Reference: But their lives are not sacred.\n"
     ]
    },
    {
     "name": "stderr",
     "output_type": "stream",
     "text": [
      "\r",
      " 76%|███████▋  | 153/200 [01:13<00:17,  2.70it/s]"
     ]
    },
    {
     "name": "stdout",
     "output_type": "stream",
     "text": [
      "\n",
      "🔹 Predicted: ತ﹌ತ﹌ತ﹌ತ\n",
      "🔸 Reference: That’s music to my ears!\n"
     ]
    },
    {
     "name": "stderr",
     "output_type": "stream",
     "text": [
      "\r",
      " 77%|███████▋  | 154/200 [01:13<00:14,  3.11it/s]"
     ]
    },
    {
     "name": "stdout",
     "output_type": "stream",
     "text": [
      "\n",
      "🔹 Predicted: There he got unconscious.\n",
      "🔸 Reference: There he got unconscious.\n"
     ]
    },
    {
     "name": "stderr",
     "output_type": "stream",
     "text": [
      "\r",
      " 78%|███████▊  | 155/200 [01:14<00:13,  3.34it/s]"
     ]
    },
    {
     "name": "stdout",
     "output_type": "stream",
     "text": [
      "\n",
      "🔹 Predicted: Robert Rex was the team captain.\n",
      "🔸 Reference: Robert Rex was the team captain.\n"
     ]
    },
    {
     "name": "stderr",
     "output_type": "stream",
     "text": [
      "\r",
      " 78%|███████▊  | 156/200 [01:14<00:13,  3.29it/s]"
     ]
    },
    {
     "name": "stdout",
     "output_type": "stream",
     "text": [
      "\n",
      "🔹 Predicted: Very little is known about the life of the artist.\n",
      "🔸 Reference: Very little is known about the life of the artist.\n"
     ]
    },
    {
     "name": "stderr",
     "output_type": "stream",
     "text": [
      "\r",
      " 78%|███████▊  | 157/200 [01:14<00:12,  3.43it/s]"
     ]
    },
    {
     "name": "stdout",
     "output_type": "stream",
     "text": [
      "\n",
      "🔹 Predicted: Over the shield there is golden crown.\n",
      "🔸 Reference: Over the shield there is golden crown.\n"
     ]
    },
    {
     "name": "stderr",
     "output_type": "stream",
     "text": [
      "\r",
      " 79%|███████▉  | 158/200 [01:15<00:13,  3.04it/s]"
     ]
    },
    {
     "name": "stdout",
     "output_type": "stream",
     "text": [
      "\n",
      "🔹 Predicted: It was the first of four election victories in a row for Taschereau.\n",
      "🔸 Reference: It was the first of four election victories in a row for Taschereau.\n"
     ]
    },
    {
     "name": "stderr",
     "output_type": "stream",
     "text": [
      "\r",
      " 80%|███████▉  | 159/200 [01:15<00:14,  2.91it/s]"
     ]
    },
    {
     "name": "stdout",
     "output_type": "stream",
     "text": [
      "\n",
      "🔹 Predicted: It is also used in the evening to protect the hay from morning dew.\n",
      "🔸 Reference: It is also used in the evening to protect the hay from morning dew.\n"
     ]
    },
    {
     "name": "stderr",
     "output_type": "stream",
     "text": [
      "\r",
      " 80%|████████  | 160/200 [01:15<00:12,  3.10it/s]"
     ]
    },
    {
     "name": "stdout",
     "output_type": "stream",
     "text": [
      "\n",
      "🔹 Predicted: He attended Franklin High School in Stockton.\n",
      "🔸 Reference: He attended Franklin High School in Stockton.\n"
     ]
    },
    {
     "name": "stderr",
     "output_type": "stream",
     "text": [
      "\r",
      " 80%|████████  | 161/200 [01:16<00:14,  2.66it/s]"
     ]
    },
    {
     "name": "stdout",
     "output_type": "stream",
     "text": [
      "\n",
      "🔹 Predicted: Large mammal surveys continue to take place in Cambodia, hoping to rediscover living kouprey.\n",
      "🔸 Reference: Large mammal surveys continue to take place in Cambodia, hoping to rediscover living kouprey.\n"
     ]
    },
    {
     "name": "stderr",
     "output_type": "stream",
     "text": [
      "\r",
      " 81%|████████  | 162/200 [01:16<00:13,  2.72it/s]"
     ]
    },
    {
     "name": "stdout",
     "output_type": "stream",
     "text": [
      "\n",
      "🔹 Predicted: It has a summit over long, thus \"Broad Peak\".\n",
      "🔸 Reference: It has a summit over long, thus \"Broad Peak\".\n"
     ]
    },
    {
     "name": "stderr",
     "output_type": "stream",
     "text": [
      "\r",
      " 82%|████████▏ | 163/200 [01:17<00:14,  2.59it/s]"
     ]
    },
    {
     "name": "stdout",
     "output_type": "stream",
     "text": [
      "\n",
      "🔹 Predicted: The word Islam Hadhari consists of two words, Islam and Hadhari.\n",
      "🔸 Reference: The word Islam Hadhari consists of two words, Islam and Hadhari.\n"
     ]
    },
    {
     "name": "stderr",
     "output_type": "stream",
     "text": [
      "\r",
      " 82%|████████▏ | 164/200 [01:17<00:13,  2.57it/s]"
     ]
    },
    {
     "name": "stdout",
     "output_type": "stream",
     "text": [
      "\n",
      "🔹 Predicted: When she used color, however, Zeisler gravitated towards red.\n",
      "🔸 Reference: When she used color, however, Zeisler gravitated towards red.\n"
     ]
    },
    {
     "name": "stderr",
     "output_type": "stream",
     "text": [
      "\r",
      " 82%|████████▎ | 165/200 [01:17<00:12,  2.90it/s]"
     ]
    },
    {
     "name": "stdout",
     "output_type": "stream",
     "text": [
      "\n",
      "🔹 Predicted: He went to college at Alabama.\n",
      "🔸 Reference: He went to college at Alabama.\n"
     ]
    },
    {
     "name": "stderr",
     "output_type": "stream",
     "text": [
      "\r",
      " 83%|████████▎ | 166/200 [01:18<00:12,  2.75it/s]"
     ]
    },
    {
     "name": "stdout",
     "output_type": "stream",
     "text": [
      "\n",
      "🔹 Predicted: Past winners include other local hockey players Andrew Raycroft and Andrew Shaw.\n",
      "🔸 Reference: Past winners include other local hockey players Andrew Raycroft and Andrew Shaw.\n"
     ]
    },
    {
     "name": "stderr",
     "output_type": "stream",
     "text": [
      "\r",
      " 84%|████████▎ | 167/200 [01:18<00:12,  2.66it/s]"
     ]
    },
    {
     "name": "stdout",
     "output_type": "stream",
     "text": [
      "\n",
      "🔹 Predicted: The song is partly in Spanish and features vocals from Colombian singer Maluma.\n",
      "🔸 Reference: The song is partly in Spanish and features vocals from Colombian singer Maluma.\n"
     ]
    },
    {
     "name": "stderr",
     "output_type": "stream",
     "text": [
      "\r",
      " 84%|████████▍ | 168/200 [01:19<00:13,  2.42it/s]"
     ]
    },
    {
     "name": "stdout",
     "output_type": "stream",
     "text": [
      "\n",
      "🔹 Predicted: Contemporaries described \"Monty\" as the \"grand old man\" of Connecticut Agricultural College.\n",
      "🔸 Reference: Contemporaries described \"Monty\" as the \"grand old man\" of Connecticut Agricultural College.\n"
     ]
    },
    {
     "name": "stderr",
     "output_type": "stream",
     "text": [
      "\r",
      " 84%|████████▍ | 169/200 [01:19<00:13,  2.33it/s]"
     ]
    },
    {
     "name": "stdout",
     "output_type": "stream",
     "text": [
      "\n",
      "🔹 Predicted: The policemen took Kiselyov straight to the police office in the presence of journalists.\n",
      "🔸 Reference: The policemen took Kiselyov straight to the police office in the presence of journalists.\n"
     ]
    },
    {
     "name": "stderr",
     "output_type": "stream",
     "text": [
      "\r",
      " 85%|████████▌ | 170/200 [01:19<00:11,  2.51it/s]"
     ]
    },
    {
     "name": "stdout",
     "output_type": "stream",
     "text": [
      "\n",
      "🔹 Predicted: Italy and Germany shared the silver medal on second place.\n",
      "🔸 Reference: Italy and Germany shared the silver medal on second place.\n"
     ]
    },
    {
     "name": "stderr",
     "output_type": "stream",
     "text": [
      "\r",
      " 86%|████████▌ | 171/200 [01:20<00:10,  2.65it/s]"
     ]
    },
    {
     "name": "stdout",
     "output_type": "stream",
     "text": [
      "\n",
      "🔹 Predicted: This is the only of this name in the United States.\n",
      "🔸 Reference: This is the only of this name in the United States.\n"
     ]
    },
    {
     "name": "stderr",
     "output_type": "stream",
     "text": [
      "\r",
      " 86%|████████▌ | 172/200 [01:20<00:10,  2.60it/s]"
     ]
    },
    {
     "name": "stdout",
     "output_type": "stream",
     "text": [
      "\n",
      "🔹 Predicted: Solar panels and recycled asphalt were incorporated to make the structure more environmentally friendly.\n",
      "🔸 Reference: Solar panels and recycled asphalt were incorporated to make the structure more environmentally friendly.\n"
     ]
    },
    {
     "name": "stderr",
     "output_type": "stream",
     "text": [
      "\r",
      " 86%|████████▋ | 173/200 [01:28<01:12,  2.68s/it]"
     ]
    },
    {
     "name": "stdout",
     "output_type": "stream",
     "text": [
      "\n",
      "🔹 Predicted: \"\"\"\"\"\"\"\"\"\"\"\"\"\"\"\"\"\"\"\"\"\"\"\"\"\"\"\"\"\"\"\"\"\"\"\"\"\"\"\"\"\"\"\"\"\"\"\"\"\"\"\"\"\"\"\"\"\"\"\"\"\"\"\"\"\"\"\"\"\"\"\"\"\"\"\"\"\"\"\"\"\"\"\"\"\"\"\"\"\"\"\"\"\"\"\"\"\"\"\"\"\"\"\"\"\"\"\"\"\"\"\"\"\"\"\"\"\"\"\"\"\"\"\"\"\"\"\"\"\"\"\"\"\"\"\"\"\"\"\"\"\"\"\"\"\"\"\"\"\"\"\"\"\"\"\"\"\"\"\"\"\"\"\"\"\"\"\"\"\"\"\"\"\"\"\"\"\"\"\"\"\"\"\"\"\"\"\"\"\"\"\"\"\"\"\"\"\"\"\"\"\"\"\"\"\"\"\"\"\"\"\"\"\"\"\"\"\"\"\"\"\"\"\"\"\"\"\"\"\"\"\"\"\"\"\"\"\"\"\"\"\"\"\"\"\"\"\"\"\"\"\"\"\"\"\"\"\"\"\"\"\"\"\"\"\"\"\"\"\"\"\"\"\"\"\"\"\"\"\"\"\"\"\"\"\"\"\"\"\"\"\"\"\"\"\"\"\"\"\"\"\"\"\"\"\"\"\"\"\"\"\"\"\"\"\"\"\"\"\"\"\"\"\"\"\"\"\"\"\"\"\"\"\"\"\"\"\"\"\"\"\"\"\"\"\"\"\"\"\"\"\"\"\"\"\"\"\"\"\"\"\"\"\"\"\"\"\"\"\"\"\"\"\"\"\"\"\"\"\"\"\"\"\"\"\"\"\"\"\"\"\"\"\"\"\"\"\"\"\"\"\"\"\"\"\"\"\"\"\"\"\"\"\"\"\"\"\"\"\"\"\"\"\"\"\"\"\"\"\"\"\"\"\"\"\"\"\"\"\"\"\"\"\"\n",
      "🔸 Reference: \"Brae\" is the Lowland Scots word for the slope or brow of a hill.\n"
     ]
    },
    {
     "name": "stderr",
     "output_type": "stream",
     "text": [
      "\r",
      " 87%|████████▋ | 174/200 [01:28<00:52,  2.00s/it]"
     ]
    },
    {
     "name": "stdout",
     "output_type": "stream",
     "text": [
      "\n",
      "🔹 Predicted: Katherine brought her four children Edward, Arthur, Katherine and Ann to the marriage.\n",
      "🔸 Reference: Katherine brought her four children Edward, Arthur, Katherine and Ann to the marriage.\n"
     ]
    },
    {
     "name": "stderr",
     "output_type": "stream",
     "text": [
      "\r",
      " 88%|████████▊ | 175/200 [01:29<00:37,  1.51s/it]"
     ]
    },
    {
     "name": "stdout",
     "output_type": "stream",
     "text": [
      "\n",
      "🔹 Predicted: The name \"Baidicheng\" literally means White Emperor City.\n",
      "🔸 Reference: The name \"Baidicheng\" literally means White Emperor City.\n"
     ]
    },
    {
     "name": "stderr",
     "output_type": "stream",
     "text": [
      "\r",
      " 88%|████████▊ | 176/200 [01:29<00:28,  1.18s/it]"
     ]
    },
    {
     "name": "stdout",
     "output_type": "stream",
     "text": [
      "\n",
      "🔹 Predicted: Another cause of brittleness is the use of data structures that restrict values.\n",
      "🔸 Reference: Another cause of brittleness is the use of data structures that restrict values.\n"
     ]
    },
    {
     "name": "stderr",
     "output_type": "stream",
     "text": [
      "\r",
      " 88%|████████▊ | 177/200 [01:30<00:21,  1.08it/s]"
     ]
    },
    {
     "name": "stdout",
     "output_type": "stream",
     "text": [
      "\n",
      "🔹 Predicted: A stent was fitted to open up the blockages.\n",
      "🔸 Reference: A stent was fitted to open up the blockages.\n"
     ]
    },
    {
     "name": "stderr",
     "output_type": "stream",
     "text": [
      "\r",
      " 89%|████████▉ | 178/200 [01:30<00:15,  1.38it/s]"
     ]
    },
    {
     "name": "stdout",
     "output_type": "stream",
     "text": [
      "\n",
      "🔹 Predicted: We appreciate your cooperation Mr Doe.\n",
      "🔸 Reference: We appreciate your cooperation Mr Doe.\n"
     ]
    },
    {
     "name": "stderr",
     "output_type": "stream",
     "text": [
      "\r",
      " 90%|████████▉ | 179/200 [01:30<00:12,  1.66it/s]"
     ]
    },
    {
     "name": "stdout",
     "output_type": "stream",
     "text": [
      "\n",
      "🔹 Predicted: A kind of angry smile just dawns upon her face.\n",
      "🔸 Reference: A kind of angry smile just dawns upon her face.\n"
     ]
    },
    {
     "name": "stderr",
     "output_type": "stream",
     "text": [
      "\r",
      " 90%|█████████ | 180/200 [01:30<00:10,  1.92it/s]"
     ]
    },
    {
     "name": "stdout",
     "output_type": "stream",
     "text": [
      "\n",
      "🔹 Predicted: It is twenty-five minutes after its time this afternoon.\n",
      "🔸 Reference: It is twenty-five minutes after its time this afternoon.\n"
     ]
    },
    {
     "name": "stderr",
     "output_type": "stream",
     "text": [
      "\r",
      " 90%|█████████ | 181/200 [01:31<00:09,  2.10it/s]"
     ]
    },
    {
     "name": "stdout",
     "output_type": "stream",
     "text": [
      "\n",
      "🔹 Predicted: The Heritage Museum of Northwest Florida is located in Valparaiso.\n",
      "🔸 Reference: The Heritage Museum of Northwest Florida is located in Valparaiso.\n"
     ]
    },
    {
     "name": "stderr",
     "output_type": "stream",
     "text": [
      "\r",
      " 91%|█████████ | 182/200 [01:31<00:08,  2.19it/s]"
     ]
    },
    {
     "name": "stdout",
     "output_type": "stream",
     "text": [
      "\n",
      "🔹 Predicted: Hallbeck had previously been a guest illustrator for over a year.\n",
      "🔸 Reference: Hallbeck had previously been a guest illustrator for over a year.\n"
     ]
    },
    {
     "name": "stderr",
     "output_type": "stream",
     "text": [
      "\r",
      " 92%|█████████▏| 183/200 [01:32<00:07,  2.26it/s]"
     ]
    },
    {
     "name": "stdout",
     "output_type": "stream",
     "text": [
      "\n",
      "🔹 Predicted: They are often narrow circular rings made from metal, or less commonly, plastic.\n",
      "🔸 Reference: They are often narrow circular rings made from metal, or less commonly, plastic.\n"
     ]
    },
    {
     "name": "stderr",
     "output_type": "stream",
     "text": [
      "\r",
      " 92%|█████████▏| 184/200 [01:32<00:07,  2.28it/s]"
     ]
    },
    {
     "name": "stdout",
     "output_type": "stream",
     "text": [
      "\n",
      "🔹 Predicted: Computer keyboards contain membranes with printed circuits that sense when a key is pressed.\n",
      "🔸 Reference: Computer keyboards contain membranes with printed circuits that sense when a key is pressed.\n"
     ]
    },
    {
     "name": "stderr",
     "output_type": "stream",
     "text": [
      "\r",
      " 92%|█████████▎| 185/200 [01:32<00:06,  2.49it/s]"
     ]
    },
    {
     "name": "stdout",
     "output_type": "stream",
     "text": [
      "\n",
      "🔹 Predicted: The station also airs community announcements for no fee.\n",
      "🔸 Reference: The station also airs community announcements for no fee.\n"
     ]
    },
    {
     "name": "stderr",
     "output_type": "stream",
     "text": [
      "\r",
      " 93%|█████████▎| 186/200 [01:33<00:05,  2.38it/s]"
     ]
    },
    {
     "name": "stdout",
     "output_type": "stream",
     "text": [
      "\n",
      "🔹 Predicted: Following the Hellmouth's closure, hundreds of potential slayers have been awakened.\n",
      "🔸 Reference: Following the Hellmouth's closure, hundreds of potential slayers have been awakened.\n"
     ]
    },
    {
     "name": "stderr",
     "output_type": "stream",
     "text": [
      "\r",
      " 94%|█████████▎| 187/200 [01:33<00:05,  2.27it/s]"
     ]
    },
    {
     "name": "stdout",
     "output_type": "stream",
     "text": [
      "\n",
      "🔹 Predicted: When heated before the blowpipe it decrepitates violently, breaking up into white pearly scales.\n",
      "🔸 Reference: When heated before the blowpipe it decrepitates violently, breaking up into white pearly scales.\n"
     ]
    },
    {
     "name": "stderr",
     "output_type": "stream",
     "text": [
      "\r",
      " 94%|█████████▍| 188/200 [01:34<00:04,  2.46it/s]"
     ]
    },
    {
     "name": "stdout",
     "output_type": "stream",
     "text": [
      "\n",
      "🔹 Predicted: The king goes to see and find the leper there.\n",
      "🔸 Reference: The king goes to see and find the leper there.\n"
     ]
    },
    {
     "name": "stderr",
     "output_type": "stream",
     "text": [
      "\r",
      " 94%|█████████▍| 189/200 [01:34<00:04,  2.45it/s]"
     ]
    },
    {
     "name": "stdout",
     "output_type": "stream",
     "text": [
      "\n",
      "🔹 Predicted: Later Maria Theresa arranged for it to be rebuilt in late Baroque style.\n",
      "🔸 Reference: Later Maria Theresa arranged for it to be rebuilt in late Baroque style.\n"
     ]
    },
    {
     "name": "stderr",
     "output_type": "stream",
     "text": [
      "\r",
      " 95%|█████████▌| 190/200 [01:34<00:03,  2.67it/s]"
     ]
    },
    {
     "name": "stdout",
     "output_type": "stream",
     "text": [
      "\n",
      "🔹 Predicted: His first education was in the field of medicine.\n",
      "🔸 Reference: His first education was in the field of medicine.\n"
     ]
    },
    {
     "name": "stderr",
     "output_type": "stream",
     "text": [
      "\r",
      " 96%|█████████▌| 191/200 [01:35<00:03,  2.64it/s]"
     ]
    },
    {
     "name": "stdout",
     "output_type": "stream",
     "text": [
      "\n",
      "🔹 Predicted: Bibi was wounded and died of her injuries in the hospital emergency room.\n",
      "🔸 Reference: Bibi was wounded and died of her injuries in the hospital emergency room.\n"
     ]
    },
    {
     "name": "stderr",
     "output_type": "stream",
     "text": [
      "\r",
      " 96%|█████████▌| 192/200 [01:43<00:21,  2.67s/it]"
     ]
    },
    {
     "name": "stdout",
     "output_type": "stream",
     "text": [
      "\n",
      "🔹 Predicted:  ಕೈವರ್ವರ್ವರ್ವರ್ವರ್ವರ್ವರ್ವರ್ವರ್ವರ್ವರ್ವರ್ವರ್ವರ್ವರ್ವರ್ವರ್ವರ್ವರ್ವರ್ವರ್ವರ್ವರ್ವರ್ವರ್ವರ್ವರ್ವರ್ವರ್ವರ್ವರ್ವರ್ವರ್ವರ್ವರ್ವರ್ವರ್ವರ್ವರ್ವರ್ವರ್ವರ್ವರ್ವರ್ವರ್ವರ್ವರ್ವರ್ವರ್ವರ್ವರ್ವರ್ವರ್ವರ್ವರ್ವರ್ವರ್ವರ್ವರ್ವರ್ವರ್ವರ್ವರ್ವರ್ವರ್ವರ್ವರ್ವರ್ವರ್ವರ್ವರ್ವರ್ವರ್ವರ್ವರ್ವರ್ವರ್ವರ್ವರ್ವರ್ವರ್ವರ್ವರ್ವರ್ವರ್ವರ್ವರ್ವರ�\n",
      "🔸 Reference: He is thought to have died in the battle for Staraya Russa.\n"
     ]
    },
    {
     "name": "stderr",
     "output_type": "stream",
     "text": [
      "\r",
      " 96%|█████████▋| 193/200 [01:43<00:13,  1.96s/it]"
     ]
    },
    {
     "name": "stdout",
     "output_type": "stream",
     "text": [
      "\n",
      "🔹 Predicted: As a solo artist he writes all his songs.\n",
      "🔸 Reference: As a solo artist he writes all his songs.\n"
     ]
    },
    {
     "name": "stderr",
     "output_type": "stream",
     "text": [
      "\r",
      " 97%|█████████▋| 194/200 [01:44<00:09,  1.50s/it]"
     ]
    },
    {
     "name": "stdout",
     "output_type": "stream",
     "text": [
      "\n",
      "🔹 Predicted: With time, this process leads to a mushy surface layer, known as grease ice.\n",
      "🔸 Reference: With time, this process leads to a mushy surface layer, known as grease ice.\n"
     ]
    },
    {
     "name": "stderr",
     "output_type": "stream",
     "text": [
      "\r",
      " 98%|█████████▊| 195/200 [01:44<00:05,  1.19s/it]"
     ]
    },
    {
     "name": "stdout",
     "output_type": "stream",
     "text": [
      "\n",
      "🔹 Predicted: This pitch stood on the site of the present-day Wardlaw Street and Wardlaw Terrace.\n",
      "🔸 Reference: This pitch stood on the site of the present-day Wardlaw Street and Wardlaw Terrace.\n"
     ]
    },
    {
     "name": "stderr",
     "output_type": "stream",
     "text": [
      "\r",
      " 98%|█████████▊| 196/200 [01:45<00:04,  1.06s/it]"
     ]
    },
    {
     "name": "stdout",
     "output_type": "stream",
     "text": [
      "\n",
      "🔹 Predicted: During this scene, Tigger teaches Roo the awesome Whoop-de-Dooper-Loop-de-Looper-Alley-Ooper Bounce.\n",
      "🔸 Reference: During this scene, Tigger teaches Roo the awesome Whoop-de-Dooper-Loop-de-Looper-Alley-Ooper Bounce.\n"
     ]
    },
    {
     "name": "stderr",
     "output_type": "stream",
     "text": [
      "\r",
      " 98%|█████████▊| 197/200 [01:45<00:02,  1.16it/s]"
     ]
    },
    {
     "name": "stdout",
     "output_type": "stream",
     "text": [
      "\n",
      "🔹 Predicted: He went to Tuskegee Institute, where he learned printing as a trade.\n",
      "🔸 Reference: He went to Tuskegee Institute, where he learned printing as a trade.\n"
     ]
    },
    {
     "name": "stderr",
     "output_type": "stream",
     "text": [
      "\r",
      " 99%|█████████▉| 198/200 [01:46<00:01,  1.38it/s]"
     ]
    },
    {
     "name": "stdout",
     "output_type": "stream",
     "text": [
      "\n",
      "🔹 Predicted: Kedre Fairley and Doctor Napoleon Saunders are the vice principals.\n",
      "🔸 Reference: Kedre Fairley and Doctor Napoleon Saunders are the vice principals.\n"
     ]
    },
    {
     "name": "stderr",
     "output_type": "stream",
     "text": [
      "\r",
      "100%|█████████▉| 199/200 [01:46<00:00,  1.47it/s]"
     ]
    },
    {
     "name": "stdout",
     "output_type": "stream",
     "text": [
      "\n",
      "🔹 Predicted: Amongst his apprentices was Edmund Morison Wimperis, who became a notable watercolour landscape painter.\n",
      "🔸 Reference: Amongst his apprentices was Edmund Morison Wimperis, who became a notable watercolour landscape painter.\n"
     ]
    },
    {
     "name": "stderr",
     "output_type": "stream",
     "text": [
      "100%|██████████| 200/200 [01:46<00:00,  1.87it/s]"
     ]
    },
    {
     "name": "stdout",
     "output_type": "stream",
     "text": [
      "\n",
      "🔹 Predicted: Mauriis protects Lulu and brings her home.\n",
      "🔸 Reference: Maurice protects Lulu and brings her home.\n",
      "\n",
      "✅ EN WER: 0.0385\n",
      "\n",
      "🌍 Language: ja\n"
     ]
    },
    {
     "name": "stderr",
     "output_type": "stream",
     "text": [
      "\n",
      "  0%|          | 1/200 [00:08<26:51,  8.10s/it]"
     ]
    },
    {
     "name": "stdout",
     "output_type": "stream",
     "text": [
      "\n",
      "🔹 Predicted:  ಎರಿತತತತತತತತತತತತತತತತತತತತತತತತತತತತತತತತತತತತತತತತತತತತತತತತತತತತತತತತತತತತತತತತತತತತತತತತತತತತತತತತತತತತತತತತತತತತತತತತತತತತತತತತತತತತತತತತತತತತತತತತತತತತತತತತತತತತತತತತತತತತತತತತತತತತತತತತತತತತತತತತತತತತತತತತತತತತತತತತತತತತತತತತತತತತತತತತತತತತತತತತತತತತತತತತತತತತತತತತತತತ\n",
      "🔸 Reference: 山口県防府市\n"
     ]
    },
    {
     "name": "stderr",
     "output_type": "stream",
     "text": [
      "\r",
      "  1%|          | 2/200 [00:16<26:34,  8.05s/it]"
     ]
    },
    {
     "name": "stdout",
     "output_type": "stream",
     "text": [
      "\n",
      "🔹 Predicted:  ಎರಿಎರಿಎರಿಎರಿಎರಿಎರಿಎರಿಎರಿಎರಿಎರಿಎರಿಎರಿಎರಿಎರಿಎರಿಎರಿಎರಿಎರಿಎರಿಎರಿಎರಿಎರಿಎರಿಎರಿಎರಿಎರಿಎರಿಎರಿಎರಿಎರಿಎರಿಎರಿಎರಿಎರಿಎರಿಎರಿಎರಿಎರಿಎರಿಎರಿಎರಿಎರಿಎರಿಎರಿಎರಿಎರಿಎರಿಎರಿಎರಿಿಎರಿಿಎರಿಿಎರಿಿಎರಿಿಎರಿಿಿಎರಿಿಿಿಿಿಿಿಿಿಿಿಿಿಿಿಿಿಿಿಿಿಿಿಿಿಿಿಿಿಿಿಿಿಿಿಿಿಿಿಿಿಿಿಿಿಿಿಿಿಿ\n",
      "🔸 Reference: 大阪府交野市\n"
     ]
    },
    {
     "name": "stderr",
     "output_type": "stream",
     "text": [
      "\r",
      "  2%|▏         | 3/200 [00:16<14:58,  4.56s/it]"
     ]
    },
    {
     "name": "stdout",
     "output_type": "stream",
     "text": [
      "\n",
      "🔹 Predicted:  ಕೇತೇ ಕೇತೇ\n",
      "🔸 Reference: 福岡市東区\n"
     ]
    },
    {
     "name": "stderr",
     "output_type": "stream",
     "text": [
      "\r",
      "  2%|▏         | 4/200 [00:16<09:21,  2.87s/it]"
     ]
    },
    {
     "name": "stdout",
     "output_type": "stream",
     "text": [
      "\n",
      "🔹 Predicted: その癖に大飯を食う\n",
      "🔸 Reference: その癖に大飯を食う\n"
     ]
    },
    {
     "name": "stderr",
     "output_type": "stream",
     "text": [
      "\r",
      "  2%|▎         | 5/200 [00:17<06:17,  1.94s/it]"
     ]
    },
    {
     "name": "stdout",
     "output_type": "stream",
     "text": [
      "\n",
      "🔹 Predicted: 奈良県王寺町\n",
      "🔸 Reference: 奈良県王寺町\n"
     ]
    },
    {
     "name": "stderr",
     "output_type": "stream",
     "text": [
      "\r",
      "  3%|▎         | 6/200 [00:17<04:25,  1.37s/it]"
     ]
    },
    {
     "name": "stdout",
     "output_type": "stream",
     "text": [
      "\n",
      "🔹 Predicted: 宮崎県国富町\n",
      "🔸 Reference: 宮崎県国富町\n"
     ]
    },
    {
     "name": "stderr",
     "output_type": "stream",
     "text": [
      "\r",
      "  4%|▎         | 7/200 [00:25<11:23,  3.54s/it]"
     ]
    },
    {
     "name": "stdout",
     "output_type": "stream",
     "text": [
      "\n",
      "🔹 Predicted:  ಎರಿತತತತತತತತತತತತತತತತತತತತತತತತತತತತತತತತತತತತತತತತತತತತತತತತತತತತತತತತತತತತತತತತತತತತತತತತತತತತತತತತತತತತತತತತತತತತತತತತತತತತತತತತತತತತತತತತತತತತತತತತತತತತತತತತತತತತತತತತತತತತತತತತತತತತತತತತತತತತತತತತತತತತತತತತತತತತತತತತತತತತತತತತತತತತತತತತತತತತತತತತತತತತತತತತತತತತತತತತತತತ\n",
      "🔸 Reference: 鹿児島県垂水市\n"
     ]
    },
    {
     "name": "stderr",
     "output_type": "stream",
     "text": [
      "\r",
      "  4%|▍         | 8/200 [00:33<15:57,  4.99s/it]"
     ]
    },
    {
     "name": "stdout",
     "output_type": "stream",
     "text": [
      "\n",
      "🔹 Predicted:  ಇರಿದರಿದರಿದರಿದರಿದರಿದರಿದರಿದರಿದರಿದರಿದರಿದರಿದರಿದರಿದರಿದರಿದರಿದರಿದರಿದರಿದರಿದರಿದರಿದರಿದರಿದರಿದರಿದರಿದರಿದರಿದರಿದರಿದರಿದರಿದರಿದರಿದರಿದರಿದರಿದರಿದರಿದರಿದರಿದರಿದರಿದರಿದರಿದರಿದರಿದರಿದರಿದರಿದರರಿದರಿದರಿದರರಿದರರಿದರರಿದರರಿದರರಿದರರಿದರರರಿರರಿದರರರರರರರರರರರರರರರರರರರರ\n",
      "🔸 Reference: 兵庫県播磨町\n"
     ]
    },
    {
     "name": "stderr",
     "output_type": "stream",
     "text": [
      "\r",
      "  4%|▍         | 9/200 [00:33<11:12,  3.52s/it]"
     ]
    },
    {
     "name": "stdout",
     "output_type": "stream",
     "text": [
      "\n",
      "🔹 Predicted: とっとりけんきゅうちょ\n",
      "🔸 Reference: 鳥取県智頭町\n"
     ]
    },
    {
     "name": "stderr",
     "output_type": "stream",
     "text": [
      "\r",
      "  5%|▌         | 10/200 [00:34<07:58,  2.52s/it]"
     ]
    },
    {
     "name": "stdout",
     "output_type": "stream",
     "text": [
      "\n",
      "🔹 Predicted: 大阪府四條畷市\n",
      "🔸 Reference: 大阪府四條畷市\n"
     ]
    },
    {
     "name": "stderr",
     "output_type": "stream",
     "text": [
      "\r",
      "  6%|▌         | 11/200 [00:34<05:59,  1.90s/it]"
     ]
    },
    {
     "name": "stdout",
     "output_type": "stream",
     "text": [
      "\n",
      "🔹 Predicted:  ಕೈತೈತೈತೈತೈತ\n",
      "🔸 Reference: 茨城県大子町\n"
     ]
    },
    {
     "name": "stderr",
     "output_type": "stream",
     "text": [
      "\r",
      "  6%|▌         | 12/200 [00:34<04:22,  1.39s/it]"
     ]
    },
    {
     "name": "stdout",
     "output_type": "stream",
     "text": [
      "\n",
      "🔹 Predicted: 熊本市南区\n",
      "🔸 Reference: 熊本市南区\n"
     ]
    },
    {
     "name": "stderr",
     "output_type": "stream",
     "text": [
      "\r",
      "  6%|▋         | 13/200 [00:35<03:15,  1.05s/it]"
     ]
    },
    {
     "name": "stdout",
     "output_type": "stream",
     "text": [
      "\n",
      "🔹 Predicted: 京都府舞鶴市\n",
      "🔸 Reference: 京都府舞鶴市\n"
     ]
    },
    {
     "name": "stderr",
     "output_type": "stream",
     "text": [
      "\r",
      "  7%|▋         | 14/200 [00:35<02:29,  1.25it/s]"
     ]
    },
    {
     "name": "stdout",
     "output_type": "stream",
     "text": [
      "\n",
      "🔹 Predicted: 京都府和束町\n",
      "🔸 Reference: 京都府和束町\n"
     ]
    },
    {
     "name": "stderr",
     "output_type": "stream",
     "text": [
      "\r",
      "  8%|▊         | 15/200 [00:43<09:13,  2.99s/it]"
     ]
    },
    {
     "name": "stdout",
     "output_type": "stream",
     "text": [
      "\n",
      "🔹 Predicted:  ಕೇಕೇಕಕಕಕಕಕಕಕಕಕಕಕಕಕಕಕಕಕಕಕಕಕಕಕಕಕಕಕಕಕಕಕಕಕಕಕಕಕಕಕಕಕಕಕಕಕಕಕಕಕಕಕಕಕಕಕಕಕಕಕಕಕಕಕಕಕಕಕಕಕಕಕಕಕಕಕಕಕಕಕಕಕಕಕಕಕಕಕಕಕಕಕಕಕಕಕಕಕಕಕಕಕಕಕಕಕಕಕಕಕಕಕಕಕಕಕಕಕಕಕಕಕಕಕಕಕಕಕಕಕಕಕಕಕಕಕಕಕಕಕಕಕಕಕಕಕಕಕಕಕಕಕಕಕಕಕಕಕಕಕಕಕಕಕಕಕಕಕಕಕಕಕಕಕಕಕಕಕಕಕಕಕಕಕಕಕಕಕಕಕಕಕಕಕಕಕಕಕಕಕಕಕಕಕಕಕಕಕಕಕಕಕಕಕಕಕಕಕ\n",
      "🔸 Reference: ショートケーキにイチゴを乗せるように乗せていった\n"
     ]
    },
    {
     "name": "stderr",
     "output_type": "stream",
     "text": [
      "\r",
      "  8%|▊         | 16/200 [00:51<13:52,  4.52s/it]"
     ]
    },
    {
     "name": "stdout",
     "output_type": "stream",
     "text": [
      "\n",
      "🔹 Predicted:  ಎದರಿತತತತತತತತತತತತತತತತತತತತತತತತತತತತತತತತತತತತತತತತತತತತತತತತತತತತತತತತತತತತತತತತತತತತತತತತತತತತತತತತತತತತತತತತತತತತತತತತತತತತತತತತತತತತತತತತತತತತತತತತತತತತತತತತತತತತತತತತತತತತತತತತತತತತತತತತತತತತತತತತತತತತತತತತತತತತತತತತತತತತತತತತತತತತತತತತತತತತತತತತತತತತತತತತತತತತತತತತತತ\n",
      "🔸 Reference: 静岡県熱海市\n"
     ]
    },
    {
     "name": "stderr",
     "output_type": "stream",
     "text": [
      "\r",
      "  8%|▊         | 17/200 [00:59<17:05,  5.60s/it]"
     ]
    },
    {
     "name": "stdout",
     "output_type": "stream",
     "text": [
      "\n",
      "🔹 Predicted:  ವನತತತತತತತತತತತತತತತತತತತತತತತತತತತತತತತತತತತತತತತತತತತತತತತತತತತತತತತತತತತತತತತತತತತತತತತತತತತತತತತತತತತತತತತತತತತತತತತತತತತತತತತತತತತತತತತತತತತತತತತತತತತತತತತತತತತತತತತತತತತತತತತತತತತತತತತತತತತತತತತತತತತತತತತತತತತತತತತತತತತತತತತತತತತತತತತತತತತತತತತತತತತತತತತತತತತತತತತತತತತತ\n",
      "🔸 Reference: 兵庫県相生市\n"
     ]
    },
    {
     "name": "stderr",
     "output_type": "stream",
     "text": [
      "\r",
      "  9%|▉         | 18/200 [01:00<12:41,  4.18s/it]"
     ]
    },
    {
     "name": "stdout",
     "output_type": "stream",
     "text": [
      "\n",
      "🔹 Predicted: 一方通行の車道を渡り、並木道に沿って歩いて、死に掛けの乳牛のような足取りで進み、\n",
      "🔸 Reference: 一方通行の車道を渡り、並木道に沿って歩いて、死に掛けの乳牛のような足取りで進み、\n"
     ]
    },
    {
     "name": "stderr",
     "output_type": "stream",
     "text": [
      "\r",
      " 10%|▉         | 19/200 [01:00<09:23,  3.11s/it]"
     ]
    },
    {
     "name": "stdout",
     "output_type": "stream",
     "text": [
      "\n",
      "🔹 Predicted: 人間は技術によって新しい環境を作りつつ自己を新たにするのである。\n",
      "🔸 Reference: 人間は技術によって新しい環境を作りつつ自己を新たにするのである。\n"
     ]
    },
    {
     "name": "stderr",
     "output_type": "stream",
     "text": [
      "\r",
      " 10%|█         | 20/200 [01:01<07:05,  2.37s/it]"
     ]
    },
    {
     "name": "stdout",
     "output_type": "stream",
     "text": [
      "\n",
      "🔹 Predicted: そこには判断論理の媒介というものが、含まれていなければならない。\n",
      "🔸 Reference: そこには判断論理の媒介というものが、含まれていなければならない。\n"
     ]
    },
    {
     "name": "stderr",
     "output_type": "stream",
     "text": [
      "\r",
      " 10%|█         | 21/200 [01:02<05:26,  1.82s/it]"
     ]
    },
    {
     "name": "stdout",
     "output_type": "stream",
     "text": [
      "\n",
      "🔹 Predicted:  ಕರಿಕರಿಕರಿಕರಿ\n",
      "🔸 Reference: 痴情のもつれってやつか\n"
     ]
    },
    {
     "name": "stderr",
     "output_type": "stream",
     "text": [
      "\r",
      " 11%|█         | 22/200 [01:02<04:16,  1.44s/it]"
     ]
    },
    {
     "name": "stdout",
     "output_type": "stream",
     "text": [
      "\n",
      "🔹 Predicted: 方法的に規制された経験が実験と呼ばれるものである。\n",
      "🔸 Reference: 方法的に規制された経験が実験と呼ばれるものである。\n"
     ]
    },
    {
     "name": "stderr",
     "output_type": "stream",
     "text": [
      "\r",
      " 12%|█▏        | 23/200 [01:03<03:17,  1.11s/it]"
     ]
    },
    {
     "name": "stdout",
     "output_type": "stream",
     "text": [
      "\n",
      "🔹 Predicted: 現場は開発に積極的だった\n",
      "🔸 Reference: 現場は開発に積極的だった\n"
     ]
    },
    {
     "name": "stderr",
     "output_type": "stream",
     "text": [
      "\r",
      " 12%|█▏        | 24/200 [01:03<02:50,  1.03it/s]"
     ]
    },
    {
     "name": "stdout",
     "output_type": "stream",
     "text": [
      "\n",
      "🔹 Predicted: 自己の経験する世界の拡大するに従って常識は動揺させられる。\n",
      "🔸 Reference: 自己の経験する世界の拡大するに従って常識は動揺させられる。\n"
     ]
    },
    {
     "name": "stderr",
     "output_type": "stream",
     "text": [
      "\r",
      " 12%|█▎        | 25/200 [01:04<02:37,  1.11it/s]"
     ]
    },
    {
     "name": "stdout",
     "output_type": "stream",
     "text": [
      "\n",
      "🔹 Predicted: 人間によく似た巨大なのっぺらぼうも、誰もいない真っ暗な街中も、\n",
      "🔸 Reference: 人間によく似た巨大なのっぺらぼうも、誰もいない真っ暗な街中も、\n"
     ]
    },
    {
     "name": "stderr",
     "output_type": "stream",
     "text": [
      "\r",
      " 13%|█▎        | 26/200 [01:05<02:26,  1.19it/s]"
     ]
    },
    {
     "name": "stdout",
     "output_type": "stream",
     "text": [
      "\n",
      "🔹 Predicted: ドイツのベルリン大学に行き、その後、イギリスのオックスフォード大学、\n",
      "🔸 Reference: ドイツのベルリン大学に行き、その後、イギリスのオックスフォード大学、\n"
     ]
    },
    {
     "name": "stderr",
     "output_type": "stream",
     "text": [
      "\r",
      " 14%|█▎        | 27/200 [01:05<02:11,  1.31it/s]"
     ]
    },
    {
     "name": "stdout",
     "output_type": "stream",
     "text": [
      "\n",
      "🔹 Predicted: つくづく彼がうちのサッカー部に来てくれたらと思ってしまう\n",
      "🔸 Reference: つくづく彼がうちのサッカー部に来てくれたらと思ってしまう\n"
     ]
    },
    {
     "name": "stderr",
     "output_type": "stream",
     "text": [
      "\r",
      " 14%|█▍        | 28/200 [01:06<01:53,  1.52it/s]"
     ]
    },
    {
     "name": "stdout",
     "output_type": "stream",
     "text": [
      "\n",
      "🔹 Predicted: きんじょの人に会いあいさつを交わす\n",
      "🔸 Reference: 近所の人に会いあいさつを交わす\n"
     ]
    },
    {
     "name": "stderr",
     "output_type": "stream",
     "text": [
      "\r",
      " 14%|█▍        | 29/200 [01:06<01:50,  1.55it/s]"
     ]
    },
    {
     "name": "stdout",
     "output_type": "stream",
     "text": [
      "\n",
      "🔹 Predicted: いつものシャツがだるだるになってきたので、タンスから新しいの出さなきゃ\n",
      "🔸 Reference: いつものシャツがだるだるになってきたので、タンスから新しいの出さなきゃ\n"
     ]
    },
    {
     "name": "stderr",
     "output_type": "stream",
     "text": [
      "\r",
      " 15%|█▌        | 30/200 [01:07<01:53,  1.50it/s]"
     ]
    },
    {
     "name": "stdout",
     "output_type": "stream",
     "text": [
      "\n",
      "🔹 Predicted: 生物現象というも、どこまでも化学的物理的現象に還元して考えることができるであろう。\n",
      "🔸 Reference: 生物現象というも、どこまでも化学的物理的現象に還元して考えることができるであろう。\n"
     ]
    },
    {
     "name": "stderr",
     "output_type": "stream",
     "text": [
      "\r",
      " 16%|█▌        | 31/200 [01:07<01:31,  1.84it/s]"
     ]
    },
    {
     "name": "stdout",
     "output_type": "stream",
     "text": [
      "\n",
      "🔹 Predicted: ご無事でなにより\n",
      "🔸 Reference: ご無事でなにより\n"
     ]
    },
    {
     "name": "stderr",
     "output_type": "stream",
     "text": [
      "\r",
      " 16%|█▌        | 32/200 [01:08<01:58,  1.41it/s]"
     ]
    },
    {
     "name": "stdout",
     "output_type": "stream",
     "text": [
      "\n",
      "🔹 Predicted: ツッタイ矛盾的自己同一として作られたものより作るものへという世界においては、我々はどこまでも表現作用的形成の欲求をもっている。\n",
      "🔸 Reference: 絶対矛盾的自己同一として作られたものより作るものへという世界においては、我々はどこまでも表現作用的形成の欲求をもっている。\n"
     ]
    },
    {
     "name": "stderr",
     "output_type": "stream",
     "text": [
      "\r",
      " 16%|█▋        | 33/200 [01:09<01:42,  1.63it/s]"
     ]
    },
    {
     "name": "stdout",
     "output_type": "stream",
     "text": [
      "\n",
      "🔹 Predicted: 先週に比べてペース上がりまくった\n",
      "🔸 Reference: 先週に比べてペース上がりまくった\n"
     ]
    },
    {
     "name": "stderr",
     "output_type": "stream",
     "text": [
      "\r",
      " 17%|█▋        | 34/200 [01:09<01:36,  1.73it/s]"
     ]
    },
    {
     "name": "stdout",
     "output_type": "stream",
     "text": [
      "\n",
      "🔹 Predicted: 見るということと作るということとが矛盾的自己同一的である。\n",
      "🔸 Reference: 見るということと作るということとが矛盾的自己同一的である。\n"
     ]
    },
    {
     "name": "stderr",
     "output_type": "stream",
     "text": [
      "\r",
      " 18%|█▊        | 35/200 [01:10<01:32,  1.78it/s]"
     ]
    },
    {
     "name": "stdout",
     "output_type": "stream",
     "text": [
      "\n",
      "🔹 Predicted: 多と一との絶対矛盾の自己同一の世界であるということである。\n",
      "🔸 Reference: 多と一との絶対矛盾の自己同一の世界であるということである。\n"
     ]
    },
    {
     "name": "stderr",
     "output_type": "stream",
     "text": [
      "\r",
      " 18%|█▊        | 36/200 [01:10<01:21,  2.01it/s]"
     ]
    },
    {
     "name": "stdout",
     "output_type": "stream",
     "text": [
      "\n",
      "🔹 Predicted: 大きい安いかたい、それで十分じゃないか\n",
      "🔸 Reference: 大きい安いかたい、それで十分じゃないか\n"
     ]
    },
    {
     "name": "stderr",
     "output_type": "stream",
     "text": [
      "\r",
      " 18%|█▊        | 37/200 [01:11<01:18,  2.09it/s]"
     ]
    },
    {
     "name": "stdout",
     "output_type": "stream",
     "text": [
      "\n",
      "🔹 Predicted: 来店ポイントサービスあるけど、誰も利用してない\n",
      "🔸 Reference: 来店ポイントサービスあるけど、誰も利用してない\n"
     ]
    },
    {
     "name": "stderr",
     "output_type": "stream",
     "text": [
      "\r",
      " 19%|█▉        | 38/200 [01:11<01:15,  2.16it/s]"
     ]
    },
    {
     "name": "stdout",
     "output_type": "stream",
     "text": [
      "\n",
      "🔹 Predicted:  ಕೈತೈತೈತೈತ\n",
      "🔸 Reference: 記念にスクショ撮っとこ\n"
     ]
    },
    {
     "name": "stderr",
     "output_type": "stream",
     "text": [
      "\r",
      " 20%|█▉        | 39/200 [01:12<01:27,  1.85it/s]"
     ]
    },
    {
     "name": "stdout",
     "output_type": "stream",
     "text": [
      "\n",
      "🔹 Predicted: 原始社会においての如く、我々はいつも絶対矛盾的自己同一に対しているのである。\n",
      "🔸 Reference: 原始社会においての如く、我々はいつも絶対矛盾的自己同一に対しているのである。\n"
     ]
    },
    {
     "name": "stderr",
     "output_type": "stream",
     "text": [
      "\r",
      " 20%|██        | 40/200 [01:12<01:14,  2.14it/s]"
     ]
    },
    {
     "name": "stdout",
     "output_type": "stream",
     "text": [
      "\n",
      "🔹 Predicted: 隣にいた友人が言った。\n",
      "🔸 Reference: 隣にいた友人が言った。\n"
     ]
    },
    {
     "name": "stderr",
     "output_type": "stream",
     "text": [
      "\r",
      " 20%|██        | 41/200 [01:13<01:19,  2.01it/s]"
     ]
    },
    {
     "name": "stdout",
     "output_type": "stream",
     "text": [
      "\n",
      "🔹 Predicted: しかして世界は我々を生むと共に我々を殺すものでなければならない。\n",
      "🔸 Reference: しかして世界は我々を生むと共に我々を殺すものでなければならない。\n"
     ]
    },
    {
     "name": "stderr",
     "output_type": "stream",
     "text": [
      "\r",
      " 21%|██        | 42/200 [01:13<01:19,  1.98it/s]"
     ]
    },
    {
     "name": "stdout",
     "output_type": "stream",
     "text": [
      "\n",
      "🔹 Predicted: 私の形というのは、静止する物の形という如きものをいうのでなく、\n",
      "🔸 Reference: 私の形というのは、静止する物の形という如きものをいうのでなく、\n"
     ]
    },
    {
     "name": "stderr",
     "output_type": "stream",
     "text": [
      "\r",
      " 22%|██▏       | 43/200 [01:13<01:13,  2.15it/s]"
     ]
    },
    {
     "name": "stdout",
     "output_type": "stream",
     "text": [
      "\n",
      "🔹 Predicted: かれの手には、一丁の拳銃。\n",
      "🔸 Reference: 彼の手には、一丁の拳銃。\n"
     ]
    },
    {
     "name": "stderr",
     "output_type": "stream",
     "text": [
      "\r",
      " 22%|██▏       | 44/200 [01:14<01:07,  2.30it/s]"
     ]
    },
    {
     "name": "stdout",
     "output_type": "stream",
     "text": [
      "\n",
      "🔹 Predicted: 言い方を変えただけで意味はない\n",
      "🔸 Reference: 言い方を変えただけで意味はない\n"
     ]
    },
    {
     "name": "stderr",
     "output_type": "stream",
     "text": [
      "\r",
      " 22%|██▎       | 45/200 [01:14<01:17,  2.01it/s]"
     ]
    },
    {
     "name": "stdout",
     "output_type": "stream",
     "text": [
      "\n",
      "🔹 Predicted: おそらく真剣な顔で。プロポーズをするときのような表情で。\n",
      "🔸 Reference: おそらく真剣な顔で。プロポーズをするときのような表情で。\n"
     ]
    },
    {
     "name": "stderr",
     "output_type": "stream",
     "text": [
      "\r",
      " 23%|██▎       | 46/200 [01:23<07:10,  2.80s/it]"
     ]
    },
    {
     "name": "stdout",
     "output_type": "stream",
     "text": [
      "\n",
      "🔹 Predicted:  ಎರಿತತತತತತತತತತತತತತತತತತತತತತತತತತತತತತತತತತತತತತತತತತತತತತತತತತತತತತತತತತತತತತತತತತತತತತತತತತತತತತತತತತತತತತತತತತತತತತತತತತತತತತತತತತತತತತತತತತತತತತತತತತತತತತತತತತತತತತತತತತತತತತತತತತತತತತತತತತತತತತತತತತತತತತತತತತತತತತತತತತತತತತತತತತತತತತತತತತತತತತತತತತತತತತತತತತತತತತತತತತತ\n",
      "🔸 Reference: やっぱりわかりません\n"
     ]
    },
    {
     "name": "stderr",
     "output_type": "stream",
     "text": [
      "\r",
      " 24%|██▎       | 47/200 [01:23<05:19,  2.09s/it]"
     ]
    },
    {
     "name": "stdout",
     "output_type": "stream",
     "text": [
      "\n",
      "🔹 Predicted:  चीज वोこれでもかと使ったピザ\n",
      "🔸 Reference: チーズをこれでもかと使ったピザ\n"
     ]
    },
    {
     "name": "stderr",
     "output_type": "stream",
     "text": [
      "\r",
      " 24%|██▍       | 48/200 [01:31<09:51,  3.89s/it]"
     ]
    },
    {
     "name": "stdout",
     "output_type": "stream",
     "text": [
      "\n",
      "🔹 Predicted:  ಕಿಕಿಕಿಕಿಕಿಕಿಕಿಕಿಕಿಕಿಕಿಕಿಕಿಕಿಕಿಕಿಕಿಕಿಕಿಕಿಕಿಕಿಕಿಕಿಕಿಕಿಕಿಕಿಕಿಕಿಕಿಕಿಕಿಕಿಕಿಕಿಕಿಕಿಕಿಕಿಕಿಕಿಕಿಕಿಕಿಕಿಕಿಕಿಕಿಕಿಕಿಕಿಕಿಕಿಕಿಕಿಕಿಕಿಕಕಿಕಿಕಕಿಕಿಕಕಿಕಕಿಕಕಿಕಕಿಕಕಿಕಕಕಿಕಕಕಕಕಕಕಕಕಕಕಕಕಕಕಕಕಕಕಕಕಕಕಕಕಕಕಕಕಕಕಕಕಕಕಕಕಕಕಕಕಕಕಕಕಕಕಕಕಕಕಕಕಕಕಕಕಕಕಕಕಕಕಕಕಕಕಕಕಕಕಕಕಕಕಕಕ\n",
      "🔸 Reference: おにぎりを食べ終えると、僕は冷凍庫からアイスを取り出した。\n"
     ]
    },
    {
     "name": "stderr",
     "output_type": "stream",
     "text": [
      "\r",
      " 24%|██▍       | 49/200 [01:32<07:14,  2.88s/it]"
     ]
    },
    {
     "name": "stdout",
     "output_type": "stream",
     "text": [
      "\n",
      "🔹 Predicted: キーボードを叩く音がほとんど聞こえない優れもの\n",
      "🔸 Reference: キーボードを叩く音がほとんど聞こえない優れもの\n"
     ]
    },
    {
     "name": "stderr",
     "output_type": "stream",
     "text": [
      "\r",
      " 25%|██▌       | 50/200 [01:32<05:33,  2.23s/it]"
     ]
    },
    {
     "name": "stdout",
     "output_type": "stream",
     "text": [
      "\n",
      "🔹 Predicted: 我々の自己に対して、汝これを為すか然らざれば死かと問うものでなければならない。\n",
      "🔸 Reference: 我々の自己に対して、汝これを為すか然らざれば死かと問うものでなければならない。\n"
     ]
    },
    {
     "name": "stderr",
     "output_type": "stream",
     "text": [
      "\r",
      " 26%|██▌       | 51/200 [01:33<04:05,  1.64s/it]"
     ]
    },
    {
     "name": "stdout",
     "output_type": "stream",
     "text": [
      "\n",
      "🔹 Predicted: 奈良県平群町\n",
      "🔸 Reference: 奈良県平群町\n"
     ]
    },
    {
     "name": "stderr",
     "output_type": "stream",
     "text": [
      "\r",
      " 26%|██▌       | 52/200 [01:34<03:32,  1.44s/it]"
     ]
    },
    {
     "name": "stdout",
     "output_type": "stream",
     "text": [
      "\n",
      "🔹 Predicted: 我々が日々に接触する現実を正しく見ることを教え得ないならば、いかに深遠に見える哲学もすべて空語に等しい。\n",
      "🔸 Reference: 我々が日々に接触する現実を正しく見ることを教え得ないならば、いかに深遠に見える哲学もすべて空語に等しい。\n"
     ]
    },
    {
     "name": "stderr",
     "output_type": "stream",
     "text": [
      "\r",
      " 26%|██▋       | 53/200 [01:34<02:39,  1.09s/it]"
     ]
    },
    {
     "name": "stdout",
     "output_type": "stream",
     "text": [
      "\n",
      "🔹 Predicted: 徳島県板野町\n",
      "🔸 Reference: 徳島県板野町\n"
     ]
    },
    {
     "name": "stderr",
     "output_type": "stream",
     "text": [
      "\r",
      " 27%|██▋       | 54/200 [01:35<02:23,  1.02it/s]"
     ]
    },
    {
     "name": "stdout",
     "output_type": "stream",
     "text": [
      "\n",
      "🔹 Predicted: その間には単に主体的立場から考えられる相互否定的対立以上のものがなければならない。\n",
      "🔸 Reference: その間には単に主体的立場から考えられる相互否定的対立以上のものがなければならない。\n"
     ]
    },
    {
     "name": "stderr",
     "output_type": "stream",
     "text": [
      "\r",
      " 28%|██▊       | 55/200 [01:35<01:58,  1.22it/s]"
     ]
    },
    {
     "name": "stdout",
     "output_type": "stream",
     "text": [
      "\n",
      "🔹 Predicted: リトアニアの首都はヴィリニュスである\n",
      "🔸 Reference: リトアニアの首都はヴィリニュスである\n"
     ]
    },
    {
     "name": "stderr",
     "output_type": "stream",
     "text": [
      "\r",
      " 28%|██▊       | 56/200 [01:35<01:39,  1.44it/s]"
     ]
    },
    {
     "name": "stdout",
     "output_type": "stream",
     "text": [
      "\n",
      "🔹 Predicted:  ಕೈತೈತೈತೈ\n",
      "🔸 Reference: 浜松市南区\n"
     ]
    },
    {
     "name": "stderr",
     "output_type": "stream",
     "text": [
      "\r",
      " 28%|██▊       | 57/200 [01:37<01:57,  1.22it/s]"
     ]
    },
    {
     "name": "stdout",
     "output_type": "stream",
     "text": [
      "\n",
      "🔹 Predicted: 他方我々はその土地を耕し、その植物を栽培し、動物を飼育し、あるいは河に堤防を築き、山にトンネルを通ずる。\n",
      "🔸 Reference: 他方我々はその土地を耕し、その植物を栽培し、動物を飼育し、あるいは河に堤防を築き、山にトンネルを通ずる。\n"
     ]
    },
    {
     "name": "stderr",
     "output_type": "stream",
     "text": [
      "\r",
      " 29%|██▉       | 58/200 [01:37<01:32,  1.54it/s]"
     ]
    },
    {
     "name": "stdout",
     "output_type": "stream",
     "text": [
      "\n",
      "🔹 Predicted: 佐賀県多久市\n",
      "🔸 Reference: 佐賀県多久市\n"
     ]
    },
    {
     "name": "stderr",
     "output_type": "stream",
     "text": [
      "\r",
      " 30%|██▉       | 59/200 [01:37<01:31,  1.55it/s]"
     ]
    },
    {
     "name": "stdout",
     "output_type": "stream",
     "text": [
      "\n",
      "🔹 Predicted: 知識は一つの理念のもとに、全体と部分の必然的な関係において、\n",
      "🔸 Reference: 知識は一つの理念のもとに、全体と部分の必然的な関係において、\n"
     ]
    },
    {
     "name": "stderr",
     "output_type": "stream",
     "text": [
      "\r",
      " 30%|███       | 60/200 [01:38<01:29,  1.57it/s]"
     ]
    },
    {
     "name": "stdout",
     "output_type": "stream",
     "text": [
      "\n",
      "🔹 Predicted: 脱炭素化は急ぐべきだが、じっくり話し合う時間も必要だ\n",
      "🔸 Reference: 脱炭素化は急ぐべきだが、じっくり話し合う時間も必要だ\n"
     ]
    },
    {
     "name": "stderr",
     "output_type": "stream",
     "text": [
      "\r",
      " 30%|███       | 61/200 [01:39<01:25,  1.63it/s]"
     ]
    },
    {
     "name": "stdout",
     "output_type": "stream",
     "text": [
      "\n",
      "🔹 Predicted: 多が一の多、一が多の一、動即静、静即動として、\n",
      "🔸 Reference: 多が一の多、一が多の一、動即静、静即動として、\n"
     ]
    },
    {
     "name": "stderr",
     "output_type": "stream",
     "text": [
      "\r",
      " 31%|███       | 62/200 [01:39<01:12,  1.89it/s]"
     ]
    },
    {
     "name": "stdout",
     "output_type": "stream",
     "text": [
      "\n",
      "🔹 Predicted: 辛い料理で汗を出しまくる\n",
      "🔸 Reference: 辛い料理で汗を出しまくる\n"
     ]
    },
    {
     "name": "stderr",
     "output_type": "stream",
     "text": [
      "\r",
      " 32%|███▏      | 63/200 [01:39<01:10,  1.96it/s]"
     ]
    },
    {
     "name": "stdout",
     "output_type": "stream",
     "text": [
      "\n",
      "🔹 Predicted: 川のほとりからコソ泥にはいられたようなこともありました\n",
      "🔸 Reference: 川のほとりからコソ泥にはいられたようなこともありました\n"
     ]
    },
    {
     "name": "stderr",
     "output_type": "stream",
     "text": [
      "\r",
      " 32%|███▏      | 64/200 [01:40<01:12,  1.87it/s]"
     ]
    },
    {
     "name": "stdout",
     "output_type": "stream",
     "text": [
      "\n",
      "🔹 Predicted: しかも価値そのものの本質が哲学的な見方を要求しており、\n",
      "🔸 Reference: しかも価値そのものの本質が哲学的な見方を要求しており、\n"
     ]
    },
    {
     "name": "stderr",
     "output_type": "stream",
     "text": [
      "\r",
      " 32%|███▎      | 65/200 [01:41<01:13,  1.84it/s]"
     ]
    },
    {
     "name": "stdout",
     "output_type": "stream",
     "text": [
      "\n",
      "🔹 Predicted: とおていた助からないと思っていると、どさりと音がして眼から火が出た\n",
      "🔸 Reference: 到底助からないと思っていると、どさりと音がして眼から火が出た\n"
     ]
    },
    {
     "name": "stderr",
     "output_type": "stream",
     "text": [
      "\r",
      " 33%|███▎      | 66/200 [01:46<04:14,  1.90s/it]"
     ]
    },
    {
     "name": "stdout",
     "output_type": "stream",
     "text": [
      "\n",
      "🔹 Predicted:  ಇರಿದ ಇರಿದ ಇರಿದ ಇರಿದ ಇರಿದ ಇರಿದ ಇರಿದ ಇರಿದ ಇರಿದ ಇರಿದ ಇರಿದ ಇರಿದ ಇರಿದ ಇರಿದ ಇರಿದ ಇರಿದ ಇರಿದ ಇರಿದ ಇರಿದ ಇರಿದ ಇರಿದ ಇರಿದ ಇರಿದ ಇರಿದ ಇರಿದ ಇರಿದ ಇರಿದ ಇರಿದ ಇರಿದ ಇರಿದ ಇರಿದ ಇರಿದ ಇರಿದ ಇರಿದ ಇರರಿದ\n",
      "🔸 Reference: 広島県東広島市\n"
     ]
    },
    {
     "name": "stderr",
     "output_type": "stream",
     "text": [
      "\r",
      " 34%|███▎      | 67/200 [01:54<08:15,  3.73s/it]"
     ]
    },
    {
     "name": "stdout",
     "output_type": "stream",
     "text": [
      "\n",
      "🔹 Predicted:  ಕರರರರರರರರರರರರರರರರರರರರರರರರರರರರರರರರರರರರರರರರರರರರರರರರರರರರರರರರರರರರರರರರರರರರರರರರರರರರರರರರರರರರರರರರರರರರರರರರರರರರರರರರರರರರರರರರರರರರರರರರರರರರರರರರರರರರರರರರರರರರರರರರರರರರರರರರರರರರರರರರರರರರರರರರರರರರರರರರರರರರರರರರರರರರರರರರರರರರರರರರರರರರರರರರರರರರರರರರರರರರರ\n",
      "🔸 Reference: おいおい、ちょっとは加減してくれよ\n"
     ]
    },
    {
     "name": "stderr",
     "output_type": "stream",
     "text": [
      "\r",
      " 34%|███▍      | 68/200 [02:02<11:02,  5.02s/it]"
     ]
    },
    {
     "name": "stdout",
     "output_type": "stream",
     "text": [
      "\n",
      "🔹 Predicted:  ಕಿಕಿಕಿಕಿಕಿಕಿಕಿಕಿಕಿಕಿಕಿಕಿಕಿಕಿಕಿಕಿಕಿಕಿಕಿಕಿಕಿಕಿಕಿಕಿಕಿಕಿಕಿಕಿಕಿಕಿಕಿಕಿಕಿಕಿಕಿಕಿಕಿಕಿಕಿಕಿಕಿಕಿಕಿಕಿಕಿಕಿಕಿಕಿಕಿಕಿಕಿಕಿಕಿಕಿಕಿಕಿಕಿಕಿಕಕಿಕಿಕಕಿಕಿಕಕಿಕಕಿಕಕಿಕಕಿಕಕಕಿಕಕಕಕಕಕಕಕಕಕಕಕಕಕಕಕಕಕಕಕಕಕಕಕಕಕಕಕಕಕಕಕಕಕಕಕಕಕಕಕಕಕಕಕಕಕಕಕಕಕಕಕಕಕಕಕಕಕಕಕಕಕಕಕಕಕಕಕಕಕಕಕಕಕಕಕಕಕಕಕ\n",
      "🔸 Reference: 昔から遊び場に困ったときによく使う、親しみと退屈さにまみれた公園に僕らはいた\n"
     ]
    },
    {
     "name": "stderr",
     "output_type": "stream",
     "text": [
      "\r",
      " 34%|███▍      | 69/200 [02:02<08:03,  3.69s/it]"
     ]
    },
    {
     "name": "stdout",
     "output_type": "stream",
     "text": [
      "\n",
      "🔹 Predicted: 雨上がりに水溜りが乾くように、頭の中に空白ができていった\n",
      "🔸 Reference: 雨上がりに水溜りが乾くように、頭の中に空白ができていった\n"
     ]
    },
    {
     "name": "stderr",
     "output_type": "stream",
     "text": [
      "\r",
      " 35%|███▌      | 70/200 [02:03<06:00,  2.77s/it]"
     ]
    },
    {
     "name": "stdout",
     "output_type": "stream",
     "text": [
      "\n",
      "🔹 Predicted:  ಕಿಕರಿಕರಿಕರಿಕರಿ\n",
      "🔸 Reference: 岡山県吉備中央町\n"
     ]
    },
    {
     "name": "stderr",
     "output_type": "stream",
     "text": [
      "\r",
      " 36%|███▌      | 71/200 [02:11<09:21,  4.35s/it]"
     ]
    },
    {
     "name": "stdout",
     "output_type": "stream",
     "text": [
      "\n",
      "🔹 Predicted:  ಕೇತೇ ಕೇತೇ ಕೇತೇ ಕೇತೇ ಕೇತೇ ಕೇತೇ ಕೇತೇ ಕೇತೇ ಕೇತೇ ಕೇತೇ ಕೇತೇ ಕೇತೇ ಕೇತೇ ಕೇತೇ ಕೇತೇ ಕೇತೇ ಕೇತೇ ಕೇತೇ ಕೇತೇ ಕೇತೇ ಕೇತೇ ಕೇತೇ ಕೇತೇ ಕೇತೇ ಕೇತೇ ಕೇತೇ ಕೇತೇ ಕೇತೇ ಕೇತೇ ಕೇತೇ ಕೇತೇ ಕೇತೇ ಕೇತೇ ಕೇತೇ ಕೇತೇ ಕೇತೇ ಕೇತೇ ಕೇತೇ ಕೇತೇ ಕೇತೇ ಕೇತೇ ಕೇತೇ ಕೇತೇ ಕೇತೇ ಕೇದಇ ಕೇದದ ಕೇದ ಕೇದ ಕೇದ ಕೇದ ಕೇದ ಕೇದ ಕೇದ ಕೇದ ಕೇದ ಕೇದ ಕೇದ ಕದ ಕದ ಕ\n",
      "🔸 Reference: 福岡市南区\n"
     ]
    },
    {
     "name": "stderr",
     "output_type": "stream",
     "text": [
      "\r",
      " 36%|███▌      | 72/200 [02:19<11:38,  5.46s/it]"
     ]
    },
    {
     "name": "stdout",
     "output_type": "stream",
     "text": [
      "\n",
      "🔹 Predicted:  ಇರಿತತತತತತತತತತತತತತತತತತತತತತತತತತತತತತತತತತತತತತತತತತತತತತತತತತತತತತತತತತತತತತತತತತತತತತತತತತತತತತತತತತತತತತತತತತತತತತತತತತತತತತತತತತತತತತತತತತತತತತತತತತತತತತತತತತತತತತತತತತತತತತತತತತತತತತತತತತತತತತತತತತತತತತತತತತತತತತತತತತತತತತತತತತತತತತತತತತತತತತತತತತತತತತತತತತತತತತತತತತತ\n",
      "🔸 Reference: 岐阜県池田町\n"
     ]
    },
    {
     "name": "stderr",
     "output_type": "stream",
     "text": [
      "\r",
      " 36%|███▋      | 73/200 [02:19<08:18,  3.92s/it]"
     ]
    },
    {
     "name": "stdout",
     "output_type": "stream",
     "text": [
      "\n",
      "🔹 Predicted: 茨城県常陸大宮市\n",
      "🔸 Reference: 茨城県常陸大宮市\n"
     ]
    },
    {
     "name": "stderr",
     "output_type": "stream",
     "text": [
      "\r",
      " 37%|███▋      | 74/200 [02:20<06:11,  2.95s/it]"
     ]
    },
    {
     "name": "stdout",
     "output_type": "stream",
     "text": [
      "\n",
      "🔹 Predicted: 徳川時代の日本の経済史に通じ、大阪の市史を編纂した人です\n",
      "🔸 Reference: 徳川時代の日本の経済史に通じ、大阪の市史を編纂した人です\n"
     ]
    },
    {
     "name": "stderr",
     "output_type": "stream",
     "text": [
      "\r",
      " 38%|███▊      | 75/200 [02:20<04:33,  2.19s/it]"
     ]
    },
    {
     "name": "stdout",
     "output_type": "stream",
     "text": [
      "\n",
      "🔹 Predicted: 記憶の中にあるものとの違いを確認していく\n",
      "🔸 Reference: 記憶の中にあるものとの違いを確認していく\n"
     ]
    },
    {
     "name": "stderr",
     "output_type": "stream",
     "text": [
      "\r",
      " 38%|███▊      | 76/200 [02:21<03:21,  1.62s/it]"
     ]
    },
    {
     "name": "stdout",
     "output_type": "stream",
     "text": [
      "\n",
      "🔹 Predicted: 長崎県波佐見町\n",
      "🔸 Reference: 長崎県波佐見町\n"
     ]
    },
    {
     "name": "stderr",
     "output_type": "stream",
     "text": [
      "\r",
      " 38%|███▊      | 77/200 [02:29<07:15,  3.54s/it]"
     ]
    },
    {
     "name": "stdout",
     "output_type": "stream",
     "text": [
      "\n",
      "🔹 Predicted:  ಎದರಿದರಿದರಿದರಿದರಿದರಿದರಿದರಿದರಿದರಿದರಿದರಿದರಿದರಿದರಿದರಿದರಿದರಿದರಿದರಿದರಿದರಿದರಿದರಿದರಿದರಿದರಿದರಿದರಿದರಿದರಿದರಿದರಿದರಿದರಿದರಿದರಿದರಿದರಿದರಿದರಿದರಿದರಿದರಿದರಿದರಿದರಿದರಿದರಿದರಿದರಿದರರಿದರಿದರರಿದರರಿದರರಿದರರಿದರರಿದರರರಿದರರರಿರರರರರರರರರರರರರರರರರರರರರರರರರರರರರರರ\n",
      "🔸 Reference: 横浜市鶴見区\n"
     ]
    },
    {
     "name": "stderr",
     "output_type": "stream",
     "text": [
      "\r",
      " 39%|███▉      | 78/200 [02:29<05:12,  2.56s/it]"
     ]
    },
    {
     "name": "stdout",
     "output_type": "stream",
     "text": [
      "\n",
      "🔹 Predicted: 奈良県山添村\n",
      "🔸 Reference: 奈良県山添村\n"
     ]
    },
    {
     "name": "stderr",
     "output_type": "stream",
     "text": [
      "\r",
      " 40%|███▉      | 79/200 [02:29<03:47,  1.88s/it]"
     ]
    },
    {
     "name": "stdout",
     "output_type": "stream",
     "text": [
      "\n",
      "🔹 Predicted: 福岡県大牟田市\n",
      "🔸 Reference: 福岡県大牟田市\n"
     ]
    },
    {
     "name": "stderr",
     "output_type": "stream",
     "text": [
      "\r",
      " 40%|████      | 80/200 [02:30<02:54,  1.46s/it]"
     ]
    },
    {
     "name": "stdout",
     "output_type": "stream",
     "text": [
      "\n",
      "🔹 Predicted:  ಕೇತೇತೇತೇತೇ\n",
      "🔸 Reference: ビールとポテトで小腹を満たす\n"
     ]
    },
    {
     "name": "stderr",
     "output_type": "stream",
     "text": [
      "\r",
      " 40%|████      | 81/200 [02:30<02:23,  1.21s/it]"
     ]
    },
    {
     "name": "stdout",
     "output_type": "stream",
     "text": [
      "\n",
      "🔹 Predicted: 物質的世界というも、矛盾的自己同一的に自己自身を形成するものである。\n",
      "🔸 Reference: 物質的世界というも、矛盾的自己同一的に自己自身を形成するものである。\n"
     ]
    },
    {
     "name": "stderr",
     "output_type": "stream",
     "text": [
      "\r",
      " 41%|████      | 82/200 [02:31<01:58,  1.01s/it]"
     ]
    },
    {
     "name": "stdout",
     "output_type": "stream",
     "text": [
      "\n",
      "🔹 Predicted: 手帳に書かれたスケジュール通りにやらないと気がすまない\n",
      "🔸 Reference: 手帳に書かれたスケジュール通りにやらないと気がすまない\n"
     ]
    },
    {
     "name": "stderr",
     "output_type": "stream",
     "text": [
      "\r",
      " 42%|████▏     | 83/200 [02:31<01:36,  1.21it/s]"
     ]
    },
    {
     "name": "stdout",
     "output_type": "stream",
     "text": [
      "\n",
      "🔹 Predicted: なんでも自己責任にするのはやめたほうがいい\n",
      "🔸 Reference: なんでも自己責任にするのはやめたほうがいい\n"
     ]
    },
    {
     "name": "stderr",
     "output_type": "stream",
     "text": [
      "\r",
      " 42%|████▏     | 84/200 [02:32<01:32,  1.25it/s]"
     ]
    },
    {
     "name": "stdout",
     "output_type": "stream",
     "text": [
      "\n",
      "🔹 Predicted: 部屋の壁が三箇所ほど崩れ落ちているのが、その写真にハッキリ写っている\n",
      "🔸 Reference: 部屋の壁が三箇所ほど崩れ落ちているのが、その写真にハッキリ写っている\n"
     ]
    },
    {
     "name": "stderr",
     "output_type": "stream",
     "text": [
      "\r",
      " 42%|████▎     | 85/200 [02:32<01:14,  1.54it/s]"
     ]
    },
    {
     "name": "stdout",
     "output_type": "stream",
     "text": [
      "\n",
      "🔹 Predicted: これってようはリボ払いだよね\n",
      "🔸 Reference: これってようはリボ払いだよね\n"
     ]
    },
    {
     "name": "stderr",
     "output_type": "stream",
     "text": [
      "\r",
      " 43%|████▎     | 86/200 [02:33<01:07,  1.69it/s]"
     ]
    },
    {
     "name": "stdout",
     "output_type": "stream",
     "text": [
      "\n",
      "🔹 Predicted: 防犯カメラの映像をよく見たら人がいた\n",
      "🔸 Reference: 防犯カメラの映像をよく見たら人がいた\n"
     ]
    },
    {
     "name": "stderr",
     "output_type": "stream",
     "text": [
      "\r",
      " 44%|████▎     | 87/200 [02:33<00:59,  1.89it/s]"
     ]
    },
    {
     "name": "stdout",
     "output_type": "stream",
     "text": [
      "\n",
      "🔹 Predicted: 二階の指導室へ寄ってくれ。\n",
      "🔸 Reference: 二階の指導室へ寄ってくれ。\n"
     ]
    },
    {
     "name": "stderr",
     "output_type": "stream",
     "text": [
      "\r",
      " 44%|████▍     | 88/200 [02:34<00:52,  2.13it/s]"
     ]
    },
    {
     "name": "stdout",
     "output_type": "stream",
     "text": [
      "\n",
      "🔹 Predicted: それ考察というより二次創作だから\n",
      "🔸 Reference: それ考察というより二次創作だから\n"
     ]
    },
    {
     "name": "stderr",
     "output_type": "stream",
     "text": [
      "\r",
      " 44%|████▍     | 89/200 [02:34<00:51,  2.15it/s]"
     ]
    },
    {
     "name": "stdout",
     "output_type": "stream",
     "text": [
      "\n",
      "🔹 Predicted: 京防な顔つきの犬がこちらへ近寄ってくる\n",
      "🔸 Reference: 凶暴な顔つきの犬がこちらへ近寄ってくる\n"
     ]
    },
    {
     "name": "stderr",
     "output_type": "stream",
     "text": [
      "\r",
      " 45%|████▌     | 90/200 [02:34<00:50,  2.17it/s]"
     ]
    },
    {
     "name": "stdout",
     "output_type": "stream",
     "text": [
      "\n",
      "🔹 Predicted: 社会が実体的自由として倫理的実体となり、\n",
      "🔸 Reference: 社会が実体的自由として倫理的実体となり、\n"
     ]
    },
    {
     "name": "stderr",
     "output_type": "stream",
     "text": [
      "\r",
      " 46%|████▌     | 91/200 [02:43<05:00,  2.75s/it]"
     ]
    },
    {
     "name": "stdout",
     "output_type": "stream",
     "text": [
      "\n",
      "🔹 Predicted:  ಇರಿದರಿದರಿದರಿದರಿದರಿದರಿದರಿದರಿದರಿದರಿದರಿದರಿದರಿದರಿದರಿದರಿದರಿದರಿದರಿದರಿದರಿದರಿದರಿದರಿದರಿದರಿದರಿದರಿದರಿದರಿದರಿದರಿದರಿದರಿದರಿದರಿದರಿದರಿದರಿದರಿದರಿದರಿದರಿದರರಿದರಿದರರಿದರರಿದರರಿದರರಿದರರಿದರರಿದರರಿದರರರಿರರರರಿರರರರರರರರರರರರರರರರರರರರರರರರರರರರರರರರರರರರರರರರರರರರರ\n",
      "🔸 Reference: 合理性もなにもない\n"
     ]
    },
    {
     "name": "stderr",
     "output_type": "stream",
     "text": [
      "\r",
      " 46%|████▌     | 92/200 [02:43<03:52,  2.15s/it]"
     ]
    },
    {
     "name": "stdout",
     "output_type": "stream",
     "text": [
      "\n",
      "🔹 Predicted: アタエラれたものは単に否定すべきものでもなく、また媒介し媒介せられるものでもない。\n",
      "🔸 Reference: 与えられたものは単に否定すべきものでもなく、また媒介し媒介せられるものでもない。\n"
     ]
    },
    {
     "name": "stderr",
     "output_type": "stream",
     "text": [
      "\r",
      " 46%|████▋     | 93/200 [02:44<03:05,  1.74s/it]"
     ]
    },
    {
     "name": "stdout",
     "output_type": "stream",
     "text": [
      "\n",
      "🔹 Predicted: 常識的な行為はその社会の全体との関係において不都合の起こらないのが普通である。\n",
      "🔸 Reference: 常識的な行為はその社会の全体との関係において不都合の起こらないのが普通である。\n"
     ]
    },
    {
     "name": "stderr",
     "output_type": "stream",
     "text": [
      "\r",
      " 47%|████▋     | 94/200 [02:44<02:19,  1.32s/it]"
     ]
    },
    {
     "name": "stdout",
     "output_type": "stream",
     "text": [
      "\n",
      "🔹 Predicted: 川真っ赤にして声からして訴える\n",
      "🔸 Reference: 顔真っ赤にして声からして訴える\n"
     ]
    },
    {
     "name": "stderr",
     "output_type": "stream",
     "text": [
      "\r",
      " 48%|████▊     | 95/200 [02:45<02:05,  1.20s/it]"
     ]
    },
    {
     "name": "stdout",
     "output_type": "stream",
     "text": [
      "\n",
      "🔹 Predicted: しかしそれは、世界が機械的だということでもなく、単に合目的的だということでもない、世界が一つの現在として自己形成的だということである。\n",
      "🔸 Reference: しかしそれは、世界が機械的だということでもなく、単に合目的的だということでもない、世界が一つの現在として自己形成的だということである。\n"
     ]
    },
    {
     "name": "stderr",
     "output_type": "stream",
     "text": [
      "\r",
      " 48%|████▊     | 96/200 [02:46<01:35,  1.09it/s]"
     ]
    },
    {
     "name": "stdout",
     "output_type": "stream",
     "text": [
      "\n",
      "🔹 Predicted: 佐賀県江北町\n",
      "🔸 Reference: 佐賀県江北町\n"
     ]
    },
    {
     "name": "stderr",
     "output_type": "stream",
     "text": [
      "\r",
      " 48%|████▊     | 97/200 [02:46<01:20,  1.29it/s]"
     ]
    },
    {
     "name": "stdout",
     "output_type": "stream",
     "text": [
      "\n",
      "🔹 Predicted: キャラクターをひたすらに強化して無双する。\n",
      "🔸 Reference: キャラクターをひたすらに強化して無双する。\n"
     ]
    },
    {
     "name": "stderr",
     "output_type": "stream",
     "text": [
      "\r",
      " 49%|████▉     | 98/200 [02:47<01:22,  1.24it/s]"
     ]
    },
    {
     "name": "stdout",
     "output_type": "stream",
     "text": [
      "\n",
      "🔹 Predicted: 仕方がない、何でもよいから食物のある所まであるこうと決心をしてそろりそろりと池を左に廻り始めた\n",
      "🔸 Reference: 仕方がない、何でもよいから食物のある所まであるこうと決心をしてそろりそろりと池を左に廻り始めた\n"
     ]
    },
    {
     "name": "stderr",
     "output_type": "stream",
     "text": [
      "\r",
      " 50%|████▉     | 99/200 [02:47<01:11,  1.41it/s]"
     ]
    },
    {
     "name": "stdout",
     "output_type": "stream",
     "text": [
      "\n",
      "🔹 Predicted:  ಎದರಿದರಿದರಿ\n",
      "🔸 Reference: 岡山市中区\n"
     ]
    },
    {
     "name": "stderr",
     "output_type": "stream",
     "text": [
      "\r",
      " 50%|█████     | 100/200 [02:48<00:57,  1.75it/s]"
     ]
    },
    {
     "name": "stdout",
     "output_type": "stream",
     "text": [
      "\n",
      "🔹 Predicted: 島根県飯南町\n",
      "🔸 Reference: 島根県飯南町\n"
     ]
    },
    {
     "name": "stderr",
     "output_type": "stream",
     "text": [
      "\r",
      " 50%|█████     | 101/200 [02:48<00:51,  1.92it/s]"
     ]
    },
    {
     "name": "stdout",
     "output_type": "stream",
     "text": [
      "\n",
      "🔹 Predicted: 二人は言いながら、その扉をあけました\n",
      "🔸 Reference: 二人は言いながら、その扉をあけました\n"
     ]
    },
    {
     "name": "stderr",
     "output_type": "stream",
     "text": [
      "\r",
      " 51%|█████     | 102/200 [02:49<00:50,  1.93it/s]"
     ]
    },
    {
     "name": "stdout",
     "output_type": "stream",
     "text": [
      "\n",
      "🔹 Predicted: 福大をいつまでにやろうかとか、他愛のないことが頭に浮んだ\n",
      "🔸 Reference: 宿題をいつまでにやろうかとか、他愛のないことが頭に浮んだ\n"
     ]
    },
    {
     "name": "stderr",
     "output_type": "stream",
     "text": [
      "\r",
      " 52%|█████▏    | 103/200 [02:49<00:41,  2.31it/s]"
     ]
    },
    {
     "name": "stdout",
     "output_type": "stream",
     "text": [
      "\n",
      "🔹 Predicted: これをロシア式だ\n",
      "🔸 Reference: これはロシア式だ\n"
     ]
    },
    {
     "name": "stderr",
     "output_type": "stream",
     "text": [
      "\r",
      " 52%|█████▏    | 104/200 [02:49<00:42,  2.26it/s]"
     ]
    },
    {
     "name": "stdout",
     "output_type": "stream",
     "text": [
      "\n",
      "🔹 Predicted: そして、とにかく前世からの因縁とでもいうのでしょうか、\n",
      "🔸 Reference: そして、とにかく前世からの因縁とでもいうのでしょうか、\n"
     ]
    },
    {
     "name": "stderr",
     "output_type": "stream",
     "text": [
      "\r",
      " 52%|█████▎    | 105/200 [02:58<04:30,  2.85s/it]"
     ]
    },
    {
     "name": "stdout",
     "output_type": "stream",
     "text": [
      "\n",
      "🔹 Predicted:  ಎದರಿತತತತತತತತತತತತತತತತತತತತತತತತತತತತತತತತತತತತತತತತತತತತತತತತತತತತತತತತತತತತತತತತತತತತತತತತತತತತತತತತತತತತತತತತತತತತತತತತತತತತತತತತತತತತತತತತತತತತತತತತತತತತತತತತತತತತತತತತತತತತತತತತತತತತತತತತತತತತತತತತತತತತತತತತತತತತತತತತತತತತತತತತತತತತತತತತತತತತತತತತತತತತತತತತತತತತತತತತತತ\n",
      "🔸 Reference: ブリッジの上ったり降りたりは、自分にはむしろ、\n"
     ]
    },
    {
     "name": "stderr",
     "output_type": "stream",
     "text": [
      "\r",
      " 53%|█████▎    | 106/200 [02:58<03:14,  2.07s/it]"
     ]
    },
    {
     "name": "stdout",
     "output_type": "stream",
     "text": [
      "\n",
      "🔹 Predicted: 和歌山県由良町\n",
      "🔸 Reference: 和歌山県由良町\n"
     ]
    },
    {
     "name": "stderr",
     "output_type": "stream",
     "text": [
      "\r",
      " 54%|█████▎    | 107/200 [02:58<02:23,  1.54s/it]"
     ]
    },
    {
     "name": "stdout",
     "output_type": "stream",
     "text": [
      "\n",
      "🔹 Predicted: トクシャム県上板町\n",
      "🔸 Reference: 徳島県上板町\n"
     ]
    },
    {
     "name": "stderr",
     "output_type": "stream",
     "text": [
      "\r",
      " 54%|█████▍    | 108/200 [02:59<01:56,  1.26s/it]"
     ]
    },
    {
     "name": "stdout",
     "output_type": "stream",
     "text": [
      "\n",
      "🔹 Predicted: かかる世界は作られたものから作るものへと動き行く世界でなければならない。\n",
      "🔸 Reference: かかる世界は作られたものから作るものへと動き行く世界でなければならない。\n"
     ]
    },
    {
     "name": "stderr",
     "output_type": "stream",
     "text": [
      "\r",
      " 55%|█████▍    | 109/200 [02:59<01:36,  1.06s/it]"
     ]
    },
    {
     "name": "stdout",
     "output_type": "stream",
     "text": [
      "\n",
      "🔹 Predicted: 我々がその中にある一つの個別的社会、例えば民族とか国家とかも、\n",
      "🔸 Reference: 我々がその中にある一つの個別的社会、例えば民族とか国家とかも、\n"
     ]
    },
    {
     "name": "stderr",
     "output_type": "stream",
     "text": [
      "\r",
      " 55%|█████▌    | 110/200 [03:00<01:20,  1.11it/s]"
     ]
    },
    {
     "name": "stdout",
     "output_type": "stream",
     "text": [
      "\n",
      "🔹 Predicted: アホエが小走りでやってきて、財布なくしたって言うんですよ。\n",
      "🔸 Reference: 母親が小走りでやってきて、財布なくしたって言うんですよ。\n"
     ]
    },
    {
     "name": "stderr",
     "output_type": "stream",
     "text": [
      "\r",
      " 56%|█████▌    | 111/200 [03:00<01:03,  1.40it/s]"
     ]
    },
    {
     "name": "stdout",
     "output_type": "stream",
     "text": [
      "\n",
      "🔹 Predicted: 奈良県御所市\n",
      "🔸 Reference: 奈良県御所市\n"
     ]
    },
    {
     "name": "stderr",
     "output_type": "stream",
     "text": [
      "\r",
      " 56%|█████▌    | 112/200 [03:08<04:19,  2.95s/it]"
     ]
    },
    {
     "name": "stdout",
     "output_type": "stream",
     "text": [
      "\n",
      "🔹 Predicted:  ಇರಿದೌತತತತತತತತತತತತತತತತತತತತತತತತತತತತತತತತತತತತತತತತತತತತತತತತತತತತತತತತತತತತತತತತತತತತತತತತತತತತತತತತತತತತತತತತತತತತತತತತತತತತತತತತತತತತತತತತತತತತತತತತತತತತತತತತತತತತತತತತತತತತತತತತತತತತತತತತತತತತತತತತತತತತತತತತತತತತತತತತತತತತತತತತತತತತತತತತತತತತತತತತತತತತತತತತತತತತತತತತತ\n",
      "🔸 Reference: よく食事の給仕にきてくれたときなど、\n"
     ]
    },
    {
     "name": "stderr",
     "output_type": "stream",
     "text": [
      "\r",
      " 56%|█████▋    | 113/200 [03:17<06:35,  4.54s/it]"
     ]
    },
    {
     "name": "stdout",
     "output_type": "stream",
     "text": [
      "\n",
      "🔹 Predicted: 君が僕に渡して、僕が尻にポケットに入れた、平凡なＵＦＦＦＦＦＦＦＦＦＦＦＦＦＦＦＦＦＦＦＦＦＦＦＦＦＦＦＦＦＦＦＦＦＦＦＦＦＦＦＦＦＦＦＦＦＦＦＦＦＦＦＦＦＦＦＦＦＦＦＦＦＦＦＦＦＦＦＦＦＦＦＦＦＦＦＦＦＦＦＦＦＦＦＦＦＦＦＦＦＦＦＦＦＦＦＦＦＦＦＦＦＦＦＦＦＦＦＦＦＦＦＦＦＦＦＦＦＦＦＦＦＦＦＦＦＦＦＦＦＦＦＦＦＦＦＦＦＦＦ\n",
      "🔸 Reference: 君が僕に渡して、僕が尻にポケットに入れた、平凡なＵＦＯが描いてあるシールだった\n"
     ]
    },
    {
     "name": "stderr",
     "output_type": "stream",
     "text": [
      "\r",
      " 57%|█████▋    | 114/200 [03:17<04:44,  3.30s/it]"
     ]
    },
    {
     "name": "stdout",
     "output_type": "stream",
     "text": [
      "\n",
      "🔹 Predicted: ファールをもらいにいくプレイにブーイング\n",
      "🔸 Reference: ファールをもらいにいくプレイにブーイング\n"
     ]
    },
    {
     "name": "stderr",
     "output_type": "stream",
     "text": [
      "\r",
      " 57%|█████▊    | 115/200 [03:18<03:33,  2.51s/it]"
     ]
    },
    {
     "name": "stdout",
     "output_type": "stream",
     "text": [
      "\n",
      "🔹 Predicted: 自分の幸福の観念と、世のすべての人たちの幸福の観念とが、\n",
      "🔸 Reference: 自分の幸福の観念と、世のすべての人たちの幸福の観念とが、\n"
     ]
    },
    {
     "name": "stderr",
     "output_type": "stream",
     "text": [
      "\r",
      " 58%|█████▊    | 116/200 [03:18<02:34,  1.84s/it]"
     ]
    },
    {
     "name": "stdout",
     "output_type": "stream",
     "text": [
      "\n",
      "🔹 Predicted: 大阪府能勢町\n",
      "🔸 Reference: 大阪府能勢町\n"
     ]
    },
    {
     "name": "stderr",
     "output_type": "stream",
     "text": [
      "\r",
      " 58%|█████▊    | 117/200 [03:18<01:53,  1.36s/it]"
     ]
    },
    {
     "name": "stdout",
     "output_type": "stream",
     "text": [
      "\n",
      "🔹 Predicted: さいたま市南区\n",
      "🔸 Reference: さいたま市南区\n"
     ]
    },
    {
     "name": "stderr",
     "output_type": "stream",
     "text": [
      "\r",
      " 59%|█████▉    | 118/200 [03:19<01:26,  1.05s/it]"
     ]
    },
    {
     "name": "stdout",
     "output_type": "stream",
     "text": [
      "\n",
      "🔹 Predicted:  ಕೈತೌತೌ\n",
      "🔸 Reference: 三重県明和町\n"
     ]
    },
    {
     "name": "stderr",
     "output_type": "stream",
     "text": [
      "\r",
      " 60%|█████▉    | 119/200 [03:19<01:07,  1.21it/s]"
     ]
    },
    {
     "name": "stdout",
     "output_type": "stream",
     "text": [
      "\n",
      "🔹 Predicted: 長崎県雲仙市\n",
      "🔸 Reference: 長崎県雲仙市\n"
     ]
    },
    {
     "name": "stderr",
     "output_type": "stream",
     "text": [
      "\r",
      " 60%|██████    | 120/200 [03:19<00:54,  1.48it/s]"
     ]
    },
    {
     "name": "stdout",
     "output_type": "stream",
     "text": [
      "\n",
      "🔹 Predicted: 何度言わせるつもりだ。\n",
      "🔸 Reference: 何度言わせるつもりだ。\n"
     ]
    },
    {
     "name": "stderr",
     "output_type": "stream",
     "text": [
      "\r",
      " 60%|██████    | 121/200 [03:20<00:46,  1.71it/s]"
     ]
    },
    {
     "name": "stdout",
     "output_type": "stream",
     "text": [
      "\n",
      "🔹 Predicted: 一番変えちゃいけないとこを改悪\n",
      "🔸 Reference: 一番変えちゃいけないとこを改悪\n"
     ]
    },
    {
     "name": "stderr",
     "output_type": "stream",
     "text": [
      "\r",
      " 61%|██████    | 122/200 [03:20<00:43,  1.81it/s]"
     ]
    },
    {
     "name": "stdout",
     "output_type": "stream",
     "text": [
      "\n",
      "🔹 Predicted: 自分が上位になれるソシャゲはたいていすぐ終わる\n",
      "🔸 Reference: 自分が上位になれるソシャゲはたいていすぐ終わる\n"
     ]
    },
    {
     "name": "stderr",
     "output_type": "stream",
     "text": [
      "\r",
      " 62%|██████▏   | 123/200 [03:21<00:39,  1.93it/s]"
     ]
    },
    {
     "name": "stdout",
     "output_type": "stream",
     "text": [
      "\n",
      "🔹 Predicted: この書はその一つの案内であろうとするものである。\n",
      "🔸 Reference: この書はその一つの案内であろうとするものである。\n"
     ]
    },
    {
     "name": "stderr",
     "output_type": "stream",
     "text": [
      "\r",
      " 62%|██████▏   | 124/200 [03:21<00:40,  1.86it/s]"
     ]
    },
    {
     "name": "stdout",
     "output_type": "stream",
     "text": [
      "\n",
      "🔹 Predicted: それら物理的、生物学的、心理的現象を一定の関係において\n",
      "🔸 Reference: それら物理的、生物学的、心理的現象を一定の関係において\n"
     ]
    },
    {
     "name": "stderr",
     "output_type": "stream",
     "text": [
      "\r",
      " 62%|██████▎   | 125/200 [03:22<00:38,  1.94it/s]"
     ]
    },
    {
     "name": "stdout",
     "output_type": "stream",
     "text": [
      "\n",
      "🔹 Predicted: 理性と呼ばれるものの自覚がなければならぬ。\n",
      "🔸 Reference: 理性と呼ばれるものの自覚がなければならぬ。\n"
     ]
    },
    {
     "name": "stderr",
     "output_type": "stream",
     "text": [
      "\r",
      " 63%|██████▎   | 126/200 [03:22<00:33,  2.23it/s]"
     ]
    },
    {
     "name": "stdout",
     "output_type": "stream",
     "text": [
      "\n",
      "🔹 Predicted: 人の名前が覚えられない\n",
      "🔸 Reference: 人の名前が覚えられない\n"
     ]
    },
    {
     "name": "stderr",
     "output_type": "stream",
     "text": [
      "\r",
      " 64%|██████▎   | 127/200 [03:22<00:33,  2.15it/s]"
     ]
    },
    {
     "name": "stdout",
     "output_type": "stream",
     "text": [
      "\n",
      "🔹 Predicted: 何もかもが変わっていた、昔のままのものなんてなかった\n",
      "🔸 Reference: 何もかもが変わっていた、昔のままのものなんてなかった\n"
     ]
    },
    {
     "name": "stderr",
     "output_type": "stream",
     "text": [
      "\r",
      " 64%|██████▍   | 128/200 [03:23<00:31,  2.26it/s]"
     ]
    },
    {
     "name": "stdout",
     "output_type": "stream",
     "text": [
      "\n",
      "🔹 Predicted: そんなこと未練がましく繰り返してさ。\n",
      "🔸 Reference: そんなこと未練がましく繰り返してさ。\n"
     ]
    },
    {
     "name": "stderr",
     "output_type": "stream",
     "text": [
      "\r",
      " 64%|██████▍   | 129/200 [03:23<00:33,  2.15it/s]"
     ]
    },
    {
     "name": "stdout",
     "output_type": "stream",
     "text": [
      "\n",
      "🔹 Predicted: それ、おなかが空いたろう、自分たちにも覚えがある、\n",
      "🔸 Reference: それ、おなかが空いたろう、自分たちにも覚えがある、\n"
     ]
    },
    {
     "name": "stderr",
     "output_type": "stream",
     "text": [
      "\r",
      " 65%|██████▌   | 130/200 [03:24<00:29,  2.34it/s]"
     ]
    },
    {
     "name": "stdout",
     "output_type": "stream",
     "text": [
      "\n",
      "🔹 Predicted: この影武者、設定を忘れてるぞ\n",
      "🔸 Reference: この影武者、設定を忘れてるぞ\n"
     ]
    },
    {
     "name": "stderr",
     "output_type": "stream",
     "text": [
      "\r",
      " 66%|██████▌   | 131/200 [03:24<00:27,  2.46it/s]"
     ]
    },
    {
     "name": "stdout",
     "output_type": "stream",
     "text": [
      "\n",
      "🔹 Predicted: テレビとモニタを兼用してる\n",
      "🔸 Reference: テレビとモニタを兼用してる\n"
     ]
    },
    {
     "name": "stderr",
     "output_type": "stream",
     "text": [
      "\r",
      " 66%|██████▌   | 132/200 [03:24<00:28,  2.39it/s]"
     ]
    },
    {
     "name": "stdout",
     "output_type": "stream",
     "text": [
      "\n",
      "🔹 Predicted: さあさあおなかにおはいりください、と書いてありました\n",
      "🔸 Reference: さあさあおなかにおはいりください、と書いてありました\n"
     ]
    },
    {
     "name": "stderr",
     "output_type": "stream",
     "text": [
      "\r",
      " 66%|██████▋   | 133/200 [03:25<00:27,  2.41it/s]"
     ]
    },
    {
     "name": "stdout",
     "output_type": "stream",
     "text": [
      "\n",
      "🔹 Predicted: ステータス振り分けで性格出るよね\n",
      "🔸 Reference: ステータス振り分けで性格出るよね\n"
     ]
    },
    {
     "name": "stderr",
     "output_type": "stream",
     "text": [
      "\r",
      " 67%|██████▋   | 134/200 [03:25<00:30,  2.18it/s]"
     ]
    },
    {
     "name": "stdout",
     "output_type": "stream",
     "text": [
      "\n",
      "🔹 Predicted: かようにして身体の構造はすでに技術的な意味をもっている。\n",
      "🔸 Reference: かようにして身体の構造はすでに技術的な意味をもっている。\n"
     ]
    },
    {
     "name": "stderr",
     "output_type": "stream",
     "text": [
      "\r",
      " 68%|██████▊   | 135/200 [03:26<00:25,  2.50it/s]"
     ]
    },
    {
     "name": "stdout",
     "output_type": "stream",
     "text": [
      "\n",
      "🔹 Predicted: やってもやってもキリがない\n",
      "🔸 Reference: やってもやってもキリがない\n"
     ]
    },
    {
     "name": "stderr",
     "output_type": "stream",
     "text": [
      "\r",
      " 68%|██████▊   | 136/200 [03:26<00:29,  2.20it/s]"
     ]
    },
    {
     "name": "stdout",
     "output_type": "stream",
     "text": [
      "\n",
      "🔹 Predicted: これも百円、あれも百円と興奮してカゴいっぱいになるくらい買った\n",
      "🔸 Reference: これも百円、あれも百円と興奮してカゴいっぱいになるくらい買った\n"
     ]
    },
    {
     "name": "stderr",
     "output_type": "stream",
     "text": [
      "\r",
      " 68%|██████▊   | 137/200 [03:27<00:32,  1.96it/s]"
     ]
    },
    {
     "name": "stdout",
     "output_type": "stream",
     "text": [
      "\n",
      "🔹 Predicted: ノートパソコンを開くと傾斜がつき、キーボードが打ちやすい\n",
      "🔸 Reference: ノートパソコンを開くと傾斜がつき、キーボードが打ちやすい\n"
     ]
    },
    {
     "name": "stderr",
     "output_type": "stream",
     "text": [
      "\r",
      " 69%|██████▉   | 138/200 [03:27<00:29,  2.14it/s]"
     ]
    },
    {
     "name": "stdout",
     "output_type": "stream",
     "text": [
      "\n",
      "🔹 Predicted: がっかりしながら店を出た。\n",
      "🔸 Reference: がっかりしながら店を出た。\n"
     ]
    },
    {
     "name": "stderr",
     "output_type": "stream",
     "text": [
      "\r",
      " 70%|██████▉   | 139/200 [03:35<02:47,  2.75s/it]"
     ]
    },
    {
     "name": "stdout",
     "output_type": "stream",
     "text": [
      "\n",
      "🔹 Predicted:  ಕೈವರಿದೌವರಿದೌವರಿದೌವರಿದೌವರಿದೌವರಿದೌವರಿದೌವರಿದೌವರಿದೌವರಿದೌವರಿದೌವರಿದೌವರಿದೌವರಿದೌವರಿದೌವರಿದೌವರಿದೌವರಿದೌವರಿದೌದೌದೌದೌದೌದೌದೌದೌದೌದೌದೌದೌದೌದೌದೌದೌದೌದೌದೌದೌದೌದೌದೌದೌದೌದೌದೌದೌದೌದೌದೌದೌದೌದೌದೌದೌದೌದೌದೌದೌದೌದೌದೌದೌದೌದೌದೌದೌದೌದದದದದದದದದದದದದದದದದದದದದದದದದದದದದ\n",
      "🔸 Reference: 家に電話しても良いですか？\n"
     ]
    },
    {
     "name": "stderr",
     "output_type": "stream",
     "text": [
      "\r",
      " 70%|███████   | 140/200 [03:36<02:03,  2.06s/it]"
     ]
    },
    {
     "name": "stdout",
     "output_type": "stream",
     "text": [
      "\n",
      "🔹 Predicted: 技術の進歩は遠回りはすれど止まらない\n",
      "🔸 Reference: 技術の進歩は遠回りはすれど止まらない\n"
     ]
    },
    {
     "name": "stderr",
     "output_type": "stream",
     "text": [
      "\r",
      " 70%|███████   | 141/200 [03:37<01:39,  1.69s/it]"
     ]
    },
    {
     "name": "stdout",
     "output_type": "stream",
     "text": [
      "\n",
      "🔹 Predicted: 知性は技術の上に出ることができる、それは技術の中に入りながら技術を超えることができる。\n",
      "🔸 Reference: 知性は技術の上に出ることができる、それは技術の中に入りながら技術を超えることができる。\n"
     ]
    },
    {
     "name": "stderr",
     "output_type": "stream",
     "text": [
      "\r",
      " 71%|███████   | 142/200 [03:37<01:15,  1.31s/it]"
     ]
    },
    {
     "name": "stdout",
     "output_type": "stream",
     "text": [
      "\n",
      "🔹 Predicted: アマグモが近づいてきたので足早に帰る\n",
      "🔸 Reference: 雨雲が近づいてきたので足早に帰る\n"
     ]
    },
    {
     "name": "stderr",
     "output_type": "stream",
     "text": [
      "\r",
      " 72%|███████▏  | 143/200 [03:38<01:05,  1.14s/it]"
     ]
    },
    {
     "name": "stdout",
     "output_type": "stream",
     "text": [
      "\n",
      "🔹 Predicted: 個物は本能的適応的に働くのではなくして、既に表現的形成的でなければならない。\n",
      "🔸 Reference: 個物は本能的適応的に働くのではなくして、既に表現的形成的でなければならない。\n"
     ]
    },
    {
     "name": "stderr",
     "output_type": "stream",
     "text": [
      "\r",
      " 72%|███████▏  | 144/200 [03:38<00:52,  1.06it/s]"
     ]
    },
    {
     "name": "stdout",
     "output_type": "stream",
     "text": [
      "\n",
      "🔹 Predicted:  ಕೇತೇತೇತೇತೇ\n",
      "🔸 Reference: 本に囲まれて生きていたい\n"
     ]
    },
    {
     "name": "stderr",
     "output_type": "stream",
     "text": [
      "\r",
      " 72%|███████▎  | 145/200 [03:39<00:46,  1.19it/s]"
     ]
    },
    {
     "name": "stdout",
     "output_type": "stream",
     "text": [
      "\n",
      "🔹 Predicted: それは多の一としても、一の多としても考えられない世界でなければならない。\n",
      "🔸 Reference: それは多の一としても、一の多としても考えられない世界でなければならない。\n"
     ]
    },
    {
     "name": "stderr",
     "output_type": "stream",
     "text": [
      "\r",
      " 73%|███████▎  | 146/200 [03:40<00:47,  1.13it/s]"
     ]
    },
    {
     "name": "stdout",
     "output_type": "stream",
     "text": [
      "\n",
      "🔹 Predicted: しかるにモナド的に自己が世界を映すことが逆に世界のペルスペクティーフの一観点であるという人間に至っては、\n",
      "🔸 Reference: 然るにモナド的に自己が世界を映すことが逆に世界のペルスペクティーフの一観点であるという人間に至っては、\n"
     ]
    },
    {
     "name": "stderr",
     "output_type": "stream",
     "text": [
      "\r",
      " 74%|███████▎  | 147/200 [03:48<02:40,  3.03s/it]"
     ]
    },
    {
     "name": "stdout",
     "output_type": "stream",
     "text": [
      "\n",
      "🔹 Predicted:  ಕೈತೌತೌತೌತೌತೌತೌತೌತೌತೌತೌತೌತೌತೌತೌತೌತೌತೌತೌತೌತೌತೌತೌತೌತೌತೌತೌತೌತೌತೌತೌತೌತೌತೌತೌತೌತೌತೌತೌತೌತೌತೌತೌತೌತೌತೌತೌತೌತೌತೌತೌತೌತೌತೌತೌತೌತೌತೌತೌತೌತೌತೌತೌತೌತೌತೌತೌತೌತೌತೌತೌತೌತತೌತತತತತತತತತತತತತತತತತತತತತತತತತತತತತತತತತತತತತತತತತತತತತತತತತತತತತತತತತತತತತತತತತತತತತತತತತತತ\n",
      "🔸 Reference: 変更点が多くてついていくだけでひと苦労\n"
     ]
    },
    {
     "name": "stderr",
     "output_type": "stream",
     "text": [
      "\r",
      " 74%|███████▍  | 148/200 [03:49<02:01,  2.35s/it]"
     ]
    },
    {
     "name": "stdout",
     "output_type": "stream",
     "text": [
      "\n",
      "🔹 Predicted: かかる個物的自己として行為的直観的に即ちポイエシス的に物を把握するということは、\n",
      "🔸 Reference: かかる個物的自己として行為的直観的に即ちポイエシス的に物を把握するということは、\n"
     ]
    },
    {
     "name": "stderr",
     "output_type": "stream",
     "text": [
      "\r",
      " 74%|███████▍  | 149/200 [03:49<01:30,  1.77s/it]"
     ]
    },
    {
     "name": "stdout",
     "output_type": "stream",
     "text": [
      "\n",
      "🔹 Predicted: 蛇口に口をつけないように水を飲む君、\n",
      "🔸 Reference: 蛇口に口をつけないように水を飲む君、\n"
     ]
    },
    {
     "name": "stderr",
     "output_type": "stream",
     "text": [
      "\r",
      " 75%|███████▌  | 150/200 [03:57<03:03,  3.67s/it]"
     ]
    },
    {
     "name": "stdout",
     "output_type": "stream",
     "text": [
      "\n",
      "🔹 Predicted:  ಕರಿಕರಿಕರಿಕರಿಕರಿಕರಿಕರಿಕರಿಕರಿಕರಿಕರಿಕರಿಕರಿಕರಿಕರಿಕರಿಕರಿಕರಿಕರಿಕರಿಕರಿಕರಿಕರಿಕರಿಕರಿಕರಿಕರಿಕರಿಕರಿಕರಿಕರಿಕರಿಕರಿಕರಿಕರಿಕರಿಕರಿಕರಿಕರಿಕರಿಕರಿಕರಿಕರಿಕರಿಕರಿಕರಿಕರಿಕರಿಕರಿಕರಿಕರಿಕರಿಕರರಿಕರರಿಕರರಿಕರರಿಕರರಿಕರರಿಕರರರಿಕರರರಿರರರರಿರರರರರರರರರರರರರರರರರರರರರರರರರರರ\n",
      "🔸 Reference: 我々の自己に臨む世界に対することである、創造的となることである。\n"
     ]
    },
    {
     "name": "stderr",
     "output_type": "stream",
     "text": [
      "\r",
      " 76%|███████▌  | 151/200 [04:05<04:04,  5.00s/it]"
     ]
    },
    {
     "name": "stdout",
     "output_type": "stream",
     "text": [
      "\n",
      "🔹 Predicted:  ಕರಿದರವರಿದರವರಿದರವರಿದರವರಿದರವರರಿದರರವರರಿದರರರರರರರರರರರರರರರರರರರರರರರರರರರರರರರರರರರರರರರರರರರರರರರರರರರರರರರರರರರರರರರರರರರರರರರರರರರರರರರರರರರರರರರರರರರರರರರರರರರರರರರರರರರರರರರರರರರರರರರರರರರರರರರರರರರರರರರರರರರರರರರರರರರರರರರರರರರರರರರರರರರರರರರರರರರರರರರರರರರರರರರರರ\n",
      "🔸 Reference: 巧妙にイメージがすり替えられている\n"
     ]
    },
    {
     "name": "stderr",
     "output_type": "stream",
     "text": [
      "\r",
      " 76%|███████▌  | 152/200 [04:06<02:52,  3.59s/it]"
     ]
    },
    {
     "name": "stdout",
     "output_type": "stream",
     "text": [
      "\n",
      "🔹 Predicted: 高知県奈半利町\n",
      "🔸 Reference: 高知県奈半利町\n"
     ]
    },
    {
     "name": "stderr",
     "output_type": "stream",
     "text": [
      "\r",
      " 76%|███████▋  | 153/200 [04:06<02:01,  2.59s/it]"
     ]
    },
    {
     "name": "stdout",
     "output_type": "stream",
     "text": [
      "\n",
      "🔹 Predicted: 奈良県川西町\n",
      "🔸 Reference: 奈良県川西町\n"
     ]
    },
    {
     "name": "stderr",
     "output_type": "stream",
     "text": [
      "\r",
      " 77%|███████▋  | 154/200 [04:07<01:34,  2.06s/it]"
     ]
    },
    {
     "name": "stdout",
     "output_type": "stream",
     "text": [
      "\n",
      "🔹 Predicted: 無限なる過去と未来との矛盾的対立から、矛盾的自己同一的に物が出来るということでなければならない。\n",
      "🔸 Reference: 無限なる過去と未来との矛盾的対立から、矛盾的自己同一的に物が出来るということでなければならない。\n"
     ]
    },
    {
     "name": "stderr",
     "output_type": "stream",
     "text": [
      "\r",
      " 78%|███████▊  | 155/200 [04:07<01:11,  1.58s/it]"
     ]
    },
    {
     "name": "stdout",
     "output_type": "stream",
     "text": [
      "\n",
      "🔹 Predicted: しかし、そこには驚愕の真実があったのだ。\n",
      "🔸 Reference: しかし、そこには驚愕の真実があったのだ。\n"
     ]
    },
    {
     "name": "stderr",
     "output_type": "stream",
     "text": [
      "\r",
      " 78%|███████▊  | 156/200 [04:08<01:02,  1.41s/it]"
     ]
    },
    {
     "name": "stdout",
     "output_type": "stream",
     "text": [
      "\n",
      "🔹 Predicted: エディプス複合の如きものが、既に人間の家族というものが社会的であって動物のそれと異なることを示すものであろう。\n",
      "🔸 Reference: エディプス複合の如きものが、既に人間の家族というものが社会的であって動物のそれと異なることを示すものであろう。\n"
     ]
    },
    {
     "name": "stderr",
     "output_type": "stream",
     "text": [
      "\r",
      " 78%|███████▊  | 157/200 [04:09<00:50,  1.16s/it]"
     ]
    },
    {
     "name": "stdout",
     "output_type": "stream",
     "text": [
      "\n",
      "🔹 Predicted: その日もそうだった。賽銭のように無造作に五百円玉が置かれていた。\n",
      "🔸 Reference: その日もそうだった。賽銭のように無造作に五百円玉が置かれていた。\n"
     ]
    },
    {
     "name": "stderr",
     "output_type": "stream",
     "text": [
      "\r",
      " 79%|███████▉  | 158/200 [04:09<00:38,  1.09it/s]"
     ]
    },
    {
     "name": "stdout",
     "output_type": "stream",
     "text": [
      "\n",
      "🔹 Predicted: この映画、アクションだけはすごかった\n",
      "🔸 Reference: この映画、アクションだけはすごかった\n"
     ]
    },
    {
     "name": "stderr",
     "output_type": "stream",
     "text": [
      "\r",
      " 80%|███████▉  | 159/200 [04:09<00:29,  1.41it/s]"
     ]
    },
    {
     "name": "stdout",
     "output_type": "stream",
     "text": [
      "\n",
      "🔹 Predicted: 今日はもう寝よう。\n",
      "🔸 Reference: 今日はもう寝よう。\n"
     ]
    },
    {
     "name": "stderr",
     "output_type": "stream",
     "text": [
      "\r",
      " 80%|████████  | 160/200 [04:10<00:27,  1.46it/s]"
     ]
    },
    {
     "name": "stdout",
     "output_type": "stream",
     "text": [
      "\n",
      "🔹 Predicted: 女の子は、以前は、パンより御飯が好きで、喜んでお代わりをした。\n",
      "🔸 Reference: 女の子は、以前は、パンより御飯が好きで、喜んでお代わりをした。\n"
     ]
    },
    {
     "name": "stderr",
     "output_type": "stream",
     "text": [
      "\r",
      " 80%|████████  | 161/200 [04:11<00:25,  1.50it/s]"
     ]
    },
    {
     "name": "stdout",
     "output_type": "stream",
     "text": [
      "\n",
      "🔹 Predicted:  ಕಿಕರಿಕರಿಕರಿಕರಿ\n",
      "🔸 Reference: 上着を持って出かけます。\n"
     ]
    },
    {
     "name": "stderr",
     "output_type": "stream",
     "text": [
      "\r",
      " 81%|████████  | 162/200 [04:11<00:22,  1.70it/s]"
     ]
    },
    {
     "name": "stdout",
     "output_type": "stream",
     "text": [
      "\n",
      "🔹 Predicted: この文は短いので、読みやすいです。\n",
      "🔸 Reference: この文は短いので、読みやすいです。\n"
     ]
    },
    {
     "name": "stderr",
     "output_type": "stream",
     "text": [
      "\r",
      " 82%|████████▏ | 163/200 [04:11<00:18,  2.02it/s]"
     ]
    },
    {
     "name": "stdout",
     "output_type": "stream",
     "text": [
      "\n",
      "🔹 Predicted: 生きた潤滑油です。\n",
      "🔸 Reference: 生きた潤滑油です。\n"
     ]
    },
    {
     "name": "stderr",
     "output_type": "stream",
     "text": [
      "\r",
      " 82%|████████▏ | 164/200 [04:12<00:16,  2.17it/s]"
     ]
    },
    {
     "name": "stdout",
     "output_type": "stream",
     "text": [
      "\n",
      "🔹 Predicted: こんなとこに置いて、しおれちゃってるじゃん。\n",
      "🔸 Reference: こんなとこに置いて、しおれちゃってるじゃん。\n"
     ]
    },
    {
     "name": "stderr",
     "output_type": "stream",
     "text": [
      "\r",
      " 82%|████████▎ | 165/200 [04:12<00:16,  2.18it/s]"
     ]
    },
    {
     "name": "stdout",
     "output_type": "stream",
     "text": [
      "\n",
      "🔹 Predicted: ラジカセはラジオも音楽も聞くことができます。\n",
      "🔸 Reference: ラジカセはラジオも音楽も聞くことができます。\n"
     ]
    },
    {
     "name": "stderr",
     "output_type": "stream",
     "text": [
      "\r",
      " 83%|████████▎ | 166/200 [04:13<00:16,  2.03it/s]"
     ]
    },
    {
     "name": "stdout",
     "output_type": "stream",
     "text": [
      "\n",
      "🔹 Predicted: わたしが晩ごはんを食べているとき、友だちがうちへ来ました。\n",
      "🔸 Reference: わたしが晩ごはんを食べているとき、友だちがうちへ来ました。\n"
     ]
    },
    {
     "name": "stderr",
     "output_type": "stream",
     "text": [
      "\r",
      " 84%|████████▎ | 167/200 [04:13<00:15,  2.17it/s]"
     ]
    },
    {
     "name": "stdout",
     "output_type": "stream",
     "text": [
      "\n",
      "🔹 Predicted: ごはんを食べたら、歯を磨きます。\n",
      "🔸 Reference: ごはんを食べたら、歯を磨きます。\n"
     ]
    },
    {
     "name": "stderr",
     "output_type": "stream",
     "text": [
      "\r",
      " 84%|████████▍ | 168/200 [04:13<00:13,  2.35it/s]"
     ]
    },
    {
     "name": "stdout",
     "output_type": "stream",
     "text": [
      "\n",
      "🔹 Predicted: 朝ごはんはいつもパンを食べます。\n",
      "🔸 Reference: 朝ごはんはいつもパンを食べます。\n"
     ]
    },
    {
     "name": "stderr",
     "output_type": "stream",
     "text": [
      "\r",
      " 84%|████████▍ | 169/200 [04:14<00:19,  1.63it/s]"
     ]
    },
    {
     "name": "stdout",
     "output_type": "stream",
     "text": [
      "\n",
      "🔹 Predicted:  ಕಿಕರಿಕರಿಕರಿಕರಿಕರಿಕರಿಕರಿಕರಿ\n",
      "🔸 Reference: 友達が来るので、部屋を掃除します。\n"
     ]
    },
    {
     "name": "stderr",
     "output_type": "stream",
     "text": [
      "\r",
      " 85%|████████▌ | 170/200 [04:15<00:16,  1.81it/s]"
     ]
    },
    {
     "name": "stdout",
     "output_type": "stream",
     "text": [
      "\n",
      "🔹 Predicted: 駅から会社までタクシーに乗ります。\n",
      "🔸 Reference: 駅から会社までタクシーに乗ります。\n"
     ]
    },
    {
     "name": "stderr",
     "output_type": "stream",
     "text": [
      "\r",
      " 86%|████████▌ | 171/200 [04:15<00:14,  2.04it/s]"
     ]
    },
    {
     "name": "stdout",
     "output_type": "stream",
     "text": [
      "\n",
      "🔹 Predicted: きのう二杯お酒を飲みました。\n",
      "🔸 Reference: きのう二杯お酒を飲みました。\n"
     ]
    },
    {
     "name": "stderr",
     "output_type": "stream",
     "text": [
      "\r",
      " 86%|████████▌ | 172/200 [04:23<01:17,  2.76s/it]"
     ]
    },
    {
     "name": "stdout",
     "output_type": "stream",
     "text": [
      "\n",
      "🔹 Predicted:  ಕಿಕಿಕಿಕಿಕಿಕಿಕಿಕಿಕಿಕಿಕಿಕಿಕಿಕಿಕಿಕಿಕಿಕಿಕಿಕಿಕಿಕಿಕಿಕಿಕಿಕಿಕಿಕಿಕಿಕಿಕಿಕಿಕಿಕಿಕಿಕಿಕಿಕಿಕಿಕಿಕಿಕಿಕಿಕಿಕಿಕಿಕಿಕಿಕಿಕಿಕಿಕಿಕಿಕಿಕಿಕಿಕಿಕಕಿಕಿಕಕಿಕಕಿಕಕಿಕಕಿಕಕಿಕಕಿಕಕಕಿಕಕಕಕಕಕಕಕಕಕಕಕಕಕಕಕಕಕಕಕಕಕಕಕಕಕಕಕಕಕಕಕಕಕಕಕಕಕಕಕಕಕಕಕಕಕಕಕಕಕಕಕಕಕಕಕಕಕಕಕಕಕಕಕಕಕಕಕಕಕಕಕಕಕಕಕಕಕಕಕಕ\n",
      "🔸 Reference: 八月一日から夏休みです。\n"
     ]
    },
    {
     "name": "stderr",
     "output_type": "stream",
     "text": [
      "\r",
      " 86%|████████▋ | 173/200 [04:23<00:54,  2.01s/it]"
     ]
    },
    {
     "name": "stdout",
     "output_type": "stream",
     "text": [
      "\n",
      "🔹 Predicted: 手を上に上げます。\n",
      "🔸 Reference: 手を上に上げます。\n"
     ]
    },
    {
     "name": "stderr",
     "output_type": "stream",
     "text": [
      "\r",
      " 87%|████████▋ | 174/200 [04:24<00:39,  1.53s/it]"
     ]
    },
    {
     "name": "stdout",
     "output_type": "stream",
     "text": [
      "\n",
      "🔹 Predicted: 田中さんは林さんに仕事を頼まれました。\n",
      "🔸 Reference: 田中さんは林さんに仕事を頼まれました。\n"
     ]
    },
    {
     "name": "stderr",
     "output_type": "stream",
     "text": [
      "\r",
      " 88%|████████▊ | 175/200 [04:32<01:27,  3.49s/it]"
     ]
    },
    {
     "name": "stdout",
     "output_type": "stream",
     "text": [
      "\n",
      "🔹 Predicted:  ಇರಿದರಿದರಿದರಿದರಿದರಿದರಿದರಿದರಿದರಿದರಿದರಿದರಿದರಿದರಿದರಿದರಿದರಿದರಿದರಿದರಿದರಿದರಿದರಿದರಿದರಿದರಿದರಿದರಿದರಿದರಿದರಿದರಿದರಿದರಿದರಿದರಿದರಿದರಿದರಿದರಿದರಿದರಿದರಿದರಿದರಿದರಿದರಿದರಿದರಿದರಿದರಿದರಿದರಿದರಿದರಿದರಿದರಿದರಿದರಿದರಿದರಿದರಿದರಿದರರಿದರಿದರರಿದರರಿದರರಿದರರಿದರರರಿದರ\n",
      "🔸 Reference: 郵便局は駅のそばにあります。\n"
     ]
    },
    {
     "name": "stderr",
     "output_type": "stream",
     "text": [
      "\r",
      " 88%|████████▊ | 176/200 [04:32<01:01,  2.58s/it]"
     ]
    },
    {
     "name": "stdout",
     "output_type": "stream",
     "text": [
      "\n",
      "🔹 Predicted: こういう絵が、やすやすと描けるはずはない。\n",
      "🔸 Reference: こういう絵が、やすやすと描けるはずはない。\n"
     ]
    },
    {
     "name": "stderr",
     "output_type": "stream",
     "text": [
      "\r",
      " 88%|████████▊ | 177/200 [04:33<00:43,  1.89s/it]"
     ]
    },
    {
     "name": "stdout",
     "output_type": "stream",
     "text": [
      "\n",
      "🔹 Predicted: シャツを買いにいきます。\n",
      "🔸 Reference: シャツを買いにいきます。\n"
     ]
    },
    {
     "name": "stderr",
     "output_type": "stream",
     "text": [
      "\r",
      " 89%|████████▉ | 178/200 [04:33<00:32,  1.48s/it]"
     ]
    },
    {
     "name": "stdout",
     "output_type": "stream",
     "text": [
      "\n",
      "🔹 Predicted:  ಕೇಕೇಕೇಕೇಕೇಕೇ\n",
      "🔸 Reference: 偏見のない人なんていないよ。\n"
     ]
    },
    {
     "name": "stderr",
     "output_type": "stream",
     "text": [
      "\r",
      " 90%|████████▉ | 179/200 [04:34<00:24,  1.15s/it]"
     ]
    },
    {
     "name": "stdout",
     "output_type": "stream",
     "text": [
      "\n",
      "🔹 Predicted: 日本の食べ物はおいしいですが、高いです。\n",
      "🔸 Reference: 日本の食べ物はおいしいですが、高いです。\n"
     ]
    },
    {
     "name": "stderr",
     "output_type": "stream",
     "text": [
      "\r",
      " 90%|█████████ | 180/200 [04:34<00:18,  1.09it/s]"
     ]
    },
    {
     "name": "stdout",
     "output_type": "stream",
     "text": [
      "\n",
      "🔹 Predicted: 今月は忙しいので、暇な日がありません。\n",
      "🔸 Reference: 今月は忙しいので、暇な日がありません。\n"
     ]
    },
    {
     "name": "stderr",
     "output_type": "stream",
     "text": [
      "\r",
      " 90%|█████████ | 181/200 [04:42<00:57,  3.05s/it]"
     ]
    },
    {
     "name": "stdout",
     "output_type": "stream",
     "text": [
      "\n",
      "🔹 Predicted:  ಕರಿಕರಿಕರಿಕರಿಕರಿಕರಿಕರಿಕರಿಕರಿಕರಿಕರಿಕರಿಕರಿಕರಿಕರಿಕರಿಕರಿಕರಿಕರಿಕರಿಕರಿಕರಿಕರಿಕರಿಕರಿಕರಿಕರಿಕರಿಕರಿಕರಿಕರಿಕರಿಕರಿಕರಿಕರಿಕರಿಕರಿಕರಿಕರಿಕರಿಕರಿಕರಿಕರಿಕರಿಕರಿಕರಿಕರಿಕರಿಕರಿಕರಿಕರಿಕರಿಕರಿಕರಿಕರಿಕರಿಕರಿಕರಿಕರಿಕರಿಕರಿಕರಿಕರಿಕರಿಕರಿಕರಿಕರಿಕರಿಕರಿಕರಿಕರಿಕರಿಕರಕರಿಕ\n",
      "🔸 Reference: いすの下に猫がいます。\n"
     ]
    },
    {
     "name": "stderr",
     "output_type": "stream",
     "text": [
      "\r",
      " 91%|█████████ | 182/200 [04:43<00:42,  2.34s/it]"
     ]
    },
    {
     "name": "stdout",
     "output_type": "stream",
     "text": [
      "\n",
      "🔹 Predicted: どこかのベランダから吹き飛ばされたハンガーに掛かったままのＴシャツ\n",
      "🔸 Reference: どこかのベランダから吹き飛ばされたハンガーに掛かったままのＴシャツ\n"
     ]
    },
    {
     "name": "stderr",
     "output_type": "stream",
     "text": [
      "\r",
      " 92%|█████████▏| 183/200 [04:43<00:30,  1.77s/it]"
     ]
    },
    {
     "name": "stdout",
     "output_type": "stream",
     "text": [
      "\n",
      "🔹 Predicted: ブランコは長い時間、誰も座っていなかった\n",
      "🔸 Reference: ブランコは長い時間、誰も座っていなかった\n"
     ]
    },
    {
     "name": "stderr",
     "output_type": "stream",
     "text": [
      "\r",
      " 92%|█████████▏| 184/200 [04:43<00:21,  1.35s/it]"
     ]
    },
    {
     "name": "stdout",
     "output_type": "stream",
     "text": [
      "\n",
      "🔹 Predicted: 小さないけすに魚が飼ってあって、\n",
      "🔸 Reference: 小さないけすに魚が飼ってあって、\n"
     ]
    },
    {
     "name": "stderr",
     "output_type": "stream",
     "text": [
      "\r",
      " 92%|█████████▎| 185/200 [04:44<00:15,  1.03s/it]"
     ]
    },
    {
     "name": "stdout",
     "output_type": "stream",
     "text": [
      "\n",
      "🔹 Predicted: 福島県猪苗代町\n",
      "🔸 Reference: 福島県猪苗代町\n"
     ]
    },
    {
     "name": "stderr",
     "output_type": "stream",
     "text": [
      "\r",
      " 93%|█████████▎| 186/200 [04:44<00:11,  1.25it/s]"
     ]
    },
    {
     "name": "stdout",
     "output_type": "stream",
     "text": [
      "\n",
      "🔹 Predicted: 長野県阿智村\n",
      "🔸 Reference: 長野県阿智村\n"
     ]
    },
    {
     "name": "stderr",
     "output_type": "stream",
     "text": [
      "\r",
      " 94%|█████████▎| 187/200 [04:48<00:22,  1.71s/it]"
     ]
    },
    {
     "name": "stdout",
     "output_type": "stream",
     "text": [
      "\n",
      "🔹 Predicted:  ಎದರಿದ ಎದರಿದ ಎದರಿದ ಎದರಿದ ಎದರಿದ ಎದರಿದ ಎದರಿದ ಎದರಿದ ಎದರಿದ ಎದರಿದ ಎದರಿದ ಎದರಿದ ಎದರಿದ ಎದರಿದ ಎದರಿದ ಎದರಿದ ಎದರಿದ ಎದರಿದ ಎದರಿದ ಎದರಿದ ಎದರಿದ\n",
      "🔸 Reference: 堺市美原区\n"
     ]
    },
    {
     "name": "stderr",
     "output_type": "stream",
     "text": [
      "\r",
      " 94%|█████████▍| 188/200 [04:48<00:15,  1.27s/it]"
     ]
    },
    {
     "name": "stdout",
     "output_type": "stream",
     "text": [
      "\n",
      "🔹 Predicted: 福岡県大川市\n",
      "🔸 Reference: 福岡県大川市\n"
     ]
    },
    {
     "name": "stderr",
     "output_type": "stream",
     "text": [
      "\r",
      " 94%|█████████▍| 189/200 [04:49<00:11,  1.03s/it]"
     ]
    },
    {
     "name": "stdout",
     "output_type": "stream",
     "text": [
      "\n",
      "🔹 Predicted: 実務的で、実際的な、装飾を施していった\n",
      "🔸 Reference: 実務的で、実際的な、装飾を施していった\n"
     ]
    },
    {
     "name": "stderr",
     "output_type": "stream",
     "text": [
      "\r",
      " 95%|█████████▌| 190/200 [04:49<00:07,  1.26it/s]"
     ]
    },
    {
     "name": "stdout",
     "output_type": "stream",
     "text": [
      "\n",
      "🔹 Predicted: サカイ市東区\n",
      "🔸 Reference: 堺市東区\n"
     ]
    },
    {
     "name": "stderr",
     "output_type": "stream",
     "text": [
      "\r",
      " 96%|█████████▌| 191/200 [04:49<00:05,  1.56it/s]"
     ]
    },
    {
     "name": "stdout",
     "output_type": "stream",
     "text": [
      "\n",
      "🔹 Predicted: トヨマ県射水市\n",
      "🔸 Reference: 富山県射水市\n"
     ]
    },
    {
     "name": "stderr",
     "output_type": "stream",
     "text": [
      "\r",
      " 96%|█████████▌| 192/200 [04:57<00:22,  2.85s/it]"
     ]
    },
    {
     "name": "stdout",
     "output_type": "stream",
     "text": [
      "\n",
      "🔹 Predicted:  ಇರಿದಿದಿದಿದಿದಿದಿದಿದಿದಿದಿದಿದಿದಿದಿದಿದಿದಿದಿದಿದಿದಿದಿದಿದಿದಿದಿದಿದಿದಿದಿದಿದಿದಿದಿದಿದಿದಿದಿದಿದಿದಿದಿದಿದಿದಿದಿದಿದಿದಿದಿದಿದಿದಿದಿದಿದಿದಿದಿದಿದಿದಿದಿದಿದಿದಿದಿದಿದಿದಿದಿದಿದಿದಿದಿದಿದಿದದಿದಿದಿದದಿದಿದದಿದಿದದಿದದಿದದಿದದಿದದಿದದಿದದದಿದದದದದದದದದದದದದದದದದದದದದದದದದದದದ\n",
      "🔸 Reference: 高知県芸西村\n"
     ]
    },
    {
     "name": "stderr",
     "output_type": "stream",
     "text": [
      "\r",
      " 96%|█████████▋| 193/200 [04:57<00:14,  2.10s/it]"
     ]
    },
    {
     "name": "stdout",
     "output_type": "stream",
     "text": [
      "\n",
      "🔹 Predicted: 兵庫県新温泉町\n",
      "🔸 Reference: 兵庫県新温泉町\n"
     ]
    },
    {
     "name": "stderr",
     "output_type": "stream",
     "text": [
      "\r",
      " 97%|█████████▋| 194/200 [04:58<00:09,  1.55s/it]"
     ]
    },
    {
     "name": "stdout",
     "output_type": "stream",
     "text": [
      "\n",
      "🔹 Predicted: 名古屋市天白区\n",
      "🔸 Reference: 名古屋市天白区\n"
     ]
    },
    {
     "name": "stderr",
     "output_type": "stream",
     "text": [
      "\r",
      " 98%|█████████▊| 195/200 [04:58<00:06,  1.29s/it]"
     ]
    },
    {
     "name": "stdout",
     "output_type": "stream",
     "text": [
      "\n",
      "🔹 Predicted: おまけに鍵穴からはきょろきょろ二つの青い眼玉がこっちをのぞいています\n",
      "🔸 Reference: おまけに鍵穴からはきょろきょろ二つの青い眼玉がこっちをのぞいています\n"
     ]
    },
    {
     "name": "stderr",
     "output_type": "stream",
     "text": [
      "\r",
      " 98%|█████████▊| 196/200 [04:59<00:04,  1.03s/it]"
     ]
    },
    {
     "name": "stdout",
     "output_type": "stream",
     "text": [
      "\n",
      "🔹 Predicted: この時妙なものだと思った感じが今でも残っている\n",
      "🔸 Reference: この時妙なものだと思った感じが今でも残っている\n"
     ]
    },
    {
     "name": "stderr",
     "output_type": "stream",
     "text": [
      "\r",
      " 98%|█████████▊| 197/200 [05:07<00:09,  3.13s/it]"
     ]
    },
    {
     "name": "stdout",
     "output_type": "stream",
     "text": [
      "\n",
      "🔹 Predicted:  ಎದರಿತತತತತತತತತತತತತತತತತತತತತತತತತತತತತತತತತತತತತತತತತತತತತತತತತತತತತತತತತತತತತತತತತತತತತತತತತತತತತತತತತತತತತತತತತತತತತತತತತತತತತತತತತತತತತತತತತತತತತತತತತತತತತತತತತತತತತತತತತತತತತತತತತತತತತತತತತತತತತತತತತತತತತತತತತತತತತತತತತತತತತತತತತತತತತತತತತತತತತತತತತತತತತತತತತತತತತತತತತತ\n",
      "🔸 Reference: 三重県度会町\n"
     ]
    },
    {
     "name": "stderr",
     "output_type": "stream",
     "text": [
      "\r",
      " 99%|█████████▉| 198/200 [05:15<00:09,  4.59s/it]"
     ]
    },
    {
     "name": "stdout",
     "output_type": "stream",
     "text": [
      "\n",
      "🔹 Predicted:  ಇರಿತತತತತತತತತತತತತತತತತತತತತತತತತತತತತತತತತತತತತತತತತತತತತತತತತತತತತತತತತತತತತತತತತತತತತತತತತತತತತತತತತತತತತತತತತತತತತತತತತತತತತತತತತತತತತತತತತತತತತತತತತತತತತತತತತತತತತತತತತತತತತತತತತತತತತತತತತತತತತತತತತತತತತತತತತತತತತತತತತತತತತತತತತತತತತತತತತತತತತತತತತತತತತತತತತತತತತತತತತತತ\n",
      "🔸 Reference: 愛媛県鬼北町\n"
     ]
    },
    {
     "name": "stderr",
     "output_type": "stream",
     "text": [
      "\r",
      "100%|█████████▉| 199/200 [05:15<00:03,  3.29s/it]"
     ]
    },
    {
     "name": "stdout",
     "output_type": "stream",
     "text": [
      "\n",
      "🔹 Predicted: 京都府南山城村\n",
      "🔸 Reference: 京都府南山城村\n"
     ]
    },
    {
     "name": "stderr",
     "output_type": "stream",
     "text": [
      "100%|██████████| 200/200 [05:16<00:00,  1.58s/it]"
     ]
    },
    {
     "name": "stdout",
     "output_type": "stream",
     "text": [
      "\n",
      "🔹 Predicted: スパゲティを買いこんだはいいが食べ飽きてなかなか減らない\n",
      "🔸 Reference: スパゲティを買いこんだはいいが食べ飽きてなかなか減らない\n",
      "\n",
      "✅ JA WER: 0.8750\n",
      "\n",
      "🌍 Language: de\n"
     ]
    },
    {
     "name": "stderr",
     "output_type": "stream",
     "text": [
      "\n",
      "  0%|          | 1/200 [00:01<04:15,  1.28s/it]"
     ]
    },
    {
     "name": "stdout",
     "output_type": "stream",
     "text": [
      "\n",
      "🔹 Predicted: Damit war das erklärte Ziel des Teams verfehlt.\n",
      "🔸 Reference: Damit war das erklärte Ziel des Teams verfehlt.\n"
     ]
    },
    {
     "name": "stderr",
     "output_type": "stream",
     "text": [
      "\r",
      "  1%|          | 2/200 [00:01<02:20,  1.40it/s]"
     ]
    },
    {
     "name": "stdout",
     "output_type": "stream",
     "text": [
      "\n",
      "🔹 Predicted: Sie ist Teil der Kleinen Antillen.\n",
      "🔸 Reference: Sie ist Teil der Kleinen Antillen.\n"
     ]
    },
    {
     "name": "stderr",
     "output_type": "stream",
     "text": [
      "\r",
      "  2%|▏         | 3/200 [00:02<02:08,  1.53it/s]"
     ]
    },
    {
     "name": "stdout",
     "output_type": "stream",
     "text": [
      "\n",
      "🔹 Predicted: Erstmals nahmen zwei deutsche Mannschaften an Turn-Weltmeisterschaften im Gerätturnen teil.\n",
      "🔸 Reference: Erstmals nahmen zwei deutsche Mannschaften an Turn-Weltmeisterschaften im Gerätturnen teil.\n"
     ]
    },
    {
     "name": "stderr",
     "output_type": "stream",
     "text": [
      "\r",
      "  2%|▏         | 4/200 [00:02<01:56,  1.68it/s]"
     ]
    },
    {
     "name": "stdout",
     "output_type": "stream",
     "text": [
      "\n",
      "🔹 Predicted: Grundlegend entspricht die Struktur des Dorfes der eines Kibbuz.\n",
      "🔸 Reference: Grundlegend entspricht die Struktur des Dorfes der eines Kibbuz.\n"
     ]
    },
    {
     "name": "stderr",
     "output_type": "stream",
     "text": [
      "\r",
      "  2%|▎         | 5/200 [00:03<01:52,  1.74it/s]"
     ]
    },
    {
     "name": "stdout",
     "output_type": "stream",
     "text": [
      "\n",
      "🔹 Predicted: Die Patrologie gebraucht dabei die Methoden der Geschichtswissenschaft und der Literaturwissenschaft.\n",
      "🔸 Reference: Die Patrologie gebraucht dabei die Methoden der Geschichtswissenschaft und der Literaturwissenschaft.\n"
     ]
    },
    {
     "name": "stderr",
     "output_type": "stream",
     "text": [
      "\r",
      "  3%|▎         | 6/200 [00:03<01:43,  1.87it/s]"
     ]
    },
    {
     "name": "stdout",
     "output_type": "stream",
     "text": [
      "\n",
      "🔹 Predicted: Der Ansatz von Mittelstraß hat methodische und zugleich normative Ambitionen.\n",
      "🔸 Reference: Der Ansatz von Mittelstraß hat methodische und zugleich normative Ambitionen.\n"
     ]
    },
    {
     "name": "stderr",
     "output_type": "stream",
     "text": [
      "\r",
      "  4%|▎         | 7/200 [00:04<01:41,  1.89it/s]"
     ]
    },
    {
     "name": "stdout",
     "output_type": "stream",
     "text": [
      "\n",
      "🔹 Predicted: Beide sind bekannte Stars Hollywoods, allerdings nur als Paar beim Publikum beliebt.\n",
      "🔸 Reference: Beide sind bekannte Stars Hollywoods, allerdings nur als Paar beim Publikum beliebt.\n"
     ]
    },
    {
     "name": "stderr",
     "output_type": "stream",
     "text": [
      "\r",
      "  4%|▍         | 8/200 [00:04<01:34,  2.02it/s]"
     ]
    },
    {
     "name": "stdout",
     "output_type": "stream",
     "text": [
      "\n",
      "🔹 Predicted: Zwischen April und November verkehrt dieser Sonderzug jedes Wochenende.\n",
      "🔸 Reference: Zwischen April und November verkehrt dieser Sonderzug jedes Wochenende.\n"
     ]
    },
    {
     "name": "stderr",
     "output_type": "stream",
     "text": [
      "\r",
      "  4%|▍         | 9/200 [00:05<01:29,  2.13it/s]"
     ]
    },
    {
     "name": "stdout",
     "output_type": "stream",
     "text": [
      "\n",
      "🔹 Predicted: Sie dienen darüber hinaus als Informationsquelle der Kommunalaufsicht.\n",
      "🔸 Reference: Sie dienen darüber hinaus als Informationsquelle der Kommunalaufsicht.\n"
     ]
    },
    {
     "name": "stderr",
     "output_type": "stream",
     "text": [
      "\r",
      "  5%|▌         | 10/200 [00:05<01:21,  2.32it/s]"
     ]
    },
    {
     "name": "stdout",
     "output_type": "stream",
     "text": [
      "\n",
      "🔹 Predicted: Weiterhin zählt zur Anlage eine Kapelle.\n",
      "🔸 Reference: Weiterhin zählt zur Anlage eine Kapelle.\n"
     ]
    },
    {
     "name": "stderr",
     "output_type": "stream",
     "text": [
      "\r",
      "  6%|▌         | 11/200 [00:05<01:27,  2.17it/s]"
     ]
    },
    {
     "name": "stdout",
     "output_type": "stream",
     "text": [
      "\n",
      "🔹 Predicted: Um auf dem Fahrrad der schnellste Kurier des Unternehmens zu werden, trainierte er hart.\n",
      "🔸 Reference: Um auf dem Fahrrad der schnellste Kurier des Unternehmens zu werden, trainierte er hart.\n"
     ]
    },
    {
     "name": "stderr",
     "output_type": "stream",
     "text": [
      "\r",
      "  6%|▌         | 12/200 [00:06<01:25,  2.20it/s]"
     ]
    },
    {
     "name": "stdout",
     "output_type": "stream",
     "text": [
      "\n",
      "🔹 Predicted: Um eine Sprache eindeutig zu gestalten, kann sie normiert werden.\n",
      "🔸 Reference: Um eine Sprache eindeutig zu gestalten, kann sie normiert werden.\n"
     ]
    },
    {
     "name": "stderr",
     "output_type": "stream",
     "text": [
      "\r",
      "  6%|▋         | 13/200 [00:06<01:29,  2.10it/s]"
     ]
    },
    {
     "name": "stdout",
     "output_type": "stream",
     "text": [
      "\n",
      "🔹 Predicted: In der Umgebung befinden sich schwefelhaltige Quellen für Bäder und zum Trinken.\n",
      "🔸 Reference: In der Umgebung befinden sich schwefelhaltige Quellen für Bäder und zum Trinken.\n"
     ]
    },
    {
     "name": "stderr",
     "output_type": "stream",
     "text": [
      "\r",
      "  7%|▋         | 14/200 [00:07<01:20,  2.32it/s]"
     ]
    },
    {
     "name": "stdout",
     "output_type": "stream",
     "text": [
      "\n",
      "🔹 Predicted: Das Tag Team wurde in Folge dessen aufgelöst.\n",
      "🔸 Reference: Das Tag Team wurde in Folge dessen aufgelöst.\n"
     ]
    },
    {
     "name": "stderr",
     "output_type": "stream",
     "text": [
      "\r",
      "  8%|▊         | 15/200 [00:07<01:18,  2.36it/s]"
     ]
    },
    {
     "name": "stdout",
     "output_type": "stream",
     "text": [
      "\n",
      "🔹 Predicted: Ähnliche Tribunale gab es auch in den Provinzen.\n",
      "🔸 Reference: Ähnliche Tribunale gab es auch in den Provinzen.\n"
     ]
    },
    {
     "name": "stderr",
     "output_type": "stream",
     "text": [
      "\r",
      "  8%|▊         | 16/200 [00:08<01:29,  2.06it/s]"
     ]
    },
    {
     "name": "stdout",
     "output_type": "stream",
     "text": [
      "\n",
      "🔹 Predicted: Die Schauerleute waren in der Regel Tagelöhner, die kurzfristig angestellt wurden, wenn Arbeit anfiel.\n",
      "🔸 Reference: Die Schauerleute waren in der Regel Tagelöhner, die kurzfristig angestellt wurden, wenn Arbeit anfiel.\n"
     ]
    },
    {
     "name": "stderr",
     "output_type": "stream",
     "text": [
      "\r",
      "  8%|▊         | 17/200 [00:08<01:25,  2.14it/s]"
     ]
    },
    {
     "name": "stdout",
     "output_type": "stream",
     "text": [
      "\n",
      "🔹 Predicted: Eine Abgrenzung in solchen Fällen kann sich als besonders schwierig herausstellen.\n",
      "🔸 Reference: Eine Abgrenzung in solchen Fällen kann sich als besonders schwierig herausstellen.\n"
     ]
    },
    {
     "name": "stderr",
     "output_type": "stream",
     "text": [
      "\r",
      "  9%|▉         | 18/200 [00:09<01:31,  1.99it/s]"
     ]
    },
    {
     "name": "stdout",
     "output_type": "stream",
     "text": [
      "\n",
      "🔹 Predicted: Sie liegt vier Kilometer westlich von Domažlice und gehört dem Okres Domažlice an.\n",
      "🔸 Reference: Sie liegt vier Kilometer westlich von Domažlice und gehört dem Okres Domažlice an.\n"
     ]
    },
    {
     "name": "stderr",
     "output_type": "stream",
     "text": [
      "\r",
      " 10%|▉         | 19/200 [00:09<01:30,  1.99it/s]"
     ]
    },
    {
     "name": "stdout",
     "output_type": "stream",
     "text": [
      "\n",
      "🔹 Predicted: Sie ist das regionale Zentrum der Veluwe in der Provinz Gelderland.\n",
      "🔸 Reference: Sie ist das regionale Zentrum der Veluwe in der Provinz Gelderland.\n"
     ]
    },
    {
     "name": "stderr",
     "output_type": "stream",
     "text": [
      "\r",
      " 10%|█         | 20/200 [00:10<01:34,  1.91it/s]"
     ]
    },
    {
     "name": "stdout",
     "output_type": "stream",
     "text": [
      "\n",
      "🔹 Predicted: Diesa sandi inzu Bobby Robinson, dem inhaba desgleichen Labels \"Fury Records\".\n",
      "🔸 Reference: Dieser sandte ihn zu Bobby Robinson, dem Inhaber des kleinen Labels \"Fury Records\".\n"
     ]
    },
    {
     "name": "stderr",
     "output_type": "stream",
     "text": [
      "\r",
      " 10%|█         | 21/200 [00:11<01:44,  1.72it/s]"
     ]
    },
    {
     "name": "stdout",
     "output_type": "stream",
     "text": [
      "\n",
      "🔹 Predicted: Im Zweiten Weltkrieg wurde das Streckennetz, infolge intensiver Bombardements der Industriestadt, stark beschädigt.\n",
      "🔸 Reference: Im Zweiten Weltkrieg wurde das Streckennetz, infolge intensiver Bombardements der Industriestadt, stark beschädigt.\n"
     ]
    },
    {
     "name": "stderr",
     "output_type": "stream",
     "text": [
      "\r",
      " 11%|█         | 22/200 [00:11<01:44,  1.71it/s]"
     ]
    },
    {
     "name": "stdout",
     "output_type": "stream",
     "text": [
      "\n",
      "🔹 Predicted: Die anderen belgischen Provinzen sind durch allegorische Statuen am Fuße der Säulen vertreten.\n",
      "🔸 Reference: Die anderen belgischen Provinzen sind durch allegorische Statuen am Fuße der Säulen vertreten.\n"
     ]
    },
    {
     "name": "stderr",
     "output_type": "stream",
     "text": [
      "\r",
      " 12%|█▏        | 23/200 [00:12<01:40,  1.75it/s]"
     ]
    },
    {
     "name": "stdout",
     "output_type": "stream",
     "text": [
      "\n",
      "🔹 Predicted: Der italienische Maler Tommaso Minardi malte in dieser Manier ein Selbstporträt.\n",
      "🔸 Reference: Der italienische Maler Tommaso Minardi malte in dieser Manier ein Selbstporträt.\n"
     ]
    },
    {
     "name": "stderr",
     "output_type": "stream",
     "text": [
      "\r",
      " 12%|█▏        | 24/200 [00:12<01:30,  1.94it/s]"
     ]
    },
    {
     "name": "stdout",
     "output_type": "stream",
     "text": [
      "\n",
      "🔹 Predicted: Nikolai vor dem Stubentor“ genannt.\n",
      "🔸 Reference: Nikolai vor dem Stubentor“ genannt.\n"
     ]
    },
    {
     "name": "stderr",
     "output_type": "stream",
     "text": [
      "\r",
      " 12%|█▎        | 25/200 [00:13<01:35,  1.84it/s]"
     ]
    },
    {
     "name": "stdout",
     "output_type": "stream",
     "text": [
      "\n",
      "🔹 Predicted: Auf Wunsch seines Vaters beginnt Edward eine Laufbahn als Offizier beim britischen Militär.\n",
      "🔸 Reference: Auf Wunsch seines Vaters beginnt Edward eine Laufbahn als Offizier beim britischen Militär.\n"
     ]
    },
    {
     "name": "stderr",
     "output_type": "stream",
     "text": [
      "\r",
      " 13%|█▎        | 26/200 [00:13<01:35,  1.81it/s]"
     ]
    },
    {
     "name": "stdout",
     "output_type": "stream",
     "text": [
      "\n",
      "🔹 Predicted: Dadurch kann die Verbrennung beschleunigt oder die zur Zündung notwendige Energie herabgesetzt werden.\n",
      "🔸 Reference: Dadurch kann die Verbrennung beschleunigt oder die zur Zündung notwendige Energie herabgesetzt werden.\n"
     ]
    },
    {
     "name": "stderr",
     "output_type": "stream",
     "text": [
      "\r",
      " 14%|█▎        | 27/200 [00:14<01:27,  1.97it/s]"
     ]
    },
    {
     "name": "stdout",
     "output_type": "stream",
     "text": [
      "\n",
      "🔹 Predicted: Das Konzept für das Museum stammt von Margarethe Greiner.\n",
      "🔸 Reference: Das Konzept für das Museum stammt von Margarethe Greiner.\n"
     ]
    },
    {
     "name": "stderr",
     "output_type": "stream",
     "text": [
      "\r",
      " 14%|█▍        | 28/200 [00:14<01:26,  1.98it/s]"
     ]
    },
    {
     "name": "stdout",
     "output_type": "stream",
     "text": [
      "\n",
      "🔹 Predicted: Dies zai, wer auf europäischer Egen und die Gesetzgebung verzögert.\n",
      "🔸 Reference: Dies zeigt, wer auf europäischer Ebene die Gesetzgebung verzögert.\n"
     ]
    },
    {
     "name": "stderr",
     "output_type": "stream",
     "text": [
      "\r",
      " 14%|█▍        | 29/200 [00:15<01:37,  1.75it/s]"
     ]
    },
    {
     "name": "stdout",
     "output_type": "stream",
     "text": [
      "\n",
      "🔹 Predicted: Ich bezweifle, dass es irgendjemandem nützt, ein Ansatz auf Fall-zu-Fall-Basis zu verfolgen.\n",
      "🔸 Reference: Ich bezweifle, dass es irgendjemandem nützt, einen Ansatz auf Fall-zu-Fall-Basis zu verfolgen.\n"
     ]
    },
    {
     "name": "stderr",
     "output_type": "stream",
     "text": [
      "\r",
      " 15%|█▌        | 30/200 [00:15<01:30,  1.88it/s]"
     ]
    },
    {
     "name": "stdout",
     "output_type": "stream",
     "text": [
      "\n",
      "🔹 Predicted: Hier haben wir nur Bürokratie und verwirrende Gesetzgebung.\n",
      "🔸 Reference: Hier haben wir nur Bürokratie und verwirrende Gesetzgebung.\n"
     ]
    },
    {
     "name": "stderr",
     "output_type": "stream",
     "text": [
      "\r",
      " 16%|█▌        | 31/200 [00:16<01:28,  1.92it/s]"
     ]
    },
    {
     "name": "stdout",
     "output_type": "stream",
     "text": [
      "\n",
      "🔹 Predicted: Es freut mich, dass das Parlament den Vorschlag konzertlich befürwortet hat.\n",
      "🔸 Reference: Es freut mich, dass das Parlament den Vorschlag grundsätzlich befürwortet hat.\n"
     ]
    },
    {
     "name": "stderr",
     "output_type": "stream",
     "text": [
      "\r",
      " 16%|█▌        | 32/200 [00:16<01:24,  1.99it/s]"
     ]
    },
    {
     "name": "stdout",
     "output_type": "stream",
     "text": [
      "\n",
      "🔹 Predicted: Natürlich kann sie dazu beitragen, und man muss ihr die Mittel hierfür geben.\n",
      "🔸 Reference: Natürlich kann sie dazu beitragen, und man muss ihr die Mittel hierfür geben.\n"
     ]
    },
    {
     "name": "stderr",
     "output_type": "stream",
     "text": [
      "\r",
      " 16%|█▋        | 33/200 [00:17<01:14,  2.24it/s]"
     ]
    },
    {
     "name": "stdout",
     "output_type": "stream",
     "text": [
      "\n",
      "🔹 Predicted: Das ist ganz einfach unzutreffend!\n",
      "🔸 Reference: Das ist ganz einfach unzutreffend!\n"
     ]
    },
    {
     "name": "stderr",
     "output_type": "stream",
     "text": [
      "\r",
      " 17%|█▋        | 34/200 [00:17<01:10,  2.35it/s]"
     ]
    },
    {
     "name": "stdout",
     "output_type": "stream",
     "text": [
      "\n",
      "🔹 Predicted: Außerdem sprach man sich für eine schnelle Umsetzung aus.\n",
      "🔸 Reference: Außerdem sprach man sich für eine schnelle Umsetzung aus.\n"
     ]
    },
    {
     "name": "stderr",
     "output_type": "stream",
     "text": [
      "\r",
      " 18%|█▊        | 35/200 [00:17<01:08,  2.42it/s]"
     ]
    },
    {
     "name": "stdout",
     "output_type": "stream",
     "text": [
      "\n",
      "🔹 Predicted: Dies sind Themen, die wir natürlich den Russen gegenüber ansprechen.\n",
      "🔸 Reference: Dies sind Themen, die wir natürlich den Russen gegenüber ansprechen.\n"
     ]
    },
    {
     "name": "stderr",
     "output_type": "stream",
     "text": [
      "\r",
      " 18%|█▊        | 36/200 [00:18<01:16,  2.15it/s]"
     ]
    },
    {
     "name": "stdout",
     "output_type": "stream",
     "text": [
      "\n",
      "🔹 Predicted: Die Mitgliedstaaten verfügen im Bereich des militärischen Schiffbaus über anerkanntes Know-how.\n",
      "🔸 Reference: Die Mitgliedstaaten verfügen im Bereich des militärischen Schiffbaus über anerkanntes Know-how.\n"
     ]
    },
    {
     "name": "stderr",
     "output_type": "stream",
     "text": [
      "\r",
      " 18%|█▊        | 37/200 [00:19<01:23,  1.95it/s]"
     ]
    },
    {
     "name": "stdout",
     "output_type": "stream",
     "text": [
      "\n",
      "🔹 Predicted: Plochingenu līgte anna Württemberger Weinstrausu mit vielen seins berichta.\n",
      "🔸 Reference: Plochingen liegt an der Württemberger Weinstraße mit vielen Sehenswürdigkeiten.\n"
     ]
    },
    {
     "name": "stderr",
     "output_type": "stream",
     "text": [
      "\r",
      " 19%|█▉        | 38/200 [00:19<01:22,  1.97it/s]"
     ]
    },
    {
     "name": "stdout",
     "output_type": "stream",
     "text": [
      "\n",
      "🔹 Predicted: Die Ratte erzählte der Katze, dass dieses fest ein Tag später gefeiert würde.\n",
      "🔸 Reference: Die Ratte erzählte der Katze, dass dieses Fest einen Tag später gefeiert würde.\n"
     ]
    },
    {
     "name": "stderr",
     "output_type": "stream",
     "text": [
      "\r",
      " 20%|█▉        | 39/200 [00:19<01:17,  2.07it/s]"
     ]
    },
    {
     "name": "stdout",
     "output_type": "stream",
     "text": [
      "\n",
      "🔹 Predicted: Wie wir wissen, sinken diese Asylzahlen seit vielen Jahren stark.\n",
      "🔸 Reference: Wie wir wissen, sinken diese Asylzahlen seit vielen Jahren stark.\n"
     ]
    },
    {
     "name": "stderr",
     "output_type": "stream",
     "text": [
      "\r",
      " 20%|██        | 40/200 [00:20<01:14,  2.15it/s]"
     ]
    },
    {
     "name": "stdout",
     "output_type": "stream",
     "text": [
      "\n",
      "🔹 Predicted: Die Stiftung wird von einem dreiköpfigen Vorstand verwaltet.\n",
      "🔸 Reference: Die Stiftung wird von einem dreiköpfigen Vorstand verwaltet.\n"
     ]
    },
    {
     "name": "stderr",
     "output_type": "stream",
     "text": [
      "\r",
      " 20%|██        | 41/200 [00:28<07:15,  2.74s/it]"
     ]
    },
    {
     "name": "stdout",
     "output_type": "stream",
     "text": [
      "\n",
      "🔹 Predicted:  ಕಿಕಿಕಿಕಿಕಿಕಿಕಿಕಿಕಿಕಿಕಿಕಿಕಿಕಿಕಿಕಿಕಿಕಿಕಿಕಿಕಿಕಿಕಿಕಿಕಿಕಿಕಿಕಿಕಿಕಿಕಿಕಿಕಿಕಿಕಿಕಿಕಿಕಿಕಿಕಿಕಿಕಿಕಿಕಿಕಿಕಿಕಿಕಿಕಿಕಿಕಿಕಿಕಿಕಿಕಿಕಿಕಿಕಿಕಿಕಿಕಿಕಿಕಿಕಕಿಕಕಿಕಕಿಕಕಿಕಕಿಕಕಿಕಕಿಕಕಕಿಕಕಕಕಕಕಕಕಕಕಕಕಕಕಕಕಕಕಕಕಕಕಕಕಕಕಕಕಕಕಕಕಕಕಕಕಕಕಕಕಕಕಕಕಕಕಕಕಕಕಕಕಕಕಕಕಕಕಕಕಕಕಕಕಕಕಕಕಕಕಕ\n",
      "🔸 Reference: Ich hoffe, alle auf der Besuchergalerie sind beeindruckt!\n"
     ]
    },
    {
     "name": "stderr",
     "output_type": "stream",
     "text": [
      "\r",
      " 21%|██        | 42/200 [00:28<05:21,  2.03s/it]"
     ]
    },
    {
     "name": "stdout",
     "output_type": "stream",
     "text": [
      "\n",
      "🔹 Predicted: Pauer erhielt als Kind eine klassische Klavierausbildung.\n",
      "🔸 Reference: Pauer erhielt als Kind eine klassische Klavierausbildung.\n"
     ]
    },
    {
     "name": "stderr",
     "output_type": "stream",
     "text": [
      "\r",
      " 22%|██▏       | 43/200 [00:29<04:09,  1.59s/it]"
     ]
    },
    {
     "name": "stdout",
     "output_type": "stream",
     "text": [
      "\n",
      "🔹 Predicted: Öhringen gehörte seitdem zum Jagstkreis, dessen Sitz in Ellwangen war.\n",
      "🔸 Reference: Öhringen gehörte seitdem zum Jagstkreis, dessen Sitz in Ellwangen war.\n"
     ]
    },
    {
     "name": "stderr",
     "output_type": "stream",
     "text": [
      "\r",
      " 22%|██▏       | 44/200 [00:29<03:18,  1.27s/it]"
     ]
    },
    {
     "name": "stdout",
     "output_type": "stream",
     "text": [
      "\n",
      "🔹 Predicted: Henry Middleton erhielt Privatunterricht und besuchte auch in England die Schule.\n",
      "🔸 Reference: Henry Middleton erhielt Privatunterricht und besuchte auch in England die Schule.\n"
     ]
    },
    {
     "name": "stderr",
     "output_type": "stream",
     "text": [
      "\r",
      " 22%|██▎       | 45/200 [00:30<02:38,  1.02s/it]"
     ]
    },
    {
     "name": "stdout",
     "output_type": "stream",
     "text": [
      "\n",
      "🔹 Predicted: Das Gudensberger Stadtwappen zeigt das stilisierte Tor der Burg.\n",
      "🔸 Reference: Das Gudensberger Stadtwappen zeigt das stilisierte Tor der Burg.\n"
     ]
    },
    {
     "name": "stderr",
     "output_type": "stream",
     "text": [
      "\r",
      " 23%|██▎       | 46/200 [00:30<02:13,  1.16it/s]"
     ]
    },
    {
     "name": "stdout",
     "output_type": "stream",
     "text": [
      "\n",
      "🔹 Predicted: Seitdem wird es als Hotel und Eventlocation \"Alte Vogtei\" betrieben.\n",
      "🔸 Reference: Seitdem wird es als Hotel und Eventlocation \"Alte Vogtei\" betrieben.\n"
     ]
    },
    {
     "name": "stderr",
     "output_type": "stream",
     "text": [
      "\r",
      " 24%|██▎       | 47/200 [00:31<01:52,  1.37it/s]"
     ]
    },
    {
     "name": "stdout",
     "output_type": "stream",
     "text": [
      "\n",
      "🔹 Predicted: Das wichtigste Verwaltungszentrum verbleibt in New York City.\n",
      "🔸 Reference: Das wichtigste Verwaltungszentrum verbleibt in New York City.\n"
     ]
    },
    {
     "name": "stderr",
     "output_type": "stream",
     "text": [
      "\r",
      " 24%|██▍       | 48/200 [00:31<01:46,  1.43it/s]"
     ]
    },
    {
     "name": "stdout",
     "output_type": "stream",
     "text": [
      "\n",
      "🔹 Predicted: Die Öffentlichkeitsarbeit, unterstützt von Smiths Fotos, erlaubte es, die Firma vor Gericht zu bringen.\n",
      "🔸 Reference: Die Öffentlichkeitsarbeit, unterstützt von Smiths Fotos, erlaubte es, die Firma vor Gericht zu bringen.\n"
     ]
    },
    {
     "name": "stderr",
     "output_type": "stream",
     "text": [
      "\r",
      " 24%|██▍       | 49/200 [00:32<01:29,  1.69it/s]"
     ]
    },
    {
     "name": "stdout",
     "output_type": "stream",
     "text": [
      "\n",
      "🔹 Predicted: Die Untersuchung verlief daraufhin im Sande.\n",
      "🔸 Reference: Die Untersuchung verlief daraufhin im Sande.\n"
     ]
    },
    {
     "name": "stderr",
     "output_type": "stream",
     "text": [
      "\r",
      " 25%|██▌       | 50/200 [00:32<01:20,  1.85it/s]"
     ]
    },
    {
     "name": "stdout",
     "output_type": "stream",
     "text": [
      "\n",
      "🔹 Predicted: In diesen leisen Schluss hinein fährt sofort die fünfte Variation.\n",
      "🔸 Reference: In diesen leisen Schluss hinein fährt sofort die fünfte Variation.\n"
     ]
    },
    {
     "name": "stderr",
     "output_type": "stream",
     "text": [
      "\r",
      " 26%|██▌       | 51/200 [00:33<01:14,  1.99it/s]"
     ]
    },
    {
     "name": "stdout",
     "output_type": "stream",
     "text": [
      "\n",
      "🔹 Predicted: In der folgenden Zeit entstand ein zweiter Wohnturm.\n",
      "🔸 Reference: In der folgenden Zeit entstand ein zweiter Wohnturm.\n"
     ]
    },
    {
     "name": "stderr",
     "output_type": "stream",
     "text": [
      "\r",
      " 26%|██▌       | 52/200 [00:33<01:15,  1.95it/s]"
     ]
    },
    {
     "name": "stdout",
     "output_type": "stream",
     "text": [
      "\n",
      "🔹 Predicted: Die Kreuze können aus Sandstein, Granit, Kalkstein oder anderen Steinarten hergestellt sein.\n",
      "🔸 Reference: Die Kreuze können aus Sandstein, Granit, Kalkstein oder anderen Steinarten hergestellt sein.\n"
     ]
    },
    {
     "name": "stderr",
     "output_type": "stream",
     "text": [
      "\r",
      " 26%|██▋       | 53/200 [00:34<01:11,  2.06it/s]"
     ]
    },
    {
     "name": "stdout",
     "output_type": "stream",
     "text": [
      "\n",
      "🔹 Predicted: Wie sein Nachname schon vermuten lässt, hat er auch deutsche vorfahren.\n",
      "🔸 Reference: Wie sein Nachname schon vermuten lässt, hat er auch deutsche Vorfahren.\n"
     ]
    },
    {
     "name": "stderr",
     "output_type": "stream",
     "text": [
      "\r",
      " 27%|██▋       | 54/200 [00:34<01:08,  2.14it/s]"
     ]
    },
    {
     "name": "stdout",
     "output_type": "stream",
     "text": [
      "\n",
      "🔹 Predicted: Es wurde daher ein Neubau weiter landeinwärts beschlossen.\n",
      "🔸 Reference: Es wurde daher ein Neubau weiter landeinwärts beschlossen.\n"
     ]
    },
    {
     "name": "stderr",
     "output_type": "stream",
     "text": [
      "\r",
      " 28%|██▊       | 55/200 [00:35<01:14,  1.94it/s]"
     ]
    },
    {
     "name": "stdout",
     "output_type": "stream",
     "text": [
      "\n",
      "🔹 Predicted: Nach Beendigung des Dreißigjährigen Krieges sind im Hufenregister nur noch fünf Wirtschaften aufgeführt.\n",
      "🔸 Reference: Nach Beendigung des Dreißigjährigen Krieges sind im Hufenregister nur noch fünf Wirtschaften aufgeführt.\n"
     ]
    },
    {
     "name": "stderr",
     "output_type": "stream",
     "text": [
      "\r",
      " 28%|██▊       | 56/200 [00:35<01:19,  1.81it/s]"
     ]
    },
    {
     "name": "stdout",
     "output_type": "stream",
     "text": [
      "\n",
      "🔹 Predicted: Das Verwaltungs- und Geschäftszentrum befindet sich an der \"Avenida del Libertador General San Martín\".\n",
      "🔸 Reference: Das Verwaltungs- und Geschäftszentrum befindet sich an der \"Avenida del Libertador General San Martín\".\n"
     ]
    },
    {
     "name": "stderr",
     "output_type": "stream",
     "text": [
      "\r",
      " 28%|██▊       | 57/200 [00:36<01:08,  2.08it/s]"
     ]
    },
    {
     "name": "stdout",
     "output_type": "stream",
     "text": [
      "\n",
      "🔹 Predicted: Er war heimatberechtigt in Genf.\n",
      "🔸 Reference: Er war heimatberechtigt in Genf.\n"
     ]
    },
    {
     "name": "stderr",
     "output_type": "stream",
     "text": [
      "\r",
      " 29%|██▉       | 58/200 [00:36<01:01,  2.32it/s]"
     ]
    },
    {
     "name": "stdout",
     "output_type": "stream",
     "text": [
      "\n",
      "🔹 Predicted: Platz zusammen mit Australien und den Philippinen.\n",
      "🔸 Reference: Platz zusammen mit Australien und den Philippinen.\n"
     ]
    },
    {
     "name": "stderr",
     "output_type": "stream",
     "text": [
      "\r",
      " 30%|██▉       | 59/200 [00:36<00:57,  2.46it/s]"
     ]
    },
    {
     "name": "stdout",
     "output_type": "stream",
     "text": [
      "\n",
      "🔹 Predicted: Unterricht findet zwischen Montag und Freitag statt.\n",
      "🔸 Reference: Unterricht findet zwischen Montag und Freitag statt.\n"
     ]
    },
    {
     "name": "stderr",
     "output_type": "stream",
     "text": [
      "\r",
      " 30%|███       | 60/200 [00:37<00:56,  2.49it/s]"
     ]
    },
    {
     "name": "stdout",
     "output_type": "stream",
     "text": [
      "\n",
      "🔹 Predicted: Auch ein Kindergeld stand nur Familien mit zwei oder mehr Kindern zu.\n",
      "🔸 Reference: Auch ein Kindergeld stand nur Familien mit zwei oder mehr Kindern zu.\n"
     ]
    },
    {
     "name": "stderr",
     "output_type": "stream",
     "text": [
      "\r",
      " 30%|███       | 61/200 [00:37<00:56,  2.44it/s]"
     ]
    },
    {
     "name": "stdout",
     "output_type": "stream",
     "text": [
      "\n",
      "🔹 Predicted: Mann sang als nun Tenor und begann damit seine große Karriere.\n",
      "🔸 Reference: Mann sang als nun Tenor und begann damit seine große Karriere.\n"
     ]
    },
    {
     "name": "stderr",
     "output_type": "stream",
     "text": [
      "\r",
      " 31%|███       | 62/200 [00:37<00:56,  2.45it/s]"
     ]
    },
    {
     "name": "stdout",
     "output_type": "stream",
     "text": [
      "\n",
      "🔹 Predicted: Die Herrschaft vermachte er seinem älteren Sohn Numitor.\n",
      "🔸 Reference: Die Herrschaft vermachte er seinem älteren Sohn Numitor.\n"
     ]
    },
    {
     "name": "stderr",
     "output_type": "stream",
     "text": [
      "\r",
      " 32%|███▏      | 63/200 [00:38<00:56,  2.43it/s]"
     ]
    },
    {
     "name": "stdout",
     "output_type": "stream",
     "text": [
      "\n",
      "🔹 Predicted: Es ist eines der wenigen dort bezeugten ägyptischen Ämter.\n",
      "🔸 Reference: Es ist eines der wenigen dort bezeugten ägyptischen Ämter.\n"
     ]
    },
    {
     "name": "stderr",
     "output_type": "stream",
     "text": [
      "\r",
      " 32%|███▏      | 64/200 [00:38<00:57,  2.37it/s]"
     ]
    },
    {
     "name": "stdout",
     "output_type": "stream",
     "text": [
      "\n",
      "🔹 Predicted: Die Ersteller übernehmen für die Richtigkeit der Angaben keine Haftung.\n",
      "🔸 Reference: Die Ersteller übernehmen für die Richtigkeit der Angaben keine Haftung.\n"
     ]
    },
    {
     "name": "stderr",
     "output_type": "stream",
     "text": [
      "\r",
      " 32%|███▎      | 65/200 [00:39<01:07,  2.01it/s]"
     ]
    },
    {
     "name": "stdout",
     "output_type": "stream",
     "text": [
      "\n",
      "🔹 Predicted: Dazu zählen ebenfalls registrierte Banken in Genf, Luxemburg, Nassau, Hongkong und Singapur.\n",
      "🔸 Reference: Dazu zählen ebenfalls registrierte Banken in Genf, Luxemburg, Nassau, Hongkong und Singapur.\n"
     ]
    },
    {
     "name": "stderr",
     "output_type": "stream",
     "text": [
      "\r",
      " 33%|███▎      | 66/200 [00:39<01:04,  2.09it/s]"
     ]
    },
    {
     "name": "stdout",
     "output_type": "stream",
     "text": [
      "\n",
      "🔹 Predicted: In der Mathematik wurde er dabei von Edmund Landau geprüft.\n",
      "🔸 Reference: In der Mathematik wurde er dabei von Edmund Landau geprüft.\n"
     ]
    },
    {
     "name": "stderr",
     "output_type": "stream",
     "text": [
      "\r",
      " 34%|███▎      | 67/200 [00:40<01:04,  2.05it/s]"
     ]
    },
    {
     "name": "stdout",
     "output_type": "stream",
     "text": [
      "\n",
      "🔹 Predicted: Zwei aufständische Länder hatten die Gegenwehr aber noch nicht aufgegeben: Askalon und Juda.\n",
      "🔸 Reference: Zwei aufständische Länder hatten die Gegenwehr aber noch nicht aufgegeben: Askalon und Juda.\n"
     ]
    },
    {
     "name": "stderr",
     "output_type": "stream",
     "text": [
      "\r",
      " 34%|███▍      | 68/200 [00:40<01:01,  2.13it/s]"
     ]
    },
    {
     "name": "stdout",
     "output_type": "stream",
     "text": [
      "\n",
      "🔹 Predicted: Deshalb habe ich für den Bericht Mavrommattis gestimmt.\n",
      "🔸 Reference: Deshalb habe ich für den Bericht Mavrommattis gestimmt.\n"
     ]
    },
    {
     "name": "stderr",
     "output_type": "stream",
     "text": [
      "\r",
      " 34%|███▍      | 69/200 [00:41<01:05,  2.01it/s]"
     ]
    },
    {
     "name": "stdout",
     "output_type": "stream",
     "text": [
      "\n",
      "🔹 Predicted: Zweifellos wird dieser Handelsverkehr für das europäische Großkapital Gewinn bringend sein.\n",
      "🔸 Reference: Zweifellos wird dieser Handelsverkehr für das europäische Großkapital Gewinn bringend sein.\n"
     ]
    },
    {
     "name": "stderr",
     "output_type": "stream",
     "text": [
      "\r",
      " 35%|███▌      | 70/200 [00:41<01:05,  1.98it/s]"
     ]
    },
    {
     "name": "stdout",
     "output_type": "stream",
     "text": [
      "\n",
      "🔹 Predicted: Der Ortskern beschreibt ein Viereck, dessen Mitte unbebaut blieb.\n",
      "🔸 Reference: Der Ortskern beschreibt ein Viereck, dessen Mitte unbebaut blieb.\n"
     ]
    },
    {
     "name": "stderr",
     "output_type": "stream",
     "text": [
      "\r",
      " 36%|███▌      | 71/200 [00:42<00:55,  2.31it/s]"
     ]
    },
    {
     "name": "stdout",
     "output_type": "stream",
     "text": [
      "\n",
      "🔹 Predicted: Stop! Hier geht es nicht weiter.\n",
      "🔸 Reference: Stop! Hier geht es nicht weiter.\n"
     ]
    },
    {
     "name": "stderr",
     "output_type": "stream",
     "text": [
      "\r",
      " 36%|███▌      | 72/200 [00:42<00:52,  2.42it/s]"
     ]
    },
    {
     "name": "stdout",
     "output_type": "stream",
     "text": [
      "\n",
      "🔹 Predicted: Erich hat ein auffällig spitzes Kinn.\n",
      "🔸 Reference: Erich hat ein auffällig spitzes Kinn.\n"
     ]
    },
    {
     "name": "stderr",
     "output_type": "stream",
     "text": [
      "\r",
      " 36%|███▋      | 73/200 [00:42<00:53,  2.37it/s]"
     ]
    },
    {
     "name": "stdout",
     "output_type": "stream",
     "text": [
      "\n",
      "🔹 Predicted: Das Drama würde gar nicht sein, wenn sich alle an die Richtlinien halten würden.\n",
      "🔸 Reference: Das Drama würde gar nicht sein, wenn sich alle an die Richtlinien halten würden.\n"
     ]
    },
    {
     "name": "stderr",
     "output_type": "stream",
     "text": [
      "\r",
      " 37%|███▋      | 74/200 [00:43<00:53,  2.37it/s]"
     ]
    },
    {
     "name": "stdout",
     "output_type": "stream",
     "text": [
      "\n",
      "🔹 Predicted: Seit Beginn der Veranstaltung sind die beiden nur am Gackern.\n",
      "🔸 Reference: Seit Beginn der Veranstaltung sind die beiden nur am Gackern.\n"
     ]
    },
    {
     "name": "stderr",
     "output_type": "stream",
     "text": [
      "\r",
      " 38%|███▊      | 75/200 [00:43<00:56,  2.21it/s]"
     ]
    },
    {
     "name": "stdout",
     "output_type": "stream",
     "text": [
      "\n",
      "🔹 Predicted: Welche Seite nach innen und welche nach außen kommt, ist schnurzpiepegal.\n",
      "🔸 Reference: Welche Seite nach innen und welche nach außen kommt, ist schnurzpiepegal.\n"
     ]
    },
    {
     "name": "stderr",
     "output_type": "stream",
     "text": [
      "\r",
      " 38%|███▊      | 76/200 [00:44<00:53,  2.34it/s]"
     ]
    },
    {
     "name": "stdout",
     "output_type": "stream",
     "text": [
      "\n",
      "🔹 Predicted: Der Hund hat es sich auf der Couch bequem gemacht.\n",
      "🔸 Reference: Der Hund hat es sich auf der Couch bequem gemacht.\n"
     ]
    },
    {
     "name": "stderr",
     "output_type": "stream",
     "text": [
      "\r",
      " 38%|███▊      | 77/200 [00:44<00:49,  2.48it/s]"
     ]
    },
    {
     "name": "stdout",
     "output_type": "stream",
     "text": [
      "\n",
      "🔹 Predicted: Mit Kerzenlicht ist es aber viel romantischer.\n",
      "🔸 Reference: Mit Kerzenlicht ist es aber viel romantischer.\n"
     ]
    },
    {
     "name": "stderr",
     "output_type": "stream",
     "text": [
      "\r",
      " 39%|███▉      | 78/200 [00:44<00:45,  2.65it/s]"
     ]
    },
    {
     "name": "stdout",
     "output_type": "stream",
     "text": [
      "\n",
      "🔹 Predicted: Jetzt wird das Wasser doch langsam zu kalt.\n",
      "🔸 Reference: Jetzt wird das Wasser doch langsam zu kalt.\n"
     ]
    },
    {
     "name": "stderr",
     "output_type": "stream",
     "text": [
      "\r",
      " 40%|███▉      | 79/200 [00:45<00:49,  2.47it/s]"
     ]
    },
    {
     "name": "stdout",
     "output_type": "stream",
     "text": [
      "\n",
      "🔹 Predicted: Glaubst du noch an den Osterhasen oder gar an den Weihnachtsmann?\n",
      "🔸 Reference: Glaubst du noch an den Osterhasen oder gar an den Weihnachtsmann?\n"
     ]
    },
    {
     "name": "stderr",
     "output_type": "stream",
     "text": [
      "\r",
      " 40%|████      | 80/200 [00:45<00:45,  2.61it/s]"
     ]
    },
    {
     "name": "stdout",
     "output_type": "stream",
     "text": [
      "\n",
      "🔹 Predicted: Die Wartehalle misst fünf mal fünf Meter.\n",
      "🔸 Reference: Die Wartehalle misst fünf mal fünf Meter.\n"
     ]
    },
    {
     "name": "stderr",
     "output_type": "stream",
     "text": [
      "\r",
      " 40%|████      | 81/200 [00:46<00:47,  2.50it/s]"
     ]
    },
    {
     "name": "stdout",
     "output_type": "stream",
     "text": [
      "\n",
      "🔹 Predicted: Der Nazi-Widerstandskämpfer Hans Quecke war ihr Bruder.\n",
      "🔸 Reference: Der Nazi-Widerstandskämpfer Hans Quecke war ihr Bruder.\n"
     ]
    },
    {
     "name": "stderr",
     "output_type": "stream",
     "text": [
      "\r",
      " 41%|████      | 82/200 [00:46<00:48,  2.43it/s]"
     ]
    },
    {
     "name": "stdout",
     "output_type": "stream",
     "text": [
      "\n",
      "🔹 Predicted: Auch unbewegliche Bakterien sind in der Familie vertreten.\n",
      "🔸 Reference: Auch unbewegliche Bakterien sind in der Familie vertreten.\n"
     ]
    },
    {
     "name": "stderr",
     "output_type": "stream",
     "text": [
      "\r",
      " 42%|████▏     | 83/200 [00:47<00:50,  2.31it/s]"
     ]
    },
    {
     "name": "stdout",
     "output_type": "stream",
     "text": [
      "\n",
      "🔹 Predicted: Des Weiteren gibt es südwestlich der Stadt den Flughafen Los Mochis.\n",
      "🔸 Reference: Des Weiteren gibt es südwestlich der Stadt den Flughafen Los Mochis.\n"
     ]
    },
    {
     "name": "stderr",
     "output_type": "stream",
     "text": [
      "\r",
      " 42%|████▏     | 84/200 [00:47<00:51,  2.24it/s]"
     ]
    },
    {
     "name": "stdout",
     "output_type": "stream",
     "text": [
      "\n",
      "🔹 Predicted: Diese luden Smith zu einer Vortragsreise durch Deutschland und die Schweiz ein.\n",
      "🔸 Reference: Diese luden Smith zu einer Vortragsreise durch Deutschland und die Schweiz ein.\n"
     ]
    },
    {
     "name": "stderr",
     "output_type": "stream",
     "text": [
      "\r",
      " 42%|████▎     | 85/200 [00:47<00:48,  2.36it/s]"
     ]
    },
    {
     "name": "stdout",
     "output_type": "stream",
     "text": [
      "\n",
      "🔹 Predicted: Es gibt drei spezielle Punkte, auf die ich eingehen möchte.\n",
      "🔸 Reference: Es gibt drei spezielle Punkte, auf die ich eingehen möchte.\n"
     ]
    },
    {
     "name": "stderr",
     "output_type": "stream",
     "text": [
      "\r",
      " 43%|████▎     | 86/200 [00:48<00:53,  2.15it/s]"
     ]
    },
    {
     "name": "stdout",
     "output_type": "stream",
     "text": [
      "\n",
      "🔹 Predicted: Zudem verkehren auch zahlreiche Regionalzüge auf kürzeren Distanzen.\n",
      "🔸 Reference: Zudem verkehren auch zahlreiche Regionalzüge auf kürzeren Distanzen.\n"
     ]
    },
    {
     "name": "stderr",
     "output_type": "stream",
     "text": [
      "\r",
      " 44%|████▎     | 87/200 [00:48<00:48,  2.34it/s]"
     ]
    },
    {
     "name": "stdout",
     "output_type": "stream",
     "text": [
      "\n",
      "🔹 Predicted: Der Stause dient heute der Energiegewinnung.\n",
      "🔸 Reference: Der Stausee dient heute der Energiegewinnung.\n"
     ]
    },
    {
     "name": "stderr",
     "output_type": "stream",
     "text": [
      "\r",
      " 44%|████▍     | 88/200 [00:49<00:49,  2.26it/s]"
     ]
    },
    {
     "name": "stdout",
     "output_type": "stream",
     "text": [
      "\n",
      "🔹 Predicted: Wir haben gegen die Entschließung zur Politik der Union im Reissektor gestimmt.\n",
      "🔸 Reference: Wir haben gegen die Entschließung zur Politik der Union im Reissektor gestimmt.\n"
     ]
    },
    {
     "name": "stderr",
     "output_type": "stream",
     "text": [
      "\r",
      " 44%|████▍     | 89/200 [00:49<00:47,  2.36it/s]"
     ]
    },
    {
     "name": "stdout",
     "output_type": "stream",
     "text": [
      "\n",
      "🔹 Predicted: Wer gegen wen warum kämpft, wird ihm nicht klar.\n",
      "🔸 Reference: Wer gegen wen warum kämpft, wird ihm nicht klar.\n"
     ]
    },
    {
     "name": "stderr",
     "output_type": "stream",
     "text": [
      "\r",
      " 45%|████▌     | 90/200 [00:50<00:51,  2.13it/s]"
     ]
    },
    {
     "name": "stdout",
     "output_type": "stream",
     "text": [
      "\n",
      "🔹 Predicted: Dennoch wandte sich Karpeles schon früh der Sozialdemokratie und der Arbeiterbewegung zu.\n",
      "🔸 Reference: Dennoch wandte sich Karpeles schon früh der Sozialdemokratie und der Arbeiterbewegung zu.\n"
     ]
    },
    {
     "name": "stderr",
     "output_type": "stream",
     "text": [
      "\r",
      " 46%|████▌     | 91/200 [00:50<00:52,  2.07it/s]"
     ]
    },
    {
     "name": "stdout",
     "output_type": "stream",
     "text": [
      "\n",
      "🔹 Predicted: Das unzureichende Beherrschen des Lesens hat auch andere Schwächen zur Folge.\n",
      "🔸 Reference: Das unzureichende Beherrschen des Lesens hat auch andere Schwächen zur Folge.\n"
     ]
    },
    {
     "name": "stderr",
     "output_type": "stream",
     "text": [
      "\r",
      " 46%|████▌     | 92/200 [00:51<00:50,  2.12it/s]"
     ]
    },
    {
     "name": "stdout",
     "output_type": "stream",
     "text": [
      "\n",
      "🔹 Predicted: Meines Erachtens müssen wir europäische Versicherungssysteme einrichten.\n",
      "🔸 Reference: Meines Erachtens müssen wir europäische Versicherungssysteme einrichten.\n"
     ]
    },
    {
     "name": "stderr",
     "output_type": "stream",
     "text": [
      "\r",
      " 46%|████▋     | 93/200 [00:51<00:53,  2.00it/s]"
     ]
    },
    {
     "name": "stdout",
     "output_type": "stream",
     "text": [
      "\n",
      "🔹 Predicted: Am vergangenen Donnerstag, in der Konferenz der Präsidenten, wäre ja Gelegenheit dazu gewesen.\n",
      "🔸 Reference: Am vergangenen Donnerstag, in der Konferenz der Präsidenten, wäre ja Gelegenheit dazu gewesen.\n"
     ]
    },
    {
     "name": "stderr",
     "output_type": "stream",
     "text": [
      "\r",
      " 47%|████▋     | 94/200 [00:52<00:54,  1.94it/s]"
     ]
    },
    {
     "name": "stdout",
     "output_type": "stream",
     "text": [
      "\n",
      "🔹 Predicted: In der fünften Legislaturperiode zog sie über die Landesliste in den Landtag ein.\n",
      "🔸 Reference: In der fünften Legislaturperiode zog sie über die Landesliste in den Landtag ein.\n"
     ]
    },
    {
     "name": "stderr",
     "output_type": "stream",
     "text": [
      "\r",
      " 48%|████▊     | 95/200 [00:53<01:01,  1.69it/s]"
     ]
    },
    {
     "name": "stdout",
     "output_type": "stream",
     "text": [
      "\n",
      "🔹 Predicted:  Едварт Fatu war ein Angehäger der seit Jahrzehntenen im Wrestling vertretenen Anoa’i-Familie.\n",
      "🔸 Reference: Edward Fatu war ein Angehöriger der seit Jahrzehnten im Wrestling vertretenen Anoa’i-Familie.\n"
     ]
    },
    {
     "name": "stderr",
     "output_type": "stream",
     "text": [
      "\r",
      " 48%|████▊     | 96/200 [00:53<01:00,  1.73it/s]"
     ]
    },
    {
     "name": "stdout",
     "output_type": "stream",
     "text": [
      "\n",
      "🔹 Predicted: Generation mit guter und breiter in-vitro-Aktivität gegen Schimmelpilze.\n",
      "🔸 Reference: Generation mit guter und breiter in-vitro-Aktivität gegen Schimmelpilze.\n"
     ]
    },
    {
     "name": "stderr",
     "output_type": "stream",
     "text": [
      "\r",
      " 48%|████▊     | 97/200 [00:54<00:55,  1.85it/s]"
     ]
    },
    {
     "name": "stdout",
     "output_type": "stream",
     "text": [
      "\n",
      "🔹 Predicted: Dies ist meiner Meinung nach von großer Bedeutung und sollte unterstrichen werden.\n",
      "🔸 Reference: Dies ist meiner Meinung nach von großer Bedeutung und sollte unterstrichen werden.\n"
     ]
    },
    {
     "name": "stderr",
     "output_type": "stream",
     "text": [
      "\r",
      " 49%|████▉     | 98/200 [00:54<00:49,  2.08it/s]"
     ]
    },
    {
     "name": "stdout",
     "output_type": "stream",
     "text": [
      "\n",
      "🔹 Predicted: Ich muss auf das verweisen, was ich gerade gesagt habe.\n",
      "🔸 Reference: Ich muss auf das verweisen, was ich gerade gesagt habe.\n"
     ]
    },
    {
     "name": "stderr",
     "output_type": "stream",
     "text": [
      "\r",
      " 50%|████▉     | 99/200 [00:54<00:42,  2.39it/s]"
     ]
    },
    {
     "name": "stdout",
     "output_type": "stream",
     "text": [
      "\n",
      "🔹 Predicted: Schließlich noch zur Rolle von Europol.\n",
      "🔸 Reference: Schließlich noch zur Rolle von Europol.\n"
     ]
    },
    {
     "name": "stderr",
     "output_type": "stream",
     "text": [
      "\r",
      " 50%|█████     | 100/200 [00:55<00:39,  2.51it/s]"
     ]
    },
    {
     "name": "stdout",
     "output_type": "stream",
     "text": [
      "\n",
      "🔹 Predicted: Dies hat Auswirkungen auf den Wasserhaushalt.\n",
      "🔸 Reference: Dies hat Auswirkungen auf den Wasserhaushalt.\n"
     ]
    },
    {
     "name": "stderr",
     "output_type": "stream",
     "text": [
      "\r",
      " 50%|█████     | 101/200 [00:55<00:44,  2.23it/s]"
     ]
    },
    {
     "name": "stdout",
     "output_type": "stream",
     "text": [
      "\n",
      "🔹 Predicted: Über einen längeren Zeitraum gezahlte Beihilfen verfälschen den Wettbewerb.\n",
      "🔸 Reference: Über einen längeren Zeitraum gezahlte Beihilfen verfälschen den Wettbewerb.\n"
     ]
    },
    {
     "name": "stderr",
     "output_type": "stream",
     "text": [
      "\r",
      " 51%|█████     | 102/200 [00:56<00:44,  2.19it/s]"
     ]
    },
    {
     "name": "stdout",
     "output_type": "stream",
     "text": [
      "\n",
      "🔹 Predicted: Dagegen müssen wir kämpfen und Maßnahmen ergreifen, und dieser Aufgabe stellen wir uns.\n",
      "🔸 Reference: Dagegen müssen wir kämpfen und Maßnahmen ergreifen, und dieser Aufgabe stellen wir uns.\n"
     ]
    },
    {
     "name": "stderr",
     "output_type": "stream",
     "text": [
      "\r",
      " 52%|█████▏    | 103/200 [00:56<00:48,  1.99it/s]"
     ]
    },
    {
     "name": "stdout",
     "output_type": "stream",
     "text": [
      "\n",
      "🔹 Predicted: Dasselbe würde im Fall allgemeiner Vorschriften über eine Arbeitszeitverkürzung zutreffen.\n",
      "🔸 Reference: Dasselbe würde im Fall allgemeiner Vorschriften über eine Arbeitszeitverkürzung zutreffen.\n"
     ]
    },
    {
     "name": "stderr",
     "output_type": "stream",
     "text": [
      "\r",
      " 52%|█████▏    | 104/200 [00:57<00:41,  2.30it/s]"
     ]
    },
    {
     "name": "stdout",
     "output_type": "stream",
     "text": [
      "\n",
      "🔹 Predicted: Das ist eine Schande, Herr Präsident!\n",
      "🔸 Reference: Das ist eine Schande, Herr Präsident!\n"
     ]
    },
    {
     "name": "stderr",
     "output_type": "stream",
     "text": [
      "\r",
      " 52%|█████▎    | 105/200 [00:57<00:37,  2.52it/s]"
     ]
    },
    {
     "name": "stdout",
     "output_type": "stream",
     "text": [
      "\n",
      "🔹 Predicted: Diese Frage kann ich ganz kurz beantworten.\n",
      "🔸 Reference: Diese Frage kann ich ganz kurz beantworten.\n"
     ]
    },
    {
     "name": "stderr",
     "output_type": "stream",
     "text": [
      "\r",
      " 53%|█████▎    | 106/200 [00:57<00:36,  2.58it/s]"
     ]
    },
    {
     "name": "stdout",
     "output_type": "stream",
     "text": [
      "\n",
      "🔹 Predicted: Eine Verbesserung der Sicherheit an Bord er notwendig.\n",
      "🔸 Reference: Eine Verbesserung der Sicherheit an Bord ist notwendig.\n"
     ]
    },
    {
     "name": "stderr",
     "output_type": "stream",
     "text": [
      "\r",
      " 54%|█████▎    | 107/200 [00:58<00:36,  2.54it/s]"
     ]
    },
    {
     "name": "stdout",
     "output_type": "stream",
     "text": [
      "\n",
      "🔹 Predicted: Bei der Hitze ziehe ich ganz bestimmt kein Unterhemd an.\n",
      "🔸 Reference: Bei der Hitze ziehe ich ganz bestimmt kein Unterhemd an.\n"
     ]
    },
    {
     "name": "stderr",
     "output_type": "stream",
     "text": [
      "\r",
      " 54%|█████▍    | 108/200 [00:58<00:36,  2.49it/s]"
     ]
    },
    {
     "name": "stdout",
     "output_type": "stream",
     "text": [
      "\n",
      "🔹 Predicted: Warum merkt sich der Datei-Explorer nie die Sortierung?\n",
      "🔸 Reference: Warum merkt sich der Datei-Explorer nie die Sortierung?\n"
     ]
    },
    {
     "name": "stderr",
     "output_type": "stream",
     "text": [
      "\r",
      " 55%|█████▍    | 109/200 [00:58<00:36,  2.50it/s]"
     ]
    },
    {
     "name": "stdout",
     "output_type": "stream",
     "text": [
      "\n",
      "🔹 Predicted: Akustisch habe ich alles verstanden, aber inhaltlich nicht.\n",
      "🔸 Reference: Akustisch habe ich alles verstanden, aber inhaltlich nicht.\n"
     ]
    },
    {
     "name": "stderr",
     "output_type": "stream",
     "text": [
      "\r",
      " 55%|█████▌    | 110/200 [00:59<00:38,  2.34it/s]"
     ]
    },
    {
     "name": "stdout",
     "output_type": "stream",
     "text": [
      "\n",
      "🔹 Predicted: Währendes tauchgangs diffundirte immer mehr Stickstoff ins gewebe.\n",
      "🔸 Reference: Während des Tauchgangs diffundiert immer mehr Stickstoff ins Gewebe.\n"
     ]
    },
    {
     "name": "stderr",
     "output_type": "stream",
     "text": [
      "\r",
      " 56%|█████▌    | 111/200 [00:59<00:39,  2.24it/s]"
     ]
    },
    {
     "name": "stdout",
     "output_type": "stream",
     "text": [
      "\n",
      "🔹 Predicted: Standardsprachlich verzichtet meistens nur die Imperativform auf das E am Ende.\n",
      "🔸 Reference: Standardsprachlich verzichtet meistens nur die Imperativform auf das E am Ende.\n"
     ]
    },
    {
     "name": "stderr",
     "output_type": "stream",
     "text": [
      " 56%|█████▋    | 113/200 [01:00<00:29,  2.97it/s]"
     ]
    },
    {
     "name": "stdout",
     "output_type": "stream",
     "text": [
      "\n",
      "🔹 Predicted: Überstunden müssen bezahlt werden.\n",
      "🔸 Reference: Überstunden müssen bezahlt werden.\n",
      "\n",
      "🔹 Predicted: Alles nach vorne!\n",
      "🔸 Reference: Alles nach vorne!\n"
     ]
    },
    {
     "name": "stderr",
     "output_type": "stream",
     "text": [
      "\r",
      " 57%|█████▋    | 114/200 [01:00<00:31,  2.74it/s]"
     ]
    },
    {
     "name": "stdout",
     "output_type": "stream",
     "text": [
      "\n",
      "🔹 Predicted: Einige Bemerkungen gingen echt unter die Gürtellinie.\n",
      "🔸 Reference: Einige Bemerkungen gingen echt unter die Gürtellinie.\n"
     ]
    },
    {
     "name": "stderr",
     "output_type": "stream",
     "text": [
      "\r",
      " 57%|█████▊    | 115/200 [01:01<00:32,  2.61it/s]"
     ]
    },
    {
     "name": "stdout",
     "output_type": "stream",
     "text": [
      "\n",
      "🔹 Predicted: Experten gehen von einer weitaus höheren Dunkelziffer aus.\n",
      "🔸 Reference: Experten gehen von einer weitaus höheren Dunkelziffer aus.\n"
     ]
    },
    {
     "name": "stderr",
     "output_type": "stream",
     "text": [
      "\r",
      " 58%|█████▊    | 116/200 [01:01<00:34,  2.46it/s]"
     ]
    },
    {
     "name": "stdout",
     "output_type": "stream",
     "text": [
      "\n",
      "🔹 Predicted: Das Gesicht ist unbehaart, die großen Ohren ragen aus dem Fell heraus.\n",
      "🔸 Reference: Das Gesicht ist unbehaart, die großen Ohren ragen aus dem Fell heraus.\n"
     ]
    },
    {
     "name": "stderr",
     "output_type": "stream",
     "text": [
      "\r",
      " 58%|█████▊    | 117/200 [01:02<00:32,  2.53it/s]"
     ]
    },
    {
     "name": "stdout",
     "output_type": "stream",
     "text": [
      "\n",
      "🔹 Predicted: Nackenband, Kehle und Brust sind weiß.\n",
      "🔸 Reference: Nackenband, Kehle und Brust sind weiß.\n"
     ]
    },
    {
     "name": "stderr",
     "output_type": "stream",
     "text": [
      "\r",
      " 59%|█████▉    | 118/200 [01:02<00:34,  2.39it/s]"
     ]
    },
    {
     "name": "stdout",
     "output_type": "stream",
     "text": [
      "\n",
      "🔹 Predicted: Ein genaues Datum für die Entstehung der Kirche ist nicht bekannt.\n",
      "🔸 Reference: Ein genaues Datum für die Entstehung der Kirche ist nicht bekannt.\n"
     ]
    },
    {
     "name": "stderr",
     "output_type": "stream",
     "text": [
      "\r",
      " 60%|█████▉    | 119/200 [01:02<00:32,  2.50it/s]"
     ]
    },
    {
     "name": "stdout",
     "output_type": "stream",
     "text": [
      "\n",
      "🔹 Predicted: In diesem Jahr war er auch Mitglied im Democratic National Committee.\n",
      "🔸 Reference: In diesem Jahr war er auch Mitglied im Democratic National Committee.\n"
     ]
    },
    {
     "name": "stderr",
     "output_type": "stream",
     "text": [
      "\r",
      " 60%|██████    | 120/200 [01:03<00:36,  2.20it/s]"
     ]
    },
    {
     "name": "stdout",
     "output_type": "stream",
     "text": [
      "\n",
      "🔹 Predicted: Insgesamt vermittelt die Ausbildung den täglichen Dienst, Sportlichkeit und den geschulten Umgang mit Menschen.\n",
      "🔸 Reference: Insgesamt vermittelt die Ausbildung den täglichen Dienst, Sportlichkeit und den geschulten Umgang mit Menschen.\n"
     ]
    },
    {
     "name": "stderr",
     "output_type": "stream",
     "text": [
      "\r",
      " 60%|██████    | 121/200 [01:03<00:31,  2.50it/s]"
     ]
    },
    {
     "name": "stdout",
     "output_type": "stream",
     "text": [
      "\n",
      "🔹 Predicted: Dazu erwaten sie Farmland.\n",
      "🔸 Reference: Dazu erwarben sie Farmland.\n"
     ]
    },
    {
     "name": "stderr",
     "output_type": "stream",
     "text": [
      "\r",
      " 61%|██████    | 122/200 [01:04<00:37,  2.09it/s]"
     ]
    },
    {
     "name": "stdout",
     "output_type": "stream",
     "text": [
      "\n",
      "🔹 Predicted: Die Protagonisten vermeiden in der Regel den Kontakt mit den offenkundig nachlässigen Strafverfolgungsbehörden.\n",
      "🔸 Reference: Die Protagonisten vermeiden in der Regel den Kontakt mit den offenkundig nachlässigen Strafverfolgungsbehörden.\n"
     ]
    },
    {
     "name": "stderr",
     "output_type": "stream",
     "text": [
      "\r",
      " 62%|██████▏   | 123/200 [01:04<00:33,  2.27it/s]"
     ]
    },
    {
     "name": "stdout",
     "output_type": "stream",
     "text": [
      "\n",
      "🔹 Predicted: Dies geschieht unter anderem durch die Fermentierung.\n",
      "🔸 Reference: Dies geschieht unter anderem durch die Fermentierung.\n"
     ]
    },
    {
     "name": "stderr",
     "output_type": "stream",
     "text": [
      "\r",
      " 62%|██████▏   | 124/200 [01:05<00:31,  2.43it/s]"
     ]
    },
    {
     "name": "stdout",
     "output_type": "stream",
     "text": [
      "\n",
      "🔹 Predicted: Begraben ist er auf dem Melatenfriedhof.\n",
      "🔸 Reference: Begraben ist er auf dem Melatenfriedhof.\n"
     ]
    },
    {
     "name": "stderr",
     "output_type": "stream",
     "text": [
      "\r",
      " 62%|██████▎   | 125/200 [01:05<00:32,  2.28it/s]"
     ]
    },
    {
     "name": "stdout",
     "output_type": "stream",
     "text": [
      "\n",
      "🔹 Predicted: Das ebenfalls zum Bezirk Orb gehörende Dorf Aura verblieb in Bayern.\n",
      "🔸 Reference: Das ebenfalls zum Bezirk Orb gehörende Dorf Aura verblieb in Bayern.\n"
     ]
    },
    {
     "name": "stderr",
     "output_type": "stream",
     "text": [
      "\r",
      " 63%|██████▎   | 126/200 [01:05<00:29,  2.47it/s]"
     ]
    },
    {
     "name": "stdout",
     "output_type": "stream",
     "text": [
      "\n",
      "🔹 Predicted: Dort traf er auch mit General Eisenhower zusammen.\n",
      "🔸 Reference: Dort traf er auch mit General Eisenhower zusammen.\n"
     ]
    },
    {
     "name": "stderr",
     "output_type": "stream",
     "text": [
      "\r",
      " 64%|██████▎   | 127/200 [01:06<00:31,  2.35it/s]"
     ]
    },
    {
     "name": "stdout",
     "output_type": "stream",
     "text": [
      "\n",
      "🔹 Predicted: Die repressive Behandlung sollte eine Buße sein und der Abschreckung dienen.\n",
      "🔸 Reference: Die repressive Behandlung sollte eine Buße sein und der Abschreckung dienen.\n"
     ]
    },
    {
     "name": "stderr",
     "output_type": "stream",
     "text": [
      "\r",
      " 64%|██████▍   | 128/200 [01:07<00:34,  2.06it/s]"
     ]
    },
    {
     "name": "stdout",
     "output_type": "stream",
     "text": [
      "\n",
      "🔹 Predicted: Allein in der Abfolge der Geschehnisse zeigt Satyajit Ray die Absurdität dieser Vorstellung auf.\n",
      "🔸 Reference: Allein in der Abfolge der Geschehnisse zeigt Satyajit Ray die Absurdität dieser Vorstellung auf.\n"
     ]
    },
    {
     "name": "stderr",
     "output_type": "stream",
     "text": [
      "\r",
      " 64%|██████▍   | 129/200 [01:07<00:34,  2.07it/s]"
     ]
    },
    {
     "name": "stdout",
     "output_type": "stream",
     "text": [
      "\n",
      "🔹 Predicted: Danach betrieb er weiterhin den Handel und führte die notwendigen Transporte durch.\n",
      "🔸 Reference: Danach betrieb er weiterhin den Handel und führte die notwendigen Transporte durch.\n"
     ]
    },
    {
     "name": "stderr",
     "output_type": "stream",
     "text": [
      "\r",
      " 65%|██████▌   | 130/200 [01:08<00:33,  2.06it/s]"
     ]
    },
    {
     "name": "stdout",
     "output_type": "stream",
     "text": [
      "\n",
      "🔹 Predicted: Kurze Zeit später gewann er seinen zweiten Titel bei den Finnischen Meisterschaften.\n",
      "🔸 Reference: Kurze Zeit später gewann er seinen zweiten Titel bei den Finnischen Meisterschaften.\n"
     ]
    },
    {
     "name": "stderr",
     "output_type": "stream",
     "text": [
      "\r",
      " 66%|██████▌   | 131/200 [01:08<00:38,  1.81it/s]"
     ]
    },
    {
     "name": "stdout",
     "output_type": "stream",
     "text": [
      "\n",
      "🔹 Predicted: Ihre Tochter Carol Higgins Clark, und Schwiegertochter Mary Jane Clark, sind ebens als Schriftstellerinnen.\n",
      "🔸 Reference: Ihre Tochter Carol Higgins Clark und Schwiegertochter Mary Jane Clark sind ebenfalls Schriftstellerinnen.\n"
     ]
    },
    {
     "name": "stderr",
     "output_type": "stream",
     "text": [
      "\r",
      " 66%|██████▌   | 132/200 [01:09<00:34,  1.97it/s]"
     ]
    },
    {
     "name": "stdout",
     "output_type": "stream",
     "text": [
      "\n",
      "🔹 Predicted: Außerdem entstanden auch lebensechte Modelle von Wirbellosen.\n",
      "🔸 Reference: Außerdem entstanden auch lebensechte Modelle von Wirbellosen.\n"
     ]
    },
    {
     "name": "stderr",
     "output_type": "stream",
     "text": [
      "\r",
      " 66%|██████▋   | 133/200 [01:09<00:32,  2.08it/s]"
     ]
    },
    {
     "name": "stdout",
     "output_type": "stream",
     "text": [
      "\n",
      "🔹 Predicted: Dieser Druckanstieg führt auch zu hoher mechanischer Belastung.\n",
      "🔸 Reference: Dieser Druckanstieg führt auch zu hoher mechanischer Belastung.\n"
     ]
    },
    {
     "name": "stderr",
     "output_type": "stream",
     "text": [
      "\r",
      " 67%|██████▋   | 134/200 [01:09<00:28,  2.29it/s]"
     ]
    },
    {
     "name": "stdout",
     "output_type": "stream",
     "text": [
      "\n",
      "🔹 Predicted: Katharina gibt jetzt nachhilfestunden für Schüler.\n",
      "🔸 Reference: Katharina gibt jetzt Nachhilfestunden für Schüler.\n"
     ]
    },
    {
     "name": "stderr",
     "output_type": "stream",
     "text": [
      "\r",
      " 68%|██████▊   | 135/200 [01:10<00:28,  2.24it/s]"
     ]
    },
    {
     "name": "stdout",
     "output_type": "stream",
     "text": [
      "\n",
      "🔹 Predicted: Die Verbesserungsvorschläge sind für uns nur begrenzt brauchbar.\n",
      "🔸 Reference: Die Verbesserungsvorschläge sind für uns nur begrenzt brauchbar.\n"
     ]
    },
    {
     "name": "stderr",
     "output_type": "stream",
     "text": [
      "\r",
      " 68%|██████▊   | 136/200 [01:10<00:26,  2.40it/s]"
     ]
    },
    {
     "name": "stdout",
     "output_type": "stream",
     "text": [
      "\n",
      "🔹 Predicted: Der Auftrag soll binnen zwölf Monaten erfüllt werden.\n",
      "🔸 Reference: Der Auftrag soll binnen zwölf Monaten erfüllt werden.\n"
     ]
    },
    {
     "name": "stderr",
     "output_type": "stream",
     "text": [
      "\r",
      " 68%|██████▊   | 137/200 [01:11<00:26,  2.38it/s]"
     ]
    },
    {
     "name": "stdout",
     "output_type": "stream",
     "text": [
      "\n",
      "🔹 Predicted: Diese Aktion verursachte eine erhebliche öffentliche Wirkung.\n",
      "🔸 Reference: Diese Aktion verursachte eine erhebliche öffentliche Wirkung.\n"
     ]
    },
    {
     "name": "stderr",
     "output_type": "stream",
     "text": [
      "\r",
      " 69%|██████▉   | 138/200 [01:11<00:27,  2.24it/s]"
     ]
    },
    {
     "name": "stdout",
     "output_type": "stream",
     "text": [
      "\n",
      "🔹 Predicted: Griffith wurde wütend und konnte nur mühsam von Freunden zurückgehalten werden.\n",
      "🔸 Reference: Griffith wurde wütend und konnte nur mühsam von Freunden zurückgehalten werden.\n"
     ]
    },
    {
     "name": "stderr",
     "output_type": "stream",
     "text": [
      "\r",
      " 70%|██████▉   | 139/200 [01:12<00:28,  2.15it/s]"
     ]
    },
    {
     "name": "stdout",
     "output_type": "stream",
     "text": [
      "\n",
      "🔹 Predicted: Teilweise werden Stoffe entworfen oder Entwürfe der Hersteller optimiert.\n",
      "🔸 Reference: Teilweise werden Stoffe entworfen oder Entwürfe der Hersteller optimiert.\n"
     ]
    },
    {
     "name": "stderr",
     "output_type": "stream",
     "text": [
      "\r",
      " 70%|███████   | 140/200 [01:12<00:29,  2.03it/s]"
     ]
    },
    {
     "name": "stdout",
     "output_type": "stream",
     "text": [
      "\n",
      "🔹 Predicted: Seine Ausbildung erhielt er in seiner Heimatstadt und in Ravenna bei Constanzo Porta.\n",
      "🔸 Reference: Seine Ausbildung erhielt er in seiner Heimatstadt und in Ravenna bei Constanzo Porta.\n"
     ]
    },
    {
     "name": "stderr",
     "output_type": "stream",
     "text": [
      "\r",
      " 70%|███████   | 141/200 [01:13<00:29,  1.99it/s]"
     ]
    },
    {
     "name": "stdout",
     "output_type": "stream",
     "text": [
      "\n",
      "🔹 Predicted: Manche Kirchen tragen Patrozinien, die an einen der Marientitel angelehnt sind.\n",
      "🔸 Reference: Manche Kirchen tragen Patrozinien, die an einen der Marientitel angelehnt sind.\n"
     ]
    },
    {
     "name": "stderr",
     "output_type": "stream",
     "text": [
      "\r",
      " 71%|███████   | 142/200 [01:13<00:31,  1.85it/s]"
     ]
    },
    {
     "name": "stdout",
     "output_type": "stream",
     "text": [
      "\n",
      "🔹 Predicted: Dirigieren studierte er in Zürich bei Hermann Scherchen und in Basel bei Felix Weingartner.\n",
      "🔸 Reference: Dirigieren studierte er in Zürich bei Hermann Scherchen und in Basel bei Felix Weingartner.\n"
     ]
    },
    {
     "name": "stderr",
     "output_type": "stream",
     "text": [
      "\r",
      " 72%|███████▏  | 143/200 [01:14<00:31,  1.80it/s]"
     ]
    },
    {
     "name": "stdout",
     "output_type": "stream",
     "text": [
      "\n",
      "🔹 Predicted: Danach strebte Lübeck unter seiner Führung die Wiederaufnahme seiner Handelsaktivitäten an.\n",
      "🔸 Reference: Danach strebte Lübeck unter seiner Führung die Wiederaufnahme seiner Handelsaktivitäten an.\n"
     ]
    },
    {
     "name": "stderr",
     "output_type": "stream",
     "text": [
      "\r",
      " 72%|███████▏  | 144/200 [01:15<00:33,  1.69it/s]"
     ]
    },
    {
     "name": "stdout",
     "output_type": "stream",
     "text": [
      "\n",
      "🔹 Predicted: Sein \"River: The Joni Letters\" war das erste Jazz-Album, das diese Hauptkategorie gewinnen konnte.\n",
      "🔸 Reference: Sein \"River: The Joni Letters\" war das erste Jazz-Album, das diese Hauptkategorie gewinnen konnte.\n"
     ]
    },
    {
     "name": "stderr",
     "output_type": "stream",
     "text": [
      "\r",
      " 72%|███████▎  | 145/200 [01:15<00:32,  1.68it/s]"
     ]
    },
    {
     "name": "stdout",
     "output_type": "stream",
     "text": [
      "\n",
      "🔹 Predicted: Der Gedanke der Solidarität besitzt für mein Land, für Polen, eine besondere Bedeutung.\n",
      "🔸 Reference: Der Gedanke der Solidarität besitzt für mein Land, für Polen, eine besondere Bedeutung.\n"
     ]
    },
    {
     "name": "stderr",
     "output_type": "stream",
     "text": [
      "\r",
      " 73%|███████▎  | 146/200 [01:16<00:29,  1.85it/s]"
     ]
    },
    {
     "name": "stdout",
     "output_type": "stream",
     "text": [
      "\n",
      "🔹 Predicted: Wie diese Tänze aussahen, ist nicht überliefert.\n",
      "🔸 Reference: Wie diese Tänze aussahen, ist nicht überliefert.\n"
     ]
    },
    {
     "name": "stderr",
     "output_type": "stream",
     "text": [
      "\r",
      " 74%|███████▎  | 147/200 [01:16<00:29,  1.83it/s]"
     ]
    },
    {
     "name": "stdout",
     "output_type": "stream",
     "text": [
      "\n",
      "🔹 Predicted: Werden Fehler gemacht, müssen diese zunächst korrigiert werden, bevor das Rennen fortgesetzt werden darf.\n",
      "🔸 Reference: Werden Fehler gemacht, müssen diese zunächst korrigiert werden, bevor das Rennen fortgesetzt werden darf.\n"
     ]
    },
    {
     "name": "stderr",
     "output_type": "stream",
     "text": [
      "\r",
      " 74%|███████▍  | 148/200 [01:17<00:28,  1.80it/s]"
     ]
    },
    {
     "name": "stdout",
     "output_type": "stream",
     "text": [
      "\n",
      "🔹 Predicted: Eine Tante mütterlicherseits war mit dem Botaniker Francis Palgrave verheiratet.\n",
      "🔸 Reference: Eine Tante mütterlicherseits war mit dem Botaniker Francis Palgrave verheiratet.\n"
     ]
    },
    {
     "name": "stderr",
     "output_type": "stream",
     "text": [
      "\r",
      " 74%|███████▍  | 149/200 [01:17<00:26,  1.90it/s]"
     ]
    },
    {
     "name": "stdout",
     "output_type": "stream",
     "text": [
      "\n",
      "🔹 Predicted: Die Hauptquelle des Bades wird noch heute \"Sanct Zacharias\" genannt.\n",
      "🔸 Reference: Die Hauptquelle des Bades wird noch heute \"Sanct Zacharias\" genannt.\n"
     ]
    },
    {
     "name": "stderr",
     "output_type": "stream",
     "text": [
      "\r",
      " 75%|███████▌  | 150/200 [01:18<00:25,  2.00it/s]"
     ]
    },
    {
     "name": "stdout",
     "output_type": "stream",
     "text": [
      "\n",
      "🔹 Predicted: Im Laufe der Zeit wechselte der Besitzer der Gemeinde öfters.\n",
      "🔸 Reference: Im Laufe der Zeit wechselte der Besitzer der Gemeinde öfters.\n"
     ]
    },
    {
     "name": "stderr",
     "output_type": "stream",
     "text": [
      "\r",
      " 76%|███████▌  | 151/200 [01:18<00:24,  2.00it/s]"
     ]
    },
    {
     "name": "stdout",
     "output_type": "stream",
     "text": [
      "\n",
      "🔹 Predicted: Hier ging es nicht um die Ablehnung von Konzepten oder speziellen Inhalten.\n",
      "🔸 Reference: Hier ging es nicht um die Ablehnung von Konzepten oder speziellen Inhalten.\n"
     ]
    },
    {
     "name": "stderr",
     "output_type": "stream",
     "text": [
      "\r",
      " 76%|███████▌  | 152/200 [01:18<00:20,  2.33it/s]"
     ]
    },
    {
     "name": "stdout",
     "output_type": "stream",
     "text": [
      "\n",
      "🔹 Predicted: Über ihn ist recht wenig bekannt.\n",
      "🔸 Reference: Über ihn ist recht wenig bekannt.\n"
     ]
    },
    {
     "name": "stderr",
     "output_type": "stream",
     "text": [
      "\r",
      " 76%|███████▋  | 153/200 [01:19<00:21,  2.17it/s]"
     ]
    },
    {
     "name": "stdout",
     "output_type": "stream",
     "text": [
      "\n",
      "🔹 Predicted: In besonderen Fällen wurde Großgemeinden auch das Recht zuerkannt, sich Stadt nennen zu können.\n",
      "🔸 Reference: In besonderen Fällen wurde Großgemeinden auch das Recht zuerkannt, sich Stadt nennen zu können.\n"
     ]
    },
    {
     "name": "stderr",
     "output_type": "stream",
     "text": [
      "\r",
      " 77%|███████▋  | 154/200 [01:19<00:21,  2.13it/s]"
     ]
    },
    {
     "name": "stdout",
     "output_type": "stream",
     "text": [
      "\n",
      "🔹 Predicted: Die Kirchgänger kommen nicht nur aus Klein Berßen, sondern auch aus Groß Berßen.\n",
      "🔸 Reference: Die Kirchgänger kommen nicht nur aus Klein Berßen, sondern auch aus Groß Berßen.\n"
     ]
    },
    {
     "name": "stderr",
     "output_type": "stream",
     "text": [
      "\r",
      " 78%|███████▊  | 155/200 [01:20<00:18,  2.40it/s]"
     ]
    },
    {
     "name": "stdout",
     "output_type": "stream",
     "text": [
      "\n",
      "🔹 Predicted: Ein anderer Schüler war Claus Günzler.\n",
      "🔸 Reference: Ein anderer Schüler war Claus Günzler.\n"
     ]
    },
    {
     "name": "stderr",
     "output_type": "stream",
     "text": [
      "\r",
      " 78%|███████▊  | 156/200 [01:20<00:18,  2.43it/s]"
     ]
    },
    {
     "name": "stdout",
     "output_type": "stream",
     "text": [
      "\n",
      "🔹 Predicted: Benannt wurde es nach dem Bear Lake, einem See in der Nähe.\n",
      "🔸 Reference: Benannt wurde es nach dem Bear Lake, einem See in der Nähe.\n"
     ]
    },
    {
     "name": "stderr",
     "output_type": "stream",
     "text": [
      "\r",
      " 78%|███████▊  | 157/200 [01:21<00:19,  2.26it/s]"
     ]
    },
    {
     "name": "stdout",
     "output_type": "stream",
     "text": [
      "\n",
      "🔹 Predicted: Auch der Comedian Tobias Mann wurde über die Sendung einem breiten Publikum bekannt.\n",
      "🔸 Reference: Auch der Comedian Tobias Mann wurde über die Sendung einem breiten Publikum bekannt.\n"
     ]
    },
    {
     "name": "stderr",
     "output_type": "stream",
     "text": [
      "\r",
      " 79%|███████▉  | 158/200 [01:21<00:19,  2.11it/s]"
     ]
    },
    {
     "name": "stdout",
     "output_type": "stream",
     "text": [
      "\n",
      "🔹 Predicted: Sein Onkel ist der berühmte Vibraphonist und Komponist Karl Berger.\n",
      "🔸 Reference: Sein Onkel ist der berühmte Vibraphonist und Komponist Karl Berger.\n"
     ]
    },
    {
     "name": "stderr",
     "output_type": "stream",
     "text": [
      "\r",
      " 80%|███████▉  | 159/200 [01:22<00:21,  1.91it/s]"
     ]
    },
    {
     "name": "stdout",
     "output_type": "stream",
     "text": [
      "\n",
      "🔹 Predicted: Heute ist die Stadt ein wichtiges Fischfang-, Schafzucht-, Tagebau-, Weizen- und Tourismuszentrum.\n",
      "🔸 Reference: Heute ist die Stadt ein wichtiges Fischfang-, Schafzucht-, Tagebau-, Weizen- und Tourismuszentrum.\n"
     ]
    },
    {
     "name": "stderr",
     "output_type": "stream",
     "text": [
      "\r",
      " 80%|████████  | 160/200 [01:22<00:19,  2.06it/s]"
     ]
    },
    {
     "name": "stdout",
     "output_type": "stream",
     "text": [
      "\n",
      "🔹 Predicted: Er entstammte dem Adel und ging zu den Augustinern.\n",
      "🔸 Reference: Er entstammte dem Adel und ging zu den Augustinern.\n"
     ]
    },
    {
     "name": "stderr",
     "output_type": "stream",
     "text": [
      "\r",
      " 80%|████████  | 161/200 [01:23<00:17,  2.17it/s]"
     ]
    },
    {
     "name": "stdout",
     "output_type": "stream",
     "text": [
      "\n",
      "🔹 Predicted: Der Asteroid is nach einem Freund des Entdeckers benannt.\n",
      "🔸 Reference: Der Asteroid ist nach einem Freund des Entdeckers benannt.\n"
     ]
    },
    {
     "name": "stderr",
     "output_type": "stream",
     "text": [
      "\r",
      " 81%|████████  | 162/200 [01:23<00:17,  2.16it/s]"
     ]
    },
    {
     "name": "stdout",
     "output_type": "stream",
     "text": [
      "\n",
      "🔹 Predicted: Der Ort besitzt ein Dorfgemeinschaftshaus und einen Kindergarten.\n",
      "🔸 Reference: Der Ort besitzt ein Dorfgemeinschaftshaus und einen Kindergarten.\n"
     ]
    },
    {
     "name": "stderr",
     "output_type": "stream",
     "text": [
      "\r",
      " 82%|████████▏ | 163/200 [01:24<00:17,  2.16it/s]"
     ]
    },
    {
     "name": "stdout",
     "output_type": "stream",
     "text": [
      "\n",
      "🔹 Predicted: Es wird demnach in gewissem Umfang Brutfürsorge betrieben.\n",
      "🔸 Reference: Es wird demnach in gewissem Umfang Brutfürsorge betrieben.\n"
     ]
    },
    {
     "name": "stderr",
     "output_type": "stream",
     "text": [
      "\r",
      " 82%|████████▏ | 164/200 [01:24<00:15,  2.39it/s]"
     ]
    },
    {
     "name": "stdout",
     "output_type": "stream",
     "text": [
      "\n",
      "🔹 Predicted: Der National Trust for Scotland ist Eigentümer.\n",
      "🔸 Reference: Der National Trust for Scotland ist Eigentümer.\n"
     ]
    },
    {
     "name": "stderr",
     "output_type": "stream",
     "text": [
      "\r",
      " 82%|████████▎ | 165/200 [01:24<00:15,  2.23it/s]"
     ]
    },
    {
     "name": "stdout",
     "output_type": "stream",
     "text": [
      "\n",
      "🔹 Predicted: In der Leichtathletik-Mannschaft der Universität war sie die einzige Sprinterin.\n",
      "🔸 Reference: In der Leichtathletik-Mannschaft der Universität war sie die einzige Sprinterin.\n"
     ]
    },
    {
     "name": "stderr",
     "output_type": "stream",
     "text": [
      "\r",
      " 83%|████████▎ | 166/200 [01:25<00:16,  2.06it/s]"
     ]
    },
    {
     "name": "stdout",
     "output_type": "stream",
     "text": [
      "\n",
      "🔹 Predicted: Er hatte einen guten Ruf als Fachmann für Vorgeschichte, Volkskunde, Kunst- und Kulturgeschichte.\n",
      "🔸 Reference: Er hatte einen guten Ruf als Fachmann für Vorgeschichte, Volkskunde, Kunst- und Kulturgeschichte.\n"
     ]
    },
    {
     "name": "stderr",
     "output_type": "stream",
     "text": [
      "\r",
      " 84%|████████▎ | 167/200 [01:25<00:16,  2.06it/s]"
     ]
    },
    {
     "name": "stdout",
     "output_type": "stream",
     "text": [
      "\n",
      "🔹 Predicted: Neben diesem geografischen gab es bei den Mitgliedern auch kommerzielle interessen.\n",
      "🔸 Reference: Neben diesem geographischen gab es bei den Mitgliedern auch kommerzielle Interessen.\n"
     ]
    },
    {
     "name": "stderr",
     "output_type": "stream",
     "text": [
      "\r",
      " 84%|████████▍ | 168/200 [01:26<00:16,  1.94it/s]"
     ]
    },
    {
     "name": "stdout",
     "output_type": "stream",
     "text": [
      "\n",
      "🔹 Predicted: Sie synchronisierte auch Jodie Fosters Gastauftritt bei den \"Simpsons\" als Stimme von Maggie.\n",
      "🔸 Reference: Sie synchronisierte auch Jodie Fosters Gastauftritt bei den \"Simpsons\" als Stimme von Maggie.\n"
     ]
    },
    {
     "name": "stderr",
     "output_type": "stream",
     "text": [
      "\r",
      " 84%|████████▍ | 169/200 [01:27<00:15,  1.99it/s]"
     ]
    },
    {
     "name": "stdout",
     "output_type": "stream",
     "text": [
      "\n",
      "🔹 Predicted: Lauenburg verfügt über einen reichen Bestand an Kunst im öffentlichen Raum.\n",
      "🔸 Reference: Lauenburg verfügt über einen reichen Bestand an Kunst im öffentlichen Raum.\n"
     ]
    },
    {
     "name": "stderr",
     "output_type": "stream",
     "text": [
      "\r",
      " 85%|████████▌ | 170/200 [01:27<00:13,  2.18it/s]"
     ]
    },
    {
     "name": "stdout",
     "output_type": "stream",
     "text": [
      "\n",
      "🔹 Predicted: Dadurch hat sie ein regelmäßiges Straßennetz.\n",
      "🔸 Reference: Dadurch hat sie ein regelmäßiges Straßennetz.\n"
     ]
    },
    {
     "name": "stderr",
     "output_type": "stream",
     "text": [
      "\r",
      " 86%|████████▌ | 171/200 [01:27<00:12,  2.29it/s]"
     ]
    },
    {
     "name": "stdout",
     "output_type": "stream",
     "text": [
      "\n",
      "🔹 Predicted: Die Erinnerungen an Taosret hat man ausgelöscht.\n",
      "🔸 Reference: Die Erinnerungen an Tausret hat man ausgelöscht.\n"
     ]
    },
    {
     "name": "stderr",
     "output_type": "stream",
     "text": [
      "\r",
      " 86%|████████▌ | 172/200 [01:28<00:11,  2.43it/s]"
     ]
    },
    {
     "name": "stdout",
     "output_type": "stream",
     "text": [
      "\n",
      "🔹 Predicted: Die Hintergründe der Umbenennung sind nicht bekannt.\n",
      "🔸 Reference: Die Hintergründe der Umbenennung sind nicht bekannt.\n"
     ]
    },
    {
     "name": "stderr",
     "output_type": "stream",
     "text": [
      "\r",
      " 86%|████████▋ | 173/200 [01:28<00:10,  2.48it/s]"
     ]
    },
    {
     "name": "stdout",
     "output_type": "stream",
     "text": [
      "\n",
      "🔹 Predicted: Der weiße Bürzel zeigt deutliche schwarze Bänder.\n",
      "🔸 Reference: Der weiße Bürzel zeigt deutliche schwarze Bänder.\n"
     ]
    },
    {
     "name": "stderr",
     "output_type": "stream",
     "text": [
      "\r",
      " 87%|████████▋ | 174/200 [01:28<00:09,  2.66it/s]"
     ]
    },
    {
     "name": "stdout",
     "output_type": "stream",
     "text": [
      "\n",
      "🔹 Predicted: Für mich hört sich das eher nach Marketing an.\n",
      "🔸 Reference: Für mich hört sich das eher nach Marketing an.\n"
     ]
    },
    {
     "name": "stderr",
     "output_type": "stream",
     "text": [
      "\r",
      " 88%|████████▊ | 175/200 [01:36<01:06,  2.68s/it]"
     ]
    },
    {
     "name": "stdout",
     "output_type": "stream",
     "text": [
      "\n",
      "🔹 Predicted:  ಎರಿದಿದಿದಿದಿದಿದಿದಿದಿದಿದಿದಿದಿದಿದಿದಿದಿದಿದಿದಿದಿದಿದಿದಿದಿದಿದಿದಿದಿದಿದಿದಿದಿದಿದಿದಿದಿದಿದಿದಿದಿದಿದಿದಿದಿದಿದಿದಿದಿದಿದಿದಿದಿದಿದಿದಿದಿದಿದಿದಿದಿದಿದಿದಿದಿದಿದಿದಿದಿದಿದಿದಿದಿದದಿದಿದದಿದದಿದಿದದಿದದಿದದಿದದಿದದಿದದದಿದದದದಿದದದದದದದದದದದದದದದದದದದದದದದದದದದದದದದದದದದದದದ\n",
      "🔸 Reference: Runde verlor.\n"
     ]
    },
    {
     "name": "stderr",
     "output_type": "stream",
     "text": [
      "\r",
      " 88%|████████▊ | 176/200 [01:37<00:47,  1.99s/it]"
     ]
    },
    {
     "name": "stdout",
     "output_type": "stream",
     "text": [
      "\n",
      "🔹 Predicted: Das gilt auch für viele Abgeordnete der nationalen Parlamente.\n",
      "🔸 Reference: Das gilt auch für viele Abgeordnete der nationalen Parlamente.\n"
     ]
    },
    {
     "name": "stderr",
     "output_type": "stream",
     "text": [
      "\r",
      " 88%|████████▊ | 177/200 [01:37<00:35,  1.55s/it]"
     ]
    },
    {
     "name": "stdout",
     "output_type": "stream",
     "text": [
      "\n",
      "🔹 Predicted: Für mich bedeutet dies aber auch, dass der Schutz des Wassers eine Daueraufgabe ist.\n",
      "🔸 Reference: Für mich bedeutet dies aber auch, dass der Schutz des Wassers eine Daueraufgabe ist.\n"
     ]
    },
    {
     "name": "stderr",
     "output_type": "stream",
     "text": [
      "\r",
      " 89%|████████▉ | 178/200 [01:38<00:28,  1.29s/it]"
     ]
    },
    {
     "name": "stdout",
     "output_type": "stream",
     "text": [
      "\n",
      "🔹 Predicted: Anfänglich umfasste das Verlagsprogramm Flugblätter, später kam die Zeitschrift \"Das Argument\" hinzu.\n",
      "🔸 Reference: Anfänglich umfasste das Verlagsprogramm Flugblätter, später kam die Zeitschrift \"Das Argument\" hinzu.\n"
     ]
    },
    {
     "name": "stderr",
     "output_type": "stream",
     "text": [
      "\r",
      " 90%|████████▉ | 179/200 [01:38<00:21,  1.02s/it]"
     ]
    },
    {
     "name": "stdout",
     "output_type": "stream",
     "text": [
      "\n",
      "🔹 Predicted: Der Betrieb sollte aufrechterhalten und restrukturiert werden.\n",
      "🔸 Reference: Der Betrieb sollte aufrechterhalten und restrukturiert werden.\n"
     ]
    },
    {
     "name": "stderr",
     "output_type": "stream",
     "text": [
      "\r",
      " 90%|█████████ | 180/200 [01:39<00:16,  1.18it/s]"
     ]
    },
    {
     "name": "stdout",
     "output_type": "stream",
     "text": [
      "\n",
      "🔹 Predicted: Er war in Homers Ilias ein Kundschafter auf Seiten Trojas.\n",
      "🔸 Reference: Er war in Homers Ilias ein Kundschafter auf Seiten Trojas.\n"
     ]
    },
    {
     "name": "stderr",
     "output_type": "stream",
     "text": [
      "\r",
      " 90%|█████████ | 181/200 [01:39<00:14,  1.28it/s]"
     ]
    },
    {
     "name": "stdout",
     "output_type": "stream",
     "text": [
      "\n",
      "🔹 Predicted: Während der Zeit des Nationalsozialismus wurde sie wegen Sonnenfels’ jüdischer Herkunft entfernt.\n",
      "🔸 Reference: Während der Zeit des Nationalsozialismus wurde sie wegen Sonnenfels’ jüdischer Herkunft entfernt.\n"
     ]
    },
    {
     "name": "stderr",
     "output_type": "stream",
     "text": [
      "\r",
      " 91%|█████████ | 182/200 [01:40<00:12,  1.40it/s]"
     ]
    },
    {
     "name": "stdout",
     "output_type": "stream",
     "text": [
      "\n",
      "🔹 Predicted: Der Venet ist geologisch gesehen ein von der Umgebung stark abweichender Gebirgsstock.\n",
      "🔸 Reference: Der Venet ist geologisch gesehen ein von der Umgebung stark abweichender Gebirgsstock.\n"
     ]
    },
    {
     "name": "stderr",
     "output_type": "stream",
     "text": [
      "\r",
      " 92%|█████████▏| 183/200 [01:41<00:11,  1.48it/s]"
     ]
    },
    {
     "name": "stdout",
     "output_type": "stream",
     "text": [
      "\n",
      "🔹 Predicted: Die Prinzessin teilte sie ein Schlafzimmer mit ihren älteren Schwestern Dagmar und Alexandra.\n",
      "🔸 Reference: Die Prinzessin teilte sie ein Schlafzimmer mit ihren älteren Schwestern Dagmar und Alexandra.\n"
     ]
    },
    {
     "name": "stderr",
     "output_type": "stream",
     "text": [
      "\r",
      " 92%|█████████▏| 184/200 [01:41<00:10,  1.55it/s]"
     ]
    },
    {
     "name": "stdout",
     "output_type": "stream",
     "text": [
      "\n",
      "🔹 Predicted: In der Umgebung des Ortes befinden sich byzantinische Nekropolen im Tuffstein.\n",
      "🔸 Reference: In der Umgebung des Ortes befinden sich byzantinische Nekropolen im Tuffstein.\n"
     ]
    },
    {
     "name": "stderr",
     "output_type": "stream",
     "text": [
      "\r",
      " 92%|█████████▎| 185/200 [01:41<00:08,  1.87it/s]"
     ]
    },
    {
     "name": "stdout",
     "output_type": "stream",
     "text": [
      "\n",
      "🔹 Predicted: Ihre Namen sind nicht geheim.\n",
      "🔸 Reference: Ihre Namen sind nicht geheim.\n"
     ]
    },
    {
     "name": "stderr",
     "output_type": "stream",
     "text": [
      "\r",
      " 93%|█████████▎| 186/200 [01:42<00:07,  1.89it/s]"
     ]
    },
    {
     "name": "stdout",
     "output_type": "stream",
     "text": [
      "\n",
      "🔹 Predicted: Dessen Sohn Felix Draeseke erlangte später als Komponist Bedeutung.\n",
      "🔸 Reference: Dessen Sohn Felix Draeseke erlangte später als Komponist Bedeutung.\n"
     ]
    },
    {
     "name": "stderr",
     "output_type": "stream",
     "text": [
      "\r",
      " 94%|█████████▎| 187/200 [01:42<00:06,  2.12it/s]"
     ]
    },
    {
     "name": "stdout",
     "output_type": "stream",
     "text": [
      "\n",
      "🔹 Predicted: Die ganze Konversation war ihm unangenehm.\n",
      "🔸 Reference: Die ganze Konversation war ihm unangenehm.\n"
     ]
    },
    {
     "name": "stderr",
     "output_type": "stream",
     "text": [
      "\r",
      " 94%|█████████▍| 188/200 [01:43<00:04,  2.52it/s]"
     ]
    },
    {
     "name": "stdout",
     "output_type": "stream",
     "text": [
      "\n",
      "🔹 Predicted: Wir sind ruiniert.\n",
      "🔸 Reference: Wir sind ruiniert.\n"
     ]
    },
    {
     "name": "stderr",
     "output_type": "stream",
     "text": [
      "\r",
      " 94%|█████████▍| 189/200 [01:43<00:04,  2.22it/s]"
     ]
    },
    {
     "name": "stdout",
     "output_type": "stream",
     "text": [
      "\n",
      "🔹 Predicted: Der Seemann nahm das Tau in die Hand, um es am Schiffspoller festzumachen.\n",
      "🔸 Reference: Der Seemann nahm das Tau in die Hand, um es am Schiffspoller festzumachen.\n"
     ]
    },
    {
     "name": "stderr",
     "output_type": "stream",
     "text": [
      "\r",
      " 95%|█████████▌| 190/200 [01:44<00:05,  1.87it/s]"
     ]
    },
    {
     "name": "stdout",
     "output_type": "stream",
     "text": [
      "\n",
      "🔹 Predicted: Eingewickelt in Polstermaterial lagen drei Flaschen, gefüllt mit einer durchsichtigen Flüssigkeit, in dem Karton.\n",
      "🔸 Reference: Eingewickelt in Polstermaterial lagen drei Flaschen, gefüllt mit einer durchsichtigen Flüssigkeit, in dem Karton.\n"
     ]
    },
    {
     "name": "stderr",
     "output_type": "stream",
     "text": [
      "\r",
      " 96%|█████████▌| 191/200 [01:52<00:25,  2.79s/it]"
     ]
    },
    {
     "name": "stdout",
     "output_type": "stream",
     "text": [
      "\n",
      "🔹 Predicted:  ಕರಿಕರವರಿದರವರವರವರವರವರವರವರವರವರವರವರವರವರವರವರವರವರವರವರವರವರವರವರವರವರವರವರವರವರವರವರವರವರವರವರವರವರವರವರವರವರವರವರವರವರವರವರವರವರವರವರವರವರವರವರವರವರವರವರವರವರವರವರವರವರವರವರವರವರವರರವರವರವರರವರರವರರವರರವರರವರರವರರವರರರವರರರವರರರವರರರರರವರರರರರರರರರರರರರರರರರರರರರರರರರರರ\n",
      "🔸 Reference: Deltachat öffnen.\n"
     ]
    },
    {
     "name": "stderr",
     "output_type": "stream",
     "text": [
      "\r",
      " 96%|█████████▌| 192/200 [01:53<00:17,  2.24s/it]"
     ]
    },
    {
     "name": "stdout",
     "output_type": "stream",
     "text": [
      "\n",
      "🔹 Predicted: ತ﹌ತ﹌ತ﹌ತ﹌ತ﹌ತ﹌ತ﹌ತ﹌ತ﹌ತ\n",
      "🔸 Reference: Zeig mal, was alles in dem Korb ist.\n"
     ]
    },
    {
     "name": "stderr",
     "output_type": "stream",
     "text": [
      "\r",
      " 96%|█████████▋| 193/200 [01:53<00:11,  1.67s/it]"
     ]
    },
    {
     "name": "stdout",
     "output_type": "stream",
     "text": [
      "\n",
      "🔹 Predicted: Martin spricht einfach, wie ihm der Mund gewachsen ist.\n",
      "🔸 Reference: Martin spricht einfach, wie ihm der Mund gewachsen ist.\n"
     ]
    },
    {
     "name": "stderr",
     "output_type": "stream",
     "text": [
      "\r",
      " 97%|█████████▋| 194/200 [01:54<00:07,  1.28s/it]"
     ]
    },
    {
     "name": "stdout",
     "output_type": "stream",
     "text": [
      "\n",
      "🔹 Predicted: Die Deutsche Botschaft in Israel befindet sich in Tel Aviv.\n",
      "🔸 Reference: Die Deutsche Botschaft in Israel befindet sich in Tel Aviv.\n"
     ]
    },
    {
     "name": "stderr",
     "output_type": "stream",
     "text": [
      "\r",
      " 98%|█████████▊| 195/200 [01:54<00:05,  1.05s/it]"
     ]
    },
    {
     "name": "stdout",
     "output_type": "stream",
     "text": [
      "\n",
      "🔹 Predicted: Das \"Theaterspiel\" hat eine vielfältige Tradition und ist fest etabliert.\n",
      "🔸 Reference: Das \"Theaterspiel\" hat eine vielfältige Tradition und ist fest etabliert.\n"
     ]
    },
    {
     "name": "stderr",
     "output_type": "stream",
     "text": [
      "\r",
      " 98%|█████████▊| 196/200 [01:54<00:03,  1.19it/s]"
     ]
    },
    {
     "name": "stdout",
     "output_type": "stream",
     "text": [
      "\n",
      "🔹 Predicted: Und Isabella entwickelt gleiche Gefühle für Luk.\n",
      "🔸 Reference: Und Isabella entwickelt gleiche Gefühle für Luk.\n"
     ]
    },
    {
     "name": "stderr",
     "output_type": "stream",
     "text": [
      "\r",
      " 98%|█████████▊| 197/200 [01:55<00:02,  1.40it/s]"
     ]
    },
    {
     "name": "stdout",
     "output_type": "stream",
     "text": [
      "\n",
      "🔹 Predicted: Die Eutiner Windmühle wird als Gaststätte genut.\n",
      "🔸 Reference: Die Eutiner Windmühle wird als Gaststätte genutzt.\n"
     ]
    },
    {
     "name": "stderr",
     "output_type": "stream",
     "text": [
      "\r",
      " 99%|█████████▉| 198/200 [01:55<00:01,  1.54it/s]"
     ]
    },
    {
     "name": "stdout",
     "output_type": "stream",
     "text": [
      "\n",
      "🔹 Predicted: Die Platte wurde mehr als eine Million Mal verkauft und überrundete sogar Elvis Presley.\n",
      "🔸 Reference: Die Platte wurde mehr als eine Million Mal verkauft und überrundete sogar Elvis Presley.\n"
     ]
    },
    {
     "name": "stderr",
     "output_type": "stream",
     "text": [
      "\r",
      "100%|█████████▉| 199/200 [01:56<00:00,  1.67it/s]"
     ]
    },
    {
     "name": "stdout",
     "output_type": "stream",
     "text": [
      "\n",
      "🔹 Predicted: Die Vorwürfe wurden durch Ausschnitte aus E-Mails untermauert.\n",
      "🔸 Reference: Die Vorwürfe wurden durch Ausschnitte aus E-Mails untermauert.\n"
     ]
    },
    {
     "name": "stderr",
     "output_type": "stream",
     "text": [
      "100%|██████████| 200/200 [01:56<00:00,  1.71it/s]"
     ]
    },
    {
     "name": "stdout",
     "output_type": "stream",
     "text": [
      "\n",
      "🔹 Predicted: Den restlichen Fließweg bis zu ihrer Mündung legt die Mulde in Sachsen-Anhalt zurück.\n",
      "🔸 Reference: Den restlichen Fließweg bis zu ihrer Mündung legt die Mulde in Sachsen-Anhalt zurück.\n",
      "\n",
      "✅ DE WER: 0.0326\n"
     ]
    },
    {
     "name": "stderr",
     "output_type": "stream",
     "text": [
      "\n"
     ]
    }
   ],
   "source": [
    "import torch\n",
    "from jiwer import wer\n",
    "from tqdm import tqdm\n",
    "\n",
    "lang_list = [\"ko\", \"en\", \"ja\", \"de\"]\n",
    "lang_wer_results = {}\n",
    "\n",
    "for lang in lang_list:\n",
    "    print(f\"\\n🌍 Language: {lang}\")\n",
    "    lang_data = [x for x in dataset if x[\"locale\"] == lang]\n",
    "\n",
    "    predictions, references = [], []\n",
    "\n",
    "    for sample in tqdm(lang_data):\n",
    "        input_features = processor.feature_extractor(\n",
    "            sample[\"audio\"][\"array\"], sampling_rate=16000, return_tensors=\"pt\"\n",
    "        ).input_features.to(model.device)\n",
    "\n",
    "        with torch.no_grad():\n",
    "            predicted_ids = model.generate(input_features)\n",
    "\n",
    "        transcription = processor.batch_decode(predicted_ids, skip_special_tokens=True)[0]\n",
    "        predictions.append(transcription)\n",
    "        references.append(sample[\"sentence\"])\n",
    "\n",
    "        print(f\"\\n🔹 Predicted: {transcription}\")\n",
    "        print(f\"🔸 Reference: {sample['sentence']}\")\n",
    "\n",
    "    score = wer(references, predictions)\n",
    "    lang_wer_results[lang] = score\n",
    "    print(f\"\\n✅ {lang.upper()} WER: {score:.4f}\")"
   ]
  },
  {
   "cell_type": "markdown",
   "metadata": {
    "id": "Of8WYQGT2uIB"
   },
   "source": [
    "### __6.Results__"
   ]
  },
  {
   "cell_type": "code",
   "execution_count": 11,
   "metadata": {},
   "outputs": [
    {
     "name": "stdout",
     "output_type": "stream",
     "text": [
      "\n",
      "📊 WER Comparison (Sorted):\n",
      "🔹 DE  WER: 0.0326\n",
      "🔹 EN  WER: 0.0385\n",
      "🔹 KO  WER: 0.0572\n",
      "🔹 JA  WER: 0.8750\n"
     ]
    }
   ],
   "source": [
    "print(\"\\n📊 WER Comparison (Sorted):\")\n",
    "for lang, score in sorted(lang_wer_results.items(), key=lambda x: x[1]):\n",
    "    print(f\"🔹 {lang.upper():<3} WER: {score:.4f}\")"
   ]
  },
  {
   "cell_type": "code",
   "execution_count": 12,
   "metadata": {},
   "outputs": [
    {
     "data": {
      "image/png": "[encoded data removed]",
      "text/plain": [
       "<Figure size 800x500 with 1 Axes>"
      ]
     },
     "metadata": {},
     "output_type": "display_data"
    }
   ],
   "source": [
    "import matplotlib.pyplot as plt\n",
    "import numpy as np\n",
    "\n",
    "langs_sorted = [x[0] for x in sorted(lang_wer_results.items(), key=lambda x: x[1])]\n",
    "scores_sorted = [x[1] for x in sorted(lang_wer_results.items(), key=lambda x: x[1])]\n",
    "\n",
    "plt.figure(figsize=(8, 5))\n",
    "bars = plt.bar(langs_sorted, scores_sorted)\n",
    "plt.title(\"WER by Language (Whisper-small Run 2)\")\n",
    "plt.xlabel(\"Language\")\n",
    "plt.ylabel(\"WER\")\n",
    "\n",
    "for bar in bars:\n",
    "    yval = bar.get_height()\n",
    "    plt.text(bar.get_x() + bar.get_width()/2.0, yval + 0.01, f\"{yval:.3f}\", ha='center', va='bottom')\n",
    "\n",
    "plt.tight_layout()\n",
    "plt.savefig(\"wer_small_run2_sorted.png\")\n",
    "plt.show()"
   ]
  },
  {
   "cell_type": "markdown",
   "metadata": {
    "id": "JstmaMHmNaAg"
   },
   "source": [
    "- KO WER : 0.1191 -> 0.0572\n",
    "- DE WER : 0.3411 -> 0.0326\n",
    "- EN WER : 0.1973 -> 0.0385\n",
    "- JA WER : 0.6700 -> 0.8750\n",
    "\n",
    "→ 한국어, 영어, 독일어는 WER이 감소했지만, 일본어는 증가함"
   ]
  }
 ],
 "metadata": {
  "language_info": {
   "name": "python"
  }
 },
 "nbformat": 4,
 "nbformat_minor": 0
}
