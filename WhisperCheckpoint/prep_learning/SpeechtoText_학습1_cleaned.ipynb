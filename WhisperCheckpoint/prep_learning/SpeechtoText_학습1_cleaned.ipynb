{
 "cells": [
  {
   "cell_type": "code",
   "execution_count": 1,
   "metadata": {},
   "outputs": [
    {
     "name": "stdout",
     "output_type": "stream",
     "text": [
      "\u001b[?25l   \u001b[90m━━━━━━━━━━━━━━━━━━━━━━━━━━━━━━━━━━━━━━━━\u001b[0m \u001b[32m0.0/491.5 kB\u001b[0m \u001b[31m?\u001b[0m eta \u001b[36m-:--:--\u001b[0m\r",
      "\u001b[2K   \u001b[90m━━━━━━━━━━━━━━━━━━━━━━━━━━━━━━━━━━━━━━━\u001b[0m \u001b[32m491.5/491.5 kB\u001b[0m \u001b[31m187.1 MB/s\u001b[0m eta \u001b[36m0:00:00\u001b[0m\n",
      "\u001b[?25h\u001b[?25l   \u001b[90m━━━━━━━━━━━━━━━━━━━━━━━━━━━━━━━━━━━━━━━━\u001b[0m \u001b[32m0.0/84.0 kB\u001b[0m \u001b[31m?\u001b[0m eta \u001b[36m-:--:--\u001b[0m\r",
      "\u001b[2K   \u001b[90m━━━━━━━━━━━━━━━━━━━━━━━━━━━━━━━━━━━━━━━━\u001b[0m \u001b[32m84.0/84.0 kB\u001b[0m \u001b[31m361.7 MB/s\u001b[0m eta \u001b[36m0:00:00\u001b[0m\n",
      "\u001b[?25h\u001b[?25l   \u001b[90m━━━━━━━━━━━━━━━━━━━━━━━━━━━━━━━━━━━━━━━━\u001b[0m \u001b[32m0.0/116.3 kB\u001b[0m \u001b[31m?\u001b[0m eta \u001b[36m-:--:--\u001b[0m\r",
      "\u001b[2K   \u001b[90m━━━━━━━━━━━━━━━━━━━━━━━━━━━━━━━━━━━━━━━\u001b[0m \u001b[32m116.3/116.3 kB\u001b[0m \u001b[31m329.7 MB/s\u001b[0m eta \u001b[36m0:00:00\u001b[0m\n",
      "\u001b[?25h\u001b[?25l   \u001b[90m━━━━━━━━━━━━━━━━━━━━━━━━━━━━━━━━━━━━━━━━\u001b[0m \u001b[32m0.0/193.6 kB\u001b[0m \u001b[31m?\u001b[0m eta \u001b[36m-:--:--\u001b[0m\r",
      "\u001b[2K   \u001b[90m━━━━━━━━━━━━━━━━━━━━━━━━━━━━━━━━━━━━━━━\u001b[0m \u001b[32m193.6/193.6 kB\u001b[0m \u001b[31m395.0 MB/s\u001b[0m eta \u001b[36m0:00:00\u001b[0m\n",
      "\u001b[?25h\u001b[?25l   \u001b[90m━━━━━━━━━━━━━━━━━━━━━━━━━━━━━━━━━━━━━━━━\u001b[0m \u001b[32m0.0/143.5 kB\u001b[0m \u001b[31m?\u001b[0m eta \u001b[36m-:--:--\u001b[0m\r",
      "\u001b[2K   \u001b[90m━━━━━━━━━━━━━━━━━━━━━━━━━━━━━━━━━━━━━━━\u001b[0m \u001b[32m143.5/143.5 kB\u001b[0m \u001b[31m388.5 MB/s\u001b[0m eta \u001b[36m0:00:00\u001b[0m\n",
      "\u001b[2K   \u001b[90m━━━━━━━━━━━━━━━━━━━━━━━━━━━━━━━━━━━━━━━━\u001b[0m \u001b[32m3.1/3.1 MB\u001b[0m \u001b[31m334.9 MB/s\u001b[0m eta \u001b[36m0:00:00\u001b[0m\n",
      "\u001b[2K   \u001b[90m━━━━━━━━━━━━━━━━━━━━━━━━━━━━━━━━━━━━━━━\u001b[0m \u001b[32m363.4/363.4 MB\u001b[0m \u001b[31m209.7 MB/s\u001b[0m eta \u001b[36m0:00:00\u001b[0m\n",
      "\u001b[2K   \u001b[90m━━━━━━━━━━━━━━━━━━━━━━━━━━━━━━━━━━━━━━━━\u001b[0m \u001b[32m13.8/13.8 MB\u001b[0m \u001b[31m182.4 MB/s\u001b[0m eta \u001b[36m0:00:00\u001b[0m\n",
      "\u001b[2K   \u001b[90m━━━━━━━━━━━━━━━━━━━━━━━━━━━━━━━━━━━━━━━━\u001b[0m \u001b[32m24.6/24.6 MB\u001b[0m \u001b[31m258.7 MB/s\u001b[0m eta \u001b[36m0:00:00\u001b[0m\n",
      "\u001b[2K   \u001b[90m━━━━━━━━━━━━━━━━━━━━━━━━━━━━━━━━━━━━━━━\u001b[0m \u001b[32m883.7/883.7 kB\u001b[0m \u001b[31m313.2 MB/s\u001b[0m eta \u001b[36m0:00:00\u001b[0m\n",
      "\u001b[2K   \u001b[90m━━━━━━━━━━━━━━━━━━━━━━━━━━━━━━━━━━━━━━━\u001b[0m \u001b[32m664.8/664.8 MB\u001b[0m \u001b[31m259.4 MB/s\u001b[0m eta \u001b[36m0:00:00\u001b[0m\n",
      "\u001b[2K   \u001b[90m━━━━━━━━━━━━━━━━━━━━━━━━━━━━━━━━━━━━━━━\u001b[0m \u001b[32m211.5/211.5 MB\u001b[0m \u001b[31m280.3 MB/s\u001b[0m eta \u001b[36m0:00:00\u001b[0m\n",
      "\u001b[2K   \u001b[90m━━━━━━━━━━━━━━━━━━━━━━━━━━━━━━━━━━━━━━━━\u001b[0m \u001b[32m56.3/56.3 MB\u001b[0m \u001b[31m275.5 MB/s\u001b[0m eta \u001b[36m0:00:00\u001b[0m\n",
      "\u001b[2K   \u001b[90m━━━━━━━━━━━━━━━━━━━━━━━━━━━━━━━━━━━━━━━\u001b[0m \u001b[32m127.9/127.9 MB\u001b[0m \u001b[31m177.6 MB/s\u001b[0m eta \u001b[36m0:00:00\u001b[0m\n",
      "\u001b[2K   \u001b[90m━━━━━━━━━━━━━━━━━━━━━━━━━━━━━━━━━━━━━━━\u001b[0m \u001b[32m207.5/207.5 MB\u001b[0m \u001b[31m245.0 MB/s\u001b[0m eta \u001b[36m0:00:00\u001b[0m\n",
      "\u001b[2K   \u001b[90m━━━━━━━━━━━━━━━━━━━━━━━━━━━━━━━━━━━━━━━━\u001b[0m \u001b[32m21.1/21.1 MB\u001b[0m \u001b[31m93.9 MB/s\u001b[0m eta \u001b[36m0:00:00\u001b[0m\n",
      "\u001b[2K   \u001b[90m━━━━━━━━━━━━━━━━━━━━━━━━━━━━━━━━━━━━━━━\u001b[0m \u001b[32m194.8/194.8 kB\u001b[0m \u001b[31m387.2 MB/s\u001b[0m eta \u001b[36m0:00:00\u001b[0m\n",
      "\u001b[?25h\u001b[31mERROR: pip's dependency resolver does not currently take into account all the packages that are installed. This behaviour is the source of the following dependency conflicts.\n",
      "gcsfs 2025.3.2 requires fsspec==2025.3.2, but you have fsspec 2025.3.0 which is incompatible.\u001b[0m\u001b[31m\n",
      "\u001b[0m"
     ]
    }
   ],
   "source": [
    "# ✅ 최신 패키지 설치 (transformers 포함)\n",
    "!pip install --upgrade --no-cache-dir transformers datasets evaluate librosa jiwer accelerate --quiet"
   ]
  },
  {
   "cell_type": "code",
   "execution_count": 2,
   "metadata": {},
   "outputs": [
    {
     "data": {
      "application/vnd.jupyter.widget-view+json": {
       "model_id": "c11ecbc23a3e4fccb513010d01cc5139",
       "version_major": 2,
       "version_minor": 0
      },
      "text/plain": [
       "VBox(children=(HTML(value='<center> <img\\nsrc=https://huggingface.co/front/assets/huggingface_logo-noborder.sv…"
      ]
     },
     "metadata": {},
     "output_type": "display_data"
    }
   ],
   "source": [
    "from huggingface_hub import login\n",
    "login()"
   ]
  },
  {
   "cell_type": "code",
   "execution_count": 3,
   "metadata": {},
   "outputs": [
    {
     "name": "stdout",
     "output_type": "stream",
     "text": [
      "Drive already mounted at /content/drive; to attempt to forcibly remount, call drive.mount(\"/content/drive\", force_remount=True).\n"
     ]
    }
   ],
   "source": [
    "# 2. Google Drive 마운트\n",
    "from google.colab import drive\n",
    "drive.mount('/content/drive')"
   ]
  },
  {
   "cell_type": "code",
   "execution_count": 4,
   "metadata": {},
   "outputs": [
    {
     "name": "stderr",
     "output_type": "stream",
     "text": [
      "/usr/local/lib/python3.11/dist-packages/huggingface_hub/utils/_auth.py:94: UserWarning: \n",
      "The secret `HF_TOKEN` does not exist in your Colab secrets.\n",
      "To authenticate with the Hugging Face Hub, create a token in your settings tab (https://huggingface.co/settings/tokens), set it as secret in your Google Colab and restart your session.\n",
      "You will be able to reuse this secret in all of your notebooks.\n",
      "Please note that authentication is recommended but still optional to access public models or datasets.\n",
      "  warnings.warn(\n"
     ]
    },
    {
     "data": {
      "application/vnd.jupyter.widget-view+json": {
       "model_id": "37da3cef6dec474e8bf49a34d0d8e57c",
       "version_major": 2,
       "version_minor": 0
      },
      "text/plain": [
       "README.md:   0%|          | 0.00/14.7k [00:00<?, ?B/s]"
      ]
     },
     "metadata": {},
     "output_type": "display_data"
    },
    {
     "data": {
      "application/vnd.jupyter.widget-view+json": {
       "model_id": "4b3edb19b79648799bf78760e11df571",
       "version_major": 2,
       "version_minor": 0
      },
      "text/plain": [
       "common_voice_13_0.py:   0%|          | 0.00/8.18k [00:00<?, ?B/s]"
      ]
     },
     "metadata": {},
     "output_type": "display_data"
    },
    {
     "data": {
      "application/vnd.jupyter.widget-view+json": {
       "model_id": "3468612147364a9aa625088b76cfd85f",
       "version_major": 2,
       "version_minor": 0
      },
      "text/plain": [
       "languages.py:   0%|          | 0.00/3.65k [00:00<?, ?B/s]"
      ]
     },
     "metadata": {},
     "output_type": "display_data"
    },
    {
     "data": {
      "application/vnd.jupyter.widget-view+json": {
       "model_id": "14d13afc92c04f72aabba59d67b53c59",
       "version_major": 2,
       "version_minor": 0
      },
      "text/plain": [
       "release_stats.py:   0%|          | 0.00/65.4k [00:00<?, ?B/s]"
      ]
     },
     "metadata": {},
     "output_type": "display_data"
    },
    {
     "name": "stdout",
     "output_type": "stream",
     "text": [
      "The repository for mozilla-foundation/common_voice_13_0 contains custom code which must be executed to correctly load the dataset. You can inspect the repository content at https://hf.co/datasets/mozilla-foundation/common_voice_13_0.\n",
      "You can avoid this prompt in future by passing the argument `trust_remote_code=True`.\n",
      "\n",
      "Do you wish to run the custom code? [y/N] y\n"
     ]
    },
    {
     "data": {
      "application/vnd.jupyter.widget-view+json": {
       "model_id": "e7904da5940a4dbeb423405019be55d1",
       "version_major": 2,
       "version_minor": 0
      },
      "text/plain": [
       "n_shards.json:   0%|          | 0.00/13.2k [00:00<?, ?B/s]"
      ]
     },
     "metadata": {},
     "output_type": "display_data"
    },
    {
     "data": {
      "application/vnd.jupyter.widget-view+json": {
       "model_id": "e876f3b5ce454c2c80b4da8456070f27",
       "version_major": 2,
       "version_minor": 0
      },
      "text/plain": [
       "ko_train_0.tar:   0%|          | 0.00/6.91M [00:00<?, ?B/s]"
      ]
     },
     "metadata": {},
     "output_type": "display_data"
    },
    {
     "data": {
      "application/vnd.jupyter.widget-view+json": {
       "model_id": "f7ecf17425924cb2a50f7e4b4160ef65",
       "version_major": 2,
       "version_minor": 0
      },
      "text/plain": [
       "ko_dev_0.tar:   0%|          | 0.00/3.33M [00:00<?, ?B/s]"
      ]
     },
     "metadata": {},
     "output_type": "display_data"
    },
    {
     "data": {
      "application/vnd.jupyter.widget-view+json": {
       "model_id": "8f66cc25bee84778a3b07a29d1605b30",
       "version_major": 2,
       "version_minor": 0
      },
      "text/plain": [
       "ko_test_0.tar:   0%|          | 0.00/4.36M [00:00<?, ?B/s]"
      ]
     },
     "metadata": {},
     "output_type": "display_data"
    },
    {
     "data": {
      "application/vnd.jupyter.widget-view+json": {
       "model_id": "b1d0bdc8c62246679973ef431a9f0b0e",
       "version_major": 2,
       "version_minor": 0
      },
      "text/plain": [
       "ko_other_0.tar:   0%|          | 0.00/67.1M [00:00<?, ?B/s]"
      ]
     },
     "metadata": {},
     "output_type": "display_data"
    },
    {
     "data": {
      "application/vnd.jupyter.widget-view+json": {
       "model_id": "2d6896b982334b029c7ee0c29c4a2131",
       "version_major": 2,
       "version_minor": 0
      },
      "text/plain": [
       "ko_invalidated_0.tar:   0%|          | 0.00/4.43M [00:00<?, ?B/s]"
      ]
     },
     "metadata": {},
     "output_type": "display_data"
    },
    {
     "data": {
      "application/vnd.jupyter.widget-view+json": {
       "model_id": "9a5096d4446846f1bd798f36299eb161",
       "version_major": 2,
       "version_minor": 0
      },
      "text/plain": [
       "train.tsv:   0%|          | 0.00/49.1k [00:00<?, ?B/s]"
      ]
     },
     "metadata": {},
     "output_type": "display_data"
    },
    {
     "data": {
      "application/vnd.jupyter.widget-view+json": {
       "model_id": "4193f8ba6d884bf8b4bf1f6719afd8a0",
       "version_major": 2,
       "version_minor": 0
      },
      "text/plain": [
       "dev.tsv:   0%|          | 0.00/27.3k [00:00<?, ?B/s]"
      ]
     },
     "metadata": {},
     "output_type": "display_data"
    },
    {
     "data": {
      "application/vnd.jupyter.widget-view+json": {
       "model_id": "6637b93ed1e34c82869171d49baa826e",
       "version_major": 2,
       "version_minor": 0
      },
      "text/plain": [
       "test.tsv:   0%|          | 0.00/34.1k [00:00<?, ?B/s]"
      ]
     },
     "metadata": {},
     "output_type": "display_data"
    },
    {
     "data": {
      "application/vnd.jupyter.widget-view+json": {
       "model_id": "9ae368ef4c964cc8a639f103fa2f9663",
       "version_major": 2,
       "version_minor": 0
      },
      "text/plain": [
       "other.tsv:   0%|          | 0.00/454k [00:00<?, ?B/s]"
      ]
     },
     "metadata": {},
     "output_type": "display_data"
    },
    {
     "data": {
      "application/vnd.jupyter.widget-view+json": {
       "model_id": "f5e9974977454dd0bc771a6070ed0f35",
       "version_major": 2,
       "version_minor": 0
      },
      "text/plain": [
       "invalidated.tsv:   0%|          | 0.00/25.5k [00:00<?, ?B/s]"
      ]
     },
     "metadata": {},
     "output_type": "display_data"
    },
    {
     "data": {
      "application/vnd.jupyter.widget-view+json": {
       "model_id": "e4079973d1134288a0bd62d39ebfe0f2",
       "version_major": 2,
       "version_minor": 0
      },
      "text/plain": [
       "Generating train split: 0 examples [00:00, ? examples/s]"
      ]
     },
     "metadata": {},
     "output_type": "display_data"
    },
    {
     "name": "stderr",
     "output_type": "stream",
     "text": [
      "\n",
      "Reading metadata...: 192it [00:00, 61956.18it/s]\n"
     ]
    },
    {
     "data": {
      "application/vnd.jupyter.widget-view+json": {
       "model_id": "d859738d6ed944d69b03f0a603744153",
       "version_major": 2,
       "version_minor": 0
      },
      "text/plain": [
       "Generating validation split: 0 examples [00:00, ? examples/s]"
      ]
     },
     "metadata": {},
     "output_type": "display_data"
    },
    {
     "name": "stderr",
     "output_type": "stream",
     "text": [
      "\n",
      "Reading metadata...: 105it [00:00, 75089.84it/s]\n"
     ]
    },
    {
     "data": {
      "application/vnd.jupyter.widget-view+json": {
       "model_id": "f841bf7ad7ee479a9e660a56f4042244",
       "version_major": 2,
       "version_minor": 0
      },
      "text/plain": [
       "Generating test split: 0 examples [00:00, ? examples/s]"
      ]
     },
     "metadata": {},
     "output_type": "display_data"
    },
    {
     "name": "stderr",
     "output_type": "stream",
     "text": [
      "\n",
      "Reading metadata...: 131it [00:00, 69489.54it/s]\n"
     ]
    },
    {
     "data": {
      "application/vnd.jupyter.widget-view+json": {
       "model_id": "08c747ef93a247ff8fb3d58d0886b741",
       "version_major": 2,
       "version_minor": 0
      },
      "text/plain": [
       "Generating other split: 0 examples [00:00, ? examples/s]"
      ]
     },
     "metadata": {},
     "output_type": "display_data"
    },
    {
     "name": "stderr",
     "output_type": "stream",
     "text": [
      "\n",
      "Reading metadata...: 1746it [00:00, 71657.52it/s]\n"
     ]
    },
    {
     "data": {
      "application/vnd.jupyter.widget-view+json": {
       "model_id": "039990689e6240d58e002ba5e80a375c",
       "version_major": 2,
       "version_minor": 0
      },
      "text/plain": [
       "Generating invalidated split: 0 examples [00:00, ? examples/s]"
      ]
     },
     "metadata": {},
     "output_type": "display_data"
    },
    {
     "name": "stderr",
     "output_type": "stream",
     "text": [
      "\n",
      "Reading metadata...: 97it [00:00, 72161.67it/s]"
     ]
    },
    {
     "name": "stdout",
     "output_type": "stream",
     "text": [
      "샘플 수: 192\n"
     ]
    },
    {
     "name": "stderr",
     "output_type": "stream",
     "text": [
      "\n"
     ]
    }
   ],
   "source": [
    "#데이터셋 로딩(한국어 버전)\n",
    "from datasets import load_dataset\n",
    "\n",
    "dataset = load_dataset(\"mozilla-foundation/common_voice_13_0\", \"ko\", split=\"train\")\n",
    "print(f\"샘플 수: {len(dataset)}\")\n",
    "\n"
   ]
  },
  {
   "cell_type": "code",
   "execution_count": 5,
   "metadata": {},
   "outputs": [
    {
     "data": {
      "application/vnd.jupyter.widget-view+json": {
       "model_id": "685f40fba04a4dcfbf7638886b788022",
       "version_major": 2,
       "version_minor": 0
      },
      "text/plain": [
       "preprocessor_config.json:   0%|          | 0.00/185k [00:00<?, ?B/s]"
      ]
     },
     "metadata": {},
     "output_type": "display_data"
    },
    {
     "data": {
      "application/vnd.jupyter.widget-view+json": {
       "model_id": "1095eaae2a97495098e99ccc85a3969f",
       "version_major": 2,
       "version_minor": 0
      },
      "text/plain": [
       "tokenizer_config.json:   0%|          | 0.00/283k [00:00<?, ?B/s]"
      ]
     },
     "metadata": {},
     "output_type": "display_data"
    },
    {
     "data": {
      "application/vnd.jupyter.widget-view+json": {
       "model_id": "ace63749bc0048d3bddf130bfc9090b5",
       "version_major": 2,
       "version_minor": 0
      },
      "text/plain": [
       "vocab.json:   0%|          | 0.00/836k [00:00<?, ?B/s]"
      ]
     },
     "metadata": {},
     "output_type": "display_data"
    },
    {
     "data": {
      "application/vnd.jupyter.widget-view+json": {
       "model_id": "fbc663b69bbf4368aea77d7a0e6d6dbe",
       "version_major": 2,
       "version_minor": 0
      },
      "text/plain": [
       "tokenizer.json:   0%|          | 0.00/2.48M [00:00<?, ?B/s]"
      ]
     },
     "metadata": {},
     "output_type": "display_data"
    },
    {
     "data": {
      "application/vnd.jupyter.widget-view+json": {
       "model_id": "9da907e7450b46668090b9f235738938",
       "version_major": 2,
       "version_minor": 0
      },
      "text/plain": [
       "merges.txt:   0%|          | 0.00/494k [00:00<?, ?B/s]"
      ]
     },
     "metadata": {},
     "output_type": "display_data"
    },
    {
     "data": {
      "application/vnd.jupyter.widget-view+json": {
       "model_id": "98d35d3b637f46a3b444a2cc20175257",
       "version_major": 2,
       "version_minor": 0
      },
      "text/plain": [
       "normalizer.json:   0%|          | 0.00/52.7k [00:00<?, ?B/s]"
      ]
     },
     "metadata": {},
     "output_type": "display_data"
    },
    {
     "data": {
      "application/vnd.jupyter.widget-view+json": {
       "model_id": "45bede87f0bb494590633e12ca8b99cd",
       "version_major": 2,
       "version_minor": 0
      },
      "text/plain": [
       "added_tokens.json:   0%|          | 0.00/34.6k [00:00<?, ?B/s]"
      ]
     },
     "metadata": {},
     "output_type": "display_data"
    },
    {
     "data": {
      "application/vnd.jupyter.widget-view+json": {
       "model_id": "f947257bf6064bbba68df9efb9feed8d",
       "version_major": 2,
       "version_minor": 0
      },
      "text/plain": [
       "special_tokens_map.json:   0%|          | 0.00/2.19k [00:00<?, ?B/s]"
      ]
     },
     "metadata": {},
     "output_type": "display_data"
    }
   ],
   "source": [
    "#Whisper 전처리기 설정(small 모델 사용)\n",
    "from transformers import WhisperFeatureExtractor, WhisperTokenizer, WhisperProcessor\n",
    "\n",
    "checkpoint = \"openai/whisper-small\"\n",
    "\n",
    "feature_extractor = WhisperFeatureExtractor.from_pretrained(checkpoint)\n",
    "tokenizer = WhisperTokenizer.from_pretrained(checkpoint, language=\"ko\", task=\"transcribe\")\n",
    "processor = WhisperProcessor.from_pretrained(checkpoint, language=\"ko\", task=\"transcribe\")"
   ]
  },
  {
   "cell_type": "code",
   "execution_count": 6,
   "metadata": {},
   "outputs": [
    {
     "data": {
      "application/vnd.jupyter.widget-view+json": {
       "model_id": "39556969f5a140ea88c3f68bca0bdc63",
       "version_major": 2,
       "version_minor": 0
      },
      "text/plain": [
       "Map:   0%|          | 0/192 [00:00<?, ? examples/s]"
      ]
     },
     "metadata": {},
     "output_type": "display_data"
    }
   ],
   "source": [
    "#전처리 함수 정의 및 적용\n",
    "def prepare_dataset(batch):\n",
    "    # 1. 오디오 → 입력 특징 추출\n",
    "    audio = batch[\"audio\"][\"array\"]\n",
    "    batch[\"input_features\"] = feature_extractor(audio, sampling_rate=16000).input_features[0]\n",
    "\n",
    "    # 2. 텍스트 → 라벨 토큰 ID\n",
    "    batch[\"labels\"] = tokenizer(batch[\"sentence\"]).input_ids\n",
    "    return batch\n",
    "\n",
    "processed_dataset = dataset.map(prepare_dataset, remove_columns=dataset.column_names)"
   ]
  },
  {
   "cell_type": "code",
   "execution_count": 7,
   "metadata": {},
   "outputs": [
    {
     "data": {
      "application/vnd.jupyter.widget-view+json": {
       "model_id": "dadbdc2651184110aa511172cc881c4f",
       "version_major": 2,
       "version_minor": 0
      },
      "text/plain": [
       "config.json:   0%|          | 0.00/1.97k [00:00<?, ?B/s]"
      ]
     },
     "metadata": {},
     "output_type": "display_data"
    },
    {
     "data": {
      "application/vnd.jupyter.widget-view+json": {
       "model_id": "32840c1af3774e8ba7a5830c3a943184",
       "version_major": 2,
       "version_minor": 0
      },
      "text/plain": [
       "model.safetensors:   0%|          | 0.00/967M [00:00<?, ?B/s]"
      ]
     },
     "metadata": {},
     "output_type": "display_data"
    },
    {
     "data": {
      "application/vnd.jupyter.widget-view+json": {
       "model_id": "2f08aba250154a04813b0db9cc30a4fb",
       "version_major": 2,
       "version_minor": 0
      },
      "text/plain": [
       "generation_config.json:   0%|          | 0.00/3.87k [00:00<?, ?B/s]"
      ]
     },
     "metadata": {},
     "output_type": "display_data"
    }
   ],
   "source": [
    "#모델 로드\n",
    "from transformers import WhisperForConditionalGeneration\n",
    "\n",
    "model = WhisperForConditionalGeneration.from_pretrained(checkpoint)"
   ]
  },
  {
   "cell_type": "code",
   "execution_count": 8,
   "metadata": {},
   "outputs": [],
   "source": [
    "#Whisper 전용 collator정의\n",
    "from dataclasses import dataclass\n",
    "from typing import Any, Dict, List, Union\n",
    "import torch\n",
    "\n",
    "@dataclass\n",
    "class DataCollatorWhisperWithPadding:\n",
    "    processor: Any\n",
    "    padding: Union[bool, str] = True\n",
    "\n",
    "    def __call__(self, features: List[Dict[str, Any]]) -> Dict[str, Any]:\n",
    "        input_features = [{\"input_features\": f[\"input_features\"]} for f in features]\n",
    "        label_features = [{\"input_ids\": f[\"labels\"]} for f in features]\n",
    "\n",
    "        batch = self.processor.feature_extractor.pad(input_features, return_tensors=\"pt\")\n",
    "        labels_batch = self.processor.tokenizer.pad(label_features, return_tensors=\"pt\")\n",
    "\n",
    "        labels = labels_batch[\"input_ids\"].masked_fill(labels_batch.attention_mask.ne(1), -100)\n",
    "        batch[\"labels\"] = labels\n",
    "\n",
    "        return batch\n"
   ]
  },
  {
   "cell_type": "code",
   "execution_count": 9,
   "metadata": {},
   "outputs": [],
   "source": [
    "#collator 인스턴스 생성\n",
    "data_collator = DataCollatorWhisperWithPadding(processor=processor)"
   ]
  },
  {
   "cell_type": "code",
   "execution_count": 10,
   "metadata": {},
   "outputs": [],
   "source": [
    "#TrainingArguments 설정\n",
    "from transformers import TrainingArguments\n",
    "\n",
    "training_args = TrainingArguments(\n",
    "    output_dir=\"/content/drive/MyDrive/WhisperCheckpoints/ko_run1\",  # ✅ 드라이브에 저장\n",
    "    per_device_train_batch_size=4,\n",
    "    learning_rate=1e-5,\n",
    "    num_train_epochs=3,\n",
    "    logging_steps=10,\n",
    "    save_strategy=\"epoch\",     # ✅ 매 epoch 저장\n",
    "    fp16=True,\n",
    "    report_to=\"none\"\n",
    ")"
   ]
  },
  {
   "cell_type": "code",
   "execution_count": 11,
   "metadata": {},
   "outputs": [
    {
     "name": "stderr",
     "output_type": "stream",
     "text": [
      "<ipython-input-11-456a5ce04e1f>:4: FutureWarning: `tokenizer` is deprecated and will be removed in version 5.0.0 for `Trainer.__init__`. Use `processing_class` instead.\n",
      "  trainer = Trainer(\n"
     ]
    }
   ],
   "source": [
    "#Trainer 구성\n",
    "from transformers import Trainer\n",
    "\n",
    "trainer = Trainer(\n",
    "    model=model,\n",
    "    args=training_args,\n",
    "    train_dataset=processed_dataset,\n",
    "    tokenizer=processor,\n",
    "    data_collator=data_collator\n",
    ")"
   ]
  },
  {
   "cell_type": "code",
   "execution_count": 12,
   "metadata": {},
   "outputs": [
    {
     "name": "stderr",
     "output_type": "stream",
     "text": [
      "Passing a tuple of `past_key_values` is deprecated and will be removed in Transformers v4.43.0. You should pass an instance of `EncoderDecoderCache` instead, e.g. `past_key_values=EncoderDecoderCache.from_legacy_cache(past_key_values)`.\n"
     ]
    },
    {
     "data": {
      "text/html": [
       "\n",
       "    <div>\n",
       "      \n",
       "      <progress value='144' max='144' style='width:300px; height:20px; vertical-align: middle;'></progress>\n",
       "      [144/144 03:34, Epoch 3/3]\n",
       "    </div>\n",
       "    <table border=\"1\" class=\"dataframe\">\n",
       "  <thead>\n",
       " <tr style=\"text-align: left;\">\n",
       "      <th>Step</th>\n",
       "      <th>Training Loss</th>\n",
       "    </tr>\n",
       "  </thead>\n",
       "  <tbody>\n",
       "    <tr>\n",
       "      <td>10</td>\n",
       "      <td>5.661800</td>\n",
       "    </tr>\n",
       "    <tr>\n",
       "      <td>20</td>\n",
       "      <td>4.268800</td>\n",
       "    </tr>\n",
       "    <tr>\n",
       "      <td>30</td>\n",
       "      <td>3.620900</td>\n",
       "    </tr>\n",
       "    <tr>\n",
       "      <td>40</td>\n",
       "      <td>2.399200</td>\n",
       "    </tr>\n",
       "    <tr>\n",
       "      <td>50</td>\n",
       "      <td>1.869900</td>\n",
       "    </tr>\n",
       "    <tr>\n",
       "      <td>60</td>\n",
       "      <td>1.277900</td>\n",
       "    </tr>\n",
       "    <tr>\n",
       "      <td>70</td>\n",
       "      <td>1.256700</td>\n",
       "    </tr>\n",
       "    <tr>\n",
       "      <td>80</td>\n",
       "      <td>1.130600</td>\n",
       "    </tr>\n",
       "    <tr>\n",
       "      <td>90</td>\n",
       "      <td>0.993600</td>\n",
       "    </tr>\n",
       "    <tr>\n",
       "      <td>100</td>\n",
       "      <td>0.904200</td>\n",
       "    </tr>\n",
       "    <tr>\n",
       "      <td>110</td>\n",
       "      <td>0.651500</td>\n",
       "    </tr>\n",
       "    <tr>\n",
       "      <td>120</td>\n",
       "      <td>0.572400</td>\n",
       "    </tr>\n",
       "    <tr>\n",
       "      <td>130</td>\n",
       "      <td>0.532100</td>\n",
       "    </tr>\n",
       "    <tr>\n",
       "      <td>140</td>\n",
       "      <td>0.586500</td>\n",
       "    </tr>\n",
       "  </tbody>\n",
       "</table><p>"
      ],
      "text/plain": [
       "<IPython.core.display.HTML object>"
      ]
     },
     "metadata": {},
     "output_type": "display_data"
    },
    {
     "name": "stderr",
     "output_type": "stream",
     "text": [
      "/usr/local/lib/python3.11/dist-packages/transformers/modeling_utils.py:3339: UserWarning: Moving the following attributes in the config to the generation config: {'max_length': 448, 'suppress_tokens': [1, 2, 7, 8, 9, 10, 14, 25, 26, 27, 28, 29, 31, 58, 59, 60, 61, 62, 63, 90, 91, 92, 93, 359, 503, 522, 542, 873, 893, 902, 918, 922, 931, 1350, 1853, 1982, 2460, 2627, 3246, 3253, 3268, 3536, 3846, 3961, 4183, 4667, 6585, 6647, 7273, 9061, 9383, 10428, 10929, 11938, 12033, 12331, 12562, 13793, 14157, 14635, 15265, 15618, 16553, 16604, 18362, 18956, 20075, 21675, 22520, 26130, 26161, 26435, 28279, 29464, 31650, 32302, 32470, 36865, 42863, 47425, 49870, 50254, 50258, 50360, 50361, 50362], 'begin_suppress_tokens': [220, 50257]}. You are seeing this warning because you've set generation parameters in the model config, as opposed to in the generation config.\n",
      "  warnings.warn(\n"
     ]
    },
    {
     "data": {
      "text/plain": [
       "TrainOutput(global_step=144, training_loss=1.8044688353935878, metrics={'train_runtime': 217.5964, 'train_samples_per_second': 2.647, 'train_steps_per_second': 0.662, 'total_flos': 1.6622519058432e+17, 'train_loss': 1.8044688353935878, 'epoch': 3.0})"
      ]
     },
     "execution_count": 12,
     "metadata": {},
     "output_type": "execute_result"
    }
   ],
   "source": [
    "#모델 학습 시작\n",
    "trainer.train()"
   ]
  },
  {
   "cell_type": "code",
   "execution_count": 13,
   "metadata": {},
   "outputs": [],
   "source": [
    "#예측 시작 전에 저장\n",
    "trainer.save_model(\"/content/drive/MyDrive/WhisperCheckpoints/ko_run1_final\")"
   ]
  },
  {
   "cell_type": "markdown",
   "metadata": {
    "id": "5CsoL_W3jfv5"
   },
   "source": [
    "- global_step=144,#총 144step 학습함(즉, 배치 144번)\n",
    "- training_loss=1.8044688353935878,\n",
    "- 'train_runtime': 217.5964, #전체 학습 시간\n",
    "- 'train_samples_per_second': 2.647, #초당 처리된 샘플 수\n",
    "- 'train_steps_per_second': 0.662, #초당 학습 스텝 수\n",
    "- 'total_flos': 1.6622519058432e+17,#부동소수점 연산량, 성능보다는 학습 규모 추정용임\n",
    "- 'train_loss': 1.8044688353935878, #학습이 끝났을 때 모델이 예측한 값과 실제 정답 간의 평균 오차값\n",
    "- 'epoch': 3.0 #전체 데이터를 3번 반복\n"
   ]
  },
  {
   "cell_type": "code",
   "execution_count": 14,
   "metadata": {},
   "outputs": [
    {
     "name": "stderr",
     "output_type": "stream",
     "text": [
      "\r",
      "  0%|          | 0/192 [00:00<?, ?it/s]Due to a bug fix in https://github.com/huggingface/transformers/pull/28687 transcription using a multilingual Whisper will default to language detection followed by transcription instead of translation to English.This might be a breaking change for your use case. If you want to instead always translate your audio to English, make sure to pass `language='en'`.\n",
      "The attention mask is not set and cannot be inferred from input because pad token is same as eos token. As a consequence, you may observe unexpected behavior. Please pass your input's `attention_mask` to obtain reliable results.\n",
      "100%|██████████| 192/192 [11:29<00:00,  3.59s/it]"
     ]
    },
    {
     "name": "stdout",
     "output_type": "stream",
     "text": [
      "\n",
      "✅ 전체 WER (Word Error Rate): 1.2851\n",
      "\n",
      "📋 예측 결과 전체 비교:\n",
      "\n",
      "🔹 예측 1: 아무아 그다운 발월도 하루를 남기고 다 지나 버렸다.\n",
      "🔸 정답 1: 어느덧 그 더운 팔월도 하루를 남기고 다 지나 버렸다.\n",
      "\n",
      "🔹 예측 2:  ឍ្្្្្្្្្្្្្្្្្្្្្្្្\n",
      "🔸 정답 2: 근자에 춘우의 동료 사이에는 이상한 소문이 돌아다니었다.\n",
      "\n",
      "🔹 예측 3:  ឍ្្្្្្្្្្្្្្្្្្្្្្្្្្\n",
      "🔸 정답 3: 재차 부르는 소리를 듣고야 선비는 발길을 떼었다.\n",
      "\n",
      "🔹 예측 4: 그의 발갛을 찾아나 봤으면 되는 것 아니냐.\n",
      "🔸 정답 4: 그애의 말값으로 찾아나 봤으면 되는 것 아니냐.\n",
      "\n",
      "🔹 예측 5: 그가 방으로 들어오니 간난이가 와서 그의 하던 일을 하고 있었다.\n",
      "🔸 정답 5: 그가 방으로 들어오니 간난이가 와서 그의 하던 일을 하고 있었다.\n",
      "\n",
      "🔹 예측 6:  ឍ្្្្្\n",
      "🔸 정답 6: 안녕히 다녀옵시요.\n",
      "\n",
      "🔹 예측 7:  ឡឡឡឡឡឡឡឡឡឡឡឡឡឡឡឡឡឡឡឡឡឡឡឡឡ\n",
      "🔸 정답 7: 어떻게 무엇부터 시작을 해야 할는지 엄두가 나지를 않아서 잠을 잘 수가 없었다.\n",
      "\n",
      "🔹 예측 8:  ឍ្្្្្្្្្្្្្្្្្្\n",
      "🔸 정답 8: 죽는 날까지 하늘을 우러러\n",
      "\n",
      "🔹 예측 9:  ឍឍឍឍឍឍឍឍឍឍឍឍឍឍឍឍឍឍឍឍឍឍឍឍឍឍឍឍឍឍឍឍឍឍឍឍឍឍឍឍឍឍឍឍឍឍឍឍឍឍឍឍឍឍឍឍឍឍឍឍឍឍឍឍឍឍឍឍឍឍឍឍឍឍឍឍឍឍឍឍឍឍឍឍឍឍឍឍឍឍឍឍឍឍឍឍឍឍឍឍឍឍឍឍឍឍឍឍឍឍឍឍឍឍឍឍឍឍឍឍឍឍឍឍឍឍឍឍឍឍឍឍឍឍឍឍឍឍឍឍឍឍឍឍឍឍឍឍ\n",
      "🔸 정답 9: 그리고 그 어두운 방 안이 휙 지나친다.\n",
      "\n",
      "🔹 예측 10: ತಿತಿತಿತಿತಿತಿತಿತಿತಿತಿತಿತಿತಿತಿತಿತಿತಿತಿತಿತಿತಿತಿತಿತಿತಿತಿತಿತಿತಿತಿತಿತಿತಿತಿತಿತಿತಿತಿತಿತಿತಿತಿತಿತಿತಿತಿತಿತಿತಿತಿತಿತಿತಿತಿತಿತಿತಿತಿತಿತಿತಿತಿತಿತತಿತತಿತಿತತಿತತಿತತಿತತಿತಿತತಿತತಿತತಿತತಿತತಿತತಿತತಿತತಿತತಿತತತಿತತತಿತತತಿತತತತತತತತತತತತತತತತತತತತತತತತತತತತತತತತತತತ\n",
      "🔸 정답 10: 왜 눈을 바루 뜨지 못해!\n",
      "\n",
      "🔹 예측 11:  ឍឍឍឍឍឍឍឍឍឍឍឍឍឍឍឍឍឍឍឍឍឍឍឍឍឍឍឍឍឍឍឍឍឍឍឍឍឍឍឍឍឍឍឍឍឍឍឍឍឍឍឍឍឍឍឍឍឍឍឍឍឍឍឍឍឍឍឍឍឍឍឍឍឍឍឍឍឍឍឍឍឍឍឍឍឍឍឍឍឍឍឍឍឍឍឍឍឍឍឍឍឍឍឍឍឍឍឍឍឍឍឍឍឍឍឍឍឍឍឍឍឍឍឍឍឍឍឍឍឍឍឍឍឍឍឍឍឍឍឍឍឍឍឍឍឍឍឍ\n",
      "🔸 정답 11: 영신은 바라던 대로 바닷가 한가한 집에서 편안히 쉴 수가 있었다.\n",
      "\n",
      "🔹 예측 12:  ឍឍឍឍឍឍឍឍឍឍឍឍឍឍឍឍឍឍឍឍឍឍឍឍឍឍឍឍឍឍឍឍឍឍឍឍឍឍឍឍឍឍឍឍឍឍឍឍឍឍឍឍឍឍឍឍឍឍឍឍឍឍឍឍឍឍឍឍឍឍឍឍឍឍឍឍឍឍឍឍឍឍឍឍឍឍឍឍឍឍឍឍឍឍឍឍឍឍឍឍឍឍឍឍឍឍឍឍឍឍឍឍឍឍឍឍឍឍឍឍឍឍឍឍឍឍឍឍឍឍឍឍឍឍឍឍឍឍឍឍឍឍឍឍឍឍឍឍ\n",
      "🔸 정답 12: 잡을 수 없는 저 하늘의 별도 잡자.\n",
      "\n",
      "🔹 예측 13:  ឍឍឍឍឍឍឍឍឍឍឍឍឍឍឍឍឍឍឍឍឍឍឍឍឍឍឍឍឍឍឍឍឍឍឍឍឍឍឍឍឍឍឍឍឍឍឍឍឍឍឍឍឍឍឍឍឍឍឍឍឍឍឍឍឍឍឍឍឍឍឍឍឍឍឍឍឍឍឍឍឍឍឍឍឍឍឍឍឍឍឍឍឍឍឍឍឍឍឍឍឍឍឍឍឍឍឍឍឍឍឍឍឍឍឍឍឍឍឍឍឍឍឍឍឍឍឍឍឍឍឍឍឍឍឍឍឍឍឍឍឍឍឍឍឍឍឍឍ\n",
      "🔸 정답 13: 하고, 목메인 소리가 뒤를 따랐다.\n",
      "\n",
      "🔹 예측 14:  ឍឍឍឍឍឍឍឍឍឍឍឍឍឍឍឍឍឍឍឍឍឍឍឍឍឍឍឍឍឍឍឍឍឍឍឍឍឍឍឍឍឍឍឍឍឍឍឍឍឍឍឍឍឍឍឍឍឍឍឍឍឍឍឍឍឍឍឍឍឍឍឍឍឍឍឍឍឍឍឍឍឍឍឍឍឍឍឍឍឍឍឍឍឍឍឍឍឍឍឍឍឍឍឍឍឍឍឍឍឍឍឍឍឍឍឍឍឍឍឍឍឍឍឍឍឍឍឍឍឍឍឍឍឍឍឍឍឍឍឍឍឍឍឍឍឍឍឍ\n",
      "🔸 정답 14: 그리고 그의 하던 말을 곰곰이 되풀이하였다.\n",
      "\n",
      "🔹 예측 15:  ឍឍឍឍឍឍឍឍឍឍឍឍឍឍឍឍឍឍឍឍឍឍឍឍឍឍឍឍឍឍឍឍឍឍឍឍឍឍឍឍឍឍឍឍឍឍឍឍឍឍឍឍឍឍឍឍឍឍឍឍឍឍឍឍឍឍឍឍឍឍឍឍឍឍឍឍឍឍឍឍឍឍឍឍឍឍឍឍឍឍឍឍឍឍឍឍឍឍឍឍឍឍឍឍឍឍឍឍឍឍឍឍឍឍឍឍឍឍឍឍឍឍឍឍឍឍឍឍឍឍឍឍឍឍឍឍឍឍឍឍឍឍឍឍឍឍឍឍ\n",
      "🔸 정답 15: 영원한 것이 어디 있는가?\n",
      "\n",
      "🔹 예측 16:  ឍឍឍឍឍឍឍឍឍឍឍឍឍឍឍឍឍឍឍឍឍឍឍឍឍឍឍឍឍឍឍឍឍឍឍឍឍឍឍឍឍឍឍឍឍឍឍឍឍឍឍឍឍឍឍឍឍឍឍឍឍឍឍឍឍឍឍឍឍឍឍឍឍឍឍឍឍឍឍឍឍឍឍឍឍឍឍឍឍឍឍឍឍឍឍឍឍឍឍឍឍឍឍឍឍឍឍឍឍឍឍឍឍឍឍឍឍឍឍឍឍឍឍឍឍឍឍឍឍឍឍឍឍឍឍឍឍឍឍឍឍឍឍឍឍឍឍឍ\n",
      "🔸 정답 16: 그것은 예수가 십자가에 못박히며 최후로 부르짖은 말이었다.\n",
      "\n",
      "🔹 예측 17:  ឡឡឡឡឡឡឡឡឡឡឡឡឡឡ\n",
      "🔸 정답 17: 그 틈에 그 짐짝은 딴놈이 메고 달아난다.\n",
      "\n",
      "🔹 예측 18: 그는 이러한 생각을 되풀이하는 새 벌써 간난네 집까지 왔다.\n",
      "🔸 정답 18: 그는 이러한 생각을 되풀이하는 새 벌써 간난네 집까지 왔다.\n",
      "\n",
      "🔹 예측 19: 경식 떨어진 사람이 보릿고개를 넘기는 것만치 나 까마아 특한 것 같습니다.\n",
      "🔸 정답 19: 양식 떨어진 사람이 보릿고개를 넘기는것만치 나 까마아득한 것 같습니다.\n",
      "\n",
      "🔹 예측 20:  ඇතාන්න්න්න්න්න්න්න්න්න්න්න්න්න්න්න්න්න්න්න්න්න්න්න්න්න්න්න්න්න්න්න්න්න්න්න්න්න්න්න්න්න්න්න්න්න්න්න්න්න්න්න්න්න්න්න්න්න්න්න්න්න්න්න්න්න්න්න්න්න්න්න්න්න්න්න්න්න්න්න්න්න්න්න්න්න්න්න්න්න්න්න්න්න්න්න්න්න්න්න්න්න්න්න්න්න්න්න්න්න\n",
      "🔸 정답 20: 그래서 그는 억지로 웃어 보이고 말았다.\n",
      "\n",
      "🔹 예측 21:  ឍឍឍឍឍឍឍឍឍឍឍឍឍឍឍឍឍឍឍឍឍឍឍឍឍឍឍឍឍឍឍឍឍឍឍឍឍឍឍឍឍឍឍឍឍឍឍឍឍឍឍឍឍឍឍឍឍឍឍឍឍឍឍឍឍឍឍឍឍឍឍឍឍឍឍឍឍឍឍឍឍឍឍឍឍឍឍឍឍឍឍឍឍឍឍឍឍឍឍឍឍឍឍឍឍឍឍឍឍឍឍឍឍឍឍឍឍឍឍឍឍឍឍឍឍឍឍឍឍឍឍឍឍឍឍឍឍឍឍឍឍឍឍឍឍឍឍឍ\n",
      "🔸 정답 21: 연해 꾸짖으며 질팡갈팡 뛰는 수밖에 없었다.\n",
      "\n",
      "🔹 예측 22:  ឍឍឍឍឍឍឍឍឍឍឍឍឍឍឍឍឍឍឍឍឍឍឍឍឍឍឍឍឍឍឍឍឍឍឍឍឍឍឍឍឍឍឍឍឍឍឍឍឍឍឍឍឍឍឍឍឍឍឍឍឍឍឍឍឍឍឍឍឍឍឍឍឍឍឍឍឍឍឍឍឍឍឍឍឍឍឍឍឍឍឍឍឍឍឍឍឍឍឍឍឍឍឍឍឍឍឍឍឍឍឍឍឍឍឍឍឍឍឍឍឍឍឍឍឍឍឍឍឍឍឍឍឍឍឍឍឍឍឍឍឍឍឍឍឍឍឍឍ\n",
      "🔸 정답 22: 영신을 눕히고 자세히 진찰을 해본다.\n",
      "\n",
      "🔹 예측 23:  ឡ្្្្្្្្្្\n",
      "🔸 정답 23: 몇 시 퇴근하려고?\n",
      "\n",
      "🔹 예측 24: 국회는 의원의 자격을 심사하며 의원을 징계할 수 있다.\n",
      "🔸 정답 24: 국회는 의원의 자격을 심사하며, 의원을 징계할 수 있다.\n",
      "\n",
      "🔹 예측 25:  ឍឍឍឍឍឍឍឍឍឍឍឍឍឍឍឍឍឍឍឍឍឍឍឍឍឍឍឍឍឍឍឍឍឍឍឍឍឍឍឍឍឍឍឍឍឍឍឍឍឍឍឍឍឍឍឍឍឍឍឍឍឍឍឍឍឍឍឍឍឍឍឍឍឍឍឍឍឍឍឍឍឍឍឍឍឍឍឍឍឍឍឍឍឍឍឍឍឍឍឍឍឍឍឍឍឍឍឍឍឍឍឍឍឍឍឍឍឍឍឍឍឍឍឍឍឍឍឍឍឍឍឍឍឍឍឍឍឍឍឍឍឍឍឍឍឍឍឍ\n",
      "🔸 정답 25: 아담이 모든 육축과 공중의 새와 들의 모든 짐승에게 이름을 주니라\n",
      "\n",
      "🔹 예측 26:  ឡឡឡឡឡឡឡឡឡឡឡឡឡឡឡឡឡឡឡឡឡឡឡឡឡឡឡឡ\n",
      "🔸 정답 26: 그 뒤로 게 딱지 같은 집들이 오글오글 쫓겨서 몰려들어 간다.\n",
      "\n",
      "🔹 예측 27: 그리고 그의 옷이 땀에 비하 어린 어린 어린하니 만난 것일 것 같다.\n",
      "🔸 정답 27: 그리고 그의 옷이 땀에 배어 어룽어룽하니 말라진 것을 보았다.\n",
      "\n",
      "🔹 예측 28: 춘우는 자기 아버지가 약주 취하신 것을 알았다.\n",
      "🔸 정답 28: 춘우는 자기 아버지가 약주 취하신 것을 알았다.\n",
      "\n",
      "🔹 예측 29:  ឍឍឍឍឍឍឍឍឍឍឍឍឍឍឍឍឍឍឍឍឍឍឍឍឍឍឍឍឍឍឍឍឍឍឍឍឍឍឍឍឍឍឍឍឍឍឍឍឍឍឍឍឍឍឍឍឍឍឍឍឍឍឍឍឍឍឍឍឍឍឍឍឍឍឍឍឍឍឍឍឍឍឍឍឍឍឍឍឍឍឍឍឍឍឍឍឍឍឍឍឍឍឍឍឍឍឍឍឍឍឍឍឍឍឍឍឍឍឍឍឍឍឍឍឍឍឍឍឍឍឍឍឍឍឍឍឍឍឍឍឍឍឍឍឍឍឍឍ\n",
      "🔸 정답 29: 찌르릉 하고 창자에 퍼지며 얼굴이 화끈하였다.\n",
      "\n",
      "🔹 예측 30:  ឍឍឍឍឍឍឍឍឍឍឍឍឍឍឍឍឍឍឍឍឍឍឍឍឍឍឍឍឍឍឍឍឍឍឍឍឍឍឍឍឍឍឍឍឍឍឍឍឍឍឍឍឍឍឍឍឍឍឍឍឍឍឍឍឍឍឍឍឍឍឍឍឍឍឍឍឍឍឍឍឍឍឍឍឍឍឍឍឍឍឍឍឍឍឍឍឍឍឍឍឍឍឍឍឍឍឍឍឍឍឍឍឍឍឍឍឍឍឍឍឍឍឍឍឍឍឍឍឍឍឍឍឍឍឍឍឍឍឍឍឍឍឍឍឍឍឍឍ\n",
      "🔸 정답 30: 바람은 파도 소리처럼 쏴아쏴아 하고 머리 맡에서 뒤설렌다.\n",
      "\n",
      "🔹 예측 31:  ឍឍឍឍឍឍឍឍឍឍឍឍឍឍឍឍឍឍឍឍឍឍឍឍឍឍឍឍឍឍឍឍឍឍឍឍឍឍឍឍឍឍឍឍឍឍឍឍឍឍឍឍឍឍឍឍឍឍឍឍឍឍឍឍឍឍឍឍឍឍឍឍឍឍឍឍឍឍឍឍឍឍឍឍឍឍឍឍឍឍឍឍឍឍឍឍឍឍឍឍឍឍឍឍឍឍឍឍឍឍឍឍឍឍឍឍឍឍឍឍឍឍឍឍឍឍឍឍឍឍឍឍឍឍឍឍឍឍឍឍឍឍឍឍឍឍឍឍ\n",
      "🔸 정답 31: 춘우에게 이 모든 사정의 말을 하여 버릴까.\n",
      "\n",
      "🔹 예측 32:  ឍឍឍឍឍឍឍឍឍឍឍឍឍឍឍឍឍឍឍឍឍឍឍឍឍឍឍឍឍឍឍឍឍឍឍឍឍឍឍឍឍឍឍឍឍឍឍឍឍឍឍឍឍឍឍឍឍឍឍឍឍឍឍឍឍឍឍឍឍឍឍឍឍឍឍឍឍឍឍឍឍឍឍឍឍឍឍឍឍឍឍឍឍឍឍឍឍឍឍឍឍឍឍឍឍឍឍឍឍឍឍឍឍឍឍឍឍឍឍឍឍឍឍឍឍឍឍឍឍឍឍឍឍឍឍឍឍឍឍឍឍឍឍឍឍឍឍឍ\n",
      "🔸 정답 32: 길 가는 사람이 걱정을 하리만큼 그의 걸음은 황급하였다.\n",
      "\n",
      "🔹 예측 33: 선비는 간난이가 저렇게 늦게 들어올 때마다 무엇을 깊이 생각하는 것이 선수였다.\n",
      "🔸 정답 33: 선비는 간난이가 저렇게 늦게 돌아올 때마다 무엇을 깊이 생각하는 것이 수상스러웠다.\n",
      "\n",
      "🔹 예측 34: 그는 아름답게 정식되었습니다.\n",
      "🔸 정답 34: 부엌은 아름답게 장식되었습니다.\n",
      "\n",
      "🔹 예측 35:  ឍṭṭṭṭṭṭṭṭṭṭṭṭṭṭṭṭṭṭṭṭṭṭṭṭṭṭṭṭṭṭṭṭṭṭṭṭṭṭṭṭṭṭṭṭṭṭṭṭṭṭṭṭṭṭṭṭṭṭṭṭṭṭṭṭṭṭṭṭṭṭṭṭṭṭṭṭṭṭṭṭṭṭṭṭṭṭṭṭṭṭṭṭṭṭṭṭṭṭṭṭṭṭṭṭṭṭṭṭṭṭṭṭṭṭṭṭṭṭṭṭṭṭṭṭṭṭṭṭṭṭṭṭṭṭṭṭṭṭṭṭṭṭṭṭṭṭṭṭṭṭṭṭṭṭṭṭṭṭṭṭṭṭṭṭṭṭṭṭṭṭṭṭṭṭṭṭṭṭṭṭṭṭṭṭṭṭṭṭṭṭṭṭṭṭṭṭṭṭṭṭṭṭṭṭṭṭṭṭṭṭṭṭṭṭṭṭṭṭṭṭ�\n",
      "🔸 정답 35: 신철이는 할멈이 깨었으므로 그만 낙망을 하였다.\n",
      "\n",
      "🔹 예측 36:  ឍឍឍឍឍឍឍឍឍឍឍឍឍឍឍឍឍឍឍឍឍឍឍឍឍឍឍឍឍឍឍឍឍឍឍឍឍឍឍឍឍឍឍឍឍឍឍឍឍឍឍឍឍឍឍឍឍឍឍឍឍឍឍឍឍឍឍឍឍឍឍឍឍឍឍឍឍឍឍឍឍឍឍឍឍឍឍឍឍឍឍឍឍឍឍឍឍឍឍឍឍឍឍឍឍឍឍឍឍឍឍឍឍឍឍឍឍឍឍឍឍឍឍឍឍឍឍឍឍឍឍឍឍឍឍឍឍឍឍឍឍឍឍឍឍឍឍឍ\n",
      "🔸 정답 36: 납작한 얼굴을 쳐들고 첫째의 눈치를 살살 본다.\n",
      "\n",
      "🔹 예측 37: 아담과 그 아내가 여호와 하나님의 나칠 피아의 동산 나무 사이를 숨은지라\n",
      "🔸 정답 37: 아담과 그 아내가 여호와 하나님의 낯을 피하여 동산 나무 사이에 숨은지라\n",
      "\n",
      "🔹 예측 38: 나는 두 번째 그에게 부르습니다.\n",
      "🔸 정답 38: 나는 두 번째 그에게 물었습니다.\n",
      "\n",
      "🔹 예측 39:  ឍ្្្្្្្្\n",
      "🔸 정답 39: 무소식이 희소식이다\n",
      "\n",
      "🔹 예측 40:  ឍឍឍឍឍឍឍឍឍឍឍឍឍឍឍឍឍឍឍឍឍឍឍឍឍឍឍឍឍឍឍឍឍឍឍឍឍឍឍឍឍឍឍឍឍឍឍឍឍឍឍឍឍឍឍឍឍឍឍឍឍឍឍឍឍឍឍឍឍឍឍឍឍឍឍឍឍឍឍឍឍឍឍឍឍឍឍឍឍឍឍឍឍឍឍឍឍឍឍឍឍឍឍឍឍឍឍឍឍឍឍឍឍឍឍឍឍឍឍឍឍឍឍឍឍឍឍឍឍឍឍឍឍឍឍឍឍឍឍឍឍឍឍឍឍឍឍឍ\n",
      "🔸 정답 40: 그는 대답 대신에 늘 이렇게 웃는 것이 버릇이다.\n",
      "\n",
      "🔹 예측 41:  ឍឍឍឍឍឍឍឍឍឍឍឍឍឍឍឍឍឍឍឍឍឍឍឍឍឍឍឍឍឍឍឍឍឍឍឍឍឍឍឍឍឍឍឍឍឍឍឍឍឍឍឍឍឍឍឍឍឍឍឍឍឍឍឍឍឍឍឍឍឍឍឍឍឍឍឍឍឍឍឍឍឍឍឍឍឍឍឍឍឍឍឍឍឍឍឍឍឍឍឍឍឍឍឍឍឍឍឍឍឍឍឍឍឍឍឍឍឍឍឍឍឍឍឍឍឍឍឍឍឍឍឍឍឍឍឍឍឍឍឍឍឍឍឍឍឍឍឍ\n",
      "🔸 정답 41: 대저 너희가 지식을 미워하며 여호와 경외하기를 즐거워하지 아니하며\n",
      "\n",
      "🔹 예측 42: 경기 시작됐습니다.\n",
      "🔸 정답 42: 경기 시작됐습니다.\n",
      "\n",
      "🔹 예측 43: 선비는 육백삼호인 가마 곁으로 와서 동무의 어깨를 아붙게 쳤다.\n",
      "🔸 정답 43: 선비는 육백삼호인 가마 곁으로 와서 동무의 어깨를 가볍게 쳤다.\n",
      "\n",
      "🔹 예측 44: 그래서 간난 어머니는 눈을 둥그렇게 뜨고 눈치를 살펴다.\n",
      "🔸 정답 44: 그래서 간난 어머니는 눈을 둥그렇게 뜨고 눈치를 살폈다.\n",
      "\n",
      "🔹 예측 45: 그러자 엉엉하고 오는 개똥이의 목소리를 들은 듯 싶다.\n",
      "🔸 정답 45: 그러자 엉엉 하고 우는 개똥이의 곡성을 들은 듯싶다.\n",
      "\n",
      "🔹 예측 46:  ឍឍឍឍឍឍឍឍឍឍឍឍឍឍឍឍឍឍឍឍឍឍឍឍឍឍឍឍឍឍឍឍឍឍឍឍឍឍឍឍឍឍឍឍឍឍឍឍឍឍឍឍឍឍឍឍឍឍឍឍឍឍឍឍឍឍឍឍឍឍឍឍឍឍឍឍឍឍឍឍឍឍឍឍឍឍឍឍឍឍឍឍឍឍឍឍឍឍឍឍឍឍឍឍឍឍឍឍឍឍឍឍឍឍឍឍឍឍឍឍឍឍឍឍឍឍឍឍឍឍឍឍឍឍឍឍឍឍឍឍឍឍឍឍឍឍឍឍ\n",
      "🔸 정답 46: 그러나 무엇이라고 꼭 집어대어 철수와 같이 술술 지껄일수는 없었다.\n",
      "\n",
      "🔹 예측 47: 고난의 시기에 동의하지 않는 것은 진정 진정 바람에만 한 피아나는 물의 짐과이다.\n",
      "🔸 정답 47: 고난의 시기에 동요하지 않는 것은 진정 칭찬받을 만한 뛰어난 인물의 증거다.\n",
      "\n",
      "🔹 예측 48:  ឍឍឍឍឍឍឍឍឍឍឍឍឍឍឍឍឍឍឍឍឍឍឍឍឍឍឍឍឍឍឍឍឍឍឍឍឍឍឍឍឍឍឍឍឍឍឍឍឍឍឍឍឍឍឍឍឍឍឍឍឍឍឍឍឍឍឍឍឍឍឍឍឍឍឍឍឍឍឍឍឍឍឍឍឍឍឍឍឍឍឍឍឍឍឍឍឍឍឍឍឍឍឍឍឍឍឍឍឍឍឍឍឍឍឍឍឍឍឍឍឍឍឍឍឍឍឍឍឍឍឍឍឍឍឍឍឍឍឍឍឍឍឍឍឍឍឍឍ\n",
      "🔸 정답 48: 영신은 다시 부르짖듯이 신앙의 대상자에게 호소한다.\n",
      "\n",
      "🔹 예측 49: 그리고 선비의 그 고운 얼굴이 미소를 띠고 지나치는 것을 그는 확실히 보았다.\n",
      "🔸 정답 49: 그리고 선비의 그 고운 얼굴이 미소를 띠고 지나치는 것을 그는 확실히 보았다.\n",
      "\n",
      "🔹 예측 50: 나의 교훈을 받지 아니하고 나의 모든 천만을 없인여갔음이라\n",
      "🔸 정답 50: 나의 교훈을 받지 아니하고 나의 모든 책망을 업신여겼음이라\n",
      "\n",
      "🔹 예측 51:  ḍᵉᵉᵉᵉᵉᵉᵉᵉᵉᵉᵉᵉᵉᵉᵉᵉᵉᵉᵉᵉᵉᵉᵉᵉᵉᵉᵉᵉᵉᵉᵉᵉᵉᵉᵉᵉᵉᵉᵉᵉᵉᵉᵉᵉᵉᵉᵉᵉᵉᵉᵉᵉᵉᵉᵉᵉᵉᵉᵉᵉᵉᵉᵉᵉᵉᵉᵉᵉᵉᵉᵉᵉᵉᵉᵉᵉᵉᵉᵉᵉᵉᵉᵉᵉᵉᵉᵉᵉᵉᵉᵉᵉᵉᵉᵉᵉᵉᵉᵉᵉᵉᵉᵉᵉᵉᵉᵉᵉᵉᵉᵉᵉᵉᵉᵉᵉᵉᵉᵉᵉᵉᵉᵉᵉᵉᵉᵉᵉᵉᵉᵉᵉᵉᵉᵉᵉᵉᵉᵉᵉᵉᵉᵉᵉᵉᵉᵉ\n",
      "🔸 정답 51: 개천에서 용 난다\n",
      "\n",
      "🔹 예측 52: 나는 그 알리브가 울리어 나오는 순간 마음은 끝까지 긴장되고 흥분되었습니다.\n",
      "🔸 정답 52: 나는 그 알레그로가 울리어 나오는 순간 마음은 끝까지 긴장되고 흥분되었습니다.\n",
      "\n",
      "🔹 예측 53: 선비가 이 공장에 들어온 지가 벌써 거의 일년이 되어 온다.\n",
      "🔸 정답 53: 선비가 이 공장에 들어온 지가 벌써 거의 일년이 되어 온다.\n",
      "\n",
      "🔹 예측 54: 벌써부터 이런 생각을 가졌으나 용이하게 기회를 타는 수가 없었다.\n",
      "🔸 정답 54: 벌써부터 이런 생각을 가졌으나 용이하게 기회를 타는 수가 없었다.\n",
      "\n",
      "🔹 예측 55: 그는 종입조각과 연필을 내어 신철에게 무엇을 써서 보였다.\n",
      "🔸 정답 55: 그는 종잇조각과 연필을 내어 신철에게 무엇을 써서 보였다.\n",
      "\n",
      "🔹 예측 56: 혼덕재판조재판관은 정당에 가입하거나 정치에 관여할 수 없다.\n",
      "🔸 정답 56: 헌법재판소 재판관은 정당에 가입하거나 정치에 관여할 수 없다.\n",
      "\n",
      "🔹 예측 57: 이번엔 제법 목소리가 패인 남학생의 질문이 들어왔다.\n",
      "🔸 정답 57: 이번엔 제법 목소리가 패인 남학생의 질문이 들어왔다.\n",
      "\n",
      "🔹 예측 58: 한번의 실패와 영원한 실패를 혼동하지 마라.\n",
      "🔸 정답 58: 한번의 실패와 영원한 실패를 혼동하지 마라.\n",
      "\n",
      "🔹 예측 59: 방마의 소리는 그가 걸을수록 점점 희미하게 들렸다.\n",
      "🔸 정답 59: 방망이 소리는 그가 걸을수록 점점 희미하게 들렸다.\n",
      "\n",
      "🔹 예측 60: మార్ల్ల్ల్ల్ల్ల్ల్.\n",
      "🔸 정답 60: 모든 국민은 학문과 예술의 자유를 가진다.\n",
      "\n",
      "🔹 예측 61: 학생 또는 보호자는 학생 본인에 관한 학교 기록을 언제든지 영함을 권리를 가진다.\n",
      "🔸 정답 61: 학생 또는 보호자는 학생 본인에 관한 학교 기록을 언제든지 열람할 권리를 가진다.\n",
      "\n",
      "🔹 예측 62: 그는 가밑에 착 붙어 섰다.\n",
      "🔸 정답 62: 그는 담 밑에 착 붙어 섰다.\n",
      "\n",
      "🔹 예측 63: 사랑은 말이지, 소유하는 게 아니야.\n",
      "🔸 정답 63: 사랑은 말이지, 소유하는 게 아니야.\n",
      "\n",
      "🔹 예측 64: 효회는 여전히 뭐라고 소곤소곤 이야기를 하였다.\n",
      "🔸 정답 64: 효애는 여전히 뭐라고 소곤소곤 이야기를 하였다.\n",
      "\n",
      "🔹 예측 65: 점심 뒤에 회원들은 잡담을 하며 잠시 쉬었다.\n",
      "🔸 정답 65: 점심 뒤에 회원들은 잡담을 하며 잠시 쉬었다.\n",
      "\n",
      "🔹 예측 66: 영신은 그제야 그전에 백 씨의 집에서 들은 동화가 말을 되풀이하듯 하였다.\n",
      "🔸 정답 66: 영신은 그제야 그전에 백씨의 집에서 들은 동혁의 말을 되풀이하듯 하였다.\n",
      "\n",
      "🔹 예측 67: 세상에 나의 마음을 알아주는 사람이 어디 있어야죠.\n",
      "🔸 정답 67: 세상에 나의 마음을 알아 주는 사람이 어디 있어야죠.\n",
      "\n",
      "🔹 예측 68: 부르짖으며 저 혼자 공격하는 것이었다.\n",
      "🔸 정답 68: 부르짖으며 저 혼자 감격하는 것이었다.\n",
      "\n",
      "🔹 예측 69: 두 아들은 방 속에다 죽은 그 아버지의 송장을 제쳐놓고 서로 잡아 산 게 빛이 다투고 있었습니다.\n",
      "🔸 정답 69: 두 아들은 방 속에다 죽은 그 아버지의 송장을 제쳐놓고 서로 잡아삼킬 듯이 다투고 있었습니다.\n",
      "\n",
      "🔹 예측 70: 여자가 뱀에게 말하되 동산 나무의 실과를 우리가 먹을 수 있으나\n",
      "🔸 정답 70: 여자가 뱀에게 말하되 동산 나무의 실과를 우리가 먹을 수 있으나\n",
      "\n",
      "🔹 예측 71: 국가는 국가표준제도를 확립한다.\n",
      "🔸 정답 71: 국가는 국가표준제도를 확립한다.\n",
      "\n",
      "🔹 예측 72:  Ḥᵃᵃᵃᵃᵃᵃᵃᵃᵃᵃᵃᵃᵃᵃᵃᵃᵃᵃᵃᵃᵃᵃᵃᵃᵃᵃᵃᵃᵃᵃᵃᵃᵃᵃᵃᵃᵃᵃᵃᵃᵃᵃᵃᵃᵃᵃᵃᵃᵃᵃᵃᵃᵃᵃᵃᵃᵃᵃᵃᵃᵃᵃᵃᵃᵃᵃᵃᵃᵃᵃᵃᵃᵃᵃᵃᵃᵃᵃᵃᵃᵃᵃᵃᵃᵃᵃᵃᵃᵃᵃᵃᵃᵃᵃᵃᵃᵃᵃᵃᵃᵃᵃᵃᵃᵃᵃᵃᵃᵃᵃᵃᵃᵃᵃᵃᵃᵃᵃᵃᵃᵃᵃᵃᵃᵃᵃᵃᵃᵃᵃᵃᵃᵃᵃᵃᵃᵃᵃᵃᵃᵃᵃᵃᵃᵃᵃᵃ\n",
      "🔸 정답 72: 다른 누구에게도 의지하지 말고 오직 그대 혼자의 힘으로 하라.\n",
      "\n",
      "🔹 예측 73: 가버리는 의자를 벗적들어 옮겨 놔주었다.\n",
      "🔸 정답 73: 까불이는 의자를 버쩍 들어 옮겨 놔주었다.\n",
      "\n",
      "🔹 예측 74: 그가 좋아할 때마다 이런 버릇이 있었다.\n",
      "🔸 정답 74: 그가 좋아할 때마다 이런 버릇이 있었다.\n",
      "\n",
      "🔹 예측 75:  ឍឍឍឍឍឍឍឍឍឍឍឍឍឍឍឍឍឍឍឍឍឍឍឍឍឍឍឍឍឍឍឍឍឍឍឍឍឍឍឍឍឍឍឍឍឍឍឍឍឍឍឍឍឍឍឍឍឍឍឍឍឍឍឍឍឍឍឍឍឍឍឍឍឍឍឍឍឍឍឍឍឍឍឍឍឍឍឍឍឍឍឍឍឍឍឍឍឍឍឍឍឍឍឍឍឍឍឍឍឍឍឍឍឍឍឍឍឍឍឍឍឍឍឍឍឍឍឍឍឍឍឍឍឍឍឍឍឍឍឍឍឍឍឍឍឍឍឍ\n",
      "🔸 정답 75: 탄핵결정은 공직으로부터 파면함에 그친다.\n",
      "\n",
      "🔹 예측 76:  ឍṭṭṭṭṭṭṭṭṭṭṭṭṭṭṭṭṭṭṭṭṭṭṭṭṭṭṭṭṭṭṭṭṭṭṭṭṭṭṭṭṭṭṭṭṭṭṭṭṭṭṭṭṭṭṭṭṭṭṭṭṭṭṭṭṭṭṭṭṭṭṭṭṭṭṭṭṭṭṭṭṭṭṭṭṭṭṭṭṭṭṭṭṭṭṭṭṭṭṭṭṭṭṭṭṭṭṭṭṭṭṭṭṭṭṭṭṭṭṭṭṭṭṭṭṭṭṭṭṭṭṭṭṭṭṭṭṭṭṭṭṭṭṭṭṭṭṭṭṭṭṭṭṭṭṭṭṭṭṭṭṭṭṭṭṭṭṭṭṭṭṭṭṭṭṭṭṭṭṭṭṭṭṭṭṭṭṭṭṭṭṭṭṭṭṭṭṭṭṭṭṭṭṭṭṭṭṭṭṭṭṭṭṭṭṭṭṭṭṭṭ�\n",
      "🔸 정답 76: 한편으로 그가 영신을 될 수 있는 대로 호의로써 이해하려는 것도 물론이다.\n",
      "\n",
      "🔹 예측 77: 선비는 얼굴이 뻘개서 가마에서 뽑혀 나오는 실 끝을 들여다보았다.\n",
      "🔸 정답 77: 선비는 얼굴이 뻘개서 가마에서 뽑혀 나오는 실끝을 들여다보았다.\n",
      "\n",
      "🔹 예측 78: 뭇잡해하고 봤음에도 당분간은 아무것도 먹지 않기로 했다.\n",
      "🔸 정답 78: 무척 배가 고팠음에도 당분간은 아무것도 먹지 않기로 했다.\n",
      "\n",
      "🔹 예측 79: 신철이는 영철의 우는 소리를 들으며 문밖을 나섰다.\n",
      "🔸 정답 79: 신철이는 영철의 우는 소리를 들으며 문밖을 나섰다.\n",
      "\n",
      "🔹 예측 80:  혹은 사오십 년 뒤에 조선을 모두로 생겨날 이야기라고 생각하여도 좋다.\n",
      "🔸 정답 80: 혹은 사오십 년 뒤에 조선을 무대로 생겨날 이야기라고 생각하여도 좋다.\n",
      "\n",
      "🔹 예측 81:  ឍឍឍឍឍឍឍឍឍឍឍឍឍឍឍឍឍឍឍឍឍឍឍឍឍឍឍឍឍឍឍឍឍឍឍឍឍឍឍឍឍឍឍឍឍឍឍឍឍឍឍឍឍឍឍឍឍឍឍឍឍឍឍឍឍឍឍឍឍឍឍឍឍឍឍឍឍឍឍឍឍឍឍឍឍឍឍឍឍឍឍឍឍឍឍឍឍឍឍឍឍឍឍឍឍឍឍឍឍឍឍឍឍឍឍឍឍឍឍឍឍឍឍឍឍឍឍឍឍឍឍឍឍឍឍឍឍឍឍឍឍឍឍឍឍឍឍឍ\n",
      "🔸 정답 81: 어디서 오셨어요?\n",
      "\n",
      "🔹 예측 82: 덕호는 문 안에 선 채 선비 어머니를 바라보며 걱정을 한다.\n",
      "🔸 정답 82: 덕호는 문 안에 선 채 선비 어머니를 바라보며 걱정을 한다.\n",
      "\n",
      "🔹 예측 83: 그리고 무어라고 손질을 두어 번 치고 무밀 밭뒤로 사라진다.\n",
      "🔸 정답 83: 그리고 무어라고 손질을 두어 번 치고 모밀 밭뒤로 사라진다.\n",
      "\n",
      "🔹 예측 84: 선비는 씨앗들도 만지지 않으면 앞이 허전한 것 같아서 그냥 뒤틀고 있었다.\n",
      "🔸 정답 84: 선비는 씨아틀도 만지지 않으면 앞이 허전한 것 같아서 그냥 붙들고 있었다.\n",
      "\n",
      "🔹 예측 85: 동시에 잠깐 잊었던 아픔이 그의 전신을 못 견디게 습격하였다.\n",
      "🔸 정답 85: 동시에 잠깐 잊었던 아픔이 그의 전신을 못 견디게 습격하였다.\n",
      "\n",
      "🔹 예측 86: 첫째는 무정처하고 걷다가 다시 덕호의 집 주위를 한 바퀴 돌아서 그의 집으로 왔다.\n",
      "🔸 정답 86: 첫째는 무정처하고 걷다가 다시 덕호의 집 주위를 한 바퀴 돌아서 그의 집으로 왔다.\n",
      "\n",
      "🔹 예측 87:  ឍ្្្្្្្្្្្្្្្្\n",
      "🔸 정답 87: 사회 교화자로서의 의견을 말씀해주십쇼.\"\n",
      "\n",
      "🔹 예측 88:  그는 마침내 మాలిలిలిలిలి.\n",
      "🔸 정답 88: 그는 마침내 구역질을 욱 하고 하였다.\n",
      "\n",
      "🔹 예측 89: 장로와 다른 교인들이 들어와 병원으로 가기를 번차례로 권하였다.\n",
      "🔸 정답 89: 장로와 다른 교인들이 들어와 병원으로 가기를 번차례로 권하였다.\n",
      "\n",
      "🔹 예측 90: 그래서 그는 잘못 찾아왔는가 하여 도로 나와서 주저하다가 다시 들어갔다.\n",
      "🔸 정답 90: 그래서 그는 잘못 찾아왔는가 하여 도로 나와서 주저하다가 다시 들어갔다.\n",
      "\n",
      "🔹 예측 91: 나는 아무 걱정도 없이\n",
      "🔸 정답 91: 나는 아무 걱정도 없이\n",
      "\n",
      "🔹 예측 92: 편안도 어느 산 깊은 금덤판.\n",
      "🔸 정답 92: 평안도 어느 산 깊은 금덤판.\n",
      "\n",
      "🔹 예측 93: 그리고 고구라 양복의 망정 노박이로 비를 맞으며 김천지를 뒤쫓아 나왔으랴.\n",
      "🔸 정답 93: 비록 고구라 양복일 망정 노박이로 비를 맞으며 김첨지를 뒤쫓아 나왔으랴.\n",
      "\n",
      "🔹 예측 94: 팔을 놀리면 팔이 아프고 다리를 놀리면 다리가 아팠다.\n",
      "🔸 정답 94: 팔을 놀리면 팔이 아프고 다리를 놀리면 다리가 아팠다.\n",
      "\n",
      "🔹 예측 95: 그가 방문을 소리 없이 열고 나서니 옆집에서는 시계가 새로 도시를 친다.\n",
      "🔸 정답 95: 그가 방문을 소리 없이 열고 나서니 옆집에서는 시계가 새로 두시를 친다.\n",
      "\n",
      "🔹 예측 96: 영수군 다시 춘우의 마음을 헤어해보았다.\n",
      "🔸 정답 96: 영숙은 다시 춘우의 마음을 헤아려 보았다.\n",
      "\n",
      "🔹 예측 97:  សឡឡឡឡឡឡឡឡឡឡឡឡឡឡឡឡឡឡឡឡឡឡឡឡឡឡឡឡឡឡឡឡ\n",
      "🔸 정답 97: 본래부터 뼈만 남았던 그가 한층 더하여 마치 해골을 대하는 듯하였다.\n",
      "\n",
      "🔹 예측 98: odore bha yá dò ám hòt dò dìgòs yòp dò.\n",
      "🔸 정답 98: 그래봐야 아무것도 얻을 것이 없다.\n",
      "\n",
      "🔹 예측 99: 고진어 피 일어서서 피아노 앞에 가서 그의 어깨에 가만히 손을 얹었습니다.\n",
      "🔸 정답 99: 고즈넉히 일어서서 피아노 앞에 가서 그의 어깨에 가만히 손을 얹었습니다.\n",
      "\n",
      "🔹 예측 100: 난장보살은 호미로 땅을 치며 이렇게 소리쳤다.\n",
      "🔸 정답 100: 난장보살은 호미로 땅을 치며 이렇게 소리쳤다.\n",
      "\n",
      "🔹 예측 101: 슬기론 인민의 이 연관\n",
      "🔸 정답 101: 슬기론 인민의 이 영광\n",
      "\n",
      "🔹 예측 102: 그는 이리저리 피하면서 길 한 옆으로 걸어갔다.\n",
      "🔸 정답 102: 그는 이리저리 피하면서 길 한 옆으로 걸어갔다.\n",
      "\n",
      "🔹 예측 103: 그리고 그가 걸어갈 장차의 앞길까지도 저 길까지 헌하게 내다보였다.\n",
      "🔸 정답 103: 그리고 그가 걸어갈 장차의 앞길까지도 저 길가같이 훤하게 내다보였다.\n",
      "\n",
      "🔹 예측 104:  ន ន ន ន ន ន ន ន ន ន ន ន ន ន ន ន ន ន ន ន ន ន ន ន ន ន ន ន ន ន ន ន ន ន ន ន\n",
      "🔸 정답 104: 아까 옥점이가 그의 아버지에게 양복쟁이를 소개하던 것을 얼핏 생각하였다.\n",
      "\n",
      "🔹 예측 105:  शिर्यंवा दंजा न इलिए वंवा\n",
      "🔸 정답 105: 실행할 당연한 일이건만\n",
      "\n",
      "🔹 예측 106:  ឍ្្្្្្្្្្្\n",
      "🔸 정답 106: 세 살 버릇 여든까지 간다\n",
      "\n",
      "🔹 예측 107:  ឡឡឡឡឡឡឡឡឡ\n",
      "🔸 정답 107: 비 맞은 나뭇가지 새 움이 뾰죽뾰죽.\n",
      "\n",
      "🔹 예측 108:  ḍḍḍḍḍḍḍḍḍḍḍḍḍḍḍḍḍḍḍḍḍḍḍḍḍḍḍḍḍḍḍḍḍḍḍḍḍḍḍḍḍḍḍḍḍḍḍḍḍḍḍḍḍḍḍḍḍḍḍḍḍḍḍḍḍḍḍḍḍḍḍḍḍḍḍḍḍḍḍḍḍḍḍḍḍḍḍḍḍḍḍḍḍḍḍḍḍḍḍḍḍḍḍḍḍḍḍḍḍḍḍḍḍḍḍḍḍḍḍḍḍḍḍḍḍḍḍḍḍḍḍḍḍḍḍḍḍḍḍḍḍḍḍḍḍḍḍḍ\n",
      "🔸 정답 108: 난 집에 들어가자마자 체포됐어\n",
      "\n",
      "🔹 예측 109: 정변의 비결은 반반까지 자아시의 문회를 반짝으로 집중하는 것이다.\n",
      "🔸 정답 109: 성공의 비결은 단 한 가지, 잘 할 수 있는 일에 광적으로 집중하는 것이다.\n",
      "\n",
      "🔹 예측 110:  ඇතාන්ලලලලලලලල්න්න්න්න්න්න්න්න්න්න්න්න්න්න්න්න්න්න්න්න්න්න්න්න්න්න්න්න්න්න්න්න්න්න්න්න්න්න්න්න්න්න්න්න්න්න්න්න්න්න්න්න්න්න්න්න්න්න්න්න්න්න්න්න්න්න්න්න්න්න්න්න්න්න්න්න්න්න්න්න්න්න්න්න්න්න්න්න්න්න්න්න්න්න්න්න්න්න්න්න්න්න්න්න්\n",
      "🔸 정답 110: 늙고 불쌍한 너의 모는 죽지 못하여 모진 목숨을 그럭저럭 부지하여 간다.\n",
      "\n",
      "🔹 예측 111:  ឍ ឍ ឍ ឍ ឍ ឍ ឍ ឍ ឍ ឍ ឍ ឍ ឍ ឍ ឍ ឍ ឍ ឍ ឍ ឍ ឍ ឍ ឍ ឍ ឍ ឍ ឍ ឍ ឍ ឍ ឍ ឍ ឍ ឍ ឍ ឍ ឍ ឍ ឍ ឍ ឍ ឍ ឍ\n",
      "🔸 정답 111: 신철이는 목구멍이 알알하도록 먼지를 먹으며 아스팔트 위를 힘없이 걸었다.\n",
      "\n",
      "🔹 예측 112:  ḍḍḍḍḍḍḍḍḍḍḍḍḍḍḍḍḍḍḍḍḍḍḍḍḍḍḍḍḍḍḍḍḍḍḍḍḍḍḍḍḍḍḍḍḍḍḍḍḍḍḍḍḍḍḍḍḍḍḍḍḍḍḍḍḍḍḍḍḍḍḍḍḍḍḍḍḍḍḍḍḍḍḍḍḍḍḍḍḍḍḍḍḍḍḍḍḍḍḍḍḍḍḍḍḍḍḍḍḍḍḍḍḍḍḍḍḍḍḍḍḍḍḍḍḍḍḍḍḍḍḍḍḍḍḍḍḍḍḍḍḍḍḍḍḍḍḍḍ\n",
      "🔸 정답 112: 백 모의 아들인가?\n",
      "\n",
      "🔹 예측 113:  ឍឍឍឍឍឍឍឍឍឍឍឍឍឍឍឍឍឍឍឍឍឍឍឍឍឍឍឍឍឍឍឍឍឍឍឍឍឍឍឍឍឍឍឍឍឍ\n",
      "🔸 정답 113: 골짜구니가 울리도록 커다랗게 기침을 하였다.\n",
      "\n",
      "🔹 예측 114:  ឡឡឡ ឡឡឡ ឡឡឡ ឡឡឡ ឡឡឡ ឡឡឡ ឡឡឡ ឡឡឡ ឡឡឡ ឡឡឡ ឡឡឡ\n",
      "🔸 정답 114: 집안은 잠깐 무슨 큰 파란이 일어나려는 것 같이 엄숙하고 고요하다.\n",
      "\n",
      "🔹 예측 115:  ឍឍឍឍឍឍឍឍឍឍឍឍឍឍឍឍឍឍឍឍឍឍឍឍឍឍឍឍឍឍឍឍឍឍឍឍឍឍឍឍឍឍឍឍឍឍឍឍឍឍឍឍឍឍឍឍឍឍឍឍឍឍឍឍឍឍឍឍឍឍឍឍឍឍឍឍឍឍឍឍឍឍឍឍឍឍឍឍឍឍឍឍឍឍឍឍឍឍឍឍឍឍឍឍឍឍឍឍឍឍឍឍឍឍឍឍឍឍឍឍឍឍឍឍឍឍឍឍឍឍឍឍឍឍឍឍឍឍឍឍឍឍឍឍឍឍឍឍ\n",
      "🔸 정답 115: 그는 이 우중에 우장도 없이 그 먼 곳을 철벅거리고 가기가 싫었음일까?\n",
      "\n",
      "🔹 예측 116: න්ල්න්න්න්න්න්න්න්න්න්න්න්න්න්න්න්න්න්න්න්න්න්න්න්න්න්න්න්න්න්න්න්න්න්න්න්න්න්න්න්න්න්න්න්න්න්න්න්න්න්න්න්න්න්න්න්න්න්න්න්න්න්න්න්න්න්න්න්න්න්න්න්න්න්න්න්න්න්න්න්න්න්න්න්න්න්න්න්න්න්න්න්න්න්න්න්න්න්න්න්න්න්න්න්න්න්න්න්න්න්\n",
      "🔸 정답 116: 남산 위에 저 소나무\n",
      "\n",
      "🔹 예측 117:  សឡឡឡឡឡឡឡឡឡឡឡឡឡឡ\n",
      "🔸 정답 117: 다시 말씀해 주세요\n",
      "\n",
      "🔹 예측 118: íri మారినినిని.\n",
      "🔸 정답 118: 이런 놈 죽었으면 좋았겠어\n",
      "\n",
      "🔹 예측 119: 성례시켜 다르지, 뭐 알, 어떻게.\n",
      "🔸 정답 119: \"성례시켜 달라지 뭘 어떡해.\"\n",
      "\n",
      "🔹 예측 120:  Ḥ ṃ ṃ ṃ ṃ ṃ ṃ ṃ ṃ ṃ ṃ ṃ ṃ ṃ ṃ ṃ ṃ ṃ ṃ ṃ ṃ ṃ ṃ ṃ ṃ ṃ ṃ ṃ ṃ ṃ ṃ ṃ ṃ ṃ ṃ ṃ ṃ ṃ ṃ ṃ ṃ ṃ ṃ ṃ ṃ ṃ ṃ ṃ ṃ ṃ ṃ ṃ ṃ ṃ ṃ ṃ ṃ ṃ ṃ ṃ ṃ ṃ ṃ ṃ ṃ ṃ ṃ ṃ ṃ ṃ ṃ ṃ ṃ ṃ ṃ ṃ ṃ ṃ ṃ ṃ ṃ ṃ ṃ ṃ ṃ ṃ ṃ ṃ ṃ ṃ ṃ ṃ ṃ ṃ ṃ ṃ ṃ ṃ ṃ ṃ ṃ ṃ ṃ ṃ ṃ ṃ ṃ ṃ ṃ ṃ ṃ ṃ ṃ ṃ ṃ ṃ ṃ ṃ ṃ ṃ ṃ ṃ ṃ ṃ ṃ ṃ ṃ ṃ ṃ ṃ ṃ ṃ ṃ ṃ ṃ ṃ ṃ ṃ ṃ ṃ ṃ ṃ ṃ ṃ ṃ ṃ ṃ ṃ\n",
      "🔸 정답 120: 춘우는 목이 몹시 마름을 깨닫고 약물터로 향하는 좁은 길로 들어섰다.\n",
      "\n",
      "🔹 예측 121:  សឡឡឡឡឡឡឡឡឡឡឡឡឡឡឡឡឡឡឡឡឡ\n",
      "🔸 정답 121: 다만, 사형을 선고한 경우에는 그러하지 아니하다.\n",
      "\n",
      "🔹 예측 122:  សឡឡឡឡឡឡឡឡឡឡឡឡឡឡឡឡឡឡឡឡឡឡឡឡឡឡឡឡឡឡឡឡឡ\n",
      "🔸 정답 122: 자기가 기관실에 앤더슨을 옆에 지키고 서서 같이 나아가기로 하였습니다.\n",
      "\n",
      "🔹 예측 123:  ḍḍḍḍḍḍḍḍḍḍḍḍḍḍḍḍḍḍḍḍḍḍḍḍḍḍḍḍḍḍḍḍḍḍḍḍḍḍḍḍḍḍḍḍḍḍḍḍḍḍḍḍḍḍḍḍḍḍḍḍḍḍḍḍḍḍḍḍḍḍḍḍḍḍḍḍḍḍḍḍḍḍḍḍḍḍḍḍḍḍḍḍḍḍḍḍḍḍḍḍḍḍḍḍḍḍḍḍḍḍḍḍḍḍḍḍḍḍḍḍḍḍḍḍḍḍḍḍḍḍḍḍḍḍḍḍḍḍḍḍḍḍḍḍḍḍḍḍ\n",
      "🔸 정답 123: 덕호의 손길이 그를 후려치는 것으로 알았던 것이다.\n",
      "\n",
      "🔹 예측 124:  Ḥa n Ḥa n Ḥa s Ḥa n n Ḥa s Ḥa n n Ḥa s Ḥa n n Ḥa s Ḥa n n Ḥa s Ḥa n n Ḥa s Ḥa s Ḥa s Ḥa s Ḥa s Ḥa s Ḥa s Ḥa s Ḥa s Ḥa s Ḥa s Ḥa s Ḥa s Ḥa s Ḥa s Ḥa s Ḥa s Ḥa s Ḥa s Ḥa s Ḥa s Ḥa s Ḥa s Ḥa s Ḥa s Ḥa s Ḥa s Ḥa s Ḥa s Ḥa s Ḥa s Ḥa s Ḥa s Ḥa s Ḥa s Ḥa s Ḥa s Ḥa s Ḥa s Ḥa s Ḥa s Ḥa s Ḥa s Ḥa s Ḥa s Ḥa s Ḥa s Ḥa s Ḥa s Ḥa s Ḥa s Ḥa s Ḥa s Ḥa s Ḥa s Ḥa s Ḥa s Ḥa s Ḥa s Ḥa s Ḥa s Ḥa s Ḥa s Ḥa s Ḥa s Ḥa s Ḥa s Ḥa s Ḥa s Ḥa s Ḥa s Ḥa s Ḥa s Ḥa s Ḥa s Ḥa\n",
      "🔸 정답 124: 하나님이 주셔서 나와 함께하게 하신 여자\n",
      "\n",
      "🔹 예측 125:  ឍឍឍឍឍឍឍឍឍឍឍឍឍឍឍឍឍឍឍឍឍឍឍឍឍឍឍឍឍឍឍឍឍឍឍឍឍឍឍឍឍឍឍឍឍឍឍឍឍឍឍឍឍឍឍឍឍឍឍឍឍឍឍឍឍឍឍឍឍឍឍឍឍឍឍឍឍឍឍឍឍឍឍឍឍឍឍឍឍឍឍឍឍឍឍឍឍឍឍឍឍឍឍឍឍឍឍឍឍឍឍឍឍឍឍឍឍឍឍឍឍឍឍឍឍឍឍឍឍឍឍឍឍឍឍឍឍឍឍឍឍឍឍឍឍឍឍឍ\n",
      "🔸 정답 125: 우리는 두려움의 홍수에 버티기 위해서 끊임없이 용기의 둑을 쌓아야 한다.\n",
      "\n",
      "🔹 예측 126: తిలులులులులులులులులు.\n",
      "🔸 정답 126: 들어가서 훔치면 아무도 모를 테다.\n",
      "\n",
      "🔹 예측 127:  ឍឍឍឍឍឍឍឍឍឍឍឍឍឍឍឍឍឍឍឍឍឍឍឍឍឍឍឍឍឍឍឍឍឍឍឍឍឍឍឍឍឍឍឍឍឍឍឍឍឍឍឍឍឍឍឍឍឍឍឍឍឍឍឍឍឍឍឍឍឍឍឍឍឍឍឍឍឍឍឍឍឍឍឍឍឍឍឍឍឍឍឍឍឍឍឍឍឍឍឍឍឍឍឍឍឍឍឍឍឍឍឍឍឍឍឍឍឍឍឍឍឍឍឍឍឍឍឍឍឍឍឍឍឍឍឍឍឍឍឍឍឍឍឍឍឍឍឍ\n",
      "🔸 정답 127: 춘우의 마음은 아직까지도 영숙 씨를 잊지 못 하니까 요.\n",
      "\n",
      "🔹 예측 128: 국가는 중소기업을 보호 육성하여야 한다.\n",
      "🔸 정답 128: 국가는 중소기업을 보호, 육성하여야 한다.\n",
      "\n",
      "🔹 예측 129: 사막이 아름다운 것은 어딘가 샘이 숨겨져 있기 때문이다.\n",
      "🔸 정답 129: 사막이 아름다운 것은 어딘가 샘이 숨겨져 있기 때문이다.\n",
      "\n",
      "🔹 예측 130:  ឍ ʃʃʃʃʃʃʃʃʃʃʃʃʃʃʃʃʃʃʃʃʃʃʃʃʃʃʃʃʃʃʃʃʃʃʃʃʃʃʃʃʃʃʃʃʃʃʃʃʃʃʃʃʃʃʃʃʃʃʃʃʃʃʃʃʃʃʃʃʃʃʃʃʃʃʃʃʃʃʃʃʃʃʃʃʃʃʃʃʃʃʃʃʃʃʃʃʃʃʃʃʃʃʃʃʃʃʃʃʃʃʃʃʃʃʃʃʃʃʃʃʃʃʃʃʃʃʃʃʃʃʃʃʃʃʃʃʃʃʃʃʃʃʃʃʃʃʃʃʃʃʃʃʃʃʃʃʃʃʃʃʃʃʃʃʃʃʃʃʃʃʃʃʃʃʃʃʃʃʃʃʃʃʃʃʃʃʃʃʃʃʃʃʃʃʃʃʃʃʃʃʃʃʃʃʃʃʃʃʃʃʃʃʃʃʃʃʃʃʃʃ\n",
      "🔸 정답 130: 저는 새로운 세상에서 참으로 사람다운 생활이 하고 싶어요.\n",
      "\n",
      "🔹 예측 131:  ḍḍḍḍḍḍḍḍḍḍḍḍḍḍḍḍḍḍḍḍḍḍḍḍḍḍḍḍḍḍḍḍḍḍḍḍḍḍḍḍḍḍḍḍḍḍḍḍḍḍḍḍḍḍḍḍḍḍḍḍḍḍḍḍḍḍḍḍḍḍḍḍḍḍḍḍḍḍḍḍḍḍḍḍḍḍḍḍḍḍḍḍḍḍḍḍḍḍḍḍḍḍḍḍḍḍḍḍḍḍḍḍḍḍḍḍḍḍḍḍḍḍḍḍḍḍḍḍḍḍḍḍḍḍḍḍḍḍḍḍḍḍḍḍḍḍḍḍ\n",
      "🔸 정답 131: 덕호는 눈을 툭툭 털며 아랫목에 앉았다.\n",
      "\n",
      "🔹 예측 132: 이제서 다르진 나는 물자리에 안진대로 그의 양을 쳐다보았습니다.\n",
      "🔸 정답 132: 의자에서 떨어진 나는, 그 자리에 앉은 대로 그의 양을 쳐다보았습니다.\n",
      "\n",
      "🔹 예측 133:  ឍឍឍឍឍឍឍឍឍឍឍឍឍឍឍឍឍឍឍឍឍឍឍឍឍឍឍឍឍឍឍឍឍឍឍឍឍឍឍឍឍឍឍឍឍឍឍឍឍឍឍឍឍឍឍឍឍឍឍឍឍឍឍឍឍឍឍឍឍឍឍឍឍឍឍឍឍឍឍឍឍឍឍឍឍឍឍឍឍឍឍឍឍឍឍឍឍឍឍឍឍឍឍឍឍឍឍឍឍឍឍឍឍឍឍឍឍឍឍឍឍឍឍឍឍឍឍឍឍឍឍឍឍឍឍឍឍឍឍឍឍឍឍឍឍឍឍឍ\n",
      "🔸 정답 133: 하고 다시 말을 하는 춘우의 마음은 섭섭하였다.\n",
      "\n",
      "🔹 예측 134:  ឡឡឡឡឡឡឡឡឡឡឡឡឡឡឡឡឡឡឡឡឡឡ\n",
      "🔸 정답 134: 이튿날 새벽에 개똥 어머니는 덕호네 집으로 갔다.\n",
      "\n",
      "🔹 예측 135:  ឍ Ṭ Ṭ Ṭ Ṭ Ṭ Ṭ Ṭ Ṭ Ṭ Ṭ Ṭ Ṭ Ṭ Ṭ Ṭ Ṭ Ṭ Ṭ Ṭ Ṭ Ṭ Ṭ Ṭ Ṭ Ṭ Ṭ Ṭ Ṭ Ṭ Ṭ Ṭ Ṭ Ṭ Ṭ Ṭ Ṭ Ṭ Ṭ Ṭ Ṭ Ṭ Ṭ Ṭ Ṭ Ṭ Ṭ Ṭ Ṭ Ṭ Ṭ Ṭ Ṭ Ṭ Ṭ Ṭ Ṭ Ṭ Ṭ Ṭ Ṭ Ṭ Ṭ Ṭ Ṭ Ṭ Ṭ Ṭ Ṭ Ṭ Ṭ Ṭ Ṭ Ṭ Ṭ Ṭ Ṭ Ṭ Ṭ Ṭ Ṭ Ṭ Ṭ Ṭ Ṭ Ṭ Ṭ Ṭ Ṭ Ṭ Ṭ Ṭ Ṭ Ṭ Ṭ Ṭ Ṭ Ṭ Ṭ Ṭ Ṭ Ṭ Ṭ Ṭ Ṭ Ṭ Ṭ Ṭ Ṭ Ṭ Ṭ Ṭ Ṭ Ṭ Ṭ Ṭ Ṭ Ṭ Ṭ Ṭ Ṭ Ṭ Ṭ Ṭ Ṭ Ṭ Ṭ Ṭ Ṭ Ṭ Ṭ Ṭ Ṭ Ṭ Ṭ Ṭ Ṭ Ṭ Ṭ Ṭ Ṭ Ṭ Ṭ Ṭ Ṭ Ṭ Ṭ Ṭ\n",
      "🔸 정답 135: 감독은 기침을 칵 하고 나서 선비의 숙인 얼굴을 똑바로 보았다.\n",
      "\n",
      "🔹 예측 136:  ឍ្្្្្្្្្្្្្្្្្្្្្្្្\n",
      "🔸 정답 136: 그날 저녁에 실례한 것은 이 사람이었소이다.\n",
      "\n",
      "🔹 예측 137:  ឍឍឍឍឍឍឍឍឍឍឍឍឍឍឍឍឍឍឍឍឍឍឍឍឍឍឍឍឍឍឍឍឍឍឍឍឍឍឍឍឍឍឍឍឍឍឍឍឍឍឍឍឍឍឍឍឍឍឍឍឍឍឍឍឍឍឍឍឍឍឍឍឍឍឍឍឍឍឍឍឍឍឍឍឍឍឍឍឍឍឍឍឍឍឍឍឍឍឍឍឍឍឍឍឍឍឍឍឍឍឍឍឍឍឍឍឍឍឍឍឍឍឍឍឍឍឍឍឍឍឍឍឍឍឍឍឍឍឍឍឍឍឍឍឍឍឍឍ\n",
      "🔸 정답 137: 그는 흙을 나르면서도 어젯밤 밤새도록 신철이와 자유노동자의 조직에 대하여 토의하던 것을 생각하였다.\n",
      "\n",
      "🔹 예측 138: 선비는 నిి నిి నిిని నినిని నినినిని.\n",
      "🔸 정답 138: 선비는 얼른 간난이를 일어세우며 뒤를 돌아보았다.\n",
      "\n",
      "🔹 예측 139: 선비는 무슨 말인지 그의 말하는 것을 하나도 알아듣지 못하였다.\n",
      "🔸 정답 139: 선비는 무슨 말인지 그의 말하는 것을 하나도 알아듣지 못하였다.\n",
      "\n",
      "🔹 예측 140: · మారిల్ మారిల్ మారిల్ మారిల్ మారిల్ మారిల్ మారిల్ మారిల్ మారిల్ మారిల్ మారిల్ మారిల్ మారిల్ మారిల్ మారిల్ మారిల్ మారిల్ మారిల్ మారిల్ మారిల్ మారిల్ మారిల్ మారిల్ మారిల్ మారిల్ మారిల్ మారిల్ మారిల్ మారిల్ మారిల్ మారిల్ మారిల్ మారిల్ మారిల్ \n",
      "🔸 정답 140: 술취하기 전에는 첫째는 누구와 말 한마디 건네기를 싫어하였던 것이다.\n",
      "\n",
      "🔹 예측 141: 손을 들어 미리 영신의 말문을 막아 버렸다.\n",
      "🔸 정답 141: 손을 들어 미리 영신의 말문을 막아 버렸다.\n",
      "\n",
      "🔹 예측 142:  ឡ ṭṭṭṭṭṭṭṭṭṭṭṭṭṭṭṭṭṭṭṭṭṭṭṭṭṭṭṭṭṭṭṭṭṭṭṭṭṭṭṭṭṭṭṭṭṭṭṭṭṭṭṭṭṭṭṭṭṭṭṭṭṭṭṭṭṭṭṭṭṭṭṭṭṭṭṭṭṭṭṭṭṭṭṭṭṭṭṭṭṭṭṭṭṭṭṭṭṭṭṭṭṭṭṭṭṭṭṭṭṭṭṭṭṭṭṭṭṭṭṭṭṭṭṭṭṭṭṭṭṭṭṭṭṭṭṭṭṭṭṭṭṭṭṭṭṭṭṭṭṭṭṭṭṭṭṭṭṭṭṭṭṭṭṭṭṭṭṭṭṭṭṭṭṭṭṭṭṭṭṭṭṭṭṭṭṭṭṭṭṭṭṭṭṭṭṭṭṭṭṭṭṭṭṭṭṭṭṭṭṭṭṭṭṭṭṭṭṭṭṭ\n",
      "🔸 정답 142: 한쪽을 찌긋한 마누라의 눈에는 흉년이 들 조짐이 보이는 듯하다.\n",
      "\n",
      "🔹 예측 143:  ឍឍឍឍឍឍឍឍឍឍឍឍឍឍឍឍឍឍឍឍឍឍឍឍឍឍឍឍឍឍឍឍឍឍឍឍឍឍឍឍឍឍឍឍឍឍឍឍឍឍឍឍឍឍឍឍឍឍឍឍឍឍឍឍឍឍឍឍឍឍឍឍឍឍឍឍឍឍឍឍឍឍឍឍឍឍឍឍឍឍឍឍឍឍឍឍឍឍឍឍឍឍឍឍឍឍឍឍឍឍឍឍឍឍឍឍឍឍឍឍឍឍឍឍឍឍឍឍឍឍឍឍឍឍឍឍឍឍឍឍឍឍឍឍឍឍឍឍ\n",
      "🔸 정답 143: 춘우는 한옆으로 비스듬히 누워서 천장을 바라보며 창하 오기를 기다리었다.\n",
      "\n",
      "🔹 예측 144:  එරන්පා දෙපා කාරාරාරාරාරාරාරාරාරාරාරාරාරාරාරාරාරාරාරාරාරාරාරාරාරාරාරාරාරාරාරාරාරාරාරාරාරාරාරාරාරාරාරාරාරාරාරාරාරාරාරාරාරාරාරාරාරාරාරාරාරාරාරාරාරාරාරාරාරාරාරාරාරාරාරාරාරාරාරාරාරාරාරාරාරාරාරාරාරාරාරාරාරාරාරාරාරාරාරාරාරාරාරාරාරා\n",
      "🔸 정답 144: 두발가인의 누이는 나아마이었더라\n",
      "\n",
      "🔹 예측 145:  ឍឍឍឍឍឍឍឍឍឍឍឍឍឍឍឍឍឍឍឍឍឍឍឍឍឍឍឍឍឍឍឍឍឍឍឍឍឍឍឍឍឍឍឍឍឍឍឍឍឍឍឍឍឍឍឍឍឍឍឍឍឍឍឍឍឍឍឍឍឍឍឍឍឍឍឍឍឍឍឍឍឍឍឍឍឍឍឍឍឍឍឍឍឍឍឍឍឍឍឍឍឍឍឍឍឍឍឍឍឍឍឍឍឍឍឍឍឍឍឍឍឍឍឍឍឍឍឍឍឍឍឍឍឍឍឍឍឍឍឍឍឍឍឍឍឍឍឍ\n",
      "🔸 정답 145: 그의 주머니 속에는 어느 때든지 신문지에다가 전복과 실백을 싸 가지고 다닌다.\n",
      "\n",
      "🔹 예측 146:  នននននននននននននននននននននននននននននននននននននននននននននននននននននននននននននននននននននននននននននននននននននននននននននននននននននននននននននននននននននននននននននននននននននននននននននននននននន\n",
      "🔸 정답 146: 그는 말년에 엄청난 명성을 얻을 것이다.\n",
      "\n",
      "🔹 예측 147: 달라붙는 동무를 물리치고 첫째는 밖으로 나왔다.\n",
      "🔸 정답 147: 달라붙는 동무를 물리치고 첫째는 밖으로 나왔다.\n",
      "\n",
      "🔹 예측 148: 寒 మారారారారారారారారారారారారారారారా.\n",
      "🔸 정답 148: 소나무 아래로 백학 한 쌍이 조는 듯한 그림이다.\n",
      "\n",
      "🔹 예측 149:  នននននននននននននននននននននននននននននននននននននននននននននននននននននននននននននននននននននននននននននននននននននននននននននននននននននននននននននននននននននននននននននននននននននននននននននននននននន\n",
      "🔸 정답 149: 방 안으로 들여놓는 소태나무 보자기를 보며 선비 어머니는 이렇게 말하였다.\n",
      "\n",
      "🔹 예측 150:  ឍឍឍឍឍឍឍឍឍឍឍឍឍឍឍឍឍឍឍឍឍឍឍឍឍឍឍឍឍឍឍឍឍឍឍឍឍឍឍឍឍឍឍឍឍឍឍឍឍឍឍឍឍឍឍឍឍឍឍឍឍឍឍឍឍឍឍឍឍឍឍឍឍឍឍឍឍឍឍឍឍឍឍឍឍឍឍឍឍឍឍឍឍឍឍឍឍឍឍឍឍឍឍឍឍឍឍឍឍឍឍឍឍឍឍឍឍឍឍឍឍឍឍឍឍឍឍឍឍឍឍឍឍឍឍឍឍឍឍឍឍឍឍឍឍឍឍឍ\n",
      "🔸 정답 150: 그러면 나도 내가 생각하였던 것은 모조리 말을 하여 버리리라 하였다.\n",
      "\n",
      "🔹 예측 151:  សឡឡឡឡឡឡឡឡឡឡឡឡឡឡឡឡឡឡឡឡឡឡឡឡឡឡឡឡឡឡឡឡឡឡឡឡឡឡឡឡឡឡឡឡឡ\n",
      "🔸 정답 151: 두 사람은 나란히 서서 기만의 등뒤를 돌아 멀리 바다가 내려다보이는 언덕으로 올라갔다.\n",
      "\n",
      "🔹 예측 152:  សឡឡឡឡឡឡឡឡឡឡឡឡឡឡឡឡឡឡឡឡឡឡឡឡឡឡឡឡឡឡឡឡឡឡឡឡឡឡ\n",
      "🔸 정답 152: 다만 일순간이라도 그 감정을 그대로 가슴에 품고 있는 사람이 적다.\n",
      "\n",
      "🔹 예측 153:  ឡឡឡឡឡឡឡឡឡឡឡឡឡឡឡឡឡឡឡឡ\n",
      "🔸 정답 153: 아니면 행복이 무엇인지 절대 모를 것이다.\n",
      "\n",
      "🔹 예측 154:  សឡឡឡឡឡឡឡឡឡឡឡឡឡឡឡឡឡឡឡឡឡឡ\n",
      "🔸 정답 154: 이러한 전제로서, 자 그러면 내 이야기를 시작하자.\n",
      "\n",
      "🔹 예측 155:  ឍឍឍឍឍឍឍឍឍឍឍឍឍឍឍឍឍឍឍឍឍឍឍឍឍឍឍឍឍឍឍឍឍឍឍឍឍឍឍឍឍឍឍឍឍឍឍឍឍឍឍឍឍឍឍឍឍឍឍឍឍឍឍឍឍឍឍឍឍឍឍឍឍឍឍឍឍឍឍឍឍឍឍឍឍឍឍឍឍឍឍឍឍឍឍឍឍឍឍឍឍឍឍឍឍឍឍឍឍឍឍឍឍឍឍឍឍឍឍឍឍឍឍឍឍឍឍឍឍឍឍឍឍឍឍឍឍឍឍឍឍឍឍឍឍឍឍឍ\n",
      "🔸 정답 155: 그의 가슴은 부끄러움과 감격에 교착이 되어 무섭게 뛰기 시작하였다.\n",
      "\n",
      "🔹 예측 156:  ស ʔ្្្្្្្្្្្្្្្្្្្្្្្\n",
      "🔸 정답 156: 자기의 신조에 어디까지 충실하였다.\n",
      "\n",
      "🔹 예측 157:  ឍឍឍឍឍឍឍឍឍឍឍឍឍឍឍឍឍឍឍឍឍឍឍឍឍឍឍឍឍឍឍឍឍឍឍឍឍឍឍឍឍឍឍឍឍឍឍឍឍឍឍឍឍឍឍឍឍឍឍឍឍឍឍឍឍឍឍឍឍឍឍឍឍឍឍឍឍឍឍឍឍឍឍឍឍឍឍឍឍឍឍឍឍឍឍឍឍឍឍឍឍឍឍឍឍឍឍឍឍឍឍឍឍឍឍឍឍឍឍឍឍឍឍឍឍឍឍឍឍឍឍឍឍឍឍឍឍឍឍឍឍឍឍឍឍឍឍឍ\n",
      "🔸 정답 157: 그리고 술을 들 용기가 나지 않았다.\n",
      "\n",
      "🔹 예측 158:  ឍឍឍឍឍឍឍឍឍឍឍឍឍឍឍឍឍឍឍឍឍឍឍឍឍឍឍឍឍឍឍឍឍឍឍឍឍឍឍឍឍឍឍឍឍឍឍឍឍឍឍឍឍឍឍឍឍឍឍឍឍឍឍឍឍឍឍឍឍឍឍឍឍឍឍឍឍឍឍឍឍឍឍឍឍឍឍឍឍឍឍឍឍឍឍឍឍឍឍឍឍឍឍឍឍឍឍឍឍឍឍឍឍឍឍឍឍឍឍឍឍឍឍឍឍឍឍឍឍឍឍឍឍឍឍឍឍឍឍឍឍឍឍឍឍឍឍឍ\n",
      "🔸 정답 158: 그의 아버지는 음성을 낮추어 가지고 이렇게 간곡히 말하였다.\n",
      "\n",
      "🔹 예측 159:  Ḥᵉᵉᵉᵉᵉᵉᵉᵉᵉᵉᵉᵉᵉᵉᵉᵉᵉᵉᵉᵉᵉᵉᵉᵉᵉᵉᵉᵉᵉᵉᵉᵉᵉᵉᵉᵉᵉᵉᵉᵉᵉᵉᵉᵉᵉᵉᵉᵉᵉᵉᵉᵉᵉᵉᵉᵉᵉᵉᵉᵉᵉᵉᵉᵉᵉᵉᵉᵉᵉᵉᵉᵉᵉᵉᵉᵉᵉᵉᵉᵉᵉᵉᵉᵉᵉᵉᵉᵉᵉᵉᵉᵉᵉᵉᵉᵉᵉᵉᵉᵉᵉᵉᵉᵉᵉᵉᵉᵉᵉᵉᵉᵉᵉᵉᵉᵉᵉᵉᵉᵉᵉᵉᵉᵉᵉᵉᵉᵉᵉᵉᵉᵉᵉᵉᵉᵉᵉᵉᵉᵉᵉᵉᵉᵉᵉᵉᵉ\n",
      "🔸 정답 159: 아이유는 대한민국의 가수이다.\n",
      "\n",
      "🔹 예측 160: 기억이 없는데요.\n",
      "🔸 정답 160: 기억이 없는데요.\"\n",
      "\n",
      "🔹 예측 161: 전차는 또다시 속력을 내어 따라나다가 섰다.\n",
      "🔸 정답 161: 전차는 또다시 속력을 내어 달아나다가 섰다.\n",
      "\n",
      "🔹 예측 162: 백통태 한경은 이상스러운 반면에 뭐라고 형용할 수 없는 무서운 생각이 들었다.\n",
      "🔸 정답 162: 백통테 안경은 이상스러운 반면에 뭐라고 형용할 수 없는 무서운 생각이 들었다.\n",
      "\n",
      "🔹 예측 163:  ឍ្្្្្្្្្្្្្្្្្្្្្្្្្្្្្្្្្្្្្្្្្្្្្្្្្្្្្្្្្្្្្្្្្្\n",
      "🔸 정답 163: 말도 채 마치지 못하여 야근할 여공들이 우르르 밀려들어 온다.\n",
      "\n",
      "🔹 예측 164:  ឡឡឡឡឡឡឡឡឡឡឡឡឡឡឡឡឡឡឡឡឡឡឡឡឡឡឡឡឡឡឡ\n",
      "🔸 정답 164: 그리고 아버지와 어머니 앞에 자기들이 가지런히 서서 가는 것도 그럴듯한 일이었다.\n",
      "\n",
      "🔹 예측 165:  Ḥmᵉᵉᵉᵉᵉᵉᵉᵉᵉᵉᵉᵉᵉᵉᵉᵉᵉᵉᵉᵉᵉᵉᵉᵉᵉᵉᵉᵉᵉᵉᵉᵉᵉᵉᵉᵉᵉᵉᵉᵉᵉᵉᵉᵉᵉᵉᵉᵉᵉᵉᵉᵉᵉᵉᵉᵉᵉᵉᵉᵉᵉᵉᵉᵉᵉᵉᵉᵉᵉᵉᵉᵉᵉᵉᵉᵉᵉᵉᵉᵉᵉᵉᵉᵉᵉᵉᵉᵉᵉᵉᵉᵉᵉᵉᵉᵉᵉᵉᵉᵉᵉᵉᵉᵉᵉᵉᵉᵉᵉᵉᵉᵉᵉᵉᵉᵉᵉᵉᵉᵉᵉᵉᵉᵉᵉᵉᵉᵉᵉᵉᵉᵉᵉᵉᵉᵉᵉᵉᵉᵉᵉᵉᵉᵉᵉᵉ�\n",
      "🔸 정답 165: 어머니만 볼 수 있으면 어디든지 간다.\n",
      "\n",
      "🔹 예측 166:  ឡឡឡឡឡឡឡឡឡឡឡឡឡឡឡឡឡឡ\n",
      "🔸 정답 166: 그리고 빛나는 눈에 이상한 광채를 띠었다.\n",
      "\n",
      "🔹 예측 167: ත්ලලලලලලලලලලලලලලලලලලලලලලලලලලලලලලලලලලලලලලලලලලලලලලලලලලලලලලලලලලලලලලලලලලලලලලලලලලලලලලලලලලලලලලලලලලලලලලලලලලලලලලලලලලලලලලලලලලලලලලලලලලලලලලලලලලලලලලලලලලලලලලලලලලලලලලලලලලලලලලලලලලලලලලලලලලලලලලලලලලලලලලලලලලලලලලලලලලලලලලලලලලලලලලලලලලලලලලලලලලලල\n",
      "🔸 정답 167: 의외로 명확한 대답에 아버지의 얼굴은 순간으로 변하여진다.\n",
      "\n",
      "🔹 예측 168: 슝 మారిల్ల్ల్ల్ల్ల్ల్ల్ల్ల్ల్ల్ల్ల్ల్ల్ల్ల్ల్ల్ల్ల్ల్ల్ల్ల్ల్ల్ల్ల్ల్ల్ల్ల్ల్ల్ల్ల్ల్ల్ల్ల్ల్ల్ల్ల్ల్ల్ల్ల్ల్ల్ల్ల్ల్ల్ల్ల్ల్ల్ల్ల్ల్ల్ల్ల్ల్ల్ల్ల్ల్ల్ల్ల్ల్ల్ల్ల్ల్ల్ల్ల్ల్ల్ల్ల్ల్ల్ల్ల్ల్ల్ల్ల్ల్ల్ల్ల్ల్ల్ల్ల్ల్ల్ల్ల్ల్ల్�\n",
      "🔸 정답 168: 순식간에 두부와 미꾸라지 든 국 한 그릇을 그냥 물같이 들이켜고 말았다.\n",
      "\n",
      "🔹 예측 169:  សឡឡឡឡឡឡឡឡឡឡឡឡឡឡឡឡឡឡឡឡឡឡឡឡឡឡឡឡឡឡឡឡឡឡឡឡ\n",
      "🔸 정답 169: 그때 밖으로부터 그의 동무가 무어라고 떠들며 들어오는 것을 알았다.\n",
      "\n",
      "🔹 예측 170: 정부의 제출 또는 해부적인 정부의 정책에 관계되는 청원의 심사.\n",
      "🔸 정답 170: 정부에 제출 또는 회부된 정부의 정책에 관계되는 청원의 심사\n",
      "\n",
      "🔹 예측 171:  ឍឍឍឍឍឍឍឍឍឍឍឍឍឍឍឍឍឍឍឍឍឍឍឍឍឍឍឍឍឍឍឍឍឍឍឍឍឍឍឍឍឍឍឍឍឍឍឍឍឍឍឍឍឍឍឍឍឍឍឍឍឍឍឍឍឍឍឍឍឍឍឍឍឍឍឍឍឍឍឍឍឍឍឍឍឍឍឍឍឍឍឍឍឍឍឍឍឍឍឍឍឍឍឍឍឍឍឍឍឍឍឍឍឍឍឍឍឍឍឍឍឍឍឍឍឍឍឍឍឍឍឍឍឍឍឍឍឍឍឍឍឍឍឍឍឍឍឍ\n",
      "🔸 정답 171: 몸을 뒤틀며 손과 팔에 매어달린 아이들은 가만히 뿌리쳤다.\n",
      "\n",
      "🔹 예측 172:  នននននននននននននននននននននននន\n",
      "🔸 정답 172: 그러나 그의 행운은 그걸로 그치지 않았다.\n",
      "\n",
      "🔹 예측 173:  කරන්න්න්න්න්න්න්න්න්න්න්න්න්න්න්න්න්න්න්න්න්න්න්න්න්න්න්න්න්න්න්න්න්න්න්න්න්න්න්න්න්න්න්න්න්න්න්න්න්න්න්න්න්න්න්න්න්න්න්න්න්න්න්න්න්න්න්න්න්න්න්න්න්න්න්න්න්න්න්න්න්න්න්න්න්න්න්න්න්න්න්න්න්න්න්න්න්න්න්න්න්න්න්න්න්න්න්න්න්න්\n",
      "🔸 정답 173: 뭐하는건가요?\n",
      "\n",
      "🔹 예측 174: í మారారారారారా.\n",
      "🔸 정답 174: 이 말에 영숙은 아무 말이 없었다.\n",
      "\n",
      "🔹 예측 175:  මෙල්ත්ත්ත්ත්ත්ත්ත්ත්ත්ත්ත්ත්ත්ත්ත්ත්ත්ත්ත්ත්ත්ත්ත්ත්ත්ත්ත්ත්ත්ත්ත්ත්ත්ත්ත්ත්ත්ත්ත්ත්ත්ත්ත්ත්ත්ත්ත්ත්ත්ත්ත්ත්ත්ත්ත්ත්ත්ත්ත්ත්ත්ත්ත්ත්ත්ත්ත්ත්ත්ත්ත්ත්ත්ත්ත්ත්ත්ත්ත්ත්ත්ත්ත්ත්ත්ත්ත්ත්ත්ත්ත්ත්ත්ත්ත්ත්ත්ත්ත්ත්ත්ත්ත්ත්ත්ත්ත්ත්ත්\n",
      "🔸 정답 175: 외눈까풀이가 신철의 앞을 지나칠 때 이렇게 불렀다.\n",
      "\n",
      "🔹 예측 176:  ឍឍឍឍឍឍឍឍឍឍឍឍឍឍឍឍឍឍឍឍឍឍឍឍឍឍឍឍឍឍឍឍឍឍឍឍឍឍឍឍឍឍឍឍឍឍ\n",
      "🔸 정답 176: 꿈을 계속 간직하고 있으면 반드시 실현할 때가 온다.\n",
      "\n",
      "🔹 예측 177: 미숙을 싫어하여 들어가고 나오는 사람은 모두가 말숙한 신사도 숙녀였다.\n",
      "🔸 정답 177: 미쓰고시를 향하여 들어가고 나오는 사람은 모두가 말쑥한 신사고 숙녀였다.\n",
      "\n",
      "🔹 예측 178: 춘우의 속이 몹시 원앙과 분노와 뚫는 비로 찬 것을 간다.\n",
      "🔸 정답 178: 춘우의 속이 몹시 원망과 분노와 또는 비애로 찬 것을 안다.\n",
      "\n",
      "🔹 예측 179:  នននននននននននននននននននននននននននននននននននននននននននននននននននននននននននននននននននននននននននននននននននននននននននននននននននននននននននននននននននននននននននននននននននននននននននននននននននន\n",
      "🔸 정답 179: 나는 지금 배가 고픈 상태이다.\n",
      "\n",
      "🔹 예측 180:  ឍឍឍឍឍឍឍឍឍឍឍឍឍឍឍឍឍឍឍឍឍឍឍឍឍឍឍឍឍឍឍឍឍឍឍឍឍ\n",
      "🔸 정답 180: 그는 파고다공원 앞까지 와서 우뚝 섰다.\n",
      "\n",
      "🔹 예측 181:  ḍḍḍḍḍḍḍḍḍḍḍḍḍḍḍḍḍḍḍḍḍḍḍḍḍḍḍḍḍḍḍḍḍḍḍḍḍḍḍḍḍḍḍḍḍḍḍḍḍḍḍḍḍḍḍḍḍḍḍḍḍḍḍḍḍḍḍḍḍḍḍḍḍḍḍḍḍḍḍḍḍḍḍḍḍḍḍḍḍḍḍḍḍḍḍḍḍḍḍḍḍḍḍḍḍḍḍḍḍḍḍḍḍḍḍḍḍḍḍḍḍḍḍḍḍḍḍḍḍḍḍḍḍḍḍḍḍḍḍḍḍḍḍḍḍḍḍḍ\n",
      "🔸 정답 181: 아담이 그 아내를 하와라 이름하였으니 그는 모든 산 자의 어미가 됨이더라\n",
      "\n",
      "🔹 예측 182:  ឍឍឍឍឍឍឍឍឍឍឍឍឍឍឍឍឍឍឍឍឍឍឍឍឍឍឍឍឍឍឍឍឍឍឍឍឍឍឍឍឍឍឍឍឍឍឍឍឍឍឍឍឍឍឍឍឍឍឍឍឍឍឍឍឍឍឍឍឍឍឍឍឍឍឍឍឍឍឍឍឍឍឍឍឍឍឍឍឍឍឍឍឍឍឍឍឍឍឍឍឍឍឍឍឍឍឍឍឍឍឍឍឍឍឍឍឍឍឍឍឍឍឍឍឍឍឍឍឍឍឍឍឍឍឍឍឍឍឍឍឍឍឍឍឍឍឍឍ\n",
      "🔸 정답 182: 병이란 것은 보통 인간과는 다른 것, 즉 ‘이상’의 상태를 일컬음이다.\n",
      "\n",
      "🔹 예측 183:  ឡឡឡឡឡឡឡឡឡឡឡឡឡឡឡ\n",
      "🔸 정답 183: 입바른 소리 잘 하는 동화의 대답이다.\n",
      "\n",
      "🔹 예측 184:  ស្្្្្្្្្្្្្្្្្្្្្្្្្្្្្្្្្្្្្\n",
      "🔸 정답 184: 집까지 온 첫째는 나뭇가리 옆에 우두커니 서 있었다.\n",
      "\n",
      "🔹 예측 185:  그는 ఇిలిలిలిలిలిలిలిలిలిలిలి.\n",
      "🔸 정답 185: 그는 이불을 꼭 덮어 준 후에 밖으로 나왔다.\n",
      "\n",
      "🔹 예측 186:  ḍ ḍ ḍ ḍ ḍ ḍ ḍ ḍ ḍ ḍ ḍ ḍ ḍ ḍ ḍ ḍ ḍ ḍ ḍ ḍ ḍ ḍ ḍ ḍ ḍ ḍ ḍ ḍ ḍ ḍ ḍ ḍ ḍ ḍ ḍ ḍ ḍ ḍ ḍ ḍ ḍ ḍ ḍ ḍ ḍ ḍ ḍ ḍ ḍ ḍ ḍ ḍ ḍ ḍ ḍ ḍ ḍ ḍ ḍ ḍ ḍ ḍ ḍ ḍ ḍ ḍ ḍ ḍ ḍ ḍ ḍ ḍ ḍ ḍ ḍ ḍ ḍ ḍ ḍ ḍ ḍ ḍ ḍ ḍ ḍ ḍ ḍ ḍ ḍ ḍ ḍ ḍ ḍ ḍ ḍ ḍ ḍ ḍ ḍ ḍ ḍ ḍ ḍ ḍ ḍ ḍ ḍ ḍ ḍ ḍ ḍ ḍ ḍ ḍ ḍ ḍ ḍ ḍ ḍ ḍ ḍ ḍ ḍ ḍ ḍ ḍ ḍ ḍ ḍ ḍ ḍ ḍ ḍ ḍ ḍ ḍ ḍ ḍ ḍ ḍ ḍ ḍ ḍ ḍ ḍ ḍ ḍ ḍ\n",
      "🔸 정답 186: 모든 국민은 사생활의 비밀과 자유를 침해받지 아니한다.\n",
      "\n",
      "🔹 예측 187:  Ḥᵃ Ḥᵃ Ḥᵃ Ḥᵃ Ḥᵃ Ḥᵃ Ḥᵃ Ḥᵃ Ḥᵃ Ḥᵃ Ḥᵃ Ḥᵃ Ḥᵃ Ḥᵃ Ḥᵃ Ḥᵃ Ḥᵃ Ḥᵃ Ḥᵃ Ḥᵃ Ḥᵃ Ḥᵃ Ḥᵃ Ḥᵃ Ḥᵃ Ḥᵃ Ḥᵃ Ḥᵃ Ḥᵃ Ḥᵃ Ḥᵃ Ḥᵃ Ḥᵃ Ḥᵃ Ḥᵃ Ḥᵃ Ḥᵃ Ḥᵃ Ḥᵃ Ḥᵃ Ḥᵃ Ḥᵃ Ḥᵃ Ḥᵃ Ḥᵃ Ḥᵃ Ḥᵃ Ḥᵃ Ḥᵃ Ḥᵃ Ḥᵃ Ḥᵃ Ḥᵃ Ḥᵃ Ḥᵃ Ḥᵃ Ḥᵃ Ḥᵃ Ḥᵃ Ḥᵃ Ḥᵃ Ḥᵃ Ḥᵃ Ḥᵃ Ḥᵃ Ḥᵃ Ḥᵃ Ḥᵃ Ḥᵃ Ḥᵃ Ḥᵃ Ḥᵃ Ḥᵃ Ḥᵃ\n",
      "🔸 정답 187: 말 한마디에 천냥 빚도 갚는다\n",
      "\n",
      "🔹 예측 188:  ស្្្្្្្្្្្្្្្្្្្្្្្្\n",
      "🔸 정답 188: 덕호는 이렇게 말하며 문을 열고 나간다.\n",
      "\n",
      "🔹 예측 189: 공 세계 앞서 나가리\n",
      "🔸 정답 189: 온 세계 앞서 나가리\n",
      "\n",
      "🔹 예측 190:  ḍṭṭṭṭṭṭṭṭṭṭṭṭṭṭṭṭṭṭṭṭṭṭṭṭṭṭṭṭṭṭṭṭṭṭṭṭṭṭṭṭṭṭṭṭṭṭṭṭṭṭṭṭṭṭṭṭṭṭṭṭṭṭṭṭṭṭṭṭṭṭṭṭṭṭṭṭṭṭṭṭṭṭṭṭṭṭṭṭṭṭṭṭṭṭṭṭṭṭṭṭṭṭṭṭṭṭṭṭṭṭṭṭṭṭṭṭṭṭṭṭṭṭṭṭṭṭṭṭṭṭṭṭṭṭṭṭṭṭṭṭṭṭṭṭṭṭṭṭṭṭṭṭṭṭṭṭṭṭṭṭṭṭṭṭṭṭṭṭṭṭṭṭṭṭṭṭṭṭṭṭṭṭṭṭṭṭṭṭṭṭṭṭṭṭṭṭṭṭṭṭṭṭṭṭṭṭṭṭṭṭṭṭṭṭṭṭṭṭṭṭ�\n",
      "🔸 정답 190: 그때 신철이는 전날 옥점에게서 들은 말이 얼핏 생각났다.\n",
      "\n",
      "🔹 예측 191:  ឍṃ ṃ ṃ ṃ ṃ ṃ ṃ ṃ ṃ ṃ ṃ ṃ ṃ ṃ ṃ ṃ ṃ ṃ ṃ ṃ ṃ ṃ ṃ ṃ ṃ ṃ ṃ ṃ ṃ ṃ ṃ ṃ ṃ ṃ ṃ ṃ ṃ ṃ ṃ ṃ ṃ ṃ ṃ ṃ ṃ ṃ ṃ ṃ ṃ ṃ ṃ ṃ ṃ ṃ ṃ ṃ ṃ ṃ ṃ ṃ ṃ ṃ ṃ ṃ ṃ ṃ ṃ ṃ ṃ ṃ ṃ ṃ ṃ ṃ ṃ ṃ ṃ ṃ ṃ ṃ ṃ ṃ ṃ ṃ ṃ ṃ ṃ ṃ ṃ ṃ ṃ ṃ ṃ ṃ ṃ ṃ ṃ ṃ ṃ ṃ ṃ ṃ ṃ ṃ ṃ ṃ ṃ ṃ ṃ ṃ ṃ ṃ ṃ ṃ ṃ ṃ ṃ ṃ ṃ ṃ ṃ ṃ ṃ ṃ ṃ ṃ ṃ ṃ ṃ ṃ ṃ ṃ ṃ ṃ ṃ ṃ ṃ ṃ ṃ ṃ ṃ ṃ ṃ ṃ ṃ ṃ ṃ \n",
      "🔸 정답 191: 영신은 발갛게 상기가 되어서 연단 위로 올라갔다.\n",
      "\n",
      "🔹 예측 192:  ឍឍឍឍឍឍឍឍឍឍឍឍឍឍឍឍឍឍឍឍឍឍឍឍឍឍឍឍឍឍឍឍឍឍ\n",
      "🔸 정답 192: 진리로 뭉쳐진 억센 뜻\n"
     ]
    },
    {
     "name": "stderr",
     "output_type": "stream",
     "text": [
      "\n"
     ]
    }
   ],
   "source": [
    "import numpy as np\n",
    "from tqdm import tqdm\n",
    "from jiwer import wer\n",
    "\n",
    "# 예측 결과 저장용 리스트\n",
    "predictions = []\n",
    "references = []\n",
    "\n",
    "# 전체 데이터셋에 대해 예측 수행\n",
    "for sample in tqdm(dataset):\n",
    "    input_features = processor.feature_extractor(\n",
    "        sample[\"audio\"][\"array\"], sampling_rate=16000, return_tensors=\"pt\"\n",
    "    ).input_features.to(model.device)\n",
    "\n",
    "    predicted_ids = model.generate(input_features)\n",
    "    transcription = processor.batch_decode(predicted_ids, skip_special_tokens=True)[0]\n",
    "\n",
    "    predictions.append(transcription)\n",
    "    references.append(sample[\"sentence\"])\n",
    "\n",
    "# 정확도 평가\n",
    "wer_score = wer(references, predictions)\n",
    "print(f\"\\n✅ 전체 WER (Word Error Rate): {wer_score:.4f}\")\n",
    "\n",
    "# 예측 결과 하나씩 출력\n",
    "print(\"\\n📋 예측 결과 전체 비교:\")\n",
    "for i in range(len(predictions)):\n",
    "    print(f\"\\n🔹 예측 {i+1}: {predictions[i]}\")\n",
    "    print(f\"🔸 정답 {i+1}: {references[i]}\")"
   ]
  },
  {
   "cell_type": "code",
   "execution_count": null,
   "metadata": {},
   "outputs": [],
   "source": []
  }
 ],
 "metadata": {
  "language_info": {
   "name": "python"
  }
 },
 "nbformat": 4,
 "nbformat_minor": 0
}
