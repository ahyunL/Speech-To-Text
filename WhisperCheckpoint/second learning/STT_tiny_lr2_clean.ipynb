{
 "cells": [
  {
   "cell_type": "code",
   "execution_count": 1,
   "metadata": {},
   "outputs": [
    {
     "name": "stdout",
     "output_type": "stream",
     "text": [
      "\u001b[2K   \u001b[90m━━━━━━━━━━━━━━━━━━━━━━━━━━━━━━━━━━━━━━━━\u001b[0m \u001b[32m3.1/3.1 MB\u001b[0m \u001b[31m56.5 MB/s\u001b[0m eta \u001b[36m0:00:00\u001b[0m\n",
      "\u001b[2K   \u001b[90m━━━━━━━━━━━━━━━━━━━━━━━━━━━━━━━━━━━━━━━━\u001b[0m \u001b[32m363.4/363.4 MB\u001b[0m \u001b[31m2.9 MB/s\u001b[0m eta \u001b[36m0:00:00\u001b[0m\n",
      "\u001b[2K   \u001b[90m━━━━━━━━━━━━━━━━━━━━━━━━━━━━━━━━━━━━━━━━\u001b[0m \u001b[32m13.8/13.8 MB\u001b[0m \u001b[31m87.7 MB/s\u001b[0m eta \u001b[36m0:00:00\u001b[0m\n",
      "\u001b[2K   \u001b[90m━━━━━━━━━━━━━━━━━━━━━━━━━━━━━━━━━━━━━━━━\u001b[0m \u001b[32m24.6/24.6 MB\u001b[0m \u001b[31m81.2 MB/s\u001b[0m eta \u001b[36m0:00:00\u001b[0m\n",
      "\u001b[2K   \u001b[90m━━━━━━━━━━━━━━━━━━━━━━━━━━━━━━━━━━━━━━━━\u001b[0m \u001b[32m883.7/883.7 kB\u001b[0m \u001b[31m49.9 MB/s\u001b[0m eta \u001b[36m0:00:00\u001b[0m\n",
      "\u001b[2K   \u001b[90m━━━━━━━━━━━━━━━━━━━━━━━━━━━━━━━━━━━━━━━━\u001b[0m \u001b[32m664.8/664.8 MB\u001b[0m \u001b[31m2.0 MB/s\u001b[0m eta \u001b[36m0:00:00\u001b[0m\n",
      "\u001b[2K   \u001b[90m━━━━━━━━━━━━━━━━━━━━━━━━━━━━━━━━━━━━━━━━\u001b[0m \u001b[32m211.5/211.5 MB\u001b[0m \u001b[31m4.9 MB/s\u001b[0m eta \u001b[36m0:00:00\u001b[0m\n",
      "\u001b[2K   \u001b[90m━━━━━━━━━━━━━━━━━━━━━━━━━━━━━━━━━━━━━━━━\u001b[0m \u001b[32m56.3/56.3 MB\u001b[0m \u001b[31m42.1 MB/s\u001b[0m eta \u001b[36m0:00:00\u001b[0m\n",
      "\u001b[2K   \u001b[90m━━━━━━━━━━━━━━━━━━━━━━━━━━━━━━━━━━━━━━━━\u001b[0m \u001b[32m127.9/127.9 MB\u001b[0m \u001b[31m19.4 MB/s\u001b[0m eta \u001b[36m0:00:00\u001b[0m\n",
      "\u001b[2K   \u001b[90m━━━━━━━━━━━━━━━━━━━━━━━━━━━━━━━━━━━━━━━━\u001b[0m \u001b[32m207.5/207.5 MB\u001b[0m \u001b[31m5.0 MB/s\u001b[0m eta \u001b[36m0:00:00\u001b[0m\n",
      "\u001b[2K   \u001b[90m━━━━━━━━━━━━━━━━━━━━━━━━━━━━━━━━━━━━━━━━\u001b[0m \u001b[32m21.1/21.1 MB\u001b[0m \u001b[31m109.3 MB/s\u001b[0m eta \u001b[36m0:00:00\u001b[0m\n",
      "\u001b[?25hRequirement already satisfied: datasets in /usr/local/lib/python3.11/dist-packages (2.14.4)\n",
      "Collecting datasets\n",
      "  Downloading datasets-3.6.0-py3-none-any.whl.metadata (19 kB)\n",
      "Requirement already satisfied: transformers in /usr/local/lib/python3.11/dist-packages (4.51.3)\n",
      "Requirement already satisfied: accelerate in /usr/local/lib/python3.11/dist-packages (1.6.0)\n",
      "Collecting accelerate\n",
      "  Downloading accelerate-1.7.0-py3-none-any.whl.metadata (19 kB)\n",
      "Collecting evaluate\n",
      "  Downloading evaluate-0.4.3-py3-none-any.whl.metadata (9.2 kB)\n",
      "Requirement already satisfied: filelock in /usr/local/lib/python3.11/dist-packages (from datasets) (3.18.0)\n",
      "Requirement already satisfied: numpy>=1.17 in /usr/local/lib/python3.11/dist-packages (from datasets) (2.0.2)\n",
      "Requirement already satisfied: pyarrow>=15.0.0 in /usr/local/lib/python3.11/dist-packages (from datasets) (18.1.0)\n",
      "Requirement already satisfied: dill<0.3.9,>=0.3.0 in /usr/local/lib/python3.11/dist-packages (from datasets) (0.3.7)\n",
      "Requirement already satisfied: pandas in /usr/local/lib/python3.11/dist-packages (from datasets) (2.2.2)\n",
      "Requirement already satisfied: requests>=2.32.2 in /usr/local/lib/python3.11/dist-packages (from datasets) (2.32.3)\n",
      "Requirement already satisfied: tqdm>=4.66.3 in /usr/local/lib/python3.11/dist-packages (from datasets) (4.67.1)\n",
      "Requirement already satisfied: xxhash in /usr/local/lib/python3.11/dist-packages (from datasets) (3.5.0)\n",
      "Requirement already satisfied: multiprocess<0.70.17 in /usr/local/lib/python3.11/dist-packages (from datasets) (0.70.15)\n",
      "Collecting fsspec<=2025.3.0,>=2023.1.0 (from fsspec[http]<=2025.3.0,>=2023.1.0->datasets)\n",
      "  Downloading fsspec-2025.3.0-py3-none-any.whl.metadata (11 kB)\n",
      "Requirement already satisfied: huggingface-hub>=0.24.0 in /usr/local/lib/python3.11/dist-packages (from datasets) (0.31.2)\n",
      "Requirement already satisfied: packaging in /usr/local/lib/python3.11/dist-packages (from datasets) (24.2)\n",
      "Requirement already satisfied: pyyaml>=5.1 in /usr/local/lib/python3.11/dist-packages (from datasets) (6.0.2)\n",
      "Requirement already satisfied: regex!=2019.12.17 in /usr/local/lib/python3.11/dist-packages (from transformers) (2024.11.6)\n",
      "Requirement already satisfied: tokenizers<0.22,>=0.21 in /usr/local/lib/python3.11/dist-packages (from transformers) (0.21.1)\n",
      "Requirement already satisfied: safetensors>=0.4.3 in /usr/local/lib/python3.11/dist-packages (from transformers) (0.5.3)\n",
      "Requirement already satisfied: psutil in /usr/local/lib/python3.11/dist-packages (from accelerate) (5.9.5)\n",
      "Requirement already satisfied: torch>=2.0.0 in /usr/local/lib/python3.11/dist-packages (from accelerate) (2.6.0+cu124)\n",
      "Requirement already satisfied: aiohttp!=4.0.0a0,!=4.0.0a1 in /usr/local/lib/python3.11/dist-packages (from fsspec[http]<=2025.3.0,>=2023.1.0->datasets) (3.11.15)\n",
      "Requirement already satisfied: typing-extensions>=3.7.4.3 in /usr/local/lib/python3.11/dist-packages (from huggingface-hub>=0.24.0->datasets) (4.13.2)\n",
      "Requirement already satisfied: charset-normalizer<4,>=2 in /usr/local/lib/python3.11/dist-packages (from requests>=2.32.2->datasets) (3.4.2)\n",
      "Requirement already satisfied: idna<4,>=2.5 in /usr/local/lib/python3.11/dist-packages (from requests>=2.32.2->datasets) (3.10)\n",
      "Requirement already satisfied: urllib3<3,>=1.21.1 in /usr/local/lib/python3.11/dist-packages (from requests>=2.32.2->datasets) (2.4.0)\n",
      "Requirement already satisfied: certifi>=2017.4.17 in /usr/local/lib/python3.11/dist-packages (from requests>=2.32.2->datasets) (2025.4.26)\n",
      "Requirement already satisfied: networkx in /usr/local/lib/python3.11/dist-packages (from torch>=2.0.0->accelerate) (3.4.2)\n",
      "Requirement already satisfied: jinja2 in /usr/local/lib/python3.11/dist-packages (from torch>=2.0.0->accelerate) (3.1.6)\n",
      "Requirement already satisfied: nvidia-cuda-nvrtc-cu12==12.4.127 in /usr/local/lib/python3.11/dist-packages (from torch>=2.0.0->accelerate) (12.4.127)\n",
      "Requirement already satisfied: nvidia-cuda-runtime-cu12==12.4.127 in /usr/local/lib/python3.11/dist-packages (from torch>=2.0.0->accelerate) (12.4.127)\n",
      "Requirement already satisfied: nvidia-cuda-cupti-cu12==12.4.127 in /usr/local/lib/python3.11/dist-packages (from torch>=2.0.0->accelerate) (12.4.127)\n",
      "Requirement already satisfied: nvidia-cudnn-cu12==9.1.0.70 in /usr/local/lib/python3.11/dist-packages (from torch>=2.0.0->accelerate) (9.1.0.70)\n",
      "Requirement already satisfied: nvidia-cublas-cu12==12.4.5.8 in /usr/local/lib/python3.11/dist-packages (from torch>=2.0.0->accelerate) (12.4.5.8)\n",
      "Requirement already satisfied: nvidia-cufft-cu12==11.2.1.3 in /usr/local/lib/python3.11/dist-packages (from torch>=2.0.0->accelerate) (11.2.1.3)\n",
      "Requirement already satisfied: nvidia-curand-cu12==10.3.5.147 in /usr/local/lib/python3.11/dist-packages (from torch>=2.0.0->accelerate) (10.3.5.147)\n",
      "Requirement already satisfied: nvidia-cusolver-cu12==11.6.1.9 in /usr/local/lib/python3.11/dist-packages (from torch>=2.0.0->accelerate) (11.6.1.9)\n",
      "Requirement already satisfied: nvidia-cusparse-cu12==12.3.1.170 in /usr/local/lib/python3.11/dist-packages (from torch>=2.0.0->accelerate) (12.3.1.170)\n",
      "Requirement already satisfied: nvidia-cusparselt-cu12==0.6.2 in /usr/local/lib/python3.11/dist-packages (from torch>=2.0.0->accelerate) (0.6.2)\n",
      "Requirement already satisfied: nvidia-nccl-cu12==2.21.5 in /usr/local/lib/python3.11/dist-packages (from torch>=2.0.0->accelerate) (2.21.5)\n",
      "Requirement already satisfied: nvidia-nvtx-cu12==12.4.127 in /usr/local/lib/python3.11/dist-packages (from torch>=2.0.0->accelerate) (12.4.127)\n",
      "Requirement already satisfied: nvidia-nvjitlink-cu12==12.4.127 in /usr/local/lib/python3.11/dist-packages (from torch>=2.0.0->accelerate) (12.4.127)\n",
      "Requirement already satisfied: triton==3.2.0 in /usr/local/lib/python3.11/dist-packages (from torch>=2.0.0->accelerate) (3.2.0)\n",
      "Requirement already satisfied: sympy==1.13.1 in /usr/local/lib/python3.11/dist-packages (from torch>=2.0.0->accelerate) (1.13.1)\n",
      "Requirement already satisfied: mpmath<1.4,>=1.1.0 in /usr/local/lib/python3.11/dist-packages (from sympy==1.13.1->torch>=2.0.0->accelerate) (1.3.0)\n",
      "Requirement already satisfied: python-dateutil>=2.8.2 in /usr/local/lib/python3.11/dist-packages (from pandas->datasets) (2.9.0.post0)\n",
      "Requirement already satisfied: pytz>=2020.1 in /usr/local/lib/python3.11/dist-packages (from pandas->datasets) (2025.2)\n",
      "Requirement already satisfied: tzdata>=2022.7 in /usr/local/lib/python3.11/dist-packages (from pandas->datasets) (2025.2)\n",
      "Requirement already satisfied: aiohappyeyeballs>=2.3.0 in /usr/local/lib/python3.11/dist-packages (from aiohttp!=4.0.0a0,!=4.0.0a1->fsspec[http]<=2025.3.0,>=2023.1.0->datasets) (2.6.1)\n",
      "Requirement already satisfied: aiosignal>=1.1.2 in /usr/local/lib/python3.11/dist-packages (from aiohttp!=4.0.0a0,!=4.0.0a1->fsspec[http]<=2025.3.0,>=2023.1.0->datasets) (1.3.2)\n",
      "Requirement already satisfied: attrs>=17.3.0 in /usr/local/lib/python3.11/dist-packages (from aiohttp!=4.0.0a0,!=4.0.0a1->fsspec[http]<=2025.3.0,>=2023.1.0->datasets) (25.3.0)\n",
      "Requirement already satisfied: frozenlist>=1.1.1 in /usr/local/lib/python3.11/dist-packages (from aiohttp!=4.0.0a0,!=4.0.0a1->fsspec[http]<=2025.3.0,>=2023.1.0->datasets) (1.6.0)\n",
      "Requirement already satisfied: multidict<7.0,>=4.5 in /usr/local/lib/python3.11/dist-packages (from aiohttp!=4.0.0a0,!=4.0.0a1->fsspec[http]<=2025.3.0,>=2023.1.0->datasets) (6.4.3)\n",
      "Requirement already satisfied: propcache>=0.2.0 in /usr/local/lib/python3.11/dist-packages (from aiohttp!=4.0.0a0,!=4.0.0a1->fsspec[http]<=2025.3.0,>=2023.1.0->datasets) (0.3.1)\n",
      "Requirement already satisfied: yarl<2.0,>=1.17.0 in /usr/local/lib/python3.11/dist-packages (from aiohttp!=4.0.0a0,!=4.0.0a1->fsspec[http]<=2025.3.0,>=2023.1.0->datasets) (1.20.0)\n",
      "Requirement already satisfied: six>=1.5 in /usr/local/lib/python3.11/dist-packages (from python-dateutil>=2.8.2->pandas->datasets) (1.17.0)\n",
      "Requirement already satisfied: MarkupSafe>=2.0 in /usr/local/lib/python3.11/dist-packages (from jinja2->torch>=2.0.0->accelerate) (3.0.2)\n",
      "Downloading datasets-3.6.0-py3-none-any.whl (491 kB)\n",
      "\u001b[2K   \u001b[90m━━━━━━━━━━━━━━━━━━━━━━━━━━━━━━━━━━━━━━━━\u001b[0m \u001b[32m491.5/491.5 kB\u001b[0m \u001b[31m15.3 MB/s\u001b[0m eta \u001b[36m0:00:00\u001b[0m\n",
      "\u001b[?25hDownloading accelerate-1.7.0-py3-none-any.whl (362 kB)\n",
      "\u001b[2K   \u001b[90m━━━━━━━━━━━━━━━━━━━━━━━━━━━━━━━━━━━━━━━━\u001b[0m \u001b[32m362.1/362.1 kB\u001b[0m \u001b[31m35.4 MB/s\u001b[0m eta \u001b[36m0:00:00\u001b[0m\n",
      "\u001b[?25hDownloading evaluate-0.4.3-py3-none-any.whl (84 kB)\n",
      "\u001b[2K   \u001b[90m━━━━━━━━━━━━━━━━━━━━━━━━━━━━━━━━━━━━━━━━\u001b[0m \u001b[32m84.0/84.0 kB\u001b[0m \u001b[31m9.3 MB/s\u001b[0m eta \u001b[36m0:00:00\u001b[0m\n",
      "\u001b[?25hDownloading fsspec-2025.3.0-py3-none-any.whl (193 kB)\n",
      "\u001b[2K   \u001b[90m━━━━━━━━━━━━━━━━━━━━━━━━━━━━━━━━━━━━━━━━\u001b[0m \u001b[32m193.6/193.6 kB\u001b[0m \u001b[31m21.8 MB/s\u001b[0m eta \u001b[36m0:00:00\u001b[0m\n",
      "\u001b[?25hInstalling collected packages: fsspec, datasets, accelerate, evaluate\n",
      "  Attempting uninstall: fsspec\n",
      "    Found existing installation: fsspec 2025.3.2\n",
      "    Uninstalling fsspec-2025.3.2:\n",
      "      Successfully uninstalled fsspec-2025.3.2\n",
      "  Attempting uninstall: datasets\n",
      "    Found existing installation: datasets 2.14.4\n",
      "    Uninstalling datasets-2.14.4:\n",
      "      Successfully uninstalled datasets-2.14.4\n",
      "  Attempting uninstall: accelerate\n",
      "    Found existing installation: accelerate 1.6.0\n",
      "    Uninstalling accelerate-1.6.0:\n",
      "      Successfully uninstalled accelerate-1.6.0\n",
      "\u001b[31mERROR: pip's dependency resolver does not currently take into account all the packages that are installed. This behaviour is the source of the following dependency conflicts.\n",
      "gcsfs 2025.3.2 requires fsspec==2025.3.2, but you have fsspec 2025.3.0 which is incompatible.\u001b[0m\u001b[31m\n",
      "\u001b[0mSuccessfully installed accelerate-1.7.0 datasets-3.6.0 evaluate-0.4.3 fsspec-2025.3.0\n",
      "Mounted at /content/drive\n"
     ]
    },
    {
     "data": {
      "application/vnd.jupyter.widget-view+json": {
       "model_id": "f59d6ab0be2c4f3daf64d60c88065a2a",
       "version_major": 2,
       "version_minor": 0
      },
      "text/plain": [
       "VBox(children=(HTML(value='<center> <img\\nsrc=https://huggingface.co/front/assets/huggingface_logo-noborder.sv…"
      ]
     },
     "metadata": {},
     "output_type": "display_data"
    }
   ],
   "source": [
    "!pip install -q datasets transformers librosa jiwer accelerate\n",
    "!pip install -U datasets transformers accelerate evaluate\n",
    "\n",
    "from google.colab import drive\n",
    "from huggingface_hub import notebook_login\n",
    "\n",
    "drive.mount(\"/content/drive\")\n",
    "notebook_login()"
   ]
  },
  {
   "cell_type": "code",
   "execution_count": 2,
   "metadata": {},
   "outputs": [
    {
     "name": "stderr",
     "output_type": "stream",
     "text": [
      "/usr/local/lib/python3.11/dist-packages/huggingface_hub/utils/_auth.py:94: UserWarning: \n",
      "The secret `HF_TOKEN` does not exist in your Colab secrets.\n",
      "To authenticate with the Hugging Face Hub, create a token in your settings tab (https://huggingface.co/settings/tokens), set it as secret in your Google Colab and restart your session.\n",
      "You will be able to reuse this secret in all of your notebooks.\n",
      "Please note that authentication is recommended but still optional to access public models or datasets.\n",
      "  warnings.warn(\n"
     ]
    },
    {
     "data": {
      "application/vnd.jupyter.widget-view+json": {
       "model_id": "4067d2a098fd42fb82680af588898691",
       "version_major": 2,
       "version_minor": 0
      },
      "text/plain": [
       "README.md:   0%|          | 0.00/14.7k [00:00<?, ?B/s]"
      ]
     },
     "metadata": {},
     "output_type": "display_data"
    },
    {
     "data": {
      "application/vnd.jupyter.widget-view+json": {
       "model_id": "245b4617062c460dad8232713dbc3760",
       "version_major": 2,
       "version_minor": 0
      },
      "text/plain": [
       "common_voice_13_0.py:   0%|          | 0.00/8.18k [00:00<?, ?B/s]"
      ]
     },
     "metadata": {},
     "output_type": "display_data"
    },
    {
     "data": {
      "application/vnd.jupyter.widget-view+json": {
       "model_id": "be94a43cd5fd45d29a86929d89e6745b",
       "version_major": 2,
       "version_minor": 0
      },
      "text/plain": [
       "languages.py:   0%|          | 0.00/3.65k [00:00<?, ?B/s]"
      ]
     },
     "metadata": {},
     "output_type": "display_data"
    },
    {
     "data": {
      "application/vnd.jupyter.widget-view+json": {
       "model_id": "d644b9eb906d40d4819b2d889698f918",
       "version_major": 2,
       "version_minor": 0
      },
      "text/plain": [
       "release_stats.py:   0%|          | 0.00/65.4k [00:00<?, ?B/s]"
      ]
     },
     "metadata": {},
     "output_type": "display_data"
    },
    {
     "name": "stdout",
     "output_type": "stream",
     "text": [
      "The repository for mozilla-foundation/common_voice_13_0 contains custom code which must be executed to correctly load the dataset. You can inspect the repository content at https://hf.co/datasets/mozilla-foundation/common_voice_13_0.\n",
      "You can avoid this prompt in future by passing the argument `trust_remote_code=True`.\n",
      "\n",
      "Do you wish to run the custom code? [y/N] y\n"
     ]
    },
    {
     "name": "stderr",
     "output_type": "stream",
     "text": [
      "Reading metadata...: 192it [00:00, 540.72it/s]\n",
      "Reading metadata...: 1013968it [00:23, 43488.82it/s]\n",
      "Reading metadata...: 7071it [00:00, 24116.09it/s]\n",
      "Reading metadata...: 540437it [00:15, 34319.17it/s]\n",
      "Reading metadata...: 105it [00:00, 487.06it/s]\n",
      "Reading metadata...: 16372it [00:00, 32629.39it/s]\n",
      "Reading metadata...: 4961it [00:01, 2714.27it/s]\n",
      "Reading metadata...: 16143it [00:00, 24922.16it/s]\n",
      "Reading metadata...: 131it [00:00, 756.20it/s]\n",
      "Reading metadata...: 16372it [00:00, 34595.67it/s]\n",
      "Reading metadata...: 4961it [00:00, 13607.00it/s]\n",
      "Reading metadata...: 16143it [00:00, 35538.51it/s]\n"
     ]
    }
   ],
   "source": [
    "from datasets import load_dataset, Dataset\n",
    "from itertools import islice\n",
    "\n",
    "# 학습용 (train split)\n",
    "ko_train = list(islice(load_dataset(\"mozilla-foundation/common_voice_13_0\", \"ko\", split=\"train\", streaming=True), 192))\n",
    "en_train = list(islice(load_dataset(\"mozilla-foundation/common_voice_13_0\", \"en\", split=\"train\", streaming=True), 200))\n",
    "ja_train = list(islice(load_dataset(\"mozilla-foundation/common_voice_13_0\", \"ja\", split=\"train\", streaming=True), 200))\n",
    "de_train = list(islice(load_dataset(\"mozilla-foundation/common_voice_13_0\", \"de\", split=\"train\", streaming=True), 200))\n",
    "\n",
    "train_dataset = Dataset.from_list(ko_train + en_train + ja_train + de_train)\n",
    "\n",
    "# 검증용 (validation split - streaming 적용, 개수 제한)\n",
    "ko_val = list(islice(load_dataset(\"mozilla-foundation/common_voice_13_0\", \"ko\", split=\"validation\", streaming=True), 100))\n",
    "en_val = list(islice(load_dataset(\"mozilla-foundation/common_voice_13_0\", \"en\", split=\"validation\", streaming=True), 100))\n",
    "ja_val = list(islice(load_dataset(\"mozilla-foundation/common_voice_13_0\", \"ja\", split=\"validation\", streaming=True), 100))\n",
    "de_val = list(islice(load_dataset(\"mozilla-foundation/common_voice_13_0\", \"de\", split=\"validation\", streaming=True), 100))\n",
    "\n",
    "val_dataset = Dataset.from_list(ko_val + en_val + ja_val + de_val)\n",
    "\n",
    "# 테스트용 (test split - streaming 적용, 개수 제한)\n",
    "from itertools import islice\n",
    "\n",
    "ko_test = list(islice(load_dataset(\"mozilla-foundation/common_voice_13_0\", \"ko\", split=\"test\", streaming=True), 100))\n",
    "en_test = list(islice(load_dataset(\"mozilla-foundation/common_voice_13_0\", \"en\", split=\"test\", streaming=True), 100))\n",
    "ja_test = list(islice(load_dataset(\"mozilla-foundation/common_voice_13_0\", \"ja\", split=\"test\", streaming=True), 100))\n",
    "de_test = list(islice(load_dataset(\"mozilla-foundation/common_voice_13_0\", \"de\", split=\"test\", streaming=True), 100))\n",
    "\n",
    "test_dataset = Dataset.from_list(ko_test + en_test + ja_test + de_test)"
   ]
  },
  {
   "cell_type": "code",
   "execution_count": 3,
   "metadata": {},
   "outputs": [
    {
     "data": {
      "application/vnd.jupyter.widget-view+json": {
       "model_id": "2da8e90c2197431fbb0294be85c386ec",
       "version_major": 2,
       "version_minor": 0
      },
      "text/plain": [
       "preprocessor_config.json:   0%|          | 0.00/185k [00:00<?, ?B/s]"
      ]
     },
     "metadata": {},
     "output_type": "display_data"
    },
    {
     "data": {
      "application/vnd.jupyter.widget-view+json": {
       "model_id": "2de0ac05351c43328f0490e2e8f2a066",
       "version_major": 2,
       "version_minor": 0
      },
      "text/plain": [
       "tokenizer_config.json:   0%|          | 0.00/283k [00:00<?, ?B/s]"
      ]
     },
     "metadata": {},
     "output_type": "display_data"
    },
    {
     "data": {
      "application/vnd.jupyter.widget-view+json": {
       "model_id": "d94e8a61e2ce4112aeb8a7c6e896e86b",
       "version_major": 2,
       "version_minor": 0
      },
      "text/plain": [
       "vocab.json:   0%|          | 0.00/836k [00:00<?, ?B/s]"
      ]
     },
     "metadata": {},
     "output_type": "display_data"
    },
    {
     "data": {
      "application/vnd.jupyter.widget-view+json": {
       "model_id": "e99eeb6af9464c23a24e2c9533a554d8",
       "version_major": 2,
       "version_minor": 0
      },
      "text/plain": [
       "tokenizer.json:   0%|          | 0.00/2.48M [00:00<?, ?B/s]"
      ]
     },
     "metadata": {},
     "output_type": "display_data"
    },
    {
     "data": {
      "application/vnd.jupyter.widget-view+json": {
       "model_id": "54c2a26fd9bc46d8b3823ae618b6ef1d",
       "version_major": 2,
       "version_minor": 0
      },
      "text/plain": [
       "merges.txt:   0%|          | 0.00/494k [00:00<?, ?B/s]"
      ]
     },
     "metadata": {},
     "output_type": "display_data"
    },
    {
     "data": {
      "application/vnd.jupyter.widget-view+json": {
       "model_id": "bc4df2c615d44755b921d6d9574c9ac5",
       "version_major": 2,
       "version_minor": 0
      },
      "text/plain": [
       "normalizer.json:   0%|          | 0.00/52.7k [00:00<?, ?B/s]"
      ]
     },
     "metadata": {},
     "output_type": "display_data"
    },
    {
     "data": {
      "application/vnd.jupyter.widget-view+json": {
       "model_id": "cf7ce67a61d9451bb546988f1144ad47",
       "version_major": 2,
       "version_minor": 0
      },
      "text/plain": [
       "added_tokens.json:   0%|          | 0.00/34.6k [00:00<?, ?B/s]"
      ]
     },
     "metadata": {},
     "output_type": "display_data"
    },
    {
     "data": {
      "application/vnd.jupyter.widget-view+json": {
       "model_id": "311d29523e264f6fa9f34c21ce416934",
       "version_major": 2,
       "version_minor": 0
      },
      "text/plain": [
       "special_tokens_map.json:   0%|          | 0.00/2.19k [00:00<?, ?B/s]"
      ]
     },
     "metadata": {},
     "output_type": "display_data"
    },
    {
     "data": {
      "application/vnd.jupyter.widget-view+json": {
       "model_id": "682e1a22977b48b0904aacb59397a0cc",
       "version_major": 2,
       "version_minor": 0
      },
      "text/plain": [
       "config.json:   0%|          | 0.00/1.98k [00:00<?, ?B/s]"
      ]
     },
     "metadata": {},
     "output_type": "display_data"
    },
    {
     "data": {
      "application/vnd.jupyter.widget-view+json": {
       "model_id": "669639cb60ac4791acd65ec8d3314f36",
       "version_major": 2,
       "version_minor": 0
      },
      "text/plain": [
       "model.safetensors:   0%|          | 0.00/151M [00:00<?, ?B/s]"
      ]
     },
     "metadata": {},
     "output_type": "display_data"
    },
    {
     "data": {
      "application/vnd.jupyter.widget-view+json": {
       "model_id": "efaf9476116b454da7b0da15da31b862",
       "version_major": 2,
       "version_minor": 0
      },
      "text/plain": [
       "generation_config.json:   0%|          | 0.00/3.75k [00:00<?, ?B/s]"
      ]
     },
     "metadata": {},
     "output_type": "display_data"
    }
   ],
   "source": [
    "from transformers import WhisperProcessor, WhisperForConditionalGeneration\n",
    "\n",
    "checkpoint = \"openai/whisper-tiny\"\n",
    "processor = WhisperProcessor.from_pretrained(checkpoint)\n",
    "model = WhisperForConditionalGeneration.from_pretrained(checkpoint)\n",
    "model.config.forced_decoder_ids = None\n",
    "model.config.suppress_tokens = []"
   ]
  },
  {
   "cell_type": "code",
   "execution_count": 4,
   "metadata": {},
   "outputs": [
    {
     "data": {
      "application/vnd.jupyter.widget-view+json": {
       "model_id": "6b5d9833c1dc449dbfab217bfc073af8",
       "version_major": 2,
       "version_minor": 0
      },
      "text/plain": [
       "Map:   0%|          | 0/792 [00:00<?, ? examples/s]"
      ]
     },
     "metadata": {},
     "output_type": "display_data"
    },
    {
     "data": {
      "application/vnd.jupyter.widget-view+json": {
       "model_id": "2c0a90f4eeba4c8dbf10e9fb6e4b2149",
       "version_major": 2,
       "version_minor": 0
      },
      "text/plain": [
       "Map:   0%|          | 0/400 [00:00<?, ? examples/s]"
      ]
     },
     "metadata": {},
     "output_type": "display_data"
    },
    {
     "data": {
      "application/vnd.jupyter.widget-view+json": {
       "model_id": "a133c58f550f4a71a47d521f0f546938",
       "version_major": 2,
       "version_minor": 0
      },
      "text/plain": [
       "Map:   0%|          | 0/400 [00:00<?, ? examples/s]"
      ]
     },
     "metadata": {},
     "output_type": "display_data"
    }
   ],
   "source": [
    "def prepare_dataset(example):\n",
    "    audio = example[\"audio\"]\n",
    "    example[\"input_features\"] = processor.feature_extractor(audio[\"array\"], sampling_rate=16000).input_features[0]\n",
    "    example[\"labels\"] = processor.tokenizer(example[\"sentence\"]).input_ids\n",
    "    return example\n",
    "\n",
    "processed_dataset_train = train_dataset.map(prepare_dataset, remove_columns=train_dataset.column_names)\n",
    "processed_dataset_val = val_dataset.map(prepare_dataset, remove_columns=val_dataset.column_names)\n",
    "processed_dataset_test = test_dataset.map(prepare_dataset, remove_columns=test_dataset.column_names)\n"
   ]
  },
  {
   "cell_type": "code",
   "execution_count": 5,
   "metadata": {},
   "outputs": [],
   "source": [
    "from dataclasses import dataclass\n",
    "from typing import Any, Dict, List, Union\n",
    "import torch\n",
    "\n",
    "@dataclass\n",
    "class DataCollatorSpeechSeq2SeqWithPadding:\n",
    "    processor: Any\n",
    "    padding: Union[bool, str] = True\n",
    "\n",
    "    def __call__(self, features: List[Dict[str, Union[List[int], torch.Tensor]]]) -> Dict[str, torch.Tensor]:\n",
    "        input_features = [{\"input_features\": f[\"input_features\"]} for f in features]\n",
    "        label_features = [{\"input_ids\": f[\"labels\"]} for f in features]\n",
    "        batch = self.processor.feature_extractor.pad(input_features, return_tensors=\"pt\")\n",
    "        labels_batch = self.processor.tokenizer.pad(label_features, return_tensors=\"pt\")\n",
    "        labels = labels_batch[\"input_ids\"].masked_fill(labels_batch.attention_mask.ne(1), -100)\n",
    "        batch[\"labels\"] = labels\n",
    "        return batch\n",
    "\n",
    "data_collator = DataCollatorSpeechSeq2SeqWithPadding(processor=processor)\n"
   ]
  },
  {
   "cell_type": "code",
   "execution_count": 6,
   "metadata": {},
   "outputs": [
    {
     "name": "stderr",
     "output_type": "stream",
     "text": [
      "<ipython-input-6-309c3641ed83>:14: FutureWarning: `tokenizer` is deprecated and will be removed in version 5.0.0 for `Trainer.__init__`. Use `processing_class` instead.\n",
      "  trainer = Trainer(\n"
     ]
    }
   ],
   "source": [
    "from transformers import TrainingArguments, Trainer\n",
    "\n",
    "training_args = TrainingArguments(\n",
    "    output_dir=\"/content/drive/MyDrive/WhisperCheckpoints/run_tiny_lr2\",\n",
    "    per_device_train_batch_size=8,\n",
    "    learning_rate=3e-5,\n",
    "    num_train_epochs=5,\n",
    "    logging_steps=10,\n",
    "    save_strategy=\"epoch\",\n",
    "    fp16=True,\n",
    "    report_to=\"none\"\n",
    ")\n",
    "\n",
    "trainer = Trainer(\n",
    "    model=model,\n",
    "    args=training_args,\n",
    "    train_dataset=processed_dataset_train,\n",
    "    tokenizer=processor,\n",
    "    data_collator=data_collator\n",
    ")"
   ]
  },
  {
   "cell_type": "code",
   "execution_count": 7,
   "metadata": {},
   "outputs": [
    {
     "name": "stderr",
     "output_type": "stream",
     "text": [
      "Passing a tuple of `past_key_values` is deprecated and will be removed in Transformers v4.43.0. You should pass an instance of `EncoderDecoderCache` instead, e.g. `past_key_values=EncoderDecoderCache.from_legacy_cache(past_key_values)`.\n"
     ]
    },
    {
     "data": {
      "text/html": [
       "\n",
       "    <div>\n",
       "      \n",
       "      <progress value='495' max='495' style='width:300px; height:20px; vertical-align: middle;'></progress>\n",
       "      [495/495 07:38, Epoch 5/5]\n",
       "    </div>\n",
       "    <table border=\"1\" class=\"dataframe\">\n",
       "  <thead>\n",
       " <tr style=\"text-align: left;\">\n",
       "      <th>Step</th>\n",
       "      <th>Training Loss</th>\n",
       "    </tr>\n",
       "  </thead>\n",
       "  <tbody>\n",
       "    <tr>\n",
       "      <td>10</td>\n",
       "      <td>6.985500</td>\n",
       "    </tr>\n",
       "    <tr>\n",
       "      <td>20</td>\n",
       "      <td>5.046300</td>\n",
       "    </tr>\n",
       "    <tr>\n",
       "      <td>30</td>\n",
       "      <td>4.723500</td>\n",
       "    </tr>\n",
       "    <tr>\n",
       "      <td>40</td>\n",
       "      <td>4.713400</td>\n",
       "    </tr>\n",
       "    <tr>\n",
       "      <td>50</td>\n",
       "      <td>4.599400</td>\n",
       "    </tr>\n",
       "    <tr>\n",
       "      <td>60</td>\n",
       "      <td>4.454900</td>\n",
       "    </tr>\n",
       "    <tr>\n",
       "      <td>70</td>\n",
       "      <td>4.437600</td>\n",
       "    </tr>\n",
       "    <tr>\n",
       "      <td>80</td>\n",
       "      <td>4.350800</td>\n",
       "    </tr>\n",
       "    <tr>\n",
       "      <td>90</td>\n",
       "      <td>4.337600</td>\n",
       "    </tr>\n",
       "    <tr>\n",
       "      <td>100</td>\n",
       "      <td>4.357900</td>\n",
       "    </tr>\n",
       "    <tr>\n",
       "      <td>110</td>\n",
       "      <td>3.393500</td>\n",
       "    </tr>\n",
       "    <tr>\n",
       "      <td>120</td>\n",
       "      <td>3.407200</td>\n",
       "    </tr>\n",
       "    <tr>\n",
       "      <td>130</td>\n",
       "      <td>3.523600</td>\n",
       "    </tr>\n",
       "    <tr>\n",
       "      <td>140</td>\n",
       "      <td>3.510400</td>\n",
       "    </tr>\n",
       "    <tr>\n",
       "      <td>150</td>\n",
       "      <td>3.316800</td>\n",
       "    </tr>\n",
       "    <tr>\n",
       "      <td>160</td>\n",
       "      <td>2.820800</td>\n",
       "    </tr>\n",
       "    <tr>\n",
       "      <td>170</td>\n",
       "      <td>2.504400</td>\n",
       "    </tr>\n",
       "    <tr>\n",
       "      <td>180</td>\n",
       "      <td>2.187500</td>\n",
       "    </tr>\n",
       "    <tr>\n",
       "      <td>190</td>\n",
       "      <td>2.055000</td>\n",
       "    </tr>\n",
       "    <tr>\n",
       "      <td>200</td>\n",
       "      <td>1.850200</td>\n",
       "    </tr>\n",
       "    <tr>\n",
       "      <td>210</td>\n",
       "      <td>1.411000</td>\n",
       "    </tr>\n",
       "    <tr>\n",
       "      <td>220</td>\n",
       "      <td>1.298200</td>\n",
       "    </tr>\n",
       "    <tr>\n",
       "      <td>230</td>\n",
       "      <td>1.347100</td>\n",
       "    </tr>\n",
       "    <tr>\n",
       "      <td>240</td>\n",
       "      <td>1.344800</td>\n",
       "    </tr>\n",
       "    <tr>\n",
       "      <td>250</td>\n",
       "      <td>1.225800</td>\n",
       "    </tr>\n",
       "    <tr>\n",
       "      <td>260</td>\n",
       "      <td>1.287200</td>\n",
       "    </tr>\n",
       "    <tr>\n",
       "      <td>270</td>\n",
       "      <td>1.207100</td>\n",
       "    </tr>\n",
       "    <tr>\n",
       "      <td>280</td>\n",
       "      <td>1.157400</td>\n",
       "    </tr>\n",
       "    <tr>\n",
       "      <td>290</td>\n",
       "      <td>1.141800</td>\n",
       "    </tr>\n",
       "    <tr>\n",
       "      <td>300</td>\n",
       "      <td>1.011800</td>\n",
       "    </tr>\n",
       "    <tr>\n",
       "      <td>310</td>\n",
       "      <td>0.693800</td>\n",
       "    </tr>\n",
       "    <tr>\n",
       "      <td>320</td>\n",
       "      <td>0.680400</td>\n",
       "    </tr>\n",
       "    <tr>\n",
       "      <td>330</td>\n",
       "      <td>0.615600</td>\n",
       "    </tr>\n",
       "    <tr>\n",
       "      <td>340</td>\n",
       "      <td>0.744600</td>\n",
       "    </tr>\n",
       "    <tr>\n",
       "      <td>350</td>\n",
       "      <td>0.685200</td>\n",
       "    </tr>\n",
       "    <tr>\n",
       "      <td>360</td>\n",
       "      <td>0.604100</td>\n",
       "    </tr>\n",
       "    <tr>\n",
       "      <td>370</td>\n",
       "      <td>0.597700</td>\n",
       "    </tr>\n",
       "    <tr>\n",
       "      <td>380</td>\n",
       "      <td>0.665100</td>\n",
       "    </tr>\n",
       "    <tr>\n",
       "      <td>390</td>\n",
       "      <td>0.651900</td>\n",
       "    </tr>\n",
       "    <tr>\n",
       "      <td>400</td>\n",
       "      <td>0.550100</td>\n",
       "    </tr>\n",
       "    <tr>\n",
       "      <td>410</td>\n",
       "      <td>0.403300</td>\n",
       "    </tr>\n",
       "    <tr>\n",
       "      <td>420</td>\n",
       "      <td>0.387500</td>\n",
       "    </tr>\n",
       "    <tr>\n",
       "      <td>430</td>\n",
       "      <td>0.342900</td>\n",
       "    </tr>\n",
       "    <tr>\n",
       "      <td>440</td>\n",
       "      <td>0.459000</td>\n",
       "    </tr>\n",
       "    <tr>\n",
       "      <td>450</td>\n",
       "      <td>0.434700</td>\n",
       "    </tr>\n",
       "    <tr>\n",
       "      <td>460</td>\n",
       "      <td>0.407300</td>\n",
       "    </tr>\n",
       "    <tr>\n",
       "      <td>470</td>\n",
       "      <td>0.413800</td>\n",
       "    </tr>\n",
       "    <tr>\n",
       "      <td>480</td>\n",
       "      <td>0.393900</td>\n",
       "    </tr>\n",
       "    <tr>\n",
       "      <td>490</td>\n",
       "      <td>0.375600</td>\n",
       "    </tr>\n",
       "  </tbody>\n",
       "</table><p>"
      ],
      "text/plain": [
       "<IPython.core.display.HTML object>"
      ]
     },
     "metadata": {},
     "output_type": "display_data"
    },
    {
     "name": "stderr",
     "output_type": "stream",
     "text": [
      "/usr/local/lib/python3.11/dist-packages/transformers/modeling_utils.py:3339: UserWarning: Moving the following attributes in the config to the generation config: {'max_length': 448, 'suppress_tokens': [], 'begin_suppress_tokens': [220, 50257]}. You are seeing this warning because you've set generation parameters in the model config, as opposed to in the generation config.\n",
      "  warnings.warn(\n"
     ]
    },
    {
     "data": {
      "text/plain": [
       "TrainOutput(global_step=495, training_loss=2.006676580929997, metrics={'train_runtime': 461.4018, 'train_samples_per_second': 8.583, 'train_steps_per_second': 1.073, 'total_flos': 9.74907850752e+16, 'train_loss': 2.006676580929997, 'epoch': 5.0})"
      ]
     },
     "execution_count": 7,
     "metadata": {},
     "output_type": "execute_result"
    }
   ],
   "source": [
    "trainer.train()"
   ]
  },
  {
   "cell_type": "code",
   "execution_count": 8,
   "metadata": {},
   "outputs": [
    {
     "data": {
      "text/plain": [
       "[]"
      ]
     },
     "execution_count": 8,
     "metadata": {},
     "output_type": "execute_result"
    }
   ],
   "source": [
    "save_path = \"/content/drive/MyDrive/WhisperCheckpoints/run_tiny_lr2\"\n",
    "model.save_pretrained(save_path)\n",
    "processor.save_pretrained(save_path)"
   ]
  },
  {
   "cell_type": "code",
   "execution_count": 9,
   "metadata": {},
   "outputs": [
    {
     "name": "stdout",
     "output_type": "stream",
     "text": [
      "🌍 Language: ko\n"
     ]
    },
    {
     "name": "stderr",
     "output_type": "stream",
     "text": [
      "\r",
      "  0%|          | 0/100 [00:00<?, ?it/s]Due to a bug fix in https://github.com/huggingface/transformers/pull/28687 transcription using a multilingual Whisper will default to language detection followed by transcription instead of translation to English.This might be a breaking change for your use case. If you want to instead always translate your audio to English, make sure to pass `language='en'`.\n",
      "The attention mask is not set and cannot be inferred from input because pad token is same as eos token. As a consequence, you may observe unexpected behavior. Please pass your input's `attention_mask` to obtain reliable results.\n",
      "  1%|          | 1/100 [00:00<01:13,  1.35it/s]"
     ]
    },
    {
     "name": "stdout",
     "output_type": "stream",
     "text": [
      "🔹 Predicted: クオープンシーへえ山崎県減町に来るんだが絶対しこうあんけ처럼サラスだった\n",
      "🔸 Reference: 그와 동시에 애상적이던 기분은 구름과 같이 흩어지고 안개처럼 스러졌다.\n"
     ]
    },
    {
     "name": "stderr",
     "output_type": "stream",
     "text": [
      "\r",
      "  2%|▏         | 2/100 [00:01<00:45,  2.14it/s]"
     ]
    },
    {
     "name": "stdout",
     "output_type": "stream",
     "text": [
      "🔹 Predicted: 雨에서 또 기차는 도내비가 본인다는 바람에 숨도 안이しく 억지 못하였다.\n",
      "🔸 Reference: 하면서도 기천은 동혁이가 먹는다는 바람에 숨도 아니 쉬고 쪼옥 들이켰다.\n"
     ]
    },
    {
     "name": "stderr",
     "output_type": "stream",
     "text": [
      "\r",
      "  3%|▎         | 3/100 [00:01<00:39,  2.47it/s]"
     ]
    },
    {
     "name": "stdout",
     "output_type": "stream",
     "text": [
      "🔹 Predicted: 優秀会社会的技術があるいは、ポテンとご覚えない現象に沿っているペンクにしている\n",
      "🔸 Reference: 의사에게 죽음의 선고를 받은 줄도 모르는 영신은 주사 기운에 조금 의식을 회복하였다.\n"
     ]
    },
    {
     "name": "stderr",
     "output_type": "stream",
     "text": [
      "  5%|▌         | 5/100 [00:01<00:27,  3.51it/s]"
     ]
    },
    {
     "name": "stdout",
     "output_type": "stream",
     "text": [
      "🔹 Predicted: ブール에とタニャ念念ながら、その彼は何に、動描いてくると矛盾と描いていない\n",
      "🔸 Reference: 무릇 경영은 의논함으로 성취하나니 모략을 베풀고 전쟁할지니라\n",
      "🔹 Predicted: 来にいたテレッドコーディッター\n",
      "🔸 Reference: 아니다 결코 아니다.\n"
     ]
    },
    {
     "name": "stderr",
     "output_type": "stream",
     "text": [
      "  7%|▋         | 7/100 [00:02<00:18,  4.90it/s]"
     ]
    },
    {
     "name": "stdout",
     "output_type": "stream",
     "text": [
      "🔹 Predicted: ごめんなんそれやつばに行為さかけ\n",
      "🔸 Reference: 공연한 소리 하지 말고 어서 가세.\n",
      "🔹 Predicted: 雲田県南方法府町町\n",
      "🔸 Reference: 선비는 받아 가지고 간난의 뒤를 따랐다.\n"
     ]
    },
    {
     "name": "stderr",
     "output_type": "stream",
     "text": [
      "\r",
      "  8%|▊         | 8/100 [00:02<00:21,  4.25it/s]"
     ]
    },
    {
     "name": "stdout",
     "output_type": "stream",
     "text": [
      "🔹 Predicted: 世界北部에서는 보다도 못決定その 보다도 바랜 간장에서는 서피스러움 눈에부터 시작하니깊다.\n",
      "🔸 Reference: 새벽배송보다도 로켓배송보다도 빠른 양자 배송 서비스를 오늘부터 시작합니다.\n"
     ]
    },
    {
     "name": "stderr",
     "output_type": "stream",
     "text": [
      "\r",
      "  9%|▉         | 9/100 [00:02<00:20,  4.36it/s]"
     ]
    },
    {
     "name": "stdout",
     "output_type": "stream",
     "text": [
      "🔹 Predicted:  청완한 일이�뚜그를 타어 남은ソ우소개 될 수 있는다.\n",
      "🔸 Reference: 청하는 이쪽 노를 저으면서 소리를 지른다.\n"
     ]
    },
    {
     "name": "stderr",
     "output_type": "stream",
     "text": [
      " 11%|█         | 11/100 [00:03<00:21,  4.23it/s]"
     ]
    },
    {
     "name": "stdout",
     "output_type": "stream",
     "text": [
      "🔹 Predicted: やろうさらにアップ도 한 가지은 다가서妙、ケーキャンペール困難を利用に近づいている人間に近づいている\n",
      "🔸 Reference: 여러 사람의 앞으로 한 걸음 다가서며 그 검붉은 얼굴이 매우 긴장해진다.\n",
      "🔹 Predicted: 野町に酒汁乾杯も多く 있는덕도\n",
      "🔸 Reference: 여전히 사건 파악을 못 하고 있는데도?\n"
     ]
    },
    {
     "name": "stderr",
     "output_type": "stream",
     "text": [
      " 13%|█▎        | 13/100 [00:03<00:17,  5.01it/s]"
     ]
    },
    {
     "name": "stdout",
     "output_type": "stream",
     "text": [
      "🔹 Predicted: 次国国陈利inen固定するなんて立体的勾掛盾観察\n",
      "🔸 Reference: 즐겁고 재미있는 콘텐츠를 만들 작가를 모집합니다.\n",
      "🔹 Predicted: 二個でで、つりそこからよ\n",
      "🔸 Reference: 이거리를 둘이서 걸어요.\n"
     ]
    },
    {
     "name": "stderr",
     "output_type": "stream",
     "text": [
      " 15%|█▌        | 15/100 [00:03<00:15,  5.50it/s]"
     ]
    },
    {
     "name": "stdout",
     "output_type": "stream",
     "text": [
      "🔹 Predicted: こんなに念念念念念念が動作部員には、我々で人間に減らった\n",
      "🔸 Reference: 간난이는 생긋 웃어 보이며 머리를 흔들었다.\n",
      "🔹 Predicted: 母親池本から遊びに来た\n",
      "🔸 Reference: 무어가 무언지 분간할 수 없는 나는 이렇게 물었다.\n"
     ]
    },
    {
     "name": "stderr",
     "output_type": "stream",
     "text": [
      "\r",
      " 16%|█▌        | 16/100 [00:04<00:16,  5.01it/s]"
     ]
    },
    {
     "name": "stdout",
     "output_type": "stream",
     "text": [
      "🔹 Predicted: こんなとに何度不愚映像に来たら、ってとに何度に飲んだよ。\n",
      "🔸 Reference: 국무총리는 국회의 동의를 얻어 대통령이 임명한다.\n"
     ]
    },
    {
     "name": "stderr",
     "output_type": "stream",
     "text": [
      " 18%|█▊        | 18/100 [00:04<00:15,  5.24it/s]"
     ]
    },
    {
     "name": "stdout",
     "output_type": "stream",
     "text": [
      "🔹 Predicted: これ、実に野板をパイッキーの百杯ほど着こういらなった\n",
      "🔸 Reference: 부르짖으며 발길로 벽을 걷어차고 일어났다.\n",
      "🔹 Predicted: 다운 Israel wurde高い간 말을 하고도 가슴이 있었다.\n",
      "🔸 Reference: 나오는 줄 모르고 이런 말을 하고도 가슴이 선뜩하였다.\n"
     ]
    },
    {
     "name": "stderr",
     "output_type": "stream",
     "text": [
      "\r",
      " 19%|█▉        | 19/100 [00:04<00:15,  5.21it/s]"
     ]
    },
    {
     "name": "stdout",
     "output_type": "stream",
     "text": [
      "🔹 Predicted: 처키에 도냥산으로 참 동사관계가 나을껍니깐\n",
      "🔸 Reference: 저 뒤에 동영상으로 주암동 사건 개요가 나올 겁니다.\n"
     ]
    },
    {
     "name": "stderr",
     "output_type": "stream",
     "text": [
      " 21%|██        | 21/100 [00:05<00:15,  5.25it/s]"
     ]
    },
    {
     "name": "stdout",
     "output_type": "stream",
     "text": [
      "🔹 Predicted: キール은 점점 난 말하였기에는 서자까올하기 위해서는 그 위에 서치기 깨끗다 하늘은 내가\n",
      "🔸 Reference: 게으른 자는 말하기를 사자가 밖에 있은즉 내가 나가면 거리에서 찢기겠다 하느니라\n",
      "🔹 Predicted: 그러면 그의 우라 붙였다.\n",
      "🔸 Reference: 그럼, 내일 오랍쇼니까?\n"
     ]
    },
    {
     "name": "stderr",
     "output_type": "stream",
     "text": [
      "\r",
      " 22%|██▏       | 22/100 [00:05<00:15,  4.92it/s]"
     ]
    },
    {
     "name": "stdout",
     "output_type": "stream",
     "text": [
      "🔹 Predicted: 来念단 말에 비착我인 다음에 그은보대책을 서하여��러웠습니다.\n",
      "🔸 Reference: 그는 나를 밀쳐 버린 다음에 그 음보를 들고서 읽기 시작하였습니다.\n"
     ]
    },
    {
     "name": "stderr",
     "output_type": "stream",
     "text": [
      "\r",
      " 23%|██▎       | 23/100 [00:05<00:18,  4.26it/s]"
     ]
    },
    {
     "name": "stdout",
     "output_type": "stream",
     "text": [
      "🔹 Predicted: てりこえ一개서、タメでアップケチューブアニューの合わせを満たにしたとおり、\n",
      "🔸 Reference: 그리고 이 집에서 옥점이를 어떻게 귀여워하는 것을 잠시간이라도 알 수가 있다.\n"
     ]
    },
    {
     "name": "stderr",
     "output_type": "stream",
     "text": [
      "\r",
      " 24%|██▍       | 24/100 [00:05<00:18,  4.05it/s]"
     ]
    },
    {
     "name": "stdout",
     "output_type": "stream",
     "text": [
      "🔹 Predicted: 았다ったち欲しい念念奈良府部屋がってのようなで、ハンサクリームに来た\n",
      "🔸 Reference: 아까까지 영신은 그 불을 얕은 하늘의 별들이 반짝이는 줄로만 알고있었다.\n"
     ]
    },
    {
     "name": "stderr",
     "output_type": "stream",
     "text": [
      "\r",
      " 25%|██▌       | 25/100 [00:09<01:25,  1.14s/it]"
     ]
    },
    {
     "name": "stdout",
     "output_type": "stream",
     "text": [
      "🔹 Predicted: 我々は南板、南板、南板、南板、南板、南板、南板、南板、南板、南板、南板、南板、南板、南板、南板、南板、南板、南板、南板、南板、南板、南板、南板、南板、南板、南板、南板、南板、南板、南板、南板、南板、南板、南板、南板、南板、南板、南板、南板、南板、南板、南板、南板、南板、南板、南板、南板、南板、南板、南板、南板、南板、南板、南板、南板、南板、南板、南板、南板、南板、南板、南板、南板、南板、南板、南板、南板、南板、南板、南板、南板、南板、南板、南板、南板、南板、南板、南板、南板、南板、南板、南板、南板、南板、南板、南板、南板、南板、南板、南板、南板、南板、南板、南板、南板、南板、南板、南板、南板、南板、南板、南板、南板、南板、南板、南板、南板、南板、南板、南板、南板、南板、南板、南板、南板、南板、南板、南板、南板、南板、南板、南板、南板、南板、南板、南板、南板、南板、南板、南板、南板、南板、南板、南板、南板、南板、南板、南板、南板、南板、南板、南板、南板、南板、南板、南板、南板、\n",
      "🔸 Reference: 의심하는 마음과 한꺼번에 일어나는 것은 질투였다.\n"
     ]
    },
    {
     "name": "stderr",
     "output_type": "stream",
     "text": [
      " 27%|██▋       | 27/100 [00:09<00:50,  1.44it/s]"
     ]
    },
    {
     "name": "stdout",
     "output_type": "stream",
     "text": [
      "🔹 Predicted: こういうキメy 구차와 이能mageに民に猫を徹底で食べたべくら、この雇布に雇山を出てたら、高くこっちの小があった\n",
      "🔸 Reference: 골김에 그저 이놈의 장인님, 하고 댓돌에다 메꼰코 우리 고향으로 내뺄까 하다가 꾹꾹 참고 말았다.\n",
      "🔹 Predicted: やばけ一つに暇いちんちゃうんで\n",
      "🔸 Reference: 여보게 김첨지\n"
     ]
    },
    {
     "name": "stderr",
     "output_type": "stream",
     "text": [
      " 29%|██▉       | 29/100 [00:10<00:31,  2.29it/s]"
     ]
    },
    {
     "name": "stdout",
     "output_type": "stream",
     "text": [
      "🔹 Predicted: 国家的手をさたお念観光ポークは何か県美雲町\n",
      "🔸 Reference: 갑자기 튀어져 나오는 광포, 거기 연한 쾌미, 흥소\n",
      "🔹 Predicted: 대감독이 그의 산신을 훌쩡하며\n",
      "🔸 Reference: 뜨거운 볕이 그의 전신을 후끈하게 하였다.\n"
     ]
    },
    {
     "name": "stderr",
     "output_type": "stream",
     "text": [
      "\r",
      " 30%|███       | 30/100 [00:13<01:33,  1.34s/it]"
     ]
    },
    {
     "name": "stdout",
     "output_type": "stream",
     "text": [
      "🔹 Predicted: 我々が我々を御御部屋においては、単に大きest 집は、一つの人間の一人間の一人間の一人間の一人間の一人間の一人間の一人間の一人間の一人間の一人間の一人間の一人間の一人間の一人間の一人間の一人間の一人間の一人間の一人間の一人間の一人間の一人間の一人間の一人間の一人間の一人間の一人間の一人間の一人間の一人間の一人間の一人間の一人間の一人間の一人間の一人間の一人間の一人間の一人間の一人間の一人間の一人間の一人間の一人間の一人間の一人間の一人間の一人間の一人間の一人間の一人間の一人間の一人間の一人間の一人間の一人間の一人間の一人間の一人間の一人間の一人間の一人間の一人間の一人間の一人間の一人間の一人間の一人間の一人間の一人間の一人間の一人間の一人間の一人間の一人間の一人間の一人間の一人間の一人間の一人間の一人間の一人間の一人間の一人間の一人間の一人間の一人間の一人間の一人間の一人間の一人間の一人間の一人間の一人間の一人間の一人間の一人間の一人間の一人間の一人間の一人間の一人間の一人間\n",
      "🔸 Reference: 어리석은 자로 슬기롭게 하며 젊은 자에게 지식과 근신함을 주기 위한 것이니\n"
     ]
    },
    {
     "name": "stderr",
     "output_type": "stream",
     "text": [
      " 32%|███▏      | 32/100 [00:16<01:33,  1.38s/it]"
     ]
    },
    {
     "name": "stdout",
     "output_type": "stream",
     "text": [
      "🔹 Predicted: 国家府に始まる時代、お前に南区において会社において会社において会社において会社において会社において会社において会社において会社において会社において会社において会社において会社において会社において会社において会社において会社において会社において会社において会社において会社において会社において会社において会社において会社において会社において会社において会社において会社において会社において会社において会社において会社において会社において会社において会社において会社において会社において会社において会社において会社において会社において会社において会社において会社において会社において会社において会社において会社において会社において会社において会社において会社において会社において会社において会社において会社において会社において会社において会社において会社において会社において会社において会社において会社において会社において会社において会社において会社において会社において会社において会社において会社において会社において会社において会社において会社において会社において会社において会社において会社において会社において会社において会社において会社において会社において\n",
      "🔸 Reference: 그 여학생인지 만지가 한참은 매우 때깔을 빼며 입술을 꼭 다문 채 김첨지를 거들떠보지도 않았다.\n",
      "🔹 Predicted: 浜松県平野市町\n",
      "🔸 Reference: 한마디를 남기고 동혁은 구두징 소리를 뚜벅뚜벅 내며 골목 밖으로 나가 버린다.\n"
     ]
    },
    {
     "name": "stderr",
     "output_type": "stream",
     "text": [
      " 34%|███▍      | 34/100 [00:17<00:50,  1.30it/s]"
     ]
    },
    {
     "name": "stdout",
     "output_type": "stream",
     "text": [
      "🔹 Predicted: その仙波が何度なく、多分ひめくるじまれ\n",
      "🔸 Reference: 스스로가 형편없다고 생각하지 말라.\n",
      "🔹 Predicted: 阿公 was also a late-day town to see commonplace in Kondon Island with her.\n",
      "🔸 Reference: 하고 무엇을 알아챘다는 듯이 가만히 창하의 계속하는 말만 듣고 있다.\n"
     ]
    },
    {
     "name": "stderr",
     "output_type": "stream",
     "text": [
      "\r",
      " 35%|███▌      | 35/100 [00:17<00:41,  1.58it/s]"
     ]
    },
    {
     "name": "stdout",
     "output_type": "stream",
     "text": [
      "🔹 Predicted: やはりに度の上がりの関係にもすべてポニュニティドルにしながらやりたっぽく\n",
      "🔸 Reference: 권력을 휘두르는 그 정치인의 모습을 보며 대중들이 실망을 느꼈다.\n"
     ]
    },
    {
     "name": "stderr",
     "output_type": "stream",
     "text": [
      "\r",
      " 36%|███▌      | 36/100 [00:17<00:33,  1.93it/s]"
     ]
    },
    {
     "name": "stdout",
     "output_type": "stream",
     "text": [
      "🔹 Predicted: このように、一つ까지おすでるヨースラスでながら飲むよ、タッキリ\n",
      "🔸 Reference: 그들이 집까지 왔을 때는 어슬어슬한 황혼이었다.\n"
     ]
    },
    {
     "name": "stderr",
     "output_type": "stream",
     "text": [
      " 38%|███▊      | 38/100 [00:19<00:40,  1.52it/s]"
     ]
    },
    {
     "name": "stdout",
     "output_type": "stream",
     "text": [
      "🔹 Predicted: 국hearerの武田町にも、静岡の町の町の町の町の町の町の町の町の町の町の町の町の町の町の町の町の町の町の町の町の町の町の町の町の町の町の町の町の町の町の町の町の町の町の町の町の町の町の町の町の町の町の町の町の町の町の町の町の町の町の町の町の町の町の町の町の町の町の町の町の町の町の町の町の町の町の町の町の町\n",
      "🔸 Reference: 그 기회론을 주장하는 사람은, 유명한 음악 비평가 K씨였었다.\n",
      "🔹 Predicted: モデャンって書念もどこか人間は言われるやつ\n",
      "🔸 Reference: 무대 앞에 서면 모두가 긴장하기 마련이야.\n"
     ]
    },
    {
     "name": "stderr",
     "output_type": "stream",
     "text": [
      " 40%|████      | 40/100 [00:20<00:24,  2.41it/s]"
     ]
    },
    {
     "name": "stdout",
     "output_type": "stream",
     "text": [
      "🔹 Predicted: 大阪者物やっぱりスプレイがリパッションから取った\n",
      "🔸 Reference: 따라서 물 먹고 싶은 생각이 버쩍 들었다.\n",
      "🔹 Predicted: 本身なにゃんせはリンクの進みたくて、\n",
      "🔸 Reference: 삼십 년이라는 세월이 흘렀습니다.\n"
     ]
    },
    {
     "name": "stderr",
     "output_type": "stream",
     "text": [
      " 42%|████▏     | 42/100 [00:20<00:16,  3.42it/s]"
     ]
    },
    {
     "name": "stdout",
     "output_type": "stream",
     "text": [
      "🔹 Predicted: みみなもersがモールが飽飽きていこうなる\n",
      "🔸 Reference: 내일이나 모레나 그 어느 즐거운 날에\n",
      "🔹 Predicted: 佐久の上げなおついが飲み物であったら、\n",
      "🔸 Reference: 저녁이 되며 아침이 되니 이는 네째 날이니라\n"
     ]
    },
    {
     "name": "stderr",
     "output_type": "stream",
     "text": [
      "\r",
      " 43%|████▎     | 43/100 [00:23<01:07,  1.18s/it]"
     ]
    },
    {
     "name": "stdout",
     "output_type": "stream",
     "text": [
      "🔹 Predicted: 百分岡山県美国町、北京町、町、町、町、町、町、町、町、町、町、町、町、町、町、町、町、町、町、町、町、町、町、町、町、町、町、町、町、町、町、町、町、町、町、町、町、町、町、町、町、町、町、町、町、町、町、町、町、町、町、町、町、町、町、町、町、町、町、町、町、町、町、町、町、町、町、町、町、町、町、町、町、町、町、町、町、町、町、町、町、町、町、町、町、町、町、町、町、町、町、町、町、町、町、町、町、町、町、町、町、町、町、町、町、町、町、町、町、町、町、町、町、町、町、町、町、町、町、町、町、町、町、町、町、町、町、町、町、町、町、町、町、町、町、町、町、町、町、町、町、町、町、町、�\n",
      "🔸 Reference: 밝은 달은 우리 가슴 일편단심일세\n",
      "🔹 Predicted: 県川町\n",
      "🔸 Reference: 네가 나빠\n"
     ]
    },
    {
     "name": "stderr",
     "output_type": "stream",
     "text": [
      "\r",
      " 45%|████▌     | 45/100 [00:24<00:40,  1.34it/s]"
     ]
    },
    {
     "name": "stdout",
     "output_type": "stream",
     "text": [
      "🔹 Predicted: 困難の目、どこに広がる前かつに含む人間だった、無料理を取り除くので、自然が含む人間を取り除くので、\n",
      "🔸 Reference: 간난이는 여공이 들어가던 말까지 하려다가 이런 말은 좀더 기다려서 해주리라 하였다.\n"
     ]
    },
    {
     "name": "stderr",
     "output_type": "stream",
     "text": [
      "\r",
      " 46%|████▌     | 46/100 [00:24<00:33,  1.63it/s]"
     ]
    },
    {
     "name": "stdout",
     "output_type": "stream",
     "text": [
      "🔹 Predicted: 茨城市場は駅でなお店長に山根市場の自己覚alte\n",
      "🔸 Reference: 만일 제가 그대로 단결에 휙 뿌리치고 가보게.\n"
     ]
    },
    {
     "name": "stderr",
     "output_type": "stream",
     "text": [
      "\r",
      " 47%|████▋     | 47/100 [00:27<01:08,  1.30s/it]"
     ]
    },
    {
     "name": "stdout",
     "output_type": "stream",
     "text": [
      "🔹 Predicted: 今度の上げらっきりはポイントにおいては、未来に出たのかにおいては、未来に出たのかにおいては、未来に出たのかにおいては、未来に出たのかにおいては、未来に出たのかにおいては、未来に出たのかにおいては、未来に出たのかにおいては、未来に出たのかにおいては、未来に出たのかにおいては、未来に出たのかに出たのかに出たのかに出たのかに出たのかに出たのかに出たのかに出たのかに出たのかに出たのかに出たのかに出たのかに出たのかに出たのかに出たのかに出たのかに出たのかに出たのかに出たのかに出たのかに出たのかに出たのかに出たのかに出たのかに出たのかに出たのかに出たのかに出たのかに出たのかに出たのかに出たのかに出たのかに出たのかに出たのかに出たのかに出たのかに出たのかに出たのかに出たのかに出たのかに出たのかに出たのかに出たのかに出たのかに出たのかに出たのかに出たのかに出たのかに出たのかに出たのかに出たのかに出たのかに出たのかに出たのかに出たのかに出たのかに出たのかに出たのかに出たのかに出たのかに出たのかに出たのかに出たのかに\n",
      "🔸 Reference: 감독이 이렇게 와꾸를 돌리게 되면 으레 이십 전 벌금을 물게 되는 것이다.\n"
     ]
    },
    {
     "name": "stderr",
     "output_type": "stream",
     "text": [
      "\r",
      " 48%|████▊     | 48/100 [00:27<00:53,  1.03s/it]"
     ]
    },
    {
     "name": "stdout",
     "output_type": "stream",
     "text": [
      "🔹 Predicted: 岐山市町が多くなるより、キーサービスの上げたので、そのような技術を通じて、\n",
      "🔸 Reference: 기적이 나타나기를 빌고 바라는 미신 비슷한 생각에 잠겨 보기도 또한 이번이 처음이다.\n"
     ]
    },
    {
     "name": "stderr",
     "output_type": "stream",
     "text": [
      " 50%|█████     | 50/100 [00:31<01:01,  1.23s/it]"
     ]
    },
    {
     "name": "stdout",
     "output_type": "stream",
     "text": [
      "🔹 Predicted: くらい、手段、ちゃくちゃもなく、ちゃうまくちゃ、飲飾、取浮、取浮、取浮、取浮、取浮、取浮、取浮、取浮、取浮、取浮、取浮、取浮、取浮、取浮、取浮、取浮、取浮、取浮、取浮、取浮、取浮、取浮、取浮、取浮、取浮、取浮、取浮、取浮、取浮、取浮、取浮、取浮、取浮、取浮、取浮、取浮、取浮、取浮、取浮、取浮、取浮、取浮、取浮、取浮、取浮、取浮、取浮、取浮、取浮、取浮、取浮、取浮、取浮、取浮、取浮、取浮、取浮、取浮、取浮、取浮、取浮、取浮、取浮、取浮、取浮、取浮、取浮、取浮、取浮、取浮、取浮、取浮、取浮、取浮、取浮、取浮、取浮、取浮、取浮、取浮、取浮、取浮、取浮、取浮、取浮、取浮、取浮、取浮、取浮、取浮、取浮、取浮、取浮、取浮、取浮、取浮、取浮、取浮、取浮、取浮、取浮、取浮、取浮、取浮、取浮、取\n",
      "🔸 Reference: 비가 제법 장마 때처럼 주룩주룩 쏟아지기 시작한다.\n",
      "🔹 Predicted: 映画上がるものは、その映画によく叩きました。\n",
      "🔸 Reference: 이래저래 영신은 근처 동리의 소위 재산가 계급에게는 인심을 몹시 잃었다.\n"
     ]
    },
    {
     "name": "stderr",
     "output_type": "stream",
     "text": [
      "\r",
      " 51%|█████     | 51/100 [00:34<01:29,  1.82s/it]"
     ]
    },
    {
     "name": "stdout",
     "output_type": "stream",
     "text": [
      "🔹 Predicted: 用心に飽き出すと、その場合は、その中にアメリュームに乗せても、いつも上がる、いつも上がる、いつも上がる、いつも上がる、いつも上がる、いつも上がる、いつも上がる、いつも上がる、いつも上がる、いつも上がる、いつも上がる、いつも上がる、いつも上がる、いつも上がる、いつも上がる、いつも上がる、いつも上がる、いつも上がる、いつも上がる、いつも上がる、いつも上がる、いつも上がる、いつも上がる、いつも上がる、いつも上がる、いつも上がる、いつも上がる、いつも上がる、いつも上がる、いつも上がる、いつも上がる、いつも上がる、いつも上がる、いつも上がる、いつも上がる、いつも上がる、いつも上がる、いつも上がる、いつも上がる、いつも上がる、いつも上がる、いつも上がる、いつも上がる、いつも上がる、いつも上がる、いつも上がる、いつも上がる、いつも上がる、いつも上がる、いつも上がる、いつも上がる、いつも上がる、いつも上がる、いつも上がる、いつも上がる、いつも上がる、いつも上がる、いつも上がる、いつも上がる、いつも上がる、いつも上がる、いつも上がる、いつも上がる、いつも上がる、いつも上がる、いつも上がる、いつも上がる、いつも上がる、いつも上がる、いつ\n",
      "🔸 Reference: 영신은 가슴속으로부터 치밀어 오는 울음을 참느라고 잇자국이 나도록 손가락을 깨문다.\n"
     ]
    },
    {
     "name": "stderr",
     "output_type": "stream",
     "text": [
      "\r",
      " 52%|█████▏    | 52/100 [00:37<01:47,  2.23s/it]"
     ]
    },
    {
     "name": "stdout",
     "output_type": "stream",
     "text": [
      "🔹 Predicted: 大阪府町町町町町町町町町町町町町町町町町町町町町町町町町町町町町町町町町町町町町町町町町町町町町町町町町町町町町町町町町町町町町町町町町町町町町町町町町町町町町町町町町町町町町町町町町町町町町町町町町町町町町町町町町町町町町町町町町町町町町町町町町町町町町町町町町町町町町町町町町町町町町町町町町町町町町町町町町町町町町町町町町町町町町町町町町町町町町町町町町町町町町町町町町町町町町町町町町町町町町町町町町町町町町町町町町町町町町町町町町町町町\n",
      "🔸 Reference: 따라서 인력거에 앉아 서울의 번잡한 도시를 향하여 달려오던 선비를 눈앞에 그려 보았다.\n"
     ]
    },
    {
     "name": "stderr",
     "output_type": "stream",
     "text": [
      " 54%|█████▍    | 54/100 [00:38<00:55,  1.21s/it]"
     ]
    },
    {
     "name": "stdout",
     "output_type": "stream",
     "text": [
      "🔹 Predicted: ごちそうさらに、僕が立即さらたんじゃん、始まってさらにするのがシャンネルボタンをご覚えます。\n",
      "🔸 Reference: 그저 들어온 복도 박차 던져 내지 못해서 애쓰는 것이 아니고 무엇이냐.\n",
      "🔹 Predicted: 춘우가 그다운 것이 말을 되겠어.\n",
      "🔸 Reference: 그가 그 나무 실과를 내게 주므로 내가 먹었나이다\n"
     ]
    },
    {
     "name": "stderr",
     "output_type": "stream",
     "text": [
      "\r",
      " 55%|█████▌    | 55/100 [00:38<00:43,  1.04it/s]"
     ]
    },
    {
     "name": "stdout",
     "output_type": "stream",
     "text": [
      "🔹 Predicted: Nikobi-Kabunai-Mei-Mei-Waltzikolbe-Berachung war noch zu übernachten und schimm an der Burgos-Dinsucht.\n",
      "🔸 Reference: 네가 네 아내의 말을 듣고 내가 너더러 먹지 말라한 나무 실과를 먹었은즉\n"
     ]
    },
    {
     "name": "stderr",
     "output_type": "stream",
     "text": [
      "\r",
      " 56%|█████▌    | 56/100 [00:41<01:12,  1.64s/it]"
     ]
    },
    {
     "name": "stdout",
     "output_type": "stream",
     "text": [
      "🔹 Predicted: 浜西兵庫村町町町町町町町町町町町町町町町町町町町町町町町町町町町町町町町町町町町町町町町町町町町町町町町町町町町町町町町町町町町町町町町町町町町町町町町町町町町町町町町町町町町町町町町町町町町町町町町町町町町町町町町町町町町町町町町町町町町町町町町町町町町町町町町町町町町町町町町町町町町町町町町町町町町町町町町町町町町町町町町町町町町町町町町町町町町町町町町町町町町町町町町町町町町町町町町町町町町町町町町町町町町町町町町町町町町町町町町町町町\n",
      "🔸 Reference: 병자의 몸은 벌써 싸늘하게 식었으며 얼굴이 파랗게 되었다.\n"
     ]
    },
    {
     "name": "stderr",
     "output_type": "stream",
     "text": [
      " 58%|█████▊    | 58/100 [00:42<00:37,  1.13it/s]"
     ]
    },
    {
     "name": "stdout",
     "output_type": "stream",
     "text": [
      "🔹 Predicted: この昔は、その空間は、その犬は、その矛盾からやつしまう\n",
      "🔸 Reference: 그러고 알 수 없는 괴로운 경우에서 저를 끌어내어 주셔요.\n",
      "🔹 Predicted: 始終はあるクリカンです。\n",
      "🔸 Reference: 지금 바로 입금 가능해?\n"
     ]
    },
    {
     "name": "stderr",
     "output_type": "stream",
     "text": [
      " 60%|██████    | 60/100 [00:42<00:21,  1.88it/s]"
     ]
    },
    {
     "name": "stdout",
     "output_type": "stream",
     "text": [
      "🔹 Predicted: 意味は、おつまえたのでしょうか、おつまえたのでしょうか、おつまえた\n",
      "🔸 Reference: 이리하여 주화조로서 탄주는 끝이 났습니다.\n",
      "🔹 Predicted: 今度の代表の足ともらえられるがあった\n",
      "🔸 Reference: 그는 오던 길을 다시 종로로 향해 갔다.\n"
     ]
    },
    {
     "name": "stderr",
     "output_type": "stream",
     "text": [
      "\r",
      " 61%|██████    | 61/100 [00:42<00:18,  2.17it/s]"
     ]
    },
    {
     "name": "stdout",
     "output_type": "stream",
     "text": [
      "🔹 Predicted: その便宜に行為に行為を行為するとおり、会場に合わせるとこは、そのようなとこは、\n",
      "🔸 Reference: 선비는 감독이 그를 부를 터이지 하고 하루 종일 가슴이 두근거렸다.\n"
     ]
    },
    {
     "name": "stderr",
     "output_type": "stream",
     "text": [
      "\r",
      " 62%|██████▏   | 62/100 [00:43<00:15,  2.48it/s]"
     ]
    },
    {
     "name": "stdout",
     "output_type": "stream",
     "text": [
      "🔹 Predicted: お家みのようなおなかが進歩で立ちをパナン Montenegroにお店を買った\n",
      "🔸 Reference: 옥점이는 어느 때나 신철이를 잊지 못하는 반면에 그만큼 더 미웠던 것이다.\n"
     ]
    },
    {
     "name": "stderr",
     "output_type": "stream",
     "text": [
      " 64%|██████▍   | 64/100 [00:43<00:10,  3.38it/s]"
     ]
    },
    {
     "name": "stdout",
     "output_type": "stream",
     "text": [
      "🔹 Predicted:  그들은 그기업는 선비를 보며 감격이 되서 변단한 나무가 늘어난 듯하였다.\n",
      "🔸 Reference: 그들은 풀기 없는 선비를 보며 감독에게서 단단한 나무람을 들은 듯하였다.\n",
      "🔹 Predicted:  즐거운 나랭고 고구마일 것이다.\n",
      "🔸 Reference: 즐거운 날은 오고 말 것이다.\n"
     ]
    },
    {
     "name": "stderr",
     "output_type": "stream",
     "text": [
      "\r",
      " 65%|██████▌   | 65/100 [00:43<00:10,  3.41it/s]"
     ]
    },
    {
     "name": "stdout",
     "output_type": "stream",
     "text": [
      "🔹 Predicted:  만저럭을すのが、よくかざんソフィスティー、性格しちいっぱいのしかし、\n",
      "🔸 Reference: 먼저 말씀하여 둘 것은 섭섭히 생각하시지 말으십시오.\n"
     ]
    },
    {
     "name": "stderr",
     "output_type": "stream",
     "text": [
      "\r",
      " 66%|██████▌   | 66/100 [00:44<00:09,  3.56it/s]"
     ]
    },
    {
     "name": "stdout",
     "output_type": "stream",
     "text": [
      "🔹 Predicted:  보기는 육수가 말호쩍포를 하는 대답的 뒤로 손사람이 마넣었다.\n",
      "🔸 Reference: 무기명으로 투표를 하는 데도 대필로 쓴 사람이 많았다.\n"
     ]
    },
    {
     "name": "stderr",
     "output_type": "stream",
     "text": [
      " 68%|██████▊   | 68/100 [00:44<00:07,  4.35it/s]"
     ]
    },
    {
     "name": "stdout",
     "output_type": "stream",
     "text": [
      "🔹 Predicted:  배가 보일지구야 가리ott 않은 것이 알꿈할 동차가 보인다.\n",
      "🔸 Reference: 대답을 듣고야 가겠다는 듯이 말똥말똥 쳐다본다.\n",
      "🔹 Predicted: 凡月間천억 식사를 먹으면 더もいい일까?\n",
      "🔸 Reference: 배고픈데 지금 저녁 식사를 먹으면 너무 이를까?\n"
     ]
    },
    {
     "name": "stderr",
     "output_type": "stream",
     "text": [
      "\r",
      " 69%|██████▉   | 69/100 [00:44<00:06,  4.51it/s]"
     ]
    },
    {
     "name": "stdout",
     "output_type": "stream",
     "text": [
      "🔹 Predicted: 그는 기침을 안하려고 이불고깜은 허의 술 시지 않았다.\n",
      "🔸 Reference: 그는 기침을 안 하려고 입을 꼭 다문 후에 숨을 쉬지 않았다.\n"
     ]
    },
    {
     "name": "stderr",
     "output_type": "stream",
     "text": [
      " 71%|███████   | 71/100 [00:45<00:05,  4.95it/s]"
     ]
    },
    {
     "name": "stdout",
     "output_type": "stream",
     "text": [
      "🔹 Predicted: 同学은行실을 것でも고, 먼지의 길을 따라던 것인 동탈 밖으로 가랐다.\n",
      "🔸 Reference: 동혁은 입술을 꽉 깨물고 원재의 뒤를 따라 묵묵히 논틀 밭틀을 걸었다.\n",
      "🔹 Predicted: けjan처럼けjan으로 길게 고전하게\n",
      "🔸 Reference: 대한 사람 대한으로 길이 보전하세\n"
     ]
    },
    {
     "name": "stderr",
     "output_type": "stream",
     "text": [
      " 73%|███████▎  | 73/100 [00:45<00:06,  4.49it/s]"
     ]
    },
    {
     "name": "stdout",
     "output_type": "stream",
     "text": [
      "🔹 Predicted: ならへえかるのが、どこまでもヘーリー、開掛に自己をおなじめちゃなければならない。\n",
      "🔸 Reference: 여러 해 별러 오던 농우회의 회관을 지으려고 오늘 저녁에 그 지경을 닦는 것이다.\n",
      "🔹 Predicted: 優質的やつま는 것은 그의 Patagonal Provincial Genieが、\n",
      "🔸 Reference: 이웃에게 아첨하는 것은 그의 발 앞에 그물을 치는 것이니라\n"
     ]
    },
    {
     "name": "stderr",
     "output_type": "stream",
     "text": [
      " 75%|███████▌  | 75/100 [00:48<00:20,  1.19it/s]"
     ]
    },
    {
     "name": "stdout",
     "output_type": "stream",
     "text": [
      "🔹 Predicted: 하다니y B.B.B.B.B.B.B.B.B.B.B.B.B.B.B.B.B.B.B.B.B.B.B.B.B.B.B.B.B.B.B.B.B.B.B.B.B.B.B.B.B.B.B.B.B.B.B.B.B.B.B.B.B.B.B.B.B.B.B.B.B.B.B.B.B.B.B.B.B.B.B.B.B.B.B.B.B.B.B.B.B.B.B.B.B.B.B.B.B.B.B.B.B.B.B.B.B.B.B.B.B.B.B.B.B.B.B.B.B.B.B.B.B.B.B.B.B.B.B.B.B.B.B.B.B.B.B.B.B.B.B.B.B.B.B.B.B.B.B.B.B.B.B.B.B.B.B.B.B.B.B.B.B.B.B.B.B.B.B.B.B.B.B.B.B.B.B.B.B.B.B.B.B.B.B.B.B.B.B.B.B.B.B.B.B.B.B.B.B.B.B.B.B.B.B.B.B.B.B.B.B.B.B.B.B.B.B.B.B.B.B.B.B.B.B.B.B.B.B.B.B\n",
      "🔸 Reference: 하더니 미리부터 허리를 구부리며 집 속으로 기어들어간다.\n",
      "🔹 Predicted: 그わadung shake, 전え 가슴도 공부하고 올라갔다.\n",
      "🔸 Reference: 그와 동시에 기천의 가슴도 쿵 하고 울렸다.\n"
     ]
    },
    {
     "name": "stderr",
     "output_type": "stream",
     "text": [
      "\r",
      " 76%|███████▌  | 76/100 [00:49<00:15,  1.53it/s]"
     ]
    },
    {
     "name": "stdout",
     "output_type": "stream",
     "text": [
      "🔹 Predicted: しな는 모레니의 앤더서 멀리서 적을 바라두고 앉아 있었다.\n",
      "🔸 Reference: 춘우는 모래 위에 앉아서 멀리 서울 쪽을 바라보고 앉아 있었다.\n"
     ]
    },
    {
     "name": "stderr",
     "output_type": "stream",
     "text": [
      " 78%|███████▊  | 78/100 [00:49<00:09,  2.39it/s]"
     ]
    },
    {
     "name": "stdout",
     "output_type": "stream",
     "text": [
      "🔹 Predicted: 그리고 샘でも化学しちゃったら、そろくらいのランエンスを変えられる\n",
      "🔸 Reference: 그리고 수없는 버스며 택시가 서로 경쟁을 하며 달려오고 달려간다.\n",
      "🔹 Predicted: 그는 그와 한 밖으로 있는 인호였다.\n",
      "🔸 Reference: 그는 그와 한 학급에 있는 인호였다.\n"
     ]
    },
    {
     "name": "stderr",
     "output_type": "stream",
     "text": [
      " 80%|████████  | 80/100 [00:49<00:05,  3.34it/s]"
     ]
    },
    {
     "name": "stdout",
     "output_type": "stream",
     "text": [
      "🔹 Predicted: 池川南部比賽上がり、いろするパクness을�すぐにフランジョンとして\n",
      "🔸 Reference: 이서방은 물끄러미 이것을 바라보며 가슴이 후련해졌다.\n",
      "🔹 Predicted: それが自己の順番を掛けたよ\n",
      "🔸 Reference: 제가 지금 좀 너무 급해서요.\n"
     ]
    },
    {
     "name": "stderr",
     "output_type": "stream",
     "text": [
      " 82%|████████▏ | 82/100 [00:50<00:04,  4.10it/s]"
     ]
    },
    {
     "name": "stdout",
     "output_type": "stream",
     "text": [
      "🔹 Predicted: 原やはん、カニアンショナパーへ逆側がすみちろん\n",
      "🔸 Reference: 유명한 광염 소나타의 작가 말씀이지요?\"\n",
      "🔹 Predicted: 岐浙垂垂川県南に岡山町\n",
      "🔸 Reference: 쥐어 터져서 병원비 내는 건 못 참는다\n"
     ]
    },
    {
     "name": "stderr",
     "output_type": "stream",
     "text": [
      "\r",
      " 83%|████████▎ | 83/100 [00:50<00:03,  4.40it/s]"
     ]
    },
    {
     "name": "stdout",
     "output_type": "stream",
     "text": [
      "🔹 Predicted:  여부와 한한입이 의견 동산에서 그의 사람을 내어보며\n",
      "🔸 Reference: 여호와 하나님이 에덴동산에서 그 사람을 내어 보내어\n"
     ]
    },
    {
     "name": "stderr",
     "output_type": "stream",
     "text": [
      "\r",
      " 84%|████████▍ | 84/100 [00:50<00:03,  4.27it/s]"
     ]
    },
    {
     "name": "stdout",
     "output_type": "stream",
     "text": [
      "🔹 Predicted: 長温でしは、まどのようなきゃいけば、現在からだろうと考えたので、\n",
      "🔸 Reference: 정은배 씨와 마동혁 씨의 음악을 굉장히 다르다고 생각했거든요.\n"
     ]
    },
    {
     "name": "stderr",
     "output_type": "stream",
     "text": [
      "\r",
      " 85%|████████▌ | 85/100 [00:51<00:03,  3.83it/s]"
     ]
    },
    {
     "name": "stdout",
     "output_type": "stream",
     "text": [
      "🔹 Predicted:  그때의 비가 내 집느든 간혹 참을愚昇が 들은 듯하여 그는 날 때쏘 뾰을 시작하였다.\n",
      "🔸 Reference: 그때에 비단을 찢는 듯한 옥점의 조소가 들리는 듯하여 그는 얼핏 머리를 숙였다.\n"
     ]
    },
    {
     "name": "stderr",
     "output_type": "stream",
     "text": [
      "\r",
      " 86%|████████▌ | 86/100 [00:51<00:03,  3.99it/s]"
     ]
    },
    {
     "name": "stdout",
     "output_type": "stream",
     "text": [
      "🔹 Predicted:  ben��는지 상기하올念할 만한 관곤이 따라온 혼자였던 것이다.\n",
      "🔸 Reference: 웬일인지 선비가 울면 할멈은 번번이 따라 울곤 하였던 것이다.\n"
     ]
    },
    {
     "name": "stderr",
     "output_type": "stream",
     "text": [
      "\r",
      " 87%|████████▋ | 87/100 [00:51<00:03,  3.60it/s]"
     ]
    },
    {
     "name": "stdout",
     "output_type": "stream",
     "text": [
      "🔹 Predicted: 料理区にざままで熊早市が上がりがいがいちながに行くので、きらんですがんきりさとしてよ\n",
      "🔸 Reference: 여기 편의점은 이십사시간 내내 열지는 않으니까, 필요한 게 있으면 미리 사두세요.\n"
     ]
    },
    {
     "name": "stderr",
     "output_type": "stream",
     "text": [
      " 89%|████████▉ | 89/100 [00:52<00:02,  4.01it/s]"
     ]
    },
    {
     "name": "stdout",
     "output_type": "stream",
     "text": [
      "🔹 Predicted:  하고오춘우는 주문에 얼굴을 한참이 나무 그 롤이 들여다보았다.\n",
      "🔸 Reference: 하고 창하는 춘우의 얼굴을 한참이나 물끄러미 들여다보았다.\n",
      "🔹 Predicted: 이런 새해의 손짐장만 억忘이를 들만 나뭇다.\n",
      "🔸 Reference: 여동생이 점점 어머니를 닮았나 보다.\n"
     ]
    },
    {
     "name": "stderr",
     "output_type": "stream",
     "text": [
      " 91%|█████████ | 91/100 [00:52<00:02,  4.41it/s]"
     ]
    },
    {
     "name": "stdout",
     "output_type": "stream",
     "text": [
      "🔹 Predicted:  황금장에서는 용산으로 가는 듯한 얼굴을 깊게 인기를 하듯 들이불이었다.\n",
      "🔸 Reference: 황금정에서는 용산으로 가는 듯한 월급쟁이들이 가득 들이몰리었다.\n",
      "🔹 Predicted:  이것이 이 조운 새우샤 충대하게 한 문서는 새었다.\n",
      "🔸 Reference: 이것이 이 좋은 새 옷을 준 데 대한 흥선의 인사였다.\n"
     ]
    },
    {
     "name": "stderr",
     "output_type": "stream",
     "text": [
      " 93%|█████████▎| 93/100 [00:52<00:01,  5.05it/s]"
     ]
    },
    {
     "name": "stdout",
     "output_type": "stream",
     "text": [
      "🔹 Predicted: 僕が、イースからに、その하나는 일へ、理情、ハナガチで遊び、\n",
      "🔸 Reference: 보라 이 사람이 선악을 아는 일에 우리 중 하나 같이 되었으니\n",
      "🔹 Predicted:  자, 여기가 깜짝 놀랐다.\n",
      "🔸 Reference: 자, 여기 어떤 상점이 있다 합시다.\n"
     ]
    },
    {
     "name": "stderr",
     "output_type": "stream",
     "text": [
      "\r",
      " 94%|█████████▍| 94/100 [00:53<00:01,  4.98it/s]"
     ]
    },
    {
     "name": "stdout",
     "output_type": "stream",
     "text": [
      "🔹 Predicted: 出てくれる根本に除さささあ、本々の中心に来ちゃった\n",
      "🔸 Reference: 그때 그는 경찰서에서 고문받던 생각을 하고 소름이 쭉 끼쳤다.\n"
     ]
    },
    {
     "name": "stderr",
     "output_type": "stream",
     "text": [
      "\r",
      " 95%|█████████▌| 95/100 [00:53<00:01,  4.62it/s]"
     ]
    },
    {
     "name": "stdout",
     "output_type": "stream",
     "text": [
      "🔹 Predicted:  일곤은 못들은 철구입다가 회장입도 우편에서 맞다 보건대 앞두\n",
      "🔸 Reference: 일포는 못 들은 체하고 있다가 여전히 또 우벼 내서 맡아 보곤 하였다.\n"
     ]
    },
    {
     "name": "stderr",
     "output_type": "stream",
     "text": [
      "\r",
      " 96%|█████████▌| 96/100 [00:53<00:00,  4.32it/s]"
     ]
    },
    {
     "name": "stdout",
     "output_type": "stream",
     "text": [
      "🔹 Predicted:  자기의 마음을 찾아왔어 양이 안은자는 소고기 문어 주고 선벽연은 가태끊이라\n",
      "🔸 Reference: 자기의 마음을 제어하지 아니하는 자는 성읍이 무너지고 성벽이 없는 것 같으니라\n"
     ]
    },
    {
     "name": "stderr",
     "output_type": "stream",
     "text": [
      "\r",
      " 97%|█████████▋| 97/100 [00:53<00:00,  4.08it/s]"
     ]
    },
    {
     "name": "stdout",
     "output_type": "stream",
     "text": [
      "🔹 Predicted: 経騙すぐに認識が合体の中に、経騙すぐに自己の自己を起こらない。\n",
      "🔸 Reference: 그의 가슴에는 또다시 그 실뭉치가 욱 쓸어 올라온다.\n",
      "🔹 Predicted: クラゴスタッフ\n",
      "🔸 Reference: 그럴 것이다.\n"
     ]
    },
    {
     "name": "stderr",
     "output_type": "stream",
     "text": [
      "\r",
      " 99%|█████████▉| 99/100 [00:54<00:00,  5.33it/s]"
     ]
    },
    {
     "name": "stdout",
     "output_type": "stream",
     "text": [
      "🔹 Predicted:  간난이가 부분도 부끄러웠다.\n",
      "🔸 Reference: 간난이가 몸을 솟구려고 움찔하는 바람에 선비가 푹 거꾸러졌다.\n"
     ]
    },
    {
     "name": "stderr",
     "output_type": "stream",
     "text": [
      "100%|██████████| 100/100 [00:54<00:00,  1.84it/s]"
     ]
    },
    {
     "name": "stdout",
     "output_type": "stream",
     "text": [
      "🔹 Predicted: 君僕は即刻さえかには、ブルッカテルでチーズに念念逆を遊びた\n",
      "🔸 Reference: 빈부가 섞여 살거니와 무릇 그들을 지으신 이는 여호와시니라\n",
      "✅ KO WER: 0.9673\n",
      "🌍 Language: en\n"
     ]
    },
    {
     "name": "stderr",
     "output_type": "stream",
     "text": [
      "\n",
      "  1%|          | 1/100 [00:00<00:47,  2.08it/s]"
     ]
    },
    {
     "name": "stdout",
     "output_type": "stream",
     "text": [
      "🔹 Predicted: It is also often called \"Codechart English Street and�-each-Owche\".\n",
      "🔸 Reference: Again, small fast craft could attack and destroy a major warship.\n"
     ]
    },
    {
     "name": "stderr",
     "output_type": "stream",
     "text": [
      "  3%|▎         | 3/100 [00:01<00:28,  3.40it/s]"
     ]
    },
    {
     "name": "stdout",
     "output_type": "stream",
     "text": [
      "🔹 Predicted: ブースティクアレティッチーズタンスペースティッチーズカリンスをエルチーズは甘くなすべき\n",
      "🔸 Reference: Both the Collected and Selected Poems were edited by Michael Rothenberg.\n",
      "🔹 Predicted:  The residents moved to the higher ground east of the original site.\n",
      "🔸 Reference: The residents moved to higher ground east of the original site.\n"
     ]
    },
    {
     "name": "stderr",
     "output_type": "stream",
     "text": [
      "  5%|▌         | 5/100 [00:01<00:17,  5.32it/s]"
     ]
    },
    {
     "name": "stdout",
     "output_type": "stream",
     "text": [
      "🔹 Predicted: We need an endo all such name.\n",
      "🔸 Reference: We need an end of all such matter.\n",
      "🔹 Predicted:  Brutal was born in Ray's team town.\n",
      "🔸 Reference: Bridget was born and raised in Ghana.\n"
     ]
    },
    {
     "name": "stderr",
     "output_type": "stream",
     "text": [
      "  7%|▋         | 7/100 [00:01<00:16,  5.78it/s]"
     ]
    },
    {
     "name": "stdout",
     "output_type": "stream",
     "text": [
      "🔹 Predicted:  The Kreis is the David's Aviation-deserts team both based country and abbey railroads.\n",
      "🔸 Reference: The crash is the deadliest aviation disaster in both Basque Country and Iberia history.\n",
      "🔹 Predicted:  The pitchroof is quiet and redowers.\n",
      "🔸 Reference: The pitched roof is clad in red tiles.\n"
     ]
    },
    {
     "name": "stderr",
     "output_type": "stream",
     "text": [
      "\r",
      "  8%|▊         | 8/100 [00:01<00:18,  4.97it/s]"
     ]
    },
    {
     "name": "stdout",
     "output_type": "stream",
     "text": [
      "🔹 Predicted: Stiegertburg wurde die Santeriskeinbewerbung auch der Hauptsatz der Bruder und die Gebraße.\n",
      "🔸 Reference: Ski Gap Road leads southeast down the valley of South Poplar Run to Claysburg.\n"
     ]
    },
    {
     "name": "stderr",
     "output_type": "stream",
     "text": [
      " 10%|█         | 10/100 [00:02<00:17,  5.10it/s]"
     ]
    },
    {
     "name": "stdout",
     "output_type": "stream",
     "text": [
      "🔹 Predicted: Egyptian Altyaouji is one of the Beraties of the Pelsu-Beggertarology.\n",
      "🔸 Reference: Egyptian archeology is one of the branches of Egyptology.\n",
      "🔹 Predicted: It is often known as \"Bayou Chenene Welt\".\n",
      "🔸 Reference: It is also known as Bayo Canyon Road.\n"
     ]
    },
    {
     "name": "stderr",
     "output_type": "stream",
     "text": [
      "\r",
      " 11%|█         | 11/100 [00:02<00:16,  5.25it/s]"
     ]
    },
    {
     "name": "stdout",
     "output_type": "stream",
     "text": [
      "🔹 Predicted: Auw, this is a word \"Exploration\" in Cooley.\n",
      "🔸 Reference: Other similar explanations include \"shoally river\", and \"a rock ledge across a stream\".\n"
     ]
    },
    {
     "name": "stderr",
     "output_type": "stream",
     "text": [
      " 13%|█▎        | 13/100 [00:02<00:16,  5.12it/s]"
     ]
    },
    {
     "name": "stdout",
     "output_type": "stream",
     "text": [
      "🔹 Predicted: Bomfonsa하고 is where Fyland Church patterned in the lyrics that did service targets.\n",
      "🔸 Reference: Both ensembles wear highland dress patterned in their respective service tartans.\n",
      "🔹 Predicted:  other four-inzer schädels Chesspeasers in geomaterialischer States.\n",
      "🔸 Reference: Other frames are shaped as chess pieces and geometric shapes.\n"
     ]
    },
    {
     "name": "stderr",
     "output_type": "stream",
     "text": [
      " 15%|█▌        | 15/100 [00:03<00:14,  5.92it/s]"
     ]
    },
    {
     "name": "stdout",
     "output_type": "stream",
     "text": [
      "🔹 Predicted: I want to extremely beliveverwaltig die Frage for all of this.\n",
      "🔸 Reference: I wanted to sleep a little longer, he thought.\n",
      "🔹 Predicted: 兵庫県温泉町\n",
      "🔸 Reference: The people with programs are seated in a very large, elegant room.\n"
     ]
    },
    {
     "name": "stderr",
     "output_type": "stream",
     "text": [
      "\r",
      " 16%|█▌        | 16/100 [00:03<00:13,  6.40it/s]"
     ]
    },
    {
     "name": "stdout",
     "output_type": "stream",
     "text": [
      "🔹 Predicted: Away is too low, Gave is best cared.\n",
      "🔸 Reference: A man is grilling out in his backyard.\n"
     ]
    },
    {
     "name": "stderr",
     "output_type": "stream",
     "text": [
      " 18%|█▊        | 18/100 [00:03<00:16,  5.11it/s]"
     ]
    },
    {
     "name": "stdout",
     "output_type": "stream",
     "text": [
      "🔹 Predicted: Auhaw hat breit dochiskejung für das P-Würdig in die Hergebrauchforschung hergewehrtöpft.\n",
      "🔸 Reference: A large black dog is catching a Frisbee while a large brown dog follows shortly after.\n",
      "🔹 Predicted: Auch gibt er das geniechische Säge bei der Aussetzlehrung.\n",
      "🔸 Reference: Arctic rescue missions were mounted as necessary.\n"
     ]
    },
    {
     "name": "stderr",
     "output_type": "stream",
     "text": [
      " 20%|██        | 20/100 [00:04<00:13,  5.72it/s]"
     ]
    },
    {
     "name": "stdout",
     "output_type": "stream",
     "text": [
      "🔹 Predicted:  Karl Datzel war es in Verbesserungssystem und in den Dessert府.\n",
      "🔸 Reference: Carter said racism played a part in the decision.\n",
      "🔹 Predicted: It is more or less the detail of San Francisco City Council.\n",
      "🔸 Reference: Its word order is the typical subject-object-verb.\n"
     ]
    },
    {
     "name": "stderr",
     "output_type": "stream",
     "text": [
      " 22%|██▏       | 22/100 [00:04<00:14,  5.23it/s]"
     ]
    },
    {
     "name": "stdout",
     "output_type": "stream",
     "text": [
      "🔹 Predicted:  und ungewinnigt vertrete durch Turekrohren bei der Beherkrohren mit der Fichte.\n",
      "🔸 Reference: Gwen commits herself to restoring her relationship with her sister.\n",
      "🔹 Predicted: Doblin Kiffley-Dibrand went home, he was my mother.\n",
      "🔸 Reference: To which he replies: I thought she was your mother!\n"
     ]
    },
    {
     "name": "stderr",
     "output_type": "stream",
     "text": [
      " 24%|██▍       | 24/100 [00:04<00:12,  5.94it/s]"
     ]
    },
    {
     "name": "stdout",
     "output_type": "stream",
     "text": [
      "🔹 Predicted: Maker betnach mein Pinnock in der Weineinwürfe.\n",
      "🔸 Reference: Later that night Jill is kidnapped by gill men.\n",
      "🔹 Predicted: Kentigarends made the most noise.\n",
      "🔸 Reference: Empty barrels make the most noise.\n"
     ]
    },
    {
     "name": "stderr",
     "output_type": "stream",
     "text": [
      "\r",
      " 25%|██▌       | 25/100 [00:04<00:12,  5.91it/s]"
     ]
    },
    {
     "name": "stdout",
     "output_type": "stream",
     "text": [
      "🔹 Predicted:  When the carpet and the crown is cut, fire, and it was getting warm.\n",
      "🔸 Reference: When the carpet and the curtains caught fire, it was getting warm.\n"
     ]
    },
    {
     "name": "stderr",
     "output_type": "stream",
     "text": [
      "\r",
      " 26%|██▌       | 26/100 [00:05<00:13,  5.34it/s]"
     ]
    },
    {
     "name": "stdout",
     "output_type": "stream",
     "text": [
      "🔹 Predicted: 南部、我々的以前は、ポフォークにそこで減らttit.\n",
      "🔸 Reference: Bampur, where the ancient Bampur fort is located, is nearby.\n"
     ]
    },
    {
     "name": "stderr",
     "output_type": "stream",
     "text": [
      " 28%|██▊       | 28/100 [00:05<00:13,  5.31it/s]"
     ]
    },
    {
     "name": "stdout",
     "output_type": "stream",
     "text": [
      "🔹 Predicted: The Jon or the London Apologise to be founded in a variety of both the \"Bounce Bounce\" by Stan.\n",
      "🔸 Reference: The term \"odango\" in Japanese can refer to any variety of bun hairstyle.\n",
      "🔹 Predicted: Jernery County City Hall of Fame is located in the lobby.\n",
      "🔸 Reference: The American Theatre Hall of Fame is located in the lobby.\n"
     ]
    },
    {
     "name": "stderr",
     "output_type": "stream",
     "text": [
      " 30%|███       | 30/100 [00:05<00:10,  6.80it/s]"
     ]
    },
    {
     "name": "stdout",
     "output_type": "stream",
     "text": [
      "🔹 Predicted: Igo always wanted to do this.\n",
      "🔸 Reference: I've always wanted to do this!\n",
      "🔹 Predicted:  Her album is \"Conservient\".\n",
      "🔸 Reference: Her opponent is Councilor Irwin Tieng.\n"
     ]
    },
    {
     "name": "stderr",
     "output_type": "stream",
     "text": [
      " 32%|███▏      | 32/100 [00:06<00:11,  6.12it/s]"
     ]
    },
    {
     "name": "stdout",
     "output_type": "stream",
     "text": [
      "🔹 Predicted: A word for service, \"Solarly Macrope-Bio\" class and \"Sanot\" class.\n",
      "🔸 Reference: Her work considers soil microbial ecology and the study of mycorrhizal fungi.\n",
      "🔹 Predicted: We get safety courses cheap, thus for me being a member.\n",
      "🔸 Reference: He is \"City Press\"s chief correspondent in Mpumalanga.\n"
     ]
    },
    {
     "name": "stderr",
     "output_type": "stream",
     "text": [
      "\r",
      " 33%|███▎      | 33/100 [00:09<01:12,  1.09s/it]"
     ]
    },
    {
     "name": "stdout",
     "output_type": "stream",
     "text": [
      "🔹 Predicted:  Erricht des des des des des des des des des des des des des des des des des des des des des des des des des des des des des des des des des des des des des des des des des des des des des des des des des des des des des des des des des des des des des des des des des des des des des des des des des des des des des des des des des des des des des des des des des des des des des des des des des des des des des des des des des des des des des des des des des des des des des des des des des des des des des des des des des des des des des des des des des des des des des des des des des des des des des des des des des des des des des des des des des des des des des des des des des des des des des des des des des des des des des des des des des des des des des des des des des des des des des des des des des des des des des des des des des des des des des des des des des des des des des des des des des des des des des des des des des des des des des des des des des des des des des des des des des des des des des des des des des des des des des des des des des des des des des des des des des des des des des des des des des des des des des des des des des des des des des des des des des des des des des des des des des des des des des des des des des des des des des des des des des des des des des des des des des des des des des des des des des des des des des des des des des des des des des des des des des des des des des des des des des des des des des des des des des des des des des des des des des des des des des des des des des des des des des des des des des des des des des des des des des des des des des des des des des des des des des des des des des des des des des des des des des des des des des des des des des des des des des des des des des des\n",
      "🔸 Reference: English dismissed these claims as being false.\n"
     ]
    },
    {
     "name": "stderr",
     "output_type": "stream",
     "text": [
      "\r",
      " 34%|███▍      | 34/100 [00:09<00:56,  1.17it/s]"
     ]
    },
    {
     "name": "stdout",
     "output_type": "stream",
     "text": [
      "🔹 Predicted:  Erfolge ist \"Werstwersperte\" und \"Werderte Mittelmeerung\" und \"Werderlander und Fretsch\".\n",
      "🔸 Reference: Acquires Mase Westpac Limited, which is a member of the London Gold Fixing.\n"
     ]
    },
    {
     "name": "stderr",
     "output_type": "stream",
     "text": [
      " 36%|███▌      | 36/100 [00:10<00:34,  1.86it/s]"
     ]
    },
    {
     "name": "stdout",
     "output_type": "stream",
     "text": [
      "🔹 Predicted:  und den geästereursatzteckte meist siebohol bei der Weitereikturei der Weitsweckung vertreten und beherrscht.\n",
      "🔸 Reference: For decades it was recognizable by the white, ladder-like snake on the building's roof.\n",
      "🔹 Predicted: 多more gibt es der Komponter Barrett Stortcast.\n",
      "🔸 Reference: A mold is the counterpart to a cast.\n"
     ]
    },
    {
     "name": "stderr",
     "output_type": "stream",
     "text": [
      "\r",
      " 37%|███▋      | 37/100 [00:10<00:25,  2.44it/s]"
     ]
    },
    {
     "name": "stdout",
     "output_type": "stream",
     "text": [
      "🔹 Predicted: シャオソンジュイケード\n",
      "🔸 Reference: He also enjoys judo.\n"
     ]
    },
    {
     "name": "stderr",
     "output_type": "stream",
     "text": [
      "\r",
      " 38%|███▊      | 38/100 [00:10<00:24,  2.57it/s]"
     ]
    },
    {
     "name": "stdout",
     "output_type": "stream",
     "text": [
      "🔹 Predicted: 和駅駅で利用に行く、和るだけ安い、満たすらい、満たす、満たす、満たす\n",
      "🔸 Reference: All artillery units wear the \"Gun Sight\" on their helmets.\n"
     ]
    },
    {
     "name": "stderr",
     "output_type": "stream",
     "text": [
      " 41%|████      | 41/100 [00:11<00:13,  4.43it/s]"
     ]
    },
    {
     "name": "stdout",
     "output_type": "stream",
     "text": [
      "🔹 Predicted: 合理などと決まnten beschenen der Ort der Risse und zu der Datasense.\n",
      "🔸 Reference: I would not recommend publishing the article without the dataset.\n",
      "🔹 Predicted: 我々は愛媛へよ\n",
      "🔸 Reference: What's the idea here?\n",
      "🔹 Predicted: You can plant your fomony!\n",
      "🔸 Reference: You got plenty of money?\n"
     ]
    },
    {
     "name": "stderr",
     "output_type": "stream",
     "text": [
      " 43%|████▎     | 43/100 [00:11<00:10,  5.53it/s]"
     ]
    },
    {
     "name": "stdout",
     "output_type": "stream",
     "text": [
      "🔹 Predicted: There is no fighting in my handstand.\n",
      "🔸 Reference: There is no fighting against fate\n",
      "🔹 Predicted: Nathen ist ein Maler mit Meyffy.\n",
      "🔸 Reference: Nothing's the matter with me.\n"
     ]
    },
    {
     "name": "stderr",
     "output_type": "stream",
     "text": [
      " 45%|████▌     | 45/100 [00:11<00:09,  5.96it/s]"
     ]
    },
    {
     "name": "stdout",
     "output_type": "stream",
     "text": [
      "🔹 Predicted:  Ladao was in battle with a Israelulian sister from the Spanish situation to home.\n",
      "🔸 Reference: Not that I was listening, but I noticed that you sounded really stressed when you were explaining the situation to him.\n",
      "🔹 Predicted: Bei und Anwalt ist sie nur als Basel.\n",
      "🔸 Reference: I want it as soon as possible.\n"
     ]
    },
    {
     "name": "stderr",
     "output_type": "stream",
     "text": [
      "\r",
      " 46%|████▌     | 46/100 [00:11<00:09,  5.49it/s]"
     ]
    },
    {
     "name": "stdout",
     "output_type": "stream",
     "text": [
      "🔹 Predicted:  The game reduces the quality of the game's approach, but the game is also often built on by-velins.\n",
      "🔸 Reference: You can reduce the quality of the anisotropic filter to gain some performance.\n"
     ]
    },
    {
     "name": "stderr",
     "output_type": "stream",
     "text": [
      " 48%|████▊     | 48/100 [00:15<00:41,  1.24it/s]"
     ]
    },
    {
     "name": "stdout",
     "output_type": "stream",
     "text": [
      "🔹 Predicted:  dass die Degrees was zu weiget der Movers auf das Dau-Fix-Dau-Fix-Dau-Fix-Dau-Fix-Dau-Fix-Dau-Fix-Dau-Fix-Dau-Fix-Dau-Fix-Dau-Fix-Dau-Fix-Dau-Fix-Dau-Fix-Dau-Fix-Dau-Fix-Dau-Fix-Dau-Fix-Dau-Fix-Dau-Fix-Dau-Fix-Dau-Fix-Dau-Fix-Dau-Fix-Dau-Fix-Dau-Fix-Dau-Fix-Dau-Fix-Dau-Fix-Dau-Fix-Dau-Fix-Dau-Fix-Dau-Fix-Dau-Fix-Dau-Fix-Dau-Fix-Dau-Fix-Dau-Fix-Dau-Fix-Dau-Fix-Dau-Fix-Dau-Fix-Dau-Fix-Dau-Fix-Dau-Fix-Dau-Fix-Dau-Fix-Dau-Fix-Dau-Fix-Dau-Fix-Dau-Fix-Dau-Fix-Dau-Fix-Dau-Fix-Dau-Fix-Dau-Fix-Dau-Fix-Dau-Fix-Dau-Fix-Dau-Fix-Dau-Fix-Dau-Fix-Dau-Fix-Dau-Fix-Dau-Fix-Dau-Fix-Dau-Fix-Dau-Fix-Dau-Fix-Dau-Fix-Dau-Fix-Dau-Fix-Dau-\n",
      "🔸 Reference: Desiderius persuaded the nobles of his diocese to endow churches and monasteries.\n",
      "🔹 Predicted: 部大阪 der Herkunft der Herkunft der Stahlmisteri\n",
      "🔸 Reference: To that end, Talia claims to have miscarried.\n"
     ]
    },
    {
     "name": "stderr",
     "output_type": "stream",
     "text": [
      " 50%|█████     | 50/100 [00:15<00:24,  2.02it/s]"
     ]
    },
    {
     "name": "stdout",
     "output_type": "stream",
     "text": [
      "🔹 Predicted: Innergischiasch, the Commission is called \"Milisia's Blocalistolia\". As a result, militia is the stonium.\n",
      "🔸 Reference: In musicians, the condition is called \"musician's focal dystonia\", or simply, \"musician's dystonia\".\n",
      "🔹 Predicted:  He said that everything has its own destiny.\n",
      "🔸 Reference: He said that everything has its own destiny.\n"
     ]
    },
    {
     "name": "stderr",
     "output_type": "stream",
     "text": [
      " 52%|█████▏    | 52/100 [00:16<00:17,  2.68it/s]"
     ]
    },
    {
     "name": "stdout",
     "output_type": "stream",
     "text": [
      "🔹 Predicted: 我々に即使静岡市はさあ、いっぱいサーブサーブ、インパス、だらかるべきのほうがとき、\n",
      "🔸 Reference: Whenever he saw the sea, or a fire, he fell silent, impressed by their elemental force.\n",
      "🔹 Predicted: It later went on to school to Los Angeles again to the south of the Gittos.\n",
      "🔸 Reference: He later went on to score two more centuries against the South Africans.\n"
     ]
    },
    {
     "name": "stderr",
     "output_type": "stream",
     "text": [
      "\r",
      " 53%|█████▎    | 53/100 [00:16<00:15,  3.06it/s]"
     ]
    },
    {
     "name": "stdout",
     "output_type": "stream",
     "text": [
      "🔹 Predicted: For the years of rights, it all for areas in the form of the Church of the Stoosers.\n",
      "🔸 Reference: Plesiosauroids evolved from earlier, similar forms such as pistosaurs.\n"
     ]
    },
    {
     "name": "stderr",
     "output_type": "stream",
     "text": [
      " 55%|█████▌    | 55/100 [00:16<00:10,  4.22it/s]"
     ]
    },
    {
     "name": "stdout",
     "output_type": "stream",
     "text": [
      "🔹 Predicted:  Herrer, Satyos und Rechte ist noch verl�erly single-bottagell.\n",
      "🔸 Reference: However, certain reactants do not follow this simple pattern.\n",
      "🔹 Predicted:  The town will be just four extreme wages.\n",
      "🔸 Reference: The tournament features four eight-team regions.\n"
     ]
    },
    {
     "name": "stderr",
     "output_type": "stream",
     "text": [
      " 57%|█████▋    | 57/100 [00:17<00:08,  4.81it/s]"
     ]
    },
    {
     "name": "stdout",
     "output_type": "stream",
     "text": [
      "🔹 Predicted:  Schauter Kammall succeeded by getting the word as \"steal\" by Johnson and Edmund.\n",
      "🔸 Reference: Sholto Campbell, succeeded by younger brothers still, Barrington and Archibald.\n",
      "🔹 Predicted:  The story focus system is still the focus was it often in broad daylight.\n",
      "🔸 Reference: The story focuses on the history of the villainous wizard Marten Broadcloak.\n"
     ]
    },
    {
     "name": "stderr",
     "output_type": "stream",
     "text": [
      " 59%|█████▉    | 59/100 [00:17<00:07,  5.38it/s]"
     ]
    },
    {
     "name": "stdout",
     "output_type": "stream",
     "text": [
      "🔹 Predicted: Loselien wasst du raufs vor die Landtress in der Nationalwürfe?\n",
      "🔸 Reference: Mosby mostly wrote for United Press International.\n",
      "🔹 Predicted: The Cascade is a saw in Beisley.\n",
      "🔸 Reference: The facilities are very basic.\n"
     ]
    },
    {
     "name": "stderr",
     "output_type": "stream",
     "text": [
      " 61%|██████    | 61/100 [00:17<00:07,  5.00it/s]"
     ]
    },
    {
     "name": "stdout",
     "output_type": "stream",
     "text": [
      "🔹 Predicted: The Fennelau an Entenert des Cinnes erlägt die Fennelau-Cherbau den Tegis.\n",
      "🔸 Reference: The Federal Electoral Districts elect the federal Chamber of Deputies.\n",
      "🔹 Predicted: I then thought it was begin to cast a much more simply because of my limited genre.\n",
      "🔸 Reference: I tend to avoid speaking to customers much, mostly because of my limited German.\n"
     ]
    },
    {
     "name": "stderr",
     "output_type": "stream",
     "text": [
      "\r",
      " 62%|██████▏   | 62/100 [00:18<00:08,  4.49it/s]"
     ]
    },
    {
     "name": "stdout",
     "output_type": "stream",
     "text": [
      "🔹 Predicted: Akust seiner Moestitzer der Zeit des Drehenstinnen beendet und in der National-Estermannung vertreten.\n",
      "🔸 Reference: Atlas Cinema hosted selected films during the annual International Istanbul Film Festival.\n"
     ]
    },
    {
     "name": "stderr",
     "output_type": "stream",
     "text": [
      "\r",
      " 63%|██████▎   | 63/100 [00:18<00:10,  3.70it/s]"
     ]
    },
    {
     "name": "stdout",
     "output_type": "stream",
     "text": [
      "🔹 Predicted: Happelcabble-Cabble-Seller is also known as the \"Nobb-Colentic\" and \"Testatic\" also known as \"The Married\" of the town.\n",
      "🔸 Reference: The book covers several issues in the political and historical scenarios of Nepal.\n"
     ]
    },
    {
     "name": "stderr",
     "output_type": "stream",
     "text": [
      " 65%|██████▌   | 65/100 [00:19<00:08,  3.99it/s]"
     ]
    },
    {
     "name": "stdout",
     "output_type": "stream",
     "text": [
      "🔹 Predicted: Ai Teamでもやばりやつをキーブーやキーブーで一緒に沢山を吹きてくれば、\n",
      "🔸 Reference: Ageing and memory are key preoccupations of this novel.\n",
      "🔹 Predicted:  There was a mushy, decrepitant, and sub-ordnadements.\n",
      "🔸 Reference: Dorothy was almost ready to cry with disappointment.\n"
     ]
    },
    {
     "name": "stderr",
     "output_type": "stream",
     "text": [
      " 67%|██████▋   | 67/100 [00:19<00:07,  4.59it/s]"
     ]
    },
    {
     "name": "stdout",
     "output_type": "stream",
     "text": [
      "🔹 Predicted: Wattke hat sie den Ents� mit Halben in Blödering-Tepelle fortgesetzt.\n",
      "🔸 Reference: What guidelines will help in building cheaper, affordable houses?\n",
      "🔹 Predicted: 奈良県美根で雲寄り擠的\n",
      "🔸 Reference: ‘Nearly there!’ the Queen repeated.\n"
     ]
    },
    {
     "name": "stderr",
     "output_type": "stream",
     "text": [
      "\r",
      " 68%|██████▊   | 68/100 [00:19<00:06,  5.03it/s]"
     ]
    },
    {
     "name": "stdout",
     "output_type": "stream",
     "text": [
      "🔹 Predicted: Eyk hat umlundig zum Alk-Fort.\n",
      "🔸 Reference: A couple look at some artwork\n"
     ]
    },
    {
     "name": "stderr",
     "output_type": "stream",
     "text": [
      "\r",
      " 69%|██████▉   | 69/100 [00:19<00:06,  4.78it/s]"
     ]
    },
    {
     "name": "stdout",
     "output_type": "stream",
     "text": [
      "🔹 Predicted:  Felted was sanded under the bee, what she did was, row after rags and the flashes of film.\n",
      "🔸 Reference: Philip was standing on the levee watching the waves roll off the rocks and the splashes of spume.\n"
     ]
    },
    {
     "name": "stderr",
     "output_type": "stream",
     "text": [
      " 71%|███████   | 71/100 [00:20<00:05,  5.29it/s]"
     ]
    },
    {
     "name": "stdout",
     "output_type": "stream",
     "text": [
      "🔹 Predicted: Ich schildes mal, dass es in den Kaulen und Tannin ebenfalls vertreten.\n",
      "🔸 Reference: A shirtless man wearing bracelets and a garland carrying a pole\n",
      "🔹 Predicted: This part on the word that was made by a king in English.\n",
      "🔸 Reference: The spot on the blotter was made by green ink.\n"
     ]
    },
    {
     "name": "stderr",
     "output_type": "stream",
     "text": [
      " 73%|███████▎  | 73/100 [00:20<00:04,  5.53it/s]"
     ]
    },
    {
     "name": "stdout",
     "output_type": "stream",
     "text": [
      "🔹 Predicted:  A use of research and a little symbols, the spades were also novela straight red cabinet.\n",
      "🔸 Reference: The years of research, the magic symbols, the strange words and the laboratory equipment...\n",
      "🔹 Predicted: 何にチール変更にポーチゲームもあるので、\n",
      "🔸 Reference: Many children walk together on a dirt path.\n"
     ]
    },
    {
     "name": "stderr",
     "output_type": "stream",
     "text": [
      "\r",
      " 74%|███████▍  | 74/100 [00:20<00:04,  5.50it/s]"
     ]
    },
    {
     "name": "stdout",
     "output_type": "stream",
     "text": [
      "🔹 Predicted: 池泥水平凡的池池池池池\n",
      "🔸 Reference: Two ladies play the violin and the guitar on the street to entertain the passer byes.\n"
     ]
    },
    {
     "name": "stderr",
     "output_type": "stream",
     "text": [
      " 76%|███████▌  | 76/100 [00:21<00:04,  5.31it/s]"
     ]
    },
    {
     "name": "stdout",
     "output_type": "stream",
     "text": [
      "🔹 Predicted: Aianterskinn born in anarkerd, siebenetzter Larkstallosanders.\n",
      "🔸 Reference: A young darkskinned boy in a large shirt sitting next to a large pile of sandals.\n",
      "🔹 Predicted:  dass children with meike in the independent field were brought away in the United States.\n",
      "🔸 Reference: The student may work independently or collaborate with others.\n"
     ]
    },
    {
     "name": "stderr",
     "output_type": "stream",
     "text": [
      " 78%|███████▊  | 78/100 [00:21<00:04,  5.08it/s]"
     ]
    },
    {
     "name": "stdout",
     "output_type": "stream",
     "text": [
      "🔹 Predicted: Sein Wannau zu den Konflächen des Freunden war schwelle in den Bernden des Klein.\n",
      "🔸 Reference: He went on to complete his graduation while serving in the Indian Army.\n",
      "🔹 Predicted: deck-web für Asandere eine der Schiffbau mein Komponis.\n",
      "🔸 Reference: The group was under the leadership of Michael Collins.\n"
     ]
    },
    {
     "name": "stderr",
     "output_type": "stream",
     "text": [
      "\r",
      " 79%|███████▉  | 79/100 [00:21<00:04,  4.86it/s]"
     ]
    },
    {
     "name": "stdout",
     "output_type": "stream",
     "text": [
      "🔹 Predicted: The Grainlaw dem Geotrasspariffeau zelt das Mount Mimie enttress.\n",
      "🔸 Reference: The green lock in the address bar of your browser does NOT mean you can trust the site.\n",
      "🔹 Predicted: Wirre your steam channel!\n",
      "🔸 Reference: While you're still champion!\n"
     ]
    },
    {
     "name": "stderr",
     "output_type": "stream",
     "text": [
      "\r",
      " 81%|████████  | 81/100 [00:22<00:03,  5.35it/s]"
     ]
    },
    {
     "name": "stdout",
     "output_type": "stream",
     "text": [
      "🔹 Predicted: Eychichas wird dieauertürnisseaube an zwei Meter beschlebt die Sicherheit des Stifties.\n",
      "🔸 Reference: If you just read the code, you'll miss out on why I made certain decisions.\n"
     ]
    },
    {
     "name": "stderr",
     "output_type": "stream",
     "text": [
      "\r",
      " 82%|████████▏ | 82/100 [00:22<00:03,  5.14it/s]"
     ]
    },
    {
     "name": "stdout",
     "output_type": "stream",
     "text": [
      "🔹 Predicted:  Fairfott is a primary-demokratisch-isitor in Rageau-Eitelflamm.\n",
      "🔸 Reference: Firefox is probably the easiest to get started with, although I prefer Chrome.\n"
     ]
    },
    {
     "name": "stderr",
     "output_type": "stream",
     "text": [
      " 84%|████████▍ | 84/100 [00:22<00:03,  5.01it/s]"
     ]
    },
    {
     "name": "stdout",
     "output_type": "stream",
     "text": [
      "🔹 Predicted: 我々的意識をそこ々でも愛媛ひよいわにやすとおばす\n",
      "🔸 Reference: Thought there might be one left over.\n",
      "🔹 Predicted: Mia was just friend, Mark Sallonon, who grew up as localist.\n",
      "🔸 Reference: Minier asked his friend Mark Salomon to try out as vocalist.\n"
     ]
    },
    {
     "name": "stderr",
     "output_type": "stream",
     "text": [
      "\r",
      " 85%|████████▌ | 85/100 [00:24<00:09,  1.64it/s]"
     ]
    },
    {
     "name": "stdout",
     "output_type": "stream",
     "text": [
      "🔹 Predicted: The Atlantic Ocean City Studies Studies Studies Studies Studies Studies Studies Studies Studies Studies Studies Studies Studies Studies Studies Studies Studies Studies Studies Studies Studies Studies Studies Studies Studies Studies Studies Studies Studies Studies Studies Studies Studies Studies Studies Studies Studies Studies Studies Studies Studies Studies Studies Studies Studies Studies Studies Studies Studies Studies Studies Studies Studies Studies Studies Studies Studies Studies Studies Studies Studies Studies Studies Studies Studies Studies Studies Studies Studies Studies Studies Studies Studies Studies Studies Studies Studies Studies Studies Studies Studies Studies Studies Studies Studies Studies Studies Studies Studies Studies Studies Studies Studies Studies Studies Studies Studies Studies Studies Studies Studies Studies Studies Studies Studies Studies Studies Studies Studies Studies Studies Studies Studies Studies Studies Studies Studies Studies Studies Studies Studies Studies Studies Studies Studies Studies Studies Studies Studies Studies Studies Studies Studies Studies Studies Studies Studies Studies Studies Studies Studies Studies Studies Studies Studies Studies Studies Studies Studies Studies Studies Studies Studies Studies Studies Studies Studies Studies Studies Studies Studies Studies Studies Studies Studies Studies Studies Studies Studies Studies Studies Studies Studies Studies Studies Studies Studies Studies Studies Studies Studies Studies Studies Studies Studies Studies Studies Studies Studies Studies Studies Studies Studies Studies Studies Studies Studies Studies Studies Studies Studies Studies Studies Studies Studies Studies Studies Studies Studies Studies Studies Studies Studies Studies Studies\n",
      "🔸 Reference: Atlantic history studies the Atlantic World in the early modern period.\n"
     ]
    },
    {
     "name": "stderr",
     "output_type": "stream",
     "text": [
      " 87%|████████▋ | 87/100 [00:24<00:05,  2.46it/s]"
     ]
    },
    {
     "name": "stdout",
     "output_type": "stream",
     "text": [
      "🔹 Predicted: Incolons, it is also used for the end of the laborer's daughter, but the shelliter.\n",
      "🔸 Reference: In France, it is also used within the male branch of the Carthusian Order.\n",
      "🔹 Predicted: しはいべえ、アクティンサーフォーク\n",
      "🔸 Reference: She was buried at the in Frankfurt.\n"
     ]
    },
    {
     "name": "stderr",
     "output_type": "stream",
     "text": [
      " 89%|████████▉ | 89/100 [00:25<00:03,  3.10it/s]"
     ]
    },
    {
     "name": "stdout",
     "output_type": "stream",
     "text": [
      "🔹 Predicted: 市北県便宜のイメージが覚えられるスポーツの一つのアシャーイカビネット\n",
      "🔸 Reference: She became the Minister for Youth and Sports in the Bhattarai cabinet.\n",
      "🔹 Predicted: There are seven or eight postannels that took Spanish notes away from the Spanish duke couples.\n",
      "🔸 Reference: There are seven or eight stamens and two staminodes arranged around the two carpels.\n"
     ]
    },
    {
     "name": "stderr",
     "output_type": "stream",
     "text": [
      " 91%|█████████ | 91/100 [00:25<00:02,  4.00it/s]"
     ]
    },
    {
     "name": "stdout",
     "output_type": "stream",
     "text": [
      "🔹 Predicted: 愛普京がやっぱり、やっぱり、やっぱり、みみしろくらい\n",
      "🔸 Reference: I could die happily, and that made me feel good.\n",
      "🔹 Predicted: Alleid with glasses gold sub-bebe who is looking up at her.\n",
      "🔸 Reference: A lady with glasses holds a baby who is looking up at her.\n"
     ]
    },
    {
     "name": "stderr",
     "output_type": "stream",
     "text": [
      " 93%|█████████▎| 93/100 [00:26<00:01,  4.64it/s]"
     ]
    },
    {
     "name": "stdout",
     "output_type": "stream",
     "text": [
      "🔹 Predicted: 個パスンでんだ、 교術屋町があることが多くらい\n",
      "🔸 Reference: A person in dark clothes is walking down to the subway.\n",
      "🔹 Predicted: Asoa and Jai married a white character who just wore her a paintbrush.\n",
      "🔸 Reference: A small child wearing a white hat reaches for a paintbrush.\n"
     ]
    },
    {
     "name": "stderr",
     "output_type": "stream",
     "text": [
      "\r",
      " 94%|█████████▍| 94/100 [00:26<00:01,  5.22it/s]"
     ]
    },
    {
     "name": "stdout",
     "output_type": "stream",
     "text": [
      "🔹 Predicted: 福岡県温泉池町\n",
      "🔸 Reference: Split the log with a quick, sharp blow.\n"
     ]
    },
    {
     "name": "stderr",
     "output_type": "stream",
     "text": [
      "\r",
      " 95%|█████████▌| 95/100 [00:26<00:00,  5.05it/s]"
     ]
    },
    {
     "name": "stdout",
     "output_type": "stream",
     "text": [
      "🔹 Predicted: Eine Militär und Militär des Doens in Velverellen war es ein Bruder.\n",
      "🔸 Reference: As he looked at the stones, he felt relieved for some reason.\n"
     ]
    },
    {
     "name": "stderr",
     "output_type": "stream",
     "text": [
      " 97%|█████████▋| 97/100 [00:29<00:02,  1.24it/s]"
     ]
    },
    {
     "name": "stdout",
     "output_type": "stream",
     "text": [
      "🔹 Predicted: Ihlo Likolaiolaiolaiolaiolaiolaiolaiolaiolaiolaiolaiolaiolaiolaiolaiolaiolaiolaiolaiolaiolaiolaiolaiolaiolaiolaiolaiolaiolaiolaiolaiolaiolaiolaiolaiolaiolaiolaiolaiolaiolaiolaiolaiolaiolaiolaiolaiolaiolaiolaiolaiolaiolaiolaiolaiolaiolaiolaiolaiolaiolaiolaiolaiolaiolaiolaiolaiolaiolaiolaiolaiolaiolaiolaiolaiolaiolaiolaiolaiolaiolaiolaiolaiolaiolaiolaiolaiolaiolaiolaiolaiolaiolaiolaiolaiolaiolaiolaiolaiolaiolaiolaiolaiolaiolaiolaiolaiolaiolaiolaiolaiolaiolaiolaiolaiolaiolaiolaiolaiolaiolaiolaiolaiolaiolaiolaiolaiolaiolaiolaiolaiolaiolaiolaiolaiolaiolaiolaiolaiolaiolaiolaiolaiolaiolaiolaiolaiolaiolaiolaiolaiolaiolaiolaiolaiolaiolaiolaiolaiolaiolaiolaiolaiolaiolaiolaiolaiolaiolaiolaiolaiolaiolaiolaiolaiolaiolaiolaiolaiolaiolaiolaiolaiolaiolaiolaiolaiolaiolaiolaiolaiolaiolaiolaiolaiolaiolaiolaiolaiolaiolaiolaiolaiolaiolaiolaiolaiolaiolaiolaiolaiolaiolaiolaiolaiolaiolaiolaiolaiol\n",
      "🔸 Reference: I don't know if I'll be able to find life in the desert, the boy thought.\n",
      "🔹 Predicted: Arenhund in Vesergesprissee\n",
      "🔸 Reference: I could envisage the scene.\n"
     ]
    },
    {
     "name": "stderr",
     "output_type": "stream",
     "text": [
      " 99%|█████████▉| 99/100 [00:30<00:00,  2.08it/s]"
     ]
    },
    {
     "name": "stdout",
     "output_type": "stream",
     "text": [
      "🔹 Predicted: The Aura Lasszelt hat unsurliquit an das Städmau ausgelieft.\n",
      "🔸 Reference: The opera had surtitles, so we could understand what was going on\n",
      "🔹 Predicted:  Weakness and will not be filled to the earth.\n",
      "🔸 Reference: We perspire when we feel too hot.\n"
     ]
    },
    {
     "name": "stderr",
     "output_type": "stream",
     "text": [
      "100%|██████████| 100/100 [00:30<00:00,  3.30it/s]"
     ]
    },
    {
     "name": "stdout",
     "output_type": "stream",
     "text": [
      "🔹 Predicted: Largezenehm für eine schimmelpentelser Ressauze oder europäalation für breiter Pädde.\n",
      "🔸 Reference: More recently, professional painters are responsible for all preparation prior to painting.\n"
     ]
    },
    {
     "name": "stderr",
     "output_type": "stream",
     "text": [
      "\n"
     ]
    },
    {
     "name": "stdout",
     "output_type": "stream",
     "text": [
      "✅ EN WER: 1.5566\n",
      "🌍 Language: ja\n"
     ]
    },
    {
     "name": "stderr",
     "output_type": "stream",
     "text": [
      "  1%|          | 1/100 [00:00<00:14,  6.74it/s]"
     ]
    },
    {
     "name": "stdout",
     "output_type": "stream",
     "text": [
      "🔹 Predicted: かつに浮かれるようにハナニティ\n",
      "🔸 Reference: 風に吹かれるように離れていった\n"
     ]
    },
    {
     "name": "stderr",
     "output_type": "stream",
     "text": [
      "\r",
      "  2%|▏         | 2/100 [00:00<00:34,  2.86it/s]"
     ]
    },
    {
     "name": "stdout",
     "output_type": "stream",
     "text": [
      "🔹 Predicted: 友のそろりゃすみ、そのだとと、\n",
      "🔸 Reference: どうもそうらしい、そうだ、きっと\n"
     ]
    },
    {
     "name": "stderr",
     "output_type": "stream",
     "text": [
      "  4%|▍         | 4/100 [00:01<00:24,  3.96it/s]"
     ]
    },
    {
     "name": "stdout",
     "output_type": "stream",
     "text": [
      "🔹 Predicted: 多円の顔にもランスとしてが、多分にも水溜りボタンを飽きました。\n",
      "🔸 Reference: 公園も団地と一緒だった、何も見つからなかった\n",
      "🔹 Predicted: ノールの中に上がるので、近くなりません。\n",
      "🔸 Reference: ロンドンではテームズ川の近くに住み、\n"
     ]
    },
    {
     "name": "stderr",
     "output_type": "stream",
     "text": [
      "  6%|▌         | 6/100 [00:01<00:22,  4.25it/s]"
     ]
    },
    {
     "name": "stdout",
     "output_type": "stream",
     "text": [
      "🔹 Predicted: 二人の中であるに目の上がらないがら、他のことに絶対何も考えることができない状態、\n",
      "🔸 Reference: 頭の中でアニメの映像が流れて、他のことについて何も考えることができない状態\n",
      "🔹 Predicted: ヘルトのソメーカーが上げていたら、\n",
      "🔸 Reference: 冬でもそうめんをよく食べます\n"
     ]
    },
    {
     "name": "stderr",
     "output_type": "stream",
     "text": [
      "  8%|▊         | 8/100 [00:01<00:17,  5.41it/s]"
     ]
    },
    {
     "name": "stdout",
     "output_type": "stream",
     "text": [
      "🔹 Predicted: 猪群群区はないすい\n",
      "🔸 Reference: 三重県桑名市\n",
      "🔹 Predicted: スイメージの世界が来るまでこそいためた\n",
      "🔸 Reference: 筋トレの成果がでる前に腰を痛めた\n",
      "🔹 Predicted: 京都市の何か\n",
      "🔸 Reference: 京都市南区\n"
     ]
    },
    {
     "name": "stderr",
     "output_type": "stream",
     "text": [
      " 11%|█         | 11/100 [00:02<00:14,  6.21it/s]"
     ]
    },
    {
     "name": "stdout",
     "output_type": "stream",
     "text": [
      "🔹 Predicted: なんてなきゃいけない世界で、としては、手に上げようとしてある。\n",
      "🔸 Reference: モンタナ州の最大都市はビリングスである\n",
      "🔹 Predicted: her jetterが僕は乾燥に行きてきた\n",
      "🔸 Reference: 厚焼きたまごはかんたんにできる\n"
     ]
    },
    {
     "name": "stderr",
     "output_type": "stream",
     "text": [
      "\r",
      " 12%|█▏        | 12/100 [00:05<01:26,  1.01it/s]"
     ]
    },
    {
     "name": "stdout",
     "output_type": "stream",
     "text": [
      "🔹 Predicted: 合理は、合理は、合理は、合理は、合理は、合理は、合理は、合理は、合理は、合理は、合理は、合理は、合理は、合理は、合理は、合理は、合理は、合理は、合理は、合理は、合理は、合理は、合理は、合理は、合理は、合理は、合理は、合理は、合理は、合理は、合理は、合理は、合理は、合理は、合理は、合理は、合理は、合理は、合理は、合理は、合理は、合理は、合理は、合理は、合理は、合理は、合理は、合理は、合理は、合理は、合理は、合理は、合理は、合理は、合理は、合理は、合理は、合理は、合理は、合理は、合理は、合理は、合理は、合理は、合理は、合理は、合理は、合理は、合理は、合理は、合理は、合理は、合理は、合理は、合理は、合理は、合理は、合理は、合理は、合理は、合理は、合理は、合理は、合理は、合理は、合理は、合理は、合理は、合理は、合理は、合理は、合理は、合理は、合理は、合理は、合理は、合理は、合理は、合理は、合理は、合理は、合理は、合理は、合理は、合理は、合理は、合理は、合理は、合理は、合理は、合理は、\n",
      "🔸 Reference: まったく衰えもしない姿に、鳥肌を覚えてしまった。\n"
     ]
    },
    {
     "name": "stderr",
     "output_type": "stream",
     "text": [
      "\r",
      " 13%|█▎        | 13/100 [00:08<02:20,  1.61s/it]"
     ]
    },
    {
     "name": "stdout",
     "output_type": "stream",
     "text": [
      "🔹 Predicted: The D-SystemSystems are often used in a trade-out of a governmenticicopical data-acquThe D-Shikershinogogogogogogogogogogogogogogogogogogogogogogogogogogogogogogogogogogogogogogogogogogogogogogogogogogogogogogogogogogogogogogogogogogogogogogogogogogogogogogogogogogogogogogogogogogogogogogogogogogogogogogogogogogogogogogogogogogogogogogogogogogogogogogogogogogogogogogogogogogogogogogogogogogogogogogogogogogogogogogogogogogogogogogogogogogogogogogogogogogogogogogogogogogogogogogogogogogogogogogogogogogogogogogogogogogogogogogogogogogogogogogogogogogogogogogogogogogogogogogogogogogogogogogogogogogogogogogogogogogogogogogogogogogogogogogogogogogogogogogogogogogogogogogogogogogogogogogogogogogogogogogogogogogogogogogogogogogogogogogogogogogogogogogogogogogogogogogogogogogogogogogogogogogogogogogogogogogogogogogogogogogogogogogogogogogogogogogogogogogogogogogogogogogogogogogogogogogogogogogogogogogogogogogog\n",
      "🔸 Reference: 徹底した清掃と丁寧な調理を心がけたことで客足が戻ってきた\n"
     ]
    },
    {
     "name": "stderr",
     "output_type": "stream",
     "text": [
      "\r",
      " 14%|█▍        | 14/100 [00:09<01:45,  1.23s/it]"
     ]
    },
    {
     "name": "stdout",
     "output_type": "stream",
     "text": [
      "🔹 Predicted: つくがまた一丁にシャルテクサールを呼ばれるように困り方法に行く\n",
      "🔸 Reference: 壺の中の塩をたくさんよくもみ込んでください\n"
     ]
    },
    {
     "name": "stderr",
     "output_type": "stream",
     "text": [
      "\r",
      " 15%|█▌        | 15/100 [00:12<02:34,  1.81s/it]"
     ]
    },
    {
     "name": "stdout",
     "output_type": "stream",
     "text": [
      "🔹 Predicted: クラジオの上がるはずペーズペーズの上がるとして矛盾的でてきてきてきてきてきてきてきてきてきてきてきてきてきてきてきてきてきてきてきてきてきてきてきてきてきてきてきてきてきてきてきてきてきてきてきてきてきてきてきてきてきてきてきてきてきてきてきてきてきてきてきてきてきてきてきてきてきてきてきてきてきてきてきてきてきてきてきてきてきてきてきてきてきてきてきてきてきてきてきてきてきてきてきてきてきてきてきてきてきてきてきてきてきてきてきてきてきてきてきてきてきてきてきてきてきてきてきてきてきてきてきてきてきてきてきてきてきてきてきてきてきてきてきてきてきてきてきてきてきてきてきてきてきてきてきてきてきてきてきてきてきてきてきてきてきてきてきてきてきてきてきてきてきてきてきてきてきてきてきてきてきてきてきてきてきてきてきてきてきてきてきてきてきてきてきてきてきてきてきてきてきてきてきてきてきてきてきてきてきてきてきてきてきてきてきてきてきてきてきてきてきてきてきてきてきてきてき\n",
      "🔸 Reference: 作られたものから作るものへとして、矛盾的自己同一に徹することによって、歴史的世界は生物の世界から人間の世界へと発展する。\n",
      "🔹 Predicted: 仙岡です。\n",
      "🔸 Reference: ふざけて出品したらガチで売れてビビる\n"
     ]
    },
    {
     "name": "stderr",
     "output_type": "stream",
     "text": [
      " 18%|█▊        | 18/100 [00:12<01:09,  1.18it/s]"
     ]
    },
    {
     "name": "stdout",
     "output_type": "stream",
     "text": [
      "🔹 Predicted: キャラクターを取り出ることで作るだけで進みます。\n",
      "🔸 Reference: 外国だと驚くほど安く買えたりします\n",
      "🔹 Predicted: スティティはテレビのように、イメージを入っている\n",
      "🔸 Reference: 好きだった映画がリメイクされた\n"
     ]
    },
    {
     "name": "stderr",
     "output_type": "stream",
     "text": [
      " 20%|██        | 20/100 [00:13<00:42,  1.89it/s]"
     ]
    },
    {
     "name": "stdout",
     "output_type": "stream",
     "text": [
      "🔹 Predicted: これに映画へシャツは、国家かられて顔をっていた\n",
      "🔸 Reference: 公園の遊具や設備はあのころと比べて変わっていた\n",
      "🔹 Predicted: 今いって国家の理由を囲む\n",
      "🔸 Reference: 自分は、いったい幸福なのでしょうか\n"
     ]
    },
    {
     "name": "stderr",
     "output_type": "stream",
     "text": [
      " 22%|██▏       | 22/100 [00:13<00:28,  2.75it/s]"
     ]
    },
    {
     "name": "stdout",
     "output_type": "stream",
     "text": [
      "🔹 Predicted: Sie stammt an die Ostergänger bei der Ticket-Depolice-Krolle.\n",
      "🔸 Reference: そうしてその穴の中から時々ぷうぷうと煙を吹く\n",
      "🔹 Predicted: 彼は、自己の上がり、無理性をすると、\n",
      "🔸 Reference: 彼は、実家のお墓に埋葬された。\n"
     ]
    },
    {
     "name": "stderr",
     "output_type": "stream",
     "text": [
      " 24%|██▍       | 24/100 [00:13<00:21,  3.56it/s]"
     ]
    },
    {
     "name": "stdout",
     "output_type": "stream",
     "text": [
      "🔹 Predicted: キラコの武王の大きなさすが、僕らすがでえっとに任ute their lives.\n",
      "🔸 Reference: 木箱の向こうの大きな写真の、僕の知らない君に向けて礼をする。\n",
      "🔹 Predicted: 京都市を入れると、国家で出てこいしくない\n",
      "🔸 Reference: 料理酒を入れるとコクが出ておいしくなる。\n"
     ]
    },
    {
     "name": "stderr",
     "output_type": "stream",
     "text": [
      "\r",
      " 25%|██▌       | 25/100 [00:14<00:18,  4.15it/s]"
     ]
    },
    {
     "name": "stdout",
     "output_type": "stream",
     "text": [
      "🔹 Predicted: 過去にとらうまいっていると動けで、\n",
      "🔸 Reference: 過去にとらわれてると動けない\n"
     ]
    },
    {
     "name": "stderr",
     "output_type": "stream",
     "text": [
      "\r",
      " 26%|██▌       | 26/100 [00:17<01:23,  1.13s/it]"
     ]
    },
    {
     "name": "stdout",
     "output_type": "stream",
     "text": [
      "🔹 Predicted: Diaosai-Witte-Woo-San-Police-Ritte-Witte-Witte-Witte-Witte-Witte-Witte-Witte-Witte-Witte-Witte-Witte-Witte-Witte-Witte-Witte-Witte-Witte-Witte-Witte-Witte-Witte-Witte-Witte-Witte-Witte-Witte-Witte-Witte-Witte-Witte-Witte-Witte-Witte-Witte-Witte-Witte-Witte-Witte-Witte-Witte-Witte-Witte-Witte-Witte-Witte-Witte-Witte-Witte-Witte-Witte-Witte-Witte-Witte-Witte-Witte-Witte-Witte-Witte-Witte-Witte-Witte-Witte-Witte-Witte-Witte-Witte-Witte-Witte-Witte-Witte-Witte-Witte-Witte-Witte-Witte-Witte-Witte-Witte-Witte-Witte-Witte-Witte-Witte-Witte-Witte-Witte-Witte-Witte-Witte-Witte-Witte-Witte-Witte-Witte-Witte-Witte-Witte-Witte-Witte-Witte-Witte-Witte-Witte-Witte-Witte-Witte-Witte-Witte-Witte-Witte-Witte-Witte-Witte-Witte-Witte-Witte-Witte-Witte-Witte-Witte-Witte-Witte-Witte-Witte-Witte-Witte-Witte-Witte-Witte-Witte-Witte-Witte-Witte-Witte-Witte-Witte-Witte-Witte-Witte-Witte-Witte-\n",
      "🔸 Reference: 利用者の意見も参考にするとよいでしょう\n"
     ]
    },
    {
     "name": "stderr",
     "output_type": "stream",
     "text": [
      " 28%|██▊       | 28/100 [00:17<00:46,  1.55it/s]"
     ]
    },
    {
     "name": "stdout",
     "output_type": "stream",
     "text": [
      "🔹 Predicted: ルニュアドオーブンクというのは、ほとんど覚えられる。\n",
      "🔸 Reference: リニューアルオープンというが、ほとんど変わってなかった\n",
      "🔹 Predicted: 大きい二人で出ておりすぎるです。\n",
      "🔸 Reference: お役に立ててうれしいです\n"
     ]
    },
    {
     "name": "stderr",
     "output_type": "stream",
     "text": [
      " 30%|███       | 30/100 [00:17<00:27,  2.57it/s]"
     ]
    },
    {
     "name": "stdout",
     "output_type": "stream",
     "text": [
      "🔹 Predicted: The Geineinigung diffusikts.\n",
      "🔸 Reference: 岡山県美作市\n",
      "🔹 Predicted:  mitine ette dochundor und ette dochserer des incidental\n",
      "🔸 Reference: 見てないけど、感動をありがとうセールで安く買う\n"
     ]
    },
    {
     "name": "stderr",
     "output_type": "stream",
     "text": [
      "\r",
      " 31%|███       | 31/100 [00:18<00:24,  2.84it/s]"
     ]
    },
    {
     "name": "stdout",
     "output_type": "stream",
     "text": [
      "🔹 Predicted: キリズツアッセーソンと出会い合い、福岡県平凡市場所である\n",
      "🔸 Reference: 技術は生産的であり、世界を革新しまた豊富にする。\n"
     ]
    },
    {
     "name": "stderr",
     "output_type": "stream",
     "text": [
      "\r",
      " 32%|███▏      | 32/100 [00:18<00:21,  3.12it/s]"
     ]
    },
    {
     "name": "stdout",
     "output_type": "stream",
     "text": [
      "🔹 Predicted: Send moreよくべきだいろいろやろいろポールに動物を掛かっている\n",
      "🔸 Reference: 専門用語がいっぱいだけど、話してる本人もわかってない\n"
     ]
    },
    {
     "name": "stderr",
     "output_type": "stream",
     "text": [
      " 34%|███▍      | 34/100 [00:18<00:19,  3.43it/s]"
     ]
    },
    {
     "name": "stdout",
     "output_type": "stream",
     "text": [
      "🔹 Predicted: Der Edelbeno ist eine Sällezisseinung der Zigung des Entwürfees des Entwürfees, sich an der Eitzung der Zeitaufgabeiterin und die Sicherheit der Regel bei der Regel.\n",
      "🔸 Reference: 与えられたものそれ自身が自己矛盾的として、自己の内から自己を越え行くことでなければならない。\n",
      "🔹 Predicted: ネガセクティールに打ちつつ\n",
      "🔸 Reference: 長崎県壱岐市\n"
     ]
    },
    {
     "name": "stderr",
     "output_type": "stream",
     "text": [
      "\r",
      " 35%|███▌      | 35/100 [00:19<00:18,  3.56it/s]"
     ]
    },
    {
     "name": "stdout",
     "output_type": "stream",
     "text": [
      "🔹 Predicted: 三十個僕もおはたす飯店のお桜庫があったら、いよくだろうけれど\n",
      "🔸 Reference: いずれ僕もあと三十年もしたら浴衣がけで\n"
     ]
    },
    {
     "name": "stderr",
     "output_type": "stream",
     "text": [
      "\r",
      " 36%|███▌      | 36/100 [00:19<00:18,  3.54it/s]"
     ]
    },
    {
     "name": "stdout",
     "output_type": "stream",
     "text": [
      "🔹 Predicted: 僕も君のせながに向けて、さあで、と言い替えして、手を振り合わせた\n",
      "🔸 Reference: 僕も君の背中に向けて、じゃあねと言い返して、手を振った\n"
     ]
    },
    {
     "name": "stderr",
     "output_type": "stream",
     "text": [
      "\r",
      " 37%|███▋      | 37/100 [00:19<00:16,  3.79it/s]"
     ]
    },
    {
     "name": "stdout",
     "output_type": "stream",
     "text": [
      "🔹 Predicted: 小 Mor子汝を置いてしまう、どこかいつつcoraytecのサン\n",
      "🔸 Reference: 注文はずいぶん多いでしょうがどうか一々こらえて下さい\n"
     ]
    },
    {
     "name": "stderr",
     "output_type": "stream",
     "text": [
      " 39%|███▉      | 39/100 [00:20<00:15,  3.95it/s]"
     ]
    },
    {
     "name": "stdout",
     "output_type": "stream",
     "text": [
      "🔹 Predicted: 我々は一つの宝の真ん中にやつめて課題までもやまにしてまたやまにすなおかけられる。\n",
      "🔸 Reference: 掘り出した砂を砂場の真ん中に集めて、固めて、山にして、また山に砂をかける\n",
      "🔹 Predicted: 一旦人間になって、そのいつまれも社会のこともあるもん\n",
      "🔸 Reference: いくら人間だって、そういつまでも栄える事もあるまい\n"
     ]
    },
    {
     "name": "stderr",
     "output_type": "stream",
     "text": [
      "\r",
      " 40%|████      | 40/100 [00:20<00:15,  3.99it/s]"
     ]
    },
    {
     "name": "stdout",
     "output_type": "stream",
     "text": [
      "🔹 Predicted: そこで動くだわすが、穴を降りやまうつきり丸田野駅\n",
      "🔸 Reference: そこで僕らは遊んだ、穴を掘り、山を作り、また穴を掘った\n"
     ]
    },
    {
     "name": "stderr",
     "output_type": "stream",
     "text": [
      " 42%|████▏     | 42/100 [00:20<00:12,  4.48it/s]"
     ]
    },
    {
     "name": "stdout",
     "output_type": "stream",
     "text": [
      "🔹 Predicted: それがご質問でに、自分の彼へ会い取りを入り自己々を掛けた\n",
      "🔸 Reference: それこそ千番に一番の兼ね合いとでもいうべき危機一髪の、\n",
      "🔹 Predicted: みんな国家を置いてくださえと描いてあります。\n",
      "🔸 Reference: みんなここに置いてくださいと書いてありました\n"
     ]
    },
    {
     "name": "stderr",
     "output_type": "stream",
     "text": [
      "\r",
      " 44%|████▍     | 44/100 [00:21<00:09,  6.17it/s]"
     ]
    },
    {
     "name": "stdout",
     "output_type": "stream",
     "text": [
      "🔹 Predicted: ドールだ、取るか\n",
      "🔸 Reference: どうだ、とるか\n",
      "🔹 Predicted: アクションでていた\n",
      "🔸 Reference: 空き地を埋めていった\n"
     ]
    },
    {
     "name": "stderr",
     "output_type": "stream",
     "text": [
      "\r",
      " 45%|████▌     | 45/100 [00:21<00:10,  5.26it/s]"
     ]
    },
    {
     "name": "stdout",
     "output_type": "stream",
     "text": [
      "🔹 Predicted: スタモアドリティクトをそれは所性という現象で一番動物の静岡があってソール\n",
      "🔸 Reference: しかもあとで聞くとそれは書生という人間中で一番獰悪な種族であったそうだ\n",
      "🔹 Predicted: ほしいキャラがでない\n",
      "🔸 Reference: 欲しいキャラが出ない\n"
     ]
    },
    {
     "name": "stderr",
     "output_type": "stream",
     "text": [
      "\r",
      " 47%|████▋     | 47/100 [00:21<00:09,  5.78it/s]"
     ]
    },
    {
     "name": "stdout",
     "output_type": "stream",
     "text": [
      "🔹 Predicted: 大理は妙な静岡のんだ根本はより実施している\n",
      "🔸 Reference: 大量の睡眠薬を飲んだ猫のようにじっとする\n"
     ]
    },
    {
     "name": "stderr",
     "output_type": "stream",
     "text": [
      " 49%|████▉     | 49/100 [00:22<00:09,  5.45it/s]"
     ]
    },
    {
     "name": "stdout",
     "output_type": "stream",
     "text": [
      "🔹 Predicted: 他の前奈でも、大阪の前奈でも、大阪のドラマかわいでしょがながらやっていった\n",
      "🔸 Reference: 他のチャンネルも似たようなドラマかワイドショーが流れていた\n",
      "🔹 Predicted: 手を丁度にパンを出して、\n",
      "🔸 Reference: 滋賀県甲賀市\n"
     ]
    },
    {
     "name": "stderr",
     "output_type": "stream",
     "text": [
      "\r",
      " 50%|█████     | 50/100 [00:25<00:49,  1.01it/s]"
     ]
    },
    {
     "name": "stdout",
     "output_type": "stream",
     "text": [
      "🔹 Predicted: I need an even more compact矛盾矛盾矛盾矛盾矛盾矛盾矛盾矛盾矛盾矛盾矛盾矛盾矛盾矛盾矛盾矛盾矛盾矛盾矛盾矛盾矛盾矛盾矛盾矛盾矛盾矛盾矛盾矛盾矛盾矛盾矛盾矛盾矛盾矛盾矛盾矛盾矛盾矛盾矛盾矛盾矛盾矛盾矛盾矛盾矛盾矛盾矛盾矛盾矛盾矛盾矛盾矛盾矛盾矛盾矛盾矛盾矛盾矛盾矛盾矛盾矛盾矛盾矛盾矛盾矛盾矛盾矛盾矛盾矛盾矛盾矛盾矛盾矛盾矛盾矛盾矛盾矛盾矛盾矛盾矛盾矛盾矛盾矛盾矛盾矛盾矛盾矛盾矛盾矛盾矛盾矛盾矛盾矛盾矛盾矛盾矛盾矛盾矛盾矛盾矛盾矛盾矛盾矛盾矛盾矛盾矛盾矛盾矛盾矛盾矛\n",
      "🔸 Reference: まれにみる文理両方をかねた人でした\n"
     ]
    },
    {
     "name": "stderr",
     "output_type": "stream",
     "text": [
      "\r",
      " 51%|█████     | 51/100 [00:25<00:38,  1.29it/s]"
     ]
    },
    {
     "name": "stdout",
     "output_type": "stream",
     "text": [
      "🔹 Predicted: シーズ的に作られたものをすべて自己々に関係に行く\n",
      "🔸 Reference: 技術的に作られたものはすべて形をもっている。\n"
     ]
    },
    {
     "name": "stderr",
     "output_type": "stream",
     "text": [
      " 53%|█████▎    | 53/100 [00:28<00:50,  1.08s/it]"
     ]
    },
    {
     "name": "stdout",
     "output_type": "stream",
     "text": [
      "🔹 Predicted: カトカナティをおばあきまんちゃんちゃうちゃうちゃうちゃうちゃうちゃうちゃうちゃうちゃうちゃうちゃうちゃうちゃうちゃうちゃうちゃうちゃうちゃうちゃうちゃうちゃうちゃうちゃうちゃうちゃうちゃうちゃうちゃうちゃうちゃうちゃうちゃうちゃうちゃうちゃうちゃうちゃうちゃうちゃうちゃうちゃうちゃうちゃうちゃうちゃうちゃうちゃうちゃうちゃうちゃうちゃうちゃうちゃうちゃうちゃうちゃうちゃうちゃうちゃうちゃうちゃうちゃうちゃうちゃうちゃうちゃうちゃうちゃうちゃうちゃうちゃうちゃうちゃうちゃうちゃうちゃうちゃうちゃうちゃうちゃうちゃうちゃうちゃうちゃうちゃうちゃうちゃうちゃうちゃうちゃうちゃうちゃうちゃうちゃうちゃうちゃうちゃうちゃうちゃうちゃうちゃうちゃうちゃうちゃうちゃうちゃうちゃうちゃうちゃうちゃうちゃうちゃうちゃうちゃうちゃうちゃうちゃうちゃうちゃうちゃうちゃうちゃうちゃうちゃうちゃうちゃうちゃうちゃうちゃうちゃうちゃうちゃうちゃうちゃうちゃうちゃうちゃうちゃうちゃうちゃうちゃうちゃうちゃうちゃうちゃうちゃうちゃうちゃうちゃうちゃうちゃうちゃうちゃうちゃうちゃうちゃうちゃうちゃうちゃうちゃうちゃうちゃうちゃうちゃうちゃうちゃうちゃうちゃうちゃうちゃうちゃうちゃうちゃうちゃうちゃうちゃうちゃうちゃうちゃうちゃうちゃうちゃうちゃうちゃうちゃうちゃうちゃうちゃうちゃうちゃうちゃうちゃうちゃうちゃうちゃうちゃうちゃうちゃうちゃうちゃうちゃうちゃうちゃうちゃうちゃうちゃうちゃうちゃうちゃうちゃうちゃうちゃうちゃうちゃうちゃう\n",
      "🔸 Reference: 勝とうが負けようが点がじゃんじゃん入る試合なら満足です\n",
      "🔹 Predicted: 京都市中央町\n",
      "🔸 Reference: 京都府精華町\n"
     ]
    },
    {
     "name": "stderr",
     "output_type": "stream",
     "text": [
      " 55%|█████▌    | 55/100 [00:29<00:27,  1.62it/s]"
     ]
    },
    {
     "name": "stdout",
     "output_type": "stream",
     "text": [
      "🔹 Predicted: これも、ティーワールはない\n",
      "🔸 Reference: 岡山県井原市\n",
      "🔹 Predicted: Diaftay had to enttweet the acute of the mushy.\n",
      "🔸 Reference: 岐阜県羽島市\n"
     ]
    },
    {
     "name": "stderr",
     "output_type": "stream",
     "text": [
      "\r",
      " 56%|█████▌    | 56/100 [00:29<00:21,  2.01it/s]"
     ]
    },
    {
     "name": "stdout",
     "output_type": "stream",
     "text": [
      "🔹 Predicted: レーズの作業を人としては、甘い作業を甘くなった\n",
      "🔸 Reference: 映像作品は個人でここまで作れる時代になったんだな\n"
     ]
    },
    {
     "name": "stderr",
     "output_type": "stream",
     "text": [
      " 58%|█████▊    | 58/100 [00:29<00:13,  3.05it/s]"
     ]
    },
    {
     "name": "stdout",
     "output_type": "stream",
     "text": [
      "🔹 Predicted: この日々の奥に渡す、ご飯にそこに食事を食べた\n",
      "🔸 Reference: まだ残っていたんだ、僕は指先でそっとシールに触れる\n",
      "🔹 Predicted: 平凡的宿船处理町\n",
      "🔸 Reference: エクアドルの首都はキトである\n"
     ]
    },
    {
     "name": "stderr",
     "output_type": "stream",
     "text": [
      "\r",
      " 59%|█████▉    | 59/100 [00:30<00:12,  3.28it/s]"
     ]
    },
    {
     "name": "stdout",
     "output_type": "stream",
     "text": [
      "🔹 Predicted: 一週はハナツ的に未来が好きな声でハイリコンで行為できます。\n",
      "🔸 Reference: 異臭を放つ煙がすき間から入りこんでくる\n"
     ]
    },
    {
     "name": "stderr",
     "output_type": "stream",
     "text": [
      " 61%|██████    | 61/100 [00:30<00:10,  3.66it/s]"
     ]
    },
    {
     "name": "stdout",
     "output_type": "stream",
     "text": [
      "🔹 Predicted: キースイースでいたはむのが作ることでありものを作るとあむのにかくて自己たちの声がある\n",
      "🔸 Reference: 形成するとは物を作ることであり、物を作るとは物に形を与えること、その形を変えて新しい形のものにすることである。\n",
      "🔹 Predicted: それが我々はれませんかかかかせるとこいえものである\n",
      "🔸 Reference: それが我々の性格とか個性とかいうものである。\n"
     ]
    },
    {
     "name": "stderr",
     "output_type": "stream",
     "text": [
      " 63%|██████▎   | 63/100 [00:30<00:07,  4.89it/s]"
     ]
    },
    {
     "name": "stdout",
     "output_type": "stream",
     "text": [
      "🔹 Predicted: 덕智町都町文字市\n",
      "🔸 Reference: 東京都国分寺市\n",
      "🔹 Predicted: 高い人が映画であるからつくられる\n",
      "🔸 Reference: 買う人がいるから作られる\n"
     ]
    },
    {
     "name": "stderr",
     "output_type": "stream",
     "text": [
      " 65%|██████▌   | 65/100 [00:31<00:06,  5.81it/s]"
     ]
    },
    {
     "name": "stdout",
     "output_type": "stream",
     "text": [
      "🔹 Predicted: ヨペガンにしておはあまんだり\n",
      "🔸 Reference: ヨルダンの首都はアンマンである\n",
      "🔹 Predicted: 何に彼に入りでも変わったのか\n",
      "🔸 Reference: 何かルールでも変わったのか\n"
     ]
    },
    {
     "name": "stderr",
     "output_type": "stream",
     "text": [
      "\r",
      " 66%|██████▌   | 66/100 [00:31<00:08,  4.07it/s]"
     ]
    },
    {
     "name": "stdout",
     "output_type": "stream",
     "text": [
      "🔹 Predicted: おにいて、ランジーサイティゼーゲモソレーは心情の奪いにやってみて、矛盾に来ていないティゼーゲモアった\n",
      "🔸 Reference: 五ミリ程度の小さい傷、でも、それは心臓のそばにあって無視できない傷でもあった\n",
      "🔹 Predicted: やっぱり以上だよ\n",
      "🔸 Reference: やっぱり異常だよ\n"
     ]
    },
    {
     "name": "stderr",
     "output_type": "stream",
     "text": [
      " 69%|██████▉   | 69/100 [00:31<00:05,  5.53it/s]"
     ]
    },
    {
     "name": "stdout",
     "output_type": "stream",
     "text": [
      "🔹 Predicted: うてくされてなぎやりになめのおさえで\n",
      "🔸 Reference: ふてくされて投げやりになるのをおさえる\n",
      "🔹 Predicted: そのものがあっているので、世界をけたらしている\n",
      "🔸 Reference: スマホのバッテリーの劣化が早くて買い替えを検討してる\n"
     ]
    },
    {
     "name": "stderr",
     "output_type": "stream",
     "text": [
      " 71%|███████   | 71/100 [00:32<00:07,  3.93it/s]"
     ]
    },
    {
     "name": "stdout",
     "output_type": "stream",
     "text": [
      "🔹 Predicted: 私の一区に映画を単にあるポテンのには、達成一区として、いつでもあると言うのは、短いのもっときりんにも良いのもようなものできりづいていけずをご飯を食べるようながらだった。\n",
      "🔸 Reference: 私の意識現象が多なると共に私の意識として一であるというのは、右の如き意昧においての矛盾的自己同一でなければならない。\n",
      "🔹 Predicted: みのうどしを飲みする必要があって\n",
      "🔸 Reference: リモート仕様にする必要がある\n"
     ]
    },
    {
     "name": "stderr",
     "output_type": "stream",
     "text": [
      " 73%|███████▎  | 73/100 [00:33<00:05,  4.56it/s]"
     ]
    },
    {
     "name": "stdout",
     "output_type": "stream",
     "text": [
      "🔹 Predicted: スクリオリスティッジからおそこで作る\n",
      "🔸 Reference: 作り置きして時間を節約する\n",
      "🔹 Predicted: Nerg�elsen und始maztheit sind auch Botanicale Stalt.\n",
      "🔸 Reference: デビューするやたちまち大ヒット\n"
     ]
    },
    {
     "name": "stderr",
     "output_type": "stream",
     "text": [
      " 75%|███████▌  | 75/100 [00:33<00:05,  4.47it/s]"
     ]
    },
    {
     "name": "stdout",
     "output_type": "stream",
     "text": [
      "🔹 Predicted: Douf findet dieになres Synthetic schon leitest dust immer, weil er maler als seine Karriere aussehen kann, wenn sie geordnimmtigt sein würde er an.\n",
      "🔸 Reference: 欲求的なる身体的存在としても、我々は既にかかる自己矛盾的存在であるのである。\n",
      "🔹 Predicted: 造型型型の多くらいの中でなく、\n",
      "🔸 Reference: 長期的な影響はわからない\n"
     ]
    },
    {
     "name": "stderr",
     "output_type": "stream",
     "text": [
      "\r",
      " 76%|███████▌  | 76/100 [00:33<00:05,  4.55it/s]"
     ]
    },
    {
     "name": "stdout",
     "output_type": "stream",
     "text": [
      "🔹 Predicted: すい声が進みは、いろいろないろキャラクnessが出た\n",
      "🔸 Reference: すごい安いというわけでもないけど近くにあると助かる\n"
     ]
    },
    {
     "name": "stderr",
     "output_type": "stream",
     "text": [
      " 78%|███████▊  | 78/100 [00:34<00:05,  4.11it/s]"
     ]
    },
    {
     "name": "stdout",
     "output_type": "stream",
     "text": [
      "🔹 Predicted: スプレイは、だろうなパンスプレイの上がり、ツールの上がり、ツールの上がり、スプレイの上がり、スプレイの上がり、\n",
      "🔸 Reference: 作られたものから作るものへということは、作られたものは、種から作られたものでありながら、\n",
      "🔹 Predicted: うまいけと手が入り取り取りな\n",
      "🔸 Reference: うまいけど手がギトギトになる\n"
     ]
    },
    {
     "name": "stderr",
     "output_type": "stream",
     "text": [
      "\r",
      " 79%|███████▉  | 79/100 [00:34<00:04,  4.50it/s]"
     ]
    },
    {
     "name": "stdout",
     "output_type": "stream",
     "text": [
      "🔹 Predicted: 今々はキシーパーの主きの穴があるよ\n",
      "🔸 Reference: 今のはキーパーの責任じゃないよ\n"
     ]
    },
    {
     "name": "stderr",
     "output_type": "stream",
     "text": [
      "\r",
      " 80%|████████  | 80/100 [00:34<00:04,  4.50it/s]"
     ]
    },
    {
     "name": "stdout",
     "output_type": "stream",
     "text": [
      "🔹 Predicted: Sohonige Genenchiletter und der Negeglasste verbeteuteteut.\n",
      "🔸 Reference: 賞味期限切れたヨーグルトを勇気出して食べる\n"
     ]
    },
    {
     "name": "stderr",
     "output_type": "stream",
     "text": [
      "\r",
      " 81%|████████  | 81/100 [00:34<00:04,  4.59it/s]"
     ]
    },
    {
     "name": "stdout",
     "output_type": "stream",
     "text": [
      "🔹 Predicted: 社会にもあれば、徳島県町のサイズをするので、\n",
      "🔸 Reference: 逆に我々は環境に作用するのである。\n"
     ]
    },
    {
     "name": "stderr",
     "output_type": "stream",
     "text": [
      "\r",
      " 82%|████████▏ | 82/100 [00:38<00:20,  1.13s/it]"
     ]
    },
    {
     "name": "stdout",
     "output_type": "stream",
     "text": [
      "🔹 Predicted: みんなにおいてごはんをおいておいておいておいておいておいておいておいておいておいておいておいておいておいておいておいておいておいておいておいておいておいておいておいておいておいておいておいておいておいておいておいておいておいておいておいておいておいておいておいておいておいておいておいておいておいておいておいておいておいておいておいておいておいておいておいておいておいておいておいておいておいておいておいておいておいておいておいておいておいておいておいておいておいておいておいておいておいておいておいておいておいておいておいておいておいておいておいておいておいておいておいておいておいておいておいておいておいておいておいておいておいておいておいておいておいておいておいておいておいておいておいておいておいておいておいておいておいておいておいておいておいておいておいておいておいておいておいておいておいておいておいておいておいておいておいておいておいておいておいておいておいておいておいておいておいておいておいておいておいておいておいておいておいておいておいておいておいておいておいておいておいておいておいておいておいておいておいておいておいておいておいておいておいておいておいておいておいておいておいておいておいておいておいておいておいておいておいておいておいておいておいておいておいておいておいておいておいておいておいておいておいておいておいておいておいておいておいておいておいておいておいておいておいておいておいておいてお\n",
      "🔸 Reference: みんなが言うほどそれほど安くもない\n"
     ]
    },
    {
     "name": "stderr",
     "output_type": "stream",
     "text": [
      "\r",
      " 83%|████████▎ | 83/100 [00:38<00:14,  1.15it/s]"
     ]
    },
    {
     "name": "stdout",
     "output_type": "stream",
     "text": [
      "🔹 Predicted: 我々のポジューンチューン的時代は、そのままでもなければならば、\n",
      "🔸 Reference: 我々の個人的自己に迫るものでなければならない。\n"
     ]
    },
    {
     "name": "stderr",
     "output_type": "stream",
     "text": [
      " 85%|████████▌ | 85/100 [00:41<00:17,  1.16s/it]"
     ]
    },
    {
     "name": "stdout",
     "output_type": "stream",
     "text": [
      "🔹 Predicted: 知識は、我々には大阪府の中々、文章の中において、文章の中において、その中において、その中において、その中において、その中において、その中において、その中において、その中において、その中において、その中において、その中において、その中において、その中において、その中において、その中において、その中において、その中において、その中において、その中において、その中において、その中において、その中において、その中において、その中において、その中において、その中において、その中において、その中において、その中において、その中において、その中において、その中において、その中において、その中において、その中において、その中において、その中において、その中において、その中において、その中において、その中において、その中において、その中において、その中において、その中において、その中において、その中において、その中において、その中において、その中において、その中において、その中において、その中において、その中において、その中において、その中において、その中において、その中において、その中において、その中において、その中において、その中において、その中において、その中において、その中において、その中において、その中において、その中において、その中において、その中に\n",
      "🔸 Reference: 抽象論理の立場からは、矛盾するものが結合するとはいわれないであろう。\n",
      "🔹 Predicted: 福岡県川島県電話上がるですが、\n",
      "🔸 Reference: ここの商店街もチェーン店が増えてきた\n"
     ]
    },
    {
     "name": "stderr",
     "output_type": "stream",
     "text": [
      " 87%|████████▋ | 87/100 [00:42<00:08,  1.59it/s]"
     ]
    },
    {
     "name": "stdout",
     "output_type": "stream",
     "text": [
      "🔹 Predicted: 南北野市民族合格\n",
      "🔸 Reference: 名古屋市瑞穂区\n",
      "🔹 Predicted: おかえません、あかります。\n",
      "🔸 Reference: 岡山県赤磐市\n"
     ]
    },
    {
     "name": "stderr",
     "output_type": "stream",
     "text": [
      "\r",
      " 88%|████████▊ | 88/100 [00:42<00:05,  2.10it/s]"
     ]
    },
    {
     "name": "stdout",
     "output_type": "stream",
     "text": [
      "🔹 Predicted: 猫にいたとしはきはっこ\n",
      "🔸 Reference: 新潟市秋葉区\n"
     ]
    },
    {
     "name": "stderr",
     "output_type": "stream",
     "text": [
      " 90%|█████████ | 90/100 [00:42<00:03,  2.93it/s]"
     ]
    },
    {
     "name": "stdout",
     "output_type": "stream",
     "text": [
      "🔹 Predicted: パーイーフォーがなことが、いまでも、コナラスティールのかとを関係る\n",
      "🔸 Reference: ああいう風雅なことがいまでも行なわれているのかどうかもしらず、\n",
      "🔹 Predicted: 何でも言い方が、まらわせておれば良いんだ\n",
      "🔸 Reference: 何でもいいから、笑わせておればいいのだ\n"
     ]
    },
    {
     "name": "stderr",
     "output_type": "stream",
     "text": [
      " 92%|█████████▏| 92/100 [00:43<00:02,  3.24it/s]"
     ]
    },
    {
     "name": "stdout",
     "output_type": "stream",
     "text": [
      "🔹 Predicted: タラカリの手のひがにも、さらに手に強いともちが上がりだとき、何がほらほら白しちゃくちゃ矛盾があったかがりだ。\n",
      "🔸 Reference: ただ彼の掌に載せられてスーと持ち上げられた時何だかフワフワした感じがあったばかりである\n",
      "🔹 Predicted: ばくなってのカンがくさの自己に入りました。\n",
      "🔸 Reference: 幕末の漢学者の塾に入れました\n"
     ]
    },
    {
     "name": "stderr",
     "output_type": "stream",
     "text": [
      " 94%|█████████▍| 94/100 [00:43<00:01,  4.43it/s]"
     ]
    },
    {
     "name": "stdout",
     "output_type": "stream",
     "text": [
      "🔹 Predicted: ラモが自己に上回るとき、\n",
      "🔸 Reference: 山口県山口市\n",
      "🔹 Predicted: 君はと社会にいこうと思うと声はありました。\n",
      "🔸 Reference: 君は図書館に行こうと思う、と声を上げた\n"
     ]
    },
    {
     "name": "stderr",
     "output_type": "stream",
     "text": [
      "\r",
      " 95%|█████████▌| 95/100 [00:43<00:01,  4.93it/s]"
     ]
    },
    {
     "name": "stdout",
     "output_type": "stream",
     "text": [
      "🔹 Predicted: シリアッターときのことは合わせるだ\n",
      "🔸 Reference: 知り合ったときのことは忘れた\n",
      "🔹 Predicted: 동hohinなぎが、\n",
      "🔸 Reference: どうも変な家だ\n"
     ]
    },
    {
     "name": "stderr",
     "output_type": "stream",
     "text": [
      "\r",
      " 97%|█████████▋| 97/100 [00:43<00:00,  5.47it/s]"
     ]
    },
    {
     "name": "stdout",
     "output_type": "stream",
     "text": [
      "🔹 Predicted: どこが体験に舞台来るようにも、ガンゼロで来るのである。\n",
      "🔸 Reference: どこか怪談じみた気味悪いものが感ぜられて来るのである\n"
     ]
    },
    {
     "name": "stderr",
     "output_type": "stream",
     "text": [
      "\r",
      " 98%|█████████▊| 98/100 [00:44<00:00,  4.40it/s]"
     ]
    },
    {
     "name": "stdout",
     "output_type": "stream",
     "text": [
      "🔹 Predicted: フォイニニニンへのソロシュショーだよ、いがりによってばかりをすれば、ソロシュショーをすれば、\n",
      "🔸 Reference: 不意に人間のおそろしい正体を、怒りに依って暴露する様子を見て、\n"
     ]
    },
    {
     "name": "stderr",
     "output_type": "stream",
     "text": [
      "\r",
      " 99%|█████████▉| 99/100 [00:44<00:00,  4.31it/s]"
     ]
    },
    {
     "name": "stdout",
     "output_type": "stream",
     "text": [
      "🔹 Predicted: 人間のツマスタニアンゼントし、かなりおもようなシャンネル質問質問\n",
      "🔸 Reference: 人間のつましさに暗然とし、悲しい思いをしました\n"
     ]
    },
    {
     "name": "stderr",
     "output_type": "stream",
     "text": [
      "100%|██████████| 100/100 [00:44<00:00,  2.23it/s]"
     ]
    },
    {
     "name": "stdout",
     "output_type": "stream",
     "text": [
      "🔹 Predicted: はってな、なんでも要素がおばすと、もそろそろはいらせてみると、非常にいたい\n",
      "🔸 Reference: はてな何でも様子がおかしいと、のそのそ這い出して見ると非常に痛い\n",
      "✅ JA WER: 2.0200\n",
      "🌍 Language: de\n"
     ]
    },
    {
     "name": "stderr",
     "output_type": "stream",
     "text": [
      "\n",
      "  1%|          | 1/100 [00:00<00:11,  8.52it/s]"
     ]
    },
    {
     "name": "stdout",
     "output_type": "stream",
     "text": [
      "🔹 Predicted: Kantasturusgenichtchauen\n",
      "🔸 Reference: Kanntest du das Gedicht schon?\n"
     ]
    },
    {
     "name": "stderr",
     "output_type": "stream",
     "text": [
      "  3%|▎         | 3/100 [00:00<00:21,  4.54it/s]"
     ]
    },
    {
     "name": "stdout",
     "output_type": "stream",
     "text": [
      "🔹 Predicted:  aber wütend sie auch zu späiglich dennoch.\n",
      "🔸 Reference: Hallo, möchten Sie auch zur Sprechstunde?\n",
      "🔹 Predicted: 国家团猜南川山市南北池町\n",
      "🔸 Reference: Gott sei Dank haben wir noch ein letztes Ass im Ärmel.\n"
     ]
    },
    {
     "name": "stderr",
     "output_type": "stream",
     "text": [
      "  5%|▌         | 5/100 [00:01<00:18,  5.12it/s]"
     ]
    },
    {
     "name": "stdout",
     "output_type": "stream",
     "text": [
      "🔹 Predicted: When some other parts of the潑潑 site have been removed from the farm, the county has been removed.\n",
      "🔸 Reference: Wenn zu einem Passagierflugzeug der Funkkontakt abbricht, starten routinemäßig zwei Abfangjäger.\n",
      "🔹 Predicted: Sie wurde deriaske aus Koperingen und unterstützt.\n",
      "🔸 Reference: Sie wurde der Heeresgruppe Linsingen unterstellt.\n"
     ]
    },
    {
     "name": "stderr",
     "output_type": "stream",
     "text": [
      "  7%|▋         | 7/100 [00:01<00:17,  5.39it/s]"
     ]
    },
    {
     "name": "stdout",
     "output_type": "stream",
     "text": [
      "🔹 Predicted: unter und der anderen Herzelliskeiten des dort entschwein auf den Flulswahlkennen.\n",
      "🔸 Reference: Unter anderen Habseligkeiten ist dort ein Schwein auf dem Floß zu erkennen.\n",
      "🔹 Predicted: Anachand Interessen der Austag wurde überführt.\n",
      "🔸 Reference: Angrenzende Wiesen rechts der Ostrach wurden überflutet.\n"
     ]
    },
    {
     "name": "stderr",
     "output_type": "stream",
     "text": [
      "\r",
      "  8%|▊         | 8/100 [00:01<00:16,  5.57it/s]"
     ]
    },
    {
     "name": "stdout",
     "output_type": "stream",
     "text": [
      "🔹 Predicted: Dadurch konnte jedes Umbord zum Leben von einen eingesetztenern.\n",
      "🔸 Reference: Dadurch konnte jedes U-Boot zum Legen von Minen eingesetzt werden.\n"
     ]
    },
    {
     "name": "stderr",
     "output_type": "stream",
     "text": [
      "\r",
      "  9%|▉         | 9/100 [00:01<00:17,  5.26it/s]"
     ]
    },
    {
     "name": "stdout",
     "output_type": "stream",
     "text": [
      "🔹 Predicted: Effektientese schwez als der Anwürfe der Geitheitskollboy.\n",
      "🔸 Reference: Er verdiente sich selbst als Star noch Geld als Callboy.\n"
     ]
    },
    {
     "name": "stderr",
     "output_type": "stream",
     "text": [
      "\r",
      " 10%|█         | 10/100 [00:02<00:19,  4.66it/s]"
     ]
    },
    {
     "name": "stdout",
     "output_type": "stream",
     "text": [
      "🔹 Predicted: In a taxi college in Provee, it is in film industry, drugstore and the arts team, who are still in the EZ.\n",
      "🔸 Reference: In der mexikanischen Volksmedizin finden sich Traditionen der aztekischen Medizin.\n"
     ]
    },
    {
     "name": "stderr",
     "output_type": "stream",
     "text": [
      " 12%|█▏        | 12/100 [00:02<00:20,  4.25it/s]"
     ]
    },
    {
     "name": "stdout",
     "output_type": "stream",
     "text": [
      "🔹 Predicted: 大阪式植物仙素化妙化的国家、原来凹凹几のパリゴールを上げると同一が野板的な形\n",
      "🔸 Reference: Dabei stieß er auf eine Gruppe, deren Periode ungewöhnlich langsam abnimmt.\n",
      "🔹 Predicted: 君はアインチですよそこにはハンスサポーチ\n",
      "🔸 Reference: Quinn ahnt, dass Suzuki ein Geheimnis verbirgt.\n"
     ]
    },
    {
     "name": "stderr",
     "output_type": "stream",
     "text": [
      "\r",
      " 13%|█▎        | 13/100 [00:02<00:19,  4.52it/s]"
     ]
    },
    {
     "name": "stdout",
     "output_type": "stream",
     "text": [
      "🔹 Predicted:  Zweivitevig히 novelm bereits vor High-Beggverschkeau.\n",
      "🔸 Reference: Zwei weitere Kinder waren bereits vor Alberti verstorben.\n"
     ]
    },
    {
     "name": "stderr",
     "output_type": "stream",
     "text": [
      " 15%|█▌        | 15/100 [00:03<00:19,  4.38it/s]"
     ]
    },
    {
     "name": "stdout",
     "output_type": "stream",
     "text": [
      "🔹 Predicted: The Eingrumft was a single-weigh-all-weigh-all-emotivist in this form of land as a firestoff-stall-out-the-arty system.\n",
      "🔸 Reference: Die Einkünfte aus dem Sägewerk ermöglichten es Lorenc, als freier Schriftsteller tätig zu werden.\n",
      "🔹 Predicted: Es tut mir ein weiterer Schiff auf den Schiff.\n",
      "🔸 Reference: Es tut mir leid, aber ich habe verschlafen.\n"
     ]
    },
    {
     "name": "stderr",
     "output_type": "stream",
     "text": [
      " 17%|█▋        | 17/100 [00:03<00:16,  4.93it/s]"
     ]
    },
    {
     "name": "stdout",
     "output_type": "stream",
     "text": [
      "🔹 Predicted: Misse ist es mehr in den Dich nicht bei Gründer Tessen mit Farm.\n",
      "🔸 Reference: Nächstes Mal werde ich nicht bei Gundula Kircher mitfahren.\n",
      "🔹 Predicted: Ich lege es vor, dochmalst ein Hintergrund die Beherrske.\n",
      "🔸 Reference: Ich lese vor, du machst im Hintergrund die Beatbox, okay?\n"
     ]
    },
    {
     "name": "stderr",
     "output_type": "stream",
     "text": [
      " 19%|█▉        | 19/100 [00:04<00:15,  5.15it/s]"
     ]
    },
    {
     "name": "stdout",
     "output_type": "stream",
     "text": [
      "🔹 Predicted: Montestine und Land waren sich in anderem nicht schlässcht.\n",
      "🔸 Reference: Warum verstehen Männer und Frauen sich einander so schlecht?\n",
      "🔹 Predicted: Hit an alleck 옆 des Statues in der Proprachzene eine Bogenheit.\n",
      "🔸 Reference: Heidenau liegt nordwestlich des Naturparks Lüneburger Heide.\n"
     ]
    },
    {
     "name": "stderr",
     "output_type": "stream",
     "text": [
      " 21%|██        | 21/100 [00:04<00:15,  5.22it/s]"
     ]
    },
    {
     "name": "stdout",
     "output_type": "stream",
     "text": [
      "🔹 Predicted: Mitisenverein konnte er bereits in Jungen jaunierern als in der Zünderaufrundung freien.\n",
      "🔸 Reference: Mit diesem Verein konnte er bereits in jungen Jahren erste nationale Erfolge feiern.\n",
      "🔹 Predicted: Seine Atsaltigkeit und TireInqueren sind.\n",
      "🔸 Reference: Sie hat zwei Töchter und drei Enkelsöhne.\n"
     ]
    },
    {
     "name": "stderr",
     "output_type": "stream",
     "text": [
      " 23%|██▎       | 23/100 [00:04<00:15,  5.08it/s]"
     ]
    },
    {
     "name": "stdout",
     "output_type": "stream",
     "text": [
      "🔹 Predicted: 三 Freisichterischen Schiff aus in dem Mennangüttelskundeiner Handel.\n",
      "🔸 Reference: Zahlreiche technische Erfindungen ermöglichten Neuerungen.\n",
      "🔹 Predicted: Dottelagerte in dem Munde zahlen auch anderersmaterial der Bündniske.\n",
      "🔸 Reference: Dort lagerte neben Munition auch anderes Material der Bundeswehr.\n"
     ]
    },
    {
     "name": "stderr",
     "output_type": "stream",
     "text": [
      " 25%|██▌       | 25/100 [00:05<00:14,  5.16it/s]"
     ]
    },
    {
     "name": "stdout",
     "output_type": "stream",
     "text": [
      "🔹 Predicted: Der europäische Zweige Geckung der von die Nauesskroher.\n",
      "🔸 Reference: Der europäische Zweig wird von Wien aus gesteuert.\n",
      "🔹 Predicted: 由 mit der Schweige Pazepack für die Schwestern geschwürdig statt.\n",
      "🔸 Reference: Hiermit wird Speicherplatz für die Schlüssel gespart.\n"
     ]
    },
    {
     "name": "stderr",
     "output_type": "stream",
     "text": [
      " 27%|██▋       | 27/100 [00:05<00:13,  5.50it/s]"
     ]
    },
    {
     "name": "stdout",
     "output_type": "stream",
     "text": [
      "🔹 Predicted: The Mascade Union Centre and später are called \"Frenner by Sandstein Farm\".\n",
      "🔸 Reference: Danach war er Jugendtrainer und später Co-Trainer bei seinem Stammverein.\n",
      "🔹 Predicted: 아ジュースにキャベツを含みます。\n",
      "🔸 Reference: Anschließend kehrte er zurück in die Schweiz.\n"
     ]
    },
    {
     "name": "stderr",
     "output_type": "stream",
     "text": [
      " 29%|██▉       | 29/100 [00:05<00:11,  6.22it/s]"
     ]
    },
    {
     "name": "stdout",
     "output_type": "stream",
     "text": [
      "🔹 Predicted: It is also important to improve the auspicious respect and be a guest to the most.\n",
      "🔸 Reference: Es wird empfohlen, die ausgeschilderten Wege zu benutzen.\n",
      "🔹 Predicted: Seit Lute von Joni des Angust\n",
      "🔸 Reference: Sie blüht von Juni bis August.\n"
     ]
    },
    {
     "name": "stderr",
     "output_type": "stream",
     "text": [
      "\r",
      " 30%|███       | 30/100 [00:05<00:10,  6.47it/s]"
     ]
    },
    {
     "name": "stdout",
     "output_type": "stream",
     "text": [
      "🔹 Predicted: やばださあってやってるいできれば\n",
      "🔸 Reference: Er war der Vater der Brüder Grimm.\n"
     ]
    },
    {
     "name": "stderr",
     "output_type": "stream",
     "text": [
      " 32%|███▏      | 32/100 [00:06<00:12,  5.32it/s]"
     ]
    },
    {
     "name": "stdout",
     "output_type": "stream",
     "text": [
      "🔹 Predicted:  Ertono zählt und schweigt seine Dekriegliche überwürdig in Flüssel fährt sie sie an.\n",
      "🔸 Reference: Er produziert und schreibt seine Drehbücher überwiegend für Fernsehserien.\n",
      "🔹 Predicted: Diese大阪itzmート der Ziel der Freundenplexen Sträden ab.\n",
      "🔸 Reference: Diese Trainingsmethode zielt auf ein komplexes Training ab.\n"
     ]
    },
    {
     "name": "stderr",
     "output_type": "stream",
     "text": [
      "\r",
      " 33%|███▎      | 33/100 [00:06<00:12,  5.51it/s]"
     ]
    },
    {
     "name": "stdout",
     "output_type": "stream",
     "text": [
      "🔹 Predicted: 大heisordic was fit on in the Stammquill style name.\n",
      "🔸 Reference: Daher solle Großbritannien nicht am Krieg teilnehmen.\n"
     ]
    },
    {
     "name": "stderr",
     "output_type": "stream",
     "text": [
      "\r",
      " 34%|███▍      | 34/100 [00:06<00:13,  4.97it/s]"
     ]
    },
    {
     "name": "stdout",
     "output_type": "stream",
     "text": [
      "🔹 Predicted: Kereneck Mathias고en-Diai would also also be part of the School of Winsing inert.\n",
      "🔸 Reference: König Mattias Hunyadi wird als Herausgeber dieser Goldmünze genannt.\n"
     ]
    },
    {
     "name": "stderr",
     "output_type": "stream",
     "text": [
      "\r",
      " 35%|███▌      | 35/100 [00:07<00:13,  4.74it/s]"
     ]
    },
    {
     "name": "stdout",
     "output_type": "stream",
     "text": [
      "🔹 Predicted:  das��이행 der Bäume der Bäume ist ein recht eikert der Fachfangbau mit der Präder.\n",
      "🔸 Reference: Das Mühlengebäude ist ein rechteckiger Fachwerkbau mit Satteldach.\n"
     ]
    },
    {
     "name": "stderr",
     "output_type": "stream",
     "text": [
      "\r",
      " 36%|███▌      | 36/100 [00:07<00:14,  4.34it/s]"
     ]
    },
    {
     "name": "stdout",
     "output_type": "stream",
     "text": [
      "🔹 Predicted: The教育生が一つで、エッジがポクスパオンを困ったら、ペールがある。\n",
      "🔸 Reference: Die Kirche ist ein rechteckiger Putzbau unter Satteldach.\n"
     ]
    },
    {
     "name": "stderr",
     "output_type": "stream",
     "text": [
      " 38%|███▊      | 38/100 [00:10<00:53,  1.17it/s]"
     ]
    },
    {
     "name": "stdout",
     "output_type": "stream",
     "text": [
      "🔹 Predicted:  찬슨県北平文町町町町町町町町町町町町町町町町町町町町町町町町町町町町町町町町町町町町町町町町町町町町町町町町町町町町町町町町町町町町町町町町町町町町町町町町町町町町町町町町町町町町町町町町町町町町町町町町町町町町町町町町町�町町町町町町町町町町町町町町町町町町町町町町町町町町町町町町町町町町町町町町町町町町町町町町町町町町町町町町町町町町町町町町町町町町町町町町町町町町町町町町町町町町町町町町町町町町町町町町町町町町町町町町町町町町町町町町町町\n",
      "🔸 Reference: Zwölf Interpreten wurden dann bestimmt am Vorentscheid teilnehmen.\n",
      "🔹 Predicted: The Byron can out-to-side pieces to�-spice it.\n",
      "🔸 Reference: Die beiden kommen auf das Weibliche zu sprechen.\n"
     ]
    },
    {
     "name": "stderr",
     "output_type": "stream",
     "text": [
      "\r",
      " 39%|███▉      | 39/100 [00:10<00:39,  1.55it/s]"
     ]
    },
    {
     "name": "stdout",
     "output_type": "stream",
     "text": [
      "🔹 Predicted: 安心者質に Israel Air Force und am Kuprokis\n",
      "🔸 Reference: Am sichersten ist mein Geld unterm Kopfkissen.\n"
     ]
    },
    {
     "name": "stderr",
     "output_type": "stream",
     "text": [
      "\r",
      " 40%|████      | 40/100 [00:11<00:30,  1.94it/s]"
     ]
    },
    {
     "name": "stdout",
     "output_type": "stream",
     "text": [
      "🔹 Predicted: 富ylige Erhungung wird es als ich unschlumbe für den Klass St.\n",
      "🔸 Reference: Vier Jahre lange saß ich unschuldig im Knast.\n"
     ]
    },
    {
     "name": "stderr",
     "output_type": "stream",
     "text": [
      "\r",
      " 41%|████      | 41/100 [00:11<00:26,  2.26it/s]"
     ]
    },
    {
     "name": "stdout",
     "output_type": "stream",
     "text": [
      "🔹 Predicted: ファインパンシリゲームは文字でフォンゲッカーもアイスファルカッ\n",
      "🔸 Reference: Für ein paar Schilling haben sie die Funde damals verhökert.\n"
     ]
    },
    {
     "name": "stderr",
     "output_type": "stream",
     "text": [
      " 43%|████▎     | 43/100 [00:11<00:17,  3.19it/s]"
     ]
    },
    {
     "name": "stdout",
     "output_type": "stream",
     "text": [
      "🔹 Predicted:  Mannson der Entdeckung liegt nicht gesteist, so umwürdig der Bevinzschteckaufgabe von Komponismus.\n",
      "🔸 Reference: Man sollte den Gegner gar nicht erst so ungestört in den Strafraum kommen lassen.\n",
      "🔹 Predicted: Dapise sollte der Sperrassen.\n",
      "🔸 Reference: Dabei sollten wir es belassen.\n"
     ]
    },
    {
     "name": "stderr",
     "output_type": "stream",
     "text": [
      "\r",
      " 44%|████▍     | 44/100 [00:12<00:15,  3.60it/s]"
     ]
    },
    {
     "name": "stdout",
     "output_type": "stream",
     "text": [
      "🔹 Predicted: Der Fährende Fündzige hat auch auch in der Tosterportochem.\n",
      "🔸 Reference: Der Film befindet sich aktuell in der Postproduktion.\n"
     ]
    },
    {
     "name": "stderr",
     "output_type": "stream",
     "text": [
      " 46%|████▌     | 46/100 [00:12<00:12,  4.36it/s]"
     ]
    },
    {
     "name": "stdout",
     "output_type": "stream",
     "text": [
      "🔹 Predicted: Seit der Ressaukeptes beschweirten über die Rämpel des Entdelskontoppe an.\n",
      "🔸 Reference: Seit Eröffnung gibt es Beschwerden über die Lärmbelästigung durch den Bahnhof.\n",
      "🔹 Predicted: 岡山市固定固定町\n",
      "🔸 Reference: Am Strand stehen Strandkörbe.\n"
     ]
    },
    {
     "name": "stderr",
     "output_type": "stream",
     "text": [
      "\r",
      " 47%|████▋     | 47/100 [00:12<00:12,  4.37it/s]"
     ]
    },
    {
     "name": "stdout",
     "output_type": "stream",
     "text": [
      "🔹 Predicted: Die Osteren zeigt zwischen zwei Seite für eine Führung, das erdaltte der Flüssigkeit.\n",
      "🔸 Reference: Die Ostwand zeigt zwischen zwei seitlichen Engelsfiguren das Altarblatt hl.\n"
     ]
    },
    {
     "name": "stderr",
     "output_type": "stream",
     "text": [
      " 49%|████▉     | 49/100 [00:13<00:11,  4.41it/s]"
     ]
    },
    {
     "name": "stdout",
     "output_type": "stream",
     "text": [
      "🔹 Predicted: Der Inerraum wurde mit einer Herzterke in Form eines ungekehacken Schiff-Sons des Gedächtung.\n",
      "🔸 Reference: Der Innenraum wurde mit einer Holzdecke in Form eines umgekehrten Schiffsrumpfes gedeckt.\n",
      "🔹 Predicted: Forten sind sie zahlen standan Töntos, müssen wir dochillen.\n",
      "🔸 Reference: Vor den Sitzreihen stand ein Pult aus massiver Buche.\n"
     ]
    },
    {
     "name": "stderr",
     "output_type": "stream",
     "text": [
      " 51%|█████     | 51/100 [00:13<00:09,  5.28it/s]"
     ]
    },
    {
     "name": "stdout",
     "output_type": "stream",
     "text": [
      "🔹 Predicted: Mositor is just over for 어머니ns.\n",
      "🔸 Reference: Was heißt das auf Romanes?\n",
      "🔹 Predicted:  Jahrhinsommageau von Prismdoraus県明chz.\n",
      "🔸 Reference: Ja, das habe ich auch schon versucht, aber das bringt nichts.\n"
     ]
    },
    {
     "name": "stderr",
     "output_type": "stream",
     "text": [
      " 53%|█████▎    | 53/100 [00:13<00:08,  5.62it/s]"
     ]
    },
    {
     "name": "stdout",
     "output_type": "stream",
     "text": [
      "🔹 Predicted:  und der Post-Aucherechevier mit National-Bemieschütter.\n",
      "🔸 Reference: An der Pastatheke wird Nachschub benötigt.\n",
      "🔹 Predicted: Das schlafmaubeck erhielt sich die Raum.\n",
      "🔸 Reference: Verschlafen rieb er sich die Augen.\n"
     ]
    },
    {
     "name": "stderr",
     "output_type": "stream",
     "text": [
      " 55%|█████▌    | 55/100 [00:17<00:36,  1.24it/s]"
     ]
    },
    {
     "name": "stdout",
     "output_type": "stream",
     "text": [
      "🔹 Predicted: Die Weihnachtskrieg schde mit den Einer Fauks-Fauks-Fauks-Fauks-Fauks-Fauks-Fauks-Fauks-Fauks-Fauks-Fauks-Fauks-Fauks-Fauks-Fauks-Fauks-Fauks-Fauks-Fauks-Fauks-Fauks-Fauks-Fauks-Fauks-Fauks-Fauks-Fauks-Fauks-Fauks-Fauks-Fauks-Fauks-Fauks-Fauks-Fauks-Fauks-Fauks-Fauks-Fauks-Fauks-Fauks-Fauks-Fauks-Fauks-Fauks-Fauks-Fauks-Fauks-Fauks-Fauks-Fauks-Fauks-Fauks-Fauks-Fauks-Fauks-Fauks-Fauks-Fauks-Fauks-Fauks-Fauks-Fauks-Fauks-Fauks-Fauks-Fauks-Fauks-Fauks-Fauks-Fauks-Fauks-Fauks-Fauks-Fauks-Fauks-Fauks-Fauks-Fauks-Fauks-Fauks-Fauks-Fauks-Fauks-Fauks-Fauks-Fauks-Fauks-Fauks-Fauks-Fauks-Fauks-Fauks-Fauks-Fauks-Fauks-Fauks-Fauks-Fauks-Fauks-Fauks-Fauks-Fauks-Fauks-Fauks-Fauks-Fauks-Fauks-\n",
      "🔸 Reference: Die Weihnachtsgeschichte beginnt mit einer Volkszählung.\n",
      "🔹 Predicted:  Schau maln der Lekendemann\n",
      "🔸 Reference: Schau mal in der Legende nach.\n"
     ]
    },
    {
     "name": "stderr",
     "output_type": "stream",
     "text": [
      " 57%|█████▋    | 57/100 [00:17<00:20,  2.12it/s]"
     ]
    },
    {
     "name": "stdout",
     "output_type": "stream",
     "text": [
      "🔹 Predicted: カメラを御揺るときゃあんまり矛盾においては、\n",
      "🔸 Reference: Kann ich auch so einen Lutscher haben?\n",
      "🔹 Predicted: ラッキyしみがあう\n",
      "🔸 Reference: Reg dich nicht auf.\n"
     ]
    },
    {
     "name": "stderr",
     "output_type": "stream",
     "text": [
      "\r",
      " 58%|█████▊    | 58/100 [00:17<00:17,  2.42it/s]"
     ]
    },
    {
     "name": "stdout",
     "output_type": "stream",
     "text": [
      "🔹 Predicted: Das gelangt das dem English Psychiatrician's chartwigt hat er die Expearer-Winteri-Dauergear.\n",
      "🔸 Reference: Das gelang erst dem englischen Physiker James Chadwick, als er die Experimente wiederholte.\n"
     ]
    },
    {
     "name": "stderr",
     "output_type": "stream",
     "text": [
      "\r",
      " 59%|█████▉    | 59/100 [00:17<00:14,  2.75it/s]"
     ]
    },
    {
     "name": "stdout",
     "output_type": "stream",
     "text": [
      "🔹 Predicted: Initforten entdeine alschwebten sind diese der Universität bei Großgermannoskelbert.\n",
      "🔸 Reference: In den folgenden drei Abschnitten sind diese der Übersicht halber ausgespart.\n"
     ]
    },
    {
     "name": "stderr",
     "output_type": "stream",
     "text": [
      " 61%|██████    | 61/100 [00:18<00:10,  3.71it/s]"
     ]
    },
    {
     "name": "stdout",
     "output_type": "stream",
     "text": [
      "🔹 Predicted: Der Mann ist an der San Francisco Jürgen und betreut die Weihnachtsmartchen- und Gesetzung denster.\n",
      "🔸 Reference: Der Name stammt aus dem Französischen und bedeutet in der wörtlichen Übersetzung „Dingsda“.\n",
      "🔹 Predicted: 意外的 discretionary special in fights foranzats.\n",
      "🔸 Reference: Ich halte das rechtlich für den falschen Ansatz.\n"
     ]
    },
    {
     "name": "stderr",
     "output_type": "stream",
     "text": [
      " 63%|██████▎   | 63/100 [00:18<00:07,  4.82it/s]"
     ]
    },
    {
     "name": "stdout",
     "output_type": "stream",
     "text": [
      "🔹 Predicted: Dischtart ist bei der Selbstverwürfe der原 zahlige Stadt.\n",
      "🔸 Reference: Die staatlichen Beihilfen werden hier in Frage gestellt.\n",
      "🔹 Predicted: 茨城県大阪府町\n",
      "🔸 Reference: Mal ein ganz anderes Thema.\n"
     ]
    },
    {
     "name": "stderr",
     "output_type": "stream",
     "text": [
      "\r",
      " 64%|██████▍   | 64/100 [00:18<00:06,  5.36it/s]"
     ]
    },
    {
     "name": "stdout",
     "output_type": "stream",
     "text": [
      "🔹 Predicted: In diesemck aber als das Verfahren herausgeheift.\n",
      "🔸 Reference: Insgesamt aber ist das Verfahren ausgereift.\n"
     ]
    },
    {
     "name": "stderr",
     "output_type": "stream",
     "text": [
      "\r",
      " 65%|██████▌   | 65/100 [00:19<00:07,  4.94it/s]"
     ]
    },
    {
     "name": "stdout",
     "output_type": "stream",
     "text": [
      "🔹 Predicted:  Schiffachkunde trinken zum Sandfaktor der Rente zahlen Vortragverkaufruft.\n",
      "🔸 Reference: Sprachenkompetenz ist ein Faktor, der einen sozialen Vorteil verschafft.\n"
     ]
    },
    {
     "name": "stderr",
     "output_type": "stream",
     "text": [
      "\r",
      " 66%|██████▌   | 66/100 [00:22<00:38,  1.12s/it]"
     ]
    },
    {
     "name": "stdout",
     "output_type": "stream",
     "text": [
      "🔹 Predicted: いたいんだ国語は一緒なんて社会は一つの社会社会社会社会社会社会社会社会社会社会社会社会社会社会社会社会社会社会社会社会社会社会社会社会社会社会社会社会社会社会社会社会社会社会社会社会社会社会社会社会社会社会社会社会社会社会社会社会社会社会社会社会社会社会社会社会社会社会社会社会社会社会社会社会社会社会社会社会社会社会社会社会社会社会社会社会社会社会社会社会社会社会社会社会社会社会社会社会社会社会社会社会社会社会社会社会社会社会社会社会社会社会社会社会社会社会社会社会社会社会社会社会社会社会社会社会社会社会社会社会社会社会社会社会社会社会社会社会社会社会社会社会社会社会社会社会社会社会社会社会社会社会社会社会社会社会社会社会社会社会社会社会社会社会社会社会社会社会社会社会社会社会社会社会社会社会社会社会社会社会社会社会社会社会社会社会社会社会社会社会社会社会社会社会社会社会社会社会社会社会社会社会社会社会社会社会社会社会社会社会社会社会社会社会社会社会社会社会社会社会社会社会社会社\n",
      "🔸 Reference: Die Calenberg-Grubenhagensche Landschaft ist eine Körperschaft des öffentlichen Rechts.\n"
     ]
    },
    {
     "name": "stderr",
     "output_type": "stream",
     "text": [
      "\r",
      " 67%|██████▋   | 67/100 [00:22<00:28,  1.15it/s]"
     ]
    },
    {
     "name": "stdout",
     "output_type": "stream",
     "text": [
      "🔹 Predicted: Die Mittelrechnisse im Gesetzif�rkaufstechnik und ein auf weiterbühlt geniegert die Schiffschutz.\n",
      "🔸 Reference: Die Mieter genießen ein gesetzliches Vorkaufsrecht und einen erweiterten Kündigungsschutz.\n"
     ]
    },
    {
     "name": "stderr",
     "output_type": "stream",
     "text": [
      "\r",
      " 68%|██████▊   | 68/100 [00:22<00:22,  1.44it/s]"
     ]
    },
    {
     "name": "stdout",
     "output_type": "stream",
     "text": [
      "🔹 Predicted:  ein Jahr langer und erderte sie die Gitarterne Selbstwürdig und dieser Schiff war schon ein wenig im Großbeeter県。\n",
      "🔸 Reference: Ein Jahr lang leitete sie die Tochtergesellschaft eines deutschen Unternehmens in Großbritannien.\n"
     ]
    },
    {
     "name": "stderr",
     "output_type": "stream",
     "text": [
      " 70%|███████   | 70/100 [00:23<00:13,  2.29it/s]"
     ]
    },
    {
     "name": "stdout",
     "output_type": "stream",
     "text": [
      "🔹 Predicted: Sehlep mit dem Mann dem body-bottage-Fall-and-Lewerfeil-Kentage-E.\n",
      "🔸 Reference: Sie lebt mit ihrem Mann, dem Bodybuilder Jeff Baugh, in Louisville, Kentucky.\n",
      "🔹 Predicted: 生日ぞ、雨で aufgetreit.\n",
      "🔸 Reference: Sein Ressort wurde aufgeteilt.\n"
     ]
    },
    {
     "name": "stderr",
     "output_type": "stream",
     "text": [
      " 72%|███████▏  | 72/100 [00:23<00:08,  3.17it/s]"
     ]
    },
    {
     "name": "stdout",
     "output_type": "stream",
     "text": [
      "🔹 Predicted: 茨田県市町北京、美中市北京、美中市北京\n",
      "🔸 Reference: Sie ist ein Schaf Mädchen mit rose Haar.\n",
      "🔹 Predicted: 다른式 dienen die Vener法庫 der Editor Wann dieぞes.\n",
      "🔸 Reference: Dadurch stiegen die Villacher wieder in die Tauernliga auf.\n"
     ]
    },
    {
     "name": "stderr",
     "output_type": "stream",
     "text": [
      " 74%|███████▍  | 74/100 [00:24<00:06,  3.84it/s]"
     ]
    },
    {
     "name": "stdout",
     "output_type": "stream",
     "text": [
      "🔹 Predicted: シールディスでも見つけた場合は矛盾的矛盾的合理を貼らせる\n",
      "🔸 Reference: Viele dieser Manuskripte weisen jedoch spätere Verfälschungen (Interpolationen) auf.\n",
      "🔹 Predicted: 浩�智県平凡富池市場中\n",
      "🔸 Reference: Habt ihr genügend Vorräte für zwei Wochen?\n"
     ]
    },
    {
     "name": "stderr",
     "output_type": "stream",
     "text": [
      "\r",
      " 75%|███████▌  | 75/100 [00:24<00:06,  3.96it/s]"
     ]
    },
    {
     "name": "stdout",
     "output_type": "stream",
     "text": [
      "🔹 Predicted: Dia hat die Sachspeck- und Protagonel die alle von seiner Mottagertürttere.\n",
      "🔸 Reference: Er hatte sechs Enkelkinder, die alle von seiner Tochter stammen.\n"
     ]
    },
    {
     "name": "stderr",
     "output_type": "stream",
     "text": [
      " 77%|███████▋  | 77/100 [00:24<00:05,  4.42it/s]"
     ]
    },
    {
     "name": "stdout",
     "output_type": "stream",
     "text": [
      "🔹 Predicted: Sie ist nun mit gestaltterterweg und er enthaut Scherlung an der Edmund Welt.\n",
      "🔸 Reference: Sie ist nunmehr Bestandteil der regulären Ausstellung am Heldenberg.\n",
      "🔹 Predicted: Auf�au von Artevolstein mit den Stargivonischer.\n",
      "🔸 Reference: Auflage vollständig ins Deutsche.\n"
     ]
    },
    {
     "name": "stderr",
     "output_type": "stream",
     "text": [
      " 79%|███████▉  | 79/100 [00:25<00:04,  5.10it/s]"
     ]
    },
    {
     "name": "stdout",
     "output_type": "stream",
     "text": [
      "🔹 Predicted: In Weitlenerol und sind schrecklich scharren und Sanhoha zu see.\n",
      "🔸 Reference: In weiteren Rollen sind Jackie Chan und Sammo Hung zu sehen.\n",
      "🔹 Predicted: Der Weltfung wurde Alexandra Trimm geschwürdig.\n",
      "🔸 Reference: Er wird von Alexander Grimm gesprochen.\n"
     ]
    },
    {
     "name": "stderr",
     "output_type": "stream",
     "text": [
      " 81%|████████  | 81/100 [00:28<00:15,  1.20it/s]"
     ]
    },
    {
     "name": "stdout",
     "output_type": "stream",
     "text": [
      "🔹 Predicted: 安心するときにアニスティスの人々へのアニスティスの人々へのアニスティスの人々へのアニスティスの人々へのアニスティスの人々へのアニスティスの人々へのアニスティスの人々へのアニスティスの人々へのアニスティスの人々へのアニスティスの人々へのアニスティスの人々へのアニスティスの人々へのアニスティスの人々へのアニスティスの人々へのアニスティスの人々へのアニスティスの人々へのアニスティスの人々へのアニスティスの人々へのアニスティスの人々へのアニスティスティスティスティスティスティスティスティスティスティスティスティスティスティスティスティスティスティスティスティスティスティスティスティスティスティスティスティスティスティスティスティスティスティスティスティスティスティスティスティスティスティスティスティスティスティスティスティスティスティスティスティスティスティスティスティスティスティスティスティスティスティスティスティスティスティスティスティスティスティスティスティスティスティスティステ\n",
      "🔸 Reference: Anschließend studierte er in Heidelberg Jura.\n",
      "🔹 Predicted: 矛盾的庫町の矛盾的矛盾\n",
      "🔸 Reference: Es werden vier Unterarten unterschieden.\n"
     ]
    },
    {
     "name": "stderr",
     "output_type": "stream",
     "text": [
      "\r",
      " 82%|████████▏ | 82/100 [00:28<00:11,  1.53it/s]"
     ]
    },
    {
     "name": "stdout",
     "output_type": "stream",
     "text": [
      "🔹 Predicted:  seine Bestopplatschirung hatte sich zudem kurz an großen Paisen und Valencia.\n",
      "🔸 Reference: Seine beste Platzierung war der sechste Platz beim Großen Preis von Valencia.\n"
     ]
    },
    {
     "name": "stderr",
     "output_type": "stream",
     "text": [
      " 84%|████████▍ | 84/100 [00:29<00:06,  2.30it/s]"
     ]
    },
    {
     "name": "stdout",
     "output_type": "stream",
     "text": [
      "🔹 Predicted: Anaviteron ein Steingewinn der Kultibouchraft findet an Chiesent durch die Dorf-Württemberg ins Fennsteller.\n",
      "🔸 Reference: Eine weitere um einen Stein gewickelte Botschaft fliegt anschließend durch Baldwins Fenster.\n",
      "🔹 Predicted: 阿mi and the album Strangely, had a gestaltung zurückgezogen.\n",
      "🔸 Reference: Armee in die \"Hagen Stellung\" zurückgezogen.\n"
     ]
    },
    {
     "name": "stderr",
     "output_type": "stream",
     "text": [
      "\r",
      " 85%|████████▌ | 85/100 [00:29<00:05,  2.74it/s]"
     ]
    },
    {
     "name": "stdout",
     "output_type": "stream",
     "text": [
      "🔹 Predicted: 茨野村町の上にパスチョブトリーチャンネル登録!\n",
      "🔸 Reference: Sie wird von einem Gemeindepastor betreut.\n"
     ]
    },
    {
     "name": "stderr",
     "output_type": "stream",
     "text": [
      "\r",
      " 86%|████████▌ | 86/100 [00:29<00:04,  3.14it/s]"
     ]
    },
    {
     "name": "stdout",
     "output_type": "stream",
     "text": [
      "🔹 Predicted: 君はしたら、さあ、その時間が現場にファンでテクスとか、\n",
      "🔸 Reference: Die Buchstabenformen sind angelehnt an die Formen der Textura.\n"
     ]
    },
    {
     "name": "stderr",
     "output_type": "stream",
     "text": [
      "\r",
      " 87%|████████▋ | 87/100 [00:29<00:03,  3.40it/s]"
     ]
    },
    {
     "name": "stdout",
     "output_type": "stream",
     "text": [
      "🔹 Predicted: きどうチームソナモン博兵も違いもらうサイダン出すし、\n",
      "🔸 Reference: Die deutschen Bewohner wurden vertrieben und die Einwohnerzahl sank drastisch.\n"
     ]
    },
    {
     "name": "stderr",
     "output_type": "stream",
     "text": [
      " 89%|████████▉ | 89/100 [00:30<00:02,  3.74it/s]"
     ]
    },
    {
     "name": "stdout",
     "output_type": "stream",
     "text": [
      "🔹 Predicted: 交易和その傾斜的彩御されば、その仙暇にその仙暇にポイントについて、\n",
      "🔸 Reference: Kossoff und Kirke verließen die Formation und gründeten die Band Free.\n",
      "🔹 Predicted: ハーチューツの上にハーチューツも飲みます。\n",
      "🔸 Reference: Artelt war mit Marie Artelt, geborene Neumann verheiratet.\n"
     ]
    },
    {
     "name": "stderr",
     "output_type": "stream",
     "text": [
      " 91%|█████████ | 91/100 [00:30<00:02,  4.32it/s]"
     ]
    },
    {
     "name": "stdout",
     "output_type": "stream",
     "text": [
      "🔹 Predicted: Henorbe herausbeinführt den Mitglied der Stocksinn und den europäische Policemen aus Verbesserungen.\n",
      "🔸 Reference: Er wurde außerdem mehrfach in die Niedersachsen- und die Nordwestdeutsche Auswahl berufen.\n",
      "🔹 Predicted: Fingere Struktur ist verheirott und hat zwei Kinder.\n",
      "🔸 Reference: Friedrich Strobl ist verheiratet und hat zwei Kinder.\n"
     ]
    },
    {
     "name": "stderr",
     "output_type": "stream",
     "text": [
      "\r",
      " 92%|█████████▏| 92/100 [00:34<00:09,  1.14s/it]"
     ]
    },
    {
     "name": "stdout",
     "output_type": "stream",
     "text": [
      "🔹 Predicted: Inmute der Schnaßennung der Seitzung oder das Krohund-Würdig-Fürdig-Würdig-Würdig-Fürdig-Fürdig-Fürdig-Fürdig-Fürdig-Fürdig-Fürdig-Fürdig-Fürdig-Fürdig-Fürdig-Fürdig-Fürdig-Fürdig-Fürdig-Fürdig-Fürdig-Fürdig-Fürdig-Fürdig-Fürdig-Fürdig-Fürdig-Fürdig-Fürdig-Fürdig-Fürdig-Fürdig-Fürdig-Fürdig-Fürdig-Fürdig-Fürdig-Fürdig-Fürdig-Fürdig-Fürdig-Fürdig-Fürdig-Fürdig-Fürdig-Fürdig-Fürdig-Fürdig-Fürdig-Fürdig-Fürdig-Fürdig-Fürdig-Fürdig-Fürdig-Fürdig-Fürdig-Fürdig-Fürdig-Fürdig-Fürdig-Fürdig-Fürdig-Fürdig-Fürdig-Fürdig-Fürdig-Fürdig-Fürdig-Fürdig-Fürdig-Fürdig-Fürdig-Fürdig-Fürdig-Fürdig-Fürdig-Fürdig-Fürdig-Fürdig-Fürdig-Fürdig-Fürdig-Fürdig-Fürdig-Fürdig-Fürdig-Fürdig-Fürdig-Fürdig-Fürdig-Fürdig-Fürdig-Fürdig-Fürdig-Fürdig-Fürdig-Fürdig-Fürdig-Fürdig-Fürdig-Fürdig-Fürdig-Fürdig-Fürdig-Fürdig-\n",
      "🔸 Reference: In militärische Auseinandersetzungen war das Tor nie verwickelt.\n"
     ]
    },
    {
     "name": "stderr",
     "output_type": "stream",
     "text": [
      " 94%|█████████▍| 94/100 [00:34<00:04,  1.45it/s]"
     ]
    },
    {
     "name": "stdout",
     "output_type": "stream",
     "text": [
      "🔹 Predicted: Die warum beste ich das Wicht und seitdem kletzt, Kleinzolk und Freunden, die Queine und Kirchbeiterin- und Kirchbeiterin- und Kirchbeiterin.\n",
      "🔸 Reference: Die Nahrung besteht aus Früchten, Insekten, Krebsen, Kleinsäugern, sowie kleineren Vögeln und deren Eiern.\n",
      "🔹 Predicted: Sie ist mit der Fischbezüchterlle in Berhardt.\n",
      "🔸 Reference: Sie ist mit Sophia Loren befreundet.\n"
     ]
    },
    {
     "name": "stderr",
     "output_type": "stream",
     "text": [
      "\r",
      " 95%|█████████▌| 95/100 [00:34<00:02,  1.84it/s]"
     ]
    },
    {
     "name": "stdout",
     "output_type": "stream",
     "text": [
      "🔹 Predicted: 自己の宿泉をしては、静岡を見るすべきは、\n",
      "🔸 Reference: Wir müssen uns auch stärker um die Ressourcen kümmern.\n"
     ]
    },
    {
     "name": "stderr",
     "output_type": "stream",
     "text": [
      "\r",
      " 96%|█████████▌| 96/100 [00:35<00:01,  2.08it/s]"
     ]
    },
    {
     "name": "stdout",
     "output_type": "stream",
     "text": [
      "🔹 Predicted: 徳島県的されなく現時的理由も、はっこつまかつ彼に下においてはなさつに理解覚を\n",
      "🔸 Reference: Durch die veränderten Lebensbedingungen hat Kreuzberg als Unternehmensstandort an Attraktivität gewonnen.\n"
     ]
    },
    {
     "name": "stderr",
     "output_type": "stream",
     "text": [
      "\r",
      " 97%|█████████▋| 97/100 [00:38<00:03,  1.30s/it]"
     ]
    },
    {
     "name": "stdout",
     "output_type": "stream",
     "text": [
      "🔹 Predicted: 茨田県新鮮町町町町町町町町町町町町町町町町町町町町町町町町町町町町町町町町町町町町町町町町町町町町町町町町町町町町町町町町町町町町町町町町町町町町町町町町町町町町町町町町町町町町町町町町町町町町町町町町町町町町町町町町町�町町町町町町町町町町町町町町町町町町町町町町町町町町町町町町町町町町町町町町町町町町町町町町町町町町町町町町町町町町町町町町町町町町町町町町町町町町町町町町町町町町町町町町町町町町町町町町町町町町町町町町町町町町町町町町町町\n",
      "🔸 Reference: In diesem Jahr gewann Unternehmensgründer Günther Irmscher sen.\n"
     ]
    },
    {
     "name": "stderr",
     "output_type": "stream",
     "text": [
      "\r",
      " 98%|█████████▊| 98/100 [00:38<00:01,  1.01it/s]"
     ]
    },
    {
     "name": "stdout",
     "output_type": "stream",
     "text": [
      "🔹 Predicted: \"Das des Tassofels\" erinnereleichtensung des Alpshotsuchis und Schiff Policies.\n",
      "🔸 Reference: Their success or failure in relation to social citizenship policies“.\n"
     ]
    },
    {
     "name": "stderr",
     "output_type": "stream",
     "text": [
      "100%|██████████| 100/100 [00:39<00:00,  2.56it/s]"
     ]
    },
    {
     "name": "stdout",
     "output_type": "stream",
     "text": [
      "🔹 Predicted: それにも、 viceと es auf einer und die Bakterielle und im Zürich vertreten die Wirkung aus.\n",
      "🔸 Reference: Zudem weist es auch eine antibakterielle und entzündungshemmende Wirkung auf.\n",
      "🔹 Predicted:  misseer anantik was sie an der A los die Zählung ab.\n",
      "🔸 Reference: Wisst ihr eigentlich, was ihr da losgetreten habt?\n",
      "✅ DE WER: 0.9953\n"
     ]
    },
    {
     "name": "stderr",
     "output_type": "stream",
     "text": [
      "\n"
     ]
    }
   ],
   "source": [
    "import torch\n",
    "from jiwer import wer\n",
    "from tqdm import tqdm\n",
    "\n",
    "lang_list = [\"ko\", \"en\", \"ja\", \"de\"]\n",
    "lang_wer_results = {}\n",
    "\n",
    "for lang in lang_list:\n",
    "    print(f\"🌍 Language: {lang}\")\n",
    "    lang_data = [x for x in val_dataset if x[\"locale\"] == lang]\n",
    "\n",
    "    predictions, references = [], []\n",
    "\n",
    "    for sample in tqdm(lang_data):\n",
    "        input_features = processor.feature_extractor(\n",
    "            sample[\"audio\"][\"array\"], sampling_rate=16000, return_tensors=\"pt\"\n",
    "        ).input_features.to(model.device)\n",
    "\n",
    "        decoder_ids = processor.get_decoder_prompt_ids(language=sample[\"locale\"], task=\"transcribe\")\n",
    "        model.config.forced_decoder_ids = decoder_ids\n",
    "\n",
    "        with torch.no_grad():\n",
    "            predicted_ids = model.generate(input_features)\n",
    "\n",
    "        transcription = processor.batch_decode(predicted_ids, skip_special_tokens=True)[0]\n",
    "        predictions.append(transcription)\n",
    "        references.append(sample[\"sentence\"])\n",
    "\n",
    "        print(f\"🔹 Predicted: {transcription}\")\n",
    "        print(f\"🔸 Reference: {sample['sentence']}\")\n",
    "\n",
    "    score = wer(references, predictions)\n",
    "    lang_wer_results[lang] = score\n",
    "    print(f\"✅ {lang.upper()} WER: {score:.4f}\")\n"
   ]
  },
  {
   "cell_type": "code",
   "execution_count": 10,
   "metadata": {},
   "outputs": [
    {
     "name": "stdout",
     "output_type": "stream",
     "text": [
      "\n",
      "📊 WER 결과 (낮을수록 정확)\n",
      "KO : 0.9673\n",
      "DE : 0.9953\n",
      "EN : 1.5566\n",
      "JA : 2.0200\n"
     ]
    },
    {
     "data": {
      "image/png": "[encoded data removed]",
      "text/plain": [
       "<Figure size 800x500 with 1 Axes>"
      ]
     },
     "metadata": {},
     "output_type": "display_data"
    }
   ],
   "source": [
    "import matplotlib.pyplot as plt\n",
    "import numpy as np\n",
    "\n",
    "print(\"\\n📊 WER 결과 (낮을수록 정확)\")\n",
    "for lang, score in sorted(lang_wer_results.items(), key=lambda x: x[1]):\n",
    "    print(f\"{lang.upper()} : {score:.4f}\")\n",
    "\n",
    "langs_sorted = [x[0] for x in sorted(lang_wer_results.items(), key=lambda x: x[1])]\n",
    "scores_sorted = [x[1] for x in sorted(lang_wer_results.items(), key=lambda x: x[1])]\n",
    "\n",
    "plt.figure(figsize=(8,5))\n",
    "plt.bar(langs_sorted, scores_sorted)\n",
    "plt.title(\"WER by Language (Whisper-tiny Run 1)\")\n",
    "plt.xlabel(\"Language\")\n",
    "plt.ylabel(\"WER\")\n",
    "\n",
    "for i, v in enumerate(scores_sorted):\n",
    "    plt.text(i, v + 0.01, f\"{v:.3f}\", ha='center')\n",
    "\n",
    "plt.tight_layout()\n",
    "plt.savefig(\"wer_tiny_run1.png\")\n",
    "plt.show()"
   ]
  },
  {
   "cell_type": "markdown",
   "metadata": {
    "id": "3TAgmO-aDI_d"
   },
   "source": [
    "  tiny\tlr1\t   lr2\n",
    "- KO:\t5.4171 ->\t0.9673\n",
    "- EN:\t4.6523 ->\t1.5566\n",
    "- JA:\t31.3300 -> 2.0200\n",
    "- DE:\t4.2576 ->\t0.9953"
   ]
  }
 ],
 "metadata": {
  "language_info": {
   "name": "python"
  }
 },
 "nbformat": 4,
 "nbformat_minor": 0
}
