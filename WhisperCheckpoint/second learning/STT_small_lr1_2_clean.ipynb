{
 "cells": [
  {
   "cell_type": "code",
   "execution_count": 1,
   "metadata": {},
   "outputs": [
    {
     "name": "stdout",
     "output_type": "stream",
     "text": [
      "\u001b[?25l   \u001b[90m━━━━━━━━━━━━━━━━━━━━━━━━━━━━━━━━━━━━━━━━\u001b[0m \u001b[32m0.0/491.5 kB\u001b[0m \u001b[31m?\u001b[0m eta \u001b[36m-:--:--\u001b[0m\r",
      "\u001b[2K   \u001b[90m━━━━━━━━━━━━━━━━━━━━━━━━━━━━━━━━━━━━━━━━\u001b[0m \u001b[32m491.5/491.5 kB\u001b[0m \u001b[31m30.4 MB/s\u001b[0m eta \u001b[36m0:00:00\u001b[0m\n",
      "\u001b[?25h\u001b[?25l   \u001b[90m━━━━━━━━━━━━━━━━━━━━━━━━━━━━━━━━━━━━━━━━\u001b[0m \u001b[32m0.0/116.3 kB\u001b[0m \u001b[31m?\u001b[0m eta \u001b[36m-:--:--\u001b[0m\r",
      "\u001b[2K   \u001b[90m━━━━━━━━━━━━━━━━━━━━━━━━━━━━━━━━━━━━━━━━\u001b[0m \u001b[32m116.3/116.3 kB\u001b[0m \u001b[31m13.4 MB/s\u001b[0m eta \u001b[36m0:00:00\u001b[0m\n",
      "\u001b[?25h\u001b[?25l   \u001b[90m━━━━━━━━━━━━━━━━━━━━━━━━━━━━━━━━━━━━━━━━\u001b[0m \u001b[32m0.0/193.6 kB\u001b[0m \u001b[31m?\u001b[0m eta \u001b[36m-:--:--\u001b[0m\r",
      "\u001b[2K   \u001b[90m━━━━━━━━━━━━━━━━━━━━━━━━━━━━━━━━━━━━━━━━\u001b[0m \u001b[32m193.6/193.6 kB\u001b[0m \u001b[31m20.8 MB/s\u001b[0m eta \u001b[36m0:00:00\u001b[0m\n",
      "\u001b[?25h\u001b[?25l   \u001b[90m━━━━━━━━━━━━━━━━━━━━━━━━━━━━━━━━━━━━━━━━\u001b[0m \u001b[32m0.0/143.5 kB\u001b[0m \u001b[31m?\u001b[0m eta \u001b[36m-:--:--\u001b[0m\r",
      "\u001b[2K   \u001b[90m━━━━━━━━━━━━━━━━━━━━━━━━━━━━━━━━━━━━━━━━\u001b[0m \u001b[32m143.5/143.5 kB\u001b[0m \u001b[31m15.1 MB/s\u001b[0m eta \u001b[36m0:00:00\u001b[0m\n",
      "\u001b[2K   \u001b[90m━━━━━━━━━━━━━━━━━━━━━━━━━━━━━━━━━━━━━━━━\u001b[0m \u001b[32m3.1/3.1 MB\u001b[0m \u001b[31m110.3 MB/s\u001b[0m eta \u001b[36m0:00:00\u001b[0m\n",
      "\u001b[2K   \u001b[90m━━━━━━━━━━━━━━━━━━━━━━━━━━━━━━━━━━━━━━━━\u001b[0m \u001b[32m363.4/363.4 MB\u001b[0m \u001b[31m3.2 MB/s\u001b[0m eta \u001b[36m0:00:00\u001b[0m\n",
      "\u001b[2K   \u001b[90m━━━━━━━━━━━━━━━━━━━━━━━━━━━━━━━━━━━━━━━━\u001b[0m \u001b[32m13.8/13.8 MB\u001b[0m \u001b[31m109.7 MB/s\u001b[0m eta \u001b[36m0:00:00\u001b[0m\n",
      "\u001b[2K   \u001b[90m━━━━━━━━━━━━━━━━━━━━━━━━━━━━━━━━━━━━━━━━\u001b[0m \u001b[32m24.6/24.6 MB\u001b[0m \u001b[31m95.3 MB/s\u001b[0m eta \u001b[36m0:00:00\u001b[0m\n",
      "\u001b[2K   \u001b[90m━━━━━━━━━━━━━━━━━━━━━━━━━━━━━━━━━━━━━━━━\u001b[0m \u001b[32m883.7/883.7 kB\u001b[0m \u001b[31m54.4 MB/s\u001b[0m eta \u001b[36m0:00:00\u001b[0m\n",
      "\u001b[2K   \u001b[90m━━━━━━━━━━━━━━━━━━━━━━━━━━━━━━━━━━━━━━━━\u001b[0m \u001b[32m664.8/664.8 MB\u001b[0m \u001b[31m2.3 MB/s\u001b[0m eta \u001b[36m0:00:00\u001b[0m\n",
      "\u001b[2K   \u001b[90m━━━━━━━━━━━━━━━━━━━━━━━━━━━━━━━━━━━━━━━━\u001b[0m \u001b[32m211.5/211.5 MB\u001b[0m \u001b[31m5.0 MB/s\u001b[0m eta \u001b[36m0:00:00\u001b[0m\n",
      "\u001b[2K   \u001b[90m━━━━━━━━━━━━━━━━━━━━━━━━━━━━━━━━━━━━━━━━\u001b[0m \u001b[32m56.3/56.3 MB\u001b[0m \u001b[31m43.3 MB/s\u001b[0m eta \u001b[36m0:00:00\u001b[0m\n",
      "\u001b[2K   \u001b[90m━━━━━━━━━━━━━━━━━━━━━━━━━━━━━━━━━━━━━━━━\u001b[0m \u001b[32m127.9/127.9 MB\u001b[0m \u001b[31m20.2 MB/s\u001b[0m eta \u001b[36m0:00:00\u001b[0m\n",
      "\u001b[2K   \u001b[90m━━━━━━━━━━━━━━━━━━━━━━━━━━━━━━━━━━━━━━━━\u001b[0m \u001b[32m207.5/207.5 MB\u001b[0m \u001b[31m5.0 MB/s\u001b[0m eta \u001b[36m0:00:00\u001b[0m\n",
      "\u001b[2K   \u001b[90m━━━━━━━━━━━━━━━━━━━━━━━━━━━━━━━━━━━━━━━━\u001b[0m \u001b[32m21.1/21.1 MB\u001b[0m \u001b[31m104.7 MB/s\u001b[0m eta \u001b[36m0:00:00\u001b[0m\n",
      "\u001b[2K   \u001b[90m━━━━━━━━━━━━━━━━━━━━━━━━━━━━━━━━━━━━━━━━\u001b[0m \u001b[32m194.8/194.8 kB\u001b[0m \u001b[31m20.0 MB/s\u001b[0m eta \u001b[36m0:00:00\u001b[0m\n",
      "\u001b[?25h\u001b[31mERROR: pip's dependency resolver does not currently take into account all the packages that are installed. This behaviour is the source of the following dependency conflicts.\n",
      "gcsfs 2025.3.2 requires fsspec==2025.3.2, but you have fsspec 2025.3.0 which is incompatible.\u001b[0m\u001b[31m\n",
      "\u001b[0mMounted at /content/drive\n"
     ]
    },
    {
     "data": {
      "application/vnd.jupyter.widget-view+json": {
       "model_id": "e28a5a9bbc074e758d1c980218d52975",
       "version_major": 2,
       "version_minor": 0
      },
      "text/plain": [
       "VBox(children=(HTML(value='<center> <img\\nsrc=https://huggingface.co/front/assets/huggingface_logo-noborder.sv…"
      ]
     },
     "metadata": {},
     "output_type": "display_data"
    }
   ],
   "source": [
    "!pip install -q datasets transformers librosa jiwer accelerate\n",
    "\n",
    "from google.colab import drive\n",
    "from huggingface_hub import notebook_login\n",
    "\n",
    "drive.mount(\"/content/drive\")\n",
    "notebook_login()"
   ]
  },
  {
   "cell_type": "code",
   "execution_count": 2,
   "metadata": {},
   "outputs": [
    {
     "name": "stderr",
     "output_type": "stream",
     "text": [
      "/usr/local/lib/python3.11/dist-packages/huggingface_hub/utils/_auth.py:94: UserWarning: \n",
      "The secret `HF_TOKEN` does not exist in your Colab secrets.\n",
      "To authenticate with the Hugging Face Hub, create a token in your settings tab (https://huggingface.co/settings/tokens), set it as secret in your Google Colab and restart your session.\n",
      "You will be able to reuse this secret in all of your notebooks.\n",
      "Please note that authentication is recommended but still optional to access public models or datasets.\n",
      "  warnings.warn(\n"
     ]
    },
    {
     "data": {
      "application/vnd.jupyter.widget-view+json": {
       "model_id": "ea6c1957555244d1a3eb6e666894ee2d",
       "version_major": 2,
       "version_minor": 0
      },
      "text/plain": [
       "README.md:   0%|          | 0.00/14.7k [00:00<?, ?B/s]"
      ]
     },
     "metadata": {},
     "output_type": "display_data"
    },
    {
     "data": {
      "application/vnd.jupyter.widget-view+json": {
       "model_id": "7d6790ff3d9144438127b64d5c82c5d9",
       "version_major": 2,
       "version_minor": 0
      },
      "text/plain": [
       "common_voice_13_0.py:   0%|          | 0.00/8.18k [00:00<?, ?B/s]"
      ]
     },
     "metadata": {},
     "output_type": "display_data"
    },
    {
     "data": {
      "application/vnd.jupyter.widget-view+json": {
       "model_id": "6a9315886c2d42c3a87c9dfee8479686",
       "version_major": 2,
       "version_minor": 0
      },
      "text/plain": [
       "languages.py:   0%|          | 0.00/3.65k [00:00<?, ?B/s]"
      ]
     },
     "metadata": {},
     "output_type": "display_data"
    },
    {
     "data": {
      "application/vnd.jupyter.widget-view+json": {
       "model_id": "0351bf6f351c42f995ff6987e6f15296",
       "version_major": 2,
       "version_minor": 0
      },
      "text/plain": [
       "release_stats.py:   0%|          | 0.00/65.4k [00:00<?, ?B/s]"
      ]
     },
     "metadata": {},
     "output_type": "display_data"
    },
    {
     "name": "stdout",
     "output_type": "stream",
     "text": [
      "The repository for mozilla-foundation/common_voice_13_0 contains custom code which must be executed to correctly load the dataset. You can inspect the repository content at https://hf.co/datasets/mozilla-foundation/common_voice_13_0.\n",
      "You can avoid this prompt in future by passing the argument `trust_remote_code=True`.\n",
      "\n",
      "Do you wish to run the custom code? [y/N] y\n"
     ]
    },
    {
     "name": "stderr",
     "output_type": "stream",
     "text": [
      "Reading metadata...: 192it [00:00, 675.84it/s]\n",
      "Reading metadata...: 1013968it [00:22, 44801.36it/s]\n",
      "Reading metadata...: 7071it [00:00, 10573.57it/s]\n",
      "Reading metadata...: 540437it [00:16, 33250.61it/s]\n",
      "Reading metadata...: 105it [00:00, 416.78it/s]\n",
      "Reading metadata...: 16372it [00:00, 43430.62it/s]\n",
      "Reading metadata...: 4961it [00:00, 6693.09it/s]\n",
      "Reading metadata...: 16143it [00:01, 13285.55it/s]\n",
      "Reading metadata...: 131it [00:00, 507.46it/s]\n",
      "Reading metadata...: 16372it [00:00, 44386.41it/s]\n",
      "Reading metadata...: 4961it [00:00, 7618.58it/s]\n",
      "Reading metadata...: 16143it [00:01, 14273.75it/s]\n"
     ]
    }
   ],
   "source": [
    "from datasets import load_dataset, Dataset\n",
    "from itertools import islice\n",
    "\n",
    "# 학습용 (train split)\n",
    "ko_train = list(islice(load_dataset(\"mozilla-foundation/common_voice_13_0\", \"ko\", split=\"train\", streaming=True), 192))\n",
    "en_train = list(islice(load_dataset(\"mozilla-foundation/common_voice_13_0\", \"en\", split=\"train\", streaming=True), 200))\n",
    "ja_train = list(islice(load_dataset(\"mozilla-foundation/common_voice_13_0\", \"ja\", split=\"train\", streaming=True), 200))\n",
    "de_train = list(islice(load_dataset(\"mozilla-foundation/common_voice_13_0\", \"de\", split=\"train\", streaming=True), 200))\n",
    "\n",
    "train_dataset = Dataset.from_list(ko_train + en_train + ja_train + de_train)\n",
    "\n",
    "# 검증용 (validation split - streaming 적용, 개수 제한)\n",
    "ko_val = list(islice(load_dataset(\"mozilla-foundation/common_voice_13_0\", \"ko\", split=\"validation\", streaming=True), 100))\n",
    "en_val = list(islice(load_dataset(\"mozilla-foundation/common_voice_13_0\", \"en\", split=\"validation\", streaming=True), 100))\n",
    "ja_val = list(islice(load_dataset(\"mozilla-foundation/common_voice_13_0\", \"ja\", split=\"validation\", streaming=True), 100))\n",
    "de_val = list(islice(load_dataset(\"mozilla-foundation/common_voice_13_0\", \"de\", split=\"validation\", streaming=True), 100))\n",
    "\n",
    "val_dataset = Dataset.from_list(ko_val + en_val + ja_val + de_val)\n",
    "\n",
    "# 테스트용 (test split - streaming 적용, 개수 제한)\n",
    "from itertools import islice\n",
    "\n",
    "ko_test = list(islice(load_dataset(\"mozilla-foundation/common_voice_13_0\", \"ko\", split=\"test\", streaming=True), 100))\n",
    "en_test = list(islice(load_dataset(\"mozilla-foundation/common_voice_13_0\", \"en\", split=\"test\", streaming=True), 100))\n",
    "ja_test = list(islice(load_dataset(\"mozilla-foundation/common_voice_13_0\", \"ja\", split=\"test\", streaming=True), 100))\n",
    "de_test = list(islice(load_dataset(\"mozilla-foundation/common_voice_13_0\", \"de\", split=\"test\", streaming=True), 100))\n",
    "\n",
    "test_dataset = Dataset.from_list(ko_test + en_test + ja_test + de_test)"
   ]
  },
  {
   "cell_type": "code",
   "execution_count": 3,
   "metadata": {},
   "outputs": [
    {
     "data": {
      "application/vnd.jupyter.widget-view+json": {
       "model_id": "4c31c2ee20ac47d7bf7d5c60962b1b2d",
       "version_major": 2,
       "version_minor": 0
      },
      "text/plain": [
       "preprocessor_config.json:   0%|          | 0.00/185k [00:00<?, ?B/s]"
      ]
     },
     "metadata": {},
     "output_type": "display_data"
    },
    {
     "data": {
      "application/vnd.jupyter.widget-view+json": {
       "model_id": "ae65144e862e48bd84fbb2508e1e4f8e",
       "version_major": 2,
       "version_minor": 0
      },
      "text/plain": [
       "tokenizer_config.json:   0%|          | 0.00/283k [00:00<?, ?B/s]"
      ]
     },
     "metadata": {},
     "output_type": "display_data"
    },
    {
     "data": {
      "application/vnd.jupyter.widget-view+json": {
       "model_id": "b873384425fd43fe973f59e1c140ef58",
       "version_major": 2,
       "version_minor": 0
      },
      "text/plain": [
       "vocab.json:   0%|          | 0.00/836k [00:00<?, ?B/s]"
      ]
     },
     "metadata": {},
     "output_type": "display_data"
    },
    {
     "data": {
      "application/vnd.jupyter.widget-view+json": {
       "model_id": "b8b7be23c8ab4558ad39d5d78a7c6144",
       "version_major": 2,
       "version_minor": 0
      },
      "text/plain": [
       "tokenizer.json:   0%|          | 0.00/2.48M [00:00<?, ?B/s]"
      ]
     },
     "metadata": {},
     "output_type": "display_data"
    },
    {
     "data": {
      "application/vnd.jupyter.widget-view+json": {
       "model_id": "511d481adf194426b221f21b3c5cf6ab",
       "version_major": 2,
       "version_minor": 0
      },
      "text/plain": [
       "merges.txt:   0%|          | 0.00/494k [00:00<?, ?B/s]"
      ]
     },
     "metadata": {},
     "output_type": "display_data"
    },
    {
     "data": {
      "application/vnd.jupyter.widget-view+json": {
       "model_id": "4a6aca4dd2774b198d152b8fb84f6959",
       "version_major": 2,
       "version_minor": 0
      },
      "text/plain": [
       "normalizer.json:   0%|          | 0.00/52.7k [00:00<?, ?B/s]"
      ]
     },
     "metadata": {},
     "output_type": "display_data"
    },
    {
     "data": {
      "application/vnd.jupyter.widget-view+json": {
       "model_id": "0597765314fe42cab63da24cfe2b87f3",
       "version_major": 2,
       "version_minor": 0
      },
      "text/plain": [
       "added_tokens.json:   0%|          | 0.00/34.6k [00:00<?, ?B/s]"
      ]
     },
     "metadata": {},
     "output_type": "display_data"
    },
    {
     "data": {
      "application/vnd.jupyter.widget-view+json": {
       "model_id": "2bae5ebea666497eb05ca263be001a8f",
       "version_major": 2,
       "version_minor": 0
      },
      "text/plain": [
       "special_tokens_map.json:   0%|          | 0.00/2.19k [00:00<?, ?B/s]"
      ]
     },
     "metadata": {},
     "output_type": "display_data"
    },
    {
     "data": {
      "application/vnd.jupyter.widget-view+json": {
       "model_id": "7a18252ae5de4d46bb09e4b323065239",
       "version_major": 2,
       "version_minor": 0
      },
      "text/plain": [
       "config.json:   0%|          | 0.00/1.97k [00:00<?, ?B/s]"
      ]
     },
     "metadata": {},
     "output_type": "display_data"
    },
    {
     "data": {
      "application/vnd.jupyter.widget-view+json": {
       "model_id": "12ae97a41d604aeeadd08d9f62fd32df",
       "version_major": 2,
       "version_minor": 0
      },
      "text/plain": [
       "model.safetensors:   0%|          | 0.00/967M [00:00<?, ?B/s]"
      ]
     },
     "metadata": {},
     "output_type": "display_data"
    },
    {
     "data": {
      "application/vnd.jupyter.widget-view+json": {
       "model_id": "5e978c74afd34659a387bb996b1b9e17",
       "version_major": 2,
       "version_minor": 0
      },
      "text/plain": [
       "generation_config.json:   0%|          | 0.00/3.87k [00:00<?, ?B/s]"
      ]
     },
     "metadata": {},
     "output_type": "display_data"
    }
   ],
   "source": [
    "from transformers import WhisperProcessor, WhisperForConditionalGeneration\n",
    "\n",
    "checkpoint = \"openai/whisper-small\"\n",
    "processor = WhisperProcessor.from_pretrained(checkpoint)\n",
    "model = WhisperForConditionalGeneration.from_pretrained(checkpoint)\n",
    "model.config.forced_decoder_ids = None\n",
    "model.config.suppress_tokens = []"
   ]
  },
  {
   "cell_type": "code",
   "execution_count": 4,
   "metadata": {},
   "outputs": [
    {
     "data": {
      "application/vnd.jupyter.widget-view+json": {
       "model_id": "369e403830e248ebb3887ea9ea2ce495",
       "version_major": 2,
       "version_minor": 0
      },
      "text/plain": [
       "Map:   0%|          | 0/792 [00:00<?, ? examples/s]"
      ]
     },
     "metadata": {},
     "output_type": "display_data"
    },
    {
     "data": {
      "application/vnd.jupyter.widget-view+json": {
       "model_id": "6dade46feb0147f5bc021d1b8dd1a73d",
       "version_major": 2,
       "version_minor": 0
      },
      "text/plain": [
       "Map:   0%|          | 0/400 [00:00<?, ? examples/s]"
      ]
     },
     "metadata": {},
     "output_type": "display_data"
    },
    {
     "data": {
      "application/vnd.jupyter.widget-view+json": {
       "model_id": "ee4ad77f8fca4cfcbfa3f43bcc1952c8",
       "version_major": 2,
       "version_minor": 0
      },
      "text/plain": [
       "Map:   0%|          | 0/400 [00:00<?, ? examples/s]"
      ]
     },
     "metadata": {},
     "output_type": "display_data"
    }
   ],
   "source": [
    "def prepare_dataset(example):\n",
    "    audio = example[\"audio\"]\n",
    "    example[\"input_features\"] = processor.feature_extractor(audio[\"array\"], sampling_rate=16000).input_features[0]\n",
    "    example[\"labels\"] = processor.tokenizer(example[\"sentence\"]).input_ids\n",
    "    return example\n",
    "\n",
    "processed_dataset_train = train_dataset.map(prepare_dataset, remove_columns=train_dataset.column_names)\n",
    "processed_dataset_val = val_dataset.map(prepare_dataset, remove_columns=val_dataset.column_names)\n",
    "processed_dataset_test = test_dataset.map(prepare_dataset, remove_columns=test_dataset.column_names)\n"
   ]
  },
  {
   "cell_type": "code",
   "execution_count": 5,
   "metadata": {},
   "outputs": [],
   "source": [
    "from dataclasses import dataclass\n",
    "from typing import Any, Dict, List, Union\n",
    "import torch\n",
    "\n",
    "@dataclass\n",
    "class DataCollatorSpeechSeq2SeqWithPadding:\n",
    "    processor: Any\n",
    "    padding: Union[bool, str] = True\n",
    "\n",
    "    def __call__(self, features: List[Dict[str, Union[List[int], torch.Tensor]]]) -> Dict[str, torch.Tensor]:\n",
    "        input_features = [{\"input_features\": f[\"input_features\"]} for f in features]\n",
    "        label_features = [{\"input_ids\": f[\"labels\"]} for f in features]\n",
    "        batch = self.processor.feature_extractor.pad(input_features, return_tensors=\"pt\")\n",
    "        labels_batch = self.processor.tokenizer.pad(label_features, return_tensors=\"pt\")\n",
    "        labels = labels_batch[\"input_ids\"].masked_fill(labels_batch.attention_mask.ne(1), -100)\n",
    "        batch[\"labels\"] = labels\n",
    "        return batch\n",
    "\n",
    "data_collator = DataCollatorSpeechSeq2SeqWithPadding(processor=processor)\n"
   ]
  },
  {
   "cell_type": "code",
   "execution_count": 6,
   "metadata": {},
   "outputs": [
    {
     "name": "stderr",
     "output_type": "stream",
     "text": [
      "<ipython-input-6-4a49f10d4420>:14: FutureWarning: `tokenizer` is deprecated and will be removed in version 5.0.0 for `Trainer.__init__`. Use `processing_class` instead.\n",
      "  trainer = Trainer(\n"
     ]
    }
   ],
   "source": [
    "from transformers import TrainingArguments, Trainer\n",
    "\n",
    "training_args = TrainingArguments(\n",
    "    output_dir=\"/content/drive/MyDrive/WhisperCheckpoints/run_small_lr2(1)\",\n",
    "    per_device_train_batch_size=8,\n",
    "    learning_rate=3e-5,\n",
    "    num_train_epochs=5,\n",
    "    logging_steps=10,\n",
    "    save_strategy=\"epoch\",\n",
    "    fp16=True,\n",
    "    report_to=\"none\"\n",
    ")\n",
    "\n",
    "trainer = Trainer(\n",
    "    model=model,\n",
    "    args=training_args,\n",
    "    train_dataset=processed_dataset_train,\n",
    "    tokenizer=processor,\n",
    "    data_collator=data_collator\n",
    ")"
   ]
  },
  {
   "cell_type": "code",
   "execution_count": 7,
   "metadata": {},
   "outputs": [
    {
     "name": "stderr",
     "output_type": "stream",
     "text": [
      "Passing a tuple of `past_key_values` is deprecated and will be removed in Transformers v4.43.0. You should pass an instance of `EncoderDecoderCache` instead, e.g. `past_key_values=EncoderDecoderCache.from_legacy_cache(past_key_values)`.\n"
     ]
    },
    {
     "data": {
      "text/html": [
       "\n",
       "    <div>\n",
       "      \n",
       "      <progress value='495' max='495' style='width:300px; height:20px; vertical-align: middle;'></progress>\n",
       "      [495/495 12:17, Epoch 5/5]\n",
       "    </div>\n",
       "    <table border=\"1\" class=\"dataframe\">\n",
       "  <thead>\n",
       " <tr style=\"text-align: left;\">\n",
       "      <th>Step</th>\n",
       "      <th>Training Loss</th>\n",
       "    </tr>\n",
       "  </thead>\n",
       "  <tbody>\n",
       "    <tr>\n",
       "      <td>10</td>\n",
       "      <td>7.189600</td>\n",
       "    </tr>\n",
       "    <tr>\n",
       "      <td>20</td>\n",
       "      <td>4.277500</td>\n",
       "    </tr>\n",
       "    <tr>\n",
       "      <td>30</td>\n",
       "      <td>2.984200</td>\n",
       "    </tr>\n",
       "    <tr>\n",
       "      <td>40</td>\n",
       "      <td>2.496900</td>\n",
       "    </tr>\n",
       "    <tr>\n",
       "      <td>50</td>\n",
       "      <td>2.159000</td>\n",
       "    </tr>\n",
       "    <tr>\n",
       "      <td>60</td>\n",
       "      <td>1.811300</td>\n",
       "    </tr>\n",
       "    <tr>\n",
       "      <td>70</td>\n",
       "      <td>1.899800</td>\n",
       "    </tr>\n",
       "    <tr>\n",
       "      <td>80</td>\n",
       "      <td>1.607500</td>\n",
       "    </tr>\n",
       "    <tr>\n",
       "      <td>90</td>\n",
       "      <td>1.352700</td>\n",
       "    </tr>\n",
       "    <tr>\n",
       "      <td>100</td>\n",
       "      <td>1.275500</td>\n",
       "    </tr>\n",
       "    <tr>\n",
       "      <td>110</td>\n",
       "      <td>0.415300</td>\n",
       "    </tr>\n",
       "    <tr>\n",
       "      <td>120</td>\n",
       "      <td>0.430100</td>\n",
       "    </tr>\n",
       "    <tr>\n",
       "      <td>130</td>\n",
       "      <td>0.404900</td>\n",
       "    </tr>\n",
       "    <tr>\n",
       "      <td>140</td>\n",
       "      <td>0.420300</td>\n",
       "    </tr>\n",
       "    <tr>\n",
       "      <td>150</td>\n",
       "      <td>0.424400</td>\n",
       "    </tr>\n",
       "    <tr>\n",
       "      <td>160</td>\n",
       "      <td>0.434700</td>\n",
       "    </tr>\n",
       "    <tr>\n",
       "      <td>170</td>\n",
       "      <td>0.376200</td>\n",
       "    </tr>\n",
       "    <tr>\n",
       "      <td>180</td>\n",
       "      <td>0.356400</td>\n",
       "    </tr>\n",
       "    <tr>\n",
       "      <td>190</td>\n",
       "      <td>0.392200</td>\n",
       "    </tr>\n",
       "    <tr>\n",
       "      <td>200</td>\n",
       "      <td>0.286100</td>\n",
       "    </tr>\n",
       "    <tr>\n",
       "      <td>210</td>\n",
       "      <td>0.090000</td>\n",
       "    </tr>\n",
       "    <tr>\n",
       "      <td>220</td>\n",
       "      <td>0.099200</td>\n",
       "    </tr>\n",
       "    <tr>\n",
       "      <td>230</td>\n",
       "      <td>0.100700</td>\n",
       "    </tr>\n",
       "    <tr>\n",
       "      <td>240</td>\n",
       "      <td>0.092600</td>\n",
       "    </tr>\n",
       "    <tr>\n",
       "      <td>250</td>\n",
       "      <td>0.080400</td>\n",
       "    </tr>\n",
       "    <tr>\n",
       "      <td>260</td>\n",
       "      <td>0.080500</td>\n",
       "    </tr>\n",
       "    <tr>\n",
       "      <td>270</td>\n",
       "      <td>0.084000</td>\n",
       "    </tr>\n",
       "    <tr>\n",
       "      <td>280</td>\n",
       "      <td>0.072800</td>\n",
       "    </tr>\n",
       "    <tr>\n",
       "      <td>290</td>\n",
       "      <td>0.071800</td>\n",
       "    </tr>\n",
       "    <tr>\n",
       "      <td>300</td>\n",
       "      <td>0.049200</td>\n",
       "    </tr>\n",
       "    <tr>\n",
       "      <td>310</td>\n",
       "      <td>0.020200</td>\n",
       "    </tr>\n",
       "    <tr>\n",
       "      <td>320</td>\n",
       "      <td>0.022500</td>\n",
       "    </tr>\n",
       "    <tr>\n",
       "      <td>330</td>\n",
       "      <td>0.037000</td>\n",
       "    </tr>\n",
       "    <tr>\n",
       "      <td>340</td>\n",
       "      <td>0.029500</td>\n",
       "    </tr>\n",
       "    <tr>\n",
       "      <td>350</td>\n",
       "      <td>0.027900</td>\n",
       "    </tr>\n",
       "    <tr>\n",
       "      <td>360</td>\n",
       "      <td>0.021500</td>\n",
       "    </tr>\n",
       "    <tr>\n",
       "      <td>370</td>\n",
       "      <td>0.030500</td>\n",
       "    </tr>\n",
       "    <tr>\n",
       "      <td>380</td>\n",
       "      <td>0.021400</td>\n",
       "    </tr>\n",
       "    <tr>\n",
       "      <td>390</td>\n",
       "      <td>0.025100</td>\n",
       "    </tr>\n",
       "    <tr>\n",
       "      <td>400</td>\n",
       "      <td>0.013400</td>\n",
       "    </tr>\n",
       "    <tr>\n",
       "      <td>410</td>\n",
       "      <td>0.005500</td>\n",
       "    </tr>\n",
       "    <tr>\n",
       "      <td>420</td>\n",
       "      <td>0.013400</td>\n",
       "    </tr>\n",
       "    <tr>\n",
       "      <td>430</td>\n",
       "      <td>0.006900</td>\n",
       "    </tr>\n",
       "    <tr>\n",
       "      <td>440</td>\n",
       "      <td>0.010600</td>\n",
       "    </tr>\n",
       "    <tr>\n",
       "      <td>450</td>\n",
       "      <td>0.005600</td>\n",
       "    </tr>\n",
       "    <tr>\n",
       "      <td>460</td>\n",
       "      <td>0.011200</td>\n",
       "    </tr>\n",
       "    <tr>\n",
       "      <td>470</td>\n",
       "      <td>0.007100</td>\n",
       "    </tr>\n",
       "    <tr>\n",
       "      <td>480</td>\n",
       "      <td>0.011500</td>\n",
       "    </tr>\n",
       "    <tr>\n",
       "      <td>490</td>\n",
       "      <td>0.006700</td>\n",
       "    </tr>\n",
       "  </tbody>\n",
       "</table><p>"
      ],
      "text/plain": [
       "<IPython.core.display.HTML object>"
      ]
     },
     "metadata": {},
     "output_type": "display_data"
    },
    {
     "name": "stderr",
     "output_type": "stream",
     "text": [
      "/usr/local/lib/python3.11/dist-packages/transformers/modeling_utils.py:3339: UserWarning: Moving the following attributes in the config to the generation config: {'max_length': 448, 'suppress_tokens': [], 'begin_suppress_tokens': [220, 50257]}. You are seeing this warning because you've set generation parameters in the model config, as opposed to in the generation config.\n",
      "  warnings.warn(\n"
     ]
    },
    {
     "data": {
      "text/plain": [
       "TrainOutput(global_step=495, training_loss=0.649395034116025, metrics={'train_runtime': 741.2451, 'train_samples_per_second': 5.342, 'train_steps_per_second': 0.668, 'total_flos': 1.1427981852672e+18, 'train_loss': 0.649395034116025, 'epoch': 5.0})"
      ]
     },
     "execution_count": 7,
     "metadata": {},
     "output_type": "execute_result"
    }
   ],
   "source": [
    "trainer.train()"
   ]
  },
  {
   "cell_type": "code",
   "execution_count": 8,
   "metadata": {},
   "outputs": [
    {
     "data": {
      "text/plain": [
       "[]"
      ]
     },
     "execution_count": 8,
     "metadata": {},
     "output_type": "execute_result"
    }
   ],
   "source": [
    "save_path = \"/content/drive/MyDrive/WhisperCheckpoints/run_small_lr2(1)\"\n",
    "model.save_pretrained(save_path)\n",
    "processor.save_pretrained(save_path)"
   ]
  },
  {
   "cell_type": "code",
   "execution_count": 9,
   "metadata": {},
   "outputs": [
    {
     "name": "stdout",
     "output_type": "stream",
     "text": [
      "🌍 Language: ko\n"
     ]
    },
    {
     "name": "stderr",
     "output_type": "stream",
     "text": [
      "\r",
      "  0%|          | 0/100 [00:00<?, ?it/s]Due to a bug fix in https://github.com/huggingface/transformers/pull/28687 transcription using a multilingual Whisper will default to language detection followed by transcription instead of translation to English.This might be a breaking change for your use case. If you want to instead always translate your audio to English, make sure to pass `language='en'`.\n",
      "The attention mask is not set and cannot be inferred from input because pad token is same as eos token. As a consequence, you may observe unexpected behavior. Please pass your input's `attention_mask` to obtain reliable results.\n",
      "  1%|          | 1/100 [00:01<02:13,  1.35s/it]"
     ]
    },
    {
     "name": "stdout",
     "output_type": "stream",
     "text": [
      "🔹 Predicted:  그와 동시에 예상적이란 기분은 그는가가치의 타시고 안개처럼 쓰러졌다.\n",
      "🔸 Reference: 그와 동시에 애상적이던 기분은 구름과 같이 흩어지고 안개처럼 스러졌다.\n"
     ]
    },
    {
     "name": "stderr",
     "output_type": "stream",
     "text": [
      "\r",
      "  2%|▏         | 2/100 [00:02<01:33,  1.05it/s]"
     ]
    },
    {
     "name": "stdout",
     "output_type": "stream",
     "text": [
      "🔹 Predicted: 하면서도 기차는 동략이가 먹는다는 바람에 순도 아니시고 쫓길이쳤다.\n",
      "🔸 Reference: 하면서도 기천은 동혁이가 먹는다는 바람에 숨도 아니 쉬고 쪼옥 들이켰다.\n"
     ]
    },
    {
     "name": "stderr",
     "output_type": "stream",
     "text": [
      "\r",
      "  3%|▎         | 3/100 [00:02<01:25,  1.13it/s]"
     ]
    },
    {
     "name": "stdout",
     "output_type": "stream",
     "text": [
      "🔹 Predicted: 이사에게 주근의 손골을 받은지도 모르는 영신은 주사기운의 주근의식을 회복하였다.\n",
      "🔸 Reference: 의사에게 죽음의 선고를 받은 줄도 모르는 영신은 주사 기운에 조금 의식을 회복하였다.\n"
     ]
    },
    {
     "name": "stderr",
     "output_type": "stream",
     "text": [
      "\r",
      "  4%|▍         | 4/100 [00:03<01:19,  1.21it/s]"
     ]
    },
    {
     "name": "stdout",
     "output_type": "stream",
     "text": [
      "🔹 Predicted: 모듣경영은 이나나모로 섰지 안하니 보략을 붙을고 첨쟁할 지니다.\n",
      "🔸 Reference: 무릇 경영은 의논함으로 성취하나니 모략을 베풀고 전쟁할지니라\n"
     ]
    },
    {
     "name": "stderr",
     "output_type": "stream",
     "text": [
      "\r",
      "  5%|▌         | 5/100 [00:03<01:00,  1.58it/s]"
     ]
    },
    {
     "name": "stdout",
     "output_type": "stream",
     "text": [
      "🔹 Predicted: アニタ、ケルコアニタ\n",
      "🔸 Reference: 아니다 결코 아니다.\n"
     ]
    },
    {
     "name": "stderr",
     "output_type": "stream",
     "text": [
      "\r",
      "  6%|▌         | 6/100 [00:04<00:48,  1.95it/s]"
     ]
    },
    {
     "name": "stdout",
     "output_type": "stream",
     "text": [
      "🔹 Predicted: 공연한 소리하지 말고 와서 가세요\n",
      "🔸 Reference: 공연한 소리 하지 말고 어서 가세.\n"
     ]
    },
    {
     "name": "stderr",
     "output_type": "stream",
     "text": [
      "\r",
      "  7%|▋         | 7/100 [00:04<00:51,  1.80it/s]"
     ]
    },
    {
     "name": "stdout",
     "output_type": "stream",
     "text": [
      "🔹 Predicted: 선비는 바다 가지고 간난히 길을 따랐다.\n",
      "🔸 Reference: 선비는 받아 가지고 간난의 뒤를 따랐다.\n"
     ]
    },
    {
     "name": "stderr",
     "output_type": "stream",
     "text": [
      "\r",
      "  8%|▊         | 8/100 [00:05<00:55,  1.65it/s]"
     ]
    },
    {
     "name": "stdout",
     "output_type": "stream",
     "text": [
      "🔹 Predicted: 세 뱃 배성보다도 루켓 배성보다도 빠른 양자 배성 서비스를 문일부터 시작합니다.\n",
      "🔸 Reference: 새벽배송보다도 로켓배송보다도 빠른 양자 배송 서비스를 오늘부터 시작합니다.\n"
     ]
    },
    {
     "name": "stderr",
     "output_type": "stream",
     "text": [
      "\r",
      "  9%|▉         | 9/100 [00:05<00:50,  1.81it/s]"
     ]
    },
    {
     "name": "stdout",
     "output_type": "stream",
     "text": [
      "🔹 Predicted: 청아는 이쪽도를 쳐우면서 소리를 치른다.\n",
      "🔸 Reference: 청하는 이쪽 노를 저으면서 소리를 지른다.\n"
     ]
    },
    {
     "name": "stderr",
     "output_type": "stream",
     "text": [
      "\r",
      " 10%|█         | 10/100 [00:06<00:53,  1.68it/s]"
     ]
    },
    {
     "name": "stdout",
     "output_type": "stream",
     "text": [
      "🔹 Predicted: 여러 사람의 앞으로 한 걸음 다가섰으며 그 건불근한 그리 비유 긴장이 진다.\n",
      "🔸 Reference: 여러 사람의 앞으로 한 걸음 다가서며 그 검붉은 얼굴이 매우 긴장해진다.\n"
     ]
    },
    {
     "name": "stderr",
     "output_type": "stream",
     "text": [
      "\r",
      " 11%|█         | 11/100 [00:07<00:50,  1.78it/s]"
     ]
    },
    {
     "name": "stdout",
     "output_type": "stream",
     "text": [
      "🔹 Predicted:  याजःにさかんパースも多いんですけど、\n",
      "🔸 Reference: 여전히 사건 파악을 못 하고 있는데도?\n"
     ]
    },
    {
     "name": "stderr",
     "output_type": "stream",
     "text": [
      "\r",
      " 12%|█▏        | 12/100 [00:07<00:47,  1.84it/s]"
     ]
    },
    {
     "name": "stdout",
     "output_type": "stream",
     "text": [
      "🔹 Predicted:  즐겁고 재미 있는くん댄지를 만들 착가를 모직합니다.\n",
      "🔸 Reference: 즐겁고 재미있는 콘텐츠를 만들 작가를 모집합니다.\n"
     ]
    },
    {
     "name": "stderr",
     "output_type": "stream",
     "text": [
      "\r",
      " 13%|█▎        | 13/100 [00:07<00:40,  2.13it/s]"
     ]
    },
    {
     "name": "stdout",
     "output_type": "stream",
     "text": [
      "🔹 Predicted:  이 거리 들 두기 사과 나요\n",
      "🔸 Reference: 이거리를 둘이서 걸어요.\n"
     ]
    },
    {
     "name": "stderr",
     "output_type": "stream",
     "text": [
      "\r",
      " 14%|█▍        | 14/100 [00:08<00:39,  2.15it/s]"
     ]
    },
    {
     "name": "stdout",
     "output_type": "stream",
     "text": [
      "🔹 Predicted:  간난이는 생각에 웃어 보이며 머리가 흔들었다.\n",
      "🔸 Reference: 간난이는 생긋 웃어 보이며 머리를 흔들었다.\n"
     ]
    },
    {
     "name": "stderr",
     "output_type": "stream",
     "text": [
      "\r",
      " 15%|█▌        | 15/100 [00:08<00:37,  2.25it/s]"
     ]
    },
    {
     "name": "stdout",
     "output_type": "stream",
     "text": [
      "🔹 Predicted:  무엇か 무엇인지 품간할 수 없는 나는 이렇게 물었다.\n",
      "🔸 Reference: 무어가 무언지 분간할 수 없는 나는 이렇게 물었다.\n"
     ]
    },
    {
     "name": "stderr",
     "output_type": "stream",
     "text": [
      "\r",
      " 16%|█▌        | 16/100 [00:09<00:40,  2.07it/s]"
     ]
    },
    {
     "name": "stdout",
     "output_type": "stream",
     "text": [
      "🔹 Predicted: 국무 춘우는国계의 동리를 하던 개똥년이 인양한다.\n",
      "🔸 Reference: 국무총리는 국회의 동의를 얻어 대통령이 임명한다.\n"
     ]
    },
    {
     "name": "stderr",
     "output_type": "stream",
     "text": [
      "\r",
      " 17%|█▋        | 17/100 [00:09<00:40,  2.03it/s]"
     ]
    },
    {
     "name": "stdout",
     "output_type": "stream",
     "text": [
      "🔹 Predicted: 부르짖음이엇 발길の��을 걸어 자고 일어났다.\n",
      "🔸 Reference: 부르짖으며 발길로 벽을 걷어차고 일어났다.\n"
     ]
    },
    {
     "name": "stderr",
     "output_type": "stream",
     "text": [
      "\r",
      " 18%|█▊        | 18/100 [00:10<00:41,  1.99it/s]"
     ]
    },
    {
     "name": "stdout",
     "output_type": "stream",
     "text": [
      "🔹 Predicted:  나아는지 모르케 이런 말을 하고도 가슴이 선득하였다.\n",
      "🔸 Reference: 나오는 줄 모르고 이런 말을 하고도 가슴이 선뜩하였다.\n"
     ]
    },
    {
     "name": "stderr",
     "output_type": "stream",
     "text": [
      "\r",
      " 19%|█▉        | 19/100 [00:10<00:40,  2.00it/s]"
     ]
    },
    {
     "name": "stdout",
     "output_type": "stream",
     "text": [
      "🔹 Predicted:  저아티의 동영상으로 주한 동사껀 길이가 날 겁니다.\n",
      "🔸 Reference: 저 뒤에 동영상으로 주암동 사건 개요가 나올 겁니다.\n"
     ]
    },
    {
     "name": "stderr",
     "output_type": "stream",
     "text": [
      "\r",
      " 20%|██        | 20/100 [00:11<00:45,  1.77it/s]"
     ]
    },
    {
     "name": "stdout",
     "output_type": "stream",
     "text": [
      "🔹 Predicted: 기요른자는 말하기를 사자가 밖이 있은 즉 뱅아다간은 코리에서 지키겠다 하는이라\n",
      "🔸 Reference: 게으른 자는 말하기를 사자가 밖에 있은즉 내가 나가면 거리에서 찢기겠다 하느니라\n"
     ]
    },
    {
     "name": "stderr",
     "output_type": "stream",
     "text": [
      "\r",
      " 21%|██        | 21/100 [00:11<00:37,  2.08it/s]"
     ]
    },
    {
     "name": "stdout",
     "output_type": "stream",
     "text": [
      "🔹 Predicted: 그러나 릴 오답시니까\n",
      "🔸 Reference: 그럼, 내일 오랍쇼니까?\n"
     ]
    },
    {
     "name": "stderr",
     "output_type": "stream",
     "text": [
      "\r",
      " 22%|██▏       | 22/100 [00:12<00:38,  2.02it/s]"
     ]
    },
    {
     "name": "stdout",
     "output_type": "stream",
     "text": [
      "🔹 Predicted: 그는 나를 비쳐 버린 다음에 그은 보를 들고서 읽기 시작하였습니다.\n",
      "🔸 Reference: 그는 나를 밀쳐 버린 다음에 그 음보를 들고서 읽기 시작하였습니다.\n"
     ]
    },
    {
     "name": "stderr",
     "output_type": "stream",
     "text": [
      "\r",
      " 23%|██▎       | 23/100 [00:12<00:38,  1.98it/s]"
     ]
    },
    {
     "name": "stdout",
     "output_type": "stream",
     "text": [
      "🔹 Predicted: 그리고 이 집에서 옥점이를 어떻게 지어하는 것을 참시간이라도 알 수가 있다.\n",
      "🔸 Reference: 그리고 이 집에서 옥점이를 어떻게 귀여워하는 것을 잠시간이라도 알 수가 있다.\n"
     ]
    },
    {
     "name": "stderr",
     "output_type": "stream",
     "text": [
      "\r",
      " 24%|██▍       | 24/100 [00:13<00:41,  1.84it/s]"
     ]
    },
    {
     "name": "stdout",
     "output_type": "stream",
     "text": [
      "🔹 Predicted: 아까까지 영신은 그 부를 옅은 하늘의 팔들이 반짝이는 길러만 알고 있었다.\n",
      "🔸 Reference: 아까까지 영신은 그 불을 얕은 하늘의 별들이 반짝이는 줄로만 알고있었다.\n"
     ]
    },
    {
     "name": "stderr",
     "output_type": "stream",
     "text": [
      "\r",
      " 25%|██▌       | 25/100 [00:14<00:39,  1.92it/s]"
     ]
    },
    {
     "name": "stdout",
     "output_type": "stream",
     "text": [
      "🔹 Predicted: 의심하는 마음과 한꺼��에 일어나는 것은 칠티었다.\n",
      "🔸 Reference: 의심하는 마음과 한꺼번에 일어나는 것은 질투였다.\n"
     ]
    },
    {
     "name": "stderr",
     "output_type": "stream",
     "text": [
      "\r",
      " 26%|██▌       | 26/100 [00:15<00:49,  1.50it/s]"
     ]
    },
    {
     "name": "stdout",
     "output_type": "stream",
     "text": [
      "🔹 Predicted: 고일기 내 그자와 이놈의 상인님 하고 대풀의 바벳곤구는 리호양으로 대폐가다다 꼭꼭 참고를 하였다.\n",
      "🔸 Reference: 골김에 그저 이놈의 장인님, 하고 댓돌에다 메꼰코 우리 고향으로 내뺄까 하다가 꾹꾹 참고 말았다.\n"
     ]
    },
    {
     "name": "stderr",
     "output_type": "stream",
     "text": [
      "\r",
      " 27%|██▋       | 27/100 [00:23<03:40,  3.02s/it]"
     ]
    },
    {
     "name": "stdout",
     "output_type": "stream",
     "text": [
      "🔹 Predicted:  यवोके विंव्व्व्व्व्व्व्व्व्व्व्व्व्व्व्व्व्व्व्व्व्व्व्व्व्व्व्व्व्व्व्व्व्व्व्व्व्व्व्व्व्व्व्व्व्व्व्व्व्व्व्व्व्व्व्व्व्व्व्व्व्व्व्व्व्व्व्व्व्व्व्व्व्व्व्व्व्व्व्व्व्व्व्व्व्व्व्व्व्व्व्व्व्व्व्व्व्व्व्व्व्व्व्व्व्व्व्व्व्व्व्व्व्व्व्व्व्व्व्व्व्व्व्व्व्व्व्व्व्व्व्व्व्व्व्व्व्व्व्व्व्व्व्व्�\n",
      "🔸 Reference: 여보게 김첨지\n"
     ]
    },
    {
     "name": "stderr",
     "output_type": "stream",
     "text": [
      "\r",
      " 28%|██▊       | 28/100 [00:24<02:43,  2.27s/it]"
     ]
    },
    {
     "name": "stdout",
     "output_type": "stream",
     "text": [
      "🔹 Predicted: 각자게 뛰어자다운은 광풍, 거기 연한 개미, 흥소\n",
      "🔸 Reference: 갑자기 튀어져 나오는 광포, 거기 연한 쾌미, 흥소\n"
     ]
    },
    {
     "name": "stderr",
     "output_type": "stream",
     "text": [
      "\r",
      " 29%|██▉       | 29/100 [00:24<02:03,  1.74s/it]"
     ]
    },
    {
     "name": "stdout",
     "output_type": "stream",
     "text": [
      "🔹 Predicted:  뜨거운 뼛지 그의 전신을 훅곤하게 하였다.\n",
      "🔸 Reference: 뜨거운 볕이 그의 전신을 후끈하게 하였다.\n"
     ]
    },
    {
     "name": "stderr",
     "output_type": "stream",
     "text": [
      "\r",
      " 30%|███       | 30/100 [00:25<01:41,  1.45s/it]"
     ]
    },
    {
     "name": "stdout",
     "output_type": "stream",
     "text": [
      "🔹 Predicted: 어디서 그는 자고 웃을 기ロ프의 하며, 젊은 자에게 지식과 그 지 마음을 주기 위한 것이다.\n",
      "🔸 Reference: 어리석은 자로 슬기롭게 하며 젊은 자에게 지식과 근신함을 주기 위한 것이니\n"
     ]
    },
    {
     "name": "stderr",
     "output_type": "stream",
     "text": [
      "\r",
      " 31%|███       | 31/100 [00:26<01:28,  1.29s/it]"
     ]
    },
    {
     "name": "stdout",
     "output_type": "stream",
     "text": [
      "🔹 Predicted: 그의 학생인지 만지가 한참은 매운 대깔할 때며 입술을 꼭 타 뭉쳐 긴 천지를에 걸어 또가지도 않았다.\n",
      "🔸 Reference: 그 여학생인지 만지가 한참은 매우 때깔을 빼며 입술을 꼭 다문 채 김첨지를 거들떠보지도 않았다.\n"
     ]
    },
    {
     "name": "stderr",
     "output_type": "stream",
     "text": [
      "\r",
      " 32%|███▏      | 32/100 [00:27<01:20,  1.19s/it]"
     ]
    },
    {
     "name": "stdout",
     "output_type": "stream",
     "text": [
      "🔹 Predicted: このまま出るかに、いこう、どんやく、おとちの上げる、飛ばく、飛ばくのよ、この女の子、この女の子、\n",
      "🔸 Reference: 한마디를 남기고 동혁은 구두징 소리를 뚜벅뚜벅 내며 골목 밖으로 나가 버린다.\n"
     ]
    },
    {
     "name": "stderr",
     "output_type": "stream",
     "text": [
      "\r",
      " 33%|███▎      | 33/100 [00:27<01:05,  1.02it/s]"
     ]
    },
    {
     "name": "stdout",
     "output_type": "stream",
     "text": [
      "🔹 Predicted:  तすすすれば、 한通の食多は、人の口は、\n",
      "🔸 Reference: 스스로가 형편없다고 생각하지 말라.\n"
     ]
    },
    {
     "name": "stderr",
     "output_type": "stream",
     "text": [
      "\r",
      " 34%|███▍      | 34/100 [00:28<00:57,  1.15it/s]"
     ]
    },
    {
     "name": "stdout",
     "output_type": "stream",
     "text": [
      "🔹 Predicted: アコモースが集ったんですよ、 가만히 참られてる、あるまいもとこいった\n",
      "🔸 Reference: 하고 무엇을 알아챘다는 듯이 가만히 창하의 계속하는 말만 듣고 있다.\n"
     ]
    },
    {
     "name": "stderr",
     "output_type": "stream",
     "text": [
      "\r",
      " 35%|███▌      | 35/100 [00:29<01:01,  1.06it/s]"
     ]
    },
    {
     "name": "stdout",
     "output_type": "stream",
     "text": [
      "🔹 Predicted:  ಕಿಕರಿಕರಿಕರಿಕರಿಕರಿಕರಿಕರಿಕರಿ\n",
      "🔸 Reference: 권력을 휘두르는 그 정치인의 모습을 보며 대중들이 실망을 느꼈다.\n"
     ]
    },
    {
     "name": "stderr",
     "output_type": "stream",
     "text": [
      "\r",
      " 36%|███▌      | 36/100 [00:29<00:51,  1.24it/s]"
     ]
    },
    {
     "name": "stdout",
     "output_type": "stream",
     "text": [
      "🔹 Predicted: 食ざり食かじをすいてるおそろすがままにあった\n",
      "🔸 Reference: 그들이 집까지 왔을 때는 어슬어슬한 황혼이었다.\n"
     ]
    },
    {
     "name": "stderr",
     "output_type": "stream",
     "text": [
      "\r",
      " 37%|███▋      | 37/100 [00:30<00:46,  1.36it/s]"
     ]
    },
    {
     "name": "stdout",
     "output_type": "stream",
     "text": [
      "🔹 Predicted:  그 기회の上着がある 사람은、 영양한 음악도 평가的に 쉬었었다.\n",
      "🔸 Reference: 그 기회론을 주장하는 사람은, 유명한 음악 비평가 K씨였었다.\n"
     ]
    },
    {
     "name": "stderr",
     "output_type": "stream",
     "text": [
      "\r",
      " 38%|███▊      | 38/100 [00:30<00:39,  1.56it/s]"
     ]
    },
    {
     "name": "stdout",
     "output_type": "stream",
     "text": [
      "🔹 Predicted: モデア 앞에 서는 모두가 긴장하기만 한や\n",
      "🔸 Reference: 무대 앞에 서면 모두가 긴장하기 마련이야.\n"
     ]
    },
    {
     "name": "stderr",
     "output_type": "stream",
     "text": [
      "\r",
      " 39%|███▉      | 39/100 [00:39<03:02,  2.98s/it]"
     ]
    },
    {
     "name": "stdout",
     "output_type": "stream",
     "text": [
      "🔹 Predicted: दरासा वूव्यव्वाष्पूंजेंगावी पव्जव्वाव्वाव्वाव्वाव्वाव्वाव्वाव्वाव्वाव्वाव्वाव्वाव्वाव्वाव्वाव्वाव्वाव्वाव्वाव्वाव्वाव्वाव्वाव्वाव्वाव्वाव्वाव्वाव्वाव्वाव्वाव्वाव्वाव्वाव्वाव्वाव्वाव्वाव्वाव्वाव्वाव्वाव्वाव्वाव्वाव्वाव्वाव्वाव्वाव्वाव्वाव्वाव्वाव्वाव्वाव्वाव्वाव्वाव्व्वाव्व्वाव्व्वाव्व्व्वाव्व्व्व्\n",
      "🔸 Reference: 따라서 물 먹고 싶은 생각이 버쩍 들었다.\n"
     ]
    },
    {
     "name": "stderr",
     "output_type": "stream",
     "text": [
      "\r",
      " 40%|████      | 40/100 [00:39<02:12,  2.20s/it]"
     ]
    },
    {
     "name": "stdout",
     "output_type": "stream",
     "text": [
      "🔹 Predicted: 三重なのよんさわりくろすみた\n",
      "🔸 Reference: 삼십 년이라는 세월이 흘렀습니다.\n"
     ]
    },
    {
     "name": "stderr",
     "output_type": "stream",
     "text": [
      "\r",
      " 41%|████      | 41/100 [00:40<01:47,  1.82s/it]"
     ]
    },
    {
     "name": "stdout",
     "output_type": "stream",
     "text": [
      "🔹 Predicted:  ಎರಿಯಯಯಯಯಯಯಯಯಯಯಯಯಯಯಯಯಯಯ\n",
      "🔸 Reference: 내일이나 모레나 그 어느 즐거운 날에\n"
     ]
    },
    {
     "name": "stderr",
     "output_type": "stream",
     "text": [
      "\r",
      " 42%|████▏     | 42/100 [00:41<01:20,  1.39s/it]"
     ]
    },
    {
     "name": "stdout",
     "output_type": "stream",
     "text": [
      "🔹 Predicted: 他なにでも、そのでも、いないので、じゃないんだ\n",
      "🔸 Reference: 저녁이 되며 아침이 되니 이는 네째 날이니라\n"
     ]
    },
    {
     "name": "stderr",
     "output_type": "stream",
     "text": [
      "\r",
      " 43%|████▎     | 43/100 [00:42<01:20,  1.41s/it]"
     ]
    },
    {
     "name": "stdout",
     "output_type": "stream",
     "text": [
      "🔹 Predicted: प्रिक्न्व्रे मौरी व्रिक्न्व्रे मौरी व्रिक्न्व्रे मौरी व्रिक्न्व्रे\n",
      "🔸 Reference: 밝은 달은 우리 가슴 일편단심일세\n"
     ]
    },
    {
     "name": "stderr",
     "output_type": "stream",
     "text": [
      "\r",
      " 44%|████▍     | 44/100 [00:42<00:59,  1.07s/it]"
     ]
    },
    {
     "name": "stdout",
     "output_type": "stream",
     "text": [
      "🔹 Predicted: メーカーが売った\n",
      "🔸 Reference: 네가 나빠\n"
     ]
    },
    {
     "name": "stderr",
     "output_type": "stream",
     "text": [
      "\r",
      " 45%|████▌     | 45/100 [00:43<00:54,  1.01it/s]"
     ]
    },
    {
     "name": "stdout",
     "output_type": "stream",
     "text": [
      "🔹 Predicted: अन्ःन은、 여공に 들어가는 말까지始めたが、 우는 말을 좀 더 기다려주기と 비하였다.\n",
      "🔸 Reference: 간난이는 여공이 들어가던 말까지 하려다가 이런 말은 좀더 기다려서 해주리라 하였다.\n"
     ]
    },
    {
     "name": "stderr",
     "output_type": "stream",
     "text": [
      "\r",
      " 46%|████▌     | 46/100 [00:44<00:46,  1.17it/s]"
     ]
    },
    {
     "name": "stdout",
     "output_type": "stream",
     "text": [
      "🔹 Predicted: 真実、自我、 그대가 산 자리에 흰 물을 지키고 가보되\n",
      "🔸 Reference: 만일 제가 그대로 단결에 휙 뿌리치고 가보게.\n"
     ]
    },
    {
     "name": "stderr",
     "output_type": "stream",
     "text": [
      "\r",
      " 47%|████▋     | 47/100 [00:44<00:44,  1.19it/s]"
     ]
    },
    {
     "name": "stdout",
     "output_type": "stream",
     "text": [
      "🔹 Predicted: 観度もらけ 막구を通りあたり、うれいに 십장 발견해들어 뵙뵙뵙\n",
      "🔸 Reference: 감독이 이렇게 와꾸를 돌리게 되면 으레 이십 전 벌금을 물게 되는 것이다.\n"
     ]
    },
    {
     "name": "stderr",
     "output_type": "stream",
     "text": [
      "\r",
      " 48%|████▊     | 48/100 [00:45<00:42,  1.22it/s]"
     ]
    },
    {
     "name": "stdout",
     "output_type": "stream",
     "text": [
      "🔹 Predicted: 기상이다, 단아게료 든 걸 달아나는 것이는 비슷한 생각에 참여 보기에도 없다, 한 번은 차는다.\n",
      "🔸 Reference: 기적이 나타나기를 빌고 바라는 미신 비슷한 생각에 잠겨 보기도 또한 이번이 처음이다.\n"
     ]
    },
    {
     "name": "stderr",
     "output_type": "stream",
     "text": [
      "\r",
      " 49%|████▉     | 49/100 [00:46<00:41,  1.23it/s]"
     ]
    },
    {
     "name": "stdout",
     "output_type": "stream",
     "text": [
      "🔹 Predicted:  वीが 제덕 착�った 것처럼、 जौव्जौव्जो 나지 못 시작 온다.\n",
      "🔸 Reference: 비가 제법 장마 때처럼 주룩주룩 쏟아지기 시작한다.\n"
     ]
    },
    {
     "name": "stderr",
     "output_type": "stream",
     "text": [
      "\r",
      " 50%|█████     | 50/100 [00:47<00:44,  1.12it/s]"
     ]
    },
    {
     "name": "stdout",
     "output_type": "stream",
     "text": [
      "🔹 Predicted:  ಕಿಕಿಕಿಕಿಕಿಕಿಕಿಕಿಕಿಕಿಕಿಕಿಕಿ\n",
      "🔸 Reference: 이래저래 영신은 근처 동리의 소위 재산가 계급에게는 인심을 몹시 잃었다.\n"
     ]
    },
    {
     "name": "stderr",
     "output_type": "stream",
     "text": [
      "\r",
      " 51%|█████     | 51/100 [00:48<00:42,  1.14it/s]"
     ]
    },
    {
     "name": "stdout",
     "output_type": "stream",
     "text": [
      "🔹 Predicted:  뼈신은 가슴 속으로부터 치는 게 아니오, 웬만 참여하고, 빚자곰이다도 손가락을 때문다.\n",
      "🔸 Reference: 영신은 가슴속으로부터 치밀어 오는 울음을 참느라고 잇자국이 나도록 손가락을 깨문다.\n"
     ]
    },
    {
     "name": "stderr",
     "output_type": "stream",
     "text": [
      "\r",
      " 52%|█████▏    | 52/100 [00:51<01:17,  1.62s/it]"
     ]
    },
    {
     "name": "stdout",
     "output_type": "stream",
     "text": [
      "🔹 Predicted: दागासलिन्खायान्खोस्लिन्��ाद्द्दौष्लिन्��ाया तल्योडोस्लिन्��ाया तल्योडोस्लिन्��ाया तल्योडोस्लिन्��ाया तल्योडोस्लिन्��ाया तल्योडोस्लिन्��ाया तल्योडोस्लिन्��ाया\n",
      "🔸 Reference: 따라서 인력거에 앉아 서울의 번잡한 도시를 향하여 달려오던 선비를 눈앞에 그려 보았다.\n"
     ]
    },
    {
     "name": "stderr",
     "output_type": "stream",
     "text": [
      "\r",
      " 53%|█████▎    | 53/100 [00:52<01:00,  1.28s/it]"
     ]
    },
    {
     "name": "stdout",
     "output_type": "stream",
     "text": [
      "🔹 Predicted:  그저 들어간 것도 각자 단전하지 못해서 use는 것이 아니고 무엇이다.\n",
      "🔸 Reference: 그저 들어온 복도 박차 던져 내지 못해서 애쓰는 것이 아니고 무엇이냐.\n"
     ]
    },
    {
     "name": "stderr",
     "output_type": "stream",
     "text": [
      "\r",
      " 54%|█████▍    | 54/100 [00:52<00:49,  1.07s/it]"
     ]
    },
    {
     "name": "stdout",
     "output_type": "stream",
     "text": [
      "🔹 Predicted:  तौवाए 그자むし真の出口ものでかもまもりさ\n",
      "🔸 Reference: 그가 그 나무 실과를 내게 주므로 내가 먹었나이다\n"
     ]
    },
    {
     "name": "stderr",
     "output_type": "stream",
     "text": [
      "\r",
      " 55%|█████▌    | 55/100 [00:53<00:44,  1.02it/s]"
     ]
    },
    {
     "name": "stdout",
     "output_type": "stream",
     "text": [
      "🔹 Predicted: ニーガールはネーマンとコービーカードドラゴッジばなあんだもし、ガールを出すんです\n",
      "🔸 Reference: 네가 네 아내의 말을 듣고 내가 너더러 먹지 말라한 나무 실과를 먹었은즉\n"
     ]
    },
    {
     "name": "stderr",
     "output_type": "stream",
     "text": [
      "\r",
      " 56%|█████▌    | 56/100 [00:54<00:37,  1.18it/s]"
     ]
    },
    {
     "name": "stdout",
     "output_type": "stream",
     "text": [
      "🔹 Predicted:  평자에도 먼 벌써 사는 아기시가 쓰면 얼굴이 바란 길이었다.\n",
      "🔸 Reference: 병자의 몸은 벌써 싸늘하게 식었으며 얼굴이 파랗게 되었다.\n"
     ]
    },
    {
     "name": "stderr",
     "output_type": "stream",
     "text": [
      "\r",
      " 57%|█████▋    | 57/100 [00:54<00:32,  1.33it/s]"
     ]
    },
    {
     "name": "stdout",
     "output_type": "stream",
     "text": [
      "🔹 Predicted:  그 나마에서 한 그 개노를 겸원에서 타기 걸어기어 주셨어요\n",
      "🔸 Reference: 그러고 알 수 없는 괴로운 경우에서 저를 끌어내어 주셔요.\n"
     ]
    },
    {
     "name": "stderr",
     "output_type": "stream",
     "text": [
      "\r",
      " 58%|█████▊    | 58/100 [01:03<02:09,  3.09s/it]"
     ]
    },
    {
     "name": "stdout",
     "output_type": "stream",
     "text": [
      "🔹 Predicted:  जिन्व्वाल्व्विवाल्व्विवाल्व्विवाल्व्विवाल्व्विवाल्व्विवाल्व्विवाल्व्विवाल्विवाल्विवाल्विवाल्विवाल्विवाल्विवाल्विवाल्विवाल्विवाल्विवाल्विवाल्विवाल्विवाल्विवाल्विवाल्विवाल्विवाल्विवाल्विवाल्विवाल्विवाल्विवाल्विवाल्विवाल्विवाल्विवाल्विवाल्विवाल्विवाल्विवाल्विवाल्विवाल्विवाल्विवाल्विवाल्विवाल्विवाल्विवाल्विवाल्विवाल्विवाल्विवाल्विवाल\n",
      "🔸 Reference: 지금 바로 입금 가능해?\n"
     ]
    },
    {
     "name": "stderr",
     "output_type": "stream",
     "text": [
      "\r",
      " 59%|█████▉    | 59/100 [01:04<01:40,  2.44s/it]"
     ]
    },
    {
     "name": "stdout",
     "output_type": "stream",
     "text": [
      "🔹 Predicted:  ಕಿಕಿಕಿಕಿಕಿಕಿಕಿಕಿಕಿಕಿಕಿ\n",
      "🔸 Reference: 이리하여 주화조로서 탄주는 끝이 났습니다.\n"
     ]
    },
    {
     "name": "stderr",
     "output_type": "stream",
     "text": [
      "\r",
      " 60%|██████    | 60/100 [01:04<01:13,  1.84s/it]"
     ]
    },
    {
     "name": "stdout",
     "output_type": "stream",
     "text": [
      "🔹 Predicted:  그는 어두운 인인을 다시 종목을 향해갔다.\n",
      "🔸 Reference: 그는 오던 길을 다시 종로로 향해 갔다.\n"
     ]
    },
    {
     "name": "stderr",
     "output_type": "stream",
     "text": [
      "\r",
      " 61%|██████    | 61/100 [01:05<00:58,  1.49s/it]"
     ]
    },
    {
     "name": "stdout",
     "output_type": "stream",
     "text": [
      "🔹 Predicted: サンキ는 간도기 그를 보며 자유취하고 알존에 가슴이 두고 먹였다.\n",
      "🔸 Reference: 선비는 감독이 그를 부를 터이지 하고 하루 종일 가슴이 두근거렸다.\n"
     ]
    },
    {
     "name": "stderr",
     "output_type": "stream",
     "text": [
      "\r",
      " 62%|██████▏   | 62/100 [01:05<00:46,  1.23s/it]"
     ]
    },
    {
     "name": "stdout",
     "output_type": "stream",
     "text": [
      "🔹 Predicted: 옥점이는 어느 때나 신철이를 잊지 못하는 반면에 그만큼 덤이었던 것이다.\n",
      "🔸 Reference: 옥점이는 어느 때나 신철이를 잊지 못하는 반면에 그만큼 더 미웠던 것이다.\n"
     ]
    },
    {
     "name": "stderr",
     "output_type": "stream",
     "text": [
      "\r",
      " 63%|██████▎   | 63/100 [01:06<00:39,  1.08s/it]"
     ]
    },
    {
     "name": "stdout",
     "output_type": "stream",
     "text": [
      "🔹 Predicted: 그들은 글기 없는 선비 를 보며 감독이게서 간단한 나무를 들은 듯하였다.\n",
      "🔸 Reference: 그들은 풀기 없는 선비를 보며 감독에게서 단단한 나무람을 들은 듯하였다.\n"
     ]
    },
    {
     "name": "stderr",
     "output_type": "stream",
     "text": [
      "\r",
      " 64%|██████▍   | 64/100 [01:06<00:30,  1.16it/s]"
     ]
    },
    {
     "name": "stdout",
     "output_type": "stream",
     "text": [
      "🔹 Predicted:  즐거운 날은 오그마이커시다\n",
      "🔸 Reference: 즐거운 날은 오고 말 것이다.\n"
     ]
    },
    {
     "name": "stderr",
     "output_type": "stream",
     "text": [
      "\r",
      " 65%|██████▌   | 65/100 [01:07<00:26,  1.30it/s]"
     ]
    },
    {
     "name": "stdout",
     "output_type": "stream",
     "text": [
      "🔹 Predicted:  먼저 말씀하여 들까생 섭섭히 생각하시지 말하십시오.\n",
      "🔸 Reference: 먼저 말씀하여 둘 것은 섭섭히 생각하시지 말으십시오.\n"
     ]
    },
    {
     "name": "stderr",
     "output_type": "stream",
     "text": [
      "\r",
      " 66%|██████▌   | 66/100 [01:08<00:23,  1.42it/s]"
     ]
    },
    {
     "name": "stdout",
     "output_type": "stream",
     "text": [
      "🔹 Predicted: 복이명으로투표 를 하는 대로、 대필요슨 사람이 많았다.\n",
      "🔸 Reference: 무기명으로 투표를 하는 데도 대필로 쓴 사람이 많았다.\n"
     ]
    },
    {
     "name": "stderr",
     "output_type": "stream",
     "text": [
      "\r",
      " 67%|██████▋   | 67/100 [01:08<00:21,  1.55it/s]"
     ]
    },
    {
     "name": "stdout",
     "output_type": "stream",
     "text": [
      "🔹 Predicted:  대답을 듣고야 가겠다는 듯이 말동 말동 쳐다본다.\n",
      "🔸 Reference: 대답을 듣고야 가겠다는 듯이 말똥말똥 쳐다본다.\n"
     ]
    },
    {
     "name": "stderr",
     "output_type": "stream",
     "text": [
      "\r",
      " 68%|██████▊   | 68/100 [01:09<00:19,  1.67it/s]"
     ]
    },
    {
     "name": "stdout",
     "output_type": "stream",
     "text": [
      "🔹 Predicted:  배고픈데 지금 저녁식사를 먹는다 뭐 이랴까\n",
      "🔸 Reference: 배고픈데 지금 저녁 식사를 먹으면 너무 이를까?\n"
     ]
    },
    {
     "name": "stderr",
     "output_type": "stream",
     "text": [
      "\r",
      " 69%|██████▉   | 69/100 [01:09<00:17,  1.75it/s]"
     ]
    },
    {
     "name": "stdout",
     "output_type": "stream",
     "text": [
      "🔹 Predicted: 그는 기침을 안 하려고 이불 꼭 담은 후에 숨 쉬지 않았다.\n",
      "🔸 Reference: 그는 기침을 안 하려고 입을 꼭 다문 후에 숨을 쉬지 않았다.\n"
     ]
    },
    {
     "name": "stderr",
     "output_type": "stream",
     "text": [
      "\r",
      " 70%|███████   | 70/100 [01:10<00:19,  1.58it/s]"
     ]
    },
    {
     "name": "stdout",
     "output_type": "stream",
     "text": [
      "🔹 Predicted: 동혁은 입술을 꽉 깨는고, 먼지의 뒤를 따라, 응목히 눈틀 밭틀을 걸었다.\n",
      "🔸 Reference: 동혁은 입술을 꽉 깨물고 원재의 뒤를 따라 묵묵히 논틀 밭틀을 걸었다.\n"
     ]
    },
    {
     "name": "stderr",
     "output_type": "stream",
     "text": [
      "\r",
      " 71%|███████   | 71/100 [01:10<00:16,  1.81it/s]"
     ]
    },
    {
     "name": "stdout",
     "output_type": "stream",
     "text": [
      "🔹 Predicted:  대한 사람 대한으로 길이 보전하세\n",
      "🔸 Reference: 대한 사람 대한으로 길이 보전하세\n"
     ]
    },
    {
     "name": "stderr",
     "output_type": "stream",
     "text": [
      "\r",
      " 72%|███████▏  | 72/100 [01:11<00:17,  1.60it/s]"
     ]
    },
    {
     "name": "stdout",
     "output_type": "stream",
     "text": [
      "🔹 Predicted: 여라 해 별러어 난 동무회의회 회관을 즐겨고, 오늘 저녁에 그의 지경을 당는 것이다.\n",
      "🔸 Reference: 여러 해 별러 오던 농우회의 회관을 지으려고 오늘 저녁에 그 지경을 닦는 것이다.\n"
     ]
    },
    {
     "name": "stderr",
     "output_type": "stream",
     "text": [
      "\r",
      " 73%|███████▎  | 73/100 [01:12<00:16,  1.64it/s]"
     ]
    },
    {
     "name": "stdout",
     "output_type": "stream",
     "text": [
      "🔹 Predicted:  이 우세기 아춘하는 것은 그의 팔 앞의 금모를 치는 것이 우다.\n",
      "🔸 Reference: 이웃에게 아첨하는 것은 그의 발 앞에 그물을 치는 것이니라\n"
     ]
    },
    {
     "name": "stderr",
     "output_type": "stream",
     "text": [
      "\r",
      " 74%|███████▍  | 74/100 [01:12<00:15,  1.63it/s]"
     ]
    },
    {
     "name": "stdout",
     "output_type": "stream",
     "text": [
      "🔹 Predicted: ハタニービィレブッドを上れることになる、直即に火を取らなきゃ\n",
      "🔸 Reference: 하더니 미리부터 허리를 구부리며 집 속으로 기어들어간다.\n"
     ]
    },
    {
     "name": "stderr",
     "output_type": "stream",
     "text": [
      "\r",
      " 75%|███████▌  | 75/100 [01:13<00:13,  1.81it/s]"
     ]
    },
    {
     "name": "stdout",
     "output_type": "stream",
     "text": [
      "🔹 Predicted:  그와 동시에 기천의 가슴도 큰 하고 올렸다.\n",
      "🔸 Reference: 그와 동시에 기천의 가슴도 쿵 하고 울렸다.\n"
     ]
    },
    {
     "name": "stderr",
     "output_type": "stream",
     "text": [
      "\r",
      " 76%|███████▌  | 76/100 [01:13<00:13,  1.80it/s]"
     ]
    },
    {
     "name": "stdout",
     "output_type": "stream",
     "text": [
      "🔹 Predicted: 춘우는 모레 위에 앉아서 멀리 서울쪽을 바라보고 앉아 있었다.\n",
      "🔸 Reference: 춘우는 모래 위에 앉아서 멀리 서울 쪽을 바라보고 앉아 있었다.\n"
     ]
    },
    {
     "name": "stderr",
     "output_type": "stream",
     "text": [
      "\r",
      " 77%|███████▋  | 77/100 [01:14<00:13,  1.73it/s]"
     ]
    },
    {
     "name": "stdout",
     "output_type": "stream",
     "text": [
      "🔹 Predicted: 그리고, 수업는 가슴의 택시가 서로 경쟁을 하며 패여고 대야한다.\n",
      "🔸 Reference: 그리고 수없는 버스며 택시가 서로 경쟁을 하며 달려오고 달려간다.\n"
     ]
    },
    {
     "name": "stderr",
     "output_type": "stream",
     "text": [
      "\r",
      " 78%|███████▊  | 78/100 [01:14<00:11,  1.93it/s]"
     ]
    },
    {
     "name": "stdout",
     "output_type": "stream",
     "text": [
      "🔹 Predicted: 그는 그와 한 학교에 있는 인노였다.\n",
      "🔸 Reference: 그는 그와 한 학급에 있는 인호였다.\n"
     ]
    },
    {
     "name": "stderr",
     "output_type": "stream",
     "text": [
      "\r",
      " 79%|███████▉  | 79/100 [01:15<00:11,  1.84it/s]"
     ]
    },
    {
     "name": "stdout",
     "output_type": "stream",
     "text": [
      "🔹 Predicted: 이서방은 그그러미 이것을 파가보며 가슴이 후련해졌다.\n",
      "🔸 Reference: 이서방은 물끄러미 이것을 바라보며 가슴이 후련해졌다.\n"
     ]
    },
    {
     "name": "stderr",
     "output_type": "stream",
     "text": [
      "\r",
      " 80%|████████  | 80/100 [01:15<00:09,  2.12it/s]"
     ]
    },
    {
     "name": "stdout",
     "output_type": "stream",
     "text": [
      "🔹 Predicted: 세가 지금 좀 너무 그 때서요.\n",
      "🔸 Reference: 제가 지금 좀 너무 급해서요.\n"
     ]
    },
    {
     "name": "stderr",
     "output_type": "stream",
     "text": [
      "\r",
      " 81%|████████  | 81/100 [01:16<00:08,  2.18it/s]"
     ]
    },
    {
     "name": "stdout",
     "output_type": "stream",
     "text": [
      "🔹 Predicted: 유명한 광영소나타의 착각 말씀이짖요.\n",
      "🔸 Reference: 유명한 광염 소나타의 작가 말씀이지요?\"\n"
     ]
    },
    {
     "name": "stderr",
     "output_type": "stream",
     "text": [
      "\r",
      " 82%|████████▏ | 82/100 [01:16<00:07,  2.25it/s]"
     ]
    },
    {
     "name": "stdout",
     "output_type": "stream",
     "text": [
      "🔹 Predicted: 시야표자서 병원 빈에는 건 못 참는다.\n",
      "🔸 Reference: 쥐어 터져서 병원비 내는 건 못 참는다\n"
     ]
    },
    {
     "name": "stderr",
     "output_type": "stream",
     "text": [
      "\r",
      " 83%|████████▎ | 83/100 [01:16<00:07,  2.16it/s]"
     ]
    },
    {
     "name": "stdout",
     "output_type": "stream",
     "text": [
      "🔹 Predicted: 여호와 하나님이 애든 동산에서 그의 사람을 내어 보네요.\n",
      "🔸 Reference: 여호와 하나님이 에덴동산에서 그 사람을 내어 보내어\n"
     ]
    },
    {
     "name": "stderr",
     "output_type": "stream",
     "text": [
      "\r",
      " 84%|████████▍ | 84/100 [01:17<00:08,  1.95it/s]"
     ]
    },
    {
     "name": "stdout",
     "output_type": "stream",
     "text": [
      "🔹 Predicted: 자원비씨와 마동혁씨의 윤홍을 긴장이 팔여다라고 생각했거든요.\n",
      "🔸 Reference: 정은배 씨와 마동혁 씨의 음악을 굉장히 다르다고 생각했거든요.\n"
     ]
    },
    {
     "name": "stderr",
     "output_type": "stream",
     "text": [
      "\r",
      " 85%|████████▌ | 85/100 [01:18<00:09,  1.66it/s]"
     ]
    },
    {
     "name": "stdout",
     "output_type": "stream",
     "text": [
      "🔹 Predicted: 그때의 비단을 짓는 듯한 국점의 조소가 들이는 듯하여 그는 넓이 머리 를 시켰다.\n",
      "🔸 Reference: 그때에 비단을 찢는 듯한 옥점의 조소가 들리는 듯하여 그는 얼핏 머리를 숙였다.\n"
     ]
    },
    {
     "name": "stderr",
     "output_type": "stream",
     "text": [
      "\r",
      " 86%|████████▌ | 86/100 [01:19<00:08,  1.63it/s]"
     ]
    },
    {
     "name": "stdout",
     "output_type": "stream",
     "text": [
      "🔹 Predicted: 왠일인지 선비가 울면 할멈은 반반이 따라 온곤하였던 것이다.\n",
      "🔸 Reference: 웬일인지 선비가 울면 할멈은 번번이 따라 울곤 하였던 것이다.\n"
     ]
    },
    {
     "name": "stderr",
     "output_type": "stream",
     "text": [
      "\r",
      " 87%|████████▋ | 87/100 [01:19<00:08,  1.61it/s]"
     ]
    },
    {
     "name": "stdout",
     "output_type": "stream",
     "text": [
      "🔹 Predicted: 여기 편의점은 이식사 시간 나네기를 지나 안 하니까, 필요한 게 있으면 길이 사두세요.\n",
      "🔸 Reference: 여기 편의점은 이십사시간 내내 열지는 않으니까, 필요한 게 있으면 미리 사두세요.\n"
     ]
    },
    {
     "name": "stderr",
     "output_type": "stream",
     "text": [
      "\r",
      " 88%|████████▊ | 88/100 [01:20<00:07,  1.60it/s]"
     ]
    },
    {
     "name": "stdout",
     "output_type": "stream",
     "text": [
      "🔹 Predicted: 하고, 창하는 춘우의 얼굴을 한참이 나무그러미 들여다보았다.\n",
      "🔸 Reference: 하고 창하는 춘우의 얼굴을 한참이나 물끄러미 들여다보았다.\n"
     ]
    },
    {
     "name": "stderr",
     "output_type": "stream",
     "text": [
      "\r",
      " 89%|████████▉ | 89/100 [01:20<00:06,  1.82it/s]"
     ]
    },
    {
     "name": "stdout",
     "output_type": "stream",
     "text": [
      "🔹 Predicted: 여 동생이 정장 어머니를 될 만나보다\n",
      "🔸 Reference: 여동생이 점점 어머니를 닮았나 보다.\n"
     ]
    },
    {
     "name": "stderr",
     "output_type": "stream",
     "text": [
      "\r",
      " 90%|█████████ | 90/100 [01:21<00:05,  1.79it/s]"
     ]
    },
    {
     "name": "stdout",
     "output_type": "stream",
     "text": [
      "🔹 Predicted: 한금정에서는 용산으로 가는 듯한 월급쟁이들이 가득트리 몰리었다.\n",
      "🔸 Reference: 황금정에서는 용산으로 가는 듯한 월급쟁이들이 가득 들이몰리었다.\n"
     ]
    },
    {
     "name": "stderr",
     "output_type": "stream",
     "text": [
      "\r",
      " 91%|█████████ | 91/100 [01:21<00:05,  1.78it/s]"
     ]
    },
    {
     "name": "stdout",
     "output_type": "stream",
     "text": [
      "🔹 Predicted: 이것이 이 좋은 새 옷을 춘다에 대한 흥섬의 흥사였다.\n",
      "🔸 Reference: 이것이 이 좋은 새 옷을 준 데 대한 흥선의 인사였다.\n"
     ]
    },
    {
     "name": "stderr",
     "output_type": "stream",
     "text": [
      "\r",
      " 92%|█████████▏| 92/100 [01:22<00:04,  1.81it/s]"
     ]
    },
    {
     "name": "stdout",
     "output_type": "stream",
     "text": [
      "🔹 Predicted: 모라, 이 사람이 선학을 하는 일에 우리 중 하나가 채쫓으니\n",
      "🔸 Reference: 보라 이 사람이 선악을 아는 일에 우리 중 하나 같이 되었으니\n"
     ]
    },
    {
     "name": "stderr",
     "output_type": "stream",
     "text": [
      "\r",
      " 93%|█████████▎| 93/100 [01:22<00:03,  2.06it/s]"
     ]
    },
    {
     "name": "stdout",
     "output_type": "stream",
     "text": [
      "🔹 Predicted: 자, 여기 없던 상점이 있다시다.\n",
      "🔸 Reference: 자, 여기 어떤 상점이 있다 합시다.\n"
     ]
    },
    {
     "name": "stderr",
     "output_type": "stream",
     "text": [
      "\r",
      " 94%|█████████▍| 94/100 [01:23<00:03,  1.99it/s]"
     ]
    },
    {
     "name": "stdout",
     "output_type": "stream",
     "text": [
      "🔹 Predicted: 그때 그는 교철소에서 고운 갔던 생각을 하고 소름이 죽기쳤다.\n",
      "🔸 Reference: 그때 그는 경찰서에서 고문받던 생각을 하고 소름이 쭉 끼쳤다.\n"
     ]
    },
    {
     "name": "stderr",
     "output_type": "stream",
     "text": [
      "\r",
      " 95%|█████████▌| 95/100 [01:23<00:02,  1.88it/s]"
     ]
    },
    {
     "name": "stdout",
     "output_type": "stream",
     "text": [
      "🔹 Predicted: 일커는 못들은 채하고 있다가, 여전히 또 오편에서 맡아복은하였다.\n",
      "🔸 Reference: 일포는 못 들은 체하고 있다가 여전히 또 우벼 내서 맡아 보곤 하였다.\n"
     ]
    },
    {
     "name": "stderr",
     "output_type": "stream",
     "text": [
      "\r",
      " 96%|█████████▌| 96/100 [01:24<00:02,  1.83it/s]"
     ]
    },
    {
     "name": "stdout",
     "output_type": "stream",
     "text": [
      "🔹 Predicted: 자기의 마음을 대화하지 아니하는 자는 손을 비 무너지고 손격이 없는 것 같은이라\n",
      "🔸 Reference: 자기의 마음을 제어하지 아니하는 자는 성읍이 무너지고 성벽이 없는 것 같으니라\n"
     ]
    },
    {
     "name": "stderr",
     "output_type": "stream",
     "text": [
      " 98%|█████████▊| 98/100 [01:25<00:00,  2.31it/s]"
     ]
    },
    {
     "name": "stdout",
     "output_type": "stream",
     "text": [
      "🔹 Predicted:  그의 가슴에는 또다시 그 실목치가 옥스러 올라온다.\n",
      "🔸 Reference: 그의 가슴에는 또다시 그 실뭉치가 욱 쓸어 올라온다.\n",
      "🔹 Predicted: 食らいこした\n",
      "🔸 Reference: 그럴 것이다.\n"
     ]
    },
    {
     "name": "stderr",
     "output_type": "stream",
     "text": [
      "\r",
      " 99%|█████████▉| 99/100 [01:25<00:00,  1.99it/s]"
     ]
    },
    {
     "name": "stdout",
     "output_type": "stream",
     "text": [
      "🔹 Predicted: 경난이가 몸을 숙그려고 음칠하는 바람에 선비가 툭 퍽 걸어졌다.\n",
      "🔸 Reference: 간난이가 몸을 솟구려고 움찔하는 바람에 선비가 푹 거꾸러졌다.\n"
     ]
    },
    {
     "name": "stderr",
     "output_type": "stream",
     "text": [
      "100%|██████████| 100/100 [01:26<00:00,  1.16it/s]"
     ]
    },
    {
     "name": "stdout",
     "output_type": "stream",
     "text": [
      "🔹 Predicted: 김부가 섭겨 살건유와 물을 그때를 채 힘이는 야호와 신이다.\n",
      "🔸 Reference: 빈부가 섞여 살거니와 무릇 그들을 지으신 이는 여호와시니라\n",
      "✅ KO WER: 0.7224\n",
      "🌍 Language: en\n"
     ]
    },
    {
     "name": "stderr",
     "output_type": "stream",
     "text": [
      "\n",
      "  1%|          | 1/100 [00:00<01:10,  1.41it/s]"
     ]
    },
    {
     "name": "stdout",
     "output_type": "stream",
     "text": [
      "🔹 Predicted: Again, slow, fast crafts could attack and destroy a major warship.\n",
      "🔸 Reference: Again, small fast craft could attack and destroy a major warship.\n"
     ]
    },
    {
     "name": "stderr",
     "output_type": "stream",
     "text": [
      "\r",
      "  2%|▏         | 2/100 [00:01<00:51,  1.92it/s]"
     ]
    },
    {
     "name": "stdout",
     "output_type": "stream",
     "text": [
      "🔹 Predicted: Both the collected and selected parents were edited by Michael Wassenberg.\n",
      "🔸 Reference: Both the Collected and Selected Poems were edited by Michael Rothenberg.\n"
     ]
    },
    {
     "name": "stderr",
     "output_type": "stream",
     "text": [
      "\r",
      "  3%|▎         | 3/100 [00:01<00:43,  2.22it/s]"
     ]
    },
    {
     "name": "stdout",
     "output_type": "stream",
     "text": [
      "🔹 Predicted: The residents moved to higher ground, east of the original site.\n",
      "🔸 Reference: The residents moved to higher ground east of the original site.\n"
     ]
    },
    {
     "name": "stderr",
     "output_type": "stream",
     "text": [
      "\r",
      "  4%|▍         | 4/100 [00:01<00:42,  2.24it/s]"
     ]
    },
    {
     "name": "stdout",
     "output_type": "stream",
     "text": [
      "🔹 Predicted: Mu nigeni annavali sotu nārru.\n",
      "🔸 Reference: We need an end of all such matter.\n"
     ]
    },
    {
     "name": "stderr",
     "output_type": "stream",
     "text": [
      "\r",
      "  5%|▌         | 5/100 [00:02<00:37,  2.51it/s]"
     ]
    },
    {
     "name": "stdout",
     "output_type": "stream",
     "text": [
      "🔹 Predicted: British was born and raised in Ghana.\n",
      "🔸 Reference: Bridget was born and raised in Ghana.\n"
     ]
    },
    {
     "name": "stderr",
     "output_type": "stream",
     "text": [
      "\r",
      "  6%|▌         | 6/100 [00:02<00:39,  2.37it/s]"
     ]
    },
    {
     "name": "stdout",
     "output_type": "stream",
     "text": [
      "🔹 Predicted: The crash is the earliest aviation disaster in both bus, country, and aberrant history.\n",
      "🔸 Reference: The crash is the deadliest aviation disaster in both Basque Country and Iberia history.\n"
     ]
    },
    {
     "name": "stderr",
     "output_type": "stream",
     "text": [
      "\r",
      "  7%|▋         | 7/100 [00:03<00:36,  2.56it/s]"
     ]
    },
    {
     "name": "stdout",
     "output_type": "stream",
     "text": [
      "🔹 Predicted: The pitchroof is planned in the itels.\n",
      "🔸 Reference: The pitched roof is clad in red tiles.\n"
     ]
    },
    {
     "name": "stderr",
     "output_type": "stream",
     "text": [
      "\r",
      "  8%|▊         | 8/100 [00:03<00:39,  2.31it/s]"
     ]
    },
    {
     "name": "stdout",
     "output_type": "stream",
     "text": [
      "🔹 Predicted: Ski-Dapro leads Southeast down the valley of South Poplar and to Greysport.\n",
      "🔸 Reference: Ski Gap Road leads southeast down the valley of South Poplar Run to Claysburg.\n"
     ]
    },
    {
     "name": "stderr",
     "output_type": "stream",
     "text": [
      "\r",
      "  9%|▉         | 9/100 [00:03<00:38,  2.35it/s]"
     ]
    },
    {
     "name": "stdout",
     "output_type": "stream",
     "text": [
      "🔹 Predicted: Egyptian archaeology is one of the branches of Asian Egyptology.\n",
      "🔸 Reference: Egyptian archeology is one of the branches of Egyptology.\n"
     ]
    },
    {
     "name": "stderr",
     "output_type": "stream",
     "text": [
      "\r",
      " 10%|█         | 10/100 [00:04<00:36,  2.46it/s]"
     ]
    },
    {
     "name": "stdout",
     "output_type": "stream",
     "text": [
      "🔹 Predicted: It is often known as \"Beyou Canyon Rd\".\n",
      "🔸 Reference: It is also known as Bayo Canyon Road.\n"
     ]
    },
    {
     "name": "stderr",
     "output_type": "stream",
     "text": [
      "\r",
      " 11%|█         | 11/100 [00:04<00:38,  2.32it/s]"
     ]
    },
    {
     "name": "stdout",
     "output_type": "stream",
     "text": [
      "🔹 Predicted: Other similar explanations include Chihuahua River and a wargulage crossing stream.\n",
      "🔸 Reference: Other similar explanations include \"shoally river\", and \"a rock ledge across a stream\".\n"
     ]
    },
    {
     "name": "stderr",
     "output_type": "stream",
     "text": [
      "\r",
      " 12%|█▏        | 12/100 [00:05<00:38,  2.30it/s]"
     ]
    },
    {
     "name": "stdout",
     "output_type": "stream",
     "text": [
      "🔹 Predicted: Both ensembles were Highland and Transparant in their respective service targets.\n",
      "🔸 Reference: Both ensembles wear highland dress patterned in their respective service tartans.\n"
     ]
    },
    {
     "name": "stderr",
     "output_type": "stream",
     "text": [
      "\r",
      " 13%|█▎        | 13/100 [00:05<00:35,  2.45it/s]"
     ]
    },
    {
     "name": "stdout",
     "output_type": "stream",
     "text": [
      "🔹 Predicted: Other friends are shaped as chess pieces in geometric shapes.\n",
      "🔸 Reference: Other frames are shaped as chess pieces and geometric shapes.\n"
     ]
    },
    {
     "name": "stderr",
     "output_type": "stream",
     "text": [
      "\r",
      " 14%|█▍        | 14/100 [00:14<04:07,  2.88s/it]"
     ]
    },
    {
     "name": "stdout",
     "output_type": "stream",
     "text": [
      "🔹 Predicted: Ai, jo, jau, jau, jau, jau, jau, jau, jau, jau, jau, jau, jau, jau, jau, jau, jau, jau, jau, jau, jau, jau, jau, jau, jau, jau, jau, jau, jau, jau, jau, jau, jau, jau, jau, jau, jau, jau, jau, jau, jau, jau, jau, jau, jau, jau, jau, jau, jau, jau, jau, jau, jau, jau, jau, jau, jau, jau, jau, jau, jau, jau, jau, jau, jau, jau, jau, jau, jau, jau, jau, jau, jau, jau, jau, jau, jau, jau, jau, jau, jau, jau, jau, jau, jau, jau, jau, jau, jau, jau, jau, jau, jau, jau, jau, jau, jau, jau, jau, jau, jau, jau, jau, jau, jau, jau, jau, jau, jau, jau, jau, jau, jau, jau, jau, jau, jau, jau, jau, jau, jau, jau, jau, jau, jau, jau, jau, jau, jau, jau, jau, jau, jau, jau, jau, jau, jau, jau, jau, jau, jau, jau, jau, jau, jau, jau, jau, jau, j\n",
      "🔸 Reference: I wanted to sleep a little longer, he thought.\n"
     ]
    },
    {
     "name": "stderr",
     "output_type": "stream",
     "text": [
      "\r",
      " 15%|█▌        | 15/100 [00:15<03:24,  2.41s/it]"
     ]
    },
    {
     "name": "stdout",
     "output_type": "stream",
     "text": [
      "🔹 Predicted:  ಕೈವೈವೈವೈವೈವೈವೈವೈವೈವೈವೈವೈವೈವೈವೈವೈ\n",
      "🔸 Reference: The people with programs are seated in a very large, elegant room.\n"
     ]
    },
    {
     "name": "stderr",
     "output_type": "stream",
     "text": [
      "\r",
      " 16%|█▌        | 16/100 [00:15<02:28,  1.77s/it]"
     ]
    },
    {
     "name": "stdout",
     "output_type": "stream",
     "text": [
      "🔹 Predicted: A man is drilling out in his backyard.\n",
      "🔸 Reference: A man is grilling out in his backyard.\n"
     ]
    },
    {
     "name": "stderr",
     "output_type": "stream",
     "text": [
      "\r",
      " 17%|█▋        | 17/100 [00:16<01:55,  1.40s/it]"
     ]
    },
    {
     "name": "stdout",
     "output_type": "stream",
     "text": [
      "🔹 Predicted: A lachblach dog is getting the first pee when the nachher goes for a short napkin.\n",
      "🔸 Reference: A large black dog is catching a Frisbee while a large brown dog follows shortly after.\n"
     ]
    },
    {
     "name": "stderr",
     "output_type": "stream",
     "text": [
      "\r",
      " 18%|█▊        | 18/100 [00:16<01:28,  1.09s/it]"
     ]
    },
    {
     "name": "stdout",
     "output_type": "stream",
     "text": [
      "🔹 Predicted: Auch deep eraschenisschen sind mühsam.\n",
      "🔸 Reference: Arctic rescue missions were mounted as necessary.\n"
     ]
    },
    {
     "name": "stderr",
     "output_type": "stream",
     "text": [
      "\r",
      " 19%|█▉        | 19/100 [00:17<01:19,  1.01it/s]"
     ]
    },
    {
     "name": "stdout",
     "output_type": "stream",
     "text": [
      "🔹 Predicted: かあたつ、あるいし、さまざい、ばあき、ん、どん、で、ぱ、い、し、し、\n",
      "🔸 Reference: Carter said racism played a part in the decision.\n"
     ]
    },
    {
     "name": "stderr",
     "output_type": "stream",
     "text": [
      "\r",
      " 20%|██        | 20/100 [00:17<01:04,  1.24it/s]"
     ]
    },
    {
     "name": "stdout",
     "output_type": "stream",
     "text": [
      "🔹 Predicted: Its more or less is the typical subject-object world.\n",
      "🔸 Reference: Its word order is the typical subject-object-verb.\n"
     ]
    },
    {
     "name": "stderr",
     "output_type": "stream",
     "text": [
      "\r",
      " 21%|██        | 21/100 [00:19<01:18,  1.00it/s]"
     ]
    },
    {
     "name": "stdout",
     "output_type": "stream",
     "text": [
      "🔹 Predicted:  ವರಿರವರಿರವರಿರವರಿರವರಿರವರಿರವರಿರವರಿರವರಿ\n",
      "🔸 Reference: Gwen commits herself to restoring her relationship with her sister.\n"
     ]
    },
    {
     "name": "stderr",
     "output_type": "stream",
     "text": [
      "\r",
      " 22%|██▏       | 22/100 [00:19<01:03,  1.22it/s]"
     ]
    },
    {
     "name": "stdout",
     "output_type": "stream",
     "text": [
      "🔹 Predicted: Douwlete the Blight I thought she was young mother.\n",
      "🔸 Reference: To which he replies: I thought she was your mother!\n"
     ]
    },
    {
     "name": "stderr",
     "output_type": "stream",
     "text": [
      "\r",
      " 23%|██▎       | 23/100 [00:20<00:56,  1.36it/s]"
     ]
    },
    {
     "name": "stdout",
     "output_type": "stream",
     "text": [
      "🔹 Predicted: Maisa beidnāja, jenu esi bleru vajag ima.\n",
      "🔸 Reference: Later that night Jill is kidnapped by gill men.\n"
     ]
    },
    {
     "name": "stderr",
     "output_type": "stream",
     "text": [
      "\r",
      " 24%|██▍       | 24/100 [00:20<00:45,  1.67it/s]"
     ]
    },
    {
     "name": "stdout",
     "output_type": "stream",
     "text": [
      "🔹 Predicted: Empty walls make the most noise.\n",
      "🔸 Reference: Empty barrels make the most noise.\n"
     ]
    },
    {
     "name": "stderr",
     "output_type": "stream",
     "text": [
      "\r",
      " 25%|██▌       | 25/100 [00:20<00:40,  1.87it/s]"
     ]
    },
    {
     "name": "stdout",
     "output_type": "stream",
     "text": [
      "🔹 Predicted: When the carpet and the curtains caught fire, it was getting warm.\n",
      "🔸 Reference: When the carpet and the curtains caught fire, it was getting warm.\n"
     ]
    },
    {
     "name": "stderr",
     "output_type": "stream",
     "text": [
      "\r",
      " 26%|██▌       | 26/100 [00:21<00:37,  1.99it/s]"
     ]
    },
    {
     "name": "stdout",
     "output_type": "stream",
     "text": [
      "🔹 Predicted: Dumple.Where the Asian bumpers fort is located is named after.\n",
      "🔸 Reference: Bampur, where the ancient Bampur fort is located, is nearby.\n"
     ]
    },
    {
     "name": "stderr",
     "output_type": "stream",
     "text": [
      "\r",
      " 27%|██▋       | 27/100 [00:21<00:39,  1.87it/s]"
     ]
    },
    {
     "name": "stdout",
     "output_type": "stream",
     "text": [
      "🔹 Predicted: The term \"Otangu\" in Japanese can refer to an infariety of \"Beltverstahl\".\n",
      "🔸 Reference: The term \"odango\" in Japanese can refer to any variety of bun hairstyle.\n"
     ]
    },
    {
     "name": "stderr",
     "output_type": "stream",
     "text": [
      "\r",
      " 28%|██▊       | 28/100 [00:22<00:34,  2.09it/s]"
     ]
    },
    {
     "name": "stdout",
     "output_type": "stream",
     "text": [
      "🔹 Predicted: The American Theater Hall of Fame is located in the lobby.\n",
      "🔸 Reference: The American Theatre Hall of Fame is located in the lobby.\n"
     ]
    },
    {
     "name": "stderr",
     "output_type": "stream",
     "text": [
      "\r",
      " 29%|██▉       | 29/100 [00:23<00:45,  1.55it/s]"
     ]
    },
    {
     "name": "stdout",
     "output_type": "stream",
     "text": [
      "🔹 Predicted:  ಕಿಕಿಕಿಕಿಕಿಕಿಕಿಕಿಕಿಕಿಕಿಕಿ\n",
      "🔸 Reference: I've always wanted to do this!\n"
     ]
    },
    {
     "name": "stderr",
     "output_type": "stream",
     "text": [
      "\r",
      " 30%|███       | 30/100 [00:23<00:37,  1.87it/s]"
     ]
    },
    {
     "name": "stdout",
     "output_type": "stream",
     "text": [
      "🔹 Predicted:  her opponent is  \n",
      "🔸 Reference: Her opponent is Councilor Irwin Tieng.\n"
     ]
    },
    {
     "name": "stderr",
     "output_type": "stream",
     "text": [
      "\r",
      " 31%|███       | 31/100 [00:24<00:38,  1.77it/s]"
     ]
    },
    {
     "name": "stdout",
     "output_type": "stream",
     "text": [
      "🔹 Predicted: A word goes it is \"Sweeten-microbio\" a larger and a sturdier \"micro-low\".\n",
      "🔸 Reference: Her work considers soil microbial ecology and the study of mycorrhizal fungi.\n"
     ]
    },
    {
     "name": "stderr",
     "output_type": "stream",
     "text": [
      "\r",
      " 32%|███▏      | 32/100 [00:24<00:35,  1.90it/s]"
     ]
    },
    {
     "name": "stdout",
     "output_type": "stream",
     "text": [
      "🔹 Predicted: 이기의 세계기プレス는 슈프를 하였다.\n",
      "🔸 Reference: He is \"City Press\"s chief correspondent in Mpumalanga.\n"
     ]
    },
    {
     "name": "stderr",
     "output_type": "stream",
     "text": [
      "\r",
      " 33%|███▎      | 33/100 [00:24<00:31,  2.10it/s]"
     ]
    },
    {
     "name": "stdout",
     "output_type": "stream",
     "text": [
      "🔹 Predicted: Lolish desliste these planes as we pause.\n",
      "🔸 Reference: English dismissed these claims as being false.\n"
     ]
    },
    {
     "name": "stderr",
     "output_type": "stream",
     "text": [
      "\r",
      " 34%|███▍      | 34/100 [00:25<00:32,  2.03it/s]"
     ]
    },
    {
     "name": "stdout",
     "output_type": "stream",
     "text": [
      "🔹 Predicted: Aquias released westward, liberty of the region, and a number of them married and were fixed.\n",
      "🔸 Reference: Acquires Mase Westpac Limited, which is a member of the London Gold Fixing.\n"
     ]
    },
    {
     "name": "stderr",
     "output_type": "stream",
     "text": [
      "\r",
      " 35%|███▌      | 35/100 [00:26<00:35,  1.84it/s]"
     ]
    },
    {
     "name": "stdout",
     "output_type": "stream",
     "text": [
      "🔹 Predicted: The key to this was the cognisible, by the way, to the other white snake from the below the in-sloof.\n",
      "🔸 Reference: For decades it was recognizable by the white, ladder-like snake on the building's roof.\n"
     ]
    },
    {
     "name": "stderr",
     "output_type": "stream",
     "text": [
      "\r",
      " 36%|███▌      | 36/100 [00:26<00:30,  2.08it/s]"
     ]
    },
    {
     "name": "stdout",
     "output_type": "stream",
     "text": [
      "🔹 Predicted: Amortis the counterparts toadkast.\n",
      "🔸 Reference: A mold is the counterpart to a cast.\n"
     ]
    },
    {
     "name": "stderr",
     "output_type": "stream",
     "text": [
      "\r",
      " 37%|███▋      | 37/100 [00:26<00:29,  2.15it/s]"
     ]
    },
    {
     "name": "stdout",
     "output_type": "stream",
     "text": [
      "🔹 Predicted: ತ﹌ತ﹌ತ﹌ತ\n",
      "🔸 Reference: He also enjoys judo.\n"
     ]
    },
    {
     "name": "stderr",
     "output_type": "stream",
     "text": [
      "\r",
      " 38%|███▊      | 38/100 [00:27<00:30,  2.02it/s]"
     ]
    },
    {
     "name": "stdout",
     "output_type": "stream",
     "text": [
      "🔹 Predicted:  Olleitirērī unīts var得gānslajst on derhernats.\n",
      "🔸 Reference: All artillery units wear the \"Gun Sight\" on their helmets.\n"
     ]
    },
    {
     "name": "stderr",
     "output_type": "stream",
     "text": [
      "\r",
      " 39%|███▉      | 39/100 [00:27<00:28,  2.16it/s]"
     ]
    },
    {
     "name": "stdout",
     "output_type": "stream",
     "text": [
      "🔹 Predicted: I would not recommend tradition, the article, without the data set.\n",
      "🔸 Reference: I would not recommend publishing the article without the dataset.\n"
     ]
    },
    {
     "name": "stderr",
     "output_type": "stream",
     "text": [
      "\r",
      " 40%|████      | 40/100 [00:28<00:24,  2.47it/s]"
     ]
    },
    {
     "name": "stdout",
     "output_type": "stream",
     "text": [
      "🔹 Predicted: Wattahawley, A.\n",
      "🔸 Reference: What's the idea here?\n"
     ]
    },
    {
     "name": "stderr",
     "output_type": "stream",
     "text": [
      "\r",
      " 41%|████      | 41/100 [00:28<00:26,  2.21it/s]"
     ]
    },
    {
     "name": "stdout",
     "output_type": "stream",
     "text": [
      "🔹 Predicted: ವಿವಿವಿವಿವಿವಿ\n",
      "🔸 Reference: You got plenty of money?\n"
     ]
    },
    {
     "name": "stderr",
     "output_type": "stream",
     "text": [
      "\r",
      " 42%|████▏     | 42/100 [00:28<00:22,  2.54it/s]"
     ]
    },
    {
     "name": "stdout",
     "output_type": "stream",
     "text": [
      "🔹 Predicted: There is no flying against fate.\n",
      "🔸 Reference: There is no fighting against fate\n"
     ]
    },
    {
     "name": "stderr",
     "output_type": "stream",
     "text": [
      "\r",
      " 43%|████▎     | 43/100 [00:29<00:19,  2.87it/s]"
     ]
    },
    {
     "name": "stdout",
     "output_type": "stream",
     "text": [
      "🔹 Predicted: Nothing is the matter with me.\n",
      "🔸 Reference: Nothing's the matter with me.\n"
     ]
    },
    {
     "name": "stderr",
     "output_type": "stream",
     "text": [
      "\r",
      " 44%|████▍     | 44/100 [00:29<00:22,  2.51it/s]"
     ]
    },
    {
     "name": "stdout",
     "output_type": "stream",
     "text": [
      "🔹 Predicted: Nagal's wisdom banor is a Isabellus just when you explain the situation to him.\n",
      "🔸 Reference: Not that I was listening, but I noticed that you sounded really stressed when you were explaining the situation to him.\n"
     ]
    },
    {
     "name": "stderr",
     "output_type": "stream",
     "text": [
      "\r",
      " 45%|████▌     | 45/100 [00:30<00:20,  2.68it/s]"
     ]
    },
    {
     "name": "stdout",
     "output_type": "stream",
     "text": [
      "🔹 Predicted: In it, I want this human as my face.\n",
      "🔸 Reference: I want it as soon as possible.\n"
     ]
    },
    {
     "name": "stderr",
     "output_type": "stream",
     "text": [
      "\r",
      " 46%|████▌     | 46/100 [00:30<00:21,  2.55it/s]"
     ]
    },
    {
     "name": "stdout",
     "output_type": "stream",
     "text": [
      "🔹 Predicted: We can reduce the quality of the anisotropic filter to gain some performance.\n",
      "🔸 Reference: You can reduce the quality of the anisotropic filter to gain some performance.\n"
     ]
    },
    {
     "name": "stderr",
     "output_type": "stream",
     "text": [
      "\r",
      " 47%|████▋     | 47/100 [00:31<00:23,  2.21it/s]"
     ]
    },
    {
     "name": "stdout",
     "output_type": "stream",
     "text": [
      "🔹 Predicted: The sedentaries persuaded the nobles of his dialysis to embo-churches and monastase.\n",
      "🔸 Reference: Desiderius persuaded the nobles of his diocese to endow churches and monasteries.\n"
     ]
    },
    {
     "name": "stderr",
     "output_type": "stream",
     "text": [
      "\r",
      " 48%|████▊     | 48/100 [00:31<00:22,  2.32it/s]"
     ]
    },
    {
     "name": "stdout",
     "output_type": "stream",
     "text": [
      "🔹 Predicted: Good afternoon. There are yetlames to have miscarried.\n",
      "🔸 Reference: To that end, Talia claims to have miscarried.\n"
     ]
    },
    {
     "name": "stderr",
     "output_type": "stream",
     "text": [
      "\r",
      " 49%|████▉     | 49/100 [00:32<00:25,  1.98it/s]"
     ]
    },
    {
     "name": "stdout",
     "output_type": "stream",
     "text": [
      "🔹 Predicted: In Müsichis, the commission is called Müsichis Vocal Histonia, or simply Müsichis Histonia.\n",
      "🔸 Reference: In musicians, the condition is called \"musician's focal dystonia\", or simply, \"musician's dystonia\".\n"
     ]
    },
    {
     "name": "stderr",
     "output_type": "stream",
     "text": [
      "\r",
      " 50%|█████     | 50/100 [00:32<00:21,  2.27it/s]"
     ]
    },
    {
     "name": "stdout",
     "output_type": "stream",
     "text": [
      "🔹 Predicted: He said that everything has its own destiny.\n",
      "🔸 Reference: He said that everything has its own destiny.\n"
     ]
    },
    {
     "name": "stderr",
     "output_type": "stream",
     "text": [
      "\r",
      " 51%|█████     | 51/100 [00:32<00:22,  2.20it/s]"
     ]
    },
    {
     "name": "stdout",
     "output_type": "stream",
     "text": [
      "🔹 Predicted: Whenever he saw the sea or fire, he felt silent and pressed by the elemental force.\n",
      "🔸 Reference: Whenever he saw the sea, or a fire, he fell silent, impressed by their elemental force.\n"
     ]
    },
    {
     "name": "stderr",
     "output_type": "stream",
     "text": [
      "\r",
      " 52%|█████▏    | 52/100 [00:33<00:22,  2.11it/s]"
     ]
    },
    {
     "name": "stdout",
     "output_type": "stream",
     "text": [
      "🔹 Predicted: He later went on to school three more centuries against the Sehwzacharf family.\n",
      "🔸 Reference: He later went on to score two more centuries against the South Africans.\n"
     ]
    },
    {
     "name": "stderr",
     "output_type": "stream",
     "text": [
      "\r",
      " 53%|█████▎    | 53/100 [00:34<00:25,  1.84it/s]"
     ]
    },
    {
     "name": "stdout",
     "output_type": "stream",
     "text": [
      "🔹 Predicted: Sasie soloids evoukts un gārĪa silnifons, sučas pisteru zuras.\n",
      "🔸 Reference: Plesiosauroids evolved from earlier, similar forms such as pistosaurs.\n"
     ]
    },
    {
     "name": "stderr",
     "output_type": "stream",
     "text": [
      "\r",
      " 54%|█████▍    | 54/100 [00:34<00:24,  1.90it/s]"
     ]
    },
    {
     "name": "stdout",
     "output_type": "stream",
     "text": [
      "🔹 Predicted: However, the action of the reaction is still not followed, it is a simple pattern.\n",
      "🔸 Reference: However, certain reactants do not follow this simple pattern.\n"
     ]
    },
    {
     "name": "stderr",
     "output_type": "stream",
     "text": [
      "\r",
      " 55%|█████▌    | 55/100 [00:34<00:20,  2.16it/s]"
     ]
    },
    {
     "name": "stdout",
     "output_type": "stream",
     "text": [
      "🔹 Predicted: The tournament features four-eight team regions.\n",
      "🔸 Reference: The tournament features four eight-team regions.\n"
     ]
    },
    {
     "name": "stderr",
     "output_type": "stream",
     "text": [
      "\r",
      " 56%|█████▌    | 56/100 [00:35<00:19,  2.20it/s]"
     ]
    },
    {
     "name": "stdout",
     "output_type": "stream",
     "text": [
      "🔹 Predicted: Shalter Campbell succeeded by younger brothers still, Barrington and Artfield.\n",
      "🔸 Reference: Sholto Campbell, succeeded by younger brothers still, Barrington and Archibald.\n"
     ]
    },
    {
     "name": "stderr",
     "output_type": "stream",
     "text": [
      "\r",
      " 57%|█████▋    | 57/100 [00:35<00:19,  2.16it/s]"
     ]
    },
    {
     "name": "stdout",
     "output_type": "stream",
     "text": [
      "🔹 Predicted: The story focuses on the history of the villainous wizard, Marfen Bordtelt.\n",
      "🔸 Reference: The story focuses on the history of the villainous wizard Marten Broadcloak.\n"
     ]
    },
    {
     "name": "stderr",
     "output_type": "stream",
     "text": [
      "\r",
      " 58%|█████▊    | 58/100 [00:36<00:21,  1.97it/s]"
     ]
    },
    {
     "name": "stdout",
     "output_type": "stream",
     "text": [
      "🔹 Predicted:  Mulsi Mulsi Vlodzfoua un Aitbresi Internešanolas.\n",
      "🔸 Reference: Mosby mostly wrote for United Press International.\n"
     ]
    },
    {
     "name": "stderr",
     "output_type": "stream",
     "text": [
      "\r",
      " 59%|█████▉    | 59/100 [00:37<00:21,  1.90it/s]"
     ]
    },
    {
     "name": "stdout",
     "output_type": "stream",
     "text": [
      "🔹 Predicted:  ಕಿಕಿಕಿಕಿಕಿಕಿ\n",
      "🔸 Reference: The facilities are very basic.\n"
     ]
    },
    {
     "name": "stderr",
     "output_type": "stream",
     "text": [
      "\r",
      " 60%|██████    | 60/100 [00:37<00:20,  1.91it/s]"
     ]
    },
    {
     "name": "stdout",
     "output_type": "stream",
     "text": [
      "🔹 Predicted: The figure of a lectorate distinues a lectorate or chamber of deputies.\n",
      "🔸 Reference: The Federal Electoral Districts elect the federal Chamber of Deputies.\n"
     ]
    },
    {
     "name": "stderr",
     "output_type": "stream",
     "text": [
      "\r",
      " 61%|██████    | 61/100 [00:37<00:19,  2.03it/s]"
     ]
    },
    {
     "name": "stdout",
     "output_type": "stream",
     "text": [
      "🔹 Predicted: I can't always pick into customers much, mostly because of my limited German.\n",
      "🔸 Reference: I tend to avoid speaking to customers much, mostly because of my limited German.\n"
     ]
    },
    {
     "name": "stderr",
     "output_type": "stream",
     "text": [
      "\r",
      " 62%|██████▏   | 62/100 [00:38<00:21,  1.73it/s]"
     ]
    },
    {
     "name": "stdout",
     "output_type": "stream",
     "text": [
      "🔹 Predicted: Aktais cinnamonu stikts araktik filmu skilu un dienuja un internasjonā istambol filmfestu.\n",
      "🔸 Reference: Atlas Cinema hosted selected films during the annual International Istanbul Film Festival.\n"
     ]
    },
    {
     "name": "stderr",
     "output_type": "stream",
     "text": [
      "\r",
      " 63%|██████▎   | 63/100 [00:39<00:20,  1.76it/s]"
     ]
    },
    {
     "name": "stdout",
     "output_type": "stream",
     "text": [
      "🔹 Predicted: ಕಿದ﹌ಕರ﹌ಕರ﹌\n",
      "🔸 Reference: The book covers several issues in the political and historical scenarios of Nepal.\n"
     ]
    },
    {
     "name": "stderr",
     "output_type": "stream",
     "text": [
      "\r",
      " 64%|██████▍   | 64/100 [00:39<00:18,  1.96it/s]"
     ]
    },
    {
     "name": "stdout",
     "output_type": "stream",
     "text": [
      "🔹 Predicted: Eyton get memory of key player computations of the slogan.\n",
      "🔸 Reference: Ageing and memory are key preoccupations of this novel.\n"
     ]
    },
    {
     "name": "stderr",
     "output_type": "stream",
     "text": [
      "\r",
      " 65%|██████▌   | 65/100 [00:40<00:15,  2.19it/s]"
     ]
    },
    {
     "name": "stdout",
     "output_type": "stream",
     "text": [
      "🔹 Predicted: The Murphy was almost ready to cry with disappointments.\n",
      "🔸 Reference: Dorothy was almost ready to cry with disappointment.\n"
     ]
    },
    {
     "name": "stderr",
     "output_type": "stream",
     "text": [
      "\r",
      " 66%|██████▌   | 66/100 [00:40<00:16,  2.06it/s]"
     ]
    },
    {
     "name": "stdout",
     "output_type": "stream",
     "text": [
      "🔹 Predicted: Watgai zunlens would have in the name to her a farkigal house.\n",
      "🔸 Reference: What guidelines will help in building cheaper, affordable houses?\n"
     ]
    },
    {
     "name": "stderr",
     "output_type": "stream",
     "text": [
      "\r",
      " 67%|██████▋   | 67/100 [00:40<00:14,  2.27it/s]"
     ]
    },
    {
     "name": "stdout",
     "output_type": "stream",
     "text": [
      "🔹 Predicted:  \"Niemiter\" - the queen repeated.\n",
      "🔸 Reference: ‘Nearly there!’ the Queen repeated.\n"
     ]
    },
    {
     "name": "stderr",
     "output_type": "stream",
     "text": [
      "\r",
      " 68%|██████▊   | 68/100 [00:41<00:12,  2.61it/s]"
     ]
    },
    {
     "name": "stdout",
     "output_type": "stream",
     "text": [
      "🔹 Predicted: A couple look at some artwork.\n",
      "🔸 Reference: A couple look at some artwork\n"
     ]
    },
    {
     "name": "stderr",
     "output_type": "stream",
     "text": [
      "\r",
      " 69%|██████▉   | 69/100 [00:41<00:13,  2.30it/s]"
     ]
    },
    {
     "name": "stdout",
     "output_type": "stream",
     "text": [
      "🔹 Predicted: Philip was standing under the bee, watching the waves roll after rocks and the splashes of spoo.\n",
      "🔸 Reference: Philip was standing on the levee watching the waves roll off the rocks and the splashes of spume.\n"
     ]
    },
    {
     "name": "stderr",
     "output_type": "stream",
     "text": [
      "\r",
      " 70%|███████   | 70/100 [00:42<00:13,  2.29it/s]"
     ]
    },
    {
     "name": "stdout",
     "output_type": "stream",
     "text": [
      "🔹 Predicted: In short, those nine were embraceants and a garland, carrying a pole.\n",
      "🔸 Reference: A shirtless man wearing bracelets and a garland carrying a pole\n"
     ]
    },
    {
     "name": "stderr",
     "output_type": "stream",
     "text": [
      "\r",
      " 71%|███████   | 71/100 [00:50<01:23,  2.87s/it]"
     ]
    },
    {
     "name": "stdout",
     "output_type": "stream",
     "text": [
      "🔹 Predicted: これらの中にあるものが、ブリン、リン、リン、リン、リン、リン、リン、リン、リン、リン、リン、リン、リン、リン、リン、リン、リン、リン、リン、リン、リン、リン、リン、リン、リン、リン、リン、リン、リン、リン、リン、リン、リン、リン、リン、リン、リン、リン、リン、リン、リン、リン、リン、リン、リン、リン、リン、リン、リン、リン、リン、リン、リン、リン、リン、リン、リン、リン、リン、リン、リン、リン、リン、リン、リン、リン、リン、リン、リン、リン、リン、リン、リン、リン、リン、リン、リン、リン、リン、リン、リン、リン、リン、リン、リン、リン、リン、リン、リン、リン、リン、リン、リン、リン、リン、リン、リン、リン、リン、リン、リン、リン、リン、リン、リン、リン、リン、リン、リン、リン、リン、リン、リン、リン、リン、リン、リン、リン、リン、リン、リン、リン、リン、リン、リン、リン、リン、リン、リン、リン、リン、リン、リン、リン、リン、リン、リン、リン、リン、リン、リン、リン、リン、リン、リン\n",
      "🔸 Reference: The spot on the blotter was made by green ink.\n"
     ]
    },
    {
     "name": "stderr",
     "output_type": "stream",
     "text": [
      "\r",
      " 72%|███████▏  | 72/100 [00:51<00:59,  2.14s/it]"
     ]
    },
    {
     "name": "stdout",
     "output_type": "stream",
     "text": [
      "🔹 Predicted: As years of research and habits and goals, the strange words and the laboratory equipment.\n",
      "🔸 Reference: The years of research, the magic symbols, the strange words and the laboratory equipment...\n"
     ]
    },
    {
     "name": "stderr",
     "output_type": "stream",
     "text": [
      "\r",
      " 73%|███████▎  | 73/100 [00:51<00:44,  1.63s/it]"
     ]
    },
    {
     "name": "stdout",
     "output_type": "stream",
     "text": [
      "🔹 Predicted: メニチルトン、和ってキャラメンダーパス、\n",
      "🔸 Reference: Many children walk together on a dirt path.\n"
     ]
    },
    {
     "name": "stderr",
     "output_type": "stream",
     "text": [
      "\r",
      " 74%|███████▍  | 74/100 [00:52<00:33,  1.31s/it]"
     ]
    },
    {
     "name": "stdout",
     "output_type": "stream",
     "text": [
      "🔹 Predicted: To ladies, Gleedewaarley and the guitar on the street turned to pass her bars.\n",
      "🔸 Reference: Two ladies play the violin and the guitar on the street to entertain the passer byes.\n"
     ]
    },
    {
     "name": "stderr",
     "output_type": "stream",
     "text": [
      "\r",
      " 75%|███████▌  | 75/100 [00:52<00:27,  1.08s/it]"
     ]
    },
    {
     "name": "stdout",
     "output_type": "stream",
     "text": [
      "🔹 Predicted: A young, thuskin boy in a lotts shirt, sitting next to a lotts pearl of sandals.\n",
      "🔸 Reference: A young darkskinned boy in a large shirt sitting next to a large pile of sandals.\n"
     ]
    },
    {
     "name": "stderr",
     "output_type": "stream",
     "text": [
      "\r",
      " 76%|███████▌  | 76/100 [00:53<00:20,  1.16it/s]"
     ]
    },
    {
     "name": "stdout",
     "output_type": "stream",
     "text": [
      "🔹 Predicted: The student may work in dependentry or collaborate with others.\n",
      "🔸 Reference: The student may work independently or collaborate with others.\n"
     ]
    },
    {
     "name": "stderr",
     "output_type": "stream",
     "text": [
      "\r",
      " 77%|███████▋  | 77/100 [00:53<00:16,  1.38it/s]"
     ]
    },
    {
     "name": "stdout",
     "output_type": "stream",
     "text": [
      "🔹 Predicted: They went on to complete his graduation whilst serving in the Indian's area.\n",
      "🔸 Reference: He went on to complete his graduation while serving in the Indian Army.\n"
     ]
    },
    {
     "name": "stderr",
     "output_type": "stream",
     "text": [
      "\r",
      " 78%|███████▊  | 78/100 [00:54<00:15,  1.42it/s]"
     ]
    },
    {
     "name": "stdout",
     "output_type": "stream",
     "text": [
      "🔹 Predicted: テクリルプラスアンジェルリーダーシャッパーマイカーカランス\n",
      "🔸 Reference: The group was under the leadership of Michael Collins.\n"
     ]
    },
    {
     "name": "stderr",
     "output_type": "stream",
     "text": [
      "\r",
      " 79%|███████▉  | 79/100 [00:54<00:12,  1.63it/s]"
     ]
    },
    {
     "name": "stdout",
     "output_type": "stream",
     "text": [
      "🔹 Predicted: The Greenlaw Kendiaters Barfew Bowser does not mean interest.\n",
      "🔸 Reference: The green lock in the address bar of your browser does NOT mean you can trust the site.\n"
     ]
    },
    {
     "name": "stderr",
     "output_type": "stream",
     "text": [
      "\r",
      " 80%|████████  | 80/100 [01:02<00:59,  2.96s/it]"
     ]
    },
    {
     "name": "stdout",
     "output_type": "stream",
     "text": [
      "🔹 Predicted:  ವರito ವರito ವರito ವರito ವರito ವರito ವರito ವರito ವರito ವರito ವರito ವರito ವರito ವರito ವರito ವರito ವರito ವರito ವರito ವರito ವರito ವರito ವರito ವರito ವರito ವರito ವರito ವರito ವರito ವರito ವರito ವರito ವರito ವರito ವರito ವರito ವರito ವರito ವರito ವರito ವರito ವರito ವರito ವರito ವರito ವರito ವರito ವರito ವರito ವರito ವರito ವರito ವರito ವರito ವರito ವರito ವರito ವರito ವರito ವರito ವರito ವರito ವರito ವರito ವರito ವರito ವರito ವರito ವರito ವರito ವರito ವರito ವರito ವರito ವರito ವರito ವರito ವರito ವರito ವರ ರito ವರ ರ ರ ರ ರ ರ ರ ರ ರ ರ ರ ರ ರ ರ ರ ರ ರ ರ ರ ರ\n",
      "🔸 Reference: While you're still champion!\n"
     ]
    },
    {
     "name": "stderr",
     "output_type": "stream",
     "text": [
      "\r",
      " 81%|████████  | 81/100 [01:03<00:42,  2.22s/it]"
     ]
    },
    {
     "name": "stdout",
     "output_type": "stream",
     "text": [
      "🔹 Predicted: As you just read the podium, this old unlanded certain decisions were not most likely.\n",
      "🔸 Reference: If you just read the code, you'll miss out on why I made certain decisions.\n"
     ]
    },
    {
     "name": "stderr",
     "output_type": "stream",
     "text": [
      "\r",
      " 82%|████████▏ | 82/100 [01:03<00:30,  1.70s/it]"
     ]
    },
    {
     "name": "stdout",
     "output_type": "stream",
     "text": [
      "🔹 Predicted: Friar Fox is probably the easiest to get started with, although I prefer a chrome.\n",
      "🔸 Reference: Firefox is probably the easiest to get started with, although I prefer Chrome.\n"
     ]
    },
    {
     "name": "stderr",
     "output_type": "stream",
     "text": [
      "\r",
      " 83%|████████▎ | 83/100 [01:04<00:23,  1.40s/it]"
     ]
    },
    {
     "name": "stdout",
     "output_type": "stream",
     "text": [
      "🔹 Predicted: Ari蜘蛛駅上駅所でまいき一人とおばすりであすり、\n",
      "🔸 Reference: Thought there might be one left over.\n"
     ]
    },
    {
     "name": "stderr",
     "output_type": "stream",
     "text": [
      "\r",
      " 84%|████████▍ | 84/100 [01:05<00:17,  1.11s/it]"
     ]
    },
    {
     "name": "stdout",
     "output_type": "stream",
     "text": [
      "🔹 Predicted: Mere asked his friend, Mark Solomon, to grow up as vocalist.\n",
      "🔸 Reference: Minier asked his friend Mark Salomon to try out as vocalist.\n"
     ]
    },
    {
     "name": "stderr",
     "output_type": "stream",
     "text": [
      "\r",
      " 85%|████████▌ | 85/100 [01:05<00:13,  1.12it/s]"
     ]
    },
    {
     "name": "stdout",
     "output_type": "stream",
     "text": [
      "🔹 Predicted: Atlantic City students saw Atlantic Ward in the early modern period.\n",
      "🔸 Reference: Atlantic history studies the Atlantic World in the early modern period.\n"
     ]
    },
    {
     "name": "stderr",
     "output_type": "stream",
     "text": [
      "\r",
      " 86%|████████▌ | 86/100 [01:05<00:11,  1.27it/s]"
     ]
    },
    {
     "name": "stdout",
     "output_type": "stream",
     "text": [
      "🔹 Predicted: In science, it is also used within the \"Marebride of the\" practitioners' order.\n",
      "🔸 Reference: In France, it is also used within the male branch of the Carthusian Order.\n"
     ]
    },
    {
     "name": "stderr",
     "output_type": "stream",
     "text": [
      "\r",
      " 87%|████████▋ | 87/100 [01:06<00:08,  1.54it/s]"
     ]
    },
    {
     "name": "stdout",
     "output_type": "stream",
     "text": [
      "🔹 Predicted: She was buried at Danefroffort.\n",
      "🔸 Reference: She was buried at the in Frankfurt.\n"
     ]
    },
    {
     "name": "stderr",
     "output_type": "stream",
     "text": [
      "\r",
      " 88%|████████▊ | 88/100 [01:06<00:07,  1.65it/s]"
     ]
    },
    {
     "name": "stdout",
     "output_type": "stream",
     "text": [
      "🔹 Predicted: She became the minister for Jordan's Bolton-The-Wasserai-Kabinett.\n",
      "🔸 Reference: She became the Minister for Youth and Sports in the Bhattarai cabinet.\n"
     ]
    },
    {
     "name": "stderr",
     "output_type": "stream",
     "text": [
      "\r",
      " 89%|████████▉ | 89/100 [01:07<00:06,  1.74it/s]"
     ]
    },
    {
     "name": "stdout",
     "output_type": "stream",
     "text": [
      "🔹 Predicted: There are seven or eight stannins and two stanninotes arranged around the two cables.\n",
      "🔸 Reference: There are seven or eight stamens and two staminodes arranged around the two carpels.\n"
     ]
    },
    {
     "name": "stderr",
     "output_type": "stream",
     "text": [
      "\r",
      " 90%|█████████ | 90/100 [01:07<00:04,  2.00it/s]"
     ]
    },
    {
     "name": "stdout",
     "output_type": "stream",
     "text": [
      "🔹 Predicted: I could have happily invented Mimichilburg.\n",
      "🔸 Reference: I could die happily, and that made me feel good.\n"
     ]
    },
    {
     "name": "stderr",
     "output_type": "stream",
     "text": [
      "\r",
      " 91%|█████████ | 91/100 [01:07<00:04,  2.16it/s]"
     ]
    },
    {
     "name": "stdout",
     "output_type": "stream",
     "text": [
      "🔹 Predicted: A lady with glasses holds a baby who is looking up at her.\n",
      "🔸 Reference: A lady with glasses holds a baby who is looking up at her.\n"
     ]
    },
    {
     "name": "stderr",
     "output_type": "stream",
     "text": [
      "\r",
      " 92%|█████████▏| 92/100 [01:08<00:03,  2.34it/s]"
     ]
    },
    {
     "name": "stdout",
     "output_type": "stream",
     "text": [
      "🔹 Predicted: The person in dark clothes is walking down to the subway.\n",
      "🔸 Reference: A person in dark clothes is walking down to the subway.\n"
     ]
    },
    {
     "name": "stderr",
     "output_type": "stream",
     "text": [
      "\r",
      " 93%|█████████▎| 93/100 [01:08<00:02,  2.40it/s]"
     ]
    },
    {
     "name": "stdout",
     "output_type": "stream",
     "text": [
      "🔹 Predicted: A small giant mirror in the white hat reaches for the paintbrush.\n",
      "🔸 Reference: A small child wearing a white hat reaches for a paintbrush.\n"
     ]
    },
    {
     "name": "stderr",
     "output_type": "stream",
     "text": [
      "\r",
      " 94%|█████████▍| 94/100 [01:09<00:02,  2.58it/s]"
     ]
    },
    {
     "name": "stdout",
     "output_type": "stream",
     "text": [
      "🔹 Predicted: For quite a while, with a quite sharp blow.\n",
      "🔸 Reference: Split the log with a quick, sharp blow.\n"
     ]
    },
    {
     "name": "stderr",
     "output_type": "stream",
     "text": [
      "\r",
      " 95%|█████████▌| 95/100 [01:09<00:01,  2.51it/s]"
     ]
    },
    {
     "name": "stdout",
     "output_type": "stream",
     "text": [
      "🔹 Predicted: As a Vietnam, at the stones, he built a ring for some reason.\n",
      "🔸 Reference: As he looked at the stones, he felt relieved for some reason.\n"
     ]
    },
    {
     "name": "stderr",
     "output_type": "stream",
     "text": [
      "\r",
      " 96%|█████████▌| 96/100 [01:09<00:01,  2.46it/s]"
     ]
    },
    {
     "name": "stdout",
     "output_type": "stream",
     "text": [
      "🔹 Predicted: I don't know. In Ireland they are a combined life in the village.\n",
      "🔸 Reference: I don't know if I'll be able to find life in the desert, the boy thought.\n"
     ]
    },
    {
     "name": "stderr",
     "output_type": "stream",
     "text": [
      "\r",
      " 97%|█████████▋| 97/100 [01:10<00:01,  2.73it/s]"
     ]
    },
    {
     "name": "stdout",
     "output_type": "stream",
     "text": [
      "🔹 Predicted: I could envisage the sea.\n",
      "🔸 Reference: I could envisage the scene.\n"
     ]
    },
    {
     "name": "stderr",
     "output_type": "stream",
     "text": [
      "\r",
      " 98%|█████████▊| 98/100 [01:10<00:00,  2.65it/s]"
     ]
    },
    {
     "name": "stdout",
     "output_type": "stream",
     "text": [
      "🔹 Predicted: The opera has said title, so we could understand what was going on.\n",
      "🔸 Reference: The opera had surtitles, so we could understand what was going on\n"
     ]
    },
    {
     "name": "stderr",
     "output_type": "stream",
     "text": [
      "\r",
      " 99%|█████████▉| 99/100 [01:10<00:00,  2.73it/s]"
     ]
    },
    {
     "name": "stdout",
     "output_type": "stream",
     "text": [
      "🔹 Predicted: We brust the hand when we feel too hot.\n",
      "🔸 Reference: We perspire when we feel too hot.\n"
     ]
    },
    {
     "name": "stderr",
     "output_type": "stream",
     "text": [
      "100%|██████████| 100/100 [01:11<00:00,  1.40it/s]"
     ]
    },
    {
     "name": "stdout",
     "output_type": "stream",
     "text": [
      "🔹 Predicted: Worries of the professional painter service possible for all preparation prior to painting.\n",
      "🔸 Reference: More recently, professional painters are responsible for all preparation prior to painting.\n",
      "✅ EN WER: 0.8115\n",
      "🌍 Language: ja\n"
     ]
    },
    {
     "name": "stderr",
     "output_type": "stream",
     "text": [
      "\n",
      "  1%|          | 1/100 [00:00<01:10,  1.40it/s]"
     ]
    },
    {
     "name": "stdout",
     "output_type": "stream",
     "text": [
      "🔹 Predicted: かずに吹かれるように離れていった\n",
      "🔸 Reference: 風に吹かれるように離れていった\n"
     ]
    },
    {
     "name": "stderr",
     "output_type": "stream",
     "text": [
      "\r",
      "  2%|▏         | 2/100 [00:01<00:49,  1.97it/s]"
     ]
    },
    {
     "name": "stdout",
     "output_type": "stream",
     "text": [
      "🔹 Predicted:  तौもそうだし、そうだきっと、\n",
      "🔸 Reference: どうもそうらしい、そうだ、きっと\n"
     ]
    },
    {
     "name": "stderr",
     "output_type": "stream",
     "text": [
      "\r",
      "  3%|▎         | 3/100 [00:01<00:49,  1.96it/s]"
     ]
    },
    {
     "name": "stdout",
     "output_type": "stream",
     "text": [
      "🔹 Predicted: こういう無断飼育だった、無奈に見つからなかった\n",
      "🔸 Reference: 公園も団地と一緒だった、何も見つからなかった\n"
     ]
    },
    {
     "name": "stderr",
     "output_type": "stream",
     "text": [
      "\r",
      "  4%|▍         | 4/100 [00:02<00:46,  2.08it/s]"
     ]
    },
    {
     "name": "stdout",
     "output_type": "stream",
     "text": [
      "🔹 Predicted: 何何であっているのでしょうか、間違くなしに、\n",
      "🔸 Reference: ロンドンではテームズ川の近くに住み、\n"
     ]
    },
    {
     "name": "stderr",
     "output_type": "stream",
     "text": [
      "\r",
      "  5%|▌         | 5/100 [00:02<00:56,  1.70it/s]"
     ]
    },
    {
     "name": "stdout",
     "output_type": "stream",
     "text": [
      "🔹 Predicted: 頭の中であんにんにのいざが長いって、他のことについて何も考えることができない状態。\n",
      "🔸 Reference: 頭の中でアニメの映像が流れて、他のことについて何も考えることができない状態\n"
     ]
    },
    {
     "name": "stderr",
     "output_type": "stream",
     "text": [
      "\r",
      "  6%|▌         | 6/100 [00:03<00:54,  1.72it/s]"
     ]
    },
    {
     "name": "stdout",
     "output_type": "stream",
     "text": [
      "🔹 Predicted:  ಕಿಕಿಕಿಕಿಕಿಕಿ\n",
      "🔸 Reference: 冬でもそうめんをよく食べます\n"
     ]
    },
    {
     "name": "stderr",
     "output_type": "stream",
     "text": [
      "\r",
      "  7%|▋         | 7/100 [00:03<00:45,  2.06it/s]"
     ]
    },
    {
     "name": "stdout",
     "output_type": "stream",
     "text": [
      "🔹 Predicted: ニーキンクはなし、\n",
      "🔸 Reference: 三重県桑名市\n"
     ]
    },
    {
     "name": "stderr",
     "output_type": "stream",
     "text": [
      "\r",
      "  8%|▊         | 8/100 [00:04<00:43,  2.11it/s]"
     ]
    },
    {
     "name": "stdout",
     "output_type": "stream",
     "text": [
      "🔹 Predicted: 真取りのせいから出る前に腰を痛めた\n",
      "🔸 Reference: 筋トレの成果がでる前に腰を痛めた\n"
     ]
    },
    {
     "name": "stderr",
     "output_type": "stream",
     "text": [
      "\r",
      "  9%|▉         | 9/100 [00:04<00:36,  2.52it/s]"
     ]
    },
    {
     "name": "stdout",
     "output_type": "stream",
     "text": [
      "🔹 Predicted: 京都市南区\n",
      "🔸 Reference: 京都市南区\n"
     ]
    },
    {
     "name": "stderr",
     "output_type": "stream",
     "text": [
      "\r",
      " 10%|█         | 10/100 [00:04<00:38,  2.37it/s]"
     ]
    },
    {
     "name": "stdout",
     "output_type": "stream",
     "text": [
      "🔹 Predicted: モントナシオの最大としは、ペリンですが、\n",
      "🔸 Reference: モンタナ州の最大都市はビリングスである\n"
     ]
    },
    {
     "name": "stderr",
     "output_type": "stream",
     "text": [
      "\r",
      " 11%|█         | 11/100 [00:05<00:35,  2.52it/s]"
     ]
    },
    {
     "name": "stdout",
     "output_type": "stream",
     "text": [
      "🔹 Predicted: 八月単語は簡単に行ける\n",
      "🔸 Reference: 厚焼きたまごはかんたんにできる\n"
     ]
    },
    {
     "name": "stderr",
     "output_type": "stream",
     "text": [
      "\r",
      " 12%|█▏        | 12/100 [00:05<00:35,  2.48it/s]"
     ]
    },
    {
     "name": "stdout",
     "output_type": "stream",
     "text": [
      "🔹 Predicted: これも島市だったり、これを島市だったり、\n",
      "🔸 Reference: まったく衰えもしない姿に、鳥肌を覚えてしまった。\n"
     ]
    },
    {
     "name": "stderr",
     "output_type": "stream",
     "text": [
      "\r",
      " 13%|█▎        | 13/100 [00:06<00:45,  1.93it/s]"
     ]
    },
    {
     "name": "stdout",
     "output_type": "stream",
     "text": [
      "🔹 Predicted: デッティ、一所静岡的に、あちおうで、ココルまでたことで、百合市も乗ってきた\n",
      "🔸 Reference: 徹底した清掃と丁寧な調理を心がけたことで客足が戻ってきた\n"
     ]
    },
    {
     "name": "stderr",
     "output_type": "stream",
     "text": [
      "\r",
      " 14%|█▍        | 14/100 [00:06<00:46,  1.87it/s]"
     ]
    },
    {
     "name": "stdout",
     "output_type": "stream",
     "text": [
      "🔹 Predicted: ತ﹌ತ﹌ತ﹌ತ﹌ತ﹌\n",
      "🔸 Reference: 壺の中の塩をたくさんよくもみ込んでください\n"
     ]
    },
    {
     "name": "stderr",
     "output_type": "stream",
     "text": [
      "\r",
      " 15%|█▌        | 15/100 [00:08<01:07,  1.26it/s]"
     ]
    },
    {
     "name": "stdout",
     "output_type": "stream",
     "text": [
      "🔹 Predicted: 食らいたもののものが作るものとして矛盾的とき、ことを一的に出し、作るものとして歴史的に食らいたものとしてある、生物の食単にも、もんごを食らいたものとしてある、\n",
      "🔸 Reference: 作られたものから作るものへとして、矛盾的自己同一に徹することによって、歴史的世界は生物の世界から人間の世界へと発展する。\n"
     ]
    },
    {
     "name": "stderr",
     "output_type": "stream",
     "text": [
      "\r",
      " 16%|█▌        | 16/100 [00:08<00:58,  1.43it/s]"
     ]
    },
    {
     "name": "stdout",
     "output_type": "stream",
     "text": [
      "🔹 Predicted: さあので、スッポスチャンがちていう、きっと言う\n",
      "🔸 Reference: ふざけて出品したらガチで売れてビビる\n"
     ]
    },
    {
     "name": "stderr",
     "output_type": "stream",
     "text": [
      "\r",
      " 17%|█▋        | 17/100 [00:09<00:53,  1.55it/s]"
     ]
    },
    {
     "name": "stdout",
     "output_type": "stream",
     "text": [
      "🔹 Predicted: 大国国大陸をどろどろこでやすく変えたりします。\n",
      "🔸 Reference: 外国だと驚くほど安く買えたりします\n"
     ]
    },
    {
     "name": "stderr",
     "output_type": "stream",
     "text": [
      "\r",
      " 18%|█▊        | 18/100 [00:09<00:47,  1.73it/s]"
     ]
    },
    {
     "name": "stdout",
     "output_type": "stream",
     "text": [
      "🔹 Predicted: しかたら、上に行って、真駅に立った\n",
      "🔸 Reference: 好きだった映画がリメイクされた\n"
     ]
    },
    {
     "name": "stderr",
     "output_type": "stream",
     "text": [
      "\r",
      " 19%|█▉        | 19/100 [00:10<00:44,  1.80it/s]"
     ]
    },
    {
     "name": "stdout",
     "output_type": "stream",
     "text": [
      "🔹 Predicted: これも郵便所駅は、僕もと比べて変わっていた\n",
      "🔸 Reference: 公園の遊具や設備はあのころと比べて変わっていた\n"
     ]
    },
    {
     "name": "stderr",
     "output_type": "stream",
     "text": [
      "\r",
      " 20%|██        | 20/100 [00:10<00:41,  1.93it/s]"
     ]
    },
    {
     "name": "stdout",
     "output_type": "stream",
     "text": [
      "🔹 Predicted: きもは、一体、こっくりのように、しょうか、\n",
      "🔸 Reference: 自分は、いったい幸福なのでしょうか\n"
     ]
    },
    {
     "name": "stderr",
     "output_type": "stream",
     "text": [
      "\r",
      " 21%|██        | 21/100 [00:19<03:52,  2.94s/it]"
     ]
    },
    {
     "name": "stdout",
     "output_type": "stream",
     "text": [
      "🔹 Predicted: その下の上のとこは、ききききききききききききききききききききききききききききききききききききききききききききききききききききききききききききききききききききききききききききききききききききききききききききききききききききききききききききききききききききききききききききききききききききききききききききききききききききききききききききききききききききききききききききききききききききききききききききききききききききききききききききききききききききききききききききききききききききききききききききききききききききききききききききききききききききききききききききききききききききききききききききききききききききききききききききききききききききききききききききききききききききききききききききききききききききききききききききききききききききききききききききききききききききききききききききききききききききききききききききききききききききききききききききききききききききききききききききききききききき\n",
      "🔸 Reference: そうしてその穴の中から時々ぷうぷうと煙を吹く\n"
     ]
    },
    {
     "name": "stderr",
     "output_type": "stream",
     "text": [
      "\r",
      " 22%|██▏       | 22/100 [00:19<02:50,  2.18s/it]"
     ]
    },
    {
     "name": "stdout",
     "output_type": "stream",
     "text": [
      "🔹 Predicted: 彼は、実家のおはかに舞奈された\n",
      "🔸 Reference: 彼は、実家のお墓に埋葬された。\n"
     ]
    },
    {
     "name": "stderr",
     "output_type": "stream",
     "text": [
      "\r",
      " 23%|██▎       | 23/100 [00:20<02:13,  1.74s/it]"
     ]
    },
    {
     "name": "stdout",
     "output_type": "stream",
     "text": [
      "🔹 Predicted: 記憶の無幸の大きな写真が、僕らが知らない君に向けてべーぐする。\n",
      "🔸 Reference: 木箱の向こうの大きな写真の、僕の知らない君に向けて礼をする。\n"
     ]
    },
    {
     "name": "stderr",
     "output_type": "stream",
     "text": [
      "\r",
      " 24%|██▍       | 24/100 [00:20<01:42,  1.35s/it]"
     ]
    },
    {
     "name": "stdout",
     "output_type": "stream",
     "text": [
      "🔹 Predicted:  뾰リシを入れると、ここが出てほしくない\n",
      "🔸 Reference: 料理酒を入れるとコクが出ておいしくなる。\n"
     ]
    },
    {
     "name": "stderr",
     "output_type": "stream",
     "text": [
      "\r",
      " 25%|██▌       | 25/100 [00:21<01:19,  1.06s/it]"
     ]
    },
    {
     "name": "stdout",
     "output_type": "stream",
     "text": [
      "🔹 Predicted: 覚観にとらわいていると動けない\n",
      "🔸 Reference: 過去にとらわれてると動けない\n"
     ]
    },
    {
     "name": "stderr",
     "output_type": "stream",
     "text": [
      "\r",
      " 26%|██▌       | 26/100 [00:21<01:04,  1.14it/s]"
     ]
    },
    {
     "name": "stdout",
     "output_type": "stream",
     "text": [
      "🔹 Predicted: 美容社の意見も、三行にするとよいでしょ。\n",
      "🔸 Reference: 利用者の意見も参考にするとよいでしょう\n"
     ]
    },
    {
     "name": "stderr",
     "output_type": "stream",
     "text": [
      "\r",
      " 27%|██▋       | 27/100 [00:22<00:56,  1.30it/s]"
     ]
    },
    {
     "name": "stdout",
     "output_type": "stream",
     "text": [
      "🔹 Predicted: リニュアルをブッティーだ、ほとんど変わってなかった\n",
      "🔸 Reference: リニューアルオープンというが、ほとんど変わってなかった\n"
     ]
    },
    {
     "name": "stderr",
     "output_type": "stream",
     "text": [
      "\r",
      " 28%|██▊       | 28/100 [00:22<00:52,  1.37it/s]"
     ]
    },
    {
     "name": "stdout",
     "output_type": "stream",
     "text": [
      "🔹 Predicted:  ಕಿಕಿಕಿಕಿಕಿಕಿಕಿ\n",
      "🔸 Reference: お役に立ててうれしいです\n"
     ]
    },
    {
     "name": "stderr",
     "output_type": "stream",
     "text": [
      "\r",
      " 29%|██▉       | 29/100 [00:23<00:43,  1.64it/s]"
     ]
    },
    {
     "name": "stdout",
     "output_type": "stream",
     "text": [
      "🔹 Predicted: おかえまけ、うざくし、\n",
      "🔸 Reference: 岡山県美作市\n"
     ]
    },
    {
     "name": "stderr",
     "output_type": "stream",
     "text": [
      "\r",
      " 30%|███       | 30/100 [00:23<00:39,  1.76it/s]"
     ]
    },
    {
     "name": "stdout",
     "output_type": "stream",
     "text": [
      "🔹 Predicted: 観てないけど、感動はありがとう、セールでやすくか\n",
      "🔸 Reference: 見てないけど、感動をありがとうセールで安く買う\n"
     ]
    },
    {
     "name": "stderr",
     "output_type": "stream",
     "text": [
      "\r",
      " 31%|███       | 31/100 [00:24<00:39,  1.77it/s]"
     ]
    },
    {
     "name": "stdout",
     "output_type": "stream",
     "text": [
      "🔹 Predicted: 記実は生産的にあり、世界を確信し、また、興奮する。\n",
      "🔸 Reference: 技術は生産的であり、世界を革新しまた豊富にする。\n"
     ]
    },
    {
     "name": "stderr",
     "output_type": "stream",
     "text": [
      "\r",
      " 32%|███▏      | 32/100 [00:24<00:37,  1.79it/s]"
     ]
    },
    {
     "name": "stdout",
     "output_type": "stream",
     "text": [
      "🔹 Predicted: セモはようこが一体だけど、話してるほうにもっと出てない\n",
      "🔸 Reference: 専門用語がいっぱいだけど、話してる本人もわかってない\n"
     ]
    },
    {
     "name": "stderr",
     "output_type": "stream",
     "text": [
      "\r",
      " 33%|███▎      | 33/100 [00:25<00:43,  1.53it/s]"
     ]
    },
    {
     "name": "stdout",
     "output_type": "stream",
     "text": [
      "🔹 Predicted: 大根炭の、それ自身が、自己も、人と崩して、自己のうちから、自己を超え、いくことでなければならない。\n",
      "🔸 Reference: 与えられたものそれ自身が自己矛盾的として、自己の内から自己を越え行くことでなければならない。\n"
     ]
    },
    {
     "name": "stderr",
     "output_type": "stream",
     "text": [
      "\r",
      " 34%|███▍      | 34/100 [00:25<00:36,  1.82it/s]"
     ]
    },
    {
     "name": "stdout",
     "output_type": "stream",
     "text": [
      "🔹 Predicted: 奈良県府県うち\n",
      "🔸 Reference: 長崎県壱岐市\n"
     ]
    },
    {
     "name": "stderr",
     "output_type": "stream",
     "text": [
      "\r",
      " 35%|███▌      | 35/100 [00:26<00:34,  1.86it/s]"
     ]
    },
    {
     "name": "stdout",
     "output_type": "stream",
     "text": [
      "🔹 Predicted: いずれ僕も、あと三十年もしたら、言う方がけで、\n",
      "🔸 Reference: いずれ僕もあと三十年もしたら浴衣がけで\n"
     ]
    },
    {
     "name": "stderr",
     "output_type": "stream",
     "text": [
      "\r",
      " 36%|███▌      | 36/100 [00:27<00:35,  1.79it/s]"
     ]
    },
    {
     "name": "stdout",
     "output_type": "stream",
     "text": [
      "🔹 Predicted: 僕も君の背中に向けて、じゃあな、と言い返して、手を振った。\n",
      "🔸 Reference: 僕も君の背中に向けて、じゃあねと言い返して、手を振った\n"
     ]
    },
    {
     "name": "stderr",
     "output_type": "stream",
     "text": [
      "\r",
      " 37%|███▋      | 37/100 [00:27<00:36,  1.71it/s]"
     ]
    },
    {
     "name": "stdout",
     "output_type": "stream",
     "text": [
      "🔹 Predicted:  चीमाは、随分多いでしょうが、どうか、一致来られてください。\n",
      "🔸 Reference: 注文はずいぶん多いでしょうがどうか一々こらえて下さい\n"
     ]
    },
    {
     "name": "stderr",
     "output_type": "stream",
     "text": [
      "\r",
      " 38%|███▊      | 38/100 [00:28<00:39,  1.56it/s]"
     ]
    },
    {
     "name": "stdout",
     "output_type": "stream",
     "text": [
      "🔹 Predicted: 堺がしたすなをすな場の真ん中に集めて困めて山にして、また山にすなを掛ける。\n",
      "🔸 Reference: 掘り出した砂を砂場の真ん中に集めて、固めて、山にして、また山に砂をかける\n"
     ]
    },
    {
     "name": "stderr",
     "output_type": "stream",
     "text": [
      "\r",
      " 39%|███▉      | 39/100 [00:28<00:37,  1.64it/s]"
     ]
    },
    {
     "name": "stdout",
     "output_type": "stream",
     "text": [
      "🔹 Predicted: いくら人間だって、創一までも堺えることもあるまい、\n",
      "🔸 Reference: いくら人間だって、そういつまでも栄える事もあるまい\n"
     ]
    },
    {
     "name": "stderr",
     "output_type": "stream",
     "text": [
      "\r",
      " 40%|████      | 40/100 [00:29<00:37,  1.61it/s]"
     ]
    },
    {
     "name": "stdout",
     "output_type": "stream",
     "text": [
      "🔹 Predicted: そこで僕らはそんな、穴を掘り、山を作り、また穴を掘った。\n",
      "🔸 Reference: そこで僕らは遊んだ、穴を掘り、山を作り、また穴を掘った\n"
     ]
    },
    {
     "name": "stderr",
     "output_type": "stream",
     "text": [
      "\r",
      " 41%|████      | 41/100 [00:30<00:36,  1.63it/s]"
     ]
    },
    {
     "name": "stdout",
     "output_type": "stream",
     "text": [
      "🔹 Predicted: それこそ先週に一番の金を得とでもいうべき、一致一発の、\n",
      "🔸 Reference: それこそ千番に一番の兼ね合いとでもいうべき危機一髪の、\n"
     ]
    },
    {
     "name": "stderr",
     "output_type": "stream",
     "text": [
      "\r",
      " 42%|████▏     | 42/100 [00:30<00:31,  1.86it/s]"
     ]
    },
    {
     "name": "stdout",
     "output_type": "stream",
     "text": [
      "🔹 Predicted: みんなここに置いてください、と書いてありました\n",
      "🔸 Reference: みんなここに置いてくださいと書いてありました\n"
     ]
    },
    {
     "name": "stderr",
     "output_type": "stream",
     "text": [
      "\r",
      " 43%|████▎     | 43/100 [00:30<00:25,  2.25it/s]"
     ]
    },
    {
     "name": "stdout",
     "output_type": "stream",
     "text": [
      "🔹 Predicted: どうだ、とるか\n",
      "🔸 Reference: どうだ、とるか\n"
     ]
    },
    {
     "name": "stderr",
     "output_type": "stream",
     "text": [
      "\r",
      " 44%|████▍     | 44/100 [00:31<00:21,  2.59it/s]"
     ]
    },
    {
     "name": "stdout",
     "output_type": "stream",
     "text": [
      "🔹 Predicted: アクチを見ていった\n",
      "🔸 Reference: 空き地を埋めていった\n"
     ]
    },
    {
     "name": "stderr",
     "output_type": "stream",
     "text": [
      "\r",
      " 45%|████▌     | 45/100 [00:31<00:26,  2.08it/s]"
     ]
    },
    {
     "name": "stdout",
     "output_type": "stream",
     "text": [
      "🔹 Predicted: しかも後で聞くと、それは所生という人間中で、一番動握の静岡であったそうだ\n",
      "🔸 Reference: しかもあとで聞くとそれは書生という人間中で一番獰悪な種族であったそうだ\n"
     ]
    },
    {
     "name": "stderr",
     "output_type": "stream",
     "text": [
      "\r",
      " 46%|████▌     | 46/100 [00:32<00:22,  2.37it/s]"
     ]
    },
    {
     "name": "stdout",
     "output_type": "stream",
     "text": [
      "🔹 Predicted: 欲しいキャラが出ない\n",
      "🔸 Reference: 欲しいキャラが出ない\n"
     ]
    },
    {
     "name": "stderr",
     "output_type": "stream",
     "text": [
      "\r",
      " 47%|████▋     | 47/100 [00:32<00:22,  2.31it/s]"
     ]
    },
    {
     "name": "stdout",
     "output_type": "stream",
     "text": [
      "🔹 Predicted: 大量の市民役を飲んだ猫のようにじっとする\n",
      "🔸 Reference: 大量の睡眠薬を飲んだ猫のようにじっとする\n"
     ]
    },
    {
     "name": "stderr",
     "output_type": "stream",
     "text": [
      "\r",
      " 48%|████▊     | 48/100 [00:32<00:23,  2.19it/s]"
     ]
    },
    {
     "name": "stdout",
     "output_type": "stream",
     "text": [
      "🔹 Predicted: 他のチャンネルも二体をなどらまかはいるしょうがながれていった\n",
      "🔸 Reference: 他のチャンネルも似たようなドラマかワイドショーが流れていた\n"
     ]
    },
    {
     "name": "stderr",
     "output_type": "stream",
     "text": [
      "\r",
      " 49%|████▉     | 49/100 [00:33<00:20,  2.44it/s]"
     ]
    },
    {
     "name": "stdout",
     "output_type": "stream",
     "text": [
      "🔹 Predicted: ತ﹌ತ﹌\n",
      "🔸 Reference: 滋賀県甲賀市\n"
     ]
    },
    {
     "name": "stderr",
     "output_type": "stream",
     "text": [
      "\r",
      " 50%|█████     | 50/100 [00:33<00:22,  2.19it/s]"
     ]
    },
    {
     "name": "stdout",
     "output_type": "stream",
     "text": [
      "🔹 Predicted:  ಕೈತೈತೈತೈತೈತೈ\n",
      "🔸 Reference: まれにみる文理両方をかねた人でした\n"
     ]
    },
    {
     "name": "stderr",
     "output_type": "stream",
     "text": [
      "\r",
      " 51%|█████     | 51/100 [00:34<00:27,  1.80it/s]"
     ]
    },
    {
     "name": "stdout",
     "output_type": "stream",
     "text": [
      "🔹 Predicted:  ಕಿಕಿಕಿಕಿಕಿಕಿಕಿಕಿಕಿ\n",
      "🔸 Reference: 技術的に作られたものはすべて形をもっている。\n"
     ]
    },
    {
     "name": "stderr",
     "output_type": "stream",
     "text": [
      "\r",
      " 52%|█████▏    | 52/100 [00:35<00:26,  1.79it/s]"
     ]
    },
    {
     "name": "stdout",
     "output_type": "stream",
     "text": [
      "🔹 Predicted: かとかなきを場所にがるちゃんちゃん、かいしやがまとです。\n",
      "🔸 Reference: 勝とうが負けようが点がじゃんじゃん入る試合なら満足です\n"
     ]
    },
    {
     "name": "stderr",
     "output_type": "stream",
     "text": [
      "\r",
      " 53%|█████▎    | 53/100 [00:35<00:22,  2.13it/s]"
     ]
    },
    {
     "name": "stdout",
     "output_type": "stream",
     "text": [
      "🔹 Predicted: 京都府市府駅\n",
      "🔸 Reference: 京都府精華町\n"
     ]
    },
    {
     "name": "stderr",
     "output_type": "stream",
     "text": [
      "\r",
      " 54%|█████▍    | 54/100 [00:35<00:17,  2.56it/s]"
     ]
    },
    {
     "name": "stdout",
     "output_type": "stream",
     "text": [
      "🔹 Predicted: これもキーから\n",
      "🔸 Reference: 岡山県井原市\n"
     ]
    },
    {
     "name": "stderr",
     "output_type": "stream",
     "text": [
      "\r",
      " 55%|█████▌    | 55/100 [00:36<00:17,  2.54it/s]"
     ]
    },
    {
     "name": "stdout",
     "output_type": "stream",
     "text": [
      "🔹 Predicted: 기フテラット、ラジット、アキマシット\n",
      "🔸 Reference: 岐阜県羽島市\n"
     ]
    },
    {
     "name": "stderr",
     "output_type": "stream",
     "text": [
      "\r",
      " 56%|█████▌    | 56/100 [00:36<00:20,  2.19it/s]"
     ]
    },
    {
     "name": "stdout",
     "output_type": "stream",
     "text": [
      "🔹 Predicted: ಕಿಕರ作りは個人です、個物を作りたいな、だく\n",
      "🔸 Reference: 映像作品は個人でここまで作れる時代になったんだな\n"
     ]
    },
    {
     "name": "stderr",
     "output_type": "stream",
     "text": [
      "\r",
      " 57%|█████▋    | 57/100 [00:37<00:19,  2.19it/s]"
     ]
    },
    {
     "name": "stdout",
     "output_type": "stream",
     "text": [
      "🔹 Predicted: アナコって言うんだ、動かの式に即死にると\n",
      "🔸 Reference: まだ残っていたんだ、僕は指先でそっとシールに触れる\n"
     ]
    },
    {
     "name": "stderr",
     "output_type": "stream",
     "text": [
      "\r",
      " 58%|█████▊    | 58/100 [00:37<00:19,  2.11it/s]"
     ]
    },
    {
     "name": "stdout",
     "output_type": "stream",
     "text": [
      "🔹 Predicted:  ಕೈತೈತೈತೈತೈ\n",
      "🔸 Reference: エクアドルの首都はキトである\n"
     ]
    },
    {
     "name": "stderr",
     "output_type": "stream",
     "text": [
      "\r",
      " 59%|█████▉    | 59/100 [00:39<00:34,  1.18it/s]"
     ]
    },
    {
     "name": "stdout",
     "output_type": "stream",
     "text": [
      "🔹 Predicted:  ಕರಿಕರಿಕರಿಕರಿಕರಿಕರಿಕರಿಕರಿಕರಿಕರಿಕರಿಕರಿಕರಿಕರಿ\n",
      "🔸 Reference: 異臭を放つ煙がすき間から入りこんでくる\n"
     ]
    },
    {
     "name": "stderr",
     "output_type": "stream",
     "text": [
      "\r",
      " 60%|██████    | 60/100 [00:40<00:35,  1.12it/s]"
     ]
    },
    {
     "name": "stdout",
     "output_type": "stream",
     "text": [
      "🔹 Predicted: 京施するとはものを作ることであり、ものを作るとはものに形を与えることをその形を変えた新しい形のものにすることである。\n",
      "🔸 Reference: 形成するとは物を作ることであり、物を作るとは物に形を与えること、その形を変えて新しい形のものにすることである。\n"
     ]
    },
    {
     "name": "stderr",
     "output_type": "stream",
     "text": [
      "\r",
      " 61%|██████    | 61/100 [00:40<00:29,  1.30it/s]"
     ]
    },
    {
     "name": "stdout",
     "output_type": "stream",
     "text": [
      "🔹 Predicted: それが我々の性格と個個性とかいうものである。\n",
      "🔸 Reference: それが我々の性格とか個性とかいうものである。\n"
     ]
    },
    {
     "name": "stderr",
     "output_type": "stream",
     "text": [
      "\r",
      " 62%|██████▏   | 62/100 [00:41<00:23,  1.62it/s]"
     ]
    },
    {
     "name": "stdout",
     "output_type": "stream",
     "text": [
      "🔹 Predicted: 京京都国共文自身\n",
      "🔸 Reference: 東京都国分寺市\n"
     ]
    },
    {
     "name": "stderr",
     "output_type": "stream",
     "text": [
      "\r",
      " 63%|██████▎   | 63/100 [00:41<00:19,  1.91it/s]"
     ]
    },
    {
     "name": "stdout",
     "output_type": "stream",
     "text": [
      "🔹 Predicted: 場を人がいるから、人がいる\n",
      "🔸 Reference: 買う人がいるから作られる\n"
     ]
    },
    {
     "name": "stderr",
     "output_type": "stream",
     "text": [
      "\r",
      " 64%|██████▍   | 64/100 [00:49<01:45,  2.93s/it]"
     ]
    },
    {
     "name": "stdout",
     "output_type": "stream",
     "text": [
      "🔹 Predicted:  ಕಿಕರವಿಕರವಿಕರವಿಕರವಿಕರವಿಕರವಿಕರವಿಕರವಿಕರವಿಕರವಿಕರವಿಕರವಿಕರವಿಕರವಿಕರವಿಕರವಿಕರವಿಕರವಿಕರವಿಕರವಿಕರವಿಕರವಿಕರವಿಕರವಿಕರವಿಕರವಿಕರವಿಕರವಿಕರವಿಕರವಿಕರವಿಕರವಿಕರವಿಕರವಿಕರವಿಕರವಿಕಕರವಿಕಕರವಿಕಕಕಕಕಕಕಕಕಕಕಕಕಕಕಕಕಕಕಕಕಕಕಕಕಕಕಕಕಕಕಕಕಕಕಕಕಕಕಕಕಕಕಕಕಕಕಕಕಕಕಕಕಕಕಕಕಕಕಕಕಕಕಕಕಕ\n",
      "🔸 Reference: ヨルダンの首都はアンマンである\n"
     ]
    },
    {
     "name": "stderr",
     "output_type": "stream",
     "text": [
      "\r",
      " 65%|██████▌   | 65/100 [00:50<01:15,  2.15s/it]"
     ]
    },
    {
     "name": "stdout",
     "output_type": "stream",
     "text": [
      "🔹 Predicted: 何かでリドム変わったのか\n",
      "🔸 Reference: 何かルールでも変わったのか\n"
     ]
    },
    {
     "name": "stderr",
     "output_type": "stream",
     "text": [
      "\r",
      " 66%|██████▌   | 66/100 [00:51<00:59,  1.74s/it]"
     ]
    },
    {
     "name": "stdout",
     "output_type": "stream",
     "text": [
      "🔹 Predicted: お見に手がの小さいきずでも、それは心臓のそばにあって矛盾的な一つでもあった\n",
      "🔸 Reference: 五ミリ程度の小さい傷、でも、それは心臓のそばにあって無視できない傷でもあった\n"
     ]
    },
    {
     "name": "stderr",
     "output_type": "stream",
     "text": [
      "\r",
      " 67%|██████▋   | 67/100 [00:51<00:43,  1.31s/it]"
     ]
    },
    {
     "name": "stdout",
     "output_type": "stream",
     "text": [
      "🔹 Predicted:  ಕೈಕ್ಕೈ\n",
      "🔸 Reference: やっぱり異常だよ\n"
     ]
    },
    {
     "name": "stderr",
     "output_type": "stream",
     "text": [
      "\r",
      " 68%|██████▊   | 68/100 [00:51<00:33,  1.06s/it]"
     ]
    },
    {
     "name": "stdout",
     "output_type": "stream",
     "text": [
      "🔹 Predicted: フテクサラテなきゃりに奈良のをさえる\n",
      "🔸 Reference: ふてくされて投げやりになるのをおさえる\n"
     ]
    },
    {
     "name": "stderr",
     "output_type": "stream",
     "text": [
      "\r",
      " 69%|██████▉   | 69/100 [00:52<00:28,  1.11it/s]"
     ]
    },
    {
     "name": "stdout",
     "output_type": "stream",
     "text": [
      "🔹 Predicted: すまもの割ってリノレックが早くて、開会を見としてる。\n",
      "🔸 Reference: スマホのバッテリーの劣化が早くて買い替えを検討してる\n"
     ]
    },
    {
     "name": "stderr",
     "output_type": "stream",
     "text": [
      "\r",
      " 70%|███████   | 70/100 [00:53<00:28,  1.03it/s]"
     ]
    },
    {
     "name": "stdout",
     "output_type": "stream",
     "text": [
      "🔹 Predicted: 私の意識現象が多がうとともに、私の意識として、いつであるというのは、メキの如きににおいての矛盾的自己同一でればならない。\n",
      "🔸 Reference: 私の意識現象が多なると共に私の意識として一であるというのは、右の如き意昧においての矛盾的自己同一でなければならない。\n"
     ]
    },
    {
     "name": "stderr",
     "output_type": "stream",
     "text": [
      "\r",
      " 71%|███████   | 71/100 [00:53<00:22,  1.29it/s]"
     ]
    },
    {
     "name": "stdout",
     "output_type": "stream",
     "text": [
      "🔹 Predicted: 二次を二次する必要がある。\n",
      "🔸 Reference: リモート仕様にする必要がある\n"
     ]
    },
    {
     "name": "stderr",
     "output_type": "stream",
     "text": [
      "\r",
      " 72%|███████▏  | 72/100 [00:54<00:18,  1.53it/s]"
     ]
    },
    {
     "name": "stdout",
     "output_type": "stream",
     "text": [
      "🔹 Predicted: 作り置きして、自己はおさつやく、\n",
      "🔸 Reference: 作り置きして時間を節約する\n"
     ]
    },
    {
     "name": "stderr",
     "output_type": "stream",
     "text": [
      "\r",
      " 73%|███████▎  | 73/100 [00:54<00:15,  1.74it/s]"
     ]
    },
    {
     "name": "stdout",
     "output_type": "stream",
     "text": [
      "🔹 Predicted: ネギンすぐには立ちまちたいすっと\n",
      "🔸 Reference: デビューするやたちまち大ヒット\n"
     ]
    },
    {
     "name": "stderr",
     "output_type": "stream",
     "text": [
      "\r",
      " 74%|███████▍  | 74/100 [00:58<00:41,  1.61s/it]"
     ]
    },
    {
     "name": "stdout",
     "output_type": "stream",
     "text": [
      "🔹 Predicted:  ಕಿಕರರರರರರರರರರರರರರರರರರರರರರರರರರರರರರರರರರರರ������\n",
      "🔸 Reference: 欲求的なる身体的存在としても、我々は既にかかる自己矛盾的存在であるのである。\n"
     ]
    },
    {
     "name": "stderr",
     "output_type": "stream",
     "text": [
      "\r",
      " 75%|███████▌  | 75/100 [00:59<00:32,  1.29s/it]"
     ]
    },
    {
     "name": "stdout",
     "output_type": "stream",
     "text": [
      "🔹 Predicted: ವಿವಿವಿವಿವಿವಿ\n",
      "🔸 Reference: 長期的な影響はわからない\n"
     ]
    },
    {
     "name": "stderr",
     "output_type": "stream",
     "text": [
      "\r",
      " 76%|███████▌  | 76/100 [00:59<00:25,  1.06s/it]"
     ]
    },
    {
     "name": "stdout",
     "output_type": "stream",
     "text": [
      "🔹 Predicted: 凄い安いとに分けでもないけど、近くにあると出すから\n",
      "🔸 Reference: すごい安いというわけでもないけど近くにあると助かる\n"
     ]
    },
    {
     "name": "stderr",
     "output_type": "stream",
     "text": [
      "\r",
      " 77%|███████▋  | 77/100 [01:00<00:21,  1.05it/s]"
     ]
    },
    {
     "name": "stdout",
     "output_type": "stream",
     "text": [
      "🔹 Predicted: 作られたものから作るものへと言うと、作られたものは、死から作られたものでありながら、\n",
      "🔸 Reference: 作られたものから作るものへということは、作られたものは、種から作られたものでありながら、\n"
     ]
    },
    {
     "name": "stderr",
     "output_type": "stream",
     "text": [
      "\r",
      " 78%|███████▊  | 78/100 [01:00<00:17,  1.23it/s]"
     ]
    },
    {
     "name": "stdout",
     "output_type": "stream",
     "text": [
      "🔹 Predicted:  ಕೈತೈತೈತೈತೈ\n",
      "🔸 Reference: うまいけど手がギトギトになる\n"
     ]
    },
    {
     "name": "stderr",
     "output_type": "stream",
     "text": [
      "\r",
      " 79%|███████▉  | 79/100 [01:01<00:14,  1.47it/s]"
     ]
    },
    {
     "name": "stdout",
     "output_type": "stream",
     "text": [
      "🔹 Predicted: 今のアクシーパンの責任じゃないよ\n",
      "🔸 Reference: 今のはキーパーの責任じゃないよ\n"
     ]
    },
    {
     "name": "stderr",
     "output_type": "stream",
     "text": [
      "\r",
      " 80%|████████  | 80/100 [01:01<00:11,  1.71it/s]"
     ]
    },
    {
     "name": "stdout",
     "output_type": "stream",
     "text": [
      "🔹 Predicted: 凶暴的現象を生き出している\n",
      "🔸 Reference: 賞味期限切れたヨーグルトを勇気出して食べる\n"
     ]
    },
    {
     "name": "stderr",
     "output_type": "stream",
     "text": [
      "\r",
      " 81%|████████  | 81/100 [01:02<00:10,  1.85it/s]"
     ]
    },
    {
     "name": "stdout",
     "output_type": "stream",
     "text": [
      "🔹 Predicted: ಕ観に我々はクソスを二次さよなら\n",
      "🔸 Reference: 逆に我々は環境に作用するのである。\n"
     ]
    },
    {
     "name": "stderr",
     "output_type": "stream",
     "text": [
      "\r",
      " 82%|████████▏ | 82/100 [01:02<00:09,  1.86it/s]"
     ]
    },
    {
     "name": "stdout",
     "output_type": "stream",
     "text": [
      "🔹 Predicted:  ಕೈಕ್ಕೈ ಕೈಕ್ಕೈ\n",
      "🔸 Reference: みんなが言うほどそれほど安くもない\n"
     ]
    },
    {
     "name": "stderr",
     "output_type": "stream",
     "text": [
      "\r",
      " 83%|████████▎ | 83/100 [01:03<00:08,  1.94it/s]"
     ]
    },
    {
     "name": "stdout",
     "output_type": "stream",
     "text": [
      "🔹 Predicted: 我々の個人的自己に生まれものでなければならない。\n",
      "🔸 Reference: 我々の個人的自己に迫るものでなければならない。\n"
     ]
    },
    {
     "name": "stderr",
     "output_type": "stream",
     "text": [
      "\r",
      " 84%|████████▍ | 84/100 [01:03<00:09,  1.72it/s]"
     ]
    },
    {
     "name": "stdout",
     "output_type": "stream",
     "text": [
      "🔹 Predicted: 駅上のリーの立場からは、矛盾するものだけ、月合するとは言われないであろう。\n",
      "🔸 Reference: 抽象論理の立場からは、矛盾するものが結合するとはいわれないであろう。\n"
     ]
    },
    {
     "name": "stderr",
     "output_type": "stream",
     "text": [
      "\r",
      " 85%|████████▌ | 85/100 [01:04<00:08,  1.84it/s]"
     ]
    },
    {
     "name": "stdout",
     "output_type": "stream",
     "text": [
      "🔹 Predicted: ここのソンゲンガイもチェーンゲンガーフでした\n",
      "🔸 Reference: ここの商店街もチェーン店が増えてきた\n"
     ]
    },
    {
     "name": "stderr",
     "output_type": "stream",
     "text": [
      "\r",
      " 86%|████████▌ | 86/100 [01:04<00:06,  2.17it/s]"
     ]
    },
    {
     "name": "stdout",
     "output_type": "stream",
     "text": [
      "🔹 Predicted: 奈良県市水北\n",
      "🔸 Reference: 名古屋市瑞穂区\n"
     ]
    },
    {
     "name": "stderr",
     "output_type": "stream",
     "text": [
      "\r",
      " 87%|████████▋ | 87/100 [01:04<00:05,  2.34it/s]"
     ]
    },
    {
     "name": "stdout",
     "output_type": "stream",
     "text": [
      "🔹 Predicted: おかやま県、赤いま市、\n",
      "🔸 Reference: 岡山県赤磐市\n"
     ]
    },
    {
     "name": "stderr",
     "output_type": "stream",
     "text": [
      "\r",
      " 88%|████████▊ | 88/100 [01:05<00:04,  2.57it/s]"
     ]
    },
    {
     "name": "stdout",
     "output_type": "stream",
     "text": [
      "🔹 Predicted: ニールだったし、飽き白\n",
      "🔸 Reference: 新潟市秋葉区\n"
     ]
    },
    {
     "name": "stderr",
     "output_type": "stream",
     "text": [
      "\r",
      " 89%|████████▉ | 89/100 [01:05<00:04,  2.23it/s]"
     ]
    },
    {
     "name": "stdout",
     "output_type": "stream",
     "text": [
      "🔹 Predicted: パーイン風がなことが今でも行われているのかどうかも知らぬ。\n",
      "🔸 Reference: ああいう風雅なことがいまでも行なわれているのかどうかもしらず、\n"
     ]
    },
    {
     "name": "stderr",
     "output_type": "stream",
     "text": [
      "\r",
      " 90%|█████████ | 90/100 [01:06<00:04,  2.29it/s]"
     ]
    },
    {
     "name": "stdout",
     "output_type": "stream",
     "text": [
      "🔹 Predicted: 何でもいいから、おらわせておればいいのだ。\n",
      "🔸 Reference: 何でもいいから、笑わせておればいいのだ\n"
     ]
    },
    {
     "name": "stderr",
     "output_type": "stream",
     "text": [
      "\r",
      " 91%|█████████ | 91/100 [01:07<00:05,  1.62it/s]"
     ]
    },
    {
     "name": "stdout",
     "output_type": "stream",
     "text": [
      "🔹 Predicted: 多が彼の手のひらにのせられて、すーっと持ち上げられたとき、何らかフォアフォアした感じがあったばかりである。\n",
      "🔸 Reference: ただ彼の掌に載せられてスーと持ち上げられた時何だかフワフワした感じがあったばかりである\n"
     ]
    },
    {
     "name": "stderr",
     "output_type": "stream",
     "text": [
      "\r",
      " 92%|█████████▏| 92/100 [01:07<00:04,  1.80it/s]"
     ]
    },
    {
     "name": "stdout",
     "output_type": "stream",
     "text": [
      "🔹 Predicted: 박낙の観覚者の自己に入れました\n",
      "🔸 Reference: 幕末の漢学者の塾に入れました\n"
     ]
    },
    {
     "name": "stderr",
     "output_type": "stream",
     "text": [
      "\r",
      " 93%|█████████▎| 93/100 [01:07<00:03,  2.16it/s]"
     ]
    },
    {
     "name": "stdout",
     "output_type": "stream",
     "text": [
      "🔹 Predicted: 山口県山口市\n",
      "🔸 Reference: 山口県山口市\n"
     ]
    },
    {
     "name": "stderr",
     "output_type": "stream",
     "text": [
      "\r",
      " 94%|█████████▍| 94/100 [01:08<00:02,  2.12it/s]"
     ]
    },
    {
     "name": "stdout",
     "output_type": "stream",
     "text": [
      "🔹 Predicted: 君は図書館に行こうとも、と声を上げた。\n",
      "🔸 Reference: 君は図書館に行こうと思う、と声を上げた\n"
     ]
    },
    {
     "name": "stderr",
     "output_type": "stream",
     "text": [
      "\r",
      " 95%|█████████▌| 95/100 [01:08<00:02,  2.30it/s]"
     ]
    },
    {
     "name": "stdout",
     "output_type": "stream",
     "text": [
      "🔹 Predicted: 知り合ったときのことは忘れてた\n",
      "🔸 Reference: 知り合ったときのことは忘れた\n"
     ]
    },
    {
     "name": "stderr",
     "output_type": "stream",
     "text": [
      "\r",
      " 96%|█████████▌| 96/100 [01:08<00:01,  2.64it/s]"
     ]
    },
    {
     "name": "stdout",
     "output_type": "stream",
     "text": [
      "🔹 Predicted: どうも、変な家だ\n",
      "🔸 Reference: どうも変な家だ\n"
     ]
    },
    {
     "name": "stderr",
     "output_type": "stream",
     "text": [
      "\r",
      " 97%|█████████▋| 97/100 [01:09<00:01,  2.24it/s]"
     ]
    },
    {
     "name": "stdout",
     "output_type": "stream",
     "text": [
      "🔹 Predicted: ドボが階段じみたいな君は歩いものが、感じられてくるのである。\n",
      "🔸 Reference: どこか怪談じみた気味悪いものが感ぜられて来るのである\n"
     ]
    },
    {
     "name": "stderr",
     "output_type": "stream",
     "text": [
      "\r",
      " 98%|█████████▊| 98/100 [01:10<00:01,  1.96it/s]"
     ]
    },
    {
     "name": "stdout",
     "output_type": "stream",
     "text": [
      "🔹 Predicted: フーに人間の恐ろしい正体を、イタリによってバクラすりをするみて、\n",
      "🔸 Reference: 不意に人間のおそろしい正体を、怒りに依って暴露する様子を見て、\n"
     ]
    },
    {
     "name": "stderr",
     "output_type": "stream",
     "text": [
      "\r",
      " 99%|█████████▉| 99/100 [01:10<00:00,  1.97it/s]"
     ]
    },
    {
     "name": "stdout",
     "output_type": "stream",
     "text": [
      "🔹 Predicted: 人間のつましたに、安全とし、悲しいをもよしました。\n",
      "🔸 Reference: 人間のつましさに暗然とし、悲しい思いをしました\n"
     ]
    },
    {
     "name": "stderr",
     "output_type": "stream",
     "text": [
      "100%|██████████| 100/100 [01:11<00:00,  1.40it/s]"
     ]
    },
    {
     "name": "stdout",
     "output_type": "stream",
     "text": [
      "🔹 Predicted: ハテの、何でも要素が大ましいと、まさにさ、はいらしてみると、非常にいたい、\n",
      "🔸 Reference: はてな何でも様子がおかしいと、のそのそ這い出して見ると非常に痛い\n",
      "✅ JA WER: 0.9700\n",
      "🌍 Language: de\n"
     ]
    },
    {
     "name": "stderr",
     "output_type": "stream",
     "text": [
      "\n",
      "  1%|          | 1/100 [00:00<00:51,  1.92it/s]"
     ]
    },
    {
     "name": "stdout",
     "output_type": "stream",
     "text": [
      "🔹 Predicted: かんtes zu das Gedicht schon.\n",
      "🔸 Reference: Kanntest du das Gedicht schon?\n"
     ]
    },
    {
     "name": "stderr",
     "output_type": "stream",
     "text": [
      "\r",
      "  2%|▏         | 2/100 [00:00<00:40,  2.41it/s]"
     ]
    },
    {
     "name": "stdout",
     "output_type": "stream",
     "text": [
      "🔹 Predicted: 、矛盾、矛盾、\n",
      "🔸 Reference: Hallo, möchten Sie auch zur Sprechstunde?\n"
     ]
    },
    {
     "name": "stderr",
     "output_type": "stream",
     "text": [
      "\r",
      "  3%|▎         | 3/100 [00:01<00:43,  2.25it/s]"
     ]
    },
    {
     "name": "stdout",
     "output_type": "stream",
     "text": [
      "🔹 Predicted:  Gottzei, dann kam ja noch anliec des aus sie mehrer Müh.\n",
      "🔸 Reference: Gott sei Dank haben wir noch ein letztes Ass im Ärmel.\n"
     ]
    },
    {
     "name": "stderr",
     "output_type": "stream",
     "text": [
      "\r",
      "  4%|▍         | 4/100 [00:02<00:54,  1.77it/s]"
     ]
    },
    {
     "name": "stdout",
     "output_type": "stream",
     "text": [
      "🔹 Predicted: Wenn zu einem Passagierflug zeigt, der Funkkontakt abbrecht, starken Routine mäßig zwei Abfangjäger.\n",
      "🔸 Reference: Wenn zu einem Passagierflugzeug der Funkkontakt abbricht, starten routinemäßig zwei Abfangjäger.\n"
     ]
    },
    {
     "name": "stderr",
     "output_type": "stream",
     "text": [
      "\r",
      "  5%|▌         | 5/100 [00:02<00:48,  1.98it/s]"
     ]
    },
    {
     "name": "stdout",
     "output_type": "stream",
     "text": [
      "🔹 Predicted: Sie wurde der Herrskopel Linsingen unterstellt.\n",
      "🔸 Reference: Sie wurde der Heeresgruppe Linsingen unterstellt.\n"
     ]
    },
    {
     "name": "stderr",
     "output_type": "stream",
     "text": [
      "\r",
      "  6%|▌         | 6/100 [00:03<00:48,  1.96it/s]"
     ]
    },
    {
     "name": "stdout",
     "output_type": "stream",
     "text": [
      "🔹 Predicted: Unter anderen Herzähligkeiten ist dort ein Schwain, auf dem Flos zu erkennen.\n",
      "🔸 Reference: Unter anderen Habseligkeiten ist dort ein Schwein auf dem Floß zu erkennen.\n"
     ]
    },
    {
     "name": "stderr",
     "output_type": "stream",
     "text": [
      "\r",
      "  7%|▋         | 7/100 [00:03<00:44,  2.07it/s]"
     ]
    },
    {
     "name": "stdout",
     "output_type": "stream",
     "text": [
      "🔹 Predicted: Angrenzender Wiesenreis der Osttag wurden überflutet.\n",
      "🔸 Reference: Angrenzende Wiesen rechts der Ostrach wurden überflutet.\n"
     ]
    },
    {
     "name": "stderr",
     "output_type": "stream",
     "text": [
      "\r",
      "  8%|▊         | 8/100 [00:03<00:44,  2.08it/s]"
     ]
    },
    {
     "name": "stdout",
     "output_type": "stream",
     "text": [
      "🔹 Predicted: Dadurch konnte jedes U-Boot zum Läden von Minen eingesetzt werden.\n",
      "🔸 Reference: Dadurch konnte jedes U-Boot zum Legen von Minen eingesetzt werden.\n"
     ]
    },
    {
     "name": "stderr",
     "output_type": "stream",
     "text": [
      "\r",
      "  9%|▉         | 9/100 [00:04<00:40,  2.24it/s]"
     ]
    },
    {
     "name": "stdout",
     "output_type": "stream",
     "text": [
      "🔹 Predicted: Er verdiende sich selbst als Star noch Geld als Koi Boy.\n",
      "🔸 Reference: Er verdiente sich selbst als Star noch Geld als Callboy.\n"
     ]
    },
    {
     "name": "stderr",
     "output_type": "stream",
     "text": [
      "\r",
      " 10%|█         | 10/100 [00:04<00:41,  2.15it/s]"
     ]
    },
    {
     "name": "stdout",
     "output_type": "stream",
     "text": [
      "🔹 Predicted: In der mexikanischen Volksmedizin findet sich Tradition der als städtischen Medizin.\n",
      "🔸 Reference: In der mexikanischen Volksmedizin finden sich Traditionen der aztekischen Medizin.\n"
     ]
    },
    {
     "name": "stderr",
     "output_type": "stream",
     "text": [
      "\r",
      " 11%|█         | 11/100 [00:05<00:46,  1.89it/s]"
     ]
    },
    {
     "name": "stdout",
     "output_type": "stream",
     "text": [
      "🔹 Predicted: Derbär stiess auf eine Koppel, deren Periode ungewöhnig ansammhacknimmt.\n",
      "🔸 Reference: Dabei stieß er auf eine Gruppe, deren Periode ungewöhnlich langsam abnimmt.\n"
     ]
    },
    {
     "name": "stderr",
     "output_type": "stream",
     "text": [
      "\r",
      " 12%|█▏        | 12/100 [00:06<00:48,  1.82it/s]"
     ]
    },
    {
     "name": "stdout",
     "output_type": "stream",
     "text": [
      "🔹 Predicted: \"Grinn\" aren't.The \"Souzuki\" and the \"Hand\" is verbirkt.\n",
      "🔸 Reference: Quinn ahnt, dass Suzuki ein Geheimnis verbirgt.\n"
     ]
    },
    {
     "name": "stderr",
     "output_type": "stream",
     "text": [
      "\r",
      " 13%|█▎        | 13/100 [00:06<00:44,  1.95it/s]"
     ]
    },
    {
     "name": "stdout",
     "output_type": "stream",
     "text": [
      "🔹 Predicted: Zwei weitere Kinder waren bereits vor halb Jahrzehnten gestorben.\n",
      "🔸 Reference: Zwei weitere Kinder waren bereits vor Alberti verstorben.\n"
     ]
    },
    {
     "name": "stderr",
     "output_type": "stream",
     "text": [
      "\r",
      " 14%|█▍        | 14/100 [00:07<00:50,  1.72it/s]"
     ]
    },
    {
     "name": "stdout",
     "output_type": "stream",
     "text": [
      "🔹 Predicted: Die Einkünfte aus dem Segelwerk erbüglich den Asterochang, als Freihachsrift, der Ratit ist zu werden.\n",
      "🔸 Reference: Die Einkünfte aus dem Sägewerk ermöglichten es Lorenc, als freier Schriftsteller tätig zu werden.\n"
     ]
    },
    {
     "name": "stderr",
     "output_type": "stream",
     "text": [
      "\r",
      " 15%|█▌        | 15/100 [00:07<00:45,  1.88it/s]"
     ]
    },
    {
     "name": "stdout",
     "output_type": "stream",
     "text": [
      "🔹 Predicted:  Es tutni leit, aber es arus beslāfu.\n",
      "🔸 Reference: Es tut mir leid, aber ich habe verschlafen.\n"
     ]
    },
    {
     "name": "stderr",
     "output_type": "stream",
     "text": [
      "\r",
      " 16%|█▌        | 16/100 [00:08<00:43,  1.94it/s]"
     ]
    },
    {
     "name": "stdout",
     "output_type": "stream",
     "text": [
      "🔹 Predicted: Nichtes malmherdig nicht bei Gondolatäischer Mitfahren.\n",
      "🔸 Reference: Nächstes Mal werde ich nicht bei Gundula Kircher mitfahren.\n"
     ]
    },
    {
     "name": "stderr",
     "output_type": "stream",
     "text": [
      "\r",
      " 17%|█▋        | 17/100 [00:08<00:41,  2.01it/s]"
     ]
    },
    {
     "name": "stdout",
     "output_type": "stream",
     "text": [
      "🔹 Predicted: Ich lese vor, du machst den Hintergrund die Big-Box, okay?\n",
      "🔸 Reference: Ich lese vor, du machst im Hintergrund die Beatbox, okay?\n"
     ]
    },
    {
     "name": "stderr",
     "output_type": "stream",
     "text": [
      "\r",
      " 18%|█▊        | 18/100 [00:09<00:39,  2.06it/s]"
     ]
    },
    {
     "name": "stdout",
     "output_type": "stream",
     "text": [
      "🔹 Predicted: Nach dem Verstehen der Länder und freuen sich einen, dass es schlecht ist.\n",
      "🔸 Reference: Warum verstehen Männer und Frauen sich einander so schlecht?\n"
     ]
    },
    {
     "name": "stderr",
     "output_type": "stream",
     "text": [
      "\r",
      " 19%|█▉        | 19/100 [00:09<00:38,  2.09it/s]"
     ]
    },
    {
     "name": "stdout",
     "output_type": "stream",
     "text": [
      "🔹 Predicted: Heikonau liegt northwestlich des Notoparts Lüneburger Heide.\n",
      "🔸 Reference: Heidenau liegt nordwestlich des Naturparks Lüneburger Heide.\n"
     ]
    },
    {
     "name": "stderr",
     "output_type": "stream",
     "text": [
      "\r",
      " 20%|██        | 20/100 [00:10<00:40,  2.00it/s]"
     ]
    },
    {
     "name": "stdout",
     "output_type": "stream",
     "text": [
      "🔹 Predicted: Mikisenverein konnte er bereits in Jungen Jahr an erste Nationaler Auffölge feiern.\n",
      "🔸 Reference: Mit diesem Verein konnte er bereits in jungen Jahren erste nationale Erfolge feiern.\n"
     ]
    },
    {
     "name": "stderr",
     "output_type": "stream",
     "text": [
      "\r",
      " 21%|██        | 21/100 [00:10<00:36,  2.18it/s]"
     ]
    },
    {
     "name": "stdout",
     "output_type": "stream",
     "text": [
      "🔹 Predicted: Sieher zweiterchter ein Teil in Kassin.\n",
      "🔸 Reference: Sie hat zwei Töchter und drei Enkelsöhne.\n"
     ]
    },
    {
     "name": "stderr",
     "output_type": "stream",
     "text": [
      "\r",
      " 22%|██▏       | 22/100 [00:10<00:34,  2.25it/s]"
     ]
    },
    {
     "name": "stdout",
     "output_type": "stream",
     "text": [
      "🔹 Predicted: Zahlreiche technische Erfindungen haben wirklich Neugehungen.\n",
      "🔸 Reference: Zahlreiche technische Erfindungen ermöglichten Neuerungen.\n"
     ]
    },
    {
     "name": "stderr",
     "output_type": "stream",
     "text": [
      "\r",
      " 23%|██▎       | 23/100 [00:11<00:34,  2.26it/s]"
     ]
    },
    {
     "name": "stdout",
     "output_type": "stream",
     "text": [
      "🔹 Predicted: Dort lagerte neben Munition auch an der Herrsmaterial der Bundeswehr.\n",
      "🔸 Reference: Dort lagerte neben Munition auch anderes Material der Bundeswehr.\n"
     ]
    },
    {
     "name": "stderr",
     "output_type": "stream",
     "text": [
      "\r",
      " 24%|██▍       | 24/100 [00:11<00:32,  2.32it/s]"
     ]
    },
    {
     "name": "stdout",
     "output_type": "stream",
     "text": [
      "🔹 Predicted: Der europäische Zweik wird von Fienhaus gestohlen.\n",
      "🔸 Reference: Der europäische Zweig wird von Wien aus gesteuert.\n"
     ]
    },
    {
     "name": "stderr",
     "output_type": "stream",
     "text": [
      "\r",
      " 25%|██▌       | 25/100 [00:12<00:31,  2.41it/s]"
     ]
    },
    {
     "name": "stdout",
     "output_type": "stream",
     "text": [
      "🔹 Predicted: Jemand wird speicher Platz, für die Schlüssel gestimmt.\n",
      "🔸 Reference: Hiermit wird Speicherplatz für die Schlüssel gespart.\n"
     ]
    },
    {
     "name": "stderr",
     "output_type": "stream",
     "text": [
      "\r",
      " 26%|██▌       | 26/100 [00:12<00:32,  2.28it/s]"
     ]
    },
    {
     "name": "stdout",
     "output_type": "stream",
     "text": [
      "🔹 Predicted: Danach war er jungen Trainer und später Kortrenner bei seinem Stammverein.\n",
      "🔸 Reference: Danach war er Jugendtrainer und später Co-Trainer bei seinem Stammverein.\n"
     ]
    },
    {
     "name": "stderr",
     "output_type": "stream",
     "text": [
      "\r",
      " 27%|██▋       | 27/100 [00:12<00:31,  2.31it/s]"
     ]
    },
    {
     "name": "stdout",
     "output_type": "stream",
     "text": [
      "🔹 Predicted: Aušli esi kerte ja zurück išvajas.\n",
      "🔸 Reference: Anschließend kehrte er zurück in die Schweiz.\n"
     ]
    },
    {
     "name": "stderr",
     "output_type": "stream",
     "text": [
      "\r",
      " 28%|██▊       | 28/100 [00:13<00:31,  2.32it/s]"
     ]
    },
    {
     "name": "stdout",
     "output_type": "stream",
     "text": [
      "🔹 Predicted: Es wird in Fohlen die ausgeschilderten Wege zu benutzen.\n",
      "🔸 Reference: Es wird empfohlen, die ausgeschilderten Wege zu benutzen.\n"
     ]
    },
    {
     "name": "stderr",
     "output_type": "stream",
     "text": [
      "\r",
      " 29%|██▉       | 29/100 [00:13<00:28,  2.51it/s]"
     ]
    },
    {
     "name": "stdout",
     "output_type": "stream",
     "text": [
      "🔹 Predicted: Sie blüte von Juni bis August.\n",
      "🔸 Reference: Sie blüht von Juni bis August.\n"
     ]
    },
    {
     "name": "stderr",
     "output_type": "stream",
     "text": [
      "\r",
      " 30%|███       | 30/100 [00:20<02:39,  2.27s/it]"
     ]
    },
    {
     "name": "stdout",
     "output_type": "stream",
     "text": [
      "🔹 Predicted:  ಎರಿಯರಿಯರಿಯರಿಯರಿಯರಿಯರಿಯರಿಯರಿಯರಿಯರಿಯರಿಯರಿಯರಿಯರಿಯರಿಯರಿಯರಿಯರಿಯರಿಯರಿಯರಿಯರಿಯರಿಯರಿಯರಿಯರಿಯರಿಯರಿಯರಿಯರಿಯರಿಯರಿಯರಿಯರಿಯರಿಯರಿಯರಿಯರಿಯರಿಯರಿಯರಿಯರಿಯರಿಯರಿಯರಿಯರಿಯರಿಯರಿಯರಿಯರಿಯರಿಯರಿಯರಯರಿಯರಯರಿಯರಯರಯ\n",
      "🔸 Reference: Er war der Vater der Brüder Grimm.\n"
     ]
    },
    {
     "name": "stderr",
     "output_type": "stream",
     "text": [
      "\r",
      " 31%|███       | 31/100 [00:20<02:01,  1.76s/it]"
     ]
    },
    {
     "name": "stdout",
     "output_type": "stream",
     "text": [
      "🔹 Predicted: Er provoziert und schreibt seine dreibische Überwiegend für Fernsehsierdien.\n",
      "🔸 Reference: Er produziert und schreibt seine Drehbücher überwiegend für Fernsehserien.\n"
     ]
    },
    {
     "name": "stderr",
     "output_type": "stream",
     "text": [
      "\r",
      " 32%|███▏      | 32/100 [00:21<01:33,  1.37s/it]"
     ]
    },
    {
     "name": "stdout",
     "output_type": "stream",
     "text": [
      "🔹 Predicted: Diese Timings-Methode zielt auf ein komplexes Trimming ab.\n",
      "🔸 Reference: Diese Trainingsmethode zielt auf ein komplexes Training ab.\n"
     ]
    },
    {
     "name": "stderr",
     "output_type": "stream",
     "text": [
      "\r",
      " 33%|███▎      | 33/100 [00:21<01:12,  1.09s/it]"
     ]
    },
    {
     "name": "stdout",
     "output_type": "stream",
     "text": [
      "🔹 Predicted: Dahier sollte Großbritannien nicht am Krieg teilnehmen.\n",
      "🔸 Reference: Daher solle Großbritannien nicht am Krieg teilnehmen.\n"
     ]
    },
    {
     "name": "stderr",
     "output_type": "stream",
     "text": [
      "\r",
      " 34%|███▍      | 34/100 [00:22<01:03,  1.04it/s]"
     ]
    },
    {
     "name": "stdout",
     "output_type": "stream",
     "text": [
      "🔹 Predicted: Krenik Mathias Holm-Diaghi ewit as herauswiebw dieser Gorbund zu genannt.\n",
      "🔸 Reference: König Mattias Hunyadi wird als Herausgeber dieser Goldmünze genannt.\n"
     ]
    },
    {
     "name": "stderr",
     "output_type": "stream",
     "text": [
      "\r",
      " 35%|███▌      | 35/100 [00:23<00:54,  1.20it/s]"
     ]
    },
    {
     "name": "stdout",
     "output_type": "stream",
     "text": [
      "🔹 Predicted: Das Mühlengebäude ist ein recht äckter Fachanbau mit Dattelgach.\n",
      "🔸 Reference: Das Mühlengebäude ist ein rechteckiger Fachwerkbau mit Satteldach.\n"
     ]
    },
    {
     "name": "stderr",
     "output_type": "stream",
     "text": [
      "\r",
      " 36%|███▌      | 36/100 [00:23<00:47,  1.36it/s]"
     ]
    },
    {
     "name": "stdout",
     "output_type": "stream",
     "text": [
      "🔹 Predicted: Die Kirche ist ein recht ähkiger Putschbauwuntersappelder.\n",
      "🔸 Reference: Die Kirche ist ein rechteckiger Putzbau unter Satteldach.\n"
     ]
    },
    {
     "name": "stderr",
     "output_type": "stream",
     "text": [
      "\r",
      " 37%|███▋      | 37/100 [00:24<00:44,  1.42it/s]"
     ]
    },
    {
     "name": "stdout",
     "output_type": "stream",
     "text": [
      "🔹 Predicted: Cisekter prīten wundan, stund anzor, entšai tajl nīma.\n",
      "🔸 Reference: Zwölf Interpreten wurden dann bestimmt am Vorentscheid teilnehmen.\n"
     ]
    },
    {
     "name": "stderr",
     "output_type": "stream",
     "text": [
      "\r",
      " 38%|███▊      | 38/100 [00:24<00:40,  1.53it/s]"
     ]
    },
    {
     "name": "stdout",
     "output_type": "stream",
     "text": [
      "🔹 Predicted: Dibaini koma aukoslai prīsiems ir spraši.\n",
      "🔸 Reference: Die beiden kommen auf das Weibliche zu sprechen.\n"
     ]
    },
    {
     "name": "stderr",
     "output_type": "stream",
     "text": [
      "\r",
      " 39%|███▉      | 39/100 [00:25<00:35,  1.71it/s]"
     ]
    },
    {
     "name": "stdout",
     "output_type": "stream",
     "text": [
      "🔹 Predicted: アムシシャスン is mein Geld und am Kopfkissen.\n",
      "🔸 Reference: Am sichersten ist mein Geld unterm Kopfkissen.\n"
     ]
    },
    {
     "name": "stderr",
     "output_type": "stream",
     "text": [
      "\r",
      " 40%|████      | 40/100 [00:25<00:32,  1.84it/s]"
     ]
    },
    {
     "name": "stdout",
     "output_type": "stream",
     "text": [
      "🔹 Predicted: Fier Jahrhundamten saß ich unzundlich im Klöst.\n",
      "🔸 Reference: Vier Jahre lange saß ich unschuldig im Knast.\n"
     ]
    },
    {
     "name": "stderr",
     "output_type": "stream",
     "text": [
      "\r",
      " 41%|████      | 41/100 [00:26<00:30,  1.92it/s]"
     ]
    },
    {
     "name": "stdout",
     "output_type": "stream",
     "text": [
      "🔹 Predicted: ファンタッシュリン haben sie die Funde damals verlorgert.\n",
      "🔸 Reference: Für ein paar Schilling haben sie die Funde damals verhökert.\n"
     ]
    },
    {
     "name": "stderr",
     "output_type": "stream",
     "text": [
      "\r",
      " 42%|████▏     | 42/100 [00:26<00:31,  1.82it/s]"
     ]
    },
    {
     "name": "stdout",
     "output_type": "stream",
     "text": [
      "🔹 Predicted: Mann sollte die Gegner gar nicht äst, zu umgestärkt in den Stafhäum kommen lassen.\n",
      "🔸 Reference: Man sollte den Gegner gar nicht erst so ungestört in den Strafraum kommen lassen.\n"
     ]
    },
    {
     "name": "stderr",
     "output_type": "stream",
     "text": [
      "\r",
      " 43%|████▎     | 43/100 [00:26<00:26,  2.16it/s]"
     ]
    },
    {
     "name": "stdout",
     "output_type": "stream",
     "text": [
      "🔹 Predicted: Dabei sollten wir es belassen.\n",
      "🔸 Reference: Dabei sollten wir es belassen.\n"
     ]
    },
    {
     "name": "stderr",
     "output_type": "stream",
     "text": [
      "\r",
      " 44%|████▍     | 44/100 [00:27<00:23,  2.35it/s]"
     ]
    },
    {
     "name": "stdout",
     "output_type": "stream",
     "text": [
      "🔹 Predicted: Der Film befindet sich aktuell in der Postproduktion.\n",
      "🔸 Reference: Der Film befindet sich aktuell in der Postproduktion.\n"
     ]
    },
    {
     "name": "stderr",
     "output_type": "stream",
     "text": [
      "\r",
      " 45%|████▌     | 45/100 [00:27<00:26,  2.11it/s]"
     ]
    },
    {
     "name": "stdout",
     "output_type": "stream",
     "text": [
      "🔹 Predicted: Seiter Ruflung gibt es beschwerden über den Lärm belästigt und durch den Bahnhof.\n",
      "🔸 Reference: Seit Eröffnung gibt es Beschwerden über die Lärmbelästigung durch den Bahnhof.\n"
     ]
    },
    {
     "name": "stderr",
     "output_type": "stream",
     "text": [
      "\r",
      " 46%|████▌     | 46/100 [00:28<00:23,  2.30it/s]"
     ]
    },
    {
     "name": "stdout",
     "output_type": "stream",
     "text": [
      "🔹 Predicted: Amstrends dienstrendkörte.\n",
      "🔸 Reference: Am Strand stehen Strandkörbe.\n"
     ]
    },
    {
     "name": "stderr",
     "output_type": "stream",
     "text": [
      "\r",
      " 47%|████▋     | 47/100 [00:28<00:24,  2.18it/s]"
     ]
    },
    {
     "name": "stdout",
     "output_type": "stream",
     "text": [
      "🔹 Predicted: Die Ostwand zeigt zwischen zwei seitlichen Engelsfiguren das Euderblatt verhält.\n",
      "🔸 Reference: Die Ostwand zeigt zwischen zwei seitlichen Engelsfiguren das Altarblatt hl.\n"
     ]
    },
    {
     "name": "stderr",
     "output_type": "stream",
     "text": [
      "\r",
      " 48%|████▊     | 48/100 [00:29<00:27,  1.92it/s]"
     ]
    },
    {
     "name": "stdout",
     "output_type": "stream",
     "text": [
      "🔹 Predicted: Der Inenarm wurde mit einer Holzstrecke in Form eines Umgekehrten-Schiffshompses gedreckt.\n",
      "🔸 Reference: Der Innenraum wurde mit einer Holzdecke in Form eines umgekehrten Schiffsrumpfes gedeckt.\n"
     ]
    },
    {
     "name": "stderr",
     "output_type": "stream",
     "text": [
      "\r",
      " 49%|████▉     | 49/100 [00:29<00:25,  1.97it/s]"
     ]
    },
    {
     "name": "stdout",
     "output_type": "stream",
     "text": [
      "🔹 Predicted: Froh den Sitzreinstand, ein Pult aus massiver Buchen.\n",
      "🔸 Reference: Vor den Sitzreihen stand ein Pult aus massiver Buche.\n"
     ]
    },
    {
     "name": "stderr",
     "output_type": "stream",
     "text": [
      "\r",
      " 50%|█████     | 50/100 [00:30<00:26,  1.91it/s]"
     ]
    },
    {
     "name": "stdout",
     "output_type": "stream",
     "text": [
      "🔹 Predicted:  ಎರಿಯನಿಯನಿಯನಿ\n",
      "🔸 Reference: Was heißt das auf Romanes?\n"
     ]
    },
    {
     "name": "stderr",
     "output_type": "stream",
     "text": [
      "\r",
      " 51%|█████     | 51/100 [00:30<00:25,  1.96it/s]"
     ]
    },
    {
     "name": "stdout",
     "output_type": "stream",
     "text": [
      "🔹 Predicted: 料、der soll sich auch schon versiebt, aber das bergrichts.\n",
      "🔸 Reference: Ja, das habe ich auch schon versucht, aber das bringt nichts.\n"
     ]
    },
    {
     "name": "stderr",
     "output_type": "stream",
     "text": [
      "\r",
      " 52%|█████▏    | 52/100 [00:31<00:22,  2.09it/s]"
     ]
    },
    {
     "name": "stdout",
     "output_type": "stream",
     "text": [
      "🔹 Predicted: Amderstertel für Rundenarchung benötigt.\n",
      "🔸 Reference: An der Pastatheke wird Nachschub benötigt.\n"
     ]
    },
    {
     "name": "stderr",
     "output_type": "stream",
     "text": [
      "\r",
      " 53%|█████▎    | 53/100 [00:31<00:20,  2.32it/s]"
     ]
    },
    {
     "name": "stdout",
     "output_type": "stream",
     "text": [
      "🔹 Predicted: Das schlafen wir wie er sich die Augen.\n",
      "🔸 Reference: Verschlafen rieb er sich die Augen.\n"
     ]
    },
    {
     "name": "stderr",
     "output_type": "stream",
     "text": [
      "\r",
      " 54%|█████▍    | 54/100 [00:31<00:18,  2.43it/s]"
     ]
    },
    {
     "name": "stdout",
     "output_type": "stream",
     "text": [
      "🔹 Predicted: Die Weihnachtsgeschichte beginnen mit einer Volkszähnung.\n",
      "🔸 Reference: Die Weihnachtsgeschichte beginnt mit einer Volkszählung.\n"
     ]
    },
    {
     "name": "stderr",
     "output_type": "stream",
     "text": [
      "\r",
      " 55%|█████▌    | 55/100 [00:32<00:18,  2.41it/s]"
     ]
    },
    {
     "name": "stdout",
     "output_type": "stream",
     "text": [
      "🔹 Predicted:  ಕೈವೈವೈವೈ\n",
      "🔸 Reference: Schau mal in der Legende nach.\n"
     ]
    },
    {
     "name": "stderr",
     "output_type": "stream",
     "text": [
      "\r",
      " 56%|█████▌    | 56/100 [00:32<00:17,  2.57it/s]"
     ]
    },
    {
     "name": "stdout",
     "output_type": "stream",
     "text": [
      "🔹 Predicted: Kann ich auch für ein Lutschern?\n",
      "🔸 Reference: Kann ich auch so einen Lutscher haben?\n"
     ]
    },
    {
     "name": "stderr",
     "output_type": "stream",
     "text": [
      "\r",
      " 57%|█████▋    | 57/100 [00:41<02:01,  2.82s/it]"
     ]
    },
    {
     "name": "stdout",
     "output_type": "stream",
     "text": [
      "🔹 Predicted:  Riektišišišišišišišišišišišišišišišišišišišišišišišišišišišišišišišišišišišišišišišišišišišišišišišišišišišišišišišišišišišišišišišišišišišišišišišišišišišišišišišišišišišišišišišišišišišišišišišišišišišišišišišišišišišišišišišišišišišišišišišišišišišišišišišišišišišišišišišišišišišišišišišišišišišišišišišišišišišišišišišišišišišišišišišišišišišišišišišišišišišišišišišišišišišišišišišišišišišišišišišišišišišišišišišišišišišišišišišišišišišiši\n",
      "🔸 Reference: Reg dich nicht auf.\n"
     ]
    },
    {
     "name": "stderr",
     "output_type": "stream",
     "text": [
      "\r",
      " 58%|█████▊    | 58/100 [00:41<01:30,  2.15s/it]"
     ]
    },
    {
     "name": "stdout",
     "output_type": "stream",
     "text": [
      "🔹 Predicted: Das gelang erst dem Englischen Physikortreins Chackwik hat er die Experimentarität.\n",
      "🔸 Reference: Das gelang erst dem englischen Physiker James Chadwick, als er die Experimente wiederholte.\n"
     ]
    },
    {
     "name": "stderr",
     "output_type": "stream",
     "text": [
      "\r",
      " 59%|█████▉    | 59/100 [00:42<01:08,  1.66s/it]"
     ]
    },
    {
     "name": "stdout",
     "output_type": "stream",
     "text": [
      "🔹 Predicted: In den folgenden drei Abschnitten sind diese der Übersichthalber ausgespart.\n",
      "🔸 Reference: In den folgenden drei Abschnitten sind diese der Übersicht halber ausgespart.\n"
     ]
    },
    {
     "name": "stderr",
     "output_type": "stream",
     "text": [
      "\r",
      " 60%|██████    | 60/100 [00:42<00:53,  1.34s/it]"
     ]
    },
    {
     "name": "stdout",
     "output_type": "stream",
     "text": [
      "🔹 Predicted: Der Nahne stand aus dem verzögern Umbedeutung der wörtlichen Gesetzungsdienste.\n",
      "🔸 Reference: Der Name stammt aus dem Französischen und bedeutet in der wörtlichen Übersetzung „Dingsda“.\n"
     ]
    },
    {
     "name": "stderr",
     "output_type": "stream",
     "text": [
      "\r",
      " 61%|██████    | 61/100 [00:43<00:41,  1.06s/it]"
     ]
    },
    {
     "name": "stdout",
     "output_type": "stream",
     "text": [
      "🔹 Predicted: Ich halte das rechtlich für den Falschmann Satz.\n",
      "🔸 Reference: Ich halte das rechtlich für den falschen Ansatz.\n"
     ]
    },
    {
     "name": "stderr",
     "output_type": "stream",
     "text": [
      "\r",
      " 62%|██████▏   | 62/100 [00:43<00:32,  1.15it/s]"
     ]
    },
    {
     "name": "stdout",
     "output_type": "stream",
     "text": [
      "🔹 Predicted: Die staatlichen Beihilfen werden wir in Zagier gestellt.\n",
      "🔸 Reference: Die staatlichen Beihilfen werden hier in Frage gestellt.\n"
     ]
    },
    {
     "name": "stderr",
     "output_type": "stream",
     "text": [
      "\r",
      " 63%|██████▎   | 63/100 [00:44<00:25,  1.44it/s]"
     ]
    },
    {
     "name": "stdout",
     "output_type": "stream",
     "text": [
      "🔹 Predicted: まるにがつあもすけま\n",
      "🔸 Reference: Mal ein ganz anderes Thema.\n"
     ]
    },
    {
     "name": "stderr",
     "output_type": "stream",
     "text": [
      "\r",
      " 64%|██████▍   | 64/100 [00:44<00:21,  1.71it/s]"
     ]
    },
    {
     "name": "stdout",
     "output_type": "stream",
     "text": [
      "🔹 Predicted: Insgesamt aber ist das Verfahren ausgereift.\n",
      "🔸 Reference: Insgesamt aber ist das Verfahren ausgereift.\n"
     ]
    },
    {
     "name": "stderr",
     "output_type": "stream",
     "text": [
      "\r",
      " 65%|██████▌   | 65/100 [00:44<00:20,  1.75it/s]"
     ]
    },
    {
     "name": "stdout",
     "output_type": "stream",
     "text": [
      "🔹 Predicted: Ich brauch kund betrenzt es sein Faktor der ein sozialen Vortherferschaft.\n",
      "🔸 Reference: Sprachenkompetenz ist ein Faktor, der einen sozialen Vorteil verschafft.\n"
     ]
    },
    {
     "name": "stderr",
     "output_type": "stream",
     "text": [
      "\r",
      " 66%|██████▌   | 66/100 [00:45<00:19,  1.74it/s]"
     ]
    },
    {
     "name": "stdout",
     "output_type": "stream",
     "text": [
      "🔹 Predicted: Die Keinwehrkundenhagen-Schereinschaft ist eine Körperschaft des öffentlichen Rechts.\n",
      "🔸 Reference: Die Calenberg-Grubenhagensche Landschaft ist eine Körperschaft des öffentlichen Rechts.\n"
     ]
    },
    {
     "name": "stderr",
     "output_type": "stream",
     "text": [
      "\r",
      " 67%|██████▋   | 67/100 [00:46<00:19,  1.66it/s]"
     ]
    },
    {
     "name": "stdout",
     "output_type": "stream",
     "text": [
      "🔹 Predicted: Die Mieter genießen Ansatz für Vorkaufsgeicht und an aufweiterten Königurchschats.\n",
      "🔸 Reference: Die Mieter genießen ein gesetzliches Vorkaufsrecht und einen erweiterten Kündigungsschutz.\n"
     ]
    },
    {
     "name": "stderr",
     "output_type": "stream",
     "text": [
      "\r",
      " 68%|██████▊   | 68/100 [00:46<00:19,  1.63it/s]"
     ]
    },
    {
     "name": "stdout",
     "output_type": "stream",
     "text": [
      "🔹 Predicted: Ain Jahr lang leiterte sie die Tochtergesellschaft eines Deutschland-Tankems in Großbritannien.\n",
      "🔸 Reference: Ein Jahr lang leitete sie die Tochtergesellschaft eines deutschen Unternehmens in Großbritannien.\n"
     ]
    },
    {
     "name": "stderr",
     "output_type": "stream",
     "text": [
      "\r",
      " 69%|██████▉   | 69/100 [00:55<01:31,  2.97s/it]"
     ]
    },
    {
     "name": "stdout",
     "output_type": "stream",
     "text": [
      "🔹 Predicted: 磨創的一体的一体的一体的一体的一体的一体的一体的一体的一体的一体的一体的一体的一体的一体的一体的一体的一体的一体的一体的一体的一体的一体的一体的一体的一体的一体的一体的一体的一体的一体的一体的一体的一体的一体的一体的一体的一体的一体的一体的一体的一体的一体的一体的一体的一体的一体的一体的一体的一体的一体的一体的一体的一体的一体的一体的一体的一体的一体的一体的一体的一体的一体的一体的一体的一体的一体的一体的一体的一体的一体的一体的一体的一体的一体的一体的一体的一体的一体的一体的一体的一体的一体的一体的一体的一体的一体的一体的一体的一体的一体的一体的一体的一体的一体的一体的一体的一体的一体的一体的一体的一体的一体的一体的一体的一体的一体的一体的一体的一体的一体的一体的一体的一体的一体的一体的一体的一体的一体的一体的一体的一体的一体的一体的一体的一体的一体的一体的一体的一体的一体的一体的一体的一体的一体的一体的一体的一体的一体的一体的一体的一体的一体的一体的一体的一体的一体的一\n",
      "🔸 Reference: Sie lebt mit ihrem Mann, dem Bodybuilder Jeff Baugh, in Louisville, Kentucky.\n"
     ]
    },
    {
     "name": "stderr",
     "output_type": "stream",
     "text": [
      "\r",
      " 70%|███████   | 70/100 [00:55<01:05,  2.17s/it]"
     ]
    },
    {
     "name": "stdout",
     "output_type": "stream",
     "text": [
      "🔹 Predicted: Sehle so wurde aufgeteilt.\n",
      "🔸 Reference: Sein Ressort wurde aufgeteilt.\n"
     ]
    },
    {
     "name": "stderr",
     "output_type": "stream",
     "text": [
      "\r",
      " 71%|███████   | 71/100 [00:55<00:47,  1.63s/it]"
     ]
    },
    {
     "name": "stdout",
     "output_type": "stream",
     "text": [
      "🔹 Predicted: Sie ist ein Schiffmietchen mit Usingher.\n",
      "🔸 Reference: Sie ist ein Schaf Mädchen mit rose Haar.\n"
     ]
    },
    {
     "name": "stderr",
     "output_type": "stream",
     "text": [
      "\r",
      " 72%|███████▏  | 72/100 [00:56<00:36,  1.29s/it]"
     ]
    },
    {
     "name": "stdout",
     "output_type": "stream",
     "text": [
      "🔹 Predicted: �다도して、リベナファディで、リタオリガオス\n",
      "🔸 Reference: Dadurch stiegen die Villacher wieder in die Tauernliga auf.\n"
     ]
    },
    {
     "name": "stderr",
     "output_type": "stream",
     "text": [
      "\r",
      " 73%|███████▎  | 73/100 [00:57<00:29,  1.11s/it]"
     ]
    },
    {
     "name": "stdout",
     "output_type": "stream",
     "text": [
      "🔹 Predicted: Fähre dieser Manuskripte weiß nie doch späterre Verfälschungen entklamen Interpolationen auf.\n",
      "🔸 Reference: Viele dieser Manuskripte weisen jedoch spätere Verfälschungen (Interpolationen) auf.\n"
     ]
    },
    {
     "name": "stderr",
     "output_type": "stream",
     "text": [
      "\r",
      " 74%|███████▍  | 74/100 [00:57<00:23,  1.10it/s]"
     ]
    },
    {
     "name": "stdout",
     "output_type": "stream",
     "text": [
      "🔹 Predicted: Habt ihr genüge Vorwürfe der vierzehnten Wochen?\n",
      "🔸 Reference: Habt ihr genügend Vorräte für zwei Wochen?\n"
     ]
    },
    {
     "name": "stderr",
     "output_type": "stream",
     "text": [
      "\r",
      " 75%|███████▌  | 75/100 [00:58<00:19,  1.26it/s]"
     ]
    },
    {
     "name": "stdout",
     "output_type": "stream",
     "text": [
      "🔹 Predicted: Ihre hat desechs enke Kindle, die alle von seiter Tarte stand.\n",
      "🔸 Reference: Er hatte sechs Enkelkinder, die alle von seiner Tochter stammen.\n"
     ]
    },
    {
     "name": "stderr",
     "output_type": "stream",
     "text": [
      "\r",
      " 76%|███████▌  | 76/100 [00:58<00:17,  1.36it/s]"
     ]
    },
    {
     "name": "stdout",
     "output_type": "stream",
     "text": [
      "🔹 Predicted: Siegis nunmehre Bestandteil der regularen Ausschällung am Hältenweg.\n",
      "🔸 Reference: Sie ist nunmehr Bestandteil der regulären Ausstellung am Heldenberg.\n"
     ]
    },
    {
     "name": "stderr",
     "output_type": "stream",
     "text": [
      "\r",
      " 77%|███████▋  | 77/100 [00:59<00:14,  1.56it/s]"
     ]
    },
    {
     "name": "stdout",
     "output_type": "stream",
     "text": [
      "🔹 Predicted: Auflāke fosjtendik ins Deutche.\n",
      "🔸 Reference: Auflage vollständig ins Deutsche.\n"
     ]
    },
    {
     "name": "stderr",
     "output_type": "stream",
     "text": [
      "\r",
      " 78%|███████▊  | 78/100 [00:59<00:13,  1.66it/s]"
     ]
    },
    {
     "name": "stdout",
     "output_type": "stream",
     "text": [
      "🔹 Predicted: In Bikernrohlen sind Ceketan und Samoa-Halt zu See.\n",
      "🔸 Reference: In weiteren Rollen sind Jackie Chan und Sammo Hung zu sehen.\n"
     ]
    },
    {
     "name": "stderr",
     "output_type": "stream",
     "text": [
      "\r",
      " 79%|███████▉  | 79/100 [00:59<00:10,  1.94it/s]"
     ]
    },
    {
     "name": "stdout",
     "output_type": "stream",
     "text": [
      "🔹 Predicted: Er wird von Alexander Kirin gestrochen.\n",
      "🔸 Reference: Er wird von Alexander Grimm gesprochen.\n"
     ]
    },
    {
     "name": "stderr",
     "output_type": "stream",
     "text": [
      "\r",
      " 80%|████████  | 80/100 [01:00<00:11,  1.77it/s]"
     ]
    },
    {
     "name": "stdout",
     "output_type": "stream",
     "text": [
      "🔹 Predicted: アンスキリスのスティディティアン、ハイディベルト、ユーラン\n",
      "🔸 Reference: Anschließend studierte er in Heidelberg Jura.\n"
     ]
    },
    {
     "name": "stderr",
     "output_type": "stream",
     "text": [
      "\r",
      " 81%|████████  | 81/100 [01:00<00:09,  2.02it/s]"
     ]
    },
    {
     "name": "stdout",
     "output_type": "stream",
     "text": [
      "🔹 Predicted: Es werden vier und Tag ein Unterschieb.\n",
      "🔸 Reference: Es werden vier Unterarten unterschieden.\n"
     ]
    },
    {
     "name": "stderr",
     "output_type": "stream",
     "text": [
      "\r",
      " 82%|████████▏ | 82/100 [01:01<00:08,  2.07it/s]"
     ]
    },
    {
     "name": "stdout",
     "output_type": "stream",
     "text": [
      "🔹 Predicted: Seine beste Platzierung hat er sechste Platz am großen Preis von Valencia.\n",
      "🔸 Reference: Seine beste Platzierung war der sechste Platz beim Großen Preis von Valencia.\n"
     ]
    },
    {
     "name": "stderr",
     "output_type": "stream",
     "text": [
      "\r",
      " 83%|████████▎ | 83/100 [01:02<00:09,  1.84it/s]"
     ]
    },
    {
     "name": "stdout",
     "output_type": "stream",
     "text": [
      "🔹 Predicted: Eine Weiteruhm ein Stein gewickelter Botschaft fliegt anschließend durch Bordrenz-Fenster.\n",
      "🔸 Reference: Eine weitere um einen Stein gewickelte Botschaft fliegt anschließend durch Baldwins Fenster.\n"
     ]
    },
    {
     "name": "stderr",
     "output_type": "stream",
     "text": [
      "\r",
      " 84%|████████▍ | 84/100 [01:02<00:07,  2.09it/s]"
     ]
    },
    {
     "name": "stdout",
     "output_type": "stream",
     "text": [
      "🔹 Predicted: Armee in die Atemstellung zurückgezogen.\n",
      "🔸 Reference: Armee in die \"Hagen Stellung\" zurückgezogen.\n"
     ]
    },
    {
     "name": "stderr",
     "output_type": "stream",
     "text": [
      "\r",
      " 85%|████████▌ | 85/100 [01:02<00:06,  2.25it/s]"
     ]
    },
    {
     "name": "stdout",
     "output_type": "stream",
     "text": [
      "🔹 Predicted: She got to learn the mind of the pastor of the toilet.\n",
      "🔸 Reference: Sie wird von einem Gemeindepastor betreut.\n"
     ]
    },
    {
     "name": "stderr",
     "output_type": "stream",
     "text": [
      "\r",
      " 86%|████████▌ | 86/100 [01:03<00:06,  2.25it/s]"
     ]
    },
    {
     "name": "stdout",
     "output_type": "stream",
     "text": [
      "🔹 Predicted: Die Buchtarben Form sind angelehnt an die Form der Texture.\n",
      "🔸 Reference: Die Buchstabenformen sind angelehnt an die Formen der Textura.\n"
     ]
    },
    {
     "name": "stderr",
     "output_type": "stream",
     "text": [
      "\r",
      " 87%|████████▋ | 87/100 [01:03<00:05,  2.18it/s]"
     ]
    },
    {
     "name": "stdout",
     "output_type": "stream",
     "text": [
      "🔹 Predicted: Die deutschen Besucher wurden vertrieben und die Einwohner zahlsamen Tastisch.\n",
      "🔸 Reference: Die deutschen Bewohner wurden vertrieben und die Einwohnerzahl sank drastisch.\n"
     ]
    },
    {
     "name": "stderr",
     "output_type": "stream",
     "text": [
      "\r",
      " 88%|████████▊ | 88/100 [01:04<00:06,  1.79it/s]"
     ]
    },
    {
     "name": "stdout",
     "output_type": "stream",
     "text": [
      "🔹 Predicted: かすは、そのキャーカーファリースにフォーラチュールをカネットにパンスフリー\n",
      "🔸 Reference: Kossoff und Kirke verließen die Formation und gründeten die Band Free.\n"
     ]
    },
    {
     "name": "stderr",
     "output_type": "stream",
     "text": [
      "\r",
      " 89%|████████▉ | 89/100 [01:05<00:06,  1.76it/s]"
     ]
    },
    {
     "name": "stdout",
     "output_type": "stream",
     "text": [
      "🔹 Predicted: Hartilfam un Marijartilfabonu normanāt vairhātit.\n",
      "🔸 Reference: Artelt war mit Marie Artelt, geborene Neumann verheiratet.\n"
     ]
    },
    {
     "name": "stderr",
     "output_type": "stream",
     "text": [
      "\r",
      " 90%|█████████ | 90/100 [01:05<00:05,  1.69it/s]"
     ]
    },
    {
     "name": "stdout",
     "output_type": "stream",
     "text": [
      "🔹 Predicted: Hen wurde aus dem Erechlin die Liedersochsen und den Ordresst Deutsche Hauswolle ruf.\n",
      "🔸 Reference: Er wurde außerdem mehrfach in die Niedersachsen- und die Nordwestdeutsche Auswahl berufen.\n"
     ]
    },
    {
     "name": "stderr",
     "output_type": "stream",
     "text": [
      "\r",
      " 91%|█████████ | 91/100 [01:06<00:04,  1.84it/s]"
     ]
    },
    {
     "name": "stdout",
     "output_type": "stream",
     "text": [
      "🔹 Predicted: Fliegdierstogle ist verheirat und hat zwei Kinder.\n",
      "🔸 Reference: Friedrich Strobl ist verheiratet und hat zwei Kinder.\n"
     ]
    },
    {
     "name": "stderr",
     "output_type": "stream",
     "text": [
      "\r",
      " 92%|█████████▏| 92/100 [01:06<00:04,  1.65it/s]"
     ]
    },
    {
     "name": "stdout",
     "output_type": "stream",
     "text": [
      "🔹 Predicted: Im vikāris nārsegandasētu un neudas toru, un viņu verwilgat.\n",
      "🔸 Reference: In militärische Auseinandersetzungen war das Tor nie verwickelt.\n"
     ]
    },
    {
     "name": "stderr",
     "output_type": "stream",
     "text": [
      "\r",
      " 93%|█████████▎| 93/100 [01:07<00:04,  1.55it/s]"
     ]
    },
    {
     "name": "stdout",
     "output_type": "stream",
     "text": [
      "🔹 Predicted: Inhorum besteht das Frechland, seit den Krebsen Klein-Säugen, der Klein-Erfüllung und der Reihach.\n",
      "🔸 Reference: Die Nahrung besteht aus Früchten, Insekten, Krebsen, Kleinsäugern, sowie kleineren Vögeln und deren Eiern.\n"
     ]
    },
    {
     "name": "stderr",
     "output_type": "stream",
     "text": [
      "\r",
      " 94%|█████████▍| 94/100 [01:08<00:03,  1.79it/s]"
     ]
    },
    {
     "name": "stdout",
     "output_type": "stream",
     "text": [
      "🔹 Predicted: Sie ist mit dem Flanor einbechaert.\n",
      "🔸 Reference: Sie ist mit Sophia Loren befreundet.\n"
     ]
    },
    {
     "name": "stderr",
     "output_type": "stream",
     "text": [
      "\r",
      " 95%|█████████▌| 95/100 [01:08<00:02,  1.94it/s]"
     ]
    },
    {
     "name": "stdout",
     "output_type": "stream",
     "text": [
      "🔹 Predicted: Wir müssen uns aus stärkeren Gelesußen kreben.\n",
      "🔸 Reference: Wir müssen uns auch stärker um die Ressourcen kümmern.\n"
     ]
    },
    {
     "name": "stderr",
     "output_type": "stream",
     "text": [
      "\r",
      " 96%|█████████▌| 96/100 [01:09<00:02,  1.86it/s]"
     ]
    },
    {
     "name": "stdout",
     "output_type": "stream",
     "text": [
      "🔹 Predicted: Durch die verändern Lebensbedingungen hat Kreuzberger zur Talentstandort und Attraktivität gewonnen.\n",
      "🔸 Reference: Durch die veränderten Lebensbedingungen hat Kreuzberg als Unternehmensstandort an Attraktivität gewonnen.\n"
     ]
    },
    {
     "name": "stderr",
     "output_type": "stream",
     "text": [
      "\r",
      " 97%|█████████▋| 97/100 [01:09<00:01,  1.93it/s]"
     ]
    },
    {
     "name": "stdout",
     "output_type": "stream",
     "text": [
      "🔹 Predicted: In diesem Jahr gewann Timmins Gründer Günter Inscherzen.\n",
      "🔸 Reference: In diesem Jahr gewann Unternehmensgründer Günther Irmscher sen.\n"
     ]
    },
    {
     "name": "stderr",
     "output_type": "stream",
     "text": [
      "\r",
      " 98%|█████████▊| 98/100 [01:09<00:00,  2.09it/s]"
     ]
    },
    {
     "name": "stdout",
     "output_type": "stream",
     "text": [
      "🔹 Predicted: The success of Fainia in relation to social citizen joke policies.\n",
      "🔸 Reference: Their success or failure in relation to social citizenship policies“.\n"
     ]
    },
    {
     "name": "stderr",
     "output_type": "stream",
     "text": [
      "\r",
      " 99%|█████████▉| 99/100 [01:10<00:00,  1.94it/s]"
     ]
    },
    {
     "name": "stdout",
     "output_type": "stream",
     "text": [
      "🔹 Predicted: Zudem weiß es auch, eine Antibakterielle und ein Zimmungshemdewirkung aus.\n",
      "🔸 Reference: Zudem weist es auch eine antibakterielle und entzündungshemmende Wirkung auf.\n"
     ]
    },
    {
     "name": "stderr",
     "output_type": "stream",
     "text": [
      "100%|██████████| 100/100 [01:11<00:00,  1.41it/s]"
     ]
    },
    {
     "name": "stdout",
     "output_type": "stream",
     "text": [
      "🔹 Predicted:  Müsiā jau enti, kas jau daimus kicvek un hapst.\n",
      "🔸 Reference: Wisst ihr eigentlich, was ihr da losgetreten habt?\n",
      "✅ DE WER: 0.5995\n"
     ]
    },
    {
     "name": "stderr",
     "output_type": "stream",
     "text": [
      "\n"
     ]
    }
   ],
   "source": [
    "import torch\n",
    "from jiwer import wer\n",
    "from tqdm import tqdm\n",
    "\n",
    "lang_list = [\"ko\", \"en\", \"ja\", \"de\"]\n",
    "lang_wer_results = {}\n",
    "\n",
    "for lang in lang_list:\n",
    "    print(f\"🌍 Language: {lang}\")\n",
    "    lang_data = [x for x in val_dataset if x[\"locale\"] == lang]\n",
    "\n",
    "    predictions, references = [], []\n",
    "\n",
    "    for sample in tqdm(lang_data):\n",
    "        input_features = processor.feature_extractor(\n",
    "            sample[\"audio\"][\"array\"], sampling_rate=16000, return_tensors=\"pt\"\n",
    "        ).input_features.to(model.device)\n",
    "\n",
    "        decoder_ids = processor.get_decoder_prompt_ids(language=sample[\"locale\"], task=\"transcribe\")\n",
    "        model.config.forced_decoder_ids = decoder_ids\n",
    "\n",
    "        with torch.no_grad():\n",
    "            predicted_ids = model.generate(input_features)\n",
    "\n",
    "        transcription = processor.batch_decode(predicted_ids, skip_special_tokens=True)[0]\n",
    "        predictions.append(transcription)\n",
    "        references.append(sample[\"sentence\"])\n",
    "\n",
    "        print(f\"🔹 Predicted: {transcription}\")\n",
    "        print(f\"🔸 Reference: {sample['sentence']}\")\n",
    "\n",
    "    score = wer(references, predictions)\n",
    "    lang_wer_results[lang] = score\n",
    "    print(f\"✅ {lang.upper()} WER: {score:.4f}\")\n"
   ]
  },
  {
   "cell_type": "code",
   "execution_count": 10,
   "metadata": {},
   "outputs": [
    {
     "name": "stdout",
     "output_type": "stream",
     "text": [
      "\n",
      "📊 WER 결과 (낮을수록 정확)\n",
      "DE : 0.5995\n",
      "KO : 0.7224\n",
      "EN : 0.8115\n",
      "JA : 0.9700\n"
     ]
    },
    {
     "data": {
      "image/png": "[encoded data removed]",
      "text/plain": [
       "<Figure size 800x500 with 1 Axes>"
      ]
     },
     "metadata": {},
     "output_type": "display_data"
    }
   ],
   "source": [
    "import matplotlib.pyplot as plt\n",
    "import numpy as np\n",
    "\n",
    "print(\"\\n📊 WER 결과 (낮을수록 정확)\")\n",
    "for lang, score in sorted(lang_wer_results.items(), key=lambda x: x[1]):\n",
    "    print(f\"{lang.upper()} : {score:.4f}\")\n",
    "\n",
    "langs_sorted = [x[0] for x in sorted(lang_wer_results.items(), key=lambda x: x[1])]\n",
    "scores_sorted = [x[1] for x in sorted(lang_wer_results.items(), key=lambda x: x[1])]\n",
    "\n",
    "plt.figure(figsize=(8,5))\n",
    "plt.bar(langs_sorted, scores_sorted)\n",
    "plt.title(\"WER by Language (Whisper-small Run 2)\")\n",
    "plt.xlabel(\"Language\")\n",
    "plt.ylabel(\"WER\")\n",
    "\n",
    "for i, v in enumerate(scores_sorted):\n",
    "    plt.text(i, v + 0.01, f\"{v:.3f}\", ha='center')\n",
    "\n",
    "plt.tight_layout()\n",
    "plt.savefig(\"wer_small_run2.png\")\n",
    "plt.show()"
   ]
  },
  {
   "cell_type": "markdown",
   "metadata": {
    "id": "sx_Un404vNMq"
   },
   "source": [
    "<data 100개 증량 + 하이퍼파라미터 튜닝>\n",
    "- KO : 0.9497 -> 0.7224\n",
    "- DE : 1.1159 -> 0.5995\n",
    "- JA : 1.5100 -> 0.9700\n",
    "- EN : 1.8555 -> 0.8115"
   ]
  }
 ],
 "metadata": {
  "language_info": {
   "name": "python"
  }
 },
 "nbformat": 4,
 "nbformat_minor": 0
}
