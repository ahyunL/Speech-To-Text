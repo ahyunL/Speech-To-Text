{
 "cells": [
  {
   "cell_type": "code",
   "execution_count": 2,
   "metadata": {},
   "outputs": [
    {
     "name": "stdout",
     "output_type": "stream",
     "text": [
      "Drive already mounted at /content/drive; to attempt to forcibly remount, call drive.mount(\"/content/drive\", force_remount=True).\n"
     ]
    }
   ],
   "source": [
    "!pip install -U transformers datasets jiwer accelerate librosa --quiet\n",
    "\n",
    "from google.colab import drive\n",
    "drive.mount('/content/drive')"
   ]
  },
  {
   "cell_type": "code",
   "execution_count": 3,
   "metadata": {},
   "outputs": [
    {
     "data": {
      "application/vnd.jupyter.widget-view+json": {
       "model_id": "c64f0f2c81ed4e359ab17a568f33173d",
       "version_major": 2,
       "version_minor": 0
      },
      "text/plain": [
       "VBox(children=(HTML(value='<center> <img\\nsrc=https://huggingface.co/front/assets/huggingface_logo-noborder.sv…"
      ]
     },
     "metadata": {},
     "output_type": "display_data"
    }
   ],
   "source": [
    "from huggingface_hub import login\n",
    "login()"
   ]
  },
  {
   "cell_type": "markdown",
   "metadata": {
    "id": "9KDFWhydz1Lg"
   },
   "source": [
    "## __1.데이터셋 로드__"
   ]
  },
  {
   "cell_type": "code",
   "execution_count": 4,
   "metadata": {},
   "outputs": [
    {
     "name": "stderr",
     "output_type": "stream",
     "text": [
      "Reading metadata...: 192it [00:00, 332.26it/s]\n",
      "Reading metadata...: 1013968it [00:22, 44840.68it/s]\n",
      "Reading metadata...: 7071it [00:00, 18006.05it/s]\n",
      "Reading metadata...: 540437it [00:12, 43939.20it/s]\n"
     ]
    }
   ],
   "source": [
    "from datasets import load_dataset, Dataset\n",
    "from itertools import islice\n",
    "\n",
    "# 각 언어별 streaming 데이터셋 로드\n",
    "ko_stream = load_dataset(\"mozilla-foundation/common_voice_13_0\", \"ko\", split=\"train\", streaming=True)\n",
    "en_stream = load_dataset(\"mozilla-foundation/common_voice_13_0\", \"en\", split=\"train\", streaming=True)\n",
    "ja_stream = load_dataset(\"mozilla-foundation/common_voice_13_0\", \"ja\", split=\"train\", streaming=True)\n",
    "de_stream = load_dataset(\"mozilla-foundation/common_voice_13_0\", \"de\", split=\"train\", streaming=True)\n",
    "\n",
    "# 각각 200개씩 샘플링\n",
    "ko_samples = list(islice(ko_stream, 100))\n",
    "en_samples = list(islice(en_stream, 100))\n",
    "ja_samples = list(islice(ja_stream, 100))\n",
    "de_samples = list(islice(de_stream, 100))\n",
    "\n",
    "# 병합하여 하나의 통합 데이터셋 생성\n",
    "all_samples = ko_samples + en_samples + ja_samples + de_samples\n",
    "dataset = Dataset.from_list(all_samples)\n"
   ]
  },
  {
   "cell_type": "markdown",
   "metadata": {
    "id": "y1btDPYMz5v5"
   },
   "source": [
    "## __2.Whisper-small 불러오기__"
   ]
  },
  {
   "cell_type": "code",
   "execution_count": 5,
   "metadata": {},
   "outputs": [
    {
     "data": {
      "application/vnd.jupyter.widget-view+json": {
       "model_id": "b0457ddcd84a420f9f9ea6f4f3939d12",
       "version_major": 2,
       "version_minor": 0
      },
      "text/plain": [
       "preprocessor_config.json:   0%|          | 0.00/185k [00:00<?, ?B/s]"
      ]
     },
     "metadata": {},
     "output_type": "display_data"
    },
    {
     "data": {
      "application/vnd.jupyter.widget-view+json": {
       "model_id": "7ec0b2230c6b427fbc7f9327c279490e",
       "version_major": 2,
       "version_minor": 0
      },
      "text/plain": [
       "tokenizer_config.json:   0%|          | 0.00/283k [00:00<?, ?B/s]"
      ]
     },
     "metadata": {},
     "output_type": "display_data"
    },
    {
     "data": {
      "application/vnd.jupyter.widget-view+json": {
       "model_id": "f534e5a3a5644db58e5578501f5c0928",
       "version_major": 2,
       "version_minor": 0
      },
      "text/plain": [
       "vocab.json:   0%|          | 0.00/836k [00:00<?, ?B/s]"
      ]
     },
     "metadata": {},
     "output_type": "display_data"
    },
    {
     "data": {
      "application/vnd.jupyter.widget-view+json": {
       "model_id": "06d3d8d494744a12aec89e122d9fc148",
       "version_major": 2,
       "version_minor": 0
      },
      "text/plain": [
       "tokenizer.json:   0%|          | 0.00/2.48M [00:00<?, ?B/s]"
      ]
     },
     "metadata": {},
     "output_type": "display_data"
    },
    {
     "data": {
      "application/vnd.jupyter.widget-view+json": {
       "model_id": "0dc644dc80d94dc1b9bba0e3210569f6",
       "version_major": 2,
       "version_minor": 0
      },
      "text/plain": [
       "merges.txt:   0%|          | 0.00/494k [00:00<?, ?B/s]"
      ]
     },
     "metadata": {},
     "output_type": "display_data"
    },
    {
     "data": {
      "application/vnd.jupyter.widget-view+json": {
       "model_id": "3b7d9be89ca240adab24f18f7ebfb083",
       "version_major": 2,
       "version_minor": 0
      },
      "text/plain": [
       "normalizer.json:   0%|          | 0.00/52.7k [00:00<?, ?B/s]"
      ]
     },
     "metadata": {},
     "output_type": "display_data"
    },
    {
     "data": {
      "application/vnd.jupyter.widget-view+json": {
       "model_id": "d628f50d611045f99d6194f8cdf6ac13",
       "version_major": 2,
       "version_minor": 0
      },
      "text/plain": [
       "added_tokens.json:   0%|          | 0.00/34.6k [00:00<?, ?B/s]"
      ]
     },
     "metadata": {},
     "output_type": "display_data"
    },
    {
     "data": {
      "application/vnd.jupyter.widget-view+json": {
       "model_id": "7c06084f8e5441b8bdcb05428302dc36",
       "version_major": 2,
       "version_minor": 0
      },
      "text/plain": [
       "special_tokens_map.json:   0%|          | 0.00/2.19k [00:00<?, ?B/s]"
      ]
     },
     "metadata": {},
     "output_type": "display_data"
    },
    {
     "data": {
      "application/vnd.jupyter.widget-view+json": {
       "model_id": "a18749fdb33a4c1f8d7caa9d2aa143af",
       "version_major": 2,
       "version_minor": 0
      },
      "text/plain": [
       "config.json:   0%|          | 0.00/1.97k [00:00<?, ?B/s]"
      ]
     },
     "metadata": {},
     "output_type": "display_data"
    },
    {
     "data": {
      "application/vnd.jupyter.widget-view+json": {
       "model_id": "ccef1f8a6d0946fbbf8737b57e8f02cd",
       "version_major": 2,
       "version_minor": 0
      },
      "text/plain": [
       "model.safetensors:   0%|          | 0.00/967M [00:00<?, ?B/s]"
      ]
     },
     "metadata": {},
     "output_type": "display_data"
    },
    {
     "data": {
      "application/vnd.jupyter.widget-view+json": {
       "model_id": "a9fdc4e33b0b4e979faa203121056b28",
       "version_major": 2,
       "version_minor": 0
      },
      "text/plain": [
       "generation_config.json:   0%|          | 0.00/3.87k [00:00<?, ?B/s]"
      ]
     },
     "metadata": {},
     "output_type": "display_data"
    }
   ],
   "source": [
    "from transformers import WhisperProcessor, WhisperFeatureExtractor, WhisperTokenizer, WhisperForConditionalGeneration\n",
    "\n",
    "# base checkpoint (처음 학습하는 모델)\n",
    "checkpoint = \"openai/whisper-small\"\n",
    "\n",
    "# processor 구성 (언어 고정 없이 다국어 자유롭게 처리)\n",
    "processor = WhisperProcessor.from_pretrained(checkpoint, language=None, task=\"transcribe\")\n",
    "feature_extractor = processor.feature_extractor\n",
    "tokenizer = processor.tokenizer\n",
    "\n",
    "# 모델 불러오기 + forced_decoder_ids 제거\n",
    "model = WhisperForConditionalGeneration.from_pretrained(checkpoint)\n",
    "model.config.forced_decoder_ids = None\n",
    "model.config.suppress_tokens = []"
   ]
  },
  {
   "cell_type": "markdown",
   "metadata": {
    "id": "Sf8p4suN0Atd"
   },
   "source": [
    "## __3.전처리__"
   ]
  },
  {
   "cell_type": "code",
   "execution_count": 6,
   "metadata": {},
   "outputs": [
    {
     "data": {
      "application/vnd.jupyter.widget-view+json": {
       "model_id": "2f6d2703584348c7bcde52440932ed4d",
       "version_major": 2,
       "version_minor": 0
      },
      "text/plain": [
       "Map:   0%|          | 0/400 [00:00<?, ? examples/s]"
      ]
     },
     "metadata": {},
     "output_type": "display_data"
    }
   ],
   "source": [
    "def prepare_dataset(example):\n",
    "    # 오디오 전처리\n",
    "    audio = example[\"audio\"]\n",
    "    example[\"input_features\"] = feature_extractor(audio[\"array\"], sampling_rate=16000).input_features[0]\n",
    "\n",
    "    # 텍스트 → 레이블 토큰화\n",
    "    example[\"labels\"] = tokenizer(example[\"sentence\"]).input_ids\n",
    "    return example\n",
    "\n",
    "# 전처리 적용\n",
    "processed_dataset = dataset.map(prepare_dataset, remove_columns=dataset.column_names)"
   ]
  },
  {
   "cell_type": "code",
   "execution_count": 7,
   "metadata": {},
   "outputs": [],
   "source": [
    "from dataclasses import dataclass\n",
    "from typing import Any, Dict, List, Union\n",
    "import torch\n",
    "\n",
    "@dataclass\n",
    "class DataCollatorSpeechSeq2SeqWithPadding:\n",
    "    processor: Any\n",
    "    padding: Union[bool, str] = True\n",
    "\n",
    "    def __call__(self, features: List[Dict[str, Union[List[int], torch.Tensor]]]) -> Dict[str, torch.Tensor]:\n",
    "        # 오디오 입력\n",
    "        input_features = [{\"input_features\": f[\"input_features\"]} for f in features]\n",
    "        # 라벨 입력\n",
    "        label_features = [{\"input_ids\": f[\"labels\"]} for f in features]\n",
    "\n",
    "        # padding 적용\n",
    "        batch = self.processor.feature_extractor.pad(input_features, return_tensors=\"pt\")\n",
    "        labels_batch = self.processor.tokenizer.pad(label_features, return_tensors=\"pt\")\n",
    "\n",
    "        # label의 padding 위치에 -100을 채워서 loss에 반영되지 않도록\n",
    "        labels = labels_batch[\"input_ids\"].masked_fill(labels_batch.attention_mask.ne(1), -100)\n",
    "        batch[\"labels\"] = labels\n",
    "\n",
    "        return batch\n",
    "\n",
    "data_collator = DataCollatorSpeechSeq2SeqWithPadding(processor=processor)"
   ]
  },
  {
   "cell_type": "code",
   "execution_count": 8,
   "metadata": {},
   "outputs": [
    {
     "name": "stderr",
     "output_type": "stream",
     "text": [
      "<ipython-input-8-8934ba60a66a>:14: FutureWarning: `tokenizer` is deprecated and will be removed in version 5.0.0 for `Trainer.__init__`. Use `processing_class` instead.\n",
      "  trainer = Trainer(\n"
     ]
    }
   ],
   "source": [
    "from transformers import TrainingArguments, Trainer\n",
    "\n",
    "training_args = TrainingArguments(\n",
    "    output_dir=\"/content/drive/MyDrive/WhisperCheckpoints/run_multi_small_trial1\",\n",
    "    per_device_train_batch_size=4,\n",
    "    learning_rate=1e-5,\n",
    "    num_train_epochs=3,\n",
    "    logging_steps=5,\n",
    "    save_strategy=\"epoch\",\n",
    "    fp16=True,\n",
    "    report_to=\"none\"\n",
    ")\n",
    "\n",
    "trainer = Trainer(\n",
    "    model=model,\n",
    "    args=training_args,\n",
    "    train_dataset=processed_dataset,\n",
    "    tokenizer=processor,\n",
    "    data_collator=data_collator\n",
    ")\n"
   ]
  },
  {
   "cell_type": "markdown",
   "metadata": {
    "id": "Q0LXR_ML0F7l"
   },
   "source": [
    "## __4.Train__"
   ]
  },
  {
   "cell_type": "code",
   "execution_count": 9,
   "metadata": {},
   "outputs": [
    {
     "name": "stderr",
     "output_type": "stream",
     "text": [
      "Passing a tuple of `past_key_values` is deprecated and will be removed in Transformers v4.43.0. You should pass an instance of `EncoderDecoderCache` instead, e.g. `past_key_values=EncoderDecoderCache.from_legacy_cache(past_key_values)`.\n"
     ]
    },
    {
     "data": {
      "text/html": [
       "\n",
       "    <div>\n",
       "      \n",
       "      <progress value='300' max='300' style='width:300px; height:20px; vertical-align: middle;'></progress>\n",
       "      [300/300 06:14, Epoch 3/3]\n",
       "    </div>\n",
       "    <table border=\"1\" class=\"dataframe\">\n",
       "  <thead>\n",
       " <tr style=\"text-align: left;\">\n",
       "      <th>Step</th>\n",
       "      <th>Training Loss</th>\n",
       "    </tr>\n",
       "  </thead>\n",
       "  <tbody>\n",
       "    <tr>\n",
       "      <td>5</td>\n",
       "      <td>6.509500</td>\n",
       "    </tr>\n",
       "    <tr>\n",
       "      <td>10</td>\n",
       "      <td>4.953000</td>\n",
       "    </tr>\n",
       "    <tr>\n",
       "      <td>15</td>\n",
       "      <td>4.419100</td>\n",
       "    </tr>\n",
       "    <tr>\n",
       "      <td>20</td>\n",
       "      <td>3.795100</td>\n",
       "    </tr>\n",
       "    <tr>\n",
       "      <td>25</td>\n",
       "      <td>3.190000</td>\n",
       "    </tr>\n",
       "    <tr>\n",
       "      <td>30</td>\n",
       "      <td>2.968600</td>\n",
       "    </tr>\n",
       "    <tr>\n",
       "      <td>35</td>\n",
       "      <td>2.626900</td>\n",
       "    </tr>\n",
       "    <tr>\n",
       "      <td>40</td>\n",
       "      <td>2.319200</td>\n",
       "    </tr>\n",
       "    <tr>\n",
       "      <td>45</td>\n",
       "      <td>1.857300</td>\n",
       "    </tr>\n",
       "    <tr>\n",
       "      <td>50</td>\n",
       "      <td>2.083900</td>\n",
       "    </tr>\n",
       "    <tr>\n",
       "      <td>55</td>\n",
       "      <td>2.104200</td>\n",
       "    </tr>\n",
       "    <tr>\n",
       "      <td>60</td>\n",
       "      <td>1.750600</td>\n",
       "    </tr>\n",
       "    <tr>\n",
       "      <td>65</td>\n",
       "      <td>1.566700</td>\n",
       "    </tr>\n",
       "    <tr>\n",
       "      <td>70</td>\n",
       "      <td>1.668800</td>\n",
       "    </tr>\n",
       "    <tr>\n",
       "      <td>75</td>\n",
       "      <td>1.460400</td>\n",
       "    </tr>\n",
       "    <tr>\n",
       "      <td>80</td>\n",
       "      <td>1.767800</td>\n",
       "    </tr>\n",
       "    <tr>\n",
       "      <td>85</td>\n",
       "      <td>1.545800</td>\n",
       "    </tr>\n",
       "    <tr>\n",
       "      <td>90</td>\n",
       "      <td>1.350300</td>\n",
       "    </tr>\n",
       "    <tr>\n",
       "      <td>95</td>\n",
       "      <td>1.323600</td>\n",
       "    </tr>\n",
       "    <tr>\n",
       "      <td>100</td>\n",
       "      <td>1.505200</td>\n",
       "    </tr>\n",
       "    <tr>\n",
       "      <td>105</td>\n",
       "      <td>0.654400</td>\n",
       "    </tr>\n",
       "    <tr>\n",
       "      <td>110</td>\n",
       "      <td>0.710300</td>\n",
       "    </tr>\n",
       "    <tr>\n",
       "      <td>115</td>\n",
       "      <td>0.752500</td>\n",
       "    </tr>\n",
       "    <tr>\n",
       "      <td>120</td>\n",
       "      <td>0.826700</td>\n",
       "    </tr>\n",
       "    <tr>\n",
       "      <td>125</td>\n",
       "      <td>0.803400</td>\n",
       "    </tr>\n",
       "    <tr>\n",
       "      <td>130</td>\n",
       "      <td>0.776900</td>\n",
       "    </tr>\n",
       "    <tr>\n",
       "      <td>135</td>\n",
       "      <td>0.639600</td>\n",
       "    </tr>\n",
       "    <tr>\n",
       "      <td>140</td>\n",
       "      <td>0.870100</td>\n",
       "    </tr>\n",
       "    <tr>\n",
       "      <td>145</td>\n",
       "      <td>0.649800</td>\n",
       "    </tr>\n",
       "    <tr>\n",
       "      <td>150</td>\n",
       "      <td>0.470000</td>\n",
       "    </tr>\n",
       "    <tr>\n",
       "      <td>155</td>\n",
       "      <td>0.875000</td>\n",
       "    </tr>\n",
       "    <tr>\n",
       "      <td>160</td>\n",
       "      <td>0.707300</td>\n",
       "    </tr>\n",
       "    <tr>\n",
       "      <td>165</td>\n",
       "      <td>0.622900</td>\n",
       "    </tr>\n",
       "    <tr>\n",
       "      <td>170</td>\n",
       "      <td>0.743800</td>\n",
       "    </tr>\n",
       "    <tr>\n",
       "      <td>175</td>\n",
       "      <td>0.707800</td>\n",
       "    </tr>\n",
       "    <tr>\n",
       "      <td>180</td>\n",
       "      <td>0.649100</td>\n",
       "    </tr>\n",
       "    <tr>\n",
       "      <td>185</td>\n",
       "      <td>0.850600</td>\n",
       "    </tr>\n",
       "    <tr>\n",
       "      <td>190</td>\n",
       "      <td>0.703000</td>\n",
       "    </tr>\n",
       "    <tr>\n",
       "      <td>195</td>\n",
       "      <td>0.599700</td>\n",
       "    </tr>\n",
       "    <tr>\n",
       "      <td>200</td>\n",
       "      <td>0.697200</td>\n",
       "    </tr>\n",
       "    <tr>\n",
       "      <td>205</td>\n",
       "      <td>0.312300</td>\n",
       "    </tr>\n",
       "    <tr>\n",
       "      <td>210</td>\n",
       "      <td>0.298300</td>\n",
       "    </tr>\n",
       "    <tr>\n",
       "      <td>215</td>\n",
       "      <td>0.269400</td>\n",
       "    </tr>\n",
       "    <tr>\n",
       "      <td>220</td>\n",
       "      <td>0.344300</td>\n",
       "    </tr>\n",
       "    <tr>\n",
       "      <td>225</td>\n",
       "      <td>0.275000</td>\n",
       "    </tr>\n",
       "    <tr>\n",
       "      <td>230</td>\n",
       "      <td>0.291100</td>\n",
       "    </tr>\n",
       "    <tr>\n",
       "      <td>235</td>\n",
       "      <td>0.316800</td>\n",
       "    </tr>\n",
       "    <tr>\n",
       "      <td>240</td>\n",
       "      <td>0.235400</td>\n",
       "    </tr>\n",
       "    <tr>\n",
       "      <td>245</td>\n",
       "      <td>0.205400</td>\n",
       "    </tr>\n",
       "    <tr>\n",
       "      <td>250</td>\n",
       "      <td>0.328400</td>\n",
       "    </tr>\n",
       "    <tr>\n",
       "      <td>255</td>\n",
       "      <td>0.260300</td>\n",
       "    </tr>\n",
       "    <tr>\n",
       "      <td>260</td>\n",
       "      <td>0.352600</td>\n",
       "    </tr>\n",
       "    <tr>\n",
       "      <td>265</td>\n",
       "      <td>0.258600</td>\n",
       "    </tr>\n",
       "    <tr>\n",
       "      <td>270</td>\n",
       "      <td>0.335900</td>\n",
       "    </tr>\n",
       "    <tr>\n",
       "      <td>275</td>\n",
       "      <td>0.231100</td>\n",
       "    </tr>\n",
       "    <tr>\n",
       "      <td>280</td>\n",
       "      <td>0.272500</td>\n",
       "    </tr>\n",
       "    <tr>\n",
       "      <td>285</td>\n",
       "      <td>0.319600</td>\n",
       "    </tr>\n",
       "    <tr>\n",
       "      <td>290</td>\n",
       "      <td>0.246000</td>\n",
       "    </tr>\n",
       "    <tr>\n",
       "      <td>295</td>\n",
       "      <td>0.278400</td>\n",
       "    </tr>\n",
       "    <tr>\n",
       "      <td>300</td>\n",
       "      <td>0.308300</td>\n",
       "    </tr>\n",
       "  </tbody>\n",
       "</table><p>"
      ],
      "text/plain": [
       "<IPython.core.display.HTML object>"
      ]
     },
     "metadata": {},
     "output_type": "display_data"
    },
    {
     "name": "stderr",
     "output_type": "stream",
     "text": [
      "/usr/local/lib/python3.11/dist-packages/transformers/modeling_utils.py:3339: UserWarning: Moving the following attributes in the config to the generation config: {'max_length': 448, 'suppress_tokens': [], 'begin_suppress_tokens': [220, 50257]}. You are seeing this warning because you've set generation parameters in the model config, as opposed to in the generation config.\n",
      "  warnings.warn(\n"
     ]
    },
    {
     "data": {
      "text/plain": [
       "TrainOutput(global_step=300, training_loss=1.1802657337983449, metrics={'train_runtime': 380.5339, 'train_samples_per_second': 3.153, 'train_steps_per_second': 0.788, 'total_flos': 3.46302480384e+17, 'train_loss': 1.1802657337983449, 'epoch': 3.0})"
      ]
     },
     "execution_count": 9,
     "metadata": {},
     "output_type": "execute_result"
    }
   ],
   "source": [
    "trainer.train()"
   ]
  },
  {
   "cell_type": "code",
   "execution_count": 10,
   "metadata": {},
   "outputs": [
    {
     "data": {
      "text/plain": [
       "[]"
      ]
     },
     "execution_count": 10,
     "metadata": {},
     "output_type": "execute_result"
    }
   ],
   "source": [
    "# 저장 경로는 학습할 때 썼던 trial 이름과 동일\n",
    "save_path = \"/content/drive/MyDrive/WhisperCheckpoints/run_multi_small_trial1\"\n",
    "\n",
    "model.save_pretrained(save_path)\n",
    "processor.save_pretrained(save_path)"
   ]
  },
  {
   "cell_type": "markdown",
   "metadata": {
    "id": "z93R7_dH0KT7"
   },
   "source": [
    "## __6.Prediction__"
   ]
  },
  {
   "cell_type": "code",
   "execution_count": 11,
   "metadata": {},
   "outputs": [
    {
     "name": "stdout",
     "output_type": "stream",
     "text": [
      "\n",
      "🌍 언어: ko\n"
     ]
    },
    {
     "name": "stderr",
     "output_type": "stream",
     "text": [
      "\r",
      "  0%|          | 0/100 [00:00<?, ?it/s]Due to a bug fix in https://github.com/huggingface/transformers/pull/28687 transcription using a multilingual Whisper will default to language detection followed by transcription instead of translation to English.This might be a breaking change for your use case. If you want to instead always translate your audio to English, make sure to pass `language='en'`.\n",
      "The attention mask is not set and cannot be inferred from input because pad token is same as eos token. As a consequence, you may observe unexpected behavior. Please pass your input's `attention_mask` to obtain reliable results.\n",
      "  1%|          | 1/100 [00:02<03:37,  2.20s/it]"
     ]
    },
    {
     "name": "stdout",
     "output_type": "stream",
     "text": [
      "\n",
      "🔹 예측: 어느덧 그 더운 발월도 하루를 넘기고 다 지나 버렸다.\n",
      "🔸 정답: 어느덧 그 더운 팔월도 하루를 남기고 다 지나 버렸다.\n"
     ]
    },
    {
     "name": "stderr",
     "output_type": "stream",
     "text": [
      "\r",
      "  2%|▏         | 2/100 [00:02<02:03,  1.26s/it]"
     ]
    },
    {
     "name": "stdout",
     "output_type": "stream",
     "text": [
      "\n",
      "🔹 예측: 근자의 춘우의 동료 사이에는 이상한 소문이 돌아다니었다.\n",
      "🔸 정답: 근자에 춘우의 동료 사이에는 이상한 소문이 돌아다니었다.\n"
     ]
    },
    {
     "name": "stderr",
     "output_type": "stream",
     "text": [
      "\r",
      "  3%|▎         | 3/100 [00:03<01:29,  1.09it/s]"
     ]
    },
    {
     "name": "stdout",
     "output_type": "stream",
     "text": [
      "\n",
      "🔹 예측: 재차 부르는 소리를 듣고야 선비는 발길을 떼었다.\n",
      "🔸 정답: 재차 부르는 소리를 듣고야 선비는 발길을 떼었다.\n"
     ]
    },
    {
     "name": "stderr",
     "output_type": "stream",
     "text": [
      "\r",
      "  4%|▍         | 4/100 [00:03<01:10,  1.36it/s]"
     ]
    },
    {
     "name": "stdout",
     "output_type": "stream",
     "text": [
      "\n",
      "🔹 예측: 그의 말값으로 찾아나 봤으면 되는 것 아니냐.\n",
      "🔸 정답: 그애의 말값으로 찾아나 봤으면 되는 것 아니냐.\n"
     ]
    },
    {
     "name": "stderr",
     "output_type": "stream",
     "text": [
      "\r",
      "  5%|▌         | 5/100 [00:04<01:04,  1.48it/s]"
     ]
    },
    {
     "name": "stdout",
     "output_type": "stream",
     "text": [
      "\n",
      "🔹 예측: 그가 방으로 들어오니 간난이가 와서 그의 하던 일을 하고 있었다.\n",
      "🔸 정답: 그가 방으로 들어오니 간난이가 와서 그의 하던 일을 하고 있었다.\n"
     ]
    },
    {
     "name": "stderr",
     "output_type": "stream",
     "text": [
      "\r",
      "  6%|▌         | 6/100 [00:04<00:53,  1.75it/s]"
     ]
    },
    {
     "name": "stdout",
     "output_type": "stream",
     "text": [
      "\n",
      "🔹 예측: 안녕히 다녀옵시요.\n",
      "🔸 정답: 안녕히 다녀옵시요.\n"
     ]
    },
    {
     "name": "stderr",
     "output_type": "stream",
     "text": [
      "\r",
      "  7%|▋         | 7/100 [00:05<00:55,  1.68it/s]"
     ]
    },
    {
     "name": "stdout",
     "output_type": "stream",
     "text": [
      "\n",
      "🔹 예측: 어떻게 무엇부터 시작을 해야 할는지 엄두가 나지를 않아서 잠을 잘 수가 없었다.\n",
      "🔸 정답: 어떻게 무엇부터 시작을 해야 할는지 엄두가 나지를 않아서 잠을 잘 수가 없었다.\n"
     ]
    },
    {
     "name": "stderr",
     "output_type": "stream",
     "text": [
      "\r",
      "  8%|▊         | 8/100 [00:05<00:48,  1.90it/s]"
     ]
    },
    {
     "name": "stdout",
     "output_type": "stream",
     "text": [
      "\n",
      "🔹 예측: 춘경살까지 하늘을 우러러\n",
      "🔸 정답: 죽는 날까지 하늘을 우러러\n"
     ]
    },
    {
     "name": "stderr",
     "output_type": "stream",
     "text": [
      "\r",
      "  9%|▉         | 9/100 [00:06<00:45,  1.98it/s]"
     ]
    },
    {
     "name": "stdout",
     "output_type": "stream",
     "text": [
      "\n",
      "🔹 예측: 그리고 그 어두운 방안이 휙 지나친다.\n",
      "🔸 정답: 그리고 그 어두운 방 안이 휙 지나친다.\n"
     ]
    },
    {
     "name": "stderr",
     "output_type": "stream",
     "text": [
      "\r",
      " 10%|█         | 10/100 [00:06<00:41,  2.15it/s]"
     ]
    },
    {
     "name": "stdout",
     "output_type": "stream",
     "text": [
      "\n",
      "🔹 예측: 왜 눈을 바루 뜨지 못해\n",
      "🔸 정답: 왜 눈을 바루 뜨지 못해!\n"
     ]
    },
    {
     "name": "stderr",
     "output_type": "stream",
     "text": [
      "\r",
      " 11%|█         | 11/100 [00:07<00:45,  1.94it/s]"
     ]
    },
    {
     "name": "stdout",
     "output_type": "stream",
     "text": [
      "\n",
      "🔹 예측: 영신은 바라던 대로 바닷가 한가한 집에서 여전히 쉴 수가 있었다.\n",
      "🔸 정답: 영신은 바라던 대로 바닷가 한가한 집에서 편안히 쉴 수가 있었다.\n"
     ]
    },
    {
     "name": "stderr",
     "output_type": "stream",
     "text": [
      "\r",
      " 12%|█▏        | 12/100 [00:07<00:43,  2.01it/s]"
     ]
    },
    {
     "name": "stdout",
     "output_type": "stream",
     "text": [
      "\n",
      "🔹 예측: 잡을 수 없는 저 하늘의 별도 잡자.\n",
      "🔸 정답: 잡을 수 없는 저 하늘의 별도 잡자.\n"
     ]
    },
    {
     "name": "stderr",
     "output_type": "stream",
     "text": [
      "\r",
      " 13%|█▎        | 13/100 [00:08<00:42,  2.07it/s]"
     ]
    },
    {
     "name": "stdout",
     "output_type": "stream",
     "text": [
      "\n",
      "🔹 예측: 하고, 울메인 소리가 티를 따랐다.\n",
      "🔸 정답: 하고, 목메인 소리가 뒤를 따랐다.\n"
     ]
    },
    {
     "name": "stderr",
     "output_type": "stream",
     "text": [
      "\r",
      " 14%|█▍        | 14/100 [00:08<00:42,  2.01it/s]"
     ]
    },
    {
     "name": "stdout",
     "output_type": "stream",
     "text": [
      "\n",
      "🔹 예측: 그리고 그의 하던 말을 곰곰이 되풀이하였다.\n",
      "🔸 정답: 그리고 그의 하던 말을 곰곰이 되풀이하였다.\n"
     ]
    },
    {
     "name": "stderr",
     "output_type": "stream",
     "text": [
      "\r",
      " 15%|█▌        | 15/100 [00:08<00:38,  2.23it/s]"
     ]
    },
    {
     "name": "stdout",
     "output_type": "stream",
     "text": [
      "\n",
      "🔹 예측: 영원한 것이 어디 있는가?\n",
      "🔸 정답: 영원한 것이 어디 있는가?\n"
     ]
    },
    {
     "name": "stderr",
     "output_type": "stream",
     "text": [
      "\r",
      " 16%|█▌        | 16/100 [00:09<00:42,  1.99it/s]"
     ]
    },
    {
     "name": "stdout",
     "output_type": "stream",
     "text": [
      "\n",
      "🔹 예측: 그것은 예수가 십자가에 못 박히며 최후로 부르짖은 말이었다.\n",
      "🔸 정답: 그것은 예수가 십자가에 못박히며 최후로 부르짖은 말이었다.\n"
     ]
    },
    {
     "name": "stderr",
     "output_type": "stream",
     "text": [
      "\r",
      " 17%|█▋        | 17/100 [00:10<00:43,  1.90it/s]"
     ]
    },
    {
     "name": "stdout",
     "output_type": "stream",
     "text": [
      "\n",
      "🔹 예측: 그 뚫며 그 침짝은 딴놈이 메고 달아난다.\n",
      "🔸 정답: 그 틈에 그 짐짝은 딴놈이 메고 달아난다.\n"
     ]
    },
    {
     "name": "stderr",
     "output_type": "stream",
     "text": [
      "\r",
      " 18%|█▊        | 18/100 [00:10<00:46,  1.75it/s]"
     ]
    },
    {
     "name": "stdout",
     "output_type": "stream",
     "text": [
      "\n",
      "🔹 예측: 그는 이러한 생각을 되풀이하는 새 벌써 간난네 집까지 왔다.\n",
      "🔸 정답: 그는 이러한 생각을 되풀이하는 새 벌써 간난네 집까지 왔다.\n"
     ]
    },
    {
     "name": "stderr",
     "output_type": "stream",
     "text": [
      "\r",
      " 19%|█▉        | 19/100 [00:11<00:57,  1.40it/s]"
     ]
    },
    {
     "name": "stdout",
     "output_type": "stream",
     "text": [
      "\n",
      "🔹 예측: 여식 떨어진 사람이 보릿고개를 넘기는 것만치 나 까마어득한 것 같습니다.\n",
      "🔸 정답: 양식 떨어진 사람이 보릿고개를 넘기는것만치 나 까마아득한 것 같습니다.\n"
     ]
    },
    {
     "name": "stderr",
     "output_type": "stream",
     "text": [
      "\r",
      " 20%|██        | 20/100 [00:12<00:54,  1.48it/s]"
     ]
    },
    {
     "name": "stdout",
     "output_type": "stream",
     "text": [
      "\n",
      "🔹 예측: 그래서 그는 억지로 웃어 보이고 말았다.\n",
      "🔸 정답: 그래서 그는 억지로 웃어 보이고 말았다.\n"
     ]
    },
    {
     "name": "stderr",
     "output_type": "stream",
     "text": [
      "\r",
      " 21%|██        | 21/100 [00:13<00:54,  1.44it/s]"
     ]
    },
    {
     "name": "stdout",
     "output_type": "stream",
     "text": [
      "\n",
      "🔹 예측: 연예 꾸짖으며 집안을 뻔히는 수밖에 없었다.\n",
      "🔸 정답: 연해 꾸짖으며 질팡갈팡 뛰는 수밖에 없었다.\n"
     ]
    },
    {
     "name": "stderr",
     "output_type": "stream",
     "text": [
      "\r",
      " 22%|██▏       | 22/100 [00:13<00:50,  1.54it/s]"
     ]
    },
    {
     "name": "stdout",
     "output_type": "stream",
     "text": [
      "\n",
      "🔹 예측: 영신을 눕히고 자세히 진찰을 해본다.\n",
      "🔸 정답: 영신을 눕히고 자세히 진찰을 해본다.\n"
     ]
    },
    {
     "name": "stderr",
     "output_type": "stream",
     "text": [
      "\r",
      " 23%|██▎       | 23/100 [00:14<00:44,  1.75it/s]"
     ]
    },
    {
     "name": "stdout",
     "output_type": "stream",
     "text": [
      "\n",
      "🔹 예측: 몇 시 퇴근하려고?\n",
      "🔸 정답: 몇 시 퇴근하려고?\n"
     ]
    },
    {
     "name": "stderr",
     "output_type": "stream",
     "text": [
      "\r",
      " 24%|██▍       | 24/100 [00:14<00:43,  1.73it/s]"
     ]
    },
    {
     "name": "stdout",
     "output_type": "stream",
     "text": [
      "\n",
      "🔹 예측: 국회는 의원의 자격을 심사하며, 의원을 징계할 수 있다.\n",
      "🔸 정답: 국회는 의원의 자격을 심사하며, 의원을 징계할 수 있다.\n"
     ]
    },
    {
     "name": "stderr",
     "output_type": "stream",
     "text": [
      "\r",
      " 25%|██▌       | 25/100 [00:15<00:45,  1.66it/s]"
     ]
    },
    {
     "name": "stdout",
     "output_type": "stream",
     "text": [
      "\n",
      "🔹 예측: 아담의 모든 육축과 공중의 새와 둘이 모든 진실의 이름을 주니라\n",
      "🔸 정답: 아담이 모든 육축과 공중의 새와 들의 모든 짐승에게 이름을 주니라\n"
     ]
    },
    {
     "name": "stderr",
     "output_type": "stream",
     "text": [
      "\r",
      " 26%|██▌       | 26/100 [00:16<00:45,  1.64it/s]"
     ]
    },
    {
     "name": "stdout",
     "output_type": "stream",
     "text": [
      "\n",
      "🔹 예측: 그 뒤로 개닭질 같은 집들이 오글오글 쫓겨서 몰려들어간다.\n",
      "🔸 정답: 그 뒤로 게 딱지 같은 집들이 오글오글 쫓겨서 몰려들어 간다.\n"
     ]
    },
    {
     "name": "stderr",
     "output_type": "stream",
     "text": [
      "\r",
      " 27%|██▋       | 27/100 [00:16<00:45,  1.59it/s]"
     ]
    },
    {
     "name": "stdout",
     "output_type": "stream",
     "text": [
      "\n",
      "🔹 예측: 그리고 그의 옷이 땀에 배어 어룽어룽하니 말라진 것을 보았다.\n",
      "🔸 정답: 그리고 그의 옷이 땀에 배어 어룽어룽하니 말라진 것을 보았다.\n"
     ]
    },
    {
     "name": "stderr",
     "output_type": "stream",
     "text": [
      "\r",
      " 28%|██▊       | 28/100 [00:17<00:42,  1.70it/s]"
     ]
    },
    {
     "name": "stdout",
     "output_type": "stream",
     "text": [
      "\n",
      "🔹 예측: 춘우는 자기 아버지가 약주 취하신 것을 알았다.\n",
      "🔸 정답: 춘우는 자기 아버지가 약주 취하신 것을 알았다.\n"
     ]
    },
    {
     "name": "stderr",
     "output_type": "stream",
     "text": [
      "\r",
      " 29%|██▉       | 29/100 [00:17<00:41,  1.73it/s]"
     ]
    },
    {
     "name": "stdout",
     "output_type": "stream",
     "text": [
      "\n",
      "🔹 예측: 찌르릉 하고 창자에 퍼지며 얼굴이 확 끊어야 했다.\n",
      "🔸 정답: 찌르릉 하고 창자에 퍼지며 얼굴이 화끈하였다.\n"
     ]
    },
    {
     "name": "stderr",
     "output_type": "stream",
     "text": [
      "\r",
      " 30%|███       | 30/100 [00:18<00:41,  1.67it/s]"
     ]
    },
    {
     "name": "stdout",
     "output_type": "stream",
     "text": [
      "\n",
      "🔹 예측: 바람은 파도 소리처럼 쏴아쏴아 하고 머리 맞혀서 뒤설렌다.\n",
      "🔸 정답: 바람은 파도 소리처럼 쏴아쏴아 하고 머리 맡에서 뒤설렌다.\n"
     ]
    },
    {
     "name": "stderr",
     "output_type": "stream",
     "text": [
      "\r",
      " 31%|███       | 31/100 [00:18<00:38,  1.80it/s]"
     ]
    },
    {
     "name": "stdout",
     "output_type": "stream",
     "text": [
      "\n",
      "🔹 예측: 춘우에게 이 모든 사정의 말을 하여 버릴까.\n",
      "🔸 정답: 춘우에게 이 모든 사정의 말을 하여 버릴까.\n"
     ]
    },
    {
     "name": "stderr",
     "output_type": "stream",
     "text": [
      "\r",
      " 32%|███▏      | 32/100 [00:19<00:38,  1.79it/s]"
     ]
    },
    {
     "name": "stdout",
     "output_type": "stream",
     "text": [
      "\n",
      "🔹 예측: 그가는 사람이 걱정을 하리만큼 그의 걸음은 황급하였다.\n",
      "🔸 정답: 길 가는 사람이 걱정을 하리만큼 그의 걸음은 황급하였다.\n"
     ]
    },
    {
     "name": "stderr",
     "output_type": "stream",
     "text": [
      "\r",
      " 33%|███▎      | 33/100 [00:20<00:41,  1.61it/s]"
     ]
    },
    {
     "name": "stdout",
     "output_type": "stream",
     "text": [
      "\n",
      "🔹 예측: 선비는 간난이가 저렇게 늦게 돌아올 때마다 무엇을 깊이 생각하는 것이 수상스러웠다.\n",
      "🔸 정답: 선비는 간난이가 저렇게 늦게 돌아올 때마다 무엇을 깊이 생각하는 것이 수상스러웠다.\n"
     ]
    },
    {
     "name": "stderr",
     "output_type": "stream",
     "text": [
      "\r",
      " 34%|███▍      | 34/100 [00:20<00:35,  1.87it/s]"
     ]
    },
    {
     "name": "stdout",
     "output_type": "stream",
     "text": [
      "\n",
      "🔹 예측: Borona is a beautiful city.\n",
      "🔸 정답: 부엌은 아름답게 장식되었습니다.\n"
     ]
    },
    {
     "name": "stderr",
     "output_type": "stream",
     "text": [
      "\r",
      " 35%|███▌      | 35/100 [00:21<00:34,  1.86it/s]"
     ]
    },
    {
     "name": "stdout",
     "output_type": "stream",
     "text": [
      "\n",
      "🔹 예측: 신철이는 할멈이 깨어 숨으로 그만 남검을 하였다.\n",
      "🔸 정답: 신철이는 할멈이 깨었으므로 그만 낙망을 하였다.\n"
     ]
    },
    {
     "name": "stderr",
     "output_type": "stream",
     "text": [
      "\r",
      " 36%|███▌      | 36/100 [00:21<00:34,  1.84it/s]"
     ]
    },
    {
     "name": "stdout",
     "output_type": "stream",
     "text": [
      "\n",
      "🔹 예측: 납작한 얼굴을 쳐들고 첫째의 눈치를 살살 본다.\n",
      "🔸 정답: 납작한 얼굴을 쳐들고 첫째의 눈치를 살살 본다.\n"
     ]
    },
    {
     "name": "stderr",
     "output_type": "stream",
     "text": [
      "\r",
      " 37%|███▋      | 37/100 [00:22<00:37,  1.69it/s]"
     ]
    },
    {
     "name": "stdout",
     "output_type": "stream",
     "text": [
      "\n",
      "🔹 예측: 아담과 그 아내가 여호와 하나님의 나칠 피아녀 동산 나무 사이에 숨은지라\n",
      "🔸 정답: 아담과 그 아내가 여호와 하나님의 낯을 피하여 동산 나무 사이에 숨은지라\n"
     ]
    },
    {
     "name": "stderr",
     "output_type": "stream",
     "text": [
      "\r",
      " 38%|███▊      | 38/100 [00:22<00:32,  1.92it/s]"
     ]
    },
    {
     "name": "stdout",
     "output_type": "stream",
     "text": [
      "\n",
      "🔹 예측: 나는 두 번째 그에게 물었습니다.\n",
      "🔸 정답: 나는 두 번째 그에게 물었습니다.\n"
     ]
    },
    {
     "name": "stderr",
     "output_type": "stream",
     "text": [
      "\r",
      " 39%|███▉      | 39/100 [00:23<00:29,  2.08it/s]"
     ]
    },
    {
     "name": "stdout",
     "output_type": "stream",
     "text": [
      "\n",
      "🔹 예측: 무소식이 무소식이다\n",
      "🔸 정답: 무소식이 희소식이다\n"
     ]
    },
    {
     "name": "stderr",
     "output_type": "stream",
     "text": [
      "\r",
      " 40%|████      | 40/100 [00:23<00:29,  2.05it/s]"
     ]
    },
    {
     "name": "stdout",
     "output_type": "stream",
     "text": [
      "\n",
      "🔹 예측: 그는 대답 대신에 늘 이렇게 웃는 것이 버릇이다.\n",
      "🔸 정답: 그는 대답 대신에 늘 이렇게 웃는 것이 버릇이다.\n"
     ]
    },
    {
     "name": "stderr",
     "output_type": "stream",
     "text": [
      "\r",
      " 41%|████      | 41/100 [00:24<00:34,  1.69it/s]"
     ]
    },
    {
     "name": "stdout",
     "output_type": "stream",
     "text": [
      "\n",
      "🔹 예측: 대저 너희가 지식을 미워하며 여호와 경외하기를 즐거워하지 아니하며\n",
      "🔸 정답: 대저 너희가 지식을 미워하며 여호와 경외하기를 즐거워하지 아니하며\n"
     ]
    },
    {
     "name": "stderr",
     "output_type": "stream",
     "text": [
      "\r",
      " 42%|████▏     | 42/100 [00:24<00:30,  1.89it/s]"
     ]
    },
    {
     "name": "stdout",
     "output_type": "stream",
     "text": [
      "\n",
      "🔹 예측: 경기 시작됐습니다.\n",
      "🔸 정답: 경기 시작됐습니다.\n"
     ]
    },
    {
     "name": "stderr",
     "output_type": "stream",
     "text": [
      "\r",
      " 43%|████▎     | 43/100 [00:25<00:37,  1.52it/s]"
     ]
    },
    {
     "name": "stdout",
     "output_type": "stream",
     "text": [
      "\n",
      "🔹 예측: 선비는 육백삼호인 가마 곁으로 와서 동무의 어깨를 뱉게 쳤다.\n",
      "🔸 정답: 선비는 육백삼호인 가마 곁으로 와서 동무의 어깨를 가볍게 쳤다.\n"
     ]
    },
    {
     "name": "stderr",
     "output_type": "stream",
     "text": [
      "\r",
      " 44%|████▍     | 44/100 [00:26<00:40,  1.39it/s]"
     ]
    },
    {
     "name": "stdout",
     "output_type": "stream",
     "text": [
      "\n",
      "🔹 예측: 그래서 간난 어머니는 눈을 둥그렇게 뜨고 눈치를 살폈다.\n",
      "🔸 정답: 그래서 간난 어머니는 눈을 둥그렇게 뜨고 눈치를 살폈다.\n"
     ]
    },
    {
     "name": "stderr",
     "output_type": "stream",
     "text": [
      "\r",
      " 45%|████▌     | 45/100 [00:27<00:37,  1.47it/s]"
     ]
    },
    {
     "name": "stdout",
     "output_type": "stream",
     "text": [
      "\n",
      "🔹 예측: 그러자 엉엉 하고 오는 개똥이의 곡성을 들은 듯 싶다.\n",
      "🔸 정답: 그러자 엉엉 하고 우는 개똥이의 곡성을 들은 듯싶다.\n"
     ]
    },
    {
     "name": "stderr",
     "output_type": "stream",
     "text": [
      "\r",
      " 46%|████▌     | 46/100 [00:27<00:36,  1.48it/s]"
     ]
    },
    {
     "name": "stdout",
     "output_type": "stream",
     "text": [
      "\n",
      "🔹 예측: 그러나 무엇이라고 꼭 집어대어 철수와 같이 술술 지껄일 수는 없었다.\n",
      "🔸 정답: 그러나 무엇이라고 꼭 집어대어 철수와 같이 술술 지껄일수는 없었다.\n"
     ]
    },
    {
     "name": "stderr",
     "output_type": "stream",
     "text": [
      "\r",
      " 47%|████▋     | 47/100 [00:28<00:37,  1.43it/s]"
     ]
    },
    {
     "name": "stdout",
     "output_type": "stream",
     "text": [
      "\n",
      "🔹 예측: 고난의 시기에 동의하지 않는 것은 진정, 진정 바람만 함께하는 일부러 징궐이다.\n",
      "🔸 정답: 고난의 시기에 동요하지 않는 것은 진정 칭찬받을 만한 뛰어난 인물의 증거다.\n"
     ]
    },
    {
     "name": "stderr",
     "output_type": "stream",
     "text": [
      "\r",
      " 48%|████▊     | 48/100 [00:29<00:34,  1.51it/s]"
     ]
    },
    {
     "name": "stdout",
     "output_type": "stream",
     "text": [
      "\n",
      "🔹 예측: 영신은 다시 부르짖듯이 신앙의 대상자에게 우수한다.\n",
      "🔸 정답: 영신은 다시 부르짖듯이 신앙의 대상자에게 호소한다.\n"
     ]
    },
    {
     "name": "stderr",
     "output_type": "stream",
     "text": [
      "\r",
      " 49%|████▉     | 49/100 [00:29<00:34,  1.50it/s]"
     ]
    },
    {
     "name": "stdout",
     "output_type": "stream",
     "text": [
      "\n",
      "🔹 예측: 그리고 선비의 그 고운 얼굴이 미소를 띠고 지나치는 것을 그는 확실히 보았다.\n",
      "🔸 정답: 그리고 선비의 그 고운 얼굴이 미소를 띠고 지나치는 것을 그는 확실히 보았다.\n"
     ]
    },
    {
     "name": "stderr",
     "output_type": "stream",
     "text": [
      "\r",
      " 50%|█████     | 50/100 [00:30<00:32,  1.55it/s]"
     ]
    },
    {
     "name": "stdout",
     "output_type": "stream",
     "text": [
      "\n",
      "🔹 예측: 나의 교훈을 받지 아니하고 나의 모든 천망을 없인여갔음이라\n",
      "🔸 정답: 나의 교훈을 받지 아니하고 나의 모든 책망을 업신여겼음이라\n"
     ]
    },
    {
     "name": "stderr",
     "output_type": "stream",
     "text": [
      "\r",
      " 51%|█████     | 51/100 [00:30<00:26,  1.82it/s]"
     ]
    },
    {
     "name": "stdout",
     "output_type": "stream",
     "text": [
      "\n",
      "🔹 예측: 개천에서 욕난다.\n",
      "🔸 정답: 개천에서 용 난다\n"
     ]
    },
    {
     "name": "stderr",
     "output_type": "stream",
     "text": [
      "\r",
      " 52%|█████▏    | 52/100 [00:31<00:28,  1.70it/s]"
     ]
    },
    {
     "name": "stdout",
     "output_type": "stream",
     "text": [
      "\n",
      "🔹 예측: 나는 그 알레그로가 울리어 나오는 순간 마음은 끝까지 긴장되고 흥분되었습니다.\n",
      "🔸 정답: 나는 그 알레그로가 울리어 나오는 순간 마음은 끝까지 긴장되고 흥분되었습니다.\n"
     ]
    },
    {
     "name": "stderr",
     "output_type": "stream",
     "text": [
      "\r",
      " 53%|█████▎    | 53/100 [00:32<00:27,  1.73it/s]"
     ]
    },
    {
     "name": "stdout",
     "output_type": "stream",
     "text": [
      "\n",
      "🔹 예측: 선비가 이 공장에 들어온 지가 벌써 거의 일년이 되어 온다.\n",
      "🔸 정답: 선비가 이 공장에 들어온 지가 벌써 거의 일년이 되어 온다.\n"
     ]
    },
    {
     "name": "stderr",
     "output_type": "stream",
     "text": [
      "\r",
      " 54%|█████▍    | 54/100 [00:32<00:27,  1.70it/s]"
     ]
    },
    {
     "name": "stdout",
     "output_type": "stream",
     "text": [
      "\n",
      "🔹 예측: 벌써부터 이런 생각을 가졌으나 용이하게 기회를 타는 수가 없었다.\n",
      "🔸 정답: 벌써부터 이런 생각을 가졌으나 용이하게 기회를 타는 수가 없었다.\n"
     ]
    },
    {
     "name": "stderr",
     "output_type": "stream",
     "text": [
      "\r",
      " 55%|█████▌    | 55/100 [00:33<00:27,  1.66it/s]"
     ]
    },
    {
     "name": "stdout",
     "output_type": "stream",
     "text": [
      "\n",
      "🔹 예측: 그는 종잇조각과 연필을 내어 신철에게 무엇을 써서 보였다.\n",
      "🔸 정답: 그는 종잇조각과 연필을 내어 신철에게 무엇을 써서 보였다.\n"
     ]
    },
    {
     "name": "stderr",
     "output_type": "stream",
     "text": [
      "\r",
      " 56%|█████▌    | 56/100 [00:33<00:27,  1.62it/s]"
     ]
    },
    {
     "name": "stdout",
     "output_type": "stream",
     "text": [
      "\n",
      "🔹 예측: 헌법재판소 재판관은 정당에 가입하거나 정치에 관여할 수 없다.\n",
      "🔸 정답: 헌법재판소 재판관은 정당에 가입하거나 정치에 관여할 수 없다.\n"
     ]
    },
    {
     "name": "stderr",
     "output_type": "stream",
     "text": [
      "\r",
      " 57%|█████▋    | 57/100 [00:34<00:25,  1.66it/s]"
     ]
    },
    {
     "name": "stdout",
     "output_type": "stream",
     "text": [
      "\n",
      "🔹 예측: 이번엔 제법 목소리가 패인 남학생의 질문이 들어왔다.\n",
      "🔸 정답: 이번엔 제법 목소리가 패인 남학생의 질문이 들어왔다.\n"
     ]
    },
    {
     "name": "stderr",
     "output_type": "stream",
     "text": [
      "\r",
      " 58%|█████▊    | 58/100 [00:35<00:24,  1.70it/s]"
     ]
    },
    {
     "name": "stdout",
     "output_type": "stream",
     "text": [
      "\n",
      "🔹 예측: 한번의 실패와 영원한 실패를 혼동하지 마라.\n",
      "🔸 정답: 한번의 실패와 영원한 실패를 혼동하지 마라.\n"
     ]
    },
    {
     "name": "stderr",
     "output_type": "stream",
     "text": [
      "\r",
      " 59%|█████▉    | 59/100 [00:35<00:23,  1.73it/s]"
     ]
    },
    {
     "name": "stdout",
     "output_type": "stream",
     "text": [
      "\n",
      "🔹 예측: 방망이 소리는 그가 걸을수록 점점 희미하게 들렸다.\n",
      "🔸 정답: 방망이 소리는 그가 걸을수록 점점 희미하게 들렸다.\n"
     ]
    },
    {
     "name": "stderr",
     "output_type": "stream",
     "text": [
      "\r",
      " 60%|██████    | 60/100 [00:36<00:22,  1.79it/s]"
     ]
    },
    {
     "name": "stdout",
     "output_type": "stream",
     "text": [
      "\n",
      "🔹 예측: 모든 국민은 학문과 예술의 자유를 가진다.\n",
      "🔸 정답: 모든 국민은 학문과 예술의 자유를 가진다.\n"
     ]
    },
    {
     "name": "stderr",
     "output_type": "stream",
     "text": [
      "\r",
      " 61%|██████    | 61/100 [00:37<00:25,  1.50it/s]"
     ]
    },
    {
     "name": "stdout",
     "output_type": "stream",
     "text": [
      "\n",
      "🔹 예측: 학생 또는 보호자는 학생 본인에 관한 학교 기록을 언제든지 영함할 권리를 가진다.\n",
      "🔸 정답: 학생 또는 보호자는 학생 본인에 관한 학교 기록을 언제든지 열람할 권리를 가진다.\n"
     ]
    },
    {
     "name": "stderr",
     "output_type": "stream",
     "text": [
      "\r",
      " 62%|██████▏   | 62/100 [00:37<00:23,  1.63it/s]"
     ]
    },
    {
     "name": "stdout",
     "output_type": "stream",
     "text": [
      "\n",
      "🔹 예측: 그는 방 밑에 착 붙어서 떳다.\n",
      "🔸 정답: 그는 담 밑에 착 붙어 섰다.\n"
     ]
    },
    {
     "name": "stderr",
     "output_type": "stream",
     "text": [
      "\r",
      " 63%|██████▎   | 63/100 [00:38<00:21,  1.70it/s]"
     ]
    },
    {
     "name": "stdout",
     "output_type": "stream",
     "text": [
      "\n",
      "🔹 예측: 사랑은 말이지, 소유하는 게 아니야.\n",
      "🔸 정답: 사랑은 말이지, 소유하는 게 아니야.\n"
     ]
    },
    {
     "name": "stderr",
     "output_type": "stream",
     "text": [
      "\r",
      " 64%|██████▍   | 64/100 [00:38<00:21,  1.65it/s]"
     ]
    },
    {
     "name": "stdout",
     "output_type": "stream",
     "text": [
      "\n",
      "🔹 예측: 효애는 여전히 뭐라고 소곤소곤 이야기를 하였다.\n",
      "🔸 정답: 효애는 여전히 뭐라고 소곤소곤 이야기를 하였다.\n"
     ]
    },
    {
     "name": "stderr",
     "output_type": "stream",
     "text": [
      "\r",
      " 65%|██████▌   | 65/100 [00:39<00:21,  1.62it/s]"
     ]
    },
    {
     "name": "stdout",
     "output_type": "stream",
     "text": [
      "\n",
      "🔹 예측: 점심 뒤에 회원들은 잡담을 하며 잠시 쉬었다.\n",
      "🔸 정답: 점심 뒤에 회원들은 잡담을 하며 잠시 쉬었다.\n"
     ]
    },
    {
     "name": "stderr",
     "output_type": "stream",
     "text": [
      "\r",
      " 66%|██████▌   | 66/100 [00:40<00:22,  1.50it/s]"
     ]
    },
    {
     "name": "stdout",
     "output_type": "stream",
     "text": [
      "\n",
      "🔹 예측: 영신은 그제야 그전에 백 씨의 집에서 들은 동혁의 말을 되풀이하듯 하였다.\n",
      "🔸 정답: 영신은 그제야 그전에 백씨의 집에서 들은 동혁의 말을 되풀이하듯 하였다.\n"
     ]
    },
    {
     "name": "stderr",
     "output_type": "stream",
     "text": [
      "\r",
      " 67%|██████▋   | 67/100 [00:40<00:19,  1.67it/s]"
     ]
    },
    {
     "name": "stdout",
     "output_type": "stream",
     "text": [
      "\n",
      "🔹 예측: 세상에 나의 마음을 알아 주는 사람이 어디 있어야죠.\n",
      "🔸 정답: 세상에 나의 마음을 알아 주는 사람이 어디 있어야죠.\n"
     ]
    },
    {
     "name": "stderr",
     "output_type": "stream",
     "text": [
      "\r",
      " 68%|██████▊   | 68/100 [00:41<00:17,  1.80it/s]"
     ]
    },
    {
     "name": "stdout",
     "output_type": "stream",
     "text": [
      "\n",
      "🔹 예측: 부르짖으며 저 혼자 감격하는 것이었다.\n",
      "🔸 정답: 부르짖으며 저 혼자 감격하는 것이었다.\n"
     ]
    },
    {
     "name": "stderr",
     "output_type": "stream",
     "text": [
      "\r",
      " 69%|██████▉   | 69/100 [00:41<00:19,  1.57it/s]"
     ]
    },
    {
     "name": "stdout",
     "output_type": "stream",
     "text": [
      "\n",
      "🔹 예측: 두 아들은 방 속에다 죽은 그 아버지의 송장을 제쳐놓고 서로 잡아삼킬 듯이 다투고 있었습니다.\n",
      "🔸 정답: 두 아들은 방 속에다 죽은 그 아버지의 송장을 제쳐놓고 서로 잡아삼킬 듯이 다투고 있었습니다.\n"
     ]
    },
    {
     "name": "stderr",
     "output_type": "stream",
     "text": [
      "\r",
      " 70%|███████   | 70/100 [00:42<00:18,  1.60it/s]"
     ]
    },
    {
     "name": "stdout",
     "output_type": "stream",
     "text": [
      "\n",
      "🔹 예측: 여자가 뱀에게 말하되 동산 나무의 실과를 우리가 먹을 수 있으나\n",
      "🔸 정답: 여자가 뱀에게 말하되 동산 나무의 실과를 우리가 먹을 수 있으나\n"
     ]
    },
    {
     "name": "stderr",
     "output_type": "stream",
     "text": [
      "\r",
      " 71%|███████   | 71/100 [00:42<00:16,  1.76it/s]"
     ]
    },
    {
     "name": "stdout",
     "output_type": "stream",
     "text": [
      "\n",
      "🔹 예측: 국가는 국가표준제도를 확립한다.\n",
      "🔸 정답: 국가는 국가표준제도를 확립한다.\n"
     ]
    },
    {
     "name": "stderr",
     "output_type": "stream",
     "text": [
      "\r",
      " 72%|███████▏  | 72/100 [00:43<00:15,  1.77it/s]"
     ]
    },
    {
     "name": "stdout",
     "output_type": "stream",
     "text": [
      "\n",
      "🔹 예측: 다른 누구에게도 의지하지 말고 오직 그대 혼자의 힘으로 하라.\n",
      "🔸 정답: 다른 누구에게도 의지하지 말고 오직 그대 혼자의 힘으로 하라.\n"
     ]
    },
    {
     "name": "stderr",
     "output_type": "stream",
     "text": [
      "\r",
      " 73%|███████▎  | 73/100 [00:43<00:14,  1.81it/s]"
     ]
    },
    {
     "name": "stdout",
     "output_type": "stream",
     "text": [
      "\n",
      "🔹 예측: 까불이는 의자를 버쩍 들어 옮겨 놔주었다.\n",
      "🔸 정답: 까불이는 의자를 버쩍 들어 옮겨 놔주었다.\n"
     ]
    },
    {
     "name": "stderr",
     "output_type": "stream",
     "text": [
      "\r",
      " 74%|███████▍  | 74/100 [00:44<00:13,  1.94it/s]"
     ]
    },
    {
     "name": "stdout",
     "output_type": "stream",
     "text": [
      "\n",
      "🔹 예측: 그가 좋아할 때마다 이런 버릇이 있었다.\n",
      "🔸 정답: 그가 좋아할 때마다 이런 버릇이 있었다.\n"
     ]
    },
    {
     "name": "stderr",
     "output_type": "stream",
     "text": [
      "\r",
      " 75%|███████▌  | 75/100 [00:44<00:12,  1.95it/s]"
     ]
    },
    {
     "name": "stdout",
     "output_type": "stream",
     "text": [
      "\n",
      "🔹 예측: 탄핵결정은 공직으로부터 파멸함에 그친다.\n",
      "🔸 정답: 탄핵결정은 공직으로부터 파면함에 그친다.\n"
     ]
    },
    {
     "name": "stderr",
     "output_type": "stream",
     "text": [
      "\r",
      " 76%|███████▌  | 76/100 [00:45<00:13,  1.79it/s]"
     ]
    },
    {
     "name": "stdout",
     "output_type": "stream",
     "text": [
      "\n",
      "🔹 예측: 한편으로 그가 영신을 될 수 있는 대로 호의로써 이하려는 것도 물론이다.\n",
      "🔸 정답: 한편으로 그가 영신을 될 수 있는 대로 호의로써 이해하려는 것도 물론이다.\n"
     ]
    },
    {
     "name": "stderr",
     "output_type": "stream",
     "text": [
      "\r",
      " 77%|███████▋  | 77/100 [00:46<00:13,  1.67it/s]"
     ]
    },
    {
     "name": "stdout",
     "output_type": "stream",
     "text": [
      "\n",
      "🔹 예측: 선비는 얼굴이 뻘이 돼서 가마에서 뽑혀 나오는 실 끝을 들여 놔보았다.\n",
      "🔸 정답: 선비는 얼굴이 뻘개서 가마에서 뽑혀 나오는 실끝을 들여다보았다.\n"
     ]
    },
    {
     "name": "stderr",
     "output_type": "stream",
     "text": [
      "\r",
      " 78%|███████▊  | 78/100 [00:46<00:13,  1.67it/s]"
     ]
    },
    {
     "name": "stdout",
     "output_type": "stream",
     "text": [
      "\n",
      "🔹 예측: 무척 배가 고팠음에도 당분간은 아무것도 먹지 않기로 했다.\n",
      "🔸 정답: 무척 배가 고팠음에도 당분간은 아무것도 먹지 않기로 했다.\n"
     ]
    },
    {
     "name": "stderr",
     "output_type": "stream",
     "text": [
      "\r",
      " 79%|███████▉  | 79/100 [00:47<00:12,  1.67it/s]"
     ]
    },
    {
     "name": "stdout",
     "output_type": "stream",
     "text": [
      "\n",
      "🔹 예측: 신철이는 영철의 우는 소리를 들으며 문밖을 나섰다.\n",
      "🔸 정답: 신철이는 영철의 우는 소리를 들으며 문밖을 나섰다.\n"
     ]
    },
    {
     "name": "stderr",
     "output_type": "stream",
     "text": [
      "\r",
      " 80%|████████  | 80/100 [00:48<00:12,  1.63it/s]"
     ]
    },
    {
     "name": "stdout",
     "output_type": "stream",
     "text": [
      "\n",
      "🔹 예측:  혹은 사오십 년 뒤에 조선을 무대로 생겨날 이야기라고 생각하여도 좋다.\n",
      "🔸 정답: 혹은 사오십 년 뒤에 조선을 무대로 생겨날 이야기라고 생각하여도 좋다.\n"
     ]
    },
    {
     "name": "stderr",
     "output_type": "stream",
     "text": [
      "\r",
      " 81%|████████  | 81/100 [00:48<00:09,  1.93it/s]"
     ]
    },
    {
     "name": "stdout",
     "output_type": "stream",
     "text": [
      "\n",
      "🔹 예측: 어디서 오셨어요?\n",
      "🔸 정답: 어디서 오셨어요?\n"
     ]
    },
    {
     "name": "stderr",
     "output_type": "stream",
     "text": [
      "\r",
      " 82%|████████▏ | 82/100 [00:48<00:09,  1.90it/s]"
     ]
    },
    {
     "name": "stdout",
     "output_type": "stream",
     "text": [
      "\n",
      "🔹 예측: 덕호는 문 안에 선 채 선비 어머니를 바라보며 걱정을 한다.\n",
      "🔸 정답: 덕호는 문 안에 선 채 선비 어머니를 바라보며 걱정을 한다.\n"
     ]
    },
    {
     "name": "stderr",
     "output_type": "stream",
     "text": [
      "\r",
      " 83%|████████▎ | 83/100 [00:49<00:09,  1.76it/s]"
     ]
    },
    {
     "name": "stdout",
     "output_type": "stream",
     "text": [
      "\n",
      "🔹 예측: 그리고 무어라고 손질을 두어 번 치고 몸이 밭뒤로 사라진다.\n",
      "🔸 정답: 그리고 무어라고 손질을 두어 번 치고 모밀 밭뒤로 사라진다.\n"
     ]
    },
    {
     "name": "stderr",
     "output_type": "stream",
     "text": [
      "\r",
      " 84%|████████▍ | 84/100 [00:50<00:10,  1.56it/s]"
     ]
    },
    {
     "name": "stdout",
     "output_type": "stream",
     "text": [
      "\n",
      "🔹 예측: 선비는 시야 들도 만지지 않으면 앞이 허전한 것 같아서 그냥 붙들고 있었다.\n",
      "🔸 정답: 선비는 씨아틀도 만지지 않으면 앞이 허전한 것 같아서 그냥 붙들고 있었다.\n"
     ]
    },
    {
     "name": "stderr",
     "output_type": "stream",
     "text": [
      "\r",
      " 85%|████████▌ | 85/100 [00:51<00:10,  1.42it/s]"
     ]
    },
    {
     "name": "stdout",
     "output_type": "stream",
     "text": [
      "\n",
      "🔹 예측: 동시에 잠깐 잊었던 아픔이 그의 전신을 못 견디게 습격하였다.\n",
      "🔸 정답: 동시에 잠깐 잊었던 아픔이 그의 전신을 못 견디게 습격하였다.\n"
     ]
    },
    {
     "name": "stderr",
     "output_type": "stream",
     "text": [
      "\r",
      " 86%|████████▌ | 86/100 [00:52<00:11,  1.24it/s]"
     ]
    },
    {
     "name": "stdout",
     "output_type": "stream",
     "text": [
      "\n",
      "🔹 예측: 첫째는 무정처하고 걷다가 다시 덕호의 집 주위를 한 바퀴 돌아서 그의 집으로 왔다.\n",
      "🔸 정답: 첫째는 무정처하고 걷다가 다시 덕호의 집 주위를 한 바퀴 돌아서 그의 집으로 왔다.\n"
     ]
    },
    {
     "name": "stderr",
     "output_type": "stream",
     "text": [
      "\r",
      " 87%|████████▋ | 87/100 [00:52<00:09,  1.34it/s]"
     ]
    },
    {
     "name": "stdout",
     "output_type": "stream",
     "text": [
      "\n",
      "🔹 예측: 사회 교화자로서의 의견을 말씀해주십쇼.\"\n",
      "🔸 정답: 사회 교화자로서의 의견을 말씀해주십쇼.\"\n"
     ]
    },
    {
     "name": "stderr",
     "output_type": "stream",
     "text": [
      "\r",
      " 88%|████████▊ | 88/100 [00:53<00:08,  1.50it/s]"
     ]
    },
    {
     "name": "stdout",
     "output_type": "stream",
     "text": [
      "\n",
      "🔹 예측: 그는 마침내 그 엎지를 욱 하고 하였다.\n",
      "🔸 정답: 그는 마침내 구역질을 욱 하고 하였다.\n"
     ]
    },
    {
     "name": "stderr",
     "output_type": "stream",
     "text": [
      "\r",
      " 89%|████████▉ | 89/100 [00:54<00:07,  1.53it/s]"
     ]
    },
    {
     "name": "stdout",
     "output_type": "stream",
     "text": [
      "\n",
      "🔹 예측: 장호와 다른 교인들이 들어와 병원으로 가기를 번차례로 권하였다.\n",
      "🔸 정답: 장로와 다른 교인들이 들어와 병원으로 가기를 번차례로 권하였다.\n"
     ]
    },
    {
     "name": "stderr",
     "output_type": "stream",
     "text": [
      "\r",
      " 90%|█████████ | 90/100 [00:54<00:06,  1.58it/s]"
     ]
    },
    {
     "name": "stdout",
     "output_type": "stream",
     "text": [
      "\n",
      "🔹 예측: 그래서 그는 잘못 찾아왔는가 하여 도로 나와서 주저하다가 다시 들어갔다.\n",
      "🔸 정답: 그래서 그는 잘못 찾아왔는가 하여 도로 나와서 주저하다가 다시 들어갔다.\n"
     ]
    },
    {
     "name": "stderr",
     "output_type": "stream",
     "text": [
      "\r",
      " 91%|█████████ | 91/100 [00:54<00:04,  1.87it/s]"
     ]
    },
    {
     "name": "stdout",
     "output_type": "stream",
     "text": [
      "\n",
      "🔹 예측: 나는 아무 걱정도 없이\n",
      "🔸 정답: 나는 아무 걱정도 없이\n"
     ]
    },
    {
     "name": "stderr",
     "output_type": "stream",
     "text": [
      "\r",
      " 92%|█████████▏| 92/100 [00:55<00:04,  1.94it/s]"
     ]
    },
    {
     "name": "stdout",
     "output_type": "stream",
     "text": [
      "\n",
      "🔹 예측: 평안도 어느 산 깊은 금덤판.\n",
      "🔸 정답: 평안도 어느 산 깊은 금덤판.\n"
     ]
    },
    {
     "name": "stderr",
     "output_type": "stream",
     "text": [
      "\r",
      " 93%|█████████▎| 93/100 [00:56<00:04,  1.68it/s]"
     ]
    },
    {
     "name": "stdout",
     "output_type": "stream",
     "text": [
      "\n",
      "🔹 예측: 비록 고구라 양복의 망정 노박이로 비를 맞으며 김첨지를 뒤쫓아 나왔으랴.\n",
      "🔸 정답: 비록 고구라 양복일 망정 노박이로 비를 맞으며 김첨지를 뒤쫓아 나왔으랴.\n"
     ]
    },
    {
     "name": "stderr",
     "output_type": "stream",
     "text": [
      "\r",
      " 94%|█████████▍| 94/100 [00:56<00:03,  1.71it/s]"
     ]
    },
    {
     "name": "stdout",
     "output_type": "stream",
     "text": [
      "\n",
      "🔹 예측: 팔을 놀리면 팔이 아프고 다리를 놀리면 다리가 아팠다.\n",
      "🔸 정답: 팔을 놀리면 팔이 아프고 다리를 놀리면 다리가 아팠다.\n"
     ]
    },
    {
     "name": "stderr",
     "output_type": "stream",
     "text": [
      "\r",
      " 95%|█████████▌| 95/100 [00:57<00:02,  1.68it/s]"
     ]
    },
    {
     "name": "stdout",
     "output_type": "stream",
     "text": [
      "\n",
      "🔹 예측: 그가 방문을 소리 없이 열고 나서니 옆집에서는 시계가 새로 도시를 친다.\n",
      "🔸 정답: 그가 방문을 소리 없이 열고 나서니 옆집에서는 시계가 새로 두시를 친다.\n"
     ]
    },
    {
     "name": "stderr",
     "output_type": "stream",
     "text": [
      "\r",
      " 96%|█████████▌| 96/100 [00:57<00:02,  1.75it/s]"
     ]
    },
    {
     "name": "stdout",
     "output_type": "stream",
     "text": [
      "\n",
      "🔹 예측: 영숙은 다시 춘우의 마음을 헤아려 보았다.\n",
      "🔸 정답: 영숙은 다시 춘우의 마음을 헤아려 보았다.\n"
     ]
    },
    {
     "name": "stderr",
     "output_type": "stream",
     "text": [
      "\r",
      " 97%|█████████▋| 97/100 [00:58<00:01,  1.63it/s]"
     ]
    },
    {
     "name": "stdout",
     "output_type": "stream",
     "text": [
      "\n",
      "🔹 예측: 본래부터 뼈만 남았던 그가 한층 더하여 마치 해골을 대하는게 되었다.\n",
      "🔸 정답: 본래부터 뼈만 남았던 그가 한층 더하여 마치 해골을 대하는 듯하였다.\n"
     ]
    },
    {
     "name": "stderr",
     "output_type": "stream",
     "text": [
      "\r",
      " 98%|█████████▊| 98/100 [00:58<00:01,  1.81it/s]"
     ]
    },
    {
     "name": "stdout",
     "output_type": "stream",
     "text": [
      "\n",
      "🔹 예측: 그래봐야 아무것도 얻을 것이 없다.\n",
      "🔸 정답: 그래봐야 아무것도 얻을 것이 없다.\n"
     ]
    },
    {
     "name": "stderr",
     "output_type": "stream",
     "text": [
      "\r",
      " 99%|█████████▉| 99/100 [00:59<00:00,  1.67it/s]"
     ]
    },
    {
     "name": "stdout",
     "output_type": "stream",
     "text": [
      "\n",
      "🔹 예측: 고즈넉히 일어서서 피아노 앞에 가서 그의 어깨에 가만히 손을 얹었습니다.\n",
      "🔸 정답: 고즈넉히 일어서서 피아노 앞에 가서 그의 어깨에 가만히 손을 얹었습니다.\n"
     ]
    },
    {
     "name": "stderr",
     "output_type": "stream",
     "text": [
      "100%|██████████| 100/100 [01:00<00:00,  1.66it/s]"
     ]
    },
    {
     "name": "stdout",
     "output_type": "stream",
     "text": [
      "\n",
      "🔹 예측: 난장보살은 호미로 땅을 치며 이렇게 소리쳤다.\n",
      "🔸 정답: 난장보살은 호미로 땅을 치며 이렇게 소리쳤다.\n",
      "\n",
      "✅ KO WER: 0.1191\n",
      "\n",
      "🌍 언어: en\n"
     ]
    },
    {
     "name": "stderr",
     "output_type": "stream",
     "text": [
      "\n",
      "  1%|          | 1/100 [00:00<01:14,  1.33it/s]"
     ]
    },
    {
     "name": "stdout",
     "output_type": "stream",
     "text": [
      "\n",
      "🔹 예측:  This device has a cathode inside an anode wire cage.\n",
      "🔸 정답: This device has a cathode inside an anode wire cage.\n"
     ]
    },
    {
     "name": "stderr",
     "output_type": "stream",
     "text": [
      "\r",
      "  2%|▏         | 2/100 [00:01<00:54,  1.81it/s]"
     ]
    },
    {
     "name": "stdout",
     "output_type": "stream",
     "text": [
      "\n",
      "🔹 예측:  This product is almost always produced by the industrialized method.\n",
      "🔸 정답: This product is almost always produced by the industrialized method.\n"
     ]
    },
    {
     "name": "stderr",
     "output_type": "stream",
     "text": [
      "\r",
      "  3%|▎         | 3/100 [00:01<00:46,  2.10it/s]"
     ]
    },
    {
     "name": "stdout",
     "output_type": "stream",
     "text": [
      "\n",
      "🔹 예측:  It is named after Edward Singleton Holden.\n",
      "🔸 정답: It is named after Edward Singleton Holden.\n"
     ]
    },
    {
     "name": "stderr",
     "output_type": "stream",
     "text": [
      "\r",
      "  4%|▍         | 4/100 [00:01<00:42,  2.25it/s]"
     ]
    },
    {
     "name": "stdout",
     "output_type": "stream",
     "text": [
      "\n",
      "🔹 예측:  Just north west of the regional centre of Clare.\n",
      "🔸 정답: It is north west of the regional centre of Clare.\n"
     ]
    },
    {
     "name": "stderr",
     "output_type": "stream",
     "text": [
      "\r",
      "  5%|▌         | 5/100 [00:02<00:43,  2.17it/s]"
     ]
    },
    {
     "name": "stdout",
     "output_type": "stream",
     "text": [
      "\n",
      "🔹 예측:  He was a nephew of Rear-Admiral Sir Francis Augustus Collier.\n",
      "🔸 정답: He was a nephew of Rear-Admiral Sir Francis Augustus Collier.\n"
     ]
    },
    {
     "name": "stderr",
     "output_type": "stream",
     "text": [
      "\r",
      "  6%|▌         | 6/100 [00:02<00:40,  2.33it/s]"
     ]
    },
    {
     "name": "stdout",
     "output_type": "stream",
     "text": [
      "\n",
      "🔹 예측: Leaving for some darn camp in Mississippi.\n",
      "🔸 정답: Leaving for some darn camp in Mississippi.\n"
     ]
    },
    {
     "name": "stderr",
     "output_type": "stream",
     "text": [
      "\r",
      "  7%|▋         | 7/100 [00:03<00:41,  2.26it/s]"
     ]
    },
    {
     "name": "stdout",
     "output_type": "stream",
     "text": [
      "\n",
      "🔹 예측:  All employed in this role, Johnson won the prestigious Robert F. Kennedy Award.\n",
      "🔸 정답: While employed in this role, Johnson won the prestigious Robert F. Kennedy Award.\n"
     ]
    },
    {
     "name": "stderr",
     "output_type": "stream",
     "text": [
      "\r",
      "  8%|▊         | 8/100 [00:03<00:43,  2.14it/s]"
     ]
    },
    {
     "name": "stdout",
     "output_type": "stream",
     "text": [
      "\n",
      "🔹 예측:  Samuel Lyons proceeded to subdivide Byrd-Duck Farm into substantial estates.\n",
      "🔸 정답: Samuel Lyons proceeded to subdivide Five Dock Farm into substantial estates.\n"
     ]
    },
    {
     "name": "stderr",
     "output_type": "stream",
     "text": [
      "\r",
      "  9%|▉         | 9/100 [00:04<00:38,  2.38it/s]"
     ]
    },
    {
     "name": "stdout",
     "output_type": "stream",
     "text": [
      "\n",
      "🔹 예측: Where did it come from then?\n",
      "🔸 정답: Where did it come from then?\n"
     ]
    },
    {
     "name": "stderr",
     "output_type": "stream",
     "text": [
      "\r",
      " 10%|█         | 10/100 [00:04<00:38,  2.36it/s]"
     ]
    },
    {
     "name": "stdout",
     "output_type": "stream",
     "text": [
      "\n",
      "🔹 예측:  Since then, three more have been abolished, leaving four.\n",
      "🔸 정답: Since then, three more have been abolished, leaving four.\n"
     ]
    },
    {
     "name": "stderr",
     "output_type": "stream",
     "text": [
      "\r",
      " 11%|█         | 11/100 [00:05<00:40,  2.21it/s]"
     ]
    },
    {
     "name": "stdout",
     "output_type": "stream",
     "text": [
      "\n",
      "🔹 예측:  Now, while drawing the Atlantic Torpedo Fleet, based at Newport, Rhode Island,\n",
      "🔸 정답: \"Narwhal\" joined the Atlantic Torpedo Fleet, based at Newport, Rhode Island.\n"
     ]
    },
    {
     "name": "stderr",
     "output_type": "stream",
     "text": [
      "\r",
      " 12%|█▏        | 12/100 [00:05<00:40,  2.16it/s]"
     ]
    },
    {
     "name": "stdout",
     "output_type": "stream",
     "text": [
      "\n",
      "🔹 예측:  The airline was later removed from the blacklist after complying with safety audits.\n",
      "🔸 정답: The airline was later removed from the blacklist after complying with safety audits.\n"
     ]
    },
    {
     "name": "stderr",
     "output_type": "stream",
     "text": [
      "\r",
      " 13%|█▎        | 13/100 [00:06<00:40,  2.14it/s]"
     ]
    },
    {
     "name": "stdout",
     "output_type": "stream",
     "text": [
      "\n",
      "🔹 예측:  \"The paper has the slogan, 'Never Apologise, Never Explain.'\"\n",
      "🔸 정답: The paper has the slogan \"Never Apologise, Never Explain!\".\n"
     ]
    },
    {
     "name": "stderr",
     "output_type": "stream",
     "text": [
      "\r",
      " 14%|█▍        | 14/100 [00:06<00:35,  2.39it/s]"
     ]
    },
    {
     "name": "stdout",
     "output_type": "stream",
     "text": [
      "\n",
      "🔹 예측: He was born in Tokyo.\n",
      "🔸 정답: He was born in Tokyo.\n"
     ]
    },
    {
     "name": "stderr",
     "output_type": "stream",
     "text": [
      "\r",
      " 15%|█▌        | 15/100 [00:06<00:32,  2.65it/s]"
     ]
    },
    {
     "name": "stdout",
     "output_type": "stream",
     "text": [
      "\n",
      "🔹 예측: You just shoot that.\n",
      "🔸 정답: You just shoot that.\n"
     ]
    },
    {
     "name": "stderr",
     "output_type": "stream",
     "text": [
      "\r",
      " 16%|█▌        | 16/100 [00:07<00:34,  2.42it/s]"
     ]
    },
    {
     "name": "stdout",
     "output_type": "stream",
     "text": [
      "\n",
      "🔹 예측: Chen was a low profile talented scholar with a number of \"first\" accomplishments.\n",
      "🔸 정답: Chen was a low profile talented scholar with a number of \"first\" accomplishments.\n"
     ]
    },
    {
     "name": "stderr",
     "output_type": "stream",
     "text": [
      "\r",
      " 17%|█▋        | 17/100 [00:07<00:36,  2.26it/s]"
     ]
    },
    {
     "name": "stdout",
     "output_type": "stream",
     "text": [
      "\n",
      "🔹 예측:  The fulcrum city council asked the county to name the library after Lutts.\n",
      "🔸 정답: The Fulshear City Council asked the county to name the library after Lutts.\n"
     ]
    },
    {
     "name": "stderr",
     "output_type": "stream",
     "text": [
      "\r",
      " 18%|█▊        | 18/100 [00:08<00:41,  1.97it/s]"
     ]
    },
    {
     "name": "stdout",
     "output_type": "stream",
     "text": [
      "\n",
      "🔹 예측: The Cascade Lakes Scenic Byway continues south along the west side of Mount Bachelor.\n",
      "🔸 정답: The Cascade Lakes Scenic Byway continues south along the west side of Mount Bachelor.\n"
     ]
    },
    {
     "name": "stderr",
     "output_type": "stream",
     "text": [
      "\r",
      " 19%|█▉        | 19/100 [00:08<00:36,  2.23it/s]"
     ]
    },
    {
     "name": "stdout",
     "output_type": "stream",
     "text": [
      "\n",
      "🔹 예측:  Montgomery was eliminated.\n",
      "🔸 정답: Montgomerie was eliminated.\n"
     ]
    },
    {
     "name": "stderr",
     "output_type": "stream",
     "text": [
      "\r",
      " 20%|██        | 20/100 [00:09<00:40,  1.97it/s]"
     ]
    },
    {
     "name": "stdout",
     "output_type": "stream",
     "text": [
      "\n",
      "🔹 예측: Depending on the time period and culture, the term can have several meanings.\n",
      "🔸 정답: Depending on the time period and culture, the term can have several meanings.\n"
     ]
    },
    {
     "name": "stderr",
     "output_type": "stream",
     "text": [
      "\r",
      " 21%|██        | 21/100 [00:09<00:40,  1.95it/s]"
     ]
    },
    {
     "name": "stdout",
     "output_type": "stream",
     "text": [
      "\n",
      "🔹 예측:  The objective of the game is to capture your opponent's king.\n",
      "🔸 정답: The objective of the game is to capture your opponent's king.\n"
     ]
    },
    {
     "name": "stderr",
     "output_type": "stream",
     "text": [
      "\r",
      " 22%|██▏       | 22/100 [00:10<00:39,  1.98it/s]"
     ]
    },
    {
     "name": "stdout",
     "output_type": "stream",
     "text": [
      "\n",
      "🔹 예측: It is a producer of photovoltaic solar modules.\n",
      "🔸 정답: It is a producer of photovoltaic solar modules.\n"
     ]
    },
    {
     "name": "stderr",
     "output_type": "stream",
     "text": [
      "\r",
      " 23%|██▎       | 23/100 [00:10<00:38,  2.02it/s]"
     ]
    },
    {
     "name": "stdout",
     "output_type": "stream",
     "text": [
      "\n",
      "🔹 예측: Population change chart of Chendol.\n",
      "🔸 정답: Population change chart of Chênedouit\n"
     ]
    },
    {
     "name": "stderr",
     "output_type": "stream",
     "text": [
      "\r",
      " 24%|██▍       | 24/100 [00:11<00:34,  2.19it/s]"
     ]
    },
    {
     "name": "stdout",
     "output_type": "stream",
     "text": [
      "\n",
      "🔹 예측:  I have to be with my father.\n",
      "🔸 정답: I have to be with my father.\n"
     ]
    },
    {
     "name": "stderr",
     "output_type": "stream",
     "text": [
      "\r",
      " 25%|██▌       | 25/100 [00:11<00:35,  2.10it/s]"
     ]
    },
    {
     "name": "stdout",
     "output_type": "stream",
     "text": [
      "\n",
      "🔹 예측: In the dormitory where Beppe used to work, they joked around almost always.\n",
      "🔸 정답: In the dormitory where Beppe used to work they joked around almost always.\n"
     ]
    },
    {
     "name": "stderr",
     "output_type": "stream",
     "text": [
      "\r",
      " 26%|██▌       | 26/100 [00:12<00:36,  2.03it/s]"
     ]
    },
    {
     "name": "stdout",
     "output_type": "stream",
     "text": [
      "\n",
      "🔹 예측: It was a foremost in nature and did not protest against the temptation of total amazing work.\n",
      "🔸 정답: It was reformist in nature and did not protest against Sanation authoritarianism or capitalism.\n"
     ]
    },
    {
     "name": "stderr",
     "output_type": "stream",
     "text": [
      "\r",
      " 27%|██▋       | 27/100 [00:12<00:34,  2.13it/s]"
     ]
    },
    {
     "name": "stdout",
     "output_type": "stream",
     "text": [
      "\n",
      "🔹 예측:  Madison stated that the current system is \"not fit for purpose\".\n",
      "🔸 정답: Morrison stated that the current system is \"not fit for purpose\".\n"
     ]
    },
    {
     "name": "stderr",
     "output_type": "stream",
     "text": [
      "\r",
      " 28%|██▊       | 28/100 [00:12<00:32,  2.19it/s]"
     ]
    },
    {
     "name": "stdout",
     "output_type": "stream",
     "text": [
      "\n",
      "🔹 예측: Criston also served on Berkshire County Council.\n",
      "🔸 정답: Crichton also served on Berkshire County Council.\n"
     ]
    },
    {
     "name": "stderr",
     "output_type": "stream",
     "text": [
      "\r",
      " 29%|██▉       | 29/100 [00:13<00:31,  2.28it/s]"
     ]
    },
    {
     "name": "stdout",
     "output_type": "stream",
     "text": [
      "\n",
      "🔹 예측: The cast included Gianna Rowlands and Diana Lane.\n",
      "🔸 정답: The cast included Gena Rowlands and Diane Lane.\n"
     ]
    },
    {
     "name": "stderr",
     "output_type": "stream",
     "text": [
      "\r",
      " 30%|███       | 30/100 [00:13<00:30,  2.32it/s]"
     ]
    },
    {
     "name": "stdout",
     "output_type": "stream",
     "text": [
      "\n",
      "🔹 예측:  Many of its mineral reserves have yet to be fully tapped.\n",
      "🔸 정답: Many of its mineral reserves have yet to be fully tapped.\n"
     ]
    },
    {
     "name": "stderr",
     "output_type": "stream",
     "text": [
      "\r",
      " 31%|███       | 31/100 [00:14<00:29,  2.31it/s]"
     ]
    },
    {
     "name": "stdout",
     "output_type": "stream",
     "text": [
      "\n",
      "🔹 예측: The Gatineau casino thus also serves Ottawa and Eastern Ontario.\n",
      "🔸 정답: The Gatineau casino thus also serves Ottawa and Eastern Ontario.\n"
     ]
    },
    {
     "name": "stderr",
     "output_type": "stream",
     "text": [
      "\r",
      " 32%|███▏      | 32/100 [00:14<00:28,  2.37it/s]"
     ]
    },
    {
     "name": "stdout",
     "output_type": "stream",
     "text": [
      "\n",
      "🔹 예측: John Strachan and William Allen and moved to Toronto.\n",
      "🔸 정답: John Strachan and William Allan and moved to Toronto.\n"
     ]
    },
    {
     "name": "stderr",
     "output_type": "stream",
     "text": [
      "\r",
      " 33%|███▎      | 33/100 [00:15<00:29,  2.27it/s]"
     ]
    },
    {
     "name": "stdout",
     "output_type": "stream",
     "text": [
      "\n",
      "🔹 예측:  Ringing is the result of overshoot caused by an underdamped circuit.\n",
      "🔸 정답: Ringing is the result of overshoot caused by an underdamped circuit.\n"
     ]
    },
    {
     "name": "stderr",
     "output_type": "stream",
     "text": [
      "\r",
      " 34%|███▍      | 34/100 [00:15<00:27,  2.36it/s]"
     ]
    },
    {
     "name": "stdout",
     "output_type": "stream",
     "text": [
      "\n",
      "🔹 예측: He was the son of Admiral Henry Bielke.\n",
      "🔸 정답: He was the son of Admiral Henrik Bielke.\n"
     ]
    },
    {
     "name": "stderr",
     "output_type": "stream",
     "text": [
      "\r",
      " 35%|███▌      | 35/100 [00:15<00:27,  2.34it/s]"
     ]
    },
    {
     "name": "stdout",
     "output_type": "stream",
     "text": [
      "\n",
      "🔹 예측:  Johannes Sturho was President of the Finnish Chess Federation.\n",
      "🔸 정답: Johannes Terho was vice president of the Finnish Chess Federation.\n"
     ]
    },
    {
     "name": "stderr",
     "output_type": "stream",
     "text": [
      "\r",
      " 36%|███▌      | 36/100 [00:16<00:26,  2.44it/s]"
     ]
    },
    {
     "name": "stdout",
     "output_type": "stream",
     "text": [
      "\n",
      "🔹 예측:  She was also cast in \"Wild Guys\".\n",
      "🔸 정답: She was also cast in \"Wild Guys\".\n"
     ]
    },
    {
     "name": "stderr",
     "output_type": "stream",
     "text": [
      "\r",
      " 37%|███▋      | 37/100 [00:16<00:25,  2.51it/s]"
     ]
    },
    {
     "name": "stdout",
     "output_type": "stream",
     "text": [
      "\n",
      "🔹 예측:  Daubas marī ar treikai.\n",
      "🔸 정답: Douw was married three times.\n"
     ]
    },
    {
     "name": "stderr",
     "output_type": "stream",
     "text": [
      "\r",
      " 38%|███▊      | 38/100 [00:17<00:24,  2.54it/s]"
     ]
    },
    {
     "name": "stdout",
     "output_type": "stream",
     "text": [
      "\n",
      "🔹 예측: Gonga's mother is actress Susan Harrison.\n",
      "🔸 정답: Conger's mother is actress Susan Harrison.\n"
     ]
    },
    {
     "name": "stderr",
     "output_type": "stream",
     "text": [
      "\r",
      " 39%|███▉      | 39/100 [00:17<00:23,  2.57it/s]"
     ]
    },
    {
     "name": "stdout",
     "output_type": "stream",
     "text": [
      "\n",
      "🔹 예측: It is a skiing resort with modern skiing equipment.\n",
      "🔸 정답: It is a skiing resort with modern skiing equipment.\n"
     ]
    },
    {
     "name": "stderr",
     "output_type": "stream",
     "text": [
      "\r",
      " 40%|████      | 40/100 [00:17<00:25,  2.40it/s]"
     ]
    },
    {
     "name": "stdout",
     "output_type": "stream",
     "text": [
      "\n",
      "🔹 예측: He then asks Helmut to do his hammering \"with a little discretion\".\n",
      "🔸 정답: He then asks Helmut to do his hammering \"with a little discretion\".\n"
     ]
    },
    {
     "name": "stderr",
     "output_type": "stream",
     "text": [
      "\r",
      " 41%|████      | 41/100 [00:18<00:24,  2.40it/s]"
     ]
    },
    {
     "name": "stdout",
     "output_type": "stream",
     "text": [
      "\n",
      "🔹 예측: Jones refused and wrote about the incident on her website.\n",
      "🔸 정답: Jones refused and wrote about the incident on her website.\n"
     ]
    },
    {
     "name": "stderr",
     "output_type": "stream",
     "text": [
      "\r",
      " 42%|████▏     | 42/100 [00:18<00:24,  2.38it/s]"
     ]
    },
    {
     "name": "stdout",
     "output_type": "stream",
     "text": [
      "\n",
      "🔹 예측:  Aruplandis viit varkins palat.\n",
      "🔸 정답: A ripe plum is fit for a king's palate.\n"
     ]
    },
    {
     "name": "stderr",
     "output_type": "stream",
     "text": [
      "\r",
      " 43%|████▎     | 43/100 [00:19<00:25,  2.28it/s]"
     ]
    },
    {
     "name": "stdout",
     "output_type": "stream",
     "text": [
      "\n",
      "🔹 예측:  Couch is known as also local primary school in the Kawakawa region.\n",
      "🔸 정답: Karetu School is also a local primary school in the Kawakawa region.\n"
     ]
    },
    {
     "name": "stderr",
     "output_type": "stream",
     "text": [
      "\r",
      " 44%|████▍     | 44/100 [00:19<00:23,  2.34it/s]"
     ]
    },
    {
     "name": "stdout",
     "output_type": "stream",
     "text": [
      "\n",
      "🔹 예측:  The location is between the towns of Jean and Cren.\n",
      "🔸 정답: The location is between the towns of Jean and Primm.\n"
     ]
    },
    {
     "name": "stderr",
     "output_type": "stream",
     "text": [
      "\r",
      " 45%|████▌     | 45/100 [00:20<00:23,  2.30it/s]"
     ]
    },
    {
     "name": "stdout",
     "output_type": "stream",
     "text": [
      "\n",
      "🔹 예측:  A colony of the Moravian Church was also founded in the same year.\n",
      "🔸 정답: A colony of the Moravian Church was also founded in the same year.\n"
     ]
    },
    {
     "name": "stderr",
     "output_type": "stream",
     "text": [
      "\r",
      " 46%|████▌     | 46/100 [00:20<00:24,  2.21it/s]"
     ]
    },
    {
     "name": "stdout",
     "output_type": "stream",
     "text": [
      "\n",
      "🔹 예측:  During these dates, Fond begins to relate the tale of her friend's parents.\n",
      "🔸 정답: During these dates, Fang begins to relate the tale of her friend's parents.\n"
     ]
    },
    {
     "name": "stderr",
     "output_type": "stream",
     "text": [
      "\r",
      " 47%|████▋     | 47/100 [00:21<00:25,  2.11it/s]"
     ]
    },
    {
     "name": "stdout",
     "output_type": "stream",
     "text": [
      "\n",
      "🔹 예측: He moved to Boston, where he became increasingly obsessed with his health.\n",
      "🔸 정답: He moved to Boston, where he became increasingly obsessed with his health.\n"
     ]
    },
    {
     "name": "stderr",
     "output_type": "stream",
     "text": [
      "\r",
      " 48%|████▊     | 48/100 [00:21<00:26,  1.95it/s]"
     ]
    },
    {
     "name": "stdout",
     "output_type": "stream",
     "text": [
      "\n",
      "🔹 예측: After running the election, Sharon needed to form a government in the Gnesset.\n",
      "🔸 정답: After winning the election, Sharon needed to form a government in the Knesset.\n"
     ]
    },
    {
     "name": "stderr",
     "output_type": "stream",
     "text": [
      "\r",
      " 49%|████▉     | 49/100 [00:22<00:27,  1.88it/s]"
     ]
    },
    {
     "name": "stdout",
     "output_type": "stream",
     "text": [
      "\n",
      "🔹 예측: The film was animated in both Britain and San Francisco, California.\n",
      "🔸 정답: The film was animated in both Britain and San Francisco, California.\n"
     ]
    },
    {
     "name": "stderr",
     "output_type": "stream",
     "text": [
      "\r",
      " 50%|█████     | 50/100 [00:22<00:23,  2.08it/s]"
     ]
    },
    {
     "name": "stdout",
     "output_type": "stream",
     "text": [
      "\n",
      "🔹 예측: His alternative position was wing.\n",
      "🔸 정답: His alternative position was wing.\n"
     ]
    },
    {
     "name": "stderr",
     "output_type": "stream",
     "text": [
      "\r",
      " 51%|█████     | 51/100 [00:23<00:23,  2.09it/s]"
     ]
    },
    {
     "name": "stdout",
     "output_type": "stream",
     "text": [
      "\n",
      "🔹 예측: As a solo performer, he later released two albums.\n",
      "🔸 정답: As a solo performer, he later released two albums.\n"
     ]
    },
    {
     "name": "stderr",
     "output_type": "stream",
     "text": [
      "\r",
      " 52%|█████▏    | 52/100 [00:23<00:24,  1.97it/s]"
     ]
    },
    {
     "name": "stdout",
     "output_type": "stream",
     "text": [
      "\n",
      "🔹 예측: The first annuals widely used, places are sunspots.\n",
      "🔸 정답: The first and most widely used tracers are sunspots.\n"
     ]
    },
    {
     "name": "stderr",
     "output_type": "stream",
     "text": [
      "\r",
      " 53%|█████▎    | 53/100 [00:24<00:23,  1.99it/s]"
     ]
    },
    {
     "name": "stdout",
     "output_type": "stream",
     "text": [
      "\n",
      "🔹 예측: They are going to get penalized for it, but so what?\n",
      "🔸 정답: They're going to get penalized for it, but So what?\n"
     ]
    },
    {
     "name": "stderr",
     "output_type": "stream",
     "text": [
      "\r",
      " 54%|█████▍    | 54/100 [00:24<00:22,  2.08it/s]"
     ]
    },
    {
     "name": "stdout",
     "output_type": "stream",
     "text": [
      "\n",
      "🔹 예측:  The game had changed by the time the first Spanish settlers arrived.\n",
      "🔸 정답: The game had changed by the time the first Spanish settlers arrived.\n"
     ]
    },
    {
     "name": "stderr",
     "output_type": "stream",
     "text": [
      "\r",
      " 55%|█████▌    | 55/100 [00:25<00:23,  1.89it/s]"
     ]
    },
    {
     "name": "stdout",
     "output_type": "stream",
     "text": [
      "\n",
      "🔹 예측:  Some Indian patterned cars saw used in the Indian subcontinent in Bombay.\n",
      "🔸 정답: Some Indian Pattern cars saw use in the Indian subcontinent and Burma.\n"
     ]
    },
    {
     "name": "stderr",
     "output_type": "stream",
     "text": [
      "\r",
      " 56%|█████▌    | 56/100 [00:25<00:22,  1.98it/s]"
     ]
    },
    {
     "name": "stdout",
     "output_type": "stream",
     "text": [
      "\n",
      "🔹 예측:  Before the grain can be used, the husks must be removed.\n",
      "🔸 정답: Before the grain can be used, the husks must be removed.\n"
     ]
    },
    {
     "name": "stderr",
     "output_type": "stream",
     "text": [
      "\r",
      " 57%|█████▋    | 57/100 [00:26<00:20,  2.11it/s]"
     ]
    },
    {
     "name": "stdout",
     "output_type": "stream",
     "text": [
      "\n",
      "🔹 예측: The thousands of years made up American tribes inhabited this region.\n",
      "🔸 정답: For thousands of years, Native American tribes inhabited this region.\n"
     ]
    },
    {
     "name": "stderr",
     "output_type": "stream",
     "text": [
      "\r",
      " 58%|█████▊    | 58/100 [00:26<00:19,  2.14it/s]"
     ]
    },
    {
     "name": "stdout",
     "output_type": "stream",
     "text": [
      "\n",
      "🔹 예측: Therefore, transitively is semantically valid without any constraints.\n",
      "🔸 정답: Therefore, transitivity is semantically valid without any constraints.\n"
     ]
    },
    {
     "name": "stderr",
     "output_type": "stream",
     "text": [
      "\r",
      " 59%|█████▉    | 59/100 [00:27<00:19,  2.07it/s]"
     ]
    },
    {
     "name": "stdout",
     "output_type": "stream",
     "text": [
      "\n",
      "🔹 예측:  Never the last, the inhabitants decided to improve their farming techniques and started making terraces.\n",
      "🔸 정답: Nevertheless, the inhabitants decided to improve their farming techniques and started making terraces.\n"
     ]
    },
    {
     "name": "stderr",
     "output_type": "stream",
     "text": [
      "\r",
      " 60%|██████    | 60/100 [00:27<00:19,  2.02it/s]"
     ]
    },
    {
     "name": "stdout",
     "output_type": "stream",
     "text": [
      "\n",
      "🔹 예측: For more detail, see the article in the \"Anchor Bible Dictionary\".\n",
      "🔸 정답: For more detail, see the article in the \"Anchor Bible Dictionary\".\n"
     ]
    },
    {
     "name": "stderr",
     "output_type": "stream",
     "text": [
      "\r",
      " 61%|██████    | 61/100 [00:27<00:18,  2.16it/s]"
     ]
    },
    {
     "name": "stdout",
     "output_type": "stream",
     "text": [
      "\n",
      "🔹 예측:  Iks kaldi sieit esmu afī.\n",
      "🔸 정답: Its county seat is Murphy.\n"
     ]
    },
    {
     "name": "stderr",
     "output_type": "stream",
     "text": [
      "\r",
      " 62%|██████▏   | 62/100 [00:28<00:18,  2.10it/s]"
     ]
    },
    {
     "name": "stdout",
     "output_type": "stream",
     "text": [
      "\n",
      "🔹 예측:  Tom sleeps with the queen, Celia, but is compelled to return to his quest.\n",
      "🔸 정답: Tom sleeps with the queen, Celia, but is compelled to return to his quest.\n"
     ]
    },
    {
     "name": "stderr",
     "output_type": "stream",
     "text": [
      "\r",
      " 63%|██████▎   | 63/100 [00:29<00:19,  1.93it/s]"
     ]
    },
    {
     "name": "stdout",
     "output_type": "stream",
     "text": [
      "\n",
      "🔹 예측: It was named for Fiora and Lunday, sister of the postmaster, Ed Lunday.\n",
      "🔸 정답: It was named for Cleora Ann Lunday, sister of the postmaster, Ed Lunday.\n"
     ]
    },
    {
     "name": "stderr",
     "output_type": "stream",
     "text": [
      "\r",
      " 64%|██████▍   | 64/100 [00:29<00:17,  2.11it/s]"
     ]
    },
    {
     "name": "stdout",
     "output_type": "stream",
     "text": [
      "\n",
      "🔹 예측:  The control tower has been recorded as being haunted.\n",
      "🔸 정답: The control tower has been recorded as being haunted.\n"
     ]
    },
    {
     "name": "stderr",
     "output_type": "stream",
     "text": [
      "\r",
      " 65%|██████▌   | 65/100 [00:29<00:15,  2.22it/s]"
     ]
    },
    {
     "name": "stdout",
     "output_type": "stream",
     "text": [
      "\n",
      "🔹 예측:  It is also sometimes prepared for wedding banquets.\n",
      "🔸 정답: It is also sometimes prepared for wedding banquets.\n"
     ]
    },
    {
     "name": "stderr",
     "output_type": "stream",
     "text": [
      "\r",
      " 66%|██████▌   | 66/100 [00:30<00:15,  2.19it/s]"
     ]
    },
    {
     "name": "stdout",
     "output_type": "stream",
     "text": [
      "\n",
      "🔹 예측:  All of our also present on the battle's origin later on in the series.\n",
      "🔸 정답: Toliver also proves important in Hawk-Owl's origin later on in the series.\n"
     ]
    },
    {
     "name": "stderr",
     "output_type": "stream",
     "text": [
      "\r",
      " 67%|██████▋   | 67/100 [00:31<00:17,  1.90it/s]"
     ]
    },
    {
     "name": "stdout",
     "output_type": "stream",
     "text": [
      "\n",
      "🔹 예측:  Hauera, atbauti krītšas ir formu pranks un esu ļudim tikki.\n",
      "🔸 정답: However, both creatures were fond of pranks and misleading people.\n"
     ]
    },
    {
     "name": "stderr",
     "output_type": "stream",
     "text": [
      "\r",
      " 68%|██████▊   | 68/100 [00:31<00:15,  2.12it/s]"
     ]
    },
    {
     "name": "stdout",
     "output_type": "stream",
     "text": [
      "\n",
      "🔹 예측:  The song is played only to the chorus.\n",
      "🔸 정답: The song is played only to the chorus.\n"
     ]
    },
    {
     "name": "stderr",
     "output_type": "stream",
     "text": [
      "\r",
      " 69%|██████▉   | 69/100 [00:31<00:15,  2.00it/s]"
     ]
    },
    {
     "name": "stdout",
     "output_type": "stream",
     "text": [
      "\n",
      "🔹 예측:  The dish was located programing this time, including some previously aired on the college's cable channel.\n",
      "🔸 정답: Additional local programming is planned, including some previously aired on the college's cable channel.\n"
     ]
    },
    {
     "name": "stderr",
     "output_type": "stream",
     "text": [
      "\r",
      " 70%|███████   | 70/100 [00:32<00:14,  2.13it/s]"
     ]
    },
    {
     "name": "stdout",
     "output_type": "stream",
     "text": [
      "\n",
      "🔹 예측:  Today there is an arena in London named for him.\n",
      "🔸 정답: Today there is an arena in London named for him.\n"
     ]
    },
    {
     "name": "stderr",
     "output_type": "stream",
     "text": [
      "\r",
      " 71%|███████   | 71/100 [00:32<00:13,  2.10it/s]"
     ]
    },
    {
     "name": "stdout",
     "output_type": "stream",
     "text": [
      "\n",
      "🔹 예측: The record label draws its name from notorious drug lord Griselda Blanco.\n",
      "🔸 정답: The record label draws its name from notorious drug lord Griselda Blanco.\n"
     ]
    },
    {
     "name": "stderr",
     "output_type": "stream",
     "text": [
      "\r",
      " 72%|███████▏  | 72/100 [00:33<00:12,  2.20it/s]"
     ]
    },
    {
     "name": "stdout",
     "output_type": "stream",
     "text": [
      "\n",
      "🔹 예측:  The vehicles sold there would be used for luxury taxi operations.\n",
      "🔸 정답: The vehicles sold there would be used for luxury taxi operations.\n"
     ]
    },
    {
     "name": "stderr",
     "output_type": "stream",
     "text": [
      "\r",
      " 73%|███████▎  | 73/100 [00:33<00:12,  2.16it/s]"
     ]
    },
    {
     "name": "stdout",
     "output_type": "stream",
     "text": [
      "\n",
      "🔹 예측:  He created what grew into the beaten service and the hydrographic services.\n",
      "🔸 정답: He created what grew into the beacon service and the hydrographic services.\n"
     ]
    },
    {
     "name": "stderr",
     "output_type": "stream",
     "text": [
      "\r",
      " 74%|███████▍  | 74/100 [00:34<00:12,  2.06it/s]"
     ]
    },
    {
     "name": "stdout",
     "output_type": "stream",
     "text": [
      "\n",
      "🔹 예측:  Classmates called her \"Baby\" since she was the youngest girl.\n",
      "🔸 정답: Classmates called her \"Baby\" since she was the youngest girl.\n"
     ]
    },
    {
     "name": "stderr",
     "output_type": "stream",
     "text": [
      "\r",
      " 75%|███████▌  | 75/100 [00:34<00:13,  1.81it/s]"
     ]
    },
    {
     "name": "stdout",
     "output_type": "stream",
     "text": [
      "\n",
      "🔹 예측:  Your name calls Nikaias Cringed the Shopping Ship by winning the regular season.\n",
      "🔸 정답: Ionikos Nikaias clinched the championship by winning the regular season.\n"
     ]
    },
    {
     "name": "stderr",
     "output_type": "stream",
     "text": [
      "\r",
      " 76%|███████▌  | 76/100 [00:35<00:13,  1.76it/s]"
     ]
    },
    {
     "name": "stdout",
     "output_type": "stream",
     "text": [
      "\n",
      "🔹 예측:  Its provisionalas citos apieķīnu karau.\n",
      "🔸 정답: Its provisional seat was located in Kovel.\n"
     ]
    },
    {
     "name": "stderr",
     "output_type": "stream",
     "text": [
      "\r",
      " 77%|███████▋  | 77/100 [00:36<00:13,  1.76it/s]"
     ]
    },
    {
     "name": "stdout",
     "output_type": "stream",
     "text": [
      "\n",
      "🔹 예측: Wylie Collegiate Professor of Civil Engineering at the University of Michigan.\n",
      "🔸 정답: Wylie Collegiate Professor of Civil Engineering at the University of Michigan.\n"
     ]
    },
    {
     "name": "stderr",
     "output_type": "stream",
     "text": [
      "\r",
      " 78%|███████▊  | 78/100 [00:36<00:12,  1.74it/s]"
     ]
    },
    {
     "name": "stdout",
     "output_type": "stream",
     "text": [
      "\n",
      "🔹 예측: Among them include President of Singapore, Arina Yacob,\n",
      "🔸 정답: Among them include President of Singapore Halimah Yacob.\n"
     ]
    },
    {
     "name": "stderr",
     "output_type": "stream",
     "text": [
      "\r",
      " 79%|███████▉  | 79/100 [00:37<00:11,  1.79it/s]"
     ]
    },
    {
     "name": "stdout",
     "output_type": "stream",
     "text": [
      "\n",
      "🔹 예측:  The famous straight is often called the \"Misnain Straight in English\".\n",
      "🔸 정답: The famous straight is often called the Mulsanne Straight in English.\n"
     ]
    },
    {
     "name": "stderr",
     "output_type": "stream",
     "text": [
      "\r",
      " 80%|████████  | 80/100 [00:37<00:10,  1.92it/s]"
     ]
    },
    {
     "name": "stdout",
     "output_type": "stream",
     "text": [
      "\n",
      "🔹 예측:  These positions are not held for the duration of a skydive.\n",
      "🔸 정답: These positions are not held for the duration of a skydive.\n"
     ]
    },
    {
     "name": "stderr",
     "output_type": "stream",
     "text": [
      "\r",
      " 81%|████████  | 81/100 [00:38<00:09,  2.00it/s]"
     ]
    },
    {
     "name": "stdout",
     "output_type": "stream",
     "text": [
      "\n",
      "🔹 예측: Both boys also frequently worked as farm laborers to supplement their allowance.\n",
      "🔸 정답: Both boys also frequently worked as farm laborers to supplement their allowance.\n"
     ]
    },
    {
     "name": "stderr",
     "output_type": "stream",
     "text": [
      "\r",
      " 82%|████████▏ | 82/100 [00:39<00:11,  1.62it/s]"
     ]
    },
    {
     "name": "stdout",
     "output_type": "stream",
     "text": [
      "\n",
      "🔹 예측:  Mērā, mists čoktsam, bet dājus un kartanam kai, standu, sikri, daeru spasibu.\n",
      "🔸 정답: Meanwhile, Ms. Choksondik dies and Cartman, Kyle and Stan think that they are responsible.\n"
     ]
    },
    {
     "name": "stderr",
     "output_type": "stream",
     "text": [
      "\r",
      " 83%|████████▎ | 83/100 [00:39<00:09,  1.84it/s]"
     ]
    },
    {
     "name": "stdout",
     "output_type": "stream",
     "text": [
      "\n",
      "🔹 예측:  Eklamik kanikas improkt.\n",
      "🔸 정답: The economic climate has improved.\n"
     ]
    },
    {
     "name": "stderr",
     "output_type": "stream",
     "text": [
      "\r",
      " 84%|████████▍ | 84/100 [00:39<00:08,  1.98it/s]"
     ]
    },
    {
     "name": "stdout",
     "output_type": "stream",
     "text": [
      "\n",
      "🔹 예측: The old man laid down his hand to light a cigar.\n",
      "🔸 정답: The old man laid down his hand to light a cigar.\n"
     ]
    },
    {
     "name": "stderr",
     "output_type": "stream",
     "text": [
      "\r",
      " 85%|████████▌ | 85/100 [00:40<00:06,  2.18it/s]"
     ]
    },
    {
     "name": "stdout",
     "output_type": "stream",
     "text": [
      "\n",
      "🔹 예측:  It has a million megapixels.\n",
      "🔸 정답: It has a million megapixels.\n"
     ]
    },
    {
     "name": "stderr",
     "output_type": "stream",
     "text": [
      "\r",
      " 86%|████████▌ | 86/100 [00:40<00:05,  2.37it/s]"
     ]
    },
    {
     "name": "stdout",
     "output_type": "stream",
     "text": [
      "\n",
      "🔹 예측: He is driving it in broad daylight.\n",
      "🔸 정답: He is driving it in broad daylight.\n"
     ]
    },
    {
     "name": "stderr",
     "output_type": "stream",
     "text": [
      "\r",
      " 87%|████████▋ | 87/100 [00:40<00:05,  2.32it/s]"
     ]
    },
    {
     "name": "stdout",
     "output_type": "stream",
     "text": [
      "\n",
      "🔹 예측:  Police knew that Edward owned the items and did not want them seized.\n",
      "🔸 정답: Police knew that Edward owned the items and did not want them seized.\n"
     ]
    },
    {
     "name": "stderr",
     "output_type": "stream",
     "text": [
      "\r",
      " 88%|████████▊ | 88/100 [00:41<00:04,  2.61it/s]"
     ]
    },
    {
     "name": "stdout",
     "output_type": "stream",
     "text": [
      "\n",
      "🔹 예측:  Aitton.\n",
      "🔸 정답: Eyton.\n"
     ]
    },
    {
     "name": "stderr",
     "output_type": "stream",
     "text": [
      "\r",
      " 89%|████████▉ | 89/100 [00:41<00:04,  2.51it/s]"
     ]
    },
    {
     "name": "stdout",
     "output_type": "stream",
     "text": [
      "\n",
      "🔹 예측:  It was built by people associated with the railroads in Macon.\n",
      "🔸 정답: It was built by people associated with the railroads in Macon.\n"
     ]
    },
    {
     "name": "stderr",
     "output_type": "stream",
     "text": [
      "\r",
      " 90%|█████████ | 90/100 [00:42<00:04,  2.24it/s]"
     ]
    },
    {
     "name": "stdout",
     "output_type": "stream",
     "text": [
      "\n",
      "🔹 예측:  Harknads panikos nēl, Dāngu piekši.\n",
      "🔸 정답: Harkness and it was named Dingo Beach.\n"
     ]
    },
    {
     "name": "stderr",
     "output_type": "stream",
     "text": [
      "\r",
      " 91%|█████████ | 91/100 [00:42<00:03,  2.40it/s]"
     ]
    },
    {
     "name": "stdout",
     "output_type": "stream",
     "text": [
      "\n",
      "🔹 예측: The incident was blamed on a software glitch.\n",
      "🔸 정답: The incident was blamed on a software glitch.\n"
     ]
    },
    {
     "name": "stderr",
     "output_type": "stream",
     "text": [
      "\r",
      " 92%|█████████▏| 92/100 [00:43<00:04,  1.81it/s]"
     ]
    },
    {
     "name": "stdout",
     "output_type": "stream",
     "text": [
      "\n",
      "🔹 예측:  Iš savana pārtsuftu cilku, vai avarīdē imparāri, išsindu li kautu felu.\n",
      "🔸 정답: In some other parts of the temple, however, the emperor is simply called \"Pharaoh\".\n"
     ]
    },
    {
     "name": "stderr",
     "output_type": "stream",
     "text": [
      "\r",
      " 93%|█████████▎| 93/100 [00:43<00:03,  2.05it/s]"
     ]
    },
    {
     "name": "stdout",
     "output_type": "stream",
     "text": [
      "\n",
      "🔹 예측:  Te jau su devolst.\n",
      "🔸 정답: They also divorced.\n"
     ]
    },
    {
     "name": "stderr",
     "output_type": "stream",
     "text": [
      "\r",
      " 94%|█████████▍| 94/100 [00:44<00:02,  2.08it/s]"
     ]
    },
    {
     "name": "stdout",
     "output_type": "stream",
     "text": [
      "\n",
      "🔹 예측:  The energy from the Sun is an example of this form of energy conversion.\n",
      "🔸 정답: The energy from the Sun is an example of this form of energy conversion.\n"
     ]
    },
    {
     "name": "stderr",
     "output_type": "stream",
     "text": [
      "\r",
      " 95%|█████████▌| 95/100 [00:44<00:02,  2.02it/s]"
     ]
    },
    {
     "name": "stdout",
     "output_type": "stream",
     "text": [
      "\n",
      "🔹 예측:  It is the capital of Vatovavy-Vitovinan-Rigia.\n",
      "🔸 정답: It is the capital of Vatovavy-Fitovinany Region.\n"
     ]
    },
    {
     "name": "stderr",
     "output_type": "stream",
     "text": [
      "\r",
      " 96%|█████████▌| 96/100 [00:45<00:01,  2.05it/s]"
     ]
    },
    {
     "name": "stdout",
     "output_type": "stream",
     "text": [
      "\n",
      "🔹 예측: No reason, however, was given as to the change of birth years.\n",
      "🔸 정답: No reason, however, was given as to the change of birth years.\n"
     ]
    },
    {
     "name": "stderr",
     "output_type": "stream",
     "text": [
      "\r",
      " 97%|█████████▋| 97/100 [00:45<00:01,  2.27it/s]"
     ]
    },
    {
     "name": "stdout",
     "output_type": "stream",
     "text": [
      "\n",
      "🔹 예측: The destroyer had a busy July.\n",
      "🔸 정답: The destroyer had a busy July.\n"
     ]
    },
    {
     "name": "stderr",
     "output_type": "stream",
     "text": [
      "\r",
      " 98%|█████████▊| 98/100 [00:45<00:00,  2.34it/s]"
     ]
    },
    {
     "name": "stdout",
     "output_type": "stream",
     "text": [
      "\n",
      "🔹 예측: She is more popular in South Korea than in Japan.\n",
      "🔸 정답: She is more popular in South Korea than in Japan.\n"
     ]
    },
    {
     "name": "stderr",
     "output_type": "stream",
     "text": [
      "\r",
      " 99%|█████████▉| 99/100 [00:46<00:00,  2.36it/s]"
     ]
    },
    {
     "name": "stdout",
     "output_type": "stream",
     "text": [
      "\n",
      "🔹 예측:  Evikti ānūjus trontā\n",
      "🔸 정답: David B. and Lewis Trondheim.\n"
     ]
    },
    {
     "name": "stderr",
     "output_type": "stream",
     "text": [
      "100%|██████████| 100/100 [00:47<00:00,  2.13it/s]"
     ]
    },
    {
     "name": "stdout",
     "output_type": "stream",
     "text": [
      "\n",
      "🔹 예측:  Ibletsas spīt, gan vi tos, ka vi tos vietu vairāt.\n",
      "🔸 정답: The legs are straight, and the toes and feet are pointed.\n"
     ]
    },
    {
     "name": "stderr",
     "output_type": "stream",
     "text": [
      "\n"
     ]
    },
    {
     "name": "stdout",
     "output_type": "stream",
     "text": [
      "\n",
      "✅ EN WER: 0.1973\n",
      "\n",
      "🌍 언어: ja\n"
     ]
    },
    {
     "name": "stderr",
     "output_type": "stream",
     "text": [
      "  1%|          | 1/100 [00:00<01:37,  1.01it/s]"
     ]
    },
    {
     "name": "stdout",
     "output_type": "stream",
     "text": [
      "\n",
      "🔹 예측: 山口県大嶺市\n",
      "🔸 정답: 山口県防府市\n"
     ]
    },
    {
     "name": "stderr",
     "output_type": "stream",
     "text": [
      "\r",
      "  2%|▏         | 2/100 [00:01<00:58,  1.67it/s]"
     ]
    },
    {
     "name": "stdout",
     "output_type": "stream",
     "text": [
      "\n",
      "🔹 예측: 大阪府交野市\n",
      "🔸 정답: 大阪府交野市\n"
     ]
    },
    {
     "name": "stderr",
     "output_type": "stream",
     "text": [
      "\r",
      "  3%|▎         | 3/100 [00:01<00:45,  2.13it/s]"
     ]
    },
    {
     "name": "stdout",
     "output_type": "stream",
     "text": [
      "\n",
      "🔹 예측: 交換市、山崎\n",
      "🔸 정답: 福岡市東区\n"
     ]
    },
    {
     "name": "stderr",
     "output_type": "stream",
     "text": [
      "\r",
      "  4%|▍         | 4/100 [00:02<00:42,  2.27it/s]"
     ]
    },
    {
     "name": "stdout",
     "output_type": "stream",
     "text": [
      "\n",
      "🔹 예측: その口にお味噌をくれ\n",
      "🔸 정답: その癖に大飯を食う\n"
     ]
    },
    {
     "name": "stderr",
     "output_type": "stream",
     "text": [
      "\r",
      "  5%|▌         | 5/100 [00:02<00:38,  2.47it/s]"
     ]
    },
    {
     "name": "stdout",
     "output_type": "stream",
     "text": [
      "\n",
      "🔹 예측: ユナケールの本質と\n",
      "🔸 정답: 奈良県王寺町\n"
     ]
    },
    {
     "name": "stderr",
     "output_type": "stream",
     "text": [
      "\r",
      "  6%|▌         | 6/100 [00:02<00:37,  2.51it/s]"
     ]
    },
    {
     "name": "stdout",
     "output_type": "stream",
     "text": [
      "\n",
      "🔹 예측: 宮崎県区とめちょう\n",
      "🔸 정답: 宮崎県国富町\n"
     ]
    },
    {
     "name": "stderr",
     "output_type": "stream",
     "text": [
      "\r",
      "  7%|▋         | 7/100 [00:03<00:36,  2.57it/s]"
     ]
    },
    {
     "name": "stdout",
     "output_type": "stream",
     "text": [
      "\n",
      "🔹 예측: 宝石県垂水市\n",
      "🔸 정답: 鹿児島県垂水市\n"
     ]
    },
    {
     "name": "stderr",
     "output_type": "stream",
     "text": [
      "\r",
      "  8%|▊         | 8/100 [00:03<00:34,  2.67it/s]"
     ]
    },
    {
     "name": "stdout",
     "output_type": "stream",
     "text": [
      "\n",
      "🔹 예측: 兵庫県原町\n",
      "🔸 정답: 兵庫県播磨町\n"
     ]
    },
    {
     "name": "stderr",
     "output_type": "stream",
     "text": [
      "\r",
      "  9%|▉         | 9/100 [00:03<00:32,  2.76it/s]"
     ]
    },
    {
     "name": "stdout",
     "output_type": "stream",
     "text": [
      "\n",
      "🔹 예측: 国と力に基礎を\n",
      "🔸 정답: 鳥取県智頭町\n"
     ]
    },
    {
     "name": "stderr",
     "output_type": "stream",
     "text": [
      "\r",
      " 10%|█         | 10/100 [00:04<00:33,  2.67it/s]"
     ]
    },
    {
     "name": "stdout",
     "output_type": "stream",
     "text": [
      "\n",
      "🔹 예측: 大阪府市上の宇都市\n",
      "🔸 정답: 大阪府四條畷市\n"
     ]
    },
    {
     "name": "stderr",
     "output_type": "stream",
     "text": [
      "\r",
      " 11%|█         | 11/100 [00:04<00:32,  2.71it/s]"
     ]
    },
    {
     "name": "stdout",
     "output_type": "stream",
     "text": [
      "\n",
      "🔹 예측: 我らく県大古町\n",
      "🔸 정답: 茨城県大子町\n"
     ]
    },
    {
     "name": "stderr",
     "output_type": "stream",
     "text": [
      "\r",
      " 12%|█▏        | 12/100 [00:04<00:30,  2.85it/s]"
     ]
    },
    {
     "name": "stdout",
     "output_type": "stream",
     "text": [
      "\n",
      "🔹 예측: このおとしにあると\n",
      "🔸 정답: 熊本市南区\n"
     ]
    },
    {
     "name": "stderr",
     "output_type": "stream",
     "text": [
      "\r",
      " 13%|█▎        | 13/100 [00:05<00:30,  2.87it/s]"
     ]
    },
    {
     "name": "stdout",
     "output_type": "stream",
     "text": [
      "\n",
      "🔹 예측: 京都府舞鶴市\n",
      "🔸 정답: 京都府舞鶴市\n"
     ]
    },
    {
     "name": "stderr",
     "output_type": "stream",
     "text": [
      "\r",
      " 14%|█▍        | 14/100 [00:05<00:31,  2.77it/s]"
     ]
    },
    {
     "name": "stdout",
     "output_type": "stream",
     "text": [
      "\n",
      "🔹 예측: 京都府和束町\n",
      "🔸 정답: 京都府和束町\n"
     ]
    },
    {
     "name": "stderr",
     "output_type": "stream",
     "text": [
      "\r",
      " 15%|█▌        | 15/100 [00:06<00:36,  2.33it/s]"
     ]
    },
    {
     "name": "stdout",
     "output_type": "stream",
     "text": [
      "\n",
      "🔹 예측: ショートケーキに情報をするように押していった\n",
      "🔸 정답: ショートケーキにイチゴを乗せるように乗せていった\n"
     ]
    },
    {
     "name": "stderr",
     "output_type": "stream",
     "text": [
      "\r",
      " 16%|█▌        | 16/100 [00:06<00:36,  2.29it/s]"
     ]
    },
    {
     "name": "stdout",
     "output_type": "stream",
     "text": [
      "\n",
      "🔹 예측: 昌阀県当見市\n",
      "🔸 정답: 静岡県熱海市\n"
     ]
    },
    {
     "name": "stderr",
     "output_type": "stream",
     "text": [
      "\r",
      " 17%|█▋        | 17/100 [00:07<00:36,  2.29it/s]"
     ]
    },
    {
     "name": "stdout",
     "output_type": "stream",
     "text": [
      "\n",
      "🔹 예측: 兵庫県平寺\n",
      "🔸 정답: 兵庫県相生市\n"
     ]
    },
    {
     "name": "stderr",
     "output_type": "stream",
     "text": [
      "\r",
      " 18%|█▊        | 18/100 [00:08<00:54,  1.50it/s]"
     ]
    },
    {
     "name": "stdout",
     "output_type": "stream",
     "text": [
      "\n",
      "🔹 예측: 一方通行の車道を渡り、へみきむちに沿って歩いて、死に掛けにいるような足取りがすみ、\n",
      "🔸 정답: 一方通行の車道を渡り、並木道に沿って歩いて、死に掛けの乳牛のような足取りで進み、\n"
     ]
    },
    {
     "name": "stderr",
     "output_type": "stream",
     "text": [
      "\r",
      " 19%|█▉        | 19/100 [00:08<00:55,  1.47it/s]"
     ]
    },
    {
     "name": "stdout",
     "output_type": "stream",
     "text": [
      "\n",
      "🔹 예측: 人間は技術によって新しい環境を作りつつ自己を新たにするのである。\n",
      "🔸 정답: 人間は技術によって新しい環境を作りつつ自己を新たにするのである。\n"
     ]
    },
    {
     "name": "stderr",
     "output_type": "stream",
     "text": [
      "\r",
      " 20%|██        | 20/100 [00:09<00:54,  1.46it/s]"
     ]
    },
    {
     "name": "stdout",
     "output_type": "stream",
     "text": [
      "\n",
      "🔹 예측: そこには判断論理の場合、被害というものが含まれていなければならない。\n",
      "🔸 정답: そこには判断論理の媒介というものが、含まれていなければならない。\n"
     ]
    },
    {
     "name": "stderr",
     "output_type": "stream",
     "text": [
      "\r",
      " 21%|██        | 21/100 [00:10<00:47,  1.68it/s]"
     ]
    },
    {
     "name": "stdout",
     "output_type": "stream",
     "text": [
      "\n",
      "🔹 예측: 痴情のもつれってやつか\n",
      "🔸 정답: 痴情のもつれってやつか\n"
     ]
    },
    {
     "name": "stderr",
     "output_type": "stream",
     "text": [
      "\r",
      " 22%|██▏       | 22/100 [00:10<00:47,  1.65it/s]"
     ]
    },
    {
     "name": "stdout",
     "output_type": "stream",
     "text": [
      "\n",
      "🔹 예측: 方法的に規制された経験が実験と呼ばれるものである。\n",
      "🔸 정답: 方法的に規制された経験が実験と呼ばれるものである。\n"
     ]
    },
    {
     "name": "stderr",
     "output_type": "stream",
     "text": [
      "\r",
      " 23%|██▎       | 23/100 [00:11<00:42,  1.82it/s]"
     ]
    },
    {
     "name": "stdout",
     "output_type": "stream",
     "text": [
      "\n",
      "🔹 예측: 現場を開発に積極的だった\n",
      "🔸 정답: 現場は開発に積極的だった\n"
     ]
    },
    {
     "name": "stderr",
     "output_type": "stream",
     "text": [
      "\r",
      " 24%|██▍       | 24/100 [00:11<00:44,  1.70it/s]"
     ]
    },
    {
     "name": "stdout",
     "output_type": "stream",
     "text": [
      "\n",
      "🔹 예측: 自己の経験する世界の拡大するに従って常識は動揺させられる。\n",
      "🔸 정답: 自己の経験する世界の拡大するに従って常識は動揺させられる。\n"
     ]
    },
    {
     "name": "stderr",
     "output_type": "stream",
     "text": [
      "\r",
      " 25%|██▌       | 25/100 [00:12<00:48,  1.55it/s]"
     ]
    },
    {
     "name": "stdout",
     "output_type": "stream",
     "text": [
      "\n",
      "🔹 예측: 人間によく似た巨大なのっぺらぼうも、誰もいない真っ暗な街中も、\n",
      "🔸 정답: 人間によく似た巨大なのっぺらぼうも、誰もいない真っ暗な街中も、\n"
     ]
    },
    {
     "name": "stderr",
     "output_type": "stream",
     "text": [
      "\r",
      " 26%|██▌       | 26/100 [00:13<00:50,  1.48it/s]"
     ]
    },
    {
     "name": "stdout",
     "output_type": "stream",
     "text": [
      "\n",
      "🔹 예측: ドイツのベルリン大学に行き、その後、イギリスのオックスフォード大学。\n",
      "🔸 정답: ドイツのベルリン大学に行き、その後、イギリスのオックスフォード大学、\n"
     ]
    },
    {
     "name": "stderr",
     "output_type": "stream",
     "text": [
      "\r",
      " 27%|██▋       | 27/100 [00:13<00:48,  1.50it/s]"
     ]
    },
    {
     "name": "stdout",
     "output_type": "stream",
     "text": [
      "\n",
      "🔹 예측: つくづく彼がうちのサッカー部に来てくれたらと思ってしまう\n",
      "🔸 정답: つくづく彼がうちのサッカー部に来てくれたらと思ってしまう\n"
     ]
    },
    {
     "name": "stderr",
     "output_type": "stream",
     "text": [
      "\r",
      " 28%|██▊       | 28/100 [00:14<00:43,  1.64it/s]"
     ]
    },
    {
     "name": "stdout",
     "output_type": "stream",
     "text": [
      "\n",
      "🔹 예측: 近所の人に会いあいさつを交わす\n",
      "🔸 정답: 近所の人に会いあいさつを交わす\n"
     ]
    },
    {
     "name": "stderr",
     "output_type": "stream",
     "text": [
      "\r",
      " 29%|██▉       | 29/100 [00:15<00:44,  1.59it/s]"
     ]
    },
    {
     "name": "stdout",
     "output_type": "stream",
     "text": [
      "\n",
      "🔹 예측: いつものシャツがだるだるになってきたので、タンスから新しいの出さなきゃ\n",
      "🔸 정답: いつものシャツがだるだるになってきたので、タンスから新しいの出さなきゃ\n"
     ]
    },
    {
     "name": "stderr",
     "output_type": "stream",
     "text": [
      "\r",
      " 30%|███       | 30/100 [00:15<00:47,  1.49it/s]"
     ]
    },
    {
     "name": "stdout",
     "output_type": "stream",
     "text": [
      "\n",
      "🔹 예측: 生物現象というも、どこまでも化学的物理的現象に還元して考えることができるであろう。\n",
      "🔸 정답: 生物現象というも、どこまでも化学的物理的現象に還元して考えることができるであろう。\n"
     ]
    },
    {
     "name": "stderr",
     "output_type": "stream",
     "text": [
      "\r",
      " 31%|███       | 31/100 [00:16<00:39,  1.76it/s]"
     ]
    },
    {
     "name": "stdout",
     "output_type": "stream",
     "text": [
      "\n",
      "🔹 예측: 고부수경안율이\n",
      "🔸 정답: ご無事でなにより\n"
     ]
    },
    {
     "name": "stderr",
     "output_type": "stream",
     "text": [
      "\r",
      " 32%|███▏      | 32/100 [00:17<00:49,  1.38it/s]"
     ]
    },
    {
     "name": "stdout",
     "output_type": "stream",
     "text": [
      "\n",
      "🔹 예측: 絶対矛盾的自己同一として作られたものより、作るものへという世界においては、我々はどこまでも表現さよう的形成のやつを持っていて、\n",
      "🔸 정답: 絶対矛盾的自己同一として作られたものより作るものへという世界においては、我々はどこまでも表現作用的形成の欲求をもっている。\n"
     ]
    },
    {
     "name": "stderr",
     "output_type": "stream",
     "text": [
      "\r",
      " 33%|███▎      | 33/100 [00:17<00:45,  1.46it/s]"
     ]
    },
    {
     "name": "stdout",
     "output_type": "stream",
     "text": [
      "\n",
      "🔹 예측: 前瞬間、グラディペースのほうが居まくった\n",
      "🔸 정답: 先週に比べてペース上がりまくった\n"
     ]
    },
    {
     "name": "stderr",
     "output_type": "stream",
     "text": [
      "\r",
      " 34%|███▍      | 34/100 [00:18<00:44,  1.49it/s]"
     ]
    },
    {
     "name": "stdout",
     "output_type": "stream",
     "text": [
      "\n",
      "🔹 예측: 見るという事作るという事が、矛盾的自己の主義である。\n",
      "🔸 정답: 見るということと作るということとが矛盾的自己同一的である。\n"
     ]
    },
    {
     "name": "stderr",
     "output_type": "stream",
     "text": [
      "\r",
      " 35%|███▌      | 35/100 [00:19<00:44,  1.46it/s]"
     ]
    },
    {
     "name": "stdout",
     "output_type": "stream",
     "text": [
      "\n",
      "🔹 예측: 多と一との絶対矛盾の自己同一の世界にあるということである。\n",
      "🔸 정답: 多と一との絶対矛盾の自己同一の世界であるということである。\n"
     ]
    },
    {
     "name": "stderr",
     "output_type": "stream",
     "text": [
      "\r",
      " 36%|███▌      | 36/100 [00:19<00:41,  1.56it/s]"
     ]
    },
    {
     "name": "stdout",
     "output_type": "stream",
     "text": [
      "\n",
      "🔹 예측: 大きい安い形、それで十分じゃないか\n",
      "🔸 정답: 大きい安いかたい、それで十分じゃないか\n"
     ]
    },
    {
     "name": "stderr",
     "output_type": "stream",
     "text": [
      "\r",
      " 37%|███▋      | 37/100 [00:20<00:39,  1.58it/s]"
     ]
    },
    {
     "name": "stdout",
     "output_type": "stream",
     "text": [
      "\n",
      "🔹 예측: 来店ポイントサービスあるけど、誰も利用してない\n",
      "🔸 정답: 来店ポイントサービスあるけど、誰も利用してない\n"
     ]
    },
    {
     "name": "stderr",
     "output_type": "stream",
     "text": [
      "\r",
      " 38%|███▊      | 38/100 [00:20<00:36,  1.69it/s]"
     ]
    },
    {
     "name": "stdout",
     "output_type": "stream",
     "text": [
      "\n",
      "🔹 예측: きれいにそくしゃとっとも\n",
      "🔸 정답: 記念にスクショ撮っとこ\n"
     ]
    },
    {
     "name": "stderr",
     "output_type": "stream",
     "text": [
      "\r",
      " 39%|███▉      | 39/100 [00:21<00:41,  1.47it/s]"
     ]
    },
    {
     "name": "stdout",
     "output_type": "stream",
     "text": [
      "\n",
      "🔹 예측: 現社会においてのこと、我々はいつも絶対矛盾的自己同一に対しているのである。\n",
      "🔸 정답: 原始社会においての如く、我々はいつも絶対矛盾的自己同一に対しているのである。\n"
     ]
    },
    {
     "name": "stderr",
     "output_type": "stream",
     "text": [
      "\r",
      " 40%|████      | 40/100 [00:22<00:35,  1.69it/s]"
     ]
    },
    {
     "name": "stdout",
     "output_type": "stream",
     "text": [
      "\n",
      "🔹 예측: トラリーと友人が言った\n",
      "🔸 정답: 隣にいた友人が言った。\n"
     ]
    },
    {
     "name": "stderr",
     "output_type": "stream",
     "text": [
      "\r",
      " 41%|████      | 41/100 [00:22<00:35,  1.67it/s]"
     ]
    },
    {
     "name": "stdout",
     "output_type": "stream",
     "text": [
      "\n",
      "🔹 예측: しかして世界は我々を生むと共に我々を壊すものでなければならない\n",
      "🔸 정답: しかして世界は我々を生むと共に我々を殺すものでなければならない。\n"
     ]
    },
    {
     "name": "stderr",
     "output_type": "stream",
     "text": [
      "\r",
      " 42%|████▏     | 42/100 [00:23<00:34,  1.66it/s]"
     ]
    },
    {
     "name": "stdout",
     "output_type": "stream",
     "text": [
      "\n",
      "🔹 예측: 私の形というのは、静止するものの形という、動きものの日のではなく、\n",
      "🔸 정답: 私の形というのは、静止する物の形という如きものをいうのでなく、\n"
     ]
    },
    {
     "name": "stderr",
     "output_type": "stream",
     "text": [
      "\r",
      " 43%|████▎     | 43/100 [00:23<00:31,  1.80it/s]"
     ]
    },
    {
     "name": "stdout",
     "output_type": "stream",
     "text": [
      "\n",
      "🔹 예측: 彼の手には、一丁の拳銃。\n",
      "🔸 정답: 彼の手には、一丁の拳銃。\n"
     ]
    },
    {
     "name": "stderr",
     "output_type": "stream",
     "text": [
      "\r",
      " 44%|████▍     | 44/100 [00:24<00:28,  1.93it/s]"
     ]
    },
    {
     "name": "stdout",
     "output_type": "stream",
     "text": [
      "\n",
      "🔹 예측: 言い方を変えただけで意味はない\n",
      "🔸 정답: 言い方を変えただけで意味はない\n"
     ]
    },
    {
     "name": "stderr",
     "output_type": "stream",
     "text": [
      "\r",
      " 45%|████▌     | 45/100 [00:24<00:31,  1.77it/s]"
     ]
    },
    {
     "name": "stdout",
     "output_type": "stream",
     "text": [
      "\n",
      "🔹 예측: おそらく真剣な顔で、ピロポーズをするときのような表情で、\n",
      "🔸 정답: おそらく真剣な顔で。プロポーズをするときのような表情で。\n"
     ]
    },
    {
     "name": "stderr",
     "output_type": "stream",
     "text": [
      "\r",
      " 46%|████▌     | 46/100 [00:25<00:26,  2.05it/s]"
     ]
    },
    {
     "name": "stdout",
     "output_type": "stream",
     "text": [
      "\n",
      "🔹 예측: やっぱりわかりません\n",
      "🔸 정답: やっぱりわかりません\n"
     ]
    },
    {
     "name": "stderr",
     "output_type": "stream",
     "text": [
      "\r",
      " 47%|████▋     | 47/100 [00:25<00:24,  2.13it/s]"
     ]
    },
    {
     "name": "stdout",
     "output_type": "stream",
     "text": [
      "\n",
      "🔹 예측: チーズをこれでもかと使ったピザ\n",
      "🔸 정답: チーズをこれでもかと使ったピザ\n"
     ]
    },
    {
     "name": "stderr",
     "output_type": "stream",
     "text": [
      "\r",
      " 48%|████▊     | 48/100 [00:26<00:27,  1.88it/s]"
     ]
    },
    {
     "name": "stdout",
     "output_type": "stream",
     "text": [
      "\n",
      "🔹 예측: おにぎりを食べ終えると、僕は冷凍庫からアイスを取り出した。\n",
      "🔸 정답: おにぎりを食べ終えると、僕は冷凍庫からアイスを取り出した。\n"
     ]
    },
    {
     "name": "stderr",
     "output_type": "stream",
     "text": [
      "\r",
      " 49%|████▉     | 49/100 [00:26<00:27,  1.83it/s]"
     ]
    },
    {
     "name": "stdout",
     "output_type": "stream",
     "text": [
      "\n",
      "🔹 예측: キーボードを叩く音がほとんど聞こえないすぐでもない\n",
      "🔸 정답: キーボードを叩く音がほとんど聞こえない優れもの\n"
     ]
    },
    {
     "name": "stderr",
     "output_type": "stream",
     "text": [
      "\r",
      " 50%|█████     | 50/100 [00:27<00:31,  1.59it/s]"
     ]
    },
    {
     "name": "stdout",
     "output_type": "stream",
     "text": [
      "\n",
      "🔹 예측: 我々の自己に対して、何時これを成つか、仕方があるか、と、問うものになければならない。\n",
      "🔸 정답: 我々の自己に対して、汝これを為すか然らざれば死かと問うものでなければならない。\n"
     ]
    },
    {
     "name": "stderr",
     "output_type": "stream",
     "text": [
      "\r",
      " 51%|█████     | 51/100 [00:28<00:27,  1.80it/s]"
     ]
    },
    {
     "name": "stdout",
     "output_type": "stream",
     "text": [
      "\n",
      "🔹 예측: 奈良県平群町\n",
      "🔸 정답: 奈良県平群町\n"
     ]
    },
    {
     "name": "stderr",
     "output_type": "stream",
     "text": [
      "\r",
      " 52%|█████▏    | 52/100 [00:29<00:33,  1.45it/s]"
     ]
    },
    {
     "name": "stdout",
     "output_type": "stream",
     "text": [
      "\n",
      "🔹 예측: 我々は日々で接触する現実をさわしく見ることを教え、いないならばいかにしえに見える自然を、すべて凍らし、\n",
      "🔸 정답: 我々が日々に接触する現実を正しく見ることを教え得ないならば、いかに深遠に見える哲学もすべて空語に等しい。\n"
     ]
    },
    {
     "name": "stderr",
     "output_type": "stream",
     "text": [
      "\r",
      " 53%|█████▎    | 53/100 [00:29<00:27,  1.71it/s]"
     ]
    },
    {
     "name": "stdout",
     "output_type": "stream",
     "text": [
      "\n",
      "🔹 예측: 福島県板野町\n",
      "🔸 정답: 徳島県板野町\n"
     ]
    },
    {
     "name": "stderr",
     "output_type": "stream",
     "text": [
      "\r",
      " 54%|█████▍    | 54/100 [00:30<00:31,  1.48it/s]"
     ]
    },
    {
     "name": "stdout",
     "output_type": "stream",
     "text": [
      "\n",
      "🔹 예측: その間には単に人に来た状況からもなられるそう、こう、否定的、確、実、以上のものがなければならない。\n",
      "🔸 정답: その間には単に主体的立場から考えられる相互否定的対立以上のものがなければならない。\n"
     ]
    },
    {
     "name": "stderr",
     "output_type": "stream",
     "text": [
      "\r",
      " 55%|█████▌    | 55/100 [00:30<00:28,  1.57it/s]"
     ]
    },
    {
     "name": "stdout",
     "output_type": "stream",
     "text": [
      "\n",
      "🔹 예측: イトアニアの主張は、ビジュンにスザール。\n",
      "🔸 정답: リトアニアの首都はヴィリニュスである\n"
     ]
    },
    {
     "name": "stderr",
     "output_type": "stream",
     "text": [
      "\r",
      " 56%|█████▌    | 56/100 [00:31<00:24,  1.83it/s]"
     ]
    },
    {
     "name": "stdout",
     "output_type": "stream",
     "text": [
      "\n",
      "🔹 예측: 浜松市南区\n",
      "🔸 정답: 浜松市南区\n"
     ]
    },
    {
     "name": "stderr",
     "output_type": "stream",
     "text": [
      "\r",
      " 57%|█████▋    | 57/100 [00:32<00:36,  1.18it/s]"
     ]
    },
    {
     "name": "stdout",
     "output_type": "stream",
     "text": [
      "\n",
      "🔹 예측: 多方我々はその土地を耕すの植物を栽培し、動物を飼育し、我々は河に堤防を築き、我々と狙うつづる。\n",
      "🔸 정답: 他方我々はその土地を耕し、その植物を栽培し、動物を飼育し、あるいは河に堤防を築き、山にトンネルを通ずる。\n"
     ]
    },
    {
     "name": "stderr",
     "output_type": "stream",
     "text": [
      "\r",
      " 58%|█████▊    | 58/100 [00:33<00:29,  1.41it/s]"
     ]
    },
    {
     "name": "stdout",
     "output_type": "stream",
     "text": [
      "\n",
      "🔹 예측: 佐賀県多久市\n",
      "🔸 정답: 佐賀県多久市\n"
     ]
    },
    {
     "name": "stderr",
     "output_type": "stream",
     "text": [
      "\r",
      " 59%|█████▉    | 59/100 [00:34<00:31,  1.30it/s]"
     ]
    },
    {
     "name": "stdout",
     "output_type": "stream",
     "text": [
      "\n",
      "🔹 예측: 知識は一つの理念のもとに、全体と部分の必然的な関係において、\n",
      "🔸 정답: 知識は一つの理念のもとに、全体と部分の必然的な関係において、\n"
     ]
    },
    {
     "name": "stderr",
     "output_type": "stream",
     "text": [
      "\r",
      " 60%|██████    | 60/100 [00:34<00:30,  1.31it/s]"
     ]
    },
    {
     "name": "stdout",
     "output_type": "stream",
     "text": [
      "\n",
      "🔹 예측: 卓炭素化は、急ぐべきながらじっくり話し合う時間も必要だ\n",
      "🔸 정답: 脱炭素化は急ぐべきだが、じっくり話し合う時間も必要だ\n"
     ]
    },
    {
     "name": "stderr",
     "output_type": "stream",
     "text": [
      "\r",
      " 61%|██████    | 61/100 [00:35<00:27,  1.41it/s]"
     ]
    },
    {
     "name": "stdout",
     "output_type": "stream",
     "text": [
      "\n",
      "🔹 예측: 多が一の多、一が多の一、動則性、生則動として\n",
      "🔸 정답: 多が一の多、一が多の一、動即静、静即動として、\n"
     ]
    },
    {
     "name": "stderr",
     "output_type": "stream",
     "text": [
      "\r",
      " 62%|██████▏   | 62/100 [00:35<00:23,  1.62it/s]"
     ]
    },
    {
     "name": "stdout",
     "output_type": "stream",
     "text": [
      "\n",
      "🔹 예측: 辛い料理で汗を出しまくる\n",
      "🔸 정답: 辛い料理で汗を出しまくる\n"
     ]
    },
    {
     "name": "stderr",
     "output_type": "stream",
     "text": [
      "\r",
      " 63%|██████▎   | 63/100 [00:36<00:21,  1.69it/s]"
     ]
    },
    {
     "name": "stdout",
     "output_type": "stream",
     "text": [
      "\n",
      "🔹 예측: 川の下にから箇所取りに入られたようなこともありました\n",
      "🔸 정답: 川のほとりからコソ泥にはいられたようなこともありました\n"
     ]
    },
    {
     "name": "stderr",
     "output_type": "stream",
     "text": [
      "\r",
      " 64%|██████▍   | 64/100 [00:37<00:21,  1.64it/s]"
     ]
    },
    {
     "name": "stdout",
     "output_type": "stream",
     "text": [
      "\n",
      "🔹 예측: しかも価値そのものの本質が哲学的な見方を要求しており、\n",
      "🔸 정답: しかも価値そのものの本質が哲学的な見方を要求しており、\n"
     ]
    },
    {
     "name": "stderr",
     "output_type": "stream",
     "text": [
      "\r",
      " 65%|██████▌   | 65/100 [00:37<00:21,  1.63it/s]"
     ]
    },
    {
     "name": "stdout",
     "output_type": "stream",
     "text": [
      "\n",
      "🔹 예측: 通呈助からないと思っていると、どさりと音がして眼から火が出た\n",
      "🔸 정답: 到底助からないと思っていると、どさりと音がして眼から火が出た\n"
     ]
    },
    {
     "name": "stderr",
     "output_type": "stream",
     "text": [
      "\r",
      " 66%|██████▌   | 66/100 [00:38<00:18,  1.86it/s]"
     ]
    },
    {
     "name": "stdout",
     "output_type": "stream",
     "text": [
      "\n",
      "🔹 예측: 広島県広島市\n",
      "🔸 정답: 広島県東広島市\n"
     ]
    },
    {
     "name": "stderr",
     "output_type": "stream",
     "text": [
      "\r",
      " 67%|██████▋   | 67/100 [00:38<00:16,  2.03it/s]"
     ]
    },
    {
     "name": "stdout",
     "output_type": "stream",
     "text": [
      "\n",
      "🔹 예측: おいおい、ちょっとは多にしてくれよ\n",
      "🔸 정답: おいおい、ちょっとは加減してくれよ\n"
     ]
    },
    {
     "name": "stderr",
     "output_type": "stream",
     "text": [
      "\r",
      " 68%|██████▊   | 68/100 [00:39<00:19,  1.66it/s]"
     ]
    },
    {
     "name": "stdout",
     "output_type": "stream",
     "text": [
      "\n",
      "🔹 예측: 昔から遊び場に困ったときによく使う、親しみと退屈さにまみれた公園に僕らはいた\n",
      "🔸 정답: 昔から遊び場に困ったときによく使う、親しみと退屈さにまみれた公園に僕らはいた\n"
     ]
    },
    {
     "name": "stderr",
     "output_type": "stream",
     "text": [
      "\r",
      " 69%|██████▉   | 69/100 [00:39<00:19,  1.63it/s]"
     ]
    },
    {
     "name": "stdout",
     "output_type": "stream",
     "text": [
      "\n",
      "🔹 예측: 雨上がりに水溜りが乾くように、頭の中に空白ができていった\n",
      "🔸 정답: 雨上がりに水溜りが乾くように、頭の中に空白ができていった\n"
     ]
    },
    {
     "name": "stderr",
     "output_type": "stream",
     "text": [
      "\r",
      " 70%|███████   | 70/100 [00:40<00:16,  1.81it/s]"
     ]
    },
    {
     "name": "stdout",
     "output_type": "stream",
     "text": [
      "\n",
      "🔹 예측: 岡山県吉比町大町\n",
      "🔸 정답: 岡山県吉備中央町\n"
     ]
    },
    {
     "name": "stderr",
     "output_type": "stream",
     "text": [
      "\r",
      " 71%|███████   | 71/100 [00:40<00:14,  2.05it/s]"
     ]
    },
    {
     "name": "stdout",
     "output_type": "stream",
     "text": [
      "\n",
      "🔹 예측: 交化シーンになり、\n",
      "🔸 정답: 福岡市南区\n"
     ]
    },
    {
     "name": "stderr",
     "output_type": "stream",
     "text": [
      "\r",
      " 72%|███████▏  | 72/100 [00:41<00:12,  2.18it/s]"
     ]
    },
    {
     "name": "stdout",
     "output_type": "stream",
     "text": [
      "\n",
      "🔹 예측: 岐阜県池田町\n",
      "🔸 정답: 岐阜県池田町\n"
     ]
    },
    {
     "name": "stderr",
     "output_type": "stream",
     "text": [
      "\r",
      " 73%|███████▎  | 73/100 [00:41<00:12,  2.24it/s]"
     ]
    },
    {
     "name": "stdout",
     "output_type": "stream",
     "text": [
      "\n",
      "🔹 예측: 茨城県スタジオン寄り\n",
      "🔸 정답: 茨城県常陸大宮市\n"
     ]
    },
    {
     "name": "stderr",
     "output_type": "stream",
     "text": [
      "\r",
      " 74%|███████▍  | 74/100 [00:42<00:13,  1.88it/s]"
     ]
    },
    {
     "name": "stdout",
     "output_type": "stream",
     "text": [
      "\n",
      "🔹 예측: 徳川時代の日本の経済史に通じ、大阪の市史を編纂した人です\n",
      "🔸 정답: 徳川時代の日本の経済史に通じ、大阪の市史を編纂した人です\n"
     ]
    },
    {
     "name": "stderr",
     "output_type": "stream",
     "text": [
      "\r",
      " 75%|███████▌  | 75/100 [00:42<00:13,  1.89it/s]"
     ]
    },
    {
     "name": "stdout",
     "output_type": "stream",
     "text": [
      "\n",
      "🔹 예측: 記憶の中にあるのと、間違いを確認していく\n",
      "🔸 정답: 記憶の中にあるものとの違いを確認していく\n"
     ]
    },
    {
     "name": "stderr",
     "output_type": "stream",
     "text": [
      "\r",
      " 76%|███████▌  | 76/100 [00:43<00:11,  2.07it/s]"
     ]
    },
    {
     "name": "stdout",
     "output_type": "stream",
     "text": [
      "\n",
      "🔹 예측: 長崎県ハサミ町\n",
      "🔸 정답: 長崎県波佐見町\n"
     ]
    },
    {
     "name": "stderr",
     "output_type": "stream",
     "text": [
      "\r",
      " 77%|███████▋  | 77/100 [00:43<00:10,  2.20it/s]"
     ]
    },
    {
     "name": "stdout",
     "output_type": "stream",
     "text": [
      "\n",
      "🔹 예측: 横浜市鶴見区\n",
      "🔸 정답: 横浜市鶴見区\n"
     ]
    },
    {
     "name": "stderr",
     "output_type": "stream",
     "text": [
      "\r",
      " 78%|███████▊  | 78/100 [00:43<00:09,  2.31it/s]"
     ]
    },
    {
     "name": "stdout",
     "output_type": "stream",
     "text": [
      "\n",
      "🔹 예측: 名前に居合わせるんだ\n",
      "🔸 정답: 奈良県山添村\n"
     ]
    },
    {
     "name": "stderr",
     "output_type": "stream",
     "text": [
      "\r",
      " 79%|███████▉  | 79/100 [00:44<00:08,  2.39it/s]"
     ]
    },
    {
     "name": "stdout",
     "output_type": "stream",
     "text": [
      "\n",
      "🔹 예측: 福岡県大福渡市\n",
      "🔸 정답: 福岡県大牟田市\n"
     ]
    },
    {
     "name": "stderr",
     "output_type": "stream",
     "text": [
      "\r",
      " 80%|████████  | 80/100 [00:44<00:09,  2.13it/s]"
     ]
    },
    {
     "name": "stdout",
     "output_type": "stream",
     "text": [
      "\n",
      "🔹 예측: ビールとポテトで小腹を満たす\n",
      "🔸 정답: ビールとポテトで小腹を満たす\n"
     ]
    },
    {
     "name": "stderr",
     "output_type": "stream",
     "text": [
      "\r",
      " 81%|████████  | 81/100 [00:45<00:11,  1.68it/s]"
     ]
    },
    {
     "name": "stdout",
     "output_type": "stream",
     "text": [
      "\n",
      "🔹 예측: 物質的世界というも、矛盾的自己同一的に自己自身を形成するものである。\n",
      "🔸 정답: 物質的世界というも、矛盾的自己同一的に自己自身を形成するものである。\n"
     ]
    },
    {
     "name": "stderr",
     "output_type": "stream",
     "text": [
      "\r",
      " 82%|████████▏ | 82/100 [00:46<00:11,  1.56it/s]"
     ]
    },
    {
     "name": "stdout",
     "output_type": "stream",
     "text": [
      "\n",
      "🔹 예측: 部長に書かれたスケジュール通りにやらないと気がすまない\n",
      "🔸 정답: 手帳に書かれたスケジュール通りにやらないと気がすまない\n"
     ]
    },
    {
     "name": "stderr",
     "output_type": "stream",
     "text": [
      "\r",
      " 83%|████████▎ | 83/100 [00:47<00:10,  1.57it/s]"
     ]
    },
    {
     "name": "stdout",
     "output_type": "stream",
     "text": [
      "\n",
      "🔹 예측: なんでも自己責任にするのはやめたほうがいい\n",
      "🔸 정답: なんでも自己責任にするのはやめたほうがいい\n"
     ]
    },
    {
     "name": "stderr",
     "output_type": "stream",
     "text": [
      "\r",
      " 84%|████████▍ | 84/100 [00:48<00:11,  1.38it/s]"
     ]
    },
    {
     "name": "stdout",
     "output_type": "stream",
     "text": [
      "\n",
      "🔹 예측: 部屋の壁が三箇所ほど崩れ落ちているのが、その写真にハッキリ写っている\n",
      "🔸 정답: 部屋の壁が三箇所ほど崩れ落ちているのが、その写真にハッキリ写っている\n"
     ]
    },
    {
     "name": "stderr",
     "output_type": "stream",
     "text": [
      "\r",
      " 85%|████████▌ | 85/100 [00:48<00:09,  1.55it/s]"
     ]
    },
    {
     "name": "stdout",
     "output_type": "stream",
     "text": [
      "\n",
      "🔹 예측:  Kodettiö on valibo-ganai, näöne.\n",
      "🔸 정답: これってようはリボ払いだよね\n"
     ]
    },
    {
     "name": "stderr",
     "output_type": "stream",
     "text": [
      "\r",
      " 86%|████████▌ | 86/100 [00:49<00:08,  1.63it/s]"
     ]
    },
    {
     "name": "stdout",
     "output_type": "stream",
     "text": [
      "\n",
      "🔹 예측: 防犯カメラの映像をよく見たら人がいた\n",
      "🔸 정답: 防犯カメラの映像をよく見たら人がいた\n"
     ]
    },
    {
     "name": "stderr",
     "output_type": "stream",
     "text": [
      "\r",
      " 87%|████████▋ | 87/100 [00:49<00:07,  1.78it/s]"
     ]
    },
    {
     "name": "stdout",
     "output_type": "stream",
     "text": [
      "\n",
      "🔹 예측: 二階の指導室へ寄ってくれ\n",
      "🔸 정답: 二階の指導室へ寄ってくれ。\n"
     ]
    },
    {
     "name": "stderr",
     "output_type": "stream",
     "text": [
      "\r",
      " 88%|████████▊ | 88/100 [00:49<00:06,  1.92it/s]"
     ]
    },
    {
     "name": "stdout",
     "output_type": "stream",
     "text": [
      "\n",
      "🔹 예측: それ交差素というより二次創作だから\n",
      "🔸 정답: それ考察というより二次創作だから\n"
     ]
    },
    {
     "name": "stderr",
     "output_type": "stream",
     "text": [
      "\r",
      " 89%|████████▉ | 89/100 [00:50<00:05,  1.91it/s]"
     ]
    },
    {
     "name": "stdout",
     "output_type": "stream",
     "text": [
      "\n",
      "🔹 예측: 情報な顔つきのようながこっちが一体ってくる\n",
      "🔸 정답: 凶暴な顔つきの犬がこちらへ近寄ってくる\n"
     ]
    },
    {
     "name": "stderr",
     "output_type": "stream",
     "text": [
      "\r",
      " 90%|█████████ | 90/100 [00:50<00:05,  1.90it/s]"
     ]
    },
    {
     "name": "stdout",
     "output_type": "stream",
     "text": [
      "\n",
      "🔹 예측: 社会が実体的自由として倫理的実体となり、\n",
      "🔸 정답: 社会が実体的自由として倫理的実体となり、\n"
     ]
    },
    {
     "name": "stderr",
     "output_type": "stream",
     "text": [
      "\r",
      " 91%|█████████ | 91/100 [00:51<00:04,  2.07it/s]"
     ]
    },
    {
     "name": "stdout",
     "output_type": "stream",
     "text": [
      "\n",
      "🔹 예측: 交互にしてもなにもない\n",
      "🔸 정답: 合理性もなにもない\n"
     ]
    },
    {
     "name": "stderr",
     "output_type": "stream",
     "text": [
      "\r",
      " 92%|█████████▏| 92/100 [00:52<00:04,  1.76it/s]"
     ]
    },
    {
     "name": "stdout",
     "output_type": "stream",
     "text": [
      "\n",
      "🔹 예측: 与えられたものは単に否定すべきものでもなく、また大会し大会せられるものでもない。\n",
      "🔸 정답: 与えられたものは単に否定すべきものでもなく、また媒介し媒介せられるものでもない。\n"
     ]
    },
    {
     "name": "stderr",
     "output_type": "stream",
     "text": [
      "\r",
      " 93%|█████████▎| 93/100 [00:52<00:04,  1.55it/s]"
     ]
    },
    {
     "name": "stdout",
     "output_type": "stream",
     "text": [
      "\n",
      "🔹 예측: 常識的な声はその社会の全体との関係において不通語も起こらないのが普通である。\n",
      "🔸 정답: 常識的な行為はその社会の全体との関係において不都合の起こらないのが普通である。\n"
     ]
    },
    {
     "name": "stderr",
     "output_type": "stream",
     "text": [
      "\r",
      " 94%|█████████▍| 94/100 [00:53<00:03,  1.76it/s]"
     ]
    },
    {
     "name": "stdout",
     "output_type": "stream",
     "text": [
      "\n",
      "🔹 예측: 顔もカニして声からして訴える\n",
      "🔸 정답: 顔真っ赤にして声からして訴える\n"
     ]
    },
    {
     "name": "stderr",
     "output_type": "stream",
     "text": [
      "\r",
      " 95%|█████████▌| 95/100 [00:54<00:03,  1.47it/s]"
     ]
    },
    {
     "name": "stdout",
     "output_type": "stream",
     "text": [
      "\n",
      "🔹 예측: しかし、それは世界が自己体的だということでもなく、単に公務的的だということでもない、世界が一つの現在として自己形成的だということである。\n",
      "🔸 정답: しかしそれは、世界が機械的だということでもなく、単に合目的的だということでもない、世界が一つの現在として自己形成的だということである。\n"
     ]
    },
    {
     "name": "stderr",
     "output_type": "stream",
     "text": [
      "\r",
      " 96%|█████████▌| 96/100 [00:54<00:02,  1.68it/s]"
     ]
    },
    {
     "name": "stdout",
     "output_type": "stream",
     "text": [
      "\n",
      "🔹 예측: 佐賀県交布区町\n",
      "🔸 정답: 佐賀県江北町\n"
     ]
    },
    {
     "name": "stderr",
     "output_type": "stream",
     "text": [
      "\r",
      " 97%|█████████▋| 97/100 [00:55<00:01,  1.75it/s]"
     ]
    },
    {
     "name": "stdout",
     "output_type": "stream",
     "text": [
      "\n",
      "🔹 예측: キャラクターをひたすらに強化して無双する\n",
      "🔸 정답: キャラクターをひたすらに強化して無双する。\n"
     ]
    },
    {
     "name": "stderr",
     "output_type": "stream",
     "text": [
      "\r",
      " 98%|█████████▊| 98/100 [00:56<00:01,  1.41it/s]"
     ]
    },
    {
     "name": "stdout",
     "output_type": "stream",
     "text": [
      "\n",
      "🔹 예측: 仕方がない、何でもよいから速率のあるところまで、歩行的進行をして、その上にそろりっと息を左に舞い出しながら始めた\n",
      "🔸 정답: 仕方がない、何でもよいから食物のある所まであるこうと決心をしてそろりそろりと池を左に廻り始めた\n"
     ]
    },
    {
     "name": "stderr",
     "output_type": "stream",
     "text": [
      "\r",
      " 99%|█████████▉| 99/100 [00:56<00:00,  1.70it/s]"
     ]
    },
    {
     "name": "stdout",
     "output_type": "stream",
     "text": [
      "\n",
      "🔹 예측: 岡山市中区\n",
      "🔸 정답: 岡山市中区\n"
     ]
    },
    {
     "name": "stderr",
     "output_type": "stream",
     "text": [
      "100%|██████████| 100/100 [00:56<00:00,  1.76it/s]"
     ]
    },
    {
     "name": "stdout",
     "output_type": "stream",
     "text": [
      "\n",
      "🔹 예측: 島根県東南町\n",
      "🔸 정답: 島根県飯南町\n",
      "\n",
      "✅ JA WER: 0.6700\n",
      "\n",
      "🌍 언어: de\n"
     ]
    },
    {
     "name": "stderr",
     "output_type": "stream",
     "text": [
      "\n",
      "  1%|          | 1/100 [00:00<01:36,  1.03it/s]"
     ]
    },
    {
     "name": "stdout",
     "output_type": "stream",
     "text": [
      "\n",
      "🔹 예측:  Damit vār, dass erklärte cieles teams verfiel.\n",
      "🔸 정답: Damit war das erklärte Ziel des Teams verfehlt.\n"
     ]
    },
    {
     "name": "stderr",
     "output_type": "stream",
     "text": [
      "\r",
      "  2%|▏         | 2/100 [00:01<01:01,  1.61it/s]"
     ]
    },
    {
     "name": "stdout",
     "output_type": "stream",
     "text": [
      "\n",
      "🔹 예측: The sea is tired of climbing up to them.\n",
      "🔸 정답: Sie ist Teil der Kleinen Antillen.\n"
     ]
    },
    {
     "name": "stderr",
     "output_type": "stream",
     "text": [
      "\r",
      "  3%|▎         | 3/100 [00:01<00:59,  1.63it/s]"
     ]
    },
    {
     "name": "stdout",
     "output_type": "stream",
     "text": [
      "\n",
      "🔹 예측:  Erstmals nahmen zwei deutsche Mannschaften an Turn-Weltmeisterschaften im Geräturm teil.\n",
      "🔸 정답: Erstmals nahmen zwei deutsche Mannschaften an Turn-Weltmeisterschaften im Gerätturnen teil.\n"
     ]
    },
    {
     "name": "stderr",
     "output_type": "stream",
     "text": [
      "\r",
      "  4%|▍         | 4/100 [00:02<00:56,  1.70it/s]"
     ]
    },
    {
     "name": "stdout",
     "output_type": "stream",
     "text": [
      "\n",
      "🔹 예측:  Und lehnt entspricht die Struktur des Dorfes der eines Kibbutz.\n",
      "🔸 정답: Grundlegend entspricht die Struktur des Dorfes der eines Kibbuz.\n"
     ]
    },
    {
     "name": "stderr",
     "output_type": "stream",
     "text": [
      "\r",
      "  5%|▌         | 5/100 [00:03<00:57,  1.66it/s]"
     ]
    },
    {
     "name": "stdout",
     "output_type": "stream",
     "text": [
      "\n",
      "🔹 예측: Die Patrologie gebraucht dabei die Methoden der Geschichtswissenschaft und der Literaturwissenschaft.\n",
      "🔸 정답: Die Patrologie gebraucht dabei die Methoden der Geschichtswissenschaft und der Literaturwissenschaft.\n"
     ]
    },
    {
     "name": "stderr",
     "output_type": "stream",
     "text": [
      "\r",
      "  6%|▌         | 6/100 [00:03<00:54,  1.72it/s]"
     ]
    },
    {
     "name": "stdout",
     "output_type": "stream",
     "text": [
      "\n",
      "🔹 예측:  Der Ansatz von Mittelstraß hat methodische und zugleich normative Ambitionen.\n",
      "🔸 정답: Der Ansatz von Mittelstraß hat methodische und zugleich normative Ambitionen.\n"
     ]
    },
    {
     "name": "stderr",
     "output_type": "stream",
     "text": [
      "\r",
      "  7%|▋         | 7/100 [00:04<00:54,  1.71it/s]"
     ]
    },
    {
     "name": "stdout",
     "output_type": "stream",
     "text": [
      "\n",
      "🔹 예측: Beide sind bekannte Stars Hollywoods, allerdings nur als Paar beim Publikum beliebt.\n",
      "🔸 정답: Beide sind bekannte Stars Hollywoods, allerdings nur als Paar beim Publikum beliebt.\n"
     ]
    },
    {
     "name": "stderr",
     "output_type": "stream",
     "text": [
      "\r",
      "  8%|▊         | 8/100 [00:04<00:50,  1.81it/s]"
     ]
    },
    {
     "name": "stdout",
     "output_type": "stream",
     "text": [
      "\n",
      "🔹 예측:  Zwischen April und November verkehrt dieser Sonderzug jedes Wochenende.\n",
      "🔸 정답: Zwischen April und November verkehrt dieser Sonderzug jedes Wochenende.\n"
     ]
    },
    {
     "name": "stderr",
     "output_type": "stream",
     "text": [
      "\r",
      "  9%|▉         | 9/100 [00:05<00:47,  1.90it/s]"
     ]
    },
    {
     "name": "stdout",
     "output_type": "stream",
     "text": [
      "\n",
      "🔹 예측:  Sie dienen darüber hinaus als Informationsquelle der Kommunalaufsicht.\n",
      "🔸 정답: Sie dienen darüber hinaus als Informationsquelle der Kommunalaufsicht.\n"
     ]
    },
    {
     "name": "stderr",
     "output_type": "stream",
     "text": [
      "\r",
      " 10%|█         | 10/100 [00:05<00:47,  1.90it/s]"
     ]
    },
    {
     "name": "stdout",
     "output_type": "stream",
     "text": [
      "\n",
      "🔹 예측: Weiterhin zählt zur Anlage eine Kapelle.\n",
      "🔸 정답: Weiterhin zählt zur Anlage eine Kapelle.\n"
     ]
    },
    {
     "name": "stderr",
     "output_type": "stream",
     "text": [
      "\r",
      " 11%|█         | 11/100 [00:06<00:53,  1.68it/s]"
     ]
    },
    {
     "name": "stdout",
     "output_type": "stream",
     "text": [
      "\n",
      "🔹 예측:  Um auf dem Fahrrad der schnellste Kurier des Unternehmens zu werden, trainierte er hart.\n",
      "🔸 정답: Um auf dem Fahrrad der schnellste Kurier des Unternehmens zu werden, trainierte er hart.\n"
     ]
    },
    {
     "name": "stderr",
     "output_type": "stream",
     "text": [
      "\r",
      " 12%|█▏        | 12/100 [00:07<00:58,  1.51it/s]"
     ]
    },
    {
     "name": "stdout",
     "output_type": "stream",
     "text": [
      "\n",
      "🔹 예측:  Um uni sprava, vereine, bet zu gesta, un kanci normierd viedu.\n",
      "🔸 정답: Um eine Sprache eindeutig zu gestalten, kann sie normiert werden.\n"
     ]
    },
    {
     "name": "stderr",
     "output_type": "stream",
     "text": [
      "\r",
      " 13%|█▎        | 13/100 [00:08<01:00,  1.44it/s]"
     ]
    },
    {
     "name": "stdout",
     "output_type": "stream",
     "text": [
      "\n",
      "🔹 예측: In der Umgebung befinden sich schwefelhaltige Quellen für Bäder und zum Trinken.\n",
      "🔸 정답: In der Umgebung befinden sich schwefelhaltige Quellen für Bäder und zum Trinken.\n"
     ]
    },
    {
     "name": "stderr",
     "output_type": "stream",
     "text": [
      "\r",
      " 14%|█▍        | 14/100 [00:08<00:55,  1.54it/s]"
     ]
    },
    {
     "name": "stdout",
     "output_type": "stream",
     "text": [
      "\n",
      "🔹 예측: Das Tag Team wurde in Folge dessen aufgelöst.\n",
      "🔸 정답: Das Tag Team wurde in Folge dessen aufgelöst.\n"
     ]
    },
    {
     "name": "stderr",
     "output_type": "stream",
     "text": [
      "\r",
      " 15%|█▌        | 15/100 [00:09<00:50,  1.67it/s]"
     ]
    },
    {
     "name": "stdout",
     "output_type": "stream",
     "text": [
      "\n",
      "🔹 예측:  Ähnliche Tribunale gab es auch in den Provinzen.\n",
      "🔸 정답: Ähnliche Tribunale gab es auch in den Provinzen.\n"
     ]
    },
    {
     "name": "stderr",
     "output_type": "stream",
     "text": [
      "\r",
      " 16%|█▌        | 16/100 [00:09<00:51,  1.62it/s]"
     ]
    },
    {
     "name": "stdout",
     "output_type": "stream",
     "text": [
      "\n",
      "🔹 예측: Die Schauerleute waren in der Regel Tagelöhner, die kurzfristig angestellt wurden, wenn Arbeit anfiel.\n",
      "🔸 정답: Die Schauerleute waren in der Regel Tagelöhner, die kurzfristig angestellt wurden, wenn Arbeit anfiel.\n"
     ]
    },
    {
     "name": "stderr",
     "output_type": "stream",
     "text": [
      "\r",
      " 17%|█▋        | 17/100 [00:10<00:54,  1.52it/s]"
     ]
    },
    {
     "name": "stdout",
     "output_type": "stream",
     "text": [
      "\n",
      "🔹 예측:  Eilie apgängši un solcheni falli kanķu ar spesāme spielikiem urštmēm.\n",
      "🔸 정답: Eine Abgrenzung in solchen Fällen kann sich als besonders schwierig herausstellen.\n"
     ]
    },
    {
     "name": "stderr",
     "output_type": "stream",
     "text": [
      "\r",
      " 18%|█▊        | 18/100 [00:11<00:55,  1.47it/s]"
     ]
    },
    {
     "name": "stdout",
     "output_type": "stream",
     "text": [
      "\n",
      "🔹 예측:  Sie liegt vier Kilometer westlich von Doma-Schlütze und gehört zu dem Okres Doma-Schlütze an.\n",
      "🔸 정답: Sie liegt vier Kilometer westlich von Domažlice und gehört dem Okres Domažlice an.\n"
     ]
    },
    {
     "name": "stderr",
     "output_type": "stream",
     "text": [
      "\r",
      " 19%|█▉        | 19/100 [00:11<00:51,  1.57it/s]"
     ]
    },
    {
     "name": "stdout",
     "output_type": "stream",
     "text": [
      "\n",
      "🔹 예측:  Sie ist das regularen Zentrum der Rune in der Orinsdämperau.\n",
      "🔸 정답: Sie ist das regionale Zentrum der Veluwe in der Provinz Gelderland.\n"
     ]
    },
    {
     "name": "stderr",
     "output_type": "stream",
     "text": [
      "\r",
      " 20%|██        | 20/100 [00:12<00:51,  1.54it/s]"
     ]
    },
    {
     "name": "stdout",
     "output_type": "stream",
     "text": [
      "\n",
      "🔹 예측:  Es esam viņu Pupe Robinson, den invarāres klādeni leidas \"Fury Records\".\n",
      "🔸 정답: Dieser sandte ihn zu Bobby Robinson, dem Inhaber des kleinen Labels \"Fury Records\".\n"
     ]
    },
    {
     "name": "stderr",
     "output_type": "stream",
     "text": [
      "\r",
      " 21%|██        | 21/100 [00:13<00:57,  1.38it/s]"
     ]
    },
    {
     "name": "stdout",
     "output_type": "stream",
     "text": [
      "\n",
      "🔹 예측:  Imzvarim bildkriek vultas straknitzinu vorge intensiverk un bordem uz. Derindustrii stab stāk besiegi.\n",
      "🔸 정답: Im Zweiten Weltkrieg wurde das Streckennetz, infolge intensiver Bombardements der Industriestadt, stark beschädigt.\n"
     ]
    },
    {
     "name": "stderr",
     "output_type": "stream",
     "text": [
      "\r",
      " 22%|██▏       | 22/100 [00:13<00:54,  1.43it/s]"
     ]
    },
    {
     "name": "stdout",
     "output_type": "stream",
     "text": [
      "\n",
      "🔹 예측:  Die anderen belgischen Provinzen sind durch allegorische Statuen und fuß der Sohn vertreten.\n",
      "🔸 정답: Die anderen belgischen Provinzen sind durch allegorische Statuen am Fuße der Säulen vertreten.\n"
     ]
    },
    {
     "name": "stderr",
     "output_type": "stream",
     "text": [
      "\r",
      " 23%|██▎       | 23/100 [00:14<00:53,  1.43it/s]"
     ]
    },
    {
     "name": "stdout",
     "output_type": "stream",
     "text": [
      "\n",
      "🔹 예측:  Derideriegiši marna tur mazsumi Nardi. Nardi visam anija un sepskotri.\n",
      "🔸 정답: Der italienische Maler Tommaso Minardi malte in dieser Manier ein Selbstporträt.\n"
     ]
    },
    {
     "name": "stderr",
     "output_type": "stream",
     "text": [
      "\r",
      " 24%|██▍       | 24/100 [00:15<00:46,  1.62it/s]"
     ]
    },
    {
     "name": "stdout",
     "output_type": "stream",
     "text": [
      "\n",
      "🔹 예측:  Nikolai vor dem Stubentor benannt.\n",
      "🔸 정답: Nikolai vor dem Stubentor“ genannt.\n"
     ]
    },
    {
     "name": "stderr",
     "output_type": "stream",
     "text": [
      "\r",
      " 25%|██▌       | 25/100 [00:15<00:51,  1.45it/s]"
     ]
    },
    {
     "name": "stdout",
     "output_type": "stream",
     "text": [
      "\n",
      "🔹 예측: עוף שיני ספרה, שביגים את עוד אני לא עלפעה הסופיציה, במינטישי מיליטר.\n",
      "🔸 정답: Auf Wunsch seines Vaters beginnt Edward eine Laufbahn als Offizier beim britischen Militär.\n"
     ]
    },
    {
     "name": "stderr",
     "output_type": "stream",
     "text": [
      "\r",
      " 26%|██▌       | 26/100 [00:16<00:53,  1.37it/s]"
     ]
    },
    {
     "name": "stdout",
     "output_type": "stream",
     "text": [
      "\n",
      "🔹 예측:  Dadrushkande verbraniem besloinikta, un atlicenu nondanikta energiļu, parapesacts.\n",
      "🔸 정답: Dadurch kann die Verbrennung beschleunigt oder die zur Zündung notwendige Energie herabgesetzt werden.\n"
     ]
    },
    {
     "name": "stderr",
     "output_type": "stream",
     "text": [
      "\r",
      " 27%|██▋       | 27/100 [00:17<00:47,  1.53it/s]"
     ]
    },
    {
     "name": "stdout",
     "output_type": "stream",
     "text": [
      "\n",
      "🔹 예측:  Das Konzept für das Museum stammt von Margarethe Greiner.\n",
      "🔸 정답: Das Konzept für das Museum stammt von Margarethe Greiner.\n"
     ]
    },
    {
     "name": "stderr",
     "output_type": "stream",
     "text": [
      "\r",
      " 28%|██▊       | 28/100 [00:18<00:49,  1.46it/s]"
     ]
    },
    {
     "name": "stdout",
     "output_type": "stream",
     "text": [
      "\n",
      "🔹 예측:  Diss dzait vauvau rupieša ēdnoti, es atspiegu, futzētnēt.\n",
      "🔸 정답: Dies zeigt, wer auf europäischer Ebene die Gesetzgebung verzögert.\n"
     ]
    },
    {
     "name": "stderr",
     "output_type": "stream",
     "text": [
      "\r",
      " 29%|██▉       | 29/100 [00:18<00:53,  1.33it/s]"
     ]
    },
    {
     "name": "stdout",
     "output_type": "stream",
     "text": [
      "\n",
      "🔹 예측:  Ich bezweifle, dass irgendjemandem nützt, einen Ansatz auf Fall-zu-Fall-Positionen zu verfolgen.\n",
      "🔸 정답: Ich bezweifle, dass es irgendjemandem nützt, einen Ansatz auf Fall-zu-Fall-Basis zu verfolgen.\n"
     ]
    },
    {
     "name": "stderr",
     "output_type": "stream",
     "text": [
      "\r",
      " 30%|███       | 30/100 [00:19<00:51,  1.35it/s]"
     ]
    },
    {
     "name": "stdout",
     "output_type": "stream",
     "text": [
      "\n",
      "🔹 예측:  Her har vi nur birokratie og forbehandelige satskære.\n",
      "🔸 정답: Hier haben wir nur Bürokratie und verwirrende Gesetzgebung.\n"
     ]
    },
    {
     "name": "stderr",
     "output_type": "stream",
     "text": [
      "\r",
      " 31%|███       | 31/100 [00:20<00:50,  1.37it/s]"
     ]
    },
    {
     "name": "stdout",
     "output_type": "stream",
     "text": [
      "\n",
      "🔹 예측: Es freut mich, dass das Parlament den Vorschlag grundsätzlich befürwortet hat.\n",
      "🔸 정답: Es freut mich, dass das Parlament den Vorschlag grundsätzlich befürwortet hat.\n"
     ]
    },
    {
     "name": "stderr",
     "output_type": "stream",
     "text": [
      "\r",
      " 32%|███▏      | 32/100 [00:20<00:47,  1.43it/s]"
     ]
    },
    {
     "name": "stdout",
     "output_type": "stream",
     "text": [
      "\n",
      "🔹 예측:  Natürlich kann sie dazu beitragen, und man muss ihr die Mittel hierfür geben.\n",
      "🔸 정답: Natürlich kann sie dazu beitragen, und man muss ihr die Mittel hierfür geben.\n"
     ]
    },
    {
     "name": "stderr",
     "output_type": "stream",
     "text": [
      "\r",
      " 33%|███▎      | 33/100 [00:21<00:43,  1.53it/s]"
     ]
    },
    {
     "name": "stdout",
     "output_type": "stream",
     "text": [
      "\n",
      "🔹 예측:  Das ist ganz einfach unzutreffend.\n",
      "🔸 정답: Das ist ganz einfach unzutreffend!\n"
     ]
    },
    {
     "name": "stderr",
     "output_type": "stream",
     "text": [
      "\r",
      " 34%|███▍      | 34/100 [00:21<00:39,  1.69it/s]"
     ]
    },
    {
     "name": "stdout",
     "output_type": "stream",
     "text": [
      "\n",
      "🔹 예측:  Außerdem sprach man sich für eine schnelle Umsetzung aus.\n",
      "🔸 정답: Außerdem sprach man sich für eine schnelle Umsetzung aus.\n"
     ]
    },
    {
     "name": "stderr",
     "output_type": "stream",
     "text": [
      "\r",
      " 35%|███▌      | 35/100 [00:22<00:37,  1.75it/s]"
     ]
    },
    {
     "name": "stdout",
     "output_type": "stream",
     "text": [
      "\n",
      "🔹 예측:  These are the \"M\" that we of course would have to address in Russian.\n",
      "🔸 정답: Dies sind Themen, die wir natürlich den Russen gegenüber ansprechen.\n"
     ]
    },
    {
     "name": "stderr",
     "output_type": "stream",
     "text": [
      "\r",
      " 36%|███▌      | 36/100 [00:23<00:37,  1.70it/s]"
     ]
    },
    {
     "name": "stdout",
     "output_type": "stream",
     "text": [
      "\n",
      "🔹 예측:  Die Mitgliedstaaten verfügenen Bereich des militärischen Schiffbaus über anerkan des Know-how.\n",
      "🔸 정답: Die Mitgliedstaaten verfügen im Bereich des militärischen Schiffbaus über anerkanntes Know-how.\n"
     ]
    },
    {
     "name": "stderr",
     "output_type": "stream",
     "text": [
      "\r",
      " 37%|███▋      | 37/100 [00:23<00:40,  1.54it/s]"
     ]
    },
    {
     "name": "stdout",
     "output_type": "stream",
     "text": [
      "\n",
      "🔹 예측:  Progingenu jītana vukumbārā bainstrasi, metu jūnfiems vrištaim.\n",
      "🔸 정답: Plochingen liegt an der Württemberger Weinstraße mit vielen Sehenswürdigkeiten.\n"
     ]
    },
    {
     "name": "stderr",
     "output_type": "stream",
     "text": [
      "\r",
      " 38%|███▊      | 38/100 [00:24<00:38,  1.61it/s]"
     ]
    },
    {
     "name": "stdout",
     "output_type": "stream",
     "text": [
      "\n",
      "🔹 예측: Die Ratte erzählte der Katze, dass dieses Fest einen Tag später gefeiert würde.\n",
      "🔸 정답: Die Ratte erzählte der Katze, dass dieses Fest einen Tag später gefeiert würde.\n"
     ]
    },
    {
     "name": "stderr",
     "output_type": "stream",
     "text": [
      "\r",
      " 39%|███▉      | 39/100 [00:24<00:35,  1.72it/s]"
     ]
    },
    {
     "name": "stdout",
     "output_type": "stream",
     "text": [
      "\n",
      "🔹 예측: Wie wir wissen, sinken diese Asylzahlen seit vielen Jahren stark.\n",
      "🔸 정답: Wie wir wissen, sinken diese Asylzahlen seit vielen Jahren stark.\n"
     ]
    },
    {
     "name": "stderr",
     "output_type": "stream",
     "text": [
      "\r",
      " 40%|████      | 40/100 [00:25<00:33,  1.80it/s]"
     ]
    },
    {
     "name": "stdout",
     "output_type": "stream",
     "text": [
      "\n",
      "🔹 예측:  Die Stiftung wird von einem dreiköpfigen Vorstand verwaltet.\n",
      "🔸 정답: Die Stiftung wird von einem dreiköpfigen Vorstand verwaltet.\n"
     ]
    },
    {
     "name": "stderr",
     "output_type": "stream",
     "text": [
      "\r",
      " 41%|████      | 41/100 [00:26<00:33,  1.74it/s]"
     ]
    },
    {
     "name": "stdout",
     "output_type": "stream",
     "text": [
      "\n",
      "🔹 예측:  Iš afraa laufti besuhaver labi īsam paainduk.\n",
      "🔸 정답: Ich hoffe, alle auf der Besuchergalerie sind beeindruckt!\n"
     ]
    },
    {
     "name": "stderr",
     "output_type": "stream",
     "text": [
      "\r",
      " 42%|████▏     | 42/100 [00:26<00:31,  1.86it/s]"
     ]
    },
    {
     "name": "stdout",
     "output_type": "stream",
     "text": [
      "\n",
      "🔹 예측:  Power erhielt als Kind eine klassische Klavierausbildung.\n",
      "🔸 정답: Pauer erhielt als Kind eine klassische Klavierausbildung.\n"
     ]
    },
    {
     "name": "stderr",
     "output_type": "stream",
     "text": [
      "\r",
      " 43%|████▎     | 43/100 [00:27<00:32,  1.77it/s]"
     ]
    },
    {
     "name": "stdout",
     "output_type": "stream",
     "text": [
      "\n",
      "🔹 예측: Bewildering, der hat seitdem zum Jagstkreis, dessen Sitz in Elbernen war.\n",
      "🔸 정답: Öhringen gehörte seitdem zum Jagstkreis, dessen Sitz in Ellwangen war.\n"
     ]
    },
    {
     "name": "stderr",
     "output_type": "stream",
     "text": [
      "\r",
      " 44%|████▍     | 44/100 [00:27<00:31,  1.76it/s]"
     ]
    },
    {
     "name": "stdout",
     "output_type": "stream",
     "text": [
      "\n",
      "🔹 예측:  Henry Middleton erhielt Privatunterricht und besuchte auch in England die Schule.\n",
      "🔸 정답: Henry Middleton erhielt Privatunterricht und besuchte auch in England die Schule.\n"
     ]
    },
    {
     "name": "stderr",
     "output_type": "stream",
     "text": [
      "\r",
      " 45%|████▌     | 45/100 [00:28<00:30,  1.81it/s]"
     ]
    },
    {
     "name": "stdout",
     "output_type": "stream",
     "text": [
      "\n",
      "🔹 예측:  Das Gudensberger Stadtwappen zeigt das stilisierte Tor der Burg.\n",
      "🔸 정답: Das Gudensberger Stadtwappen zeigt das stilisierte Tor der Burg.\n"
     ]
    },
    {
     "name": "stderr",
     "output_type": "stream",
     "text": [
      "\r",
      " 46%|████▌     | 46/100 [00:29<00:33,  1.60it/s]"
     ]
    },
    {
     "name": "stdout",
     "output_type": "stream",
     "text": [
      "\n",
      "🔹 예측:  Saitēm vietas ar zauptēm un eventlokājši apifoktaiju betrībā.\n",
      "🔸 정답: Seitdem wird es als Hotel und Eventlocation \"Alte Vogtei\" betrieben.\n"
     ]
    },
    {
     "name": "stderr",
     "output_type": "stream",
     "text": [
      "\r",
      " 47%|████▋     | 47/100 [00:29<00:31,  1.70it/s]"
     ]
    },
    {
     "name": "stdout",
     "output_type": "stream",
     "text": [
      "\n",
      "🔹 예측:  Das wichtigste Verwachtungszentrum verbleigt in New York City.\n",
      "🔸 정답: Das wichtigste Verwaltungszentrum verbleibt in New York City.\n"
     ]
    },
    {
     "name": "stderr",
     "output_type": "stream",
     "text": [
      "\r",
      " 48%|████▊     | 48/100 [00:30<00:32,  1.62it/s]"
     ]
    },
    {
     "name": "stdout",
     "output_type": "stream",
     "text": [
      "\n",
      "🔹 예측:  Die öffentlichkeits Arbeit, unterstützt von Smiths Fotos, belabte es, die Firma vor Gericht zu bringen.\n",
      "🔸 정답: Die Öffentlichkeitsarbeit, unterstützt von Smiths Fotos, erlaubte es, die Firma vor Gericht zu bringen.\n"
     ]
    },
    {
     "name": "stderr",
     "output_type": "stream",
     "text": [
      "\r",
      " 49%|████▉     | 49/100 [00:30<00:28,  1.79it/s]"
     ]
    },
    {
     "name": "stdout",
     "output_type": "stream",
     "text": [
      "\n",
      "🔹 예측:  Die Untersuchung verlief daraufhin im Sande.\n",
      "🔸 정답: Die Untersuchung verlief daraufhin im Sande.\n"
     ]
    },
    {
     "name": "stderr",
     "output_type": "stream",
     "text": [
      "\r",
      " 50%|█████     | 50/100 [00:31<00:27,  1.81it/s]"
     ]
    },
    {
     "name": "stdout",
     "output_type": "stream",
     "text": [
      "\n",
      "🔹 예측:  Den diesen leisen Schluss hinein färkt sakrot die fünfte Variation.\n",
      "🔸 정답: In diesen leisen Schluss hinein fährt sofort die fünfte Variation.\n"
     ]
    },
    {
     "name": "stderr",
     "output_type": "stream",
     "text": [
      "\r",
      " 51%|█████     | 51/100 [00:31<00:28,  1.70it/s]"
     ]
    },
    {
     "name": "stdout",
     "output_type": "stream",
     "text": [
      "\n",
      "🔹 예측:  Imba folgungenu sait ventstamdu un zweimte lovdor.\n",
      "🔸 정답: In der folgenden Zeit entstand ein zweiter Wohnturm.\n"
     ]
    },
    {
     "name": "stderr",
     "output_type": "stream",
     "text": [
      "\r",
      " 52%|█████▏    | 52/100 [00:32<00:30,  1.57it/s]"
     ]
    },
    {
     "name": "stdout",
     "output_type": "stream",
     "text": [
      "\n",
      "🔹 예측:  Die Kreuze können aus Sandstein, Granit, Kalkstein oder anderen Steinarten hergestellt sein.\n",
      "🔸 정답: Die Kreuze können aus Sandstein, Granit, Kalkstein oder anderen Steinarten hergestellt sein.\n"
     ]
    },
    {
     "name": "stderr",
     "output_type": "stream",
     "text": [
      "\r",
      " 53%|█████▎    | 53/100 [00:33<00:35,  1.34it/s]"
     ]
    },
    {
     "name": "stdout",
     "output_type": "stream",
     "text": [
      "\n",
      "🔹 예측:  Viņi saimāk, nav mēšanu vermūteni, es apierāk daikši forfārā.\n",
      "🔸 정답: Wie sein Nachname schon vermuten lässt, hat er auch deutsche Vorfahren.\n"
     ]
    },
    {
     "name": "stderr",
     "output_type": "stream",
     "text": [
      "\r",
      " 54%|█████▍    | 54/100 [00:34<00:38,  1.20it/s]"
     ]
    },
    {
     "name": "stdout",
     "output_type": "stream",
     "text": [
      "\n",
      "🔹 예측:  Es bodi daļa reindari baun, vajadri landa imbērns viņu aukts.\n",
      "🔸 정답: Es wurde daher ein Neubau weiter landeinwärts beschlossen.\n"
     ]
    },
    {
     "name": "stderr",
     "output_type": "stream",
     "text": [
      "\r",
      " 55%|█████▌    | 55/100 [00:35<00:35,  1.27it/s]"
     ]
    },
    {
     "name": "stdout",
     "output_type": "stream",
     "text": [
      "\n",
      "🔹 예측:  Nach Beendigung des Dreißigjährigen Krieges sind im Hufenregister nur noch fünf Wirtschaften aufgeführt.\n",
      "🔸 정답: Nach Beendigung des Dreißigjährigen Krieges sind im Hufenregister nur noch fünf Wirtschaften aufgeführt.\n"
     ]
    },
    {
     "name": "stderr",
     "output_type": "stream",
     "text": [
      "\r",
      " 56%|█████▌    | 56/100 [00:36<00:33,  1.31it/s]"
     ]
    },
    {
     "name": "stdout",
     "output_type": "stream",
     "text": [
      "\n",
      "🔹 예측: Das Verwaltungs- und Geschäftszentrum befindet sich an der \"Avenida del Libertador General San Martín\".\n",
      "🔸 정답: Das Verwaltungs- und Geschäftszentrum befindet sich an der \"Avenida del Libertador General San Martín\".\n"
     ]
    },
    {
     "name": "stderr",
     "output_type": "stream",
     "text": [
      "\r",
      " 57%|█████▋    | 57/100 [00:36<00:28,  1.51it/s]"
     ]
    },
    {
     "name": "stdout",
     "output_type": "stream",
     "text": [
      "\n",
      "🔹 예측:  Ir var heimāt bereikti un genf.\n",
      "🔸 정답: Er war heimatberechtigt in Genf.\n"
     ]
    },
    {
     "name": "stderr",
     "output_type": "stream",
     "text": [
      "\r",
      " 58%|█████▊    | 58/100 [00:36<00:24,  1.73it/s]"
     ]
    },
    {
     "name": "stdout",
     "output_type": "stream",
     "text": [
      "\n",
      "🔹 예측:  Platz zusammen mit Australien und den Philippinen.\n",
      "🔸 정답: Platz zusammen mit Australien und den Philippinen.\n"
     ]
    },
    {
     "name": "stderr",
     "output_type": "stream",
     "text": [
      "\r",
      " 59%|█████▉    | 59/100 [00:37<00:21,  1.87it/s]"
     ]
    },
    {
     "name": "stdout",
     "output_type": "stream",
     "text": [
      "\n",
      "🔹 예측: Unterricht findet zwischen Montag und Freitag statt.\n",
      "🔸 정답: Unterricht findet zwischen Montag und Freitag statt.\n"
     ]
    },
    {
     "name": "stderr",
     "output_type": "stream",
     "text": [
      "\r",
      " 60%|██████    | 60/100 [00:37<00:20,  1.97it/s]"
     ]
    },
    {
     "name": "stdout",
     "output_type": "stream",
     "text": [
      "\n",
      "🔹 예측:  Auch ein Kindergeld stand nur Familien mit zwei oder mehr Kindern zu.\n",
      "🔸 정답: Auch ein Kindergeld stand nur Familien mit zwei oder mehr Kindern zu.\n"
     ]
    },
    {
     "name": "stderr",
     "output_type": "stream",
     "text": [
      "\r",
      " 61%|██████    | 61/100 [00:38<00:19,  1.96it/s]"
     ]
    },
    {
     "name": "stdout",
     "output_type": "stream",
     "text": [
      "\n",
      "🔹 예측:  Man sang als nunen Tenor og begann med sine große karriere.\n",
      "🔸 정답: Mann sang als nun Tenor und begann damit seine große Karriere.\n"
     ]
    },
    {
     "name": "stderr",
     "output_type": "stream",
     "text": [
      "\r",
      " 62%|██████▏   | 62/100 [00:38<00:18,  2.00it/s]"
     ]
    },
    {
     "name": "stdout",
     "output_type": "stream",
     "text": [
      "\n",
      "🔹 예측: Die Herrschaft vermachte er seinem älteren Sohn Numitor.\n",
      "🔸 정답: Die Herrschaft vermachte er seinem älteren Sohn Numitor.\n"
     ]
    },
    {
     "name": "stderr",
     "output_type": "stream",
     "text": [
      "\r",
      " 63%|██████▎   | 63/100 [00:39<00:18,  1.95it/s]"
     ]
    },
    {
     "name": "stdout",
     "output_type": "stream",
     "text": [
      "\n",
      "🔹 예측:  Es ist eines der wenigen dort bezeugten ägyptischen Ämter.\n",
      "🔸 정답: Es ist eines der wenigen dort bezeugten ägyptischen Ämter.\n"
     ]
    },
    {
     "name": "stderr",
     "output_type": "stream",
     "text": [
      "\r",
      " 64%|██████▍   | 64/100 [00:39<00:18,  1.96it/s]"
     ]
    },
    {
     "name": "stdout",
     "output_type": "stream",
     "text": [
      "\n",
      "🔹 예측: Die Ersteller übernehmen für die Richtigkeit der Angaben keine Haftung.\n",
      "🔸 정답: Die Ersteller übernehmen für die Richtigkeit der Angaben keine Haftung.\n"
     ]
    },
    {
     "name": "stderr",
     "output_type": "stream",
     "text": [
      "\r",
      " 65%|██████▌   | 65/100 [00:40<00:20,  1.74it/s]"
     ]
    },
    {
     "name": "stdout",
     "output_type": "stream",
     "text": [
      "\n",
      "🔹 예측:  Dazu zählen ebenfalls registrierte Banken in Genf, Luxemburg, Nassau, Hongkong und Singapur.\n",
      "🔸 정답: Dazu zählen ebenfalls registrierte Banken in Genf, Luxemburg, Nassau, Hongkong und Singapur.\n"
     ]
    },
    {
     "name": "stderr",
     "output_type": "stream",
     "text": [
      "\r",
      " 66%|██████▌   | 66/100 [00:41<00:19,  1.75it/s]"
     ]
    },
    {
     "name": "stdout",
     "output_type": "stream",
     "text": [
      "\n",
      "🔹 예측: In the Mathematics, where the \"Herb\" dabei von Edmund Landau geprüft.\n",
      "🔸 정답: In der Mathematik wurde er dabei von Edmund Landau geprüft.\n"
     ]
    },
    {
     "name": "stderr",
     "output_type": "stream",
     "text": [
      "\r",
      " 67%|██████▋   | 67/100 [00:41<00:19,  1.71it/s]"
     ]
    },
    {
     "name": "stdout",
     "output_type": "stream",
     "text": [
      "\n",
      "🔹 예측:  Two outstanding members had the opponent, who had not yet given up, as well as Kallan and Jutta.\n",
      "🔸 정답: Zwei aufständische Länder hatten die Gegenwehr aber noch nicht aufgegeben: Askalon und Juda.\n"
     ]
    },
    {
     "name": "stderr",
     "output_type": "stream",
     "text": [
      "\r",
      " 68%|██████▊   | 68/100 [00:42<00:18,  1.76it/s]"
     ]
    },
    {
     "name": "stdout",
     "output_type": "stream",
     "text": [
      "\n",
      "🔹 예측:  Deshalb habe ich für den Bericht \"Mavroma\" gespürt.\n",
      "🔸 정답: Deshalb habe ich für den Bericht Mavrommattis gestimmt.\n"
     ]
    },
    {
     "name": "stderr",
     "output_type": "stream",
     "text": [
      "\r",
      " 69%|██████▉   | 69/100 [00:42<00:17,  1.74it/s]"
     ]
    },
    {
     "name": "stdout",
     "output_type": "stream",
     "text": [
      "\n",
      "🔹 예측:  Zwei Füllungswert dieser Handelsverkehr wird das europäische Großkapital gewinnt.\n",
      "🔸 정답: Zweifellos wird dieser Handelsverkehr für das europäische Großkapital Gewinn bringend sein.\n"
     ]
    },
    {
     "name": "stderr",
     "output_type": "stream",
     "text": [
      "\r",
      " 70%|███████   | 70/100 [00:43<00:17,  1.71it/s]"
     ]
    },
    {
     "name": "stdout",
     "output_type": "stream",
     "text": [
      "\n",
      "🔹 예측:  Der Ortskern beschreibt ein Viereck, dessen Mitte unbebaut blieb.\n",
      "🔸 정답: Der Ortskern beschreibt ein Viereck, dessen Mitte unbebaut blieb.\n"
     ]
    },
    {
     "name": "stderr",
     "output_type": "stream",
     "text": [
      "\r",
      " 71%|███████   | 71/100 [00:43<00:14,  1.96it/s]"
     ]
    },
    {
     "name": "stdout",
     "output_type": "stream",
     "text": [
      "\n",
      "🔹 예측:  Stop! Hier geht es nicht weiter.\n",
      "🔸 정답: Stop! Hier geht es nicht weiter.\n"
     ]
    },
    {
     "name": "stderr",
     "output_type": "stream",
     "text": [
      "\r",
      " 72%|███████▏  | 72/100 [00:44<00:13,  2.03it/s]"
     ]
    },
    {
     "name": "stdout",
     "output_type": "stream",
     "text": [
      "\n",
      "🔹 예측:  Erich hat ein auffällig spitzes Kinn.\n",
      "🔸 정답: Erich hat ein auffällig spitzes Kinn.\n"
     ]
    },
    {
     "name": "stderr",
     "output_type": "stream",
     "text": [
      "\r",
      " 73%|███████▎  | 73/100 [00:44<00:14,  1.93it/s]"
     ]
    },
    {
     "name": "stdout",
     "output_type": "stream",
     "text": [
      "\n",
      "🔹 예측:  Das Drama würde gar nicht sein, wenn sich alle an die Richtlinien halten würden.\n",
      "🔸 정답: Das Drama würde gar nicht sein, wenn sich alle an die Richtlinien halten würden.\n"
     ]
    },
    {
     "name": "stderr",
     "output_type": "stream",
     "text": [
      "\r",
      " 74%|███████▍  | 74/100 [00:45<00:16,  1.60it/s]"
     ]
    },
    {
     "name": "stdout",
     "output_type": "stream",
     "text": [
      "\n",
      "🔹 예측:  Seit beginnenderi anstuļt, un esim viļ beigini nur ankiakau.\n",
      "🔸 정답: Seit Beginn der Veranstaltung sind die beiden nur am Gackern.\n"
     ]
    },
    {
     "name": "stderr",
     "output_type": "stream",
     "text": [
      "\r",
      " 75%|███████▌  | 75/100 [00:46<00:16,  1.48it/s]"
     ]
    },
    {
     "name": "stdout",
     "output_type": "stream",
     "text": [
      "\n",
      "🔹 예측: Welche Seite nach innen und welche nach außen kommt, ist schnurzkrieg gegangen.\n",
      "🔸 정답: Welche Seite nach innen und welche nach außen kommt, ist schnurzpiepegal.\n"
     ]
    },
    {
     "name": "stderr",
     "output_type": "stream",
     "text": [
      "\r",
      " 76%|███████▌  | 76/100 [00:46<00:15,  1.58it/s]"
     ]
    },
    {
     "name": "stdout",
     "output_type": "stream",
     "text": [
      "\n",
      "🔹 예측: Der Hund hat es sich auf der Couch bequem gemacht.\n",
      "🔸 정답: Der Hund hat es sich auf der Couch bequem gemacht.\n"
     ]
    },
    {
     "name": "stderr",
     "output_type": "stream",
     "text": [
      "\r",
      " 77%|███████▋  | 77/100 [00:47<00:14,  1.63it/s]"
     ]
    },
    {
     "name": "stdout",
     "output_type": "stream",
     "text": [
      "\n",
      "🔹 예측:  Mit Kerzenlicht ist es aber viel romantischer.\n",
      "🔸 정답: Mit Kerzenlicht ist es aber viel romantischer.\n"
     ]
    },
    {
     "name": "stderr",
     "output_type": "stream",
     "text": [
      "\r",
      " 78%|███████▊  | 78/100 [00:47<00:12,  1.78it/s]"
     ]
    },
    {
     "name": "stdout",
     "output_type": "stream",
     "text": [
      "\n",
      "🔹 예측: Jetzt wird das Wasser doch langsam zu kalt.\n",
      "🔸 정답: Jetzt wird das Wasser doch langsam zu kalt.\n"
     ]
    },
    {
     "name": "stderr",
     "output_type": "stream",
     "text": [
      "\r",
      " 79%|███████▉  | 79/100 [00:48<00:11,  1.79it/s]"
     ]
    },
    {
     "name": "stdout",
     "output_type": "stream",
     "text": [
      "\n",
      "🔹 예측: Glaubst du noch an den Osterhasen oder gar an den Weihnachtsmann?\n",
      "🔸 정답: Glaubst du noch an den Osterhasen oder gar an den Weihnachtsmann?\n"
     ]
    },
    {
     "name": "stderr",
     "output_type": "stream",
     "text": [
      "\r",
      " 80%|████████  | 80/100 [00:48<00:10,  1.90it/s]"
     ]
    },
    {
     "name": "stdout",
     "output_type": "stream",
     "text": [
      "\n",
      "🔹 예측:  Iwārta hanumis 595 metas.\n",
      "🔸 정답: Die Wartehalle misst fünf mal fünf Meter.\n"
     ]
    },
    {
     "name": "stderr",
     "output_type": "stream",
     "text": [
      "\r",
      " 81%|████████  | 81/100 [00:49<00:10,  1.82it/s]"
     ]
    },
    {
     "name": "stdout",
     "output_type": "stream",
     "text": [
      "\n",
      "🔹 예측:  Der Nazi-widerstandskämpfachums kredkevājta būda.\n",
      "🔸 정답: Der Nazi-Widerstandskämpfer Hans Quecke war ihr Bruder.\n"
     ]
    },
    {
     "name": "stderr",
     "output_type": "stream",
     "text": [
      "\r",
      " 82%|████████▏ | 82/100 [00:50<00:09,  1.85it/s]"
     ]
    },
    {
     "name": "stdout",
     "output_type": "stream",
     "text": [
      "\n",
      "🔹 예측: Auch unbewegliche Bakterien sind in der Familie vertreten.\n",
      "🔸 정답: Auch unbewegliche Bakterien sind in der Familie vertreten.\n"
     ]
    },
    {
     "name": "stderr",
     "output_type": "stream",
     "text": [
      "\r",
      " 83%|████████▎ | 83/100 [00:50<00:09,  1.78it/s]"
     ]
    },
    {
     "name": "stdout",
     "output_type": "stream",
     "text": [
      "\n",
      "🔹 예측: Dies Weiterung gibt es stitwestisch der Stadt den Flughafen Los Mochis.\n",
      "🔸 정답: Des Weiteren gibt es südwestlich der Stadt den Flughafen Los Mochis.\n"
     ]
    },
    {
     "name": "stderr",
     "output_type": "stream",
     "text": [
      "\r",
      " 84%|████████▍ | 84/100 [00:51<00:09,  1.60it/s]"
     ]
    },
    {
     "name": "stdout",
     "output_type": "stream",
     "text": [
      "\n",
      "🔹 예측:  Kiesi lūdums visu tur nav vortākst, daise durkši un esmu vajadzēt.\n",
      "🔸 정답: Diese luden Smith zu einer Vortragsreise durch Deutschland und die Schweiz ein.\n"
     ]
    },
    {
     "name": "stderr",
     "output_type": "stream",
     "text": [
      "\r",
      " 85%|████████▌ | 85/100 [00:51<00:08,  1.74it/s]"
     ]
    },
    {
     "name": "stdout",
     "output_type": "stream",
     "text": [
      "\n",
      "🔹 예측: Es gibt drei spezielle Punkte, auf die ich eingehen möchte.\n",
      "🔸 정답: Es gibt drei spezielle Punkte, auf die ich eingehen möchte.\n"
     ]
    },
    {
     "name": "stderr",
     "output_type": "stream",
     "text": [
      "\r",
      " 86%|████████▌ | 86/100 [00:52<00:08,  1.69it/s]"
     ]
    },
    {
     "name": "stdout",
     "output_type": "stream",
     "text": [
      "\n",
      "🔹 예측: Zudem verkehren auch zahlreiche Regionalzüge auf kürzeren Distanzen.\n",
      "🔸 정답: Zudem verkehren auch zahlreiche Regionalzüge auf kürzeren Distanzen.\n"
     ]
    },
    {
     "name": "stderr",
     "output_type": "stream",
     "text": [
      "\r",
      " 87%|████████▋ | 87/100 [00:52<00:07,  1.84it/s]"
     ]
    },
    {
     "name": "stdout",
     "output_type": "stream",
     "text": [
      "\n",
      "🔹 예측: Der Stausee dient heute der Energiegewinnung.\n",
      "🔸 정답: Der Stausee dient heute der Energiegewinnung.\n"
     ]
    },
    {
     "name": "stderr",
     "output_type": "stream",
     "text": [
      "\r",
      " 88%|████████▊ | 88/100 [00:53<00:06,  1.84it/s]"
     ]
    },
    {
     "name": "stdout",
     "output_type": "stream",
     "text": [
      "\n",
      "🔹 예측: Wir haben gegen die Entschließung zur Politik der Union im Reissektor gestimmt.\n",
      "🔸 정답: Wir haben gegen die Entschließung zur Politik der Union im Reissektor gestimmt.\n"
     ]
    },
    {
     "name": "stderr",
     "output_type": "stream",
     "text": [
      "\r",
      " 89%|████████▉ | 89/100 [00:53<00:05,  1.95it/s]"
     ]
    },
    {
     "name": "stdout",
     "output_type": "stream",
     "text": [
      "\n",
      "🔹 예측:  Wer gegen wen warum kämpft, wird ihm nicht klar.\n",
      "🔸 정답: Wer gegen wen warum kämpft, wird ihm nicht klar.\n"
     ]
    },
    {
     "name": "stderr",
     "output_type": "stream",
     "text": [
      "\r",
      " 90%|█████████ | 90/100 [00:54<00:05,  1.84it/s]"
     ]
    },
    {
     "name": "stdout",
     "output_type": "stream",
     "text": [
      "\n",
      "🔹 예측:  Dennoch wandte sich Karpeles schon früh der Sozialdemokratie und der Arbeiterbewegung zu.\n",
      "🔸 정답: Dennoch wandte sich Karpeles schon früh der Sozialdemokratie und der Arbeiterbewegung zu.\n"
     ]
    },
    {
     "name": "stderr",
     "output_type": "stream",
     "text": [
      "\r",
      " 91%|█████████ | 91/100 [00:55<00:04,  1.81it/s]"
     ]
    },
    {
     "name": "stdout",
     "output_type": "stream",
     "text": [
      "\n",
      "🔹 예측: Das unzureichende Beherrschen des Lesens hat auch andere Schwächen zur Folge.\n",
      "🔸 정답: Das unzureichende Beherrschen des Lesens hat auch andere Schwächen zur Folge.\n"
     ]
    },
    {
     "name": "stderr",
     "output_type": "stream",
     "text": [
      "\r",
      " 92%|█████████▏| 92/100 [00:55<00:04,  1.83it/s]"
     ]
    },
    {
     "name": "stdout",
     "output_type": "stream",
     "text": [
      "\n",
      "🔹 예측:  Meines erachtens müssen wir europäische Versicherungssysteme einrichten.\n",
      "🔸 정답: Meines Erachtens müssen wir europäische Versicherungssysteme einrichten.\n"
     ]
    },
    {
     "name": "stderr",
     "output_type": "stream",
     "text": [
      "\r",
      " 93%|█████████▎| 93/100 [00:56<00:04,  1.75it/s]"
     ]
    },
    {
     "name": "stdout",
     "output_type": "stream",
     "text": [
      "\n",
      "🔹 예측: Am vergangenen Donnerstag, in der Konferenz der Präsidenten, wäre ja Gelegenheit dazu gewesen.\n",
      "🔸 정답: Am vergangenen Donnerstag, in der Konferenz der Präsidenten, wäre ja Gelegenheit dazu gewesen.\n"
     ]
    },
    {
     "name": "stderr",
     "output_type": "stream",
     "text": [
      "\r",
      " 94%|█████████▍| 94/100 [00:56<00:03,  1.72it/s]"
     ]
    },
    {
     "name": "stdout",
     "output_type": "stream",
     "text": [
      "\n",
      "🔹 예측: In the fifties' legislature period, zog sie über die Landesliste in den Landtag ein.\n",
      "🔸 정답: In der fünften Legislaturperiode zog sie über die Landesliste in den Landtag ein.\n"
     ]
    },
    {
     "name": "stderr",
     "output_type": "stream",
     "text": [
      "\r",
      " 95%|█████████▌| 95/100 [00:57<00:03,  1.62it/s]"
     ]
    },
    {
     "name": "stdout",
     "output_type": "stream",
     "text": [
      "\n",
      "🔹 예측:  Edward Fatu was a Angeholiger as a jazzy New-Wrestling-vertretner, an Oai family.\n",
      "🔸 정답: Edward Fatu war ein Angehöriger der seit Jahrzehnten im Wrestling vertretenen Anoa’i-Familie.\n"
     ]
    },
    {
     "name": "stderr",
     "output_type": "stream",
     "text": [
      "\r",
      " 96%|█████████▌| 96/100 [00:58<00:02,  1.53it/s]"
     ]
    },
    {
     "name": "stdout",
     "output_type": "stream",
     "text": [
      "\n",
      "🔹 예측:  Generation mit guter und breiter in-vitro-Aktivität gegen Schimmelpilze.\n",
      "🔸 정답: Generation mit guter und breiter in-vitro-Aktivität gegen Schimmelpilze.\n"
     ]
    },
    {
     "name": "stderr",
     "output_type": "stream",
     "text": [
      "\r",
      " 97%|█████████▋| 97/100 [00:59<00:02,  1.48it/s]"
     ]
    },
    {
     "name": "stdout",
     "output_type": "stream",
     "text": [
      "\n",
      "🔹 예측:  Dies ist meiner Meinung nach von großer Bedeutung und sollte unterstrichen werden.\n",
      "🔸 정답: Dies ist meiner Meinung nach von großer Bedeutung und sollte unterstrichen werden.\n"
     ]
    },
    {
     "name": "stderr",
     "output_type": "stream",
     "text": [
      "\r",
      " 98%|█████████▊| 98/100 [00:59<00:01,  1.62it/s]"
     ]
    },
    {
     "name": "stdout",
     "output_type": "stream",
     "text": [
      "\n",
      "🔹 예측: I must also be aware of what I said earlier.\n",
      "🔸 정답: Ich muss auf das verweisen, was ich gerade gesagt habe.\n"
     ]
    },
    {
     "name": "stderr",
     "output_type": "stream",
     "text": [
      "\r",
      " 99%|█████████▉| 99/100 [01:00<00:00,  1.59it/s]"
     ]
    },
    {
     "name": "stdout",
     "output_type": "stream",
     "text": [
      "\n",
      "🔹 예측:  Kiesišiši no cervalli van aukontol.\n",
      "🔸 정답: Schließlich noch zur Rolle von Europol.\n"
     ]
    },
    {
     "name": "stderr",
     "output_type": "stream",
     "text": [
      "100%|██████████| 100/100 [01:00<00:00,  1.64it/s]"
     ]
    },
    {
     "name": "stdout",
     "output_type": "stream",
     "text": [
      "\n",
      "🔹 예측:  Tiesat esmu, kur ir aukcibas ar hārstājums.\n",
      "🔸 정답: Dies hat Auswirkungen auf den Wasserhaushalt.\n"
     ]
    },
    {
     "name": "stderr",
     "output_type": "stream",
     "text": [
      "\n"
     ]
    },
    {
     "name": "stdout",
     "output_type": "stream",
     "text": [
      "\n",
      "✅ DE WER: 0.3411\n"
     ]
    }
   ],
   "source": [
    "import torch\n",
    "from jiwer import wer\n",
    "from tqdm import tqdm\n",
    "\n",
    "# 언어 태그별로 필터링 함수 정의\n",
    "def filter_by_lang(dataset, lang_code):\n",
    "    return [x for x in dataset if x[\"locale\"] == lang_code]\n",
    "\n",
    "# 평가 대상 언어 리스트\n",
    "lang_list = [\"ko\", \"en\", \"ja\", \"de\"]\n",
    "\n",
    "# 전체 결과 저장\n",
    "lang_wer_results = {}\n",
    "\n",
    "# 각 언어별 평가\n",
    "for lang in lang_list:\n",
    "    print(f\"\\n🌍 언어: {lang}\")\n",
    "    lang_data = filter_by_lang(dataset, lang)\n",
    "\n",
    "    predictions = []\n",
    "    references = []\n",
    "\n",
    "    for sample in tqdm(lang_data):\n",
    "        input_features = processor.feature_extractor(\n",
    "            sample[\"audio\"][\"array\"], sampling_rate=16000, return_tensors=\"pt\"\n",
    "        ).input_features.to(model.device)\n",
    "\n",
    "        with torch.no_grad():\n",
    "            predicted_ids = model.generate(input_features)\n",
    "\n",
    "        transcription = processor.tokenizer.batch_decode(predicted_ids, skip_special_tokens=True)[0]\n",
    "\n",
    "        predictions.append(transcription)\n",
    "        references.append(sample[\"sentence\"])\n",
    "\n",
    "        # 예측 vs 정답 출력\n",
    "        print(f\"\\n🔹 예측: {transcription}\")\n",
    "        print(f\"🔸 정답: {sample['sentence']}\")\n",
    "\n",
    "        torch.cuda.empty_cache()\n",
    "\n",
    "    # WER 계산 및 출력\n",
    "    score = wer(references, predictions)\n",
    "    lang_wer_results[lang] = score\n",
    "    print(f\"\\n✅ {lang.upper()} WER: {score:.4f}\")\n"
   ]
  },
  {
   "cell_type": "markdown",
   "metadata": {
    "id": "XuXHGUq5zvuJ"
   },
   "source": [
    "### __7.Result__"
   ]
  },
  {
   "cell_type": "code",
   "execution_count": 12,
   "metadata": {},
   "outputs": [
    {
     "name": "stdout",
     "output_type": "stream",
     "text": [
      "\n",
      "📊 언어별 WER 비교 결과:\n",
      "🔹 KO  WER: 0.1191\n",
      "🔹 EN  WER: 0.1973\n",
      "🔹 DE  WER: 0.3411\n",
      "🔹 JA  WER: 0.6700\n"
     ]
    }
   ],
   "source": [
    "# 언어별 WER 출력 정리 (정렬 포함)\n",
    "print(\"\\n📊 언어별 WER 비교 결과:\")\n",
    "for lang, score in sorted(lang_wer_results.items(), key=lambda x: x[1]):\n",
    "    print(f\"🔹 {lang.upper():<3} WER: {score:.4f}\")"
   ]
  },
  {
   "cell_type": "code",
   "execution_count": 17,
   "metadata": {},
   "outputs": [
    {
     "name": "stderr",
     "output_type": "stream",
     "text": [
      "WARNING:matplotlib.font_manager:findfont: Font family 'NanumGothic' not found.\n",
      "WARNING:matplotlib.font_manager:findfont: Font family 'NanumGothic' not found.\n",
      "WARNING:matplotlib.font_manager:findfont: Font family 'NanumGothic' not found.\n",
      "WARNING:matplotlib.font_manager:findfont: Font family 'NanumGothic' not found.\n",
      "WARNING:matplotlib.font_manager:findfont: Font family 'NanumGothic' not found.\n",
      "WARNING:matplotlib.font_manager:findfont: Font family 'NanumGothic' not found.\n",
      "WARNING:matplotlib.font_manager:findfont: Font family 'NanumGothic' not found.\n",
      "WARNING:matplotlib.font_manager:findfont: Font family 'NanumGothic' not found.\n",
      "WARNING:matplotlib.font_manager:findfont: Font family 'NanumGothic' not found.\n",
      "WARNING:matplotlib.font_manager:findfont: Font family 'NanumGothic' not found.\n",
      "WARNING:matplotlib.font_manager:findfont: Font family 'NanumGothic' not found.\n",
      "WARNING:matplotlib.font_manager:findfont: Font family 'NanumGothic' not found.\n",
      "WARNING:matplotlib.font_manager:findfont: Font family 'NanumGothic' not found.\n",
      "WARNING:matplotlib.font_manager:findfont: Font family 'NanumGothic' not found.\n",
      "WARNING:matplotlib.font_manager:findfont: Font family 'NanumGothic' not found.\n",
      "WARNING:matplotlib.font_manager:findfont: Font family 'NanumGothic' not found.\n",
      "WARNING:matplotlib.font_manager:findfont: Font family 'NanumGothic' not found.\n",
      "WARNING:matplotlib.font_manager:findfont: Font family 'NanumGothic' not found.\n",
      "WARNING:matplotlib.font_manager:findfont: Font family 'NanumGothic' not found.\n",
      "WARNING:matplotlib.font_manager:findfont: Font family 'NanumGothic' not found.\n",
      "WARNING:matplotlib.font_manager:findfont: Font family 'NanumGothic' not found.\n",
      "WARNING:matplotlib.font_manager:findfont: Font family 'NanumGothic' not found.\n",
      "WARNING:matplotlib.font_manager:findfont: Font family 'NanumGothic' not found.\n",
      "WARNING:matplotlib.font_manager:findfont: Font family 'NanumGothic' not found.\n",
      "WARNING:matplotlib.font_manager:findfont: Font family 'NanumGothic' not found.\n",
      "WARNING:matplotlib.font_manager:findfont: Font family 'NanumGothic' not found.\n",
      "WARNING:matplotlib.font_manager:findfont: Font family 'NanumGothic' not found.\n",
      "WARNING:matplotlib.font_manager:findfont: Font family 'NanumGothic' not found.\n",
      "WARNING:matplotlib.font_manager:findfont: Font family 'NanumGothic' not found.\n",
      "WARNING:matplotlib.font_manager:findfont: Font family 'NanumGothic' not found.\n",
      "WARNING:matplotlib.font_manager:findfont: Font family 'NanumGothic' not found.\n",
      "WARNING:matplotlib.font_manager:findfont: Font family 'NanumGothic' not found.\n",
      "WARNING:matplotlib.font_manager:findfont: Font family 'NanumGothic' not found.\n",
      "WARNING:matplotlib.font_manager:findfont: Font family 'NanumGothic' not found.\n",
      "WARNING:matplotlib.font_manager:findfont: Font family 'NanumGothic' not found.\n",
      "WARNING:matplotlib.font_manager:findfont: Font family 'NanumGothic' not found.\n",
      "WARNING:matplotlib.font_manager:findfont: Font family 'NanumGothic' not found.\n",
      "WARNING:matplotlib.font_manager:findfont: Font family 'NanumGothic' not found.\n",
      "WARNING:matplotlib.font_manager:findfont: Font family 'NanumGothic' not found.\n",
      "WARNING:matplotlib.font_manager:findfont: Font family 'NanumGothic' not found.\n",
      "WARNING:matplotlib.font_manager:findfont: Font family 'NanumGothic' not found.\n",
      "WARNING:matplotlib.font_manager:findfont: Font family 'NanumGothic' not found.\n",
      "WARNING:matplotlib.font_manager:findfont: Font family 'NanumGothic' not found.\n",
      "WARNING:matplotlib.font_manager:findfont: Font family 'NanumGothic' not found.\n",
      "WARNING:matplotlib.font_manager:findfont: Font family 'NanumGothic' not found.\n",
      "WARNING:matplotlib.font_manager:findfont: Font family 'NanumGothic' not found.\n",
      "WARNING:matplotlib.font_manager:findfont: Font family 'NanumGothic' not found.\n",
      "WARNING:matplotlib.font_manager:findfont: Font family 'NanumGothic' not found.\n",
      "WARNING:matplotlib.font_manager:findfont: Font family 'NanumGothic' not found.\n",
      "WARNING:matplotlib.font_manager:findfont: Font family 'NanumGothic' not found.\n",
      "WARNING:matplotlib.font_manager:findfont: Font family 'NanumGothic' not found.\n",
      "WARNING:matplotlib.font_manager:findfont: Font family 'NanumGothic' not found.\n",
      "WARNING:matplotlib.font_manager:findfont: Font family 'NanumGothic' not found.\n",
      "WARNING:matplotlib.font_manager:findfont: Font family 'NanumGothic' not found.\n",
      "WARNING:matplotlib.font_manager:findfont: Font family 'NanumGothic' not found.\n",
      "WARNING:matplotlib.font_manager:findfont: Font family 'NanumGothic' not found.\n",
      "WARNING:matplotlib.font_manager:findfont: Font family 'NanumGothic' not found.\n",
      "WARNING:matplotlib.font_manager:findfont: Font family 'NanumGothic' not found.\n",
      "WARNING:matplotlib.font_manager:findfont: Font family 'NanumGothic' not found.\n",
      "WARNING:matplotlib.font_manager:findfont: Font family 'NanumGothic' not found.\n",
      "WARNING:matplotlib.font_manager:findfont: Font family 'NanumGothic' not found.\n",
      "WARNING:matplotlib.font_manager:findfont: Font family 'NanumGothic' not found.\n",
      "WARNING:matplotlib.font_manager:findfont: Font family 'NanumGothic' not found.\n",
      "WARNING:matplotlib.font_manager:findfont: Font family 'NanumGothic' not found.\n",
      "WARNING:matplotlib.font_manager:findfont: Font family 'NanumGothic' not found.\n",
      "WARNING:matplotlib.font_manager:findfont: Font family 'NanumGothic' not found.\n",
      "WARNING:matplotlib.font_manager:findfont: Font family 'NanumGothic' not found.\n",
      "WARNING:matplotlib.font_manager:findfont: Font family 'NanumGothic' not found.\n",
      "WARNING:matplotlib.font_manager:findfont: Font family 'NanumGothic' not found.\n",
      "WARNING:matplotlib.font_manager:findfont: Font family 'NanumGothic' not found.\n",
      "WARNING:matplotlib.font_manager:findfont: Font family 'NanumGothic' not found.\n",
      "WARNING:matplotlib.font_manager:findfont: Font family 'NanumGothic' not found.\n",
      "WARNING:matplotlib.font_manager:findfont: Font family 'NanumGothic' not found.\n",
      "WARNING:matplotlib.font_manager:findfont: Font family 'NanumGothic' not found.\n",
      "WARNING:matplotlib.font_manager:findfont: Font family 'NanumGothic' not found.\n",
      "WARNING:matplotlib.font_manager:findfont: Font family 'NanumGothic' not found.\n",
      "WARNING:matplotlib.font_manager:findfont: Font family 'NanumGothic' not found.\n",
      "WARNING:matplotlib.font_manager:findfont: Font family 'NanumGothic' not found.\n",
      "WARNING:matplotlib.font_manager:findfont: Font family 'NanumGothic' not found.\n",
      "WARNING:matplotlib.font_manager:findfont: Font family 'NanumGothic' not found.\n",
      "WARNING:matplotlib.font_manager:findfont: Font family 'NanumGothic' not found.\n",
      "WARNING:matplotlib.font_manager:findfont: Font family 'NanumGothic' not found.\n",
      "WARNING:matplotlib.font_manager:findfont: Font family 'NanumGothic' not found.\n",
      "WARNING:matplotlib.font_manager:findfont: Font family 'NanumGothic' not found.\n",
      "WARNING:matplotlib.font_manager:findfont: Font family 'NanumGothic' not found.\n",
      "WARNING:matplotlib.font_manager:findfont: Font family 'NanumGothic' not found.\n",
      "WARNING:matplotlib.font_manager:findfont: Font family 'NanumGothic' not found.\n",
      "WARNING:matplotlib.font_manager:findfont: Font family 'NanumGothic' not found.\n",
      "WARNING:matplotlib.font_manager:findfont: Font family 'NanumGothic' not found.\n",
      "WARNING:matplotlib.font_manager:findfont: Font family 'NanumGothic' not found.\n",
      "WARNING:matplotlib.font_manager:findfont: Font family 'NanumGothic' not found.\n",
      "WARNING:matplotlib.font_manager:findfont: Font family 'NanumGothic' not found.\n",
      "WARNING:matplotlib.font_manager:findfont: Font family 'NanumGothic' not found.\n",
      "WARNING:matplotlib.font_manager:findfont: Font family 'NanumGothic' not found.\n",
      "WARNING:matplotlib.font_manager:findfont: Font family 'NanumGothic' not found.\n",
      "WARNING:matplotlib.font_manager:findfont: Font family 'NanumGothic' not found.\n",
      "WARNING:matplotlib.font_manager:findfont: Font family 'NanumGothic' not found.\n",
      "WARNING:matplotlib.font_manager:findfont: Font family 'NanumGothic' not found.\n",
      "WARNING:matplotlib.font_manager:findfont: Font family 'NanumGothic' not found.\n"
     ]
    },
    {
     "data": {
      "image/png": "[encoded data removed]",
      "text/plain": [
       "<Figure size 800x500 with 1 Axes>"
      ]
     },
     "metadata": {},
     "output_type": "display_data"
    }
   ],
   "source": [
    "import matplotlib.pyplot as plt\n",
    "\n",
    "# 최신 WER 결과 직접 할당\n",
    "lang_wer_results = {\n",
    "    'ko': 0.1191,\n",
    "    'en': 0.1973,\n",
    "    'de': 0.3411,\n",
    "    'ja': 0.6700\n",
    "}\n",
    "\n",
    "# 시각화\n",
    "langs = list(lang_wer_results.keys())\n",
    "scores = [lang_wer_results[lang] for lang in langs]\n",
    "\n",
    "plt.figure(figsize=(8, 5))\n",
    "bars = plt.bar(langs, scores)\n",
    "plt.title(\"WER Comparison by Language\")\n",
    "plt.xlabel(\"Language\")\n",
    "plt.ylabel(\"WER (lower is better)\")\n",
    "\n",
    "for bar in bars:\n",
    "    yval = bar.get_height()\n",
    "    plt.text(bar.get_x() + bar.get_width()/2.0, yval + 0.01, f\"{yval:.3f}\", ha='center', va='bottom')\n",
    "\n",
    "plt.tight_layout()\n",
    "plt.savefig(\"wer_comparison_chart_final.png\")\n",
    "plt.show()"
   ]
  },
  {
   "cell_type": "code",
   "execution_count": null,
   "metadata": {},
   "outputs": [],
   "source": []
  }
 ],
 "metadata": {
  "language_info": {
   "name": "python"
  }
 },
 "nbformat": 4,
 "nbformat_minor": 0
}
