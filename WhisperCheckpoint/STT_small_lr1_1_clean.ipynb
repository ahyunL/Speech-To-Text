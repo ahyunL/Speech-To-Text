{
 "cells": [
  {
   "cell_type": "code",
   "execution_count": 1,
   "metadata": {},
   "outputs": [
    {
     "name": "stdout",
     "output_type": "stream",
     "text": [
      "\u001b[?25l   \u001b[90m━━━━━━━━━━━━━━━━━━━━━━━━━━━━━━━━━━━━━━━━\u001b[0m \u001b[32m0.0/491.5 kB\u001b[0m \u001b[31m?\u001b[0m eta \u001b[36m-:--:--\u001b[0m\r",
      "\u001b[2K   \u001b[90m━━━━━━━━━━━━━━━━━━━━━━━━━━━━━━━━━━━━━━━━\u001b[0m \u001b[32m491.5/491.5 kB\u001b[0m \u001b[31m29.2 MB/s\u001b[0m eta \u001b[36m0:00:00\u001b[0m\n",
      "\u001b[?25h\u001b[?25l   \u001b[90m━━━━━━━━━━━━━━━━━━━━━━━━━━━━━━━━━━━━━━━━\u001b[0m \u001b[32m0.0/116.3 kB\u001b[0m \u001b[31m?\u001b[0m eta \u001b[36m-:--:--\u001b[0m\r",
      "\u001b[2K   \u001b[90m━━━━━━━━━━━━━━━━━━━━━━━━━━━━━━━━━━━━━━━━\u001b[0m \u001b[32m116.3/116.3 kB\u001b[0m \u001b[31m8.7 MB/s\u001b[0m eta \u001b[36m0:00:00\u001b[0m\n",
      "\u001b[?25h\u001b[?25l   \u001b[90m━━━━━━━━━━━━━━━━━━━━━━━━━━━━━━━━━━━━━━━━\u001b[0m \u001b[32m0.0/193.6 kB\u001b[0m \u001b[31m?\u001b[0m eta \u001b[36m-:--:--\u001b[0m\r",
      "\u001b[2K   \u001b[90m━━━━━━━━━━━━━━━━━━━━━━━━━━━━━━━━━━━━━━━━\u001b[0m \u001b[32m193.6/193.6 kB\u001b[0m \u001b[31m15.0 MB/s\u001b[0m eta \u001b[36m0:00:00\u001b[0m\n",
      "\u001b[?25h\u001b[?25l   \u001b[90m━━━━━━━━━━━━━━━━━━━━━━━━━━━━━━━━━━━━━━━━\u001b[0m \u001b[32m0.0/143.5 kB\u001b[0m \u001b[31m?\u001b[0m eta \u001b[36m-:--:--\u001b[0m\r",
      "\u001b[2K   \u001b[90m━━━━━━━━━━━━━━━━━━━━━━━━━━━━━━━━━━━━━━━━\u001b[0m \u001b[32m143.5/143.5 kB\u001b[0m \u001b[31m12.3 MB/s\u001b[0m eta \u001b[36m0:00:00\u001b[0m\n",
      "\u001b[2K   \u001b[90m━━━━━━━━━━━━━━━━━━━━━━━━━━━━━━━━━━━━━━━━\u001b[0m \u001b[32m3.1/3.1 MB\u001b[0m \u001b[31m95.4 MB/s\u001b[0m eta \u001b[36m0:00:00\u001b[0m\n",
      "\u001b[2K   \u001b[90m━━━━━━━━━━━━━━━━━━━━━━━━━━━━━━━━━━━━━━━━\u001b[0m \u001b[32m363.4/363.4 MB\u001b[0m \u001b[31m3.1 MB/s\u001b[0m eta \u001b[36m0:00:00\u001b[0m\n",
      "\u001b[2K   \u001b[90m━━━━━━━━━━━━━━━━━━━━━━━━━━━━━━━━━━━━━━━━\u001b[0m \u001b[32m13.8/13.8 MB\u001b[0m \u001b[31m101.1 MB/s\u001b[0m eta \u001b[36m0:00:00\u001b[0m\n",
      "\u001b[2K   \u001b[90m━━━━━━━━━━━━━━━━━━━━━━━━━━━━━━━━━━━━━━━━\u001b[0m \u001b[32m24.6/24.6 MB\u001b[0m \u001b[31m90.2 MB/s\u001b[0m eta \u001b[36m0:00:00\u001b[0m\n",
      "\u001b[2K   \u001b[90m━━━━━━━━━━━━━━━━━━━━━━━━━━━━━━━━━━━━━━━━\u001b[0m \u001b[32m883.7/883.7 kB\u001b[0m \u001b[31m47.2 MB/s\u001b[0m eta \u001b[36m0:00:00\u001b[0m\n",
      "\u001b[2K   \u001b[90m━━━━━━━━━━━━━━━━━━━━━━━━━━━━━━━━━━━━━━━━\u001b[0m \u001b[32m664.8/664.8 MB\u001b[0m \u001b[31m2.1 MB/s\u001b[0m eta \u001b[36m0:00:00\u001b[0m\n",
      "\u001b[2K   \u001b[90m━━━━━━━━━━━━━━━━━━━━━━━━━━━━━━━━━━━━━━━━\u001b[0m \u001b[32m211.5/211.5 MB\u001b[0m \u001b[31m5.1 MB/s\u001b[0m eta \u001b[36m0:00:00\u001b[0m\n",
      "\u001b[2K   \u001b[90m━━━━━━━━━━━━━━━━━━━━━━━━━━━━━━━━━━━━━━━━\u001b[0m \u001b[32m56.3/56.3 MB\u001b[0m \u001b[31m33.1 MB/s\u001b[0m eta \u001b[36m0:00:00\u001b[0m\n",
      "\u001b[2K   \u001b[90m━━━━━━━━━━━━━━━━━━━━━━━━━━━━━━━━━━━━━━━━\u001b[0m \u001b[32m127.9/127.9 MB\u001b[0m \u001b[31m20.0 MB/s\u001b[0m eta \u001b[36m0:00:00\u001b[0m\n",
      "\u001b[2K   \u001b[90m━━━━━━━━━━━━━━━━━━━━━━━━━━━━━━━━━━━━━━━━\u001b[0m \u001b[32m207.5/207.5 MB\u001b[0m \u001b[31m5.0 MB/s\u001b[0m eta \u001b[36m0:00:00\u001b[0m\n",
      "\u001b[2K   \u001b[90m━━━━━━━━━━━━━━━━━━━━━━━━━━━━━━━━━━━━━━━━\u001b[0m \u001b[32m21.1/21.1 MB\u001b[0m \u001b[31m102.8 MB/s\u001b[0m eta \u001b[36m0:00:00\u001b[0m\n",
      "\u001b[2K   \u001b[90m━━━━━━━━━━━━━━━━━━━━━━━━━━━━━━━━━━━━━━━━\u001b[0m \u001b[32m194.8/194.8 kB\u001b[0m \u001b[31m16.4 MB/s\u001b[0m eta \u001b[36m0:00:00\u001b[0m\n",
      "\u001b[?25h\u001b[31mERROR: pip's dependency resolver does not currently take into account all the packages that are installed. This behaviour is the source of the following dependency conflicts.\n",
      "gcsfs 2025.3.2 requires fsspec==2025.3.2, but you have fsspec 2025.3.0 which is incompatible.\u001b[0m\u001b[31m\n",
      "\u001b[0mMounted at /content/drive\n"
     ]
    },
    {
     "data": {
      "application/vnd.jupyter.widget-view+json": {
       "model_id": "c34ae50033f74044892f2cf952d041e1",
       "version_major": 2,
       "version_minor": 0
      },
      "text/plain": [
       "VBox(children=(HTML(value='<center> <img\\nsrc=https://huggingface.co/front/assets/huggingface_logo-noborder.sv…"
      ]
     },
     "metadata": {},
     "output_type": "display_data"
    }
   ],
   "source": [
    "!pip install -q datasets transformers librosa jiwer accelerate\n",
    "\n",
    "from google.colab import drive\n",
    "from huggingface_hub import notebook_login\n",
    "\n",
    "drive.mount(\"/content/drive\")\n",
    "notebook_login()"
   ]
  },
  {
   "cell_type": "code",
   "execution_count": 2,
   "metadata": {},
   "outputs": [
    {
     "name": "stderr",
     "output_type": "stream",
     "text": [
      "/usr/local/lib/python3.11/dist-packages/huggingface_hub/utils/_auth.py:94: UserWarning: \n",
      "The secret `HF_TOKEN` does not exist in your Colab secrets.\n",
      "To authenticate with the Hugging Face Hub, create a token in your settings tab (https://huggingface.co/settings/tokens), set it as secret in your Google Colab and restart your session.\n",
      "You will be able to reuse this secret in all of your notebooks.\n",
      "Please note that authentication is recommended but still optional to access public models or datasets.\n",
      "  warnings.warn(\n"
     ]
    },
    {
     "data": {
      "application/vnd.jupyter.widget-view+json": {
       "model_id": "9c14630b58d64fdbbd763db578d48217",
       "version_major": 2,
       "version_minor": 0
      },
      "text/plain": [
       "README.md:   0%|          | 0.00/14.7k [00:00<?, ?B/s]"
      ]
     },
     "metadata": {},
     "output_type": "display_data"
    },
    {
     "data": {
      "application/vnd.jupyter.widget-view+json": {
       "model_id": "5a46d4b3463742f2833640684edfd311",
       "version_major": 2,
       "version_minor": 0
      },
      "text/plain": [
       "common_voice_13_0.py:   0%|          | 0.00/8.18k [00:00<?, ?B/s]"
      ]
     },
     "metadata": {},
     "output_type": "display_data"
    },
    {
     "data": {
      "application/vnd.jupyter.widget-view+json": {
       "model_id": "9a0a441d460040efbf38280bb2212c13",
       "version_major": 2,
       "version_minor": 0
      },
      "text/plain": [
       "languages.py:   0%|          | 0.00/3.65k [00:00<?, ?B/s]"
      ]
     },
     "metadata": {},
     "output_type": "display_data"
    },
    {
     "data": {
      "application/vnd.jupyter.widget-view+json": {
       "model_id": "4762551da9084a5faa27ce49a8008abf",
       "version_major": 2,
       "version_minor": 0
      },
      "text/plain": [
       "release_stats.py:   0%|          | 0.00/65.4k [00:00<?, ?B/s]"
      ]
     },
     "metadata": {},
     "output_type": "display_data"
    },
    {
     "name": "stdout",
     "output_type": "stream",
     "text": [
      "The repository for mozilla-foundation/common_voice_13_0 contains custom code which must be executed to correctly load the dataset. You can inspect the repository content at https://hf.co/datasets/mozilla-foundation/common_voice_13_0.\n",
      "You can avoid this prompt in future by passing the argument `trust_remote_code=True`.\n",
      "\n",
      "Do you wish to run the custom code? [y/N] y\n"
     ]
    },
    {
     "name": "stderr",
     "output_type": "stream",
     "text": [
      "Reading metadata...: 192it [00:00, 718.81it/s]\n",
      "Reading metadata...: 1013968it [00:23, 43021.56it/s]\n",
      "Reading metadata...: 7071it [00:00, 22535.58it/s]\n",
      "Reading metadata...: 540437it [00:11, 45623.69it/s]\n",
      "Reading metadata...: 105it [00:00, 419.54it/s]\n",
      "Reading metadata...: 16372it [00:00, 44109.45it/s]\n",
      "Reading metadata...: 4961it [00:00, 16935.86it/s]\n",
      "Reading metadata...: 16143it [00:00, 42033.00it/s]\n",
      "Reading metadata...: 131it [00:00, 431.36it/s]\n",
      "Reading metadata...: 16372it [00:00, 29212.65it/s]\n",
      "Reading metadata...: 4961it [00:00, 16072.60it/s]\n",
      "Reading metadata...: 16143it [00:00, 43139.06it/s]\n"
     ]
    }
   ],
   "source": [
    "from datasets import load_dataset, Dataset\n",
    "from itertools import islice\n",
    "\n",
    "# 학습용 (train split)\n",
    "ko_train = list(islice(load_dataset(\"mozilla-foundation/common_voice_13_0\", \"ko\", split=\"train\", streaming=True), 100))\n",
    "en_train = list(islice(load_dataset(\"mozilla-foundation/common_voice_13_0\", \"en\", split=\"train\", streaming=True), 100))\n",
    "ja_train = list(islice(load_dataset(\"mozilla-foundation/common_voice_13_0\", \"ja\", split=\"train\", streaming=True), 100))\n",
    "de_train = list(islice(load_dataset(\"mozilla-foundation/common_voice_13_0\", \"de\", split=\"train\", streaming=True), 100))\n",
    "\n",
    "train_dataset = Dataset.from_list(ko_train + en_train + ja_train + de_train)\n",
    "\n",
    "# 검증용 (validation split - streaming 적용, 개수 제한)\n",
    "ko_val = list(islice(load_dataset(\"mozilla-foundation/common_voice_13_0\", \"ko\", split=\"validation\", streaming=True), 100))\n",
    "en_val = list(islice(load_dataset(\"mozilla-foundation/common_voice_13_0\", \"en\", split=\"validation\", streaming=True), 100))\n",
    "ja_val = list(islice(load_dataset(\"mozilla-foundation/common_voice_13_0\", \"ja\", split=\"validation\", streaming=True), 100))\n",
    "de_val = list(islice(load_dataset(\"mozilla-foundation/common_voice_13_0\", \"de\", split=\"validation\", streaming=True), 100))\n",
    "\n",
    "val_dataset = Dataset.from_list(ko_val + en_val + ja_val + de_val)\n",
    "\n",
    "# 테스트용 (test split - streaming 적용, 개수 제한)\n",
    "from itertools import islice\n",
    "\n",
    "ko_test = list(islice(load_dataset(\"mozilla-foundation/common_voice_13_0\", \"ko\", split=\"test\", streaming=True), 100))\n",
    "en_test = list(islice(load_dataset(\"mozilla-foundation/common_voice_13_0\", \"en\", split=\"test\", streaming=True), 100))\n",
    "ja_test = list(islice(load_dataset(\"mozilla-foundation/common_voice_13_0\", \"ja\", split=\"test\", streaming=True), 100))\n",
    "de_test = list(islice(load_dataset(\"mozilla-foundation/common_voice_13_0\", \"de\", split=\"test\", streaming=True), 100))\n",
    "\n",
    "test_dataset = Dataset.from_list(ko_test + en_test + ja_test + de_test)"
   ]
  },
  {
   "cell_type": "code",
   "execution_count": 3,
   "metadata": {},
   "outputs": [
    {
     "data": {
      "application/vnd.jupyter.widget-view+json": {
       "model_id": "808c3f874cf54fbdb047858b811d5fbd",
       "version_major": 2,
       "version_minor": 0
      },
      "text/plain": [
       "preprocessor_config.json:   0%|          | 0.00/185k [00:00<?, ?B/s]"
      ]
     },
     "metadata": {},
     "output_type": "display_data"
    },
    {
     "data": {
      "application/vnd.jupyter.widget-view+json": {
       "model_id": "52827c5042784023bb07359195506559",
       "version_major": 2,
       "version_minor": 0
      },
      "text/plain": [
       "tokenizer_config.json:   0%|          | 0.00/283k [00:00<?, ?B/s]"
      ]
     },
     "metadata": {},
     "output_type": "display_data"
    },
    {
     "data": {
      "application/vnd.jupyter.widget-view+json": {
       "model_id": "77864c87fee14c4da3ebe6971fca036a",
       "version_major": 2,
       "version_minor": 0
      },
      "text/plain": [
       "vocab.json:   0%|          | 0.00/836k [00:00<?, ?B/s]"
      ]
     },
     "metadata": {},
     "output_type": "display_data"
    },
    {
     "data": {
      "application/vnd.jupyter.widget-view+json": {
       "model_id": "6faf4d9980d34a589df557fa404701da",
       "version_major": 2,
       "version_minor": 0
      },
      "text/plain": [
       "tokenizer.json:   0%|          | 0.00/2.48M [00:00<?, ?B/s]"
      ]
     },
     "metadata": {},
     "output_type": "display_data"
    },
    {
     "data": {
      "application/vnd.jupyter.widget-view+json": {
       "model_id": "c4f8621c389947478207b1fe32033c36",
       "version_major": 2,
       "version_minor": 0
      },
      "text/plain": [
       "merges.txt:   0%|          | 0.00/494k [00:00<?, ?B/s]"
      ]
     },
     "metadata": {},
     "output_type": "display_data"
    },
    {
     "data": {
      "application/vnd.jupyter.widget-view+json": {
       "model_id": "7dbe3875b14a435997cdea50370db57d",
       "version_major": 2,
       "version_minor": 0
      },
      "text/plain": [
       "normalizer.json:   0%|          | 0.00/52.7k [00:00<?, ?B/s]"
      ]
     },
     "metadata": {},
     "output_type": "display_data"
    },
    {
     "data": {
      "application/vnd.jupyter.widget-view+json": {
       "model_id": "252d966abc1446c9990f9c8f24305ab0",
       "version_major": 2,
       "version_minor": 0
      },
      "text/plain": [
       "added_tokens.json:   0%|          | 0.00/34.6k [00:00<?, ?B/s]"
      ]
     },
     "metadata": {},
     "output_type": "display_data"
    },
    {
     "data": {
      "application/vnd.jupyter.widget-view+json": {
       "model_id": "adfa73eb4dea4b65ad77d16ec3a8579e",
       "version_major": 2,
       "version_minor": 0
      },
      "text/plain": [
       "special_tokens_map.json:   0%|          | 0.00/2.19k [00:00<?, ?B/s]"
      ]
     },
     "metadata": {},
     "output_type": "display_data"
    },
    {
     "data": {
      "application/vnd.jupyter.widget-view+json": {
       "model_id": "5e6b567c8a8a4259abbb479ba76d4013",
       "version_major": 2,
       "version_minor": 0
      },
      "text/plain": [
       "config.json:   0%|          | 0.00/1.97k [00:00<?, ?B/s]"
      ]
     },
     "metadata": {},
     "output_type": "display_data"
    },
    {
     "data": {
      "application/vnd.jupyter.widget-view+json": {
       "model_id": "c6c1a0c49868419d84fccfc2fecb8fac",
       "version_major": 2,
       "version_minor": 0
      },
      "text/plain": [
       "model.safetensors:   0%|          | 0.00/967M [00:00<?, ?B/s]"
      ]
     },
     "metadata": {},
     "output_type": "display_data"
    },
    {
     "data": {
      "application/vnd.jupyter.widget-view+json": {
       "model_id": "de5cc990e9c54137969c30bd092fc40e",
       "version_major": 2,
       "version_minor": 0
      },
      "text/plain": [
       "generation_config.json:   0%|          | 0.00/3.87k [00:00<?, ?B/s]"
      ]
     },
     "metadata": {},
     "output_type": "display_data"
    }
   ],
   "source": [
    "from transformers import WhisperProcessor, WhisperForConditionalGeneration\n",
    "\n",
    "checkpoint = \"openai/whisper-small\"\n",
    "processor = WhisperProcessor.from_pretrained(checkpoint)\n",
    "model = WhisperForConditionalGeneration.from_pretrained(checkpoint)\n",
    "model.config.forced_decoder_ids = None\n",
    "model.config.suppress_tokens = []"
   ]
  },
  {
   "cell_type": "code",
   "execution_count": 4,
   "metadata": {},
   "outputs": [
    {
     "data": {
      "application/vnd.jupyter.widget-view+json": {
       "model_id": "cfb74b56bdca4147a0abdcd3965b9afe",
       "version_major": 2,
       "version_minor": 0
      },
      "text/plain": [
       "Map:   0%|          | 0/400 [00:00<?, ? examples/s]"
      ]
     },
     "metadata": {},
     "output_type": "display_data"
    },
    {
     "data": {
      "application/vnd.jupyter.widget-view+json": {
       "model_id": "b9d45b25b7534fb2925fe426257a5334",
       "version_major": 2,
       "version_minor": 0
      },
      "text/plain": [
       "Map:   0%|          | 0/400 [00:00<?, ? examples/s]"
      ]
     },
     "metadata": {},
     "output_type": "display_data"
    },
    {
     "data": {
      "application/vnd.jupyter.widget-view+json": {
       "model_id": "1e5cd14579b94f918ad15c6e1f62c0f0",
       "version_major": 2,
       "version_minor": 0
      },
      "text/plain": [
       "Map:   0%|          | 0/400 [00:00<?, ? examples/s]"
      ]
     },
     "metadata": {},
     "output_type": "display_data"
    }
   ],
   "source": [
    "def prepare_dataset(example):\n",
    "    audio = example[\"audio\"]\n",
    "    example[\"input_features\"] = processor.feature_extractor(audio[\"array\"], sampling_rate=16000).input_features[0]\n",
    "    example[\"labels\"] = processor.tokenizer(example[\"sentence\"]).input_ids\n",
    "    return example\n",
    "\n",
    "processed_dataset_train = train_dataset.map(prepare_dataset, remove_columns=train_dataset.column_names)\n",
    "processed_dataset_val = val_dataset.map(prepare_dataset, remove_columns=val_dataset.column_names)\n",
    "processed_dataset_test = test_dataset.map(prepare_dataset, remove_columns=test_dataset.column_names)\n"
   ]
  },
  {
   "cell_type": "code",
   "execution_count": 5,
   "metadata": {},
   "outputs": [],
   "source": [
    "from dataclasses import dataclass\n",
    "from typing import Any, Dict, List, Union\n",
    "import torch\n",
    "\n",
    "@dataclass\n",
    "class DataCollatorSpeechSeq2SeqWithPadding:\n",
    "    processor: Any\n",
    "    padding: Union[bool, str] = True\n",
    "\n",
    "    def __call__(self, features: List[Dict[str, Union[List[int], torch.Tensor]]]) -> Dict[str, torch.Tensor]:\n",
    "        input_features = [{\"input_features\": f[\"input_features\"]} for f in features]\n",
    "        label_features = [{\"input_ids\": f[\"labels\"]} for f in features]\n",
    "        batch = self.processor.feature_extractor.pad(input_features, return_tensors=\"pt\")\n",
    "        labels_batch = self.processor.tokenizer.pad(label_features, return_tensors=\"pt\")\n",
    "        labels = labels_batch[\"input_ids\"].masked_fill(labels_batch.attention_mask.ne(1), -100)\n",
    "        batch[\"labels\"] = labels\n",
    "        return batch\n",
    "\n",
    "data_collator = DataCollatorSpeechSeq2SeqWithPadding(processor=processor)\n"
   ]
  },
  {
   "cell_type": "code",
   "execution_count": 7,
   "metadata": {},
   "outputs": [
    {
     "name": "stderr",
     "output_type": "stream",
     "text": [
      "<ipython-input-7-8db8db698e75>:14: FutureWarning: `tokenizer` is deprecated and will be removed in version 5.0.0 for `Trainer.__init__`. Use `processing_class` instead.\n",
      "  trainer = Trainer(\n"
     ]
    }
   ],
   "source": [
    "from transformers import TrainingArguments, Trainer\n",
    "\n",
    "training_args = TrainingArguments(\n",
    "    output_dir=\"/content/drive/MyDrive/WhisperCheckpoints/run_small_lr2(2)\",\n",
    "    per_device_train_batch_size=4,\n",
    "    learning_rate=1e-5,\n",
    "    num_train_epochs=3,\n",
    "    logging_steps=10,\n",
    "    save_strategy=\"epoch\",\n",
    "    fp16=True,\n",
    "    report_to=\"none\"\n",
    ")\n",
    "\n",
    "trainer = Trainer(\n",
    "    model=model,\n",
    "    args=training_args,\n",
    "    train_dataset=processed_dataset_train,\n",
    "    tokenizer=processor,\n",
    "    data_collator=data_collator\n",
    ")"
   ]
  },
  {
   "cell_type": "code",
   "execution_count": 8,
   "metadata": {},
   "outputs": [
    {
     "name": "stderr",
     "output_type": "stream",
     "text": [
      "Passing a tuple of `past_key_values` is deprecated and will be removed in Transformers v4.43.0. You should pass an instance of `EncoderDecoderCache` instead, e.g. `past_key_values=EncoderDecoderCache.from_legacy_cache(past_key_values)`.\n"
     ]
    },
    {
     "data": {
      "text/html": [
       "\n",
       "    <div>\n",
       "      \n",
       "      <progress value='300' max='300' style='width:300px; height:20px; vertical-align: middle;'></progress>\n",
       "      [300/300 04:04, Epoch 3/3]\n",
       "    </div>\n",
       "    <table border=\"1\" class=\"dataframe\">\n",
       "  <thead>\n",
       " <tr style=\"text-align: left;\">\n",
       "      <th>Step</th>\n",
       "      <th>Training Loss</th>\n",
       "    </tr>\n",
       "  </thead>\n",
       "  <tbody>\n",
       "    <tr>\n",
       "      <td>10</td>\n",
       "      <td>8.098900</td>\n",
       "    </tr>\n",
       "    <tr>\n",
       "      <td>20</td>\n",
       "      <td>5.779400</td>\n",
       "    </tr>\n",
       "    <tr>\n",
       "      <td>30</td>\n",
       "      <td>4.742700</td>\n",
       "    </tr>\n",
       "    <tr>\n",
       "      <td>40</td>\n",
       "      <td>3.944200</td>\n",
       "    </tr>\n",
       "    <tr>\n",
       "      <td>50</td>\n",
       "      <td>3.200000</td>\n",
       "    </tr>\n",
       "    <tr>\n",
       "      <td>60</td>\n",
       "      <td>3.097800</td>\n",
       "    </tr>\n",
       "    <tr>\n",
       "      <td>70</td>\n",
       "      <td>2.673600</td>\n",
       "    </tr>\n",
       "    <tr>\n",
       "      <td>80</td>\n",
       "      <td>2.682300</td>\n",
       "    </tr>\n",
       "    <tr>\n",
       "      <td>90</td>\n",
       "      <td>2.381600</td>\n",
       "    </tr>\n",
       "    <tr>\n",
       "      <td>100</td>\n",
       "      <td>2.339600</td>\n",
       "    </tr>\n",
       "    <tr>\n",
       "      <td>110</td>\n",
       "      <td>1.544100</td>\n",
       "    </tr>\n",
       "    <tr>\n",
       "      <td>120</td>\n",
       "      <td>1.581500</td>\n",
       "    </tr>\n",
       "    <tr>\n",
       "      <td>130</td>\n",
       "      <td>1.658200</td>\n",
       "    </tr>\n",
       "    <tr>\n",
       "      <td>140</td>\n",
       "      <td>1.558700</td>\n",
       "    </tr>\n",
       "    <tr>\n",
       "      <td>150</td>\n",
       "      <td>1.300100</td>\n",
       "    </tr>\n",
       "    <tr>\n",
       "      <td>160</td>\n",
       "      <td>1.528000</td>\n",
       "    </tr>\n",
       "    <tr>\n",
       "      <td>170</td>\n",
       "      <td>1.364900</td>\n",
       "    </tr>\n",
       "    <tr>\n",
       "      <td>180</td>\n",
       "      <td>1.371000</td>\n",
       "    </tr>\n",
       "    <tr>\n",
       "      <td>190</td>\n",
       "      <td>1.409900</td>\n",
       "    </tr>\n",
       "    <tr>\n",
       "      <td>200</td>\n",
       "      <td>1.244300</td>\n",
       "    </tr>\n",
       "    <tr>\n",
       "      <td>210</td>\n",
       "      <td>0.888100</td>\n",
       "    </tr>\n",
       "    <tr>\n",
       "      <td>220</td>\n",
       "      <td>0.897500</td>\n",
       "    </tr>\n",
       "    <tr>\n",
       "      <td>230</td>\n",
       "      <td>0.857700</td>\n",
       "    </tr>\n",
       "    <tr>\n",
       "      <td>240</td>\n",
       "      <td>0.876500</td>\n",
       "    </tr>\n",
       "    <tr>\n",
       "      <td>250</td>\n",
       "      <td>0.789600</td>\n",
       "    </tr>\n",
       "    <tr>\n",
       "      <td>260</td>\n",
       "      <td>0.857500</td>\n",
       "    </tr>\n",
       "    <tr>\n",
       "      <td>270</td>\n",
       "      <td>0.854500</td>\n",
       "    </tr>\n",
       "    <tr>\n",
       "      <td>280</td>\n",
       "      <td>0.723300</td>\n",
       "    </tr>\n",
       "    <tr>\n",
       "      <td>290</td>\n",
       "      <td>0.772000</td>\n",
       "    </tr>\n",
       "    <tr>\n",
       "      <td>300</td>\n",
       "      <td>0.850100</td>\n",
       "    </tr>\n",
       "  </tbody>\n",
       "</table><p>"
      ],
      "text/plain": [
       "<IPython.core.display.HTML object>"
      ]
     },
     "metadata": {},
     "output_type": "display_data"
    },
    {
     "name": "stderr",
     "output_type": "stream",
     "text": [
      "/usr/local/lib/python3.11/dist-packages/transformers/modeling_utils.py:3339: UserWarning: Moving the following attributes in the config to the generation config: {'max_length': 448, 'suppress_tokens': [], 'begin_suppress_tokens': [220, 50257]}. You are seeing this warning because you've set generation parameters in the model config, as opposed to in the generation config.\n",
      "  warnings.warn(\n"
     ]
    },
    {
     "data": {
      "text/plain": [
       "TrainOutput(global_step=300, training_loss=2.0622634267807007, metrics={'train_runtime': 246.5375, 'train_samples_per_second': 4.867, 'train_steps_per_second': 1.217, 'total_flos': 3.46302480384e+17, 'train_loss': 2.0622634267807007, 'epoch': 3.0})"
      ]
     },
     "execution_count": 8,
     "metadata": {},
     "output_type": "execute_result"
    }
   ],
   "source": [
    "trainer.train()"
   ]
  },
  {
   "cell_type": "code",
   "execution_count": 9,
   "metadata": {},
   "outputs": [
    {
     "data": {
      "text/plain": [
       "[]"
      ]
     },
     "execution_count": 9,
     "metadata": {},
     "output_type": "execute_result"
    }
   ],
   "source": [
    "save_path = \"/content/drive/MyDrive/WhisperCheckpoints/run_small_lr2(2)\"\n",
    "model.save_pretrained(save_path)\n",
    "processor.save_pretrained(save_path)"
   ]
  },
  {
   "cell_type": "code",
   "execution_count": 10,
   "metadata": {},
   "outputs": [
    {
     "name": "stdout",
     "output_type": "stream",
     "text": [
      "🌍 Language: ko\n"
     ]
    },
    {
     "name": "stderr",
     "output_type": "stream",
     "text": [
      "\r",
      "  0%|          | 0/100 [00:00<?, ?it/s]Due to a bug fix in https://github.com/huggingface/transformers/pull/28687 transcription using a multilingual Whisper will default to language detection followed by transcription instead of translation to English.This might be a breaking change for your use case. If you want to instead always translate your audio to English, make sure to pass `language='en'`.\n",
      "The attention mask is not set and cannot be inferred from input because pad token is same as eos token. As a consequence, you may observe unexpected behavior. Please pass your input's `attention_mask` to obtain reliable results.\n",
      "  1%|          | 1/100 [00:01<01:52,  1.13s/it]"
     ]
    },
    {
     "name": "stdout",
     "output_type": "stream",
     "text": [
      "🔹 Predicted: 考아 동시에 예상적이란 기분인 垃圾が立つと、 안개차람すら 썼다。\n",
      "🔸 Reference: 그와 동시에 애상적이던 기분은 구름과 같이 흩어지고 안개처럼 스러졌다.\n"
     ]
    },
    {
     "name": "stderr",
     "output_type": "stream",
     "text": [
      "\r",
      "  2%|▏         | 2/100 [00:01<01:22,  1.18it/s]"
     ]
    },
    {
     "name": "stdout",
     "output_type": "stream",
     "text": [
      "🔹 Predicted: 하면서도 기차는 동략이가 먹는다는 바람에 승도 아니시고却 틀이탓다.\n",
      "🔸 Reference: 하면서도 기천은 동혁이가 먹는다는 바람에 숨도 아니 쉬고 쪼옥 들이켰다.\n"
     ]
    },
    {
     "name": "stderr",
     "output_type": "stream",
     "text": [
      "\r",
      "  3%|▎         | 3/100 [00:02<01:18,  1.23it/s]"
     ]
    },
    {
     "name": "stdout",
     "output_type": "stream",
     "text": [
      "🔹 Predicted:  이사에게 주금의 손거를 받은 줄도 모르는 영신은 주사기운의 격붕을 시켜 휘복하였다.\n",
      "🔸 Reference: 의사에게 죽음의 선고를 받은 줄도 모르는 영신은 주사 기운에 조금 의식을 회복하였다.\n"
     ]
    },
    {
     "name": "stderr",
     "output_type": "stream",
     "text": [
      "\r",
      "  4%|▍         | 4/100 [00:03<01:17,  1.24it/s]"
     ]
    },
    {
     "name": "stdout",
     "output_type": "stream",
     "text": [
      "🔹 Predicted: 모르다 면은 이너너모로 삼참하니 고개압을 뱉을 오참쨍할 지니다.\n",
      "🔸 Reference: 무릇 경영은 의논함으로 성취하나니 모략을 베풀고 전쟁할지니라\n"
     ]
    },
    {
     "name": "stderr",
     "output_type": "stream",
     "text": [
      "\r",
      "  5%|▌         | 5/100 [00:03<00:58,  1.61it/s]"
     ]
    },
    {
     "name": "stdout",
     "output_type": "stream",
     "text": [
      "🔹 Predicted: アニタ、ケルコアニタ\n",
      "🔸 Reference: 아니다 결코 아니다.\n"
     ]
    },
    {
     "name": "stderr",
     "output_type": "stream",
     "text": [
      "\r",
      "  6%|▌         | 6/100 [00:03<00:49,  1.88it/s]"
     ]
    },
    {
     "name": "stdout",
     "output_type": "stream",
     "text": [
      "🔹 Predicted: 고무는 소리야 집을 고어 와서 가세요.\n",
      "🔸 Reference: 공연한 소리 하지 말고 어서 가세.\n"
     ]
    },
    {
     "name": "stderr",
     "output_type": "stream",
     "text": [
      "\r",
      "  7%|▋         | 7/100 [00:04<00:46,  2.00it/s]"
     ]
    },
    {
     "name": "stdout",
     "output_type": "stream",
     "text": [
      "🔹 Predicted: 선비는 바다가 지고 한난히 들을 따랐다.\n",
      "🔸 Reference: 선비는 받아 가지고 간난의 뒤를 따랐다.\n"
     ]
    },
    {
     "name": "stderr",
     "output_type": "stream",
     "text": [
      "\r",
      "  8%|▊         | 8/100 [00:05<00:52,  1.76it/s]"
     ]
    },
    {
     "name": "stdout",
     "output_type": "stream",
     "text": [
      "🔹 Predicted: 세 백 배성보다도 垃圾 배성보다도  빠른 양자 배성サビスで 生일부터 시작합니다.\n",
      "🔸 Reference: 새벽배송보다도 로켓배송보다도 빠른 양자 배송 서비스를 오늘부터 시작합니다.\n"
     ]
    },
    {
     "name": "stderr",
     "output_type": "stream",
     "text": [
      "\r",
      "  9%|▉         | 9/100 [00:05<00:46,  1.95it/s]"
     ]
    },
    {
     "name": "stdout",
     "output_type": "stream",
     "text": [
      "🔹 Predicted: 청아는 이 쪽고를 저어 하면서 소리가 들은다.\n",
      "🔸 Reference: 청하는 이쪽 노를 저으면서 소리를 지른다.\n"
     ]
    },
    {
     "name": "stderr",
     "output_type": "stream",
     "text": [
      "\r",
      " 10%|█         | 10/100 [00:06<00:51,  1.75it/s]"
     ]
    },
    {
     "name": "stdout",
     "output_type": "stream",
     "text": [
      "🔹 Predicted: 여러 사람의 아프로 한 걸음 다가선며 그의 건불고인한 고기의 비유 긴장이 진다.\n",
      "🔸 Reference: 여러 사람의 앞으로 한 걸음 다가서며 그 검붉은 얼굴이 매우 긴장해진다.\n"
     ]
    },
    {
     "name": "stderr",
     "output_type": "stream",
     "text": [
      "\r",
      " 11%|█         | 11/100 [00:06<00:48,  1.85it/s]"
     ]
    },
    {
     "name": "stdout",
     "output_type": "stream",
     "text": [
      "🔹 Predicted:  yet 柴ニサカンパーケモタコインニデト?\n",
      "🔸 Reference: 여전히 사건 파악을 못 하고 있는데도?\n"
     ]
    },
    {
     "name": "stderr",
     "output_type": "stream",
     "text": [
      "\r",
      " 12%|█▏        | 12/100 [00:07<00:44,  1.96it/s]"
     ]
    },
    {
     "name": "stdout",
     "output_type": "stream",
     "text": [
      "🔹 Predicted: 치각고 재미있는 콘텐츠를 만들 작가를 모직합니다.\n",
      "🔸 Reference: 즐겁고 재미있는 콘텐츠를 만들 작가를 모집합니다.\n"
     ]
    },
    {
     "name": "stderr",
     "output_type": "stream",
     "text": [
      "\r",
      " 13%|█▎        | 13/100 [00:07<00:39,  2.20it/s]"
     ]
    },
    {
     "name": "stdout",
     "output_type": "stream",
     "text": [
      "🔹 Predicted: 生庫里で鶴サポラよ\n",
      "🔸 Reference: 이거리를 둘이서 걸어요.\n"
     ]
    },
    {
     "name": "stderr",
     "output_type": "stream",
     "text": [
      "\r",
      " 14%|█▍        | 14/100 [00:07<00:40,  2.13it/s]"
     ]
    },
    {
     "name": "stdout",
     "output_type": "stream",
     "text": [
      "🔹 Predicted:  간난히 낸신껏 웃어보이냐고 머리를 흔들었다.\n",
      "🔸 Reference: 간난이는 생긋 웃어 보이며 머리를 흔들었다.\n"
     ]
    },
    {
     "name": "stderr",
     "output_type": "stream",
     "text": [
      "\r",
      " 15%|█▌        | 15/100 [00:08<00:43,  1.95it/s]"
     ]
    },
    {
     "name": "stdout",
     "output_type": "stream",
     "text": [
      "🔹 Predicted: 고어가 보은지 평가 날 수 없는다는 이렇게 부럽다.\n",
      "🔸 Reference: 무어가 무언지 분간할 수 없는 나는 이렇게 물었다.\n"
     ]
    },
    {
     "name": "stderr",
     "output_type": "stream",
     "text": [
      "\r",
      " 16%|█▌        | 16/100 [00:09<00:44,  1.89it/s]"
     ]
    },
    {
     "name": "stdout",
     "output_type": "stream",
     "text": [
      "🔹 Predicted: 콩무통무는 법뒤에 종이 가라다오 대통령이 인양한다.\n",
      "🔸 Reference: 국무총리는 국회의 동의를 얻어 대통령이 임명한다.\n"
     ]
    },
    {
     "name": "stderr",
     "output_type": "stream",
     "text": [
      "\r",
      " 17%|█▋        | 17/100 [00:09<00:46,  1.80it/s]"
     ]
    },
    {
     "name": "stdout",
     "output_type": "stream",
     "text": [
      "🔹 Predicted: フールチシンにアップアイキルのペアクルからチャップをイラナッタ。\n",
      "🔸 Reference: 부르짖으며 발길로 벽을 걷어차고 일어났다.\n"
     ]
    },
    {
     "name": "stderr",
     "output_type": "stream",
     "text": [
      "\r",
      " 18%|█▊        | 18/100 [00:10<00:42,  1.92it/s]"
     ]
    },
    {
     "name": "stdout",
     "output_type": "stream",
     "text": [
      "🔹 Predicted: 다오는지 모르고 이런 말을 하고도 다신히 선택하였다.\n",
      "🔸 Reference: 나오는 줄 모르고 이런 말을 하고도 가슴이 선뜩하였다.\n"
     ]
    },
    {
     "name": "stderr",
     "output_type": "stream",
     "text": [
      "\r",
      " 19%|█▉        | 19/100 [00:10<00:41,  1.94it/s]"
     ]
    },
    {
     "name": "stdout",
     "output_type": "stream",
     "text": [
      "🔹 Predicted:  저아기의 동양상으로 저한정사껌 기우가 낡겁니다.\n",
      "🔸 Reference: 저 뒤에 동영상으로 주암동 사건 개요가 나올 겁니다.\n"
     ]
    },
    {
     "name": "stderr",
     "output_type": "stream",
     "text": [
      "\r",
      " 20%|██        | 20/100 [00:11<00:45,  1.78it/s]"
     ]
    },
    {
     "name": "stdout",
     "output_type": "stream",
     "text": [
      "🔹 Predicted:  그는 점은 말하기를 서자가 받기이신지 뺴가다가면 고리에서 찍기겠다하는 대로\n",
      "🔸 Reference: 게으른 자는 말하기를 사자가 밖에 있은즉 내가 나가면 거리에서 찢기겠다 하느니라\n"
     ]
    },
    {
     "name": "stderr",
     "output_type": "stream",
     "text": [
      "\r",
      " 21%|██        | 21/100 [00:11<00:38,  2.06it/s]"
     ]
    },
    {
     "name": "stdout",
     "output_type": "stream",
     "text": [
      "🔹 Predicted: 그런 데에 오랍수니깐\n",
      "🔸 Reference: 그럼, 내일 오랍쇼니까?\n"
     ]
    },
    {
     "name": "stderr",
     "output_type": "stream",
     "text": [
      "\r",
      " 22%|██▏       | 22/100 [00:12<00:39,  1.97it/s]"
     ]
    },
    {
     "name": "stdout",
     "output_type": "stream",
     "text": [
      "🔹 Predicted:  그는 다를 미처월인다우는 그은 보를 들고서가 읽기 시작하였습니다.\n",
      "🔸 Reference: 그는 나를 밀쳐 버린 다음에 그 음보를 들고서 읽기 시작하였습니다.\n"
     ]
    },
    {
     "name": "stderr",
     "output_type": "stream",
     "text": [
      "\r",
      " 23%|██▎       | 23/100 [00:12<00:41,  1.83it/s]"
     ]
    },
    {
     "name": "stdout",
     "output_type": "stream",
     "text": [
      "🔹 Predicted: 그는 고의 이 집에서 억자 미를 아깝게 지어하는 것을 참식한 미라도 알 수가 있다.\n",
      "🔸 Reference: 그리고 이 집에서 옥점이를 어떻게 귀여워하는 것을 잠시간이라도 알 수가 있다.\n"
     ]
    },
    {
     "name": "stderr",
     "output_type": "stream",
     "text": [
      "\r",
      " 24%|██▍       | 24/100 [00:13<00:45,  1.69it/s]"
     ]
    },
    {
     "name": "stdout",
     "output_type": "stream",
     "text": [
      "🔹 Predicted: 아다까지 양신은 그 북을 옅은 하늘의 혈특이 반짝이는 길롱한 발고 있었다.\n",
      "🔸 Reference: 아까까지 영신은 그 불을 얕은 하늘의 별들이 반짝이는 줄로만 알고있었다.\n"
     ]
    },
    {
     "name": "stderr",
     "output_type": "stream",
     "text": [
      "\r",
      " 25%|██▌       | 25/100 [00:14<00:41,  1.79it/s]"
     ]
    },
    {
     "name": "stdout",
     "output_type": "stream",
     "text": [
      "🔹 Predicted:  의심하는 마음과 한꺼번에 일어나는 것은 질투였다.\n",
      "🔸 Reference: 의심하는 마음과 한꺼번에 일어나는 것은 질투였다.\n"
     ]
    },
    {
     "name": "stderr",
     "output_type": "stream",
     "text": [
      "\r",
      " 26%|██▌       | 26/100 [00:22<03:26,  2.79s/it]"
     ]
    },
    {
     "name": "stdout",
     "output_type": "stream",
     "text": [
      "🔹 Predicted: これ 김에 그자와 인어 매상인님 하보 뱉고 뱉고 뱉고 뱉고 뱉고 뱉고 뱉고 뱉고 뱉고 뱉고 뱉고 뱉고 뱉고 뱉고 뱉고 뱉고 뱉고 뱉고 뱉고 뱉고 뱉고 뱉고 뱉고 뱉고 뱉고 뱉고 뱉고 뱉고 뱉고 뱉고 뱉고 뱉고 뱉고 뱉고 뱉고 뱉고 뱉고 뱉고 뱉고 뱉고 뱉고 뱉고 뱉고 뱉고 뱉고 뱉고 뱉고 뱉고 뱉고 뱉고 뱉고 뱉고 뱉고 뱉고 뱉고 뱉고 뱉고 뱉고 뱉고 뱉고 뱉고 뱉고 뱉고 뱉고 뱉고 뱉고 뱉고 뱉고 뱉고 뱉고 뱉고 뱉고 뱉고 뱉고 뱉고 뱉고 뱉고 뱉고 뱉고 뱉고 뱉고 뱉고 뱉고 뱉고 뱉고 뱉고 뱉고 뱉고 뱉고 뱉고 뱉고 뱉고 뱉고 뱉고 뱉고 뱉고 뱉고 뱉고 뱉고 뱉고 뱉고 뱉고 뱉고 뱉고 뱉고 뱉고 뱉고 �\n",
      "🔸 Reference: 골김에 그저 이놈의 장인님, 하고 댓돌에다 메꼰코 우리 고향으로 내뺄까 하다가 꾹꾹 참고 말았다.\n"
     ]
    },
    {
     "name": "stderr",
     "output_type": "stream",
     "text": [
      "\r",
      " 27%|██▋       | 27/100 [00:22<02:28,  2.04s/it]"
     ]
    },
    {
     "name": "stdout",
     "output_type": "stream",
     "text": [
      "🔹 Predicted:  뼈 목에 금참지\n",
      "🔸 Reference: 여보게 김첨지\n"
     ]
    },
    {
     "name": "stderr",
     "output_type": "stream",
     "text": [
      "\r",
      " 28%|██▊       | 28/100 [00:22<01:52,  1.57s/it]"
     ]
    },
    {
     "name": "stdout",
     "output_type": "stream",
     "text": [
      "🔹 Predicted: 靠짝이 튀어서 나오는 강풍, 거기에 난 개미 흥소.\n",
      "🔸 Reference: 갑자기 튀어져 나오는 광포, 거기 연한 쾌미, 흥소\n"
     ]
    },
    {
     "name": "stderr",
     "output_type": "stream",
     "text": [
      "\r",
      " 29%|██▉       | 29/100 [00:23<01:28,  1.25s/it]"
     ]
    },
    {
     "name": "stdout",
     "output_type": "stream",
     "text": [
      "🔹 Predicted: 때가운 뼈치 그의 전신을 훅곤하게 하였다.\n",
      "🔸 Reference: 뜨거운 볕이 그의 전신을 후끈하게 하였다.\n"
     ]
    },
    {
     "name": "stderr",
     "output_type": "stream",
     "text": [
      "\r",
      " 30%|███       | 30/100 [00:24<01:17,  1.10s/it]"
     ]
    },
    {
     "name": "stdout",
     "output_type": "stream",
     "text": [
      "🔹 Predicted: 어리서 면자로 슬프로 피하며, 자문자에게 치식과 끝이 맘을 쳐두는 말고서는,\n",
      "🔸 Reference: 어리석은 자로 슬기롭게 하며 젊은 자에게 지식과 근신함을 주기 위한 것이니\n"
     ]
    },
    {
     "name": "stderr",
     "output_type": "stream",
     "text": [
      "\r",
      " 31%|███       | 31/100 [00:25<01:12,  1.05s/it]"
     ]
    },
    {
     "name": "stdout",
     "output_type": "stream",
     "text": [
      "🔹 Predicted: 그는 여학생인지만지가 한참은 명대팔에 뱀어 이추을 꼭팔은 채 김천지를 그라들떠고 지라 났다.\n",
      "🔸 Reference: 그 여학생인지 만지가 한참은 매우 때깔을 빼며 입술을 꼭 다문 채 김첨지를 거들떠보지도 않았다.\n"
     ]
    },
    {
     "name": "stderr",
     "output_type": "stream",
     "text": [
      "\r",
      " 32%|███▏      | 32/100 [00:25<01:08,  1.00s/it]"
     ]
    },
    {
     "name": "stdout",
     "output_type": "stream",
     "text": [
      "🔹 Predicted: 昏間であるが、見事を見上げ、お土産にされるとばとばとに、および、とばとの歯ごたえだ。\n",
      "🔸 Reference: 한마디를 남기고 동혁은 구두징 소리를 뚜벅뚜벅 내며 골목 밖으로 나가 버린다.\n"
     ]
    },
    {
     "name": "stderr",
     "output_type": "stream",
     "text": [
      "\r",
      " 33%|███▎      | 33/100 [00:26<00:55,  1.20it/s]"
     ]
    },
    {
     "name": "stdout",
     "output_type": "stream",
     "text": [
      "🔹 Predicted: 소스로가 한틀 넘기다고 지니로 보지 말아。\n",
      "🔸 Reference: 스스로가 형편없다고 생각하지 말라.\n"
     ]
    },
    {
     "name": "stderr",
     "output_type": "stream",
     "text": [
      "\r",
      " 34%|███▍      | 34/100 [00:34<03:16,  2.97s/it]"
     ]
    },
    {
     "name": "stdout",
     "output_type": "stream",
     "text": [
      "🔹 Predicted: アクアムをすらあきだんですよ、かまにたらりき、かまにたらりき、かまにたらりき、かまにたらりき、かまにたらりき、かまにたらりき、かまにたらりき、かまにたらりき、かまにたらりき、かまにたらりき、かまにたらりき、かまにたらりき、かまにたらりき、かまにたらりき、かまにたらりき、かまにたらりき、かまにたらりき、かまにたらりき、かまにたらりき、かまにたらりき、かまにたらりき、かまにたらりき、かまにたらりき、かまにたらりき、かまにたらりき、かまにたらりき、かまにたらりき、かまにたらりき、かまにたらりき、かまにたらりき、かまにたらりき、かまにたらりき、かまにたらりき、かまにたらりき、かまにたらりき、かまにたらりき、かまにたらりき、かまにたらりき、かまにたらりき、かまにたらりき、かまにたらりき、かまにたらりき、かまにたらりき、かまにたらりき、かまにたらりき、かまにたらりき、かまにたらりき、かまにたらりき、かまにたらりき、かまにたらりき、かまにたらりき、かまにたらりき、かまにたらりき、かまにたらりき\n",
      "🔸 Reference: 하고 무엇을 알아챘다는 듯이 가만히 창하의 계속하는 말만 듣고 있다.\n"
     ]
    },
    {
     "name": "stderr",
     "output_type": "stream",
     "text": [
      "\r",
      " 35%|███▌      | 35/100 [00:35<02:32,  2.34s/it]"
     ]
    },
    {
     "name": "stdout",
     "output_type": "stream",
     "text": [
      "🔹 Predicted: 에아와는 뷰로르의 그또치인의 모습을 보냈다. 뷰로르의 신호와의 뷰탑다.\n",
      "🔸 Reference: 권력을 휘두르는 그 정치인의 모습을 보며 대중들이 실망을 느꼈다.\n"
     ]
    },
    {
     "name": "stderr",
     "output_type": "stream",
     "text": [
      "\r",
      " 36%|███▌      | 36/100 [00:43<04:17,  4.03s/it]"
     ]
    },
    {
     "name": "stdout",
     "output_type": "stream",
     "text": [
      "🔹 Predicted: 鶴鶴地区暂时、鶴鶴地区、大阪市、南区、南区、南区、南区、南区、南区、南区、南区、南区、南区、南区、南区、南区、南区、南区、南区、南区、南区、南区、南区、南区、南区、南区、南区、南区、南区、南区、南区、南区、南区、南区、南区、南区、南区、南区、南区、南区、南区、南区、南区、南区、南区、南区、南区、南区、南区、南区、南区、南区、南区、南区、南区、南区、南区、南区、南区、南区、南区、南区、南区、南区、南区、南区、南区、南区、南区、南区、南区、南区、南区、南区、南区、南区、南区、南区、南区、南区、南区、南区、南区、南区、南区、南区、南区、南区、南区、南区、南区、南区、南区、南区、南区、南区、南区、南区、区、南区、南区、区、南区、区、南区、区、区、区、区\n",
      "🔸 Reference: 그들이 집까지 왔을 때는 어슬어슬한 황혼이었다.\n"
     ]
    },
    {
     "name": "stderr",
     "output_type": "stream",
     "text": [
      "\r",
      " 37%|███▋      | 37/100 [00:43<03:08,  2.99s/it]"
     ]
    },
    {
     "name": "stdout",
     "output_type": "stream",
     "text": [
      "🔹 Predicted: 그키에 룬을 치다한 사람은 이는와는 마프통과 케이스였어.\n",
      "🔸 Reference: 그 기회론을 주장하는 사람은, 유명한 음악 비평가 K씨였었다.\n"
     ]
    },
    {
     "name": "stderr",
     "output_type": "stream",
     "text": [
      "\r",
      " 38%|███▊      | 38/100 [00:44<02:17,  2.23s/it]"
     ]
    },
    {
     "name": "stdout",
     "output_type": "stream",
     "text": [
      "🔹 Predicted: モンデアップサメルモードが近所あるようなものにある\n",
      "🔸 Reference: 무대 앞에 서면 모두가 긴장하기 마련이야.\n"
     ]
    },
    {
     "name": "stderr",
     "output_type": "stream",
     "text": [
      "\r",
      " 39%|███▉      | 39/100 [00:44<01:45,  1.72s/it]"
     ]
    },
    {
     "name": "stdout",
     "output_type": "stream",
     "text": [
      "🔹 Predicted: 따らさもりあっぱり、ふんりんがり、ぱつあったらった。\n",
      "🔸 Reference: 따라서 물 먹고 싶은 생각이 버쩍 들었다.\n"
     ]
    },
    {
     "name": "stderr",
     "output_type": "stream",
     "text": [
      "\r",
      " 40%|████      | 40/100 [00:45<01:18,  1.30s/it]"
     ]
    },
    {
     "name": "stdout",
     "output_type": "stream",
     "text": [
      "🔹 Predicted: Function and non-siric must be bought.\n",
      "🔸 Reference: 삼십 년이라는 세월이 흘렀습니다.\n"
     ]
    },
    {
     "name": "stderr",
     "output_type": "stream",
     "text": [
      "\r",
      " 41%|████      | 41/100 [00:45<01:01,  1.05s/it]"
     ]
    },
    {
     "name": "stdout",
     "output_type": "stream",
     "text": [
      "🔹 Predicted: 茨城県大盛県大陸の地域がある\n",
      "🔸 Reference: 내일이나 모레나 그 어느 즐거운 날에\n"
     ]
    },
    {
     "name": "stderr",
     "output_type": "stream",
     "text": [
      "\r",
      " 42%|████▏     | 42/100 [00:53<03:01,  3.13s/it]"
     ]
    },
    {
     "name": "stdout",
     "output_type": "stream",
     "text": [
      "🔹 Predicted: 柄の中で、アクスの中で、無理に、無理に、無理に、無理に、無理に、無理に、無理に、無理に、無理に、無理に、無理に、無理に、無理に、無理に、無理に、無理に、無理に、無理に、無理に、無理に、無理に、無理に、無理に、無理に、無理に、無理に、無理に、無理に、無理に、無理に、無理に、無理に、無理に、無理に、無理に、無理に、無理に、無理に、無理に、無理に、無理に、無理に、無理に、無理に、無理に、無理に、無理に、無理に、無理に、無理に、無理に、無理に、無理に、無理に、無理に、無理に、無理に、無理に、無理に、無理に、無理に、無理に、無理に、無理に、無理に、無理に、無理に、無理に、無理に、無理に、無理に、無理に、無理に、無理に、無理に、無理に、無理に、無理に、無理に、無理に、無理に、無理に、無理に、無理に、無理に、無理に、無理に、無理に、無理に、無理に、無理に、無理に、無理に、無理に、無理に、無理に、無理に、無理に、無理に、無理に、無理に、無理に、無理に、無理に、無理に、無理に、無理に、無理に\n",
      "🔸 Reference: 저녁이 되며 아침이 되니 이는 네째 날이니라\n"
     ]
    },
    {
     "name": "stderr",
     "output_type": "stream",
     "text": [
      " 44%|████▍     | 44/100 [00:54<01:34,  1.68s/it]"
     ]
    },
    {
     "name": "stdout",
     "output_type": "stream",
     "text": [
      "🔹 Predicted: 팔금과의 무리가서는 뱀평한 수입세.\n",
      "🔸 Reference: 밝은 달은 우리 가슴 일편단심일세\n",
      "🔹 Predicted: 名川の方\n",
      "🔸 Reference: 네가 나빠\n"
     ]
    },
    {
     "name": "stderr",
     "output_type": "stream",
     "text": [
      "\r",
      " 45%|████▌     | 45/100 [00:54<01:16,  1.40s/it]"
     ]
    },
    {
     "name": "stdout",
     "output_type": "stream",
     "text": [
      "🔹 Predicted: 한 나는는 여고인은 기가와던 말까지 하여다가 우흥만을 춘석 기다라주기 때문에 하였다.\n",
      "🔸 Reference: 간난이는 여공이 들어가던 말까지 하려다가 이런 말은 좀더 기다려서 해주리라 하였다.\n"
     ]
    },
    {
     "name": "stderr",
     "output_type": "stream",
     "text": [
      "\r",
      " 46%|████▌     | 46/100 [00:55<01:00,  1.11s/it]"
     ]
    },
    {
     "name": "stdout",
     "output_type": "stream",
     "text": [
      "🔹 Predicted: 万지、 제가 그대가 간절히 흰 불을 지고 가고도\n",
      "🔸 Reference: 만일 제가 그대로 단결에 휙 뿌리치고 가보게.\n"
     ]
    },
    {
     "name": "stderr",
     "output_type": "stream",
     "text": [
      "\r",
      " 47%|████▋     | 47/100 [00:55<00:52,  1.02it/s]"
     ]
    },
    {
     "name": "stdout",
     "output_type": "stream",
     "text": [
      "🔹 Predicted: 한국으로 이렇게 먹무는 경력이 되구만, 랜시 참 팔근해 보다 뱀고 싶다.\n",
      "🔸 Reference: 감독이 이렇게 와꾸를 돌리게 되면 으레 이십 전 벌금을 물게 되는 것이다.\n"
     ]
    },
    {
     "name": "stderr",
     "output_type": "stream",
     "text": [
      "\r",
      " 48%|████▊     | 48/100 [00:56<00:46,  1.11it/s]"
     ]
    },
    {
     "name": "stdout",
     "output_type": "stream",
     "text": [
      "🔹 Predicted: 기상회가 팔아일을 피고 팔아일은 무신 비슷한 생각에 참여 보기도 없다 한 번은 차는다.\n",
      "🔸 Reference: 기적이 나타나기를 빌고 바라는 미신 비슷한 생각에 잠겨 보기도 또한 이번이 처음이다.\n"
     ]
    },
    {
     "name": "stderr",
     "output_type": "stream",
     "text": [
      "\r",
      " 49%|████▉     | 49/100 [00:57<00:38,  1.31it/s]"
     ]
    },
    {
     "name": "stdout",
     "output_type": "stream",
     "text": [
      "🔹 Predicted: 그가 제각처럼 낯다처럼 기록 기록 여다지를 시작한다.\n",
      "🔸 Reference: 비가 제법 장마 때처럼 주룩주룩 쏟아지기 시작한다.\n"
     ]
    },
    {
     "name": "stderr",
     "output_type": "stream",
     "text": [
      "\r",
      " 50%|█████     | 50/100 [00:57<00:38,  1.31it/s]"
     ]
    },
    {
     "name": "stdout",
     "output_type": "stream",
     "text": [
      "🔹 Predicted: 茨城県大学の宿土を鶴田町に広島に鶴田町に乗り取り、\n",
      "🔸 Reference: 이래저래 영신은 근처 동리의 소위 재산가 계급에게는 인심을 몹시 잃었다.\n"
     ]
    },
    {
     "name": "stderr",
     "output_type": "stream",
     "text": [
      "\r",
      " 51%|█████     | 51/100 [00:58<00:38,  1.27it/s]"
     ]
    },
    {
     "name": "stdout",
     "output_type": "stream",
     "text": [
      "🔹 Predicted: 영신은 가슴 속으로 보통치를 일어로 눈으로 면을 참지하고、写자고래가도 전팔아을때는 더。\n",
      "🔸 Reference: 영신은 가슴속으로부터 치밀어 오는 울음을 참느라고 잇자국이 나도록 손가락을 깨문다.\n"
     ]
    },
    {
     "name": "stderr",
     "output_type": "stream",
     "text": [
      "\r",
      " 52%|█████▏    | 52/100 [00:59<00:40,  1.17it/s]"
     ]
    },
    {
     "name": "stdout",
     "output_type": "stream",
     "text": [
      "🔹 Predicted: 떠로서는 룩과 얀조스와의 뱀잡한 동식을 여하여 탈로던 선비는 굽어 뱃풀고 옮돈.\n",
      "🔸 Reference: 따라서 인력거에 앉아 서울의 번잡한 도시를 향하여 달려오던 선비를 눈앞에 그려 보았다.\n"
     ]
    },
    {
     "name": "stderr",
     "output_type": "stream",
     "text": [
      "\r",
      " 53%|█████▎    | 53/100 [01:00<00:38,  1.21it/s]"
     ]
    },
    {
     "name": "stdout",
     "output_type": "stream",
     "text": [
      "🔹 Predicted: 그자주라한 것라 각자 관전해 주 못해서 릴술을 마시아 무거워두하시니라.\n",
      "🔸 Reference: 그저 들어온 복도 박차 던져 내지 못해서 애쓰는 것이 아니고 무엇이냐.\n"
     ]
    },
    {
     "name": "stderr",
     "output_type": "stream",
     "text": [
      "\r",
      " 54%|█████▍    | 54/100 [01:01<00:34,  1.32it/s]"
     ]
    },
    {
     "name": "stdout",
     "output_type": "stream",
     "text": [
      "🔹 Predicted: 툴가 그자 무시관을 대기툴으로 뇌가도 감옥이자\n",
      "🔸 Reference: 그가 그 나무 실과를 내게 주므로 내가 먹었나이다\n"
     ]
    },
    {
     "name": "stderr",
     "output_type": "stream",
     "text": [
      "\r",
      " 55%|█████▌    | 55/100 [01:01<00:34,  1.30it/s]"
     ]
    },
    {
     "name": "stdout",
     "output_type": "stream",
     "text": [
      "🔹 Predicted: 디가 루암의 엘바를 듣고 뱃가 루달아 먹히바나 안다 무실감을 먹었을지\n",
      "🔸 Reference: 네가 네 아내의 말을 듣고 내가 너더러 먹지 말라한 나무 실과를 먹었은즉\n"
     ]
    },
    {
     "name": "stderr",
     "output_type": "stream",
     "text": [
      "\r",
      " 56%|█████▌    | 56/100 [01:02<00:32,  1.34it/s]"
     ]
    },
    {
     "name": "stdout",
     "output_type": "stream",
     "text": [
      "🔹 Predicted: 경자에 부른 걸 썼어 눈을 뱉이 뱉으며 룰구를 바란 길이었다.\n",
      "🔸 Reference: 병자의 몸은 벌써 싸늘하게 식었으며 얼굴이 파랗게 되었다.\n"
     ]
    },
    {
     "name": "stderr",
     "output_type": "stream",
     "text": [
      "\r",
      " 57%|█████▋    | 57/100 [01:03<00:31,  1.36it/s]"
     ]
    },
    {
     "name": "stdout",
     "output_type": "stream",
     "text": [
      "🔹 Predicted: 놈아에서 한 루퀸을 겸하여서 차기퀸한가 뇌와 주시여.\n",
      "🔸 Reference: 그러고 알 수 없는 괴로운 경우에서 저를 끌어내어 주셔요.\n"
     ]
    },
    {
     "name": "stderr",
     "output_type": "stream",
     "text": [
      "\r",
      " 58%|█████▊    | 58/100 [01:11<02:02,  2.91s/it]"
     ]
    },
    {
     "name": "stdout",
     "output_type": "stream",
     "text": [
      "🔹 Predicted: 床床鶴鶴鶴屋に床に床に床に床に床に床に床に床に床に床に床に床に床に床に床に床に床に床に床に床に床に床に床に床に床に床に床に床に床に床に床に床に床に床に床に床に床に床に床に床に床に床に床に床に床に床に床に床に床に床に床に床に床に床に床に床に床に床に床に床に床に床に床に床に床に床に床に床に床に床に床に床に床に床に床に床に床に床に床に床に床に床に床に床に床に床に床に床に床に床に床に床に床に床に床に床に床に床に床に床床に床床床に床床床床床床床床床床床床床床床床床床床床床床床床床床床床床床床床床床床床床床床床床床床床床床床床床\n",
      "🔸 Reference: 지금 바로 입금 가능해?\n"
     ]
    },
    {
     "name": "stderr",
     "output_type": "stream",
     "text": [
      "\r",
      " 59%|█████▉    | 59/100 [01:11<01:30,  2.21s/it]"
     ]
    },
    {
     "name": "stdout",
     "output_type": "stream",
     "text": [
      "🔹 Predicted: イギアルトは、ドロスを担当に、ネットを敷きました。\n",
      "🔸 Reference: 이리하여 주화조로서 탄주는 끝이 났습니다.\n"
     ]
    },
    {
     "name": "stderr",
     "output_type": "stream",
     "text": [
      "\r",
      " 60%|██████    | 60/100 [01:12<01:06,  1.67s/it]"
     ]
    },
    {
     "name": "stdout",
     "output_type": "stream",
     "text": [
      "🔹 Predicted: 그는 오달기는 다시 종로로 랩을 받다.\n",
      "🔸 Reference: 그는 오던 길을 다시 종로로 향해 갔다.\n"
     ]
    },
    {
     "name": "stderr",
     "output_type": "stream",
     "text": [
      "\r",
      " 61%|██████    | 61/100 [01:12<00:53,  1.36s/it]"
     ]
    },
    {
     "name": "stdout",
     "output_type": "stream",
     "text": [
      "🔹 Predicted: Songinan kanto hikaril pohle tairzu ako al vanegasu mutubu warikta.\n",
      "🔸 Reference: 선비는 감독이 그를 부를 터이지 하고 하루 종일 가슴이 두근거렸다.\n"
     ]
    },
    {
     "name": "stderr",
     "output_type": "stream",
     "text": [
      "\r",
      " 62%|██████▏   | 62/100 [01:13<00:43,  1.13s/it]"
     ]
    },
    {
     "name": "stdout",
     "output_type": "stream",
     "text": [
      "🔹 Predicted: 옥점이는 어느 때나 숨차기를 잃지 못하는 면이 그만큼 덤이 어떤가시다.\n",
      "🔸 Reference: 옥점이는 어느 때나 신철이를 잊지 못하는 반면에 그만큼 더 미웠던 것이다.\n"
     ]
    },
    {
     "name": "stderr",
     "output_type": "stream",
     "text": [
      "\r",
      " 63%|██████▎   | 63/100 [01:14<00:37,  1.01s/it]"
     ]
    },
    {
     "name": "stdout",
     "output_type": "stream",
     "text": [
      "🔹 Predicted: 그 때는 툴기 없는 송비를 보며 간덕이게서 간난한 나무감을 들은 듯하였다.\n",
      "🔸 Reference: 그들은 풀기 없는 선비를 보며 감독에게서 단단한 나무람을 들은 듯하였다.\n"
     ]
    },
    {
     "name": "stderr",
     "output_type": "stream",
     "text": [
      "\r",
      " 64%|██████▍   | 64/100 [01:14<00:29,  1.24it/s]"
     ]
    },
    {
     "name": "stdout",
     "output_type": "stream",
     "text": [
      "🔹 Predicted:  즐거운 날은 고구마일 것이다.\n",
      "🔸 Reference: 즐거운 날은 오고 말 것이다.\n"
     ]
    },
    {
     "name": "stderr",
     "output_type": "stream",
     "text": [
      "\r",
      " 65%|██████▌   | 65/100 [01:15<00:25,  1.36it/s]"
     ]
    },
    {
     "name": "stdout",
     "output_type": "stream",
     "text": [
      "🔹 Predicted: 원조가수는 아야 결과산 속섭기 생각하시지 말을 십시오.\n",
      "🔸 Reference: 먼저 말씀하여 둘 것은 섭섭히 생각하시지 말으십시오.\n"
     ]
    },
    {
     "name": "stderr",
     "output_type": "stream",
     "text": [
      "\r",
      " 66%|██████▌   | 66/100 [01:15<00:23,  1.46it/s]"
     ]
    },
    {
     "name": "stdout",
     "output_type": "stream",
     "text": [
      "🔹 Predicted: 복이명으로 투표를 하는데도 택킬 멀슨 사람이 많았다.\n",
      "🔸 Reference: 무기명으로 투표를 하는 데도 대필로 쓴 사람이 많았다.\n"
     ]
    },
    {
     "name": "stderr",
     "output_type": "stream",
     "text": [
      "\r",
      " 67%|██████▋   | 67/100 [01:16<00:21,  1.53it/s]"
     ]
    },
    {
     "name": "stdout",
     "output_type": "stream",
     "text": [
      "🔹 Predicted:  대답을 듣고 해야 하겠다는 듯이 맑둥맑둥 쳐다본다.\n",
      "🔸 Reference: 대답을 듣고야 가겠다는 듯이 말똥말똥 쳐다본다.\n"
     ]
    },
    {
     "name": "stderr",
     "output_type": "stream",
     "text": [
      "\r",
      " 68%|██████▊   | 68/100 [01:16<00:19,  1.64it/s]"
     ]
    },
    {
     "name": "stdout",
     "output_type": "stream",
     "text": [
      "🔹 Predicted: 고고분도、지금 저녁식사로 먹으면 버무일을까.\n",
      "🔸 Reference: 배고픈데 지금 저녁 식사를 먹으면 너무 이를까?\n"
     ]
    },
    {
     "name": "stderr",
     "output_type": "stream",
     "text": [
      "\r",
      " 69%|██████▉   | 69/100 [01:17<00:17,  1.72it/s]"
     ]
    },
    {
     "name": "stdout",
     "output_type": "stream",
     "text": [
      "🔹 Predicted: 그는 기침을 안하려고 입을 꼭 담은 후에 숨을 쉬지 않았다.\n",
      "🔸 Reference: 그는 기침을 안 하려고 입을 꼭 다문 후에 숨을 쉬지 않았다.\n"
     ]
    },
    {
     "name": "stderr",
     "output_type": "stream",
     "text": [
      "\r",
      " 70%|███████   | 70/100 [01:18<00:18,  1.60it/s]"
     ]
    },
    {
     "name": "stdout",
     "output_type": "stream",
     "text": [
      "🔹 Predicted: 두영은 입술을 깝게 마고 먼지에 일치를 따라 묵묵킬 문툴 바퀴를 가었다.\n",
      "🔸 Reference: 동혁은 입술을 꽉 깨물고 원재의 뒤를 따라 묵묵히 논틀 밭틀을 걸었다.\n"
     ]
    },
    {
     "name": "stderr",
     "output_type": "stream",
     "text": [
      "\r",
      " 71%|███████   | 71/100 [01:18<00:15,  1.85it/s]"
     ]
    },
    {
     "name": "stdout",
     "output_type": "stream",
     "text": [
      "🔹 Predicted:  대한 사람 대한으로 기지 보저 나세\n",
      "🔸 Reference: 대한 사람 대한으로 길이 보전하세\n"
     ]
    },
    {
     "name": "stderr",
     "output_type": "stream",
     "text": [
      "\r",
      " 72%|███████▏  | 72/100 [01:19<00:16,  1.65it/s]"
     ]
    },
    {
     "name": "stdout",
     "output_type": "stream",
     "text": [
      "🔹 Predicted:  나라의 별론을 얻은 동무회의에 회관을 즐겨고 오늘 저녁에 그 지경을 당는 것이다.\n",
      "🔸 Reference: 여러 해 별러 오던 농우회의 회관을 지으려고 오늘 저녁에 그 지경을 닦는 것이다.\n"
     ]
    },
    {
     "name": "stderr",
     "output_type": "stream",
     "text": [
      "\r",
      " 73%|███████▎  | 73/100 [01:19<00:15,  1.74it/s]"
     ]
    },
    {
     "name": "stdout",
     "output_type": "stream",
     "text": [
      "🔹 Predicted: 兵 세계 아총하는 것은 그의 팔 앞의 그 모를 치는 것이니라\n",
      "🔸 Reference: 이웃에게 아첨하는 것은 그의 발 앞에 그물을 치는 것이니라\n"
     ]
    },
    {
     "name": "stderr",
     "output_type": "stream",
     "text": [
      "\r",
      " 74%|███████▍  | 74/100 [01:20<00:15,  1.66it/s]"
     ]
    },
    {
     "name": "stdout",
     "output_type": "stream",
     "text": [
      "🔹 Predicted:  하다니에ビリブッと割れることりも、蓄소고로岐阻でらなのか。\n",
      "🔸 Reference: 하더니 미리부터 허리를 구부리며 집 속으로 기어들어간다.\n"
     ]
    },
    {
     "name": "stderr",
     "output_type": "stream",
     "text": [
      "\r",
      " 75%|███████▌  | 75/100 [01:20<00:13,  1.83it/s]"
     ]
    },
    {
     "name": "stdout",
     "output_type": "stream",
     "text": [
      "🔹 Predicted:  그와 동시에 귀천의 가슴도 감하고 올렸다.\n",
      "🔸 Reference: 그와 동시에 기천의 가슴도 쿵 하고 울렸다.\n"
     ]
    },
    {
     "name": "stderr",
     "output_type": "stream",
     "text": [
      "\r",
      " 76%|███████▌  | 76/100 [01:21<00:12,  1.86it/s]"
     ]
    },
    {
     "name": "stdout",
     "output_type": "stream",
     "text": [
      "🔹 Predicted: 슈어는 모를 위해 앉아서 멀리서 저걸 배아보고 앉아 있었다.\n",
      "🔸 Reference: 춘우는 모래 위에 앉아서 멀리 서울 쪽을 바라보고 앉아 있었다.\n"
     ]
    },
    {
     "name": "stderr",
     "output_type": "stream",
     "text": [
      "\r",
      " 77%|███████▋  | 77/100 [01:21<00:13,  1.75it/s]"
     ]
    },
    {
     "name": "stdout",
     "output_type": "stream",
     "text": [
      "🔹 Predicted: 그리고, 시험는 가슴이 아특시가 서로 경쟁을 하며 배여우고 배여운다.\n",
      "🔸 Reference: 그리고 수없는 버스며 택시가 서로 경쟁을 하며 달려오고 달려간다.\n"
     ]
    },
    {
     "name": "stderr",
     "output_type": "stream",
     "text": [
      "\r",
      " 78%|███████▊  | 78/100 [01:22<00:11,  1.94it/s]"
     ]
    },
    {
     "name": "stdout",
     "output_type": "stream",
     "text": [
      "🔹 Predicted: 그는 그와 한 바퀴가 있는 인호였다.\n",
      "🔸 Reference: 그는 그와 한 학급에 있는 인호였다.\n"
     ]
    },
    {
     "name": "stderr",
     "output_type": "stream",
     "text": [
      "\r",
      " 79%|███████▉  | 79/100 [01:22<00:11,  1.78it/s]"
     ]
    },
    {
     "name": "stdout",
     "output_type": "stream",
     "text": [
      "🔹 Predicted: 이사방은 보크람에 이뤄스를 뱄아보며 가슴이 희한해졌다.\n",
      "🔸 Reference: 이서방은 물끄러미 이것을 바라보며 가슴이 후련해졌다.\n"
     ]
    },
    {
     "name": "stderr",
     "output_type": "stream",
     "text": [
      "\r",
      " 80%|████████  | 80/100 [01:23<00:09,  2.06it/s]"
     ]
    },
    {
     "name": "stdout",
     "output_type": "stream",
     "text": [
      "🔹 Predicted: 제가 지금 좀 너무 곧돼서요.\n",
      "🔸 Reference: 제가 지금 좀 너무 급해서요.\n"
     ]
    },
    {
     "name": "stderr",
     "output_type": "stream",
     "text": [
      "\r",
      " 81%|████████  | 81/100 [01:23<00:08,  2.13it/s]"
     ]
    },
    {
     "name": "stdout",
     "output_type": "stream",
     "text": [
      "🔹 Predicted: 윤경한 강영소나파의 착감할 수는 없죠.\n",
      "🔸 Reference: 유명한 광염 소나타의 작가 말씀이지요?\"\n"
     ]
    },
    {
     "name": "stderr",
     "output_type": "stream",
     "text": [
      "\r",
      " 82%|████████▏ | 82/100 [01:24<00:08,  2.18it/s]"
     ]
    },
    {
     "name": "stdout",
     "output_type": "stream",
     "text": [
      "🔹 Predicted:  치아가 펴져서 그 엄비는 안 못 참는다.\n",
      "🔸 Reference: 쥐어 터져서 병원비 내는 건 못 참는다\n"
     ]
    },
    {
     "name": "stderr",
     "output_type": "stream",
     "text": [
      "\r",
      " 83%|████████▎ | 83/100 [01:24<00:08,  2.07it/s]"
     ]
    },
    {
     "name": "stdout",
     "output_type": "stream",
     "text": [
      "🔹 Predicted: 놈호와 한 만님의 엡은 동산에서 그의 사람을 내어 보네요.\n",
      "🔸 Reference: 여호와 하나님이 에덴동산에서 그 사람을 내어 보내어\n"
     ]
    },
    {
     "name": "stderr",
     "output_type": "stream",
     "text": [
      "\r",
      " 84%|████████▍ | 84/100 [01:25<00:08,  1.97it/s]"
     ]
    },
    {
     "name": "stdout",
     "output_type": "stream",
     "text": [
      "🔹 Predicted:  저원비씨와 마동역시의 윤낙을 긴장에 팔아다고 생각했거든요.\n",
      "🔸 Reference: 정은배 씨와 마동혁 씨의 음악을 굉장히 다르다고 생각했거든요.\n"
     ]
    },
    {
     "name": "stderr",
     "output_type": "stream",
     "text": [
      "\r",
      " 85%|████████▌ | 85/100 [01:25<00:08,  1.71it/s]"
     ]
    },
    {
     "name": "stdout",
     "output_type": "stream",
     "text": [
      "🔹 Predicted: 그 때에 비당을 짓는 듯한 국정의 조소가 들이는 듯하여 그는 넓이 너리를 시켰다.\n",
      "🔸 Reference: 그때에 비단을 찢는 듯한 옥점의 조소가 들리는 듯하여 그는 얼핏 머리를 숙였다.\n"
     ]
    },
    {
     "name": "stderr",
     "output_type": "stream",
     "text": [
      "\r",
      " 86%|████████▌ | 86/100 [01:26<00:08,  1.65it/s]"
     ]
    },
    {
     "name": "stdout",
     "output_type": "stream",
     "text": [
      "🔹 Predicted: 允기인지 선비가 옮는 펠모은 간번에 따라 옮은 회였던 것이다.\n",
      "🔸 Reference: 웬일인지 선비가 울면 할멈은 번번이 따라 울곤 하였던 것이다.\n"
     ]
    },
    {
     "name": "stderr",
     "output_type": "stream",
     "text": [
      "\r",
      " 87%|████████▋ | 87/100 [01:27<00:08,  1.56it/s]"
     ]
    },
    {
     "name": "stdout",
     "output_type": "stream",
     "text": [
      "🔹 Predicted: 여여기 그니점 한기식 사시간 내에 열툰이 안하니까 필요한 게 있으면 기기 사다세요.\n",
      "🔸 Reference: 여기 편의점은 이십사시간 내내 열지는 않으니까, 필요한 게 있으면 미리 사두세요.\n"
     ]
    },
    {
     "name": "stderr",
     "output_type": "stream",
     "text": [
      "\r",
      " 88%|████████▊ | 88/100 [01:27<00:07,  1.61it/s]"
     ]
    },
    {
     "name": "stdout",
     "output_type": "stream",
     "text": [
      "🔹 Predicted: 화고우청하는 춘우의 얼굴을 한참인아는 그람을 들여다 봤다.\n",
      "🔸 Reference: 하고 창하는 춘우의 얼굴을 한참이나 물끄러미 들여다보았다.\n"
     ]
    },
    {
     "name": "stderr",
     "output_type": "stream",
     "text": [
      "\r",
      " 89%|████████▉ | 89/100 [01:28<00:06,  1.79it/s]"
     ]
    },
    {
     "name": "stdout",
     "output_type": "stream",
     "text": [
      "🔹 Predicted: 라 동생이 정장 오원이를 탈만나보다\n",
      "🔸 Reference: 여동생이 점점 어머니를 닮았나 보다.\n"
     ]
    },
    {
     "name": "stderr",
     "output_type": "stream",
     "text": [
      "\r",
      " 90%|█████████ | 90/100 [01:28<00:05,  1.75it/s]"
     ]
    },
    {
     "name": "stdout",
     "output_type": "stream",
     "text": [
      "🔹 Predicted: 한금장에서는 룸산으로 가는 듯한 월급쟁이 들이 가득 들이 몰리였다.\n",
      "🔸 Reference: 황금정에서는 용산으로 가는 듯한 월급쟁이들이 가득 들이몰리었다.\n"
     ]
    },
    {
     "name": "stderr",
     "output_type": "stream",
     "text": [
      "\r",
      " 91%|█████████ | 91/100 [01:29<00:05,  1.79it/s]"
     ]
    },
    {
     "name": "stdout",
     "output_type": "stream",
     "text": [
      "🔹 Predicted: 이가시이 좋은 새 오살충 배태한 은서는 사였던다.\n",
      "🔸 Reference: 이것이 이 좋은 새 옷을 준 데 대한 흥선의 인사였다.\n"
     ]
    },
    {
     "name": "stderr",
     "output_type": "stream",
     "text": [
      "\r",
      " 92%|█████████▏| 92/100 [01:29<00:04,  1.84it/s]"
     ]
    },
    {
     "name": "stdout",
     "output_type": "stream",
     "text": [
      "🔹 Predicted: 뭐가 이 사람이 서당을 아는 일에 우기 중 하나가 책에 왔습니다.\n",
      "🔸 Reference: 보라 이 사람이 선악을 아는 일에 우리 중 하나 같이 되었으니\n"
     ]
    },
    {
     "name": "stderr",
     "output_type": "stream",
     "text": [
      "\r",
      " 93%|█████████▎| 93/100 [01:30<00:03,  2.12it/s]"
     ]
    },
    {
     "name": "stdout",
     "output_type": "stream",
     "text": [
      "🔹 Predicted: 자, 여기도 어떤 상점이 있다시다.\n",
      "🔸 Reference: 자, 여기 어떤 상점이 있다 합시다.\n"
     ]
    },
    {
     "name": "stderr",
     "output_type": "stream",
     "text": [
      "\r",
      " 94%|█████████▍| 94/100 [01:30<00:02,  2.07it/s]"
     ]
    },
    {
     "name": "stdout",
     "output_type": "stream",
     "text": [
      "🔹 Predicted: 그 때에는 경찰서에서 오는 받던 생각을 하고 소름이 죽기찼다.\n",
      "🔸 Reference: 그때 그는 경찰서에서 고문받던 생각을 하고 소름이 쭉 끼쳤다.\n"
     ]
    },
    {
     "name": "stderr",
     "output_type": "stream",
     "text": [
      "\r",
      " 95%|█████████▌| 95/100 [01:31<00:02,  1.94it/s]"
     ]
    },
    {
     "name": "stdout",
     "output_type": "stream",
     "text": [
      "🔹 Predicted: 에이프는 못들은 자고 있다가 하상이 또 우편에서 맡아보면 하였다.\n",
      "🔸 Reference: 일포는 못 들은 체하고 있다가 여전히 또 우벼 내서 맡아 보곤 하였다.\n"
     ]
    },
    {
     "name": "stderr",
     "output_type": "stream",
     "text": [
      "\r",
      " 96%|█████████▌| 96/100 [01:31<00:02,  1.84it/s]"
     ]
    },
    {
     "name": "stdout",
     "output_type": "stream",
     "text": [
      "🔹 Predicted:  자기의 마음을 자아지 아니하는 자는 송득이 무너지고 송격이 없는 것 같은이라\n",
      "🔸 Reference: 자기의 마음을 제어하지 아니하는 자는 성읍이 무너지고 성벽이 없는 것 같으니라\n"
     ]
    },
    {
     "name": "stderr",
     "output_type": "stream",
     "text": [
      "\r",
      " 97%|█████████▋| 97/100 [01:32<00:01,  1.83it/s]"
     ]
    },
    {
     "name": "stdout",
     "output_type": "stream",
     "text": [
      "🔹 Predicted: 그에 가슴 낸는 또다시 그의 신 목치가 옥스러울 나은다.\n",
      "🔸 Reference: 그의 가슴에는 또다시 그 실뭉치가 욱 쓸어 올라온다.\n"
     ]
    },
    {
     "name": "stderr",
     "output_type": "stream",
     "text": [
      "\r",
      " 98%|█████████▊| 98/100 [01:32<00:00,  2.20it/s]"
     ]
    },
    {
     "name": "stdout",
     "output_type": "stream",
     "text": [
      "🔹 Predicted: クラウスコスター\n",
      "🔸 Reference: 그럴 것이다.\n"
     ]
    },
    {
     "name": "stderr",
     "output_type": "stream",
     "text": [
      "\r",
      " 99%|█████████▉| 99/100 [01:33<00:00,  1.92it/s]"
     ]
    },
    {
     "name": "stdout",
     "output_type": "stream",
     "text": [
      "🔹 Predicted: 간난이가 몸을 쇼퍼려고 눈치 나는 바람에 손기가 퍽퍽히 가졌다.\n",
      "🔸 Reference: 간난이가 몸을 솟구려고 움찔하는 바람에 선비가 푹 거꾸러졌다.\n"
     ]
    },
    {
     "name": "stderr",
     "output_type": "stream",
     "text": [
      "100%|██████████| 100/100 [01:34<00:00,  1.06it/s]"
     ]
    },
    {
     "name": "stdout",
     "output_type": "stream",
     "text": [
      "🔹 Predicted:  김포가 석경 살관여 물을 가벼을 채 흥민는 여호와 흥믿어\n",
      "🔸 Reference: 빈부가 섞여 살거니와 무릇 그들을 지으신 이는 여호와시니라\n",
      "✅ KO WER: 0.9497\n",
      "🌍 Language: en\n"
     ]
    },
    {
     "name": "stderr",
     "output_type": "stream",
     "text": [
      "\n",
      "  1%|          | 1/100 [00:08<13:39,  8.28s/it]"
     ]
    },
    {
     "name": "stdout",
     "output_type": "stream",
     "text": [
      "🔹 Predicted: Again, shu, fos, hos, kuditik, ndi shu, hwai, ndi ndi ndi ndi ndi ndi ndi ndi ndi ndi ndi ndi ndi ndi ndi ndi ndi ndi ndi ndi ndi ndi ndi ndi ndi ndi ndi ndi ndi ndi ndi ndi ndi ndi ndi ndi ndi ndi ndi ndi ndi ndi ndi ndi ndi ndi ndi ndi ndi ndi ndi ndi ndi ndi ndi ndi ndi ndi ndi ndi ndi ndi ndi ndi ndi ndi ndi ndi ndi ndi ndi ndi ndi ndi ndi ndi ndi ndi ndi ndi ndi ndi ndi ndi ndi ndi ndi ndi ndi ndi ndi ndi ndi ndi ndi ndi ndi ndi ndi ndi ndi ndi ndi ndi ndi ndi ndi ndi ndi ndi ndi ndi ndi ndi ndi ndi ndi ndi ndi ndi ndi ndi ndi ndi ndi ndi ndi ndi ndi ndi ndi ndi ndi ndi ndi ndi ndi ndi nd\n",
      "🔸 Reference: Again, small fast craft could attack and destroy a major warship.\n"
     ]
    },
    {
     "name": "stderr",
     "output_type": "stream",
     "text": [
      "\r",
      "  2%|▏         | 2/100 [00:09<06:18,  3.87s/it]"
     ]
    },
    {
     "name": "stdout",
     "output_type": "stream",
     "text": [
      "🔹 Predicted: 몇 시 컬렉틀 한소 렉틀 카렌즈와 에륙이 보안 마이콜 마스뮈다그\n",
      "🔸 Reference: Both the Collected and Selected Poems were edited by Michael Rothenberg.\n"
     ]
    },
    {
     "name": "stderr",
     "output_type": "stream",
     "text": [
      "\r",
      "  3%|▎         | 3/100 [00:09<03:38,  2.25s/it]"
     ]
    },
    {
     "name": "stdout",
     "output_type": "stream",
     "text": [
      "🔹 Predicted: The residence moved a higher ground east of the original site.\n",
      "🔸 Reference: The residents moved to higher ground east of the original site.\n"
     ]
    },
    {
     "name": "stderr",
     "output_type": "stream",
     "text": [
      "\r",
      "  4%|▍         | 4/100 [00:09<02:28,  1.55s/it]"
     ]
    },
    {
     "name": "stdout",
     "output_type": "stream",
     "text": [
      "🔹 Predicted: Wí nígen áin dírgól sátsnára.\n",
      "🔸 Reference: We need an end of all such matter.\n"
     ]
    },
    {
     "name": "stderr",
     "output_type": "stream",
     "text": [
      "\r",
      "  5%|▌         | 5/100 [00:10<01:44,  1.10s/it]"
     ]
    },
    {
     "name": "stdout",
     "output_type": "stream",
     "text": [
      "🔹 Predicted: British was born and raised in Ghana.\n",
      "🔸 Reference: Bridget was born and raised in Ghana.\n"
     ]
    },
    {
     "name": "stderr",
     "output_type": "stream",
     "text": [
      "\r",
      "  6%|▌         | 6/100 [00:10<01:22,  1.14it/s]"
     ]
    },
    {
     "name": "stdout",
     "output_type": "stream",
     "text": [
      "🔹 Predicted: The crash is the devil's aviation disaster in both parts, country and a purely history.\n",
      "🔸 Reference: The crash is the deadliest aviation disaster in both Basque Country and Iberia history.\n"
     ]
    },
    {
     "name": "stderr",
     "output_type": "stream",
     "text": [
      "\r",
      "  7%|▋         | 7/100 [00:10<01:04,  1.45it/s]"
     ]
    },
    {
     "name": "stdout",
     "output_type": "stream",
     "text": [
      "🔹 Predicted: The pitch roof is quiet and veery at house.\n",
      "🔸 Reference: The pitched roof is clad in red tiles.\n"
     ]
    },
    {
     "name": "stderr",
     "output_type": "stream",
     "text": [
      "\r",
      "  8%|▊         | 8/100 [00:11<00:58,  1.57it/s]"
     ]
    },
    {
     "name": "stdout",
     "output_type": "stream",
     "text": [
      "🔹 Predicted: Skewjapow would be southeast down the valley of South Poplar and to Greysburg.\n",
      "🔸 Reference: Ski Gap Road leads southeast down the valley of South Poplar Run to Claysburg.\n"
     ]
    },
    {
     "name": "stderr",
     "output_type": "stream",
     "text": [
      "\r",
      "  9%|▉         | 9/100 [00:11<00:50,  1.79it/s]"
     ]
    },
    {
     "name": "stdout",
     "output_type": "stream",
     "text": [
      "🔹 Predicted: Egyptian archaeology is one of the branches of Asian Egyptology.\n",
      "🔸 Reference: Egyptian archeology is one of the branches of Egyptology.\n"
     ]
    },
    {
     "name": "stderr",
     "output_type": "stream",
     "text": [
      "\r",
      " 10%|█         | 10/100 [00:12<00:46,  1.93it/s]"
     ]
    },
    {
     "name": "stdout",
     "output_type": "stream",
     "text": [
      "🔹 Predicted: It is often known as \"A.O.Cammie and Wilt\".\n",
      "🔸 Reference: It is also known as Bayo Canyon Road.\n"
     ]
    },
    {
     "name": "stderr",
     "output_type": "stream",
     "text": [
      "\r",
      " 11%|█         | 11/100 [00:12<00:45,  1.97it/s]"
     ]
    },
    {
     "name": "stdout",
     "output_type": "stream",
     "text": [
      "🔹 Predicted: Other similar explanations include \"showering river\" and a \"wild\" origin process.\n",
      "🔸 Reference: Other similar explanations include \"shoally river\", and \"a rock ledge across a stream\".\n"
     ]
    },
    {
     "name": "stderr",
     "output_type": "stream",
     "text": [
      "\r",
      " 12%|█▏        | 12/100 [00:13<00:50,  1.73it/s]"
     ]
    },
    {
     "name": "stdout",
     "output_type": "stream",
     "text": [
      "🔹 Predicted: Bóf ansao bwf yha Chaiwyn Chwespaen dynuqspecku chawis chawins.\n",
      "🔸 Reference: Both ensembles wear highland dress patterned in their respective service tartans.\n"
     ]
    },
    {
     "name": "stderr",
     "output_type": "stream",
     "text": [
      "\r",
      " 13%|█▎        | 13/100 [00:13<00:44,  1.94it/s]"
     ]
    },
    {
     "name": "stdout",
     "output_type": "stream",
     "text": [
      "🔹 Predicted: Other pharyngeal shape is chest pieces and geometric shapes.\n",
      "🔸 Reference: Other frames are shaped as chess pieces and geometric shapes.\n"
     ]
    },
    {
     "name": "stderr",
     "output_type": "stream",
     "text": [
      "\r",
      " 14%|█▍        | 14/100 [00:14<00:43,  2.00it/s]"
     ]
    },
    {
     "name": "stdout",
     "output_type": "stream",
     "text": [
      "🔹 Predicted: Au hózik sklíbalehwán agri fawt.\n",
      "🔸 Reference: I wanted to sleep a little longer, he thought.\n"
     ]
    },
    {
     "name": "stderr",
     "output_type": "stream",
     "text": [
      "\r",
      " 15%|█▌        | 15/100 [00:22<03:53,  2.75s/it]"
     ]
    },
    {
     "name": "stdout",
     "output_type": "stream",
     "text": [
      "🔹 Predicted: 捕捉党党党党党党党党党党党党党党党党党党党党党党党党党党党党党党党党党党党党党党党党党党党党党党党党党党党党党党党党党党党党党党党党党党党党党党党党党党党党党党党党党党党党党党党党党党党党党党党党党党党党党党党党党党党党党党党党党党党党党党党党党党党党党党党党党党党党党党党党党党党党党党党党党党党党党党党党党党党党党党党党党党党党党党党党党党党党党党党党党党党党党党党党党党党党党党党党党党党党党党党党党党党党党党党党党党党党党党党党党党党党\n",
      "🔸 Reference: The people with programs are seated in a very large, elegant room.\n"
     ]
    },
    {
     "name": "stderr",
     "output_type": "stream",
     "text": [
      "\r",
      " 16%|█▌        | 16/100 [00:22<02:49,  2.02s/it]"
     ]
    },
    {
     "name": "stdout",
     "output_type": "stream",
     "text": [
      "🔹 Predicted: Amen is Gryndal to his birth-care.\n",
      "🔸 Reference: A man is grilling out in his backyard.\n"
     ]
    },
    {
     "name": "stderr",
     "output_type": "stream",
     "text": [
      "\r",
      " 17%|█▋        | 17/100 [00:30<05:17,  3.82s/it]"
     ]
    },
    {
     "name": "stdout",
     "output_type": "stream",
     "text": [
      "🔹 Predicted: Alihahti plan ڡ독이 스테이킴다, fethihean wailin ڡ독이 스테이킴다, fethihean wailin ڡ독이 스테이킴다, fethihean wailin ڡ독이 스테이킴다, fethihean wailin ڡ독이 스테이킴다, fethihean wailin ڡ독이 스테이킴다, fethihean wailin ڡ독이 스테이킴다, fethihean wailin ڡ독이 스테이킴다, fethihean wailin ڡ독이 스테이킴다, fethihean wailin ڡ독이 스테이킴다, fethihean wailin ڡ독이 스테이킴다, fethihean wailin ڡ독이 스테이킴다, fethihean wailin ڡ독이 스테이킴다, fethihean wailin ڡ독이 스테이킴다, fethihean wailin ڡ독이 스테이킴다, fethihean wailin ڡ독이 스테이킴다, fethihean wailin ڡ독이 스테이킴다, fethihean wailin ڡ독이 스테이킴다, fethihean wailin ڡ독이 스테�다, fethihean wailin ڡ독이 스텙독이 스텙다, fethihean\n",
      "🔸 Reference: A large black dog is catching a Frisbee while a large brown dog follows shortly after.\n"
     ]
    },
    {
     "name": "stderr",
     "output_type": "stream",
     "text": [
      "\r",
      " 18%|█▊        | 18/100 [00:31<03:52,  2.83s/it]"
     ]
    },
    {
     "name": "stdout",
     "output_type": "stream",
     "text": [
      "🔹 Predicted: Akik eraskemi shinshwiaf bohwiaf nesisun.\n",
      "🔸 Reference: Arctic rescue missions were mounted as necessary.\n"
     ]
    },
    {
     "name": "stderr",
     "output_type": "stream",
     "text": [
      "\r",
      " 19%|█▉        | 19/100 [00:31<02:49,  2.10s/it]"
     ]
    },
    {
     "name": "stdout",
     "output_type": "stream",
     "text": [
      "🔹 Predicted: Carpdaptser raises some pleaded or indented decision.\n",
      "🔸 Reference: Carter said racism played a part in the decision.\n"
     ]
    },
    {
     "name": "stderr",
     "output_type": "stream",
     "text": [
      "\r",
      " 20%|██        | 20/100 [00:31<02:07,  1.59s/it]"
     ]
    },
    {
     "name": "stdout",
     "output_type": "stream",
     "text": [
      "🔹 Predicted: Its warg order is the depigim subject of jitwyr.\n",
      "🔸 Reference: Its word order is the typical subject-object-verb.\n"
     ]
    },
    {
     "name": "stderr",
     "output_type": "stream",
     "text": [
      "\r",
      " 21%|██        | 21/100 [00:32<01:45,  1.33s/it]"
     ]
    },
    {
     "name": "stdout",
     "output_type": "stream",
     "text": [
      "🔹 Predicted:  Un, ko mani spēlfār, ka viņi stolimāri, es esmu liptu ar fīstā.\n",
      "🔸 Reference: Gwen commits herself to restoring her relationship with her sister.\n"
     ]
    },
    {
     "name": "stderr",
     "output_type": "stream",
     "text": [
      "\r",
      " 22%|██▏       | 22/100 [00:33<01:27,  1.12s/it]"
     ]
    },
    {
     "name": "stdout",
     "output_type": "stream",
     "text": [
      "🔹 Predicted: Tu kviči viņi vajus, vai parši maģinu no vādā.\n",
      "🔸 Reference: To which he replies: I thought she was your mother!\n"
     ]
    },
    {
     "name": "stderr",
     "output_type": "stream",
     "text": [
      "\r",
      " 23%|██▎       | 23/100 [00:33<01:14,  1.04it/s]"
     ]
    },
    {
     "name": "stdout",
     "output_type": "stream",
     "text": [
      "🔹 Predicted: Mēta, bet mājķinu, ka ir mērvājķinu mē.\n",
      "🔸 Reference: Later that night Jill is kidnapped by gill men.\n"
     ]
    },
    {
     "name": "stderr",
     "output_type": "stream",
     "text": [
      "\r",
      " 24%|██▍       | 24/100 [00:34<01:00,  1.26it/s]"
     ]
    },
    {
     "name": "stdout",
     "output_type": "stream",
     "text": [
      "🔹 Predicted:  Emty Warrants mê dhe môst nois.\n",
      "🔸 Reference: Empty barrels make the most noise.\n"
     ]
    },
    {
     "name": "stderr",
     "output_type": "stream",
     "text": [
      "\r",
      " 25%|██▌       | 25/100 [00:34<00:49,  1.50it/s]"
     ]
    },
    {
     "name": "stdout",
     "output_type": "stream",
     "text": [
      "🔹 Predicted: When the carpet and the curtains caught fire, it was getting warm.\n",
      "🔸 Reference: When the carpet and the curtains caught fire, it was getting warm.\n"
     ]
    },
    {
     "name": "stderr",
     "output_type": "stream",
     "text": [
      "\r",
      " 26%|██▌       | 26/100 [00:35<00:43,  1.71it/s]"
     ]
    },
    {
     "name": "stdout",
     "output_type": "stream",
     "text": [
      "🔹 Predicted: Dumbo, where the Asian band also is located, is nearby.\n",
      "🔸 Reference: Bampur, where the ancient Bampur fort is located, is nearby.\n"
     ]
    },
    {
     "name": "stderr",
     "output_type": "stream",
     "text": [
      "\r",
      " 27%|██▋       | 27/100 [00:35<00:45,  1.62it/s]"
     ]
    },
    {
     "name": "stdout",
     "output_type": "stream",
     "text": [
      "🔹 Predicted: The term \"Otterhoog\" in Japan is still referred to as the \"Denifarated\" of \"Balberstahl\".\n",
      "🔸 Reference: The term \"odango\" in Japanese can refer to any variety of bun hairstyle.\n"
     ]
    },
    {
     "name": "stderr",
     "output_type": "stream",
     "text": [
      "\r",
      " 28%|██▊       | 28/100 [00:36<00:38,  1.88it/s]"
     ]
    },
    {
     "name": "stdout",
     "output_type": "stream",
     "text": [
      "🔹 Predicted: The American Seattle Hall of Fame is located in the lobby.\n",
      "🔸 Reference: The American Theatre Hall of Fame is located in the lobby.\n"
     ]
    },
    {
     "name": "stderr",
     "output_type": "stream",
     "text": [
      "\r",
      " 29%|██▉       | 29/100 [00:36<00:34,  2.07it/s]"
     ]
    },
    {
     "name": "stdout",
     "output_type": "stream",
     "text": [
      "🔹 Predicted: Hagawan 双方来做这些事。\n",
      "🔸 Reference: I've always wanted to do this!\n"
     ]
    },
    {
     "name": "stderr",
     "output_type": "stream",
     "text": [
      "\r",
      " 30%|███       | 30/100 [00:36<00:33,  2.07it/s]"
     ]
    },
    {
     "name": "stdout",
     "output_type": "stream",
     "text": [
      "🔹 Predicted: 한가를 가진 그의 주인、 가수의 여의 윈주인\n",
      "🔸 Reference: Her opponent is Councilor Irwin Tieng.\n"
     ]
    },
    {
     "name": "stderr",
     "output_type": "stream",
     "text": [
      "\r",
      " 31%|███       | 31/100 [00:44<03:09,  2.74s/it]"
     ]
    },
    {
     "name": "stdout",
     "output_type": "stream",
     "text": [
      "🔹 Predicted: 아버지에다시, 슈아는 말과 비하우, 가마지니, 뱃이 사이니, 말과 말과 말과 말과 말과 말과 말과 말과 말과 말과 말과 말과 말과 말과 말과 말과 말과 말과 말과 말과 말과 말과 말과 말과 말과 말과 말과 말과 말과 말과 말과 말과 말과 말과 말과 말과 말과 말과 말과 말과 말과 말과 말과 말과 말과 말과 말과 말과 말과 말과 말과 말과 말과 말과 말과 말과 말과 말과 말과 말과 말과 말과 말과 말과 말과 말과 말과 말과 말과 말과 말과 말과 말과 말과 말과 말과 말과 말과 말과 말과 말과 말과 말과 말과 말과 말과 말과 말과 말과 말과 말과 말과 말과 말과 말과 말과 말과 말과 말과 말과 말과 말과 말과 말과 말과 말과 말과 말과 말과 말과 말과 말과 말과 말과 말과 말과 말과 말과 말과 말과 말과 말과 말과 말과 말과 말과 말과 말과 말과 말과 말과 말과 말과 말과 말과 말과 말과 말과 말과 말과 말과 말과 말과 말과 말과 말과 말과 말과 말과 말과 말과 말과 말과 말과 말과 말과 말과 말과 말과 말과 말과 말과 말과 말과 말과 말과 말과 말과 말과 말과 말과 말과 말과 말과 말과 말과 말과 말과 말과 말과 말과 말과 말과 말과 말과 말과 말과 말과 말과 말과 말과 말과 말과 말과 말과 말과 말과 말과 말과 말과 말과 말과 말과 말과 말과 말과 말\n",
      "🔸 Reference: Her work considers soil microbial ecology and the study of mycorrhizal fungi.\n"
     ]
    },
    {
     "name": "stderr",
     "output_type": "stream",
     "text": [
      "\r",
      " 32%|███▏      | 32/100 [00:52<04:54,  4.32s/it]"
     ]
    },
    {
     "name": "stdout",
     "output_type": "stream",
     "text": [
      "🔹 Predicted: Wit yas xtitibresus xtitibresus xtitibresus xtitibresus xtitibresus xtitibresus xtitibresus xtitibresus xtitibresus xtitibresus xtitibresus xtitibresus xtitibresus xtitibresus xtitibresus xtitibresus xtitibresus xtitibresus xtitibresus xtitibresus xtitibresus xtitibresus xtitibresus xtitibresus xtitibresus xtitibresus xtitibresus xtitibresus xtitibresus xtitibresus xtitibresus xtitibresus xtitibresus xtitibresus xtitibresus xtitibresus xtitibresus xtitibresus xtitibresus xtitibresus xtitibresus xtitibresus xtitibresus xtitibresus xtitibresus xtitibresus xtitibresus xtitibresus xtitibresus xtitibresus xtitibresus xtitibresus xtitibresus xtitibresus xtitibresus xtitibresus xtitibresus xtitibresus xtitibresus xtitibresus xtitibresus xtitibresus xtitibresus xtitibresus xtitibresus xtitibresus xtitibresus xtitibresusxtitibresus xtitibresusxtitibresus xtitibresusxtitibresusxtitibresus\n",
      "🔸 Reference: He is \"City Press\"s chief correspondent in Mpumalanga.\n"
     ]
    },
    {
     "name": "stderr",
     "output_type": "stream",
     "text": [
      "\r",
      " 33%|███▎      | 33/100 [01:00<06:03,  5.43s/it]"
     ]
    },
    {
     "name": "stdout",
     "output_type": "stream",
     "text": [
      "🔹 Predicted: Malish Dessolist 双県県県県県県県県県県県県県県県県県県県県県県県県県県県県県県県県県県県県県県県県県県県県県県県県県県県県県県県県県県県県県県県県������������������������������������������������������������������������������������������������������������������������������������������������������������������������������������������������������������������������������������������������������������������������������������������������������������������\n",
      "🔸 Reference: English dismissed these claims as being false.\n"
     ]
    },
    {
     "name": "stderr",
     "output_type": "stream",
     "text": [
      "\r",
      " 34%|███▍      | 34/100 [01:01<04:23,  3.99s/it]"
     ]
    },
    {
     "name": "stdout",
     "output_type": "stream",
     "text": [
      "🔹 Predicted: Aqwes mellis vestiaik unibitir the reaches of the member of the modern world of ficsins.\n",
      "🔸 Reference: Acquires Mase Westpac Limited, which is a member of the London Gold Fixing.\n"
     ]
    },
    {
     "name": "stderr",
     "output_type": "stream",
     "text": [
      "\r",
      " 35%|███▌      | 35/100 [01:02<03:10,  2.93s/it]"
     ]
    },
    {
     "name": "stdout",
     "output_type": "stream",
     "text": [
      "🔹 Predicted: The decades it was the cognizable by the way to where the white snake found the building itself.\n",
      "🔸 Reference: For decades it was recognizable by the white, ladder-like snake on the building's roof.\n"
     ]
    },
    {
     "name": "stderr",
     "output_type": "stream",
     "text": [
      "\r",
      " 36%|███▌      | 36/100 [01:02<02:21,  2.21s/it]"
     ]
    },
    {
     "name": "stdout",
     "output_type": "stream",
     "text": [
      "🔹 Predicted:  Amortis, dekārm, darpārīt stuodkģest.\n",
      "🔸 Reference: A mold is the counterpart to a cast.\n"
     ]
    },
    {
     "name": "stderr",
     "output_type": "stream",
     "text": [
      "\r",
      " 37%|███▋      | 37/100 [01:02<01:43,  1.64s/it]"
     ]
    },
    {
     "name": "stdout",
     "output_type": "stream",
     "text": [
      "🔹 Predicted: 静岡村県一町道\n",
      "🔸 Reference: He also enjoys judo.\n"
     ]
    },
    {
     "name": "stderr",
     "output_type": "stream",
     "text": [
      "\r",
      " 38%|███▊      | 38/100 [01:03<01:23,  1.35s/it]"
     ]
    },
    {
     "name": "stdout",
     "output_type": "stream",
     "text": [
      "🔹 Predicted: 옳 액기 러디 유니츠, 워드 간 슬라이프, 온덜 헤넥.\n",
      "🔸 Reference: All artillery units wear the \"Gun Sight\" on their helmets.\n"
     ]
    },
    {
     "name": "stderr",
     "output_type": "stream",
     "text": [
      "\r",
      " 39%|███▉      | 39/100 [01:04<01:08,  1.13s/it]"
     ]
    },
    {
     "name": "stdout",
     "output_type": "stream",
     "text": [
      "🔹 Predicted: Au wittnokri kamanpibishin dheakikil wizongi dheakasit.\n",
      "🔸 Reference: I would not recommend publishing the article without the dataset.\n"
     ]
    },
    {
     "name": "stderr",
     "output_type": "stream",
     "text": [
      "\r",
      " 40%|████      | 40/100 [01:04<00:52,  1.14it/s]"
     ]
    },
    {
     "name": "stdout",
     "output_type": "stream",
     "text": [
      "🔹 Predicted: Waqtibolni ę?\n",
      "🔸 Reference: What's the idea here?\n"
     ]
    },
    {
     "name": "stderr",
     "output_type": "stream",
     "text": [
      "\r",
      " 41%|████      | 41/100 [01:04<00:42,  1.38it/s]"
     ]
    },
    {
     "name": "stdout",
     "output_type": "stream",
     "text": [
      "🔹 Predicted:  Jau kādāt blanti jau mani.\n",
      "🔸 Reference: You got plenty of money?\n"
     ]
    },
    {
     "name": "stderr",
     "output_type": "stream",
     "text": [
      "\r",
      " 42%|████▏     | 42/100 [01:05<00:33,  1.72it/s]"
     ]
    },
    {
     "name": "stdout",
     "output_type": "stream",
     "text": [
      "🔹 Predicted: There was no fighting against fate.\n",
      "🔸 Reference: There is no fighting against fate\n"
     ]
    },
    {
     "name": "stderr",
     "output_type": "stream",
     "text": [
      "\r",
      " 43%|████▎     | 43/100 [01:05<00:27,  2.10it/s]"
     ]
    },
    {
     "name": "stdout",
     "output_type": "stream",
     "text": [
      "🔹 Predicted: Nothing is the matter with me.\n",
      "🔸 Reference: Nothing's the matter with me.\n"
     ]
    },
    {
     "name": "stderr",
     "output_type": "stream",
     "text": [
      "\r",
      " 44%|████▍     | 44/100 [01:05<00:26,  2.08it/s]"
     ]
    },
    {
     "name": "stdout",
     "output_type": "stream",
     "text": [
      "🔹 Predicted: The girls was in Banoz's and Heli Schastronian Spanish situation during the war.\n",
      "🔸 Reference: Not that I was listening, but I noticed that you sounded really stressed when you were explaining the situation to him.\n"
     ]
    },
    {
     "name": "stderr",
     "output_type": "stream",
     "text": [
      "\r",
      " 45%|████▌     | 45/100 [01:06<00:23,  2.39it/s]"
     ]
    },
    {
     "name": "stdout",
     "output_type": "stream",
     "text": [
      "🔹 Predicted: And I want his human as my space.\n",
      "🔸 Reference: I want it as soon as possible.\n"
     ]
    },
    {
     "name": "stderr",
     "output_type": "stream",
     "text": [
      "\r",
      " 46%|████▌     | 46/100 [01:14<02:25,  2.69s/it]"
     ]
    },
    {
     "name": "stdout",
     "output_type": "stream",
     "text": [
      "🔹 Predicted: Wikaiwakiris twikwari jyifta aniswakwari,wikfiltwakwari,wikwari,wikwari,wikwari,wikwari,wikwari,wikwari,wikwari,wikwari,wikwari,wikwari,wikwari,wikwari,wikwari,wikwari,wikwari,wikwari,wikwari,wikwari,wikwari,wikwari,wikwari,wikwari,wikwari,wikwari,wikwari,wikwari,wikwari,wikwari,wikwari,wikwari,wikwari,wikwari,wikwari,wikwari,wikwari,wikwari,wikwari,wikwari,wikwari,wikwari,wikwari,wikwari,wikwari,wikwari,wikwari,wikwari,wikwari,wikwari,wikwari,wikwari,wikwari,wikwari,wikwari,wikwari,wikwari,wikwari,wikwari,wikwari,wikwari,wikwari,wikwari,wikwari,wikwari,wikwari,wikwari,wikwari,wikwari,wikwari,wikwari,wikwari,wikwari,wikwari,wikwari,wikwari,wikwari,wikwari,wikwari,wikwari,wikwari,wikwari,wikwari,wikwari,wik\n",
      "🔸 Reference: You can reduce the quality of the anisotropic filter to gain some performance.\n"
     ]
    },
    {
     "name": "stderr",
     "output_type": "stream",
     "text": [
      "\r",
      " 47%|████▋     | 47/100 [01:14<01:52,  2.12s/it]"
     ]
    },
    {
     "name": "stdout",
     "output_type": "stream",
     "text": [
      "🔹 Predicted: Das Þigiris aftwagan d'unobos of his dafis to embo-chartis anwana-sheis.\n",
      "🔸 Reference: Desiderius persuaded the nobles of his diocese to endow churches and monasteries.\n"
     ]
    },
    {
     "name": "stderr",
     "output_type": "stream",
     "text": [
      "\r",
      " 48%|████▊     | 48/100 [01:15<01:24,  1.63s/it]"
     ]
    },
    {
     "name": "stdout",
     "output_type": "stream",
     "text": [
      "🔹 Predicted: Gudákan,dáha hia klámska hágmuskári.\n",
      "🔸 Reference: To that end, Talia claims to have miscarried.\n"
     ]
    },
    {
     "name": "stderr",
     "output_type": "stream",
     "text": [
      "\r",
      " 49%|████▉     | 49/100 [01:15<01:05,  1.29s/it]"
     ]
    },
    {
     "name": "stdout",
     "output_type": "stream",
     "text": [
      "🔹 Predicted: In Musicius the commission is called Musicius Popul Historia, as simply Musicius Historia.\n",
      "🔸 Reference: In musicians, the condition is called \"musician's focal dystonia\", or simply, \"musician's dystonia\".\n"
     ]
    },
    {
     "name": "stderr",
     "output_type": "stream",
     "text": [
      "\r",
      " 50%|█████     | 50/100 [01:16<00:49,  1.01it/s]"
     ]
    },
    {
     "name": "stdout",
     "output_type": "stream",
     "text": [
      "🔹 Predicted: He said that everything has its own destiny.\n",
      "🔸 Reference: He said that everything has its own destiny.\n"
     ]
    },
    {
     "name": "stderr",
     "output_type": "stream",
     "text": [
      "\r",
      " 51%|█████     | 51/100 [01:17<00:54,  1.12s/it]"
     ]
    },
    {
     "name": "stdout",
     "output_type": "stream",
     "text": [
      "🔹 Predicted: Aun nolik yun yun yun yun yun yun yun yun yun yun yun yun yun yun yun yun yun yun yun yun yun yun yun yun yun yun yun yun yun yun yun yun yun yun\n",
      "🔸 Reference: Whenever he saw the sea, or a fire, he fell silent, impressed by their elemental force.\n"
     ]
    },
    {
     "name": "stderr",
     "output_type": "stream",
     "text": [
      "\r",
      " 52%|█████▏    | 52/100 [01:17<00:44,  1.09it/s]"
     ]
    },
    {
     "name": "stdout",
     "output_type": "stream",
     "text": [
      "🔹 Predicted: Ihaitho went on to sporting more than choice again to south of the country.\n",
      "🔸 Reference: He later went on to score two more centuries against the South Africans.\n"
     ]
    },
    {
     "name": "stderr",
     "output_type": "stream",
     "text": [
      "\r",
      " 53%|█████▎    | 53/100 [01:18<00:40,  1.16it/s]"
     ]
    },
    {
     "name": "stdout",
     "output_type": "stream",
     "text": [
      "🔹 Predicted: Sosiria sohaiz evalwik fawgallia sydnfóns sydnfos pistimusurus.\n",
      "🔸 Reference: Plesiosauroids evolved from earlier, similar forms such as pistosaurs.\n"
     ]
    },
    {
     "name": "stderr",
     "output_type": "stream",
     "text": [
      "\r",
      " 54%|█████▍    | 54/100 [01:19<00:36,  1.25it/s]"
     ]
    },
    {
     "name": "stdout",
     "output_type": "stream",
     "text": [
      "🔹 Predicted: Hára zhaishan yáttirn yxtin ók fóllag yxtin bópahtin.\n",
      "🔸 Reference: However, certain reactants do not follow this simple pattern.\n"
     ]
    },
    {
     "name": "stderr",
     "output_type": "stream",
     "text": [
      "\r",
      " 55%|█████▌    | 55/100 [01:19<00:29,  1.54it/s]"
     ]
    },
    {
     "name": "stdout",
     "output_type": "stream",
     "text": [
      "🔹 Predicted: The toilet features four-eight-two regions.\n",
      "🔸 Reference: The tournament features four eight-team regions.\n"
     ]
    },
    {
     "name": "stderr",
     "output_type": "stream",
     "text": [
      "\r",
      " 56%|█████▌    | 56/100 [01:20<00:25,  1.72it/s]"
     ]
    },
    {
     "name": "stdout",
     "output_type": "stream",
     "text": [
      "🔹 Predicted: Shelter Campbell succeeded by younger British star, Brenzen and Astor.\n",
      "🔸 Reference: Sholto Campbell, succeeded by younger brothers still, Barrington and Archibald.\n"
     ]
    },
    {
     "name": "stderr",
     "output_type": "stream",
     "text": [
      "\r",
      " 57%|█████▋    | 57/100 [01:20<00:26,  1.63it/s]"
     ]
    },
    {
     "name": "stdout",
     "output_type": "stream",
     "text": [
      "🔹 Predicted: The story focuses on the history of the Thyrinus' wizard, Matthew Dordt, the Thyrinus' mother-in-law.\n",
      "🔸 Reference: The story focuses on the history of the villainous wizard Marten Broadcloak.\n"
     ]
    },
    {
     "name": "stderr",
     "output_type": "stream",
     "text": [
      "\r",
      " 58%|█████▊    | 58/100 [01:28<01:58,  2.83s/it]"
     ]
    },
    {
     "name": "stdout",
     "output_type": "stream",
     "text": [
      "🔹 Predicted: 놀고 이 놀고 롱롱이 낙이 롱이 낙이 롱이 낙이 롱이 낙이 롱이 낙이 롱이 낙이 롱이 롱이 롱이 롱이 롱이 롱이 롱이 롱이 롱이 롱이 롱이 롱이 롱이 롱이 롱이 롱이 롱이 롱이 롱이 롱이 롱이 롱이 롱이 롱이 롱이 롱이 롱이 롱이 롱이 롱이 롱이 롱이 롱이 롱이 롱이 롱이 롱이 롱이 롱이 롱이 롱이 롱이 롱이 롱이 롱이 롱이 롱이 롱이 롱이 롱이 롱이 롱이 롱이 롱이 롱이 롱이 롱이 롱이 롱이 롱이 롱이 롱이 롱이 롱이 롱이 롱이 롱이 롱이 롱이 롱이 롱이 롱이 롱이 롱이 롱이 롱이 롱이 롱이 롱이 롱이 롱이 롱이 롱이 롱이 롱이 롱이 롱이 롱이 롱이 롱이 롱이 롱이 롱이 롱이 롱이 롱이 롱이 롱\n",
      "🔸 Reference: Mosby mostly wrote for United Press International.\n"
     ]
    },
    {
     "name": "stderr",
     "output_type": "stream",
     "text": [
      "\r",
      " 59%|█████▉    | 59/100 [01:29<01:24,  2.06s/it]"
     ]
    },
    {
     "name": "stdout",
     "output_type": "stream",
     "text": [
      "🔹 Predicted: The facility is of Ayubanik.\n",
      "🔸 Reference: The facilities are very basic.\n"
     ]
    },
    {
     "name": "stderr",
     "output_type": "stream",
     "text": [
      "\r",
      " 60%|██████    | 60/100 [01:37<02:33,  3.84s/it]"
     ]
    },
    {
     "name": "stdout",
     "output_type": "stream",
     "text": [
      "🔹 Predicted: 디펜으로 아넥트는 억지로디스틴을 얻고 롤에 롤을 얻고 롤을 얻고 롤을 얻고 롤에 롤을 얻고 롤에 롤을 얻고 롤에 롤을 얻고 롤에 롤을 얻고 롤에 롤을 얻고 롤에 롤을 얻고 롤에 롤을 얻고 롤에 롤을 얻고 롤을 얻고 롤을 얻고 롤을 얻고 롤을 얻고 롤을 얻고 롤을 얻고 롤을 얻고 롤을 얻고 롤을 얻고 롤을 얻고 롤을 얻고 롤을 얻고 롤을 얻고 롤을 얻고 롤을 얻고 롤을 얻고 롤을 얻고 롤을 얻고 롤을 얻고 롤을 얻고 롤을 얻고 롤을 얻고 롤을 얻고 롤을 얻고 롤을 얻고 롤을 얻고 롤을 얻고 롤을 얻고 롤을 얻고 롤을 얻고 롤을 얻고 롤을 얻고 롤을 얻고 롤을 얻고 롤을 얻고 롤을 얻고 롤을 얻고 롤을 얻고 롤을 얻고 롤을 얻고 롤을 얻고 롤을 얻고 롤을 얻고 롤을 얻고\n",
      "🔸 Reference: The Federal Electoral Districts elect the federal Chamber of Deputies.\n"
     ]
    },
    {
     "name": "stderr",
     "output_type": "stream",
     "text": [
      "\r",
      " 61%|██████    | 61/100 [01:37<01:49,  2.82s/it]"
     ]
    },
    {
     "name": "stdout",
     "output_type": "stream",
     "text": [
      "🔹 Predicted: I then thought I was beginning to customize much, mostly because of my limited genre.\n",
      "🔸 Reference: I tend to avoid speaking to customers much, mostly because of my limited German.\n"
     ]
    },
    {
     "name": "stderr",
     "output_type": "stream",
     "text": [
      "\r",
      " 62%|██████▏   | 62/100 [01:38<01:21,  2.14s/it]"
     ]
    },
    {
     "name": "stdout",
     "output_type": "stream",
     "text": [
      "🔹 Predicted: Aq das Cinema-Hustitzaraktik fernstil in the annual International Istanbul Firmfestna.\n",
      "🔸 Reference: Atlas Cinema hosted selected films during the annual International Istanbul Film Festival.\n"
     ]
    },
    {
     "name": "stderr",
     "output_type": "stream",
     "text": [
      "\r",
      " 63%|██████▎   | 63/100 [01:38<00:59,  1.62s/it]"
     ]
    },
    {
     "name": "stdout",
     "output_type": "stream",
     "text": [
      "🔹 Predicted: The book covers several issues in the political and historical scenarios of the plan.\n",
      "🔸 Reference: The book covers several issues in the political and historical scenarios of Nepal.\n"
     ]
    },
    {
     "name": "stderr",
     "output_type": "stream",
     "text": [
      "\r",
      " 64%|██████▍   | 64/100 [01:38<00:44,  1.23s/it]"
     ]
    },
    {
     "name": "stdout",
     "output_type": "stream",
     "text": [
      "🔹 Predicted: The aging and memory-occupations of the snowman.\n",
      "🔸 Reference: Ageing and memory are key preoccupations of this novel.\n"
     ]
    },
    {
     "name": "stderr",
     "output_type": "stream",
     "text": [
      "\r",
      " 65%|██████▌   | 65/100 [01:39<00:34,  1.02it/s]"
     ]
    },
    {
     "name": "stdout",
     "output_type": "stream",
     "text": [
      "🔹 Predicted: Dófiai was anusfredi to cry with disappointment.\n",
      "🔸 Reference: Dorothy was almost ready to cry with disappointment.\n"
     ]
    },
    {
     "name": "stderr",
     "output_type": "stream",
     "text": [
      "\r",
      " 66%|██████▌   | 66/100 [01:39<00:28,  1.18it/s]"
     ]
    },
    {
     "name": "stdout",
     "output_type": "stream",
     "text": [
      "🔹 Predicted: Waachgaihtzeblans would have in the evening to have a farktive house.\n",
      "🔸 Reference: What guidelines will help in building cheaper, affordable houses?\n"
     ]
    },
    {
     "name": "stderr",
     "output_type": "stream",
     "text": [
      "\r",
      " 67%|██████▋   | 67/100 [01:40<00:23,  1.42it/s]"
     ]
    },
    {
     "name": "stdout",
     "output_type": "stream",
     "text": [
      "🔹 Predicted: 디아비다의 그의 루피티트는\n",
      "🔸 Reference: ‘Nearly there!’ the Queen repeated.\n"
     ]
    },
    {
     "name": "stderr",
     "output_type": "stream",
     "text": [
      "\r",
      " 68%|██████▊   | 68/100 [01:40<00:19,  1.64it/s]"
     ]
    },
    {
     "name": "stdout",
     "output_type": "stream",
     "text": [
      "🔹 Predicted: Ei kato nukids un ātmārta.\n",
      "🔸 Reference: A couple look at some artwork\n"
     ]
    },
    {
     "name": "stderr",
     "output_type": "stream",
     "text": [
      "\r",
      " 69%|██████▉   | 69/100 [01:40<00:17,  1.73it/s]"
     ]
    },
    {
     "name": "stdout",
     "output_type": "stream",
     "text": [
      "🔹 Predicted: Philipp was standing under the beam, watching the waves roll after wax and the splashes of spring.\n",
      "🔸 Reference: Philip was standing on the levee watching the waves roll off the rocks and the splashes of spume.\n"
     ]
    },
    {
     "name": "stderr",
     "output_type": "stream",
     "text": [
      "\r",
      " 70%|███████   | 70/100 [01:41<00:17,  1.76it/s]"
     ]
    },
    {
     "name": "stdout",
     "output_type": "stream",
     "text": [
      "🔹 Predicted: Ai shogunas naan waan bristas ane garlande terri in hoon.\n",
      "🔸 Reference: A shirtless man wearing bracelets and a garland carrying a pole\n"
     ]
    },
    {
     "name": "stderr",
     "output_type": "stream",
     "text": [
      "\r",
      " 71%|███████   | 71/100 [01:49<01:20,  2.79s/it]"
     ]
    },
    {
     "name": "stdout",
     "output_type": "stream",
     "text": [
      "🔹 Predicted: 몇몇몇몇몇몇몇몇몇몇몇몇몇몇몇몇몇몇몇몇몇몇몇몇몇몇몇몇몇몇몇몇몇몇몇몇몇몇몇몇몇몇몇몇몇몇몇몇몇몇몇몇몇몇몇몇몇몇몇몇몇몇몇몇몇몇몇몇몇몇몇몇몇몇몇몇몇몇몇몇몇몇몇몇몇몇몇몇몇몇몇몇몇몇몇몇몇몇몇몇몇몇몇몇몇몇몇몇몇몇몇몇몇몇몇몇몇몇몇몇몇몇몇몇몇몇몇몇몇몇몇몇몇몇몇몇몇몇몇몇몇몇몇몇몇몇몇몇\n",
      "🔸 Reference: The spot on the blotter was made by green ink.\n"
     ]
    },
    {
     "name": "stderr",
     "output_type": "stream",
     "text": [
      "\r",
      " 72%|███████▏  | 72/100 [01:49<00:58,  2.09s/it]"
     ]
    },
    {
     "name": "stdout",
     "output_type": "stream",
     "text": [
      "🔹 Predicted: As used in research, anabic symbols \"The Strange Wires of the Library\" printed.\n",
      "🔸 Reference: The years of research, the magic symbols, the strange words and the laboratory equipment...\n"
     ]
    },
    {
     "name": "stderr",
     "output_type": "stream",
     "text": [
      "\r",
      " 73%|███████▎  | 73/100 [01:50<00:41,  1.55s/it]"
     ]
    },
    {
     "name": "stdout",
     "output_type": "stream",
     "text": [
      "🔹 Predicted: Many children can work together and do both.\n",
      "🔸 Reference: Many children walk together on a dirt path.\n"
     ]
    },
    {
     "name": "stderr",
     "output_type": "stream",
     "text": [
      "\r",
      " 74%|███████▍  | 74/100 [01:51<00:34,  1.33s/it]"
     ]
    },
    {
     "name": "stdout",
     "output_type": "stream",
     "text": [
      "🔹 Predicted: Tolēdīs klīnu vālīn un negitaunu visk šītu, gan ištaimdu pasimās.\n",
      "🔸 Reference: Two ladies play the violin and the guitar on the street to entertain the passer byes.\n"
     ]
    },
    {
     "name": "stderr",
     "output_type": "stream",
     "text": [
      "\r",
      " 75%|███████▌  | 75/100 [01:51<00:28,  1.13s/it]"
     ]
    },
    {
     "name": "stdout",
     "output_type": "stream",
     "text": [
      "🔹 Predicted: He yan Dostinboi n'a lachshelt sydnxt n'a lachsbalusenlux.\n",
      "🔸 Reference: A young darkskinned boy in a large shirt sitting next to a large pile of sandals.\n"
     ]
    },
    {
     "name": "stderr",
     "output_type": "stream",
     "text": [
      "\r",
      " 76%|███████▌  | 76/100 [01:51<00:21,  1.14it/s]"
     ]
    },
    {
     "name": "stdout",
     "output_type": "stream",
     "text": [
      "🔹 Predicted: The students may work independently or properly with others.\n",
      "🔸 Reference: The student may work independently or collaborate with others.\n"
     ]
    },
    {
     "name": "stderr",
     "output_type": "stream",
     "text": [
      "\r",
      " 77%|███████▋  | 77/100 [01:52<00:16,  1.38it/s]"
     ]
    },
    {
     "name": "stdout",
     "output_type": "stream",
     "text": [
      "🔹 Predicted: He went on to complete his graduation while serving in the Indian State.\n",
      "🔸 Reference: He went on to complete his graduation while serving in the Indian Army.\n"
     ]
    },
    {
     "name": "stderr",
     "output_type": "stream",
     "text": [
      "\r",
      " 78%|███████▊  | 78/100 [01:53<00:16,  1.36it/s]"
     ]
    },
    {
     "name": "stdout",
     "output_type": "stream",
     "text": [
      "🔹 Predicted: 댁으로 꾸아삼쩍을 루이터시퍼를 마이크옥카운트에 든다.\n",
      "🔸 Reference: The group was under the leadership of Michael Collins.\n"
     ]
    },
    {
     "name": "stderr",
     "output_type": "stream",
     "text": [
      "\r",
      " 79%|███████▉  | 79/100 [01:53<00:13,  1.56it/s]"
     ]
    },
    {
     "name": "stdout",
     "output_type": "stream",
     "text": [
      "🔹 Predicted: The green lock in the other's birth and also does not mean the interest seat.\n",
      "🔸 Reference: The green lock in the address bar of your browser does NOT mean you can trust the site.\n"
     ]
    },
    {
     "name": "stderr",
     "output_type": "stream",
     "text": [
      "\r",
      " 80%|████████  | 80/100 [01:53<00:10,  1.90it/s]"
     ]
    },
    {
     "name": "stdout",
     "output_type": "stream",
     "text": [
      "🔹 Predicted: Wa yuostin champion.\n",
      "🔸 Reference: While you're still champion!\n"
     ]
    },
    {
     "name": "stderr",
     "output_type": "stream",
     "text": [
      "\r",
      " 81%|████████  | 81/100 [02:01<00:52,  2.76s/it]"
     ]
    },
    {
     "name": "stdout",
     "output_type": "stream",
     "text": [
      "🔹 Predicted: Aun y y y y y y y y y y y y y y y y y y y y y y y y y y y y y y y y y y y y y y y y y y y y y y y y y y y y y y y y y y y y y y y y y y y y y y y y y y y y y y y y y y y y y y y y y y y y y y y y y y y y y y y y y y y y y y y y y y y y y y y y y y y y y y y y y y y y y y y y y y y y y y y y y y y y y y y y y y y y y y y y y y y y y y y y y y y y y y y y y y y y y y y y y y y y y y y y y y y y y y y y y y y y y y y y y y y y y y y y y y y y y y y y y y y y y y y y y y y y y y y y y y y y y y y y y y y y y y y y y y y y y y y y y y y y y y y y y y y y y y y y y y y y y y y y y y y y y y y y y y y y y y y y y y y y y y y y y y y y y y y y y y y y y y y y y y y y y y y y y y y y y y y y y y y y y y y y y y y y y y y y y y y y y y y y y y y y y y y y y y y y y y y y y y y y y y y y y y y y y y y y y y y y y y y y y y y y y y y y y y y y y y y y y y y y y y y y y y y y y y y y y y\n",
      "🔸 Reference: If you just read the code, you'll miss out on why I made certain decisions.\n"
     ]
    },
    {
     "name": "stderr",
     "output_type": "stream",
     "text": [
      "\r",
      " 82%|████████▏ | 82/100 [02:02<00:38,  2.13s/it]"
     ]
    },
    {
     "name": "stdout",
     "output_type": "stream",
     "text": [
      "🔹 Predicted: Föyhafwaktsispo libe ísist eftarimuf, although aipiföakfum.\n",
      "🔸 Reference: Firefox is probably the easiest to get started with, although I prefer Chrome.\n"
     ]
    },
    {
     "name": "stderr",
     "output_type": "stream",
     "text": [
      "\r",
      " 83%|████████▎ | 83/100 [02:10<01:07,  3.95s/it]"
     ]
    },
    {
     "name": "stdout",
     "output_type": "stream",
     "text": [
      "🔹 Predicted: 壁的に、そこに、そこに、広島県の広島県の広島県の広島県の広島県の広島県の広島県の広島県の広島県の広島県の広島県の広島県の広島県の広島県の広島県の広島県の広島県の広島県の広島県の広島県の広島県の広島県の広島県の広島県の広島県の広島県の広島県の広島県の広島県の広島県の広島県の広島県の広島県の広島県の広島県の広島県の広島県の広島県の広島県の広島県の広島県の広島県の広島県の広島県の広島県の広島県の広島県の広島県の広島県の広島県の広島県の広島県の広島県の広島県の広島県の広島県の広島県の広島県の広島県の広島県の広島県県の広島県の広島県県の広島県県の広島県県の広島県県の広島県県の広島県県県の広島県県\n",
      "🔸 Reference: Thought there might be one left over.\n"
     ]
    },
    {
     "name": "stderr",
     "output_type": "stream",
     "text": [
      "\r",
      " 84%|████████▍ | 84/100 [02:11<00:47,  2.97s/it]"
     ]
    },
    {
     "name": "stdout",
     "output_type": "stream",
     "text": [
      "🔹 Predicted: Miav dhaf dhe's fran mwak sallanan wikwarao aizwokalistik.\n",
      "🔸 Reference: Minier asked his friend Mark Salomon to try out as vocalist.\n"
     ]
    },
    {
     "name": "stderr",
     "output_type": "stream",
     "text": [
      "\r",
      " 85%|████████▌ | 85/100 [02:19<01:07,  4.48s/it]"
     ]
    },
    {
     "name": "stdout",
     "output_type": "stream",
     "text": [
      "🔹 Predicted: 遍大陸的県市、市中県大陸的県大陸的県大陸的県大陸的県大陸的県大陸的県大陸的県大陸的県大陸的県大陸的県大陸的県大陸的県大陸的県大陸的県大陸的県大陸的県大陸的県大陸的県大陸的県大陸的県大陸的県大陸的県大陸的県大陸的県大陸的県大陸的県大陸的県大陸的県大陸的県大陸的県大陸的県大陸的県大陸的県大陸的県大陸的県大陸的県大陸的県大陸的県大陸的県大陸的県大陸的県大陸的県大陸的県大陸的県大陸的県大陸的県大陸的県大陸的県大陸的県大陸的県大陸的県大陸的県大陸的県大陸的県大陸的県大陸的県大陸的県大陸的県大陸的県大陸的県大陸的県大陸的県大陸的県大陸的県大陸的県大陸的県大陸的県大陸的県大陸的県大陸的県大陸的県大陸的\n",
      "🔸 Reference: Atlantic history studies the Atlantic World in the early modern period.\n"
     ]
    },
    {
     "name": "stderr",
     "output_type": "stream",
     "text": [
      "\r",
      " 86%|████████▌ | 86/100 [02:19<00:46,  3.29s/it]"
     ]
    },
    {
     "name": "stdout",
     "output_type": "stream",
     "text": [
      "🔹 Predicted: In France, it is also used with India, may be also known as \"Gradation Order\".\n",
      "🔸 Reference: In France, it is also used within the male branch of the Carthusian Order.\n"
     ]
    },
    {
     "name": "stderr",
     "output_type": "stream",
     "text": [
      "\r",
      " 87%|████████▋ | 87/100 [02:20<00:31,  2.39s/it]"
     ]
    },
    {
     "name": "stdout",
     "output_type": "stream",
     "text": [
      "🔹 Predicted: She was buried at Dehm-Frafburg.\n",
      "🔸 Reference: She was buried at the in Frankfurt.\n"
     ]
    },
    {
     "name": "stderr",
     "output_type": "stream",
     "text": [
      "\r",
      " 88%|████████▊ | 88/100 [02:20<00:21,  1.80s/it]"
     ]
    },
    {
     "name": "stdout",
     "output_type": "stream",
     "text": [
      "🔹 Predicted: She became the minister for Yard and Sports in the Rasshaal Cabinet.\n",
      "🔸 Reference: She became the Minister for Youth and Sports in the Bhattarai cabinet.\n"
     ]
    },
    {
     "name": "stderr",
     "output_type": "stream",
     "text": [
      "\r",
      " 89%|████████▉ | 89/100 [02:21<00:15,  1.41s/it]"
     ]
    },
    {
     "name": "stdout",
     "output_type": "stream",
     "text": [
      "🔹 Predicted: There are seven or eight stannins and two stanninotes arranged around the two capos.\n",
      "🔸 Reference: There are seven or eight stamens and two staminodes arranged around the two carpels.\n"
     ]
    },
    {
     "name": "stderr",
     "output_type": "stream",
     "text": [
      "\r",
      " 90%|█████████ | 90/100 [02:21<00:11,  1.15s/it]"
     ]
    },
    {
     "name": "stdout",
     "output_type": "stream",
     "text": [
      "🔹 Predicted: Ai khe dhaa hapele,an dhaa nimi zhewgwad.\n",
      "🔸 Reference: I could die happily, and that made me feel good.\n"
     ]
    },
    {
     "name": "stderr",
     "output_type": "stream",
     "text": [
      "\r",
      " 91%|█████████ | 91/100 [02:21<00:08,  1.08it/s]"
     ]
    },
    {
     "name": "stdout",
     "output_type": "stream",
     "text": [
      "🔹 Predicted: A lady with glasses hollocks a baby who is looking up at her.\n",
      "🔸 Reference: A lady with glasses holds a baby who is looking up at her.\n"
     ]
    },
    {
     "name": "stderr",
     "output_type": "stream",
     "text": [
      "\r",
      " 92%|█████████▏| 92/100 [02:22<00:05,  1.34it/s]"
     ]
    },
    {
     "name": "stdout",
     "output_type": "stream",
     "text": [
      "🔹 Predicted: The person in dark clothes is walking down to the subway.\n",
      "🔸 Reference: A person in dark clothes is walking down to the subway.\n"
     ]
    },
    {
     "name": "stderr",
     "output_type": "stream",
     "text": [
      "\r",
      " 93%|█████████▎| 93/100 [02:22<00:04,  1.48it/s]"
     ]
    },
    {
     "name": "stdout",
     "output_type": "stream",
     "text": [
      "🔹 Predicted: As wajai nerein owaikakri jeswodol bengwish.\n",
      "🔸 Reference: A small child wearing a white hat reaches for a paintbrush.\n"
     ]
    },
    {
     "name": "stderr",
     "output_type": "stream",
     "text": [
      "\r",
      " 94%|█████████▍| 94/100 [02:23<00:03,  1.64it/s]"
     ]
    },
    {
     "name": "stdout",
     "output_type": "stream",
     "text": [
      "🔹 Predicted: Sapwetnwauwagat kwit shawwauw.\n",
      "🔸 Reference: Split the log with a quick, sharp blow.\n"
     ]
    },
    {
     "name": "stderr",
     "output_type": "stream",
     "text": [
      "\r",
      " 95%|█████████▌| 95/100 [02:23<00:03,  1.64it/s]"
     ]
    },
    {
     "name": "stdout",
     "output_type": "stream",
     "text": [
      "🔹 Predicted: 아야 하니디는 안다스톤이 빈 빈이 아삼이 루삼.\n",
      "🔸 Reference: As he looked at the stones, he felt relieved for some reason.\n"
     ]
    },
    {
     "name": "stderr",
     "output_type": "stream",
     "text": [
      "\r",
      " 96%|█████████▌| 96/100 [02:24<00:02,  1.56it/s]"
     ]
    },
    {
     "name": "stdout",
     "output_type": "stream",
     "text": [
      "🔹 Predicted: Anaan wo,in palan dhaan,in dubai,nain,in dha dhaan,in bua dhaan.\n",
      "🔸 Reference: I don't know if I'll be able to find life in the desert, the boy thought.\n"
     ]
    },
    {
     "name": "stderr",
     "output_type": "stream",
     "text": [
      "\r",
      " 97%|█████████▋| 97/100 [02:24<00:01,  1.89it/s]"
     ]
    },
    {
     "name": "stdout",
     "output_type": "stream",
     "text": [
      "🔹 Predicted: I could envisage this thing.\n",
      "🔸 Reference: I could envisage the scene.\n"
     ]
    },
    {
     "name": "stderr",
     "output_type": "stream",
     "text": [
      "\r",
      " 98%|█████████▊| 98/100 [02:25<00:00,  2.07it/s]"
     ]
    },
    {
     "name": "stdout",
     "output_type": "stream",
     "text": [
      "🔹 Predicted: The opera has said that he suddenly could understand what was going on.\n",
      "🔸 Reference: The opera had surtitles, so we could understand what was going on\n"
     ]
    },
    {
     "name": "stderr",
     "output_type": "stream",
     "text": [
      "\r",
      " 99%|█████████▉| 99/100 [02:25<00:00,  2.02it/s]"
     ]
    },
    {
     "name": "stdout",
     "output_type": "stream",
     "text": [
      "🔹 Predicted:  Viņa paskārā, kad mūli fīlu tur ļaukts.\n",
      "🔸 Reference: We perspire when we feel too hot.\n"
     ]
    },
    {
     "name": "stderr",
     "output_type": "stream",
     "text": [
      "100%|██████████| 100/100 [02:26<00:00,  1.46s/it]"
     ]
    },
    {
     "name": "stdout",
     "output_type": "stream",
     "text": [
      "🔹 Predicted: Morris and the professional baking service was both for operation and for education.\n",
      "🔸 Reference: More recently, professional painters are responsible for all preparation prior to painting.\n",
      "✅ EN WER: 1.8555\n",
      "🌍 Language: ja\n"
     ]
    },
    {
     "name": "stderr",
     "output_type": "stream",
     "text": [
      "\n",
      "  1%|          | 1/100 [00:00<01:08,  1.46it/s]"
     ]
    },
    {
     "name": "stdout",
     "output_type": "stream",
     "text": [
      "🔹 Predicted: こすみにふかれるようにはなれていった\n",
      "🔸 Reference: 風に吹かれるように離れていった\n"
     ]
    },
    {
     "name": "stderr",
     "output_type": "stream",
     "text": [
      "\r",
      "  2%|▏         | 2/100 [00:01<00:46,  2.11it/s]"
     ]
    },
    {
     "name": "stdout",
     "output_type": "stream",
     "text": [
      "🔹 Predicted: どんもそうですし、そうだ、きっと。\n",
      "🔸 Reference: どうもそうらしい、そうだ、きっと\n"
     ]
    },
    {
     "name": "stderr",
     "output_type": "stream",
     "text": [
      "\r",
      "  3%|▎         | 3/100 [00:01<00:48,  2.00it/s]"
     ]
    },
    {
     "name": "stdout",
     "output_type": "stream",
     "text": [
      "🔹 Predicted: 大岡無段鶴と一緒だった、無人無人使わなかった。\n",
      "🔸 Reference: 公園も団地と一緒だった、何も見つからなかった\n"
     ]
    },
    {
     "name": "stderr",
     "output_type": "stream",
     "text": [
      "\r",
      "  4%|▍         | 4/100 [00:01<00:45,  2.12it/s]"
     ]
    },
    {
     "name": "stdout",
     "output_type": "stream",
     "text": [
      "🔹 Predicted: ナルモンのアケールのゼロアの近くにする\n",
      "🔸 Reference: ロンドンではテームズ川の近くに住み、\n"
     ]
    },
    {
     "name": "stderr",
     "output_type": "stream",
     "text": [
      "\r",
      "  5%|▌         | 5/100 [00:02<00:59,  1.60it/s]"
     ]
    },
    {
     "name": "stdout",
     "output_type": "stream",
     "text": [
      "🔹 Predicted: 映玉の中で、安に、ネヌの映像が長えて、他のことについて、何も考えることができない状態。\n",
      "🔸 Reference: 頭の中でアニメの映像が流れて、他のことについて何も考えることができない状態\n"
     ]
    },
    {
     "name": "stderr",
     "output_type": "stream",
     "text": [
      "\r",
      "  6%|▌         | 6/100 [00:03<00:57,  1.63it/s]"
     ]
    },
    {
     "name": "stdout",
     "output_type": "stream",
     "text": [
      "🔹 Predicted: フロードフロードフロードのソニュアクトで見ました\n",
      "🔸 Reference: 冬でもそうめんをよく食べます\n"
     ]
    },
    {
     "name": "stderr",
     "output_type": "stream",
     "text": [
      "\r",
      "  7%|▋         | 7/100 [00:03<00:45,  2.04it/s]"
     ]
    },
    {
     "name": "stdout",
     "output_type": "stream",
     "text": [
      "🔹 Predicted: 見減くはなし\n",
      "🔸 Reference: 三重県桑名市\n"
     ]
    },
    {
     "name": "stderr",
     "output_type": "stream",
     "text": [
      "\r",
      "  8%|▊         | 8/100 [00:04<00:42,  2.16it/s]"
     ]
    },
    {
     "name": "stdout",
     "output_type": "stream",
     "text": [
      "🔹 Predicted: きんとりのせいから出る前にごしょういただけた\n",
      "🔸 Reference: 筋トレの成果がでる前に腰を痛めた\n"
     ]
    },
    {
     "name": "stderr",
     "output_type": "stream",
     "text": [
      "\r",
      "  9%|▉         | 9/100 [00:04<00:35,  2.59it/s]"
     ]
    },
    {
     "name": "stdout",
     "output_type": "stream",
     "text": [
      "🔹 Predicted: 京都市南区\n",
      "🔸 Reference: 京都市南区\n"
     ]
    },
    {
     "name": "stderr",
     "output_type": "stream",
     "text": [
      "\r",
      " 10%|█         | 10/100 [00:04<00:37,  2.39it/s]"
     ]
    },
    {
     "name": "stdout",
     "output_type": "stream",
     "text": [
      "🔹 Predicted: 文化の場所の世界としては、とりにも、どすがる。\n",
      "🔸 Reference: モンタナ州の最大都市はビリングスである\n"
     ]
    },
    {
     "name": "stderr",
     "output_type": "stream",
     "text": [
      "\r",
      " 11%|█         | 11/100 [00:05<00:36,  2.46it/s]"
     ]
    },
    {
     "name": "stdout",
     "output_type": "stream",
     "text": [
      "🔹 Predicted: 初学と学部は簡単に言い切る。\n",
      "🔸 Reference: 厚焼きたまごはかんたんにできる\n"
     ]
    },
    {
     "name": "stderr",
     "output_type": "stream",
     "text": [
      "\r",
      " 12%|█▏        | 12/100 [00:05<00:40,  2.19it/s]"
     ]
    },
    {
     "name": "stdout",
     "output_type": "stream",
     "text": [
      "🔹 Predicted: もって、こう取れまして、あなたはインクにハイテンを覚えてしまった\n",
      "🔸 Reference: まったく衰えもしない姿に、鳥肌を覚えてしまった。\n"
     ]
    },
    {
     "name": "stderr",
     "output_type": "stream",
     "text": [
      "\r",
      " 13%|█▎        | 13/100 [00:06<00:49,  1.76it/s]"
     ]
    },
    {
     "name": "stdout",
     "output_type": "stream",
     "text": [
      "🔹 Predicted: 律刑所政総議典にアンチョリアンココルのビタココで一発化し、無論的にだった。\n",
      "🔸 Reference: 徹底した清掃と丁寧な調理を心がけたことで客足が戻ってきた\n"
     ]
    },
    {
     "name": "stderr",
     "output_type": "stream",
     "text": [
      "\r",
      " 14%|█▍        | 14/100 [00:07<00:49,  1.72it/s]"
     ]
    },
    {
     "name": "stdout",
     "output_type": "stream",
     "text": [
      "🔹 Predicted: 四国は、与兵省、博士は、与国も、三国に行くと、\n",
      "🔸 Reference: 壺の中の塩をたくさんよくもみ込んでください\n"
     ]
    },
    {
     "name": "stderr",
     "output_type": "stream",
     "text": [
      "\r",
      " 15%|█▌        | 15/100 [00:15<03:58,  2.81s/it]"
     ]
    },
    {
     "name": "stdout",
     "output_type": "stream",
     "text": [
      "🔹 Predicted: かいだまのもばらつかのももとして、もしもとでて、しつもとでつかとして、もしもとでて、しつもとでて、しつもとでて、しつもとでて、しつもとでて、しつもとでて、しつもとでて、しつもとでて、しつもとでて、しつもとでて、しつもとでて、しつもとでて、しつもとでて、しつもとでて、しつもとでて、しつもとでて、しつもとでて、しつもとでて、しつもとでて、しつもとでて、しつもとでて、しつもとでて、しつもとでて、しつもとでて、しつもとでて、しつもとでて、しつもとでて、しつもとでて、しつもとでて、しつもとでて、しつもとでて、しつもとでて、しつもとでて、しつもとでて、しつもとでて、しつもとでて、しつもとでて、しつもとでて、しつもとでて、しつもとでて、しつもとでて、しつもとでて、しつもとでて、しつもとでて、しつもとでて、しつもとでて、しつもとでて、しつもとでて、しつもとでて、しつもとでて、しつもとでて、しつもとでて、しつもとでて、しつもとでて、しつもとでて、しつもとでて、しつもとでて、しつもとでて、しつもとで\n",
      "🔸 Reference: 作られたものから作るものへとして、矛盾的自己同一に徹することによって、歴史的世界は生物の世界から人間の世界へと発展する。\n"
     ]
    },
    {
     "name": "stderr",
     "output_type": "stream",
     "text": [
      "\r",
      " 16%|█▌        | 16/100 [00:23<06:07,  4.37s/it]"
     ]
    },
    {
     "name": "stdout",
     "output_type": "stream",
     "text": [
      "🔹 Predicted: さぐで、スッポッシュで、ガチで、ウイッキで、ウイッキで、ウイッキで、ウイッキで、ウイッキで、ウイッキで、ウイッキで、ウイッキで、ウイッキで、ウイッキで、ウイッキで、ウイッキで、ウイッキで、ウイッキで、ウイッキで、ウイッキで、ウイッキで、ウイッキで、ウイッキで、ウイッキで、ウイッキで、ウイッキで、ウイッキで、ウイッキで、ウイッキで、ウイッキで、ウイッキで、ウイッキで、ウイッキで、ウイッキで、ウイッキで、ウイッキで、ウイッキで、ウイッキで、ウイッキで、ウイッキで、ウイッキで、ウイッキで、ウイッキで、ウイッキで、ウイッキで、ウイッキで、ウイッキで、ウイッキで、ウイッキで、ウイッキで、ウイッキで、ウイッキで、ウイッキで、ウイッキで、ウイッキで、ウイッキで、ウイッキで、ウイッキで、ウイッキで、ウイッキで、ウイッキで、ウイッキで、ウイッキで、ウイッキで、ウイッキで、ウイッキで、ウイッキで、ウイッキで、ウイッキで、ウイッキで、ウイッキで、ウイッキで、ウイッキで、ウイッキで、ウイッキで、ウイ\n",
      "🔸 Reference: ふざけて出品したらガチで売れてビビる\n"
     ]
    },
    {
     "name": "stderr",
     "output_type": "stream",
     "text": [
      "\r",
      " 17%|█▋        | 17/100 [00:31<07:33,  5.46s/it]"
     ]
    },
    {
     "name": "stdout",
     "output_type": "stream",
     "text": [
      "🔹 Predicted: 大国国的国会的国会的国会的国会的国会的国会的国会的国会的国会的国会的国会的国会的国会的国会的国会的国会的国会的国会的国会的国会的国会的国会的国会的国会的国会的国会的国会的国会的国会的国会的国会的国会的国会的国会的国会的国会的国会的国会的国会的国会的国会的国会的国会的国会的国会的国会的国会的国会的国会的国会的国会的国会的国会的国会的国会的国会的国会的国会的国会的国会的国会的国会的国会的国会的国会的国会的国会的国会的国会的国会的国会的国会的国会的国会的国会的国会的国会的国会的国会的国会的国会的国会的国会的国会的国会的国会的国会的国会的国会的国会的国会的国会的国会的国会的国会的国会的国会的国会的国会的国会的国会的国会的国会的国会的国会的国会的国会的国会的国会的国会的国会的国会的国会的国会的国会的国会的国会的国会的国会的国会的国会的国会的国会的国会的国会的国会的国会的国会的国会的国会的国会的国会的国会的国会的国会的国会的国会的国会的国会的国会的国会的国会的国会的国会的国会的国会的国会\n",
      "🔸 Reference: 外国だと驚くほど安く買えたりします\n"
     ]
    },
    {
     "name": "stderr",
     "output_type": "stream",
     "text": [
      "\r",
      " 18%|█▊        | 18/100 [00:31<05:28,  4.00s/it]"
     ]
    },
    {
     "name": "stdout",
     "output_type": "stream",
     "text": [
      "🔹 Predicted: しかし、スティックとアッタリアの部分に、ディマエクシアに立った。\n",
      "🔸 Reference: 好きだった映画がリメイクされた\n"
     ]
    },
    {
     "name": "stderr",
     "output_type": "stream",
     "text": [
      "\r",
      " 19%|█▉        | 19/100 [00:32<04:00,  2.97s/it]"
     ]
    },
    {
     "name": "stdout",
     "output_type": "stream",
     "text": [
      "🔹 Predicted: これもよりも、一生、一つのある、こぼと比べて変わっていた\n",
      "🔸 Reference: 公園の遊具や設備はあのころと比べて変わっていた\n"
     ]
    },
    {
     "name": "stderr",
     "output_type": "stream",
     "text": [
      "\r",
      " 20%|██        | 20/100 [00:32<02:57,  2.21s/it]"
     ]
    },
    {
     "name": "stdout",
     "output_type": "stream",
     "text": [
      "🔹 Predicted: キムラインケーコフィルルにショートを取り組む\n",
      "🔸 Reference: 自分は、いったい幸福なのでしょうか\n"
     ]
    },
    {
     "name": "stderr",
     "output_type": "stream",
     "text": [
      "\r",
      " 21%|██        | 21/100 [00:40<05:11,  3.95s/it]"
     ]
    },
    {
     "name": "stdout",
     "output_type": "stream",
     "text": [
      "🔹 Predicted: 昔、昔、昔、昔、昔、昔、昔、昔、昔、昔、昔、昔、昔、昔、昔、昔、昔、昔、昔、昔、昔、昔、昔、昔、昔、昔、昔、昔、昔、昔、昔、昔、昔、昔、昔、昔、昔、昔、昔、昔、昔、昔、昔、昔、昔、昔、昔、昔、昔、昔、昔、昔、昔、昔、昔、昔、昔、昔、昔、昔、昔、昔、昔、昔、昔、昔、昔、昔、昔、昔、昔、昔、昔、昔、昔、昔、昔、昔、昔、昔、昔、昔、昔、昔、昔、昔、昔、昔、昔、昔、昔、昔、昔、昔、昔、昔、昔、昔、昔、昔、昔、昔、昔、昔、昔、昔、昔、昔、昔、昔、昔、昔、昔、昔、昔、昔、昔、昔、昔、昔、昔、昔、昔、昔、昔、昔、昔、昔、昔、昔、昔、昔、昔、昔、昔、昔、昔、昔、昔、昔、昔、昔、昔、昔、昔、昔、昔、昔、\n",
      "🔸 Reference: そうしてその穴の中から時々ぷうぷうと煙を吹く\n"
     ]
    },
    {
     "name": "stderr",
     "output_type": "stream",
     "text": [
      "\r",
      " 22%|██▏       | 22/100 [00:41<03:44,  2.88s/it]"
     ]
    },
    {
     "name": "stdout",
     "output_type": "stream",
     "text": [
      "🔹 Predicted: からば、実家のおはかに内装された\n",
      "🔸 Reference: 彼は、実家のお墓に埋葬された。\n"
     ]
    },
    {
     "name": "stderr",
     "output_type": "stream",
     "text": [
      "\r",
      " 23%|██▎       | 23/100 [00:41<02:50,  2.21s/it]"
     ]
    },
    {
     "name": "stdout",
     "output_type": "stream",
     "text": [
      "🔹 Predicted: キバコの部口の大きな写真に、僕の知らない気に向けて兵役する。\n",
      "🔸 Reference: 木箱の向こうの大きな写真の、僕の知らない君に向けて礼をする。\n"
     ]
    },
    {
     "name": "stderr",
     "output_type": "stream",
     "text": [
      "\r",
      " 24%|██▍       | 24/100 [00:42<02:08,  1.69s/it]"
     ]
    },
    {
     "name": "stdout",
     "output_type": "stream",
     "text": [
      "🔹 Predicted: 料理しおうり寝ると、あくがてて美味しくなれ\n",
      "🔸 Reference: 料理酒を入れるとコクが出ておいしくなる。\n"
     ]
    },
    {
     "name": "stderr",
     "output_type": "stream",
     "text": [
      "\r",
      " 25%|██▌       | 25/100 [00:42<01:36,  1.29s/it]"
     ]
    },
    {
     "name": "stdout",
     "output_type": "stream",
     "text": [
      "🔹 Predicted: カカニとラワイと言うと動けられ\n",
      "🔸 Reference: 過去にとらわれてると動けない\n"
     ]
    },
    {
     "name": "stderr",
     "output_type": "stream",
     "text": [
      "\r",
      " 26%|██▌       | 26/100 [00:43<01:17,  1.04s/it]"
     ]
    },
    {
     "name": "stdout",
     "output_type": "stream",
     "text": [
      "🔹 Predicted: ビオーサーの意見も参考にするとよいでしょ\n",
      "🔸 Reference: 利用者の意見も参考にするとよいでしょう\n"
     ]
    },
    {
     "name": "stderr",
     "output_type": "stream",
     "text": [
      "\r",
      " 27%|██▋       | 27/100 [00:43<01:02,  1.18it/s]"
     ]
    },
    {
     "name": "stdout",
     "output_type": "stream",
     "text": [
      "🔹 Predicted: The new era opened to the use of the Paternacastee.\n",
      "🔸 Reference: リニューアルオープンというが、ほとんど変わってなかった\n"
     ]
    },
    {
     "name": "stderr",
     "output_type": "stream",
     "text": [
      "\r",
      " 28%|██▊       | 28/100 [00:43<00:50,  1.42it/s]"
     ]
    },
    {
     "name": "stdout",
     "output_type": "stream",
     "text": [
      "🔹 Predicted: アアトリフトルトとリスリース\n",
      "🔸 Reference: お役に立ててうれしいです\n"
     ]
    },
    {
     "name": "stderr",
     "output_type": "stream",
     "text": [
      "\r",
      " 29%|██▉       | 29/100 [00:44<00:40,  1.74it/s]"
     ]
    },
    {
     "name": "stdout",
     "output_type": "stream",
     "text": [
      "🔹 Predicted: 岡山県水沢市\n",
      "🔸 Reference: 岡山県美作市\n"
     ]
    },
    {
     "name": "stderr",
     "output_type": "stream",
     "text": [
      "\r",
      " 30%|███       | 30/100 [00:44<00:37,  1.84it/s]"
     ]
    },
    {
     "name": "stdout",
     "output_type": "stream",
     "text": [
      "🔹 Predicted: 見てないけど、感動はありがとをすれば良いんですか?\n",
      "🔸 Reference: 見てないけど、感動をありがとうセールで安く買う\n"
     ]
    },
    {
     "name": "stderr",
     "output_type": "stream",
     "text": [
      "\r",
      " 31%|███       | 31/100 [00:45<00:39,  1.75it/s]"
     ]
    },
    {
     "name": "stdout",
     "output_type": "stream",
     "text": [
      "🔹 Predicted: 技術は、生産的にあり、世界を隠し寄し、また、豊富にする。\n",
      "🔸 Reference: 技術は生産的であり、世界を革新しまた豊富にする。\n"
     ]
    },
    {
     "name": "stderr",
     "output_type": "stream",
     "text": [
      "\r",
      " 32%|███▏      | 32/100 [00:45<00:38,  1.76it/s]"
     ]
    },
    {
     "name": "stdout",
     "output_type": "stream",
     "text": [
      "🔹 Predicted: せいもよくがいっぱいだけど、話し手がほんにもおだてない。\n",
      "🔸 Reference: 専門用語がいっぱいだけど、話してる本人もわかってない\n"
     ]
    },
    {
     "name": "stderr",
     "output_type": "stream",
     "text": [
      "\r",
      " 33%|███▎      | 33/100 [00:46<00:44,  1.50it/s]"
     ]
    },
    {
     "name": "stdout",
     "output_type": "stream",
     "text": [
      "🔹 Predicted: 大流タムのスレスシーンが、自己無人と屈して、自己のうちから、自己を食い、行くことで寝ければなりない。\n",
      "🔸 Reference: 与えられたものそれ自身が自己矛盾的として、自己の内から自己を越え行くことでなければならない。\n"
     ]
    },
    {
     "name": "stderr",
     "output_type": "stream",
     "text": [
      "\r",
      " 34%|███▍      | 34/100 [00:47<00:36,  1.79it/s]"
     ]
    },
    {
     "name": "stdout",
     "output_type": "stream",
     "text": [
      "🔹 Predicted: ネラサクトウイッチシ\n",
      "🔸 Reference: 長崎県壱岐市\n"
     ]
    },
    {
     "name": "stderr",
     "output_type": "stream",
     "text": [
      "\r",
      " 35%|███▌      | 35/100 [00:47<00:35,  1.84it/s]"
     ]
    },
    {
     "name": "stdout",
     "output_type": "stream",
     "text": [
      "🔹 Predicted: いずれぼくも、あと三十年もしたら、よかったがてれ、\n",
      "🔸 Reference: いずれ僕もあと三十年もしたら浴衣がけで\n"
     ]
    },
    {
     "name": "stderr",
     "output_type": "stream",
     "text": [
      "\r",
      " 36%|███▌      | 36/100 [00:48<00:36,  1.76it/s]"
     ]
    },
    {
     "name": "stdout",
     "output_type": "stream",
     "text": [
      "🔹 Predicted: ポークのキミの背中に向けて、ジャーダと言い返して、手を振った。\n",
      "🔸 Reference: 僕も君の背中に向けて、じゃあねと言い返して、手を振った\n"
     ]
    },
    {
     "name": "stderr",
     "output_type": "stream",
     "text": [
      "\r",
      " 37%|███▋      | 37/100 [00:48<00:36,  1.74it/s]"
     ]
    },
    {
     "name": "stdout",
     "output_type": "stream",
     "text": [
      "🔹 Predicted: キューモアは、随分大いでしょうが、動かい地位置こらえてください。\n",
      "🔸 Reference: 注文はずいぶん多いでしょうがどうか一々こらえて下さい\n"
     ]
    },
    {
     "name": "stderr",
     "output_type": "stream",
     "text": [
      "\r",
      " 38%|███▊      | 38/100 [00:49<00:38,  1.60it/s]"
     ]
    },
    {
     "name": "stdout",
     "output_type": "stream",
     "text": [
      "🔹 Predicted: オリアスタスのスノバの真ん中に集めて、固めて、山にして、また山にスノをかける。\n",
      "🔸 Reference: 掘り出した砂を砂場の真ん中に集めて、固めて、山にして、また山に砂をかける\n"
     ]
    },
    {
     "name": "stderr",
     "output_type": "stream",
     "text": [
      "\r",
      " 39%|███▉      | 39/100 [00:49<00:36,  1.69it/s]"
     ]
    },
    {
     "name": "stdout",
     "output_type": "stream",
     "text": [
      "🔹 Predicted: いくら人間だって、相互つまでも捌えることもあるまい、\n",
      "🔸 Reference: いくら人間だって、そういつまでも栄える事もあるまい\n"
     ]
    },
    {
     "name": "stderr",
     "output_type": "stream",
     "text": [
      "\r",
      " 40%|████      | 40/100 [00:50<00:36,  1.66it/s]"
     ]
    },
    {
     "name": "stdout",
     "output_type": "stream",
     "text": [
      "🔹 Predicted: そこで僕らはそんな、アナウフリ、ヤマウツキリ、またアナウフッタ。\n",
      "🔸 Reference: そこで僕らは遊んだ、穴を掘り、山を作り、また穴を掘った\n"
     ]
    },
    {
     "name": "stderr",
     "output_type": "stream",
     "text": [
      "\r",
      " 41%|████      | 41/100 [00:51<00:34,  1.69it/s]"
     ]
    },
    {
     "name": "stdout",
     "output_type": "stream",
     "text": [
      "🔹 Predicted: それこそ千万に一番の金をやえるでも、やべき、一気一髪も、\n",
      "🔸 Reference: それこそ千番に一番の兼ね合いとでもいうべき危機一髪の、\n"
     ]
    },
    {
     "name": "stderr",
     "output_type": "stream",
     "text": [
      "\r",
      " 42%|████▏     | 42/100 [00:51<00:29,  1.93it/s]"
     ]
    },
    {
     "name": "stdout",
     "output_type": "stream",
     "text": [
      "🔹 Predicted: みんなここにおいてくださいと書いてありました。\n",
      "🔸 Reference: みんなここに置いてくださいと書いてありました\n"
     ]
    },
    {
     "name": "stderr",
     "output_type": "stream",
     "text": [
      "\r",
      " 43%|████▎     | 43/100 [00:51<00:24,  2.31it/s]"
     ]
    },
    {
     "name": "stdout",
     "output_type": "stream",
     "text": [
      "🔹 Predicted: ドアだ、テルカ\n",
      "🔸 Reference: どうだ、とるか\n"
     ]
    },
    {
     "name": "stderr",
     "output_type": "stream",
     "text": [
      "\r",
      " 44%|████▍     | 44/100 [00:51<00:20,  2.71it/s]"
     ]
    },
    {
     "name": "stdout",
     "output_type": "stream",
     "text": [
      "🔹 Predicted: 学習を見ていった\n",
      "🔸 Reference: 空き地を埋めていった\n"
     ]
    },
    {
     "name": "stderr",
     "output_type": "stream",
     "text": [
      "\r",
      " 45%|████▌     | 45/100 [00:52<00:26,  2.05it/s]"
     ]
    },
    {
     "name": "stdout",
     "output_type": "stream",
     "text": [
      "🔹 Predicted: しかも、後で作と、それは所制といえ、人間値で、一番と終わっての静岡であったそう。\n",
      "🔸 Reference: しかもあとで聞くとそれは書生という人間中で一番獰悪な種族であったそうだ\n"
     ]
    },
    {
     "name": "stderr",
     "output_type": "stream",
     "text": [
      "\r",
      " 46%|████▌     | 46/100 [00:52<00:21,  2.46it/s]"
     ]
    },
    {
     "name": "stdout",
     "output_type": "stream",
     "text": [
      "🔹 Predicted: 星이からがてない\n",
      "🔸 Reference: 欲しいキャラが出ない\n"
     ]
    },
    {
     "name": "stderr",
     "output_type": "stream",
     "text": [
      "\r",
      " 47%|████▋     | 47/100 [00:53<00:21,  2.43it/s]"
     ]
    },
    {
     "name": "stdout",
     "output_type": "stream",
     "text": [
      "🔹 Predicted: 大流の市民や小の女猫のようにじっとする。\n",
      "🔸 Reference: 大量の睡眠薬を飲んだ猫のようにじっとする\n"
     ]
    },
    {
     "name": "stderr",
     "output_type": "stream",
     "text": [
      "\r",
      " 48%|████▊     | 48/100 [00:53<00:23,  2.24it/s]"
     ]
    },
    {
     "name": "stdout",
     "output_type": "stream",
     "text": [
      "🔹 Predicted: 他のチャンネルも二台を乗ってらなく、わえるしをが流れきった。\n",
      "🔸 Reference: 他のチャンネルも似たようなドラマかワイドショーが流れていた\n"
     ]
    },
    {
     "name": "stderr",
     "output_type": "stream",
     "text": [
      "\r",
      " 49%|████▉     | 49/100 [00:54<00:20,  2.54it/s]"
     ]
    },
    {
     "name": "stdout",
     "output_type": "stream",
     "text": [
      "🔹 Predicted: 仕方県大陸市\n",
      "🔸 Reference: 滋賀県甲賀市\n"
     ]
    },
    {
     "name": "stderr",
     "output_type": "stream",
     "text": [
      "\r",
      " 50%|█████     | 50/100 [00:54<00:21,  2.35it/s]"
     ]
    },
    {
     "name": "stdout",
     "output_type": "stream",
     "text": [
      "🔹 Predicted: Ai níkun didi oho hóa kruidachin ishik.\n",
      "🔸 Reference: まれにみる文理両方をかねた人でした\n"
     ]
    },
    {
     "name": "stderr",
     "output_type": "stream",
     "text": [
      "\r",
      " 51%|█████     | 51/100 [00:55<00:19,  2.50it/s]"
     ]
    },
    {
     "name": "stdout",
     "output_type": "stream",
     "text": [
      "🔹 Predicted: She is the teacher's character of the city culture in Italy.\n",
      "🔸 Reference: 技術的に作られたものはすべて形をもっている。\n"
     ]
    },
    {
     "name": "stderr",
     "output_type": "stream",
     "text": [
      "\r",
      " 52%|█████▏    | 52/100 [00:55<00:22,  2.10it/s]"
     ]
    },
    {
     "name": "stdout",
     "output_type": "stream",
     "text": [
      "🔹 Predicted: カトカラキローバーケンにも、チャンジャン、アイシア、ラフトです。\n",
      "🔸 Reference: 勝とうが負けようが点がじゃんじゃん入る試合なら満足です\n"
     ]
    },
    {
     "name": "stderr",
     "output_type": "stream",
     "text": [
      "\r",
      " 53%|█████▎    | 53/100 [00:55<00:19,  2.47it/s]"
     ]
    },
    {
     "name": "stdout",
     "output_type": "stream",
     "text": [
      "🔹 Predicted: 京都市町区\n",
      "🔸 Reference: 京都府精華町\n"
     ]
    },
    {
     "name": "stderr",
     "output_type": "stream",
     "text": [
      "\r",
      " 54%|█████▍    | 54/100 [00:56<00:16,  2.74it/s]"
     ]
    },
    {
     "name": "stdout",
     "output_type": "stream",
     "text": [
      "🔹 Predicted: アルマティーからし、\n",
      "🔸 Reference: 岡山県井原市\n"
     ]
    },
    {
     "name": "stderr",
     "output_type": "stream",
     "text": [
      "\r",
      " 55%|█████▌    | 55/100 [00:56<00:18,  2.50it/s]"
     ]
    },
    {
     "name": "stdout",
     "output_type": "stream",
     "text": [
      "🔹 Predicted: Di 児県アイトンガイチックアキマシッド\n",
      "🔸 Reference: 岐阜県羽島市\n"
     ]
    },
    {
     "name": "stderr",
     "output_type": "stream",
     "text": [
      "\r",
      " 56%|█████▌    | 56/100 [00:57<00:20,  2.16it/s]"
     ]
    },
    {
     "name": "stdout",
     "output_type": "stream",
     "text": [
      "🔹 Predicted: 矛盾の先をごりに、私がおもりつくり、シェイナップだった。\n",
      "🔸 Reference: 映像作品は個人でここまで作れる時代になったんだな\n"
     ]
    },
    {
     "name": "stderr",
     "output_type": "stream",
     "text": [
      "\r",
      " 57%|█████▋    | 57/100 [00:57<00:22,  1.89it/s]"
     ]
    },
    {
     "name": "stdout",
     "output_type": "stream",
     "text": [
      "🔹 Predicted: 大阪府の方々の人々がどこにいると、自分の人にそっと知るように見えてあって、\n",
      "🔸 Reference: まだ残っていたんだ、僕は指先でそっとシールに触れる\n"
     ]
    },
    {
     "name": "stderr",
     "output_type": "stream",
     "text": [
      "\r",
      " 58%|█████▊    | 58/100 [00:58<00:19,  2.19it/s]"
     ]
    },
    {
     "name": "stdout",
     "output_type": "stream",
     "text": [
      "🔹 Predicted: 現場の人は来てもらった\n",
      "🔸 Reference: エクアドルの首都はキトである\n"
     ]
    },
    {
     "name": "stderr",
     "output_type": "stream",
     "text": [
      "\r",
      " 59%|█████▉    | 59/100 [00:58<00:18,  2.16it/s]"
     ]
    },
    {
     "name": "stdout",
     "output_type": "stream",
     "text": [
      "🔹 Predicted: 石油は花のつけむりが隙間から生い込んでいく\n",
      "🔸 Reference: 異臭を放つ煙がすき間から入りこんでくる\n"
     ]
    },
    {
     "name": "stderr",
     "output_type": "stream",
     "text": [
      "\r",
      " 60%|██████    | 60/100 [00:59<00:25,  1.56it/s]"
     ]
    },
    {
     "name": "stdout",
     "output_type": "stream",
     "text": [
      "🔹 Predicted: きいせいすると、あんものを作ることであり、あんものを作ると、あんものに形を与えることを、その形を変えて新しい形のものにすることである。\n",
      "🔸 Reference: 形成するとは物を作ることであり、物を作るとは物に形を与えること、その形を変えて新しい形のものにすることである。\n"
     ]
    },
    {
     "name": "stderr",
     "output_type": "stream",
     "text": [
      "\r",
      " 61%|██████    | 61/100 [01:00<00:22,  1.71it/s]"
     ]
    },
    {
     "name": "stdout",
     "output_type": "stream",
     "text": [
      "🔹 Predicted: それが我々の性格と格子性とかいよものである。\n",
      "🔸 Reference: それが我々の性格とか個性とかいうものである。\n"
     ]
    },
    {
     "name": "stderr",
     "output_type": "stream",
     "text": [
      "\r",
      " 62%|██████▏   | 62/100 [01:00<00:19,  1.96it/s]"
     ]
    },
    {
     "name": "stdout",
     "output_type": "stream",
     "text": [
      "🔹 Predicted: 도두옷도 아껴 본 지식\n",
      "🔸 Reference: 東京都国分寺市\n"
     ]
    },
    {
     "name": "stderr",
     "output_type": "stream",
     "text": [
      "\r",
      " 63%|██████▎   | 63/100 [01:00<00:16,  2.20it/s]"
     ]
    },
    {
     "name": "stdout",
     "output_type": "stream",
     "text": [
      "🔹 Predicted: 川下がいるから、地図である。\n",
      "🔸 Reference: 買う人がいるから作られる\n"
     ]
    },
    {
     "name": "stderr",
     "output_type": "stream",
     "text": [
      "\r",
      " 64%|██████▍   | 64/100 [01:01<00:15,  2.37it/s]"
     ]
    },
    {
     "name": "stdout",
     "output_type": "stream",
     "text": [
      "🔹 Predicted: ヨルガの人はあんまんてある\n",
      "🔸 Reference: ヨルダンの首都はアンマンである\n"
     ]
    },
    {
     "name": "stderr",
     "output_type": "stream",
     "text": [
      "\r",
      " 65%|██████▌   | 65/100 [01:01<00:13,  2.55it/s]"
     ]
    },
    {
     "name": "stdout",
     "output_type": "stream",
     "text": [
      "🔹 Predicted: ネニカルリでも変わったのか\n",
      "🔸 Reference: 何かルールでも変わったのか\n"
     ]
    },
    {
     "name": "stderr",
     "output_type": "stream",
     "text": [
      "\r",
      " 66%|██████▌   | 66/100 [01:02<00:17,  1.91it/s]"
     ]
    },
    {
     "name": "stdout",
     "output_type": "stream",
     "text": [
      "🔹 Predicted: オミリケが矛盾さえキザでも、それが心臓のそばにあって、矛盾なキザでもあった。\n",
      "🔸 Reference: 五ミリ程度の小さい傷、でも、それは心臓のそばにあって無視できない傷でもあった\n"
     ]
    },
    {
     "name": "stderr",
     "output_type": "stream",
     "text": [
      "\r",
      " 67%|██████▋   | 67/100 [01:02<00:14,  2.32it/s]"
     ]
    },
    {
     "name": "stdout",
     "output_type": "stream",
     "text": [
      "🔹 Predicted: やっぱり情다へ\n",
      "🔸 Reference: やっぱり異常だよ\n"
     ]
    },
    {
     "name": "stderr",
     "output_type": "stream",
     "text": [
      "\r",
      " 68%|██████▊   | 68/100 [01:03<00:14,  2.26it/s]"
     ]
    },
    {
     "name": "stdout",
     "output_type": "stream",
     "text": [
      "🔹 Predicted: 人と腐鹿で手のひらりになるのを捧げて\n",
      "🔸 Reference: ふてくされて投げやりになるのをおさえる\n"
     ]
    },
    {
     "name": "stderr",
     "output_type": "stream",
     "text": [
      "\r",
      " 69%|██████▉   | 69/100 [01:03<00:14,  2.10it/s]"
     ]
    },
    {
     "name": "stdout",
     "output_type": "stream",
     "text": [
      "🔹 Predicted: スモモのラッテリーのレックが早くて、開会を見としてる\n",
      "🔸 Reference: スマホのバッテリーの劣化が早くて買い替えを検討してる\n"
     ]
    },
    {
     "name": "stderr",
     "output_type": "stream",
     "text": [
      "\r",
      " 70%|███████   | 70/100 [01:11<01:21,  2.72s/it]"
     ]
    },
    {
     "name": "stdout",
     "output_type": "stream",
     "text": [
      "🔹 Predicted: 私の意識で現象が、単なると、ともに、私の意識として、いつにあると、いま、矛盾のこと、矛盾に、おいての矛盾に、矛盾に、矛盾に、矛盾に、矛盾に、矛盾に、矛盾に、矛盾に、矛盾に、矛盾に、矛盾に、矛盾に、矛盾に、矛盾に、矛盾に、矛盾に、矛盾に、矛盾に、矛盾に、矛盾に、矛盾に、矛盾に、矛盾に、矛盾に、矛盾に、矛盾に、矛盾に、矛盾に、矛盾に、矛盾に、矛盾に、矛盾に、矛盾に、矛盾に、矛盾に、矛盾に、矛盾に、矛盾に、矛盾に、矛盾に、矛盾に、矛盾に、矛盾に、矛盾に、矛盾に、矛盾に、矛盾に、矛盾に、矛盾に、矛盾に、矛盾に、矛盾に、矛盾に、矛盾に、矛盾に、矛盾に、矛盾に、矛盾に、矛盾に、矛盾に、矛盾に、矛盾に、矛盾に、矛盾に、矛盾に、矛盾に\n",
      "🔸 Reference: 私の意識現象が多なると共に私の意識として一であるというのは、右の如き意昧においての矛盾的自己同一でなければならない。\n"
     ]
    },
    {
     "name": "stderr",
     "output_type": "stream",
     "text": [
      "\r",
      " 71%|███████   | 71/100 [01:11<00:57,  2.00s/it]"
     ]
    },
    {
     "name": "stdout",
     "output_type": "stream",
     "text": [
      "🔹 Predicted: 見事としを見する必要がある\n",
      "🔸 Reference: リモート仕様にする必要がある\n"
     ]
    },
    {
     "name": "stderr",
     "output_type": "stream",
     "text": [
      "\r",
      " 72%|███████▏  | 72/100 [01:12<00:41,  1.50s/it]"
     ]
    },
    {
     "name": "stdout",
     "output_type": "stream",
     "text": [
      "🔹 Predicted: ストリオンにして時間をさつなって\n",
      "🔸 Reference: 作り置きして時間を節約する\n"
     ]
    },
    {
     "name": "stderr",
     "output_type": "stream",
     "text": [
      "\r",
      " 73%|███████▎  | 73/100 [01:12<00:31,  1.15s/it]"
     ]
    },
    {
     "name": "stdout",
     "output_type": "stream",
     "text": [
      "🔹 Predicted: 熱議員室にある立ちまつたり\n",
      "🔸 Reference: デビューするやたちまち大ヒット\n"
     ]
    },
    {
     "name": "stderr",
     "output_type": "stream",
     "text": [
      "\r",
      " 74%|███████▍  | 74/100 [01:13<00:27,  1.05s/it]"
     ]
    },
    {
     "name": "stdout",
     "output_type": "stream",
     "text": [
      "🔹 Predicted: の、兼的など、真体的存在としても、我々は既にかかる自己矛盾的存在であるのである。\n",
      "🔸 Reference: 欲求的なる身体的存在としても、我々は既にかかる自己矛盾的存在であるのである。\n"
     ]
    },
    {
     "name": "stderr",
     "output_type": "stream",
     "text": [
      "\r",
      " 75%|███████▌  | 75/100 [01:13<00:20,  1.19it/s]"
     ]
    },
    {
     "name": "stdout",
     "output_type": "stream",
     "text": [
      "🔹 Predicted: 通牟的が影響をもたるな\n",
      "🔸 Reference: 長期的な影響はわからない\n"
     ]
    },
    {
     "name": "stderr",
     "output_type": "stream",
     "text": [
      "\r",
      " 76%|███████▌  | 76/100 [01:14<00:18,  1.32it/s]"
     ]
    },
    {
     "name": "stdout",
     "output_type": "stream",
     "text": [
      "🔹 Predicted: すごいやすいといも、でも、でも、ないから、違うと、見えると、だすから\n",
      "🔸 Reference: すごい安いというわけでもないけど近くにあると助かる\n"
     ]
    },
    {
     "name": "stderr",
     "output_type": "stream",
     "text": [
      "\r",
      " 77%|███████▋  | 77/100 [01:14<00:15,  1.52it/s]"
     ]
    },
    {
     "name": "stdout",
     "output_type": "stream",
     "text": [
      "🔹 Predicted: 作られたものは、しから作られたものでありながら\n",
      "🔸 Reference: 作られたものから作るものへということは、作られたものは、種から作られたものでありながら、\n"
     ]
    },
    {
     "name": "stderr",
     "output_type": "stream",
     "text": [
      "\r",
      " 78%|███████▊  | 78/100 [01:15<00:12,  1.74it/s]"
     ]
    },
    {
     "name": "stdout",
     "output_type": "stream",
     "text": [
      "🔹 Predicted: 奈良県東京ランビトリトリだ\n",
      "🔸 Reference: うまいけど手がギトギトになる\n"
     ]
    },
    {
     "name": "stderr",
     "output_type": "stream",
     "text": [
      "\r",
      " 79%|███████▉  | 79/100 [01:15<00:10,  1.96it/s]"
     ]
    },
    {
     "name": "stdout",
     "output_type": "stream",
     "text": [
      "🔹 Predicted: 今のアクシーパードの責任じゃないか\n",
      "🔸 Reference: 今のはキーパーの責任じゃないよ\n"
     ]
    },
    {
     "name": "stderr",
     "output_type": "stream",
     "text": [
      "\r",
      " 80%|████████  | 80/100 [01:16<00:10,  1.90it/s]"
     ]
    },
    {
     "name": "stdout",
     "output_type": "stream",
     "text": [
      "🔹 Predicted: 昌원기경キレタ、ローグルト、リエキラスト、バレット、\n",
      "🔸 Reference: 賞味期限切れたヨーグルトを勇気出して食べる\n"
     ]
    },
    {
     "name": "stderr",
     "output_type": "stream",
     "text": [
      "\r",
      " 81%|████████  | 81/100 [01:16<00:09,  2.04it/s]"
     ]
    },
    {
     "name": "stdout",
     "output_type": "stream",
     "text": [
      "🔹 Predicted: 逆に我々が空中に採用するのが、\n",
      "🔸 Reference: 逆に我々は環境に作用するのである。\n"
     ]
    },
    {
     "name": "stderr",
     "output_type": "stream",
     "text": [
      "\r",
      " 82%|████████▏ | 82/100 [01:16<00:07,  2.27it/s]"
     ]
    },
    {
     "name": "stdout",
     "output_type": "stream",
     "text": [
      "🔹 Predicted: みんなが言うほどするほど安くもない\n",
      "🔸 Reference: みんなが言うほどそれほど安くもない\n"
     ]
    },
    {
     "name": "stderr",
     "output_type": "stream",
     "text": [
      "\r",
      " 83%|████████▎ | 83/100 [01:17<00:08,  2.04it/s]"
     ]
    },
    {
     "name": "stdout",
     "output_type": "stream",
     "text": [
      "🔹 Predicted: 我々のハジンとペンキンジンから使うのも、何もなければならない\n",
      "🔸 Reference: 我々の個人的自己に迫るものでなければならない。\n"
     ]
    },
    {
     "name": "stderr",
     "output_type": "stream",
     "text": [
      "\r",
      " 84%|████████▍ | 84/100 [01:18<00:09,  1.77it/s]"
     ]
    },
    {
     "name": "stdout",
     "output_type": "stream",
     "text": [
      "🔹 Predicted: 昔昇のアニのたちがから、無理にするもので、 ケツゴンするとは、よりのやろ。\n",
      "🔸 Reference: 抽象論理の立場からは、矛盾するものが結合するとはいわれないであろう。\n"
     ]
    },
    {
     "name": "stderr",
     "output_type": "stream",
     "text": [
      "\r",
      " 85%|████████▌ | 85/100 [01:18<00:07,  1.93it/s]"
     ]
    },
    {
     "name": "stdout",
     "output_type": "stream",
     "text": [
      "🔹 Predicted: Coconut sold in a rochelle, in the Huesis Park.\n",
      "🔸 Reference: ここの商店街もチェーン店が増えてきた\n"
     ]
    },
    {
     "name": "stderr",
     "output_type": "stream",
     "text": [
      "\r",
      " 86%|████████▌ | 86/100 [01:18<00:06,  2.27it/s]"
     ]
    },
    {
     "name": "stdout",
     "output_type": "stream",
     "text": [
      "🔹 Predicted: なごやしみずほく\n",
      "🔸 Reference: 名古屋市瑞穂区\n"
     ]
    },
    {
     "name": "stderr",
     "output_type": "stream",
     "text": [
      "\r",
      " 87%|████████▋ | 87/100 [01:19<00:05,  2.47it/s]"
     ]
    },
    {
     "name": "stdout",
     "output_type": "stream",
     "text": [
      "🔹 Predicted: 岡山県、赤岡山市\n",
      "🔸 Reference: 岡山県赤磐市\n"
     ]
    },
    {
     "name": "stderr",
     "output_type": "stream",
     "text": [
      "\r",
      " 88%|████████▊ | 88/100 [01:19<00:04,  2.74it/s]"
     ]
    },
    {
     "name": "stdout",
     "output_type": "stream",
     "text": [
      "🔹 Predicted: 三井田田市秋葉区\n",
      "🔸 Reference: 新潟市秋葉区\n"
     ]
    },
    {
     "name": "stderr",
     "output_type": "stream",
     "text": [
      "\r",
      " 89%|████████▉ | 89/100 [01:19<00:04,  2.33it/s]"
     ]
    },
    {
     "name": "stdout",
     "output_type": "stream",
     "text": [
      "🔹 Predicted: かわいうふうがなことが、いまでも行われているのかどうかも知らない。\n",
      "🔸 Reference: ああいう風雅なことがいまでも行なわれているのかどうかもしらず、\n"
     ]
    },
    {
     "name": "stderr",
     "output_type": "stream",
     "text": [
      "\r",
      " 90%|█████████ | 90/100 [01:20<00:04,  2.32it/s]"
     ]
    },
    {
     "name": "stdout",
     "output_type": "stream",
     "text": [
      "🔹 Predicted: なんでも いいから、 笑わせて われば いいのだ\n",
      "🔸 Reference: 何でもいいから、笑わせておればいいのだ\n"
     ]
    },
    {
     "name": "stderr",
     "output_type": "stream",
     "text": [
      "\r",
      " 91%|█████████ | 91/100 [01:21<00:05,  1.73it/s]"
     ]
    },
    {
     "name": "stdout",
     "output_type": "stream",
     "text": [
      "🔹 Predicted: ただ彼の手のひらに乗せられて、すーっと持ち上げられたとき、なんらかほわほわした感じがあったばかりである。\n",
      "🔸 Reference: ただ彼の掌に載せられてスーと持ち上げられた時何だかフワフワした感じがあったばかりである\n"
     ]
    },
    {
     "name": "stderr",
     "output_type": "stream",
     "text": [
      "\r",
      " 92%|█████████▏| 92/100 [01:21<00:04,  1.89it/s]"
     ]
    },
    {
     "name": "stdout",
     "output_type": "stream",
     "text": [
      "🔹 Predicted: バクナツの観覧者の自己に入れました。\n",
      "🔸 Reference: 幕末の漢学者の塾に入れました\n"
     ]
    },
    {
     "name": "stderr",
     "output_type": "stream",
     "text": [
      "\r",
      " 93%|█████████▎| 93/100 [01:22<00:03,  2.21it/s]"
     ]
    },
    {
     "name": "stdout",
     "output_type": "stream",
     "text": [
      "🔹 Predicted: ヤバムツとヤバムツ\n",
      "🔸 Reference: 山口県山口市\n"
     ]
    },
    {
     "name": "stderr",
     "output_type": "stream",
     "text": [
      "\r",
      " 94%|█████████▍| 94/100 [01:22<00:02,  2.21it/s]"
     ]
    },
    {
     "name": "stdout",
     "output_type": "stream",
     "text": [
      "🔹 Predicted: キミは私をかに行こうとも、どこへ歩いて、\n",
      "🔸 Reference: 君は図書館に行こうと思う、と声を上げた\n"
     ]
    },
    {
     "name": "stderr",
     "output_type": "stream",
     "text": [
      "\r",
      " 95%|█████████▌| 95/100 [01:22<00:02,  2.45it/s]"
     ]
    },
    {
     "name": "stdout",
     "output_type": "stream",
     "text": [
      "🔹 Predicted: 知り合ったときのことは忘れた\n",
      "🔸 Reference: 知り合ったときのことは忘れた\n"
     ]
    },
    {
     "name": "stderr",
     "output_type": "stream",
     "text": [
      "\r",
      " 96%|█████████▌| 96/100 [01:23<00:01,  2.68it/s]"
     ]
    },
    {
     "name": "stdout",
     "output_type": "stream",
     "text": [
      "🔹 Predicted: 놈아 현나히는다\n",
      "🔸 Reference: どうも変な家だ\n"
     ]
    },
    {
     "name": "stderr",
     "output_type": "stream",
     "text": [
      "\r",
      " 97%|█████████▋| 97/100 [01:23<00:01,  2.19it/s]"
     ]
    },
    {
     "name": "stdout",
     "output_type": "stream",
     "text": [
      "🔹 Predicted: 러보가 가위란짐이다 김이 아래 이 모노가 감재라에서 부르노게 하루\n",
      "🔸 Reference: どこか怪談じみた気味悪いものが感ぜられて来るのである\n"
     ]
    },
    {
     "name": "stderr",
     "output_type": "stream",
     "text": [
      "\r",
      " 98%|█████████▊| 98/100 [01:24<00:01,  1.97it/s]"
     ]
    },
    {
     "name": "stdout",
     "output_type": "stream",
     "text": [
      "🔹 Predicted: ふいに人間の恐ろし正体を、イカリによってバクラスリをさみて、\n",
      "🔸 Reference: 不意に人間のおそろしい正体を、怒りに依って暴露する様子を見て、\n"
     ]
    },
    {
     "name": "stderr",
     "output_type": "stream",
     "text": [
      "\r",
      " 99%|█████████▉| 99/100 [01:24<00:00,  1.92it/s]"
     ]
    },
    {
     "name": "stdout",
     "output_type": "stream",
     "text": [
      "🔹 Predicted: 人間のつましたに、 漫然とし、 悲しい思いをしました。\n",
      "🔸 Reference: 人間のつましさに暗然とし、悲しい思いをしました\n"
     ]
    },
    {
     "name": "stderr",
     "output_type": "stream",
     "text": [
      "100%|██████████| 100/100 [01:25<00:00,  1.17it/s]"
     ]
    },
    {
     "name": "stdout",
     "output_type": "stream",
     "text": [
      "🔹 Predicted: はってな、なんでもよすがおばしと、もさらさ災害してみると、非常に痛い。\n",
      "🔸 Reference: はてな何でも様子がおかしいと、のそのそ這い出して見ると非常に痛い\n",
      "✅ JA WER: 1.5100\n",
      "🌍 Language: de\n"
     ]
    },
    {
     "name": "stderr",
     "output_type": "stream",
     "text": [
      "\n",
      "  1%|          | 1/100 [00:00<00:59,  1.67it/s]"
     ]
    },
    {
     "name": "stdout",
     "output_type": "stream",
     "text": [
      "🔹 Predicted:  גרמטסטו דס גדיש ציון.\n",
      "🔸 Reference: Kanntest du das Gedicht schon?\n"
     ]
    },
    {
     "name": "stderr",
     "output_type": "stream",
     "text": [
      "\r",
      "  2%|▏         | 2/100 [00:01<00:48,  2.02it/s]"
     ]
    },
    {
     "name": "stdout",
     "output_type": "stream",
     "text": [
      "🔹 Predicted: Panu,mechnziaa auch zu späch stunden.\n",
      "🔸 Reference: Hallo, möchten Sie auch zur Sprechstunde?\n"
     ]
    },
    {
     "name": "stderr",
     "output_type": "stream",
     "text": [
      "\r",
      "  3%|▎         | 3/100 [00:01<00:48,  1.99it/s]"
     ]
    },
    {
     "name": "stdout",
     "output_type": "stream",
     "text": [
      "🔹 Predicted: 고체당�은 연어한 릴치스 아시 메아로무.\n",
      "🔸 Reference: Gott sei Dank haben wir noch ein letztes Ass im Ärmel.\n"
     ]
    },
    {
     "name": "stderr",
     "output_type": "stream",
     "text": [
      "\r",
      "  4%|▍         | 4/100 [00:02<00:56,  1.69it/s]"
     ]
    },
    {
     "name": "stdout",
     "output_type": "stream",
     "text": [
      "🔹 Predicted: Wen zu einem Passagierfunkzeug der Funkkontakt abbrechht, staukene Routine-mäßig zwei abfangjäger.\n",
      "🔸 Reference: Wenn zu einem Passagierflugzeug der Funkkontakt abbricht, starten routinemäßig zwei Abfangjäger.\n"
     ]
    },
    {
     "name": "stderr",
     "output_type": "stream",
     "text": [
      "\r",
      "  5%|▌         | 5/100 [00:02<00:51,  1.86it/s]"
     ]
    },
    {
     "name": "stdout",
     "output_type": "stream",
     "text": [
      "🔹 Predicted: Sie wurde der Herras aupenlin singen, unterstädt.\n",
      "🔸 Reference: Sie wurde der Heeresgruppe Linsingen unterstellt.\n"
     ]
    },
    {
     "name": "stderr",
     "output_type": "stream",
     "text": [
      "\r",
      "  6%|▌         | 6/100 [00:03<00:53,  1.77it/s]"
     ]
    },
    {
     "name": "stdout",
     "output_type": "stream",
     "text": [
      "🔹 Predicted: Unter ande hón har zhenis kratn es dort renchwein, auf den Flos zu erkennen.\n",
      "🔸 Reference: Unter anderen Habseligkeiten ist dort ein Schwein auf dem Floß zu erkennen.\n"
     ]
    },
    {
     "name": "stderr",
     "output_type": "stream",
     "text": [
      "\r",
      "  7%|▋         | 7/100 [00:03<00:48,  1.91it/s]"
     ]
    },
    {
     "name": "stdout",
     "output_type": "stream",
     "text": [
      "🔹 Predicted: Ankehrenzen der Wiesenreist der Osttag wurden überflutet.\n",
      "🔸 Reference: Angrenzende Wiesen rechts der Ostrach wurden überflutet.\n"
     ]
    },
    {
     "name": "stderr",
     "output_type": "stream",
     "text": [
      "\r",
      "  8%|▊         | 8/100 [00:04<00:53,  1.70it/s]"
     ]
    },
    {
     "name": "stdout",
     "output_type": "stream",
     "text": [
      "🔹 Predicted: דאו שקונט ידס אובורט זו מילדים פניןן איןגסטוירדן.\n",
      "🔸 Reference: Dadurch konnte jedes U-Boot zum Legen von Minen eingesetzt werden.\n"
     ]
    },
    {
     "name": "stderr",
     "output_type": "stream",
     "text": [
      "\r",
      "  9%|▉         | 9/100 [00:04<00:48,  1.89it/s]"
     ]
    },
    {
     "name": "stdout",
     "output_type": "stream",
     "text": [
      "🔹 Predicted: Er verdiente sich selbst als Star of the day als Kohlboi.\n",
      "🔸 Reference: Er verdiente sich selbst als Star noch Geld als Callboy.\n"
     ]
    },
    {
     "name": "stderr",
     "output_type": "stream",
     "text": [
      "\r",
      " 10%|█         | 10/100 [00:05<00:47,  1.89it/s]"
     ]
    },
    {
     "name": "stdout",
     "output_type": "stream",
     "text": [
      "🔹 Predicted: In der mexikanischen Forschmedizin fümmt sich Tradition der aztrikischen Medizin.\n",
      "🔸 Reference: In der mexikanischen Volksmedizin finden sich Traditionen der aztekischen Medizin.\n"
     ]
    },
    {
     "name": "stderr",
     "output_type": "stream",
     "text": [
      "\r",
      " 11%|█         | 11/100 [00:06<00:56,  1.59it/s]"
     ]
    },
    {
     "name": "stdout",
     "output_type": "stream",
     "text": [
      "🔹 Predicted: 다다시岐阜のコープは、デイランからヨークを見ると、リギュアルザーのペンチ。\n",
      "🔸 Reference: Dabei stieß er auf eine Gruppe, deren Periode ungewöhnlich langsam abnimmt.\n"
     ]
    },
    {
     "name": "stderr",
     "output_type": "stream",
     "text": [
      "\r",
      " 12%|█▏        | 12/100 [00:14<04:12,  2.87s/it]"
     ]
    },
    {
     "name": "stdout",
     "output_type": "stream",
     "text": [
      "🔹 Predicted: Kwinga アンジ、ドス、ギ、アン、ド、ハ、ニ、ス、ザ、ブ、ザ、ブ、ザ、ブ、ザ、ブ、ザ、ブ、ザ、ブ、ザ、ブ、ザ、ブ、ザ、ブ、ザ、ブ、ザ、ブ、ザ、ブ、ザ、ブ、ザ、ブ、ザ、ブ、ザ、ブ、ザ、ブ、ザ、ブ、ザ、ブ、ザ、ブ、ザ、ブ、ザ、ブ、ザ、ブ、ザ、ブ、ザ、ブ、ザ、ブ、ザ、ブ、ザ、ブ、ザ、ブ、ザ、ブ、ザ、ブ、ザ、ブ、ザ、ブ、ザ、ブ、ザ、ブ、ザ、ブ、ザ、ブ、ザ、ブ、ザ、ブ、ザ、ブ、ザ、ブ、ザ、ブ、ザ、ブ、ザ、ブ、ザ、ブ、ザ、ブ、ザ、ブ、ザ、ブ、ザ、ブ、ザ、ブ、ザ、ブ、ザ、ブ、ザ、ブ、ザ、ブ、ザ、ブ、ザ、ブ、ザ、ブ、ザ、ブ、ザ、ブ、ザ、ブ、ザ、ブ、ザ、ブ、ザ、ブ、ザ、ブ、ザ、ブ、ザ、ブ、ザ、ブ、ザ、ブ、ザ、ブ、ザ、ブ、ザ、ブ、ザ、ブ、ザ、ブ、ザ、ブ、ザ、ブ、ザ、ブ、ザ、ブ、ザ、ブ、ザ、ブ、ザ、ブ、ザ、ブ、ザ、ザ、ブ、ザ、ブ、�\n",
      "🔸 Reference: Quinn ahnt, dass Suzuki ein Geheimnis verbirgt.\n"
     ]
    },
    {
     "name": "stderr",
     "output_type": "stream",
     "text": [
      "\r",
      " 13%|█▎        | 13/100 [00:14<03:11,  2.20s/it]"
     ]
    },
    {
     "name": "stdout",
     "output_type": "stream",
     "text": [
      "🔹 Predicted: Zwai wai tv'l kinnawam bwai tv'r hailbehetsh v'stom.\n",
      "🔸 Reference: Zwei weitere Kinder waren bereits vor Alberti verstorben.\n"
     ]
    },
    {
     "name": "stderr",
     "output_type": "stream",
     "text": [
      "\r",
      " 14%|█▍        | 14/100 [00:15<02:34,  1.80s/it]"
     ]
    },
    {
     "name": "stdout",
     "output_type": "stream",
     "text": [
      "🔹 Predicted: Die einkäufte außen seigewärd im Buklisten esfowallik, es freyaschowk steratik ist zuwärd.\n",
      "🔸 Reference: Die Einkünfte aus dem Sägewerk ermöglichten es Lorenc, als freier Schriftsteller tätig zu werden.\n"
     ]
    },
    {
     "name": "stderr",
     "output_type": "stream",
     "text": [
      "\r",
      " 15%|█▌        | 15/100 [00:16<01:58,  1.40s/it]"
     ]
    },
    {
     "name": "stdout",
     "output_type": "stream",
     "text": [
      "🔹 Predicted: Es tult nende hait, aber es scharwitznishlarfi.\n",
      "🔸 Reference: Es tut mir leid, aber ich habe verschlafen.\n"
     ]
    },
    {
     "name": "stderr",
     "output_type": "stream",
     "text": [
      "\r",
      " 16%|█▌        | 16/100 [00:16<01:35,  1.14s/it]"
     ]
    },
    {
     "name": "stdout",
     "output_type": "stream",
     "text": [
      "🔹 Predicted: Nghtes malwädich nisht begründer kelsher mitschwaben.\n",
      "🔸 Reference: Nächstes Mal werde ich nicht bei Gundula Kircher mitfahren.\n"
     ]
    },
    {
     "name": "stderr",
     "output_type": "stream",
     "text": [
      "\r",
      " 17%|█▋        | 17/100 [00:17<01:22,  1.01it/s]"
     ]
    },
    {
     "name": "stdout",
     "output_type": "stream",
     "text": [
      "🔹 Predicted: Ik lēsie \"Fuau\"? Du māts teki interduntībīt nāks, ok?\n",
      "🔸 Reference: Ich lese vor, du machst im Hintergrund die Beatbox, okay?\n"
     ]
    },
    {
     "name": "stderr",
     "output_type": "stream",
     "text": [
      "\r",
      " 18%|█▊        | 18/100 [00:18<01:11,  1.14it/s]"
     ]
    },
    {
     "name": "stdout",
     "output_type": "stream",
     "text": [
      "🔹 Predicted: נאום פשטיבן ננאון פרואן שירננזו שנייית.\n",
      "🔸 Reference: Warum verstehen Männer und Frauen sich einander so schlecht?\n"
     ]
    },
    {
     "name": "stderr",
     "output_type": "stream",
     "text": [
      "\r",
      " 19%|█▉        | 19/100 [00:18<01:01,  1.31it/s]"
     ]
    },
    {
     "name": "stdout",
     "output_type": "stream",
     "text": [
      "🔹 Predicted: Hegenalik nuk vestis des nikroparts Nükleburgheide.\n",
      "🔸 Reference: Heidenau liegt nordwestlich des Naturparks Lüneburger Heide.\n"
     ]
    },
    {
     "name": "stderr",
     "output_type": "stream",
     "text": [
      "\r",
      " 20%|██        | 20/100 [00:19<00:57,  1.40it/s]"
     ]
    },
    {
     "name": "stdout",
     "output_type": "stream",
     "text": [
      "🔹 Predicted: Mikisenfeien kanke apheitzin juhunja han erstzen nationala aufföge feien.\n",
      "🔸 Reference: Mit diesem Verein konnte er bereits in jungen Jahren erste nationale Erfolge feiern.\n"
     ]
    },
    {
     "name": "stderr",
     "output_type": "stream",
     "text": [
      "\r",
      " 21%|██        | 21/100 [00:19<00:48,  1.63it/s]"
     ]
    },
    {
     "name": "stdout",
     "output_type": "stream",
     "text": [
      "🔹 Predicted: Sia zwaiköchter ankai in Kassun.\n",
      "🔸 Reference: Sie hat zwei Töchter und drei Enkelsöhne.\n"
     ]
    },
    {
     "name": "stderr",
     "output_type": "stream",
     "text": [
      "\r",
      " 22%|██▏       | 22/100 [00:20<00:45,  1.73it/s]"
     ]
    },
    {
     "name": "stdout",
     "output_type": "stream",
     "text": [
      "🔹 Predicted: Zalhaishitischen Schaftinungen am mitlichten Neuherhain.\n",
      "🔸 Reference: Zahlreiche technische Erfindungen ermöglichten Neuerungen.\n"
     ]
    },
    {
     "name": "stderr",
     "output_type": "stream",
     "text": [
      "\r",
      " 23%|██▎       | 23/100 [00:20<00:43,  1.77it/s]"
     ]
    },
    {
     "name": "stdout",
     "output_type": "stream",
     "text": [
      "🔹 Predicted: Darht geragate nebunnitziu nach andernhans material der Bundeswehr.\n",
      "🔸 Reference: Dort lagerte neben Munition auch anderes Material der Bundeswehr.\n"
     ]
    },
    {
     "name": "stderr",
     "output_type": "stream",
     "text": [
      "\r",
      " 24%|██▍       | 24/100 [00:20<00:39,  1.94it/s]"
     ]
    },
    {
     "name": "stdout",
     "output_type": "stream",
     "text": [
      "🔹 Predicted: 두 번째는 루프니라우스코인다.\n",
      "🔸 Reference: Der europäische Zweig wird von Wien aus gesteuert.\n"
     ]
    },
    {
     "name": "stderr",
     "output_type": "stream",
     "text": [
      "\r",
      " 25%|██▌       | 25/100 [00:21<00:35,  2.12it/s]"
     ]
    },
    {
     "name": "stdout",
     "output_type": "stream",
     "text": [
      "🔹 Predicted:  Hiermit wird sparer Platz für die Schlüssel gestaut.\n",
      "🔸 Reference: Hiermit wird Speicherplatz für die Schlüssel gespart.\n"
     ]
    },
    {
     "name": "stderr",
     "output_type": "stream",
     "text": [
      "\r",
      " 26%|██▌       | 26/100 [00:22<00:47,  1.55it/s]"
     ]
    },
    {
     "name": "stdout",
     "output_type": "stream",
     "text": [
      "🔹 Predicted: Den アフラライ、ユーキン、ペヌ、インスペータ、コー、ペヌ、バー、ザン、スタンファー、アイ、\n",
      "🔸 Reference: Danach war er Jugendtrainer und später Co-Trainer bei seinem Stammverein.\n"
     ]
    },
    {
     "name": "stderr",
     "output_type": "stream",
     "text": [
      "\r",
      " 27%|██▋       | 27/100 [00:23<00:46,  1.56it/s]"
     ]
    },
    {
     "name": "stdout",
     "output_type": "stream",
     "text": [
      "🔹 Predicted: アンフヘースのケテルは、 、 、 、 、 、 、、 、、\n",
      "🔸 Reference: Anschließend kehrte er zurück in die Schweiz.\n"
     ]
    },
    {
     "name": "stderr",
     "output_type": "stream",
     "text": [
      "\r",
      " 28%|██▊       | 28/100 [00:23<00:41,  1.73it/s]"
     ]
    },
    {
     "name": "stdout",
     "output_type": "stream",
     "text": [
      "🔹 Predicted: Es wird im Tuberland die aufgeschilderten Wege zu benutzen.\n",
      "🔸 Reference: Es wird empfohlen, die ausgeschilderten Wege zu benutzen.\n"
     ]
    },
    {
     "name": "stderr",
     "output_type": "stream",
     "text": [
      "\r",
      " 29%|██▉       | 29/100 [00:23<00:35,  2.00it/s]"
     ]
    },
    {
     "name": "stdout",
     "output_type": "stream",
     "text": [
      "🔹 Predicted: Sie blüht von Juni bis August.\n",
      "🔸 Reference: Sie blüht von Juni bis August.\n"
     ]
    },
    {
     "name": "stderr",
     "output_type": "stream",
     "text": [
      "\r",
      " 30%|███       | 30/100 [00:24<00:33,  2.10it/s]"
     ]
    },
    {
     "name": "stdout",
     "output_type": "stream",
     "text": [
      "🔹 Predicted: 에아와아でアファートでアトリーでくる\n",
      "🔸 Reference: Er war der Vater der Brüder Grimm.\n"
     ]
    },
    {
     "name": "stderr",
     "output_type": "stream",
     "text": [
      "\r",
      " 31%|███       | 31/100 [00:24<00:35,  1.93it/s]"
     ]
    },
    {
     "name": "stdout",
     "output_type": "stream",
     "text": [
      "🔹 Predicted: Erproduziert umschalb zanet lepeche übovigen für Fernsehsärdien.\n",
      "🔸 Reference: Er produziert und schreibt seine Drehbücher überwiegend für Fernsehserien.\n"
     ]
    },
    {
     "name": "stderr",
     "output_type": "stream",
     "text": [
      "\r",
      " 32%|███▏      | 32/100 [00:25<00:33,  2.05it/s]"
     ]
    },
    {
     "name": "stdout",
     "output_type": "stream",
     "text": [
      "🔹 Predicted: Diese Timings methodik zielt auf ein komplexes Trimming ab.\n",
      "🔸 Reference: Diese Trainingsmethode zielt auf ein komplexes Training ab.\n"
     ]
    },
    {
     "name": "stderr",
     "output_type": "stream",
     "text": [
      "\r",
      " 33%|███▎      | 33/100 [00:25<00:33,  2.02it/s]"
     ]
    },
    {
     "name": "stdout",
     "output_type": "stream",
     "text": [
      "🔹 Predicted: Darheasolte Großprytannien nishtam Krieg teilnimen.\n",
      "🔸 Reference: Daher solle Großbritannien nicht am Krieg teilnehmen.\n"
     ]
    },
    {
     "name": "stderr",
     "output_type": "stream",
     "text": [
      "\r",
      " 34%|███▍      | 34/100 [00:33<03:01,  2.75s/it]"
     ]
    },
    {
     "name": "stdout",
     "output_type": "stream",
     "text": [
      "🔹 Predicted: �区区区区区区区区区区区区区区区区区区区区区区区区区区区区区区区区区区区区区区区区区区区区区区区区区区区区区区区区区区区区区区区区区区区区区区区区区区区区区区区区区区区区区区区区区区区区区区区区区区区区区区区区区区区区区区区区区区区区区区区区区区区区区区区区区区区区区区区区区区区区区区区区区区区区区区区区区区区区区区区区区区区区区区区区区区区区区区区区区区区区区区区区区区区区区区区区区区区区区区区区区区区区区区区区区区区区区区区区区区区区区�\n",
      "🔸 Reference: König Mattias Hunyadi wird als Herausgeber dieser Goldmünze genannt.\n"
     ]
    },
    {
     "name": "stderr",
     "output_type": "stream",
     "text": [
      "\r",
      " 35%|███▌      | 35/100 [00:41<04:41,  4.32s/it]"
     ]
    },
    {
     "name": "stdout",
     "output_type": "stream",
     "text": [
      "🔹 Predicted: 댁 ڤ ڤ ڤ ڤ ڤ ڤ ڤ ڤ ڤ ڤ ڤ ڤ ڤ ڤ ڤ ڤ ڤ ڤ ڤ ڤ ڤ ڤ ڤ ڤ ڤ ڤ ڤ ڤ ڤ ڤ ڤ ڤ ڤ ڤ ڤ ڤ ڤ ڤ ڤ ڤ ڤ ڤ ڤ ڤ ڤ ڤ ڤ ڤ ڤ ڤ ڤ ڤ ڤ ڤ ڤ ڤ ڤ ڤ ڤ ڤ ڤ ڤ ڤ ڤ ڤ ڤ ڤ ڤ ڤ ڤ ڤ ڤ ڤ ڤ ڤ ڤ ڤ ڤ ڤ ڤ ڤ ڤ ڤ ڤ ڤ ڤ ڤ ڤ ڤ ڤ ڤ ڤ ڤ ڤ ڤ ڤ ڤ ڤ ڤ ڤ ڤ ڤ ڤ ڤ ڤ ڤ ڤ ڤ ڤ ڤ ڤ ڤ ڤ ڤ ڤ ڤ ڤ ڤ ڤ ڤ ڤ ڤ ڤ ڤ ڤ ڤ ڤ ڤ ڤ ڤ ڤ ڤ ڤ ڤ ڤ ڤ ڤ ڤ ڤ ڤ ڤ ڤ ڤ ڤ ڤ ڤ ڤ\n",
      "🔸 Reference: Das Mühlengebäude ist ein rechteckiger Fachwerkbau mit Satteldach.\n"
     ]
    },
    {
     "name": "stderr",
     "output_type": "stream",
     "text": [
      "\r",
      " 36%|███▌      | 36/100 [00:42<03:26,  3.23s/it]"
     ]
    },
    {
     "name": "stdout",
     "output_type": "stream",
     "text": [
      "🔹 Predicted: 디케옥시가 스탠 래시틱에 피가 고치고우고 든지 아필다.\n",
      "🔸 Reference: Die Kirche ist ein rechteckiger Putzbau unter Satteldach.\n"
     ]
    },
    {
     "name": "stderr",
     "output_type": "stream",
     "text": [
      "\r",
      " 37%|███▋      | 37/100 [00:43<02:34,  2.46s/it]"
     ]
    },
    {
     "name": "stdout",
     "output_type": "stream",
     "text": [
      "🔹 Predicted: צייףפתפקטן וונדן דשטנט אנפור אין שי טי ניל.\n",
      "🔸 Reference: Zwölf Interpreten wurden dann bestimmt am Vorentscheid teilnehmen.\n"
     ]
    },
    {
     "name": "stderr",
     "output_type": "stream",
     "text": [
      "\r",
      " 38%|███▊      | 38/100 [00:43<01:59,  1.93s/it]"
     ]
    },
    {
     "name": "stdout",
     "output_type": "stream",
     "text": [
      "🔹 Predicted: Dibājai un kāna, atkāk, ka viņi šatrītas ir spēsītas.\n",
      "🔸 Reference: Die beiden kommen auf das Weibliche zu sprechen.\n"
     ]
    },
    {
     "name": "stderr",
     "output_type": "stream",
     "text": [
      "\r",
      " 39%|███▉      | 39/100 [00:44<01:30,  1.48s/it]"
     ]
    },
    {
     "name": "stdout",
     "output_type": "stream",
     "text": [
      "🔹 Predicted: アムシシャスにスマイルドを分かると、\n",
      "🔸 Reference: Am sichersten ist mein Geld unterm Kopfkissen.\n"
     ]
    },
    {
     "name": "stderr",
     "output_type": "stream",
     "text": [
      "\r",
      " 40%|████      | 40/100 [00:44<01:10,  1.17s/it]"
     ]
    },
    {
     "name": "stdout",
     "output_type": "stream",
     "text": [
      "🔹 Predicted: Wilja hanyu zasig untschumdishim klast.\n",
      "🔸 Reference: Vier Jahre lange saß ich unschuldig im Knast.\n"
     ]
    },
    {
     "name": "stderr",
     "output_type": "stream",
     "text": [
      "\r",
      " 41%|████      | 41/100 [00:45<00:57,  1.03it/s]"
     ]
    },
    {
     "name": "stdout",
     "output_type": "stream",
     "text": [
      "🔹 Predicted: Fanpaashe din haan zi di fundet damaizh belokatik.\n",
      "🔸 Reference: Für ein paar Schilling haben sie die Funde damals verhökert.\n"
     ]
    },
    {
     "name": "stderr",
     "output_type": "stream",
     "text": [
      "\r",
      " 42%|████▏     | 42/100 [00:45<00:50,  1.16it/s]"
     ]
    },
    {
     "name": "stdout",
     "output_type": "stream",
     "text": [
      "🔹 Predicted: Wan solter den gigwag gar nicht est, so ungesterdi nenschkav honn konn musin.\n",
      "🔸 Reference: Man sollte den Gegner gar nicht erst so ungestört in den Strafraum kommen lassen.\n"
     ]
    },
    {
     "name": "stderr",
     "output_type": "stream",
     "text": [
      "\r",
      " 43%|████▎     | 43/100 [00:46<00:41,  1.39it/s]"
     ]
    },
    {
     "name": "stdout",
     "output_type": "stream",
     "text": [
      "🔹 Predicted: 大파의 소유는 비엘스 뿔러스는\n",
      "🔸 Reference: Dabei sollten wir es belassen.\n"
     ]
    },
    {
     "name": "stderr",
     "output_type": "stream",
     "text": [
      "\r",
      " 44%|████▍     | 44/100 [00:46<00:36,  1.54it/s]"
     ]
    },
    {
     "name": "stdout",
     "output_type": "stream",
     "text": [
      "🔹 Predicted: Dafilm befinde țihaqtuelina postproduktshirm.\n",
      "🔸 Reference: Der Film befindet sich aktuell in der Postproduktion.\n"
     ]
    },
    {
     "name": "stderr",
     "output_type": "stream",
     "text": [
      "\r",
      " 45%|████▌     | 45/100 [00:47<00:35,  1.56it/s]"
     ]
    },
    {
     "name": "stdout",
     "output_type": "stream",
     "text": [
      "🔹 Predicted: Sai der Erflohen gibt es beschwerten yubu den ernden Westkom doch den Bahnwurst.\n",
      "🔸 Reference: Seit Eröffnung gibt es Beschwerden über die Lärmbelästigung durch den Bahnhof.\n"
     ]
    },
    {
     "name": "stderr",
     "output_type": "stream",
     "text": [
      "\r",
      " 46%|████▌     | 46/100 [00:47<00:28,  1.88it/s]"
     ]
    },
    {
     "name": "stdout",
     "output_type": "stream",
     "text": [
      "🔹 Predicted: an strand stien strand kürder.\n",
      "🔸 Reference: Am Strand stehen Strandkörbe.\n"
     ]
    },
    {
     "name": "stderr",
     "output_type": "stream",
     "text": [
      "\r",
      " 47%|████▋     | 47/100 [00:48<00:30,  1.74it/s]"
     ]
    },
    {
     "name": "stdout",
     "output_type": "stream",
     "text": [
      "🔹 Predicted: Die Ostwand zeigt zĺunzweisweikdischen Inlusvikon, dus Adaprath, farik.\n",
      "🔸 Reference: Die Ostwand zeigt zwischen zwei seitlichen Engelsfiguren das Altarblatt hl.\n"
     ]
    },
    {
     "name": "stderr",
     "output_type": "stream",
     "text": [
      "\r",
      " 48%|████▊     | 48/100 [00:49<00:33,  1.55it/s]"
     ]
    },
    {
     "name": "stdout",
     "output_type": "stream",
     "text": [
      "🔹 Predicted: Der Inanamwurde mit ehera holgsteike in formen ys ungekjartan schiftshumpfes gedeckt.\n",
      "🔸 Reference: Der Innenraum wurde mit einer Holzdecke in Form eines umgekehrten Schiffsrumpfes gedeckt.\n"
     ]
    },
    {
     "name": "stderr",
     "output_type": "stream",
     "text": [
      "\r",
      " 49%|████▉     | 49/100 [00:49<00:30,  1.67it/s]"
     ]
    },
    {
     "name": "stdout",
     "output_type": "stream",
     "text": [
      "🔹 Predicted: Soghin zitshe einstimte ein Puldeus messiver Duhil.\n",
      "🔸 Reference: Vor den Sitzreihen stand ein Pult aus massiver Buche.\n"
     ]
    },
    {
     "name": "stderr",
     "output_type": "stream",
     "text": [
      "\r",
      " 50%|█████     | 50/100 [00:49<00:27,  1.82it/s]"
     ]
    },
    {
     "name": "stdout",
     "output_type": "stream",
     "text": [
      "🔹 Predicted: 몇 사이에 스토스의 우프고 랄리스\n",
      "🔸 Reference: Was heißt das auf Romanes?\n"
     ]
    },
    {
     "name": "stderr",
     "output_type": "stream",
     "text": [
      "\r",
      " 51%|█████     | 51/100 [00:50<00:27,  1.78it/s]"
     ]
    },
    {
     "name": "stdout",
     "output_type": "stream",
     "text": [
      "🔹 Predicted:  Vēl desaujuši aušam, ka zūptu, ar esmu prilīšu.\n",
      "🔸 Reference: Ja, das habe ich auch schon versucht, aber das bringt nichts.\n"
     ]
    },
    {
     "name": "stderr",
     "output_type": "stream",
     "text": [
      "\r",
      " 52%|█████▏    | 52/100 [00:51<00:26,  1.78it/s]"
     ]
    },
    {
     "name": "stdout",
     "output_type": "stream",
     "text": [
      "🔹 Predicted: 安둘 파스텔 아침부 루이븐 아슴븐일식트\n",
      "🔸 Reference: An der Pastatheke wird Nachschub benötigt.\n"
     ]
    },
    {
     "name": "stderr",
     "output_type": "stream",
     "text": [
      "\r",
      " 53%|█████▎    | 53/100 [00:51<00:23,  1.97it/s]"
     ]
    },
    {
     "name": "stdout",
     "output_type": "stream",
     "text": [
      "🔹 Predicted: Paschlafenabü ęfis chiaon.\n",
      "🔸 Reference: Verschlafen rieb er sich die Augen.\n"
     ]
    },
    {
     "name": "stderr",
     "output_type": "stream",
     "text": [
      "\r",
      " 54%|█████▍    | 54/100 [00:51<00:22,  2.08it/s]"
     ]
    },
    {
     "name": "stdout",
     "output_type": "stream",
     "text": [
      "🔹 Predicted: Die Walnersgeschichte begegümbter einer Volkszähnung.\n",
      "🔸 Reference: Die Weihnachtsgeschichte beginnt mit einer Volkszählung.\n"
     ]
    },
    {
     "name": "stderr",
     "output_type": "stream",
     "text": [
      "\r",
      " 55%|█████▌    | 55/100 [00:52<00:19,  2.33it/s]"
     ]
    },
    {
     "name": "stdout",
     "output_type": "stream",
     "text": [
      "🔹 Predicted: 昌우まんがりきんぶな\n",
      "🔸 Reference: Schau mal in der Legende nach.\n"
     ]
    },
    {
     "name": "stderr",
     "output_type": "stream",
     "text": [
      "\r",
      " 56%|█████▌    | 56/100 [00:52<00:16,  2.68it/s]"
     ]
    },
    {
     "name": "stdout",
     "output_type": "stream",
     "text": [
      "🔹 Predicted: Can I also a new job?\n",
      "🔸 Reference: Kann ich auch so einen Lutscher haben?\n"
     ]
    },
    {
     "name": "stderr",
     "output_type": "stream",
     "text": [
      "\r",
      " 57%|█████▋    | 57/100 [00:52<00:14,  2.91it/s]"
     ]
    },
    {
     "name": "stdout",
     "output_type": "stream",
     "text": [
      "🔹 Predicted: Greykishin zhau.\n",
      "🔸 Reference: Reg dich nicht auf.\n"
     ]
    },
    {
     "name": "stderr",
     "output_type": "stream",
     "text": [
      "\r",
      " 58%|█████▊    | 58/100 [00:53<00:17,  2.34it/s]"
     ]
    },
    {
     "name": "stdout",
     "output_type": "stream",
     "text": [
      "🔹 Predicted: Dastgemangastik English and physical genes charquik hátia be experimenti Þi the hoachia.\n",
      "🔸 Reference: Das gelang erst dem englischen Physiker James Chadwick, als er die Experimente wiederholte.\n"
     ]
    },
    {
     "name": "stderr",
     "output_type": "stream",
     "text": [
      "\r",
      " 59%|█████▉    | 59/100 [00:53<00:19,  2.09it/s]"
     ]
    },
    {
     "name": "stdout",
     "output_type": "stream",
     "text": [
      "🔹 Predicted: In den folgenen drei akschwildrensungdese der Übersichthalber ausgespaut.\n",
      "🔸 Reference: In den folgenden drei Abschnitten sind diese der Übersicht halber ausgespart.\n"
     ]
    },
    {
     "name": "stderr",
     "output_type": "stream",
     "text": [
      "\r",
      " 60%|██████    | 60/100 [00:54<00:21,  1.86it/s]"
     ]
    },
    {
     "name": "stdout",
     "output_type": "stream",
     "text": [
      "🔹 Predicted: Der Name stammt aus dem kratzellischen umbedeuteten ergaute Schimurusätsung Dienster.\n",
      "🔸 Reference: Der Name stammt aus dem Französischen und bedeutet in der wörtlichen Übersetzung „Dingsda“.\n"
     ]
    },
    {
     "name": "stderr",
     "output_type": "stream",
     "text": [
      "\r",
      " 61%|██████    | 61/100 [00:55<00:19,  2.03it/s]"
     ]
    },
    {
     "name": "stdout",
     "output_type": "stream",
     "text": [
      "🔹 Predicted: Ichhalte das Reichtgift vor dem falschm Einsatz.\n",
      "🔸 Reference: Ich halte das rechtlich für den falschen Ansatz.\n"
     ]
    },
    {
     "name": "stderr",
     "output_type": "stream",
     "text": [
      "\r",
      " 62%|██████▏   | 62/100 [00:55<00:20,  1.89it/s]"
     ]
    },
    {
     "name": "stdout",
     "output_type": "stream",
     "text": [
      "🔹 Predicted: די שדארטי סביבים בין ירסוברטים ירסוברטים.\n",
      "🔸 Reference: Die staatlichen Beihilfen werden hier in Frage gestellt.\n"
     ]
    },
    {
     "name": "stderr",
     "output_type": "stream",
     "text": [
      "\r",
      " 63%|██████▎   | 63/100 [00:55<00:16,  2.18it/s]"
     ]
    },
    {
     "name": "stdout",
     "output_type": "stream",
     "text": [
      "🔹 Predicted: 万人町のおスティモ\n",
      "🔸 Reference: Mal ein ganz anderes Thema.\n"
     ]
    },
    {
     "name": "stderr",
     "output_type": "stream",
     "text": [
      "\r",
      " 64%|██████▍   | 64/100 [01:03<01:37,  2.70s/it]"
     ]
    },
    {
     "name": "stdout",
     "output_type": "stream",
     "text": [
      "🔹 Predicted:  Insgesamt, چ라, چ라, چ라, چ라, چ라, چ라, چ라, چ라, چ라, چ라, چ라, چ라, چ라, چ라, چ라, چ라, چ라, چ라, چ라, چ라, چ라, چ라, چ라, چ라, چ라, چ라, چ라, چ라, چ라, چ라, چ라, چ라, چ라, چ라, چ라, چ라, چ라, چ라, چ라, چ라, چ라, چ라, چ라, چ라, چ라, چ라, چ라, چ라, چ라, چ라, چ라, چ라, چ라, چ라, چ라, چ라, چ라, چ라, چ라, چ라, چ라, چ라, چ라, چ라, چ라, چ라, چ라, چ라, چ라, چ라, چ라, چ라, چ라, چ\n",
      "🔸 Reference: Insgesamt aber ist das Verfahren ausgereift.\n"
     ]
    },
    {
     "name": "stderr",
     "output_type": "stream",
     "text": [
      "\r",
      " 65%|██████▌   | 65/100 [01:04<01:12,  2.06s/it]"
     ]
    },
    {
     "name": "stdout",
     "output_type": "stream",
     "text": [
      "🔹 Predicted: Hitwar kon bekämpf zu sen Faktor geähensozialln Fokal verschraft.\n",
      "🔸 Reference: Sprachenkompetenz ist ein Faktor, der einen sozialen Vorteil verschafft.\n"
     ]
    },
    {
     "name": "stderr",
     "output_type": "stream",
     "text": [
      "\r",
      " 66%|██████▌   | 66/100 [01:05<00:55,  1.64s/it]"
     ]
    },
    {
     "name": "stdout",
     "output_type": "stream",
     "text": [
      "🔹 Predicted: Die Keinberg-Ubi-Hagenshöl-Nanschaft ist eine Kribberschaft des öffentlichen Rechts.\n",
      "🔸 Reference: Die Calenberg-Grubenhagensche Landschaft ist eine Körperschaft des öffentlichen Rechts.\n"
     ]
    },
    {
     "name": "stderr",
     "output_type": "stream",
     "text": [
      "\r",
      " 67%|██████▋   | 67/100 [01:05<00:44,  1.34s/it]"
     ]
    },
    {
     "name": "stdout",
     "output_type": "stream",
     "text": [
      "🔹 Predicted: Dimitri genißn amesatze vokasgechdungan auweiter den konigoschatz.\n",
      "🔸 Reference: Die Mieter genießen ein gesetzliches Vorkaufsrecht und einen erweiterten Kündigungsschutz.\n"
     ]
    },
    {
     "name": "stderr",
     "output_type": "stream",
     "text": [
      "\r",
      " 68%|██████▊   | 68/100 [01:06<00:37,  1.18s/it]"
     ]
    },
    {
     "name": "stdout",
     "output_type": "stream",
     "text": [
      "🔹 Predicted: Ai ni ananwai titan zihe dhiktahtan zelchhaftan usdanshun kanemusun hos Britannien.\n",
      "🔸 Reference: Ein Jahr lang leitete sie die Tochtergesellschaft eines deutschen Unternehmens in Großbritannien.\n"
     ]
    },
    {
     "name": "stderr",
     "output_type": "stream",
     "text": [
      "\r",
      " 69%|██████▉   | 69/100 [01:07<00:31,  1.02s/it]"
     ]
    },
    {
     "name": "stdout",
     "output_type": "stream",
     "text": [
      "🔹 Predicted: Sze lebt mit der umanen Kembali Belgertschaffbau, den Lohsfell Kankake.\n",
      "🔸 Reference: Sie lebt mit ihrem Mann, dem Bodybuilder Jeff Baugh, in Louisville, Kentucky.\n"
     ]
    },
    {
     "name": "stderr",
     "output_type": "stream",
     "text": [
      "\r",
      " 70%|███████   | 70/100 [01:15<01:33,  3.12s/it]"
     ]
    },
    {
     "name": "stdout",
     "output_type": "stream",
     "text": [
      "🔹 Predicted: 赤色、茨城、茨城、茨城、茨城、茨城、茨城、茨城、茨城、茨城、茨城、茨城、茨城、茨城、茨城、茨城、茨城、茨城、茨城、茨城、茨城、茨城、茨城、茨城、茨城、茨城、茨城、茨城、茨城、茨城、茨城、茨城、茨城、茨城、茨城、茨城、茨城、茨城、茨城、茨城、茨城、茨城、茨城、茨城、茨城、茨城、茨城、茨城、茨城、茨城、茨城、茨城、茨城、茨城、茨城、茨城、茨城、茨城、茨城、茨城、茨城、茨城、茨城、茨城、茨城、茨城、茨城、茨城、茨城、茨城、茨城、茨城、茨城、茨城、茨城、茨城、茨城、茨城、茨城、茨城、茨城、茨城、茨城、茨城、茨城、茨城、茨城、茨城、茨城、茨城、茨城、茨城、茨城、茨城、茨城、茨城、茨城、茨城、茨城、茨城、茨城、茨城、茨城、茨城、茨城、茨城、茨城、茨城、茨城、茨城、茨城、\n",
      "🔸 Reference: Sein Ressort wurde aufgeteilt.\n"
     ]
    },
    {
     "name": "stderr",
     "output_type": "stream",
     "text": [
      "\r",
      " 71%|███████   | 71/100 [01:15<01:06,  2.31s/it]"
     ]
    },
    {
     "name": "stdout",
     "output_type": "stream",
     "text": [
      "🔹 Predicted: Sie ist an Schaft-Niechen mit Usenher.\n",
      "🔸 Reference: Sie ist ein Schaf Mädchen mit rose Haar.\n"
     ]
    },
    {
     "name": "stderr",
     "output_type": "stream",
     "text": [
      "\r",
      " 72%|███████▏  | 72/100 [01:16<00:49,  1.77s/it]"
     ]
    },
    {
     "name": "stdout",
     "output_type": "stream",
     "text": [
      "🔹 Predicted: Dar du stegn diwimmafadide ndi taonlideraus.\n",
      "🔸 Reference: Dadurch stiegen die Villacher wieder in die Tauernliga auf.\n"
     ]
    },
    {
     "name": "stderr",
     "output_type": "stream",
     "text": [
      "\r",
      " 73%|███████▎  | 73/100 [01:16<00:39,  1.47s/it]"
     ]
    },
    {
     "name": "stdout",
     "output_type": "stream",
     "text": [
      "🔹 Predicted: Füret dieser Moniskripte war es nüterspähtere Hoferverhältschungen inklamen Interpolärzionen auf.\n",
      "🔸 Reference: Viele dieser Manuskripte weisen jedoch spätere Verfälschungen (Interpolationen) auf.\n"
     ]
    },
    {
     "name": "stderr",
     "output_type": "stream",
     "text": [
      "\r",
      " 74%|███████▍  | 74/100 [01:17<00:29,  1.15s/it]"
     ]
    },
    {
     "name": "stdout",
     "output_type": "stream",
     "text": [
      "🔹 Predicted: Hap jgeneget vorhütte fützwar wachen.\n",
      "🔸 Reference: Habt ihr genügend Vorräte für zwei Wochen?\n"
     ]
    },
    {
     "name": "stderr",
     "output_type": "stream",
     "text": [
      "\r",
      " 75%|███████▌  | 75/100 [01:17<00:25,  1.01s/it]"
     ]
    },
    {
     "name": "stdout",
     "output_type": "stream",
     "text": [
      "🔹 Predicted: I hau pizzeisden pikilnurf,di aunifoltsan mitarhau tifta.\n",
      "🔸 Reference: Er hatte sechs Enkelkinder, die alle von seiner Tochter stammen.\n"
     ]
    },
    {
     "name": "stderr",
     "output_type": "stream",
     "text": [
      "\r",
      " 76%|███████▌  | 76/100 [01:18<00:20,  1.15it/s]"
     ]
    },
    {
     "name": "stdout",
     "output_type": "stream",
     "text": [
      "🔹 Predicted: Sigis nunmig bestandtan der regulären Halschallung anherrtenweg.\n",
      "🔸 Reference: Sie ist nunmehr Bestandteil der regulären Ausstellung am Heldenberg.\n"
     ]
    },
    {
     "name": "stderr",
     "output_type": "stream",
     "text": [
      "\r",
      " 77%|███████▋  | 77/100 [01:18<00:16,  1.40it/s]"
     ]
    },
    {
     "name": "stdout",
     "output_type": "stream",
     "text": [
      "🔹 Predicted: auf magik fóngstendig ins Deutsche.\n",
      "🔸 Reference: Auflage vollständig ins Deutsche.\n"
     ]
    },
    {
     "name": "stderr",
     "output_type": "stream",
     "text": [
      "\r",
      " 78%|███████▊  | 78/100 [01:19<00:15,  1.46it/s]"
     ]
    },
    {
     "name": "stdout",
     "output_type": "stream",
     "text": [
      "🔹 Predicted: 인과의 틈을 노릇으로는 센트케킷한와 싸모하우스의 일.\n",
      "🔸 Reference: In weiteren Rollen sind Jackie Chan und Sammo Hung zu sehen.\n"
     ]
    },
    {
     "name": "stderr",
     "output_type": "stream",
     "text": [
      "\r",
      " 79%|███████▉  | 79/100 [01:19<00:12,  1.62it/s]"
     ]
    },
    {
     "name": "stdout",
     "output_type": "stream",
     "text": [
      "🔹 Predicted: Erwirtfón Alexsandrkirin dixpilofun.\n",
      "🔸 Reference: Er wird von Alexander Grimm gesprochen.\n"
     ]
    },
    {
     "name": "stderr",
     "output_type": "stream",
     "text": [
      "\r",
      " 80%|████████  | 80/100 [01:20<00:11,  1.73it/s]"
     ]
    },
    {
     "name": "stdout",
     "output_type": "stream",
     "text": [
      "🔹 Predicted: アムシキスのスケビーターでアイドルバーキュア\n",
      "🔸 Reference: Anschließend studierte er in Heidelberg Jura.\n"
     ]
    },
    {
     "name": "stderr",
     "output_type": "stream",
     "text": [
      "\r",
      " 81%|████████  | 81/100 [01:20<00:10,  1.83it/s]"
     ]
    },
    {
     "name": "stdout",
     "output_type": "stream",
     "text": [
      "🔹 Predicted: Es vēlgi viņu un kārdu, nu kašīdu.\n",
      "🔸 Reference: Es werden vier Unterarten unterschieden.\n"
     ]
    },
    {
     "name": "stderr",
     "output_type": "stream",
     "text": [
      "\r",
      " 82%|████████▏ | 82/100 [01:21<00:09,  1.88it/s]"
     ]
    },
    {
     "name": "stdout",
     "output_type": "stream",
     "text": [
      "🔹 Predicted: Zare beste Platz hierhung, hade zekste Platz an großen Preis an Valencia.\n",
      "🔸 Reference: Seine beste Platzierung war der sechste Platz beim Großen Preis von Valencia.\n"
     ]
    },
    {
     "name": "stderr",
     "output_type": "stream",
     "text": [
      "\r",
      " 83%|████████▎ | 83/100 [01:22<00:09,  1.76it/s]"
     ]
    },
    {
     "name": "stdout",
     "output_type": "stream",
     "text": [
      "🔹 Predicted: Ein weiterholen ein Stein gewickelte Botschaft fliegt am Schließend durch Borghäuensfenster.\n",
      "🔸 Reference: Eine weitere um einen Stein gewickelte Botschaft fliegt anschließend durch Baldwins Fenster.\n"
     ]
    },
    {
     "name": "stderr",
     "output_type": "stream",
     "text": [
      "\r",
      " 84%|████████▍ | 84/100 [01:22<00:09,  1.69it/s]"
     ]
    },
    {
     "name": "stdout",
     "output_type": "stream",
     "text": [
      "🔹 Predicted: Ahrméi 亡兎的アーガンステッニングザークザーグ。\n",
      "🔸 Reference: Armee in die \"Hagen Stellung\" zurückgezogen.\n"
     ]
    },
    {
     "name": "stderr",
     "output_type": "stream",
     "text": [
      "\r",
      " 85%|████████▌ | 85/100 [01:23<00:07,  1.88it/s]"
     ]
    },
    {
     "name": "stdout",
     "output_type": "stream",
     "text": [
      "🔹 Predicted: Siget fordømde mine pastor, betød.\n",
      "🔸 Reference: Sie wird von einem Gemeindepastor betreut.\n"
     ]
    },
    {
     "name": "stderr",
     "output_type": "stream",
     "text": [
      "\r",
      " 86%|████████▌ | 86/100 [01:23<00:07,  1.94it/s]"
     ]
    },
    {
     "name": "stdout",
     "output_type": "stream",
     "text": [
      "🔹 Predicted: Die Móchtarmen Zwangs sind angelenganifan der Textur.\n",
      "🔸 Reference: Die Buchstabenformen sind angelehnt an die Formen der Textura.\n"
     ]
    },
    {
     "name": "stderr",
     "output_type": "stream",
     "text": [
      "\r",
      " 87%|████████▋ | 87/100 [01:24<00:07,  1.67it/s]"
     ]
    },
    {
     "name": "stdout",
     "output_type": "stream",
     "text": [
      "🔹 Predicted: הדאו צ'ונבוסו לבוא נפתגידם ודאי רואה צ'על דם דרסטייה.\n",
      "🔸 Reference: Die deutschen Bewohner wurden vertrieben und die Einwohnerzahl sank drastisch.\n"
     ]
    },
    {
     "name": "stderr",
     "output_type": "stream",
     "text": [
      "\r",
      " 88%|████████▊ | 88/100 [01:32<00:33,  2.81s/it]"
     ]
    },
    {
     "name": "stdout",
     "output_type": "stream",
     "text": [
      "🔹 Predicted: Kolsofonikirikun faihizunikfolwachorunikunikunikunikunikunikunikunikunikunikunikunikunikunikunikunikunikunikunikunikunikunikunikunikunikunikunikunikunikunikunikunikunikunikunikunikunikunikunikunikunikunikunikunikunikunikunikunikunikunikunikunikunikunikunikunikunikunikunikunikunikunikunikunikunikunikunikunikunikunikunikunikunikunikunikunikunikunikunikunikunikunikunikunikunikunikunikunikunikunikunikunikunikunikunikunikunikunikunikunikunikunikunikunikunikunikunikunikunikunikunikunikunikunikunikunikunikunikunikunikunikunikunikunikunikunikunikunikunikunikunikunikunikunikunikunikunikunikunikunikunikunikunikunikunikunikunikunikunikunikunikunikunikunikunikunikunikunikunikunikunikunikunikunikunikunikunikunikunikunikunikunikunikunikunikunikunikunikunikunikunikunikunikunikunikunikunikunikunikunikunikunikunikunikunikunikunikunikunikunikunikunikunikunikunikunikunikunikunikunikunikunik\n",
      "🔸 Reference: Kossoff und Kirke verließen die Formation und gründeten die Band Free.\n"
     ]
    },
    {
     "name": "stderr",
     "output_type": "stream",
     "text": [
      "\r",
      " 89%|████████▉ | 89/100 [01:32<00:23,  2.15s/it]"
     ]
    },
    {
     "name": "stdout",
     "output_type": "stream",
     "text": [
      "🔹 Predicted:  Arči varmina marī ātķi, ka būna no muntārāt.\n",
      "🔸 Reference: Artelt war mit Marie Artelt, geborene Neumann verheiratet.\n"
     ]
    },
    {
     "name": "stderr",
     "output_type": "stream",
     "text": [
      "\r",
      " 90%|█████████ | 90/100 [01:33<00:17,  1.72s/it]"
     ]
    },
    {
     "name": "stdout",
     "output_type": "stream",
     "text": [
      "🔹 Predicted: Hanwolde ause den Wielfochten, die nüht des Sachsen und den Rotwist Deutsche Hauswahlbinds.\n",
      "🔸 Reference: Er wurde außerdem mehrfach in die Niedersachsen- und die Nordwestdeutsche Auswahl berufen.\n"
     ]
    },
    {
     "name": "stderr",
     "output_type": "stream",
     "text": [
      "\r",
      " 91%|█████████ | 91/100 [01:41<00:32,  3.59s/it]"
     ]
    },
    {
     "name": "stdout",
     "output_type": "stream",
     "text": [
      "🔹 Predicted: フェイン的なストールゴーリズッと羽裳と、博士と、博士と、博士と、博士と、博士と、博士と、博士と、博士と、博士と、博士と、博士と、博士と、博士と、博士と、博士と、博士と、博士と、博士と、博士と、博士と、博士と、博士と、博士と、博士と、博士と、博士と、博士と、博士と、博士と、博士と、博士と、博士と、博士と、博士と、博士と、博士と、博士と、博士と、博士と、博士と、博士と、博士と、博士と、博士と、博士と、博士と、博士と、博士と、博士と、博士と、博士と、博士と、博士と、博士と、博士と、博士と、博士と、博士と、博士と、博士と、博士と、博士と、博士と、博士と、博士と、博士と、博士と、博士と、博士と、博士と、博士と、博士と、博士と、博士と、博士と、博士と、博士と、博士と、博士と、博士と、博士と、博士と、博士と、博士と、博士と\n",
      "🔸 Reference: Friedrich Strobl ist verheiratet und hat zwei Kinder.\n"
     ]
    },
    {
     "name": "stderr",
     "output_type": "stream",
     "text": [
      "\r",
      " 92%|█████████▏| 92/100 [01:42<00:21,  2.72s/it]"
     ]
    },
    {
     "name": "stdout",
     "output_type": "stream",
     "text": [
      "🔹 Predicted: Inbíit kallis nausan anterzítsunan górareskónan ísan bíitik.\n",
      "🔸 Reference: In militärische Auseinandersetzungen war das Tor nie verwickelt.\n"
     ]
    },
    {
     "name": "stderr",
     "output_type": "stream",
     "text": [
      "\r",
      " 93%|█████████▎| 93/100 [01:43<00:15,  2.16s/it]"
     ]
    },
    {
     "name": "stdout",
     "output_type": "stream",
     "text": [
      "🔹 Predicted: Din dhau umgesteht das Fleshtunsekt in kräbsen Krainseuken, kreimten Vögelkumpelte Mayer.\n",
      "🔸 Reference: Die Nahrung besteht aus Früchten, Insekten, Krebsen, Kleinsäugern, sowie kleineren Vögeln und deren Eiern.\n"
     ]
    },
    {
     "name": "stderr",
     "output_type": "stream",
     "text": [
      "\r",
      " 94%|█████████▍| 94/100 [01:43<00:09,  1.63s/it]"
     ]
    },
    {
     "name": "stdout",
     "output_type": "stream",
     "text": [
      "🔹 Predicted: Sie ist die Töpfer noch ein Böcheren.\n",
      "🔸 Reference: Sie ist mit Sophia Loren befreundet.\n"
     ]
    },
    {
     "name": "stderr",
     "output_type": "stream",
     "text": [
      "\r",
      " 95%|█████████▌| 95/100 [01:44<00:06,  1.28s/it]"
     ]
    },
    {
     "name": "stdout",
     "output_type": "stream",
     "text": [
      "🔹 Predicted: Wie misse uns asterkha hongi le sosn trimmon.\n",
      "🔸 Reference: Wir müssen uns auch stärker um die Ressourcen kümmern.\n"
     ]
    },
    {
     "name": "stderr",
     "output_type": "stream",
     "text": [
      "\r",
      " 96%|█████████▌| 96/100 [01:44<00:04,  1.14s/it]"
     ]
    },
    {
     "name": "stdout",
     "output_type": "stream",
     "text": [
      "🔹 Predicted: Kwik desverenattene lehensbedenunan hat Kreuzbergakak zudanen stammgeatunakakkibitik gewun.\n",
      "🔸 Reference: Durch die veränderten Lebensbedingungen hat Kreuzberg als Unternehmensstandort an Attraktivität gewonnen.\n"
     ]
    },
    {
     "name": "stderr",
     "output_type": "stream",
     "text": [
      "\r",
      " 97%|█████████▋| 97/100 [01:45<00:02,  1.02it/s]"
     ]
    },
    {
     "name": "stdout",
     "output_type": "stream",
     "text": [
      "🔹 Predicted: 무기수는 자고 간투명의 스크림더 ڤ디아인 셔슨\n",
      "🔸 Reference: In diesem Jahr gewann Unternehmensgründer Günther Irmscher sen.\n"
     ]
    },
    {
     "name": "stderr",
     "output_type": "stream",
     "text": [
      "\r",
      " 98%|█████████▊| 98/100 [01:45<00:01,  1.28it/s]"
     ]
    },
    {
     "name": "stdout",
     "output_type": "stream",
     "text": [
      "🔹 Predicted: The success of failure in relation to social citizenship policies.\n",
      "🔸 Reference: Their success or failure in relation to social citizenship policies“.\n"
     ]
    },
    {
     "name": "stderr",
     "output_type": "stream",
     "text": [
      "\r",
      " 99%|█████████▉| 99/100 [01:46<00:00,  1.37it/s]"
     ]
    },
    {
     "name": "stdout",
     "output_type": "stream",
     "text": [
      "🔹 Predicted: Zudäen weist es aus einer und die Bakterielle und im Zimmonshermbewirkung auf.\n",
      "🔸 Reference: Zudem weist es auch eine antibakterielle und entzündungshemmende Wirkung auf.\n"
     ]
    },
    {
     "name": "stderr",
     "output_type": "stream",
     "text": [
      "100%|██████████| 100/100 [01:46<00:00,  1.07s/it]"
     ]
    },
    {
     "name": "stdout",
     "output_type": "stream",
     "text": [
      "🔹 Predicted: 몇 스튜아는 틱시가 시야 다 모스티트에 구하듯\n",
      "🔸 Reference: Wisst ihr eigentlich, was ihr da losgetreten habt?\n"
     ]
    },
    {
     "name": "stderr",
     "output_type": "stream",
     "text": [
      "\n"
     ]
    },
    {
     "name": "stdout",
     "output_type": "stream",
     "text": [
      "✅ DE WER: 1.1159\n"
     ]
    }
   ],
   "source": [
    "import torch\n",
    "from jiwer import wer\n",
    "from tqdm import tqdm\n",
    "\n",
    "lang_list = [\"ko\", \"en\", \"ja\", \"de\"]\n",
    "lang_wer_results = {}\n",
    "\n",
    "for lang in lang_list:\n",
    "    print(f\"🌍 Language: {lang}\")\n",
    "    lang_data = [x for x in val_dataset if x[\"locale\"] == lang]\n",
    "\n",
    "    predictions, references = [], []\n",
    "\n",
    "    for sample in tqdm(lang_data):\n",
    "        input_features = processor.feature_extractor(\n",
    "            sample[\"audio\"][\"array\"], sampling_rate=16000, return_tensors=\"pt\"\n",
    "        ).input_features.to(model.device)\n",
    "\n",
    "        decoder_ids = processor.get_decoder_prompt_ids(language=sample[\"locale\"], task=\"transcribe\")\n",
    "        model.config.forced_decoder_ids = decoder_ids\n",
    "\n",
    "        with torch.no_grad():\n",
    "            predicted_ids = model.generate(input_features)\n",
    "\n",
    "        transcription = processor.batch_decode(predicted_ids, skip_special_tokens=True)[0]\n",
    "        predictions.append(transcription)\n",
    "        references.append(sample[\"sentence\"])\n",
    "\n",
    "        print(f\"🔹 Predicted: {transcription}\")\n",
    "        print(f\"🔸 Reference: {sample['sentence']}\")\n",
    "\n",
    "    score = wer(references, predictions)\n",
    "    lang_wer_results[lang] = score\n",
    "    print(f\"✅ {lang.upper()} WER: {score:.4f}\")\n"
   ]
  },
  {
   "cell_type": "code",
   "execution_count": 11,
   "metadata": {},
   "outputs": [
    {
     "name": "stdout",
     "output_type": "stream",
     "text": [
      "\n",
      "📊 WER 결과 (낮을수록 정확)\n",
      "KO : 0.9497\n",
      "DE : 1.1159\n",
      "JA : 1.5100\n",
      "EN : 1.8555\n"
     ]
    },
    {
     "data": {
      "image/png": "[encoded data removed]",
      "text/plain": [
       "<Figure size 800x500 with 1 Axes>"
      ]
     },
     "metadata": {},
     "output_type": "display_data"
    }
   ],
   "source": [
    "import matplotlib.pyplot as plt\n",
    "import numpy as np\n",
    "\n",
    "print(\"\\n📊 WER 결과 (낮을수록 정확)\")\n",
    "for lang, score in sorted(lang_wer_results.items(), key=lambda x: x[1]):\n",
    "    print(f\"{lang.upper()} : {score:.4f}\")\n",
    "\n",
    "langs_sorted = [x[0] for x in sorted(lang_wer_results.items(), key=lambda x: x[1])]\n",
    "scores_sorted = [x[1] for x in sorted(lang_wer_results.items(), key=lambda x: x[1])]\n",
    "\n",
    "plt.figure(figsize=(8,5))\n",
    "plt.bar(langs_sorted, scores_sorted)\n",
    "plt.title(\"WER by Language (Whisper-small Run 1)\")\n",
    "plt.xlabel(\"Language\")\n",
    "plt.ylabel(\"WER\")\n",
    "\n",
    "for i, v in enumerate(scores_sorted):\n",
    "    plt.text(i, v + 0.01, f\"{v:.3f}\", ha='center')\n",
    "\n",
    "plt.tight_layout()\n",
    "plt.savefig(\"wer_small_run1.png\")\n",
    "plt.show()"
   ]
  }
 ],
 "metadata": {
  "language_info": {
   "name": "python"
  }
 },
 "nbformat": 4,
 "nbformat_minor": 0
}
